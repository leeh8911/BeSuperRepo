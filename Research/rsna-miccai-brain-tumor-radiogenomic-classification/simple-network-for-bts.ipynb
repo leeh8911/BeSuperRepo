{
 "cells": [
  {
   "cell_type": "markdown",
   "metadata": {
    "_cell_guid": "b1076dfc-b9ad-4769-8c92-a6c4dae69d19",
    "_uuid": "8f2839f25d086af736a60e9eeb907d3b93b6e0e5"
   },
   "source": [
    "# Import Libraries "
   ]
  },
  {
   "cell_type": "code",
   "execution_count": 1,
   "metadata": {
    "ExecuteTime": {
     "end_time": "2021-08-01T06:26:09.941156Z",
     "start_time": "2021-08-01T06:26:08.027123Z"
    },
    "execution": {
     "iopub.execute_input": "2021-07-31T14:08:42.391473Z",
     "iopub.status.busy": "2021-07-31T14:08:42.391072Z",
     "iopub.status.idle": "2021-07-31T14:08:43.164287Z",
     "shell.execute_reply": "2021-07-31T14:08:43.163487Z",
     "shell.execute_reply.started": "2021-07-31T14:08:42.391387Z"
    }
   },
   "outputs": [],
   "source": [
    "# https://www.kaggle.com/rluethy/efficientnet3d-with-one-mri-type\n",
    "import os\n",
    "import sys \n",
    "import json\n",
    "import glob\n",
    "import random\n",
    "import collections\n",
    "import time\n",
    "from pathlib import Path\n",
    "from tqdm.notebook import tqdm\n",
    "\n",
    "import numpy as np\n",
    "import pandas as pd\n",
    "import cv2\n",
    "import matplotlib.pyplot as plt\n",
    "import seaborn as sns\n",
    "\n",
    "import torch\n",
    "from torch import nn\n",
    "from torch.utils.data import Dataset, DataLoader\n",
    "from sklearn.model_selection import train_test_split\n",
    "import torch.nn.functional as F\n",
    "\n",
    "from sklearn.model_selection import StratifiedKFold\n",
    "from sklearn.metrics import roc_auc_score\n",
    "\n",
    "import warnings\n",
    "warnings.filterwarnings(\"ignore\")"
   ]
  },
  {
   "cell_type": "markdown",
   "metadata": {},
   "source": [
    "# System Constants"
   ]
  },
  {
   "cell_type": "code",
   "execution_count": 2,
   "metadata": {
    "ExecuteTime": {
     "end_time": "2021-08-01T06:26:09.956159Z",
     "start_time": "2021-08-01T06:26:09.942155Z"
    },
    "execution": {
     "iopub.execute_input": "2021-07-31T14:08:43.166628Z",
     "iopub.status.busy": "2021-07-31T14:08:43.166251Z",
     "iopub.status.idle": "2021-07-31T14:08:43.171050Z",
     "shell.execute_reply": "2021-07-31T14:08:43.169973Z",
     "shell.execute_reply.started": "2021-07-31T14:08:43.166591Z"
    }
   },
   "outputs": [],
   "source": [
    "SCAN_TYPE = ('FLAIR', 'T1w', 'T1wCE', 'T2w')"
   ]
  },
  {
   "cell_type": "markdown",
   "metadata": {},
   "source": [
    "# Hyperparameters"
   ]
  },
  {
   "cell_type": "code",
   "execution_count": 3,
   "metadata": {
    "ExecuteTime": {
     "end_time": "2021-08-01T06:26:09.971183Z",
     "start_time": "2021-08-01T06:26:09.958170Z"
    },
    "execution": {
     "iopub.execute_input": "2021-07-31T14:08:43.173183Z",
     "iopub.status.busy": "2021-07-31T14:08:43.172796Z",
     "iopub.status.idle": "2021-07-31T14:08:43.180607Z",
     "shell.execute_reply": "2021-07-31T14:08:43.179915Z",
     "shell.execute_reply.started": "2021-07-31T14:08:43.173146Z"
    }
   },
   "outputs": [],
   "source": [
    "SEED = 42\n",
    "\n",
    "IMAGE_SIZE = 256\n",
    "BATCH_SIZE = 64\n",
    "LEARNING_RATE = 1e-6\n",
    "WEIGHT_DECAY = 1e-4\n",
    "EPOCH_NUM = 1000"
   ]
  },
  {
   "cell_type": "markdown",
   "metadata": {},
   "source": [
    "# Set System"
   ]
  },
  {
   "cell_type": "code",
   "execution_count": 4,
   "metadata": {
    "ExecuteTime": {
     "end_time": "2021-08-01T06:26:10.017146Z",
     "start_time": "2021-08-01T06:26:09.973185Z"
    },
    "execution": {
     "iopub.execute_input": "2021-07-31T14:08:43.181822Z",
     "iopub.status.busy": "2021-07-31T14:08:43.181561Z",
     "iopub.status.idle": "2021-07-31T14:08:43.210626Z",
     "shell.execute_reply": "2021-07-31T14:08:43.209849Z",
     "shell.execute_reply.started": "2021-07-31T14:08:43.181798Z"
    }
   },
   "outputs": [],
   "source": [
    "def set_seed(seed):\n",
    "    random.seed(seed)\n",
    "    os.environ[\"PYTHONHASHSEED\"] = str(seed)\n",
    "    np.random.seed(seed)\n",
    "    torch.manual_seed(seed)\n",
    "    if torch.cuda.is_available():\n",
    "        torch.cuda.manual_seed_all(seed)\n",
    "        torch.backends.cudnn.deterministic = True\n",
    "\n",
    "set_seed(SEED)"
   ]
  },
  {
   "cell_type": "code",
   "execution_count": 5,
   "metadata": {
    "ExecuteTime": {
     "end_time": "2021-08-01T06:26:10.032146Z",
     "start_time": "2021-08-01T06:26:10.018148Z"
    },
    "execution": {
     "iopub.execute_input": "2021-07-31T14:08:43.212629Z",
     "iopub.status.busy": "2021-07-31T14:08:43.212357Z",
     "iopub.status.idle": "2021-07-31T14:08:43.221238Z",
     "shell.execute_reply": "2021-07-31T14:08:43.220389Z",
     "shell.execute_reply.started": "2021-07-31T14:08:43.212605Z"
    }
   },
   "outputs": [
    {
     "data": {
      "text/plain": [
       "device(type='cuda')"
      ]
     },
     "execution_count": 5,
     "metadata": {},
     "output_type": "execute_result"
    }
   ],
   "source": [
    "device = torch.device( 'cuda' if torch.cuda.is_available() else 'cpu' )\n",
    "device"
   ]
  },
  {
   "cell_type": "code",
   "execution_count": 6,
   "metadata": {
    "ExecuteTime": {
     "end_time": "2021-08-01T06:26:10.047146Z",
     "start_time": "2021-08-01T06:26:10.033146Z"
    },
    "execution": {
     "iopub.execute_input": "2021-07-31T14:08:43.223608Z",
     "iopub.status.busy": "2021-07-31T14:08:43.222896Z",
     "iopub.status.idle": "2021-07-31T14:08:43.228123Z",
     "shell.execute_reply": "2021-07-31T14:08:43.227179Z",
     "shell.execute_reply.started": "2021-07-31T14:08:43.223571Z"
    }
   },
   "outputs": [],
   "source": [
    "data_path = Path('E:\\\\datasets\\\\RSNA MICCAI PNG')\n",
    "label_path = Path('E:\\\\datasets\\\\rsna-miccai-brain-tumor-radiogenomic-classification')"
   ]
  },
  {
   "cell_type": "markdown",
   "metadata": {},
   "source": [
    "# Load data\n",
    "## Load label"
   ]
  },
  {
   "cell_type": "code",
   "execution_count": 7,
   "metadata": {
    "ExecuteTime": {
     "end_time": "2021-08-01T06:26:10.077146Z",
     "start_time": "2021-08-01T06:26:10.048147Z"
    },
    "execution": {
     "iopub.execute_input": "2021-07-31T14:08:43.230407Z",
     "iopub.status.busy": "2021-07-31T14:08:43.229780Z",
     "iopub.status.idle": "2021-07-31T14:08:43.248971Z",
     "shell.execute_reply": "2021-07-31T14:08:43.248274Z",
     "shell.execute_reply.started": "2021-07-31T14:08:43.230354Z"
    },
    "scrolled": true
   },
   "outputs": [
    {
     "name": "stdout",
     "output_type": "stream",
     "text": [
      "(585, 2)\n"
     ]
    },
    {
     "data": {
      "text/html": [
       "<div>\n",
       "<style scoped>\n",
       "    .dataframe tbody tr th:only-of-type {\n",
       "        vertical-align: middle;\n",
       "    }\n",
       "\n",
       "    .dataframe tbody tr th {\n",
       "        vertical-align: top;\n",
       "    }\n",
       "\n",
       "    .dataframe thead th {\n",
       "        text-align: right;\n",
       "    }\n",
       "</style>\n",
       "<table border=\"1\" class=\"dataframe\">\n",
       "  <thead>\n",
       "    <tr style=\"text-align: right;\">\n",
       "      <th></th>\n",
       "      <th>BraTS21ID</th>\n",
       "      <th>MGMT_value</th>\n",
       "    </tr>\n",
       "  </thead>\n",
       "  <tbody>\n",
       "    <tr>\n",
       "      <th>0</th>\n",
       "      <td>0</td>\n",
       "      <td>1</td>\n",
       "    </tr>\n",
       "    <tr>\n",
       "      <th>1</th>\n",
       "      <td>2</td>\n",
       "      <td>1</td>\n",
       "    </tr>\n",
       "    <tr>\n",
       "      <th>2</th>\n",
       "      <td>3</td>\n",
       "      <td>0</td>\n",
       "    </tr>\n",
       "    <tr>\n",
       "      <th>3</th>\n",
       "      <td>5</td>\n",
       "      <td>1</td>\n",
       "    </tr>\n",
       "    <tr>\n",
       "      <th>4</th>\n",
       "      <td>6</td>\n",
       "      <td>1</td>\n",
       "    </tr>\n",
       "  </tbody>\n",
       "</table>\n",
       "</div>"
      ],
      "text/plain": [
       "   BraTS21ID  MGMT_value\n",
       "0          0           1\n",
       "1          2           1\n",
       "2          3           0\n",
       "3          5           1\n",
       "4          6           1"
      ]
     },
     "execution_count": 7,
     "metadata": {},
     "output_type": "execute_result"
    }
   ],
   "source": [
    "df_label = pd.read_csv(str(label_path / \"train_labels.csv\"))\n",
    "\n",
    "print(df_label.shape)\n",
    "df_label.head()"
   ]
  },
  {
   "cell_type": "markdown",
   "metadata": {},
   "source": [
    "## Load submission sample"
   ]
  },
  {
   "cell_type": "code",
   "execution_count": 8,
   "metadata": {
    "ExecuteTime": {
     "end_time": "2021-08-01T06:26:10.092147Z",
     "start_time": "2021-08-01T06:26:10.079148Z"
    },
    "execution": {
     "iopub.execute_input": "2021-07-31T14:08:43.252069Z",
     "iopub.status.busy": "2021-07-31T14:08:43.251817Z",
     "iopub.status.idle": "2021-07-31T14:08:43.267049Z",
     "shell.execute_reply": "2021-07-31T14:08:43.266181Z",
     "shell.execute_reply.started": "2021-07-31T14:08:43.252044Z"
    },
    "scrolled": true
   },
   "outputs": [
    {
     "name": "stdout",
     "output_type": "stream",
     "text": [
      "(87, 2)\n"
     ]
    },
    {
     "data": {
      "text/html": [
       "<div>\n",
       "<style scoped>\n",
       "    .dataframe tbody tr th:only-of-type {\n",
       "        vertical-align: middle;\n",
       "    }\n",
       "\n",
       "    .dataframe tbody tr th {\n",
       "        vertical-align: top;\n",
       "    }\n",
       "\n",
       "    .dataframe thead th {\n",
       "        text-align: right;\n",
       "    }\n",
       "</style>\n",
       "<table border=\"1\" class=\"dataframe\">\n",
       "  <thead>\n",
       "    <tr style=\"text-align: right;\">\n",
       "      <th></th>\n",
       "      <th>BraTS21ID</th>\n",
       "      <th>MGMT_value</th>\n",
       "    </tr>\n",
       "  </thead>\n",
       "  <tbody>\n",
       "    <tr>\n",
       "      <th>0</th>\n",
       "      <td>1</td>\n",
       "      <td>0.5</td>\n",
       "    </tr>\n",
       "    <tr>\n",
       "      <th>1</th>\n",
       "      <td>13</td>\n",
       "      <td>0.5</td>\n",
       "    </tr>\n",
       "    <tr>\n",
       "      <th>2</th>\n",
       "      <td>15</td>\n",
       "      <td>0.5</td>\n",
       "    </tr>\n",
       "    <tr>\n",
       "      <th>3</th>\n",
       "      <td>27</td>\n",
       "      <td>0.5</td>\n",
       "    </tr>\n",
       "    <tr>\n",
       "      <th>4</th>\n",
       "      <td>37</td>\n",
       "      <td>0.5</td>\n",
       "    </tr>\n",
       "  </tbody>\n",
       "</table>\n",
       "</div>"
      ],
      "text/plain": [
       "   BraTS21ID  MGMT_value\n",
       "0          1         0.5\n",
       "1         13         0.5\n",
       "2         15         0.5\n",
       "3         27         0.5\n",
       "4         37         0.5"
      ]
     },
     "execution_count": 8,
     "metadata": {},
     "output_type": "execute_result"
    }
   ],
   "source": [
    "df_submission = pd.read_csv(str(label_path / \"sample_submission.csv\"))\n",
    "\n",
    "print(df_submission.shape)\n",
    "df_submission.head()"
   ]
  },
  {
   "cell_type": "markdown",
   "metadata": {},
   "source": [
    "## Train valid split"
   ]
  },
  {
   "cell_type": "code",
   "execution_count": 9,
   "metadata": {
    "ExecuteTime": {
     "end_time": "2021-08-01T06:26:10.152146Z",
     "start_time": "2021-08-01T06:26:10.094150Z"
    },
    "execution": {
     "iopub.execute_input": "2021-07-31T14:08:43.269439Z",
     "iopub.status.busy": "2021-07-31T14:08:43.269092Z",
     "iopub.status.idle": "2021-07-31T14:08:43.415502Z",
     "shell.execute_reply": "2021-07-31T14:08:43.414645Z",
     "shell.execute_reply.started": "2021-07-31T14:08:43.269402Z"
    }
   },
   "outputs": [],
   "source": [
    "trainval_path_list = glob.glob(str(data_path / \"train\" / '*'))\n",
    "train_path_list, valid_path_list = train_test_split(trainval_path_list, test_size = 0.1)\n",
    "\n",
    "test_path_list = glob.glob(str(data_path / \"test\" / '*' / SCAN_TYPE[0] / '*.png'))"
   ]
  },
  {
   "cell_type": "markdown",
   "metadata": {},
   "source": [
    "## Set train, valid path"
   ]
  },
  {
   "cell_type": "code",
   "execution_count": 10,
   "metadata": {
    "ExecuteTime": {
     "end_time": "2021-08-01T06:26:10.422146Z",
     "start_time": "2021-08-01T06:26:10.153148Z"
    },
    "execution": {
     "iopub.execute_input": "2021-07-31T14:08:43.418971Z",
     "iopub.status.busy": "2021-07-31T14:08:43.418708Z",
     "iopub.status.idle": "2021-07-31T14:08:44.066702Z",
     "shell.execute_reply": "2021-07-31T14:08:44.065818Z",
     "shell.execute_reply.started": "2021-07-31T14:08:43.418938Z"
    }
   },
   "outputs": [],
   "source": [
    "path_list = []\n",
    "for path in train_path_list:\n",
    "    path_list += glob.glob(str(Path(path) / SCAN_TYPE[0] / '*.png'))\n",
    "train_path_list = path_list\n",
    "\n",
    "path_list = []\n",
    "for path in valid_path_list:\n",
    "    path_list += glob.glob(str(Path(path) / SCAN_TYPE[0] / '*.png'))\n",
    "valid_path_list = path_list"
   ]
  },
  {
   "cell_type": "markdown",
   "metadata": {},
   "source": [
    "## Create Train DataFrame"
   ]
  },
  {
   "cell_type": "code",
   "execution_count": 11,
   "metadata": {
    "ExecuteTime": {
     "end_time": "2021-08-01T06:26:20.187176Z",
     "start_time": "2021-08-01T06:26:10.423148Z"
    },
    "execution": {
     "iopub.execute_input": "2021-07-31T14:08:44.070257Z",
     "iopub.status.busy": "2021-07-31T14:08:44.069977Z",
     "iopub.status.idle": "2021-07-31T14:09:00.592528Z",
     "shell.execute_reply": "2021-07-31T14:09:00.591724Z",
     "shell.execute_reply.started": "2021-07-31T14:08:44.070228Z"
    }
   },
   "outputs": [
    {
     "data": {
      "text/html": [
       "<div>\n",
       "<style scoped>\n",
       "    .dataframe tbody tr th:only-of-type {\n",
       "        vertical-align: middle;\n",
       "    }\n",
       "\n",
       "    .dataframe tbody tr th {\n",
       "        vertical-align: top;\n",
       "    }\n",
       "\n",
       "    .dataframe thead th {\n",
       "        text-align: right;\n",
       "    }\n",
       "</style>\n",
       "<table border=\"1\" class=\"dataframe\">\n",
       "  <thead>\n",
       "    <tr style=\"text-align: right;\">\n",
       "      <th></th>\n",
       "      <th>file_path</th>\n",
       "      <th>BraTS21ID</th>\n",
       "      <th>MGMT_value</th>\n",
       "    </tr>\n",
       "  </thead>\n",
       "  <tbody>\n",
       "    <tr>\n",
       "      <th>0</th>\n",
       "      <td>E:\\datasets\\RSNA MICCAI PNG\\train\\00628\\FLAIR\\...</td>\n",
       "      <td>628</td>\n",
       "      <td>1</td>\n",
       "    </tr>\n",
       "    <tr>\n",
       "      <th>1</th>\n",
       "      <td>E:\\datasets\\RSNA MICCAI PNG\\train\\00628\\FLAIR\\...</td>\n",
       "      <td>628</td>\n",
       "      <td>1</td>\n",
       "    </tr>\n",
       "    <tr>\n",
       "      <th>2</th>\n",
       "      <td>E:\\datasets\\RSNA MICCAI PNG\\train\\00628\\FLAIR\\...</td>\n",
       "      <td>628</td>\n",
       "      <td>1</td>\n",
       "    </tr>\n",
       "    <tr>\n",
       "      <th>3</th>\n",
       "      <td>E:\\datasets\\RSNA MICCAI PNG\\train\\00628\\FLAIR\\...</td>\n",
       "      <td>628</td>\n",
       "      <td>1</td>\n",
       "    </tr>\n",
       "    <tr>\n",
       "      <th>4</th>\n",
       "      <td>E:\\datasets\\RSNA MICCAI PNG\\train\\00628\\FLAIR\\...</td>\n",
       "      <td>628</td>\n",
       "      <td>1</td>\n",
       "    </tr>\n",
       "    <tr>\n",
       "      <th>...</th>\n",
       "      <td>...</td>\n",
       "      <td>...</td>\n",
       "      <td>...</td>\n",
       "    </tr>\n",
       "    <tr>\n",
       "      <th>48549</th>\n",
       "      <td>E:\\datasets\\RSNA MICCAI PNG\\train\\00154\\FLAIR\\...</td>\n",
       "      <td>154</td>\n",
       "      <td>0</td>\n",
       "    </tr>\n",
       "    <tr>\n",
       "      <th>48550</th>\n",
       "      <td>E:\\datasets\\RSNA MICCAI PNG\\train\\00154\\FLAIR\\...</td>\n",
       "      <td>154</td>\n",
       "      <td>0</td>\n",
       "    </tr>\n",
       "    <tr>\n",
       "      <th>48551</th>\n",
       "      <td>E:\\datasets\\RSNA MICCAI PNG\\train\\00154\\FLAIR\\...</td>\n",
       "      <td>154</td>\n",
       "      <td>0</td>\n",
       "    </tr>\n",
       "    <tr>\n",
       "      <th>48552</th>\n",
       "      <td>E:\\datasets\\RSNA MICCAI PNG\\train\\00154\\FLAIR\\...</td>\n",
       "      <td>154</td>\n",
       "      <td>0</td>\n",
       "    </tr>\n",
       "    <tr>\n",
       "      <th>48553</th>\n",
       "      <td>E:\\datasets\\RSNA MICCAI PNG\\train\\00154\\FLAIR\\...</td>\n",
       "      <td>154</td>\n",
       "      <td>0</td>\n",
       "    </tr>\n",
       "  </tbody>\n",
       "</table>\n",
       "<p>48554 rows × 3 columns</p>\n",
       "</div>"
      ],
      "text/plain": [
       "                                               file_path  BraTS21ID  \\\n",
       "0      E:\\datasets\\RSNA MICCAI PNG\\train\\00628\\FLAIR\\...        628   \n",
       "1      E:\\datasets\\RSNA MICCAI PNG\\train\\00628\\FLAIR\\...        628   \n",
       "2      E:\\datasets\\RSNA MICCAI PNG\\train\\00628\\FLAIR\\...        628   \n",
       "3      E:\\datasets\\RSNA MICCAI PNG\\train\\00628\\FLAIR\\...        628   \n",
       "4      E:\\datasets\\RSNA MICCAI PNG\\train\\00628\\FLAIR\\...        628   \n",
       "...                                                  ...        ...   \n",
       "48549  E:\\datasets\\RSNA MICCAI PNG\\train\\00154\\FLAIR\\...        154   \n",
       "48550  E:\\datasets\\RSNA MICCAI PNG\\train\\00154\\FLAIR\\...        154   \n",
       "48551  E:\\datasets\\RSNA MICCAI PNG\\train\\00154\\FLAIR\\...        154   \n",
       "48552  E:\\datasets\\RSNA MICCAI PNG\\train\\00154\\FLAIR\\...        154   \n",
       "48553  E:\\datasets\\RSNA MICCAI PNG\\train\\00154\\FLAIR\\...        154   \n",
       "\n",
       "       MGMT_value  \n",
       "0               1  \n",
       "1               1  \n",
       "2               1  \n",
       "3               1  \n",
       "4               1  \n",
       "...           ...  \n",
       "48549           0  \n",
       "48550           0  \n",
       "48551           0  \n",
       "48552           0  \n",
       "48553           0  \n",
       "\n",
       "[48554 rows x 3 columns]"
      ]
     },
     "execution_count": 11,
     "metadata": {},
     "output_type": "execute_result"
    }
   ],
   "source": [
    "df_train = pd.DataFrame(train_path_list, columns = ['file_path'])\n",
    "\n",
    "df_train['BraTS21ID'] = df_train.apply(lambda x: int(x['file_path'].split(os.path.sep)[-3]), axis = 1)\n",
    "\n",
    "df_train['MGMT_value'] = df_train.apply(lambda x: df_label.loc[df_label['BraTS21ID'] == x['BraTS21ID'], 'MGMT_value'].values, axis = 1).astype(int)\n",
    "\n",
    "df_train"
   ]
  },
  {
   "cell_type": "markdown",
   "metadata": {},
   "source": [
    "## Create Valid DataFrame"
   ]
  },
  {
   "cell_type": "code",
   "execution_count": 12,
   "metadata": {
    "ExecuteTime": {
     "end_time": "2021-08-01T06:26:21.237165Z",
     "start_time": "2021-08-01T06:26:20.188176Z"
    },
    "execution": {
     "iopub.execute_input": "2021-07-31T14:09:00.594174Z",
     "iopub.status.busy": "2021-07-31T14:09:00.593826Z",
     "iopub.status.idle": "2021-07-31T14:09:02.513160Z",
     "shell.execute_reply": "2021-07-31T14:09:02.512167Z",
     "shell.execute_reply.started": "2021-07-31T14:09:00.594137Z"
    },
    "scrolled": true
   },
   "outputs": [
    {
     "data": {
      "text/html": [
       "<div>\n",
       "<style scoped>\n",
       "    .dataframe tbody tr th:only-of-type {\n",
       "        vertical-align: middle;\n",
       "    }\n",
       "\n",
       "    .dataframe tbody tr th {\n",
       "        vertical-align: top;\n",
       "    }\n",
       "\n",
       "    .dataframe thead th {\n",
       "        text-align: right;\n",
       "    }\n",
       "</style>\n",
       "<table border=\"1\" class=\"dataframe\">\n",
       "  <thead>\n",
       "    <tr style=\"text-align: right;\">\n",
       "      <th></th>\n",
       "      <th>file_path</th>\n",
       "      <th>BraTS21ID</th>\n",
       "      <th>MGMT_value</th>\n",
       "    </tr>\n",
       "  </thead>\n",
       "  <tbody>\n",
       "    <tr>\n",
       "      <th>0</th>\n",
       "      <td>E:\\datasets\\RSNA MICCAI PNG\\train\\00561\\FLAIR\\...</td>\n",
       "      <td>561</td>\n",
       "      <td>1</td>\n",
       "    </tr>\n",
       "    <tr>\n",
       "      <th>1</th>\n",
       "      <td>E:\\datasets\\RSNA MICCAI PNG\\train\\00561\\FLAIR\\...</td>\n",
       "      <td>561</td>\n",
       "      <td>1</td>\n",
       "    </tr>\n",
       "    <tr>\n",
       "      <th>2</th>\n",
       "      <td>E:\\datasets\\RSNA MICCAI PNG\\train\\00561\\FLAIR\\...</td>\n",
       "      <td>561</td>\n",
       "      <td>1</td>\n",
       "    </tr>\n",
       "    <tr>\n",
       "      <th>3</th>\n",
       "      <td>E:\\datasets\\RSNA MICCAI PNG\\train\\00561\\FLAIR\\...</td>\n",
       "      <td>561</td>\n",
       "      <td>1</td>\n",
       "    </tr>\n",
       "    <tr>\n",
       "      <th>4</th>\n",
       "      <td>E:\\datasets\\RSNA MICCAI PNG\\train\\00561\\FLAIR\\...</td>\n",
       "      <td>561</td>\n",
       "      <td>1</td>\n",
       "    </tr>\n",
       "    <tr>\n",
       "      <th>...</th>\n",
       "      <td>...</td>\n",
       "      <td>...</td>\n",
       "      <td>...</td>\n",
       "    </tr>\n",
       "    <tr>\n",
       "      <th>5123</th>\n",
       "      <td>E:\\datasets\\RSNA MICCAI PNG\\train\\00652\\FLAIR\\...</td>\n",
       "      <td>652</td>\n",
       "      <td>1</td>\n",
       "    </tr>\n",
       "    <tr>\n",
       "      <th>5124</th>\n",
       "      <td>E:\\datasets\\RSNA MICCAI PNG\\train\\00652\\FLAIR\\...</td>\n",
       "      <td>652</td>\n",
       "      <td>1</td>\n",
       "    </tr>\n",
       "    <tr>\n",
       "      <th>5125</th>\n",
       "      <td>E:\\datasets\\RSNA MICCAI PNG\\train\\00652\\FLAIR\\...</td>\n",
       "      <td>652</td>\n",
       "      <td>1</td>\n",
       "    </tr>\n",
       "    <tr>\n",
       "      <th>5126</th>\n",
       "      <td>E:\\datasets\\RSNA MICCAI PNG\\train\\00652\\FLAIR\\...</td>\n",
       "      <td>652</td>\n",
       "      <td>1</td>\n",
       "    </tr>\n",
       "    <tr>\n",
       "      <th>5127</th>\n",
       "      <td>E:\\datasets\\RSNA MICCAI PNG\\train\\00652\\FLAIR\\...</td>\n",
       "      <td>652</td>\n",
       "      <td>1</td>\n",
       "    </tr>\n",
       "  </tbody>\n",
       "</table>\n",
       "<p>5128 rows × 3 columns</p>\n",
       "</div>"
      ],
      "text/plain": [
       "                                              file_path  BraTS21ID  MGMT_value\n",
       "0     E:\\datasets\\RSNA MICCAI PNG\\train\\00561\\FLAIR\\...        561           1\n",
       "1     E:\\datasets\\RSNA MICCAI PNG\\train\\00561\\FLAIR\\...        561           1\n",
       "2     E:\\datasets\\RSNA MICCAI PNG\\train\\00561\\FLAIR\\...        561           1\n",
       "3     E:\\datasets\\RSNA MICCAI PNG\\train\\00561\\FLAIR\\...        561           1\n",
       "4     E:\\datasets\\RSNA MICCAI PNG\\train\\00561\\FLAIR\\...        561           1\n",
       "...                                                 ...        ...         ...\n",
       "5123  E:\\datasets\\RSNA MICCAI PNG\\train\\00652\\FLAIR\\...        652           1\n",
       "5124  E:\\datasets\\RSNA MICCAI PNG\\train\\00652\\FLAIR\\...        652           1\n",
       "5125  E:\\datasets\\RSNA MICCAI PNG\\train\\00652\\FLAIR\\...        652           1\n",
       "5126  E:\\datasets\\RSNA MICCAI PNG\\train\\00652\\FLAIR\\...        652           1\n",
       "5127  E:\\datasets\\RSNA MICCAI PNG\\train\\00652\\FLAIR\\...        652           1\n",
       "\n",
       "[5128 rows x 3 columns]"
      ]
     },
     "execution_count": 12,
     "metadata": {},
     "output_type": "execute_result"
    }
   ],
   "source": [
    "df_valid = pd.DataFrame(valid_path_list, columns = ['file_path'])\n",
    "\n",
    "df_valid['BraTS21ID'] = df_valid.apply(lambda x: int(x['file_path'].split(os.path.sep)[-3]), axis = 1)\n",
    "\n",
    "df_valid['MGMT_value'] = df_valid.apply(lambda x: df_label.loc[df_label['BraTS21ID'] == x['BraTS21ID'], 'MGMT_value'].values, axis = 1).astype(int)\n",
    "\n",
    "df_valid"
   ]
  },
  {
   "cell_type": "markdown",
   "metadata": {},
   "source": [
    "## Create Test DataFrame"
   ]
  },
  {
   "cell_type": "code",
   "execution_count": 13,
   "metadata": {
    "ExecuteTime": {
     "end_time": "2021-08-01T06:26:21.297167Z",
     "start_time": "2021-08-01T06:26:21.239167Z"
    },
    "execution": {
     "iopub.execute_input": "2021-07-31T14:09:02.515463Z",
     "iopub.status.busy": "2021-07-31T14:09:02.514800Z",
     "iopub.status.idle": "2021-07-31T14:09:02.683492Z",
     "shell.execute_reply": "2021-07-31T14:09:02.682497Z",
     "shell.execute_reply.started": "2021-07-31T14:09:02.515419Z"
    }
   },
   "outputs": [
    {
     "data": {
      "text/html": [
       "<div>\n",
       "<style scoped>\n",
       "    .dataframe tbody tr th:only-of-type {\n",
       "        vertical-align: middle;\n",
       "    }\n",
       "\n",
       "    .dataframe tbody tr th {\n",
       "        vertical-align: top;\n",
       "    }\n",
       "\n",
       "    .dataframe thead th {\n",
       "        text-align: right;\n",
       "    }\n",
       "</style>\n",
       "<table border=\"1\" class=\"dataframe\">\n",
       "  <thead>\n",
       "    <tr style=\"text-align: right;\">\n",
       "      <th></th>\n",
       "      <th>file_path</th>\n",
       "      <th>BraTS21ID</th>\n",
       "    </tr>\n",
       "  </thead>\n",
       "  <tbody>\n",
       "    <tr>\n",
       "      <th>0</th>\n",
       "      <td>E:\\datasets\\RSNA MICCAI PNG\\test\\00001\\FLAIR\\I...</td>\n",
       "      <td>1</td>\n",
       "    </tr>\n",
       "    <tr>\n",
       "      <th>1</th>\n",
       "      <td>E:\\datasets\\RSNA MICCAI PNG\\test\\00001\\FLAIR\\I...</td>\n",
       "      <td>1</td>\n",
       "    </tr>\n",
       "    <tr>\n",
       "      <th>2</th>\n",
       "      <td>E:\\datasets\\RSNA MICCAI PNG\\test\\00001\\FLAIR\\I...</td>\n",
       "      <td>1</td>\n",
       "    </tr>\n",
       "    <tr>\n",
       "      <th>3</th>\n",
       "      <td>E:\\datasets\\RSNA MICCAI PNG\\test\\00001\\FLAIR\\I...</td>\n",
       "      <td>1</td>\n",
       "    </tr>\n",
       "    <tr>\n",
       "      <th>4</th>\n",
       "      <td>E:\\datasets\\RSNA MICCAI PNG\\test\\00001\\FLAIR\\I...</td>\n",
       "      <td>1</td>\n",
       "    </tr>\n",
       "    <tr>\n",
       "      <th>...</th>\n",
       "      <td>...</td>\n",
       "      <td>...</td>\n",
       "    </tr>\n",
       "    <tr>\n",
       "      <th>7921</th>\n",
       "      <td>E:\\datasets\\RSNA MICCAI PNG\\test\\01006\\FLAIR\\I...</td>\n",
       "      <td>1006</td>\n",
       "    </tr>\n",
       "    <tr>\n",
       "      <th>7922</th>\n",
       "      <td>E:\\datasets\\RSNA MICCAI PNG\\test\\01006\\FLAIR\\I...</td>\n",
       "      <td>1006</td>\n",
       "    </tr>\n",
       "    <tr>\n",
       "      <th>7923</th>\n",
       "      <td>E:\\datasets\\RSNA MICCAI PNG\\test\\01006\\FLAIR\\I...</td>\n",
       "      <td>1006</td>\n",
       "    </tr>\n",
       "    <tr>\n",
       "      <th>7924</th>\n",
       "      <td>E:\\datasets\\RSNA MICCAI PNG\\test\\01006\\FLAIR\\I...</td>\n",
       "      <td>1006</td>\n",
       "    </tr>\n",
       "    <tr>\n",
       "      <th>7925</th>\n",
       "      <td>E:\\datasets\\RSNA MICCAI PNG\\test\\01006\\FLAIR\\I...</td>\n",
       "      <td>1006</td>\n",
       "    </tr>\n",
       "  </tbody>\n",
       "</table>\n",
       "<p>7926 rows × 2 columns</p>\n",
       "</div>"
      ],
      "text/plain": [
       "                                              file_path  BraTS21ID\n",
       "0     E:\\datasets\\RSNA MICCAI PNG\\test\\00001\\FLAIR\\I...          1\n",
       "1     E:\\datasets\\RSNA MICCAI PNG\\test\\00001\\FLAIR\\I...          1\n",
       "2     E:\\datasets\\RSNA MICCAI PNG\\test\\00001\\FLAIR\\I...          1\n",
       "3     E:\\datasets\\RSNA MICCAI PNG\\test\\00001\\FLAIR\\I...          1\n",
       "4     E:\\datasets\\RSNA MICCAI PNG\\test\\00001\\FLAIR\\I...          1\n",
       "...                                                 ...        ...\n",
       "7921  E:\\datasets\\RSNA MICCAI PNG\\test\\01006\\FLAIR\\I...       1006\n",
       "7922  E:\\datasets\\RSNA MICCAI PNG\\test\\01006\\FLAIR\\I...       1006\n",
       "7923  E:\\datasets\\RSNA MICCAI PNG\\test\\01006\\FLAIR\\I...       1006\n",
       "7924  E:\\datasets\\RSNA MICCAI PNG\\test\\01006\\FLAIR\\I...       1006\n",
       "7925  E:\\datasets\\RSNA MICCAI PNG\\test\\01006\\FLAIR\\I...       1006\n",
       "\n",
       "[7926 rows x 2 columns]"
      ]
     },
     "execution_count": 13,
     "metadata": {},
     "output_type": "execute_result"
    }
   ],
   "source": [
    "df_test = pd.DataFrame(test_path_list, columns = ['file_path'])\n",
    "\n",
    "df_test['BraTS21ID'] = df_test.apply(lambda x: int(x['file_path'].split(os.path.sep)[-3]), axis = 1)\n",
    "\n",
    "df_test"
   ]
  },
  {
   "cell_type": "markdown",
   "metadata": {},
   "source": [
    "# Dataset"
   ]
  },
  {
   "cell_type": "code",
   "execution_count": 14,
   "metadata": {
    "ExecuteTime": {
     "end_time": "2021-08-01T06:26:21.312165Z",
     "start_time": "2021-08-01T06:26:21.298167Z"
    },
    "execution": {
     "iopub.execute_input": "2021-07-31T14:09:02.687577Z",
     "iopub.status.busy": "2021-07-31T14:09:02.687212Z",
     "iopub.status.idle": "2021-07-31T14:09:02.699519Z",
     "shell.execute_reply": "2021-07-31T14:09:02.698378Z",
     "shell.execute_reply.started": "2021-07-31T14:09:02.687540Z"
    }
   },
   "outputs": [],
   "source": [
    "class CustomDataset(Dataset):\n",
    "    def __init__(self, df, is_train = False):\n",
    "        self.df = df\n",
    "        self.is_train = is_train\n",
    "        \n",
    "    def __len__(self):\n",
    "        return self.df.shape[0]\n",
    "    \n",
    "    def __getitem__(self, idx):\n",
    "        path = self.df.iloc[idx]['file_path']\n",
    "        X = torch.Tensor(cv2.resize(cv2.imread(path, cv2.IMREAD_GRAYSCALE), (IMAGE_SIZE, IMAGE_SIZE)))\n",
    "        bts_id = self.df.iloc[idx]['BraTS21ID']\n",
    "        \n",
    "        if self.is_train:\n",
    "            y = self.df.iloc[idx]['MGMT_value']\n",
    "            return X, y, bts_id\n",
    "        else:\n",
    "            return X, bts_id\n",
    "        "
   ]
  },
  {
   "cell_type": "code",
   "execution_count": 15,
   "metadata": {
    "ExecuteTime": {
     "end_time": "2021-08-01T06:26:21.327166Z",
     "start_time": "2021-08-01T06:26:21.314167Z"
    },
    "execution": {
     "iopub.execute_input": "2021-07-31T14:09:02.703934Z",
     "iopub.status.busy": "2021-07-31T14:09:02.703572Z",
     "iopub.status.idle": "2021-07-31T14:09:02.712859Z",
     "shell.execute_reply": "2021-07-31T14:09:02.711820Z",
     "shell.execute_reply.started": "2021-07-31T14:09:02.703899Z"
    }
   },
   "outputs": [],
   "source": [
    "train_dataset = CustomDataset(df_train, is_train = True)\n",
    "train_loader = DataLoader(train_dataset, batch_size = BATCH_SIZE, shuffle = True)"
   ]
  },
  {
   "cell_type": "code",
   "execution_count": 16,
   "metadata": {
    "ExecuteTime": {
     "end_time": "2021-08-01T06:26:21.342166Z",
     "start_time": "2021-08-01T06:26:21.328166Z"
    },
    "execution": {
     "iopub.execute_input": "2021-07-31T14:09:02.717945Z",
     "iopub.status.busy": "2021-07-31T14:09:02.716346Z",
     "iopub.status.idle": "2021-07-31T14:09:02.726689Z",
     "shell.execute_reply": "2021-07-31T14:09:02.725789Z",
     "shell.execute_reply.started": "2021-07-31T14:09:02.717902Z"
    }
   },
   "outputs": [],
   "source": [
    "each_valid_dataset = CustomDataset(df_valid, is_train = True)\n",
    "each_valid_loader = DataLoader(each_valid_dataset, batch_size = BATCH_SIZE)\n",
    "\n",
    "id_valid_dataset = CustomDataset(df_valid, is_train = False)\n",
    "id_valid_loader = DataLoader(id_valid_dataset, batch_size = BATCH_SIZE)"
   ]
  },
  {
   "cell_type": "code",
   "execution_count": 17,
   "metadata": {
    "ExecuteTime": {
     "end_time": "2021-08-01T06:26:21.357165Z",
     "start_time": "2021-08-01T06:26:21.343166Z"
    },
    "execution": {
     "iopub.execute_input": "2021-07-31T14:09:02.733789Z",
     "iopub.status.busy": "2021-07-31T14:09:02.730515Z",
     "iopub.status.idle": "2021-07-31T14:09:02.739990Z",
     "shell.execute_reply": "2021-07-31T14:09:02.739080Z",
     "shell.execute_reply.started": "2021-07-31T14:09:02.731882Z"
    }
   },
   "outputs": [],
   "source": [
    "test_dataset = CustomDataset(df_test, is_train = False)\n",
    "test_loader = DataLoader(test_dataset, batch_size = BATCH_SIZE)"
   ]
  },
  {
   "cell_type": "markdown",
   "metadata": {},
   "source": [
    "# Model"
   ]
  },
  {
   "cell_type": "code",
   "execution_count": 18,
   "metadata": {
    "ExecuteTime": {
     "end_time": "2021-08-01T06:26:21.387165Z",
     "start_time": "2021-08-01T06:26:21.358166Z"
    },
    "execution": {
     "iopub.execute_input": "2021-07-31T14:09:02.744008Z",
     "iopub.status.busy": "2021-07-31T14:09:02.742954Z",
     "iopub.status.idle": "2021-07-31T14:09:02.780659Z",
     "shell.execute_reply": "2021-07-31T14:09:02.779753Z",
     "shell.execute_reply.started": "2021-07-31T14:09:02.743969Z"
    }
   },
   "outputs": [],
   "source": [
    "class SimpleModel(nn.Module):\n",
    "    def __init__(self):\n",
    "        super().__init__()\n",
    "        kernel_size = 3\n",
    "        padding_size = kernel_size//2\n",
    "        \n",
    "        self.conv1 = nn.Sequential(nn.Conv2d(1, 1, kernel_size = kernel_size, padding = padding_size, bias = False),\n",
    "                                 nn.BatchNorm2d(1),\n",
    "                                 nn.ReLU(inplace = False))\n",
    "        \n",
    "        self.conv2 = nn.Sequential(nn.Conv2d(1, 1, kernel_size = kernel_size, padding = padding_size, bias = False),\n",
    "                                 nn.BatchNorm2d(1),\n",
    "                                 nn.ReLU(inplace = False))\n",
    "        \n",
    "        self.conv3 = nn.Sequential(nn.Conv2d(1, 1, kernel_size = kernel_size, padding = padding_size, bias = False),\n",
    "                                 nn.BatchNorm2d(1),\n",
    "                                 nn.ReLU(inplace = False))\n",
    "        \n",
    "        self.conv4 = nn.Sequential(nn.Conv2d(1, 1, kernel_size = kernel_size, padding = padding_size, bias = False),\n",
    "                                 nn.BatchNorm2d(1),\n",
    "                                 nn.ReLU(inplace = False))\n",
    "        \n",
    "        self.conv5 = nn.Sequential(nn.Conv2d(1, 1, kernel_size = kernel_size, padding = padding_size, bias = False),\n",
    "                                 nn.BatchNorm2d(1),\n",
    "                                 nn.ReLU(inplace = False))\n",
    "        \n",
    "        self.conv6 = nn.Sequential(nn.Conv2d(1, 1, kernel_size = kernel_size, padding = padding_size, bias = False),\n",
    "                                 nn.BatchNorm2d(1),\n",
    "                                 nn.ReLU(inplace = False))\n",
    "        \n",
    "        self.conv7 = nn.Sequential(nn.Conv2d(1, 1, kernel_size = kernel_size, padding = padding_size, bias = False),\n",
    "                                 nn.BatchNorm2d(1),\n",
    "                                 nn.ReLU(inplace = False))\n",
    "        \n",
    "        self.conv8 = nn.Sequential(nn.Conv2d(1, 1, kernel_size = kernel_size, padding = padding_size, bias = False),\n",
    "                                 nn.BatchNorm2d(1),\n",
    "                                 nn.ReLU(inplace = False))\n",
    "        \n",
    "        self.conv9 = nn.Sequential(nn.Conv2d(1, 1, kernel_size = kernel_size, padding = padding_size, bias = False),\n",
    "                                 nn.BatchNorm2d(1),\n",
    "                                 nn.ReLU(inplace = False))\n",
    "        \n",
    "        self.conv10 = nn.Sequential(nn.Conv2d(1, 1, kernel_size = kernel_size, padding = padding_size, bias = False),\n",
    "                                 nn.BatchNorm2d(1),\n",
    "                                 nn.ReLU(inplace = False))\n",
    "        \n",
    "        self.conv11 = nn.Sequential(nn.Conv2d(1, 1, kernel_size = kernel_size, padding = padding_size, bias = False),\n",
    "                                 nn.BatchNorm2d(1),\n",
    "                                 nn.ReLU(inplace = False))\n",
    "        \n",
    "        self.conv12 = nn.Sequential(nn.Conv2d(1, 1, kernel_size = kernel_size, padding = padding_size, bias = False),\n",
    "                                 nn.BatchNorm2d(1),\n",
    "                                 nn.ReLU(inplace = False))\n",
    "        \n",
    "        self.fc1 = nn.Linear(IMAGE_SIZE * IMAGE_SIZE, 1024)\n",
    "        self.fc2 = nn.Linear(1024, 512)\n",
    "        self.fc3 = nn.Linear(512, 256)\n",
    "        self.fc4 = nn.Linear(256, 128)\n",
    "        self.fc_out = nn.Linear(128, 1)\n",
    "        self.act = nn.Sigmoid()\n",
    "        \n",
    "        self.dropout10 = nn.Dropout(0.1)\n",
    "        self.dropout20 = nn.Dropout(0.2)\n",
    "        self.dropout30 = nn.Dropout(0.3)\n",
    "        \n",
    "        \n",
    "    def forward(self, x):\n",
    "        x = x.unsqueeze(1)\n",
    "        \n",
    "        skip = x\n",
    "        x = self.conv1(x)\n",
    "        x += skip\n",
    "        \n",
    "        skip = x\n",
    "        x = self.conv2(x)\n",
    "        x += skip\n",
    "        \n",
    "        skip = x\n",
    "        x = self.conv3(x)\n",
    "        x += skip\n",
    "        \n",
    "        skip = x\n",
    "        x = self.conv4(x)\n",
    "        x += skip\n",
    "        \n",
    "        skip = x\n",
    "        x = self.conv5(x)\n",
    "        x += skip\n",
    "        \n",
    "        skip = x\n",
    "        x = self.conv6(x)\n",
    "        x += skip\n",
    "        \n",
    "        skip = x\n",
    "        x = self.conv7(x)\n",
    "        x += skip\n",
    "        \n",
    "        skip = x\n",
    "        x = self.conv8(x)\n",
    "        x += skip\n",
    "        \n",
    "        skip = x\n",
    "        x = self.conv9(x)\n",
    "        x += skip\n",
    "        \n",
    "        skip = x\n",
    "        x = self.conv10(x)\n",
    "        x += skip\n",
    "        \n",
    "        skip = x\n",
    "        x = self.conv11(x)\n",
    "        x += skip\n",
    "        \n",
    "        skip = x\n",
    "        x = self.conv12(x)\n",
    "        x += skip\n",
    "        \n",
    "        x = x.reshape(-1, IMAGE_SIZE * IMAGE_SIZE)\n",
    "        x = self.dropout30(x)\n",
    "        x = F.relu(self.fc1(x))\n",
    "        x = self.dropout30(x)\n",
    "        x = F.relu(self.fc2(x))\n",
    "        x = self.dropout20(x)\n",
    "        x = F.relu(self.fc3(x))\n",
    "        x = self.dropout20(x)\n",
    "        x = F.relu(self.fc4(x))\n",
    "        x = self.dropout10(x)\n",
    "        x = self.act(self.fc_out(x))\n",
    "        return x        "
   ]
  },
  {
   "cell_type": "markdown",
   "metadata": {},
   "source": [
    "# Trainer"
   ]
  },
  {
   "cell_type": "code",
   "execution_count": 19,
   "metadata": {
    "ExecuteTime": {
     "end_time": "2021-08-01T06:26:21.417165Z",
     "start_time": "2021-08-01T06:26:21.388166Z"
    },
    "execution": {
     "iopub.execute_input": "2021-07-31T14:09:02.786785Z",
     "iopub.status.busy": "2021-07-31T14:09:02.784560Z",
     "iopub.status.idle": "2021-07-31T14:09:02.830496Z",
     "shell.execute_reply": "2021-07-31T14:09:02.826482Z",
     "shell.execute_reply.started": "2021-07-31T14:09:02.785052Z"
    }
   },
   "outputs": [],
   "source": [
    "class Trainer():\n",
    "    def __init__(self, model, criterion, optimizer, device):\n",
    "        self.model = model\n",
    "        self.criterion = criterion\n",
    "        self.optimizer = optimizer\n",
    "        self.device = device\n",
    "        \n",
    "        self.history = dict()\n",
    "    \n",
    "    def train(self, loader):\n",
    "        self.model.train()\n",
    "        device = self.device\n",
    "        \n",
    "        y_all = []\n",
    "        y_hat_all = []\n",
    "        prog_bar = tqdm(loader)\n",
    "        for i, (X, y, _) in enumerate(prog_bar):\n",
    "            X = X.to(device)\n",
    "            y = y.to(device).to(torch.float)\n",
    "            \n",
    "            self.optimizer.zero_grad()\n",
    "            \n",
    "            y_hat = self.model(X)\n",
    "            y_hat = y_hat.reshape(-1)\n",
    "            \n",
    "            loss = self.criterion(y_hat, y)\n",
    "            loss.backward()\n",
    "            self.optimizer.step()\n",
    "            \n",
    "            y_all.append(y.cpu())\n",
    "            y_hat_all.append(y_hat.cpu())\n",
    "            \n",
    "            temp_loss = self.criterion(torch.cat(y_hat_all), torch.cat(y_all))\n",
    "            temp_roc = roc_auc_score(torch.cat(y_all).detach().numpy(), torch.cat(y_hat_all).detach().numpy())\n",
    "            prog_bar.set_description(f\"TRAIN loss {temp_loss:.4}, roc {temp_roc:.4}\")\n",
    "        \n",
    "        return temp_loss, temp_roc\n",
    "            \n",
    "    \n",
    "    def valid(self, loader):\n",
    "        self.model.eval()\n",
    "        device = self.device\n",
    "        \n",
    "        y_all = []\n",
    "        y_hat_all = []\n",
    "        prog_bar = tqdm(loader)\n",
    "        \n",
    "        with torch.no_grad():\n",
    "            for X, y, _ in prog_bar:\n",
    "                X = X.to(device)\n",
    "                y = y.to(device).to(torch.float)\n",
    "\n",
    "                y_hat = self.model(X)\n",
    "                y_hat = y_hat.reshape(-1)\n",
    "\n",
    "                y_all.append(y.cpu())\n",
    "                y_hat_all.append(y_hat.cpu())\n",
    "\n",
    "                temp_loss = self.criterion(torch.cat(y_hat_all), torch.cat(y_all))\n",
    "                try:\n",
    "                    temp_roc = roc_auc_score(torch.cat(y_all).detach().numpy(), torch.cat(y_hat_all).detach().numpy())\n",
    "                except:\n",
    "                    temp_roc = 0.\n",
    "                prog_bar.set_description(f\"VALID loss {temp_loss:.4}, roc {temp_roc:.4}\")\n",
    "        \n",
    "        return temp_loss, temp_roc\n",
    "    \n",
    "    def test(self, loader):\n",
    "        self.model.eval()\n",
    "        device = self.device\n",
    "        \n",
    "        y_hat_all = []\n",
    "        prog_bar = tqdm(loader)\n",
    "        \n",
    "        pred = dict()\n",
    "        \n",
    "        with torch.no_grad():\n",
    "            for X, bts_id in prog_bar:\n",
    "                X = X.to(device)\n",
    "\n",
    "                y_hat = self.model(X)\n",
    "                y_hat = y_hat.reshape(-1)\n",
    "                \n",
    "                for i, id_ in enumerate(bts_id):\n",
    "                    id_ = int(id_.to(torch.int))\n",
    "                    y_hat\n",
    "                    if id_ in pred.keys():\n",
    "                        pred[id_].append(float(y_hat[i].to(torch.float)))\n",
    "                    else:\n",
    "                        pred.update({id_:[float(y_hat[i].to(torch.float))]})\n",
    "        \n",
    "        return pred\n",
    "    \n",
    "    def result_to_roc(self, result, df_labels):\n",
    "        \n",
    "        result = {k:np.mean(v) for k, v in result.items()}\n",
    "        true = []\n",
    "        pred = []\n",
    "        for k, v in result.items():\n",
    "            true.append(df_labels.loc[df_labels['BraTS21ID'] == k, 'MGMT_value'].values)\n",
    "            pred.append(v)\n",
    "        return roc_auc_score(true, pred)\n",
    "        \n",
    "    \n",
    "    def fit(self, train_loader, each_valid_loader, id_valid_loader, df_label, nepoch = 10):\n",
    "        \n",
    "        self.history[\"train_loss\"] = []\n",
    "        self.history[\"train_roc\"] = []\n",
    "        self.history[\"valid_loss\"] = []\n",
    "        self.history[\"valid_roc\"] = []\n",
    "        \n",
    "        max_valid_roc = 0\n",
    "        \n",
    "        for epoch in tqdm(range(nepoch)):\n",
    "            print(f\"START {epoch}/{nepoch}\")\n",
    "            train_loss, train_roc = self.train(train_loader)\n",
    "            valid_loss, valid_roc = self.valid(each_valid_loader)\n",
    "            result = self.test(id_valid_loader)\n",
    "            \n",
    "            valid_roc_true = self.result_to_roc(result, df_label)\n",
    "            \n",
    "            if max_valid_roc < valid_roc_true:\n",
    "                max_valid_roc = valid_roc_true\n",
    "                self.save_model(f\"./model-check-{valid_roc_true:.5}.pkl\")\n",
    "                print(f\"./model-check-{valid_roc_true:.5}.pkl\")\n",
    "            \n",
    "            print(f\"TRAIN: loss {train_loss:.4}, roc {train_roc:.4}\")\n",
    "            print(f\"VALID: loss {valid_loss:.4}, roc {valid_roc:.4}, total roc {valid_roc_true:.4}\")\n",
    "            \n",
    "            self.history[\"train_loss\"].append(train_loss)\n",
    "            self.history[\"train_roc\"].append(train_roc)\n",
    "            self.history[\"valid_loss\"].append(valid_loss)\n",
    "            self.history[\"valid_roc\"].append(valid_roc)\n",
    "            \n",
    "        return self.history\n",
    "    \n",
    "    def save_model(self, name):\n",
    "        print(f\"Save Model {name}\")\n",
    "        torch.save(self.model, name)\n",
    "        \n",
    "    def load_model(self, name):\n",
    "        self.model = torch.load(name)"
   ]
  },
  {
   "cell_type": "markdown",
   "metadata": {},
   "source": [
    "# Set model parameters and create trainer object"
   ]
  },
  {
   "cell_type": "code",
   "execution_count": 20,
   "metadata": {
    "ExecuteTime": {
     "end_time": "2021-08-01T06:26:23.097559Z",
     "start_time": "2021-08-01T06:26:21.419166Z"
    },
    "execution": {
     "iopub.execute_input": "2021-07-31T14:09:02.835354Z",
     "iopub.status.busy": "2021-07-31T14:09:02.834841Z",
     "iopub.status.idle": "2021-07-31T14:09:07.459624Z",
     "shell.execute_reply": "2021-07-31T14:09:07.458615Z",
     "shell.execute_reply.started": "2021-07-31T14:09:02.835233Z"
    }
   },
   "outputs": [],
   "source": [
    "model = SimpleModel()\n",
    "model = model.to(device)\n",
    "\n",
    "criterion = nn.BCELoss()\n",
    "optimizer = torch.optim.Adam(model.parameters(), lr = LEARNING_RATE, weight_decay = WEIGHT_DECAY)\n",
    "\n",
    "trainer = Trainer(model, criterion, optimizer, device)"
   ]
  },
  {
   "cell_type": "markdown",
   "metadata": {},
   "source": [
    "# Fit"
   ]
  },
  {
   "cell_type": "code",
   "execution_count": null,
   "metadata": {},
   "outputs": [],
   "source": []
  },
  {
   "cell_type": "code",
   "execution_count": 21,
   "metadata": {
    "ExecuteTime": {
     "end_time": "2021-08-01T11:50:24.383744Z",
     "start_time": "2021-08-01T06:26:23.098559Z"
    },
    "execution": {
     "iopub.execute_input": "2021-07-31T14:09:07.462942Z",
     "iopub.status.busy": "2021-07-31T14:09:07.462231Z"
    },
    "scrolled": false
   },
   "outputs": [
    {
     "data": {
      "application/vnd.jupyter.widget-view+json": {
       "model_id": "6d693745e0914b3b8e4e50599467b3c0",
       "version_major": 2,
       "version_minor": 0
      },
      "text/plain": [
       "  0%|          | 0/1000 [00:00<?, ?it/s]"
      ]
     },
     "metadata": {},
     "output_type": "display_data"
    },
    {
     "name": "stdout",
     "output_type": "stream",
     "text": [
      "START 0/1000\n"
     ]
    },
    {
     "data": {
      "application/vnd.jupyter.widget-view+json": {
       "model_id": "7e84a0f19f4440f5a5feca8c2362908f",
       "version_major": 2,
       "version_minor": 0
      },
      "text/plain": [
       "  0%|          | 0/759 [00:00<?, ?it/s]"
      ]
     },
     "metadata": {},
     "output_type": "display_data"
    },
    {
     "data": {
      "application/vnd.jupyter.widget-view+json": {
       "model_id": "8af89145738644c0a2bea462d010eaf1",
       "version_major": 2,
       "version_minor": 0
      },
      "text/plain": [
       "  0%|          | 0/81 [00:00<?, ?it/s]"
      ]
     },
     "metadata": {},
     "output_type": "display_data"
    },
    {
     "data": {
      "application/vnd.jupyter.widget-view+json": {
       "model_id": "b55267b045114d67bb5e16446cdc6f90",
       "version_major": 2,
       "version_minor": 0
      },
      "text/plain": [
       "  0%|          | 0/81 [00:00<?, ?it/s]"
      ]
     },
     "metadata": {},
     "output_type": "display_data"
    },
    {
     "name": "stdout",
     "output_type": "stream",
     "text": [
      "Save Model ./model-check-0.46667.pkl\n",
      "./model-check-0.46667.pkl\n",
      "TRAIN: loss 0.7094, roc 0.5629\n",
      "VALID: loss 0.72, roc 0.4455, total roc 0.4667\n",
      "START 1/1000\n"
     ]
    },
    {
     "data": {
      "application/vnd.jupyter.widget-view+json": {
       "model_id": "0983daaeb37e40dab11e688ab61767dd",
       "version_major": 2,
       "version_minor": 0
      },
      "text/plain": [
       "  0%|          | 0/759 [00:00<?, ?it/s]"
      ]
     },
     "metadata": {},
     "output_type": "display_data"
    },
    {
     "data": {
      "application/vnd.jupyter.widget-view+json": {
       "model_id": "e4af02eb05914317ab6be51ef51a4e1b",
       "version_major": 2,
       "version_minor": 0
      },
      "text/plain": [
       "  0%|          | 0/81 [00:00<?, ?it/s]"
      ]
     },
     "metadata": {},
     "output_type": "display_data"
    },
    {
     "data": {
      "application/vnd.jupyter.widget-view+json": {
       "model_id": "58e38f1bfdb64e728e083d04dba00e5a",
       "version_major": 2,
       "version_minor": 0
      },
      "text/plain": [
       "  0%|          | 0/81 [00:00<?, ?it/s]"
      ]
     },
     "metadata": {},
     "output_type": "display_data"
    },
    {
     "name": "stdout",
     "output_type": "stream",
     "text": [
      "Save Model ./model-check-0.46782.pkl\n",
      "./model-check-0.46782.pkl\n",
      "TRAIN: loss 0.6744, roc 0.5934\n",
      "VALID: loss 0.7256, roc 0.471, total roc 0.4678\n",
      "START 2/1000\n"
     ]
    },
    {
     "data": {
      "application/vnd.jupyter.widget-view+json": {
       "model_id": "d1217069ddca4fde89571be3a0e2d6e0",
       "version_major": 2,
       "version_minor": 0
      },
      "text/plain": [
       "  0%|          | 0/759 [00:00<?, ?it/s]"
      ]
     },
     "metadata": {},
     "output_type": "display_data"
    },
    {
     "data": {
      "application/vnd.jupyter.widget-view+json": {
       "model_id": "dfbd866354ce48c59f0ccc1657c25bf1",
       "version_major": 2,
       "version_minor": 0
      },
      "text/plain": [
       "  0%|          | 0/81 [00:00<?, ?it/s]"
      ]
     },
     "metadata": {},
     "output_type": "display_data"
    },
    {
     "data": {
      "application/vnd.jupyter.widget-view+json": {
       "model_id": "1c6932f6eaa14a61ad490f566947f539",
       "version_major": 2,
       "version_minor": 0
      },
      "text/plain": [
       "  0%|          | 0/81 [00:00<?, ?it/s]"
      ]
     },
     "metadata": {},
     "output_type": "display_data"
    },
    {
     "name": "stdout",
     "output_type": "stream",
     "text": [
      "Save Model ./model-check-0.50575.pkl\n",
      "./model-check-0.50575.pkl\n",
      "TRAIN: loss 0.6639, roc 0.611\n",
      "VALID: loss 0.723, roc 0.4657, total roc 0.5057\n",
      "START 3/1000\n"
     ]
    },
    {
     "data": {
      "application/vnd.jupyter.widget-view+json": {
       "model_id": "6a1cac8e89444b878013473f34c76f71",
       "version_major": 2,
       "version_minor": 0
      },
      "text/plain": [
       "  0%|          | 0/759 [00:00<?, ?it/s]"
      ]
     },
     "metadata": {},
     "output_type": "display_data"
    },
    {
     "data": {
      "application/vnd.jupyter.widget-view+json": {
       "model_id": "3e76b3f36b98482897023a0e1d0794cb",
       "version_major": 2,
       "version_minor": 0
      },
      "text/plain": [
       "  0%|          | 0/81 [00:00<?, ?it/s]"
      ]
     },
     "metadata": {},
     "output_type": "display_data"
    },
    {
     "data": {
      "application/vnd.jupyter.widget-view+json": {
       "model_id": "3c0ea20cd1124f89a689e3c641a361a9",
       "version_major": 2,
       "version_minor": 0
      },
      "text/plain": [
       "  0%|          | 0/81 [00:00<?, ?it/s]"
      ]
     },
     "metadata": {},
     "output_type": "display_data"
    },
    {
     "name": "stdout",
     "output_type": "stream",
     "text": [
      "TRAIN: loss 0.6562, roc 0.6254\n",
      "VALID: loss 0.7245, roc 0.4698, total roc 0.5011\n",
      "START 4/1000\n"
     ]
    },
    {
     "data": {
      "application/vnd.jupyter.widget-view+json": {
       "model_id": "362e390922ff45f7840ed75c8fdf570f",
       "version_major": 2,
       "version_minor": 0
      },
      "text/plain": [
       "  0%|          | 0/759 [00:00<?, ?it/s]"
      ]
     },
     "metadata": {},
     "output_type": "display_data"
    },
    {
     "data": {
      "application/vnd.jupyter.widget-view+json": {
       "model_id": "39447c766a7244ff835ad3953117cf7c",
       "version_major": 2,
       "version_minor": 0
      },
      "text/plain": [
       "  0%|          | 0/81 [00:00<?, ?it/s]"
      ]
     },
     "metadata": {},
     "output_type": "display_data"
    },
    {
     "data": {
      "application/vnd.jupyter.widget-view+json": {
       "model_id": "33637fa80a464507bf657a89f662c0ad",
       "version_major": 2,
       "version_minor": 0
      },
      "text/plain": [
       "  0%|          | 0/81 [00:00<?, ?it/s]"
      ]
     },
     "metadata": {},
     "output_type": "display_data"
    },
    {
     "name": "stdout",
     "output_type": "stream",
     "text": [
      "Save Model ./model-check-0.51954.pkl\n",
      "./model-check-0.51954.pkl\n",
      "TRAIN: loss 0.6519, roc 0.635\n",
      "VALID: loss 0.7247, roc 0.483, total roc 0.5195\n",
      "START 5/1000\n"
     ]
    },
    {
     "data": {
      "application/vnd.jupyter.widget-view+json": {
       "model_id": "a9ef5979bc0640c4ba5f00258f453994",
       "version_major": 2,
       "version_minor": 0
      },
      "text/plain": [
       "  0%|          | 0/759 [00:00<?, ?it/s]"
      ]
     },
     "metadata": {},
     "output_type": "display_data"
    },
    {
     "data": {
      "application/vnd.jupyter.widget-view+json": {
       "model_id": "871f5f5617624ab19fd9972899d3c977",
       "version_major": 2,
       "version_minor": 0
      },
      "text/plain": [
       "  0%|          | 0/81 [00:00<?, ?it/s]"
      ]
     },
     "metadata": {},
     "output_type": "display_data"
    },
    {
     "data": {
      "application/vnd.jupyter.widget-view+json": {
       "model_id": "4ca21903aac34457811e9895a6a69d6c",
       "version_major": 2,
       "version_minor": 0
      },
      "text/plain": [
       "  0%|          | 0/81 [00:00<?, ?it/s]"
      ]
     },
     "metadata": {},
     "output_type": "display_data"
    },
    {
     "name": "stdout",
     "output_type": "stream",
     "text": [
      "TRAIN: loss 0.6437, roc 0.6503\n",
      "VALID: loss 0.7366, roc 0.4797, total roc 0.5103\n",
      "START 6/1000\n"
     ]
    },
    {
     "data": {
      "application/vnd.jupyter.widget-view+json": {
       "model_id": "f3aa329fe9e14444887516f254151557",
       "version_major": 2,
       "version_minor": 0
      },
      "text/plain": [
       "  0%|          | 0/759 [00:00<?, ?it/s]"
      ]
     },
     "metadata": {},
     "output_type": "display_data"
    },
    {
     "data": {
      "application/vnd.jupyter.widget-view+json": {
       "model_id": "f9364110f6304497ac427519101a044d",
       "version_major": 2,
       "version_minor": 0
      },
      "text/plain": [
       "  0%|          | 0/81 [00:00<?, ?it/s]"
      ]
     },
     "metadata": {},
     "output_type": "display_data"
    },
    {
     "data": {
      "application/vnd.jupyter.widget-view+json": {
       "model_id": "42f542ed43684950ab8cacbaad53a7ec",
       "version_major": 2,
       "version_minor": 0
      },
      "text/plain": [
       "  0%|          | 0/81 [00:00<?, ?it/s]"
      ]
     },
     "metadata": {},
     "output_type": "display_data"
    },
    {
     "name": "stdout",
     "output_type": "stream",
     "text": [
      "TRAIN: loss 0.6368, roc 0.6616\n",
      "VALID: loss 0.7391, roc 0.4864, total roc 0.5195\n",
      "START 7/1000\n"
     ]
    },
    {
     "data": {
      "application/vnd.jupyter.widget-view+json": {
       "model_id": "ec3e780fc430454187de09761a06d71b",
       "version_major": 2,
       "version_minor": 0
      },
      "text/plain": [
       "  0%|          | 0/759 [00:00<?, ?it/s]"
      ]
     },
     "metadata": {},
     "output_type": "display_data"
    },
    {
     "data": {
      "application/vnd.jupyter.widget-view+json": {
       "model_id": "7d4e1ab831b246f998428653933fa66b",
       "version_major": 2,
       "version_minor": 0
      },
      "text/plain": [
       "  0%|          | 0/81 [00:00<?, ?it/s]"
      ]
     },
     "metadata": {},
     "output_type": "display_data"
    },
    {
     "data": {
      "application/vnd.jupyter.widget-view+json": {
       "model_id": "60275842713d48adbf169989846c7399",
       "version_major": 2,
       "version_minor": 0
      },
      "text/plain": [
       "  0%|          | 0/81 [00:00<?, ?it/s]"
      ]
     },
     "metadata": {},
     "output_type": "display_data"
    },
    {
     "name": "stdout",
     "output_type": "stream",
     "text": [
      "TRAIN: loss 0.6317, roc 0.6705\n",
      "VALID: loss 0.7652, roc 0.4679, total roc 0.5149\n",
      "START 8/1000\n"
     ]
    },
    {
     "data": {
      "application/vnd.jupyter.widget-view+json": {
       "model_id": "0d48c3511fd7401c9966c33a1398c95f",
       "version_major": 2,
       "version_minor": 0
      },
      "text/plain": [
       "  0%|          | 0/759 [00:00<?, ?it/s]"
      ]
     },
     "metadata": {},
     "output_type": "display_data"
    },
    {
     "data": {
      "application/vnd.jupyter.widget-view+json": {
       "model_id": "c88ade5f046f498c93f0120b209d3abf",
       "version_major": 2,
       "version_minor": 0
      },
      "text/plain": [
       "  0%|          | 0/81 [00:00<?, ?it/s]"
      ]
     },
     "metadata": {},
     "output_type": "display_data"
    },
    {
     "data": {
      "application/vnd.jupyter.widget-view+json": {
       "model_id": "f7ddf1798f4c4f8288dee6c30a1cb686",
       "version_major": 2,
       "version_minor": 0
      },
      "text/plain": [
       "  0%|          | 0/81 [00:00<?, ?it/s]"
      ]
     },
     "metadata": {},
     "output_type": "display_data"
    },
    {
     "name": "stdout",
     "output_type": "stream",
     "text": [
      "Save Model ./model-check-0.53333.pkl\n",
      "./model-check-0.53333.pkl\n",
      "TRAIN: loss 0.6245, roc 0.6817\n",
      "VALID: loss 0.7659, roc 0.485, total roc 0.5333\n",
      "START 9/1000\n"
     ]
    },
    {
     "data": {
      "application/vnd.jupyter.widget-view+json": {
       "model_id": "a60f811cf98648cfa42735a98f129e53",
       "version_major": 2,
       "version_minor": 0
      },
      "text/plain": [
       "  0%|          | 0/759 [00:00<?, ?it/s]"
      ]
     },
     "metadata": {},
     "output_type": "display_data"
    },
    {
     "data": {
      "application/vnd.jupyter.widget-view+json": {
       "model_id": "dc37f1e7783c4632b698bc772a6baa34",
       "version_major": 2,
       "version_minor": 0
      },
      "text/plain": [
       "  0%|          | 0/81 [00:00<?, ?it/s]"
      ]
     },
     "metadata": {},
     "output_type": "display_data"
    },
    {
     "data": {
      "application/vnd.jupyter.widget-view+json": {
       "model_id": "6bd09f421bd843a19f54103d952aa030",
       "version_major": 2,
       "version_minor": 0
      },
      "text/plain": [
       "  0%|          | 0/81 [00:00<?, ?it/s]"
      ]
     },
     "metadata": {},
     "output_type": "display_data"
    },
    {
     "name": "stdout",
     "output_type": "stream",
     "text": [
      "TRAIN: loss 0.6183, roc 0.6906\n",
      "VALID: loss 0.788, roc 0.4698, total roc 0.5218\n",
      "START 10/1000\n"
     ]
    },
    {
     "data": {
      "application/vnd.jupyter.widget-view+json": {
       "model_id": "18281020c8fd4296821bf0c260872372",
       "version_major": 2,
       "version_minor": 0
      },
      "text/plain": [
       "  0%|          | 0/759 [00:00<?, ?it/s]"
      ]
     },
     "metadata": {},
     "output_type": "display_data"
    },
    {
     "data": {
      "application/vnd.jupyter.widget-view+json": {
       "model_id": "1389858397bc4efab6ab75b2c5183f07",
       "version_major": 2,
       "version_minor": 0
      },
      "text/plain": [
       "  0%|          | 0/81 [00:00<?, ?it/s]"
      ]
     },
     "metadata": {},
     "output_type": "display_data"
    },
    {
     "data": {
      "application/vnd.jupyter.widget-view+json": {
       "model_id": "98ba0d73e0e34a5f84a04ee393e6588c",
       "version_major": 2,
       "version_minor": 0
      },
      "text/plain": [
       "  0%|          | 0/81 [00:00<?, ?it/s]"
      ]
     },
     "metadata": {},
     "output_type": "display_data"
    },
    {
     "name": "stdout",
     "output_type": "stream",
     "text": [
      "TRAIN: loss 0.6128, roc 0.6997\n",
      "VALID: loss 0.7774, roc 0.4859, total roc 0.5287\n",
      "START 11/1000\n"
     ]
    },
    {
     "data": {
      "application/vnd.jupyter.widget-view+json": {
       "model_id": "afc75b58dace48ad9d4a295ebef63a3f",
       "version_major": 2,
       "version_minor": 0
      },
      "text/plain": [
       "  0%|          | 0/759 [00:00<?, ?it/s]"
      ]
     },
     "metadata": {},
     "output_type": "display_data"
    },
    {
     "data": {
      "application/vnd.jupyter.widget-view+json": {
       "model_id": "6eb0bd78f91342b09457bfdf45700ecf",
       "version_major": 2,
       "version_minor": 0
      },
      "text/plain": [
       "  0%|          | 0/81 [00:00<?, ?it/s]"
      ]
     },
     "metadata": {},
     "output_type": "display_data"
    },
    {
     "data": {
      "application/vnd.jupyter.widget-view+json": {
       "model_id": "45eaa5fec59646cfbf320f1bacdba6c6",
       "version_major": 2,
       "version_minor": 0
      },
      "text/plain": [
       "  0%|          | 0/81 [00:00<?, ?it/s]"
      ]
     },
     "metadata": {},
     "output_type": "display_data"
    },
    {
     "name": "stdout",
     "output_type": "stream",
     "text": [
      "TRAIN: loss 0.6066, roc 0.709\n",
      "VALID: loss 0.783, roc 0.4876, total roc 0.5322\n",
      "START 12/1000\n"
     ]
    },
    {
     "data": {
      "application/vnd.jupyter.widget-view+json": {
       "model_id": "b55f72085c7a480ead56146f53798926",
       "version_major": 2,
       "version_minor": 0
      },
      "text/plain": [
       "  0%|          | 0/759 [00:00<?, ?it/s]"
      ]
     },
     "metadata": {},
     "output_type": "display_data"
    },
    {
     "data": {
      "application/vnd.jupyter.widget-view+json": {
       "model_id": "95d3d97d553342f09659fc1858e0e0c7",
       "version_major": 2,
       "version_minor": 0
      },
      "text/plain": [
       "  0%|          | 0/81 [00:00<?, ?it/s]"
      ]
     },
     "metadata": {},
     "output_type": "display_data"
    },
    {
     "data": {
      "application/vnd.jupyter.widget-view+json": {
       "model_id": "730b6a4d0896409683d19f1558755b00",
       "version_major": 2,
       "version_minor": 0
      },
      "text/plain": [
       "  0%|          | 0/81 [00:00<?, ?it/s]"
      ]
     },
     "metadata": {},
     "output_type": "display_data"
    },
    {
     "name": "stdout",
     "output_type": "stream",
     "text": [
      "TRAIN: loss 0.6001, roc 0.7172\n",
      "VALID: loss 0.7922, roc 0.4858, total roc 0.5161\n",
      "START 13/1000\n"
     ]
    },
    {
     "data": {
      "application/vnd.jupyter.widget-view+json": {
       "model_id": "966212a82f194075825a7dff7d0bbaf1",
       "version_major": 2,
       "version_minor": 0
      },
      "text/plain": [
       "  0%|          | 0/759 [00:00<?, ?it/s]"
      ]
     },
     "metadata": {},
     "output_type": "display_data"
    },
    {
     "data": {
      "application/vnd.jupyter.widget-view+json": {
       "model_id": "3bf5f233f70f48e49be3815dd980688c",
       "version_major": 2,
       "version_minor": 0
      },
      "text/plain": [
       "  0%|          | 0/81 [00:00<?, ?it/s]"
      ]
     },
     "metadata": {},
     "output_type": "display_data"
    },
    {
     "data": {
      "application/vnd.jupyter.widget-view+json": {
       "model_id": "60399484b65c4613b95c90f41c9ca042",
       "version_major": 2,
       "version_minor": 0
      },
      "text/plain": [
       "  0%|          | 0/81 [00:00<?, ?it/s]"
      ]
     },
     "metadata": {},
     "output_type": "display_data"
    },
    {
     "name": "stdout",
     "output_type": "stream",
     "text": [
      "TRAIN: loss 0.5918, roc 0.7286\n",
      "VALID: loss 0.7991, roc 0.4936, total roc 0.5276\n",
      "START 14/1000\n"
     ]
    },
    {
     "data": {
      "application/vnd.jupyter.widget-view+json": {
       "model_id": "749182bbae3d4fada85a51c253857755",
       "version_major": 2,
       "version_minor": 0
      },
      "text/plain": [
       "  0%|          | 0/759 [00:00<?, ?it/s]"
      ]
     },
     "metadata": {},
     "output_type": "display_data"
    },
    {
     "data": {
      "application/vnd.jupyter.widget-view+json": {
       "model_id": "ebb6e9fdaf364a1dbd39aaee85894f15",
       "version_major": 2,
       "version_minor": 0
      },
      "text/plain": [
       "  0%|          | 0/81 [00:00<?, ?it/s]"
      ]
     },
     "metadata": {},
     "output_type": "display_data"
    },
    {
     "data": {
      "application/vnd.jupyter.widget-view+json": {
       "model_id": "4408cfc5239140a4a060425454360d27",
       "version_major": 2,
       "version_minor": 0
      },
      "text/plain": [
       "  0%|          | 0/81 [00:00<?, ?it/s]"
      ]
     },
     "metadata": {},
     "output_type": "display_data"
    },
    {
     "name": "stdout",
     "output_type": "stream",
     "text": [
      "TRAIN: loss 0.5852, roc 0.7369\n",
      "VALID: loss 0.8574, roc 0.4666, total roc 0.5103\n",
      "START 15/1000\n"
     ]
    },
    {
     "data": {
      "application/vnd.jupyter.widget-view+json": {
       "model_id": "994ee3b9b72e4a46b7e975b6502ae526",
       "version_major": 2,
       "version_minor": 0
      },
      "text/plain": [
       "  0%|          | 0/759 [00:00<?, ?it/s]"
      ]
     },
     "metadata": {},
     "output_type": "display_data"
    },
    {
     "data": {
      "application/vnd.jupyter.widget-view+json": {
       "model_id": "c9f3e789d19749b786fad401f1642098",
       "version_major": 2,
       "version_minor": 0
      },
      "text/plain": [
       "  0%|          | 0/81 [00:00<?, ?it/s]"
      ]
     },
     "metadata": {},
     "output_type": "display_data"
    },
    {
     "data": {
      "application/vnd.jupyter.widget-view+json": {
       "model_id": "608f0476fa2a4ba1ada65d3c5e11b644",
       "version_major": 2,
       "version_minor": 0
      },
      "text/plain": [
       "  0%|          | 0/81 [00:00<?, ?it/s]"
      ]
     },
     "metadata": {},
     "output_type": "display_data"
    },
    {
     "name": "stdout",
     "output_type": "stream",
     "text": [
      "TRAIN: loss 0.579, roc 0.7444\n",
      "VALID: loss 0.8391, roc 0.476, total roc 0.5218\n",
      "START 16/1000\n"
     ]
    },
    {
     "data": {
      "application/vnd.jupyter.widget-view+json": {
       "model_id": "75efdd1e5a9b472c9d2b311ab4902097",
       "version_major": 2,
       "version_minor": 0
      },
      "text/plain": [
       "  0%|          | 0/759 [00:00<?, ?it/s]"
      ]
     },
     "metadata": {},
     "output_type": "display_data"
    },
    {
     "data": {
      "application/vnd.jupyter.widget-view+json": {
       "model_id": "02a00f2c9cf74fc2a2ad8239508163bb",
       "version_major": 2,
       "version_minor": 0
      },
      "text/plain": [
       "  0%|          | 0/81 [00:00<?, ?it/s]"
      ]
     },
     "metadata": {},
     "output_type": "display_data"
    },
    {
     "data": {
      "application/vnd.jupyter.widget-view+json": {
       "model_id": "f1708347e32641239000affb14104e38",
       "version_major": 2,
       "version_minor": 0
      },
      "text/plain": [
       "  0%|          | 0/81 [00:00<?, ?it/s]"
      ]
     },
     "metadata": {},
     "output_type": "display_data"
    },
    {
     "name": "stdout",
     "output_type": "stream",
     "text": [
      "TRAIN: loss 0.5717, roc 0.752\n",
      "VALID: loss 0.8449, roc 0.4799, total roc 0.5057\n",
      "START 17/1000\n"
     ]
    },
    {
     "data": {
      "application/vnd.jupyter.widget-view+json": {
       "model_id": "81bee36233d741a78ca4fb2e926e2bd5",
       "version_major": 2,
       "version_minor": 0
      },
      "text/plain": [
       "  0%|          | 0/759 [00:00<?, ?it/s]"
      ]
     },
     "metadata": {},
     "output_type": "display_data"
    },
    {
     "data": {
      "application/vnd.jupyter.widget-view+json": {
       "model_id": "a2b1ab5c5570430a90e2f39cab7fa333",
       "version_major": 2,
       "version_minor": 0
      },
      "text/plain": [
       "  0%|          | 0/81 [00:00<?, ?it/s]"
      ]
     },
     "metadata": {},
     "output_type": "display_data"
    },
    {
     "data": {
      "application/vnd.jupyter.widget-view+json": {
       "model_id": "107ca63da888476d812a5f4e36b4bdc4",
       "version_major": 2,
       "version_minor": 0
      },
      "text/plain": [
       "  0%|          | 0/81 [00:00<?, ?it/s]"
      ]
     },
     "metadata": {},
     "output_type": "display_data"
    },
    {
     "name": "stdout",
     "output_type": "stream",
     "text": [
      "TRAIN: loss 0.5617, roc 0.7642\n",
      "VALID: loss 0.8452, roc 0.4919, total roc 0.531\n",
      "START 18/1000\n"
     ]
    },
    {
     "data": {
      "application/vnd.jupyter.widget-view+json": {
       "model_id": "d6f98817cf434fb38fe4e827d32a9677",
       "version_major": 2,
       "version_minor": 0
      },
      "text/plain": [
       "  0%|          | 0/759 [00:00<?, ?it/s]"
      ]
     },
     "metadata": {},
     "output_type": "display_data"
    },
    {
     "data": {
      "application/vnd.jupyter.widget-view+json": {
       "model_id": "2b94b071e00a493c85a72982101d8a29",
       "version_major": 2,
       "version_minor": 0
      },
      "text/plain": [
       "  0%|          | 0/81 [00:00<?, ?it/s]"
      ]
     },
     "metadata": {},
     "output_type": "display_data"
    },
    {
     "data": {
      "application/vnd.jupyter.widget-view+json": {
       "model_id": "fef85a12d17040a79140e63487baca14",
       "version_major": 2,
       "version_minor": 0
      },
      "text/plain": [
       "  0%|          | 0/81 [00:00<?, ?it/s]"
      ]
     },
     "metadata": {},
     "output_type": "display_data"
    },
    {
     "name": "stdout",
     "output_type": "stream",
     "text": [
      "TRAIN: loss 0.5547, roc 0.7718\n",
      "VALID: loss 0.8807, roc 0.4745, total roc 0.5184\n",
      "START 19/1000\n"
     ]
    },
    {
     "data": {
      "application/vnd.jupyter.widget-view+json": {
       "model_id": "b9f52f86d98e4742b3f3c2d33cb33d30",
       "version_major": 2,
       "version_minor": 0
      },
      "text/plain": [
       "  0%|          | 0/759 [00:00<?, ?it/s]"
      ]
     },
     "metadata": {},
     "output_type": "display_data"
    },
    {
     "data": {
      "application/vnd.jupyter.widget-view+json": {
       "model_id": "4d18f92bf0eb40019c49dc95799a76a3",
       "version_major": 2,
       "version_minor": 0
      },
      "text/plain": [
       "  0%|          | 0/81 [00:00<?, ?it/s]"
      ]
     },
     "metadata": {},
     "output_type": "display_data"
    },
    {
     "data": {
      "application/vnd.jupyter.widget-view+json": {
       "model_id": "f10b913f03af454fb5429168711181ef",
       "version_major": 2,
       "version_minor": 0
      },
      "text/plain": [
       "  0%|          | 0/81 [00:00<?, ?it/s]"
      ]
     },
     "metadata": {},
     "output_type": "display_data"
    },
    {
     "name": "stdout",
     "output_type": "stream",
     "text": [
      "TRAIN: loss 0.5472, roc 0.7789\n",
      "VALID: loss 0.9079, roc 0.4796, total roc 0.5103\n",
      "START 20/1000\n"
     ]
    },
    {
     "data": {
      "application/vnd.jupyter.widget-view+json": {
       "model_id": "6d1799aab61d4f089423b382becf0f64",
       "version_major": 2,
       "version_minor": 0
      },
      "text/plain": [
       "  0%|          | 0/759 [00:00<?, ?it/s]"
      ]
     },
     "metadata": {},
     "output_type": "display_data"
    },
    {
     "data": {
      "application/vnd.jupyter.widget-view+json": {
       "model_id": "32128440e28744d9b115c1446364d8a4",
       "version_major": 2,
       "version_minor": 0
      },
      "text/plain": [
       "  0%|          | 0/81 [00:00<?, ?it/s]"
      ]
     },
     "metadata": {},
     "output_type": "display_data"
    },
    {
     "data": {
      "application/vnd.jupyter.widget-view+json": {
       "model_id": "2d4ca31c3abc4ad6bfbe13e61838aaa3",
       "version_major": 2,
       "version_minor": 0
      },
      "text/plain": [
       "  0%|          | 0/81 [00:00<?, ?it/s]"
      ]
     },
     "metadata": {},
     "output_type": "display_data"
    },
    {
     "name": "stdout",
     "output_type": "stream",
     "text": [
      "TRAIN: loss 0.5417, roc 0.7841\n",
      "VALID: loss 0.8881, roc 0.4842, total roc 0.5115\n",
      "START 21/1000\n"
     ]
    },
    {
     "data": {
      "application/vnd.jupyter.widget-view+json": {
       "model_id": "bc1a4c43e2594a9d91a0a791b86644a3",
       "version_major": 2,
       "version_minor": 0
      },
      "text/plain": [
       "  0%|          | 0/759 [00:00<?, ?it/s]"
      ]
     },
     "metadata": {},
     "output_type": "display_data"
    },
    {
     "data": {
      "application/vnd.jupyter.widget-view+json": {
       "model_id": "48582c77522e436e9c0cc3a1464a0f5c",
       "version_major": 2,
       "version_minor": 0
      },
      "text/plain": [
       "  0%|          | 0/81 [00:00<?, ?it/s]"
      ]
     },
     "metadata": {},
     "output_type": "display_data"
    },
    {
     "data": {
      "application/vnd.jupyter.widget-view+json": {
       "model_id": "843afc01919a4a68bc7eecf4bd0b00b8",
       "version_major": 2,
       "version_minor": 0
      },
      "text/plain": [
       "  0%|          | 0/81 [00:00<?, ?it/s]"
      ]
     },
     "metadata": {},
     "output_type": "display_data"
    },
    {
     "name": "stdout",
     "output_type": "stream",
     "text": [
      "TRAIN: loss 0.5326, roc 0.7933\n",
      "VALID: loss 0.9241, roc 0.4677, total roc 0.5046\n",
      "START 22/1000\n"
     ]
    },
    {
     "data": {
      "application/vnd.jupyter.widget-view+json": {
       "model_id": "3d1bc0eac77942db9d37ea984cac1652",
       "version_major": 2,
       "version_minor": 0
      },
      "text/plain": [
       "  0%|          | 0/759 [00:00<?, ?it/s]"
      ]
     },
     "metadata": {},
     "output_type": "display_data"
    },
    {
     "data": {
      "application/vnd.jupyter.widget-view+json": {
       "model_id": "edeeb73319df4b8c91c1322001f018f9",
       "version_major": 2,
       "version_minor": 0
      },
      "text/plain": [
       "  0%|          | 0/81 [00:00<?, ?it/s]"
      ]
     },
     "metadata": {},
     "output_type": "display_data"
    },
    {
     "data": {
      "application/vnd.jupyter.widget-view+json": {
       "model_id": "40a19d5c481d4f28bf48a72f2bfc79c4",
       "version_major": 2,
       "version_minor": 0
      },
      "text/plain": [
       "  0%|          | 0/81 [00:00<?, ?it/s]"
      ]
     },
     "metadata": {},
     "output_type": "display_data"
    },
    {
     "name": "stdout",
     "output_type": "stream",
     "text": [
      "TRAIN: loss 0.5244, roc 0.8011\n",
      "VALID: loss 0.9363, roc 0.4834, total roc 0.5218\n",
      "START 23/1000\n"
     ]
    },
    {
     "data": {
      "application/vnd.jupyter.widget-view+json": {
       "model_id": "72d5123294e24fe3944309b4c841d826",
       "version_major": 2,
       "version_minor": 0
      },
      "text/plain": [
       "  0%|          | 0/759 [00:00<?, ?it/s]"
      ]
     },
     "metadata": {},
     "output_type": "display_data"
    },
    {
     "data": {
      "application/vnd.jupyter.widget-view+json": {
       "model_id": "3f1800d30ec34186991f4f1e1268f70b",
       "version_major": 2,
       "version_minor": 0
      },
      "text/plain": [
       "  0%|          | 0/81 [00:00<?, ?it/s]"
      ]
     },
     "metadata": {},
     "output_type": "display_data"
    },
    {
     "data": {
      "application/vnd.jupyter.widget-view+json": {
       "model_id": "95983cf93a144843b3983dd26fc0e7f1",
       "version_major": 2,
       "version_minor": 0
      },
      "text/plain": [
       "  0%|          | 0/81 [00:00<?, ?it/s]"
      ]
     },
     "metadata": {},
     "output_type": "display_data"
    },
    {
     "name": "stdout",
     "output_type": "stream",
     "text": [
      "TRAIN: loss 0.5187, roc 0.807\n",
      "VALID: loss 0.9645, roc 0.4714, total roc 0.4989\n",
      "START 24/1000\n"
     ]
    },
    {
     "data": {
      "application/vnd.jupyter.widget-view+json": {
       "model_id": "8a29b98a06164890a3267cf842162c80",
       "version_major": 2,
       "version_minor": 0
      },
      "text/plain": [
       "  0%|          | 0/759 [00:00<?, ?it/s]"
      ]
     },
     "metadata": {},
     "output_type": "display_data"
    },
    {
     "data": {
      "application/vnd.jupyter.widget-view+json": {
       "model_id": "3ebff7f298e7458583befd9e4c345568",
       "version_major": 2,
       "version_minor": 0
      },
      "text/plain": [
       "  0%|          | 0/81 [00:00<?, ?it/s]"
      ]
     },
     "metadata": {},
     "output_type": "display_data"
    },
    {
     "data": {
      "application/vnd.jupyter.widget-view+json": {
       "model_id": "13bfb18c5bcc4eb085cc2216b155dfe7",
       "version_major": 2,
       "version_minor": 0
      },
      "text/plain": [
       "  0%|          | 0/81 [00:00<?, ?it/s]"
      ]
     },
     "metadata": {},
     "output_type": "display_data"
    },
    {
     "name": "stdout",
     "output_type": "stream",
     "text": [
      "TRAIN: loss 0.5073, roc 0.8174\n",
      "VALID: loss 0.9722, roc 0.4773, total roc 0.5126\n",
      "START 25/1000\n"
     ]
    },
    {
     "data": {
      "application/vnd.jupyter.widget-view+json": {
       "model_id": "3d0094fdee9047529680138fc3c8e43f",
       "version_major": 2,
       "version_minor": 0
      },
      "text/plain": [
       "  0%|          | 0/759 [00:00<?, ?it/s]"
      ]
     },
     "metadata": {},
     "output_type": "display_data"
    },
    {
     "data": {
      "application/vnd.jupyter.widget-view+json": {
       "model_id": "cd95b71defef49efb5b0198a14204de0",
       "version_major": 2,
       "version_minor": 0
      },
      "text/plain": [
       "  0%|          | 0/81 [00:00<?, ?it/s]"
      ]
     },
     "metadata": {},
     "output_type": "display_data"
    },
    {
     "data": {
      "application/vnd.jupyter.widget-view+json": {
       "model_id": "79b18501c36040a8baf24ace6887acd5",
       "version_major": 2,
       "version_minor": 0
      },
      "text/plain": [
       "  0%|          | 0/81 [00:00<?, ?it/s]"
      ]
     },
     "metadata": {},
     "output_type": "display_data"
    },
    {
     "name": "stdout",
     "output_type": "stream",
     "text": [
      "TRAIN: loss 0.5006, roc 0.822\n",
      "VALID: loss 1.008, roc 0.4739, total roc 0.508\n",
      "START 26/1000\n"
     ]
    },
    {
     "data": {
      "application/vnd.jupyter.widget-view+json": {
       "model_id": "1760d7099e2a44e2945fbe1b3c46988c",
       "version_major": 2,
       "version_minor": 0
      },
      "text/plain": [
       "  0%|          | 0/759 [00:00<?, ?it/s]"
      ]
     },
     "metadata": {},
     "output_type": "display_data"
    },
    {
     "data": {
      "application/vnd.jupyter.widget-view+json": {
       "model_id": "7278906a126b45149c5f0db7cb3b7299",
       "version_major": 2,
       "version_minor": 0
      },
      "text/plain": [
       "  0%|          | 0/81 [00:00<?, ?it/s]"
      ]
     },
     "metadata": {},
     "output_type": "display_data"
    },
    {
     "data": {
      "application/vnd.jupyter.widget-view+json": {
       "model_id": "37c15703fe364760876df22a2b233828",
       "version_major": 2,
       "version_minor": 0
      },
      "text/plain": [
       "  0%|          | 0/81 [00:00<?, ?it/s]"
      ]
     },
     "metadata": {},
     "output_type": "display_data"
    },
    {
     "name": "stdout",
     "output_type": "stream",
     "text": [
      "TRAIN: loss 0.4931, roc 0.8282\n",
      "VALID: loss 1.016, roc 0.4711, total roc 0.492\n",
      "START 27/1000\n"
     ]
    },
    {
     "data": {
      "application/vnd.jupyter.widget-view+json": {
       "model_id": "83a7eacbb9194e5b90163b489c051d79",
       "version_major": 2,
       "version_minor": 0
      },
      "text/plain": [
       "  0%|          | 0/759 [00:00<?, ?it/s]"
      ]
     },
     "metadata": {},
     "output_type": "display_data"
    },
    {
     "data": {
      "application/vnd.jupyter.widget-view+json": {
       "model_id": "35a4f61b282b4437b7f0c55dc1a1a14e",
       "version_major": 2,
       "version_minor": 0
      },
      "text/plain": [
       "  0%|          | 0/81 [00:00<?, ?it/s]"
      ]
     },
     "metadata": {},
     "output_type": "display_data"
    },
    {
     "data": {
      "application/vnd.jupyter.widget-view+json": {
       "model_id": "75cb4653f24c4752845f1fb74aa17519",
       "version_major": 2,
       "version_minor": 0
      },
      "text/plain": [
       "  0%|          | 0/81 [00:00<?, ?it/s]"
      ]
     },
     "metadata": {},
     "output_type": "display_data"
    },
    {
     "name": "stdout",
     "output_type": "stream",
     "text": [
      "TRAIN: loss 0.4819, roc 0.838\n",
      "VALID: loss 1.058, roc 0.4824, total roc 0.5092\n",
      "START 28/1000\n"
     ]
    },
    {
     "data": {
      "application/vnd.jupyter.widget-view+json": {
       "model_id": "a8f9ac6d928e45a188dfa191e9faa996",
       "version_major": 2,
       "version_minor": 0
      },
      "text/plain": [
       "  0%|          | 0/759 [00:00<?, ?it/s]"
      ]
     },
     "metadata": {},
     "output_type": "display_data"
    },
    {
     "data": {
      "application/vnd.jupyter.widget-view+json": {
       "model_id": "b53af0d320744c4c8b0bf5bb59f00609",
       "version_major": 2,
       "version_minor": 0
      },
      "text/plain": [
       "  0%|          | 0/81 [00:00<?, ?it/s]"
      ]
     },
     "metadata": {},
     "output_type": "display_data"
    },
    {
     "data": {
      "application/vnd.jupyter.widget-view+json": {
       "model_id": "1cace218df33469cacc50fd5980fac78",
       "version_major": 2,
       "version_minor": 0
      },
      "text/plain": [
       "  0%|          | 0/81 [00:00<?, ?it/s]"
      ]
     },
     "metadata": {},
     "output_type": "display_data"
    },
    {
     "name": "stdout",
     "output_type": "stream",
     "text": [
      "TRAIN: loss 0.4774, roc 0.8412\n",
      "VALID: loss 1.061, roc 0.4803, total roc 0.5207\n",
      "START 29/1000\n"
     ]
    },
    {
     "data": {
      "application/vnd.jupyter.widget-view+json": {
       "model_id": "16dbdc95f74f461489615e631cb106d9",
       "version_major": 2,
       "version_minor": 0
      },
      "text/plain": [
       "  0%|          | 0/759 [00:00<?, ?it/s]"
      ]
     },
     "metadata": {},
     "output_type": "display_data"
    },
    {
     "data": {
      "application/vnd.jupyter.widget-view+json": {
       "model_id": "7837bbef84634245bad2ce40cfa19f67",
       "version_major": 2,
       "version_minor": 0
      },
      "text/plain": [
       "  0%|          | 0/81 [00:00<?, ?it/s]"
      ]
     },
     "metadata": {},
     "output_type": "display_data"
    },
    {
     "data": {
      "application/vnd.jupyter.widget-view+json": {
       "model_id": "d9ef8aa1e5754b44a84c43226b620442",
       "version_major": 2,
       "version_minor": 0
      },
      "text/plain": [
       "  0%|          | 0/81 [00:00<?, ?it/s]"
      ]
     },
     "metadata": {},
     "output_type": "display_data"
    },
    {
     "name": "stdout",
     "output_type": "stream",
     "text": [
      "TRAIN: loss 0.4687, roc 0.8478\n",
      "VALID: loss 1.077, roc 0.4734, total roc 0.4989\n",
      "START 30/1000\n"
     ]
    },
    {
     "data": {
      "application/vnd.jupyter.widget-view+json": {
       "model_id": "78ea99ee21264718bbe2f4bb21c133e3",
       "version_major": 2,
       "version_minor": 0
      },
      "text/plain": [
       "  0%|          | 0/759 [00:00<?, ?it/s]"
      ]
     },
     "metadata": {},
     "output_type": "display_data"
    },
    {
     "data": {
      "application/vnd.jupyter.widget-view+json": {
       "model_id": "a5d7a53eb4a341409c165ff8c9b2d80f",
       "version_major": 2,
       "version_minor": 0
      },
      "text/plain": [
       "  0%|          | 0/81 [00:00<?, ?it/s]"
      ]
     },
     "metadata": {},
     "output_type": "display_data"
    },
    {
     "data": {
      "application/vnd.jupyter.widget-view+json": {
       "model_id": "772fb4f3e76640d4a0cb7ebba573ff67",
       "version_major": 2,
       "version_minor": 0
      },
      "text/plain": [
       "  0%|          | 0/81 [00:00<?, ?it/s]"
      ]
     },
     "metadata": {},
     "output_type": "display_data"
    },
    {
     "name": "stdout",
     "output_type": "stream",
     "text": [
      "TRAIN: loss 0.4612, roc 0.8531\n",
      "VALID: loss 1.099, roc 0.4762, total roc 0.4954\n",
      "START 31/1000\n"
     ]
    },
    {
     "data": {
      "application/vnd.jupyter.widget-view+json": {
       "model_id": "412441844ecd498a9e7fb66120f94c4c",
       "version_major": 2,
       "version_minor": 0
      },
      "text/plain": [
       "  0%|          | 0/759 [00:00<?, ?it/s]"
      ]
     },
     "metadata": {},
     "output_type": "display_data"
    },
    {
     "data": {
      "application/vnd.jupyter.widget-view+json": {
       "model_id": "ff7d58e06c9b42e6b2295d38133f7256",
       "version_major": 2,
       "version_minor": 0
      },
      "text/plain": [
       "  0%|          | 0/81 [00:00<?, ?it/s]"
      ]
     },
     "metadata": {},
     "output_type": "display_data"
    },
    {
     "data": {
      "application/vnd.jupyter.widget-view+json": {
       "model_id": "6389992af4b34b5da5c4a3249e463d1b",
       "version_major": 2,
       "version_minor": 0
      },
      "text/plain": [
       "  0%|          | 0/81 [00:00<?, ?it/s]"
      ]
     },
     "metadata": {},
     "output_type": "display_data"
    },
    {
     "name": "stdout",
     "output_type": "stream",
     "text": [
      "TRAIN: loss 0.4528, roc 0.8589\n",
      "VALID: loss 1.086, roc 0.4906, total roc 0.5276\n",
      "START 32/1000\n"
     ]
    },
    {
     "data": {
      "application/vnd.jupyter.widget-view+json": {
       "model_id": "34d81a21ae3045c7aa366736ba2e77f1",
       "version_major": 2,
       "version_minor": 0
      },
      "text/plain": [
       "  0%|          | 0/759 [00:00<?, ?it/s]"
      ]
     },
     "metadata": {},
     "output_type": "display_data"
    },
    {
     "data": {
      "application/vnd.jupyter.widget-view+json": {
       "model_id": "398ac3e2e7a74de3b465a16d166a992d",
       "version_major": 2,
       "version_minor": 0
      },
      "text/plain": [
       "  0%|          | 0/81 [00:00<?, ?it/s]"
      ]
     },
     "metadata": {},
     "output_type": "display_data"
    },
    {
     "data": {
      "application/vnd.jupyter.widget-view+json": {
       "model_id": "31ab6f356ef249679f2363ca3606d9a7",
       "version_major": 2,
       "version_minor": 0
      },
      "text/plain": [
       "  0%|          | 0/81 [00:00<?, ?it/s]"
      ]
     },
     "metadata": {},
     "output_type": "display_data"
    },
    {
     "name": "stdout",
     "output_type": "stream",
     "text": [
      "TRAIN: loss 0.4435, roc 0.8658\n",
      "VALID: loss 1.114, roc 0.4832, total roc 0.5034\n",
      "START 33/1000\n"
     ]
    },
    {
     "data": {
      "application/vnd.jupyter.widget-view+json": {
       "model_id": "252a2925d6744810a3afe93f4e0bfd5c",
       "version_major": 2,
       "version_minor": 0
      },
      "text/plain": [
       "  0%|          | 0/759 [00:00<?, ?it/s]"
      ]
     },
     "metadata": {},
     "output_type": "display_data"
    },
    {
     "data": {
      "application/vnd.jupyter.widget-view+json": {
       "model_id": "3074496fef8f48a4952be85b76f0de85",
       "version_major": 2,
       "version_minor": 0
      },
      "text/plain": [
       "  0%|          | 0/81 [00:00<?, ?it/s]"
      ]
     },
     "metadata": {},
     "output_type": "display_data"
    },
    {
     "data": {
      "application/vnd.jupyter.widget-view+json": {
       "model_id": "eae0ab027a2845dbbe2bf93fea48e088",
       "version_major": 2,
       "version_minor": 0
      },
      "text/plain": [
       "  0%|          | 0/81 [00:00<?, ?it/s]"
      ]
     },
     "metadata": {},
     "output_type": "display_data"
    },
    {
     "name": "stdout",
     "output_type": "stream",
     "text": [
      "TRAIN: loss 0.4342, roc 0.8721\n",
      "VALID: loss 1.181, roc 0.4706, total roc 0.5011\n",
      "START 34/1000\n"
     ]
    },
    {
     "data": {
      "application/vnd.jupyter.widget-view+json": {
       "model_id": "495b0ec769924d12a06ebf9d6efe1e33",
       "version_major": 2,
       "version_minor": 0
      },
      "text/plain": [
       "  0%|          | 0/759 [00:00<?, ?it/s]"
      ]
     },
     "metadata": {},
     "output_type": "display_data"
    },
    {
     "data": {
      "application/vnd.jupyter.widget-view+json": {
       "model_id": "07b1f39be53d42adac4a29c75190c9c9",
       "version_major": 2,
       "version_minor": 0
      },
      "text/plain": [
       "  0%|          | 0/81 [00:00<?, ?it/s]"
      ]
     },
     "metadata": {},
     "output_type": "display_data"
    },
    {
     "data": {
      "application/vnd.jupyter.widget-view+json": {
       "model_id": "16e1598ee2d845dcbb5fcbb19beb799e",
       "version_major": 2,
       "version_minor": 0
      },
      "text/plain": [
       "  0%|          | 0/81 [00:00<?, ?it/s]"
      ]
     },
     "metadata": {},
     "output_type": "display_data"
    },
    {
     "name": "stdout",
     "output_type": "stream",
     "text": [
      "TRAIN: loss 0.4328, roc 0.8727\n",
      "VALID: loss 1.16, roc 0.4786, total roc 0.5138\n",
      "START 35/1000\n"
     ]
    },
    {
     "data": {
      "application/vnd.jupyter.widget-view+json": {
       "model_id": "56d758f06e5b42f68d109fd551189716",
       "version_major": 2,
       "version_minor": 0
      },
      "text/plain": [
       "  0%|          | 0/759 [00:00<?, ?it/s]"
      ]
     },
     "metadata": {},
     "output_type": "display_data"
    },
    {
     "data": {
      "application/vnd.jupyter.widget-view+json": {
       "model_id": "278e7da4cc5a47139521f367428acaa7",
       "version_major": 2,
       "version_minor": 0
      },
      "text/plain": [
       "  0%|          | 0/81 [00:00<?, ?it/s]"
      ]
     },
     "metadata": {},
     "output_type": "display_data"
    },
    {
     "data": {
      "application/vnd.jupyter.widget-view+json": {
       "model_id": "072dc76b24ea48869424f21e55e7e5d3",
       "version_major": 2,
       "version_minor": 0
      },
      "text/plain": [
       "  0%|          | 0/81 [00:00<?, ?it/s]"
      ]
     },
     "metadata": {},
     "output_type": "display_data"
    },
    {
     "name": "stdout",
     "output_type": "stream",
     "text": [
      "TRAIN: loss 0.4255, roc 0.8778\n",
      "VALID: loss 1.249, roc 0.4731, total roc 0.492\n",
      "START 36/1000\n"
     ]
    },
    {
     "data": {
      "application/vnd.jupyter.widget-view+json": {
       "model_id": "f417929c674f41f7882670c9843d23ca",
       "version_major": 2,
       "version_minor": 0
      },
      "text/plain": [
       "  0%|          | 0/759 [00:00<?, ?it/s]"
      ]
     },
     "metadata": {},
     "output_type": "display_data"
    },
    {
     "data": {
      "application/vnd.jupyter.widget-view+json": {
       "model_id": "497c51cd666b4f728fc8ae427daecc41",
       "version_major": 2,
       "version_minor": 0
      },
      "text/plain": [
       "  0%|          | 0/81 [00:00<?, ?it/s]"
      ]
     },
     "metadata": {},
     "output_type": "display_data"
    },
    {
     "data": {
      "application/vnd.jupyter.widget-view+json": {
       "model_id": "3acd0d2434d5404c8867c39937688814",
       "version_major": 2,
       "version_minor": 0
      },
      "text/plain": [
       "  0%|          | 0/81 [00:00<?, ?it/s]"
      ]
     },
     "metadata": {},
     "output_type": "display_data"
    },
    {
     "name": "stdout",
     "output_type": "stream",
     "text": [
      "TRAIN: loss 0.4172, roc 0.8824\n",
      "VALID: loss 1.185, roc 0.4797, total roc 0.5\n",
      "START 37/1000\n"
     ]
    },
    {
     "data": {
      "application/vnd.jupyter.widget-view+json": {
       "model_id": "4e3d95554cdd4ac1a1775a0c82688505",
       "version_major": 2,
       "version_minor": 0
      },
      "text/plain": [
       "  0%|          | 0/759 [00:00<?, ?it/s]"
      ]
     },
     "metadata": {},
     "output_type": "display_data"
    },
    {
     "data": {
      "application/vnd.jupyter.widget-view+json": {
       "model_id": "842e56f317ae47dbb26e2dc3e15fddb7",
       "version_major": 2,
       "version_minor": 0
      },
      "text/plain": [
       "  0%|          | 0/81 [00:00<?, ?it/s]"
      ]
     },
     "metadata": {},
     "output_type": "display_data"
    },
    {
     "data": {
      "application/vnd.jupyter.widget-view+json": {
       "model_id": "c2e1264b8a28495cb4eb6a3a8b9d0acd",
       "version_major": 2,
       "version_minor": 0
      },
      "text/plain": [
       "  0%|          | 0/81 [00:00<?, ?it/s]"
      ]
     },
     "metadata": {},
     "output_type": "display_data"
    },
    {
     "name": "stdout",
     "output_type": "stream",
     "text": [
      "TRAIN: loss 0.4062, roc 0.8895\n",
      "VALID: loss 1.301, roc 0.4694, total roc 0.5115\n",
      "START 38/1000\n"
     ]
    },
    {
     "data": {
      "application/vnd.jupyter.widget-view+json": {
       "model_id": "d070958a3c8d4af8bb66efe2cca7a462",
       "version_major": 2,
       "version_minor": 0
      },
      "text/plain": [
       "  0%|          | 0/759 [00:00<?, ?it/s]"
      ]
     },
     "metadata": {},
     "output_type": "display_data"
    },
    {
     "data": {
      "application/vnd.jupyter.widget-view+json": {
       "model_id": "dcb84a77f057489bb9e19084af2b07f6",
       "version_major": 2,
       "version_minor": 0
      },
      "text/plain": [
       "  0%|          | 0/81 [00:00<?, ?it/s]"
      ]
     },
     "metadata": {},
     "output_type": "display_data"
    },
    {
     "data": {
      "application/vnd.jupyter.widget-view+json": {
       "model_id": "94d055b75d444d53b815adfe286cddf1",
       "version_major": 2,
       "version_minor": 0
      },
      "text/plain": [
       "  0%|          | 0/81 [00:00<?, ?it/s]"
      ]
     },
     "metadata": {},
     "output_type": "display_data"
    },
    {
     "name": "stdout",
     "output_type": "stream",
     "text": [
      "TRAIN: loss 0.4027, roc 0.8917\n",
      "VALID: loss 1.282, roc 0.4725, total roc 0.4977\n",
      "START 39/1000\n"
     ]
    },
    {
     "data": {
      "application/vnd.jupyter.widget-view+json": {
       "model_id": "92dad15110db46bb849a5ec7b2ffa32f",
       "version_major": 2,
       "version_minor": 0
      },
      "text/plain": [
       "  0%|          | 0/759 [00:00<?, ?it/s]"
      ]
     },
     "metadata": {},
     "output_type": "display_data"
    },
    {
     "data": {
      "application/vnd.jupyter.widget-view+json": {
       "model_id": "591a84efe68343f499525fe8198e1b53",
       "version_major": 2,
       "version_minor": 0
      },
      "text/plain": [
       "  0%|          | 0/81 [00:00<?, ?it/s]"
      ]
     },
     "metadata": {},
     "output_type": "display_data"
    },
    {
     "data": {
      "application/vnd.jupyter.widget-view+json": {
       "model_id": "843c9979a90b4465ace37d4da9ea5e8a",
       "version_major": 2,
       "version_minor": 0
      },
      "text/plain": [
       "  0%|          | 0/81 [00:00<?, ?it/s]"
      ]
     },
     "metadata": {},
     "output_type": "display_data"
    },
    {
     "name": "stdout",
     "output_type": "stream",
     "text": [
      "TRAIN: loss 0.3939, roc 0.8967\n",
      "VALID: loss 1.203, roc 0.4878, total roc 0.5184\n",
      "START 40/1000\n"
     ]
    },
    {
     "data": {
      "application/vnd.jupyter.widget-view+json": {
       "model_id": "fc719b693fa24e8ea7bda84a2aa9c058",
       "version_major": 2,
       "version_minor": 0
      },
      "text/plain": [
       "  0%|          | 0/759 [00:00<?, ?it/s]"
      ]
     },
     "metadata": {},
     "output_type": "display_data"
    },
    {
     "data": {
      "application/vnd.jupyter.widget-view+json": {
       "model_id": "18b75fedb44240848d91b22b80c54790",
       "version_major": 2,
       "version_minor": 0
      },
      "text/plain": [
       "  0%|          | 0/81 [00:00<?, ?it/s]"
      ]
     },
     "metadata": {},
     "output_type": "display_data"
    },
    {
     "data": {
      "application/vnd.jupyter.widget-view+json": {
       "model_id": "a080482b50ed480e84235bea74c7d71f",
       "version_major": 2,
       "version_minor": 0
      },
      "text/plain": [
       "  0%|          | 0/81 [00:00<?, ?it/s]"
      ]
     },
     "metadata": {},
     "output_type": "display_data"
    },
    {
     "name": "stdout",
     "output_type": "stream",
     "text": [
      "TRAIN: loss 0.388, roc 0.9002\n",
      "VALID: loss 1.429, roc 0.4859, total roc 0.5092\n",
      "START 41/1000\n"
     ]
    },
    {
     "data": {
      "application/vnd.jupyter.widget-view+json": {
       "model_id": "9bc4c621c3944b94933fd67c9e2c4e9d",
       "version_major": 2,
       "version_minor": 0
      },
      "text/plain": [
       "  0%|          | 0/759 [00:00<?, ?it/s]"
      ]
     },
     "metadata": {},
     "output_type": "display_data"
    },
    {
     "data": {
      "application/vnd.jupyter.widget-view+json": {
       "model_id": "6306ff13573a4ff0844f40b25f015a88",
       "version_major": 2,
       "version_minor": 0
      },
      "text/plain": [
       "  0%|          | 0/81 [00:00<?, ?it/s]"
      ]
     },
     "metadata": {},
     "output_type": "display_data"
    },
    {
     "data": {
      "application/vnd.jupyter.widget-view+json": {
       "model_id": "88252803b6ad4cf6826926398c5b1536",
       "version_major": 2,
       "version_minor": 0
      },
      "text/plain": [
       "  0%|          | 0/81 [00:00<?, ?it/s]"
      ]
     },
     "metadata": {},
     "output_type": "display_data"
    },
    {
     "name": "stdout",
     "output_type": "stream",
     "text": [
      "TRAIN: loss 0.383, roc 0.9026\n",
      "VALID: loss 1.322, roc 0.4813, total roc 0.5149\n",
      "START 42/1000\n"
     ]
    },
    {
     "data": {
      "application/vnd.jupyter.widget-view+json": {
       "model_id": "af778953985e474989e4c18c474fab9e",
       "version_major": 2,
       "version_minor": 0
      },
      "text/plain": [
       "  0%|          | 0/759 [00:00<?, ?it/s]"
      ]
     },
     "metadata": {},
     "output_type": "display_data"
    },
    {
     "data": {
      "application/vnd.jupyter.widget-view+json": {
       "model_id": "51186d210033417b804cf2029dc5b0da",
       "version_major": 2,
       "version_minor": 0
      },
      "text/plain": [
       "  0%|          | 0/81 [00:00<?, ?it/s]"
      ]
     },
     "metadata": {},
     "output_type": "display_data"
    },
    {
     "data": {
      "application/vnd.jupyter.widget-view+json": {
       "model_id": "584026d606684bf4a530c43497d1d9a1",
       "version_major": 2,
       "version_minor": 0
      },
      "text/plain": [
       "  0%|          | 0/81 [00:00<?, ?it/s]"
      ]
     },
     "metadata": {},
     "output_type": "display_data"
    },
    {
     "name": "stdout",
     "output_type": "stream",
     "text": [
      "TRAIN: loss 0.3706, roc 0.9094\n",
      "VALID: loss 1.469, roc 0.4689, total roc 0.492\n",
      "START 43/1000\n"
     ]
    },
    {
     "data": {
      "application/vnd.jupyter.widget-view+json": {
       "model_id": "e2d2b41baa6541109272fe7409e964bb",
       "version_major": 2,
       "version_minor": 0
      },
      "text/plain": [
       "  0%|          | 0/759 [00:00<?, ?it/s]"
      ]
     },
     "metadata": {},
     "output_type": "display_data"
    },
    {
     "data": {
      "application/vnd.jupyter.widget-view+json": {
       "model_id": "580dda7089f645bfa1f259d3c86cd2a5",
       "version_major": 2,
       "version_minor": 0
      },
      "text/plain": [
       "  0%|          | 0/81 [00:00<?, ?it/s]"
      ]
     },
     "metadata": {},
     "output_type": "display_data"
    },
    {
     "data": {
      "application/vnd.jupyter.widget-view+json": {
       "model_id": "0726fcfd1be64a79a73b1dd072631ea6",
       "version_major": 2,
       "version_minor": 0
      },
      "text/plain": [
       "  0%|          | 0/81 [00:00<?, ?it/s]"
      ]
     },
     "metadata": {},
     "output_type": "display_data"
    },
    {
     "name": "stdout",
     "output_type": "stream",
     "text": [
      "TRAIN: loss 0.3679, roc 0.911\n",
      "VALID: loss 1.436, roc 0.4788, total roc 0.5057\n",
      "START 44/1000\n"
     ]
    },
    {
     "data": {
      "application/vnd.jupyter.widget-view+json": {
       "model_id": "3a6804d132d64faf9413823e03fc1d38",
       "version_major": 2,
       "version_minor": 0
      },
      "text/plain": [
       "  0%|          | 0/759 [00:00<?, ?it/s]"
      ]
     },
     "metadata": {},
     "output_type": "display_data"
    },
    {
     "data": {
      "application/vnd.jupyter.widget-view+json": {
       "model_id": "a82ef6baa019438e87303f2aeb51d895",
       "version_major": 2,
       "version_minor": 0
      },
      "text/plain": [
       "  0%|          | 0/81 [00:00<?, ?it/s]"
      ]
     },
     "metadata": {},
     "output_type": "display_data"
    },
    {
     "data": {
      "application/vnd.jupyter.widget-view+json": {
       "model_id": "d6332bbb20cc42b580081c067b19e6af",
       "version_major": 2,
       "version_minor": 0
      },
      "text/plain": [
       "  0%|          | 0/81 [00:00<?, ?it/s]"
      ]
     },
     "metadata": {},
     "output_type": "display_data"
    },
    {
     "name": "stdout",
     "output_type": "stream",
     "text": [
      "TRAIN: loss 0.3612, roc 0.9146\n",
      "VALID: loss 1.739, roc 0.46, total roc 0.4989\n",
      "START 45/1000\n"
     ]
    },
    {
     "data": {
      "application/vnd.jupyter.widget-view+json": {
       "model_id": "46765b00f0ce47669a31f0d83c1db68e",
       "version_major": 2,
       "version_minor": 0
      },
      "text/plain": [
       "  0%|          | 0/759 [00:00<?, ?it/s]"
      ]
     },
     "metadata": {},
     "output_type": "display_data"
    },
    {
     "data": {
      "application/vnd.jupyter.widget-view+json": {
       "model_id": "1552461c94da40d78768d5d3659c88d0",
       "version_major": 2,
       "version_minor": 0
      },
      "text/plain": [
       "  0%|          | 0/81 [00:00<?, ?it/s]"
      ]
     },
     "metadata": {},
     "output_type": "display_data"
    },
    {
     "data": {
      "application/vnd.jupyter.widget-view+json": {
       "model_id": "bc893e895c1845d3953cc35e13709e1f",
       "version_major": 2,
       "version_minor": 0
      },
      "text/plain": [
       "  0%|          | 0/81 [00:00<?, ?it/s]"
      ]
     },
     "metadata": {},
     "output_type": "display_data"
    },
    {
     "name": "stdout",
     "output_type": "stream",
     "text": [
      "TRAIN: loss 0.3545, roc 0.9178\n",
      "VALID: loss 1.468, roc 0.4866, total roc 0.5138\n",
      "START 46/1000\n"
     ]
    },
    {
     "data": {
      "application/vnd.jupyter.widget-view+json": {
       "model_id": "ec8c09730437463d9e4b490c65e7e0ee",
       "version_major": 2,
       "version_minor": 0
      },
      "text/plain": [
       "  0%|          | 0/759 [00:00<?, ?it/s]"
      ]
     },
     "metadata": {},
     "output_type": "display_data"
    },
    {
     "data": {
      "application/vnd.jupyter.widget-view+json": {
       "model_id": "82c764c7cb6045a1b5d721ffd9b5533f",
       "version_major": 2,
       "version_minor": 0
      },
      "text/plain": [
       "  0%|          | 0/81 [00:00<?, ?it/s]"
      ]
     },
     "metadata": {},
     "output_type": "display_data"
    },
    {
     "data": {
      "application/vnd.jupyter.widget-view+json": {
       "model_id": "caa9166d88bd4be3863b0042140640eb",
       "version_major": 2,
       "version_minor": 0
      },
      "text/plain": [
       "  0%|          | 0/81 [00:00<?, ?it/s]"
      ]
     },
     "metadata": {},
     "output_type": "display_data"
    },
    {
     "name": "stdout",
     "output_type": "stream",
     "text": [
      "TRAIN: loss 0.3484, roc 0.9205\n",
      "VALID: loss 1.618, roc 0.4766, total roc 0.4977\n",
      "START 47/1000\n"
     ]
    },
    {
     "data": {
      "application/vnd.jupyter.widget-view+json": {
       "model_id": "3066264703f3436f9f74906db25f4ccd",
       "version_major": 2,
       "version_minor": 0
      },
      "text/plain": [
       "  0%|          | 0/759 [00:00<?, ?it/s]"
      ]
     },
     "metadata": {},
     "output_type": "display_data"
    },
    {
     "data": {
      "application/vnd.jupyter.widget-view+json": {
       "model_id": "9d3d8db667c0499d942ee9e75e90fa21",
       "version_major": 2,
       "version_minor": 0
      },
      "text/plain": [
       "  0%|          | 0/81 [00:00<?, ?it/s]"
      ]
     },
     "metadata": {},
     "output_type": "display_data"
    },
    {
     "data": {
      "application/vnd.jupyter.widget-view+json": {
       "model_id": "05fc74a399a34546a98004a25adccf3a",
       "version_major": 2,
       "version_minor": 0
      },
      "text/plain": [
       "  0%|          | 0/81 [00:00<?, ?it/s]"
      ]
     },
     "metadata": {},
     "output_type": "display_data"
    },
    {
     "name": "stdout",
     "output_type": "stream",
     "text": [
      "TRAIN: loss 0.3439, roc 0.9229\n",
      "VALID: loss 1.753, roc 0.4691, total roc 0.5046\n",
      "START 48/1000\n"
     ]
    },
    {
     "data": {
      "application/vnd.jupyter.widget-view+json": {
       "model_id": "41b5616cc34e4cfab3b29c7a599bd721",
       "version_major": 2,
       "version_minor": 0
      },
      "text/plain": [
       "  0%|          | 0/759 [00:00<?, ?it/s]"
      ]
     },
     "metadata": {},
     "output_type": "display_data"
    },
    {
     "data": {
      "application/vnd.jupyter.widget-view+json": {
       "model_id": "a5cf9e1ad3b740b3bff78c68fa86c0b3",
       "version_major": 2,
       "version_minor": 0
      },
      "text/plain": [
       "  0%|          | 0/81 [00:00<?, ?it/s]"
      ]
     },
     "metadata": {},
     "output_type": "display_data"
    },
    {
     "data": {
      "application/vnd.jupyter.widget-view+json": {
       "model_id": "d4ced80bec584a83b82251d64d76b191",
       "version_major": 2,
       "version_minor": 0
      },
      "text/plain": [
       "  0%|          | 0/81 [00:00<?, ?it/s]"
      ]
     },
     "metadata": {},
     "output_type": "display_data"
    },
    {
     "name": "stdout",
     "output_type": "stream",
     "text": [
      "TRAIN: loss 0.3366, roc 0.9262\n",
      "VALID: loss 1.775, roc 0.4773, total roc 0.5011\n",
      "START 49/1000\n"
     ]
    },
    {
     "data": {
      "application/vnd.jupyter.widget-view+json": {
       "model_id": "c3bedf6065bd4631a8f45edb27397d42",
       "version_major": 2,
       "version_minor": 0
      },
      "text/plain": [
       "  0%|          | 0/759 [00:00<?, ?it/s]"
      ]
     },
     "metadata": {},
     "output_type": "display_data"
    },
    {
     "ename": "KeyboardInterrupt",
     "evalue": "",
     "output_type": "error",
     "traceback": [
      "\u001b[1;31m---------------------------------------------------------------------------\u001b[0m",
      "\u001b[1;31mKeyboardInterrupt\u001b[0m                         Traceback (most recent call last)",
      "\u001b[1;32m<ipython-input-21-e85c8dea7903>\u001b[0m in \u001b[0;36m<module>\u001b[1;34m\u001b[0m\n\u001b[0;32m      3\u001b[0m                       \u001b[0mid_valid_loader\u001b[0m \u001b[1;33m=\u001b[0m \u001b[0mid_valid_loader\u001b[0m\u001b[1;33m,\u001b[0m\u001b[1;33m\u001b[0m\u001b[1;33m\u001b[0m\u001b[0m\n\u001b[0;32m      4\u001b[0m                       \u001b[0mdf_label\u001b[0m \u001b[1;33m=\u001b[0m \u001b[0mdf_label\u001b[0m\u001b[1;33m,\u001b[0m\u001b[1;33m\u001b[0m\u001b[1;33m\u001b[0m\u001b[0m\n\u001b[1;32m----> 5\u001b[1;33m                       nepoch=EPOCH_NUM)\n\u001b[0m",
      "\u001b[1;32m<ipython-input-19-e45e9c9f530f>\u001b[0m in \u001b[0;36mfit\u001b[1;34m(self, train_loader, each_valid_loader, id_valid_loader, df_label, nepoch)\u001b[0m\n\u001b[0;32m    114\u001b[0m         \u001b[1;32mfor\u001b[0m \u001b[0mepoch\u001b[0m \u001b[1;32min\u001b[0m \u001b[0mtqdm\u001b[0m\u001b[1;33m(\u001b[0m\u001b[0mrange\u001b[0m\u001b[1;33m(\u001b[0m\u001b[0mnepoch\u001b[0m\u001b[1;33m)\u001b[0m\u001b[1;33m)\u001b[0m\u001b[1;33m:\u001b[0m\u001b[1;33m\u001b[0m\u001b[1;33m\u001b[0m\u001b[0m\n\u001b[0;32m    115\u001b[0m             \u001b[0mprint\u001b[0m\u001b[1;33m(\u001b[0m\u001b[1;34mf\"START {epoch}/{nepoch}\"\u001b[0m\u001b[1;33m)\u001b[0m\u001b[1;33m\u001b[0m\u001b[1;33m\u001b[0m\u001b[0m\n\u001b[1;32m--> 116\u001b[1;33m             \u001b[0mtrain_loss\u001b[0m\u001b[1;33m,\u001b[0m \u001b[0mtrain_roc\u001b[0m \u001b[1;33m=\u001b[0m \u001b[0mself\u001b[0m\u001b[1;33m.\u001b[0m\u001b[0mtrain\u001b[0m\u001b[1;33m(\u001b[0m\u001b[0mtrain_loader\u001b[0m\u001b[1;33m)\u001b[0m\u001b[1;33m\u001b[0m\u001b[1;33m\u001b[0m\u001b[0m\n\u001b[0m\u001b[0;32m    117\u001b[0m             \u001b[0mvalid_loss\u001b[0m\u001b[1;33m,\u001b[0m \u001b[0mvalid_roc\u001b[0m \u001b[1;33m=\u001b[0m \u001b[0mself\u001b[0m\u001b[1;33m.\u001b[0m\u001b[0mvalid\u001b[0m\u001b[1;33m(\u001b[0m\u001b[0meach_valid_loader\u001b[0m\u001b[1;33m)\u001b[0m\u001b[1;33m\u001b[0m\u001b[1;33m\u001b[0m\u001b[0m\n\u001b[0;32m    118\u001b[0m             \u001b[0mresult\u001b[0m \u001b[1;33m=\u001b[0m \u001b[0mself\u001b[0m\u001b[1;33m.\u001b[0m\u001b[0mtest\u001b[0m\u001b[1;33m(\u001b[0m\u001b[0mid_valid_loader\u001b[0m\u001b[1;33m)\u001b[0m\u001b[1;33m\u001b[0m\u001b[1;33m\u001b[0m\u001b[0m\n",
      "\u001b[1;32m<ipython-input-19-e45e9c9f530f>\u001b[0m in \u001b[0;36mtrain\u001b[1;34m(self, loader)\u001b[0m\n\u001b[0;32m     15\u001b[0m         \u001b[0my_hat_all\u001b[0m \u001b[1;33m=\u001b[0m \u001b[1;33m[\u001b[0m\u001b[1;33m]\u001b[0m\u001b[1;33m\u001b[0m\u001b[1;33m\u001b[0m\u001b[0m\n\u001b[0;32m     16\u001b[0m         \u001b[0mprog_bar\u001b[0m \u001b[1;33m=\u001b[0m \u001b[0mtqdm\u001b[0m\u001b[1;33m(\u001b[0m\u001b[0mloader\u001b[0m\u001b[1;33m)\u001b[0m\u001b[1;33m\u001b[0m\u001b[1;33m\u001b[0m\u001b[0m\n\u001b[1;32m---> 17\u001b[1;33m         \u001b[1;32mfor\u001b[0m \u001b[0mi\u001b[0m\u001b[1;33m,\u001b[0m \u001b[1;33m(\u001b[0m\u001b[0mX\u001b[0m\u001b[1;33m,\u001b[0m \u001b[0my\u001b[0m\u001b[1;33m,\u001b[0m \u001b[0m_\u001b[0m\u001b[1;33m)\u001b[0m \u001b[1;32min\u001b[0m \u001b[0menumerate\u001b[0m\u001b[1;33m(\u001b[0m\u001b[0mprog_bar\u001b[0m\u001b[1;33m)\u001b[0m\u001b[1;33m:\u001b[0m\u001b[1;33m\u001b[0m\u001b[1;33m\u001b[0m\u001b[0m\n\u001b[0m\u001b[0;32m     18\u001b[0m             \u001b[0mX\u001b[0m \u001b[1;33m=\u001b[0m \u001b[0mX\u001b[0m\u001b[1;33m.\u001b[0m\u001b[0mto\u001b[0m\u001b[1;33m(\u001b[0m\u001b[0mdevice\u001b[0m\u001b[1;33m)\u001b[0m\u001b[1;33m\u001b[0m\u001b[1;33m\u001b[0m\u001b[0m\n\u001b[0;32m     19\u001b[0m             \u001b[0my\u001b[0m \u001b[1;33m=\u001b[0m \u001b[0my\u001b[0m\u001b[1;33m.\u001b[0m\u001b[0mto\u001b[0m\u001b[1;33m(\u001b[0m\u001b[0mdevice\u001b[0m\u001b[1;33m)\u001b[0m\u001b[1;33m.\u001b[0m\u001b[0mto\u001b[0m\u001b[1;33m(\u001b[0m\u001b[0mtorch\u001b[0m\u001b[1;33m.\u001b[0m\u001b[0mfloat\u001b[0m\u001b[1;33m)\u001b[0m\u001b[1;33m\u001b[0m\u001b[1;33m\u001b[0m\u001b[0m\n",
      "\u001b[1;32mD:\\Sangwons_Room\\00_SoftWares\\Anaconda\\envs\\torch\\lib\\site-packages\\tqdm\\notebook.py\u001b[0m in \u001b[0;36m__iter__\u001b[1;34m(self)\u001b[0m\n\u001b[0;32m    252\u001b[0m     \u001b[1;32mdef\u001b[0m \u001b[0m__iter__\u001b[0m\u001b[1;33m(\u001b[0m\u001b[0mself\u001b[0m\u001b[1;33m)\u001b[0m\u001b[1;33m:\u001b[0m\u001b[1;33m\u001b[0m\u001b[1;33m\u001b[0m\u001b[0m\n\u001b[0;32m    253\u001b[0m         \u001b[1;32mtry\u001b[0m\u001b[1;33m:\u001b[0m\u001b[1;33m\u001b[0m\u001b[1;33m\u001b[0m\u001b[0m\n\u001b[1;32m--> 254\u001b[1;33m             \u001b[1;32mfor\u001b[0m \u001b[0mobj\u001b[0m \u001b[1;32min\u001b[0m \u001b[0msuper\u001b[0m\u001b[1;33m(\u001b[0m\u001b[0mtqdm_notebook\u001b[0m\u001b[1;33m,\u001b[0m \u001b[0mself\u001b[0m\u001b[1;33m)\u001b[0m\u001b[1;33m.\u001b[0m\u001b[0m__iter__\u001b[0m\u001b[1;33m(\u001b[0m\u001b[1;33m)\u001b[0m\u001b[1;33m:\u001b[0m\u001b[1;33m\u001b[0m\u001b[1;33m\u001b[0m\u001b[0m\n\u001b[0m\u001b[0;32m    255\u001b[0m                 \u001b[1;31m# return super(tqdm...) will not catch exception\u001b[0m\u001b[1;33m\u001b[0m\u001b[1;33m\u001b[0m\u001b[1;33m\u001b[0m\u001b[0m\n\u001b[0;32m    256\u001b[0m                 \u001b[1;32myield\u001b[0m \u001b[0mobj\u001b[0m\u001b[1;33m\u001b[0m\u001b[1;33m\u001b[0m\u001b[0m\n",
      "\u001b[1;32mD:\\Sangwons_Room\\00_SoftWares\\Anaconda\\envs\\torch\\lib\\site-packages\\tqdm\\std.py\u001b[0m in \u001b[0;36m__iter__\u001b[1;34m(self)\u001b[0m\n\u001b[0;32m   1176\u001b[0m \u001b[1;33m\u001b[0m\u001b[0m\n\u001b[0;32m   1177\u001b[0m         \u001b[1;32mtry\u001b[0m\u001b[1;33m:\u001b[0m\u001b[1;33m\u001b[0m\u001b[1;33m\u001b[0m\u001b[0m\n\u001b[1;32m-> 1178\u001b[1;33m             \u001b[1;32mfor\u001b[0m \u001b[0mobj\u001b[0m \u001b[1;32min\u001b[0m \u001b[0miterable\u001b[0m\u001b[1;33m:\u001b[0m\u001b[1;33m\u001b[0m\u001b[1;33m\u001b[0m\u001b[0m\n\u001b[0m\u001b[0;32m   1179\u001b[0m                 \u001b[1;32myield\u001b[0m \u001b[0mobj\u001b[0m\u001b[1;33m\u001b[0m\u001b[1;33m\u001b[0m\u001b[0m\n\u001b[0;32m   1180\u001b[0m                 \u001b[1;31m# Update and possibly print the progressbar.\u001b[0m\u001b[1;33m\u001b[0m\u001b[1;33m\u001b[0m\u001b[1;33m\u001b[0m\u001b[0m\n",
      "\u001b[1;32mD:\\Sangwons_Room\\00_SoftWares\\Anaconda\\envs\\torch\\lib\\site-packages\\torch\\utils\\data\\dataloader.py\u001b[0m in \u001b[0;36m__next__\u001b[1;34m(self)\u001b[0m\n\u001b[0;32m    519\u001b[0m             \u001b[1;32mif\u001b[0m \u001b[0mself\u001b[0m\u001b[1;33m.\u001b[0m\u001b[0m_sampler_iter\u001b[0m \u001b[1;32mis\u001b[0m \u001b[1;32mNone\u001b[0m\u001b[1;33m:\u001b[0m\u001b[1;33m\u001b[0m\u001b[1;33m\u001b[0m\u001b[0m\n\u001b[0;32m    520\u001b[0m                 \u001b[0mself\u001b[0m\u001b[1;33m.\u001b[0m\u001b[0m_reset\u001b[0m\u001b[1;33m(\u001b[0m\u001b[1;33m)\u001b[0m\u001b[1;33m\u001b[0m\u001b[1;33m\u001b[0m\u001b[0m\n\u001b[1;32m--> 521\u001b[1;33m             \u001b[0mdata\u001b[0m \u001b[1;33m=\u001b[0m \u001b[0mself\u001b[0m\u001b[1;33m.\u001b[0m\u001b[0m_next_data\u001b[0m\u001b[1;33m(\u001b[0m\u001b[1;33m)\u001b[0m\u001b[1;33m\u001b[0m\u001b[1;33m\u001b[0m\u001b[0m\n\u001b[0m\u001b[0;32m    522\u001b[0m             \u001b[0mself\u001b[0m\u001b[1;33m.\u001b[0m\u001b[0m_num_yielded\u001b[0m \u001b[1;33m+=\u001b[0m \u001b[1;36m1\u001b[0m\u001b[1;33m\u001b[0m\u001b[1;33m\u001b[0m\u001b[0m\n\u001b[0;32m    523\u001b[0m             \u001b[1;32mif\u001b[0m \u001b[0mself\u001b[0m\u001b[1;33m.\u001b[0m\u001b[0m_dataset_kind\u001b[0m \u001b[1;33m==\u001b[0m \u001b[0m_DatasetKind\u001b[0m\u001b[1;33m.\u001b[0m\u001b[0mIterable\u001b[0m \u001b[1;32mand\u001b[0m\u001b[0;31m \u001b[0m\u001b[0;31m\\\u001b[0m\u001b[1;33m\u001b[0m\u001b[1;33m\u001b[0m\u001b[0m\n",
      "\u001b[1;32mD:\\Sangwons_Room\\00_SoftWares\\Anaconda\\envs\\torch\\lib\\site-packages\\torch\\utils\\data\\dataloader.py\u001b[0m in \u001b[0;36m_next_data\u001b[1;34m(self)\u001b[0m\n\u001b[0;32m    559\u001b[0m     \u001b[1;32mdef\u001b[0m \u001b[0m_next_data\u001b[0m\u001b[1;33m(\u001b[0m\u001b[0mself\u001b[0m\u001b[1;33m)\u001b[0m\u001b[1;33m:\u001b[0m\u001b[1;33m\u001b[0m\u001b[1;33m\u001b[0m\u001b[0m\n\u001b[0;32m    560\u001b[0m         \u001b[0mindex\u001b[0m \u001b[1;33m=\u001b[0m \u001b[0mself\u001b[0m\u001b[1;33m.\u001b[0m\u001b[0m_next_index\u001b[0m\u001b[1;33m(\u001b[0m\u001b[1;33m)\u001b[0m  \u001b[1;31m# may raise StopIteration\u001b[0m\u001b[1;33m\u001b[0m\u001b[1;33m\u001b[0m\u001b[0m\n\u001b[1;32m--> 561\u001b[1;33m         \u001b[0mdata\u001b[0m \u001b[1;33m=\u001b[0m \u001b[0mself\u001b[0m\u001b[1;33m.\u001b[0m\u001b[0m_dataset_fetcher\u001b[0m\u001b[1;33m.\u001b[0m\u001b[0mfetch\u001b[0m\u001b[1;33m(\u001b[0m\u001b[0mindex\u001b[0m\u001b[1;33m)\u001b[0m  \u001b[1;31m# may raise StopIteration\u001b[0m\u001b[1;33m\u001b[0m\u001b[1;33m\u001b[0m\u001b[0m\n\u001b[0m\u001b[0;32m    562\u001b[0m         \u001b[1;32mif\u001b[0m \u001b[0mself\u001b[0m\u001b[1;33m.\u001b[0m\u001b[0m_pin_memory\u001b[0m\u001b[1;33m:\u001b[0m\u001b[1;33m\u001b[0m\u001b[1;33m\u001b[0m\u001b[0m\n\u001b[0;32m    563\u001b[0m             \u001b[0mdata\u001b[0m \u001b[1;33m=\u001b[0m \u001b[0m_utils\u001b[0m\u001b[1;33m.\u001b[0m\u001b[0mpin_memory\u001b[0m\u001b[1;33m.\u001b[0m\u001b[0mpin_memory\u001b[0m\u001b[1;33m(\u001b[0m\u001b[0mdata\u001b[0m\u001b[1;33m)\u001b[0m\u001b[1;33m\u001b[0m\u001b[1;33m\u001b[0m\u001b[0m\n",
      "\u001b[1;32mD:\\Sangwons_Room\\00_SoftWares\\Anaconda\\envs\\torch\\lib\\site-packages\\torch\\utils\\data\\_utils\\fetch.py\u001b[0m in \u001b[0;36mfetch\u001b[1;34m(self, possibly_batched_index)\u001b[0m\n\u001b[0;32m     42\u001b[0m     \u001b[1;32mdef\u001b[0m \u001b[0mfetch\u001b[0m\u001b[1;33m(\u001b[0m\u001b[0mself\u001b[0m\u001b[1;33m,\u001b[0m \u001b[0mpossibly_batched_index\u001b[0m\u001b[1;33m)\u001b[0m\u001b[1;33m:\u001b[0m\u001b[1;33m\u001b[0m\u001b[1;33m\u001b[0m\u001b[0m\n\u001b[0;32m     43\u001b[0m         \u001b[1;32mif\u001b[0m \u001b[0mself\u001b[0m\u001b[1;33m.\u001b[0m\u001b[0mauto_collation\u001b[0m\u001b[1;33m:\u001b[0m\u001b[1;33m\u001b[0m\u001b[1;33m\u001b[0m\u001b[0m\n\u001b[1;32m---> 44\u001b[1;33m             \u001b[0mdata\u001b[0m \u001b[1;33m=\u001b[0m \u001b[1;33m[\u001b[0m\u001b[0mself\u001b[0m\u001b[1;33m.\u001b[0m\u001b[0mdataset\u001b[0m\u001b[1;33m[\u001b[0m\u001b[0midx\u001b[0m\u001b[1;33m]\u001b[0m \u001b[1;32mfor\u001b[0m \u001b[0midx\u001b[0m \u001b[1;32min\u001b[0m \u001b[0mpossibly_batched_index\u001b[0m\u001b[1;33m]\u001b[0m\u001b[1;33m\u001b[0m\u001b[1;33m\u001b[0m\u001b[0m\n\u001b[0m\u001b[0;32m     45\u001b[0m         \u001b[1;32melse\u001b[0m\u001b[1;33m:\u001b[0m\u001b[1;33m\u001b[0m\u001b[1;33m\u001b[0m\u001b[0m\n\u001b[0;32m     46\u001b[0m             \u001b[0mdata\u001b[0m \u001b[1;33m=\u001b[0m \u001b[0mself\u001b[0m\u001b[1;33m.\u001b[0m\u001b[0mdataset\u001b[0m\u001b[1;33m[\u001b[0m\u001b[0mpossibly_batched_index\u001b[0m\u001b[1;33m]\u001b[0m\u001b[1;33m\u001b[0m\u001b[1;33m\u001b[0m\u001b[0m\n",
      "\u001b[1;32mD:\\Sangwons_Room\\00_SoftWares\\Anaconda\\envs\\torch\\lib\\site-packages\\torch\\utils\\data\\_utils\\fetch.py\u001b[0m in \u001b[0;36m<listcomp>\u001b[1;34m(.0)\u001b[0m\n\u001b[0;32m     42\u001b[0m     \u001b[1;32mdef\u001b[0m \u001b[0mfetch\u001b[0m\u001b[1;33m(\u001b[0m\u001b[0mself\u001b[0m\u001b[1;33m,\u001b[0m \u001b[0mpossibly_batched_index\u001b[0m\u001b[1;33m)\u001b[0m\u001b[1;33m:\u001b[0m\u001b[1;33m\u001b[0m\u001b[1;33m\u001b[0m\u001b[0m\n\u001b[0;32m     43\u001b[0m         \u001b[1;32mif\u001b[0m \u001b[0mself\u001b[0m\u001b[1;33m.\u001b[0m\u001b[0mauto_collation\u001b[0m\u001b[1;33m:\u001b[0m\u001b[1;33m\u001b[0m\u001b[1;33m\u001b[0m\u001b[0m\n\u001b[1;32m---> 44\u001b[1;33m             \u001b[0mdata\u001b[0m \u001b[1;33m=\u001b[0m \u001b[1;33m[\u001b[0m\u001b[0mself\u001b[0m\u001b[1;33m.\u001b[0m\u001b[0mdataset\u001b[0m\u001b[1;33m[\u001b[0m\u001b[0midx\u001b[0m\u001b[1;33m]\u001b[0m \u001b[1;32mfor\u001b[0m \u001b[0midx\u001b[0m \u001b[1;32min\u001b[0m \u001b[0mpossibly_batched_index\u001b[0m\u001b[1;33m]\u001b[0m\u001b[1;33m\u001b[0m\u001b[1;33m\u001b[0m\u001b[0m\n\u001b[0m\u001b[0;32m     45\u001b[0m         \u001b[1;32melse\u001b[0m\u001b[1;33m:\u001b[0m\u001b[1;33m\u001b[0m\u001b[1;33m\u001b[0m\u001b[0m\n\u001b[0;32m     46\u001b[0m             \u001b[0mdata\u001b[0m \u001b[1;33m=\u001b[0m \u001b[0mself\u001b[0m\u001b[1;33m.\u001b[0m\u001b[0mdataset\u001b[0m\u001b[1;33m[\u001b[0m\u001b[0mpossibly_batched_index\u001b[0m\u001b[1;33m]\u001b[0m\u001b[1;33m\u001b[0m\u001b[1;33m\u001b[0m\u001b[0m\n",
      "\u001b[1;32m<ipython-input-14-9174662bf1ee>\u001b[0m in \u001b[0;36m__getitem__\u001b[1;34m(self, idx)\u001b[0m\n\u001b[0;32m      9\u001b[0m     \u001b[1;32mdef\u001b[0m \u001b[0m__getitem__\u001b[0m\u001b[1;33m(\u001b[0m\u001b[0mself\u001b[0m\u001b[1;33m,\u001b[0m \u001b[0midx\u001b[0m\u001b[1;33m)\u001b[0m\u001b[1;33m:\u001b[0m\u001b[1;33m\u001b[0m\u001b[1;33m\u001b[0m\u001b[0m\n\u001b[0;32m     10\u001b[0m         \u001b[0mpath\u001b[0m \u001b[1;33m=\u001b[0m \u001b[0mself\u001b[0m\u001b[1;33m.\u001b[0m\u001b[0mdf\u001b[0m\u001b[1;33m.\u001b[0m\u001b[0miloc\u001b[0m\u001b[1;33m[\u001b[0m\u001b[0midx\u001b[0m\u001b[1;33m]\u001b[0m\u001b[1;33m[\u001b[0m\u001b[1;34m'file_path'\u001b[0m\u001b[1;33m]\u001b[0m\u001b[1;33m\u001b[0m\u001b[1;33m\u001b[0m\u001b[0m\n\u001b[1;32m---> 11\u001b[1;33m         \u001b[0mX\u001b[0m \u001b[1;33m=\u001b[0m \u001b[0mtorch\u001b[0m\u001b[1;33m.\u001b[0m\u001b[0mTensor\u001b[0m\u001b[1;33m(\u001b[0m\u001b[0mcv2\u001b[0m\u001b[1;33m.\u001b[0m\u001b[0mresize\u001b[0m\u001b[1;33m(\u001b[0m\u001b[0mcv2\u001b[0m\u001b[1;33m.\u001b[0m\u001b[0mimread\u001b[0m\u001b[1;33m(\u001b[0m\u001b[0mpath\u001b[0m\u001b[1;33m,\u001b[0m \u001b[0mcv2\u001b[0m\u001b[1;33m.\u001b[0m\u001b[0mIMREAD_GRAYSCALE\u001b[0m\u001b[1;33m)\u001b[0m\u001b[1;33m,\u001b[0m \u001b[1;33m(\u001b[0m\u001b[0mIMAGE_SIZE\u001b[0m\u001b[1;33m,\u001b[0m \u001b[0mIMAGE_SIZE\u001b[0m\u001b[1;33m)\u001b[0m\u001b[1;33m)\u001b[0m\u001b[1;33m)\u001b[0m\u001b[1;33m\u001b[0m\u001b[1;33m\u001b[0m\u001b[0m\n\u001b[0m\u001b[0;32m     12\u001b[0m         \u001b[0mbts_id\u001b[0m \u001b[1;33m=\u001b[0m \u001b[0mself\u001b[0m\u001b[1;33m.\u001b[0m\u001b[0mdf\u001b[0m\u001b[1;33m.\u001b[0m\u001b[0miloc\u001b[0m\u001b[1;33m[\u001b[0m\u001b[0midx\u001b[0m\u001b[1;33m]\u001b[0m\u001b[1;33m[\u001b[0m\u001b[1;34m'BraTS21ID'\u001b[0m\u001b[1;33m]\u001b[0m\u001b[1;33m\u001b[0m\u001b[1;33m\u001b[0m\u001b[0m\n\u001b[0;32m     13\u001b[0m \u001b[1;33m\u001b[0m\u001b[0m\n",
      "\u001b[1;31mKeyboardInterrupt\u001b[0m: "
     ]
    }
   ],
   "source": [
    "history = trainer.fit(train_loader = train_loader, \n",
    "                      each_valid_loader = each_valid_loader, \n",
    "                      id_valid_loader = id_valid_loader, \n",
    "                      df_label = df_label, \n",
    "                      nepoch=EPOCH_NUM)"
   ]
  },
  {
   "cell_type": "markdown",
   "metadata": {},
   "source": [
    "# Visualize Train Result"
   ]
  },
  {
   "cell_type": "code",
   "execution_count": null,
   "metadata": {
    "ExecuteTime": {
     "end_time": "2021-08-01T11:50:24.420745Z",
     "start_time": "2021-08-01T06:26:08.411Z"
    }
   },
   "outputs": [],
   "source": [
    "history = trainer.history\n",
    "fig, axes = plt.subplots(2,1,figsize = (16,10))\n",
    "\n",
    "axes[0].plot(history['train_loss'], label = 'train')\n",
    "axes[0].plot(history['valid_loss'], label = 'valid')\n",
    "axes[0].set_ylabel('Loss')\n",
    "\n",
    "axes[1].plot(history['train_roc'], label = 'train')\n",
    "axes[1].plot(history['valid_roc'], label = 'valid')\n",
    "axes[1].set_ylabel('Roc')"
   ]
  },
  {
   "cell_type": "markdown",
   "metadata": {},
   "source": [
    "# Load Model"
   ]
  },
  {
   "cell_type": "code",
   "execution_count": null,
   "metadata": {
    "ExecuteTime": {
     "end_time": "2021-08-01T11:50:24.421745Z",
     "start_time": "2021-08-01T06:26:08.431Z"
    }
   },
   "outputs": [],
   "source": [
    "trainer.load_model(\"./model-check-0.94879.pkl\")"
   ]
  },
  {
   "cell_type": "markdown",
   "metadata": {},
   "source": [
    "# Validate Model"
   ]
  },
  {
   "cell_type": "code",
   "execution_count": null,
   "metadata": {
    "ExecuteTime": {
     "end_time": "2021-08-01T11:50:24.423746Z",
     "start_time": "2021-08-01T06:26:08.451Z"
    }
   },
   "outputs": [],
   "source": [
    "result = trainer.test(id_valid_loader)\n",
    "\n",
    "valid_roc_true = trainer.result_to_roc(result, df_label)\n",
    "print(valid_roc_true)"
   ]
  },
  {
   "cell_type": "code",
   "execution_count": null,
   "metadata": {
    "ExecuteTime": {
     "end_time": "2021-08-01T11:50:24.424746Z",
     "start_time": "2021-08-01T06:26:08.453Z"
    }
   },
   "outputs": [],
   "source": [
    "df_label"
   ]
  },
  {
   "cell_type": "markdown",
   "metadata": {},
   "source": [
    "# Create Submission"
   ]
  },
  {
   "cell_type": "code",
   "execution_count": null,
   "metadata": {
    "ExecuteTime": {
     "end_time": "2021-08-01T11:50:24.426745Z",
     "start_time": "2021-08-01T06:26:08.474Z"
    }
   },
   "outputs": [],
   "source": [
    "result = trainer.test(test_loader)"
   ]
  },
  {
   "cell_type": "code",
   "execution_count": null,
   "metadata": {
    "ExecuteTime": {
     "end_time": "2021-08-01T11:50:24.428746Z",
     "start_time": "2021-08-01T06:26:08.475Z"
    }
   },
   "outputs": [],
   "source": [
    "result = {k:np.mean(v) for k, v in result.items()}\n",
    "\n",
    "for k, v in result.items():\n",
    "    df_submission.loc[df_submission['BraTS21ID'] == k, 'MGMT_value'] = v\n",
    "df_submission"
   ]
  },
  {
   "cell_type": "code",
   "execution_count": null,
   "metadata": {
    "ExecuteTime": {
     "end_time": "2021-08-01T11:50:24.430745Z",
     "start_time": "2021-08-01T06:26:08.476Z"
    }
   },
   "outputs": [],
   "source": [
    "df_submission.to_csv(\"submission.csv\", index = False)"
   ]
  }
 ],
 "metadata": {
  "hide_input": false,
  "kernelspec": {
   "display_name": "torch",
   "language": "python",
   "name": "torch"
  },
  "language_info": {
   "codemirror_mode": {
    "name": "ipython",
    "version": 3
   },
   "file_extension": ".py",
   "mimetype": "text/x-python",
   "name": "python",
   "nbconvert_exporter": "python",
   "pygments_lexer": "ipython3",
   "version": "3.6.12"
  },
  "latex_envs": {
   "LaTeX_envs_menu_present": true,
   "autoclose": false,
   "autocomplete": true,
   "bibliofile": "biblio.bib",
   "cite_by": "apalike",
   "current_citInitial": 1,
   "eqLabelWithNumbers": true,
   "eqNumInitial": 1,
   "hotkeys": {
    "equation": "Ctrl-E",
    "itemize": "Ctrl-I"
   },
   "labels_anchors": false,
   "latex_user_defs": false,
   "report_style_numbering": false,
   "user_envs_cfg": false
  },
  "toc": {
   "base_numbering": 1,
   "nav_menu": {},
   "number_sections": true,
   "sideBar": true,
   "skip_h1_title": false,
   "title_cell": "Table of Contents",
   "title_sidebar": "Contents",
   "toc_cell": false,
   "toc_position": {
    "height": "calc(100% - 180px)",
    "left": "10px",
    "top": "150px",
    "width": "384px"
   },
   "toc_section_display": true,
   "toc_window_display": true
  },
  "varInspector": {
   "cols": {
    "lenName": 16,
    "lenType": 16,
    "lenVar": 40
   },
   "kernels_config": {
    "python": {
     "delete_cmd_postfix": "",
     "delete_cmd_prefix": "del ",
     "library": "var_list.py",
     "varRefreshCmd": "print(var_dic_list())"
    },
    "r": {
     "delete_cmd_postfix": ") ",
     "delete_cmd_prefix": "rm(",
     "library": "var_list.r",
     "varRefreshCmd": "cat(var_dic_list()) "
    }
   },
   "types_to_exclude": [
    "module",
    "function",
    "builtin_function_or_method",
    "instance",
    "_Feature"
   ],
   "window_display": false
  }
 },
 "nbformat": 4,
 "nbformat_minor": 4
}
