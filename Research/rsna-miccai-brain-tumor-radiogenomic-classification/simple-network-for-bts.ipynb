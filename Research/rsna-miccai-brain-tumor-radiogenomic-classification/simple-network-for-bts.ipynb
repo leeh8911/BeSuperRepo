{
 "cells": [
  {
   "cell_type": "markdown",
   "metadata": {
    "_cell_guid": "b1076dfc-b9ad-4769-8c92-a6c4dae69d19",
    "_uuid": "8f2839f25d086af736a60e9eeb907d3b93b6e0e5"
   },
   "source": [
    "# Import Libraries "
   ]
  },
  {
   "cell_type": "code",
   "execution_count": 1,
   "metadata": {
    "execution": {
     "iopub.execute_input": "2021-07-31T14:08:42.391473Z",
     "iopub.status.busy": "2021-07-31T14:08:42.391072Z",
     "iopub.status.idle": "2021-07-31T14:08:43.164287Z",
     "shell.execute_reply": "2021-07-31T14:08:43.163487Z",
     "shell.execute_reply.started": "2021-07-31T14:08:42.391387Z"
    }
   },
   "outputs": [],
   "source": [
    "# https://www.kaggle.com/rluethy/efficientnet3d-with-one-mri-type\n",
    "import os\n",
    "import sys \n",
    "import json\n",
    "import glob\n",
    "import random\n",
    "import collections\n",
    "import time\n",
    "from pathlib import Path\n",
    "from tqdm.notebook import tqdm\n",
    "\n",
    "import numpy as np\n",
    "import pandas as pd\n",
    "import cv2\n",
    "import matplotlib.pyplot as plt\n",
    "import seaborn as sns\n",
    "\n",
    "import torch\n",
    "from torch import nn\n",
    "from torch.utils.data import Dataset, DataLoader\n",
    "from sklearn.model_selection import train_test_split\n",
    "import torch.nn.functional as F\n",
    "\n",
    "from sklearn.model_selection import StratifiedKFold\n",
    "from sklearn.metrics import roc_auc_score\n",
    "\n",
    "import warnings\n",
    "warnings.filterwarnings(\"ignore\")"
   ]
  },
  {
   "cell_type": "markdown",
   "metadata": {},
   "source": [
    "# System Constants"
   ]
  },
  {
   "cell_type": "code",
   "execution_count": 2,
   "metadata": {
    "execution": {
     "iopub.execute_input": "2021-07-31T14:08:43.166628Z",
     "iopub.status.busy": "2021-07-31T14:08:43.166251Z",
     "iopub.status.idle": "2021-07-31T14:08:43.171050Z",
     "shell.execute_reply": "2021-07-31T14:08:43.169973Z",
     "shell.execute_reply.started": "2021-07-31T14:08:43.166591Z"
    }
   },
   "outputs": [],
   "source": [
    "SCAN_TYPE = ('FLAIR', 'T1w', 'T1wCE', 'T2w')"
   ]
  },
  {
   "cell_type": "markdown",
   "metadata": {},
   "source": [
    "# Hyperparameters"
   ]
  },
  {
   "cell_type": "code",
   "execution_count": 3,
   "metadata": {
    "execution": {
     "iopub.execute_input": "2021-07-31T14:08:43.173183Z",
     "iopub.status.busy": "2021-07-31T14:08:43.172796Z",
     "iopub.status.idle": "2021-07-31T14:08:43.180607Z",
     "shell.execute_reply": "2021-07-31T14:08:43.179915Z",
     "shell.execute_reply.started": "2021-07-31T14:08:43.173146Z"
    }
   },
   "outputs": [],
   "source": [
    "SEED = 42\n",
    "\n",
    "IMAGE_SIZE = 512\n",
    "BATCH_SIZE = 32\n",
    "LEARNING_RATE = 5e-7\n",
    "EPOCH_NUM = 1000"
   ]
  },
  {
   "cell_type": "markdown",
   "metadata": {},
   "source": []
  },
  {
   "cell_type": "code",
   "execution_count": 4,
   "metadata": {
    "execution": {
     "iopub.execute_input": "2021-07-31T14:08:43.181822Z",
     "iopub.status.busy": "2021-07-31T14:08:43.181561Z",
     "iopub.status.idle": "2021-07-31T14:08:43.210626Z",
     "shell.execute_reply": "2021-07-31T14:08:43.209849Z",
     "shell.execute_reply.started": "2021-07-31T14:08:43.181798Z"
    }
   },
   "outputs": [],
   "source": [
    "def set_seed(seed):\n",
    "    random.seed(seed)\n",
    "    os.environ[\"PYTHONHASHSEED\"] = str(seed)\n",
    "    np.random.seed(seed)\n",
    "    torch.manual_seed(seed)\n",
    "    if torch.cuda.is_available():\n",
    "        torch.cuda.manual_seed_all(seed)\n",
    "        torch.backends.cudnn.deterministic = True\n",
    "\n",
    "set_seed(SEED)"
   ]
  },
  {
   "cell_type": "code",
   "execution_count": 5,
   "metadata": {
    "execution": {
     "iopub.execute_input": "2021-07-31T14:08:43.212629Z",
     "iopub.status.busy": "2021-07-31T14:08:43.212357Z",
     "iopub.status.idle": "2021-07-31T14:08:43.221238Z",
     "shell.execute_reply": "2021-07-31T14:08:43.220389Z",
     "shell.execute_reply.started": "2021-07-31T14:08:43.212605Z"
    }
   },
   "outputs": [
    {
     "data": {
      "text/plain": [
       "device(type='cuda')"
      ]
     },
     "execution_count": 5,
     "metadata": {},
     "output_type": "execute_result"
    }
   ],
   "source": [
    "device = torch.device( 'cuda' if torch.cuda.is_available() else 'cpu' )\n",
    "device"
   ]
  },
  {
   "cell_type": "code",
   "execution_count": 6,
   "metadata": {
    "execution": {
     "iopub.execute_input": "2021-07-31T14:08:43.223608Z",
     "iopub.status.busy": "2021-07-31T14:08:43.222896Z",
     "iopub.status.idle": "2021-07-31T14:08:43.228123Z",
     "shell.execute_reply": "2021-07-31T14:08:43.227179Z",
     "shell.execute_reply.started": "2021-07-31T14:08:43.223571Z"
    }
   },
   "outputs": [],
   "source": [
    "data_path = Path('E:\\datasets\\RSNA MICCAI PNG')\n",
    "label_path = Path('E:\\datasets\\rsna-miccai-brain-tumor-radiogenomic-classification')"
   ]
  },
  {
   "cell_type": "code",
   "execution_count": 7,
   "metadata": {
    "execution": {
     "iopub.execute_input": "2021-07-31T14:08:43.230407Z",
     "iopub.status.busy": "2021-07-31T14:08:43.229780Z",
     "iopub.status.idle": "2021-07-31T14:08:43.248971Z",
     "shell.execute_reply": "2021-07-31T14:08:43.248274Z",
     "shell.execute_reply.started": "2021-07-31T14:08:43.230354Z"
    }
   },
   "outputs": [
    {
     "name": "stdout",
     "output_type": "stream",
     "text": [
      "(585, 2)\n"
     ]
    },
    {
     "data": {
      "text/html": [
       "<div>\n",
       "<style scoped>\n",
       "    .dataframe tbody tr th:only-of-type {\n",
       "        vertical-align: middle;\n",
       "    }\n",
       "\n",
       "    .dataframe tbody tr th {\n",
       "        vertical-align: top;\n",
       "    }\n",
       "\n",
       "    .dataframe thead th {\n",
       "        text-align: right;\n",
       "    }\n",
       "</style>\n",
       "<table border=\"1\" class=\"dataframe\">\n",
       "  <thead>\n",
       "    <tr style=\"text-align: right;\">\n",
       "      <th></th>\n",
       "      <th>BraTS21ID</th>\n",
       "      <th>MGMT_value</th>\n",
       "    </tr>\n",
       "  </thead>\n",
       "  <tbody>\n",
       "    <tr>\n",
       "      <th>0</th>\n",
       "      <td>0</td>\n",
       "      <td>1</td>\n",
       "    </tr>\n",
       "    <tr>\n",
       "      <th>1</th>\n",
       "      <td>2</td>\n",
       "      <td>1</td>\n",
       "    </tr>\n",
       "    <tr>\n",
       "      <th>2</th>\n",
       "      <td>3</td>\n",
       "      <td>0</td>\n",
       "    </tr>\n",
       "    <tr>\n",
       "      <th>3</th>\n",
       "      <td>5</td>\n",
       "      <td>1</td>\n",
       "    </tr>\n",
       "    <tr>\n",
       "      <th>4</th>\n",
       "      <td>6</td>\n",
       "      <td>1</td>\n",
       "    </tr>\n",
       "  </tbody>\n",
       "</table>\n",
       "</div>"
      ],
      "text/plain": [
       "   BraTS21ID  MGMT_value\n",
       "0          0           1\n",
       "1          2           1\n",
       "2          3           0\n",
       "3          5           1\n",
       "4          6           1"
      ]
     },
     "execution_count": 7,
     "metadata": {},
     "output_type": "execute_result"
    }
   ],
   "source": [
    "df_label = pd.read_csv(str(label_path / \"train_labels.csv\"))\n",
    "\n",
    "print(df_label.shape)\n",
    "df_label.head()"
   ]
  },
  {
   "cell_type": "code",
   "execution_count": 8,
   "metadata": {
    "execution": {
     "iopub.execute_input": "2021-07-31T14:08:43.252069Z",
     "iopub.status.busy": "2021-07-31T14:08:43.251817Z",
     "iopub.status.idle": "2021-07-31T14:08:43.267049Z",
     "shell.execute_reply": "2021-07-31T14:08:43.266181Z",
     "shell.execute_reply.started": "2021-07-31T14:08:43.252044Z"
    }
   },
   "outputs": [
    {
     "name": "stdout",
     "output_type": "stream",
     "text": [
      "(87, 2)\n"
     ]
    },
    {
     "data": {
      "text/html": [
       "<div>\n",
       "<style scoped>\n",
       "    .dataframe tbody tr th:only-of-type {\n",
       "        vertical-align: middle;\n",
       "    }\n",
       "\n",
       "    .dataframe tbody tr th {\n",
       "        vertical-align: top;\n",
       "    }\n",
       "\n",
       "    .dataframe thead th {\n",
       "        text-align: right;\n",
       "    }\n",
       "</style>\n",
       "<table border=\"1\" class=\"dataframe\">\n",
       "  <thead>\n",
       "    <tr style=\"text-align: right;\">\n",
       "      <th></th>\n",
       "      <th>BraTS21ID</th>\n",
       "      <th>MGMT_value</th>\n",
       "    </tr>\n",
       "  </thead>\n",
       "  <tbody>\n",
       "    <tr>\n",
       "      <th>0</th>\n",
       "      <td>1</td>\n",
       "      <td>0.5</td>\n",
       "    </tr>\n",
       "    <tr>\n",
       "      <th>1</th>\n",
       "      <td>13</td>\n",
       "      <td>0.5</td>\n",
       "    </tr>\n",
       "    <tr>\n",
       "      <th>2</th>\n",
       "      <td>15</td>\n",
       "      <td>0.5</td>\n",
       "    </tr>\n",
       "    <tr>\n",
       "      <th>3</th>\n",
       "      <td>27</td>\n",
       "      <td>0.5</td>\n",
       "    </tr>\n",
       "    <tr>\n",
       "      <th>4</th>\n",
       "      <td>37</td>\n",
       "      <td>0.5</td>\n",
       "    </tr>\n",
       "  </tbody>\n",
       "</table>\n",
       "</div>"
      ],
      "text/plain": [
       "   BraTS21ID  MGMT_value\n",
       "0          1         0.5\n",
       "1         13         0.5\n",
       "2         15         0.5\n",
       "3         27         0.5\n",
       "4         37         0.5"
      ]
     },
     "execution_count": 8,
     "metadata": {},
     "output_type": "execute_result"
    }
   ],
   "source": [
    "df_submission = pd.read_csv(str(label_path / \"sample_submission.csv\"))\n",
    "\n",
    "print(df_submission.shape)\n",
    "df_submission.head()"
   ]
  },
  {
   "cell_type": "code",
   "execution_count": 9,
   "metadata": {
    "execution": {
     "iopub.execute_input": "2021-07-31T14:08:43.269439Z",
     "iopub.status.busy": "2021-07-31T14:08:43.269092Z",
     "iopub.status.idle": "2021-07-31T14:08:43.415502Z",
     "shell.execute_reply": "2021-07-31T14:08:43.414645Z",
     "shell.execute_reply.started": "2021-07-31T14:08:43.269402Z"
    }
   },
   "outputs": [],
   "source": [
    "trainval_path_list = glob.glob(str(data_path / \"train\" / '*'))\n",
    "train_path_list, valid_path_list = train_test_split(trainval_path_list, test_size = 0.1)\n",
    "\n",
    "test_path_list = glob.glob(str(data_path / \"test\" / '*' / SCAN_TYPE[0] / '*.png'))"
   ]
  },
  {
   "cell_type": "code",
   "execution_count": 10,
   "metadata": {
    "execution": {
     "iopub.execute_input": "2021-07-31T14:08:43.418971Z",
     "iopub.status.busy": "2021-07-31T14:08:43.418708Z",
     "iopub.status.idle": "2021-07-31T14:08:44.066702Z",
     "shell.execute_reply": "2021-07-31T14:08:44.065818Z",
     "shell.execute_reply.started": "2021-07-31T14:08:43.418938Z"
    }
   },
   "outputs": [],
   "source": [
    "path_list = []\n",
    "for path in train_path_list:\n",
    "    path_list += glob.glob(str(Path(path) / SCAN_TYPE[0] / '*.png'))\n",
    "train_path_list = path_list\n",
    "\n",
    "path_list = []\n",
    "for path in valid_path_list:\n",
    "    path_list += glob.glob(str(Path(path) / SCAN_TYPE[0] / '*.png'))\n",
    "valid_path_list = path_list"
   ]
  },
  {
   "cell_type": "code",
   "execution_count": 11,
   "metadata": {
    "execution": {
     "iopub.execute_input": "2021-07-31T14:08:44.070257Z",
     "iopub.status.busy": "2021-07-31T14:08:44.069977Z",
     "iopub.status.idle": "2021-07-31T14:09:00.592528Z",
     "shell.execute_reply": "2021-07-31T14:09:00.591724Z",
     "shell.execute_reply.started": "2021-07-31T14:08:44.070228Z"
    }
   },
   "outputs": [
    {
     "data": {
      "text/html": [
       "<div>\n",
       "<style scoped>\n",
       "    .dataframe tbody tr th:only-of-type {\n",
       "        vertical-align: middle;\n",
       "    }\n",
       "\n",
       "    .dataframe tbody tr th {\n",
       "        vertical-align: top;\n",
       "    }\n",
       "\n",
       "    .dataframe thead th {\n",
       "        text-align: right;\n",
       "    }\n",
       "</style>\n",
       "<table border=\"1\" class=\"dataframe\">\n",
       "  <thead>\n",
       "    <tr style=\"text-align: right;\">\n",
       "      <th></th>\n",
       "      <th>file_path</th>\n",
       "      <th>BraTS21ID</th>\n",
       "      <th>MGMT_value</th>\n",
       "    </tr>\n",
       "  </thead>\n",
       "  <tbody>\n",
       "    <tr>\n",
       "      <th>0</th>\n",
       "      <td>../input/rsna-miccai-png/train/00194/FLAIR/Ima...</td>\n",
       "      <td>194</td>\n",
       "      <td>0</td>\n",
       "    </tr>\n",
       "    <tr>\n",
       "      <th>1</th>\n",
       "      <td>../input/rsna-miccai-png/train/00194/FLAIR/Ima...</td>\n",
       "      <td>194</td>\n",
       "      <td>0</td>\n",
       "    </tr>\n",
       "    <tr>\n",
       "      <th>2</th>\n",
       "      <td>../input/rsna-miccai-png/train/00194/FLAIR/Ima...</td>\n",
       "      <td>194</td>\n",
       "      <td>0</td>\n",
       "    </tr>\n",
       "    <tr>\n",
       "      <th>3</th>\n",
       "      <td>../input/rsna-miccai-png/train/00194/FLAIR/Ima...</td>\n",
       "      <td>194</td>\n",
       "      <td>0</td>\n",
       "    </tr>\n",
       "    <tr>\n",
       "      <th>4</th>\n",
       "      <td>../input/rsna-miccai-png/train/00194/FLAIR/Ima...</td>\n",
       "      <td>194</td>\n",
       "      <td>0</td>\n",
       "    </tr>\n",
       "    <tr>\n",
       "      <th>...</th>\n",
       "      <td>...</td>\n",
       "      <td>...</td>\n",
       "      <td>...</td>\n",
       "    </tr>\n",
       "    <tr>\n",
       "      <th>48535</th>\n",
       "      <td>../input/rsna-miccai-png/train/00658/FLAIR/Ima...</td>\n",
       "      <td>658</td>\n",
       "      <td>1</td>\n",
       "    </tr>\n",
       "    <tr>\n",
       "      <th>48536</th>\n",
       "      <td>../input/rsna-miccai-png/train/00658/FLAIR/Ima...</td>\n",
       "      <td>658</td>\n",
       "      <td>1</td>\n",
       "    </tr>\n",
       "    <tr>\n",
       "      <th>48537</th>\n",
       "      <td>../input/rsna-miccai-png/train/00658/FLAIR/Ima...</td>\n",
       "      <td>658</td>\n",
       "      <td>1</td>\n",
       "    </tr>\n",
       "    <tr>\n",
       "      <th>48538</th>\n",
       "      <td>../input/rsna-miccai-png/train/00658/FLAIR/Ima...</td>\n",
       "      <td>658</td>\n",
       "      <td>1</td>\n",
       "    </tr>\n",
       "    <tr>\n",
       "      <th>48539</th>\n",
       "      <td>../input/rsna-miccai-png/train/00658/FLAIR/Ima...</td>\n",
       "      <td>658</td>\n",
       "      <td>1</td>\n",
       "    </tr>\n",
       "  </tbody>\n",
       "</table>\n",
       "<p>48540 rows × 3 columns</p>\n",
       "</div>"
      ],
      "text/plain": [
       "                                               file_path  BraTS21ID  \\\n",
       "0      ../input/rsna-miccai-png/train/00194/FLAIR/Ima...        194   \n",
       "1      ../input/rsna-miccai-png/train/00194/FLAIR/Ima...        194   \n",
       "2      ../input/rsna-miccai-png/train/00194/FLAIR/Ima...        194   \n",
       "3      ../input/rsna-miccai-png/train/00194/FLAIR/Ima...        194   \n",
       "4      ../input/rsna-miccai-png/train/00194/FLAIR/Ima...        194   \n",
       "...                                                  ...        ...   \n",
       "48535  ../input/rsna-miccai-png/train/00658/FLAIR/Ima...        658   \n",
       "48536  ../input/rsna-miccai-png/train/00658/FLAIR/Ima...        658   \n",
       "48537  ../input/rsna-miccai-png/train/00658/FLAIR/Ima...        658   \n",
       "48538  ../input/rsna-miccai-png/train/00658/FLAIR/Ima...        658   \n",
       "48539  ../input/rsna-miccai-png/train/00658/FLAIR/Ima...        658   \n",
       "\n",
       "       MGMT_value  \n",
       "0               0  \n",
       "1               0  \n",
       "2               0  \n",
       "3               0  \n",
       "4               0  \n",
       "...           ...  \n",
       "48535           1  \n",
       "48536           1  \n",
       "48537           1  \n",
       "48538           1  \n",
       "48539           1  \n",
       "\n",
       "[48540 rows x 3 columns]"
      ]
     },
     "execution_count": 11,
     "metadata": {},
     "output_type": "execute_result"
    }
   ],
   "source": [
    "df_train = pd.DataFrame(train_path_list, columns = ['file_path'])\n",
    "\n",
    "df_train['BraTS21ID'] = df_train.apply(lambda x: int(x['file_path'].split(os.path.sep)[-3]), axis = 1)\n",
    "\n",
    "df_train['MGMT_value'] = df_train.apply(lambda x: df_label.loc[df_label['BraTS21ID'] == x['BraTS21ID'], 'MGMT_value'].values, axis = 1).astype(int)\n",
    "\n",
    "df_train"
   ]
  },
  {
   "cell_type": "code",
   "execution_count": 12,
   "metadata": {
    "execution": {
     "iopub.execute_input": "2021-07-31T14:09:00.594174Z",
     "iopub.status.busy": "2021-07-31T14:09:00.593826Z",
     "iopub.status.idle": "2021-07-31T14:09:02.513160Z",
     "shell.execute_reply": "2021-07-31T14:09:02.512167Z",
     "shell.execute_reply.started": "2021-07-31T14:09:00.594137Z"
    }
   },
   "outputs": [
    {
     "data": {
      "text/html": [
       "<div>\n",
       "<style scoped>\n",
       "    .dataframe tbody tr th:only-of-type {\n",
       "        vertical-align: middle;\n",
       "    }\n",
       "\n",
       "    .dataframe tbody tr th {\n",
       "        vertical-align: top;\n",
       "    }\n",
       "\n",
       "    .dataframe thead th {\n",
       "        text-align: right;\n",
       "    }\n",
       "</style>\n",
       "<table border=\"1\" class=\"dataframe\">\n",
       "  <thead>\n",
       "    <tr style=\"text-align: right;\">\n",
       "      <th></th>\n",
       "      <th>file_path</th>\n",
       "      <th>BraTS21ID</th>\n",
       "      <th>MGMT_value</th>\n",
       "    </tr>\n",
       "  </thead>\n",
       "  <tbody>\n",
       "    <tr>\n",
       "      <th>0</th>\n",
       "      <td>../input/rsna-miccai-png/train/00840/FLAIR/Ima...</td>\n",
       "      <td>840</td>\n",
       "      <td>1</td>\n",
       "    </tr>\n",
       "    <tr>\n",
       "      <th>1</th>\n",
       "      <td>../input/rsna-miccai-png/train/00840/FLAIR/Ima...</td>\n",
       "      <td>840</td>\n",
       "      <td>1</td>\n",
       "    </tr>\n",
       "    <tr>\n",
       "      <th>2</th>\n",
       "      <td>../input/rsna-miccai-png/train/00840/FLAIR/Ima...</td>\n",
       "      <td>840</td>\n",
       "      <td>1</td>\n",
       "    </tr>\n",
       "    <tr>\n",
       "      <th>3</th>\n",
       "      <td>../input/rsna-miccai-png/train/00840/FLAIR/Ima...</td>\n",
       "      <td>840</td>\n",
       "      <td>1</td>\n",
       "    </tr>\n",
       "    <tr>\n",
       "      <th>4</th>\n",
       "      <td>../input/rsna-miccai-png/train/00840/FLAIR/Ima...</td>\n",
       "      <td>840</td>\n",
       "      <td>1</td>\n",
       "    </tr>\n",
       "    <tr>\n",
       "      <th>...</th>\n",
       "      <td>...</td>\n",
       "      <td>...</td>\n",
       "      <td>...</td>\n",
       "    </tr>\n",
       "    <tr>\n",
       "      <th>5137</th>\n",
       "      <td>../input/rsna-miccai-png/train/00739/FLAIR/Ima...</td>\n",
       "      <td>739</td>\n",
       "      <td>1</td>\n",
       "    </tr>\n",
       "    <tr>\n",
       "      <th>5138</th>\n",
       "      <td>../input/rsna-miccai-png/train/00739/FLAIR/Ima...</td>\n",
       "      <td>739</td>\n",
       "      <td>1</td>\n",
       "    </tr>\n",
       "    <tr>\n",
       "      <th>5139</th>\n",
       "      <td>../input/rsna-miccai-png/train/00739/FLAIR/Ima...</td>\n",
       "      <td>739</td>\n",
       "      <td>1</td>\n",
       "    </tr>\n",
       "    <tr>\n",
       "      <th>5140</th>\n",
       "      <td>../input/rsna-miccai-png/train/00739/FLAIR/Ima...</td>\n",
       "      <td>739</td>\n",
       "      <td>1</td>\n",
       "    </tr>\n",
       "    <tr>\n",
       "      <th>5141</th>\n",
       "      <td>../input/rsna-miccai-png/train/00739/FLAIR/Ima...</td>\n",
       "      <td>739</td>\n",
       "      <td>1</td>\n",
       "    </tr>\n",
       "  </tbody>\n",
       "</table>\n",
       "<p>5142 rows × 3 columns</p>\n",
       "</div>"
      ],
      "text/plain": [
       "                                              file_path  BraTS21ID  MGMT_value\n",
       "0     ../input/rsna-miccai-png/train/00840/FLAIR/Ima...        840           1\n",
       "1     ../input/rsna-miccai-png/train/00840/FLAIR/Ima...        840           1\n",
       "2     ../input/rsna-miccai-png/train/00840/FLAIR/Ima...        840           1\n",
       "3     ../input/rsna-miccai-png/train/00840/FLAIR/Ima...        840           1\n",
       "4     ../input/rsna-miccai-png/train/00840/FLAIR/Ima...        840           1\n",
       "...                                                 ...        ...         ...\n",
       "5137  ../input/rsna-miccai-png/train/00739/FLAIR/Ima...        739           1\n",
       "5138  ../input/rsna-miccai-png/train/00739/FLAIR/Ima...        739           1\n",
       "5139  ../input/rsna-miccai-png/train/00739/FLAIR/Ima...        739           1\n",
       "5140  ../input/rsna-miccai-png/train/00739/FLAIR/Ima...        739           1\n",
       "5141  ../input/rsna-miccai-png/train/00739/FLAIR/Ima...        739           1\n",
       "\n",
       "[5142 rows x 3 columns]"
      ]
     },
     "execution_count": 12,
     "metadata": {},
     "output_type": "execute_result"
    }
   ],
   "source": [
    "df_valid = pd.DataFrame(valid_path_list, columns = ['file_path'])\n",
    "\n",
    "df_valid['BraTS21ID'] = df_valid.apply(lambda x: int(x['file_path'].split(os.path.sep)[-3]), axis = 1)\n",
    "\n",
    "df_valid['MGMT_value'] = df_valid.apply(lambda x: df_label.loc[df_label['BraTS21ID'] == x['BraTS21ID'], 'MGMT_value'].values, axis = 1).astype(int)\n",
    "\n",
    "df_valid"
   ]
  },
  {
   "cell_type": "code",
   "execution_count": 13,
   "metadata": {
    "execution": {
     "iopub.execute_input": "2021-07-31T14:09:02.515463Z",
     "iopub.status.busy": "2021-07-31T14:09:02.514800Z",
     "iopub.status.idle": "2021-07-31T14:09:02.683492Z",
     "shell.execute_reply": "2021-07-31T14:09:02.682497Z",
     "shell.execute_reply.started": "2021-07-31T14:09:02.515419Z"
    }
   },
   "outputs": [
    {
     "data": {
      "text/html": [
       "<div>\n",
       "<style scoped>\n",
       "    .dataframe tbody tr th:only-of-type {\n",
       "        vertical-align: middle;\n",
       "    }\n",
       "\n",
       "    .dataframe tbody tr th {\n",
       "        vertical-align: top;\n",
       "    }\n",
       "\n",
       "    .dataframe thead th {\n",
       "        text-align: right;\n",
       "    }\n",
       "</style>\n",
       "<table border=\"1\" class=\"dataframe\">\n",
       "  <thead>\n",
       "    <tr style=\"text-align: right;\">\n",
       "      <th></th>\n",
       "      <th>file_path</th>\n",
       "      <th>BraTS21ID</th>\n",
       "    </tr>\n",
       "  </thead>\n",
       "  <tbody>\n",
       "    <tr>\n",
       "      <th>0</th>\n",
       "      <td>../input/rsna-miccai-png/test/00114/FLAIR/Imag...</td>\n",
       "      <td>114</td>\n",
       "    </tr>\n",
       "    <tr>\n",
       "      <th>1</th>\n",
       "      <td>../input/rsna-miccai-png/test/00114/FLAIR/Imag...</td>\n",
       "      <td>114</td>\n",
       "    </tr>\n",
       "    <tr>\n",
       "      <th>2</th>\n",
       "      <td>../input/rsna-miccai-png/test/00114/FLAIR/Imag...</td>\n",
       "      <td>114</td>\n",
       "    </tr>\n",
       "    <tr>\n",
       "      <th>3</th>\n",
       "      <td>../input/rsna-miccai-png/test/00114/FLAIR/Imag...</td>\n",
       "      <td>114</td>\n",
       "    </tr>\n",
       "    <tr>\n",
       "      <th>4</th>\n",
       "      <td>../input/rsna-miccai-png/test/00114/FLAIR/Imag...</td>\n",
       "      <td>114</td>\n",
       "    </tr>\n",
       "    <tr>\n",
       "      <th>...</th>\n",
       "      <td>...</td>\n",
       "      <td>...</td>\n",
       "    </tr>\n",
       "    <tr>\n",
       "      <th>7921</th>\n",
       "      <td>../input/rsna-miccai-png/test/00182/FLAIR/Imag...</td>\n",
       "      <td>182</td>\n",
       "    </tr>\n",
       "    <tr>\n",
       "      <th>7922</th>\n",
       "      <td>../input/rsna-miccai-png/test/00182/FLAIR/Imag...</td>\n",
       "      <td>182</td>\n",
       "    </tr>\n",
       "    <tr>\n",
       "      <th>7923</th>\n",
       "      <td>../input/rsna-miccai-png/test/00182/FLAIR/Imag...</td>\n",
       "      <td>182</td>\n",
       "    </tr>\n",
       "    <tr>\n",
       "      <th>7924</th>\n",
       "      <td>../input/rsna-miccai-png/test/00182/FLAIR/Imag...</td>\n",
       "      <td>182</td>\n",
       "    </tr>\n",
       "    <tr>\n",
       "      <th>7925</th>\n",
       "      <td>../input/rsna-miccai-png/test/00182/FLAIR/Imag...</td>\n",
       "      <td>182</td>\n",
       "    </tr>\n",
       "  </tbody>\n",
       "</table>\n",
       "<p>7926 rows × 2 columns</p>\n",
       "</div>"
      ],
      "text/plain": [
       "                                              file_path  BraTS21ID\n",
       "0     ../input/rsna-miccai-png/test/00114/FLAIR/Imag...        114\n",
       "1     ../input/rsna-miccai-png/test/00114/FLAIR/Imag...        114\n",
       "2     ../input/rsna-miccai-png/test/00114/FLAIR/Imag...        114\n",
       "3     ../input/rsna-miccai-png/test/00114/FLAIR/Imag...        114\n",
       "4     ../input/rsna-miccai-png/test/00114/FLAIR/Imag...        114\n",
       "...                                                 ...        ...\n",
       "7921  ../input/rsna-miccai-png/test/00182/FLAIR/Imag...        182\n",
       "7922  ../input/rsna-miccai-png/test/00182/FLAIR/Imag...        182\n",
       "7923  ../input/rsna-miccai-png/test/00182/FLAIR/Imag...        182\n",
       "7924  ../input/rsna-miccai-png/test/00182/FLAIR/Imag...        182\n",
       "7925  ../input/rsna-miccai-png/test/00182/FLAIR/Imag...        182\n",
       "\n",
       "[7926 rows x 2 columns]"
      ]
     },
     "execution_count": 13,
     "metadata": {},
     "output_type": "execute_result"
    }
   ],
   "source": [
    "df_test = pd.DataFrame(test_path_list, columns = ['file_path'])\n",
    "\n",
    "df_test['BraTS21ID'] = df_test.apply(lambda x: int(x['file_path'].split(os.path.sep)[-3]), axis = 1)\n",
    "\n",
    "df_test"
   ]
  },
  {
   "cell_type": "code",
   "execution_count": 14,
   "metadata": {
    "execution": {
     "iopub.execute_input": "2021-07-31T14:09:02.687577Z",
     "iopub.status.busy": "2021-07-31T14:09:02.687212Z",
     "iopub.status.idle": "2021-07-31T14:09:02.699519Z",
     "shell.execute_reply": "2021-07-31T14:09:02.698378Z",
     "shell.execute_reply.started": "2021-07-31T14:09:02.687540Z"
    }
   },
   "outputs": [],
   "source": [
    "class CustomDataset(Dataset):\n",
    "    def __init__(self, df, is_train = False):\n",
    "        self.df = df\n",
    "        self.is_train = is_train\n",
    "        \n",
    "    def __len__(self):\n",
    "        return self.df.shape[0]\n",
    "    \n",
    "    def __getitem__(self, idx):\n",
    "        path = self.df.iloc[idx]['file_path']\n",
    "        X = torch.Tensor(cv2.resize(cv2.imread(path, cv2.IMREAD_GRAYSCALE), (IMAGE_SIZE, IMAGE_SIZE)))\n",
    "        bts_id = self.df.iloc[idx]['BraTS21ID']\n",
    "        \n",
    "        if self.is_train:\n",
    "            y = self.df.iloc[idx]['MGMT_value']\n",
    "            return X, y, bts_id\n",
    "        else:\n",
    "            return X, bts_id\n",
    "        "
   ]
  },
  {
   "cell_type": "code",
   "execution_count": 15,
   "metadata": {
    "execution": {
     "iopub.execute_input": "2021-07-31T14:09:02.703934Z",
     "iopub.status.busy": "2021-07-31T14:09:02.703572Z",
     "iopub.status.idle": "2021-07-31T14:09:02.712859Z",
     "shell.execute_reply": "2021-07-31T14:09:02.711820Z",
     "shell.execute_reply.started": "2021-07-31T14:09:02.703899Z"
    }
   },
   "outputs": [],
   "source": [
    "train_dataset = CustomDataset(df_train, is_train = True)\n",
    "train_loader = DataLoader(train_dataset, batch_size = BATCH_SIZE, shuffle = True)"
   ]
  },
  {
   "cell_type": "code",
   "execution_count": 16,
   "metadata": {
    "execution": {
     "iopub.execute_input": "2021-07-31T14:09:02.717945Z",
     "iopub.status.busy": "2021-07-31T14:09:02.716346Z",
     "iopub.status.idle": "2021-07-31T14:09:02.726689Z",
     "shell.execute_reply": "2021-07-31T14:09:02.725789Z",
     "shell.execute_reply.started": "2021-07-31T14:09:02.717902Z"
    }
   },
   "outputs": [],
   "source": [
    "each_valid_dataset = CustomDataset(df_valid, is_train = True)\n",
    "each_valid_loader = DataLoader(each_valid_dataset, batch_size = BATCH_SIZE)\n",
    "\n",
    "id_valid_dataset = CustomDataset(df_valid, is_train = False)\n",
    "id_valid_loader = DataLoader(id_valid_dataset, batch_size = BATCH_SIZE)"
   ]
  },
  {
   "cell_type": "code",
   "execution_count": 17,
   "metadata": {
    "execution": {
     "iopub.execute_input": "2021-07-31T14:09:02.733789Z",
     "iopub.status.busy": "2021-07-31T14:09:02.730515Z",
     "iopub.status.idle": "2021-07-31T14:09:02.739990Z",
     "shell.execute_reply": "2021-07-31T14:09:02.739080Z",
     "shell.execute_reply.started": "2021-07-31T14:09:02.731882Z"
    }
   },
   "outputs": [],
   "source": [
    "test_dataset = CustomDataset(df_test, is_train = False)\n",
    "test_loader = DataLoader(test_dataset, batch_size = BATCH_SIZE)"
   ]
  },
  {
   "cell_type": "code",
   "execution_count": 18,
   "metadata": {
    "execution": {
     "iopub.execute_input": "2021-07-31T14:09:02.744008Z",
     "iopub.status.busy": "2021-07-31T14:09:02.742954Z",
     "iopub.status.idle": "2021-07-31T14:09:02.780659Z",
     "shell.execute_reply": "2021-07-31T14:09:02.779753Z",
     "shell.execute_reply.started": "2021-07-31T14:09:02.743969Z"
    }
   },
   "outputs": [],
   "source": [
    "class SimpleModel(nn.Module):\n",
    "    def __init__(self):\n",
    "        super().__init__()\n",
    "        kernel_size = 3\n",
    "        padding_size = kernel_size//2\n",
    "        \n",
    "        self.conv1 = nn.Sequential(nn.Conv2d(1, 1, kernel_size = kernel_size, padding = padding_size, bias = False),\n",
    "                                 nn.BatchNorm2d(1),\n",
    "                                 nn.ReLU(inplace = False))\n",
    "        \n",
    "        self.conv2 = nn.Sequential(nn.Conv2d(1, 1, kernel_size = kernel_size, padding = padding_size, bias = False),\n",
    "                                 nn.BatchNorm2d(1),\n",
    "                                 nn.ReLU(inplace = False))\n",
    "        \n",
    "        self.conv3 = nn.Sequential(nn.Conv2d(1, 1, kernel_size = kernel_size, padding = padding_size, bias = False),\n",
    "                                 nn.BatchNorm2d(1),\n",
    "                                 nn.ReLU(inplace = False))\n",
    "        \n",
    "        self.conv4 = nn.Sequential(nn.Conv2d(1, 1, kernel_size = kernel_size, padding = padding_size, bias = False),\n",
    "                                 nn.BatchNorm2d(1),\n",
    "                                 nn.ReLU(inplace = False))\n",
    "        \n",
    "        self.conv5 = nn.Sequential(nn.Conv2d(1, 1, kernel_size = kernel_size, padding = padding_size, bias = False),\n",
    "                                 nn.BatchNorm2d(1),\n",
    "                                 nn.ReLU(inplace = False))\n",
    "        \n",
    "        self.conv6 = nn.Sequential(nn.Conv2d(1, 1, kernel_size = kernel_size, padding = padding_size, bias = False),\n",
    "                                 nn.BatchNorm2d(1),\n",
    "                                 nn.ReLU(inplace = False))\n",
    "        \n",
    "        self.conv7 = nn.Sequential(nn.Conv2d(1, 1, kernel_size = kernel_size, padding = padding_size, bias = False),\n",
    "                                 nn.BatchNorm2d(1),\n",
    "                                 nn.ReLU(inplace = False))\n",
    "        \n",
    "        self.conv8 = nn.Sequential(nn.Conv2d(1, 1, kernel_size = kernel_size, padding = padding_size, bias = False),\n",
    "                                 nn.BatchNorm2d(1),\n",
    "                                 nn.ReLU(inplace = False))\n",
    "        \n",
    "        self.conv9 = nn.Sequential(nn.Conv2d(1, 1, kernel_size = kernel_size, padding = padding_size, bias = False),\n",
    "                                 nn.BatchNorm2d(1),\n",
    "                                 nn.ReLU(inplace = False))\n",
    "        \n",
    "        self.conv10 = nn.Sequential(nn.Conv2d(1, 1, kernel_size = kernel_size, padding = padding_size, bias = False),\n",
    "                                 nn.BatchNorm2d(1),\n",
    "                                 nn.ReLU(inplace = False))\n",
    "        \n",
    "        self.conv11 = nn.Sequential(nn.Conv2d(1, 1, kernel_size = kernel_size, padding = padding_size, bias = False),\n",
    "                                 nn.BatchNorm2d(1),\n",
    "                                 nn.ReLU(inplace = False))\n",
    "        \n",
    "        self.conv12 = nn.Sequential(nn.Conv2d(1, 1, kernel_size = kernel_size, padding = padding_size, bias = False),\n",
    "                                 nn.BatchNorm2d(1),\n",
    "                                 nn.ReLU(inplace = False))\n",
    "        \n",
    "        self.fc1 = nn.Linear(IMAGE_SIZE * IMAGE_SIZE, 1024)\n",
    "        self.fc2 = nn.Linear(1024, 512)\n",
    "        self.fc3 = nn.Linear(512, 256)\n",
    "        self.fc4 = nn.Linear(256, 128)\n",
    "        self.fc_out = nn.Linear(128, 1)\n",
    "        self.act = nn.Sigmoid()\n",
    "        \n",
    "        self.dropout60 = nn.Dropout(0.6)\n",
    "        self.dropout30 = nn.Dropout(0.3)\n",
    "        \n",
    "        \n",
    "    def forward(self, x):\n",
    "        x = x.unsqueeze(1)\n",
    "        \n",
    "        skip = x\n",
    "        x = self.conv1(x)\n",
    "        x += skip\n",
    "        \n",
    "        skip = x\n",
    "        x = self.conv2(x)\n",
    "        x += skip\n",
    "        \n",
    "        skip = x\n",
    "        x = self.conv3(x)\n",
    "        x += skip\n",
    "        \n",
    "        skip = x\n",
    "        x = self.conv4(x)\n",
    "        x += skip\n",
    "        \n",
    "        skip = x\n",
    "        x = self.conv5(x)\n",
    "        x += skip\n",
    "        \n",
    "        skip = x\n",
    "        x = self.conv6(x)\n",
    "        x += skip\n",
    "        \n",
    "        skip = x\n",
    "        x = self.conv7(x)\n",
    "        x += skip\n",
    "        \n",
    "        skip = x\n",
    "        x = self.conv8(x)\n",
    "        x += skip\n",
    "        \n",
    "        skip = x\n",
    "        x = self.conv9(x)\n",
    "        x += skip\n",
    "        \n",
    "        skip = x\n",
    "        x = self.conv10(x)\n",
    "        x += skip\n",
    "        \n",
    "        skip = x\n",
    "        x = self.conv11(x)\n",
    "        x += skip\n",
    "        \n",
    "        skip = x\n",
    "        x = self.conv12(x)\n",
    "        x += skip\n",
    "        \n",
    "        x = x.reshape(-1, IMAGE_SIZE * IMAGE_SIZE)\n",
    "        x = F.relu(self.fc1(x))\n",
    "        x = self.dropout60(x)\n",
    "        x = F.relu(self.fc2(x))\n",
    "        x = self.dropout60(x)\n",
    "        x = F.relu(self.fc3(x))\n",
    "        x = self.dropout60(x)\n",
    "        x = F.relu(self.fc4(x))\n",
    "        x = self.dropout30(x)\n",
    "        x = self.act(self.fc_out(x))\n",
    "        return x        "
   ]
  },
  {
   "cell_type": "code",
   "execution_count": 19,
   "metadata": {
    "execution": {
     "iopub.execute_input": "2021-07-31T14:09:02.786785Z",
     "iopub.status.busy": "2021-07-31T14:09:02.784560Z",
     "iopub.status.idle": "2021-07-31T14:09:02.830496Z",
     "shell.execute_reply": "2021-07-31T14:09:02.826482Z",
     "shell.execute_reply.started": "2021-07-31T14:09:02.785052Z"
    }
   },
   "outputs": [],
   "source": [
    "class Trainer():\n",
    "    def __init__(self, model, criterion, optimizer, device):\n",
    "        self.model = model\n",
    "        self.criterion = criterion\n",