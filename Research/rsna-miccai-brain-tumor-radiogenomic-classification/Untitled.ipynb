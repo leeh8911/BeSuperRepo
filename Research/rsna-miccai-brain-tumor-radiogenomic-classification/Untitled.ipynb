{
 "cells": [
  {
   "cell_type": "code",
   "execution_count": 10,
   "metadata": {
    "ExecuteTime": {
     "end_time": "2021-07-28T13:12:58.374272Z",
     "start_time": "2021-07-28T13:12:56.300677Z"
    },
    "scrolled": false
   },
   "outputs": [],
   "source": [
    "import os\n",
    "import sys\n",
    "\n",
    "from pathlib import Path\n",
    "import glob\n",
    "\n",
    "import numpy as np\n",
    "import pandas as pd\n",
    "\n",
    "import pydicom\n",
    "from pydicom.pixel_data_handlers.util import apply_voi_lut\n",
    "import cv2\n",
    "\n",
    "import torch\n",
    "\n",
    "from tqdm.notebook import tqdm\n",
    "\n",
    "import warnings\n",
    "warnings.filterwarnings(\"ignore\")\n",
    "\n",
    "import matplotlib.pyplot as plt\n",
    "%matplotlib inline"
   ]
  },
  {
   "cell_type": "code",
   "execution_count": 11,
   "metadata": {
    "ExecuteTime": {
     "end_time": "2021-07-28T13:13:01.810332Z",
     "start_time": "2021-07-28T13:13:01.804342Z"
    }
   },
   "outputs": [],
   "source": [
    "data_root = Path('E:\\\\datasets\\\\rsna-miccai-brain-tumor-radiogenomic-classification')"
   ]
  },
  {
   "cell_type": "code",
   "execution_count": 27,
   "metadata": {
    "ExecuteTime": {
     "end_time": "2021-07-28T13:26:13.037324Z",
     "start_time": "2021-07-28T13:26:13.025332Z"
    }
   },
   "outputs": [],
   "source": [
    "SCAN_TYPE = ('FLAIR', 'T1w', 'T1wCE', 'T2w')"
   ]
  },
  {
   "cell_type": "code",
   "execution_count": 22,
   "metadata": {
    "ExecuteTime": {
     "end_time": "2021-07-28T13:20:25.765190Z",
     "start_time": "2021-07-28T13:20:14.843899Z"
    }
   },
   "outputs": [
    {
     "name": "stdout",
     "output_type": "stream",
     "text": [
      "(348641, 5)\n"
     ]
    },
    {
     "data": {
      "text/html": [
       "<div>\n",
       "<style scoped>\n",
       "    .dataframe tbody tr th:only-of-type {\n",
       "        vertical-align: middle;\n",
       "    }\n",
       "\n",
       "    .dataframe tbody tr th {\n",
       "        vertical-align: top;\n",
       "    }\n",
       "\n",
       "    .dataframe thead th {\n",
       "        text-align: right;\n",
       "    }\n",
       "</style>\n",
       "<table border=\"1\" class=\"dataframe\">\n",
       "  <thead>\n",
       "    <tr style=\"text-align: right;\">\n",
       "      <th></th>\n",
       "      <th>file_path</th>\n",
       "      <th>file_name</th>\n",
       "      <th>file_index</th>\n",
       "      <th>scan</th>\n",
       "      <th>case</th>\n",
       "    </tr>\n",
       "  </thead>\n",
       "  <tbody>\n",
       "    <tr>\n",
       "      <th>0</th>\n",
       "      <td>E:\\datasets\\rsna-miccai-brain-tumor-radiogenom...</td>\n",
       "      <td>Image-1.dcm</td>\n",
       "      <td>1</td>\n",
       "      <td>FLAIR</td>\n",
       "      <td>00000</td>\n",
       "    </tr>\n",
       "    <tr>\n",
       "      <th>1</th>\n",
       "      <td>E:\\datasets\\rsna-miccai-brain-tumor-radiogenom...</td>\n",
       "      <td>Image-10.dcm</td>\n",
       "      <td>10</td>\n",
       "      <td>FLAIR</td>\n",
       "      <td>00000</td>\n",
       "    </tr>\n",
       "    <tr>\n",
       "      <th>2</th>\n",
       "      <td>E:\\datasets\\rsna-miccai-brain-tumor-radiogenom...</td>\n",
       "      <td>Image-100.dcm</td>\n",
       "      <td>100</td>\n",
       "      <td>FLAIR</td>\n",
       "      <td>00000</td>\n",
       "    </tr>\n",
       "    <tr>\n",
       "      <th>3</th>\n",
       "      <td>E:\\datasets\\rsna-miccai-brain-tumor-radiogenom...</td>\n",
       "      <td>Image-101.dcm</td>\n",
       "      <td>101</td>\n",
       "      <td>FLAIR</td>\n",
       "      <td>00000</td>\n",
       "    </tr>\n",
       "    <tr>\n",
       "      <th>4</th>\n",
       "      <td>E:\\datasets\\rsna-miccai-brain-tumor-radiogenom...</td>\n",
       "      <td>Image-102.dcm</td>\n",
       "      <td>102</td>\n",
       "      <td>FLAIR</td>\n",
       "      <td>00000</td>\n",
       "    </tr>\n",
       "  </tbody>\n",
       "</table>\n",
       "</div>"
      ],
      "text/plain": [
       "                                           file_path      file_name  \\\n",
       "0  E:\\datasets\\rsna-miccai-brain-tumor-radiogenom...    Image-1.dcm   \n",
       "1  E:\\datasets\\rsna-miccai-brain-tumor-radiogenom...   Image-10.dcm   \n",
       "2  E:\\datasets\\rsna-miccai-brain-tumor-radiogenom...  Image-100.dcm   \n",
       "3  E:\\datasets\\rsna-miccai-brain-tumor-radiogenom...  Image-101.dcm   \n",
       "4  E:\\datasets\\rsna-miccai-brain-tumor-radiogenom...  Image-102.dcm   \n",
       "\n",
       "   file_index   scan   case  \n",
       "0           1  FLAIR  00000  \n",
       "1          10  FLAIR  00000  \n",
       "2         100  FLAIR  00000  \n",
       "3         101  FLAIR  00000  \n",
       "4         102  FLAIR  00000  "
      ]
     },
     "execution_count": 22,
     "metadata": {},
     "output_type": "execute_result"
    }
   ],
   "source": [
    "def get_file_frame(config = 'train'):\n",
    "    df = pd.DataFrame()\n",
    "    file_list = glob.glob(str(data_root / f'{config}' / '*' / '*' / '*.dcm'))\n",
    "    df['file_path'] = file_list\n",
    "    \n",
    "    df['file_name'] = df.apply(lambda x: x['file_path'].split(os.path.sep)[-1], axis = 1)\n",
    "    df['file_index'] = df.apply(lambda x: int(x['file_name'].split('-')[1].split('.')[0]), axis = 1)\n",
    "    df['scan'] = df.apply(lambda x: x['file_path'].split(os.path.sep)[-2], axis = 1)\n",
    "    df['case'] = df.apply(lambda x: x['file_path'].split(os.path.sep)[-3], axis = 1)\n",
    "    \n",
    "    return df"
   ]
  },
  {
   "cell_type": "code",
   "execution_count": 24,
   "metadata": {
    "ExecuteTime": {
     "end_time": "2021-07-28T13:21:47.252264Z",
     "start_time": "2021-07-28T13:21:36.392024Z"
    }
   },
   "outputs": [
    {
     "name": "stdout",
     "output_type": "stream",
     "text": [
      "(348641, 5)\n"
     ]
    },
    {
     "data": {
      "text/html": [
       "<div>\n",
       "<style scoped>\n",
       "    .dataframe tbody tr th:only-of-type {\n",
       "        vertical-align: middle;\n",
       "    }\n",
       "\n",
       "    .dataframe tbody tr th {\n",
       "        vertical-align: top;\n",
       "    }\n",
       "\n",
       "    .dataframe thead th {\n",
       "        text-align: right;\n",
       "    }\n",
       "</style>\n",
       "<table border=\"1\" class=\"dataframe\">\n",
       "  <thead>\n",
       "    <tr style=\"text-align: right;\">\n",
       "      <th></th>\n",
       "      <th>file_path</th>\n",
       "      <th>file_name</th>\n",
       "      <th>file_index</th>\n",
       "      <th>scan</th>\n",
       "      <th>case</th>\n",
       "    </tr>\n",
       "  </thead>\n",
       "  <tbody>\n",
       "    <tr>\n",
       "      <th>0</th>\n",
       "      <td>E:\\datasets\\rsna-miccai-brain-tumor-radiogenom...</td>\n",
       "      <td>Image-1.dcm</td>\n",
       "      <td>1</td>\n",
       "      <td>FLAIR</td>\n",
       "      <td>00000</td>\n",
       "    </tr>\n",
       "    <tr>\n",
       "      <th>1</th>\n",
       "      <td>E:\\datasets\\rsna-miccai-brain-tumor-radiogenom...</td>\n",
       "      <td>Image-10.dcm</td>\n",
       "      <td>10</td>\n",
       "      <td>FLAIR</td>\n",
       "      <td>00000</td>\n",
       "    </tr>\n",
       "    <tr>\n",
       "      <th>2</th>\n",
       "      <td>E:\\datasets\\rsna-miccai-brain-tumor-radiogenom...</td>\n",
       "      <td>Image-100.dcm</td>\n",
       "      <td>100</td>\n",
       "      <td>FLAIR</td>\n",
       "      <td>00000</td>\n",
       "    </tr>\n",
       "    <tr>\n",
       "      <th>3</th>\n",
       "      <td>E:\\datasets\\rsna-miccai-brain-tumor-radiogenom...</td>\n",
       "      <td>Image-101.dcm</td>\n",
       "      <td>101</td>\n",
       "      <td>FLAIR</td>\n",
       "      <td>00000</td>\n",
       "    </tr>\n",
       "    <tr>\n",
       "      <th>4</th>\n",
       "      <td>E:\\datasets\\rsna-miccai-brain-tumor-radiogenom...</td>\n",
       "      <td>Image-102.dcm</td>\n",
       "      <td>102</td>\n",
       "      <td>FLAIR</td>\n",
       "      <td>00000</td>\n",
       "    </tr>\n",
       "  </tbody>\n",
       "</table>\n",
       "</div>"
      ],
      "text/plain": [
       "                                           file_path      file_name  \\\n",
       "0  E:\\datasets\\rsna-miccai-brain-tumor-radiogenom...    Image-1.dcm   \n",
       "1  E:\\datasets\\rsna-miccai-brain-tumor-radiogenom...   Image-10.dcm   \n",
       "2  E:\\datasets\\rsna-miccai-brain-tumor-radiogenom...  Image-100.dcm   \n",
       "3  E:\\datasets\\rsna-miccai-brain-tumor-radiogenom...  Image-101.dcm   \n",
       "4  E:\\datasets\\rsna-miccai-brain-tumor-radiogenom...  Image-102.dcm   \n",
       "\n",
       "   file_index   scan   case  \n",
       "0           1  FLAIR  00000  \n",
       "1          10  FLAIR  00000  \n",
       "2         100  FLAIR  00000  \n",
       "3         101  FLAIR  00000  \n",
       "4         102  FLAIR  00000  "
      ]
     },
     "execution_count": 24,
     "metadata": {},
     "output_type": "execute_result"
    }
   ],
   "source": [
    "train_df = get_file_frame()\n",
    "print(train_df.shape)\n",
    "train_df.head()"
   ]
  },
  {
   "cell_type": "code",
   "execution_count": 23,
   "metadata": {
    "ExecuteTime": {
     "end_time": "2021-07-28T13:21:35.746026Z",
     "start_time": "2021-07-28T13:21:21.205385Z"
    }
   },
   "outputs": [
    {
     "name": "stdout",
     "output_type": "stream",
     "text": [
      "(51473, 5)\n"
     ]
    },
    {
     "data": {
      "text/html": [
       "<div>\n",
       "<style scoped>\n",
       "    .dataframe tbody tr th:only-of-type {\n",
       "        vertical-align: middle;\n",
       "    }\n",
       "\n",
       "    .dataframe tbody tr th {\n",
       "        vertical-align: top;\n",
       "    }\n",
       "\n",
       "    .dataframe thead th {\n",
       "        text-align: right;\n",
       "    }\n",
       "</style>\n",
       "<table border=\"1\" class=\"dataframe\">\n",
       "  <thead>\n",
       "    <tr style=\"text-align: right;\">\n",
       "      <th></th>\n",
       "      <th>file_path</th>\n",
       "      <th>file_name</th>\n",
       "      <th>file_index</th>\n",
       "      <th>scan</th>\n",
       "      <th>case</th>\n",
       "    </tr>\n",
       "  </thead>\n",
       "  <tbody>\n",
       "    <tr>\n",
       "      <th>0</th>\n",
       "      <td>E:\\datasets\\rsna-miccai-brain-tumor-radiogenom...</td>\n",
       "      <td>Image-1.dcm</td>\n",
       "      <td>1</td>\n",
       "      <td>FLAIR</td>\n",
       "      <td>00001</td>\n",
       "    </tr>\n",
       "    <tr>\n",
       "      <th>1</th>\n",
       "      <td>E:\\datasets\\rsna-miccai-brain-tumor-radiogenom...</td>\n",
       "      <td>Image-10.dcm</td>\n",
       "      <td>10</td>\n",
       "      <td>FLAIR</td>\n",
       "      <td>00001</td>\n",
       "    </tr>\n",
       "    <tr>\n",
       "      <th>2</th>\n",
       "      <td>E:\\datasets\\rsna-miccai-brain-tumor-radiogenom...</td>\n",
       "      <td>Image-100.dcm</td>\n",
       "      <td>100</td>\n",
       "      <td>FLAIR</td>\n",
       "      <td>00001</td>\n",
       "    </tr>\n",
       "    <tr>\n",
       "      <th>3</th>\n",
       "      <td>E:\\datasets\\rsna-miccai-brain-tumor-radiogenom...</td>\n",
       "      <td>Image-101.dcm</td>\n",
       "      <td>101</td>\n",
       "      <td>FLAIR</td>\n",
       "      <td>00001</td>\n",
       "    </tr>\n",
       "    <tr>\n",
       "      <th>4</th>\n",
       "      <td>E:\\datasets\\rsna-miccai-brain-tumor-radiogenom...</td>\n",
       "      <td>Image-102.dcm</td>\n",
       "      <td>102</td>\n",
       "      <td>FLAIR</td>\n",
       "      <td>00001</td>\n",
       "    </tr>\n",
       "  </tbody>\n",
       "</table>\n",
       "</div>"
      ],
      "text/plain": [
       "                                           file_path      file_name  \\\n",
       "0  E:\\datasets\\rsna-miccai-brain-tumor-radiogenom...    Image-1.dcm   \n",
       "1  E:\\datasets\\rsna-miccai-brain-tumor-radiogenom...   Image-10.dcm   \n",
       "2  E:\\datasets\\rsna-miccai-brain-tumor-radiogenom...  Image-100.dcm   \n",
       "3  E:\\datasets\\rsna-miccai-brain-tumor-radiogenom...  Image-101.dcm   \n",
       "4  E:\\datasets\\rsna-miccai-brain-tumor-radiogenom...  Image-102.dcm   \n",
       "\n",
       "   file_index   scan   case  \n",
       "0           1  FLAIR  00001  \n",
       "1          10  FLAIR  00001  \n",
       "2         100  FLAIR  00001  \n",
       "3         101  FLAIR  00001  \n",
       "4         102  FLAIR  00001  "
      ]
     },
     "execution_count": 23,
     "metadata": {},
     "output_type": "execute_result"
    }
   ],
   "source": [
    "test_df = get_file_frame('test')\n",
    "print(test_df.shape)\n",
    "test_df.head()"
   ]
  },
  {
   "cell_type": "code",
   "execution_count": null,
   "metadata": {},
   "outputs": [],
   "source": []
  },
  {
   "cell_type": "code",
   "execution_count": 25,
   "metadata": {
    "ExecuteTime": {
     "end_time": "2021-07-28T13:24:23.911391Z",
     "start_time": "2021-07-28T13:24:23.900381Z"
    }
   },
   "outputs": [],
   "source": [
    "def dicom2array(path, voi_lut = True, fix_monochrome = True, remove_black_boundary = True):\n",
    "    dicom = pydicom.read_file(path)\n",
    "    if voi_lut:\n",
    "        data = apply_voi_lut(dicom.pixel_array, dicom)\n",
    "    else:\n",
    "        data = dicom.pixel_array\n",
    "    \n",
    "    if fix_monochrome and dicom.PhotometricInterpretation == 'MONOCHROME1':\n",
    "        data = data.amax() - data\n",
    "    \n",
    "    data -= data.min()\n",
    "    data /= data.max()\n",
    "    data = data\n",
    "    \n",
    "    if remove_black_boundary:\n",
    "        (x, y) = np.where(data > 0)\n",
    "        if x.shape[0] == 0 or y.shape[0] == 0:\n",
    "            pass\n",
    "        else:\n",
    "            min_x, max_x = x.min(), x.max()\n",
    "            min_y, max_y = y.min(), y.max()\n",
    "            if(max_x - min_x) > 10 and (max_y - min_y) > 10:\n",
    "                data = data[min_x:max_x, min_y:max_y]\n",
    "        data = cv2.resize(data, (512,512))\n",
    "    \n",
    "    return data"
   ]
  },
  {
   "cell_type": "code",
   "execution_count": 43,
   "metadata": {
    "ExecuteTime": {
     "end_time": "2021-07-28T13:36:20.049784Z",
     "start_time": "2021-07-28T13:36:13.353384Z"
    }
   },
   "outputs": [
    {
     "data": {
      "text/plain": [
       "array([[0.        , 0.        , 0.        , ..., 0.09987492, 0.09987492,\n",
       "        0.09987492],\n",
       "       [0.        , 0.        , 0.        , ..., 0.09987492, 0.09987492,\n",
       "        0.09987492],\n",
       "       [0.        , 0.        , 0.        , ..., 0.09987492, 0.09987492,\n",
       "        0.09987492],\n",
       "       ...,\n",
       "       [0.19974984, 0.19974984, 0.19974984, ..., 0.19974984, 0.19974984,\n",
       "        0.19974984],\n",
       "       [0.19974984, 0.19974984, 0.19974984, ..., 0.19974984, 0.19974984,\n",
       "        0.19974984],\n",
       "       [0.19974984, 0.19974984, 0.19974984, ..., 0.19974984, 0.19974984,\n",
       "        0.19974984]])"
      ]
     },
     "execution_count": 43,
     "metadata": {},
     "output_type": "execute_result"
    }
   ],
   "source": [
    "def get_case_arr(path):\n",
    "    output = dict()\n",
    "    for scan in SCAN_TYPE:\n",
    "        path_list = glob.glob(str(path / f'{scan}' / '*.dcm'))\n",
    "        arr_list = []\n",
    "        for p in path_list:\n",
    "            arr = dicom2array(p)\n",
    "            arr_list.append(np.expand_dims(arr, 0))\n",
    "        output[scan] = np.concatenate(arr_list, axis = 0)\n",
    "        output[scan +'-mean'] = output[scan].mean(axis = 0)\n",
    "        output[scan +'-std'] = output[scan].std(axis = 0)\n",
    "    return output\n",
    "            \n",
    "\n",
    "data_dict = get_case_arr(data_root / 'train' / '00000')\n",
    "data_dict['FLAIR-mean']\n",
    "data_dict['FLAIR-std']"
   ]
  },
  {
   "cell_type": "code",
   "execution_count": null,
   "metadata": {},
   "outputs": [],
   "source": []
  }
 ],
 "metadata": {
  "hide_input": false,
  "kernelspec": {
   "display_name": "torch",
   "language": "python",
   "name": "torch"
  },
  "language_info": {
   "codemirror_mode": {
    "name": "ipython",
    "version": 3
   },
   "file_extension": ".py",
   "mimetype": "text/x-python",
   "name": "python",
   "nbconvert_exporter": "python",
   "pygments_lexer": "ipython3",
   "version": "3.6.12"
  },
  "latex_envs": {
   "LaTeX_envs_menu_present": true,
   "autoclose": false,
   "autocomplete": true,
   "bibliofile": "biblio.bib",
   "cite_by": "apalike",
   "current_citInitial": 1,
   "eqLabelWithNumbers": true,
   "eqNumInitial": 1,
   "hotkeys": {
    "equation": "Ctrl-E",
    "itemize": "Ctrl-I"
   },
   "labels_anchors": false,
   "latex_user_defs": false,
   "report_style_numbering": false,
   "user_envs_cfg": false
  },
  "toc": {
   "base_numbering": 1,
   "nav_menu": {},
   "number_sections": true,
   "sideBar": true,
   "skip_h1_title": false,
   "title_cell": "Table of Contents",
   "title_sidebar": "Contents",
   "toc_cell": false,
   "toc_position": {},
   "toc_section_display": true,
   "toc_window_display": false
  },
  "varInspector": {
   "cols": {
    "lenName": 16,
    "lenType": 16,
    "lenVar": 40
   },
   "kernels_config": {
    "python": {
     "delete_cmd_postfix": "",
     "delete_cmd_prefix": "del ",
     "library": "var_list.py",
     "varRefreshCmd": "print(var_dic_list())"
    },
    "r": {
     "delete_cmd_postfix": ") ",
     "delete_cmd_prefix": "rm(",
     "library": "var_list.r",
     "varRefreshCmd": "cat(var_dic_list()) "
    }
   },
   "types_to_exclude": [
    "module",
    "function",
    "builtin_function_or_method",
    "instance",
    "_Feature"
   ],
   "window_display": false
  }
 },
 "nbformat": 4,
 "nbformat_minor": 4
}
