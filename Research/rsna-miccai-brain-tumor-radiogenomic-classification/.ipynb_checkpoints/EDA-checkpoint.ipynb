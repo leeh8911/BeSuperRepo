{
 "cells": [
  {
   "cell_type": "markdown",
   "metadata": {
    "_cell_guid": "b1076dfc-b9ad-4769-8c92-a6c4dae69d19",
    "_uuid": "8f2839f25d086af736a60e9eeb907d3b93b6e0e5"
   },
   "source": [
    "# Import Libraries "
   ]
  },
  {
   "cell_type": "code",
   "execution_count": 98,
   "metadata": {
    "ExecuteTime": {
     "end_time": "2021-08-01T12:37:01.566305Z",
     "start_time": "2021-08-01T12:37:01.554314Z"
    },
    "execution": {
     "iopub.execute_input": "2021-07-31T14:08:42.391473Z",
     "iopub.status.busy": "2021-07-31T14:08:42.391072Z",
     "iopub.status.idle": "2021-07-31T14:08:43.164287Z",
     "shell.execute_reply": "2021-07-31T14:08:43.163487Z",
     "shell.execute_reply.started": "2021-07-31T14:08:42.391387Z"
    }
   },
   "outputs": [],
   "source": [
    "# https://www.kaggle.com/rluethy/efficientnet3d-with-one-mri-type\n",
    "import os\n",
    "import sys \n",
    "import json\n",
    "import glob\n",
    "import random\n",
    "import collections\n",
    "import time\n",
    "from pathlib import Path\n",
    "from tqdm.notebook import tqdm\n",
    "import re\n",
    "\n",
    "import numpy as np\n",
    "import pandas as pd\n",
    "import cv2\n",
    "import matplotlib.pyplot as plt\n",
    "import seaborn as sns\n",
    "\n",
    "import pydicom\n",
    "from pydicom.pixel_data_handlers.util import apply_voi_lut\n",
    "\n",
    "import torch\n",
    "from torch import nn\n",
    "from torch.utils.data import Dataset, DataLoader\n",
    "from sklearn.model_selection import train_test_split\n",
    "import torch.nn.functional as F\n",
    "\n",
    "from sklearn.model_selection import StratifiedKFold\n",
    "from sklearn.metrics import roc_auc_score\n",
    "\n",
    "import warnings\n",
    "warnings.filterwarnings(\"ignore\")"
   ]
  },
  {
   "cell_type": "markdown",
   "metadata": {},
   "source": [
    "# System Constants"
   ]
  },
  {
   "cell_type": "code",
   "execution_count": 2,
   "metadata": {
    "ExecuteTime": {
     "end_time": "2021-08-01T07:25:35.841560Z",
     "start_time": "2021-08-01T07:25:35.827559Z"
    },
    "execution": {
     "iopub.execute_input": "2021-07-31T14:08:43.166628Z",
     "iopub.status.busy": "2021-07-31T14:08:43.166251Z",
     "iopub.status.idle": "2021-07-31T14:08:43.171050Z",
     "shell.execute_reply": "2021-07-31T14:08:43.169973Z",
     "shell.execute_reply.started": "2021-07-31T14:08:43.166591Z"
    }
   },
   "outputs": [],
   "source": [
    "SCAN_TYPE = ('FLAIR', 'T1w', 'T1wCE', 'T2w')"
   ]
  },
  {
   "cell_type": "markdown",
   "metadata": {},
   "source": [
    "# Hyperparameters"
   ]
  },
  {
   "cell_type": "code",
   "execution_count": 3,
   "metadata": {
    "ExecuteTime": {
     "end_time": "2021-08-01T07:25:35.856562Z",
     "start_time": "2021-08-01T07:25:35.844560Z"
    },
    "execution": {
     "iopub.execute_input": "2021-07-31T14:08:43.173183Z",
     "iopub.status.busy": "2021-07-31T14:08:43.172796Z",
     "iopub.status.idle": "2021-07-31T14:08:43.180607Z",
     "shell.execute_reply": "2021-07-31T14:08:43.179915Z",
     "shell.execute_reply.started": "2021-07-31T14:08:43.173146Z"
    }
   },
   "outputs": [],
   "source": [
    "SEED = 42\n",
    "\n",
    "IMAGE_SIZE = 256\n",
    "BATCH_SIZE = 64\n",
    "LEARNING_RATE = 1e-6\n",
    "WEIGHT_DECAY = 1e-4\n",
    "EPOCH_NUM = 1000"
   ]
  },
  {
   "cell_type": "markdown",
   "metadata": {},
   "source": [
    "# Set System"
   ]
  },
  {
   "cell_type": "code",
   "execution_count": 4,
   "metadata": {
    "ExecuteTime": {
     "end_time": "2021-08-01T07:25:35.901557Z",
     "start_time": "2021-08-01T07:25:35.857560Z"
    },
    "execution": {
     "iopub.execute_input": "2021-07-31T14:08:43.181822Z",
     "iopub.status.busy": "2021-07-31T14:08:43.181561Z",
     "iopub.status.idle": "2021-07-31T14:08:43.210626Z",
     "shell.execute_reply": "2021-07-31T14:08:43.209849Z",
     "shell.execute_reply.started": "2021-07-31T14:08:43.181798Z"
    }
   },
   "outputs": [],
   "source": [
    "def set_seed(seed):\n",
    "    random.seed(seed)\n",
    "    os.environ[\"PYTHONHASHSEED\"] = str(seed)\n",
    "    np.random.seed(seed)\n",
    "    torch.manual_seed(seed)\n",
    "    if torch.cuda.is_available():\n",
    "        torch.cuda.manual_seed_all(seed)\n",
    "        torch.backends.cudnn.deterministic = True\n",
    "\n",
    "set_seed(SEED)"
   ]
  },
  {
   "cell_type": "code",
   "execution_count": 5,
   "metadata": {
    "ExecuteTime": {
     "end_time": "2021-08-01T07:25:35.916560Z",
     "start_time": "2021-08-01T07:25:35.902559Z"
    },
    "execution": {
     "iopub.execute_input": "2021-07-31T14:08:43.212629Z",
     "iopub.status.busy": "2021-07-31T14:08:43.212357Z",
     "iopub.status.idle": "2021-07-31T14:08:43.221238Z",
     "shell.execute_reply": "2021-07-31T14:08:43.220389Z",
     "shell.execute_reply.started": "2021-07-31T14:08:43.212605Z"
    }
   },
   "outputs": [
    {
     "data": {
      "text/plain": [
       "device(type='cuda')"
      ]
     },
     "execution_count": 5,
     "metadata": {},
     "output_type": "execute_result"
    }
   ],
   "source": [
    "device = torch.device( 'cuda' if torch.cuda.is_available() else 'cpu' )\n",
    "device"
   ]
  },
  {
   "cell_type": "code",
   "execution_count": 6,
   "metadata": {
    "ExecuteTime": {
     "end_time": "2021-08-01T07:25:35.931561Z",
     "start_time": "2021-08-01T07:25:35.917560Z"
    },
    "execution": {
     "iopub.execute_input": "2021-07-31T14:08:43.223608Z",
     "iopub.status.busy": "2021-07-31T14:08:43.222896Z",
     "iopub.status.idle": "2021-07-31T14:08:43.228123Z",
     "shell.execute_reply": "2021-07-31T14:08:43.227179Z",
     "shell.execute_reply.started": "2021-07-31T14:08:43.223571Z"
    }
   },
   "outputs": [],
   "source": [
    "data_path = Path('E:\\\\datasets\\\\rsna-miccai-brain-tumor-radiogenomic-classification')"
   ]
  },
  {
   "cell_type": "code",
   "execution_count": 7,
   "metadata": {
    "ExecuteTime": {
     "end_time": "2021-08-01T07:25:37.776560Z",
     "start_time": "2021-08-01T07:25:35.933562Z"
    },
    "scrolled": true
   },
   "outputs": [],
   "source": [
    "train_path_list = glob.glob(str(data_path / \"train\" / \"*\" / \"*\" / \"*.dcm\"))"
   ]
  },
  {
   "cell_type": "code",
   "execution_count": 8,
   "metadata": {
    "ExecuteTime": {
     "end_time": "2021-08-01T07:25:46.147666Z",
     "start_time": "2021-08-01T07:25:37.778559Z"
    }
   },
   "outputs": [],
   "source": [
    "df_train = pd.DataFrame(train_path_list, columns = ['file_path'])\n",
    "df_train['scan_type'] = df_train.apply(lambda x:x['file_path'].split(os.path.sep)[-2], axis = 1)\n",
    "df_train['BraTS21ID'] = df_train.apply(lambda x:x['file_path'].split(os.path.sep)[-3], axis = 1)\n",
    "df_train['scan_index'] = df_train.apply(lambda x:int(x['file_path'].split(os.path.sep)[-1].split('.')[0].split('-')[-1]), axis = 1)"
   ]
  },
  {
   "cell_type": "code",
   "execution_count": 9,
   "metadata": {
    "ExecuteTime": {
     "end_time": "2021-08-01T07:25:46.178191Z",
     "start_time": "2021-08-01T07:25:46.149179Z"
    }
   },
   "outputs": [
    {
     "data": {
      "text/html": [
       "<div>\n",
       "<style scoped>\n",
       "    .dataframe tbody tr th:only-of-type {\n",
       "        vertical-align: middle;\n",
       "    }\n",
       "\n",
       "    .dataframe tbody tr th {\n",
       "        vertical-align: top;\n",
       "    }\n",
       "\n",
       "    .dataframe thead th {\n",
       "        text-align: right;\n",
       "    }\n",
       "</style>\n",
       "<table border=\"1\" class=\"dataframe\">\n",
       "  <thead>\n",
       "    <tr style=\"text-align: right;\">\n",
       "      <th></th>\n",
       "      <th>file_path</th>\n",
       "      <th>scan_type</th>\n",
       "      <th>BraTS21ID</th>\n",
       "      <th>scan_index</th>\n",
       "    </tr>\n",
       "  </thead>\n",
       "  <tbody>\n",
       "    <tr>\n",
       "      <th>0</th>\n",
       "      <td>E:\\datasets\\rsna-miccai-brain-tumor-radiogenom...</td>\n",
       "      <td>FLAIR</td>\n",
       "      <td>00000</td>\n",
       "      <td>1</td>\n",
       "    </tr>\n",
       "    <tr>\n",
       "      <th>1</th>\n",
       "      <td>E:\\datasets\\rsna-miccai-brain-tumor-radiogenom...</td>\n",
       "      <td>FLAIR</td>\n",
       "      <td>00000</td>\n",
       "      <td>10</td>\n",
       "    </tr>\n",
       "    <tr>\n",
       "      <th>2</th>\n",
       "      <td>E:\\datasets\\rsna-miccai-brain-tumor-radiogenom...</td>\n",
       "      <td>FLAIR</td>\n",
       "      <td>00000</td>\n",
       "      <td>100</td>\n",
       "    </tr>\n",
       "    <tr>\n",
       "      <th>3</th>\n",
       "      <td>E:\\datasets\\rsna-miccai-brain-tumor-radiogenom...</td>\n",
       "      <td>FLAIR</td>\n",
       "      <td>00000</td>\n",
       "      <td>101</td>\n",
       "    </tr>\n",
       "    <tr>\n",
       "      <th>4</th>\n",
       "      <td>E:\\datasets\\rsna-miccai-brain-tumor-radiogenom...</td>\n",
       "      <td>FLAIR</td>\n",
       "      <td>00000</td>\n",
       "      <td>102</td>\n",
       "    </tr>\n",
       "    <tr>\n",
       "      <th>...</th>\n",
       "      <td>...</td>\n",
       "      <td>...</td>\n",
       "      <td>...</td>\n",
       "      <td>...</td>\n",
       "    </tr>\n",
       "    <tr>\n",
       "      <th>348636</th>\n",
       "      <td>E:\\datasets\\rsna-miccai-brain-tumor-radiogenom...</td>\n",
       "      <td>T2w</td>\n",
       "      <td>01010</td>\n",
       "      <td>63</td>\n",
       "    </tr>\n",
       "    <tr>\n",
       "      <th>348637</th>\n",
       "      <td>E:\\datasets\\rsna-miccai-brain-tumor-radiogenom...</td>\n",
       "      <td>T2w</td>\n",
       "      <td>01010</td>\n",
       "      <td>64</td>\n",
       "    </tr>\n",
       "    <tr>\n",
       "      <th>348638</th>\n",
       "      <td>E:\\datasets\\rsna-miccai-brain-tumor-radiogenom...</td>\n",
       "      <td>T2w</td>\n",
       "      <td>01010</td>\n",
       "      <td>7</td>\n",
       "    </tr>\n",
       "    <tr>\n",
       "      <th>348639</th>\n",
       "      <td>E:\\datasets\\rsna-miccai-brain-tumor-radiogenom...</td>\n",
       "      <td>T2w</td>\n",
       "      <td>01010</td>\n",
       "      <td>8</td>\n",
       "    </tr>\n",
       "    <tr>\n",
       "      <th>348640</th>\n",
       "      <td>E:\\datasets\\rsna-miccai-brain-tumor-radiogenom...</td>\n",
       "      <td>T2w</td>\n",
       "      <td>01010</td>\n",
       "      <td>9</td>\n",
       "    </tr>\n",
       "  </tbody>\n",
       "</table>\n",
       "<p>348641 rows × 4 columns</p>\n",
       "</div>"
      ],
      "text/plain": [
       "                                                file_path scan_type BraTS21ID  \\\n",
       "0       E:\\datasets\\rsna-miccai-brain-tumor-radiogenom...     FLAIR     00000   \n",
       "1       E:\\datasets\\rsna-miccai-brain-tumor-radiogenom...     FLAIR     00000   \n",
       "2       E:\\datasets\\rsna-miccai-brain-tumor-radiogenom...     FLAIR     00000   \n",
       "3       E:\\datasets\\rsna-miccai-brain-tumor-radiogenom...     FLAIR     00000   \n",
       "4       E:\\datasets\\rsna-miccai-brain-tumor-radiogenom...     FLAIR     00000   \n",
       "...                                                   ...       ...       ...   \n",
       "348636  E:\\datasets\\rsna-miccai-brain-tumor-radiogenom...       T2w     01010   \n",
       "348637  E:\\datasets\\rsna-miccai-brain-tumor-radiogenom...       T2w     01010   \n",
       "348638  E:\\datasets\\rsna-miccai-brain-tumor-radiogenom...       T2w     01010   \n",
       "348639  E:\\datasets\\rsna-miccai-brain-tumor-radiogenom...       T2w     01010   \n",
       "348640  E:\\datasets\\rsna-miccai-brain-tumor-radiogenom...       T2w     01010   \n",
       "\n",
       "        scan_index  \n",
       "0                1  \n",
       "1               10  \n",
       "2              100  \n",
       "3              101  \n",
       "4              102  \n",
       "...            ...  \n",
       "348636          63  \n",
       "348637          64  \n",
       "348638           7  \n",
       "348639           8  \n",
       "348640           9  \n",
       "\n",
       "[348641 rows x 4 columns]"
      ]
     },
     "execution_count": 9,
     "metadata": {},
     "output_type": "execute_result"
    }
   ],
   "source": [
    "df_train"
   ]
  },
  {
   "cell_type": "code",
   "execution_count": 10,
   "metadata": {
    "ExecuteTime": {
     "end_time": "2021-08-01T07:25:46.208189Z",
     "start_time": "2021-08-01T07:25:46.180190Z"
    }
   },
   "outputs": [
    {
     "data": {
      "text/plain": [
       "585"
      ]
     },
     "execution_count": 10,
     "metadata": {},
     "output_type": "execute_result"
    }
   ],
   "source": [
    "df_train['BraTS21ID'].nunique()"
   ]
  },
  {
   "cell_type": "code",
   "execution_count": 11,
   "metadata": {
    "ExecuteTime": {
     "end_time": "2021-08-01T07:25:46.313188Z",
     "start_time": "2021-08-01T07:25:46.210191Z"
    }
   },
   "outputs": [
    {
     "data": {
      "text/html": [
       "<div>\n",
       "<style scoped>\n",
       "    .dataframe tbody tr th:only-of-type {\n",
       "        vertical-align: middle;\n",
       "    }\n",
       "\n",
       "    .dataframe tbody tr th {\n",
       "        vertical-align: top;\n",
       "    }\n",
       "\n",
       "    .dataframe thead tr th {\n",
       "        text-align: left;\n",
       "    }\n",
       "\n",
       "    .dataframe thead tr:last-of-type th {\n",
       "        text-align: right;\n",
       "    }\n",
       "</style>\n",
       "<table border=\"1\" class=\"dataframe\">\n",
       "  <thead>\n",
       "    <tr>\n",
       "      <th></th>\n",
       "      <th colspan=\"4\" halign=\"left\">file_path</th>\n",
       "    </tr>\n",
       "    <tr>\n",
       "      <th>scan_type</th>\n",
       "      <th>FLAIR</th>\n",
       "      <th>T1w</th>\n",
       "      <th>T1wCE</th>\n",
       "      <th>T2w</th>\n",
       "    </tr>\n",
       "    <tr>\n",
       "      <th>BraTS21ID</th>\n",
       "      <th></th>\n",
       "      <th></th>\n",
       "      <th></th>\n",
       "      <th></th>\n",
       "    </tr>\n",
       "  </thead>\n",
       "  <tbody>\n",
       "    <tr>\n",
       "      <th>00000</th>\n",
       "      <td>400</td>\n",
       "      <td>33</td>\n",
       "      <td>129</td>\n",
       "      <td>408</td>\n",
       "    </tr>\n",
       "    <tr>\n",
       "      <th>00002</th>\n",
       "      <td>129</td>\n",
       "      <td>31</td>\n",
       "      <td>129</td>\n",
       "      <td>384</td>\n",
       "    </tr>\n",
       "    <tr>\n",
       "      <th>00003</th>\n",
       "      <td>129</td>\n",
       "      <td>33</td>\n",
       "      <td>129</td>\n",
       "      <td>408</td>\n",
       "    </tr>\n",
       "    <tr>\n",
       "      <th>00005</th>\n",
       "      <td>400</td>\n",
       "      <td>28</td>\n",
       "      <td>129</td>\n",
       "      <td>424</td>\n",
       "    </tr>\n",
       "    <tr>\n",
       "      <th>00006</th>\n",
       "      <td>129</td>\n",
       "      <td>32</td>\n",
       "      <td>129</td>\n",
       "      <td>408</td>\n",
       "    </tr>\n",
       "    <tr>\n",
       "      <th>...</th>\n",
       "      <td>...</td>\n",
       "      <td>...</td>\n",
       "      <td>...</td>\n",
       "      <td>...</td>\n",
       "    </tr>\n",
       "    <tr>\n",
       "      <th>01005</th>\n",
       "      <td>23</td>\n",
       "      <td>23</td>\n",
       "      <td>23</td>\n",
       "      <td>23</td>\n",
       "    </tr>\n",
       "    <tr>\n",
       "      <th>01007</th>\n",
       "      <td>124</td>\n",
       "      <td>124</td>\n",
       "      <td>124</td>\n",
       "      <td>124</td>\n",
       "    </tr>\n",
       "    <tr>\n",
       "      <th>01008</th>\n",
       "      <td>60</td>\n",
       "      <td>192</td>\n",
       "      <td>192</td>\n",
       "      <td>64</td>\n",
       "    </tr>\n",
       "    <tr>\n",
       "      <th>01009</th>\n",
       "      <td>23</td>\n",
       "      <td>23</td>\n",
       "      <td>23</td>\n",
       "      <td>23</td>\n",
       "    </tr>\n",
       "    <tr>\n",
       "      <th>01010</th>\n",
       "      <td>60</td>\n",
       "      <td>192</td>\n",
       "      <td>187</td>\n",
       "      <td>64</td>\n",
       "    </tr>\n",
       "  </tbody>\n",
       "</table>\n",
       "<p>585 rows × 4 columns</p>\n",
       "</div>"
      ],
      "text/plain": [
       "          file_path                \n",
       "scan_type     FLAIR  T1w T1wCE  T2w\n",
       "BraTS21ID                          \n",
       "00000           400   33   129  408\n",
       "00002           129   31   129  384\n",
       "00003           129   33   129  408\n",
       "00005           400   28   129  424\n",
       "00006           129   32   129  408\n",
       "...             ...  ...   ...  ...\n",
       "01005            23   23    23   23\n",
       "01007           124  124   124  124\n",
       "01008            60  192   192   64\n",
       "01009            23   23    23   23\n",
       "01010            60  192   187   64\n",
       "\n",
       "[585 rows x 4 columns]"
      ]
     },
     "execution_count": 11,
     "metadata": {},
     "output_type": "execute_result"
    }
   ],
   "source": [
    "pivot_table = pd.pivot_table(df_train.groupby(['BraTS21ID', 'scan_type']).count()['file_path'].reset_index(), columns = 'scan_type', index = 'BraTS21ID')\n",
    "pivot_table"
   ]
  },
  {
   "cell_type": "code",
   "execution_count": 29,
   "metadata": {
    "ExecuteTime": {
     "end_time": "2021-08-01T12:18:54.289778Z",
     "start_time": "2021-08-01T12:18:54.269778Z"
    }
   },
   "outputs": [
    {
     "data": {
      "text/plain": [
       "Index(['00000', '00002', '00003', '00005', '00006', '00008', '00009', '00011',\n",
       "       '00012', '00014',\n",
       "       ...\n",
       "       '01000', '01001', '01002', '01003', '01004', '01005', '01007', '01008',\n",
       "       '01009', '01010'],\n",
       "      dtype='object', name='BraTS21ID', length=585)"
      ]
     },
     "execution_count": 29,
     "metadata": {},
     "output_type": "execute_result"
    }
   ],
   "source": [
    "pivot_table.index"
   ]
  },
  {
   "cell_type": "code",
   "execution_count": 45,
   "metadata": {
    "ExecuteTime": {
     "end_time": "2021-08-01T12:25:04.448688Z",
     "start_time": "2021-08-01T12:25:04.133670Z"
    }
   },
   "outputs": [
    {
     "data": {
      "text/plain": [
       "<AxesSubplot:xlabel='scan_type', ylabel='count'>"
      ]
     },
     "execution_count": 45,
     "metadata": {},
     "output_type": "execute_result"
    },
    {
     "data": {
      "text/plain": [
       "<Figure size 432x288 with 0 Axes>"
      ]
     },
     "metadata": {},
     "output_type": "display_data"
    },
    {
     "data": {
      "image/png": "[encoded data removed]",
      "text/plain": [
       "<Figure size 360x360 with 1 Axes>"
      ]
     },
     "metadata": {
      "needs_background": "light"
     },
     "output_type": "display_data"
    },
    {
     "data": {
      "image/png": "[encoded data removed]",
      "text/plain": [
       "<Figure size 432x288 with 1 Axes>"
      ]
     },
     "metadata": {
      "needs_background": "light"
     },
     "output_type": "display_data"
    }
   ],
   "source": [
    "df = pd.DataFrame(pivot_table.values, columns = SCAN_TYPE)\n",
    "df['BraTS21ID'] = pivot_table.index.values.astype(int)\n",
    "df_list = []\n",
    "\n",
    "\n",
    "for i, scan_type in enumerate(SCAN_TYPE):\n",
    "    temp = pd.DataFrame()\n",
    "    temp['count'] = df[scan_type]\n",
    "    temp['scan_type'] = scan_type\n",
    "    temp['BraTS21ID'] = df['BraTS21ID']\n",
    "    df_list.append(temp)\n",
    "df = pd.concat(df_list, axis = 0)\n",
    "\n",
    "plt.figure()\n",
    "sns.catplot(data = df, kind = 'bar', x = 'scan_type' , y = 'count')\n",
    "\n",
    "plt.figure()\n",
    "sns.scatterplot(data = df, x = 'scan_type' , y = 'count', alpha = 1/10)"
   ]
  },
  {
   "cell_type": "markdown",
   "metadata": {},
   "source": [
    "# 이미지 데이터 확인\n",
    "각 스캔 타입 별로 최대, 최소 개수의 이미지들을 확인해보자. "
   ]
  },
  {
   "cell_type": "code",
   "execution_count": 46,
   "metadata": {
    "ExecuteTime": {
     "end_time": "2021-08-01T12:25:06.614308Z",
     "start_time": "2021-08-01T12:25:06.605318Z"
    }
   },
   "outputs": [],
   "source": [
    "from mpl_toolkits.mplot3d.art3d import Poly3DCollection\n",
    "import numpy as np\n",
    "from skimage import measure\n"
   ]
  },
  {
   "cell_type": "code",
   "execution_count": 47,
   "metadata": {
    "ExecuteTime": {
     "end_time": "2021-08-01T12:25:07.694307Z",
     "start_time": "2021-08-01T12:25:07.680318Z"
    }
   },
   "outputs": [],
   "source": [
    "def plot_3d(image, threshold=-300, ax = None):\n",
    "    p = image.transpose(2, 1, 0)\n",
    "    verts, faces, normals, values = measure.marching_cubes_lewiner(p, threshold)\n",
    "    if ax is None:\n",
    "        fig = plt.figure(figsize=(10,10))\n",
    "        ax = fig.add_subplot(111, projection='3d')\n",
    "        \n",
    "    mesh = Poly3DCollection(verts[faces], alpha = 0.1)\n",
    "    face_color = [0.5, 0.5, 1]\n",
    "    mesh.set_facecolor(face_color)\n",
    "    ax.add_collection3d(mesh)\n",
    "    ax.set_xlim(0, p.shape[0])\n",
    "    ax.set_ylim(0, p.shape[1])\n",
    "    ax.set_zlim(0, p.shape[2])\n",
    "    "
   ]
  },
  {
   "cell_type": "code",
   "execution_count": 96,
   "metadata": {
    "ExecuteTime": {
     "end_time": "2021-08-01T12:36:47.541874Z",
     "start_time": "2021-08-01T12:36:47.520349Z"
    }
   },
   "outputs": [],
   "source": [
    "def load_dicom_image(path, img_size=512, voi_lut=True):\n",
    "    dicom = pydicom.read_file(path)\n",
    "    data = dicom.pixel_array\n",
    "    if voi_lut:\n",
    "        data = apply_voi_lut(dicom.pixel_array, dicom)\n",
    "    else:\n",
    "        data = dicom.pixel_array\n",
    "    data = cv2.resize(data, (img_size, img_size))\n",
    "    return data\n",
    "\n",
    "\n",
    "def load_dicom_images_3d(scan_id, num_imgs=64, img_size=512, mri_type=\"FLAIR\", split=\"train\"):\n",
    "\n",
    "    files = sorted(glob.glob(f\"{str(data_path)}/{split}/{scan_id}/{mri_type}/*.dcm\"), \n",
    "               key=lambda var:[int(x) if x.isdigit() else x for x in re.findall(r'[^0-9]|[0-9]+', var)])\n",
    "\n",
    "    middle = len(files)//2\n",
    "    num_imgs2 = num_imgs//2\n",
    "    p1 = max(0, middle - num_imgs2)\n",
    "    p2 = min(len(files), middle + num_imgs2)\n",
    "    img3d = np.stack([load_dicom_image(f) for f in files[p1:p2]]).T \n",
    "    if img3d.shape[-1] < num_imgs:\n",
    "        n_zero = np.zeros((img_size, img_size, num_imgs - img3d.shape[-1]))\n",
    "        img3d = np.concatenate((img3d,  n_zero), axis = -1)\n",
    "        \n",
    "    if np.min(img3d) < np.max(img3d):\n",
    "        img3d = img3d - np.min(img3d)\n",
    "        img3d = img3d / np.max(img3d)\n",
    "            \n",
    "    return np.expand_dims(img3d,0)"
   ]
  },
  {
   "cell_type": "code",
   "execution_count": 102,
   "metadata": {
    "ExecuteTime": {
     "end_time": "2021-08-01T12:40:04.543133Z",
     "start_time": "2021-08-01T12:39:58.758086Z"
    }
   },
   "outputs": [
    {
     "name": "stdout",
     "output_type": "stream",
     "text": [
      "(1, 512, 512, 514)\n",
      "0.0 1.0 0.03521045310657313 0.0 0.11942543713947013\n"
     ]
    }
   ],
   "source": [
    "for i, scan_type in enumerate(SCAN_TYPE):\n",
    "    for j in range(2):\n",
    "        if j == 0:\n",
    "            index = df.loc[df['scan_type'] == scan_type, 'count'].argmax()\n",
    "            image_count = df.loc[df['scan_type'] == scan_type, 'count'].max()\n",
    "        else:\n",
    "            index = df.loc[df['scan_type'] == scan_type, 'count'].argmin()\n",
    "            image_count = df.loc[df['scan_type'] == scan_type, 'count'].min()\n",
    "    \n",
    "\n",
    "id_ = df.iloc[index]['BraTS21ID']\n",
    "\n",
    "images = load_dicom_images_3d(f\"{id_}\".zfill(5), num_imgs=image_count)\n",
    "print(images.shape)\n",
    "print(images.min(), images.max(), images.mean(), np.median(images), images.std())\n"
   ]
  },
  {
   "cell_type": "code",
   "execution_count": 105,
   "metadata": {
    "ExecuteTime": {
     "end_time": "2021-08-01T12:43:48.489099Z",
     "start_time": "2021-08-01T12:42:55.031960Z"
    }
   },
   "outputs": [
    {
     "data": {
      "image/png": "[encoded data removed]",
      "text/plain": [
       "<Figure size 720x720 with 1 Axes>"
      ]
     },
     "metadata": {
      "needs_background": "light"
     },
     "output_type": "display_data"
    }
   ],
   "source": [
    "plot_3d(images.squeeze(0), threshold=np.quantile(images, 0.1))"
   ]
  },
  {
   "cell_type": "code",
   "execution_count": 33,
   "metadata": {
    "ExecuteTime": {
     "end_time": "2021-08-01T12:20:30.009033Z",
     "start_time": "2021-08-01T12:20:29.992034Z"
    }
   },
   "outputs": [
    {
     "data": {
      "text/html": [
       "<div>\n",
       "<style scoped>\n",
       "    .dataframe tbody tr th:only-of-type {\n",
       "        vertical-align: middle;\n",
       "    }\n",
       "\n",
       "    .dataframe tbody tr th {\n",
       "        vertical-align: top;\n",
       "    }\n",
       "\n",
       "    .dataframe thead th {\n",
       "        text-align: right;\n",
       "    }\n",
       "</style>\n",
       "<table border=\"1\" class=\"dataframe\">\n",
       "  <thead>\n",
       "    <tr style=\"text-align: right;\">\n",
       "      <th></th>\n",
       "      <th>count</th>\n",
       "      <th>scan_type</th>\n",
       "      <th>BraTS21ID</th>\n",
       "    </tr>\n",
       "  </thead>\n",
       "  <tbody>\n",
       "    <tr>\n",
       "      <th>0</th>\n",
       "      <td>400</td>\n",
       "      <td>FLAIR</td>\n",
       "      <td>00000</td>\n",
       "    </tr>\n",
       "    <tr>\n",
       "      <th>1</th>\n",
       "      <td>129</td>\n",
       "      <td>FLAIR</td>\n",
       "      <td>00002</td>\n",
       "    </tr>\n",
       "    <tr>\n",
       "      <th>2</th>\n",
       "      <td>129</td>\n",
       "      <td>FLAIR</td>\n",
       "      <td>00003</td>\n",
       "    </tr>\n",
       "    <tr>\n",
       "      <th>3</th>\n",
       "      <td>400</td>\n",
       "      <td>FLAIR</td>\n",
       "      <td>00005</td>\n",
       "    </tr>\n",
       "    <tr>\n",
       "      <th>4</th>\n",
       "      <td>129</td>\n",
       "      <td>FLAIR</td>\n",
       "      <td>00006</td>\n",
       "    </tr>\n",
       "    <tr>\n",
       "      <th>...</th>\n",
       "      <td>...</td>\n",
       "      <td>...</td>\n",
       "      <td>...</td>\n",
       "    </tr>\n",
       "    <tr>\n",
       "      <th>580</th>\n",
       "      <td>23</td>\n",
       "      <td>T2w</td>\n",
       "      <td>01005</td>\n",
       "    </tr>\n",
       "    <tr>\n",
       "      <th>581</th>\n",
       "      <td>124</td>\n",
       "      <td>T2w</td>\n",
       "      <td>01007</td>\n",
       "    </tr>\n",
       "    <tr>\n",
       "      <th>582</th>\n",
       "      <td>64</td>\n",
       "      <td>T2w</td>\n",
       "      <td>01008</td>\n",
       "    </tr>\n",
       "    <tr>\n",
       "      <th>583</th>\n",
       "      <td>23</td>\n",
       "      <td>T2w</td>\n",
       "      <td>01009</td>\n",
       "    </tr>\n",
       "    <tr>\n",
       "      <th>584</th>\n",
       "      <td>64</td>\n",
       "      <td>T2w</td>\n",
       "      <td>01010</td>\n",
       "    </tr>\n",
       "  </tbody>\n",
       "</table>\n",
       "<p>2340 rows × 3 columns</p>\n",
       "</div>"
      ],
      "text/plain": [
       "     count scan_type BraTS21ID\n",
       "0      400     FLAIR     00000\n",
       "1      129     FLAIR     00002\n",
       "2      129     FLAIR     00003\n",
       "3      400     FLAIR     00005\n",
       "4      129     FLAIR     00006\n",
       "..     ...       ...       ...\n",
       "580     23       T2w     01005\n",
       "581    124       T2w     01007\n",
       "582     64       T2w     01008\n",
       "583     23       T2w     01009\n",
       "584     64       T2w     01010\n",
       "\n",
       "[2340 rows x 3 columns]"
      ]
     },
     "execution_count": 33,
     "metadata": {},
     "output_type": "execute_result"
    }
   ],
   "source": []
  },
  {
   "cell_type": "code",
   "execution_count": null,
   "metadata": {},
   "outputs": [],
   "source": []
  }
 ],
 "metadata": {
  "hide_input": false,
  "kernelspec": {
   "display_name": "torch",
   "language": "python",
   "name": "torch"
  },
  "language_info": {
   "codemirror_mode": {
    "name": "ipython",
    "version": 3
   },
   "file_extension": ".py",
   "mimetype": "text/x-python",
   "name": "python",
   "nbconvert_exporter": "python",
   "pygments_lexer": "ipython3",
   "version": "3.6.12"
  },
  "latex_envs": {
   "LaTeX_envs_menu_present": true,
   "autoclose": false,
   "autocomplete": true,
   "bibliofile": "biblio.bib",
   "cite_by": "apalike",
   "current_citInitial": 1,
   "eqLabelWithNumbers": true,
   "eqNumInitial": 1,
   "hotkeys": {
    "equation": "Ctrl-E",
    "itemize": "Ctrl-I"
   },
   "labels_anchors": false,
   "latex_user_defs": false,
   "report_style_numbering": false,
   "user_envs_cfg": false
  },
  "toc": {
   "base_numbering": 1,
   "nav_menu": {},
   "number_sections": true,
   "sideBar": true,
   "skip_h1_title": false,
   "title_cell": "Table of Contents",
   "title_sidebar": "Contents",
   "toc_cell": false,
   "toc_position": {
    "height": "calc(100% - 180px)",
    "left": "10px",
    "top": "150px",
    "width": "384px"
   },
   "toc_section_display": true,
   "toc_window_display": true
  },
  "varInspector": {
   "cols": {
    "lenName": 16,
    "lenType": 16,
    "lenVar": 40
   },
   "kernels_config": {
    "python": {
     "delete_cmd_postfix": "",
     "delete_cmd_prefix": "del ",
     "library": "var_list.py",
     "varRefreshCmd": "print(var_dic_list())"
    },
    "r": {
     "delete_cmd_postfix": ") ",
     "delete_cmd_prefix": "rm(",
     "library": "var_list.r",
     "varRefreshCmd": "cat(var_dic_list()) "
    }
   },
   "types_to_exclude": [
    "module",
    "function",
    "builtin_function_or_method",
    "instance",
    "_Feature"
   ],
   "window_display": false
  }
 },
 "nbformat": 4,
 "nbformat_minor": 4
}
