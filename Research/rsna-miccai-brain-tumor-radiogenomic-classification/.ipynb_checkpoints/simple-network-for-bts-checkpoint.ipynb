{
 "cells": [
  {
   "cell_type": "markdown",
   "metadata": {
    "_cell_guid": "b1076dfc-b9ad-4769-8c92-a6c4dae69d19",
    "_uuid": "8f2839f25d086af736a60e9eeb907d3b93b6e0e5"
   },
   "source": [
    "# Import Libraries "
   ]
  },
  {
   "cell_type": "code",
   "execution_count": 1,
   "metadata": {
    "ExecuteTime": {
     "end_time": "2021-08-01T06:26:09.941156Z",
     "start_time": "2021-08-01T06:26:08.027123Z"
    },
    "execution": {
     "iopub.execute_input": "2021-07-31T14:08:42.391473Z",
     "iopub.status.busy": "2021-07-31T14:08:42.391072Z",
     "iopub.status.idle": "2021-07-31T14:08:43.164287Z",
     "shell.execute_reply": "2021-07-31T14:08:43.163487Z",
     "shell.execute_reply.started": "2021-07-31T14:08:42.391387Z"
    }
   },
   "outputs": [],
   "source": [
    "# https://www.kaggle.com/rluethy/efficientnet3d-with-one-mri-type\n",
    "import os\n",
    "import sys \n",
    "import json\n",
    "import glob\n",
    "import random\n",
    "import collections\n",
    "import time\n",
    "from pathlib import Path\n",
    "from tqdm.notebook import tqdm\n",
    "\n",
    "import numpy as np\n",
    "import pandas as pd\n",
    "import cv2\n",
    "import matplotlib.pyplot as plt\n",
    "import seaborn as sns\n",
    "\n",
    "import torch\n",
    "from torch import nn\n",
    "from torch.utils.data import Dataset, DataLoader\n",
    "from sklearn.model_selection import train_test_split\n",
    "import torch.nn.functional as F\n",
    "\n",
    "from sklearn.model_selection import StratifiedKFold\n",
    "from sklearn.metrics import roc_auc_score\n",
    "\n",
    "import warnings\n",
    "warnings.filterwarnings(\"ignore\")"
   ]
  },
  {
   "cell_type": "markdown",
   "metadata": {},
   "source": [
    "# System Constants"
   ]
  },
  {
   "cell_type": "code",
   "execution_count": 2,
   "metadata": {
    "ExecuteTime": {
     "end_time": "2021-08-01T06:26:09.956159Z",
     "start_time": "2021-08-01T06:26:09.942155Z"
    },
    "execution": {
     "iopub.execute_input": "2021-07-31T14:08:43.166628Z",
     "iopub.status.busy": "2021-07-31T14:08:43.166251Z",
     "iopub.status.idle": "2021-07-31T14:08:43.171050Z",
     "shell.execute_reply": "2021-07-31T14:08:43.169973Z",
     "shell.execute_reply.started": "2021-07-31T14:08:43.166591Z"
    }
   },
   "outputs": [],
   "source": [
    "SCAN_TYPE = ('FLAIR', 'T1w', 'T1wCE', 'T2w')"
   ]
  },
  {
   "cell_type": "markdown",
   "metadata": {},
   "source": [
    "# Hyperparameters"
   ]
  },
  {
   "cell_type": "code",
   "execution_count": 3,
   "metadata": {
    "ExecuteTime": {
     "end_time": "2021-08-01T06:26:09.971183Z",
     "start_time": "2021-08-01T06:26:09.958170Z"
    },
    "execution": {
     "iopub.execute_input": "2021-07-31T14:08:43.173183Z",
     "iopub.status.busy": "2021-07-31T14:08:43.172796Z",
     "iopub.status.idle": "2021-07-31T14:08:43.180607Z",
     "shell.execute_reply": "2021-07-31T14:08:43.179915Z",
     "shell.execute_reply.started": "2021-07-31T14:08:43.173146Z"
    }
   },
   "outputs": [],
   "source": [
    "SEED = 42\n",
    "\n",
    "IMAGE_SIZE = 256\n",
    "BATCH_SIZE = 64\n",
    "LEARNING_RATE = 1e-6\n",
    "WEIGHT_DECAY = 1e-4\n",
    "EPOCH_NUM = 1000"
   ]
  },
  {
   "cell_type": "markdown",
   "metadata": {},
   "source": [
    "# Set System"
   ]
  },
  {
   "cell_type": "code",
   "execution_count": 4,
   "metadata": {
    "ExecuteTime": {
     "end_time": "2021-08-01T06:26:10.017146Z",
     "start_time": "2021-08-01T06:26:09.973185Z"
    },
    "execution": {
     "iopub.execute_input": "2021-07-31T14:08:43.181822Z",
     "iopub.status.busy": "2021-07-31T14:08:43.181561Z",
     "iopub.status.idle": "2021-07-31T14:08:43.210626Z",
     "shell.execute_reply": "2021-07-31T14:08:43.209849Z",
     "shell.execute_reply.started": "2021-07-31T14:08:43.181798Z"
    }
   },
   "outputs": [],
   "source": [
    "def set_seed(seed):\n",
    "    random.seed(seed)\n",
    "    os.environ[\"PYTHONHASHSEED\"] = str(seed)\n",
    "    np.random.seed(seed)\n",
    "    torch.manual_seed(seed)\n",
    "    if torch.cuda.is_available():\n",
    "        torch.cuda.manual_seed_all(seed)\n",
    "        torch.backends.cudnn.deterministic = True\n",
    "\n",
    "set_seed(SEED)"
   ]
  },
  {
   "cell_type": "code",
   "execution_count": 5,
   "metadata": {
    "ExecuteTime": {
     "end_time": "2021-08-01T06:26:10.032146Z",
     "start_time": "2021-08-01T06:26:10.018148Z"
    },
    "execution": {
     "iopub.execute_input": "2021-07-31T14:08:43.212629Z",
     "iopub.status.busy": "2021-07-31T14:08:43.212357Z",
     "iopub.status.idle": "2021-07-31T14:08:43.221238Z",
     "shell.execute_reply": "2021-07-31T14:08:43.220389Z",
     "shell.execute_reply.started": "2021-07-31T14:08:43.212605Z"
    }
   },
   "outputs": [
    {
     "data": {
      "text/plain": [
       "device(type='cuda')"
      ]
     },
     "execution_count": 5,
     "metadata": {},
     "output_type": "execute_result"
    }
   ],
   "source": [
    "device = torch.device( 'cuda' if torch.cuda.is_available() else 'cpu' )\n",
    "device"
   ]
  },
  {
   "cell_type": "code",
   "execution_count": 6,
   "metadata": {
    "ExecuteTime": {
     "end_time": "2021-08-01T06:26:10.047146Z",
     "start_time": "2021-08-01T06:26:10.033146Z"
    },
    "execution": {
     "iopub.execute_input": "2021-07-31T14:08:43.223608Z",
     "iopub.status.busy": "2021-07-31T14:08:43.222896Z",
     "iopub.status.idle": "2021-07-31T14:08:43.228123Z",
     "shell.execute_reply": "2021-07-31T14:08:43.227179Z",
     "shell.execute_reply.started": "2021-07-31T14:08:43.223571Z"
    }
   },
   "outputs": [],
   "source": [
    "data_path = Path('E:\\\\datasets\\\\RSNA MICCAI PNG')\n",
    "label_path = Path('E:\\\\datasets\\\\rsna-miccai-brain-tumor-radiogenomic-classification')"
   ]
  },
  {
   "cell_type": "markdown",
   "metadata": {},
   "source": [
    "# Load data\n",
    "## Load label"
   ]
  },
  {
   "cell_type": "code",
   "execution_count": 7,
   "metadata": {
    "ExecuteTime": {
     "end_time": "2021-08-01T06:26:10.077146Z",
     "start_time": "2021-08-01T06:26:10.048147Z"
    },
    "execution": {
     "iopub.execute_input": "2021-07-31T14:08:43.230407Z",
     "iopub.status.busy": "2021-07-31T14:08:43.229780Z",
     "iopub.status.idle": "2021-07-31T14:08:43.248971Z",
     "shell.execute_reply": "2021-07-31T14:08:43.248274Z",
     "shell.execute_reply.started": "2021-07-31T14:08:43.230354Z"
    },
    "scrolled": true
   },
   "outputs": [
    {
     "name": "stdout",
     "output_type": "stream",
     "text": [
      "(585, 2)\n"
     ]
    },
    {
     "data": {
      "text/html": [
       "<div>\n",
       "<style scoped>\n",
       "    .dataframe tbody tr th:only-of-type {\n",
       "        vertical-align: middle;\n",
       "    }\n",
       "\n",
       "    .dataframe tbody tr th {\n",
       "        vertical-align: top;\n",
       "    }\n",
       "\n",
       "    .dataframe thead th {\n",
       "        text-align: right;\n",
       "    }\n",
       "</style>\n",
       "<table border=\"1\" class=\"dataframe\">\n",
       "  <thead>\n",
       "    <tr style=\"text-align: right;\">\n",
       "      <th></th>\n",
       "      <th>BraTS21ID</th>\n",
       "      <th>MGMT_value</th>\n",
       "    </tr>\n",
       "  </thead>\n",
       "  <tbody>\n",
       "    <tr>\n",
       "      <th>0</th>\n",
       "      <td>0</td>\n",
       "      <td>1</td>\n",
       "    </tr>\n",
       "    <tr>\n",
       "      <th>1</th>\n",
       "      <td>2</td>\n",
       "      <td>1</td>\n",
       "    </tr>\n",
       "    <tr>\n",
       "      <th>2</th>\n",
       "      <td>3</td>\n",
       "      <td>0</td>\n",
       "    </tr>\n",
       "    <tr>\n",
       "      <th>3</th>\n",
       "      <td>5</td>\n",
       "      <td>1</td>\n",
       "    </tr>\n",
       "    <tr>\n",
       "      <th>4</th>\n",
       "      <td>6</td>\n",
       "      <td>1</td>\n",
       "    </tr>\n",
       "  </tbody>\n",
       "</table>\n",
       "</div>"
      ],
      "text/plain": [
       "   BraTS21ID  MGMT_value\n",
       "0          0           1\n",
       "1          2           1\n",
       "2          3           0\n",
       "3          5           1\n",
       "4          6           1"
      ]
     },
     "execution_count": 7,
     "metadata": {},
     "output_type": "execute_result"
    }
   ],
   "source": [
    "df_label = pd.read_csv(str(label_path / \"train_labels.csv\"))\n",
    "\n",
    "print(df_label.shape)\n",
    "df_label.head()"
   ]
  },
  {
   "cell_type": "markdown",
   "metadata": {},
   "source": [
    "## Load submission sample"
   ]
  },
  {
   "cell_type": "code",
   "execution_count": 8,
   "metadata": {
    "ExecuteTime": {
     "end_time": "2021-08-01T06:26:10.092147Z",
     "start_time": "2021-08-01T06:26:10.079148Z"
    },
    "execution": {
     "iopub.execute_input": "2021-07-31T14:08:43.252069Z",
     "iopub.status.busy": "2021-07-31T14:08:43.251817Z",
     "iopub.status.idle": "2021-07-31T14:08:43.267049Z",
     "shell.execute_reply": "2021-07-31T14:08:43.266181Z",
     "shell.execute_reply.started": "2021-07-31T14:08:43.252044Z"
    },
    "scrolled": true
   },
   "outputs": [
    {
     "name": "stdout",
     "output_type": "stream",
     "text": [
      "(87, 2)\n"
     ]
    },
    {
     "data": {
      "text/html": [
       "<div>\n",
       "<style scoped>\n",
       "    .dataframe tbody tr th:only-of-type {\n",
       "        vertical-align: middle;\n",
       "    }\n",
       "\n",
       "    .dataframe tbody tr th {\n",
       "        vertical-align: top;\n",
       "    }\n",
       "\n",
       "    .dataframe thead th {\n",
       "        text-align: right;\n",
       "    }\n",
       "</style>\n",
       "<table border=\"1\" class=\"dataframe\">\n",
       "  <thead>\n",
       "    <tr style=\"text-align: right;\">\n",
       "      <th></th>\n",
       "      <th>BraTS21ID</th>\n",
       "      <th>MGMT_value</th>\n",
       "    </tr>\n",
       "  </thead>\n",
       "  <tbody>\n",
       "    <tr>\n",
       "      <th>0</th>\n",
       "      <td>1</td>\n",
       "      <td>0.5</td>\n",
       "    </tr>\n",
       "    <tr>\n",
       "      <th>1</th>\n",
       "      <td>13</td>\n",
       "      <td>0.5</td>\n",
       "    </tr>\n",
       "    <tr>\n",
       "      <th>2</th>\n",
       "      <td>15</td>\n",
       "      <td>0.5</td>\n",
       "    </tr>\n",
       "    <tr>\n",
       "      <th>3</th>\n",
       "      <td>27</td>\n",
       "      <td>0.5</td>\n",
       "    </tr>\n",
       "    <tr>\n",
       "      <th>4</th>\n",
       "      <td>37</td>\n",
       "      <td>0.5</td>\n",
       "    </tr>\n",
       "  </tbody>\n",
       "</table>\n",
       "</div>"
      ],
      "text/plain": [
       "   BraTS21ID  MGMT_value\n",
       "0          1         0.5\n",
       "1         13         0.5\n",
       "2         15         0.5\n",
       "3         27         0.5\n",
       "4         37         0.5"
      ]
     },
     "execution_count": 8,
     "metadata": {},
     "output_type": "execute_result"
    }
   ],
   "source": [
    "df_submission = pd.read_csv(str(label_path / \"sample_submission.csv\"))\n",
    "\n",
    "print(df_submission.shape)\n",
    "df_submission.head()"
   ]
  },
  {
   "cell_type": "markdown",
   "metadata": {},
   "source": [
    "## Train valid split"
   ]
  },
  {
   "cell_type": "code",
   "execution_count": 9,
   "metadata": {
    "ExecuteTime": {
     "end_time": "2021-08-01T06:26:10.152146Z",
     "start_time": "2021-08-01T06:26:10.094150Z"
    },
    "execution": {
     "iopub.execute_input": "2021-07-31T14:08:43.269439Z",
     "iopub.status.busy": "2021-07-31T14:08:43.269092Z",
     "iopub.status.idle": "2021-07-31T14:08:43.415502Z",
     "shell.execute_reply": "2021-07-31T14:08:43.414645Z",
     "shell.execute_reply.started": "2021-07-31T14:08:43.269402Z"
    }
   },
   "outputs": [],
   "source": [
    "trainval_path_list = glob.glob(str(data_path / \"train\" / '*'))\n",
    "train_path_list, valid_path_list = train_test_split(trainval_path_list, test_size = 0.1)\n",
    "\n",
    "test_path_list = glob.glob(str(data_path / \"test\" / '*' / SCAN_TYPE[0] / '*.png'))"
   ]
  },
  {
   "cell_type": "markdown",
   "metadata": {},
   "source": [
    "## Set train, valid path"
   ]
  },
  {
   "cell_type": "code",
   "execution_count": 10,
   "metadata": {
    "ExecuteTime": {
     "end_time": "2021-08-01T06:26:10.422146Z",
     "start_time": "2021-08-01T06:26:10.153148Z"
    },
    "execution": {
     "iopub.execute_input": "2021-07-31T14:08:43.418971Z",
     "iopub.status.busy": "2021-07-31T14:08:43.418708Z",
     "iopub.status.idle": "2021-07-31T14:08:44.066702Z",
     "shell.execute_reply": "2021-07-31T14:08:44.065818Z",
     "shell.execute_reply.started": "2021-07-31T14:08:43.418938Z"
    }
   },
   "outputs": [],
   "source": [
    "path_list = []\n",
    "for path in train_path_list:\n",
    "    path_list += glob.glob(str(Path(path) / SCAN_TYPE[0] / '*.png'))\n",
    "train_path_list = path_list\n",
    "\n",
    "path_list = []\n",
    "for path in valid_path_list:\n",
    "    path_list += glob.glob(str(Path(path) / SCAN_TYPE[0] / '*.png'))\n",
    "valid_path_list = path_list"
   ]
  },
  {
   "cell_type": "markdown",
   "metadata": {},
   "source": [
    "## Create Train DataFrame"
   ]
  },
  {
   "cell_type": "code",
   "execution_count": 11,
   "metadata": {
    "ExecuteTime": {
     "end_time": "2021-08-01T06:26:20.187176Z",
     "start_time": "2021-08-01T06:26:10.423148Z"
    },
    "execution": {
     "iopub.execute_input": "2021-07-31T14:08:44.070257Z",
     "iopub.status.busy": "2021-07-31T14:08:44.069977Z",
     "iopub.status.idle": "2021-07-31T14:09:00.592528Z",
     "shell.execute_reply": "2021-07-31T14:09:00.591724Z",
     "shell.execute_reply.started": "2021-07-31T14:08:44.070228Z"
    }
   },
   "outputs": [
    {
     "data": {
      "text/html": [
       "<div>\n",
       "<style scoped>\n",
       "    .dataframe tbody tr th:only-of-type {\n",
       "        vertical-align: middle;\n",
       "    }\n",
       "\n",
       "    .dataframe tbody tr th {\n",
       "        vertical-align: top;\n",
       "    }\n",
       "\n",
       "    .dataframe thead th {\n",
       "        text-align: right;\n",
       "    }\n",
       "</style>\n",
       "<table border=\"1\" class=\"dataframe\">\n",
       "  <thead>\n",
       "    <tr style=\"text-align: right;\">\n",
       "      <th></th>\n",
       "      <th>file_path</th>\n",
       "      <th>BraTS21ID</th>\n",
       "      <th>MGMT_value</th>\n",
       "    </tr>\n",
       "  </thead>\n",
       "  <tbody>\n",
       "    <tr>\n",
       "      <th>0</th>\n",
       "      <td>E:\\datasets\\RSNA MICCAI PNG\\train\\00628\\FLAIR\\...</td>\n",
       "      <td>628</td>\n",
       "      <td>1</td>\n",
       "    </tr>\n",
       "    <tr>\n",
       "      <th>1</th>\n",
       "      <td>E:\\datasets\\RSNA MICCAI PNG\\train\\00628\\FLAIR\\...</td>\n",
       "      <td>628</td>\n",
       "      <td>1</td>\n",
       "    </tr>\n",
       "    <tr>\n",
       "      <th>2</th>\n",
       "      <td>E:\\datasets\\RSNA MICCAI PNG\\train\\00628\\FLAIR\\...</td>\n",
       "      <td>628</td>\n",
       "      <td>1</td>\n",
       "    </tr>\n",
       "    <tr>\n",
       "      <th>3</th>\n",
       "      <td>E:\\datasets\\RSNA MICCAI PNG\\train\\00628\\FLAIR\\...</td>\n",
       "      <td>628</td>\n",
       "      <td>1</td>\n",
       "    </tr>\n",
       "    <tr>\n",
       "      <th>4</th>\n",
       "      <td>E:\\datasets\\RSNA MICCAI PNG\\train\\00628\\FLAIR\\...</td>\n",
       "      <td>628</td>\n",
       "      <td>1</td>\n",
       "    </tr>\n",
       "    <tr>\n",
       "      <th>...</th>\n",
       "      <td>...</td>\n",
       "      <td>...</td>\n",
       "      <td>...</td>\n",
       "    </tr>\n",
       "    <tr>\n",
       "      <th>48549</th>\n",
       "      <td>E:\\datasets\\RSNA MICCAI PNG\\train\\00154\\FLAIR\\...</td>\n",
       "      <td>154</td>\n",
       "      <td>0</td>\n",
       "    </tr>\n",
       "    <tr>\n",
       "      <th>48550</th>\n",
       "      <td>E:\\datasets\\RSNA MICCAI PNG\\train\\00154\\FLAIR\\...</td>\n",
       "      <td>154</td>\n",
       "      <td>0</td>\n",
       "    </tr>\n",
       "    <tr>\n",
       "      <th>48551</th>\n",
       "      <td>E:\\datasets\\RSNA MICCAI PNG\\train\\00154\\FLAIR\\...</td>\n",
       "      <td>154</td>\n",
       "      <td>0</td>\n",
       "    </tr>\n",
       "    <tr>\n",
       "      <th>48552</th>\n",
       "      <td>E:\\datasets\\RSNA MICCAI PNG\\train\\00154\\FLAIR\\...</td>\n",
       "      <td>154</td>\n",
       "      <td>0</td>\n",
       "    </tr>\n",
       "    <tr>\n",
       "      <th>48553</th>\n",
       "      <td>E:\\datasets\\RSNA MICCAI PNG\\train\\00154\\FLAIR\\...</td>\n",
       "      <td>154</td>\n",
       "      <td>0</td>\n",
       "    </tr>\n",
       "  </tbody>\n",
       "</table>\n",
       "<p>48554 rows × 3 columns</p>\n",
       "</div>"
      ],
      "text/plain": [
       "                                               file_path  BraTS21ID  \\\n",
       "0      E:\\datasets\\RSNA MICCAI PNG\\train\\00628\\FLAIR\\...        628   \n",
       "1      E:\\datasets\\RSNA MICCAI PNG\\train\\00628\\FLAIR\\...        628   \n",
       "2      E:\\datasets\\RSNA MICCAI PNG\\train\\00628\\FLAIR\\...        628   \n",
       "3      E:\\datasets\\RSNA MICCAI PNG\\train\\00628\\FLAIR\\...        628   \n",
       "4      E:\\datasets\\RSNA MICCAI PNG\\train\\00628\\FLAIR\\...        628   \n",
       "...                                                  ...        ...   \n",
       "48549  E:\\datasets\\RSNA MICCAI PNG\\train\\00154\\FLAIR\\...        154   \n",
       "48550  E:\\datasets\\RSNA MICCAI PNG\\train\\00154\\FLAIR\\...        154   \n",
       "48551  E:\\datasets\\RSNA MICCAI PNG\\train\\00154\\FLAIR\\...        154   \n",
       "48552  E:\\datasets\\RSNA MICCAI PNG\\train\\00154\\FLAIR\\...        154   \n",
       "48553  E:\\datasets\\RSNA MICCAI PNG\\train\\00154\\FLAIR\\...        154   \n",
       "\n",
       "       MGMT_value  \n",
       "0               1  \n",
       "1               1  \n",
       "2               1  \n",
       "3               1  \n",
       "4               1  \n",
       "...           ...  \n",
       "48549           0  \n",
       "48550           0  \n",
       "48551           0  \n",
       "48552           0  \n",
       "48553           0  \n",
       "\n",
       "[48554 rows x 3 columns]"
      ]
     },
     "execution_count": 11,
     "metadata": {},
     "output_type": "execute_result"
    }
   ],
   "source": [
    "df_train = pd.DataFrame(train_path_list, columns = ['file_path'])\n",
    "\n",
    "df_train['BraTS21ID'] = df_train.apply(lambda x: int(x['file_path'].split(os.path.sep)[-3]), axis = 1)\n",
    "\n",
    "df_train['MGMT_value'] = df_train.apply(lambda x: df_label.loc[df_label['BraTS21ID'] == x['BraTS21ID'], 'MGMT_value'].values, axis = 1).astype(int)\n",
    "\n",
    "df_train"
   ]
  },
  {
   "cell_type": "markdown",
   "metadata": {},
   "source": [
    "## Create Valid DataFrame"
   ]
  },
  {
   "cell_type": "code",
   "execution_count": 12,
   "metadata": {
    "ExecuteTime": {
     "end_time": "2021-08-01T06:26:21.237165Z",
     "start_time": "2021-08-01T06:26:20.188176Z"
    },
    "execution": {
     "iopub.execute_input": "2021-07-31T14:09:00.594174Z",
     "iopub.status.busy": "2021-07-31T14:09:00.593826Z",
     "iopub.status.idle": "2021-07-31T14:09:02.513160Z",
     "shell.execute_reply": "2021-07-31T14:09:02.512167Z",
     "shell.execute_reply.started": "2021-07-31T14:09:00.594137Z"
    },
    "scrolled": true
   },
   "outputs": [
    {
     "data": {
      "text/html": [
       "<div>\n",
       "<style scoped>\n",
       "    .dataframe tbody tr th:only-of-type {\n",
       "        vertical-align: middle;\n",
       "    }\n",
       "\n",
       "    .dataframe tbody tr th {\n",
       "        vertical-align: top;\n",
       "    }\n",
       "\n",
       "    .dataframe thead th {\n",
       "        text-align: right;\n",
       "    }\n",
       "</style>\n",
       "<table border=\"1\" class=\"dataframe\">\n",
       "  <thead>\n",
       "    <tr style=\"text-align: right;\">\n",
       "      <th></th>\n",
       "      <th>file_path</th>\n",
       "      <th>BraTS21ID</th>\n",
       "      <th>MGMT_value</th>\n",
       "    </tr>\n",
       "  </thead>\n",
       "  <tbody>\n",
       "    <tr>\n",
       "      <th>0</th>\n",
       "      <td>E:\\datasets\\RSNA MICCAI PNG\\train\\00561\\FLAIR\\...</td>\n",
       "      <td>561</td>\n",
       "      <td>1</td>\n",
       "    </tr>\n",
       "    <tr>\n",
       "      <th>1</th>\n",
       "      <td>E:\\datasets\\RSNA MICCAI PNG\\train\\00561\\FLAIR\\...</td>\n",
       "      <td>561</td>\n",
       "      <td>1</td>\n",
       "    </tr>\n",
       "    <tr>\n",
       "      <th>2</th>\n",
       "      <td>E:\\datasets\\RSNA MICCAI PNG\\train\\00561\\FLAIR\\...</td>\n",
       "      <td>561</td>\n",
       "      <td>1</td>\n",
       "    </tr>\n",
       "    <tr>\n",
       "      <th>3</th>\n",
       "      <td>E:\\datasets\\RSNA MICCAI PNG\\train\\00561\\FLAIR\\...</td>\n",
       "      <td>561</td>\n",
       "      <td>1</td>\n",
       "    </tr>\n",
       "    <tr>\n",
       "      <th>4</th>\n",
       "      <td>E:\\datasets\\RSNA MICCAI PNG\\train\\00561\\FLAIR\\...</td>\n",
       "      <td>561</td>\n",
       "      <td>1</td>\n",
       "    </tr>\n",
       "    <tr>\n",
       "      <th>...</th>\n",
       "      <td>...</td>\n",
       "      <td>...</td>\n",
       "      <td>...</td>\n",
       "    </tr>\n",
       "    <tr>\n",
       "      <th>5123</th>\n",
       "      <td>E:\\datasets\\RSNA MICCAI PNG\\train\\00652\\FLAIR\\...</td>\n",
       "      <td>652</td>\n",
       "      <td>1</td>\n",
       "    </tr>\n",
       "    <tr>\n",
       "      <th>5124</th>\n",
       "      <td>E:\\datasets\\RSNA MICCAI PNG\\train\\00652\\FLAIR\\...</td>\n",
       "      <td>652</td>\n",
       "      <td>1</td>\n",
       "    </tr>\n",
       "    <tr>\n",
       "      <th>5125</th>\n",
       "      <td>E:\\datasets\\RSNA MICCAI PNG\\train\\00652\\FLAIR\\...</td>\n",
       "      <td>652</td>\n",
       "      <td>1</td>\n",
       "    </tr>\n",
       "    <tr>\n",
       "      <th>5126</th>\n",
       "      <td>E:\\datasets\\RSNA MICCAI PNG\\train\\00652\\FLAIR\\...</td>\n",
       "      <td>652</td>\n",
       "      <td>1</td>\n",
       "    </tr>\n",
       "    <tr>\n",
       "      <th>5127</th>\n",
       "      <td>E:\\datasets\\RSNA MICCAI PNG\\train\\00652\\FLAIR\\...</td>\n",
       "      <td>652</td>\n",
       "      <td>1</td>\n",
       "    </tr>\n",
       "  </tbody>\n",
       "</table>\n",
       "<p>5128 rows × 3 columns</p>\n",
       "</div>"
      ],
      "text/plain": [
       "                                              file_path  BraTS21ID  MGMT_value\n",
       "0     E:\\datasets\\RSNA MICCAI PNG\\train\\00561\\FLAIR\\...        561           1\n",
       "1     E:\\datasets\\RSNA MICCAI PNG\\train\\00561\\FLAIR\\...        561           1\n",
       "2     E:\\datasets\\RSNA MICCAI PNG\\train\\00561\\FLAIR\\...        561           1\n",
       "3     E:\\datasets\\RSNA MICCAI PNG\\train\\00561\\FLAIR\\...        561           1\n",
       "4     E:\\datasets\\RSNA MICCAI PNG\\train\\00561\\FLAIR\\...        561           1\n",
       "...                                                 ...        ...         ...\n",
       "5123  E:\\datasets\\RSNA MICCAI PNG\\train\\00652\\FLAIR\\...        652           1\n",
       "5124  E:\\datasets\\RSNA MICCAI PNG\\train\\00652\\FLAIR\\...        652           1\n",
       "5125  E:\\datasets\\RSNA MICCAI PNG\\train\\00652\\FLAIR\\...        652           1\n",
       "5126  E:\\datasets\\RSNA MICCAI PNG\\train\\00652\\FLAIR\\...        652           1\n",
       "5127  E:\\datasets\\RSNA MICCAI PNG\\train\\00652\\FLAIR\\...        652           1\n",
       "\n",
       "[5128 rows x 3 columns]"
      ]
     },
     "execution_count": 12,
     "metadata": {},
     "output_type": "execute_result"
    }
   ],
   "source": [
    "df_valid = pd.DataFrame(valid_path_list, columns = ['file_path'])\n",
    "\n",
    "df_valid['BraTS21ID'] = df_valid.apply(lambda x: int(x['file_path'].split(os.path.sep)[-3]), axis = 1)\n",
    "\n",
    "df_valid['MGMT_value'] = df_valid.apply(lambda x: df_label.loc[df_label['BraTS21ID'] == x['BraTS21ID'], 'MGMT_value'].values, axis = 1).astype(int)\n",
    "\n",
    "df_valid"
   ]
  },
  {
   "cell_type": "markdown",
   "metadata": {},
   "source": [
    "## Create Test DataFrame"
   ]
  },
  {
   "cell_type": "code",
   "execution_count": 13,
   "metadata": {
    "ExecuteTime": {
     "end_time": "2021-08-01T06:26:21.297167Z",
     "start_time": "2021-08-01T06:26:21.239167Z"
    },
    "execution": {
     "iopub.execute_input": "2021-07-31T14:09:02.515463Z",
     "iopub.status.busy": "2021-07-31T14:09:02.514800Z",
     "iopub.status.idle": "2021-07-31T14:09:02.683492Z",
     "shell.execute_reply": "2021-07-31T14:09:02.682497Z",
     "shell.execute_reply.started": "2021-07-31T14:09:02.515419Z"
    }
   },
   "outputs": [
    {
     "data": {
      "text/html": [
       "<div>\n",
       "<style scoped>\n",
       "    .dataframe tbody tr th:only-of-type {\n",
       "        vertical-align: middle;\n",
       "    }\n",
       "\n",
       "    .dataframe tbody tr th {\n",
       "        vertical-align: top;\n",
       "    }\n",
       "\n",
       "    .dataframe thead th {\n",
       "        text-align: right;\n",
       "    }\n",
       "</style>\n",
       "<table border=\"1\" class=\"dataframe\">\n",
       "  <thead>\n",
       "    <tr style=\"text-align: right;\">\n",
       "      <th></th>\n",
       "      <th>file_path</th>\n",
       "      <th>BraTS21ID</th>\n",
       "    </tr>\n",
       "  </thead>\n",
       "  <tbody>\n",
       "    <tr>\n",
       "      <th>0</th>\n",
       "      <td>E:\\datasets\\RSNA MICCAI PNG\\test\\00001\\FLAIR\\I...</td>\n",
       "      <td>1</td>\n",
       "    </tr>\n",
       "    <tr>\n",
       "      <th>1</th>\n",
       "      <td>E:\\datasets\\RSNA MICCAI PNG\\test\\00001\\FLAIR\\I...</td>\n",
       "      <td>1</td>\n",
       "    </tr>\n",
       "    <tr>\n",
       "      <th>2</th>\n",
       "      <td>E:\\datasets\\RSNA MICCAI PNG\\test\\00001\\FLAIR\\I...</td>\n",
       "      <td>1</td>\n",
       "    </tr>\n",
       "    <tr>\n",
       "      <th>3</th>\n",
       "      <td>E:\\datasets\\RSNA MICCAI PNG\\test\\00001\\FLAIR\\I...</td>\n",
       "      <td>1</td>\n",
       "    </tr>\n",
       "    <tr>\n",
       "      <th>4</th>\n",
       "      <td>E:\\datasets\\RSNA MICCAI PNG\\test\\00001\\FLAIR\\I...</td>\n",
       "      <td>1</td>\n",
       "    </tr>\n",
       "    <tr>\n",
       "      <th>...</th>\n",
       "      <td>...</td>\n",
       "      <td>...</td>\n",
       "    </tr>\n",
       "    <tr>\n",
       "      <th>7921</th>\n",
       "      <td>E:\\datasets\\RSNA MICCAI PNG\\test\\01006\\FLAIR\\I...</td>\n",
       "      <td>1006</td>\n",
       "    </tr>\n",
       "    <tr>\n",
       "      <th>7922</th>\n",
       "      <td>E:\\datasets\\RSNA MICCAI PNG\\test\\01006\\FLAIR\\I...</td>\n",
       "      <td>1006</td>\n",
       "    </tr>\n",
       "    <tr>\n",
       "      <th>7923</th>\n",
       "      <td>E:\\datasets\\RSNA MICCAI PNG\\test\\01006\\FLAIR\\I...</td>\n",
       "      <td>1006</td>\n",
       "    </tr>\n",
       "    <tr>\n",
       "      <th>7924</th>\n",
       "      <td>E:\\datasets\\RSNA MICCAI PNG\\test\\01006\\FLAIR\\I...</td>\n",
       "      <td>1006</td>\n",
       "    </tr>\n",
       "    <tr>\n",
       "      <th>7925</th>\n",
       "      <td>E:\\datasets\\RSNA MICCAI PNG\\test\\01006\\FLAIR\\I...</td>\n",
       "      <td>1006</td>\n",
       "    </tr>\n",
       "  </tbody>\n",
       "</table>\n",
       "<p>7926 rows × 2 columns</p>\n",
       "</div>"
      ],
      "text/plain": [
       "                                              file_path  BraTS21ID\n",
       "0     E:\\datasets\\RSNA MICCAI PNG\\test\\00001\\FLAIR\\I...          1\n",
       "1     E:\\datasets\\RSNA MICCAI PNG\\test\\00001\\FLAIR\\I...          1\n",
       "2     E:\\datasets\\RSNA MICCAI PNG\\test\\00001\\FLAIR\\I...          1\n",
       "3     E:\\datasets\\RSNA MICCAI PNG\\test\\00001\\FLAIR\\I...          1\n",
       "4     E:\\datasets\\RSNA MICCAI PNG\\test\\00001\\FLAIR\\I...          1\n",
       "...                                                 ...        ...\n",
       "7921  E:\\datasets\\RSNA MICCAI PNG\\test\\01006\\FLAIR\\I...       1006\n",
       "7922  E:\\datasets\\RSNA MICCAI PNG\\test\\01006\\FLAIR\\I...       1006\n",
       "7923  E:\\datasets\\RSNA MICCAI PNG\\test\\01006\\FLAIR\\I...       1006\n",
       "7924  E:\\datasets\\RSNA MICCAI PNG\\test\\01006\\FLAIR\\I...       1006\n",
       "7925  E:\\datasets\\RSNA MICCAI PNG\\test\\01006\\FLAIR\\I...       1006\n",
       "\n",
       "[7926 rows x 2 columns]"
      ]
     },
     "execution_count": 13,
     "metadata": {},
     "output_type": "execute_result"
    }
   ],
   "source": [
    "df_test = pd.DataFrame(test_path_list, columns = ['file_path'])\n",
    "\n",
    "df_test['BraTS21ID'] = df_test.apply(lambda x: int(x['file_path'].split(os.path.sep)[-3]), axis = 1)\n",
    "\n",
    "df_test"
   ]
  },
  {
   "cell_type": "markdown",
   "metadata": {},
   "source": [
    "# Dataset"
   ]
  },
  {
   "cell_type": "code",
   "execution_count": 14,
   "metadata": {
    "ExecuteTime": {
     "end_time": "2021-08-01T06:26:21.312165Z",
     "start_time": "2021-08-01T06:26:21.298167Z"
    },
    "execution": {
     "iopub.execute_input": "2021-07-31T14:09:02.687577Z",
     "iopub.status.busy": "2021-07-31T14:09:02.687212Z",
     "iopub.status.idle": "2021-07-31T14:09:02.699519Z",
     "shell.execute_reply": "2021-07-31T14:09:02.698378Z",
     "shell.execute_reply.started": "2021-07-31T14:09:02.687540Z"
    }
   },
   "outputs": [],
   "source": [
    "class CustomDataset(Dataset):\n",
    "    def __init__(self, df, is_train = False):\n",
    "        self.df = df\n",
    "        self.is_train = is_train\n",
    "        \n",
    "    def __len__(self):\n",
    "        return self.df.shape[0]\n",
    "    \n",
    "    def __getitem__(self, idx):\n",
    "        path = self.df.iloc[idx]['file_path']\n",
    "        X = torch.Tensor(cv2.resize(cv2.imread(path, cv2.IMREAD_GRAYSCALE), (IMAGE_SIZE, IMAGE_SIZE)))\n",
    "        bts_id = self.df.iloc[idx]['BraTS21ID']\n",
    "        \n",
    "        if self.is_train:\n",
    "            y = self.df.iloc[idx]['MGMT_value']\n",
    "            return X, y, bts_id\n",
    "        else:\n",
    "            return X, bts_id\n",
    "        "
   ]
  },
  {
   "cell_type": "code",
   "execution_count": 15,
   "metadata": {
    "ExecuteTime": {
     "end_time": "2021-08-01T06:26:21.327166Z",
     "start_time": "2021-08-01T06:26:21.314167Z"
    },
    "execution": {
     "iopub.execute_input": "2021-07-31T14:09:02.703934Z",
     "iopub.status.busy": "2021-07-31T14:09:02.703572Z",
     "iopub.status.idle": "2021-07-31T14:09:02.712859Z",
     "shell.execute_reply": "2021-07-31T14:09:02.711820Z",
     "shell.execute_reply.started": "2021-07-31T14:09:02.703899Z"
    }
   },
   "outputs": [],
   "source": [
    "train_dataset = CustomDataset(df_train, is_train = True)\n",
    "train_loader = DataLoader(train_dataset, batch_size = BATCH_SIZE, shuffle = True)"
   ]
  },
  {
   "cell_type": "code",
   "execution_count": 16,
   "metadata": {
    "ExecuteTime": {
     "end_time": "2021-08-01T06:26:21.342166Z",
     "start_time": "2021-08-01T06:26:21.328166Z"
    },
    "execution": {
     "iopub.execute_input": "2021-07-31T14:09:02.717945Z",
     "iopub.status.busy": "2021-07-31T14:09:02.716346Z",
     "iopub.status.idle": "2021-07-31T14:09:02.726689Z",
     "shell.execute_reply": "2021-07-31T14:09:02.725789Z",
     "shell.execute_reply.started": "2021-07-31T14:09:02.717902Z"
    }
   },
   "outputs": [],
   "source": [
    "each_valid_dataset = CustomDataset(df_valid, is_train = True)\n",
    "each_valid_loader = DataLoader(each_valid_dataset, batch_size = BATCH_SIZE)\n",
    "\n",
    "id_valid_dataset = CustomDataset(df_valid, is_train = False)\n",
    "id_valid_loader = DataLoader(id_valid_dataset, batch_size = BATCH_SIZE)"
   ]
  },
  {
   "cell_type": "code",
   "execution_count": 17,
   "metadata": {
    "ExecuteTime": {
     "end_time": "2021-08-01T06:26:21.357165Z",
     "start_time": "2021-08-01T06:26:21.343166Z"
    },
    "execution": {
     "iopub.execute_input": "2021-07-31T14:09:02.733789Z",
     "iopub.status.busy": "2021-07-31T14:09:02.730515Z",
     "iopub.status.idle": "2021-07-31T14:09:02.739990Z",
     "shell.execute_reply": "2021-07-31T14:09:02.739080Z",
     "shell.execute_reply.started": "2021-07-31T14:09:02.731882Z"
    }
   },
   "outputs": [],
   "source": [
    "test_dataset = CustomDataset(df_test, is_train = False)\n",
    "test_loader = DataLoader(test_dataset, batch_size = BATCH_SIZE)"
   ]
  },
  {
   "cell_type": "markdown",
   "metadata": {},
   "source": [
    "# Model"
   ]
  },
  {
   "cell_type": "code",
   "execution_count": 18,
   "metadata": {
    "ExecuteTime": {
     "end_time": "2021-08-01T06:26:21.387165Z",
     "start_time": "2021-08-01T06:26:21.358166Z"
    },
    "execution": {
     "iopub.execute_input": "2021-07-31T14:09:02.744008Z",
     "iopub.status.busy": "2021-07-31T14:09:02.742954Z",
     "iopub.status.idle": "2021-07-31T14:09:02.780659Z",
     "shell.execute_reply": "2021-07-31T14:09:02.779753Z",
     "shell.execute_reply.started": "2021-07-31T14:09:02.743969Z"
    }
   },
   "outputs": [],
   "source": [
    "class SimpleModel(nn.Module):\n",
    "    def __init__(self):\n",
    "        super().__init__()\n",
    "        kernel_size = 3\n",
    "        padding_size = kernel_size//2\n",
    "        \n",
    "        self.conv1 = nn.Sequential(nn.Conv2d(1, 1, kernel_size = kernel_size, padding = padding_size, bias = False),\n",
    "                                 nn.BatchNorm2d(1),\n",
    "                                 nn.ReLU(inplace = False))\n",
    "        \n",
    "        self.conv2 = nn.Sequential(nn.Conv2d(1, 1, kernel_size = kernel_size, padding = padding_size, bias = False),\n",
    "                                 nn.BatchNorm2d(1),\n",
    "                                 nn.ReLU(inplace = False))\n",
    "        \n",
    "        self.conv3 = nn.Sequential(nn.Conv2d(1, 1, kernel_size = kernel_size, padding = padding_size, bias = False),\n",
    "                                 nn.BatchNorm2d(1),\n",
    "                                 nn.ReLU(inplace = False))\n",
    "        \n",
    "        self.conv4 = nn.Sequential(nn.Conv2d(1, 1, kernel_size = kernel_size, padding = padding_size, bias = False),\n",
    "                                 nn.BatchNorm2d(1),\n",
    "                                 nn.ReLU(inplace = False))\n",
    "        \n",
    "        self.conv5 = nn.Sequential(nn.Conv2d(1, 1, kernel_size = kernel_size, padding = padding_size, bias = False),\n",
    "                                 nn.BatchNorm2d(1),\n",
    "                                 nn.ReLU(inplace = False))\n",
    "        \n",
    "        self.conv6 = nn.Sequential(nn.Conv2d(1, 1, kernel_size = kernel_size, padding = padding_size, bias = False),\n",
    "                                 nn.BatchNorm2d(1),\n",
    "                                 nn.ReLU(inplace = False))\n",
    "        \n",
    "        self.conv7 = nn.Sequential(nn.Conv2d(1, 1, kernel_size = kernel_size, padding = padding_size, bias = False),\n",
    "                                 nn.BatchNorm2d(1),\n",
    "                                 nn.ReLU(inplace = False))\n",
    "        \n",
    "        self.conv8 = nn.Sequential(nn.Conv2d(1, 1, kernel_size = kernel_size, padding = padding_size, bias = False),\n",
    "                                 nn.BatchNorm2d(1),\n",
    "                                 nn.ReLU(inplace = False))\n",
    "        \n",
    "        self.conv9 = nn.Sequential(nn.Conv2d(1, 1, kernel_size = kernel_size, padding = padding_size, bias = False),\n",
    "                                 nn.BatchNorm2d(1),\n",
    "                                 nn.ReLU(inplace = False))\n",
    "        \n",
    "        self.conv10 = nn.Sequential(nn.Conv2d(1, 1, kernel_size = kernel_size, padding = padding_size, bias = False),\n",
    "                                 nn.BatchNorm2d(1),\n",
    "                                 nn.ReLU(inplace = False))\n",
    "        \n",
    "        self.conv11 = nn.Sequential(nn.Conv2d(1, 1, kernel_size = kernel_size, padding = padding_size, bias = False),\n",
    "                                 nn.BatchNorm2d(1),\n",
    "                                 nn.ReLU(inplace = False))\n",
    "        \n",
    "        self.conv12 = nn.Sequential(nn.Conv2d(1, 1, kernel_size = kernel_size, padding = padding_size, bias = False),\n",
    "                                 nn.BatchNorm2d(1),\n",
    "                                 nn.ReLU(inplace = False))\n",
    "        \n",
    "        self.fc1 = nn.Linear(IMAGE_SIZE * IMAGE_SIZE, 1024)\n",
    "        self.fc2 = nn.Linear(1024, 512)\n",
    "        self.fc3 = nn.Linear(512, 256)\n",
    "        self.fc4 = nn.Linear(256, 128)\n",
    "        self.fc_out = nn.Linear(128, 1)\n",
    "        self.act = nn.Sigmoid()\n",
    "        \n",
    "        self.dropout10 = nn.Dropout(0.1)\n",
    "        self.dropout20 = nn.Dropout(0.2)\n",
    "        self.dropout30 = nn.Dropout(0.3)\n",
    "        \n",
    "        \n",
    "    def forward(self, x):\n",
    "        x = x.unsqueeze(1)\n",
    "        \n",
    "        skip = x\n",
    "        x = self.conv1(x)\n",
    "        x += skip\n",
    "        \n",
    "        skip = x\n",
    "        x = self.conv2(x)\n",
    "        x += skip\n",
    "        \n",
    "        skip = x\n",
    "        x = self.conv3(x)\n",
    "        x += skip\n",
    "        \n",
    "        skip = x\n",
    "        x = self.conv4(x)\n",
    "        x += skip\n",
    "        \n",
    "        skip = x\n",
    "        x = self.conv5(x)\n",
    "        x += skip\n",
    "        \n",
    "        skip = x\n",
    "        x = self.conv6(x)\n",
    "        x += skip\n",
    "        \n",
    "        skip = x\n",
    "        x = self.conv7(x)\n",
    "        x += skip\n",
    "        \n",
    "        skip = x\n",
    "        x = self.conv8(x)\n",
    "        x += skip\n",
    "        \n",
    "        skip = x\n",
    "        x = self.conv9(x)\n",
    "        x += skip\n",
    "        \n",
    "        skip = x\n",
    "        x = self.conv10(x)\n",
    "        x += skip\n",
    "        \n",
    "        skip = x\n",
    "        x = self.conv11(x)\n",
    "        x += skip\n",
    "        \n",
    "        skip = x\n",
    "        x = self.conv12(x)\n",
    "        x += skip\n",
    "        \n",
    "        x = x.reshape(-1, IMAGE_SIZE * IMAGE_SIZE)\n",
    "        x = self.dropout30(x)\n",
    "        x = F.relu(self.fc1(x))\n",
    "        x = self.dropout30(x)\n",
    "        x = F.relu(self.fc2(x))\n",
    "        x = self.dropout20(x)\n",
    "        x = F.relu(self.fc3(x))\n",
    "        x = self.dropout20(x)\n",
    "        x = F.relu(self.fc4(x))\n",
    "        x = self.dropout10(x)\n",
    "        x = self.act(self.fc_out(x))\n",
    "        return x        "
   ]
  },
  {
   "cell_type": "markdown",
   "metadata": {},
   "source": [
    "# Trainer"
   ]
  },
  {
   "cell_type": "code",
   "execution_count": 19,
   "metadata": {
    "ExecuteTime": {
     "end_time": "2021-08-01T06:26:21.417165Z",
     "start_time": "2021-08-01T06:26:21.388166Z"
    },
    "execution": {
     "iopub.execute_input": "2021-07-31T14:09:02.786785Z",
     "iopub.status.busy": "2021-07-31T14:09:02.784560Z",
     "iopub.status.idle": "2021-07-31T14:09:02.830496Z",
     "shell.execute_reply": "2021-07-31T14:09:02.826482Z",
     "shell.execute_reply.started": "2021-07-31T14:09:02.785052Z"
    }
   },
   "outputs": [],
   "source": [
    "class Trainer():\n",
    "    def __init__(self, model, criterion, optimizer, device):\n",
    "        self.model = model\n",
    "        self.criterion = criterion\n",
    "        self.optimizer = optimizer\n",
    "        self.device = device\n",
    "        \n",
    "        self.history = dict()\n",
    "    \n",
    "    def train(self, loader):\n",
    "        self.model.train()\n",
    "        device = self.device\n",
    "        \n",
    "        y_all = []\n",
    "        y_hat_all = []\n",
    "        prog_bar = tqdm(loader)\n",
    "        for i, (X, y, _) in enumerate(prog_bar):\n",
    "            X = X.to(device)\n",
    "            y = y.to(device).to(torch.float)\n",
    "            \n",
    "            self.optimizer.zero_grad()\n",
    "            \n",
    "            y_hat = self.model(X)\n",
    "            y_hat = y_hat.reshape(-1)\n",
    "            \n",
    "            loss = self.criterion(y_hat, y)\n",
    "            loss.backward()\n",
    "            self.optimizer.step()\n",
    "            \n",
    "            y_all.append(y.cpu())\n",
    "            y_hat_all.append(y_hat.cpu())\n",
    "            \n",
    "            temp_loss = self.criterion(torch.cat(y_hat_all), torch.cat(y_all))\n",
    "            temp_roc = roc_auc_score(torch.cat(y_all).detach().numpy(), torch.cat(y_hat_all).detach().numpy())\n",
    "            prog_bar.set_description(f\"TRAIN loss {temp_loss:.4}, roc {temp_roc:.4}\")\n",
    "        \n",
    "        return temp_loss, temp_roc\n",
    "            \n",
    "    \n",
    "    def valid(self, loader):\n",
    "        self.model.eval()\n",
    "        device = self.device\n",
    "        \n",
    "        y_all = []\n",
    "        y_hat_all = []\n",
    "        prog_bar = tqdm(loader)\n",
    "        \n",
    "        with torch.no_grad():\n",
    "            for X, y, _ in prog_bar:\n",
    "                X = X.to(device)\n",
    "                y = y.to(device).to(torch.float)\n",
    "\n",
    "                y_hat = self.model(X)\n",
    "                y_hat = y_hat.reshape(-1)\n",
    "\n",
    "                y_all.append(y.cpu())\n",
    "                y_hat_all.append(y_hat.cpu())\n",
    "\n",
    "                temp_loss = self.criterion(torch.cat(y_hat_all), torch.cat(y_all))\n",
    "                try:\n",
    "                    temp_roc = roc_auc_score(torch.cat(y_all).detach().numpy(), torch.cat(y_hat_all).detach().numpy())\n",
    "                except:\n",
    "                    temp_roc = 0.\n",
    "                prog_bar.set_description(f\"VALID loss {temp_loss:.4}, roc {temp_roc:.4}\")\n",
    "        \n",
    "        return temp_loss, temp_roc\n",
    "    \n",
    "    def test(self, loader):\n",
    "        self.model.eval()\n",
    "        device = self.device\n",
    "        \n",
    "        y_hat_all = []\n",
    "        prog_bar = tqdm(loader)\n",
    "        \n",
    "        pred = dict()\n",
    "        \n",
    "        with torch.no_grad():\n",
    "            for X, bts_id in prog_bar:\n",
    "                X = X.to(device)\n",
    "\n",
    "                y_hat = self.model(X)\n",
    "                y_hat = y_hat.reshape(-1)\n",
    "                \n",
    "                for i, id_ in enumerate(bts_id):\n",
    "                    id_ = int(id_.to(torch.int))\n",
    "                    y_hat\n",
    "                    if id_ in pred.keys():\n",
    "                        pred[id_].append(float(y_hat[i].to(torch.float)))\n",
    "                    else:\n",
    "                        pred.update({id_:[float(y_hat[i].to(torch.float))]})\n",
    "        \n",
    "        return pred\n",
    "    \n",
    "    def result_to_roc(self, result, df_labels):\n",
    "        \n",
    "        result = {k:np.mean(v) for k, v in result.items()}\n",
    "        true = []\n",
    "        pred = []\n",
    "        for k, v in result.items():\n",
    "            true.append(df_labels.loc[df_labels['BraTS21ID'] == k, 'MGMT_value'].values)\n",
    "            pred.append(v)\n",
    "        return roc_auc_score(true, pred)\n",
    "        \n",
    "    \n",
    "    def fit(self, train_loader, each_valid_loader, id_valid_loader, df_label, nepoch = 10):\n",
    "        \n",
    "        self.history[\"train_loss\"] = []\n",
    "        self.history[\"train_roc\"] = []\n",
    "        self.history[\"valid_loss\"] = []\n",
    "        self.history[\"valid_roc\"] = []\n",
    "        \n",
    "        max_valid_roc = 0\n",
    "        \n",
    "        for epoch in tqdm(range(nepoch)):\n",
    "            print(f\"START {epoch}/{nepoch}\")\n",
    "            train_loss, train_roc = self.train(train_loader)\n",
    "            valid_loss, valid_roc = self.valid(each_valid_loader)\n",
    "            result = self.test(id_valid_loader)\n",
    "            \n",
    "            valid_roc_true = self.result_to_roc(result, df_label)\n",
    "            \n",
    "            if max_valid_roc < valid_roc_true:\n",
    "                max_valid_roc = valid_roc_true\n",
    "                self.save_model(f\"./model-check-{valid_roc_true:.5}.pkl\")\n",
    "                print(f\"./model-check-{valid_roc_true:.5}.pkl\")\n",
    "            \n",
    "            print(f\"TRAIN: loss {train_loss:.4}, roc {train_roc:.4}\")\n",
    "            print(f\"VALID: loss {valid_loss:.4}, roc {valid_roc:.4}, total roc {valid_roc_true:.4}\")\n",
    "            \n",
    "            self.history[\"train_loss\"].append(train_loss)\n",
    "            self.history[\"train_roc\"].append(train_roc)\n",
    "            self.history[\"valid_loss\"].append(valid_loss)\n",
    "            self.history[\"valid_roc\"].append(valid_roc)\n",
    "            \n",
    "        return self.history\n",
    "    \n",
    "    def save_model(self, name):\n",
    "        print(f\"Save Model {name}\")\n",
    "        torch.save(self.model, name)\n",
    "        \n",
    "    def load_model(self, name):\n",
    "        self.model = torch.load(name)"
   ]
  },
  {
   "cell_type": "markdown",
   "metadata": {},
   "source": [
    "# Set model parameters and create trainer object"
   ]
  },
  {
   "cell_type": "code",
   "execution_count": 20,
   "metadata": {
    "ExecuteTime": {
     "end_time": "2021-08-01T06:26:23.097559Z",
     "start_time": "2021-08-01T06:26:21.419166Z"
    },
    "execution": {
     "iopub.execute_input": "2021-07-31T14:09:02.835354Z",
     "iopub.status.busy": "2021-07-31T14:09:02.834841Z",
     "iopub.status.idle": "2021-07-31T14:09:07.459624Z",
     "shell.execute_reply": "2021-07-31T14:09:07.458615Z",
     "shell.execute_reply.started": "2021-07-31T14:09:02.835233Z"
    }
   },
   "outputs": [],
   "source": [
    "model = SimpleModel()\n",
    "model = model.to(device)\n",
    "\n",
    "criterion = nn.BCELoss()\n",
    "optimizer = torch.optim.Adam(model.parameters(), lr = LEARNING_RATE, weight_decay = WEIGHT_DECAY)\n",
    "\n",
    "trainer = Trainer(model, criterion, optimizer, device)"
   ]
  },
  {
   "cell_type": "markdown",
   "metadata": {},
   "source": [
    "# Fit"
   ]
  },
  {
   "cell_type": "code",
   "execution_count": null,
   "metadata": {},
   "outputs": [],
   "source": []
  },
  {
   "cell_type": "code",
   "execution_count": null,
   "metadata": {
    "ExecuteTime": {
     "start_time": "2021-08-01T06:26:08.390Z"
    },
    "execution": {
     "iopub.execute_input": "2021-07-31T14:09:07.462942Z",
     "iopub.status.busy": "2021-07-31T14:09:07.462231Z"
    },
    "scrolled": false
   },
   "outputs": [
    {
     "data": {
      "application/vnd.jupyter.widget-view+json": {
       "model_id": "6d693745e0914b3b8e4e50599467b3c0",
       "version_major": 2,
       "version_minor": 0
      },
      "text/plain": [
       "  0%|          | 0/1000 [00:00<?, ?it/s]"
      ]
     },
     "metadata": {},
     "output_type": "display_data"
    },
    {
     "name": "stdout",
     "output_type": "stream",
     "text": [
      "START 0/1000\n"
     ]
    },
    {
     "data": {
      "application/vnd.jupyter.widget-view+json": {
       "model_id": "7e84a0f19f4440f5a5feca8c2362908f",
       "version_major": 2,
       "version_minor": 0
      },
      "text/plain": [
       "  0%|          | 0/759 [00:00<?, ?it/s]"
      ]
     },
     "metadata": {},
     "output_type": "display_data"
    }
   ],
   "source": [
    "history = trainer.fit(train_loader = train_loader, \n",
    "                      each_valid_loader = each_valid_loader, \n",
    "                      id_valid_loader = id_valid_loader, \n",
    "                      df_label = df_label, \n",
    "                      nepoch=EPOCH_NUM)"
   ]
  },
  {
   "cell_type": "markdown",
   "metadata": {},
   "source": [
    "# Visualize Train Result"
   ]
  },
  {
   "cell_type": "code",
   "execution_count": null,
   "metadata": {
    "ExecuteTime": {
     "start_time": "2021-08-01T06:26:08.411Z"
    }
   },
   "outputs": [],
   "source": [
    "history = trainer.history\n",
    "fig, axes = plt.subplots(2,1,figsize = (16,10))\n",
    "\n",
    "axes[0].plot(history['train_loss'], label = 'train')\n",
    "axes[0].plot(history['valid_loss'], label = 'valid')\n",
    "axes[0].set_ylabel('Loss')\n",
    "\n",
    "axes[1].plot(history['train_roc'], label = 'train')\n",
    "axes[1].plot(history['valid_roc'], label = 'valid')\n",
    "axes[1].set_ylabel('Roc')"
   ]
  },
  {
   "cell_type": "markdown",
   "metadata": {},
   "source": [
    "# Load Model"
   ]
  },
  {
   "cell_type": "code",
   "execution_count": null,
   "metadata": {
    "ExecuteTime": {
     "start_time": "2021-08-01T06:26:08.431Z"
    }
   },
   "outputs": [],
   "source": [
    "trainer.load_model(\"./model-check-0.94879.pkl\")"
   ]
  },
  {
   "cell_type": "markdown",
   "metadata": {},
   "source": [
    "# Validate Model"
   ]
  },
  {
   "cell_type": "code",
   "execution_count": null,
   "metadata": {
    "ExecuteTime": {
     "start_time": "2021-08-01T06:26:08.451Z"
    }
   },
   "outputs": [],
   "source": [
    "result = trainer.test(id_valid_loader)\n",
    "\n",
    "valid_roc_true = trainer.result_to_roc(result, df_label)\n",
    "print(valid_roc_true)"
   ]
  },
  {
   "cell_type": "code",
   "execution_count": null,
   "metadata": {
    "ExecuteTime": {
     "start_time": "2021-08-01T06:26:08.453Z"
    }
   },
   "outputs": [],
   "source": [
    "df_label"
   ]
  },
  {
   "cell_type": "markdown",
   "metadata": {},
   "source": [
    "# Create Submission"
   ]
  },
  {
   "cell_type": "code",
   "execution_count": null,
   "metadata": {
    "ExecuteTime": {
     "start_time": "2021-08-01T06:26:08.474Z"
    }
   },
   "outputs": [],
   "source": [
    "result = trainer.test(test_loader)"
   ]
  },
  {
   "cell_type": "code",
   "execution_count": null,
   "metadata": {
    "ExecuteTime": {
     "start_time": "2021-08-01T06:26:08.475Z"
    }
   },
   "outputs": [],
   "source": [
    "result = {k:np.mean(v) for k, v in result.items()}\n",
    "\n",
    "for k, v in result.items():\n",
    "    df_submission.loc[df_submission['BraTS21ID'] == k, 'MGMT_value'] = v\n",
    "df_submission"
   ]
  },
  {
   "cell_type": "code",
   "execution_count": null,
   "metadata": {
    "ExecuteTime": {
     "start_time": "2021-08-01T06:26:08.476Z"
    }
   },
   "outputs": [],
   "source": [
    "df_submission.to_csv(\"submission.csv\", index = False)"
   ]
  }
 ],
 "metadata": {
  "hide_input": false,
  "kernelspec": {
   "display_name": "torch",
   "language": "python",
   "name": "torch"
  },
  "language_info": {
   "codemirror_mode": {
    "name": "ipython",
    "version": 3
   },
   "file_extension": ".py",
   "mimetype": "text/x-python",
   "name": "python",
   "nbconvert_exporter": "python",
   "pygments_lexer": "ipython3",
   "version": "3.6.12"
  },
  "latex_envs": {
   "LaTeX_envs_menu_present": true,
   "autoclose": false,
   "autocomplete": true,
   "bibliofile": "biblio.bib",
   "cite_by": "apalike",
   "current_citInitial": 1,
   "eqLabelWithNumbers": true,
   "eqNumInitial": 1,
   "hotkeys": {
    "equation": "Ctrl-E",
    "itemize": "Ctrl-I"
   },
   "labels_anchors": false,
   "latex_user_defs": false,
   "report_style_numbering": false,
   "user_envs_cfg": false
  },
  "toc": {
   "base_numbering": 1,
   "nav_menu": {},
   "number_sections": true,
   "sideBar": true,
   "skip_h1_title": false,
   "title_cell": "Table of Contents",
   "title_sidebar": "Contents",
   "toc_cell": false,
   "toc_position": {
    "height": "calc(100% - 180px)",
    "left": "10px",
    "top": "150px",
    "width": "384px"
   },
   "toc_section_display": true,
   "toc_window_display": true
  },
  "varInspector": {
   "cols": {
    "lenName": 16,
    "lenType": 16,
    "lenVar": 40
   },
   "kernels_config": {
    "python": {
     "delete_cmd_postfix": "",
     "delete_cmd_prefix": "del ",
     "library": "var_list.py",
     "varRefreshCmd": "print(var_dic_list())"
    },
    "r": {
     "delete_cmd_postfix": ") ",
     "delete_cmd_prefix": "rm(",
     "library": "var_list.r",
     "varRefreshCmd": "cat(var_dic_list()) "
    }
   },
   "types_to_exclude": [
    "module",
    "function",
    "builtin_function_or_method",
    "instance",
    "_Feature"
   ],
   "window_display": false
  }
 },
 "nbformat": 4,
 "nbformat_minor": 4
}
