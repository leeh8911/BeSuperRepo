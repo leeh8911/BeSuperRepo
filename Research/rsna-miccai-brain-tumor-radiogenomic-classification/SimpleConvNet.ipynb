{
 "cells": [
  {
   "cell_type": "code",
   "execution_count": 1,
   "metadata": {
    "ExecuteTime": {
     "end_time": "2021-07-30T12:44:41.350636Z",
     "start_time": "2021-07-30T12:44:13.990951Z"
    },
    "scrolled": false
   },
   "outputs": [],
   "source": [
    "import os\n",
    "import sys\n",
    "\n",
    "from pathlib import Path\n",
    "import glob\n",
    "\n",
    "import numpy as np\n",
    "import pandas as pd\n",
    "\n",
    "import pydicom\n",
    "from pydicom.pixel_data_handlers.util import apply_voi_lut\n",
    "import cv2\n",
    "\n",
    "import torch\n",
    "import torch.nn.functional as F\n",
    "from torch import nn\n",
    "from torch.nn import Module\n",
    "from torch.utils.data import DataLoader, Dataset\n",
    "\n",
    "import torchvision\n",
    "\n",
    "from sklearn.model_selection import train_test_split\n",
    "from sklearn.metrics import roc_auc_score\n",
    "\n",
    "from tqdm.notebook import tqdm\n",
    "\n",
    "import warnings\n",
    "warnings.filterwarnings(\"ignore\")\n",
    "\n",
    "import matplotlib.pyplot as plt\n",
    "%matplotlib inline"
   ]
  },
  {
   "cell_type": "code",
   "execution_count": 26,
   "metadata": {
    "ExecuteTime": {
     "end_time": "2021-07-30T13:17:45.015579Z",
     "start_time": "2021-07-30T13:17:45.006581Z"
    }
   },
   "outputs": [],
   "source": [
    "model_name = 'SimpleConvNet'\n",
    "BATCH_SIZE = 16\n",
    "IMAGE_SIZE = 256\n",
    "LEARNING_RATE = 1e-3\n",
    "WEIGHT_DECAY = 1e-3\n",
    "NUM_EPOCH = 100"
   ]
  },
  {
   "cell_type": "code",
   "execution_count": 3,
   "metadata": {
    "ExecuteTime": {
     "end_time": "2021-07-30T12:44:41.486047Z",
     "start_time": "2021-07-30T12:44:41.367639Z"
    }
   },
   "outputs": [
    {
     "name": "stdout",
     "output_type": "stream",
     "text": [
      "cpu\n"
     ]
    }
   ],
   "source": [
    "device = torch.device(\"cuda:0\" if torch.cuda.is_available() else \"cpu\")\n",
    "device = 'cpu'\n",
    "print(device)"
   ]
  },
  {
   "cell_type": "code",
   "execution_count": 4,
   "metadata": {
    "ExecuteTime": {
     "end_time": "2021-07-30T12:44:41.501048Z",
     "start_time": "2021-07-30T12:44:41.487048Z"
    }
   },
   "outputs": [],
   "source": [
    "label_root = Path('E:\\\\datasets\\\\rsna-miccai-brain-tumor-radiogenomic-classification')\n",
    "data_root = Path('E:\\\\datasets\\\\RSNA MICCAI PNG')"
   ]
  },
  {
   "cell_type": "code",
   "execution_count": 5,
   "metadata": {
    "ExecuteTime": {
     "end_time": "2021-07-30T12:44:41.516066Z",
     "start_time": "2021-07-30T12:44:41.502047Z"
    }
   },
   "outputs": [],
   "source": [
    "SCAN_TYPE = ('FLAIR', 'T1w', 'T1wCE', 'T2w')"
   ]
  },
  {
   "cell_type": "code",
   "execution_count": 6,
   "metadata": {
    "ExecuteTime": {
     "end_time": "2021-07-30T12:44:41.531067Z",
     "start_time": "2021-07-30T12:44:41.517068Z"
    }
   },
   "outputs": [],
   "source": [
    "def one_hot(arr):\n",
    "    return [[1, 0] if a_i == 0 else [0, 1] for a_i in arr]"
   ]
  },
  {
   "cell_type": "code",
   "execution_count": 7,
   "metadata": {
    "ExecuteTime": {
     "end_time": "2021-07-30T12:44:41.832044Z",
     "start_time": "2021-07-30T12:44:41.532068Z"
    }
   },
   "outputs": [
    {
     "name": "stdout",
     "output_type": "stream",
     "text": [
      "(585, 2)\n"
     ]
    },
    {
     "data": {
      "text/html": [
       "<div>\n",
       "<style scoped>\n",
       "    .dataframe tbody tr th:only-of-type {\n",
       "        vertical-align: middle;\n",
       "    }\n",
       "\n",
       "    .dataframe tbody tr th {\n",
       "        vertical-align: top;\n",
       "    }\n",
       "\n",
       "    .dataframe thead th {\n",
       "        text-align: right;\n",
       "    }\n",
       "</style>\n",
       "<table border=\"1\" class=\"dataframe\">\n",
       "  <thead>\n",
       "    <tr style=\"text-align: right;\">\n",
       "      <th></th>\n",
       "      <th>BraTS21ID</th>\n",
       "      <th>MGMT_value</th>\n",
       "    </tr>\n",
       "  </thead>\n",
       "  <tbody>\n",
       "    <tr>\n",
       "      <th>0</th>\n",
       "      <td>0</td>\n",
       "      <td>1</td>\n",
       "    </tr>\n",
       "    <tr>\n",
       "      <th>1</th>\n",
       "      <td>2</td>\n",
       "      <td>1</td>\n",
       "    </tr>\n",
       "    <tr>\n",
       "      <th>2</th>\n",
       "      <td>3</td>\n",
       "      <td>0</td>\n",
       "    </tr>\n",
       "    <tr>\n",
       "      <th>3</th>\n",
       "      <td>5</td>\n",
       "      <td>1</td>\n",
       "    </tr>\n",
       "    <tr>\n",
       "      <th>4</th>\n",
       "      <td>6</td>\n",
       "      <td>1</td>\n",
       "    </tr>\n",
       "  </tbody>\n",
       "</table>\n",
       "</div>"
      ],
      "text/plain": [
       "   BraTS21ID  MGMT_value\n",
       "0          0           1\n",
       "1          2           1\n",
       "2          3           0\n",
       "3          5           1\n",
       "4          6           1"
      ]
     },
     "execution_count": 7,
     "metadata": {},
     "output_type": "execute_result"
    }
   ],
   "source": [
    "trainval_label = pd.read_csv(str(label_root / 'train_labels.csv'))\n",
    "print(trainval_label.shape)\n",
    "trainval_label.head()"
   ]
  },
  {
   "cell_type": "code",
   "execution_count": 8,
   "metadata": {
    "ExecuteTime": {
     "end_time": "2021-07-30T12:44:41.847046Z",
     "start_time": "2021-07-30T12:44:41.834044Z"
    }
   },
   "outputs": [],
   "source": [
    "trainval_path_list = glob.glob(str(data_root / 'train' / '*'))\n",
    "\n",
    "train_path_list, valid_path_list = train_test_split(trainval_path_list, test_size = 0.1)"
   ]
  },
  {
   "cell_type": "code",
   "execution_count": 9,
   "metadata": {
    "ExecuteTime": {
     "end_time": "2021-07-30T12:44:41.877073Z",
     "start_time": "2021-07-30T12:44:41.849044Z"
    }
   },
   "outputs": [],
   "source": [
    "test_path_list = glob.glob(str(data_root / 'test' / '*'))"
   ]
  },
  {
   "cell_type": "code",
   "execution_count": 10,
   "metadata": {
    "ExecuteTime": {
     "end_time": "2021-07-30T13:08:14.936408Z",
     "start_time": "2021-07-30T12:44:41.878076Z"
    }
   },
   "outputs": [
    {
     "data": {
      "application/vnd.jupyter.widget-view+json": {
       "model_id": "8359567cacf54a3c868dadc19e4d41b7",
       "version_major": 2,
       "version_minor": 0
      },
      "text/plain": [
       "  0%|          | 0/526 [00:00<?, ?it/s]"
      ]
     },
     "metadata": {},
     "output_type": "display_data"
    },
    {
     "data": {
      "application/vnd.jupyter.widget-view+json": {
       "model_id": "e0f85ff190e940af88a1dbf2c3d2efb8",
       "version_major": 2,
       "version_minor": 0
      },
      "text/plain": [
       "  0%|          | 0/59 [00:00<?, ?it/s]"
      ]
     },
     "metadata": {},
     "output_type": "display_data"
    }
   ],
   "source": [
    "class ImageDataset(Dataset):\n",
    "    def __init__(self, path_list, labels = None, transform = None):\n",
    "        self.path_list = path_list\n",
    "        self.labels = labels\n",
    "        self.len = len(path_list)\n",
    "        \n",
    "        self.transform = transform\n",
    "        \n",
    "        data_list = []\n",
    "        for path in tqdm(path_list):\n",
    "            data = torch.zeros((len(SCAN_TYPE), IMAGE_SIZE, IMAGE_SIZE))\n",
    "            for c, scan in enumerate(SCAN_TYPE):\n",
    "                scan_path_list = glob.glob(path + f'/{scan}/*.png')\n",
    "                if len(scan_path_list) > 0:\n",
    "                    temp = torch.cat([torchvision.io.read_image(scan_path)/255 for scan_path in scan_path_list], axis = 0)\n",
    "                else:\n",
    "                    temp = torch.zeros((1, IMAGE_SIZE, IMAGE_SIZE))\n",
    "\n",
    "                if self.transform:\n",
    "                    temp = self.transform(temp)\n",
    "                data[c,:,:] = torch.Tensor(temp.mean(axis = 0))\n",
    "            data_list.append(data)\n",
    "        self.data_list = data_list\n",
    "        \n",
    "    def __len__(self):\n",
    "        return self.len\n",
    "    \n",
    "    def __getitem__(self, idx):\n",
    "        path = self.path_list[idx]\n",
    "        patient = path.split(os.path.sep)[-1]\n",
    "        \n",
    "        if self.labels is not None:\n",
    "            label = self.labels.loc[self.labels['BraTS21ID'] == int(patient), 'MGMT_value'].values\n",
    "            return self.data_list[idx], label\n",
    "        else:\n",
    "            return self.data_list[idx]\n",
    "\n",
    "transform = torchvision.transforms.Resize((IMAGE_SIZE, IMAGE_SIZE))\n",
    "\n",
    "train_dataset = ImageDataset(train_path_list, labels = trainval_label, transform = transform)\n",
    "valid_dataset = ImageDataset(valid_path_list, labels = trainval_label, transform = transform)\n",
    "\n",
    "train_loader = DataLoader(train_dataset, batch_size = BATCH_SIZE, shuffle = True)\n",
    "valid_loader = DataLoader(valid_dataset, batch_size = BATCH_SIZE)\n"
   ]
  },
  {
   "cell_type": "code",
   "execution_count": 34,
   "metadata": {
    "ExecuteTime": {
     "end_time": "2021-07-30T13:22:45.293636Z",
     "start_time": "2021-07-30T13:22:45.277645Z"
    }
   },
   "outputs": [],
   "source": [
    "class SimpleModel(Module):\n",
    "    def __init__(self):\n",
    "        super().__init__()\n",
    "        \n",
    "        self.conv11 = nn.Conv2d(4, 4, kernel_size = (3,3), padding = (1,1))\n",
    "        self.bn11 = nn.BatchNorm2d(4)\n",
    "        self.conv12 = nn.Conv2d(4, 4, kernel_size = (3,3), padding = (1,1))\n",
    "        self.bn12 = nn.BatchNorm2d(4)\n",
    "        self.conv13 = nn.Conv2d(4, 4, kernel_size = (3,3), padding = (1,1))\n",
    "        self.bn13 = nn.BatchNorm2d(4)\n",
    "        self.conv1 = nn.Conv2d(4, 16, kernel_size = (3,3), padding = (1,1))\n",
    "        self.bn1 = nn.BatchNorm2d(16)\n",
    "        self.pool1 = nn.MaxPool2d(kernel_size = (2,2))\n",
    "        \n",
    "        self.conv21 = nn.Conv2d(16, 16, kernel_size = (3,3), padding = (1,1))\n",
    "        self.bn21 = nn.BatchNorm2d(16)\n",
    "        self.conv22 = nn.Conv2d(16, 16, kernel_size = (3,3), padding = (1,1))\n",
    "        self.bn22 = nn.BatchNorm2d(16)\n",
    "        self.conv23 = nn.Conv2d(16, 16, kernel_size = (3,3), padding = (1,1))\n",
    "        self.bn23 = nn.BatchNorm2d(16)\n",
    "        self.conv2 = nn.Conv2d(16, 32, kernel_size = (3,3), padding = (1,1))\n",
    "        self.bn2 = nn.BatchNorm2d(32)\n",
    "        self.pool2 = nn.MaxPool2d(kernel_size = (2,2))\n",
    "        \n",
    "        self.conv31 = nn.Conv2d(32, 32, kernel_size = (3,3), padding = (1,1))\n",
    "        self.bn31 = nn.BatchNorm2d(32)\n",
    "        self.conv32 = nn.Conv2d(32, 32, kernel_size = (3,3), padding = (1,1))\n",
    "        self.bn32 = nn.BatchNorm2d(32)\n",
    "        self.conv33 = nn.Conv2d(32, 32, kernel_size = (3,3), padding = (1,1))\n",
    "        self.bn33 = nn.BatchNorm2d(32)\n",
    "        self.conv3 = nn.Conv2d(32, 64, kernel_size = (3,3), padding = (1,1))\n",
    "        self.bn3 = nn.BatchNorm2d(64)\n",
    "        self.pool3 = nn.MaxPool2d(kernel_size = (2,2))\n",
    "        \n",
    "        self.fc1 = nn.Linear(64 * 32 * 32, 1024)\n",
    "        self.fc2 = nn.Linear(1024, 512)\n",
    "        self.fc3 = nn.Linear(512, 256)\n",
    "        self.fc4 = nn.Linear(256, 2)\n",
    "        \n",
    "        self.dropout06 = nn.Dropout(0.6)\n",
    "        self.dropout03 = nn.Dropout(0.3)\n",
    "        \n",
    "    def forward(self, x):\n",
    "        skip = x\n",
    "        x = self.bn11(F.relu(self.conv11(x)))\n",
    "        x += skip\n",
    "        x = self.bn12(F.relu(self.conv12(x)))\n",
    "        x += skip\n",
    "        x = self.bn13(F.relu(self.conv13(x)))\n",
    "        x += skip\n",
    "        x = self.pool1(self.bn1(F.relu(self.conv1(x))))\n",
    "        \n",
    "        skip = x\n",
    "        x = self.bn21(F.relu(self.conv21(x)))\n",
    "        x += skip\n",
    "        x = self.bn22(F.relu(self.conv22(x)))\n",
    "        x += skip\n",
    "        x = self.bn23(F.relu(self.conv23(x)))\n",
    "        x += skip\n",
    "        x = self.pool2(self.bn2(F.relu(self.conv2(x))))\n",
    "        \n",
    "        skip = x\n",
    "        x = self.bn31(F.relu(self.conv31(x)))\n",
    "        x += skip\n",
    "        x = self.bn32(F.relu(self.conv32(x)))\n",
    "        x += skip\n",
    "        x = self.bn33(F.relu(self.conv33(x)))\n",
    "        x += skip\n",
    "        x = self.pool3(self.bn3(F.relu(self.conv3(x))))\n",
    "        \n",
    "        x = x.reshape(-1, 64*32*32)\n",
    "        x = F.relu(self.fc1(x))\n",
    "        x = self.dropout06(x)\n",
    "        x = F.relu(self.fc2(x))\n",
    "        x = self.dropout06(x)\n",
    "        x = F.relu(self.fc3(x))\n",
    "        x = self.dropout03(x)\n",
    "        x = F.softmax(self.fc4(x))\n",
    "        \n",
    "        return x"
   ]
  },
  {
   "cell_type": "code",
   "execution_count": 35,
   "metadata": {
    "ExecuteTime": {
     "end_time": "2021-07-30T13:22:45.971504Z",
     "start_time": "2021-07-30T13:22:45.669507Z"
    }
   },
   "outputs": [],
   "source": [
    "model = SimpleModel()\n",
    "model = model.to(device)\n",
    "\n",
    "criterion = nn.CrossEntropyLoss()\n",
    "optimizer = torch.optim.Adam(model.parameters(), lr = LEARNING_RATE, weight_decay = WEIGHT_DECAY)"
   ]
  },
  {
   "cell_type": "code",
   "execution_count": 36,
   "metadata": {
    "ExecuteTime": {
     "end_time": "2021-07-30T13:22:46.091446Z",
     "start_time": "2021-07-30T13:22:46.077442Z"
    }
   },
   "outputs": [],
   "source": [
    "def train(prog):\n",
    "    model.train()\n",
    "    \n",
    "    sum_loss = 0\n",
    "    sum_roc = 0\n",
    "    sum_count = 0\n",
    "    for X, y in prog:\n",
    "        X = X.to(device)\n",
    "        y = y.to(device).squeeze()\n",
    "        pred = model(X)\n",
    "        \n",
    "        optimizer.zero_grad()\n",
    "        loss = criterion(pred, y)\n",
    "        loss.backward()\n",
    "        optimizer.step()\n",
    "        \n",
    "        sum_loss += loss * X.shape[0]\n",
    "        sum_roc += roc_auc_score(one_hot(y.tolist()), pred.tolist()) * X.shape[0]\n",
    "        sum_count += X.shape[0]\n",
    "        \n",
    "        prog.set_description(f\"TRAIN: loss {sum_loss / sum_count :.4}, roc {sum_roc / sum_count:.4}\")\n",
    "        \n",
    "    \n",
    "    return sum_loss / sum_count, sum_roc / sum_count"
   ]
  },
  {
   "cell_type": "code",
   "execution_count": 37,
   "metadata": {
    "ExecuteTime": {
     "end_time": "2021-07-30T13:22:46.286448Z",
     "start_time": "2021-07-30T13:22:46.269449Z"
    }
   },
   "outputs": [],
   "source": [
    "def valid(prog):\n",
    "    model.eval()\n",
    "    \n",
    "    sum_loss = 0\n",
    "    sum_roc = 0\n",
    "    sum_count = 0\n",
    "    for X, y in prog:\n",
    "        X = X.to(device)\n",
    "        y = y.to(device).squeeze()\n",
    "        \n",
    "        pred = model(X)\n",
    "        \n",
    "        loss = criterion(pred, y)\n",
    "        \n",
    "        sum_loss += loss * X.shape[0]\n",
    "        sum_roc += roc_auc_score(one_hot(y.tolist()), pred.tolist()) * X.shape[0]\n",
    "        sum_count += X.shape[0]\n",
    "        \n",
    "        prog.set_description(f\"TRAIN: loss {sum_loss / sum_count :.4}, roc {sum_roc / sum_count:.4}\")\n",
    "        \n",
    "    return sum_loss / sum_count, sum_roc / sum_count"
   ]
  },
  {
   "cell_type": "code",
   "execution_count": 38,
   "metadata": {
    "ExecuteTime": {
     "end_time": "2021-07-30T13:22:46.586290Z",
     "start_time": "2021-07-30T13:22:46.573293Z"
    }
   },
   "outputs": [],
   "source": [
    "try:\n",
    "    model = torch.load(f'./models/{model_name}.pkl')\n",
    "except:\n",
    "    pass"
   ]
  },
  {
   "cell_type": "code",
   "execution_count": null,
   "metadata": {
    "ExecuteTime": {
     "start_time": "2021-07-30T13:22:47.077Z"
    },
    "scrolled": false
   },
   "outputs": [
    {
     "data": {
      "application/vnd.jupyter.widget-view+json": {
       "model_id": "8e961f609f8a409da01f075b6806e202",
       "version_major": 2,
       "version_minor": 0
      },
      "text/plain": [
       "  0%|          | 0/100 [00:00<?, ?it/s]"
      ]
     },
     "metadata": {},
     "output_type": "display_data"
    },
    {
     "name": "stdout",
     "output_type": "stream",
     "text": [
      "-------------------------------------------------------\n",
      "|EPOCH: 1/100\n"
     ]
    },
    {
     "data": {
      "application/vnd.jupyter.widget-view+json": {
       "model_id": "454c25dfa4e94d07b2aec7743fda96ad",
       "version_major": 2,
       "version_minor": 0
      },
      "text/plain": [
       "  0%|          | 0/33 [00:00<?, ?it/s]"
      ]
     },
     "metadata": {},
     "output_type": "display_data"
    },
    {
     "data": {
      "application/vnd.jupyter.widget-view+json": {
       "model_id": "d6a81584c7064e439840f18b1f112e64",
       "version_major": 2,
       "version_minor": 0
      },
      "text/plain": [
       "  0%|          | 0/4 [00:00<?, ?it/s]"
      ]
     },
     "metadata": {},
     "output_type": "display_data"
    },
    {
     "name": "stdout",
     "output_type": "stream",
     "text": [
      "|1-th model is checked!, *SimpleConvNet-0-0.4025221953188054.pkl*\n",
      "|TRAIN: loss=0.8027 roc=0.4806|\n",
      "|VALID: loss=0.6692 roc=0.4025|\n",
      "-------------------------------------------------------\n",
      "|EPOCH: 2/100\n"
     ]
    },
    {
     "data": {
      "application/vnd.jupyter.widget-view+json": {
       "model_id": "4146bc64cccb48ddbf66a3de37124293",
       "version_major": 2,
       "version_minor": 0
      },
      "text/plain": [
       "  0%|          | 0/33 [00:00<?, ?it/s]"
      ]
     },
     "metadata": {},
     "output_type": "display_data"
    },
    {
     "data": {
      "application/vnd.jupyter.widget-view+json": {
       "model_id": "4bc3ac0ce3d04670865bae0900ae8401",
       "version_major": 2,
       "version_minor": 0
      },
      "text/plain": [
       "  0%|          | 0/4 [00:00<?, ?it/s]"
      ]
     },
     "metadata": {},
     "output_type": "display_data"
    },
    {
     "name": "stdout",
     "output_type": "stream",
     "text": [
      "|2-th model is checked!, *SimpleConvNet-1-0.49771320957761633.pkl*\n",
      "|TRAIN: loss=0.8019 roc=0.4978|\n",
      "|VALID: loss=0.6692 roc=0.4977|\n",
      "-------------------------------------------------------\n",
      "|EPOCH: 3/100\n"
     ]
    },
    {
     "data": {
      "application/vnd.jupyter.widget-view+json": {
       "model_id": "ab74ec8c88344759ad2106ec42cf6100",
       "version_major": 2,
       "version_minor": 0
      },
      "text/plain": [
       "  0%|          | 0/33 [00:00<?, ?it/s]"
      ]
     },
     "metadata": {},
     "output_type": "display_data"
    }
   ],
   "source": [
    "max_valid_roc = 0\n",
    "\n",
    "history = {\n",
    "    \"train_loss\":[],\n",
    "    \"train_roc\":[],\n",
    "    \"valid_loss\":[],\n",
    "    \"valid_roc\":[]\n",
    "}\n",
    "\n",
    "for epoch in tqdm(range(NUM_EPOCH)):\n",
    "    print( \"-------------------------------------------------------\")\n",
    "    print(f\"|EPOCH: {epoch+1}/{NUM_EPOCH}\")\n",
    "    \n",
    "    train_loss, train_roc = train(tqdm(train_loader))\n",
    "    valid_loss, valid_roc = valid(tqdm(valid_loader))\n",
    "    \n",
    "    history['train_loss'].append(train_loss)\n",
    "    history['train_roc'].append(train_roc)\n",
    "    history['valid_loss'].append(valid_loss)\n",
    "    history['valid_roc'].append(valid_roc)\n",
    "    \n",
    "    if valid_roc > max_valid_roc:\n",
    "        print(f\"|{epoch+1}-th model is checked!, *{model_name}-{epoch}-{valid_roc}.pkl*\")\n",
    "        max_valid_roc = valid_roc\n",
    "        torch.save(model, f'./models/{model_name}-{epoch}-{valid_roc}.pkl')\n",
    "        \n",
    "    print(f\"|TRAIN: loss={train_loss:.4f} roc={train_roc:.4f}|\")\n",
    "    print(f\"|VALID: loss={valid_loss:.4f} roc={valid_roc:.4f}|\")"
   ]
  },
  {
   "cell_type": "code",
   "execution_count": null,
   "metadata": {
    "ExecuteTime": {
     "end_time": "2021-07-30T13:17:12.744450Z",
     "start_time": "2021-07-30T13:16:17.928Z"
    }
   },
   "outputs": [],
   "source": [
    "fig, ax = plt.subplots(2,1,figsize = (16,10))\n",
    "\n",
    "ax[0].plot(history['train_loss'])\n",
    "ax[0].plot(history['valid_loss'])\n",
    "\n",
    "ax[1].plot(history['train_roc'])\n",
    "ax[1].plot(history['valid_roc'])"
   ]
  },
  {
   "cell_type": "code",
   "execution_count": null,
   "metadata": {},
   "outputs": [],
   "source": []
  }
 ],
 "metadata": {
  "hide_input": false,
  "interpreter": {
   "hash": "81c7cd75e216c889d67f2868b2331dc9e43c0c233aa2a9504c71333237f0d00b"
  },
  "kernelspec": {
   "display_name": "torch",
   "language": "python",
   "name": "torch"
  },
  "language_info": {
   "codemirror_mode": {
    "name": "ipython",
    "version": 3
   },
   "file_extension": ".py",
   "mimetype": "text/x-python",
   "name": "python",
   "nbconvert_exporter": "python",
   "pygments_lexer": "ipython3",
   "version": "3.6.12"
  },
  "latex_envs": {
   "LaTeX_envs_menu_present": true,
   "autoclose": false,
   "autocomplete": true,
   "bibliofile": "biblio.bib",
   "cite_by": "apalike",
   "current_citInitial": 1,
   "eqLabelWithNumbers": true,
   "eqNumInitial": 1,
   "hotkeys": {
    "equation": "Ctrl-E",
    "itemize": "Ctrl-I"
   },
   "labels_anchors": false,
   "latex_user_defs": false,
   "report_style_numbering": false,
   "user_envs_cfg": false
  },
  "toc": {
   "base_numbering": 1,
   "nav_menu": {},
   "number_sections": true,
   "sideBar": true,
   "skip_h1_title": false,
   "title_cell": "Table of Contents",
   "title_sidebar": "Contents",
   "toc_cell": false,
   "toc_position": {},
   "toc_section_display": true,
   "toc_window_display": false
  },
  "varInspector": {
   "cols": {
    "lenName": 16,
    "lenType": 16,
    "lenVar": 40
   },
   "kernels_config": {
    "python": {
     "delete_cmd_postfix": "",
     "delete_cmd_prefix": "del ",
     "library": "var_list.py",
     "varRefreshCmd": "print(var_dic_list())"
    },
    "r": {
     "delete_cmd_postfix": ") ",
     "delete_cmd_prefix": "rm(",
     "library": "var_list.r",
     "varRefreshCmd": "cat(var_dic_list()) "
    }
   },
   "types_to_exclude": [
    "module",
    "function",
    "builtin_function_or_method",
    "instance",
    "_Feature"
   ],
   "window_display": false
  }
 },
 "nbformat": 4,
 "nbformat_minor": 4
}
