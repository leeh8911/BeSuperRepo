{
 "cells": [
  {
   "cell_type": "markdown",
   "metadata": {},
   "source": [
    "# Hyper Parameters"
   ]
  },
  {
   "cell_type": "code",
   "execution_count": 1,
   "metadata": {
    "ExecuteTime": {
     "end_time": "2021-07-14T04:49:35.351358Z",
     "start_time": "2021-07-14T04:49:35.335360Z"
    }
   },
   "outputs": [],
   "source": [
    "notebookName = \"BaseModel\"\n",
    "nepochs = 10\n",
    "batch_size = 4\n",
    "learning_rate = 0.001\n",
    "\n",
    "SEED = 20180724\n",
    "target_layer = [ 'road_block', 'walkway', 'road_divider', 'traffic_light']\n",
    "class_names = ['None'] + target_layer\n",
    "MAX_OBJECTS = 1\n",
    "MAX_POINTS = 30\n",
    "MAX_POINT_CLOUDS = 1200"
   ]
  },
  {
   "cell_type": "code",
   "execution_count": 2,
   "metadata": {
    "ExecuteTime": {
     "end_time": "2021-07-14T04:49:35.366357Z",
     "start_time": "2021-07-14T04:49:35.353359Z"
    }
   },
   "outputs": [],
   "source": [
    "LIDAR_PC_SHAPE = [4, MAX_POINT_CLOUDS] # [x,y,z,intensity] x num_of_points\n",
    "MAP_OBJECT_SHAPE = [MAX_OBJECTS, MAX_POINTS, 2] # num_of_objects x num_of_points x [x, y]\n",
    "MAP_LAYER_SHAPE = [len(class_names), MAX_OBJECTS] # num_of_class x num_of_objects"
   ]
  },
  {
   "cell_type": "markdown",
   "metadata": {},
   "source": [
    "# Base Setting"
   ]
  },
  {
   "cell_type": "code",
   "execution_count": 3,
   "metadata": {
    "ExecuteTime": {
     "end_time": "2021-07-14T04:49:43.259916Z",
     "start_time": "2021-07-14T04:49:35.368360Z"
    }
   },
   "outputs": [],
   "source": [
    "import os\n",
    "from pathlib import Path\n",
    "import time\n",
    "\n",
    "from nuscenes.nuscenes import NuScenes\n",
    "from utils.custom_lidar_api import CustomLidarApi\n",
    "from utils.custom_map_api_expansion import CustomNuScenesMap\n",
    "\n",
    "import numpy as np\n",
    "import pandas as pd\n",
    "import matplotlib.pyplot as plt\n",
    "import plotly.express as px\n",
    "from tqdm.notebook import tqdm\n",
    "\n",
    "import torch\n",
    "import torch.nn as nn\n",
    "from torch.nn import Module\n",
    "from torch.nn import functional as F\n",
    "import torch.optim as optim\n",
    "from torch.utils.data import Dataset\n",
    "from torch.utils.data import TensorDataset, DataLoader\n",
    "\n",
    "import warnings\n",
    "warnings.filterwarnings(action='ignore')\n",
    "\n",
    "%matplotlib inline "
   ]
  },
  {
   "cell_type": "code",
   "execution_count": 4,
   "metadata": {
    "ExecuteTime": {
     "end_time": "2021-07-14T04:49:43.274919Z",
     "start_time": "2021-07-14T04:49:43.261917Z"
    }
   },
   "outputs": [],
   "source": [
    "locations = ['singapore-onenorth', 'singapore-hollandvillage', 'singapore-queenstown', 'boston-seaport']\n",
    "version = 'v1.0-trainval'\n",
    "dataroot = 'E:/datasets/nuscenes'"
   ]
  },
  {
   "cell_type": "code",
   "execution_count": 5,
   "metadata": {
    "ExecuteTime": {
     "end_time": "2021-07-14T04:49:43.319919Z",
     "start_time": "2021-07-14T04:49:43.276917Z"
    }
   },
   "outputs": [],
   "source": [
    "torch.manual_seed(SEED)\n",
    "np.random.seed(SEED)"
   ]
  },
  {
   "cell_type": "code",
   "execution_count": 6,
   "metadata": {
    "ExecuteTime": {
     "end_time": "2021-07-14T04:49:43.394917Z",
     "start_time": "2021-07-14T04:49:43.320917Z"
    }
   },
   "outputs": [
    {
     "name": "stdout",
     "output_type": "stream",
     "text": [
      "cuda:0\n"
     ]
    }
   ],
   "source": [
    "device = torch.device('cuda:0' if torch.cuda.is_available() else \"cpu\")\n",
    "print(device)"
   ]
  },
  {
   "cell_type": "code",
   "execution_count": 7,
   "metadata": {
    "ExecuteTime": {
     "end_time": "2021-07-14T04:49:43.409917Z",
     "start_time": "2021-07-14T04:49:43.395917Z"
    }
   },
   "outputs": [
    {
     "data": {
      "text/plain": [
       "0"
      ]
     },
     "execution_count": 7,
     "metadata": {},
     "output_type": "execute_result"
    }
   ],
   "source": [
    "\n",
    "PATH = Path(f\"./models/{notebookName}\")\n",
    "if os.path.isdir(PATH):\n",
    "    dir_list = os.listdir(PATH)\n",
    "    num_files = 0\n",
    "    while True:\n",
    "        if os.path.isfile(str(PATH / f\"{num_files}\")):\n",
    "            print(num_files)\n",
    "            num_files += 1\n",
    "        else:\n",
    "            break\n",
    "else:\n",
    "    os.mkdir(PATH)\n",
    "    num_files = 0\n",
    "num_files"
   ]
  },
  {
   "cell_type": "code",
   "execution_count": 8,
   "metadata": {
    "ExecuteTime": {
     "end_time": "2021-07-14T04:49:43.424918Z",
     "start_time": "2021-07-14T04:49:43.412919Z"
    }
   },
   "outputs": [],
   "source": [
    "class_dict = dict()\n",
    "\n",
    "for i, name in enumerate(target_layer):\n",
    "    class_dict[name] = i+1\n",
    "class_array = np.eye(len(class_names))"
   ]
  },
  {
   "cell_type": "markdown",
   "metadata": {},
   "source": [
    "# Load Nusc, Map Api, and Ldr Api"
   ]
  },
  {
   "cell_type": "code",
   "execution_count": 9,
   "metadata": {
    "ExecuteTime": {
     "end_time": "2021-07-14T04:50:54.602323Z",
     "start_time": "2021-07-14T04:49:43.427919Z"
    },
    "scrolled": true
   },
   "outputs": [
    {
     "name": "stdout",
     "output_type": "stream",
     "text": [
      "======\n",
      "Loading NuScenes tables for version v1.0-trainval...\n",
      "Loading nuScenes-lidarseg...\n",
      "32 category,\n",
      "8 attribute,\n",
      "4 visibility,\n",
      "64386 instance,\n",
      "12 sensor,\n",
      "10200 calibrated_sensor,\n",
      "2631083 ego_pose,\n",
      "68 log,\n",
      "850 scene,\n",
      "34149 sample,\n",
      "2631083 sample_data,\n",
      "1166187 sample_annotation,\n",
      "4 map,\n",
      "34149 lidarseg,\n",
      "Done loading in 61.981 seconds.\n",
      "======\n",
      "Reverse indexing ...\n",
      "Done reverse indexing in 9.2 seconds.\n",
      "======\n"
     ]
    }
   ],
   "source": [
    "nusc = NuScenes(version=version, dataroot=dataroot, verbose=True)"
   ]
  },
  {
   "cell_type": "code",
   "execution_count": 10,
   "metadata": {
    "ExecuteTime": {
     "end_time": "2021-07-14T04:50:55.547323Z",
     "start_time": "2021-07-14T04:50:54.604321Z"
    }
   },
   "outputs": [],
   "source": [
    "map_api = dict([])\n",
    "for location in locations:\n",
    "    map_api[location] = CustomNuScenesMap(dataroot = dataroot, map_name= location)"
   ]
  },
  {
   "cell_type": "code",
   "execution_count": 11,
   "metadata": {
    "ExecuteTime": {
     "end_time": "2021-07-14T04:50:55.562324Z",
     "start_time": "2021-07-14T04:50:55.548323Z"
    }
   },
   "outputs": [],
   "source": [
    "ldr_api = CustomLidarApi(nusc)"
   ]
  },
  {
   "cell_type": "code",
   "execution_count": 12,
   "metadata": {
    "ExecuteTime": {
     "end_time": "2021-07-14T04:50:55.637911Z",
     "start_time": "2021-07-14T04:50:55.564324Z"
    }
   },
   "outputs": [],
   "source": [
    "locations = ['singapore-onenorth', 'singapore-hollandvillage', 'singapore-queenstown', 'boston-seaport']\n",
    "version = 'v1.0-trainval'\n",
    "dataroot = 'E:/datasets/nuscenes'"
   ]
  },
  {
   "cell_type": "code",
   "execution_count": 13,
   "metadata": {
    "ExecuteTime": {
     "end_time": "2021-07-14T04:50:55.697911Z",
     "start_time": "2021-07-14T04:50:55.638912Z"
    },
    "scrolled": true
   },
   "outputs": [
    {
     "name": "stdout",
     "output_type": "stream",
     "text": [
      "33299\n"
     ]
    }
   ],
   "source": [
    "# get all sample token\n",
    "sample_tokens = []\n",
    "for scene in nusc.scene:\n",
    "    token = scene['first_sample_token']\n",
    "    while token != scene['last_sample_token']:\n",
    "        sample_tokens.append(token)\n",
    "        sample = nusc.get('sample', token)\n",
    "        token = sample['next']\n",
    "print(len(sample_tokens))"
   ]
  },
  {
   "cell_type": "code",
   "execution_count": 14,
   "metadata": {
    "ExecuteTime": {
     "end_time": "2021-07-14T04:50:55.757910Z",
     "start_time": "2021-07-14T04:50:55.699911Z"
    },
    "scrolled": true
   },
   "outputs": [
    {
     "name": "stdout",
     "output_type": "stream",
     "text": [
      "33299\n",
      "29970\n",
      "3329\n"
     ]
    }
   ],
   "source": [
    "def train_val_split(sample_tokens, ratio = 0.1, shuffle = True):\n",
    "    index = np.array(range(len(sample_tokens)))\n",
    "    index = np.random.choice(index.shape[0], index.shape[0], replace = False)\n",
    "    \n",
    "    valid_num = int(index.shape[0] * ratio)\n",
    "    \n",
    "    valid_tokens = sample_tokens[:valid_num]\n",
    "    train_tokens = sample_tokens[valid_num:]\n",
    "    \n",
    "    return train_tokens, valid_tokens\n",
    "\n",
    "train_tokens, valid_tokens = train_val_split(sample_tokens)\n",
    "\n",
    "print(len(sample_tokens))\n",
    "print(len(train_tokens))\n",
    "print(len(valid_tokens))"
   ]
  },
  {
   "cell_type": "markdown",
   "metadata": {},
   "source": [
    "# Customized Dataset"
   ]
  },
  {
   "cell_type": "code",
   "execution_count": 15,
   "metadata": {
    "ExecuteTime": {
     "end_time": "2021-07-14T04:50:55.772915Z",
     "start_time": "2021-07-14T04:50:55.759911Z"
    },
    "scrolled": true
   },
   "outputs": [],
   "source": [
    "# LIDAR_PC_SHAPE = [4, MAX_POINT_CLOUDS] # [x,y,z,intensity] x num_of_points\n",
    "# MAP_OBJECT_SHAPE = [MAX_OBJECTS, MAX_POINTS, 2] # num_of_objects x num_of_points x [x, y]\n",
    "# MAP_LAYER_SHAPE = [len(class_names), MAX_OBJECTS] # num_of_class x num_of_objects\n",
    "class NusceneDataset(Dataset):\n",
    "    def __init__(self, tokens, nusc, map_api, ldr_api, train = True):\n",
    "        self.tokens = tokens\n",
    "        self.nusc = nusc\n",
    "        self.map_api = map_api\n",
    "        self.ldr_api = ldr_api\n",
    "        self.train = train\n",
    "        \n",
    "        self.length = len(tokens)\n",
    "    def __len__(self):\n",
    "        return self.length\n",
    "    \n",
    "    def __getitem__(self, idx):\n",
    "        token = self.tokens[idx]\n",
    "        \n",
    "        sample = self.nusc.get('sample', token)\n",
    "        scene = self.nusc.get('scene', sample['scene_token'])\n",
    "        log_meta = self.nusc.get('log', scene['log_token'])\n",
    "        \n",
    "        location = log_meta['location']\n",
    "        sample_data = self.nusc.get('sample_data', sample['data']['LIDAR_TOP'])\n",
    "        \n",
    "        pc = self.ldr_api.get_lidar_from_keyframe(token, max_points = LIDAR_PC_SHAPE[1], car_coord = True)\n",
    "        ego = self.ldr_api.get_egopose_from_keyframe(token)\n",
    "        structures = self.map_api[log_meta['location']].get_closest_structures(target_layer, ego, \n",
    "                                                                               max_objs = MAP_OBJECT_SHAPE[0], \n",
    "                                                                               max_points = MAP_OBJECT_SHAPE[1], \n",
    "                                                                               patch = [200, 200],\n",
    "                                                                               mode = 'intersect',\n",
    "                                                                               global_coord=False)\n",
    "        \n",
    "        X = torch.Tensor(pc.points)\n",
    "        if self.train:\n",
    "            classes, objects = self.get_label(structures)\n",
    "        else:\n",
    "            classes, objects = self.get_label(list())\n",
    "        \n",
    "        return X, classes, objects\n",
    "    \n",
    "    def get_label(self, structures):\n",
    "        classes = list(map(lambda x: torch.Tensor(class_array[class_dict[x[\"class\"]], :]).reshape(MAP_LAYER_SHAPE[0], MAP_LAYER_SHAPE[1]), structures))\n",
    "        classes = torch.cat(classes, axis = 1)\n",
    "        \n",
    "        objects = list(map(lambda x: torch.Tensor(x['nodes'].reshape(MAP_OBJECT_SHAPE[0], MAP_OBJECT_SHAPE[1], MAP_OBJECT_SHAPE[2])), structures))\n",
    "        objects = torch.cat(objects, axis = 0)\n",
    "        \n",
    "        return classes, objects\n",
    "        \n",
    "\n",
    "train_dataset = NusceneDataset(tokens = train_tokens, nusc = nusc, map_api = map_api, ldr_api = ldr_api)\n",
    "valid_dataset = NusceneDataset(tokens = valid_tokens, nusc = nusc, map_api = map_api, ldr_api = ldr_api)\n",
    "\n",
    "train_loader = DataLoader(train_dataset, batch_size = batch_size, shuffle = True)\n",
    "valid_loader = DataLoader(valid_dataset, batch_size = batch_size, shuffle = False)"
   ]
  },
  {
   "cell_type": "code",
   "execution_count": 16,
   "metadata": {
    "ExecuteTime": {
     "end_time": "2021-07-14T04:50:55.802912Z",
     "start_time": "2021-07-14T04:50:55.773911Z"
    },
    "scrolled": false
   },
   "outputs": [],
   "source": [
    "# def get_label(structures):\n",
    "#     classes = list(map(lambda x: torch.Tensor(class_array[class_dict[x[\"class\"]], :]).reshape(MAP_LAYER_SHAPE[0], MAP_LAYER_SHAPE[1]), structures))\n",
    "#     classes = torch.cat(classes, axis = 1)\n",
    "\n",
    "#     objects = list(map(lambda x: torch.Tensor(x['nodes'].reshape(MAP_OBJECT_SHAPE[0], MAP_OBJECT_SHAPE[1], MAP_OBJECT_SHAPE[2])), structures))\n",
    "#     objects = torch.cat(objects, axis = 0)\n",
    "#     return classes, objects\n",
    "\n",
    "# %load_ext line_profiler\n",
    "\n",
    "# token = \"c507bbfdc8e7475098eb217530a23559\"\n",
    "\n",
    "# sample = nusc.get('sample', token)\n",
    "# scene = nusc.get('scene', sample['scene_token'])\n",
    "# log_meta = nusc.get('log', scene['log_token'])\n",
    "# location = log_meta['location']\n",
    "# sample_data = nusc.get('sample_data', sample['data']['LIDAR_TOP'])\n",
    "# pc = ldr_api.get_lidar_from_keyframe(token, max_points = LIDAR_PC_SHAPE[1], car_coord = True)\n",
    "# ego = ldr_api.get_egopose_from_keyframe(token)\n",
    "# mode = 'intersect'\n",
    "# %lprun -f  map_api[location].get_closest_structures map_api[location].get_closest_structures(target_layer, ego, max_objs = MAP_OBJECT_SHAPE[0], max_points = MAP_OBJECT_SHAPE[1], patch = [200, 200],mode = mode,global_coord=False)\n"
   ]
  },
  {
   "cell_type": "code",
   "execution_count": 17,
   "metadata": {
    "ExecuteTime": {
     "end_time": "2021-07-14T04:50:55.817910Z",
     "start_time": "2021-07-14T04:50:55.804910Z"
    }
   },
   "outputs": [],
   "source": [
    "# def get_label(structures):\n",
    "#     classes = list(map(lambda x: torch.Tensor(class_array[class_dict[x[\"class\"]], :]).reshape(MAP_LAYER_SHAPE[0], MAP_LAYER_SHAPE[1]), structures))\n",
    "#     classes = torch.cat(classes, axis = 1)\n",
    "\n",
    "#     objects = list(map(lambda x: torch.Tensor(x['nodes'].reshape(MAP_OBJECT_SHAPE[0], MAP_OBJECT_SHAPE[1], MAP_OBJECT_SHAPE[2])), structures))\n",
    "#     objects = torch.cat(objects, axis = 0)\n",
    "#     return classes, objects\n",
    "\n",
    "# %load_ext line_profiler\n",
    "\n",
    "# token = \"c507bbfdc8e7475098eb217530a23559\"\n",
    "\n",
    "# sample = nusc.get('sample', token)\n",
    "# scene = nusc.get('scene', sample['scene_token'])\n",
    "# log_meta = nusc.get('log', scene['log_token'])\n",
    "# location = log_meta['location']\n",
    "# sample_data = nusc.get('sample_data', sample['data']['LIDAR_TOP'])\n",
    "# pc = ldr_api.get_lidar_from_keyframe(token, max_points = LIDAR_PC_SHAPE[1], car_coord = True)\n",
    "# ego = ldr_api.get_egopose_from_keyframe(token)\n",
    "# mode = 'intersect'\n",
    "# translation = 'translation'\n",
    "# # %lprun -f  map_api[location].get_closest_structures map_api[location].get_closest_structures(target_layer, ego, max_objs = MAP_OBJECT_SHAPE[0], max_points = MAP_OBJECT_SHAPE[1], patch = [200, 200],mode = mode,global_coord=False)\n",
    "# %lprun -f  map_api[location].get_closest_layers map_api[location].get_closest_layers(target_layer, ego[translation], patch = [200, 200],mode = mode)\n"
   ]
  },
  {
   "cell_type": "code",
   "execution_count": 18,
   "metadata": {
    "ExecuteTime": {
     "end_time": "2021-07-14T04:50:55.832912Z",
     "start_time": "2021-07-14T04:50:55.819912Z"
    },
    "scrolled": true
   },
   "outputs": [],
   "source": [
    "# for X, c, y in train_loader:\n",
    "#     print(X.to(device).shape)\n",
    "#     print(c.to(device).shape)\n",
    "#     print(y.to(device).shape)\n",
    "#     break"
   ]
  },
  {
   "cell_type": "markdown",
   "metadata": {},
   "source": [
    "# Model"
   ]
  },
  {
   "cell_type": "code",
   "execution_count": 19,
   "metadata": {
    "ExecuteTime": {
     "end_time": "2021-07-14T04:50:55.847910Z",
     "start_time": "2021-07-14T04:50:55.834912Z"
    }
   },
   "outputs": [],
   "source": [
    "# LIDAR_PC_SHAPE = [4, MAX_POINT_CLOUDS] # [x,y,z,intensity] x num_of_points\n",
    "# MAP_OBJECT_SHAPE = [MAX_OBJECTS, MAX_POINTS, 2] # num_of_objects x num_of_points x [x, y]\n",
    "# MAP_LAYER_SHAPE = [len(class_names), MAX_OBJECTS] # num_of_class x num_of_objects\n",
    "class BaseModel(torch.nn.Module):\n",
    "    def __init__(self, input_shape = [4, 3500], class_shape = [4, 1], object_shape = [1, 30, 2]):\n",
    "        super().__init__()\n",
    "        self.input_shape =input_shape\n",
    "        self.object_shape = object_shape\n",
    "        self.class_shape = class_shape\n",
    "        \n",
    "        self.conv1 = nn.Conv1d(input_shape[0], 64, kernel_size=1)\n",
    "        self.batch1 = nn.BatchNorm1d(64)\n",
    "        \n",
    "        self.conv2 = nn.Conv1d(64, 64, kernel_size=1)\n",
    "        self.batch2 = nn.BatchNorm1d(64)\n",
    "        \n",
    "        self.fc1 = nn.Linear(64 * input_shape[1], 1024)\n",
    "        self.fc2 = nn.Linear(1024, 512)\n",
    "        \n",
    "        self.fc_obj = nn.Linear(512, np.prod(object_shape))\n",
    "        self.fc_cls = nn.Linear(512, np.prod(class_shape))\n",
    "        \n",
    "    def forward(self, x):\n",
    "        input_shape = self.input_shape\n",
    "        object_shape = self.object_shape\n",
    "        class_shape = self.class_shape\n",
    "        \n",
    "        x = self.conv1(x)\n",
    "        x = F.relu(x)\n",
    "        x = self.batch1(x)\n",
    "        \n",
    "        x = self.conv2(x)\n",
    "        x = F.relu(x)\n",
    "        x = self.batch2(x)\n",
    "        \n",
    "        x = x.reshape(-1, input_shape[1] * 64)\n",
    "        \n",
    "        x = self.fc1(x)\n",
    "        x = F.relu(x)\n",
    "        \n",
    "        x = self.fc2(x)\n",
    "        x = F.relu(x)\n",
    "        \n",
    "        obj_ = self.fc_obj(x)\n",
    "        cls_ = self.fc_cls(x)\n",
    "        \n",
    "        obj_ = obj_.reshape(-1, object_shape[0], object_shape[1], object_shape[2])\n",
    "        cls_ = cls_.reshape(-1, class_shape[0], class_shape[1])\n",
    "        return cls_, obj_"
   ]
  },
  {
   "cell_type": "markdown",
   "metadata": {},
   "source": [
    "# Loss"
   ]
  },
  {
   "cell_type": "code",
   "execution_count": 20,
   "metadata": {
    "ExecuteTime": {
     "end_time": "2021-07-14T04:50:55.877914Z",
     "start_time": "2021-07-14T04:50:55.848910Z"
    }
   },
   "outputs": [],
   "source": [
    "class BaseLoss(torch.nn.Module):\n",
    "    def __init__(self):\n",
    "        super().__init__()\n",
    "        \n",
    "        self.pose_loss = nn.MSELoss()\n",
    "        self.class_loss = nn.CrossEntropyLoss()\n",
    "        pass\n",
    "    def forward(self, c_hat, y_hat, c, y):\n",
    "        \n",
    "        loss = self.pose_loss(y, y_hat) + self.class_loss(c_hat, c.argmax(axis = 1))\n",
    "        return loss"
   ]
  },
  {
   "cell_type": "markdown",
   "metadata": {
    "ExecuteTime": {
     "end_time": "2021-07-13T07:41:47.713588Z",
     "start_time": "2021-07-13T07:41:47.699587Z"
    }
   },
   "source": [
    "# Model Compile"
   ]
  },
  {
   "cell_type": "code",
   "execution_count": 21,
   "metadata": {
    "ExecuteTime": {
     "end_time": "2021-07-14T04:51:05.239176Z",
     "start_time": "2021-07-14T04:50:55.879910Z"
    }
   },
   "outputs": [],
   "source": [
    "model = BaseModel(LIDAR_PC_SHAPE, MAP_LAYER_SHAPE, MAP_OBJECT_SHAPE)\n",
    "model.to(device)\n",
    "\n",
    "loss_func= BaseLoss()\n",
    "optimizer = optim.SGD(model.parameters(), lr = 0.001)"
   ]
  },
  {
   "cell_type": "markdown",
   "metadata": {},
   "source": [
    "# Train Module"
   ]
  },
  {
   "cell_type": "code",
   "execution_count": 26,
   "metadata": {
    "ExecuteTime": {
     "end_time": "2021-07-14T04:53:35.682115Z",
     "start_time": "2021-07-14T04:53:35.671117Z"
    }
   },
   "outputs": [],
   "source": [
    "def train(epoch, progress_log):\n",
    "    model.train()  # 신경망을 학습 모드로 전환\n",
    "\n",
    "    # 데이터로더에서 미니배치를 하나씩 꺼내 학습을 수행\n",
    "    mean_loss = 0\n",
    "    data_num = 0\n",
    "    \n",
    "    for X, c, y in progress_log:\n",
    "        \n",
    "        X = X.to(device)\n",
    "        c = c.to(device)\n",
    "        y = y.to(device)\n",
    "        \n",
    "        optimizer.zero_grad()  # 경사를 0으로 초기화\n",
    "        c_hat, y_hat = model(X)  # 데이터를 입력하고 출력을 계산\n",
    "        loss = loss_func(c_hat, y_hat, c, y)  # 출력과 훈련 데이터 정답 간의 오차를 계산\n",
    "        print(loss)\n",
    "        \n",
    "        loss.backward()  # 오차를 역전파 계산\n",
    "        optimizer.step()  # 역전파 계산한 값으로 가중치를 수정\n",
    "        \n",
    "        mean_loss += loss\n",
    "        data_num += X.shape[0]\n",
    "        \n",
    "    mean_loss /= data_num\n",
    "    \n",
    "    return mean_loss"
   ]
  },
  {
   "cell_type": "markdown",
   "metadata": {},
   "source": [
    "# Valid Module"
   ]
  },
  {
   "cell_type": "code",
   "execution_count": 27,
   "metadata": {
    "ExecuteTime": {
     "end_time": "2021-07-14T04:53:36.222114Z",
     "start_time": "2021-07-14T04:53:36.205115Z"
    }
   },
   "outputs": [],
   "source": [
    "def valid(epoch, progress_log):\n",
    "    model.eval()  # 신경망을 학습 모드로 전환\n",
    "\n",
    "    # 데이터로더에서 미니배치를 하나씩 꺼내 학습을 수행\n",
    "    mean_loss = 0\n",
    "    data_num = 0\n",
    "    \n",
    "    with torch.no_grad():\n",
    "        for X, c, y in progress_log:\n",
    "\n",
    "            X = X.to(device)\n",
    "            c = c.to(device)\n",
    "            y = y.to(device)\n",
    "\n",
    "            c_hat, y_hat = model(X)  # 데이터를 입력하고 출력을 계산\n",
    "            loss = loss_func(c_hat, y_hat, c, y)  # 출력과 훈련 데이터 정답 간의 오차를 계산\n",
    "\n",
    "            mean_loss += loss\n",
    "            data_num += X.shape[0]\n",
    "        \n",
    "    mean_loss /= data_num\n",
    "    \n",
    "    return mean_loss"
   ]
  },
  {
   "cell_type": "markdown",
   "metadata": {},
   "source": [
    "# Test Module"
   ]
  },
  {
   "cell_type": "code",
   "execution_count": 28,
   "metadata": {
    "ExecuteTime": {
     "end_time": "2021-07-14T04:53:36.792114Z",
     "start_time": "2021-07-14T04:53:36.775115Z"
    }
   },
   "outputs": [],
   "source": [
    "def test(epoch, progress_log):\n",
    "    model.eval()  # 신경망을 학습 모드로 전환\n",
    "\n",
    "    # 데이터로더에서 미니배치를 하나씩 꺼내 학습을 수행\n",
    "    C_hat = []\n",
    "    Y_hat = []\n",
    "    \n",
    "    with torch.no_grad():\n",
    "        for X, _, _ in progress_log:\n",
    "\n",
    "            X = X.to(device)\n",
    "\n",
    "            c_hat, y_hat = model(X)  # 데이터를 입력하고 출력을 계산\n",
    "            C_hat.append(c_hat)\n",
    "            Y_hat.append(y_hat)\n",
    "        \n",
    "    C_hat = np.concatenate(C_hat)\n",
    "    Y_hat = np.concatenate(Y_hat)\n",
    "    \n",
    "    return C_hat, Y_hat"
   ]
  },
  {
   "cell_type": "markdown",
   "metadata": {},
   "source": [
    "# Fit"
   ]
  },
  {
   "cell_type": "code",
   "execution_count": null,
   "metadata": {
    "ExecuteTime": {
     "start_time": "2021-07-14T04:53:41.714Z"
    }
   },
   "outputs": [
    {
     "data": {
      "application/vnd.jupyter.widget-view+json": {
       "model_id": "92fde9fec36c4212857665bf24105add",
       "version_major": 2,
       "version_minor": 0
      },
      "text/plain": [
       "EPOCH:   0%|          | 0/10 [00:00<?, ?it/s]"
      ]
     },
     "metadata": {},
     "output_type": "display_data"
    },
    {
     "name": "stdout",
     "output_type": "stream",
     "text": [
      "-------------------------------------------------------\n",
      "|EPOCH: 1/10\n"
     ]
    },
    {
     "data": {
      "application/vnd.jupyter.widget-view+json": {
       "model_id": "75497c5e36e741b5ba43fa290ecc6625",
       "version_major": 2,
       "version_minor": 0
      },
      "text/plain": [
       "TRAIN:   0%|          | 0/7493 [00:00<?, ?it/s]"
      ]
     },
     "metadata": {},
     "output_type": "display_data"
    },
    {
     "data": {
      "application/vnd.jupyter.widget-view+json": {
       "model_id": "dfd4a9649fad4060b8b5e3019d996c84",
       "version_major": 2,
       "version_minor": 0
      },
      "text/plain": [
       "VALID:   0%|          | 0/833 [00:00<?, ?it/s]"
      ]
     },
     "metadata": {},
     "output_type": "display_data"
    },
    {
     "name": "stdout",
     "output_type": "stream",
     "text": [
      "tensor(279.3452, device='cuda:0', grad_fn=<AddBackward0>)\n",
      "tensor(281.2384, device='cuda:0', grad_fn=<AddBackward0>)\n",
      "tensor(1516.9305, device='cuda:0', grad_fn=<AddBackward0>)\n",
      "tensor(300.1980, device='cuda:0', grad_fn=<AddBackward0>)\n",
      "tensor(388.4130, device='cuda:0', grad_fn=<AddBackward0>)\n",
      "tensor(716.6089, device='cuda:0', grad_fn=<AddBackward0>)\n",
      "tensor(75.4021, device='cuda:0', grad_fn=<AddBackward0>)\n",
      "tensor(878.3972, device='cuda:0', grad_fn=<AddBackward0>)\n",
      "tensor(205.2905, device='cuda:0', grad_fn=<AddBackward0>)\n",
      "tensor(468.0629, device='cuda:0', grad_fn=<AddBackward0>)\n",
      "tensor(75.1185, device='cuda:0', grad_fn=<AddBackward0>)\n",
      "tensor(445.4049, device='cuda:0', grad_fn=<AddBackward0>)\n",
      "tensor(34.9144, device='cuda:0', grad_fn=<AddBackward0>)\n",
      "tensor(685.0473, device='cuda:0', grad_fn=<AddBackward0>)\n",
      "tensor(246.0037, device='cuda:0', grad_fn=<AddBackward0>)\n",
      "tensor(43.6431, device='cuda:0', grad_fn=<AddBackward0>)\n",
      "tensor(1627.0596, device='cuda:0', grad_fn=<AddBackward0>)\n",
      "tensor(114.7196, device='cuda:0', grad_fn=<AddBackward0>)\n",
      "tensor(310.9660, device='cuda:0', grad_fn=<AddBackward0>)\n",
      "tensor(226.8488, device='cuda:0', grad_fn=<AddBackward0>)\n",
      "tensor(3092.1499, device='cuda:0', grad_fn=<AddBackward0>)\n",
      "tensor(308.2087, device='cuda:0', grad_fn=<AddBackward0>)\n",
      "tensor(30.2418, device='cuda:0', grad_fn=<AddBackward0>)\n",
      "tensor(252.4575, device='cuda:0', grad_fn=<AddBackward0>)\n",
      "tensor(485.4121, device='cuda:0', grad_fn=<AddBackward0>)\n",
      "tensor(2956.9639, device='cuda:0', grad_fn=<AddBackward0>)\n",
      "tensor(552.7204, device='cuda:0', grad_fn=<AddBackward0>)\n",
      "tensor(12.3575, device='cuda:0', grad_fn=<AddBackward0>)\n",
      "tensor(1352.3353, device='cuda:0', grad_fn=<AddBackward0>)\n",
      "tensor(551.4127, device='cuda:0', grad_fn=<AddBackward0>)\n",
      "tensor(320.3526, device='cuda:0', grad_fn=<AddBackward0>)\n",
      "tensor(313.0449, device='cuda:0', grad_fn=<AddBackward0>)\n",
      "tensor(424.2602, device='cuda:0', grad_fn=<AddBackward0>)\n",
      "tensor(4551.9980, device='cuda:0', grad_fn=<AddBackward0>)\n",
      "tensor(79.9074, device='cuda:0', grad_fn=<AddBackward0>)\n",
      "tensor(50.0718, device='cuda:0', grad_fn=<AddBackward0>)\n",
      "tensor(239.1901, device='cuda:0', grad_fn=<AddBackward0>)\n",
      "tensor(848.1871, device='cuda:0', grad_fn=<AddBackward0>)\n",
      "tensor(98.1154, device='cuda:0', grad_fn=<AddBackward0>)\n",
      "tensor(301.5116, device='cuda:0', grad_fn=<AddBackward0>)\n",
      "tensor(157.5886, device='cuda:0', grad_fn=<AddBackward0>)\n",
      "tensor(967.3516, device='cuda:0', grad_fn=<AddBackward0>)\n",
      "tensor(105.0251, device='cuda:0', grad_fn=<AddBackward0>)\n",
      "tensor(730.5788, device='cuda:0', grad_fn=<AddBackward0>)\n",
      "tensor(969.4426, device='cuda:0', grad_fn=<AddBackward0>)\n",
      "tensor(1125.4634, device='cuda:0', grad_fn=<AddBackward0>)\n",
      "tensor(1239.2738, device='cuda:0', grad_fn=<AddBackward0>)\n",
      "tensor(1106.5258, device='cuda:0', grad_fn=<AddBackward0>)\n",
      "tensor(680.9448, device='cuda:0', grad_fn=<AddBackward0>)\n",
      "tensor(892.7897, device='cuda:0', grad_fn=<AddBackward0>)\n",
      "tensor(4809.0073, device='cuda:0', grad_fn=<AddBackward0>)\n",
      "tensor(137.7785, device='cuda:0', grad_fn=<AddBackward0>)\n",
      "tensor(126.6840, device='cuda:0', grad_fn=<AddBackward0>)\n",
      "tensor(45.2108, device='cuda:0', grad_fn=<AddBackward0>)\n",
      "tensor(738.9717, device='cuda:0', grad_fn=<AddBackward0>)\n",
      "tensor(330.2909, device='cuda:0', grad_fn=<AddBackward0>)\n",
      "tensor(291.3395, device='cuda:0', grad_fn=<AddBackward0>)\n",
      "tensor(627.5013, device='cuda:0', grad_fn=<AddBackward0>)\n",
      "tensor(146.5155, device='cuda:0', grad_fn=<AddBackward0>)\n",
      "tensor(401.1937, device='cuda:0', grad_fn=<AddBackward0>)\n",
      "tensor(2254.1060, device='cuda:0', grad_fn=<AddBackward0>)\n",
      "tensor(791.4249, device='cuda:0', grad_fn=<AddBackward0>)\n",
      "tensor(174.3049, device='cuda:0', grad_fn=<AddBackward0>)\n",
      "tensor(402.1166, device='cuda:0', grad_fn=<AddBackward0>)\n",
      "tensor(112.6616, device='cuda:0', grad_fn=<AddBackward0>)\n",
      "tensor(264.1360, device='cuda:0', grad_fn=<AddBackward0>)\n",
      "tensor(320.7307, device='cuda:0', grad_fn=<AddBackward0>)\n",
      "tensor(30.7526, device='cuda:0', grad_fn=<AddBackward0>)\n",
      "tensor(126.2219, device='cuda:0', grad_fn=<AddBackward0>)\n",
      "tensor(53.4345, device='cuda:0', grad_fn=<AddBackward0>)\n",
      "tensor(787.3657, device='cuda:0', grad_fn=<AddBackward0>)\n",
      "tensor(384.6989, device='cuda:0', grad_fn=<AddBackward0>)\n",
      "tensor(16.4482, device='cuda:0', grad_fn=<AddBackward0>)\n",
      "tensor(143.9397, device='cuda:0', grad_fn=<AddBackward0>)\n",
      "tensor(174.9509, device='cuda:0', grad_fn=<AddBackward0>)\n",
      "tensor(394.5236, device='cuda:0', grad_fn=<AddBackward0>)\n",
      "tensor(71.3034, device='cuda:0', grad_fn=<AddBackward0>)\n",
      "tensor(189.3154, device='cuda:0', grad_fn=<AddBackward0>)\n",
      "tensor(28.7681, device='cuda:0', grad_fn=<AddBackward0>)\n",
      "tensor(35.7128, device='cuda:0', grad_fn=<AddBackward0>)\n",
      "tensor(375.2901, device='cuda:0', grad_fn=<AddBackward0>)\n",
      "tensor(323.1057, device='cuda:0', grad_fn=<AddBackward0>)\n",
      "tensor(262.6052, device='cuda:0', grad_fn=<AddBackward0>)\n",
      "tensor(176.3182, device='cuda:0', grad_fn=<AddBackward0>)\n",
      "tensor(469.7688, device='cuda:0', grad_fn=<AddBackward0>)\n",
      "tensor(179.7512, device='cuda:0', grad_fn=<AddBackward0>)\n",
      "tensor(451.8842, device='cuda:0', grad_fn=<AddBackward0>)\n",
      "tensor(168.5408, device='cuda:0', grad_fn=<AddBackward0>)\n",
      "tensor(183.8998, device='cuda:0', grad_fn=<AddBackward0>)\n",
      "tensor(413.8752, device='cuda:0', grad_fn=<AddBackward0>)\n",
      "tensor(743.4500, device='cuda:0', grad_fn=<AddBackward0>)\n",
      "tensor(110.2916, device='cuda:0', grad_fn=<AddBackward0>)\n",
      "tensor(186.7640, device='cuda:0', grad_fn=<AddBackward0>)\n",
      "tensor(1317.3402, device='cuda:0', grad_fn=<AddBackward0>)\n",
      "tensor(112.7990, device='cuda:0', grad_fn=<AddBackward0>)\n",
      "tensor(1385.3445, device='cuda:0', grad_fn=<AddBackward0>)\n",
      "tensor(374.4509, device='cuda:0', grad_fn=<AddBackward0>)\n",
      "tensor(996.0402, device='cuda:0', grad_fn=<AddBackward0>)\n",
      "tensor(209.9491, device='cuda:0', grad_fn=<AddBackward0>)\n",
      "tensor(79.4406, device='cuda:0', grad_fn=<AddBackward0>)\n",
      "tensor(4479.6675, device='cuda:0', grad_fn=<AddBackward0>)\n",
      "tensor(359.2140, device='cuda:0', grad_fn=<AddBackward0>)\n",
      "tensor(123.1200, device='cuda:0', grad_fn=<AddBackward0>)\n",
      "tensor(1127.6311, device='cuda:0', grad_fn=<AddBackward0>)\n",
      "tensor(2601.2466, device='cuda:0', grad_fn=<AddBackward0>)\n",
      "tensor(392.4291, device='cuda:0', grad_fn=<AddBackward0>)\n",
      "tensor(1512.6558, device='cuda:0', grad_fn=<AddBackward0>)\n",
      "tensor(647.5170, device='cuda:0', grad_fn=<AddBackward0>)\n",
      "tensor(1006.6091, device='cuda:0', grad_fn=<AddBackward0>)\n",
      "tensor(149.8013, device='cuda:0', grad_fn=<AddBackward0>)\n",
      "tensor(400.0202, device='cuda:0', grad_fn=<AddBackward0>)\n",
      "tensor(472.0622, device='cuda:0', grad_fn=<AddBackward0>)\n",
      "tensor(297.1103, device='cuda:0', grad_fn=<AddBackward0>)\n",
      "tensor(449.9541, device='cuda:0', grad_fn=<AddBackward0>)\n",
      "tensor(43.0908, device='cuda:0', grad_fn=<AddBackward0>)\n",
      "tensor(2440.3457, device='cuda:0', grad_fn=<AddBackward0>)\n",
      "tensor(455.7645, device='cuda:0', grad_fn=<AddBackward0>)\n",
      "tensor(60.5310, device='cuda:0', grad_fn=<AddBackward0>)\n",
      "tensor(402.2909, device='cuda:0', grad_fn=<AddBackward0>)\n",
      "tensor(399.1151, device='cuda:0', grad_fn=<AddBackward0>)\n",
      "tensor(2658.4915, device='cuda:0', grad_fn=<AddBackward0>)\n",
      "tensor(175.4607, device='cuda:0', grad_fn=<AddBackward0>)\n",
      "tensor(1315.6425, device='cuda:0', grad_fn=<AddBackward0>)\n",
      "tensor(1318.3163, device='cuda:0', grad_fn=<AddBackward0>)\n",
      "tensor(43.0253, device='cuda:0', grad_fn=<AddBackward0>)\n",
      "tensor(115.3107, device='cuda:0', grad_fn=<AddBackward0>)\n",
      "tensor(39.2918, device='cuda:0', grad_fn=<AddBackward0>)\n",
      "tensor(120.6479, device='cuda:0', grad_fn=<AddBackward0>)\n",
      "tensor(180.3372, device='cuda:0', grad_fn=<AddBackward0>)\n",
      "tensor(973.2706, device='cuda:0', grad_fn=<AddBackward0>)\n",
      "tensor(171.2639, device='cuda:0', grad_fn=<AddBackward0>)\n",
      "tensor(83.9050, device='cuda:0', grad_fn=<AddBackward0>)\n",
      "tensor(237.5896, device='cuda:0', grad_fn=<AddBackward0>)\n",
      "tensor(230.4611, device='cuda:0', grad_fn=<AddBackward0>)\n",
      "tensor(10535.8994, device='cuda:0', grad_fn=<AddBackward0>)\n",
      "tensor(119.8040, device='cuda:0', grad_fn=<AddBackward0>)\n",
      "tensor(142.9833, device='cuda:0', grad_fn=<AddBackward0>)\n",
      "tensor(301.0943, device='cuda:0', grad_fn=<AddBackward0>)\n",
      "tensor(1419.3625, device='cuda:0', grad_fn=<AddBackward0>)\n",
      "tensor(456.4359, device='cuda:0', grad_fn=<AddBackward0>)\n",
      "tensor(456.8864, device='cuda:0', grad_fn=<AddBackward0>)\n",
      "tensor(1868.9031, device='cuda:0', grad_fn=<AddBackward0>)\n"
     ]
    },
    {
     "name": "stdout",
     "output_type": "stream",
     "text": [
      "tensor(10362.2852, device='cuda:0', grad_fn=<AddBackward0>)\n",
      "tensor(957.7115, device='cuda:0', grad_fn=<AddBackward0>)\n",
      "tensor(266.5645, device='cuda:0', grad_fn=<AddBackward0>)\n",
      "tensor(238.5634, device='cuda:0', grad_fn=<AddBackward0>)\n",
      "tensor(436.5765, device='cuda:0', grad_fn=<AddBackward0>)\n",
      "tensor(210.1948, device='cuda:0', grad_fn=<AddBackward0>)\n",
      "tensor(400.9750, device='cuda:0', grad_fn=<AddBackward0>)\n",
      "tensor(271.9486, device='cuda:0', grad_fn=<AddBackward0>)\n",
      "tensor(169.2772, device='cuda:0', grad_fn=<AddBackward0>)\n",
      "tensor(87.5623, device='cuda:0', grad_fn=<AddBackward0>)\n",
      "tensor(380.0942, device='cuda:0', grad_fn=<AddBackward0>)\n",
      "tensor(2220.9248, device='cuda:0', grad_fn=<AddBackward0>)\n",
      "tensor(360.3442, device='cuda:0', grad_fn=<AddBackward0>)\n",
      "tensor(263.0428, device='cuda:0', grad_fn=<AddBackward0>)\n",
      "tensor(192.0127, device='cuda:0', grad_fn=<AddBackward0>)\n",
      "tensor(370.5138, device='cuda:0', grad_fn=<AddBackward0>)\n",
      "tensor(645.8430, device='cuda:0', grad_fn=<AddBackward0>)\n",
      "tensor(128.1626, device='cuda:0', grad_fn=<AddBackward0>)\n",
      "tensor(2076.8472, device='cuda:0', grad_fn=<AddBackward0>)\n",
      "tensor(234.4717, device='cuda:0', grad_fn=<AddBackward0>)\n",
      "tensor(182.4665, device='cuda:0', grad_fn=<AddBackward0>)\n",
      "tensor(1006.2778, device='cuda:0', grad_fn=<AddBackward0>)\n",
      "tensor(2700.4714, device='cuda:0', grad_fn=<AddBackward0>)\n",
      "tensor(1045.0092, device='cuda:0', grad_fn=<AddBackward0>)\n",
      "tensor(127.0620, device='cuda:0', grad_fn=<AddBackward0>)\n",
      "tensor(78.6403, device='cuda:0', grad_fn=<AddBackward0>)\n",
      "tensor(243.0302, device='cuda:0', grad_fn=<AddBackward0>)\n",
      "tensor(2187.2349, device='cuda:0', grad_fn=<AddBackward0>)\n",
      "tensor(215.5416, device='cuda:0', grad_fn=<AddBackward0>)\n",
      "tensor(132.0253, device='cuda:0', grad_fn=<AddBackward0>)\n",
      "tensor(2258.5813, device='cuda:0', grad_fn=<AddBackward0>)\n",
      "tensor(10424.3096, device='cuda:0', grad_fn=<AddBackward0>)\n",
      "tensor(286.7799, device='cuda:0', grad_fn=<AddBackward0>)\n",
      "tensor(215.1623, device='cuda:0', grad_fn=<AddBackward0>)\n",
      "tensor(1003.4056, device='cuda:0', grad_fn=<AddBackward0>)\n",
      "tensor(134.4209, device='cuda:0', grad_fn=<AddBackward0>)\n",
      "tensor(65.1127, device='cuda:0', grad_fn=<AddBackward0>)\n",
      "tensor(958.5435, device='cuda:0', grad_fn=<AddBackward0>)\n",
      "tensor(318.4659, device='cuda:0', grad_fn=<AddBackward0>)\n",
      "tensor(3063.0259, device='cuda:0', grad_fn=<AddBackward0>)\n",
      "tensor(1238.6432, device='cuda:0', grad_fn=<AddBackward0>)\n",
      "tensor(301.7167, device='cuda:0', grad_fn=<AddBackward0>)\n",
      "tensor(1919.7874, device='cuda:0', grad_fn=<AddBackward0>)\n",
      "tensor(333.5104, device='cuda:0', grad_fn=<AddBackward0>)\n",
      "tensor(94.1265, device='cuda:0', grad_fn=<AddBackward0>)\n",
      "tensor(168.8260, device='cuda:0', grad_fn=<AddBackward0>)\n",
      "tensor(79.7132, device='cuda:0', grad_fn=<AddBackward0>)\n",
      "tensor(471.5954, device='cuda:0', grad_fn=<AddBackward0>)\n",
      "tensor(2362.5234, device='cuda:0', grad_fn=<AddBackward0>)\n",
      "tensor(79.1763, device='cuda:0', grad_fn=<AddBackward0>)\n",
      "tensor(198.4969, device='cuda:0', grad_fn=<AddBackward0>)\n",
      "tensor(132.4770, device='cuda:0', grad_fn=<AddBackward0>)\n",
      "tensor(701.5232, device='cuda:0', grad_fn=<AddBackward0>)\n",
      "tensor(180.9133, device='cuda:0', grad_fn=<AddBackward0>)\n",
      "tensor(86.9860, device='cuda:0', grad_fn=<AddBackward0>)\n",
      "tensor(748.2952, device='cuda:0', grad_fn=<AddBackward0>)\n",
      "tensor(309.0269, device='cuda:0', grad_fn=<AddBackward0>)\n",
      "tensor(174.7592, device='cuda:0', grad_fn=<AddBackward0>)\n",
      "tensor(1303.5610, device='cuda:0', grad_fn=<AddBackward0>)\n",
      "tensor(447.7872, device='cuda:0', grad_fn=<AddBackward0>)\n",
      "tensor(245.1118, device='cuda:0', grad_fn=<AddBackward0>)\n",
      "tensor(397.0889, device='cuda:0', grad_fn=<AddBackward0>)\n",
      "tensor(1019.7495, device='cuda:0', grad_fn=<AddBackward0>)\n",
      "tensor(58.7563, device='cuda:0', grad_fn=<AddBackward0>)\n",
      "tensor(183.8629, device='cuda:0', grad_fn=<AddBackward0>)\n",
      "tensor(267.8701, device='cuda:0', grad_fn=<AddBackward0>)\n",
      "tensor(1354.1943, device='cuda:0', grad_fn=<AddBackward0>)\n",
      "tensor(387.7675, device='cuda:0', grad_fn=<AddBackward0>)\n",
      "tensor(480.9448, device='cuda:0', grad_fn=<AddBackward0>)\n",
      "tensor(373.0493, device='cuda:0', grad_fn=<AddBackward0>)\n",
      "tensor(979.7946, device='cuda:0', grad_fn=<AddBackward0>)\n",
      "tensor(305.7743, device='cuda:0', grad_fn=<AddBackward0>)\n",
      "tensor(155.9553, device='cuda:0', grad_fn=<AddBackward0>)\n",
      "tensor(3734.6606, device='cuda:0', grad_fn=<AddBackward0>)\n",
      "tensor(90.5902, device='cuda:0', grad_fn=<AddBackward0>)\n",
      "tensor(311.6871, device='cuda:0', grad_fn=<AddBackward0>)\n",
      "tensor(370.9272, device='cuda:0', grad_fn=<AddBackward0>)\n",
      "tensor(599.4093, device='cuda:0', grad_fn=<AddBackward0>)\n",
      "tensor(75.7769, device='cuda:0', grad_fn=<AddBackward0>)\n",
      "tensor(420.8796, device='cuda:0', grad_fn=<AddBackward0>)\n",
      "tensor(8362.6025, device='cuda:0', grad_fn=<AddBackward0>)\n",
      "tensor(495.1461, device='cuda:0', grad_fn=<AddBackward0>)\n",
      "tensor(155.4635, device='cuda:0', grad_fn=<AddBackward0>)\n",
      "tensor(206.0524, device='cuda:0', grad_fn=<AddBackward0>)\n",
      "tensor(3430.9131, device='cuda:0', grad_fn=<AddBackward0>)\n",
      "tensor(304.2972, device='cuda:0', grad_fn=<AddBackward0>)\n",
      "tensor(70.8656, device='cuda:0', grad_fn=<AddBackward0>)\n",
      "tensor(261.9877, device='cuda:0', grad_fn=<AddBackward0>)\n",
      "tensor(70.3578, device='cuda:0', grad_fn=<AddBackward0>)\n",
      "tensor(3321.2981, device='cuda:0', grad_fn=<AddBackward0>)\n",
      "tensor(676.8912, device='cuda:0', grad_fn=<AddBackward0>)\n",
      "tensor(225.8525, device='cuda:0', grad_fn=<AddBackward0>)\n",
      "tensor(161.3582, device='cuda:0', grad_fn=<AddBackward0>)\n",
      "tensor(365.2513, device='cuda:0', grad_fn=<AddBackward0>)\n",
      "tensor(873.4785, device='cuda:0', grad_fn=<AddBackward0>)\n",
      "tensor(620.4620, device='cuda:0', grad_fn=<AddBackward0>)\n",
      "tensor(1018.3077, device='cuda:0', grad_fn=<AddBackward0>)\n",
      "tensor(185.2798, device='cuda:0', grad_fn=<AddBackward0>)\n",
      "tensor(154.7871, device='cuda:0', grad_fn=<AddBackward0>)\n",
      "tensor(697.9075, device='cuda:0', grad_fn=<AddBackward0>)\n",
      "tensor(457.3232, device='cuda:0', grad_fn=<AddBackward0>)\n",
      "tensor(372.7348, device='cuda:0', grad_fn=<AddBackward0>)\n",
      "tensor(158.1701, device='cuda:0', grad_fn=<AddBackward0>)\n",
      "tensor(145.8239, device='cuda:0', grad_fn=<AddBackward0>)\n",
      "tensor(1247.6635, device='cuda:0', grad_fn=<AddBackward0>)\n",
      "tensor(445.6805, device='cuda:0', grad_fn=<AddBackward0>)\n",
      "tensor(234.1700, device='cuda:0', grad_fn=<AddBackward0>)\n",
      "tensor(657.8766, device='cuda:0', grad_fn=<AddBackward0>)\n",
      "tensor(1743.2976, device='cuda:0', grad_fn=<AddBackward0>)\n",
      "tensor(131.0968, device='cuda:0', grad_fn=<AddBackward0>)\n",
      "tensor(292.9665, device='cuda:0', grad_fn=<AddBackward0>)\n",
      "tensor(2414.3594, device='cuda:0', grad_fn=<AddBackward0>)\n",
      "tensor(77.0450, device='cuda:0', grad_fn=<AddBackward0>)\n",
      "tensor(144.7287, device='cuda:0', grad_fn=<AddBackward0>)\n",
      "tensor(1106.7329, device='cuda:0', grad_fn=<AddBackward0>)\n",
      "tensor(522.4466, device='cuda:0', grad_fn=<AddBackward0>)\n",
      "tensor(4031.9587, device='cuda:0', grad_fn=<AddBackward0>)\n",
      "tensor(398.8612, device='cuda:0', grad_fn=<AddBackward0>)\n",
      "tensor(245.8036, device='cuda:0', grad_fn=<AddBackward0>)\n",
      "tensor(168.2030, device='cuda:0', grad_fn=<AddBackward0>)\n"
     ]
    }
   ],
   "source": [
    "train_loss_list = []\n",
    "valid_loss_list = []\n",
    "\n",
    "patience_count = 0\n",
    "min_valid_loss = np.inf\n",
    "checkpoint_name = \"\"\n",
    "\n",
    "if not os.path.isdir(f\"./models/{notebookName}/model-{num_files}_checkpoint/\"):\n",
    "    os.mkdir(f\"./models/{notebookName}/model-{num_files}_checkpoint/\")\n",
    "    \n",
    "prog_epoch = tqdm(range(0, nepochs), position = 0, desc = 'EPOCH')\n",
    "for epoch in prog_epoch:\n",
    "    print( \"-------------------------------------------------------\")\n",
    "    print(f\"|EPOCH: {epoch+1}/{nepochs}\")\n",
    "    prog_train = tqdm(train_loader, desc = 'TRAIN', leave = False)\n",
    "    prog_valid = tqdm(valid_loader, desc = 'VALID', leave = False)\n",
    "\n",
    "    train_loss = train(epoch, prog_train)\n",
    "    valid_loss = valid(prog_valid)\n",
    "    \n",
    "    if valid_loss < min_valid_loss:\n",
    "        print(f\"|{epoch+1}-th model is checked!, *model-{epoch}-{valid_loss}.pth*\")\n",
    "        min_valid_loss= valid_loss\n",
    "        checkpoint_name = f\"./models/{notebookName}/model-{num_files}_checkpoint/model-{epoch}-{valid_loss}.pth\"\n",
    "        torch.save(model.state_dict(), checkpoint_name)\n",
    "    else:\n",
    "        patience_count+=1\n",
    "        if(patience_count > max_patience_count):\n",
    "            break\n",
    "    \n",
    "    train_loss_list.append(train_loss)\n",
    "    valid_loss_list.append(valid_loss)\n",
    "    \n",
    "    print(f\"|TRAIN: loss={train_loss:.6f}|\")\n",
    "    print(f\"|VALID: loss={valid_loss:.6f}|\")\n",
    "\n",
    "\n",
    "history = dict()\n",
    "history['train_loss'] = train_loss_list\n",
    "history['valid_loss'] = valid_loss_list"
   ]
  },
  {
   "cell_type": "code",
   "execution_count": null,
   "metadata": {},
   "outputs": [],
   "source": []
  },
  {
   "cell_type": "code",
   "execution_count": null,
   "metadata": {},
   "outputs": [],
   "source": []
  }
 ],
 "metadata": {
  "hide_input": false,
  "kernelspec": {
   "display_name": "torch",
   "language": "python",
   "name": "torch"
  },
  "language_info": {
   "codemirror_mode": {
    "name": "ipython",
    "version": 3
   },
   "file_extension": ".py",
   "mimetype": "text/x-python",
   "name": "python",
   "nbconvert_exporter": "python",
   "pygments_lexer": "ipython3",
   "version": "3.6.12"
  },
  "latex_envs": {
   "LaTeX_envs_menu_present": true,
   "autoclose": false,
   "autocomplete": true,
   "bibliofile": "biblio.bib",
   "cite_by": "apalike",
   "current_citInitial": 1,
   "eqLabelWithNumbers": true,
   "eqNumInitial": 1,
   "hotkeys": {
    "equation": "Ctrl-E",
    "itemize": "Ctrl-I"
   },
   "labels_anchors": false,
   "latex_user_defs": false,
   "report_style_numbering": false,
   "user_envs_cfg": false
  },
  "toc": {
   "base_numbering": 1,
   "nav_menu": {},
   "number_sections": true,
   "sideBar": true,
   "skip_h1_title": false,
   "title_cell": "Table of Contents",
   "title_sidebar": "Contents",
   "toc_cell": false,
   "toc_position": {
    "height": "calc(100% - 180px)",
    "left": "10px",
    "top": "150px",
    "width": "384px"
   },
   "toc_section_display": true,
   "toc_window_display": false
  },
  "varInspector": {
   "cols": {
    "lenName": 16,
    "lenType": 16,
    "lenVar": 40
   },
   "kernels_config": {
    "python": {
     "delete_cmd_postfix": "",
     "delete_cmd_prefix": "del ",
     "library": "var_list.py",
     "varRefreshCmd": "print(var_dic_list())"
    },
    "r": {
     "delete_cmd_postfix": ") ",
     "delete_cmd_prefix": "rm(",
     "library": "var_list.r",
     "varRefreshCmd": "cat(var_dic_list()) "
    }
   },
   "types_to_exclude": [
    "module",
    "function",
    "builtin_function_or_method",
    "instance",
    "_Feature"
   ],
   "window_display": false
  }
 },
 "nbformat": 4,
 "nbformat_minor": 4
}
