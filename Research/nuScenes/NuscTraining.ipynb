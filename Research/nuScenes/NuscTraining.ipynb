{
 "cells": [
  {
   "cell_type": "markdown",
   "metadata": {},
   "source": [
    "# Hyper Parameters"
   ]
  },
  {
   "cell_type": "code",
   "execution_count": 26,
   "metadata": {
    "ExecuteTime": {
     "end_time": "2021-07-14T07:06:27.233071Z",
     "start_time": "2021-07-14T07:06:27.220071Z"
    }
   },
   "outputs": [],
   "source": [
    "notebookName = \"BaseModel\"\n",
    "nepochs = 10\n",
    "batch_size = 4\n",
    "learning_rate = 0.001\n",
    "\n",
    "SEED = 20180724\n",
    "target_layer = [ 'road_block', 'walkway', 'road_divider', 'traffic_light']\n",
    "class_names = ['None'] + target_layer\n",
    "MAX_OBJECTS = 1\n",
    "MAX_POINTS = 30\n",
    "MAX_POINT_CLOUDS = 1200"
   ]
  },
  {
   "cell_type": "code",
   "execution_count": 2,
   "metadata": {
    "ExecuteTime": {
     "end_time": "2021-07-14T06:24:10.239588Z",
     "start_time": "2021-07-14T06:24:10.226588Z"
    }
   },
   "outputs": [],
   "source": [
    "LIDAR_PC_SHAPE = [4, MAX_POINT_CLOUDS] # [x,y,z,intensity] x num_of_points\n",
    "MAP_OBJECT_SHAPE = [MAX_OBJECTS, MAX_POINTS, 2] # num_of_objects x num_of_points x [x, y]\n",
    "MAP_LAYER_SHAPE = [len(class_names), MAX_OBJECTS] # num_of_class x num_of_objects"
   ]
  },
  {
   "cell_type": "markdown",
   "metadata": {},
   "source": [
    "# Base Setting"
   ]
  },
  {
   "cell_type": "code",
   "execution_count": 3,
   "metadata": {
    "ExecuteTime": {
     "end_time": "2021-07-14T06:24:29.315273Z",
     "start_time": "2021-07-14T06:24:10.241592Z"
    }
   },
   "outputs": [],
   "source": [
    "import os\n",
    "from pathlib import Path\n",
    "import time\n",
    "\n",
    "from nuscenes.nuscenes import NuScenes\n",
    "from utils.custom_lidar_api import CustomLidarApi\n",
    "from utils.custom_map_api_expansion import CustomNuScenesMap\n",
    "\n",
    "import numpy as np\n",
    "import pandas as pd\n",
    "import matplotlib.pyplot as plt\n",
    "import plotly.express as px\n",
    "from tqdm.notebook import tqdm\n",
    "\n",
    "import torch\n",
    "import torch.nn as nn\n",
    "from torch.nn import Module\n",
    "from torch.nn import functional as F\n",
    "import torch.optim as optim\n",
    "from torch.utils.data import Dataset\n",
    "from torch.utils.data import TensorDataset, DataLoader\n",
    "\n",
    "import warnings\n",
    "warnings.filterwarnings(action='ignore')\n",
    "\n",
    "%matplotlib inline "
   ]
  },
  {
   "cell_type": "code",
   "execution_count": 4,
   "metadata": {
    "ExecuteTime": {
     "end_time": "2021-07-14T06:24:29.330277Z",
     "start_time": "2021-07-14T06:24:29.316275Z"
    }
   },
   "outputs": [],
   "source": [
    "locations = ['singapore-onenorth', 'singapore-hollandvillage', 'singapore-queenstown', 'boston-seaport']\n",
    "version = 'v1.0-trainval'\n",
    "dataroot = 'E:/datasets/nuscenes'"
   ]
  },
  {
   "cell_type": "code",
   "execution_count": 5,
   "metadata": {
    "ExecuteTime": {
     "end_time": "2021-07-14T06:24:29.405179Z",
     "start_time": "2021-07-14T06:24:29.332276Z"
    }
   },
   "outputs": [],
   "source": [
    "torch.manual_seed(SEED)\n",
    "np.random.seed(SEED)"
   ]
  },
  {
   "cell_type": "code",
   "execution_count": 6,
   "metadata": {
    "ExecuteTime": {
     "end_time": "2021-07-14T06:24:29.510183Z",
     "start_time": "2021-07-14T06:24:29.407181Z"
    }
   },
   "outputs": [
    {
     "name": "stdout",
     "output_type": "stream",
     "text": [
      "cuda:0\n"
     ]
    }
   ],
   "source": [
    "device = torch.device('cuda:0' if torch.cuda.is_available() else \"cpu\")\n",
    "print(device)"
   ]
  },
  {
   "cell_type": "code",
   "execution_count": 7,
   "metadata": {
    "ExecuteTime": {
     "end_time": "2021-07-14T06:24:29.525180Z",
     "start_time": "2021-07-14T06:24:29.511184Z"
    }
   },
   "outputs": [
    {
     "data": {
      "text/plain": [
       "0"
      ]
     },
     "execution_count": 7,
     "metadata": {},
     "output_type": "execute_result"
    }
   ],
   "source": [
    "\n",
    "PATH = Path(f\"./models/{notebookName}\")\n",
    "if os.path.isdir(PATH):\n",
    "    dir_list = os.listdir(PATH)\n",
    "    num_files = 0\n",
    "    while True:\n",
    "        if os.path.isfile(str(PATH / f\"{num_files}\")):\n",
    "            print(num_files)\n",
    "            num_files += 1\n",
    "        else:\n",
    "            break\n",
    "else:\n",
    "    os.mkdir(PATH)\n",
    "    num_files = 0\n",
    "num_files"
   ]
  },
  {
   "cell_type": "code",
   "execution_count": 8,
   "metadata": {
    "ExecuteTime": {
     "end_time": "2021-07-14T06:24:29.540182Z",
     "start_time": "2021-07-14T06:24:29.527182Z"
    }
   },
   "outputs": [],
   "source": [
    "class_dict = dict()\n",
    "\n",
    "for i, name in enumerate(target_layer):\n",
    "    class_dict[name] = i+1\n",
    "class_array = np.eye(len(class_names))"
   ]
  },
  {
   "cell_type": "markdown",
   "metadata": {},
   "source": [
    "# Load Nusc, Map Api, and Ldr Api"
   ]
  },
  {
   "cell_type": "code",
   "execution_count": 9,
   "metadata": {
    "ExecuteTime": {
     "end_time": "2021-07-14T06:25:42.870122Z",
     "start_time": "2021-07-14T06:24:29.541183Z"
    },
    "scrolled": true
   },
   "outputs": [
    {
     "name": "stdout",
     "output_type": "stream",
     "text": [
      "======\n",
      "Loading NuScenes tables for version v1.0-trainval...\n",
      "Loading nuScenes-lidarseg...\n",
      "32 category,\n",
      "8 attribute,\n",
      "4 visibility,\n",
      "64386 instance,\n",
      "12 sensor,\n",
      "10200 calibrated_sensor,\n",
      "2631083 ego_pose,\n",
      "68 log,\n",
      "850 scene,\n",
      "34149 sample,\n",
      "2631083 sample_data,\n",
      "1166187 sample_annotation,\n",
      "4 map,\n",
      "34149 lidarseg,\n",
      "Done loading in 63.784 seconds.\n",
      "======\n",
      "Reverse indexing ...\n",
      "Done reverse indexing in 9.5 seconds.\n",
      "======\n"
     ]
    }
   ],
   "source": [
    "nusc = NuScenes(version=version, dataroot=dataroot, verbose=True)"
   ]
  },
  {
   "cell_type": "code",
   "execution_count": 10,
   "metadata": {
    "ExecuteTime": {
     "end_time": "2021-07-14T06:25:44.175539Z",
     "start_time": "2021-07-14T06:25:42.873124Z"
    }
   },
   "outputs": [],
   "source": [
    "map_api = dict([])\n",
    "for location in locations:\n",
    "    map_api[location] = CustomNuScenesMap(dataroot = dataroot, map_name= location)"
   ]
  },
  {
   "cell_type": "code",
   "execution_count": 11,
   "metadata": {
    "ExecuteTime": {
     "end_time": "2021-07-14T06:25:44.190535Z",
     "start_time": "2021-07-14T06:25:44.177536Z"
    }
   },
   "outputs": [],
   "source": [
    "ldr_api = CustomLidarApi(nusc)"
   ]
  },
  {
   "cell_type": "code",
   "execution_count": 12,
   "metadata": {
    "ExecuteTime": {
     "end_time": "2021-07-14T06:25:44.205535Z",
     "start_time": "2021-07-14T06:25:44.192536Z"
    }
   },
   "outputs": [],
   "source": [
    "locations = ['singapore-onenorth', 'singapore-hollandvillage', 'singapore-queenstown', 'boston-seaport']\n",
    "version = 'v1.0-trainval'\n",
    "dataroot = 'E:/datasets/nuscenes'"
   ]
  },
  {
   "cell_type": "code",
   "execution_count": 13,
   "metadata": {
    "ExecuteTime": {
     "end_time": "2021-07-14T06:25:44.265536Z",
     "start_time": "2021-07-14T06:25:44.207535Z"
    },
    "scrolled": true
   },
   "outputs": [
    {
     "name": "stdout",
     "output_type": "stream",
     "text": [
      "33299\n"
     ]
    }
   ],
   "source": [
    "# get all sample token\n",
    "sample_tokens = []\n",
    "for scene in nusc.scene:\n",
    "    token = scene['first_sample_token']\n",
    "    while token != scene['last_sample_token']:\n",
    "        sample_tokens.append(token)\n",
    "        sample = nusc.get('sample', token)\n",
    "        token = sample['next']\n",
    "print(len(sample_tokens))"
   ]
  },
  {
   "cell_type": "code",
   "execution_count": 14,
   "metadata": {
    "ExecuteTime": {
     "end_time": "2021-07-14T06:25:44.340536Z",
     "start_time": "2021-07-14T06:25:44.268535Z"
    },
    "scrolled": true
   },
   "outputs": [
    {
     "name": "stdout",
     "output_type": "stream",
     "text": [
      "33299\n",
      "29970\n",
      "3329\n"
     ]
    }
   ],
   "source": [
    "def train_val_split(sample_tokens, ratio = 0.1, shuffle = True):\n",
    "    index = np.array(range(len(sample_tokens)))\n",
    "    index = np.random.choice(index.shape[0], index.shape[0], replace = False)\n",
    "    \n",
    "    valid_num = int(index.shape[0] * ratio)\n",
    "    \n",
    "    valid_tokens = sample_tokens[:valid_num]\n",
    "    train_tokens = sample_tokens[valid_num:]\n",
    "    \n",
    "    return train_tokens, valid_tokens\n",
    "\n",
    "train_tokens, valid_tokens = train_val_split(sample_tokens)\n",
    "\n",
    "print(len(sample_tokens))\n",
    "print(len(train_tokens))\n",
    "print(len(valid_tokens))"
   ]
  },
  {
   "cell_type": "markdown",
   "metadata": {},
   "source": [
    "# Customized Dataset"
   ]
  },
  {
   "cell_type": "code",
   "execution_count": 15,
   "metadata": {
    "ExecuteTime": {
     "end_time": "2021-07-14T06:25:44.490535Z",
     "start_time": "2021-07-14T06:25:44.342538Z"
    },
    "scrolled": true
   },
   "outputs": [],
   "source": [
    "# LIDAR_PC_SHAPE = [4, MAX_POINT_CLOUDS] # [x,y,z,intensity] x num_of_points\n",
    "# MAP_OBJECT_SHAPE = [MAX_OBJECTS, MAX_POINTS, 2] # num_of_objects x num_of_points x [x, y]\n",
    "# MAP_LAYER_SHAPE = [len(class_names), MAX_OBJECTS] # num_of_class x num_of_objects\n",
    "class NusceneDataset(Dataset):\n",
    "    def __init__(self, tokens, nusc, map_api, ldr_api, train = True):\n",
    "        self.tokens = tokens\n",
    "        self.nusc = nusc\n",
    "        self.map_api = map_api\n",
    "        self.ldr_api = ldr_api\n",
    "        self.train = train\n",
    "        \n",
    "        self.length = len(tokens)\n",
    "    def __len__(self):\n",
    "        return self.length\n",
    "    \n",
    "    def __getitem__(self, idx):\n",
    "        token = self.tokens[idx]\n",
    "        \n",
    "        sample = self.nusc.get('sample', token)\n",
    "        scene = self.nusc.get('scene', sample['scene_token'])\n",
    "        log_meta = self.nusc.get('log', scene['log_token'])\n",
    "        \n",
    "        location = log_meta['location']\n",
    "        sample_data = self.nusc.get('sample_data', sample['data']['LIDAR_TOP'])\n",
    "        \n",
    "        pc = self.ldr_api.get_lidar_from_keyframe(token, max_points = LIDAR_PC_SHAPE[1], car_coord = True)\n",
    "        ego = self.ldr_api.get_egopose_from_keyframe(token)\n",
    "        structures = self.map_api[log_meta['location']].get_closest_structures(target_layer, ego, \n",
    "                                                                               max_objs = MAP_OBJECT_SHAPE[0], \n",
    "                                                                               max_points = MAP_OBJECT_SHAPE[1], \n",
    "                                                                               patch = [200, 200],\n",
    "                                                                               mode = 'intersect',\n",
    "                                                                               global_coord=False)\n",
    "        \n",
    "        X = torch.Tensor(pc.points)\n",
    "        if self.train:\n",
    "            classes, objects = self.get_label(structures)\n",
    "        else:\n",
    "            classes, objects = self.get_label(list())\n",
    "        \n",
    "        return X, classes, objects\n",
    "    \n",
    "    def get_label(self, structures):\n",
    "        classes = list(map(lambda x: torch.Tensor(class_array[class_dict[x[\"class\"]], :]).reshape(MAP_LAYER_SHAPE[0], MAP_LAYER_SHAPE[1]), structures))\n",
    "        classes = torch.cat(classes, axis = 1)\n",
    "        \n",
    "        objects = list(map(lambda x: torch.Tensor(x['nodes'].reshape(MAP_OBJECT_SHAPE[0], MAP_OBJECT_SHAPE[1], MAP_OBJECT_SHAPE[2])), structures))\n",
    "        objects = torch.cat(objects, axis = 0)\n",
    "        \n",
    "        return classes, objects\n",
    "        \n",
    "\n",
    "train_dataset = NusceneDataset(tokens = train_tokens, nusc = nusc, map_api = map_api, ldr_api = ldr_api)\n",
    "valid_dataset = NusceneDataset(tokens = valid_tokens, nusc = nusc, map_api = map_api, ldr_api = ldr_api)\n",
    "\n",
    "train_loader = DataLoader(train_dataset, batch_size = batch_size, shuffle = True)\n",
    "valid_loader = DataLoader(valid_dataset, batch_size = batch_size, shuffle = False)"
   ]
  },
  {
   "cell_type": "code",
   "execution_count": 16,
   "metadata": {
    "ExecuteTime": {
     "end_time": "2021-07-14T06:25:44.505538Z",
     "start_time": "2021-07-14T06:25:44.492535Z"
    },
    "scrolled": false
   },
   "outputs": [],
   "source": [
    "def get_label(structures):\n",
    "    classes = list(map(lambda x: torch.Tensor(class_array[class_dict[x[\"class\"]], :]).reshape(MAP_LAYER_SHAPE[0], MAP_LAYER_SHAPE[1]), structures))\n",
    "    classes = torch.cat(classes, axis = 1)\n",
    "\n",
    "    objects = list(map(lambda x: torch.Tensor(x['nodes'].reshape(MAP_OBJECT_SHAPE[0], MAP_OBJECT_SHAPE[1], MAP_OBJECT_SHAPE[2])), structures))\n",
    "    objects = torch.cat(objects, axis = 0)\n",
    "    return classes, objects\n",
    "\n",
    "%load_ext line_profiler\n",
    "\n",
    "token = \"c507bbfdc8e7475098eb217530a23559\"\n",
    "\n",
    "sample = nusc.get('sample', token)\n",
    "scene = nusc.get('scene', sample['scene_token'])\n",
    "log_meta = nusc.get('log', scene['log_token'])\n",
    "location = log_meta['location']\n",
    "sample_data = nusc.get('sample_data', sample['data']['LIDAR_TOP'])\n",
    "pc = ldr_api.get_lidar_from_keyframe(token, max_points = LIDAR_PC_SHAPE[1], car_coord = True)\n",
    "ego = ldr_api.get_egopose_from_keyframe(token)\n",
    "mode = 'intersect'\n",
    "%lprun -f  map_api[location].get_closest_structures map_api[location].get_closest_structures(target_layer, ego, max_objs = MAP_OBJECT_SHAPE[0], max_points = MAP_OBJECT_SHAPE[1], patch = [200, 200],mode = mode,global_coord=False)\n"
   ]
  },
  {
   "cell_type": "code",
   "execution_count": 18,
   "metadata": {
    "ExecuteTime": {
     "end_time": "2021-07-14T06:25:44.535535Z",
     "start_time": "2021-07-14T06:25:44.522535Z"
    },
    "scrolled": true
   },
   "outputs": [],
   "source": [
    "# for X, c, y in train_loader:\n",
    "#     print(X.to(device).shape)\n",
    "#     print(c.to(device).shape)\n",
    "#     print(y.to(device).shape)\n",
    "#     break"
   ]
  },
  {
   "cell_type": "markdown",
   "metadata": {},
   "source": [
    "# Model"
   ]
  },
  {
   "cell_type": "code",
   "execution_count": 19,
   "metadata": {
    "ExecuteTime": {
     "end_time": "2021-07-14T06:25:44.565536Z",
     "start_time": "2021-07-14T06:25:44.537536Z"
    }
   },
   "outputs": [],
   "source": [
    "# LIDAR_PC_SHAPE = [4, MAX_POINT_CLOUDS] # [x,y,z,intensity] x num_of_points\n",
    "# MAP_OBJECT_SHAPE = [MAX_OBJECTS, MAX_POINTS, 2] # num_of_objects x num_of_points x [x, y]\n",
    "# MAP_LAYER_SHAPE = [len(class_names), MAX_OBJECTS] # num_of_class x num_of_objects\n",
    "class BaseModel(torch.nn.Module):\n",
    "    def __init__(self, input_shape = [4, 3500], class_shape = [4, 1], object_shape = [1, 30, 2]):\n",
    "        super().__init__()\n",
    "        self.input_shape =input_shape\n",
    "        self.object_shape = object_shape\n",
    "        self.class_shape = class_shape\n",
    "        \n",
    "        self.conv1 = nn.Conv1d(input_shape[0], 64, kernel_size=1)\n",
    "        self.batch1 = nn.BatchNorm1d(64)\n",
    "        \n",
    "        self.conv2 = nn.Conv1d(64, 64, kernel_size=1)\n",
    "        self.batch2 = nn.BatchNorm1d(64)\n",
    "        \n",
    "        self.fc1 = nn.Linear(64 * input_shape[1], 1024)\n",
    "        self.fc2 = nn.Linear(1024, 512)\n",
    "        \n",
    "        self.fc_obj = nn.Linear(512, np.prod(object_shape))\n",
    "        self.fc_cls = nn.Linear(512, np.prod(class_shape))\n",
    "        \n",
    "    def forward(self, x):\n",
    "        input_shape = self.input_shape\n",
    "        object_shape = self.object_shape\n",
    "        class_shape = self.class_shape\n",
    "        \n",
    "        x = self.conv1(x)\n",
    "        x = F.relu(x)\n",
    "        x = self.batch1(x)\n",
    "        \n",
    "        x = self.conv2(x)\n",
    "        x = F.relu(x)\n",
    "        x = self.batch2(x)\n",
    "        \n",
    "        x = x.reshape(-1, input_shape[1] * 64)\n",
    "        \n",
    "        x = self.fc1(x)\n",
    "        x = F.relu(x)\n",
    "        \n",
    "        x = self.fc2(x)\n",
    "        x = F.relu(x)\n",
    "        \n",
    "        obj_ = self.fc_obj(x)\n",
    "        cls_ = self.fc_cls(x)\n",
    "        \n",
    "        obj_ = obj_.reshape(-1, object_shape[0], object_shape[1], object_shape[2])\n",
    "        cls_ = cls_.reshape(-1, class_shape[0], class_shape[1])\n",
    "        return cls_, obj_"
   ]
  },
  {
   "cell_type": "markdown",
   "metadata": {},
   "source": [
    "# Loss"
   ]
  },
  {
   "cell_type": "code",
   "execution_count": 20,
   "metadata": {
    "ExecuteTime": {
     "end_time": "2021-07-14T06:25:44.580536Z",
     "start_time": "2021-07-14T06:25:44.567536Z"
    }
   },
   "outputs": [],
   "source": [
    "class BaseLoss(torch.nn.Module):\n",
    "    def __init__(self):\n",
    "        super().__init__()\n",
    "        \n",
    "        self.pose_loss = nn.MSELoss()\n",
    "        self.class_loss = nn.CrossEntropyLoss()\n",
    "        pass\n",
    "    def forward(self, c_hat, y_hat, c, y):\n",
    "        \n",
    "        loss = self.pose_loss(y, y_hat) + self.class_loss(c_hat, c.argmax(axis = 1))\n",
    "        return loss"
   ]
  },
  {
   "cell_type": "markdown",
   "metadata": {
    "ExecuteTime": {
     "end_time": "2021-07-13T07:41:47.713588Z",
     "start_time": "2021-07-13T07:41:47.699587Z"
    }
   },
   "source": [
    "# Model Compile"
   ]
  },
  {
   "cell_type": "code",
   "execution_count": 21,
   "metadata": {
    "ExecuteTime": {
     "end_time": "2021-07-14T06:26:01.130794Z",
     "start_time": "2021-07-14T06:25:44.582537Z"
    }
   },
   "outputs": [],
   "source": [
    "model = BaseModel(LIDAR_PC_SHAPE, MAP_LAYER_SHAPE, MAP_OBJECT_SHAPE)\n",
    "model.to(device)\n",
    "\n",
    "loss_func= BaseLoss()\n",
    "optimizer = optim.SGD(model.parameters(), lr = 0.001)"
   ]
  },
  {
   "cell_type": "markdown",
   "metadata": {},
   "source": [
    "# Train Module"
   ]
  },
  {
   "cell_type": "code",
   "execution_count": 22,
   "metadata": {
    "ExecuteTime": {
     "end_time": "2021-07-14T06:26:01.190804Z",
     "start_time": "2021-07-14T06:26:01.131796Z"
    }
   },
   "outputs": [],
   "source": [
    "def train(epoch, progress_log):\n",
    "    model.train()  # 신경망을 학습 모드로 전환\n",
    "\n",
    "    # 데이터로더에서 미니배치를 하나씩 꺼내 학습을 수행\n",
    "    mean_loss = 0\n",
    "    data_num = 0\n",
    "    \n",
    "    for X, c, y in progress_log:\n",
    "        \n",
    "        X = X.to(device)\n",
    "        c = c.to(device)\n",
    "        y = y.to(device)\n",
    "        \n",
    "        optimizer.zero_grad()  # 경사를 0으로 초기화\n",
    "        c_hat, y_hat = model(X)  # 데이터를 입력하고 출력을 계산\n",
    "        loss = loss_func(c_hat, y_hat, c, y)  # 출력과 훈련 데이터 정답 간의 오차를 계산\n",
    "        print(loss)\n",
    "        \n",
    "        loss.backward()  # 오차를 역전파 계산\n",
    "        optimizer.step()  # 역전파 계산한 값으로 가중치를 수정\n",
    "        \n",
    "        mean_loss += loss\n",
    "        data_num += X.shape[0]\n",
    "        \n",
    "    mean_loss /= data_num\n",
    "    \n",
    "    return mean_loss"
   ]
  },
  {
   "cell_type": "markdown",
   "metadata": {},
   "source": [
    "# Valid Module"
   ]
  },
  {
   "cell_type": "code",
   "execution_count": 23,
   "metadata": {
    "ExecuteTime": {
     "end_time": "2021-07-14T06:26:01.205807Z",
     "start_time": "2021-07-14T06:26:01.191808Z"
    }
   },
   "outputs": [],
   "source": [
    "def valid(epoch, progress_log):\n",
    "    model.eval()  # 신경망을 학습 모드로 전환\n",
    "\n",
    "    # 데이터로더에서 미니배치를 하나씩 꺼내 학습을 수행\n",
    "    mean_loss = 0\n",
    "    data_num = 0\n",
    "    \n",
    "    with torch.no_grad():\n",
    "        for X, c, y in progress_log:\n",
    "\n",
    "            X = X.to(device)\n",
    "            c = c.to(device)\n",
    "            y = y.to(device)\n",
    "\n",
    "            c_hat, y_hat = model(X)  # 데이터를 입력하고 출력을 계산\n",
    "            loss = loss_func(c_hat, y_hat, c, y)  # 출력과 훈련 데이터 정답 간의 오차를 계산\n",
    "\n",
    "            mean_loss += loss\n",
    "            data_num += X.shape[0]\n",
    "        \n",
    "    mean_loss /= data_num\n",
    "    \n",
    "    return mean_loss"
   ]
  },
  {
   "cell_type": "markdown",
   "metadata": {},
   "source": [
    "# Test Module"
   ]
  },
  {
   "cell_type": "code",
   "execution_count": 24,
   "metadata": {
    "ExecuteTime": {
     "end_time": "2021-07-14T06:26:01.220805Z",
     "start_time": "2021-07-14T06:26:01.206806Z"
    }
   },
   "outputs": [],
   "source": [
    "def test(epoch, progress_log):\n",
    "    model.eval()  # 신경망을 학습 모드로 전환\n",
    "\n",
    "    # 데이터로더에서 미니배치를 하나씩 꺼내 학습을 수행\n",
    "    C_hat = []\n",
    "    Y_hat = []\n",
    "    \n",
    "    with torch.no_grad():\n",
    "        for X, _, _ in progress_log:\n",
    "\n",
    "            X = X.to(device)\n",
    "\n",
    "            c_hat, y_hat = model(X)  # 데이터를 입력하고 출력을 계산\n",
    "            C_hat.append(c_hat)\n",
    "            Y_hat.append(y_hat)\n",
    "        \n",
    "    C_hat = np.concatenate(C_hat)\n",
    "    Y_hat = np.concatenate(Y_hat)\n",
    "    \n",
    "    return C_hat, Y_hat"
   ]
  },
  {
   "cell_type": "markdown",
   "metadata": {},
   "source": [
    "# Fit"
   ]
  },
  {
   "cell_type": "code",
   "execution_count": 25,
   "metadata": {
    "ExecuteTime": {
     "end_time": "2021-07-14T07:05:54.234466Z",
     "start_time": "2021-07-14T06:26:01.224806Z"
    }
   },
   "outputs": [
    {
     "data": {
      "application/vnd.jupyter.widget-view+json": {
       "model_id": "6d71aa22e6be4dfeb012eb861093fa4f",
       "version_major": 2,
       "version_minor": 0
      },
      "text/plain": [
       "EPOCH:   0%|          | 0/10 [00:00<?, ?it/s]"
      ]
     },
     "metadata": {},
     "output_type": "display_data"
    },
    {
     "name": "stdout",
     "output_type": "stream",
     "text": [
      "-------------------------------------------------------\n",
      "|EPOCH: 1/10\n"
     ]
    },
    {
     "data": {
      "application/vnd.jupyter.widget-view+json": {
       "model_id": "f5ca48bb9af847aeb7a848e7b1bb646c",
       "version_major": 2,
       "version_minor": 0
      },
      "text/plain": [
       "TRAIN:   0%|          | 0/7493 [00:00<?, ?it/s]"
      ]
     },
     "metadata": {},
     "output_type": "display_data"
    },
    {
     "data": {
      "application/vnd.jupyter.widget-view+json": {
       "model_id": "b1b685c5cc4147e68de539ab86b2e21f",
       "version_major": 2,
       "version_minor": 0
      },
      "text/plain": [
       "VALID:   0%|          | 0/833 [00:00<?, ?it/s]"
      ]
     },
     "metadata": {},
     "output_type": "display_data"
    },
    {
     "name": "stdout",
     "output_type": "stream",
     "text": [
      "tensor(76.6323, device='cuda:0', grad_fn=<AddBackward0>)\n",
      "tensor(171.2829, device='cuda:0', grad_fn=<AddBackward0>)\n",
      "tensor(160.9630, device='cuda:0', grad_fn=<AddBackward0>)\n",
      "tensor(491.5207, device='cuda:0', grad_fn=<AddBackward0>)\n",
      "tensor(493.8441, device='cuda:0', grad_fn=<AddBackward0>)\n",
      "tensor(1248.1564, device='cuda:0', grad_fn=<AddBackward0>)\n",
      "tensor(276.8111, device='cuda:0', grad_fn=<AddBackward0>)\n",
      "tensor(63.1936, device='cuda:0', grad_fn=<AddBackward0>)\n",
      "tensor(2269.4844, device='cuda:0', grad_fn=<AddBackward0>)\n",
      "tensor(345.2281, device='cuda:0', grad_fn=<AddBackward0>)\n",
      "tensor(18.9244, device='cuda:0', grad_fn=<AddBackward0>)\n",
      "tensor(266.7329, device='cuda:0', grad_fn=<AddBackward0>)\n",
      "tensor(465.8983, device='cuda:0', grad_fn=<AddBackward0>)\n",
      "tensor(92.6721, device='cuda:0', grad_fn=<AddBackward0>)\n",
      "tensor(318.4263, device='cuda:0', grad_fn=<AddBackward0>)\n",
      "tensor(277.5616, device='cuda:0', grad_fn=<AddBackward0>)\n",
      "tensor(433.4434, device='cuda:0', grad_fn=<AddBackward0>)\n",
      "tensor(155.8920, device='cuda:0', grad_fn=<AddBackward0>)\n",
      "tensor(105.2595, device='cuda:0', grad_fn=<AddBackward0>)\n",
      "tensor(260.9791, device='cuda:0', grad_fn=<AddBackward0>)\n",
      "tensor(1674.5964, device='cuda:0', grad_fn=<AddBackward0>)\n",
      "tensor(216.2795, device='cuda:0', grad_fn=<AddBackward0>)\n",
      "tensor(974.2100, device='cuda:0', grad_fn=<AddBackward0>)\n",
      "tensor(165.7394, device='cuda:0', grad_fn=<AddBackward0>)\n",
      "tensor(290.5707, device='cuda:0', grad_fn=<AddBackward0>)\n",
      "tensor(443.2930, device='cuda:0', grad_fn=<AddBackward0>)\n",
      "tensor(241.3840, device='cuda:0', grad_fn=<AddBackward0>)\n",
      "tensor(56.6628, device='cuda:0', grad_fn=<AddBackward0>)\n",
      "tensor(52.2033, device='cuda:0', grad_fn=<AddBackward0>)\n",
      "tensor(166.5804, device='cuda:0', grad_fn=<AddBackward0>)\n",
      "tensor(231.4165, device='cuda:0', grad_fn=<AddBackward0>)\n",
      "tensor(185.5717, device='cuda:0', grad_fn=<AddBackward0>)\n",
      "tensor(411.8645, device='cuda:0', grad_fn=<AddBackward0>)\n",
      "tensor(307.5634, device='cuda:0', grad_fn=<AddBackward0>)\n",
      "tensor(127.4684, device='cuda:0', grad_fn=<AddBackward0>)\n",
      "tensor(1038.7549, device='cuda:0', grad_fn=<AddBackward0>)\n",
      "tensor(135.5236, device='cuda:0', grad_fn=<AddBackward0>)\n",
      "tensor(50.4981, device='cuda:0', grad_fn=<AddBackward0>)\n",
      "tensor(1624.3253, device='cuda:0', grad_fn=<AddBackward0>)\n",
      "tensor(65.8925, device='cuda:0', grad_fn=<AddBackward0>)\n",
      "tensor(320.2289, device='cuda:0', grad_fn=<AddBackward0>)\n",
      "tensor(11585.3164, device='cuda:0', grad_fn=<AddBackward0>)\n",
      "tensor(360.6363, device='cuda:0', grad_fn=<AddBackward0>)\n",
      "tensor(551.7601, device='cuda:0', grad_fn=<AddBackward0>)\n",
      "tensor(12.2541, device='cuda:0', grad_fn=<AddBackward0>)\n",
      "tensor(701.0411, device='cuda:0', grad_fn=<AddBackward0>)\n",
      "tensor(1447.0129, device='cuda:0', grad_fn=<AddBackward0>)\n",
      "tensor(181.0919, device='cuda:0', grad_fn=<AddBackward0>)\n",
      "tensor(141.3315, device='cuda:0', grad_fn=<AddBackward0>)\n",
      "tensor(132.8488, device='cuda:0', grad_fn=<AddBackward0>)\n",
      "tensor(2916.7434, device='cuda:0', grad_fn=<AddBackward0>)\n",
      "tensor(1148.8348, device='cuda:0', grad_fn=<AddBackward0>)\n",
      "tensor(3766.3687, device='cuda:0', grad_fn=<AddBackward0>)\n",
      "tensor(81.4852, device='cuda:0', grad_fn=<AddBackward0>)\n",
      "tensor(226.5147, device='cuda:0', grad_fn=<AddBackward0>)\n",
      "tensor(1893.5533, device='cuda:0', grad_fn=<AddBackward0>)\n",
      "tensor(1071.4592, device='cuda:0', grad_fn=<AddBackward0>)\n",
      "tensor(224.7069, device='cuda:0', grad_fn=<AddBackward0>)\n",
      "tensor(1819.0221, device='cuda:0', grad_fn=<AddBackward0>)\n",
      "tensor(940.2377, device='cuda:0', grad_fn=<AddBackward0>)\n",
      "tensor(1059.1447, device='cuda:0', grad_fn=<AddBackward0>)\n",
      "tensor(43.6679, device='cuda:0', grad_fn=<AddBackward0>)\n",
      "tensor(5798.4893, device='cuda:0', grad_fn=<AddBackward0>)\n",
      "tensor(987.5558, device='cuda:0', grad_fn=<AddBackward0>)\n",
      "tensor(2202.6875, device='cuda:0', grad_fn=<AddBackward0>)\n",
      "tensor(1164.6904, device='cuda:0', grad_fn=<AddBackward0>)\n",
      "tensor(124.1377, device='cuda:0', grad_fn=<AddBackward0>)\n",
      "tensor(287.4062, device='cuda:0', grad_fn=<AddBackward0>)\n",
      "tensor(113.4591, device='cuda:0', grad_fn=<AddBackward0>)\n",
      "tensor(158.7113, device='cuda:0', grad_fn=<AddBackward0>)\n",
      "tensor(2072.5088, device='cuda:0', grad_fn=<AddBackward0>)\n",
      "tensor(2091.2212, device='cuda:0', grad_fn=<AddBackward0>)\n",
      "tensor(293.3760, device='cuda:0', grad_fn=<AddBackward0>)\n",
      "tensor(207.3254, device='cuda:0', grad_fn=<AddBackward0>)\n",
      "tensor(72.6246, device='cuda:0', grad_fn=<AddBackward0>)\n",
      "tensor(121.7069, device='cuda:0', grad_fn=<AddBackward0>)\n",
      "tensor(119.9010, device='cuda:0', grad_fn=<AddBackward0>)\n",
      "tensor(314.7702, device='cuda:0', grad_fn=<AddBackward0>)\n",
      "tensor(236.4204, device='cuda:0', grad_fn=<AddBackward0>)\n",
      "tensor(182.8612, device='cuda:0', grad_fn=<AddBackward0>)\n",
      "tensor(372.9545, device='cuda:0', grad_fn=<AddBackward0>)\n",
      "tensor(561.9233, device='cuda:0', grad_fn=<AddBackward0>)\n",
      "tensor(20.8564, device='cuda:0', grad_fn=<AddBackward0>)\n",
      "tensor(100.7249, device='cuda:0', grad_fn=<AddBackward0>)\n",
      "tensor(60.3588, device='cuda:0', grad_fn=<AddBackward0>)\n",
      "tensor(44.7390, device='cuda:0', grad_fn=<AddBackward0>)\n",
      "tensor(703.5828, device='cuda:0', grad_fn=<AddBackward0>)\n",
      "tensor(268.3376, device='cuda:0', grad_fn=<AddBackward0>)\n",
      "tensor(4491.5117, device='cuda:0', grad_fn=<AddBackward0>)\n",
      "tensor(65.3314, device='cuda:0', grad_fn=<AddBackward0>)\n",
      "tensor(654.2023, device='cuda:0', grad_fn=<AddBackward0>)\n",
      "tensor(270.2122, device='cuda:0', grad_fn=<AddBackward0>)\n",
      "tensor(372.6447, device='cuda:0', grad_fn=<AddBackward0>)\n",
      "tensor(174.9081, device='cuda:0', grad_fn=<AddBackward0>)\n",
      "tensor(1036.4357, device='cuda:0', grad_fn=<AddBackward0>)\n",
      "tensor(74.1311, device='cuda:0', grad_fn=<AddBackward0>)\n",
      "tensor(351.1381, device='cuda:0', grad_fn=<AddBackward0>)\n",
      "tensor(69.3023, device='cuda:0', grad_fn=<AddBackward0>)\n",
      "tensor(863.8462, device='cuda:0', grad_fn=<AddBackward0>)\n",
      "tensor(352.6572, device='cuda:0', grad_fn=<AddBackward0>)\n",
      "tensor(498.7325, device='cuda:0', grad_fn=<AddBackward0>)\n",
      "tensor(2148.8442, device='cuda:0', grad_fn=<AddBackward0>)\n",
      "tensor(134.1956, device='cuda:0', grad_fn=<AddBackward0>)\n",
      "tensor(871.8436, device='cuda:0', grad_fn=<AddBackward0>)\n",
      "tensor(71.6092, device='cuda:0', grad_fn=<AddBackward0>)\n",
      "tensor(1049.2825, device='cuda:0', grad_fn=<AddBackward0>)\n",
      "tensor(65.3649, device='cuda:0', grad_fn=<AddBackward0>)\n",
      "tensor(1432.9155, device='cuda:0', grad_fn=<AddBackward0>)\n",
      "tensor(144.7773, device='cuda:0', grad_fn=<AddBackward0>)\n",
      "tensor(135.4025, device='cuda:0', grad_fn=<AddBackward0>)\n",
      "tensor(194.7388, device='cuda:0', grad_fn=<AddBackward0>)\n",
      "tensor(83.8986, device='cuda:0', grad_fn=<AddBackward0>)\n",
      "tensor(280.5174, device='cuda:0', grad_fn=<AddBackward0>)\n",
      "tensor(219.7865, device='cuda:0', grad_fn=<AddBackward0>)\n",
      "tensor(352.0204, device='cuda:0', grad_fn=<AddBackward0>)\n",
      "tensor(360.2573, device='cuda:0', grad_fn=<AddBackward0>)\n",
      "tensor(189.0708, device='cuda:0', grad_fn=<AddBackward0>)\n",
      "tensor(155.9210, device='cuda:0', grad_fn=<AddBackward0>)\n",
      "tensor(154.4514, device='cuda:0', grad_fn=<AddBackward0>)\n",
      "tensor(162.6819, device='cuda:0', grad_fn=<AddBackward0>)\n",
      "tensor(141.1571, device='cuda:0', grad_fn=<AddBackward0>)\n",
      "tensor(257.0233, device='cuda:0', grad_fn=<AddBackward0>)\n",
      "tensor(571.1116, device='cuda:0', grad_fn=<AddBackward0>)\n",
      "tensor(62.2236, device='cuda:0', grad_fn=<AddBackward0>)\n",
      "tensor(168.3245, device='cuda:0', grad_fn=<AddBackward0>)\n",
      "tensor(66.4713, device='cuda:0', grad_fn=<AddBackward0>)\n",
      "tensor(102.7625, device='cuda:0', grad_fn=<AddBackward0>)\n",
      "tensor(373.6964, device='cuda:0', grad_fn=<AddBackward0>)\n",
      "tensor(727.6896, device='cuda:0', grad_fn=<AddBackward0>)\n",
      "tensor(119.4954, device='cuda:0', grad_fn=<AddBackward0>)\n",
      "tensor(2187.1479, device='cuda:0', grad_fn=<AddBackward0>)\n",
      "tensor(256.6187, device='cuda:0', grad_fn=<AddBackward0>)\n",
      "tensor(152.3920, device='cuda:0', grad_fn=<AddBackward0>)\n",
      "tensor(317.9183, device='cuda:0', grad_fn=<AddBackward0>)\n",
      "tensor(303.7437, device='cuda:0', grad_fn=<AddBackward0>)\n",
      "tensor(1468.8877, device='cuda:0', grad_fn=<AddBackward0>)\n",
      "tensor(50.8411, device='cuda:0', grad_fn=<AddBackward0>)\n",
      "tensor(197.0786, device='cuda:0', grad_fn=<AddBackward0>)\n",
      "tensor(458.0817, device='cuda:0', grad_fn=<AddBackward0>)\n",
      "tensor(3699.0994, device='cuda:0', grad_fn=<AddBackward0>)\n",
      "tensor(201.3689, device='cuda:0', grad_fn=<AddBackward0>)\n",
      "tensor(219.8196, device='cuda:0', grad_fn=<AddBackward0>)\n"
     ]
    },
    {
     "name": "stdout",
     "output_type": "stream",
     "text": [
      "tensor(63.0511, device='cuda:0', grad_fn=<AddBackward0>)\n",
      "tensor(1360.8302, device='cuda:0', grad_fn=<AddBackward0>)\n",
      "tensor(1167.9956, device='cuda:0', grad_fn=<AddBackward0>)\n",
      "tensor(327.5121, device='cuda:0', grad_fn=<AddBackward0>)\n",
      "tensor(1382.1207, device='cuda:0', grad_fn=<AddBackward0>)\n",
      "tensor(162.5729, device='cuda:0', grad_fn=<AddBackward0>)\n",
      "tensor(118.3387, device='cuda:0', grad_fn=<AddBackward0>)\n",
      "tensor(105.2652, device='cuda:0', grad_fn=<AddBackward0>)\n",
      "tensor(720.4687, device='cuda:0', grad_fn=<AddBackward0>)\n",
      "tensor(70.6951, device='cuda:0', grad_fn=<AddBackward0>)\n",
      "tensor(919.8289, device='cuda:0', grad_fn=<AddBackward0>)\n",
      "tensor(457.5202, device='cuda:0', grad_fn=<AddBackward0>)\n",
      "tensor(1508.0750, device='cuda:0', grad_fn=<AddBackward0>)\n",
      "tensor(119.8287, device='cuda:0', grad_fn=<AddBackward0>)\n",
      "tensor(1195.2327, device='cuda:0', grad_fn=<AddBackward0>)\n",
      "tensor(610.0849, device='cuda:0', grad_fn=<AddBackward0>)\n",
      "tensor(175.8499, device='cuda:0', grad_fn=<AddBackward0>)\n",
      "tensor(24.3931, device='cuda:0', grad_fn=<AddBackward0>)\n",
      "tensor(158.3916, device='cuda:0', grad_fn=<AddBackward0>)\n",
      "tensor(1203.4502, device='cuda:0', grad_fn=<AddBackward0>)\n",
      "tensor(21.9067, device='cuda:0', grad_fn=<AddBackward0>)\n",
      "tensor(3931.2815, device='cuda:0', grad_fn=<AddBackward0>)\n",
      "tensor(432.5460, device='cuda:0', grad_fn=<AddBackward0>)\n",
      "tensor(184.0501, device='cuda:0', grad_fn=<AddBackward0>)\n",
      "tensor(925.7446, device='cuda:0', grad_fn=<AddBackward0>)\n",
      "tensor(1140.3938, device='cuda:0', grad_fn=<AddBackward0>)\n",
      "tensor(1443.6290, device='cuda:0', grad_fn=<AddBackward0>)\n",
      "tensor(282.1181, device='cuda:0', grad_fn=<AddBackward0>)\n",
      "tensor(486.7497, device='cuda:0', grad_fn=<AddBackward0>)\n",
      "tensor(418.8776, device='cuda:0', grad_fn=<AddBackward0>)\n",
      "tensor(337.9741, device='cuda:0', grad_fn=<AddBackward0>)\n",
      "tensor(1023.2559, device='cuda:0', grad_fn=<AddBackward0>)\n",
      "tensor(1197.4293, device='cuda:0', grad_fn=<AddBackward0>)\n",
      "tensor(1167.7584, device='cuda:0', grad_fn=<AddBackward0>)\n",
      "tensor(177.8996, device='cuda:0', grad_fn=<AddBackward0>)\n",
      "tensor(1928.1615, device='cuda:0', grad_fn=<AddBackward0>)\n",
      "tensor(148.3325, device='cuda:0', grad_fn=<AddBackward0>)\n",
      "tensor(3011.9602, device='cuda:0', grad_fn=<AddBackward0>)\n",
      "tensor(965.0684, device='cuda:0', grad_fn=<AddBackward0>)\n",
      "tensor(4308.5879, device='cuda:0', grad_fn=<AddBackward0>)\n",
      "tensor(400.5304, device='cuda:0', grad_fn=<AddBackward0>)\n",
      "tensor(1517.7537, device='cuda:0', grad_fn=<AddBackward0>)\n",
      "tensor(303.6280, device='cuda:0', grad_fn=<AddBackward0>)\n",
      "tensor(354.7076, device='cuda:0', grad_fn=<AddBackward0>)\n",
      "tensor(377.7956, device='cuda:0', grad_fn=<AddBackward0>)\n",
      "tensor(439.3314, device='cuda:0', grad_fn=<AddBackward0>)\n",
      "tensor(428.1637, device='cuda:0', grad_fn=<AddBackward0>)\n",
      "tensor(57.6602, device='cuda:0', grad_fn=<AddBackward0>)\n",
      "tensor(606.7591, device='cuda:0', grad_fn=<AddBackward0>)\n",
      "tensor(302.8766, device='cuda:0', grad_fn=<AddBackward0>)\n",
      "tensor(312.9166, device='cuda:0', grad_fn=<AddBackward0>)\n",
      "tensor(368.5304, device='cuda:0', grad_fn=<AddBackward0>)\n",
      "tensor(1513.3225, device='cuda:0', grad_fn=<AddBackward0>)\n",
      "tensor(80.9158, device='cuda:0', grad_fn=<AddBackward0>)\n",
      "tensor(516.7908, device='cuda:0', grad_fn=<AddBackward0>)\n",
      "tensor(201.9588, device='cuda:0', grad_fn=<AddBackward0>)\n",
      "tensor(994.1457, device='cuda:0', grad_fn=<AddBackward0>)\n",
      "tensor(277.7084, device='cuda:0', grad_fn=<AddBackward0>)\n",
      "tensor(258.6374, device='cuda:0', grad_fn=<AddBackward0>)\n",
      "tensor(38.8055, device='cuda:0', grad_fn=<AddBackward0>)\n",
      "tensor(2799.2866, device='cuda:0', grad_fn=<AddBackward0>)\n",
      "tensor(466.8268, device='cuda:0', grad_fn=<AddBackward0>)\n",
      "tensor(514.9072, device='cuda:0', grad_fn=<AddBackward0>)\n",
      "tensor(128.8506, device='cuda:0', grad_fn=<AddBackward0>)\n",
      "tensor(314.8215, device='cuda:0', grad_fn=<AddBackward0>)\n",
      "tensor(174.8055, device='cuda:0', grad_fn=<AddBackward0>)\n",
      "tensor(2633.3313, device='cuda:0', grad_fn=<AddBackward0>)\n",
      "tensor(156.7113, device='cuda:0', grad_fn=<AddBackward0>)\n",
      "tensor(281.6099, device='cuda:0', grad_fn=<AddBackward0>)\n",
      "tensor(1339.5941, device='cuda:0', grad_fn=<AddBackward0>)\n",
      "tensor(370.3396, device='cuda:0', grad_fn=<AddBackward0>)\n",
      "tensor(120.5966, device='cuda:0', grad_fn=<AddBackward0>)\n",
      "tensor(116.3335, device='cuda:0', grad_fn=<AddBackward0>)\n",
      "tensor(136.7971, device='cuda:0', grad_fn=<AddBackward0>)\n",
      "tensor(193.4663, device='cuda:0', grad_fn=<AddBackward0>)\n",
      "tensor(184.4469, device='cuda:0', grad_fn=<AddBackward0>)\n",
      "tensor(268.0312, device='cuda:0', grad_fn=<AddBackward0>)\n",
      "tensor(76.8727, device='cuda:0', grad_fn=<AddBackward0>)\n",
      "tensor(115.7084, device='cuda:0', grad_fn=<AddBackward0>)\n",
      "tensor(688.9501, device='cuda:0', grad_fn=<AddBackward0>)\n",
      "tensor(451.8202, device='cuda:0', grad_fn=<AddBackward0>)\n",
      "tensor(119.6256, device='cuda:0', grad_fn=<AddBackward0>)\n",
      "tensor(156.2813, device='cuda:0', grad_fn=<AddBackward0>)\n",
      "tensor(113.6926, device='cuda:0', grad_fn=<AddBackward0>)\n",
      "tensor(229.8221, device='cuda:0', grad_fn=<AddBackward0>)\n",
      "tensor(378.9599, device='cuda:0', grad_fn=<AddBackward0>)\n",
      "tensor(211.8576, device='cuda:0', grad_fn=<AddBackward0>)\n",
      "tensor(1341.7749, device='cuda:0', grad_fn=<AddBackward0>)\n",
      "tensor(174.8840, device='cuda:0', grad_fn=<AddBackward0>)\n",
      "tensor(1459.6400, device='cuda:0', grad_fn=<AddBackward0>)\n",
      "tensor(50.3328, device='cuda:0', grad_fn=<AddBackward0>)\n",
      "tensor(247.5195, device='cuda:0', grad_fn=<AddBackward0>)\n",
      "tensor(336.1323, device='cuda:0', grad_fn=<AddBackward0>)\n",
      "tensor(198.0354, device='cuda:0', grad_fn=<AddBackward0>)\n",
      "tensor(915.1853, device='cuda:0', grad_fn=<AddBackward0>)\n",
      "tensor(2374.2070, device='cuda:0', grad_fn=<AddBackward0>)\n",
      "tensor(179.9549, device='cuda:0', grad_fn=<AddBackward0>)\n",
      "tensor(103.6945, device='cuda:0', grad_fn=<AddBackward0>)\n",
      "tensor(5342.0156, device='cuda:0', grad_fn=<AddBackward0>)\n",
      "tensor(537.9133, device='cuda:0', grad_fn=<AddBackward0>)\n",
      "tensor(958.5639, device='cuda:0', grad_fn=<AddBackward0>)\n",
      "tensor(897.9878, device='cuda:0', grad_fn=<AddBackward0>)\n",
      "tensor(86.2422, device='cuda:0', grad_fn=<AddBackward0>)\n",
      "tensor(100.5515, device='cuda:0', grad_fn=<AddBackward0>)\n",
      "tensor(364.1598, device='cuda:0', grad_fn=<AddBackward0>)\n",
      "tensor(289.3156, device='cuda:0', grad_fn=<AddBackward0>)\n",
      "tensor(2218.8728, device='cuda:0', grad_fn=<AddBackward0>)\n",
      "tensor(535.6505, device='cuda:0', grad_fn=<AddBackward0>)\n",
      "tensor(1560.9104, device='cuda:0', grad_fn=<AddBackward0>)\n",
      "tensor(385.9304, device='cuda:0', grad_fn=<AddBackward0>)\n",
      "tensor(509.9136, device='cuda:0', grad_fn=<AddBackward0>)\n",
      "tensor(134.0244, device='cuda:0', grad_fn=<AddBackward0>)\n",
      "tensor(125.6188, device='cuda:0', grad_fn=<AddBackward0>)\n",
      "tensor(949.8688, device='cuda:0', grad_fn=<AddBackward0>)\n",
      "tensor(119.6277, device='cuda:0', grad_fn=<AddBackward0>)\n",
      "tensor(322.3917, device='cuda:0', grad_fn=<AddBackward0>)\n",
      "tensor(245.6495, device='cuda:0', grad_fn=<AddBackward0>)\n",
      "tensor(119.1959, device='cuda:0', grad_fn=<AddBackward0>)\n",
      "tensor(317.7869, device='cuda:0', grad_fn=<AddBackward0>)\n",
      "tensor(122.4219, device='cuda:0', grad_fn=<AddBackward0>)\n",
      "tensor(212.9456, device='cuda:0', grad_fn=<AddBackward0>)\n",
      "tensor(1449.7378, device='cuda:0', grad_fn=<AddBackward0>)\n",
      "tensor(468.7196, device='cuda:0', grad_fn=<AddBackward0>)\n",
      "tensor(530.0961, device='cuda:0', grad_fn=<AddBackward0>)\n",
      "tensor(257.5860, device='cuda:0', grad_fn=<AddBackward0>)\n",
      "tensor(197.1171, device='cuda:0', grad_fn=<AddBackward0>)\n",
      "tensor(98.6487, device='cuda:0', grad_fn=<AddBackward0>)\n",
      "tensor(337.6756, device='cuda:0', grad_fn=<AddBackward0>)\n",
      "tensor(456.6380, device='cuda:0', grad_fn=<AddBackward0>)\n",
      "tensor(8873.1826, device='cuda:0', grad_fn=<AddBackward0>)\n",
      "tensor(65.5127, device='cuda:0', grad_fn=<AddBackward0>)\n",
      "tensor(240.8508, device='cuda:0', grad_fn=<AddBackward0>)\n",
      "tensor(316.3423, device='cuda:0', grad_fn=<AddBackward0>)\n",
      "tensor(255.5288, device='cuda:0', grad_fn=<AddBackward0>)\n",
      "tensor(122.1282, device='cuda:0', grad_fn=<AddBackward0>)\n",
      "tensor(1137.9603, device='cuda:0', grad_fn=<AddBackward0>)\n",
      "tensor(153.7702, device='cuda:0', grad_fn=<AddBackward0>)\n",
      "tensor(278.5087, device='cuda:0', grad_fn=<AddBackward0>)\n",
      "tensor(2193.4851, device='cuda:0', grad_fn=<AddBackward0>)\n",
      "tensor(404.6046, device='cuda:0', grad_fn=<AddBackward0>)\n",
      "tensor(1021.1899, device='cuda:0', grad_fn=<AddBackward0>)\n"
     ]
    },
    {
     "name": "stdout",
     "output_type": "stream",
     "text": [
      "tensor(396.7878, device='cuda:0', grad_fn=<AddBackward0>)\n",
      "tensor(401.0276, device='cuda:0', grad_fn=<AddBackward0>)\n",
      "tensor(152.5682, device='cuda:0', grad_fn=<AddBackward0>)\n",
      "tensor(565.7346, device='cuda:0', grad_fn=<AddBackward0>)\n",
      "tensor(2105.9392, device='cuda:0', grad_fn=<AddBackward0>)\n",
      "tensor(141.0804, device='cuda:0', grad_fn=<AddBackward0>)\n",
      "tensor(111.6349, device='cuda:0', grad_fn=<AddBackward0>)\n",
      "tensor(951.3045, device='cuda:0', grad_fn=<AddBackward0>)\n",
      "tensor(185.6021, device='cuda:0', grad_fn=<AddBackward0>)\n",
      "tensor(3459.5605, device='cuda:0', grad_fn=<AddBackward0>)\n",
      "tensor(794.6522, device='cuda:0', grad_fn=<AddBackward0>)\n",
      "tensor(465.1217, device='cuda:0', grad_fn=<AddBackward0>)\n",
      "tensor(271.5959, device='cuda:0', grad_fn=<AddBackward0>)\n",
      "tensor(268.7164, device='cuda:0', grad_fn=<AddBackward0>)\n",
      "tensor(196.9155, device='cuda:0', grad_fn=<AddBackward0>)\n",
      "tensor(120.8233, device='cuda:0', grad_fn=<AddBackward0>)\n",
      "tensor(278.7644, device='cuda:0', grad_fn=<AddBackward0>)\n",
      "tensor(104.3975, device='cuda:0', grad_fn=<AddBackward0>)\n",
      "tensor(922.3481, device='cuda:0', grad_fn=<AddBackward0>)\n",
      "tensor(2156.1140, device='cuda:0', grad_fn=<AddBackward0>)\n",
      "tensor(140.6257, device='cuda:0', grad_fn=<AddBackward0>)\n",
      "tensor(212.5241, device='cuda:0', grad_fn=<AddBackward0>)\n",
      "tensor(288.9713, device='cuda:0', grad_fn=<AddBackward0>)\n",
      "tensor(226.6806, device='cuda:0', grad_fn=<AddBackward0>)\n",
      "tensor(397.9621, device='cuda:0', grad_fn=<AddBackward0>)\n",
      "tensor(203.9460, device='cuda:0', grad_fn=<AddBackward0>)\n",
      "tensor(244.6998, device='cuda:0', grad_fn=<AddBackward0>)\n",
      "tensor(292.1096, device='cuda:0', grad_fn=<AddBackward0>)\n",
      "tensor(385.9556, device='cuda:0', grad_fn=<AddBackward0>)\n",
      "tensor(192.1830, device='cuda:0', grad_fn=<AddBackward0>)\n",
      "tensor(57.8768, device='cuda:0', grad_fn=<AddBackward0>)\n",
      "tensor(346.4403, device='cuda:0', grad_fn=<AddBackward0>)\n",
      "tensor(559.0459, device='cuda:0', grad_fn=<AddBackward0>)\n",
      "tensor(177.9727, device='cuda:0', grad_fn=<AddBackward0>)\n",
      "tensor(1378.7300, device='cuda:0', grad_fn=<AddBackward0>)\n",
      "tensor(57.9838, device='cuda:0', grad_fn=<AddBackward0>)\n",
      "tensor(444.4089, device='cuda:0', grad_fn=<AddBackward0>)\n",
      "tensor(140.4651, device='cuda:0', grad_fn=<AddBackward0>)\n",
      "tensor(547.3085, device='cuda:0', grad_fn=<AddBackward0>)\n",
      "tensor(683.1602, device='cuda:0', grad_fn=<AddBackward0>)\n",
      "tensor(417.2451, device='cuda:0', grad_fn=<AddBackward0>)\n",
      "tensor(68.0632, device='cuda:0', grad_fn=<AddBackward0>)\n",
      "tensor(351.8997, device='cuda:0', grad_fn=<AddBackward0>)\n",
      "tensor(195.4812, device='cuda:0', grad_fn=<AddBackward0>)\n",
      "tensor(601.3896, device='cuda:0', grad_fn=<AddBackward0>)\n",
      "tensor(254.3881, device='cuda:0', grad_fn=<AddBackward0>)\n",
      "tensor(75.2930, device='cuda:0', grad_fn=<AddBackward0>)\n",
      "tensor(196.6839, device='cuda:0', grad_fn=<AddBackward0>)\n",
      "tensor(153.9000, device='cuda:0', grad_fn=<AddBackward0>)\n",
      "tensor(64.0841, device='cuda:0', grad_fn=<AddBackward0>)\n",
      "tensor(601.8599, device='cuda:0', grad_fn=<AddBackward0>)\n",
      "tensor(295.4337, device='cuda:0', grad_fn=<AddBackward0>)\n",
      "tensor(199.4068, device='cuda:0', grad_fn=<AddBackward0>)\n",
      "tensor(1359.1951, device='cuda:0', grad_fn=<AddBackward0>)\n",
      "tensor(182.2428, device='cuda:0', grad_fn=<AddBackward0>)\n",
      "tensor(155.2795, device='cuda:0', grad_fn=<AddBackward0>)\n",
      "tensor(343.6025, device='cuda:0', grad_fn=<AddBackward0>)\n",
      "tensor(348.1486, device='cuda:0', grad_fn=<AddBackward0>)\n",
      "tensor(1841.0922, device='cuda:0', grad_fn=<AddBackward0>)\n",
      "tensor(2679.0420, device='cuda:0', grad_fn=<AddBackward0>)\n",
      "tensor(1064.0966, device='cuda:0', grad_fn=<AddBackward0>)\n",
      "tensor(451.7114, device='cuda:0', grad_fn=<AddBackward0>)\n",
      "tensor(73.8733, device='cuda:0', grad_fn=<AddBackward0>)\n",
      "tensor(206.7870, device='cuda:0', grad_fn=<AddBackward0>)\n",
      "tensor(196.2833, device='cuda:0', grad_fn=<AddBackward0>)\n",
      "tensor(120.5508, device='cuda:0', grad_fn=<AddBackward0>)\n",
      "tensor(119.8830, device='cuda:0', grad_fn=<AddBackward0>)\n",
      "tensor(6272.3491, device='cuda:0', grad_fn=<AddBackward0>)\n",
      "tensor(10049.7031, device='cuda:0', grad_fn=<AddBackward0>)\n",
      "tensor(596.3854, device='cuda:0', grad_fn=<AddBackward0>)\n",
      "tensor(342.0554, device='cuda:0', grad_fn=<AddBackward0>)\n",
      "tensor(800.2402, device='cuda:0', grad_fn=<AddBackward0>)\n",
      "tensor(1036.1119, device='cuda:0', grad_fn=<AddBackward0>)\n",
      "tensor(1182.3645, device='cuda:0', grad_fn=<AddBackward0>)\n",
      "tensor(172.9631, device='cuda:0', grad_fn=<AddBackward0>)\n",
      "tensor(1150.6677, device='cuda:0', grad_fn=<AddBackward0>)\n",
      "tensor(75.0871, device='cuda:0', grad_fn=<AddBackward0>)\n",
      "tensor(2571.3423, device='cuda:0', grad_fn=<AddBackward0>)\n",
      "tensor(883.1268, device='cuda:0', grad_fn=<AddBackward0>)\n",
      "tensor(2494.2908, device='cuda:0', grad_fn=<AddBackward0>)\n",
      "tensor(258.3192, device='cuda:0', grad_fn=<AddBackward0>)\n",
      "tensor(267.6431, device='cuda:0', grad_fn=<AddBackward0>)\n",
      "tensor(200.9211, device='cuda:0', grad_fn=<AddBackward0>)\n",
      "tensor(1022.4603, device='cuda:0', grad_fn=<AddBackward0>)\n",
      "tensor(346.9811, device='cuda:0', grad_fn=<AddBackward0>)\n",
      "tensor(375.1423, device='cuda:0', grad_fn=<AddBackward0>)\n",
      "tensor(187.7183, device='cuda:0', grad_fn=<AddBackward0>)\n",
      "tensor(433.9262, device='cuda:0', grad_fn=<AddBackward0>)\n",
      "tensor(239.8779, device='cuda:0', grad_fn=<AddBackward0>)\n",
      "tensor(45.3785, device='cuda:0', grad_fn=<AddBackward0>)\n",
      "tensor(153.1703, device='cuda:0', grad_fn=<AddBackward0>)\n",
      "tensor(190.3578, device='cuda:0', grad_fn=<AddBackward0>)\n",
      "tensor(191.5896, device='cuda:0', grad_fn=<AddBackward0>)\n",
      "tensor(31.4546, device='cuda:0', grad_fn=<AddBackward0>)\n",
      "tensor(1012.2640, device='cuda:0', grad_fn=<AddBackward0>)\n",
      "tensor(1044.6138, device='cuda:0', grad_fn=<AddBackward0>)\n",
      "tensor(384.0170, device='cuda:0', grad_fn=<AddBackward0>)\n",
      "tensor(138.5141, device='cuda:0', grad_fn=<AddBackward0>)\n",
      "tensor(1644.8741, device='cuda:0', grad_fn=<AddBackward0>)\n",
      "tensor(269.4984, device='cuda:0', grad_fn=<AddBackward0>)\n",
      "tensor(156.9925, device='cuda:0', grad_fn=<AddBackward0>)\n",
      "tensor(58.4172, device='cuda:0', grad_fn=<AddBackward0>)\n",
      "tensor(231.9915, device='cuda:0', grad_fn=<AddBackward0>)\n",
      "tensor(224.1920, device='cuda:0', grad_fn=<AddBackward0>)\n",
      "tensor(795.1122, device='cuda:0', grad_fn=<AddBackward0>)\n",
      "tensor(40.7876, device='cuda:0', grad_fn=<AddBackward0>)\n",
      "tensor(2081.6350, device='cuda:0', grad_fn=<AddBackward0>)\n",
      "tensor(1244.3601, device='cuda:0', grad_fn=<AddBackward0>)\n",
      "tensor(158.7274, device='cuda:0', grad_fn=<AddBackward0>)\n",
      "tensor(52.0733, device='cuda:0', grad_fn=<AddBackward0>)\n",
      "tensor(1398.8135, device='cuda:0', grad_fn=<AddBackward0>)\n",
      "tensor(195.0470, device='cuda:0', grad_fn=<AddBackward0>)\n",
      "tensor(468.1035, device='cuda:0', grad_fn=<AddBackward0>)\n",
      "tensor(162.7099, device='cuda:0', grad_fn=<AddBackward0>)\n",
      "tensor(991.8677, device='cuda:0', grad_fn=<AddBackward0>)\n",
      "tensor(232.0414, device='cuda:0', grad_fn=<AddBackward0>)\n",
      "tensor(238.8165, device='cuda:0', grad_fn=<AddBackward0>)\n",
      "tensor(10760.0664, device='cuda:0', grad_fn=<AddBackward0>)\n",
      "tensor(241.5639, device='cuda:0', grad_fn=<AddBackward0>)\n",
      "tensor(343.3026, device='cuda:0', grad_fn=<AddBackward0>)\n",
      "tensor(172.8752, device='cuda:0', grad_fn=<AddBackward0>)\n",
      "tensor(314.1136, device='cuda:0', grad_fn=<AddBackward0>)\n",
      "tensor(1168.7073, device='cuda:0', grad_fn=<AddBackward0>)\n",
      "tensor(96.6355, device='cuda:0', grad_fn=<AddBackward0>)\n",
      "tensor(109.3976, device='cuda:0', grad_fn=<AddBackward0>)\n",
      "tensor(436.0991, device='cuda:0', grad_fn=<AddBackward0>)\n",
      "tensor(144.2777, device='cuda:0', grad_fn=<AddBackward0>)\n",
      "tensor(359.5430, device='cuda:0', grad_fn=<AddBackward0>)\n",
      "tensor(674.8883, device='cuda:0', grad_fn=<AddBackward0>)\n",
      "tensor(58.2134, device='cuda:0', grad_fn=<AddBackward0>)\n",
      "tensor(387.9407, device='cuda:0', grad_fn=<AddBackward0>)\n",
      "tensor(877.1651, device='cuda:0', grad_fn=<AddBackward0>)\n",
      "tensor(435.0201, device='cuda:0', grad_fn=<AddBackward0>)\n",
      "tensor(208.6385, device='cuda:0', grad_fn=<AddBackward0>)\n",
      "tensor(2266.1562, device='cuda:0', grad_fn=<AddBackward0>)\n",
      "tensor(376.9828, device='cuda:0', grad_fn=<AddBackward0>)\n",
      "tensor(145.7167, device='cuda:0', grad_fn=<AddBackward0>)\n",
      "tensor(312.9253, device='cuda:0', grad_fn=<AddBackward0>)\n",
      "tensor(111.3320, device='cuda:0', grad_fn=<AddBackward0>)\n",
      "tensor(3213.7068, device='cuda:0', grad_fn=<AddBackward0>)\n",
      "tensor(64.7281, device='cuda:0', grad_fn=<AddBackward0>)\n",
      "tensor(261.9683, device='cuda:0', grad_fn=<AddBackward0>)\n"
     ]
    },
    {
     "name": "stdout",
     "output_type": "stream",
     "text": [
      "tensor(81.6854, device='cuda:0', grad_fn=<AddBackward0>)\n",
      "tensor(44.5799, device='cuda:0', grad_fn=<AddBackward0>)\n",
      "tensor(1124.1102, device='cuda:0', grad_fn=<AddBackward0>)\n",
      "tensor(64.0775, device='cuda:0', grad_fn=<AddBackward0>)\n",
      "tensor(883.8521, device='cuda:0', grad_fn=<AddBackward0>)\n",
      "tensor(289.0439, device='cuda:0', grad_fn=<AddBackward0>)\n",
      "tensor(71.4052, device='cuda:0', grad_fn=<AddBackward0>)\n",
      "tensor(163.9565, device='cuda:0', grad_fn=<AddBackward0>)\n",
      "tensor(163.3692, device='cuda:0', grad_fn=<AddBackward0>)\n",
      "tensor(405.4511, device='cuda:0', grad_fn=<AddBackward0>)\n",
      "tensor(128.4902, device='cuda:0', grad_fn=<AddBackward0>)\n",
      "tensor(93.8615, device='cuda:0', grad_fn=<AddBackward0>)\n",
      "tensor(133.3666, device='cuda:0', grad_fn=<AddBackward0>)\n",
      "tensor(610.5714, device='cuda:0', grad_fn=<AddBackward0>)\n",
      "tensor(353.2245, device='cuda:0', grad_fn=<AddBackward0>)\n",
      "tensor(266.8390, device='cuda:0', grad_fn=<AddBackward0>)\n",
      "tensor(568.2924, device='cuda:0', grad_fn=<AddBackward0>)\n",
      "tensor(711.8775, device='cuda:0', grad_fn=<AddBackward0>)\n",
      "tensor(53.1082, device='cuda:0', grad_fn=<AddBackward0>)\n",
      "tensor(421.9503, device='cuda:0', grad_fn=<AddBackward0>)\n",
      "tensor(156.4650, device='cuda:0', grad_fn=<AddBackward0>)\n",
      "tensor(72.3934, device='cuda:0', grad_fn=<AddBackward0>)\n",
      "tensor(208.1165, device='cuda:0', grad_fn=<AddBackward0>)\n",
      "tensor(967.2104, device='cuda:0', grad_fn=<AddBackward0>)\n",
      "tensor(146.7556, device='cuda:0', grad_fn=<AddBackward0>)\n",
      "tensor(82.6908, device='cuda:0', grad_fn=<AddBackward0>)\n",
      "tensor(1697.2858, device='cuda:0', grad_fn=<AddBackward0>)\n",
      "tensor(720.2227, device='cuda:0', grad_fn=<AddBackward0>)\n",
      "tensor(293.6993, device='cuda:0', grad_fn=<AddBackward0>)\n",
      "tensor(177.4864, device='cuda:0', grad_fn=<AddBackward0>)\n",
      "tensor(166.4139, device='cuda:0', grad_fn=<AddBackward0>)\n",
      "tensor(2485.4504, device='cuda:0', grad_fn=<AddBackward0>)\n",
      "tensor(860.0945, device='cuda:0', grad_fn=<AddBackward0>)\n",
      "tensor(367.0143, device='cuda:0', grad_fn=<AddBackward0>)\n",
      "tensor(212.3378, device='cuda:0', grad_fn=<AddBackward0>)\n",
      "tensor(369.5057, device='cuda:0', grad_fn=<AddBackward0>)\n",
      "tensor(678.6036, device='cuda:0', grad_fn=<AddBackward0>)\n",
      "tensor(113.1125, device='cuda:0', grad_fn=<AddBackward0>)\n",
      "tensor(555.9276, device='cuda:0', grad_fn=<AddBackward0>)\n",
      "tensor(1305.3318, device='cuda:0', grad_fn=<AddBackward0>)\n",
      "tensor(1243.6373, device='cuda:0', grad_fn=<AddBackward0>)\n",
      "tensor(10182.8740, device='cuda:0', grad_fn=<AddBackward0>)\n",
      "tensor(88.3112, device='cuda:0', grad_fn=<AddBackward0>)\n",
      "tensor(152.4510, device='cuda:0', grad_fn=<AddBackward0>)\n",
      "tensor(26.2448, device='cuda:0', grad_fn=<AddBackward0>)\n",
      "tensor(2358.6394, device='cuda:0', grad_fn=<AddBackward0>)\n",
      "tensor(51.4974, device='cuda:0', grad_fn=<AddBackward0>)\n",
      "tensor(10202.7354, device='cuda:0', grad_fn=<AddBackward0>)\n",
      "tensor(141.4277, device='cuda:0', grad_fn=<AddBackward0>)\n",
      "tensor(1724.3281, device='cuda:0', grad_fn=<AddBackward0>)\n",
      "tensor(5823.9526, device='cuda:0', grad_fn=<AddBackward0>)\n",
      "tensor(643.2531, device='cuda:0', grad_fn=<AddBackward0>)\n",
      "tensor(2405.3105, device='cuda:0', grad_fn=<AddBackward0>)\n",
      "tensor(258.7762, device='cuda:0', grad_fn=<AddBackward0>)\n",
      "tensor(85.5301, device='cuda:0', grad_fn=<AddBackward0>)\n",
      "tensor(323.4633, device='cuda:0', grad_fn=<AddBackward0>)\n",
      "tensor(580.8240, device='cuda:0', grad_fn=<AddBackward0>)\n",
      "tensor(77.5082, device='cuda:0', grad_fn=<AddBackward0>)\n",
      "tensor(207.1971, device='cuda:0', grad_fn=<AddBackward0>)\n"
     ]
    },
    {
     "ename": "KeyboardInterrupt",
     "evalue": "",
     "output_type": "error",
     "traceback": [
      "\u001b[1;31m---------------------------------------------------------------------------\u001b[0m",
      "\u001b[1;31mKeyboardInterrupt\u001b[0m                         Traceback (most recent call last)",
      "\u001b[1;32m<ipython-input-25-40d189f1a19e>\u001b[0m in \u001b[0;36m<module>\u001b[1;34m\u001b[0m\n\u001b[0;32m     16\u001b[0m     \u001b[0mprog_valid\u001b[0m \u001b[1;33m=\u001b[0m \u001b[0mtqdm\u001b[0m\u001b[1;33m(\u001b[0m\u001b[0mvalid_loader\u001b[0m\u001b[1;33m,\u001b[0m \u001b[0mdesc\u001b[0m \u001b[1;33m=\u001b[0m \u001b[1;34m'VALID'\u001b[0m\u001b[1;33m,\u001b[0m \u001b[0mleave\u001b[0m \u001b[1;33m=\u001b[0m \u001b[1;32mFalse\u001b[0m\u001b[1;33m)\u001b[0m\u001b[1;33m\u001b[0m\u001b[1;33m\u001b[0m\u001b[0m\n\u001b[0;32m     17\u001b[0m \u001b[1;33m\u001b[0m\u001b[0m\n\u001b[1;32m---> 18\u001b[1;33m     \u001b[0mtrain_loss\u001b[0m \u001b[1;33m=\u001b[0m \u001b[0mtrain\u001b[0m\u001b[1;33m(\u001b[0m\u001b[0mepoch\u001b[0m\u001b[1;33m,\u001b[0m \u001b[0mprog_train\u001b[0m\u001b[1;33m)\u001b[0m\u001b[1;33m\u001b[0m\u001b[1;33m\u001b[0m\u001b[0m\n\u001b[0m\u001b[0;32m     19\u001b[0m     \u001b[0mvalid_loss\u001b[0m \u001b[1;33m=\u001b[0m \u001b[0mvalid\u001b[0m\u001b[1;33m(\u001b[0m\u001b[0mprog_valid\u001b[0m\u001b[1;33m)\u001b[0m\u001b[1;33m\u001b[0m\u001b[1;33m\u001b[0m\u001b[0m\n\u001b[0;32m     20\u001b[0m \u001b[1;33m\u001b[0m\u001b[0m\n",
      "\u001b[1;32m<ipython-input-22-0e0a81ad6cd4>\u001b[0m in \u001b[0;36mtrain\u001b[1;34m(epoch, progress_log)\u001b[0m\n\u001b[0;32m      6\u001b[0m     \u001b[0mdata_num\u001b[0m \u001b[1;33m=\u001b[0m \u001b[1;36m0\u001b[0m\u001b[1;33m\u001b[0m\u001b[1;33m\u001b[0m\u001b[0m\n\u001b[0;32m      7\u001b[0m \u001b[1;33m\u001b[0m\u001b[0m\n\u001b[1;32m----> 8\u001b[1;33m     \u001b[1;32mfor\u001b[0m \u001b[0mX\u001b[0m\u001b[1;33m,\u001b[0m \u001b[0mc\u001b[0m\u001b[1;33m,\u001b[0m \u001b[0my\u001b[0m \u001b[1;32min\u001b[0m \u001b[0mprogress_log\u001b[0m\u001b[1;33m:\u001b[0m\u001b[1;33m\u001b[0m\u001b[1;33m\u001b[0m\u001b[0m\n\u001b[0m\u001b[0;32m      9\u001b[0m \u001b[1;33m\u001b[0m\u001b[0m\n\u001b[0;32m     10\u001b[0m         \u001b[0mX\u001b[0m \u001b[1;33m=\u001b[0m \u001b[0mX\u001b[0m\u001b[1;33m.\u001b[0m\u001b[0mto\u001b[0m\u001b[1;33m(\u001b[0m\u001b[0mdevice\u001b[0m\u001b[1;33m)\u001b[0m\u001b[1;33m\u001b[0m\u001b[1;33m\u001b[0m\u001b[0m\n",
      "\u001b[1;32mD:\\Sangwons_Room\\00_SoftWares\\Anaconda\\envs\\torch\\lib\\site-packages\\tqdm\\notebook.py\u001b[0m in \u001b[0;36m__iter__\u001b[1;34m(self)\u001b[0m\n\u001b[0;32m    252\u001b[0m     \u001b[1;32mdef\u001b[0m \u001b[0m__iter__\u001b[0m\u001b[1;33m(\u001b[0m\u001b[0mself\u001b[0m\u001b[1;33m)\u001b[0m\u001b[1;33m:\u001b[0m\u001b[1;33m\u001b[0m\u001b[1;33m\u001b[0m\u001b[0m\n\u001b[0;32m    253\u001b[0m         \u001b[1;32mtry\u001b[0m\u001b[1;33m:\u001b[0m\u001b[1;33m\u001b[0m\u001b[1;33m\u001b[0m\u001b[0m\n\u001b[1;32m--> 254\u001b[1;33m             \u001b[1;32mfor\u001b[0m \u001b[0mobj\u001b[0m \u001b[1;32min\u001b[0m \u001b[0msuper\u001b[0m\u001b[1;33m(\u001b[0m\u001b[0mtqdm_notebook\u001b[0m\u001b[1;33m,\u001b[0m \u001b[0mself\u001b[0m\u001b[1;33m)\u001b[0m\u001b[1;33m.\u001b[0m\u001b[0m__iter__\u001b[0m\u001b[1;33m(\u001b[0m\u001b[1;33m)\u001b[0m\u001b[1;33m:\u001b[0m\u001b[1;33m\u001b[0m\u001b[1;33m\u001b[0m\u001b[0m\n\u001b[0m\u001b[0;32m    255\u001b[0m                 \u001b[1;31m# return super(tqdm...) will not catch exception\u001b[0m\u001b[1;33m\u001b[0m\u001b[1;33m\u001b[0m\u001b[1;33m\u001b[0m\u001b[0m\n\u001b[0;32m    256\u001b[0m                 \u001b[1;32myield\u001b[0m \u001b[0mobj\u001b[0m\u001b[1;33m\u001b[0m\u001b[1;33m\u001b[0m\u001b[0m\n",
      "\u001b[1;32mD:\\Sangwons_Room\\00_SoftWares\\Anaconda\\envs\\torch\\lib\\site-packages\\tqdm\\std.py\u001b[0m in \u001b[0;36m__iter__\u001b[1;34m(self)\u001b[0m\n\u001b[0;32m   1176\u001b[0m \u001b[1;33m\u001b[0m\u001b[0m\n\u001b[0;32m   1177\u001b[0m         \u001b[1;32mtry\u001b[0m\u001b[1;33m:\u001b[0m\u001b[1;33m\u001b[0m\u001b[1;33m\u001b[0m\u001b[0m\n\u001b[1;32m-> 1178\u001b[1;33m             \u001b[1;32mfor\u001b[0m \u001b[0mobj\u001b[0m \u001b[1;32min\u001b[0m \u001b[0miterable\u001b[0m\u001b[1;33m:\u001b[0m\u001b[1;33m\u001b[0m\u001b[1;33m\u001b[0m\u001b[0m\n\u001b[0m\u001b[0;32m   1179\u001b[0m                 \u001b[1;32myield\u001b[0m \u001b[0mobj\u001b[0m\u001b[1;33m\u001b[0m\u001b[1;33m\u001b[0m\u001b[0m\n\u001b[0;32m   1180\u001b[0m                 \u001b[1;31m# Update and possibly print the progressbar.\u001b[0m\u001b[1;33m\u001b[0m\u001b[1;33m\u001b[0m\u001b[1;33m\u001b[0m\u001b[0m\n",
      "\u001b[1;32mD:\\Sangwons_Room\\00_SoftWares\\Anaconda\\envs\\torch\\lib\\site-packages\\torch\\utils\\data\\dataloader.py\u001b[0m in \u001b[0;36m__next__\u001b[1;34m(self)\u001b[0m\n\u001b[0;32m    519\u001b[0m             \u001b[1;32mif\u001b[0m \u001b[0mself\u001b[0m\u001b[1;33m.\u001b[0m\u001b[0m_sampler_iter\u001b[0m \u001b[1;32mis\u001b[0m \u001b[1;32mNone\u001b[0m\u001b[1;33m:\u001b[0m\u001b[1;33m\u001b[0m\u001b[1;33m\u001b[0m\u001b[0m\n\u001b[0;32m    520\u001b[0m                 \u001b[0mself\u001b[0m\u001b[1;33m.\u001b[0m\u001b[0m_reset\u001b[0m\u001b[1;33m(\u001b[0m\u001b[1;33m)\u001b[0m\u001b[1;33m\u001b[0m\u001b[1;33m\u001b[0m\u001b[0m\n\u001b[1;32m--> 521\u001b[1;33m             \u001b[0mdata\u001b[0m \u001b[1;33m=\u001b[0m \u001b[0mself\u001b[0m\u001b[1;33m.\u001b[0m\u001b[0m_next_data\u001b[0m\u001b[1;33m(\u001b[0m\u001b[1;33m)\u001b[0m\u001b[1;33m\u001b[0m\u001b[1;33m\u001b[0m\u001b[0m\n\u001b[0m\u001b[0;32m    522\u001b[0m             \u001b[0mself\u001b[0m\u001b[1;33m.\u001b[0m\u001b[0m_num_yielded\u001b[0m \u001b[1;33m+=\u001b[0m \u001b[1;36m1\u001b[0m\u001b[1;33m\u001b[0m\u001b[1;33m\u001b[0m\u001b[0m\n\u001b[0;32m    523\u001b[0m             \u001b[1;32mif\u001b[0m \u001b[0mself\u001b[0m\u001b[1;33m.\u001b[0m\u001b[0m_dataset_kind\u001b[0m \u001b[1;33m==\u001b[0m \u001b[0m_DatasetKind\u001b[0m\u001b[1;33m.\u001b[0m\u001b[0mIterable\u001b[0m \u001b[1;32mand\u001b[0m\u001b[0;31m \u001b[0m\u001b[0;31m\\\u001b[0m\u001b[1;33m\u001b[0m\u001b[1;33m\u001b[0m\u001b[0m\n",
      "\u001b[1;32mD:\\Sangwons_Room\\00_SoftWares\\Anaconda\\envs\\torch\\lib\\site-packages\\torch\\utils\\data\\dataloader.py\u001b[0m in \u001b[0;36m_next_data\u001b[1;34m(self)\u001b[0m\n\u001b[0;32m    559\u001b[0m     \u001b[1;32mdef\u001b[0m \u001b[0m_next_data\u001b[0m\u001b[1;33m(\u001b[0m\u001b[0mself\u001b[0m\u001b[1;33m)\u001b[0m\u001b[1;33m:\u001b[0m\u001b[1;33m\u001b[0m\u001b[1;33m\u001b[0m\u001b[0m\n\u001b[0;32m    560\u001b[0m         \u001b[0mindex\u001b[0m \u001b[1;33m=\u001b[0m \u001b[0mself\u001b[0m\u001b[1;33m.\u001b[0m\u001b[0m_next_index\u001b[0m\u001b[1;33m(\u001b[0m\u001b[1;33m)\u001b[0m  \u001b[1;31m# may raise StopIteration\u001b[0m\u001b[1;33m\u001b[0m\u001b[1;33m\u001b[0m\u001b[0m\n\u001b[1;32m--> 561\u001b[1;33m         \u001b[0mdata\u001b[0m \u001b[1;33m=\u001b[0m \u001b[0mself\u001b[0m\u001b[1;33m.\u001b[0m\u001b[0m_dataset_fetcher\u001b[0m\u001b[1;33m.\u001b[0m\u001b[0mfetch\u001b[0m\u001b[1;33m(\u001b[0m\u001b[0mindex\u001b[0m\u001b[1;33m)\u001b[0m  \u001b[1;31m# may raise StopIteration\u001b[0m\u001b[1;33m\u001b[0m\u001b[1;33m\u001b[0m\u001b[0m\n\u001b[0m\u001b[0;32m    562\u001b[0m         \u001b[1;32mif\u001b[0m \u001b[0mself\u001b[0m\u001b[1;33m.\u001b[0m\u001b[0m_pin_memory\u001b[0m\u001b[1;33m:\u001b[0m\u001b[1;33m\u001b[0m\u001b[1;33m\u001b[0m\u001b[0m\n\u001b[0;32m    563\u001b[0m             \u001b[0mdata\u001b[0m \u001b[1;33m=\u001b[0m \u001b[0m_utils\u001b[0m\u001b[1;33m.\u001b[0m\u001b[0mpin_memory\u001b[0m\u001b[1;33m.\u001b[0m\u001b[0mpin_memory\u001b[0m\u001b[1;33m(\u001b[0m\u001b[0mdata\u001b[0m\u001b[1;33m)\u001b[0m\u001b[1;33m\u001b[0m\u001b[1;33m\u001b[0m\u001b[0m\n",
      "\u001b[1;32mD:\\Sangwons_Room\\00_SoftWares\\Anaconda\\envs\\torch\\lib\\site-packages\\torch\\utils\\data\\_utils\\fetch.py\u001b[0m in \u001b[0;36mfetch\u001b[1;34m(self, possibly_batched_index)\u001b[0m\n\u001b[0;32m     42\u001b[0m     \u001b[1;32mdef\u001b[0m \u001b[0mfetch\u001b[0m\u001b[1;33m(\u001b[0m\u001b[0mself\u001b[0m\u001b[1;33m,\u001b[0m \u001b[0mpossibly_batched_index\u001b[0m\u001b[1;33m)\u001b[0m\u001b[1;33m:\u001b[0m\u001b[1;33m\u001b[0m\u001b[1;33m\u001b[0m\u001b[0m\n\u001b[0;32m     43\u001b[0m         \u001b[1;32mif\u001b[0m \u001b[0mself\u001b[0m\u001b[1;33m.\u001b[0m\u001b[0mauto_collation\u001b[0m\u001b[1;33m:\u001b[0m\u001b[1;33m\u001b[0m\u001b[1;33m\u001b[0m\u001b[0m\n\u001b[1;32m---> 44\u001b[1;33m             \u001b[0mdata\u001b[0m \u001b[1;33m=\u001b[0m \u001b[1;33m[\u001b[0m\u001b[0mself\u001b[0m\u001b[1;33m.\u001b[0m\u001b[0mdataset\u001b[0m\u001b[1;33m[\u001b[0m\u001b[0midx\u001b[0m\u001b[1;33m]\u001b[0m \u001b[1;32mfor\u001b[0m \u001b[0midx\u001b[0m \u001b[1;32min\u001b[0m \u001b[0mpossibly_batched_index\u001b[0m\u001b[1;33m]\u001b[0m\u001b[1;33m\u001b[0m\u001b[1;33m\u001b[0m\u001b[0m\n\u001b[0m\u001b[0;32m     45\u001b[0m         \u001b[1;32melse\u001b[0m\u001b[1;33m:\u001b[0m\u001b[1;33m\u001b[0m\u001b[1;33m\u001b[0m\u001b[0m\n\u001b[0;32m     46\u001b[0m             \u001b[0mdata\u001b[0m \u001b[1;33m=\u001b[0m \u001b[0mself\u001b[0m\u001b[1;33m.\u001b[0m\u001b[0mdataset\u001b[0m\u001b[1;33m[\u001b[0m\u001b[0mpossibly_batched_index\u001b[0m\u001b[1;33m]\u001b[0m\u001b[1;33m\u001b[0m\u001b[1;33m\u001b[0m\u001b[0m\n",
      "\u001b[1;32mD:\\Sangwons_Room\\00_SoftWares\\Anaconda\\envs\\torch\\lib\\site-packages\\torch\\utils\\data\\_utils\\fetch.py\u001b[0m in \u001b[0;36m<listcomp>\u001b[1;34m(.0)\u001b[0m\n\u001b[0;32m     42\u001b[0m     \u001b[1;32mdef\u001b[0m \u001b[0mfetch\u001b[0m\u001b[1;33m(\u001b[0m\u001b[0mself\u001b[0m\u001b[1;33m,\u001b[0m \u001b[0mpossibly_batched_index\u001b[0m\u001b[1;33m)\u001b[0m\u001b[1;33m:\u001b[0m\u001b[1;33m\u001b[0m\u001b[1;33m\u001b[0m\u001b[0m\n\u001b[0;32m     43\u001b[0m         \u001b[1;32mif\u001b[0m \u001b[0mself\u001b[0m\u001b[1;33m.\u001b[0m\u001b[0mauto_collation\u001b[0m\u001b[1;33m:\u001b[0m\u001b[1;33m\u001b[0m\u001b[1;33m\u001b[0m\u001b[0m\n\u001b[1;32m---> 44\u001b[1;33m             \u001b[0mdata\u001b[0m \u001b[1;33m=\u001b[0m \u001b[1;33m[\u001b[0m\u001b[0mself\u001b[0m\u001b[1;33m.\u001b[0m\u001b[0mdataset\u001b[0m\u001b[1;33m[\u001b[0m\u001b[0midx\u001b[0m\u001b[1;33m]\u001b[0m \u001b[1;32mfor\u001b[0m \u001b[0midx\u001b[0m \u001b[1;32min\u001b[0m \u001b[0mpossibly_batched_index\u001b[0m\u001b[1;33m]\u001b[0m\u001b[1;33m\u001b[0m\u001b[1;33m\u001b[0m\u001b[0m\n\u001b[0m\u001b[0;32m     45\u001b[0m         \u001b[1;32melse\u001b[0m\u001b[1;33m:\u001b[0m\u001b[1;33m\u001b[0m\u001b[1;33m\u001b[0m\u001b[0m\n\u001b[0;32m     46\u001b[0m             \u001b[0mdata\u001b[0m \u001b[1;33m=\u001b[0m \u001b[0mself\u001b[0m\u001b[1;33m.\u001b[0m\u001b[0mdataset\u001b[0m\u001b[1;33m[\u001b[0m\u001b[0mpossibly_batched_index\u001b[0m\u001b[1;33m]\u001b[0m\u001b[1;33m\u001b[0m\u001b[1;33m\u001b[0m\u001b[0m\n",
      "\u001b[1;32m<ipython-input-15-4ad78051f47b>\u001b[0m in \u001b[0;36m__getitem__\u001b[1;34m(self, idx)\u001b[0m\n\u001b[0;32m     31\u001b[0m                                                                                \u001b[0mpatch\u001b[0m \u001b[1;33m=\u001b[0m \u001b[1;33m[\u001b[0m\u001b[1;36m200\u001b[0m\u001b[1;33m,\u001b[0m \u001b[1;36m200\u001b[0m\u001b[1;33m]\u001b[0m\u001b[1;33m,\u001b[0m\u001b[1;33m\u001b[0m\u001b[1;33m\u001b[0m\u001b[0m\n\u001b[0;32m     32\u001b[0m                                                                                \u001b[0mmode\u001b[0m \u001b[1;33m=\u001b[0m \u001b[1;34m'intersect'\u001b[0m\u001b[1;33m,\u001b[0m\u001b[1;33m\u001b[0m\u001b[1;33m\u001b[0m\u001b[0m\n\u001b[1;32m---> 33\u001b[1;33m                                                                                global_coord=False)\n\u001b[0m\u001b[0;32m     34\u001b[0m \u001b[1;33m\u001b[0m\u001b[0m\n\u001b[0;32m     35\u001b[0m         \u001b[0mX\u001b[0m \u001b[1;33m=\u001b[0m \u001b[0mtorch\u001b[0m\u001b[1;33m.\u001b[0m\u001b[0mTensor\u001b[0m\u001b[1;33m(\u001b[0m\u001b[0mpc\u001b[0m\u001b[1;33m.\u001b[0m\u001b[0mpoints\u001b[0m\u001b[1;33m)\u001b[0m\u001b[1;33m\u001b[0m\u001b[1;33m\u001b[0m\u001b[0m\n",
      "\u001b[1;32mD:\\Sangwons_Room\\01_GitHubRepo\\BeSuper\\Research\\nuScenes\\utils\\custom_map_api_expansion.py\u001b[0m in \u001b[0;36mget_closest_structures\u001b[1;34m(self, layers, center_pose, max_objs, max_points, patch, global_coord, mode)\u001b[0m\n\u001b[0;32m     83\u001b[0m         \u001b[0moutput\u001b[0m \u001b[1;33m=\u001b[0m \u001b[0msorted\u001b[0m\u001b[1;33m(\u001b[0m\u001b[0moutput\u001b[0m\u001b[1;33m,\u001b[0m \u001b[0mkey\u001b[0m\u001b[1;33m=\u001b[0m\u001b[0mitemgetter\u001b[0m\u001b[1;33m(\u001b[0m\u001b[1;34m'min_dist'\u001b[0m\u001b[1;33m)\u001b[0m\u001b[1;33m,\u001b[0m \u001b[0mreverse\u001b[0m\u001b[1;33m=\u001b[0m\u001b[1;32mFalse\u001b[0m\u001b[1;33m)\u001b[0m\u001b[1;33m\u001b[0m\u001b[1;33m\u001b[0m\u001b[0m\n\u001b[0;32m     84\u001b[0m         \u001b[1;32mreturn\u001b[0m \u001b[0moutput\u001b[0m\u001b[1;33m[\u001b[0m\u001b[1;33m:\u001b[0m\u001b[0mmax_objs\u001b[0m\u001b[1;33m]\u001b[0m\u001b[1;33m\u001b[0m\u001b[1;33m\u001b[0m\u001b[0m\n\u001b[1;32m---> 85\u001b[1;33m \u001b[1;33m\u001b[0m\u001b[0m\n\u001b[0m\u001b[0;32m     86\u001b[0m     \u001b[1;32mdef\u001b[0m \u001b[0mintersect\u001b[0m\u001b[1;33m(\u001b[0m\u001b[0mself\u001b[0m\u001b[1;33m,\u001b[0m \u001b[0mnode_coords\u001b[0m\u001b[1;33m,\u001b[0m \u001b[0mbox_coords\u001b[0m\u001b[1;33m)\u001b[0m\u001b[1;33m:\u001b[0m\u001b[1;33m\u001b[0m\u001b[1;33m\u001b[0m\u001b[0m\n\u001b[0;32m     87\u001b[0m         \u001b[0mx_min\u001b[0m\u001b[1;33m,\u001b[0m \u001b[0my_min\u001b[0m\u001b[1;33m,\u001b[0m \u001b[0mx_max\u001b[0m\u001b[1;33m,\u001b[0m \u001b[0my_max\u001b[0m \u001b[1;33m=\u001b[0m \u001b[0mbox_coords\u001b[0m\u001b[1;33m\u001b[0m\u001b[1;33m\u001b[0m\u001b[0m\n",
      "\u001b[1;32mD:\\Sangwons_Room\\01_GitHubRepo\\BeSuper\\Research\\nuScenes\\utils\\custom_map_api_expansion.py\u001b[0m in \u001b[0;36mget_closest_layers\u001b[1;34m(self, layers, center_pose, patch, mode)\u001b[0m\n\u001b[0;32m     64\u001b[0m                 \u001b[0mlayer_coords\u001b[0m \u001b[1;33m=\u001b[0m \u001b[0mlist\u001b[0m\u001b[1;33m(\u001b[0m\u001b[0mmap\u001b[0m\u001b[1;33m(\u001b[0m\u001b[1;32mlambda\u001b[0m \u001b[0mx\u001b[0m\u001b[1;33m:\u001b[0m \u001b[0mself\u001b[0m\u001b[1;33m.\u001b[0m\u001b[0mget_polygon_bounds\u001b[0m\u001b[1;33m(\u001b[0m\u001b[0mlayer\u001b[0m\u001b[1;33m,\u001b[0m \u001b[0mx\u001b[0m\u001b[1;33m)\u001b[0m\u001b[1;33m,\u001b[0m \u001b[0mtoken_list\u001b[0m\u001b[1;33m)\u001b[0m\u001b[1;33m)\u001b[0m\u001b[1;33m\u001b[0m\u001b[1;33m\u001b[0m\u001b[0m\n\u001b[0;32m     65\u001b[0m \u001b[1;33m\u001b[0m\u001b[0m\n\u001b[1;32m---> 66\u001b[1;33m             \u001b[1;32melif\u001b[0m \u001b[0mlayer\u001b[0m \u001b[1;32min\u001b[0m \u001b[0mself\u001b[0m\u001b[1;33m.\u001b[0m\u001b[0mnon_geometric_line_layers\u001b[0m\u001b[1;33m:\u001b[0m\u001b[1;33m\u001b[0m\u001b[1;33m\u001b[0m\u001b[0m\n\u001b[0m\u001b[0;32m     67\u001b[0m                 \u001b[0mlayer_coords\u001b[0m \u001b[1;33m=\u001b[0m \u001b[0mlist\u001b[0m\u001b[1;33m(\u001b[0m\u001b[0mmap\u001b[0m\u001b[1;33m(\u001b[0m\u001b[1;32mlambda\u001b[0m \u001b[0mx\u001b[0m\u001b[1;33m:\u001b[0m \u001b[0mself\u001b[0m\u001b[1;33m.\u001b[0m\u001b[0mget_line_bounds\u001b[0m\u001b[1;33m(\u001b[0m\u001b[0mlayer\u001b[0m\u001b[1;33m,\u001b[0m \u001b[0mx\u001b[0m\u001b[1;33m)\u001b[0m\u001b[1;33m,\u001b[0m \u001b[0mtoken_list\u001b[0m\u001b[1;33m)\u001b[0m\u001b[1;33m)\u001b[0m\u001b[1;33m\u001b[0m\u001b[1;33m\u001b[0m\u001b[0m\n\u001b[0;32m     68\u001b[0m \u001b[1;33m\u001b[0m\u001b[0m\n",
      "\u001b[1;32mD:\\Sangwons_Room\\01_GitHubRepo\\BeSuper\\Research\\nuScenes\\utils\\custom_map_api_expansion.py\u001b[0m in \u001b[0;36m<lambda>\u001b[1;34m(x)\u001b[0m\n\u001b[0;32m     64\u001b[0m                 \u001b[0mlayer_coords\u001b[0m \u001b[1;33m=\u001b[0m \u001b[0mlist\u001b[0m\u001b[1;33m(\u001b[0m\u001b[0mmap\u001b[0m\u001b[1;33m(\u001b[0m\u001b[1;32mlambda\u001b[0m \u001b[0mx\u001b[0m\u001b[1;33m:\u001b[0m \u001b[0mself\u001b[0m\u001b[1;33m.\u001b[0m\u001b[0mget_polygon_bounds\u001b[0m\u001b[1;33m(\u001b[0m\u001b[0mlayer\u001b[0m\u001b[1;33m,\u001b[0m \u001b[0mx\u001b[0m\u001b[1;33m)\u001b[0m\u001b[1;33m,\u001b[0m \u001b[0mtoken_list\u001b[0m\u001b[1;33m)\u001b[0m\u001b[1;33m)\u001b[0m\u001b[1;33m\u001b[0m\u001b[1;33m\u001b[0m\u001b[0m\n\u001b[0;32m     65\u001b[0m \u001b[1;33m\u001b[0m\u001b[0m\n\u001b[1;32m---> 66\u001b[1;33m             \u001b[1;32melif\u001b[0m \u001b[0mlayer\u001b[0m \u001b[1;32min\u001b[0m \u001b[0mself\u001b[0m\u001b[1;33m.\u001b[0m\u001b[0mnon_geometric_line_layers\u001b[0m\u001b[1;33m:\u001b[0m\u001b[1;33m\u001b[0m\u001b[1;33m\u001b[0m\u001b[0m\n\u001b[0m\u001b[0;32m     67\u001b[0m                 \u001b[0mlayer_coords\u001b[0m \u001b[1;33m=\u001b[0m \u001b[0mlist\u001b[0m\u001b[1;33m(\u001b[0m\u001b[0mmap\u001b[0m\u001b[1;33m(\u001b[0m\u001b[1;32mlambda\u001b[0m \u001b[0mx\u001b[0m\u001b[1;33m:\u001b[0m \u001b[0mself\u001b[0m\u001b[1;33m.\u001b[0m\u001b[0mget_line_bounds\u001b[0m\u001b[1;33m(\u001b[0m\u001b[0mlayer\u001b[0m\u001b[1;33m,\u001b[0m \u001b[0mx\u001b[0m\u001b[1;33m)\u001b[0m\u001b[1;33m,\u001b[0m \u001b[0mtoken_list\u001b[0m\u001b[1;33m)\u001b[0m\u001b[1;33m)\u001b[0m\u001b[1;33m\u001b[0m\u001b[1;33m\u001b[0m\u001b[0m\n\u001b[0;32m     68\u001b[0m \u001b[1;33m\u001b[0m\u001b[0m\n",
      "\u001b[1;31mKeyboardInterrupt\u001b[0m: "
     ]
    }
   ],
   "source": [
    "train_loss_list = []\n",
    "valid_loss_list = []\n",
    "\n",
    "patience_count = 0\n",
    "min_valid_loss = np.inf\n",
    "checkpoint_name = \"\"\n",
    "\n",
    "if not os.path.isdir(f\"./models/{notebookName}/model-{num_files}_checkpoint/\"):\n",
    "    os.mkdir(f\"./models/{notebookName}/model-{num_files}_checkpoint/\")\n",
    "    \n",
    "prog_epoch = tqdm(range(0, nepochs), position = 0, desc = 'EPOCH')\n",
    "for epoch in prog_epoch:\n",
    "    print( \"-------------------------------------------------------\")\n",
    "    print(f\"|EPOCH: {epoch+1}/{nepochs}\")\n",
    "    prog_train = tqdm(train_loader, desc = 'TRAIN', leave = False)\n",
    "    prog_valid = tqdm(valid_loader, desc = 'VALID', leave = False)\n",
    "\n",
    "    train_loss = train(epoch, prog_train)\n",
    "    valid_loss = valid(prog_valid)\n",
    "    \n",
    "    if valid_loss < min_valid_loss:\n",
    "        print(f\"|{epoch+1}-th model is checked!, *model-{epoch}-{valid_loss}.pth*\")\n",
    "        min_valid_loss= valid_loss\n",
    "        checkpoint_name = f\"./models/{notebookName}/model-{num_files}_checkpoint/model-{epoch}-{valid_loss}.pth\"\n",
    "        torch.save(model.state_dict(), checkpoint_name)\n",
    "    else:\n",
    "        patience_count+=1\n",
    "        if(patience_count > max_patience_count):\n",
    "            break\n",
    "    \n",
    "    train_loss_list.append(train_loss)\n",
    "    valid_loss_list.append(valid_loss)\n",
    "    \n",
    "    print(f\"|TRAIN: loss={train_loss:.6f}|\")\n",
    "    print(f\"|VALID: loss={valid_loss:.6f}|\")\n",
    "\n",
    "\n",
    "history = dict()\n",
    "history['train_loss'] = train_loss_list\n",
    "history['valid_loss'] = valid_loss_list"
   ]
  },
  {
   "cell_type": "code",
   "execution_count": null,
   "metadata": {},
   "outputs": [],
   "source": [
    "plt.figure(figsize = (16,6))\n",
    "plt.subplot(2,1,1)\n",
    "plt.plot(history['train_loss'], label = 'train')\n",
    "plt.plot(history['valid_loss'], label = 'valid')\n",
    "plt.ylabel('loss')\n",
    "\n",
    "plt.subplot(2,1,2)\n",
    "plt.plot(history['train_score'], label = 'train')\n",
    "plt.plot(history['valid_score'], label = 'valid')\n",
    "plt.ylabel('gpsloss')"
   ]
  },
  {
   "cell_type": "code",
   "execution_count": null,
   "metadata": {},
   "outputs": [],
   "source": []
  }
 ],
 "metadata": {
  "hide_input": false,
  "kernelspec": {
   "display_name": "torch",
   "language": "python",
   "name": "torch"
  },
  "language_info": {
   "codemirror_mode": {
    "name": "ipython",
    "version": 3
   },
   "file_extension": ".py",
   "mimetype": "text/x-python",
   "name": "python",
   "nbconvert_exporter": "python",
   "pygments_lexer": "ipython3",
   "version": "3.6.12"
  },
  "latex_envs": {
   "LaTeX_envs_menu_present": true,
   "autoclose": false,
   "autocomplete": true,
   "bibliofile": "biblio.bib",
   "cite_by": "apalike",
   "current_citInitial": 1,
   "eqLabelWithNumbers": true,
   "eqNumInitial": 1,
   "hotkeys": {
    "equation": "Ctrl-E",
    "itemize": "Ctrl-I"
   },
   "labels_anchors": false,
   "latex_user_defs": false,
   "report_style_numbering": false,
   "user_envs_cfg": false
  },
  "toc": {
   "base_numbering": 1,
   "nav_menu": {},
   "number_sections": true,
   "sideBar": true,
   "skip_h1_title": false,
   "title_cell": "Table of Contents",
   "title_sidebar": "Contents",
   "toc_cell": false,
   "toc_position": {
    "height": "calc(100% - 180px)",
    "left": "10px",
    "top": "150px",
    "width": "384px"
   },
   "toc_section_display": true,
   "toc_window_display": true
  },
  "varInspector": {
   "cols": {
    "lenName": 16,
    "lenType": 16,
    "lenVar": 40
   },
   "kernels_config": {
    "python": {
     "delete_cmd_postfix": "",
     "delete_cmd_prefix": "del ",
     "library": "var_list.py",
     "varRefreshCmd": "print(var_dic_list())"
    },
    "r": {
     "delete_cmd_postfix": ") ",
     "delete_cmd_prefix": "rm(",
     "library": "var_list.r",
     "varRefreshCmd": "cat(var_dic_list()) "
    }
   },
   "types_to_exclude": [
    "module",
    "function",
    "builtin_function_or_method",
    "instance",
    "_Feature"
   ],
   "window_display": false
  }
 },
 "nbformat": 4,
 "nbformat_minor": 4
}
