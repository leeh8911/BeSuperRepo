{
 "cells": [
  {
   "cell_type": "markdown",
   "metadata": {},
   "source": [
    "# Hyper Parameters"
   ]
  },
  {
   "cell_type": "code",
   "execution_count": 1,
   "metadata": {
    "ExecuteTime": {
     "end_time": "2021-07-13T05:46:45.032163Z",
     "start_time": "2021-07-13T05:46:45.016161Z"
    }
   },
   "outputs": [],
   "source": [
    "notebookName = \"BaseModel\"\n",
    "nepochs = 10\n",
    "batch_size = 4\n",
    "learning_rate = 0.001\n",
    "\n",
    "SEED = 20180724\n",
    "class_names = [ 'road_block', 'walkway', 'road_divider', 'traffic_light']"
   ]
  },
  {
   "cell_type": "code",
   "execution_count": 2,
   "metadata": {
    "ExecuteTime": {
     "end_time": "2021-07-13T05:46:45.047161Z",
     "start_time": "2021-07-13T05:46:45.034163Z"
    }
   },
   "outputs": [],
   "source": [
    "LIDAR_PC_SHAPE = [4, 35000] # [x,y,z,intensity] x num_of_points\n",
    "MAP_OBJECT_SHAPE = [1, 30, 2] # num_of_objects x num_of_points x [x, y]"
   ]
  },
  {
   "cell_type": "markdown",
   "metadata": {},
   "source": [
    "# Base Setting"
   ]
  },
  {
   "cell_type": "code",
   "execution_count": null,
   "metadata": {
    "ExecuteTime": {
     "start_time": "2021-07-13T05:46:45.023Z"
    }
   },
   "outputs": [],
   "source": [
    "import os\n",
    "from pathlib import Path\n",
    "\n",
    "from nuscenes.nuscenes import NuScenes\n",
    "from utils.custom_lidar_api import CustomLidarApi\n",
    "from utils.custom_map_api_expansion import CustomNuScenesMap\n",
    "\n",
    "import numpy as np\n",
    "import pandas as pd\n",
    "import matplotlib.pyplot as plt\n",
    "import plotly.express as px\n",
    "import tqdm\n",
    "\n",
    "import torch\n",
    "import torch.nn as nn\n",
    "from torch.nn import Module\n",
    "import torch.optim as optim\n",
    "from torch.utils.data import Dataset\n",
    "from torch.utils.data import TensorDataset, DataLoader\n",
    "\n",
    "import warnings\n",
    "warnings.filterwarnings(action='ignore')\n",
    "\n",
    "%matplotlib inline "
   ]
  },
  {
   "cell_type": "code",
   "execution_count": null,
   "metadata": {
    "ExecuteTime": {
     "start_time": "2021-07-13T05:46:45.024Z"
    }
   },
   "outputs": [],
   "source": [
    "locations = ['singapore-onenorth', 'singapore-hollandvillage', 'singapore-queenstown', 'boston-seaport']\n",
    "version = 'v1.0-trainval'\n",
    "dataroot = 'E:/datasets/nuscenes'"
   ]
  },
  {
   "cell_type": "code",
   "execution_count": null,
   "metadata": {
    "ExecuteTime": {
     "start_time": "2021-07-13T05:46:45.025Z"
    }
   },
   "outputs": [],
   "source": [
    "bmtorch.manual_seed(SEED)"
   ]
  },
  {
   "cell_type": "code",
   "execution_count": null,
   "metadata": {
    "ExecuteTime": {
     "start_time": "2021-07-13T05:46:45.025Z"
    }
   },
   "outputs": [],
   "source": [
    "device = torch.device('cuda:0' if torch.cuda.is_available() else \"cpu\")\n",
    "print(device)"
   ]
  },
  {
   "cell_type": "code",
   "execution_count": null,
   "metadata": {
    "ExecuteTime": {
     "start_time": "2021-07-13T05:46:45.026Z"
    }
   },
   "outputs": [],
   "source": [
    "\n",
    "PATH = Path(f\"./models/{notebookName}\")\n",
    "if os.path.isdir(PATH):\n",
    "    dir_list = os.listdir(PATH)\n",
    "    num_files = 0\n",
    "    while True:\n",
    "        if os.path.isfile(str(PATH / f\"{num_files}\")):\n",
    "            print(num_files)\n",
    "            num_files += 1\n",
    "        else:\n",
    "            break\n",
    "else:\n",
    "    os.mkdir(PATH)\n",
    "    num_files = 0\n",
    "num_files"
   ]
  },
  {
   "cell_type": "code",
   "execution_count": null,
   "metadata": {
    "ExecuteTime": {
     "start_time": "2021-07-13T05:46:45.027Z"
    }
   },
   "outputs": [],
   "source": [
    "class_dict = dict()\n",
    "\n",
    "for i, name in enumerate(class_names):\n",
    "    class_dict[name] = i\n",
    "class_array = np.eye(len(class_names))"
   ]
  },
  {
   "cell_type": "code",
   "execution_count": null,
   "metadata": {
    "ExecuteTime": {
     "start_time": "2021-07-13T05:46:45.028Z"
    }
   },
   "outputs": [],
   "source": [
    "nusc = NuScenes(version=version, dataroot=dataroot, verbose=True)\n",
    "ldr_api = CustomLidarApi(nusc)\n",
    "\n",
    "map_api = dict([])\n",
    "for location in locations:\n",
    "    map_api[location] = CustomNuScenesMap(dataroot = dataroot, map_name= location)"
   ]
  },
  {
   "cell_type": "code",
   "execution_count": null,
   "metadata": {
    "ExecuteTime": {
     "start_time": "2021-07-13T05:46:45.028Z"
    },
    "scrolled": true
   },
   "outputs": [],
   "source": [
    "# get all sample token\n",
    "sample_tokens = []\n",
    "for scene in nusc.scene:\n",
    "    token = scene['first_sample_token']\n",
    "    while token != scene['last_sample_token']:\n",
    "        sample_tokens.append(token)\n",
    "        sample = nusc.get('sample', token)\n",
    "        token = sample['next']\n",
    "print(len(sample_tokens))"
   ]
  },
  {
   "cell_type": "code",
   "execution_count": null,
   "metadata": {
    "ExecuteTime": {
     "start_time": "2021-07-13T05:46:45.029Z"
    }
   },
   "outputs": [],
   "source": [
    "def train_val_split(sample_tokens, ratio = 0.1, shuffle = True):\n",
    "    index = np.array(range(len(sample_tokens)))\n",
    "    index = np.random.choice(index.shape[0], index.shape[0], replace = False)\n",
    "    \n",
    "    valid_num = int(index.shape[0] * ratio)\n",
    "    \n",
    "    valid_tokens = sample_tokens[:valid_num]\n",
    "    train_tokens = sample_tokens[valid_num:]\n",
    "    \n",
    "    return train_tokens, valid_tokens\n",
    "\n",
    "train_tokens, valid_tokens = train_val_split(sample_tokens)\n",
    "\n",
    "print(len(sample_tokens))\n",
    "print(len(train_tokens))\n",
    "print(len(valid_tokens))"
   ]
  },
  {
   "cell_type": "code",
   "execution_count": null,
   "metadata": {
    "ExecuteTime": {
     "start_time": "2021-07-13T05:46:45.030Z"
    },
    "scrolled": true
   },
   "outputs": [],
   "source": [
    "class NusceneDataset(Dataset):\n",
    "    def __init__(self, tokens, nusc, map_api, ldr_api, train = True):\n",
    "        self.tokens = tokens\n",
    "        self.nusc = nusc\n",
    "        self.map_api = map_api\n",
    "        self.ldr_api = ldr_api\n",
    "        self.train = train\n",
    "        \n",
    "        self.length = len(tokens)\n",
    "    def __len__(self):\n",
    "        return self.length\n",
    "    \n",
    "    def __getitem__(self, idx):\n",
    "        token = self.tokens[idx]\n",
    "        \n",
    "        sample = self.nusc.get('sample', token)\n",
    "        scene = self.nusc.get('scene', sample['scene_token'])\n",
    "        log_meta = self.nusc.get('log', scene['log_token'])\n",
    "        \n",
    "        location = log_meta['location']\n",
    "        sample_data = self.nusc.get('sample_data', sample['data']['LIDAR_TOP'])\n",
    "        \n",
    "        pc = self.ldr_api.get_lidar_from_keyframe(token, car_coord = True)\n",
    "        ego = self.ldr_api.get_egopose_from_keyframe(token)\n",
    "        cs = self.nusc.get('calibrated_sensor', sample_data['calibrated_sensor_token'])\n",
    "        structures = self.map_api[log_meta['location']].get_closest_structures(class_names, ego, global_coord=False)\n",
    "        \n",
    "        X = pc.points\n",
    "        if self.train:\n",
    "            classes, objects = self.get_label(structures)\n",
    "        else:\n",
    "            classes, objects = self.get_label(list())\n",
    "        \n",
    "        return X, classes, objects\n",
    "    \n",
    "    def get_label(self, structures):\n",
    "        classes = torch.zeros((64, 4))\n",
    "        objects = torch.zeros((64,30,2))\n",
    "        \n",
    "        for i, struct in enumerate(structures):\n",
    "            clas = struct['class']\n",
    "            nodes = struct['nodes']\n",
    "            \n",
    "            classes[i,:] = torch.Tensor(class_array[class_dict[clas], :])\n",
    "            objects[i,:,:] = torch.Tensor(nodes.reshape(1, 30, 2))\n",
    "        \n",
    "        return classes, objects\n",
    "        \n",
    "\n",
    "train_dataset = NusceneDataset(tokens = train_tokens, nusc = nusc, map_api = map_api, ldr_api = ldr_api)\n",
    "valid_dataset = NusceneDataset(tokens = valid_tokens, nusc = nusc, map_api = map_api, ldr_api = ldr_api)\n",
    "\n",
    "train_loader = DataLoader(train_dataset, batch_size = batch_size, shuffle = True)\n",
    "valid_loader = DataLoader(valid_dataset, batch_size = batch_size, shuffle = False)"
   ]
  },
  {
   "cell_type": "code",
   "execution_count": null,
   "metadata": {
    "ExecuteTime": {
     "start_time": "2021-07-13T05:46:45.030Z"
    }
   },
   "outputs": [],
   "source": [
    "class BaseModel(torch.nn.Module):\n",
    "    def __init__(self):\n",
    "        super().__init__()\n",
    "        pass\n",
    "    def forward(self, x):\n",
    "        return x"
   ]
  },
  {
   "cell_type": "code",
   "execution_count": null,
   "metadata": {
    "ExecuteTime": {
     "start_time": "2021-07-13T05:46:45.031Z"
    }
   },
   "outputs": [],
   "source": [
    "class BaseLoss(torch.nn.Module):\n",
    "    def __init__(self):\n",
    "        super().__init__()\n",
    "        pass\n",
    "    def forward(self, x):\n",
    "        return x"
   ]
  },
  {
   "cell_type": "code",
   "execution_count": null,
   "metadata": {
    "ExecuteTime": {
     "start_time": "2021-07-13T05:46:45.041Z"
    }
   },
   "outputs": [],
   "source": [
    "model = BaseModel()\n",
    "model.to(device)\n",
    "\n",
    "loss_func= BaseLoss()\n",
    "optimizer = optim.SGD(model.parameters())"
   ]
  },
  {
   "cell_type": "code",
   "execution_count": null,
   "metadata": {
    "ExecuteTime": {
     "start_time": "2021-07-13T05:46:45.041Z"
    }
   },
   "outputs": [],
   "source": [
    "def train(epoch, progress_log):\n",
    "    model.train()  # 신경망을 학습 모드로 전환\n",
    "\n",
    "    # 데이터로더에서 미니배치를 하나씩 꺼내 학습을 수행\n",
    "    mean_loss = 0\n",
    "    data_num = 0\n",
    "    \n",
    "    for X, c, y in progress_log:\n",
    "        \n",
    "        X = X.to(device)\n",
    "        c = c.to(device)\n",
    "        y = y.to(device)\n",
    "        \n",
    "        optimizer.zero_grad()  # 경사를 0으로 초기화\n",
    "        c_hat, y_hat = model(X)  # 데이터를 입력하고 출력을 계산\n",
    "        loss = loss_func(c_hat, y_hat, c, y)  # 출력과 훈련 데이터 정답 간의 오차를 계산\n",
    "        \n",
    "        loss.backward()  # 오차를 역전파 계산\n",
    "        optimizer.step()  # 역전파 계산한 값으로 가중치를 수정\n",
    "        \n",
    "        mean_loss += loss\n",
    "        data_num += X.shape[0]\n",
    "        \n",
    "    mean_loss /= data_num\n",
    "    \n",
    "    return mean_loss"
   ]
  },
  {
   "cell_type": "code",
   "execution_count": null,
   "metadata": {
    "ExecuteTime": {
     "start_time": "2021-07-13T05:46:45.042Z"
    }
   },
   "outputs": [],
   "source": [
    "def valid(epoch, progress_log):\n",
    "    model.eval()  # 신경망을 학습 모드로 전환\n",
    "\n",
    "    # 데이터로더에서 미니배치를 하나씩 꺼내 학습을 수행\n",
    "    mean_loss = 0\n",
    "    data_num = 0\n",
    "    \n",
    "    with torch.no_grad():\n",
    "        for X, c, y in progress_log:\n",
    "\n",
    "            X = X.to(device)\n",
    "            c = c.to(device)\n",
    "            y = y.to(device)\n",
    "\n",
    "            c_hat, y_hat = model(X)  # 데이터를 입력하고 출력을 계산\n",
    "            loss = loss_func(c_hat, y_hat, c, y)  # 출력과 훈련 데이터 정답 간의 오차를 계산\n",
    "\n",
    "            mean_loss += loss\n",
    "            data_num += X.shape[0]\n",
    "        \n",
    "    mean_loss /= data_num\n",
    "    \n",
    "    return mean_loss"
   ]
  },
  {
   "cell_type": "code",
   "execution_count": null,
   "metadata": {
    "ExecuteTime": {
     "start_time": "2021-07-13T05:46:45.043Z"
    }
   },
   "outputs": [],
   "source": [
    "def test(epoch, progress_log):\n",
    "    model.eval()  # 신경망을 학습 모드로 전환\n",
    "\n",
    "    # 데이터로더에서 미니배치를 하나씩 꺼내 학습을 수행\n",
    "    C_hat = []\n",
    "    Y_hat = []\n",
    "    \n",
    "    with torch.no_grad():\n",
    "        for X, _, _ in progress_log:\n",
    "\n",
    "            X = X.to(device)\n",
    "\n",
    "            c_hat, y_hat = model(X)  # 데이터를 입력하고 출력을 계산\n",
    "            C_hat.append(c_hat)\n",
    "            Y_hat.append(y_hat)\n",
    "        \n",
    "    C_hat = np.concatenate(C_hat)\n",
    "    Y_hat = np.concatenate(Y_hat)\n",
    "    \n",
    "    return C_hat, Y_hat"
   ]
  },
  {
   "cell_type": "code",
   "execution_count": null,
   "metadata": {
    "ExecuteTime": {
     "start_time": "2021-07-13T05:46:45.044Z"
    }
   },
   "outputs": [],
   "source": [
    "train_loss_list = []\n",
    "valid_loss_list = []\n",
    "\n",
    "patience_count = 0\n",
    "min_valid_loss = np.inf\n",
    "checkpoint_name = \"\"\n",
    "\n",
    "if not os.path.isdir(f\"./models/{notebookName}/model-{num_files}_checkpoint/\"):\n",
    "    os.mkdir(f\"./models/{notebookName}/model-{num_files}_checkpoint/\")\n",
    "    \n",
    "prog_epoch = tqdm(range(0, nepochs), position = 0, desc = 'EPOCH')\n",
    "for epoch in prog_epoch:\n",
    "    print( \"-------------------------------------------------------\")\n",
    "    print(f\"|EPOCH: {epoch+1}/{nepochs}\")\n",
    "    prog_train = tqdm(train_loader, desc = 'TRAIN', leave = False)\n",
    "    prog_valid = tqdm(valid_loader, desc = 'VALID', leave = False)\n",
    "\n",
    "    train_loss = train(epoch, prog_train)\n",
    "    valid_loss = valid(prog_valid)\n",
    "    \n",
    "    if valid_gpsscore < min_valid_score:\n",
    "        print(f\"|{epoch+1}-th model is checked!, *model-{epoch}-{valid_gpsscore}.pth*\")\n",
    "        min_valid_score= valid_gpsscore\n",
    "        checkpoint_name = f\"./models/{notebookName}/model-{num_files}_checkpoint/model-{epoch}-{valid_gpsscore}.pth\"\n",
    "        torch.save(model.state_dict(), checkpoint_name)\n",
    "    else:\n",
    "        patience_count+=1\n",
    "        if(patience_count > max_patience_count):\n",
    "            break\n",
    "    \n",
    "    train_loss_list.append(train_loss)\n",
    "    valid_loss_list.append(valid_loss)\n",
    "    \n",
    "    print(f\"|TRAIN: loss={train_loss:.6f}|\")\n",
    "    print(f\"|VALID: loss={valid_loss:.6f}|\")\n",
    "\n",
    "\n",
    "history = dict()\n",
    "history['train_loss'] = train_loss_list\n",
    "history['valid_loss'] = valid_loss_list"
   ]
  }
 ],
 "metadata": {
  "hide_input": false,
  "kernelspec": {
   "display_name": "torch",
   "language": "python",
   "name": "torch"
  },
  "language_info": {
   "codemirror_mode": {
    "name": "ipython",
    "version": 3
   },
   "file_extension": ".py",
   "mimetype": "text/x-python",
   "name": "python",
   "nbconvert_exporter": "python",
   "pygments_lexer": "ipython3",
   "version": "3.6.12"
  },
  "latex_envs": {
   "LaTeX_envs_menu_present": true,
   "autoclose": false,
   "autocomplete": true,
   "bibliofile": "biblio.bib",
   "cite_by": "apalike",
   "current_citInitial": 1,
   "eqLabelWithNumbers": true,
   "eqNumInitial": 1,
   "hotkeys": {
    "equation": "Ctrl-E",
    "itemize": "Ctrl-I"
   },
   "labels_anchors": false,
   "latex_user_defs": false,
   "report_style_numbering": false,
   "user_envs_cfg": false
  },
  "toc": {
   "base_numbering": 1,
   "nav_menu": {},
   "number_sections": true,
   "sideBar": true,
   "skip_h1_title": false,
   "title_cell": "Table of Contents",
   "title_sidebar": "Contents",
   "toc_cell": false,
   "toc_position": {
    "height": "calc(100% - 180px)",
    "left": "10px",
    "top": "150px",
    "width": "384px"
   },
   "toc_section_display": true,
   "toc_window_display": true
  },
  "varInspector": {
   "cols": {
    "lenName": 16,
    "lenType": 16,
    "lenVar": 40
   },
   "kernels_config": {
    "python": {
     "delete_cmd_postfix": "",
     "delete_cmd_prefix": "del ",
     "library": "var_list.py",
     "varRefreshCmd": "print(var_dic_list())"
    },
    "r": {
     "delete_cmd_postfix": ") ",
     "delete_cmd_prefix": "rm(",
     "library": "var_list.r",
     "varRefreshCmd": "cat(var_dic_list()) "
    }
   },
   "types_to_exclude": [
    "module",
    "function",
    "builtin_function_or_method",
    "instance",
    "_Feature"
   ],
   "window_display": false
  }
 },
 "nbformat": 4,
 "nbformat_minor": 4
}
