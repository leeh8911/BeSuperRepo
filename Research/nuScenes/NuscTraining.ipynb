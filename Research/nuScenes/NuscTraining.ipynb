{
 "cells": [
  {
   "cell_type": "markdown",
   "metadata": {},
   "source": [
    "# Hyper Parameters"
   ]
  },
  {
   "cell_type": "code",
   "execution_count": 1,
   "metadata": {
    "ExecuteTime": {
     "end_time": "2021-07-15T05:33:39.419715Z",
     "start_time": "2021-07-15T05:33:39.408711Z"
    }
   },
   "outputs": [],
   "source": [
    "notebookName = \"BaseModel\"\n",
    "nepochs = 10\n",
    "batch_size = 4\n",
    "learning_rate = 0.001\n",
    "\n",
    "SEED = 20180724\n",
    "target_layer = ['road_block', 'walkway', 'road_divider', 'traffic_light']\n",
    "class_names = ['None'] + target_layer\n",
    "MAX_OBJECTS = 1\n",
    "MAX_POINTS = 30\n",
    "MAX_POINT_CLOUDS = 1200"
   ]
  },
  {
   "cell_type": "code",
   "execution_count": 2,
   "metadata": {
    "ExecuteTime": {
     "end_time": "2021-07-15T05:33:39.434711Z",
     "start_time": "2021-07-15T05:33:39.421712Z"
    }
   },
   "outputs": [],
   "source": [
    "LIDAR_PC_SHAPE = [4, MAX_POINT_CLOUDS] # [x,y,z,intensity] x num_of_points\n",
    "MAP_OBJECT_SHAPE = [MAX_OBJECTS, MAX_POINTS, 2] # num_of_objects x num_of_points x [x, y]\n",
    "MAP_LAYER_SHAPE = [len(class_names), MAX_OBJECTS] # num_of_class x num_of_objects\n",
    "PATCH_SIZE = [-1, -1]"
   ]
  },
  {
   "cell_type": "markdown",
   "metadata": {},
   "source": [
    "# Base Setting"
   ]
  },
  {
   "cell_type": "code",
   "execution_count": 3,
   "metadata": {
    "ExecuteTime": {
     "end_time": "2021-07-15T05:33:53.674983Z",
     "start_time": "2021-07-15T05:33:39.436713Z"
    }
   },
   "outputs": [],
   "source": [
    "import os\n",
    "from pathlib import Path\n",
    "import time\n",
    "\n",
    "from nuscenes.nuscenes import NuScenes\n",
    "from utils.custom_lidar_api import CustomLidarApi\n",
    "from utils.custom_map_api_expansion import CustomNuScenesMap\n",
    "\n",
    "import numpy as np\n",
    "import pandas as pd\n",
    "import matplotlib.pyplot as plt\n",
    "import plotly.express as px\n",
    "from tqdm.notebook import tqdm\n",
    "\n",
    "import torch\n",
    "import torch.nn as nn\n",
    "from torch.nn import Module\n",
    "from torch.nn import functional as F\n",
    "import torch.optim as optim\n",
    "from torch.utils.data import Dataset\n",
    "from torch.utils.data import TensorDataset, DataLoader\n",
    "\n",
    "import warnings\n",
    "warnings.filterwarnings(action='ignore')\n",
    "\n",
    "%matplotlib inline "
   ]
  },
  {
   "cell_type": "code",
   "execution_count": 4,
   "metadata": {
    "ExecuteTime": {
     "end_time": "2021-07-15T05:33:53.690504Z",
     "start_time": "2021-07-15T05:33:53.676985Z"
    }
   },
   "outputs": [],
   "source": [
    "locations = ['singapore-onenorth', 'singapore-hollandvillage', 'singapore-queenstown', 'boston-seaport']\n",
    "version = 'v1.0-trainval'\n",
    "dataroot = 'E:/datasets/nuscenes'"
   ]
  },
  {
   "cell_type": "code",
   "execution_count": 5,
   "metadata": {
    "ExecuteTime": {
     "end_time": "2021-07-15T05:33:53.750785Z",
     "start_time": "2021-07-15T05:33:53.692506Z"
    }
   },
   "outputs": [],
   "source": [
    "torch.manual_seed(SEED)\n",
    "np.random.seed(SEED)"
   ]
  },
  {
   "cell_type": "code",
   "execution_count": 6,
   "metadata": {
    "ExecuteTime": {
     "end_time": "2021-07-15T05:33:53.825555Z",
     "start_time": "2021-07-15T05:33:53.751787Z"
    }
   },
   "outputs": [
    {
     "name": "stdout",
     "output_type": "stream",
     "text": [
      "cuda:0\n"
     ]
    }
   ],
   "source": [
    "device = torch.device('cuda:0' if torch.cuda.is_available() else \"cpu\")\n",
    "print(device)"
   ]
  },
  {
   "cell_type": "code",
   "execution_count": 7,
   "metadata": {
    "ExecuteTime": {
     "end_time": "2021-07-15T05:33:53.855554Z",
     "start_time": "2021-07-15T05:33:53.827555Z"
    }
   },
   "outputs": [
    {
     "data": {
      "text/plain": [
       "0"
      ]
     },
     "execution_count": 7,
     "metadata": {},
     "output_type": "execute_result"
    }
   ],
   "source": [
    "\n",
    "PATH = Path(f\"./models/{notebookName}\")\n",
    "if os.path.isdir(PATH):\n",
    "    dir_list = os.listdir(PATH)\n",
    "    num_files = 0\n",
    "    while True:\n",
    "        if os.path.isfile(str(PATH / f\"{num_files}\")):\n",
    "            print(num_files)\n",
    "            num_files += 1\n",
    "        else:\n",
    "            break\n",
    "else:\n",
    "    os.mkdir(PATH)\n",
    "    num_files = 0\n",
    "num_files"
   ]
  },
  {
   "cell_type": "code",
   "execution_count": 8,
   "metadata": {
    "ExecuteTime": {
     "end_time": "2021-07-15T05:33:53.870553Z",
     "start_time": "2021-07-15T05:33:53.857554Z"
    }
   },
   "outputs": [],
   "source": [
    "class_dict = dict()\n",
    "\n",
    "for i, name in enumerate(target_layer):\n",
    "    class_dict[name] = i+1\n",
    "class_array = np.eye(len(class_names))"
   ]
  },
  {
   "cell_type": "markdown",
   "metadata": {},
   "source": [
    "# Load Nusc, Map Api, and Ldr Api"
   ]
  },
  {
   "cell_type": "code",
   "execution_count": 9,
   "metadata": {
    "ExecuteTime": {
     "end_time": "2021-07-15T05:35:02.636044Z",
     "start_time": "2021-07-15T05:33:53.871555Z"
    },
    "scrolled": true
   },
   "outputs": [
    {
     "name": "stdout",
     "output_type": "stream",
     "text": [
      "======\n",
      "Loading NuScenes tables for version v1.0-trainval...\n",
      "Loading nuScenes-lidarseg...\n",
      "32 category,\n",
      "8 attribute,\n",
      "4 visibility,\n",
      "64386 instance,\n",
      "12 sensor,\n",
      "10200 calibrated_sensor,\n",
      "2631083 ego_pose,\n",
      "68 log,\n",
      "850 scene,\n",
      "34149 sample,\n",
      "2631083 sample_data,\n",
      "1166187 sample_annotation,\n",
      "4 map,\n",
      "34149 lidarseg,\n",
      "Done loading in 59.870 seconds.\n",
      "======\n",
      "Reverse indexing ...\n",
      "Done reverse indexing in 8.9 seconds.\n",
      "======\n"
     ]
    }
   ],
   "source": [
    "nusc = NuScenes(version=version, dataroot=dataroot, verbose=True)"
   ]
  },
  {
   "cell_type": "code",
   "execution_count": 10,
   "metadata": {
    "ExecuteTime": {
     "end_time": "2021-07-15T05:35:11.044276Z",
     "start_time": "2021-07-15T05:35:02.637045Z"
    },
    "scrolled": true
   },
   "outputs": [],
   "source": [
    "map_api = dict([])\n",
    "for location in locations:\n",
    "    map_api[location] = CustomNuScenesMap(dataroot = dataroot, map_name= location, target_layer_names=target_layer, max_objs=MAX_OBJECTS, max_points=MAX_POINTS)"
   ]
  },
  {
   "cell_type": "code",
   "execution_count": 11,
   "metadata": {
    "ExecuteTime": {
     "end_time": "2021-07-15T05:35:11.059277Z",
     "start_time": "2021-07-15T05:35:11.045277Z"
    }
   },
   "outputs": [],
   "source": [
    "ldr_api = CustomLidarApi(nusc)"
   ]
  },
  {
   "cell_type": "code",
   "execution_count": 12,
   "metadata": {
    "ExecuteTime": {
     "end_time": "2021-07-15T05:35:11.104804Z",
     "start_time": "2021-07-15T05:35:11.061277Z"
    },
    "scrolled": true
   },
   "outputs": [
    {
     "name": "stdout",
     "output_type": "stream",
     "text": [
      "33299\n"
     ]
    }
   ],
   "source": [
    "# get all sample token\n",
    "sample_tokens = []\n",
    "for scene in nusc.scene:\n",
    "    token = scene['first_sample_token']\n",
    "    while token != scene['last_sample_token']:\n",
    "        sample_tokens.append(token)\n",
    "        sample = nusc.get('sample', token)\n",
    "        token = sample['next']\n",
    "print(len(sample_tokens))"
   ]
  },
  {
   "cell_type": "code",
   "execution_count": 13,
   "metadata": {
    "ExecuteTime": {
     "end_time": "2021-07-15T05:35:11.149804Z",
     "start_time": "2021-07-15T05:35:11.105804Z"
    },
    "scrolled": true
   },
   "outputs": [
    {
     "name": "stdout",
     "output_type": "stream",
     "text": [
      "33299\n",
      "29970\n",
      "3329\n"
     ]
    }
   ],
   "source": [
    "def train_val_split(sample_tokens, ratio = 0.1, shuffle = True):\n",
    "    index = np.array(range(len(sample_tokens)))\n",
    "    index = np.random.choice(index.shape[0], index.shape[0], replace = False)\n",
    "    \n",
    "    valid_num = int(index.shape[0] * ratio)\n",
    "    \n",
    "    valid_tokens = sample_tokens[:valid_num]\n",
    "    train_tokens = sample_tokens[valid_num:]\n",
    "    \n",
    "    return train_tokens, valid_tokens\n",
    "\n",
    "train_tokens, valid_tokens = train_val_split(sample_tokens)\n",
    "\n",
    "print(len(sample_tokens))\n",
    "print(len(train_tokens))\n",
    "print(len(valid_tokens))"
   ]
  },
  {
   "cell_type": "markdown",
   "metadata": {},
   "source": [
    "# Customized Dataset"
   ]
  },
  {
   "cell_type": "code",
   "execution_count": 14,
   "metadata": {
    "ExecuteTime": {
     "end_time": "2021-07-15T05:35:11.179804Z",
     "start_time": "2021-07-15T05:35:11.151804Z"
    },
    "scrolled": true
   },
   "outputs": [],
   "source": [
    "# LIDAR_PC_SHAPE = [4, MAX_POINT_CLOUDS] # [x,y,z,intensity] x num_of_points\n",
    "# MAP_OBJECT_SHAPE = [MAX_OBJECTS, MAX_POINTS, 2] # num_of_objects x num_of_points x [x, y]\n",
    "# MAP_LAYER_SHAPE = [len(class_names), MAX_OBJECTS] # num_of_class x num_of_objects\n",
    "class NusceneDataset(Dataset):\n",
    "    def __init__(self, tokens, nusc, map_api, ldr_api, train = True):\n",
    "        self.tokens = tokens\n",
    "        self.nusc = nusc\n",
    "        self.map_api = map_api\n",
    "        self.ldr_api = ldr_api\n",
    "        self.train = train\n",
    "        \n",
    "        self.length = len(tokens)\n",
    "    def __len__(self):\n",
    "        return self.length\n",
    "    \n",
    "    def __getitem__(self, idx):\n",
    "        token = self.tokens[idx]\n",
    "        \n",
    "        sample = self.nusc.get('sample', token)\n",
    "        scene = self.nusc.get('scene', sample['scene_token'])\n",
    "        log_meta = self.nusc.get('log', scene['log_token'])\n",
    "        \n",
    "        location = log_meta['location']\n",
    "        sample_data = self.nusc.get('sample_data', sample['data']['LIDAR_TOP'])\n",
    "        \n",
    "        pc = self.ldr_api.get_lidar_from_keyframe(token, max_points = LIDAR_PC_SHAPE[1], car_coord = True)\n",
    "        ego = self.ldr_api.get_egopose_from_keyframe(token)\n",
    "        structures = self.map_api[log_meta['location']].get_closest_structures(ego, \\\n",
    "                                                                               patch = PATCH_SIZE,\\\n",
    "                                                                               global_coord=False, \\\n",
    "                                                                               mode = 'intersect'\\\n",
    "                                                                              )\n",
    "        if(len(structures) == 0):\n",
    "            print(log_meta['location'])\n",
    "            print(PATCH_SIZE)\n",
    "            print(token)\n",
    "            print(ego)\n",
    "            print(len(structures))\n",
    "            print(structures)\n",
    "            print(self.map_api[log_meta['location']].structures[:3])\n",
    "            print(self.map_api[log_meta['location']])\n",
    "        \n",
    "        X = torch.Tensor(pc.points)\n",
    "        if self.train:\n",
    "            classes, objects = self.get_label(structures)\n",
    "        else:\n",
    "            classes, objects = self.get_label(list())\n",
    "        \n",
    "        return X, classes, objects\n",
    "    \n",
    "    def get_label(self, structures):\n",
    "        classes = list(map(lambda x: torch.Tensor(class_array[class_dict[x[\"layer\"]], :]).reshape(MAP_LAYER_SHAPE[0], MAP_LAYER_SHAPE[1]), structures))\n",
    "        classes = torch.cat(classes, axis = 1)\n",
    "        \n",
    "        objects = list(map(lambda x: torch.Tensor(x['nodes'].reshape(MAP_OBJECT_SHAPE[0], MAP_OBJECT_SHAPE[1], MAP_OBJECT_SHAPE[2])), structures))\n",
    "        objects = torch.cat(objects, axis = 0)\n",
    "        \n",
    "        return classes, objects\n",
    "        \n",
    "\n",
    "train_dataset = NusceneDataset(tokens = train_tokens, nusc = nusc, map_api = map_api, ldr_api = ldr_api)\n",
    "valid_dataset = NusceneDataset(tokens = valid_tokens, nusc = nusc, map_api = map_api, ldr_api = ldr_api)\n",
    "\n",
    "train_loader = DataLoader(train_dataset, batch_size = batch_size, shuffle = True)\n",
    "valid_loader = DataLoader(valid_dataset, batch_size = batch_size, shuffle = False)"
   ]
  },
  {
   "cell_type": "code",
   "execution_count": 15,
   "metadata": {
    "ExecuteTime": {
     "end_time": "2021-07-15T05:35:11.194804Z",
     "start_time": "2021-07-15T05:35:11.181804Z"
    },
    "scrolled": false
   },
   "outputs": [],
   "source": [
    "# def get_label(structures):\n",
    "#     classes = list(map(lambda x: torch.Tensor(class_array[class_dict[x[\"class\"]], :]).reshape(MAP_LAYER_SHAPE[0], MAP_LAYER_SHAPE[1]), structures))\n",
    "#     classes = torch.cat(classes, axis = 1)\n",
    "\n",
    "#     objects = list(map(lambda x: torch.Tensor(x['nodes'].reshape(MAP_OBJECT_SHAPE[0], MAP_OBJECT_SHAPE[1], MAP_OBJECT_SHAPE[2])), structures))\n",
    "#     objects = torch.cat(objects, axis = 0)\n",
    "#     return classes, objects\n",
    "\n",
    "# %load_ext line_profiler\n",
    "\n",
    "# token = \"54ea5283e6d643b4b54fe489bd373c16\"\n",
    "\n",
    "# sample = nusc.get('sample', token)\n",
    "# scene = nusc.get('scene', sample['scene_token'])\n",
    "# log_meta = nusc.get('log', scene['log_token'])\n",
    "# location = log_meta['location']\n",
    "# sample_data = nusc.get('sample_data', sample['data']['LIDAR_TOP'])\n",
    "# pc = ldr_api.get_lidar_from_keyframe(token, max_points = LIDAR_PC_SHAPE[1], car_coord = True)\n",
    "# ego = ldr_api.get_egopose_from_keyframe(token)\n",
    "# mode = 'intersect'\n",
    "# %lprun -f  map_api[location].get_closest_structures map_api[location].get_closest_structures(ego, patch = [200, 200],mode = mode,global_coord=False)\n"
   ]
  },
  {
   "cell_type": "code",
   "execution_count": 16,
   "metadata": {
    "ExecuteTime": {
     "end_time": "2021-07-15T05:38:05.899136Z",
     "start_time": "2021-07-15T05:35:11.196806Z"
    },
    "scrolled": true
   },
   "outputs": [
    {
     "data": {
      "application/vnd.jupyter.widget-view+json": {
       "model_id": "8094fdbb6c0a448fabe63d94b8f44205",
       "version_major": 2,
       "version_minor": 0
      },
      "text/plain": [
       "  0%|          | 0/7493 [00:00<?, ?it/s]"
      ]
     },
     "metadata": {},
     "output_type": "display_data"
    },
    {
     "ename": "KeyboardInterrupt",
     "evalue": "",
     "output_type": "error",
     "traceback": [
      "\u001b[1;31m---------------------------------------------------------------------------\u001b[0m",
      "\u001b[1;31mKeyboardInterrupt\u001b[0m                         Traceback (most recent call last)",
      "\u001b[1;32m<ipython-input-16-b2fc8970e4c2>\u001b[0m in \u001b[0;36m<module>\u001b[1;34m\u001b[0m\n\u001b[1;32m----> 1\u001b[1;33m \u001b[1;32mfor\u001b[0m \u001b[0mX\u001b[0m\u001b[1;33m,\u001b[0m \u001b[0mc\u001b[0m\u001b[1;33m,\u001b[0m \u001b[0my\u001b[0m \u001b[1;32min\u001b[0m \u001b[0mtqdm\u001b[0m\u001b[1;33m(\u001b[0m\u001b[0mtrain_loader\u001b[0m\u001b[1;33m)\u001b[0m\u001b[1;33m:\u001b[0m\u001b[1;33m\u001b[0m\u001b[1;33m\u001b[0m\u001b[0m\n\u001b[0m\u001b[0;32m      2\u001b[0m     \u001b[1;32mpass\u001b[0m\u001b[1;33m\u001b[0m\u001b[1;33m\u001b[0m\u001b[0m\n",
      "\u001b[1;32mD:\\Sangwons_Room\\00_SoftWares\\Anaconda\\envs\\torch\\lib\\site-packages\\tqdm\\notebook.py\u001b[0m in \u001b[0;36m__iter__\u001b[1;34m(self)\u001b[0m\n\u001b[0;32m    252\u001b[0m     \u001b[1;32mdef\u001b[0m \u001b[0m__iter__\u001b[0m\u001b[1;33m(\u001b[0m\u001b[0mself\u001b[0m\u001b[1;33m)\u001b[0m\u001b[1;33m:\u001b[0m\u001b[1;33m\u001b[0m\u001b[1;33m\u001b[0m\u001b[0m\n\u001b[0;32m    253\u001b[0m         \u001b[1;32mtry\u001b[0m\u001b[1;33m:\u001b[0m\u001b[1;33m\u001b[0m\u001b[1;33m\u001b[0m\u001b[0m\n\u001b[1;32m--> 254\u001b[1;33m             \u001b[1;32mfor\u001b[0m \u001b[0mobj\u001b[0m \u001b[1;32min\u001b[0m \u001b[0msuper\u001b[0m\u001b[1;33m(\u001b[0m\u001b[0mtqdm_notebook\u001b[0m\u001b[1;33m,\u001b[0m \u001b[0mself\u001b[0m\u001b[1;33m)\u001b[0m\u001b[1;33m.\u001b[0m\u001b[0m__iter__\u001b[0m\u001b[1;33m(\u001b[0m\u001b[1;33m)\u001b[0m\u001b[1;33m:\u001b[0m\u001b[1;33m\u001b[0m\u001b[1;33m\u001b[0m\u001b[0m\n\u001b[0m\u001b[0;32m    255\u001b[0m                 \u001b[1;31m# return super(tqdm...) will not catch exception\u001b[0m\u001b[1;33m\u001b[0m\u001b[1;33m\u001b[0m\u001b[1;33m\u001b[0m\u001b[0m\n\u001b[0;32m    256\u001b[0m                 \u001b[1;32myield\u001b[0m \u001b[0mobj\u001b[0m\u001b[1;33m\u001b[0m\u001b[1;33m\u001b[0m\u001b[0m\n",
      "\u001b[1;32mD:\\Sangwons_Room\\00_SoftWares\\Anaconda\\envs\\torch\\lib\\site-packages\\tqdm\\std.py\u001b[0m in \u001b[0;36m__iter__\u001b[1;34m(self)\u001b[0m\n\u001b[0;32m   1176\u001b[0m \u001b[1;33m\u001b[0m\u001b[0m\n\u001b[0;32m   1177\u001b[0m         \u001b[1;32mtry\u001b[0m\u001b[1;33m:\u001b[0m\u001b[1;33m\u001b[0m\u001b[1;33m\u001b[0m\u001b[0m\n\u001b[1;32m-> 1178\u001b[1;33m             \u001b[1;32mfor\u001b[0m \u001b[0mobj\u001b[0m \u001b[1;32min\u001b[0m \u001b[0miterable\u001b[0m\u001b[1;33m:\u001b[0m\u001b[1;33m\u001b[0m\u001b[1;33m\u001b[0m\u001b[0m\n\u001b[0m\u001b[0;32m   1179\u001b[0m                 \u001b[1;32myield\u001b[0m \u001b[0mobj\u001b[0m\u001b[1;33m\u001b[0m\u001b[1;33m\u001b[0m\u001b[0m\n\u001b[0;32m   1180\u001b[0m                 \u001b[1;31m# Update and possibly print the progressbar.\u001b[0m\u001b[1;33m\u001b[0m\u001b[1;33m\u001b[0m\u001b[1;33m\u001b[0m\u001b[0m\n",
      "\u001b[1;32mD:\\Sangwons_Room\\00_SoftWares\\Anaconda\\envs\\torch\\lib\\site-packages\\torch\\utils\\data\\dataloader.py\u001b[0m in \u001b[0;36m__next__\u001b[1;34m(self)\u001b[0m\n\u001b[0;32m    519\u001b[0m             \u001b[1;32mif\u001b[0m \u001b[0mself\u001b[0m\u001b[1;33m.\u001b[0m\u001b[0m_sampler_iter\u001b[0m \u001b[1;32mis\u001b[0m \u001b[1;32mNone\u001b[0m\u001b[1;33m:\u001b[0m\u001b[1;33m\u001b[0m\u001b[1;33m\u001b[0m\u001b[0m\n\u001b[0;32m    520\u001b[0m                 \u001b[0mself\u001b[0m\u001b[1;33m.\u001b[0m\u001b[0m_reset\u001b[0m\u001b[1;33m(\u001b[0m\u001b[1;33m)\u001b[0m\u001b[1;33m\u001b[0m\u001b[1;33m\u001b[0m\u001b[0m\n\u001b[1;32m--> 521\u001b[1;33m             \u001b[0mdata\u001b[0m \u001b[1;33m=\u001b[0m \u001b[0mself\u001b[0m\u001b[1;33m.\u001b[0m\u001b[0m_next_data\u001b[0m\u001b[1;33m(\u001b[0m\u001b[1;33m)\u001b[0m\u001b[1;33m\u001b[0m\u001b[1;33m\u001b[0m\u001b[0m\n\u001b[0m\u001b[0;32m    522\u001b[0m             \u001b[0mself\u001b[0m\u001b[1;33m.\u001b[0m\u001b[0m_num_yielded\u001b[0m \u001b[1;33m+=\u001b[0m \u001b[1;36m1\u001b[0m\u001b[1;33m\u001b[0m\u001b[1;33m\u001b[0m\u001b[0m\n\u001b[0;32m    523\u001b[0m             \u001b[1;32mif\u001b[0m \u001b[0mself\u001b[0m\u001b[1;33m.\u001b[0m\u001b[0m_dataset_kind\u001b[0m \u001b[1;33m==\u001b[0m \u001b[0m_DatasetKind\u001b[0m\u001b[1;33m.\u001b[0m\u001b[0mIterable\u001b[0m \u001b[1;32mand\u001b[0m\u001b[0;31m \u001b[0m\u001b[0;31m\\\u001b[0m\u001b[1;33m\u001b[0m\u001b[1;33m\u001b[0m\u001b[0m\n",
      "\u001b[1;32mD:\\Sangwons_Room\\00_SoftWares\\Anaconda\\envs\\torch\\lib\\site-packages\\torch\\utils\\data\\dataloader.py\u001b[0m in \u001b[0;36m_next_data\u001b[1;34m(self)\u001b[0m\n\u001b[0;32m    559\u001b[0m     \u001b[1;32mdef\u001b[0m \u001b[0m_next_data\u001b[0m\u001b[1;33m(\u001b[0m\u001b[0mself\u001b[0m\u001b[1;33m)\u001b[0m\u001b[1;33m:\u001b[0m\u001b[1;33m\u001b[0m\u001b[1;33m\u001b[0m\u001b[0m\n\u001b[0;32m    560\u001b[0m         \u001b[0mindex\u001b[0m \u001b[1;33m=\u001b[0m \u001b[0mself\u001b[0m\u001b[1;33m.\u001b[0m\u001b[0m_next_index\u001b[0m\u001b[1;33m(\u001b[0m\u001b[1;33m)\u001b[0m  \u001b[1;31m# may raise StopIteration\u001b[0m\u001b[1;33m\u001b[0m\u001b[1;33m\u001b[0m\u001b[0m\n\u001b[1;32m--> 561\u001b[1;33m         \u001b[0mdata\u001b[0m \u001b[1;33m=\u001b[0m \u001b[0mself\u001b[0m\u001b[1;33m.\u001b[0m\u001b[0m_dataset_fetcher\u001b[0m\u001b[1;33m.\u001b[0m\u001b[0mfetch\u001b[0m\u001b[1;33m(\u001b[0m\u001b[0mindex\u001b[0m\u001b[1;33m)\u001b[0m  \u001b[1;31m# may raise StopIteration\u001b[0m\u001b[1;33m\u001b[0m\u001b[1;33m\u001b[0m\u001b[0m\n\u001b[0m\u001b[0;32m    562\u001b[0m         \u001b[1;32mif\u001b[0m \u001b[0mself\u001b[0m\u001b[1;33m.\u001b[0m\u001b[0m_pin_memory\u001b[0m\u001b[1;33m:\u001b[0m\u001b[1;33m\u001b[0m\u001b[1;33m\u001b[0m\u001b[0m\n\u001b[0;32m    563\u001b[0m             \u001b[0mdata\u001b[0m \u001b[1;33m=\u001b[0m \u001b[0m_utils\u001b[0m\u001b[1;33m.\u001b[0m\u001b[0mpin_memory\u001b[0m\u001b[1;33m.\u001b[0m\u001b[0mpin_memory\u001b[0m\u001b[1;33m(\u001b[0m\u001b[0mdata\u001b[0m\u001b[1;33m)\u001b[0m\u001b[1;33m\u001b[0m\u001b[1;33m\u001b[0m\u001b[0m\n",
      "\u001b[1;32mD:\\Sangwons_Room\\00_SoftWares\\Anaconda\\envs\\torch\\lib\\site-packages\\torch\\utils\\data\\_utils\\fetch.py\u001b[0m in \u001b[0;36mfetch\u001b[1;34m(self, possibly_batched_index)\u001b[0m\n\u001b[0;32m     42\u001b[0m     \u001b[1;32mdef\u001b[0m \u001b[0mfetch\u001b[0m\u001b[1;33m(\u001b[0m\u001b[0mself\u001b[0m\u001b[1;33m,\u001b[0m \u001b[0mpossibly_batched_index\u001b[0m\u001b[1;33m)\u001b[0m\u001b[1;33m:\u001b[0m\u001b[1;33m\u001b[0m\u001b[1;33m\u001b[0m\u001b[0m\n\u001b[0;32m     43\u001b[0m         \u001b[1;32mif\u001b[0m \u001b[0mself\u001b[0m\u001b[1;33m.\u001b[0m\u001b[0mauto_collation\u001b[0m\u001b[1;33m:\u001b[0m\u001b[1;33m\u001b[0m\u001b[1;33m\u001b[0m\u001b[0m\n\u001b[1;32m---> 44\u001b[1;33m             \u001b[0mdata\u001b[0m \u001b[1;33m=\u001b[0m \u001b[1;33m[\u001b[0m\u001b[0mself\u001b[0m\u001b[1;33m.\u001b[0m\u001b[0mdataset\u001b[0m\u001b[1;33m[\u001b[0m\u001b[0midx\u001b[0m\u001b[1;33m]\u001b[0m \u001b[1;32mfor\u001b[0m \u001b[0midx\u001b[0m \u001b[1;32min\u001b[0m \u001b[0mpossibly_batched_index\u001b[0m\u001b[1;33m]\u001b[0m\u001b[1;33m\u001b[0m\u001b[1;33m\u001b[0m\u001b[0m\n\u001b[0m\u001b[0;32m     45\u001b[0m         \u001b[1;32melse\u001b[0m\u001b[1;33m:\u001b[0m\u001b[1;33m\u001b[0m\u001b[1;33m\u001b[0m\u001b[0m\n\u001b[0;32m     46\u001b[0m             \u001b[0mdata\u001b[0m \u001b[1;33m=\u001b[0m \u001b[0mself\u001b[0m\u001b[1;33m.\u001b[0m\u001b[0mdataset\u001b[0m\u001b[1;33m[\u001b[0m\u001b[0mpossibly_batched_index\u001b[0m\u001b[1;33m]\u001b[0m\u001b[1;33m\u001b[0m\u001b[1;33m\u001b[0m\u001b[0m\n",
      "\u001b[1;32mD:\\Sangwons_Room\\00_SoftWares\\Anaconda\\envs\\torch\\lib\\site-packages\\torch\\utils\\data\\_utils\\fetch.py\u001b[0m in \u001b[0;36m<listcomp>\u001b[1;34m(.0)\u001b[0m\n\u001b[0;32m     42\u001b[0m     \u001b[1;32mdef\u001b[0m \u001b[0mfetch\u001b[0m\u001b[1;33m(\u001b[0m\u001b[0mself\u001b[0m\u001b[1;33m,\u001b[0m \u001b[0mpossibly_batched_index\u001b[0m\u001b[1;33m)\u001b[0m\u001b[1;33m:\u001b[0m\u001b[1;33m\u001b[0m\u001b[1;33m\u001b[0m\u001b[0m\n\u001b[0;32m     43\u001b[0m         \u001b[1;32mif\u001b[0m \u001b[0mself\u001b[0m\u001b[1;33m.\u001b[0m\u001b[0mauto_collation\u001b[0m\u001b[1;33m:\u001b[0m\u001b[1;33m\u001b[0m\u001b[1;33m\u001b[0m\u001b[0m\n\u001b[1;32m---> 44\u001b[1;33m             \u001b[0mdata\u001b[0m \u001b[1;33m=\u001b[0m \u001b[1;33m[\u001b[0m\u001b[0mself\u001b[0m\u001b[1;33m.\u001b[0m\u001b[0mdataset\u001b[0m\u001b[1;33m[\u001b[0m\u001b[0midx\u001b[0m\u001b[1;33m]\u001b[0m \u001b[1;32mfor\u001b[0m \u001b[0midx\u001b[0m \u001b[1;32min\u001b[0m \u001b[0mpossibly_batched_index\u001b[0m\u001b[1;33m]\u001b[0m\u001b[1;33m\u001b[0m\u001b[1;33m\u001b[0m\u001b[0m\n\u001b[0m\u001b[0;32m     45\u001b[0m         \u001b[1;32melse\u001b[0m\u001b[1;33m:\u001b[0m\u001b[1;33m\u001b[0m\u001b[1;33m\u001b[0m\u001b[0m\n\u001b[0;32m     46\u001b[0m             \u001b[0mdata\u001b[0m \u001b[1;33m=\u001b[0m \u001b[0mself\u001b[0m\u001b[1;33m.\u001b[0m\u001b[0mdataset\u001b[0m\u001b[1;33m[\u001b[0m\u001b[0mpossibly_batched_index\u001b[0m\u001b[1;33m]\u001b[0m\u001b[1;33m\u001b[0m\u001b[1;33m\u001b[0m\u001b[0m\n",
      "\u001b[1;32m<ipython-input-14-0c5470929844>\u001b[0m in \u001b[0;36m__getitem__\u001b[1;34m(self, idx)\u001b[0m\n\u001b[0;32m     24\u001b[0m         \u001b[0msample_data\u001b[0m \u001b[1;33m=\u001b[0m \u001b[0mself\u001b[0m\u001b[1;33m.\u001b[0m\u001b[0mnusc\u001b[0m\u001b[1;33m.\u001b[0m\u001b[0mget\u001b[0m\u001b[1;33m(\u001b[0m\u001b[1;34m'sample_data'\u001b[0m\u001b[1;33m,\u001b[0m \u001b[0msample\u001b[0m\u001b[1;33m[\u001b[0m\u001b[1;34m'data'\u001b[0m\u001b[1;33m]\u001b[0m\u001b[1;33m[\u001b[0m\u001b[1;34m'LIDAR_TOP'\u001b[0m\u001b[1;33m]\u001b[0m\u001b[1;33m)\u001b[0m\u001b[1;33m\u001b[0m\u001b[1;33m\u001b[0m\u001b[0m\n\u001b[0;32m     25\u001b[0m \u001b[1;33m\u001b[0m\u001b[0m\n\u001b[1;32m---> 26\u001b[1;33m         \u001b[0mpc\u001b[0m \u001b[1;33m=\u001b[0m \u001b[0mself\u001b[0m\u001b[1;33m.\u001b[0m\u001b[0mldr_api\u001b[0m\u001b[1;33m.\u001b[0m\u001b[0mget_lidar_from_keyframe\u001b[0m\u001b[1;33m(\u001b[0m\u001b[0mtoken\u001b[0m\u001b[1;33m,\u001b[0m \u001b[0mmax_points\u001b[0m \u001b[1;33m=\u001b[0m \u001b[0mLIDAR_PC_SHAPE\u001b[0m\u001b[1;33m[\u001b[0m\u001b[1;36m1\u001b[0m\u001b[1;33m]\u001b[0m\u001b[1;33m,\u001b[0m \u001b[0mcar_coord\u001b[0m \u001b[1;33m=\u001b[0m \u001b[1;32mTrue\u001b[0m\u001b[1;33m)\u001b[0m\u001b[1;33m\u001b[0m\u001b[1;33m\u001b[0m\u001b[0m\n\u001b[0m\u001b[0;32m     27\u001b[0m         \u001b[0mego\u001b[0m \u001b[1;33m=\u001b[0m \u001b[0mself\u001b[0m\u001b[1;33m.\u001b[0m\u001b[0mldr_api\u001b[0m\u001b[1;33m.\u001b[0m\u001b[0mget_egopose_from_keyframe\u001b[0m\u001b[1;33m(\u001b[0m\u001b[0mtoken\u001b[0m\u001b[1;33m)\u001b[0m\u001b[1;33m\u001b[0m\u001b[1;33m\u001b[0m\u001b[0m\n\u001b[0;32m     28\u001b[0m         structures = self.map_api[log_meta['location']].get_closest_structures(ego, \\\n",
      "\u001b[1;32mD:\\Sangwons_Room\\01_GitHubRepo\\BeSuper\\Research\\nuScenes\\utils\\custom_lidar_api.py\u001b[0m in \u001b[0;36mget_lidar_from_keyframe\u001b[1;34m(self, token, max_points, car_coord)\u001b[0m\n\u001b[0;32m     30\u001b[0m         \u001b[0mpcl_path\u001b[0m \u001b[1;33m=\u001b[0m \u001b[0mos\u001b[0m\u001b[1;33m.\u001b[0m\u001b[0mpath\u001b[0m\u001b[1;33m.\u001b[0m\u001b[0mjoin\u001b[0m\u001b[1;33m(\u001b[0m\u001b[0mself\u001b[0m\u001b[1;33m.\u001b[0m\u001b[0mnusc\u001b[0m\u001b[1;33m.\u001b[0m\u001b[0mdataroot\u001b[0m\u001b[1;33m,\u001b[0m \u001b[0mself\u001b[0m\u001b[1;33m.\u001b[0m\u001b[0mdata\u001b[0m\u001b[1;33m[\u001b[0m\u001b[1;34m'filename'\u001b[0m\u001b[1;33m]\u001b[0m\u001b[1;33m)\u001b[0m\u001b[1;33m\u001b[0m\u001b[1;33m\u001b[0m\u001b[0m\n\u001b[0;32m     31\u001b[0m \u001b[1;33m\u001b[0m\u001b[0m\n\u001b[1;32m---> 32\u001b[1;33m         \u001b[0mpc\u001b[0m \u001b[1;33m=\u001b[0m \u001b[0mLidarPointCloud\u001b[0m\u001b[1;33m.\u001b[0m\u001b[0mfrom_file\u001b[0m\u001b[1;33m(\u001b[0m\u001b[0mpcl_path\u001b[0m\u001b[1;33m)\u001b[0m\u001b[1;33m\u001b[0m\u001b[1;33m\u001b[0m\u001b[0m\n\u001b[0m\u001b[0;32m     33\u001b[0m         \u001b[0mpc\u001b[0m \u001b[1;33m=\u001b[0m \u001b[0mself\u001b[0m\u001b[1;33m.\u001b[0m\u001b[0mabstract_point_cloud\u001b[0m\u001b[1;33m(\u001b[0m\u001b[0mpc\u001b[0m\u001b[1;33m,\u001b[0m \u001b[0mmax_points\u001b[0m\u001b[1;33m)\u001b[0m\u001b[1;33m\u001b[0m\u001b[1;33m\u001b[0m\u001b[0m\n\u001b[0;32m     34\u001b[0m \u001b[1;33m\u001b[0m\u001b[0m\n",
      "\u001b[1;32mD:\\Sangwons_Room\\00_SoftWares\\Anaconda\\envs\\torch\\lib\\site-packages\\nuscenes\\utils\\data_classes.py\u001b[0m in \u001b[0;36mfrom_file\u001b[1;34m(cls, file_name)\u001b[0m\n\u001b[0;32m    252\u001b[0m         \u001b[1;32massert\u001b[0m \u001b[0mfile_name\u001b[0m\u001b[1;33m.\u001b[0m\u001b[0mendswith\u001b[0m\u001b[1;33m(\u001b[0m\u001b[1;34m'.bin'\u001b[0m\u001b[1;33m)\u001b[0m\u001b[1;33m,\u001b[0m \u001b[1;34m'Unsupported filetype {}'\u001b[0m\u001b[1;33m.\u001b[0m\u001b[0mformat\u001b[0m\u001b[1;33m(\u001b[0m\u001b[0mfile_name\u001b[0m\u001b[1;33m)\u001b[0m\u001b[1;33m\u001b[0m\u001b[1;33m\u001b[0m\u001b[0m\n\u001b[0;32m    253\u001b[0m \u001b[1;33m\u001b[0m\u001b[0m\n\u001b[1;32m--> 254\u001b[1;33m         \u001b[0mscan\u001b[0m \u001b[1;33m=\u001b[0m \u001b[0mnp\u001b[0m\u001b[1;33m.\u001b[0m\u001b[0mfromfile\u001b[0m\u001b[1;33m(\u001b[0m\u001b[0mfile_name\u001b[0m\u001b[1;33m,\u001b[0m \u001b[0mdtype\u001b[0m\u001b[1;33m=\u001b[0m\u001b[0mnp\u001b[0m\u001b[1;33m.\u001b[0m\u001b[0mfloat32\u001b[0m\u001b[1;33m)\u001b[0m\u001b[1;33m\u001b[0m\u001b[1;33m\u001b[0m\u001b[0m\n\u001b[0m\u001b[0;32m    255\u001b[0m         \u001b[0mpoints\u001b[0m \u001b[1;33m=\u001b[0m \u001b[0mscan\u001b[0m\u001b[1;33m.\u001b[0m\u001b[0mreshape\u001b[0m\u001b[1;33m(\u001b[0m\u001b[1;33m(\u001b[0m\u001b[1;33m-\u001b[0m\u001b[1;36m1\u001b[0m\u001b[1;33m,\u001b[0m \u001b[1;36m5\u001b[0m\u001b[1;33m)\u001b[0m\u001b[1;33m)\u001b[0m\u001b[1;33m[\u001b[0m\u001b[1;33m:\u001b[0m\u001b[1;33m,\u001b[0m \u001b[1;33m:\u001b[0m\u001b[0mcls\u001b[0m\u001b[1;33m.\u001b[0m\u001b[0mnbr_dims\u001b[0m\u001b[1;33m(\u001b[0m\u001b[1;33m)\u001b[0m\u001b[1;33m]\u001b[0m\u001b[1;33m\u001b[0m\u001b[1;33m\u001b[0m\u001b[0m\n\u001b[0;32m    256\u001b[0m         \u001b[1;32mreturn\u001b[0m \u001b[0mcls\u001b[0m\u001b[1;33m(\u001b[0m\u001b[0mpoints\u001b[0m\u001b[1;33m.\u001b[0m\u001b[0mT\u001b[0m\u001b[1;33m)\u001b[0m\u001b[1;33m\u001b[0m\u001b[1;33m\u001b[0m\u001b[0m\n",
      "\u001b[1;31mKeyboardInterrupt\u001b[0m: "
     ]
    }
   ],
   "source": [
    "for X, c, y in tqdm(train_loader):\n",
    "    pass"
   ]
  },
  {
   "cell_type": "markdown",
   "metadata": {},
   "source": [
    "# Model"
   ]
  },
  {
   "cell_type": "code",
   "execution_count": 17,
   "metadata": {
    "ExecuteTime": {
     "end_time": "2021-07-15T05:38:07.689803Z",
     "start_time": "2021-07-15T05:38:07.672803Z"
    }
   },
   "outputs": [],
   "source": [
    "# LIDAR_PC_SHAPE = [4, MAX_POINT_CLOUDS] # [x,y,z,intensity] x num_of_points\n",
    "# MAP_OBJECT_SHAPE = [MAX_OBJECTS, MAX_POINTS, 2] # num_of_objects x num_of_points x [x, y]\n",
    "# MAP_LAYER_SHAPE = [len(class_names), MAX_OBJECTS] # num_of_class x num_of_objects\n",
    "class BaseModel(torch.nn.Module):\n",
    "    def __init__(self, input_shape = [4, 3500], class_shape = [4, 1], object_shape = [1, 30, 2]):\n",
    "        super().__init__()\n",
    "        self.input_shape =input_shape\n",
    "        self.object_shape = object_shape\n",
    "        self.class_shape = class_shape\n",
    "        \n",
    "        self.conv1 = nn.Conv1d(input_shape[0], 64, kernel_size=1)\n",
    "        self.batch1 = nn.BatchNorm1d(64)\n",
    "        \n",
    "        self.conv2 = nn.Conv1d(64, 64, kernel_size=1)\n",
    "        self.batch2 = nn.BatchNorm1d(64)\n",
    "        \n",
    "        self.fc1 = nn.Linear(64 * input_shape[1], 1024)\n",
    "        self.fc2 = nn.Linear(1024, 512)\n",
    "        \n",
    "        self.fc_obj = nn.Linear(512, np.prod(object_shape))\n",
    "        self.fc_cls = nn.Linear(512, np.prod(class_shape))\n",
    "        \n",
    "    def forward(self, x):\n",
    "        input_shape = self.input_shape\n",
    "        object_shape = self.object_shape\n",
    "        class_shape = self.class_shape\n",
    "        \n",
    "        x = self.conv1(x)\n",
    "        x = F.relu(x)\n",
    "        x = self.batch1(x)\n",
    "        \n",
    "        x = self.conv2(x)\n",
    "        x = F.relu(x)\n",
    "        x = self.batch2(x)\n",
    "        \n",
    "        x = x.reshape(-1, input_shape[1] * 64)\n",
    "        \n",
    "        x = self.fc1(x)\n",
    "        x = F.relu(x)\n",
    "        \n",
    "        x = self.fc2(x)\n",
    "        x = F.relu(x)\n",
    "        \n",
    "        obj_ = self.fc_obj(x)\n",
    "        cls_ = self.fc_cls(x)\n",
    "        \n",
    "        obj_ = obj_.reshape(-1, object_shape[0], object_shape[1], object_shape[2])\n",
    "        cls_ = cls_.reshape(-1, class_shape[0], class_shape[1])\n",
    "        return cls_, obj_"
   ]
  },
  {
   "cell_type": "markdown",
   "metadata": {},
   "source": [
    "# Loss"
   ]
  },
  {
   "cell_type": "code",
   "execution_count": 18,
   "metadata": {
    "ExecuteTime": {
     "end_time": "2021-07-15T05:38:08.399087Z",
     "start_time": "2021-07-15T05:38:08.384088Z"
    }
   },
   "outputs": [],
   "source": [
    "class BaseLoss(torch.nn.Module):\n",
    "    def __init__(self):\n",
    "        super().__init__()\n",
    "        \n",
    "        self.pose_loss = nn.MSELoss()\n",
    "        self.class_loss = nn.CrossEntropyLoss()\n",
    "        pass\n",
    "    def forward(self, c_hat, y_hat, c, y):\n",
    "        \n",
    "        loss = self.pose_loss(y, y_hat) + self.class_loss(c_hat, c.argmax(axis = 1))\n",
    "        return loss"
   ]
  },
  {
   "cell_type": "markdown",
   "metadata": {
    "ExecuteTime": {
     "end_time": "2021-07-13T07:41:47.713588Z",
     "start_time": "2021-07-13T07:41:47.699587Z"
    }
   },
   "source": [
    "# Model Compile"
   ]
  },
  {
   "cell_type": "code",
   "execution_count": 19,
   "metadata": {
    "ExecuteTime": {
     "end_time": "2021-07-15T05:38:18.199858Z",
     "start_time": "2021-07-15T05:38:09.104798Z"
    }
   },
   "outputs": [],
   "source": [
    "model = BaseModel(LIDAR_PC_SHAPE, MAP_LAYER_SHAPE, MAP_OBJECT_SHAPE)\n",
    "model.to(device)\n",
    "\n",
    "loss_func= BaseLoss()\n",
    "optimizer = optim.SGD(model.parameters(), lr = 0.001)"
   ]
  },
  {
   "cell_type": "markdown",
   "metadata": {},
   "source": [
    "# Train Module"
   ]
  },
  {
   "cell_type": "code",
   "execution_count": 20,
   "metadata": {
    "ExecuteTime": {
     "end_time": "2021-07-15T05:38:18.785786Z",
     "start_time": "2021-07-15T05:38:18.771787Z"
    }
   },
   "outputs": [],
   "source": [
    "def train(epoch, progress_log):\n",
    "    model.train()  # 신경망을 학습 모드로 전환\n",
    "\n",
    "    # 데이터로더에서 미니배치를 하나씩 꺼내 학습을 수행\n",
    "    mean_loss = 0\n",
    "    data_num = 0\n",
    "    \n",
    "    for X, c, y in progress_log:\n",
    "        \n",
    "        X = X.to(device)\n",
    "        c = c.to(device)\n",
    "        y = y.to(device)\n",
    "        \n",
    "        optimizer.zero_grad()  # 경사를 0으로 초기화\n",
    "        c_hat, y_hat = model(X)  # 데이터를 입력하고 출력을 계산\n",
    "        loss = loss_func(c_hat, y_hat, c, y)  # 출력과 훈련 데이터 정답 간의 오차를 계산\n",
    "        \n",
    "        loss.backward()  # 오차를 역전파 계산\n",
    "        optimizer.step()  # 역전파 계산한 값으로 가중치를 수정\n",
    "        \n",
    "        mean_loss += loss\n",
    "        data_num += X.shape[0]\n",
    "        \n",
    "    mean_loss /= data_num\n",
    "    \n",
    "    return mean_loss"
   ]
  },
  {
   "cell_type": "markdown",
   "metadata": {},
   "source": [
    "# Valid Module"
   ]
  },
  {
   "cell_type": "code",
   "execution_count": 21,
   "metadata": {
    "ExecuteTime": {
     "end_time": "2021-07-15T05:38:19.370818Z",
     "start_time": "2021-07-15T05:38:19.356818Z"
    }
   },
   "outputs": [],
   "source": [
    "def valid(epoch, progress_log):\n",
    "    model.eval()  # 신경망을 학습 모드로 전환\n",
    "\n",
    "    # 데이터로더에서 미니배치를 하나씩 꺼내 학습을 수행\n",
    "    mean_loss = 0\n",
    "    data_num = 0\n",
    "    \n",
    "    with torch.no_grad():\n",
    "        for X, c, y in progress_log:\n",
    "\n",
    "            X = X.to(device)\n",
    "            c = c.to(device)\n",
    "            y = y.to(device)\n",
    "\n",
    "            c_hat, y_hat = model(X)  # 데이터를 입력하고 출력을 계산\n",
    "            loss = loss_func(c_hat, y_hat, c, y)  # 출력과 훈련 데이터 정답 간의 오차를 계산\n",
    "\n",
    "            mean_loss += loss\n",
    "            data_num += X.shape[0]\n",
    "        \n",
    "    mean_loss /= data_num\n",
    "    \n",
    "    return mean_loss"
   ]
  },
  {
   "cell_type": "markdown",
   "metadata": {},
   "source": [
    "# Test Module"
   ]
  },
  {
   "cell_type": "code",
   "execution_count": 22,
   "metadata": {
    "ExecuteTime": {
     "end_time": "2021-07-15T05:38:19.955818Z",
     "start_time": "2021-07-15T05:38:19.941819Z"
    }
   },
   "outputs": [],
   "source": [
    "def test(epoch, progress_log):\n",
    "    model.eval()  # 신경망을 학습 모드로 전환\n",
    "\n",
    "    # 데이터로더에서 미니배치를 하나씩 꺼내 학습을 수행\n",
    "    C_hat = []\n",
    "    Y_hat = []\n",
    "    \n",
    "    with torch.no_grad():\n",
    "        for X, _, _ in progress_log:\n",
    "\n",
    "            X = X.to(device)\n",
    "\n",
    "            c_hat, y_hat = model(X)  # 데이터를 입력하고 출력을 계산\n",
    "            C_hat.append(c_hat)\n",
    "            Y_hat.append(y_hat)\n",
    "        \n",
    "    C_hat = np.concatenate(C_hat)\n",
    "    Y_hat = np.concatenate(Y_hat)\n",
    "    \n",
    "    return C_hat, Y_hat"
   ]
  },
  {
   "cell_type": "markdown",
   "metadata": {},
   "source": [
    "# Fit"
   ]
  },
  {
   "cell_type": "code",
   "execution_count": null,
   "metadata": {
    "ExecuteTime": {
     "start_time": "2021-07-15T05:38:12.104Z"
    }
   },
   "outputs": [
    {
     "data": {
      "application/vnd.jupyter.widget-view+json": {
       "model_id": "647ea00dcd604141abc22a26648a4c5b",
       "version_major": 2,
       "version_minor": 0
      },
      "text/plain": [
       "EPOCH:   0%|          | 0/10 [00:00<?, ?it/s]"
      ]
     },
     "metadata": {},
     "output_type": "display_data"
    },
    {
     "name": "stdout",
     "output_type": "stream",
     "text": [
      "-------------------------------------------------------\n",
      "|EPOCH: 1/10\n"
     ]
    },
    {
     "data": {
      "application/vnd.jupyter.widget-view+json": {
       "model_id": "00b15c5716ac490888352b5d3b1f090e",
       "version_major": 2,
       "version_minor": 0
      },
      "text/plain": [
       "TRAIN:   0%|          | 0/7493 [00:00<?, ?it/s]"
      ]
     },
     "metadata": {},
     "output_type": "display_data"
    },
    {
     "data": {
      "application/vnd.jupyter.widget-view+json": {
       "model_id": "b07865c2fa634cbd9be2b288950d96f5",
       "version_major": 2,
       "version_minor": 0
      },
      "text/plain": [
       "VALID:   0%|          | 0/833 [00:00<?, ?it/s]"
      ]
     },
     "metadata": {},
     "output_type": "display_data"
    }
   ],
   "source": [
    "train_loss_list = []\n",
    "valid_loss_list = []\n",
    "\n",
    "patience_count = 0\n",
    "min_valid_loss = np.inf\n",
    "checkpoint_name = \"\"\n",
    "\n",
    "if not os.path.isdir(f\"./models/{notebookName}/model-{num_files}_checkpoint/\"):\n",
    "    os.mkdir(f\"./models/{notebookName}/model-{num_files}_checkpoint/\")\n",
    "    \n",
    "prog_epoch = tqdm(range(0, nepochs), position = 0, desc = 'EPOCH')\n",
    "for epoch in prog_epoch:\n",
    "    print( \"-------------------------------------------------------\")\n",
    "    print(f\"|EPOCH: {epoch+1}/{nepochs}\")\n",
    "    prog_train = tqdm(train_loader, desc = 'TRAIN', leave = False)\n",
    "    prog_valid = tqdm(valid_loader, desc = 'VALID', leave = False)\n",
    "\n",
    "    train_loss = train(epoch, prog_train)\n",
    "    valid_loss = valid(prog_valid)\n",
    "    \n",
    "    if valid_loss < min_valid_loss:\n",
    "        print(f\"|{epoch+1}-th model is checked!, *model-{epoch}-{valid_loss}.pth*\")\n",
    "        min_valid_loss= valid_loss\n",
    "        checkpoint_name = f\"./models/{notebookName}/model-{num_files}_checkpoint/model-{epoch}-{valid_loss}.pth\"\n",
    "        torch.save(model.state_dict(), checkpoint_name)\n",
    "    else:\n",
    "        patience_count+=1\n",
    "        if(patience_count > max_patience_count):\n",
    "            break\n",
    "    \n",
    "    train_loss_list.append(train_loss)\n",
    "    valid_loss_list.append(valid_loss)\n",
    "    \n",
    "    print(f\"|TRAIN: loss={train_loss:.6f}|\")\n",
    "    print(f\"|VALID: loss={valid_loss:.6f}|\")\n",
    "\n",
    "\n",
    "history = dict()\n",
    "history['train_loss'] = train_loss_list\n",
    "history['valid_loss'] = valid_loss_list"
   ]
  },
  {
   "cell_type": "code",
   "execution_count": null,
   "metadata": {
    "ExecuteTime": {
     "start_time": "2021-07-15T05:38:13.282Z"
    }
   },
   "outputs": [],
   "source": [
    "plt.figure(figsize = (16,6))\n",
    "plt.subplot(2,1,1)\n",
    "plt.plot(history['train_loss'], label = 'train')\n",
    "plt.plot(history['valid_loss'], label = 'valid')\n",
    "plt.ylabel('loss')\n",
    "\n",
    "plt.subplot(2,1,2)\n",
    "plt.plot(history['train_score'], label = 'train')\n",
    "plt.plot(history['valid_score'], label = 'valid')\n",
    "plt.ylabel('gpsloss')"
   ]
  },
  {
   "cell_type": "code",
   "execution_count": null,
   "metadata": {},
   "outputs": [],
   "source": []
  },
  {
   "cell_type": "code",
   "execution_count": null,
   "metadata": {},
   "outputs": [],
   "source": []
  }
 ],
 "metadata": {
  "hide_input": false,
  "kernelspec": {
   "display_name": "torch",
   "language": "python",
   "name": "torch"
  },
  "language_info": {
   "codemirror_mode": {
    "name": "ipython",
    "version": 3
   },
   "file_extension": ".py",
   "mimetype": "text/x-python",
   "name": "python",
   "nbconvert_exporter": "python",
   "pygments_lexer": "ipython3",
   "version": "3.6.12"
  },
  "latex_envs": {
   "LaTeX_envs_menu_present": true,
   "autoclose": false,
   "autocomplete": true,
   "bibliofile": "biblio.bib",
   "cite_by": "apalike",
   "current_citInitial": 1,
   "eqLabelWithNumbers": true,
   "eqNumInitial": 1,
   "hotkeys": {
    "equation": "Ctrl-E",
    "itemize": "Ctrl-I"
   },
   "labels_anchors": false,
   "latex_user_defs": false,
   "report_style_numbering": false,
   "user_envs_cfg": false
  },
  "toc": {
   "base_numbering": 1,
   "nav_menu": {},
   "number_sections": true,
   "sideBar": true,
   "skip_h1_title": false,
   "title_cell": "Table of Contents",
   "title_sidebar": "Contents",
   "toc_cell": false,
   "toc_position": {
    "height": "calc(100% - 180px)",
    "left": "10px",
    "top": "150px",
    "width": "384px"
   },
   "toc_section_display": true,
   "toc_window_display": true
  },
  "varInspector": {
   "cols": {
    "lenName": 16,
    "lenType": 16,
    "lenVar": 40
   },
   "kernels_config": {
    "python": {
     "delete_cmd_postfix": "",
     "delete_cmd_prefix": "del ",
     "library": "var_list.py",
     "varRefreshCmd": "print(var_dic_list())"
    },
    "r": {
     "delete_cmd_postfix": ") ",
     "delete_cmd_prefix": "rm(",
     "library": "var_list.r",
     "varRefreshCmd": "cat(var_dic_list()) "
    }
   },
   "types_to_exclude": [
    "module",
    "function",
    "builtin_function_or_method",
    "instance",
    "_Feature"
   ],
   "window_display": false
  }
 },
 "nbformat": 4,
 "nbformat_minor": 4
}
