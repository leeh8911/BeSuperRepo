{
 "cells": [
  {
   "cell_type": "markdown",
   "metadata": {
    "hide_input": false
   },
   "source": [
    "# Libraries"
   ]
  },
  {
   "cell_type": "code",
   "execution_count": 1,
   "metadata": {
    "ExecuteTime": {
     "end_time": "2021-07-09T05:40:09.955400Z",
     "start_time": "2021-07-09T05:40:04.236937Z"
    }
   },
   "outputs": [],
   "source": [
    "from _ctypes import LoadLibrary as _dlopen\n",
    "_dlopen(\"D:\\\\Sangwons_Room\\\\00_SoftWares\\\\Anaconda\\\\envs\\\\torch\\\\Library\\\\bin\\\\geos.dll\", 0)\n",
    "\n",
    "# nuscenes-devkit\n",
    "from nuscenes.nuscenes import NuScenes\n",
    "\n",
    "# nuscenes-map expansion\n",
    "from utils.custom_map_api_expansion import CustomNuScenesMap\n",
    "\n",
    "# nuscenes-devkit-utils\n",
    "from nuscenes.utils.data_classes import LidarPointCloud, RadarPointCloud, Box\n",
    "from nuscenes.utils.geometry_utils import view_points, transform_matrix\n",
    "\n",
    "from pyquaternion import Quaternion\n",
    "\n",
    "\n",
    "from functools import reduce\n",
    "import os\n",
    "\n",
    "import numpy as np\n",
    "import matplotlib.pyplot as plt\n",
    "import plotly.express as px\n",
    "import tqdm\n",
    "\n",
    "from torch.utils.data import Dataset, DataLoader\n",
    "%matplotlib inline"
   ]
  },
  {
   "cell_type": "markdown",
   "metadata": {},
   "source": [
    "# Set  Parameters"
   ]
  },
  {
   "cell_type": "code",
   "execution_count": 2,
   "metadata": {
    "ExecuteTime": {
     "end_time": "2021-07-09T05:40:09.970402Z",
     "start_time": "2021-07-09T05:40:09.957401Z"
    }
   },
   "outputs": [],
   "source": [
    "locations = ['singapore-onenorth', 'singapore-hollandvillage', 'singapore-queenstown', 'boston-seaport']\n",
    "version = 'v1.0-mini'\n",
    "dataroot = './data/sets/nuscenes'"
   ]
  },
  {
   "cell_type": "markdown",
   "metadata": {},
   "source": [
    "# "
   ]
  },
  {
   "cell_type": "code",
   "execution_count": 3,
   "metadata": {
    "ExecuteTime": {
     "end_time": "2021-07-09T05:40:11.680733Z",
     "start_time": "2021-07-09T05:40:09.975402Z"
    }
   },
   "outputs": [
    {
     "name": "stdout",
     "output_type": "stream",
     "text": [
      "======\n",
      "Loading NuScenes tables for version v1.0-mini...\n",
      "Loading nuScenes-lidarseg...\n",
      "32 category,\n",
      "8 attribute,\n",
      "4 visibility,\n",
      "911 instance,\n",
      "12 sensor,\n",
      "120 calibrated_sensor,\n",
      "31206 ego_pose,\n",
      "8 log,\n",
      "10 scene,\n",
      "404 sample,\n",
      "31206 sample_data,\n",
      "18538 sample_annotation,\n",
      "4 map,\n",
      "404 lidarseg,\n",
      "Done loading in 0.679 seconds.\n",
      "======\n",
      "Reverse indexing ...\n",
      "Done reverse indexing in 0.1 seconds.\n",
      "======\n"
     ]
    }
   ],
   "source": [
    "nusc = NuScenes(version=version, dataroot=dataroot, verbose=True)\n",
    "nusc_location = dict()\n",
    "for loc in locations:\n",
    "    nusc_location[loc] = CustomNuScenesMap(dataroot=dataroot, map_name=loc)"
   ]
  },
  {
   "cell_type": "code",
   "execution_count": 4,
   "metadata": {
    "ExecuteTime": {
     "end_time": "2021-07-09T05:40:11.695734Z",
     "start_time": "2021-07-09T05:40:11.682734Z"
    },
    "scrolled": false
   },
   "outputs": [
    {
     "name": "stdout",
     "output_type": "stream",
     "text": [
      "scene-0061, Parked truck, construction, intersectio... [18-07-24 03:28:47]   19s, singapore-onenorth, #anns:4622\n",
      "scene-0103, Many peds right, wait for turning car, ... [18-08-01 19:26:43]   19s, boston-seaport, #anns:2046\n",
      "scene-0655, Parking lot, parked cars, jaywalker, be... [18-08-27 15:51:32]   20s, boston-seaport, #anns:2332\n",
      "scene-0553, Wait at intersection, bicycle, large tr... [18-08-28 20:48:16]   20s, boston-seaport, #anns:1950\n",
      "scene-0757, Arrive at busy intersection, bus, wait ... [18-08-30 19:25:08]   20s, boston-seaport, #anns:592\n",
      "scene-0796, Scooter, peds on sidewalk, bus, cars, t... [18-10-02 02:52:24]   20s, singapore-queensto, #anns:708\n",
      "scene-0916, Parking lot, bicycle rack, parked bicyc... [18-10-08 07:37:13]   20s, singapore-queensto, #anns:2387\n",
      "scene-1077, Night, big street, bus stop, high speed... [18-11-21 11:39:27]   20s, singapore-hollandv, #anns:890\n",
      "scene-1094, Night, after rain, many peds, PMD, ped ... [18-11-21 11:47:27]   19s, singapore-hollandv, #anns:1762\n",
      "scene-1100, Night, peds in sidewalk, peds cross cro... [18-11-21 11:49:47]   19s, singapore-hollandv, #anns:935\n"
     ]
    }
   ],
   "source": [
    "scene = nusc.scene[0]\n",
    "nusc.list_scenes()"
   ]
  },
  {
   "cell_type": "code",
   "execution_count": 5,
   "metadata": {
    "ExecuteTime": {
     "end_time": "2021-07-09T05:40:11.710734Z",
     "start_time": "2021-07-09T05:40:11.697736Z"
    },
    "scrolled": true
   },
   "outputs": [
    {
     "name": "stdout",
     "output_type": "stream",
     "text": [
      "Box 80\n",
      "CustomNuScenesMap 80\n",
      "DataLoader 80\n",
      "Dataset 80\n",
      "In 80\n",
      "LidarPointCloud 80\n",
      "NuScenes 80\n",
      "Out 80\n",
      "Quaternion 80\n",
      "RadarPointCloud 80\n",
      "_ 80\n",
      "__ 80\n",
      "___ 80\n",
      "__builtin__ 80\n",
      "__builtins__ 80\n",
      "__doc__ 80\n",
      "__loader__ 80\n",
      "__name__ 80\n",
      "__package__ 80\n",
      "__spec__ 80\n",
      "_dh 80\n",
      "_dlopen 80\n",
      "_i 80\n",
      "_i1 80\n",
      "_i2 80\n",
      "_i3 80\n",
      "_i4 80\n",
      "_i5 80\n",
      "_ih 80\n",
      "_ii 80\n",
      "_iii 80\n",
      "_oh 80\n",
      "dataroot 80\n",
      "exit 80\n",
      "get_ipython 80\n",
      "loc 80\n",
      "locations 80\n",
      "np 80\n",
      "nusc 80\n",
      "nusc_location 80\n",
      "os 80\n",
      "plt 80\n",
      "px 80\n",
      "quit 80\n",
      "reduce 80\n",
      "scene 80\n",
      "sys 80\n",
      "tqdm 80\n",
      "transform_matrix 80\n",
      "version 80\n",
      "view_points 80\n"
     ]
    }
   ],
   "source": [
    "import sys\n",
    "for var in dir():\n",
    "    print(var, sys.getsizeof(sys))"
   ]
  },
  {
   "cell_type": "markdown",
   "metadata": {},
   "source": [
    "# DataLoader (TBD)"
   ]
  },
  {
   "cell_type": "code",
   "execution_count": 6,
   "metadata": {
    "ExecuteTime": {
     "end_time": "2021-07-09T05:40:11.725734Z",
     "start_time": "2021-07-09T05:40:11.711734Z"
    }
   },
   "outputs": [],
   "source": [
    "# locations = ['singapore-onenorth', 'singapore-hollandvillage', 'singapore-queenstown', 'boston-seaport']\n",
    "\n",
    "# class NuscensDataLoader(Dataset):\n",
    "#     def __init__(self, version:str = 'v1.0-mini', dataroot:str = './data/sets/nuscenes', data_type = 'Train'):\n",
    "#         self.data_type = data_type\n",
    "#         self.nusc = NuScenes(version=version, dataroot=dataroot, verbose=True)\n",
    "#         self.nusc_location = dict()\n",
    "        \n",
    "#         for loc in locations:\n",
    "#             nusc_location[loc] = CustomNuScenesMap(dataroot=dataroot, map_name=loc)\n",
    "    \n",
    "#     def __len__(self):\n",
    "#         return 0\n",
    "    \n",
    "#     def __getindex__(self,idx):\n",
    "#         return None, None\n",
    "    \n",
    "    \n",
    "# class DataSpliter():\n",
    "#     def __init__(self, version:str = 'v1.0-mini', dataroot:str = './data/sets/nuscenes', data_type = 'Train')\n",
    "    \n",
    "# NuscensDataLoader()"
   ]
  },
  {
   "cell_type": "markdown",
   "metadata": {},
   "source": [
    "# "
   ]
  },
  {
   "cell_type": "code",
   "execution_count": 1,
   "metadata": {
    "ExecuteTime": {
     "end_time": "2021-07-09T07:50:25.912487Z",
     "start_time": "2021-07-09T07:50:25.868284Z"
    }
   },
   "outputs": [
    {
     "ename": "NameError",
     "evalue": "name 'nusc' is not defined",
     "output_type": "error",
     "traceback": [
      "\u001b[1;31m---------------------------------------------------------------------------\u001b[0m",
      "\u001b[1;31mNameError\u001b[0m                                 Traceback (most recent call last)",
      "\u001b[1;32m<ipython-input-1-d67b83daff80>\u001b[0m in \u001b[0;36m<module>\u001b[1;34m\u001b[0m\n\u001b[1;32m----> 1\u001b[1;33m \u001b[0mmy_scene\u001b[0m \u001b[1;33m=\u001b[0m \u001b[0mnusc\u001b[0m\u001b[1;33m.\u001b[0m\u001b[0mscene\u001b[0m\u001b[1;33m[\u001b[0m\u001b[1;36m0\u001b[0m\u001b[1;33m]\u001b[0m\u001b[1;33m\u001b[0m\u001b[1;33m\u001b[0m\u001b[0m\n\u001b[0m\u001b[0;32m      2\u001b[0m \u001b[0mfirst_sample_token\u001b[0m \u001b[1;33m=\u001b[0m \u001b[0mmy_scene\u001b[0m\u001b[1;33m[\u001b[0m\u001b[1;34m'first_sample_token'\u001b[0m\u001b[1;33m]\u001b[0m\u001b[1;33m\u001b[0m\u001b[1;33m\u001b[0m\u001b[0m\n\u001b[0;32m      3\u001b[0m \u001b[0mlast_sample_token\u001b[0m \u001b[1;33m=\u001b[0m \u001b[0mmy_scene\u001b[0m\u001b[1;33m[\u001b[0m\u001b[1;34m'last_sample_token'\u001b[0m\u001b[1;33m]\u001b[0m\u001b[1;33m\u001b[0m\u001b[1;33m\u001b[0m\u001b[0m\n\u001b[0;32m      4\u001b[0m \u001b[1;33m\u001b[0m\u001b[0m\n\u001b[0;32m      5\u001b[0m \u001b[0msample_rec\u001b[0m \u001b[1;33m=\u001b[0m \u001b[0mnusc\u001b[0m\u001b[1;33m.\u001b[0m\u001b[0mget\u001b[0m\u001b[1;33m(\u001b[0m\u001b[1;34m'sample'\u001b[0m\u001b[1;33m,\u001b[0m \u001b[0mlast_sample_token\u001b[0m\u001b[1;33m)\u001b[0m\u001b[1;33m\u001b[0m\u001b[1;33m\u001b[0m\u001b[0m\n",
      "\u001b[1;31mNameError\u001b[0m: name 'nusc' is not defined"
     ]
    }
   ],
   "source": [
    "my_scene = nusc.scene[0]\n",
    "first_sample_token = my_scene['first_sample_token']\n",
    "last_sample_token = my_scene['last_sample_token']\n",
    "\n",
    "sample_rec = nusc.get('sample', last_sample_token)\n",
    "last_time = sample_rec['timestamp']\n",
    "\n",
    "sample_rec = nusc.get('sample', first_sample_token)\n",
    "first_time = sample_rec['timestamp']\n",
    "\n",
    "ref_sd_token = sample_rec['data']['LIDAR_TOP']\n",
    "ref_sd_rec = nusc.get('sample_data', ref_sd_token)\n",
    "ref_pose_rec = nusc.get('ego_pose', ref_sd_rec['ego_pose_token'])\n",
    "ref_cs_rec = nusc.get('calibrated_sensor', ref_sd_rec['calibrated_sensor_token'])\n",
    "ref_time = 1e-6 * ref_sd_rec['timestamp']\n",
    "\n",
    "# Homogeneous transform from ego car frame to reference frame.\n",
    "ref_from_car = transform_matrix(ref_cs_rec['translation'], Quaternion(ref_cs_rec['rotation']), inverse=True)\n",
    "\n",
    "# Homogeneous transformation matrix from global to _current_ ego car frame.\n",
    "car_from_global = transform_matrix(ref_pose_rec['translation'], Quaternion(ref_pose_rec['rotation']),\n",
    "                                   inverse=True)\n",
    "\n",
    "sample_data_token = sample_rec['data']['LIDAR_TOP']\n",
    "current_sd_rec = nusc.get('sample_data', sample_data_token)\n",
    "\n",
    "print(last_time - first_time)\n",
    "for i in range(1000):\n",
    "    print(f\"{i} : {current_sd_rec['timestamp'] - first_time}\")\n",
    "    current_pc = LidarPointCloud.from_file(os.path.join(nusc.dataroot, current_sd_rec['filename']))\n",
    "\n",
    "    current_pose_rec = nusc.get(\"ego_pose\", current_sd_rec['ego_pose_token'])\n",
    "    global_from_car = transform_matrix(current_pose_rec['translation'], Quaternion(current_pose_rec['rotation']), inverse = False)\n",
    "\n",
    "    current_cs_rec = nusc.get('calibrated_sensor', current_sd_rec['calibrated_sensor_token'])\n",
    "    car_from_current = transform_matrix(current_cs_rec['translation'], Quaternion(current_cs_rec['rotation']), inverse =False)\n",
    "\n",
    "    trans_matrix = reduce(np.dot, [ref_from_car, car_from_global, global_from_car, car_from_current])\n",
    "    current_pc.transform(trans_matrix)\n",
    "\n",
    "    if current_sd_rec['next'] == \"\":\n",
    "        break\n",
    "    else:\n",
    "        current_sd_rec = nusc.get('sample_data', current_sd_rec['next'])"
   ]
  },
  {
   "cell_type": "code",
   "execution_count": 8,
   "metadata": {
    "ExecuteTime": {
     "end_time": "2021-07-09T05:40:33.552062Z",
     "start_time": "2021-07-09T05:40:33.545058Z"
    }
   },
   "outputs": [
    {
     "data": {
      "text/plain": [
       "{'token': '9d9bf11fb0e144c8b446d54a8a00184f',\n",
       " 'timestamp': 1532402927647951,\n",
       " 'rotation': [0.5720320396729045,\n",
       "  -0.0016977771610471074,\n",
       "  0.011798001930183783,\n",
       "  -0.8201446642457809],\n",
       " 'translation': [411.3039349319818, 1180.8903791765097, 0.0]}"
      ]
     },
     "execution_count": 8,
     "metadata": {},
     "output_type": "execute_result"
    }
   ],
   "source": [
    "ref_pose_rec"
   ]
  },
  {
   "cell_type": "code",
   "execution_count": 9,
   "metadata": {
    "ExecuteTime": {
     "end_time": "2021-07-09T05:40:46.288328Z",
     "start_time": "2021-07-09T05:40:46.271329Z"
    }
   },
   "outputs": [
    {
     "data": {
      "text/plain": [
       "array([[-3.45552926e-01, -9.38338111e-01, -1.07128245e-02,\n",
       "         1.25020173e+03],\n",
       "       [ 9.38257989e-01, -3.45280305e-01, -2.12945025e-02,\n",
       "         2.18289878e+01],\n",
       "       [ 1.62825160e-02, -1.74097708e-02,  9.99715849e-01,\n",
       "         1.38619679e+01],\n",
       "       [ 0.00000000e+00,  0.00000000e+00,  0.00000000e+00,\n",
       "         1.00000000e+00]])"
      ]
     },
     "execution_count": 9,
     "metadata": {},
     "output_type": "execute_result"
    }
   ],
   "source": [
    "transform_matrix(ref_pose_rec['translation'], Quaternion(ref_pose_rec['rotation']),\n",
    "                                   inverse=True)"
   ]
  },
  {
   "cell_type": "code",
   "execution_count": null,
   "metadata": {},
   "outputs": [],
   "source": [
    "transform_matrix(ref_pose_rec['translation'], Quaternion(ref_pose_rec['rotation']),\n",
    "                                   inverse=True)\n"
   ]
  }
 ],
 "metadata": {
  "hide_input": false,
  "kernelspec": {
   "display_name": "torch",
   "language": "python",
   "name": "torch"
  },
  "latex_envs": {
   "LaTeX_envs_menu_present": true,
   "autoclose": false,
   "autocomplete": true,
   "bibliofile": "biblio.bib",
   "cite_by": "apalike",
   "current_citInitial": 1,
   "eqLabelWithNumbers": true,
   "eqNumInitial": 1,
   "hotkeys": {
    "equation": "Ctrl-E",
    "itemize": "Ctrl-I"
   },
   "labels_anchors": false,
   "latex_user_defs": false,
   "report_style_numbering": false,
   "user_envs_cfg": false
  },
  "toc": {
   "base_numbering": 1,
   "nav_menu": {},
   "number_sections": true,
   "sideBar": true,
   "skip_h1_title": false,
   "title_cell": "Table of Contents",
   "title_sidebar": "Contents",
   "toc_cell": false,
   "toc_position": {},
   "toc_section_display": true,
   "toc_window_display": true
  },
  "varInspector": {
   "cols": {
    "lenName": 16,
    "lenType": 16,
    "lenVar": 40
   },
   "kernels_config": {
    "python": {
     "delete_cmd_postfix": "",
     "delete_cmd_prefix": "del ",
     "library": "var_list.py",
     "varRefreshCmd": "print(var_dic_list())"
    },
    "r": {
     "delete_cmd_postfix": ") ",
     "delete_cmd_prefix": "rm(",
     "library": "var_list.r",
     "varRefreshCmd": "cat(var_dic_list()) "
    }
   },
   "types_to_exclude": [
    "module",
    "function",
    "builtin_function_or_method",
    "instance",
    "_Feature"
   ],
   "window_display": false
  }
 },
 "nbformat": 4,
 "nbformat_minor": 4
}
