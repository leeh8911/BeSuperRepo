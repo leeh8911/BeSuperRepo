{
 "cells": [
  {
   "cell_type": "markdown",
   "metadata": {},
   "source": [
    "# Hyper Parameters"
   ]
  },
  {
   "cell_type": "code",
   "execution_count": 2,
   "metadata": {
    "ExecuteTime": {
     "end_time": "2021-07-12T23:58:18.874059Z",
     "start_time": "2021-07-12T23:58:18.861058Z"
    }
   },
   "outputs": [],
   "source": [
    "notebookName = \"BaseModel\"\n",
    "nepochs = 10\n",
    "batch_size = 4\n",
    "learning_rate = 0.001\n",
    "\n",
    "SEED = 20180724\n",
    "class_names = [ 'road_block', 'walkway', 'road_divider', 'traffic_light']"
   ]
  },
  {
   "cell_type": "code",
   "execution_count": null,
   "metadata": {},
   "outputs": [],
   "source": [
    "LIDAR_PC_SHAPE = [4, 35000] # [x,y,z,intensity] x num_of_points\n",
    "MAP_OBJECT_SHAPE = [1, 30, 2] # num_of_objects x num_of_points x [x, y]"
   ]
  },
  {
   "cell_type": "markdown",
   "metadata": {},
   "source": [
    "# Base Setting"
   ]
  },
  {
   "cell_type": "code",
   "execution_count": 19,
   "metadata": {
    "ExecuteTime": {
     "end_time": "2021-07-13T00:01:17.354370Z",
     "start_time": "2021-07-13T00:01:17.342370Z"
    }
   },
   "outputs": [],
   "source": [
    "import os\n",
    "from pathlib import Path\n",
    "\n",
    "from nuscenes.nuscenes import NuScenes\n",
    "from utils.custom_lidar_api import CustomLidarApi\n",
    "from utils.custom_map_api_expansion import CustomNuScenesMap\n",
    "\n",
    "import numpy as np\n",
    "import pandas as pd\n",
    "import matplotlib.pyplot as plt\n",
    "import plotly.express as px\n",
    "import tqdm\n",
    "\n",
    "import torch\n",
    "import torch.nn as nn\n",
    "from torch.nn import Module\n",
    "import torch.optim as optim\n",
    "from torch.utils.data import Dataset\n",
    "from torch.utils.data import TensorDataset, DataLoader\n",
    "\n",
    "import warnings\n",
    "warnings.filterwarnings(action='ignore')\n",
    "\n",
    "%matplotlib inline "
   ]
  },
  {
   "cell_type": "code",
   "execution_count": 6,
   "metadata": {
    "ExecuteTime": {
     "end_time": "2021-07-12T23:58:18.934355Z",
     "start_time": "2021-07-12T23:58:18.920343Z"
    }
   },
   "outputs": [],
   "source": [
    "locations = ['singapore-onenorth', 'singapore-hollandvillage', 'singapore-queenstown', 'boston-seaport']\n",
    "version = 'v1.0-trainval'\n",
    "dataroot = 'E:/datasets/nuscenes'"
   ]
  },
  {
   "cell_type": "code",
   "execution_count": 3,
   "metadata": {
    "ExecuteTime": {
     "end_time": "2021-07-12T23:58:18.889058Z",
     "start_time": "2021-07-12T23:58:18.876059Z"
    }
   },
   "outputs": [
    {
     "data": {
      "text/plain": [
       "<torch._C.Generator at 0x1ddaa994180>"
      ]
     },
     "execution_count": 3,
     "metadata": {},
     "output_type": "execute_result"
    }
   ],
   "source": [
    "bmtorch.manual_seed(SEED)"
   ]
  },
  {
   "cell_type": "code",
   "execution_count": 15,
   "metadata": {
    "ExecuteTime": {
     "end_time": "2021-07-13T00:00:28.455652Z",
     "start_time": "2021-07-13T00:00:28.326651Z"
    }
   },
   "outputs": [
    {
     "name": "stdout",
     "output_type": "stream",
     "text": [
      "cuda:0\n"
     ]
    }
   ],
   "source": [
    "device = torch.device('cuda:0' if torch.cuda.is_available() else \"cpu\")\n",
    "print(device)"
   ]
  },
  {
   "cell_type": "code",
   "execution_count": 4,
   "metadata": {
    "ExecuteTime": {
     "end_time": "2021-07-12T23:58:18.904091Z",
     "start_time": "2021-07-12T23:58:18.891329Z"
    }
   },
   "outputs": [
    {
     "data": {
      "text/plain": [
       "0"
      ]
     },
     "execution_count": 4,
     "metadata": {},
     "output_type": "execute_result"
    }
   ],
   "source": [
    "\n",
    "PATH = Path(f\"./models/{notebookName}\")\n",
    "if os.path.isdir(PATH):\n",
    "    dir_list = os.listdir(PATH)\n",
    "    num_files = 0\n",
    "    while True:\n",
    "        if os.path.isfile(str(PATH / f\"{num_files}\")):\n",
    "            print(num_files)\n",
    "            num_files += 1\n",
    "        else:\n",
    "            break\n",
    "else:\n",
    "    os.mkdir(PATH)\n",
    "    num_files = 0\n",
    "num_files"
   ]
  },
  {
   "cell_type": "code",
   "execution_count": 5,
   "metadata": {
    "ExecuteTime": {
     "end_time": "2021-07-12T23:58:18.919341Z",
     "start_time": "2021-07-12T23:58:18.905339Z"
    }
   },
   "outputs": [],
   "source": [
    "class_dict = dict()\n",
    "\n",
    "for i, name in enumerate(class_names):\n",
    "    class_dict[name] = i\n",
    "class_array = np.eye(len(class_names))"
   ]
  },
  {
   "cell_type": "code",
   "execution_count": 7,
   "metadata": {
    "ExecuteTime": {
     "end_time": "2021-07-12T23:59:33.249842Z",
     "start_time": "2021-07-12T23:58:18.935355Z"
    }
   },
   "outputs": [
    {
     "name": "stdout",
     "output_type": "stream",
     "text": [
      "======\n",
      "Loading NuScenes tables for version v1.0-trainval...\n",
      "Loading nuScenes-lidarseg...\n",
      "32 category,\n",
      "8 attribute,\n",
      "4 visibility,\n",
      "64386 instance,\n",
      "12 sensor,\n",
      "10200 calibrated_sensor,\n",
      "2631083 ego_pose,\n",
      "68 log,\n",
      "850 scene,\n",
      "34149 sample,\n",
      "2631083 sample_data,\n",
      "1166187 sample_annotation,\n",
      "4 map,\n",
      "34149 lidarseg,\n",
      "Done loading in 62.670 seconds.\n",
      "======\n",
      "Reverse indexing ...\n",
      "Done reverse indexing in 9.5 seconds.\n",
      "======\n"
     ]
    }
   ],
   "source": [
    "nusc = NuScenes(version=version, dataroot=dataroot, verbose=True)\n",
    "ldr_api = CustomLidarApi(nusc)\n",
    "\n",
    "map_api = dict([])\n",
    "for location in locations:\n",
    "    map_api[location] = CustomNuScenesMap(dataroot = dataroot, map_name= location)"
   ]
  },
  {
   "cell_type": "code",
   "execution_count": 8,
   "metadata": {
    "ExecuteTime": {
     "end_time": "2021-07-12T23:59:33.309845Z",
     "start_time": "2021-07-12T23:59:33.258844Z"
    },
    "scrolled": true
   },
   "outputs": [
    {
     "name": "stdout",
     "output_type": "stream",
     "text": [
      "33299\n"
     ]
    }
   ],
   "source": [
    "# get all sample token\n",
    "sample_tokens = []\n",
    "for scene in nusc.scene:\n",
    "    token = scene['first_sample_token']\n",
    "    while token != scene['last_sample_token']:\n",
    "        sample_tokens.append(token)\n",
    "        sample = nusc.get('sample', token)\n",
    "        token = sample['next']\n",
    "print(len(sample_tokens))"
   ]
  },
  {
   "cell_type": "code",
   "execution_count": 9,
   "metadata": {
    "ExecuteTime": {
     "end_time": "2021-07-12T23:59:33.354844Z",
     "start_time": "2021-07-12T23:59:33.313842Z"
    }
   },
   "outputs": [
    {
     "name": "stdout",
     "output_type": "stream",
     "text": [
      "33299\n",
      "29970\n",
      "3329\n"
     ]
    }
   ],
   "source": [
    "def train_val_split(sample_tokens, ratio = 0.1, shuffle = True):\n",
    "    index = np.array(range(len(sample_tokens)))\n",
    "    index = np.random.choice(index.shape[0], index.shape[0], replace = False)\n",
    "    \n",
    "    valid_num = int(index.shape[0] * ratio)\n",
    "    \n",
    "    valid_tokens = sample_tokens[:valid_num]\n",
    "    train_tokens = sample_tokens[valid_num:]\n",
    "    \n",
    "    return train_tokens, valid_tokens\n",
    "\n",
    "train_tokens, valid_tokens = train_val_split(sample_tokens)\n",
    "\n",
    "print(len(sample_tokens))\n",
    "print(len(train_tokens))\n",
    "print(len(valid_tokens))"
   ]
  },
  {
   "cell_type": "code",
   "execution_count": 10,
   "metadata": {
    "ExecuteTime": {
     "end_time": "2021-07-12T23:59:33.384842Z",
     "start_time": "2021-07-12T23:59:33.356842Z"
    },
    "scrolled": true
   },
   "outputs": [],
   "source": [
    "class NusceneDataset(Dataset):\n",
    "    def __init__(self, tokens, nusc, map_api, ldr_api, train = True):\n",
    "        self.tokens = tokens\n",
    "        self.nusc = nusc\n",
    "        self.map_api = map_api\n",
    "        self.ldr_api = ldr_api\n",
    "        self.train = train\n",
    "        \n",
    "        self.length = len(tokens)\n",
    "    def __len__(self):\n",
    "        return self.length\n",
    "    \n",
    "    def __getitem__(self, idx):\n",
    "        token = self.tokens[idx]\n",
    "        \n",
    "        sample = self.nusc.get('sample', token)\n",
    "        scene = self.nusc.get('scene', sample['scene_token'])\n",
    "        log_meta = self.nusc.get('log', scene['log_token'])\n",
    "        \n",
    "        location = log_meta['location']\n",
    "        sample_data = self.nusc.get('sample_data', sample['data']['LIDAR_TOP'])\n",
    "        \n",
    "        pc = self.ldr_api.get_lidar_from_keyframe(token, car_coord = True)\n",
    "        ego = self.ldr_api.get_egopose_from_keyframe(token)\n",
    "        cs = self.nusc.get('calibrated_sensor', sample_data['calibrated_sensor_token'])\n",
    "        structures = self.map_api[log_meta['location']].get_closest_structures(class_names, ego, global_coord=False)\n",
    "        \n",
    "        X = pc.points\n",
    "        if self.train:\n",
    "            classes, objects = self.get_label(structures)\n",
    "        else:\n",
    "            classes, objects = self.get_label(list())\n",
    "        \n",
    "        return X, classes, objects\n",
    "    \n",
    "    def get_label(self, structures):\n",
    "        classes = torch.zeros((64, 4))\n",
    "        objects = torch.zeros((64,30,2))\n",
    "        \n",
    "        for i, struct in enumerate(structures):\n",
    "            clas = struct['class']\n",
    "            nodes = struct['nodes']\n",
    "            \n",
    "            classes[i,:] = torch.Tensor(class_array[class_dict[clas], :])\n",
    "            objects[i,:,:] = torch.Tensor(nodes.reshape(1, 30, 2))\n",
    "        \n",
    "        return classes, objects\n",
    "        \n",
    "\n",
    "train_dataset = NusceneDataset(tokens = train_tokens, nusc = nusc, map_api = map_api, ldr_api = ldr_api)\n",
    "valid_dataset = NusceneDataset(tokens = valid_tokens, nusc = nusc, map_api = map_api, ldr_api = ldr_api)\n",
    "\n",
    "train_loader = DataLoader(train_dataset, batch_size = batch_size, shuffle = True)\n",
    "valid_loader = DataLoader(valid_dataset, batch_size = batch_size, shuffle = False)"
   ]
  },
  {
   "cell_type": "code",
   "execution_count": 12,
   "metadata": {
    "ExecuteTime": {
     "end_time": "2021-07-13T00:00:16.612736Z",
     "start_time": "2021-07-13T00:00:16.604736Z"
    }
   },
   "outputs": [],
   "source": [
    "class BaseModel(torch.nn.Module):\n",
    "    def __init__(self):\n",
    "        super().__init__()\n",
    "        pass\n",
    "    def forward(self, x):\n",
    "        return x"
   ]
  },
  {
   "cell_type": "code",
   "execution_count": 13,
   "metadata": {
    "ExecuteTime": {
     "end_time": "2021-07-13T00:00:17.018372Z",
     "start_time": "2021-07-13T00:00:17.005372Z"
    }
   },
   "outputs": [],
   "source": [
    "class BaseLoss(torch.nn.Module):\n",
    "    def __init__(self):\n",
    "        super().__init__()\n",
    "        pass\n",
    "    def forward(self, x):\n",
    "        return x"
   ]
  },
  {
   "cell_type": "code",
   "execution_count": 20,
   "metadata": {
    "ExecuteTime": {
     "end_time": "2021-07-13T00:01:21.829996Z",
     "start_time": "2021-07-13T00:01:21.515967Z"
    }
   },
   "outputs": [
    {
     "ename": "ValueError",
     "evalue": "optimizer got an empty parameter list",
     "output_type": "error",
     "traceback": [
      "\u001b[1;31m---------------------------------------------------------------------------\u001b[0m",
      "\u001b[1;31mValueError\u001b[0m                                Traceback (most recent call last)",
      "\u001b[1;32m<ipython-input-20-52eac504717a>\u001b[0m in \u001b[0;36m<module>\u001b[1;34m\u001b[0m\n\u001b[0;32m      3\u001b[0m \u001b[1;33m\u001b[0m\u001b[0m\n\u001b[0;32m      4\u001b[0m \u001b[0mloss_func\u001b[0m\u001b[1;33m=\u001b[0m \u001b[0mBaseLoss\u001b[0m\u001b[1;33m(\u001b[0m\u001b[1;33m)\u001b[0m\u001b[1;33m\u001b[0m\u001b[1;33m\u001b[0m\u001b[0m\n\u001b[1;32m----> 5\u001b[1;33m \u001b[0moptimizer\u001b[0m \u001b[1;33m=\u001b[0m \u001b[0moptim\u001b[0m\u001b[1;33m.\u001b[0m\u001b[0mSGD\u001b[0m\u001b[1;33m(\u001b[0m\u001b[0mmodel\u001b[0m\u001b[1;33m.\u001b[0m\u001b[0mparameters\u001b[0m\u001b[1;33m(\u001b[0m\u001b[1;33m)\u001b[0m\u001b[1;33m)\u001b[0m\u001b[1;33m\u001b[0m\u001b[1;33m\u001b[0m\u001b[0m\n\u001b[0m",
      "\u001b[1;32mD:\\Sangwons_Room\\00_SoftWares\\Anaconda\\envs\\torch\\lib\\site-packages\\torch\\optim\\sgd.py\u001b[0m in \u001b[0;36m__init__\u001b[1;34m(self, params, lr, momentum, dampening, weight_decay, nesterov)\u001b[0m\n\u001b[0;32m     67\u001b[0m         \u001b[1;32mif\u001b[0m \u001b[0mnesterov\u001b[0m \u001b[1;32mand\u001b[0m \u001b[1;33m(\u001b[0m\u001b[0mmomentum\u001b[0m \u001b[1;33m<=\u001b[0m \u001b[1;36m0\u001b[0m \u001b[1;32mor\u001b[0m \u001b[0mdampening\u001b[0m \u001b[1;33m!=\u001b[0m \u001b[1;36m0\u001b[0m\u001b[1;33m)\u001b[0m\u001b[1;33m:\u001b[0m\u001b[1;33m\u001b[0m\u001b[1;33m\u001b[0m\u001b[0m\n\u001b[0;32m     68\u001b[0m             \u001b[1;32mraise\u001b[0m \u001b[0mValueError\u001b[0m\u001b[1;33m(\u001b[0m\u001b[1;34m\"Nesterov momentum requires a momentum and zero dampening\"\u001b[0m\u001b[1;33m)\u001b[0m\u001b[1;33m\u001b[0m\u001b[1;33m\u001b[0m\u001b[0m\n\u001b[1;32m---> 69\u001b[1;33m         \u001b[0msuper\u001b[0m\u001b[1;33m(\u001b[0m\u001b[0mSGD\u001b[0m\u001b[1;33m,\u001b[0m \u001b[0mself\u001b[0m\u001b[1;33m)\u001b[0m\u001b[1;33m.\u001b[0m\u001b[0m__init__\u001b[0m\u001b[1;33m(\u001b[0m\u001b[0mparams\u001b[0m\u001b[1;33m,\u001b[0m \u001b[0mdefaults\u001b[0m\u001b[1;33m)\u001b[0m\u001b[1;33m\u001b[0m\u001b[1;33m\u001b[0m\u001b[0m\n\u001b[0m\u001b[0;32m     70\u001b[0m \u001b[1;33m\u001b[0m\u001b[0m\n\u001b[0;32m     71\u001b[0m     \u001b[1;32mdef\u001b[0m \u001b[0m__setstate__\u001b[0m\u001b[1;33m(\u001b[0m\u001b[0mself\u001b[0m\u001b[1;33m,\u001b[0m \u001b[0mstate\u001b[0m\u001b[1;33m)\u001b[0m\u001b[1;33m:\u001b[0m\u001b[1;33m\u001b[0m\u001b[1;33m\u001b[0m\u001b[0m\n",
      "\u001b[1;32mD:\\Sangwons_Room\\00_SoftWares\\Anaconda\\envs\\torch\\lib\\site-packages\\torch\\optim\\optimizer.py\u001b[0m in \u001b[0;36m__init__\u001b[1;34m(self, params, defaults)\u001b[0m\n\u001b[0;32m     47\u001b[0m         \u001b[0mparam_groups\u001b[0m \u001b[1;33m=\u001b[0m \u001b[0mlist\u001b[0m\u001b[1;33m(\u001b[0m\u001b[0mparams\u001b[0m\u001b[1;33m)\u001b[0m\u001b[1;33m\u001b[0m\u001b[1;33m\u001b[0m\u001b[0m\n\u001b[0;32m     48\u001b[0m         \u001b[1;32mif\u001b[0m \u001b[0mlen\u001b[0m\u001b[1;33m(\u001b[0m\u001b[0mparam_groups\u001b[0m\u001b[1;33m)\u001b[0m \u001b[1;33m==\u001b[0m \u001b[1;36m0\u001b[0m\u001b[1;33m:\u001b[0m\u001b[1;33m\u001b[0m\u001b[1;33m\u001b[0m\u001b[0m\n\u001b[1;32m---> 49\u001b[1;33m             \u001b[1;32mraise\u001b[0m \u001b[0mValueError\u001b[0m\u001b[1;33m(\u001b[0m\u001b[1;34m\"optimizer got an empty parameter list\"\u001b[0m\u001b[1;33m)\u001b[0m\u001b[1;33m\u001b[0m\u001b[1;33m\u001b[0m\u001b[0m\n\u001b[0m\u001b[0;32m     50\u001b[0m         \u001b[1;32mif\u001b[0m \u001b[1;32mnot\u001b[0m \u001b[0misinstance\u001b[0m\u001b[1;33m(\u001b[0m\u001b[0mparam_groups\u001b[0m\u001b[1;33m[\u001b[0m\u001b[1;36m0\u001b[0m\u001b[1;33m]\u001b[0m\u001b[1;33m,\u001b[0m \u001b[0mdict\u001b[0m\u001b[1;33m)\u001b[0m\u001b[1;33m:\u001b[0m\u001b[1;33m\u001b[0m\u001b[1;33m\u001b[0m\u001b[0m\n\u001b[0;32m     51\u001b[0m             \u001b[0mparam_groups\u001b[0m \u001b[1;33m=\u001b[0m \u001b[1;33m[\u001b[0m\u001b[1;33m{\u001b[0m\u001b[1;34m'params'\u001b[0m\u001b[1;33m:\u001b[0m \u001b[0mparam_groups\u001b[0m\u001b[1;33m}\u001b[0m\u001b[1;33m]\u001b[0m\u001b[1;33m\u001b[0m\u001b[1;33m\u001b[0m\u001b[0m\n",
      "\u001b[1;31mValueError\u001b[0m: optimizer got an empty parameter list"
     ]
    }
   ],
   "source": [
    "model = BaseModel()\n",
    "model.to(device)\n",
    "\n",
    "loss_func= BaseLoss()\n",
    "optimizer = optim.SGD(model.parameters())"
   ]
  },
  {
   "cell_type": "code",
   "execution_count": null,
   "metadata": {
    "ExecuteTime": {
     "end_time": "2021-07-13T00:00:14.958465Z",
     "start_time": "2021-07-12T23:58:15.416Z"
    }
   },
   "outputs": [],
   "source": [
    "def train(epoch, progress_log):\n",
    "    model.train()  # 신경망을 학습 모드로 전환\n",
    "\n",
    "    # 데이터로더에서 미니배치를 하나씩 꺼내 학습을 수행\n",
    "    mean_loss = 0\n",
    "    data_num = 0\n",
    "    \n",
    "    for X, c, y in progress_log:\n",
    "        \n",
    "        X = X.to(device)\n",
    "        c = c.to(device)\n",
    "        y = y.to(device)\n",
    "        \n",
    "        optimizer.zero_grad()  # 경사를 0으로 초기화\n",
    "        c_hat, y_hat = model(X)  # 데이터를 입력하고 출력을 계산\n",
    "        loss = loss_func(c_hat, y_hat, c, y)  # 출력과 훈련 데이터 정답 간의 오차를 계산\n",
    "        \n",
    "        loss.backward()  # 오차를 역전파 계산\n",
    "        optimizer.step()  # 역전파 계산한 값으로 가중치를 수정\n",
    "        \n",
    "        mean_loss += loss\n",
    "        data_num += X.shape[0]\n",
    "        \n",
    "    mean_loss /= data_num\n",
    "    \n",
    "    return mean_loss"
   ]
  },
  {
   "cell_type": "code",
   "execution_count": null,
   "metadata": {
    "ExecuteTime": {
     "end_time": "2021-07-13T00:00:14.959465Z",
     "start_time": "2021-07-12T23:58:15.417Z"
    }
   },
   "outputs": [],
   "source": [
    "def valid(epoch, progress_log):\n",
    "    model.eval()  # 신경망을 학습 모드로 전환\n",
    "\n",
    "    # 데이터로더에서 미니배치를 하나씩 꺼내 학습을 수행\n",
    "    mean_loss = 0\n",
    "    data_num = 0\n",
    "    \n",
    "    with torch.no_grad():\n",
    "        for X, c, y in progress_log:\n",
    "\n",
    "            X = X.to(device)\n",
    "            c = c.to(device)\n",
    "            y = y.to(device)\n",
    "\n",
    "            c_hat, y_hat = model(X)  # 데이터를 입력하고 출력을 계산\n",
    "            loss = loss_func(c_hat, y_hat, c, y)  # 출력과 훈련 데이터 정답 간의 오차를 계산\n",
    "\n",
    "            mean_loss += loss\n",
    "            data_num += X.shape[0]\n",
    "        \n",
    "    mean_loss /= data_num\n",
    "    \n",
    "    return mean_loss"
   ]
  },
  {
   "cell_type": "code",
   "execution_count": null,
   "metadata": {
    "ExecuteTime": {
     "end_time": "2021-07-13T00:00:14.960466Z",
     "start_time": "2021-07-12T23:58:15.417Z"
    }
   },
   "outputs": [],
   "source": [
    "def test(epoch, progress_log):\n",
    "    model.eval()  # 신경망을 학습 모드로 전환\n",
    "\n",
    "    # 데이터로더에서 미니배치를 하나씩 꺼내 학습을 수행\n",
    "    C_hat = []\n",
    "    Y_hat = []\n",
    "    \n",
    "    with torch.no_grad():\n",
    "        for X, _, _ in progress_log:\n",
    "\n",
    "            X = X.to(device)\n",
    "\n",
    "            c_hat, y_hat = model(X)  # 데이터를 입력하고 출력을 계산\n",
    "            C_hat.append(c_hat)\n",
    "            Y_hat.append(y_hat)\n",
    "        \n",
    "    C_hat = np.concatenate(C_hat)\n",
    "    Y_hat = np.concatenate(Y_hat)\n",
    "    \n",
    "    return C_hat, Y_hat"
   ]
  },
  {
   "cell_type": "code",
   "execution_count": null,
   "metadata": {
    "ExecuteTime": {
     "end_time": "2021-07-13T00:00:14.960466Z",
     "start_time": "2021-07-12T23:58:15.418Z"
    }
   },
   "outputs": [],
   "source": [
    "train_loss_list = []\n",
    "valid_loss_list = []\n",
    "\n",
    "patience_count = 0\n",
    "min_valid_loss = np.inf\n",
    "checkpoint_name = \"\"\n",
    "\n",
    "if not os.path.isdir(f\"./models/{notebookName}/model-{num_files}_checkpoint/\"):\n",
    "    os.mkdir(f\"./models/{notebookName}/model-{num_files}_checkpoint/\")\n",
    "    \n",
    "prog_epoch = tqdm(range(0, nepochs), position = 0, desc = 'EPOCH')\n",
    "for epoch in prog_epoch:\n",
    "    print( \"-------------------------------------------------------\")\n",
    "    print(f\"|EPOCH: {epoch+1}/{nepochs}\")\n",
    "    prog_train = tqdm(train_loader, desc = 'TRAIN', leave = False)\n",
    "    prog_valid = tqdm(valid_loader, desc = 'VALID', leave = False)\n",
    "\n",
    "    train_loss = train(epoch, prog_train)\n",
    "    valid_loss = valid(prog_valid)\n",
    "    \n",
    "    if valid_gpsscore < min_valid_score:\n",
    "        print(f\"|{epoch+1}-th model is checked!, *model-{epoch}-{valid_gpsscore}.pth*\")\n",
    "        min_valid_score= valid_gpsscore\n",
    "        checkpoint_name = f\"./models/{notebookName}/model-{num_files}_checkpoint/model-{epoch}-{valid_gpsscore}.pth\"\n",
    "        torch.save(model.state_dict(), checkpoint_name)\n",
    "    else:\n",
    "        patience_count+=1\n",
    "        if(patience_count > max_patience_count):\n",
    "            break\n",
    "    \n",
    "    train_loss_list.append(train_loss)\n",
    "    valid_loss_list.append(valid_loss)\n",
    "    \n",
    "    print(f\"|TRAIN: loss={train_loss:.6f}|\")\n",
    "    print(f\"|VALID: loss={valid_loss:.6f}|\")\n",
    "\n",
    "\n",
    "history = dict()\n",
    "history['train_loss'] = train_loss_list\n",
    "history['valid_loss'] = valid_loss_list"
   ]
  }
 ],
 "metadata": {
  "hide_input": false,
  "kernelspec": {
   "display_name": "torch",
   "language": "python",
   "name": "torch"
  },
  "language_info": {
   "codemirror_mode": {
    "name": "ipython",
    "version": 3
   },
   "file_extension": ".py",
   "mimetype": "text/x-python",
   "name": "python",
   "nbconvert_exporter": "python",
   "pygments_lexer": "ipython3",
   "version": "3.6.12"
  },
  "latex_envs": {
   "LaTeX_envs_menu_present": true,
   "autoclose": false,
   "autocomplete": true,
   "bibliofile": "biblio.bib",
   "cite_by": "apalike",
   "current_citInitial": 1,
   "eqLabelWithNumbers": true,
   "eqNumInitial": 1,
   "hotkeys": {
    "equation": "Ctrl-E",
    "itemize": "Ctrl-I"
   },
   "labels_anchors": false,
   "latex_user_defs": false,
   "report_style_numbering": false,
   "user_envs_cfg": false
  },
  "toc": {
   "base_numbering": 1,
   "nav_menu": {},
   "number_sections": true,
   "sideBar": true,
   "skip_h1_title": false,
   "title_cell": "Table of Contents",
   "title_sidebar": "Contents",
   "toc_cell": false,
   "toc_position": {
    "height": "calc(100% - 180px)",
    "left": "10px",
    "top": "150px",
    "width": "384px"
   },
   "toc_section_display": true,
   "toc_window_display": true
  },
  "varInspector": {
   "cols": {
    "lenName": 16,
    "lenType": 16,
    "lenVar": 40
   },
   "kernels_config": {
    "python": {
     "delete_cmd_postfix": "",
     "delete_cmd_prefix": "del ",
     "library": "var_list.py",
     "varRefreshCmd": "print(var_dic_list())"
    },
    "r": {
     "delete_cmd_postfix": ") ",
     "delete_cmd_prefix": "rm(",
     "library": "var_list.r",
     "varRefreshCmd": "cat(var_dic_list()) "
    }
   },
   "types_to_exclude": [
    "module",
    "function",
    "builtin_function_or_method",
    "instance",
    "_Feature"
   ],
   "window_display": false
  }
 },
 "nbformat": 4,
 "nbformat_minor": 4
}
