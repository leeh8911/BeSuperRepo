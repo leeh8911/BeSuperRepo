{
 "cells": [
  {
   "cell_type": "markdown",
   "metadata": {
    "id": "ot-r2mupZy6p"
   },
   "source": [
    "# nuScenes devkit tutorial\n",
    "\n",
    "Welcome to the nuScenes tutorial. This demo assumes the database itself is available at `/data/sets/nuscenes`, and loads a mini version of the full dataset."
   ]
  },
  {
   "cell_type": "markdown",
   "metadata": {
    "id": "byvw6JVyZy6r"
   },
   "source": [
    "## A Gentle Introduction to nuScenes\n",
    "\n",
    "In this part of the tutorial, let us go through a top-down introduction of our database. Our dataset comprises of elemental building blocks that are the following:\n",
    "\n",
    "1. `log` - Log information from which the data was extracted.\n",
    "2. `scene` - 20 second snippet of a car's journey.\n",
    "3. `sample` - An annotated snapshot of a scene at a particular timestamp.\n",
    "4. `sample_data` - Data collected from a particular sensor.\n",
    "5. `ego_pose` - Ego vehicle poses at a particular timestamp.\n",
    "6. `sensor` - A specific sensor type.\n",
    "7. `calibrated sensor` - Definition of a particular sensor as calibrated on a particular vehicle.\n",
    "8. `instance` - Enumeration of all object instance we observed.\n",
    "9. `category` - Taxonomy of object categories (e.g. vehicle, human). \n",
    "10. `attribute` - Property of an instance that can change while the category remains the same.\n",
    "11. `visibility` - Fraction of pixels visible in all the images collected from 6 different cameras.\n",
    "12. `sample_annotation` - An annotated instance of an object within our interest.\n",
    "13. `map` - Map data that is stored as binary semantic masks from a top-down view.\n",
    "\n",
    "The database schema is visualized below. For more information see the [nuScenes schema](https://github.com/nutonomy/nuscenes-devkit/blob/master/docs/schema_nuscenes.md) page.\n",
    "![](https://www.nuscenes.org/public/images/nuscenes-schema.svg)"
   ]
  },
  {
   "cell_type": "markdown",
   "metadata": {
    "id": "hUv7bteJZy6s"
   },
   "source": [
    "## Google Colab (optional)\n",
    "\n",
    "<br>\n",
    "<a href=\"https://colab.research.google.com/github/nutonomy/nuscenes-devkit/blob/master/python-sdk/tutorials/nuscenes_tutorial.ipynb\">\n",
    "    <img src=\"https://colab.research.google.com/assets/colab-badge.svg\" alt=\"Open In Colab\" align=\"left\">\n",
    "</a>\n",
    "<br>\n",
    "\n",
    "If you are running this notebook in Google Colab, you can uncomment the cell below and run it; everything will be set up nicely for you. Otherwise, manually set up everything."
   ]
  },
  {
   "cell_type": "code",
   "execution_count": null,
   "metadata": {
    "id": "nDkGEFfHZy6s"
   },
   "outputs": [],
   "source": [
    "# !mkdir -p /data/sets/nuscenes  # Make the directory to store the nuScenes dataset in.\n",
    "\n",
    "# !wget https://www.nuscenes.org/data/v1.0-mini.tgz  # Download the nuScenes mini split.\n",
    "\n",
    "# !tar -xf v1.0-mini.tgz -C /data/sets/nuscenes  # Uncompress the nuScenes mini split.\n",
    "\n",
    "# !pip install nuscenes-devkit &> /dev/null  # Install nuScenes."
   ]
  },
  {
   "cell_type": "markdown",
   "metadata": {
    "id": "DNDLACXJZy6t"
   },
   "source": [
    "## Initialization"
   ]
  },
  {
   "cell_type": "code",
   "execution_count": null,
   "metadata": {
    "id": "jC7MUwmvZy6t"
   },
   "outputs": [],
   "source": [
    "%matplotlib inline\n",
    "from nuscenes.nuscenes import NuScenes\n",
    "\n",
    "nusc = NuScenes(version='v1.0-mini', dataroot='/data/sets/nuscenes', verbose=True)"
   ]
  },
  {
   "cell_type": "markdown",
   "metadata": {
    "id": "HDTpoH7eZy6t"
   },
   "source": [
    "## A look at the dataset"
   ]
  },
  {
   "cell_type": "markdown",
   "metadata": {
    "id": "ihjKKqw6Zy6u"
   },
   "source": [
    "### 1. `scene`"
   ]
  },
  {
   "cell_type": "markdown",
   "metadata": {
    "id": "iLir_OoRZy6u"
   },
   "source": [
    "nuScenes is a large scale database that features annotated samples across ***1000 scenes*** of approximately 20 seconds each. Let's take a look at the scenes that we have in the loaded database."
   ]
  },
  {
   "cell_type": "code",
   "execution_count": null,
   "metadata": {
    "id": "h_zmiLb1Zy6v"
   },
   "outputs": [],
   "source": [
    "nusc.list_scenes()"
   ]
  },
  {
   "cell_type": "markdown",
   "metadata": {
    "id": "QMADHG5UZy6v"
   },
   "source": [
    "Let's look at a scene metadata"
   ]
  },
  {
   "cell_type": "code",
   "execution_count": null,
   "metadata": {
    "id": "UvgHSahIZy6w"
   },
   "outputs": [],
   "source": [
    "my_scene = nusc.scene[0]\n",
    "my_scene"
   ]
  },
  {
   "cell_type": "markdown",
   "metadata": {
    "id": "gn_zFRVGZy6w"
   },
   "source": [
    "### 2. `sample`"
   ]
  },
  {
   "cell_type": "markdown",
   "metadata": {
    "id": "8NS5EkJQZy6w"
   },
   "source": [
    "In scenes, we annotate our data every half a second (2 Hz).\n",
    "\n",
    "We define `sample` as an ***annotated keyframe of a scene at a given timestamp***. A keyframe is a frame where the time-stamps of data from all the sensors should be very close to the time-stamp of the sample it points to.\n",
    "\n",
    "Now, let us look at the first annotated sample in this scene."
   ]
  },
  {
   "cell_type": "code",
   "execution_count": null,
   "metadata": {
    "id": "YHJSrkeaZy6x",
    "scrolled": true
   },
   "outputs": [],
   "source": [
    "first_sample_token = my_scene['first_sample_token']\n",
    "\n",
    "# The rendering command below is commented out because it tends to crash in notebooks\n",
    "# nusc.render_sample(first_sample_token)"
   ]
  },
  {
   "cell_type": "markdown",
   "metadata": {
    "id": "6D3_iXqsZy6x"
   },
   "source": [
    "Let's examine its metadata"
   ]
  },
  {
   "cell_type": "code",
   "execution_count": null,
   "metadata": {
    "id": "DXRAv_BmZy6x",
    "scrolled": true
   },
   "outputs": [],
   "source": [
    "my_sample = nusc.get('sample', first_sample_token)\n",
    "my_sample"
   ]
  },
  {
   "cell_type": "markdown",
   "metadata": {
    "id": "nVx9nNxkZy6x"
   },
   "source": [
    "A useful method is  `list_sample()` which lists all related `sample_data` keyframes and `sample_annotation` associated with a `sample` which we will discuss in detail in the subsequent parts."
   ]
  },
  {
   "cell_type": "code",
   "execution_count": null,
   "metadata": {
    "id": "3U88wNt7Zy6y",
    "scrolled": true
   },
   "outputs": [],
   "source": [
    "nusc.list_sample(my_sample['token'])"
   ]
  },
  {
   "cell_type": "markdown",
   "metadata": {
    "id": "r7K78HfFZy6y"
   },
   "source": [
    "### 3. `sample_data`"
   ]
  },
  {
   "cell_type": "markdown",
   "metadata": {
    "id": "f6cSrMs_Zy6y"
   },
   "source": [
    "The nuScenes dataset contains data that is collected from a full sensor suite. Hence, for each snapshot of a scene, we provide references to a family of data that is collected from these sensors. \n",
    "\n",
    "We provide a `data` key to access these:"
   ]
  },
  {
   "cell_type": "code",
   "execution_count": null,
   "metadata": {
    "id": "Wz9fQi9oZy6y"
   },
   "outputs": [],
   "source": [
    "my_sample['data']"
   ]
  },
  {
   "cell_type": "markdown",
   "metadata": {
    "id": "zJOGwSOsZy6z"
   },
   "source": [
    "Notice that the keys are referring to the different sensors that form our sensor suite. Let's take a look at the metadata of a `sample_data` taken from `CAM_FRONT`."
   ]
  },
  {
   "cell_type": "code",
   "execution_count": null,
   "metadata": {
    "id": "MWnNmRaIZy6z"
   },
   "outputs": [],
   "source": [
    "sensor = 'CAM_FRONT'\n",
    "cam_front_data = nusc.get('sample_data', my_sample['data'][sensor])\n",
    "cam_front_data"
   ]
  },
  {
   "cell_type": "markdown",
   "metadata": {
    "id": "7UtlHzkeZy6z"
   },
   "source": [
    "We can also render the `sample_data` at a particular sensor. "
   ]
  },
  {
   "cell_type": "code",
   "execution_count": null,
   "metadata": {
    "id": "iFEJfrJUZy6z"
   },
   "outputs": [],
   "source": [
    "nusc.render_sample_data(cam_front_data['token'])"
   ]
  },
  {
   "cell_type": "markdown",
   "metadata": {
    "id": "5BZFnc7_Zy6z"
   },
   "source": [
    "### 4. `sample_annotation`"
   ]
  },
  {
   "cell_type": "markdown",
   "metadata": {
    "id": "R-Fao0PWZy60"
   },
   "source": [
    "`sample_annotation` refers to any ***bounding box defining the position of an object seen in a sample***. All location data is given with respect to the global coordinate system. Let's examine an example from our `sample` above."
   ]
  },
  {
   "cell_type": "code",
   "execution_count": null,
   "metadata": {
    "id": "SgenySIcZy60"
   },
   "outputs": [],
   "source": [
    "my_annotation_token = my_sample['anns'][18]\n",
    "my_annotation_metadata =  nusc.get('sample_annotation', my_annotation_token)\n",
    "my_annotation_metadata"
   ]
  },
  {
   "cell_type": "markdown",
   "metadata": {
    "id": "387azJRCZy60"
   },
   "source": [
    "We can also render an annotation to have a closer look."
   ]
  },
  {
   "cell_type": "code",
   "execution_count": null,
   "metadata": {
    "id": "r6eOe3KTZy61"
   },
   "outputs": [],
   "source": [
    "nusc.render_annotation(my_annotation_token)"
   ]
  },
  {
   "cell_type": "markdown",
   "metadata": {
    "id": "OH-RhR8ZZy61"
   },
   "source": [
    "### 5. `instance`"
   ]
  },
  {
   "cell_type": "markdown",
   "metadata": {
    "id": "-iUe4O3-Zy61"
   },
   "source": [
    "Object instance are instances that need to be detected or tracked by an AV (e.g a particular vehicle, pedestrian). Let us examine an instance metadata"
   ]
  },
  {
   "cell_type": "code",
   "execution_count": null,
   "metadata": {
    "id": "dzcV_WNQZy61"
   },
   "outputs": [],
   "source": [
    "my_instance = nusc.instance[599]\n",
    "my_instance"
   ]
  },
  {
   "cell_type": "markdown",
   "metadata": {
    "id": "q9EK57WTZy61"
   },
   "source": [
    "We generally track an instance across different frames in a particular scene. However, we do not track them across different scenes. In this example, we have 16 annotated samples for this instance across a particular scene."
   ]
  },
  {
   "cell_type": "code",
   "execution_count": null,
   "metadata": {
    "id": "o-9VVuZWZy61"
   },
   "outputs": [],
   "source": [
    "instance_token = my_instance['token']\n",
    "nusc.render_instance(instance_token)"
   ]
  },
  {
   "cell_type": "markdown",
   "metadata": {
    "id": "6YumhRBoZy62"
   },
   "source": [
    "An instance record takes note of its first and last annotation token. Let's render them"
   ]
  },
  {
   "cell_type": "code",
   "execution_count": null,
   "metadata": {
    "id": "INGuHvqaZy62"
   },
   "outputs": [],
   "source": [
    "print(\"First annotated sample of this instance:\")\n",
    "nusc.render_annotation(my_instance['first_annotation_token'])"
   ]
  },
  {
   "cell_type": "code",
   "execution_count": null,
   "metadata": {
    "id": "ODGGnfzQZy62"
   },
   "outputs": [],
   "source": [
    "print(\"Last annotated sample of this instance\")\n",
    "nusc.render_annotation(my_instance['last_annotation_token'])"
   ]
  },
  {
   "cell_type": "markdown",
   "metadata": {
    "id": "B-OVy-3SZy62"
   },
   "source": [
    "### 6. `category`"
   ]
  },
  {
   "cell_type": "markdown",
   "metadata": {
    "id": "fjvoM3KhZy62"
   },
   "source": [
    "A `category` is the object assignment of an annotation.  Let's look at the category table we have in our database. The table contains the taxonomy of different object categories and also list the subcategories (delineated by a period). "
   ]
  },
  {
   "cell_type": "code",
   "execution_count": null,
   "metadata": {
    "id": "OIPv97DpZy62"
   },
   "outputs": [],
   "source": [
    "nusc.list_categories()"
   ]
  },
  {
   "cell_type": "markdown",
   "metadata": {
    "id": "aPNinL8YZy62"
   },
   "source": [
    "A category record contains the name and the description of that particular category."
   ]
  },
  {
   "cell_type": "code",
   "execution_count": null,
   "metadata": {
    "id": "BgdrguVzZy63"
   },
   "outputs": [],
   "source": [
    "nusc.category[9]"
   ]
  },
  {
   "cell_type": "markdown",
   "metadata": {
    "id": "6rOmYb9jZy63"
   },
   "source": [
    "Refer to `instructions_nuscenes.md` for the definitions of the different categories."
   ]
  },
  {
   "cell_type": "markdown",
   "metadata": {
    "id": "kJylAnXeZy63"
   },
   "source": [
    "### 7. `attribute`"
   ]
  },
  {
   "cell_type": "markdown",
   "metadata": {
    "id": "s_PKeEXZZy63"
   },
   "source": [
    "An `attribute` is a property of an instance that may change throughout different parts of a scene while the category remains the same. Here we list the provided attributes and the number of annotations associated with a particular attribute."
   ]
  },
  {
   "cell_type": "code",
   "execution_count": null,
   "metadata": {
    "id": "2sNeMA9FZy63"
   },
   "outputs": [],
   "source": [
    "nusc.list_attributes()"
   ]
  },
  {
   "cell_type": "markdown",
   "metadata": {
    "id": "BGdY_J4TZy63"
   },
   "source": [
    "Let's take a look at an example how an attribute may change over one scene"
   ]
  },
  {
   "cell_type": "code",
   "execution_count": null,
   "metadata": {
    "id": "sN8D7UnEZy63"
   },
   "outputs": [],
   "source": [
    "my_instance = nusc.instance[27]\n",
    "first_token = my_instance['first_annotation_token']\n",
    "last_token = my_instance['last_annotation_token']\n",
    "nbr_samples = my_instance['nbr_annotations']\n",
    "current_token = first_token\n",
    "\n",
    "i = 0\n",
    "found_change = False\n",
    "while current_token != last_token:\n",
    "    current_ann = nusc.get('sample_annotation', current_token)\n",
    "    current_attr = nusc.get('attribute', current_ann['attribute_tokens'][0])['name']\n",
    "    \n",
    "    if i == 0:\n",
    "        pass\n",
    "    elif current_attr != last_attr:\n",
    "        print(\"Changed from `{}` to `{}` at timestamp {} out of {} annotated timestamps\".format(last_attr, current_attr, i, nbr_samples))\n",
    "        found_change = True\n",
    "\n",
    "    next_token = current_ann['next']\n",
    "    current_token = next_token\n",
    "    last_attr = current_attr\n",
    "    i += 1"
   ]
  },
  {
   "cell_type": "markdown",
   "metadata": {
    "id": "JBQaupNcZy64"
   },
   "source": [
    "### 8. `visibility`"
   ]
  },
  {
   "cell_type": "markdown",
   "metadata": {
    "id": "ZzYja4TgZy64"
   },
   "source": [
    "`visibility` is defined as the fraction of pixels of a particular annotation that are visible over the 6 camera feeds, grouped into 4 bins."
   ]
  },
  {
   "cell_type": "code",
   "execution_count": null,
   "metadata": {
    "id": "sd26_e-QZy64"
   },
   "outputs": [],
   "source": [
    "nusc.visibility"
   ]
  },
  {
   "cell_type": "markdown",
   "metadata": {
    "id": "p9CMwyn8Zy64"
   },
   "source": [
    "Let's look at an example `sample_annotation` with 80-100% visibility"
   ]
  },
  {
   "cell_type": "code",
   "execution_count": null,
   "metadata": {
    "id": "a2k4cVmEZy64"
   },
   "outputs": [],
   "source": [
    "anntoken = 'a7d0722bce164f88adf03ada491ea0ba'\n",
    "visibility_token = nusc.get('sample_annotation', anntoken)['visibility_token']\n",
    "\n",
    "print(\"Visibility: {}\".format(nusc.get('visibility', visibility_token)))\n",
    "nusc.render_annotation(anntoken)"
   ]
  },
  {
   "cell_type": "markdown",
   "metadata": {
    "id": "rsg2xevNZy64"
   },
   "source": [
    "Let's look at an example `sample_annotation` with 0-40% visibility"
   ]
  },
  {
   "cell_type": "code",
   "execution_count": null,
   "metadata": {
    "id": "QmZ_hGmHZy64"
   },
   "outputs": [],
   "source": [
    "anntoken = '9f450bf6b7454551bbbc9a4c6e74ef2e'\n",
    "visibility_token = nusc.get('sample_annotation', anntoken)['visibility_token']\n",
    "\n",
    "print(\"Visibility: {}\".format(nusc.get('visibility', visibility_token)))\n",
    "nusc.render_annotation(anntoken)"
   ]
  },
  {
   "cell_type": "markdown",
   "metadata": {
    "id": "OvAqqiB6Zy64"
   },
   "source": [
    "### 9. `sensor`"
   ]
  },
  {
   "cell_type": "markdown",
   "metadata": {
    "id": "oJQxj-RRZy64"
   },
   "source": [
    "The nuScenes dataset consists of data collected from our full sensor suite which consists of:\n",
    "- 1 x LIDAR, \n",
    "- 5 x RADAR, \n",
    "- 6 x cameras, "
   ]
  },
  {
   "cell_type": "code",
   "execution_count": null,
   "metadata": {
    "id": "pGxNJe1CZy65",
    "scrolled": true
   },
   "outputs": [],
   "source": [
    "nusc.sensor"
   ]
  },
  {
   "cell_type": "markdown",
   "metadata": {
    "id": "3Wo8WgrwZy65"
   },
   "source": [
    "Every `sample_data` has a record on which `sensor` the data is collected from (note the \"channel\" key)"
   ]
  },
  {
   "cell_type": "code",
   "execution_count": null,
   "metadata": {
    "id": "oW2K1f9fZy65",
    "scrolled": true
   },
   "outputs": [],
   "source": [
    "nusc.sample_data[10]"
   ]
  },
  {
   "cell_type": "markdown",
   "metadata": {
    "id": "u3qsuKBQZy65"
   },
   "source": [
    "### 10. `calibrated_sensor`"
   ]
  },
  {
   "cell_type": "markdown",
   "metadata": {
    "id": "HSd5SalyZy65"
   },
   "source": [
    "`calibrated_sensor` consists of the definition of a particular sensor (lidar/radar/camera) as calibrated on a particular vehicle. Let us look at an example."
   ]
  },
  {
   "cell_type": "code",
   "execution_count": null,
   "metadata": {
    "id": "08-04Q5YZy65",
    "scrolled": true
   },
   "outputs": [],
   "source": [
    "nusc.calibrated_sensor[0]"
   ]
  },
  {
   "cell_type": "markdown",
   "metadata": {
    "id": "AZ8FXh-JZy65"
   },
   "source": [
    "Note that the `translation` and the `rotation` parameters are given with respect to the ego vehicle body frame. "
   ]
  },
  {
   "cell_type": "markdown",
   "metadata": {
    "id": "sCG3H0tGZy65"
   },
   "source": [
    "### 11. `ego_pose`"
   ]
  },
  {
   "cell_type": "markdown",
   "metadata": {
    "id": "EHFgJvXEZy65"
   },
   "source": [
    "`ego_pose` contains information about the location (encoded in `translation`) and the orientation (encoded in `rotation`) of the ego vehicle, with respect to the global coordinate system."
   ]
  },
  {
   "cell_type": "code",
   "execution_count": null,
   "metadata": {
    "id": "jaJHznv5Zy65"
   },
   "outputs": [],
   "source": [
    "nusc.ego_pose[0]"
   ]
  },
  {
   "cell_type": "markdown",
   "metadata": {
    "id": "GOJ3D91_Zy66"
   },
   "source": [
    "Note that the number of `ego_pose` records in our loaded database is the same as the number of `sample_data` records. These two records exhibit a one-to-one correspondence."
   ]
  },
  {
   "cell_type": "markdown",
   "metadata": {
    "id": "Z1seGusyZy66"
   },
   "source": [
    "### 12. `log`\n",
    "\n",
    "The `log` table contains log information from which the data was extracted. A `log` record corresponds to one journey of our ego vehicle along a predefined route. Let's check the number of logs and the metadata of a log."
   ]
  },
  {
   "cell_type": "code",
   "execution_count": null,
   "metadata": {
    "id": "zLsNQIj3Zy66"
   },
   "outputs": [],
   "source": [
    "print(\"Number of `logs` in our loaded database: {}\".format(len(nusc.log)))"
   ]
  },
  {
   "cell_type": "code",
   "execution_count": null,
   "metadata": {
    "id": "HK2ieehZZy66"
   },
   "outputs": [],
   "source": [
    "nusc.log[0]"
   ]
  },
  {
   "cell_type": "markdown",
   "metadata": {
    "id": "NGnTdBi0Zy66"
   },
   "source": [
    "Notice that it contains a variety of information such as the date and location of the log collected. It also gives out information about the map from where the data was collected. Note that one log can contain multiple non-overlapping scenes."
   ]
  },
  {
   "cell_type": "markdown",
   "metadata": {
    "id": "534EcXMYZy66"
   },
   "source": [
    "### 13. `map`"
   ]
  },
  {
   "cell_type": "markdown",
   "metadata": {
    "id": "nBaIaS-mZy66"
   },
   "source": [
    "Map information is stored as binary semantic masks from a top-down view. Let's check the number of maps and metadata of a map."
   ]
  },
  {
   "cell_type": "code",
   "execution_count": null,
   "metadata": {
    "id": "ZoFLuDwQZy66"
   },
   "outputs": [],
   "source": [
    "print(\"There are {} maps masks in the loaded dataset\".format(len(nusc.map)))"
   ]
  },
  {
   "cell_type": "code",
   "execution_count": null,
   "metadata": {
    "id": "qTGEFn0xZy66",
    "scrolled": true
   },
   "outputs": [],
   "source": [
    "nusc.map[0]"
   ]
  },
  {
   "cell_type": "markdown",
   "metadata": {
    "id": "FEWg8JutZy67"
   },
   "source": [
    "## nuScenes Basics"
   ]
  },
  {
   "cell_type": "markdown",
   "metadata": {
    "id": "-xSTxwfuZy67"
   },
   "source": [
    "Let's get a bit technical.\n",
    "\n",
    "The NuScenes class holds several tables. Each table is a list of records, and each record is a dictionary. For example the first record of the category table is stored at:"
   ]
  },
  {
   "cell_type": "code",
   "execution_count": null,
   "metadata": {
    "id": "3ub7iKbfZy67"
   },
   "outputs": [],
   "source": [
    "nusc.category[0]"
   ]
  },
  {
   "cell_type": "markdown",
   "metadata": {
    "id": "b9hXNoLPZy67"
   },
   "source": [
    "The category table is simple: it holds the fields `name` and `description`. It also has a `token` field, which is a unique record identifier. Since the record is a dictionary, the token can be accessed like so:"
   ]
  },
  {
   "cell_type": "code",
   "execution_count": null,
   "metadata": {
    "id": "B7fKP3lwZy67"
   },
   "outputs": [],
   "source": [
    "cat_token = nusc.category[0]['token']\n",
    "cat_token"
   ]
  },
  {
   "cell_type": "markdown",
   "metadata": {
    "id": "tLtMpvSJZy67"
   },
   "source": [
    "If you know the `token` for any record in the DB you can retrieve the record by doing"
   ]
  },
  {
   "cell_type": "code",
   "execution_count": null,
   "metadata": {
    "id": "SHbZU5ARZy67"
   },
   "outputs": [],
   "source": [
    "nusc.get('category', cat_token)"
   ]
  },
  {
   "cell_type": "markdown",
   "metadata": {
    "id": "4sAH6JwOZy67"
   },
   "source": [
    "_As you can notice, we have recovered the same record!_"
   ]
  },
  {
   "cell_type": "markdown",
   "metadata": {
    "id": "kM0w12ILZy67"
   },
   "source": [
    "OK, that was easy. Let's try something harder. Let's look at the `sample_annotation` table."
   ]
  },
  {
   "cell_type": "code",
   "execution_count": null,
   "metadata": {
    "id": "yNQBrwhzZy67"
   },
   "outputs": [],
   "source": [
    "nusc.sample_annotation[0]"
   ]
  },
  {
   "cell_type": "markdown",
   "metadata": {
    "id": "9Yn5bKl4Zy67"
   },
   "source": [
    "This also has a `token` field (they all do). In addition, it has several fields of the format [a-z]*\\_token, _e.g._ instance_token. These are foreign keys in database terminology, meaning they point to another table. \n",
    "Using `nusc.get()` we can grab any of these in constant time. For example, let's look at the visibility record."
   ]
  },
  {
   "cell_type": "code",
   "execution_count": null,
   "metadata": {
    "id": "RkzWMlfMZy67"
   },
   "outputs": [],
   "source": [
    "nusc.get('visibility', nusc.sample_annotation[0]['visibility_token'])"
   ]
  },
  {
   "cell_type": "markdown",
   "metadata": {
    "id": "AZhcENH_Zy68"
   },
   "source": [
    "The visibility records indicate how much of an object was visible when it was annotated.\n",
    "\n",
    "Let's also grab the `instance_token`"
   ]
  },
  {
   "cell_type": "code",
   "execution_count": null,
   "metadata": {
    "id": "wSAP_cxCZy68"
   },
   "outputs": [],
   "source": [
    "one_instance = nusc.get('instance', nusc.sample_annotation[0]['instance_token'])\n",
    "one_instance"
   ]
  },
  {
   "cell_type": "markdown",
   "metadata": {
    "id": "UA6BHlEuZy68"
   },
   "source": [
    "This points to the `instance` table. This table enumerate the object _instances_ we have encountered in each \n",
    "scene. This way we can connect all annotations of a particular object.\n",
    "\n",
    "If you look carefully at the README tables, you will see that the sample_annotation table points to the instance table, \n",
    "but the instance table doesn't list all annotations that point to it. \n",
    "\n",
    "So how can we recover all sample_annotations for a particular object instance? There are two ways:\n",
    "\n",
    "1. `Use nusc.field2token()`. Let's try it:"
   ]
  },
  {
   "cell_type": "code",
   "execution_count": null,
   "metadata": {
    "id": "q0K_YgCGZy68"
   },
   "outputs": [],
   "source": [
    "ann_tokens = nusc.field2token('sample_annotation', 'instance_token', one_instance['token'])"
   ]
  },
  {
   "cell_type": "markdown",
   "metadata": {
    "id": "Jwj-Pk-BZy68"
   },
   "source": [
    "This returns a list of all sample_annotation records with the `'instance_token'` == `one_instance['token']`. Let's store these in a set for now"
   ]
  },
  {
   "cell_type": "code",
   "execution_count": null,
   "metadata": {
    "id": "jLNHn7YwZy68",
    "scrolled": true
   },
   "outputs": [],
   "source": [
    "ann_tokens_field2token = set(ann_tokens)\n",
    "\n",
    "ann_tokens_field2token"
   ]
  },
  {
   "cell_type": "markdown",
   "metadata": {
    "id": "S0YC-2jTZy68"
   },
   "source": [
    "The `nusc.field2token()` method is generic and can be used in any similar situation.\n",
    "\n",
    "2. For certain situation, we provide some reverse indices in the tables themselves. This is one such example. "
   ]
  },
  {
   "cell_type": "markdown",
   "metadata": {
    "id": "zH3Bq89yZy68"
   },
   "source": [
    "The instance record has a field `first_annotation_token` which points to the first annotation in time of this instance. \n",
    "Recovering this record is easy."
   ]
  },
  {
   "cell_type": "code",
   "execution_count": null,
   "metadata": {
    "id": "2Bp5oaQdZy68"
   },
   "outputs": [],
   "source": [
    "ann_record = nusc.get('sample_annotation', one_instance['first_annotation_token'])\n",
    "ann_record"
   ]
  },
  {
   "cell_type": "markdown",
   "metadata": {
    "id": "R45xUlWeZy68"
   },
   "source": [
    "Now we can traverse all annotations of this instance using the \"next\" field. Let's try it. "
   ]
  },
  {
   "cell_type": "code",
   "execution_count": null,
   "metadata": {
    "id": "hpLEqF8lZy68"
   },
   "outputs": [],
   "source": [
    "ann_tokens_traverse = set()\n",
    "ann_tokens_traverse.add(ann_record['token'])\n",
    "while not ann_record['next'] == \"\":\n",
    "    ann_record = nusc.get('sample_annotation', ann_record['next'])\n",
    "    ann_tokens_traverse.add(ann_record['token'])"
   ]
  },
  {
   "cell_type": "markdown",
   "metadata": {
    "id": "b8aYLQLxZy68"
   },
   "source": [
    "Finally, let's assert that we recovered the same ann_records as we did using nusc.field2token:"
   ]
  },
  {
   "cell_type": "code",
   "execution_count": null,
   "metadata": {
    "id": "7nKxUDYDZy69"
   },
   "outputs": [],
   "source": [
    "print(ann_tokens_traverse == ann_tokens_field2token)"
   ]
  },
  {
   "cell_type": "markdown",
   "metadata": {
    "id": "2j0SWj5YZy69"
   },
   "source": [
    "## Reverse indexing and short-cuts\n",
    "\n",
    "The nuScenes tables are normalized, meaning that each piece of information is only given once.\n",
    "For example, there is one `map` record for each `log` record. Looking at the schema you will notice that the `map` table has a `log_token` field, but that the `log` table does not have a corresponding `map_token` field. But there are plenty of situations where you have a `log`, and want to find the corresponding `map`! So what to do? You can always use the `nusc.field2token()` method, but that is slow and inconvenient. We therefore add reverse mappings for some common situations including this one.\n",
    "\n",
    "Further, there are situations where one needs to go through several tables to get a certain piece of information. \n",
    "Consider, for example, the category name (e.g. `human.pedestrian`) of a `sample_annotation`. The `sample_annotation` table doesn't hold this information since the category is an instance level constant. Instead the `sample_annotation` table points to a record in the `instance` table. This, in turn, points to a record in the `category` table, where finally the `name` fields stores the required information.\n",
    "\n",
    "Since it is quite common to want to know the category name of an annotation, we add a `category_name` field to the `sample_annotation` table during initialization of the NuScenes class.\n",
    "\n",
    "In this section, we list the short-cuts and reverse indices that are added to the `NuScenes` class during initialization. These are all created in the `NuScenes.__make_reverse_index__()` method."
   ]
  },
  {
   "cell_type": "markdown",
   "metadata": {
    "id": "3QjS3Tj3Zy69"
   },
   "source": [
    "### Reverse indices\n",
    "We add two reverse indices by default.\n",
    "* A `map_token` field is added to the `log` records.\n",
    "* The `sample` records have shortcuts to all `sample_annotations` for that record as well as `sample_data` key-frames. Confer `nusc.list_sample()` method in the previous section for more details on this."
   ]
  },
  {
   "cell_type": "markdown",
   "metadata": {
    "id": "uH3l6iUEZy69"
   },
   "source": [
    "### Shortcuts"
   ]
  },
  {
   "cell_type": "markdown",
   "metadata": {
    "id": "LwbJ7c5fZy69"
   },
   "source": [
    "The sample_annotation table has a \"category_name\" shortcut."
   ]
  },
  {
   "cell_type": "markdown",
   "metadata": {
    "id": "GrqdOPihZy69"
   },
   "source": [
    "_Using shortcut:_"
   ]
  },
  {
   "cell_type": "code",
   "execution_count": null,
   "metadata": {
    "id": "Ja8-yTcfZy69"
   },
   "outputs": [],
   "source": [
    "catname = nusc.sample_annotation[0]['category_name']"
   ]
  },
  {
   "cell_type": "markdown",
   "metadata": {
    "id": "mLKXUIjcZy69"
   },
   "source": [
    "_Not using shortcut:_"
   ]
  },
  {
   "cell_type": "code",
   "execution_count": null,
   "metadata": {
    "id": "UXPQ6Gx5Zy69"
   },
   "outputs": [],
   "source": [
    "ann_rec = nusc.sample_annotation[0]\n",
    "inst_rec = nusc.get('instance', ann_rec['instance_token'])\n",
    "cat_rec = nusc.get('category', inst_rec['category_token'])\n",
    "\n",
    "print(catname == cat_rec['name'])"
   ]
  },
  {
   "cell_type": "markdown",
   "metadata": {
    "id": "IinXQV0PZy69"
   },
   "source": [
    "The sample_data table has \"channel\" and \"sensor_modality\" shortcuts:"
   ]
  },
  {
   "cell_type": "code",
   "execution_count": null,
   "metadata": {
    "id": "MWrhk6jZZy69"
   },
   "outputs": [],
   "source": [
    "# Shortcut\n",
    "channel = nusc.sample_data[0]['channel']\n",
    "\n",
    "# No shortcut\n",
    "sd_rec = nusc.sample_data[0]\n",
    "cs_record = nusc.get('calibrated_sensor', sd_rec['calibrated_sensor_token'])\n",
    "sensor_record = nusc.get('sensor', cs_record['sensor_token'])\n",
    "\n",
    "print(channel == sensor_record['channel'])"
   ]
  },
  {
   "cell_type": "markdown",
   "metadata": {
    "id": "usHmLp_9Zy6-"
   },
   "source": [
    "## Data Visualizations\n",
    "\n",
    "We provide list and rendering methods. These are meant both as convenience methods during development, and as tutorials for building your own visualization methods. They are implemented in the NuScenesExplorer class, with shortcuts through the NuScenes class itself."
   ]
  },
  {
   "cell_type": "markdown",
   "metadata": {
    "id": "II6sklTyZy6-"
   },
   "source": [
    "### List methods\n",
    "There are three list methods available."
   ]
  },
  {
   "cell_type": "markdown",
   "metadata": {
    "id": "osu6uW5vZy6-"
   },
   "source": [
    "1. `list_categories()` lists all categories, counts and statistics of width/length/height in meters and aspect ratio."
   ]
  },
  {
   "cell_type": "code",
   "execution_count": null,
   "metadata": {
    "id": "5fUMN5BAZy6-"
   },
   "outputs": [],
   "source": [
    "nusc.list_categories()"
   ]
  },
  {
   "cell_type": "markdown",
   "metadata": {
    "id": "_YxTAfWXZy6-"
   },
   "source": [
    "2. `list_attributes()` lists all attributes and counts."
   ]
  },
  {
   "cell_type": "code",
   "execution_count": null,
   "metadata": {
    "id": "C11-xtTeZy6-"
   },
   "outputs": [],
   "source": [
    "nusc.list_attributes()"
   ]
  },
  {
   "cell_type": "markdown",
   "metadata": {
    "id": "JVTxIiYmZy6-"
   },
   "source": [
    "3. `list_scenes()` lists all scenes in the loaded DB."
   ]
  },
  {
   "cell_type": "code",
   "execution_count": null,
   "metadata": {
    "id": "XqnCDCWZZy6-"
   },
   "outputs": [],
   "source": [
    "nusc.list_scenes()"
   ]
  },
  {
   "cell_type": "markdown",
   "metadata": {
    "id": "M0JKXOUGZy6-"
   },
   "source": [
    "### Render"
   ]
  },
  {
   "cell_type": "markdown",
   "metadata": {
    "id": "e9c7609gZy6-"
   },
   "source": [
    "First, let's plot a lidar point cloud in an image. Lidar allows us to accurately map the surroundings in 3D."
   ]
  },
  {
   "cell_type": "code",
   "execution_count": null,
   "metadata": {
    "id": "VtUIoa8wZy6-"
   },
   "outputs": [],
   "source": [
    "my_sample = nusc.sample[10]\n",
    "nusc.render_pointcloud_in_image(my_sample['token'], pointsensor_channel='LIDAR_TOP')"
   ]
  },
  {
   "cell_type": "markdown",
   "metadata": {
    "id": "kzUfH_qlZy6-"
   },
   "source": [
    "In the previous image the colors indicate the distance from the ego vehicle to each lidar point. We can also render the lidar intensity. In the following image the traffic sign ahead of us is highly reflective (yellow) and the dark vehicle on the right has low reflectivity (purple)."
   ]
  },
  {
   "cell_type": "code",
   "execution_count": null,
   "metadata": {
    "id": "UdvSpX0EZy6_"
   },
   "outputs": [],
   "source": [
    "nusc.render_pointcloud_in_image(my_sample['token'], pointsensor_channel='LIDAR_TOP', render_intensity=True)"
   ]
  },
  {
   "cell_type": "markdown",
   "metadata": {
    "id": "y98LReENZy6_"
   },
   "source": [
    "Second, let's plot the radar point cloud for the same image. Radar is less dense than lidar, but has a much larger range."
   ]
  },
  {
   "cell_type": "code",
   "execution_count": null,
   "metadata": {
    "id": "lUAW3M_3Zy6_"
   },
   "outputs": [],
   "source": [
    "nusc.render_pointcloud_in_image(my_sample['token'], pointsensor_channel='RADAR_FRONT')"
   ]
  },
  {
   "cell_type": "markdown",
   "metadata": {
    "id": "Yn_tzqRxZy6_"
   },
   "source": [
    "We can also plot all annotations across all sample data for that sample. Note how for radar we also plot the velocity vectors of moving objects. Some velocity vectors are outliers, which can be filtered using the settings in RadarPointCloud.from_file()"
   ]
  },
  {
   "cell_type": "code",
   "execution_count": null,
   "metadata": {
    "id": "b7P-mwdjZy6_"
   },
   "outputs": [],
   "source": [
    "my_sample = nusc.sample[20]\n",
    "\n",
    "# The rendering command below is commented out because it may crash in notebooks\n",
    "# nusc.render_sample(my_sample['token'])"
   ]
  },
  {
   "cell_type": "markdown",
   "metadata": {
    "id": "Oq385bO-Zy6_"
   },
   "source": [
    "Or if we only want to render a particular sensor, we can specify that."
   ]
  },
  {
   "cell_type": "code",
   "execution_count": null,
   "metadata": {
    "id": "axD57x_lZy6_"
   },
   "outputs": [],
   "source": [
    "nusc.render_sample_data(my_sample['data']['CAM_FRONT'])"
   ]
  },
  {
   "cell_type": "markdown",
   "metadata": {
    "id": "NMF36I4aZy6_"
   },
   "source": [
    "Additionally we can aggregate the point clouds from multiple sweeps to get a denser point cloud."
   ]
  },
  {
   "cell_type": "code",
   "execution_count": null,
   "metadata": {
    "id": "On9cP7j9Zy6_"
   },
   "outputs": [],
   "source": [
    "nusc.render_sample_data(my_sample['data']['LIDAR_TOP'], nsweeps=5, underlay_map=True)\n",
    "nusc.render_sample_data(my_sample['data']['RADAR_FRONT'], nsweeps=5, underlay_map=True)"
   ]
  },
  {
   "cell_type": "markdown",
   "metadata": {
    "id": "4ir_3c8PZy6_"
   },
   "source": [
    "In the radar plot above we only see very confident radar returns from two vehicles. This is due to the filter settings defined in the file `nuscenes/utils/data_classes.py`. If instead we want to disable all filters and render all returns, we can use the `disable_filters()` function. This returns a denser point cloud, but with many returns from background objects. To return to the default settings, simply call `default_filters()`."
   ]
  },
  {
   "cell_type": "code",
   "execution_count": null,
   "metadata": {
    "id": "XQU0rCmQZy6_"
   },
   "outputs": [],
   "source": [
    "from nuscenes.utils.data_classes import RadarPointCloud\n",
    "RadarPointCloud.disable_filters()\n",
    "nusc.render_sample_data(my_sample['data']['RADAR_FRONT'], nsweeps=5, underlay_map=True)\n",
    "RadarPointCloud.default_filters()"
   ]
  },
  {
   "cell_type": "markdown",
   "metadata": {
    "id": "Jbkn83q0Zy7A"
   },
   "source": [
    "We can even render a specific annotation."
   ]
  },
  {
   "cell_type": "code",
   "execution_count": null,
   "metadata": {
    "id": "noGyiEvzZy7A"
   },
   "outputs": [],
   "source": [
    "nusc.render_annotation(my_sample['anns'][22])"
   ]
  },
  {
   "cell_type": "markdown",
   "metadata": {
    "id": "cn0itB2uZy7A"
   },
   "source": [
    "Finally, we can render a full scene as a video. There are two options here:\n",
    "1. nusc.render_scene_channel() renders the video for a particular channel. (HIT ESC to exit)\n",
    "2. nusc.render_scene() renders the video for all camera channels.\n",
    "\n",
    "NOTE: These methods use OpenCV for rendering, which doesn't always play nice with IPython Notebooks. If you experience any issues please run these lines from the command line. \n",
    "\n",
    "Let's grab scene 0061, it is nice and dense."
   ]
  },
  {
   "cell_type": "code",
   "execution_count": null,
   "metadata": {
    "id": "NS1Mz1xkZy7A"
   },
   "outputs": [],
   "source": [
    "my_scene_token = nusc.field2token('scene', 'name', 'scene-0061')[0]"
   ]
  },
  {
   "cell_type": "code",
   "execution_count": null,
   "metadata": {
    "id": "DVnvcnxtZy7A"
   },
   "outputs": [],
   "source": [
    "# The rendering command below is commented out because it may crash in notebooks\n",
    "# nusc.render_scene_channel(my_scene_token, 'CAM_FRONT')"
   ]
  },
  {
   "cell_type": "markdown",
   "metadata": {
    "id": "ss-RitepZy7A"
   },
   "source": [
    "There is also a method nusc.render_scene() which renders the video for all camera channels. \n",
    "This requires a high-res monitor, and is also best run outside this notebook."
   ]
  },
  {
   "cell_type": "code",
   "execution_count": null,
   "metadata": {
    "id": "FnmuN7eZZy7A"
   },
   "outputs": [],
   "source": [
    "# The rendering command below is commented out because it may crash in notebooks\n",
    "# nusc.render_scene(my_scene_token)"
   ]
  },
  {
   "cell_type": "markdown",
   "metadata": {
    "id": "JluA_ZFpZy7A"
   },
   "source": [
    "Finally, let us visualize all scenes on the map for a particular location."
   ]
  },
  {
   "cell_type": "code",
   "execution_count": null,
   "metadata": {
    "id": "tABl0MKVZy7A"
   },
   "outputs": [],
   "source": [
    "nusc.render_egoposes_on_map(log_location='singapore-onenorth')"
   ]
  }
 ],
 "metadata": {
  "colab": {
   "name": "nuscenes_tutorial.ipynb",
   "provenance": []
  },
  "hide_input": false,
  "kernelspec": {
   "display_name": "Python 3",
   "language": "python",
   "name": "python3"
  },
  "language_info": {
   "codemirror_mode": {
    "name": "ipython",
    "version": 3
   },
   "file_extension": ".py",
   "mimetype": "text/x-python",
   "name": "python",
   "nbconvert_exporter": "python",
   "pygments_lexer": "ipython3",
   "version": "3.8.5"
  },
  "latex_envs": {
   "LaTeX_envs_menu_present": true,
   "autoclose": false,
   "autocomplete": true,
   "bibliofile": "biblio.bib",
   "cite_by": "apalike",
   "current_citInitial": 1,
   "eqLabelWithNumbers": true,
   "eqNumInitial": 1,
   "hotkeys": {
    "equation": "Ctrl-E",
    "itemize": "Ctrl-I"
   },
   "labels_anchors": false,
   "latex_user_defs": false,
   "report_style_numbering": false,
   "user_envs_cfg": false
  },
  "toc": {
   "base_numbering": 1,
   "nav_menu": {},
   "number_sections": true,
   "sideBar": true,
   "skip_h1_title": false,
   "title_cell": "Table of Contents",
   "title_sidebar": "Contents",
   "toc_cell": false,
   "toc_position": {},
   "toc_section_display": true,
   "toc_window_display": false
  },
  "varInspector": {
   "cols": {
    "lenName": 16,
    "lenType": 16,
    "lenVar": 40
   },
   "kernels_config": {
    "python": {
     "delete_cmd_postfix": "",
     "delete_cmd_prefix": "del ",
     "library": "var_list.py",
     "varRefreshCmd": "print(var_dic_list())"
    },
    "r": {
     "delete_cmd_postfix": ") ",
     "delete_cmd_prefix": "rm(",
     "library": "var_list.r",
     "varRefreshCmd": "cat(var_dic_list()) "
    }
   },
   "types_to_exclude": [
    "module",
    "function",
    "builtin_function_or_method",
    "instance",
    "_Feature"
   ],
   "window_display": false
  }
 },
 "nbformat": 4,
 "nbformat_minor": 1
}
