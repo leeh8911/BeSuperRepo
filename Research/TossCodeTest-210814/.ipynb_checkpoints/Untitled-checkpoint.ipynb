{
 "cells": [
  {
   "cell_type": "code",
   "execution_count": 12,
   "id": "6ea19d84",
   "metadata": {
    "ExecuteTime": {
     "end_time": "2021-08-14T04:51:57.451363Z",
     "start_time": "2021-08-14T04:51:57.437373Z"
    }
   },
   "outputs": [
    {
     "name": "stdout",
     "output_type": "stream",
     "text": [
      "[1, 10]\n",
      "[2, 1]\n"
     ]
    }
   ],
   "source": [
    "# test\n",
    "\n",
    "def solution(v):\n",
    "    answer = []\n",
    "    \n",
    "    x, y = dict(), dict()\n",
    "    for p in v:\n",
    "        if p[0] in x.keys():\n",
    "            x[p[0]] += 1\n",
    "        else:\n",
    "            x.update({p[0]:1})\n",
    "        if p[1] in y.keys():\n",
    "            y[p[1]] += 1\n",
    "        else:\n",
    "            y.update({p[1]:1})\n",
    "            \n",
    "    answer = [min(x.keys(), key=lambda k: x[k]), min(y.keys(), key=lambda k: y[k])]\n",
    "    \n",
    "    return answer\n",
    "\n",
    "print(solution([[1, 4], [3, 4], [3, 10]]))\n",
    "print(solution([[1, 1], [2, 2], [1, 2]]))"
   ]
  },
  {
   "cell_type": "code",
   "execution_count": 34,
   "id": "05456ad2",
   "metadata": {
    "ExecuteTime": {
     "end_time": "2021-08-14T05:15:25.465941Z",
     "start_time": "2021-08-14T05:15:25.447955Z"
    }
   },
   "outputs": [
    {
     "name": "stdout",
     "output_type": "stream",
     "text": [
      "a\n",
      "ab\n",
      "b\n",
      "TOSSab\n"
     ]
    }
   ],
   "source": [
    "# test\n",
    "from copy import deepcopy\n",
    "\n",
    "def solution(v):\n",
    "    answer = []\n",
    "    voca = dict()\n",
    "    src = deepcopy(v)\n",
    "    src = src.lower()\n",
    "    \n",
    "    for c in src:\n",
    "        if c in voca.keys():\n",
    "            voca[c] += 1\n",
    "        else:\n",
    "            voca.update({c:1})\n",
    "    \n",
    "    max_count = max(voca.values())\n",
    "    \n",
    "    for k, v in voca.items():\n",
    "        if v == max_count:\n",
    "            answer.append(k)\n",
    "    \n",
    "    answer = sorted(answer)\n",
    "    if 's' in answer:\n",
    "        answer.remove('s')\n",
    "        answer.insert(0, 'SS')\n",
    "    if 'o' in answer:\n",
    "        answer.remove('o')\n",
    "        answer.insert(0, 'O')\n",
    "    if 't' in answer:\n",
    "        answer.remove('t')\n",
    "        answer.insert(0, 'T')\n",
    "        \n",
    "    return ''.join(answer)\n",
    "\n",
    "print(solution(\"aAb\"))\n",
    "print(solution(\"BA\"))\n",
    "print(solution(\"BbA\"))\n",
    "print(solution(\"aaBBTtooSS\"))"
   ]
  },
  {
   "cell_type": "code",
   "execution_count": 62,
   "id": "86d6aa49",
   "metadata": {
    "ExecuteTime": {
     "end_time": "2021-08-14T05:47:19.576816Z",
     "start_time": "2021-08-14T05:47:19.558825Z"
    }
   },
   "outputs": [
    {
     "name": "stdout",
     "output_type": "stream",
     "text": [
      "[5, -1, 1, -1, -1, -1]\n",
      "[5, 6, 3, 2, 1, -1, -1, -1]\n"
     ]
    }
   ],
   "source": [
    "# fail\n",
    "BORROW_MONEY = 50_000_000\n",
    "FIRST_ASSET = 100_000_000\n",
    "TARGET_ASSET = FIRST_ASSET * 10\n",
    "\n",
    "\n",
    "def buy_stock(asset, price):\n",
    "    return asset//price, asset%price\n",
    "\n",
    "def estimate_asset(asset, stock_num, price, loan_status):\n",
    "    return asset + stock_num * price - int(loan_status) * BORROW_MONEY\n",
    "\n",
    "def find_dday(price_list):\n",
    "    asset = FIRST_ASSET\n",
    "    stock = 0\n",
    "    loan_status = False\n",
    "    first_price = price_list[0]\n",
    "    \n",
    "    stock, asset = buy_stock(asset, first_price)\n",
    "    \n",
    "    for i, price in enumerate(price_list[1:]):\n",
    "        if (price / first_price < 0.5) and (not loan_status):\n",
    "            loan_status = True\n",
    "            asset += BORROW_MONEY\n",
    "        \n",
    "        if asset > price:\n",
    "            add_stock, asset = buy_stock(asset, price)\n",
    "            stock += add_stock\n",
    "        \n",
    "        if estimate_asset(asset, stock, price, loan_status) >= TARGET_ASSET:\n",
    "            return i+1\n",
    "    \n",
    "    return -1\n",
    "        \n",
    "def solution(v):\n",
    "    answer = []\n",
    "    \n",
    "    for i in range(len(v)):\n",
    "        answer.append(find_dday(v[i:]))\n",
    "    \n",
    "    return answer\n",
    "\n",
    "print(solution([78000, 48000, 27000, 285000, 320000, 335100]))\n",
    "print(solution([34000,78000, 48000, 27000, 11000, 285000, 320000, 335100]))"
   ]
  },
  {
   "cell_type": "code",
   "execution_count": 40,
   "id": "584f990d",
   "metadata": {
    "ExecuteTime": {
     "end_time": "2021-08-14T05:22:43.145009Z",
     "start_time": "2021-08-14T05:22:43.134001Z"
    }
   },
   "outputs": [
    {
     "name": "stdout",
     "output_type": "stream",
     "text": [
      "2941 6000\n"
     ]
    },
    {
     "data": {
      "text/plain": [
       "838191000"
      ]
     },
     "execution_count": 40,
     "metadata": {},
     "output_type": "execute_result"
    }
   ],
   "source": [
    "buy = 100_000_000 // 34_000\n",
    "rest = 100_000_000 % 34_000\n",
    "\n",
    "print(buy, rest)\n",
    "buy * 285_000 + rest"
   ]
  },
  {
   "cell_type": "code",
   "execution_count": null,
   "id": "ff55ac9b",
   "metadata": {},
   "outputs": [],
   "source": []
  }
 ],
 "metadata": {
  "hide_input": false,
  "kernelspec": {
   "display_name": "torch",
   "language": "python",
   "name": "torch"
  },
  "language_info": {
   "codemirror_mode": {
    "name": "ipython",
    "version": 3
   },
   "file_extension": ".py",
   "mimetype": "text/x-python",
   "name": "python",
   "nbconvert_exporter": "python",
   "pygments_lexer": "ipython3",
   "version": "3.6.13"
  },
  "latex_envs": {
   "LaTeX_envs_menu_present": true,
   "autoclose": false,
   "autocomplete": true,
   "bibliofile": "biblio.bib",
   "cite_by": "apalike",
   "current_citInitial": 1,
   "eqLabelWithNumbers": true,
   "eqNumInitial": 1,
   "hotkeys": {
    "equation": "Ctrl-E",
    "itemize": "Ctrl-I"
   },
   "labels_anchors": false,
   "latex_user_defs": false,
   "report_style_numbering": false,
   "user_envs_cfg": false
  },
  "toc": {
   "base_numbering": 1,
   "nav_menu": {},
   "number_sections": true,
   "sideBar": true,
   "skip_h1_title": false,
   "title_cell": "Table of Contents",
   "title_sidebar": "Contents",
   "toc_cell": false,
   "toc_position": {},
   "toc_section_display": true,
   "toc_window_display": false
  },
  "varInspector": {
   "cols": {
    "lenName": 16,
    "lenType": 16,
    "lenVar": 40
   },
   "kernels_config": {
    "python": {
     "delete_cmd_postfix": "",
     "delete_cmd_prefix": "del ",
     "library": "var_list.py",
     "varRefreshCmd": "print(var_dic_list())"
    },
    "r": {
     "delete_cmd_postfix": ") ",
     "delete_cmd_prefix": "rm(",
     "library": "var_list.r",
     "varRefreshCmd": "cat(var_dic_list()) "
    }
   },
   "types_to_exclude": [
    "module",
    "function",
    "builtin_function_or_method",
    "instance",
    "_Feature"
   ],
   "window_display": false
  }
 },
 "nbformat": 4,
 "nbformat_minor": 5
}
