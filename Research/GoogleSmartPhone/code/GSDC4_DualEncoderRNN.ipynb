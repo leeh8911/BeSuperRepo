{
 "cells": [
  {
   "cell_type": "code",
   "execution_count": 1,
   "metadata": {
    "ExecuteTime": {
     "end_time": "2021-07-07T14:20:42.210212Z",
     "start_time": "2021-07-07T14:20:36.848141Z"
    },
    "execution": {
     "iopub.execute_input": "2021-07-07T12:01:13.086273Z",
     "iopub.status.busy": "2021-07-07T12:01:13.085956Z",
     "iopub.status.idle": "2021-07-07T12:01:13.101791Z",
     "shell.execute_reply": "2021-07-07T12:01:13.100287Z",
     "shell.execute_reply.started": "2021-07-07T12:01:13.086245Z"
    }
   },
   "outputs": [],
   "source": [
    "import numpy as np\n",
    "import pandas as pd\n",
    "from glob import glob\n",
    "import os\n",
    "import matplotlib.pyplot as plt\n",
    "from tqdm.notebook import tqdm\n",
    "from pathlib import Path\n",
    "import plotly.express as px\n",
    "\n",
    "import torch\n",
    "import torch.nn as nn\n",
    "import torch.nn.functional as F\n",
    "import torch.optim as optim\n",
    "from torch.utils.data import TensorDataset, DataLoader\n",
    "import torchsummary\n",
    "from sklearn.model_selection import train_test_split\n",
    "from sklearn.preprocessing import StandardScaler, MinMaxScaler\n",
    "\n",
    "import warnings\n",
    "warnings.filterwarnings(action='ignore')"
   ]
  },
  {
   "cell_type": "code",
   "execution_count": 2,
   "metadata": {
    "ExecuteTime": {
     "end_time": "2021-07-07T14:20:42.270305Z",
     "start_time": "2021-07-07T14:20:42.211213Z"
    },
    "execution": {
     "iopub.execute_input": "2021-07-07T12:01:13.103578Z",
     "iopub.status.busy": "2021-07-07T12:01:13.103247Z",
     "iopub.status.idle": "2021-07-07T12:01:13.115766Z",
     "shell.execute_reply": "2021-07-07T12:01:13.114970Z",
     "shell.execute_reply.started": "2021-07-07T12:01:13.103527Z"
    }
   },
   "outputs": [
    {
     "name": "stdout",
     "output_type": "stream",
     "text": [
      "cuda:0\n"
     ]
    }
   ],
   "source": [
    "device = torch.device('cuda:0' if torch.cuda.is_available() else \"cpu\")\n",
    "print(device)"
   ]
  },
  {
   "cell_type": "code",
   "execution_count": 3,
   "metadata": {
    "ExecuteTime": {
     "end_time": "2021-07-07T14:20:42.285306Z",
     "start_time": "2021-07-07T14:20:42.273304Z"
    },
    "execution": {
     "iopub.execute_input": "2021-07-07T12:03:55.554162Z",
     "iopub.status.busy": "2021-07-07T12:03:55.553783Z",
     "iopub.status.idle": "2021-07-07T12:03:55.558107Z",
     "shell.execute_reply": "2021-07-07T12:03:55.557314Z",
     "shell.execute_reply.started": "2021-07-07T12:03:55.554125Z"
    }
   },
   "outputs": [],
   "source": [
    "SEED = 19901109\n",
    "batch_size = 1\n",
    "learning_rate = 0.001\n",
    "nepochs = 10"
   ]
  },
  {
   "cell_type": "code",
   "execution_count": 4,
   "metadata": {
    "ExecuteTime": {
     "end_time": "2021-07-07T14:20:42.315305Z",
     "start_time": "2021-07-07T14:20:42.286303Z"
    },
    "execution": {
     "iopub.execute_input": "2021-07-07T12:01:13.133248Z",
     "iopub.status.busy": "2021-07-07T12:01:13.132945Z",
     "iopub.status.idle": "2021-07-07T12:01:13.150499Z",
     "shell.execute_reply": "2021-07-07T12:01:13.149500Z",
     "shell.execute_reply.started": "2021-07-07T12:01:13.133220Z"
    }
   },
   "outputs": [
    {
     "data": {
      "text/plain": [
       "<torch._C.Generator at 0x27be4154d80>"
      ]
     },
     "execution_count": 4,
     "metadata": {},
     "output_type": "execute_result"
    }
   ],
   "source": [
    "torch.manual_seed(SEED)"
   ]
  },
  {
   "cell_type": "code",
   "execution_count": 5,
   "metadata": {
    "ExecuteTime": {
     "end_time": "2021-07-07T14:20:42.480302Z",
     "start_time": "2021-07-07T14:20:42.316303Z"
    },
    "execution": {
     "iopub.execute_input": "2021-07-07T12:01:13.152611Z",
     "iopub.status.busy": "2021-07-07T12:01:13.152281Z",
     "iopub.status.idle": "2021-07-07T12:01:13.572302Z",
     "shell.execute_reply": "2021-07-07T12:01:13.571313Z",
     "shell.execute_reply.started": "2021-07-07T12:01:13.152581Z"
    }
   },
   "outputs": [],
   "source": [
    "data_dir = Path(\"../input/google-smartphone-decimeter-challenge/\")\n",
    "df_train_default = pd.read_pickle(str(data_dir / \"gsdc_extract_train.pkl.gzip\"))\n",
    "df_test = pd.read_pickle(str(data_dir / \"gsdc_extract_test.pkl.gzip\"))"
   ]
  },
  {
   "cell_type": "code",
   "execution_count": 6,
   "metadata": {
    "ExecuteTime": {
     "end_time": "2021-07-07T14:20:43.290306Z",
     "start_time": "2021-07-07T14:20:42.481303Z"
    },
    "execution": {
     "iopub.execute_input": "2021-07-07T12:01:13.573999Z",
     "iopub.status.busy": "2021-07-07T12:01:13.573647Z",
     "iopub.status.idle": "2021-07-07T12:01:15.608460Z",
     "shell.execute_reply": "2021-07-07T12:01:15.607254Z",
     "shell.execute_reply.started": "2021-07-07T12:01:13.573969Z"
    }
   },
   "outputs": [
    {
     "name": "stdout",
     "output_type": "stream",
     "text": [
      "(118572, 148) (9808, 148)\n"
     ]
    }
   ],
   "source": [
    "def CustomTrainValidSplit(df:pd.DataFrame, valid_size):\n",
    "    phones = df['phone'].unique()\n",
    "    \n",
    "    valid_num = int(len(phones) * valid_size)\n",
    "    train_num = len(phones) - valid_num\n",
    "    \n",
    "    indexes = np.array(range(len(phones)))\n",
    "    indexes = np.random.choice(indexes, len(indexes))\n",
    "    \n",
    "    df_train = []\n",
    "    for phone in phones[indexes[:train_num]]:\n",
    "        df_train.append(df[df['phone'] == phone])\n",
    "    df_train = pd.concat(df_train)\n",
    "    \n",
    "    df_valid = []\n",
    "    for phone in phones[indexes[train_num:-1]]:\n",
    "        df_valid.append(df[df['phone'] == phone])\n",
    "    df_valid = pd.concat(df_valid)\n",
    "    \n",
    "    return df_train.reset_index().drop(columns = 'index'), df_valid.reset_index().drop(columns = 'index')\n",
    "    \n",
    "df_train, df_valid = CustomTrainValidSplit(df_train_default, valid_size = 0.1)\n",
    "print(df_train.shape, df_valid.shape)"
   ]
  },
  {
   "cell_type": "code",
   "execution_count": 7,
   "metadata": {
    "ExecuteTime": {
     "end_time": "2021-07-07T14:20:43.305305Z",
     "start_time": "2021-07-07T14:20:43.292303Z"
    },
    "execution": {
     "iopub.execute_input": "2021-07-07T12:01:15.610068Z",
     "iopub.status.busy": "2021-07-07T12:01:15.609730Z",
     "iopub.status.idle": "2021-07-07T12:01:15.618404Z",
     "shell.execute_reply": "2021-07-07T12:01:15.617229Z",
     "shell.execute_reply.started": "2021-07-07T12:01:15.610038Z"
    }
   },
   "outputs": [],
   "source": [
    "class TimeSeriseDataset(torch.utils.data.Dataset):\n",
    "    def __init__(self, df, phys_features, stat_features, labels, train = False):\n",
    "        self.phys_features = phys_features\n",
    "        self.stat_features = stat_features\n",
    "        self.labels = labels\n",
    "        self.train = train\n",
    "        self.phones =df['phone'].unique()\n",
    "        self._len = len(self.phones)\n",
    "        \n",
    "        self.df = df\n",
    "        \n",
    "    def __len__(self):\n",
    "        return self._len\n",
    "    \n",
    "    def __getitem__(self, idx):\n",
    "        phys_features = self.phys_features\n",
    "        stat_features = self.stat_features\n",
    "        labels = self.labels\n",
    "        phone = self.phones[idx]\n",
    "        df = self.df[self.df['phone']==phone]\n",
    "        \n",
    "        phys = torch.Tensor(df[phys_features].values)\n",
    "        stat = torch.Tensor(df[stat_features].values)\n",
    "        if self.train:\n",
    "            label = torch.Tensor(df[labels].values)\n",
    "        else:\n",
    "            label = None\n",
    "        return phys, stat, label"
   ]
  },
  {
   "cell_type": "code",
   "execution_count": 8,
   "metadata": {
    "ExecuteTime": {
     "end_time": "2021-07-07T14:20:43.320303Z",
     "start_time": "2021-07-07T14:20:43.307305Z"
    },
    "execution": {
     "iopub.execute_input": "2021-07-07T12:01:15.622098Z",
     "iopub.status.busy": "2021-07-07T12:01:15.621813Z",
     "iopub.status.idle": "2021-07-07T12:01:15.859545Z",
     "shell.execute_reply": "2021-07-07T12:01:15.858532Z",
     "shell.execute_reply.started": "2021-07-07T12:01:15.622072Z"
    }
   },
   "outputs": [],
   "source": [
    "phys_features = [\n",
    "    'latDeg', \n",
    "    'lngDeg', \n",
    "    'heightAboveWgs84EllipsoidM',\n",
    "    'dlatDeg',\n",
    "    'dlngDeg',\n",
    "    'dheight',\n",
    "    'UncalGyroXRadPerSec',\n",
    "    'UncalGyroYRadPerSec',\n",
    "    'UncalGyroZRadPerSec',\n",
    "    'DriftXRadPerSec',\n",
    "    'DriftYRadPerSec',\n",
    "    'DriftZRadPerSec',\n",
    "    'UncalAccelXMps2',\n",
    "    'UncalAccelYMps2',\n",
    "    'UncalAccelZMps2',\n",
    "    'BiasXMps2',\n",
    "    'BiasYMps2',\n",
    "    'BiasZMps2',\n",
    "    'UncalMagXMicroT',\n",
    "    'UncalMagYMicroT',\n",
    "    'UncalMagZMicroT',\n",
    "    'BiasXMicroT',\n",
    "    'BiasYMicroT',\n",
    "    'BiasZMicroT',\n",
    "    'yawDeg',\n",
    "    'rollDeg',\n",
    "    'pitchDeg',\n",
    "]\n",
    "stat_features = [\n",
    "    'GPS_L1', \n",
    "    'GPS_L5', \n",
    "    'GAL_E1', \n",
    "    'GAL_E5A', \n",
    "    'GLO_G1', \n",
    "    'BDS_B1I', \n",
    "    'BDS_B1C', \n",
    "    'BDS_B2A', \n",
    "    'QZS_J1', \n",
    "    'QZS_J5',\n",
    "    'xSatPosM',\n",
    "    'ySatPosM',\n",
    "    'zSatPosM',\n",
    "    'xSatVelMps',\n",
    "    'ySatVelMps',\n",
    "    'zSatVelMps',\n",
    "]\n",
    "\n",
    "labels = [\n",
    "    't_latDeg', \n",
    "    't_lngDeg', \n",
    "    't_heightAboveWgs84EllipsoidM',\n",
    "#     'courseDegree',\n",
    "#     'hDop',\n",
    "#     'vDop',\n",
    "#     'speedMps'\n",
    "         ]"
   ]
  },
  {
   "cell_type": "code",
   "execution_count": 9,
   "metadata": {
    "ExecuteTime": {
     "end_time": "2021-07-07T14:20:43.350302Z",
     "start_time": "2021-07-07T14:20:43.321305Z"
    },
    "execution": {
     "iopub.execute_input": "2021-07-07T12:01:15.861361Z",
     "iopub.status.busy": "2021-07-07T12:01:15.861068Z",
     "iopub.status.idle": "2021-07-07T12:01:15.907026Z",
     "shell.execute_reply": "2021-07-07T12:01:15.906093Z",
     "shell.execute_reply.started": "2021-07-07T12:01:15.861334Z"
    }
   },
   "outputs": [],
   "source": [
    "train_data = TimeSeriseDataset(df_train, \n",
    "                           phys_features, stat_features, labels,\n",
    "                           train = True)\n",
    "valid_data = TimeSeriseDataset(df_valid, \n",
    "                           phys_features, stat_features, labels,\n",
    "                           train = True)\n",
    "test_data = TimeSeriseDataset(df_test, \n",
    "                           phys_features, stat_features, labels,\n",
    "                           train = False)\n",
    "train_loader = DataLoader(train_data, batch_size = batch_size, shuffle = True)\n",
    "valid_loader = DataLoader(valid_data, batch_size = batch_size, shuffle = False)\n",
    "test_loader = DataLoader(test_data, batch_size = batch_size, shuffle = False)"
   ]
  },
  {
   "cell_type": "code",
   "execution_count": 31,
   "metadata": {
    "ExecuteTime": {
     "end_time": "2021-07-07T14:22:45.170934Z",
     "start_time": "2021-07-07T14:22:45.152936Z"
    },
    "execution": {
     "iopub.execute_input": "2021-07-07T12:03:43.108868Z",
     "iopub.status.busy": "2021-07-07T12:03:43.108516Z",
     "iopub.status.idle": "2021-07-07T12:03:43.124141Z",
     "shell.execute_reply": "2021-07-07T12:03:43.122937Z",
     "shell.execute_reply.started": "2021-07-07T12:03:43.108841Z"
    }
   },
   "outputs": [],
   "source": [
    "\n",
    "def torch_haversine(pred, true):\n",
    "\n",
    "    lat1=pred[:,0] % 360\n",
    "    lon1=pred[:,1] % 360\n",
    "    lat2=true[:,0] % 360\n",
    "    lon2=true[:,1] % 360\n",
    "\n",
    "    lat1, lat2, lon1, lon2 = map(lambda x:x*np.pi/180, [lat1, lat2, lon1, lon2])\n",
    "\n",
    "    dlat = (lat2 - lat1)\n",
    "    dlon = (lon2 - lon1)\n",
    "\n",
    "    a = torch.sin(dlat / 2.0)**2 + torch.cos(lat1) * torch.cos(lat2) * (torch.sin(dlon / 2.0)**2)\n",
    "    c = 2 * torch.arcsin(a ** 0.5)\n",
    "\n",
    "    dist = 6_367_000 * c\n",
    "\n",
    "    return dist\n",
    "\n",
    "def quantile_mean(dist):\n",
    "    return (torch.quantile(dist, 0.5) + torch.quantile(dist, 0.95))/2\n",
    "    \n",
    "def gps_loss(predict:torch.Tensor, target:torch.Tensor):\n",
    "    dist = torch_haversine(predict, target)\n",
    "\n",
    "    loss = dist.mean()\n",
    "\n",
    "    return loss\n",
    "\n",
    "def gps_score(predict:torch.Tensor, target:torch.Tensor):\n",
    "    dist = torch_haversine(predict, target)\n",
    "\n",
    "    score = quantile_mean(dist)\n",
    "\n",
    "    return score\n",
    "\n",
    "def calc_loss_and_score(predicts, grounds):\n",
    "    dist = []\n",
    "    for pred, ground in zip(predicts, grounds):\n",
    "        pred = pred.squeeze(0)\n",
    "        ground = ground.squeeze(0)\n",
    "        dist.append(torch_haversine(pred, ground))\n",
    "    dist = torch.cat(dist, axis = 0)\n",
    "    return dist.mean(), quantile_mean(dist)"
   ]
  },
  {
   "cell_type": "code",
   "execution_count": 32,
   "metadata": {
    "ExecuteTime": {
     "end_time": "2021-07-07T14:22:48.905937Z",
     "start_time": "2021-07-07T14:22:48.891935Z"
    }
   },
   "outputs": [],
   "source": [
    "class Encoder(nn.Module):\n",
    "    def __init__(self, num_features, num_hiddens, num_layers, dropout = 0.1, device_ = 'cpu'):\n",
    "        super().__init__()\n",
    "        self.device = device_\n",
    "        \n",
    "        self.gru = nn.GRU(num_features, num_hiddens, num_layers, batch_first = True, dropout = dropout, bidirectional = True)\n",
    "    def forward(self, x):\n",
    "        x, h = self.gru(x)\n",
    "        h = h.to(device)\n",
    "        return x, h"
   ]
  },
  {
   "cell_type": "code",
   "execution_count": 33,
   "metadata": {
    "ExecuteTime": {
     "end_time": "2021-07-07T14:22:52.640936Z",
     "start_time": "2021-07-07T14:22:52.626936Z"
    }
   },
   "outputs": [],
   "source": [
    "class Decoder(nn.Module):\n",
    "    def __init__(self, num_features, num_hiddens, num_layers, dropout = 0.1, device_ = 'cpu'):\n",
    "        super().__init__()\n",
    "        self.device = device_\n",
    "        \n",
    "        self.gru = nn.GRU(num_features, num_hiddens, num_layers, batch_first = True, dropout = dropout, bidirectional = True)\n",
    "    def forward(self, x, h0):\n",
    "        x, h = self.gru(x, h0)\n",
    "        h = h.to(device)\n",
    "        return x, h"
   ]
  },
  {
   "cell_type": "code",
   "execution_count": 34,
   "metadata": {
    "ExecuteTime": {
     "end_time": "2021-07-07T14:22:56.345934Z",
     "start_time": "2021-07-07T14:22:56.331936Z"
    },
    "execution": {
     "iopub.execute_input": "2021-07-07T12:03:43.313069Z",
     "iopub.status.busy": "2021-07-07T12:03:43.312697Z",
     "iopub.status.idle": "2021-07-07T12:03:43.318841Z",
     "shell.execute_reply": "2021-07-07T12:03:43.317752Z",
     "shell.execute_reply.started": "2021-07-07T12:03:43.313040Z"
    }
   },
   "outputs": [],
   "source": [
    "class BaseModel(nn.Module):\n",
    "    def __init__(self, num_state, num_status, num_outputs, device_ = 'cpu'):\n",
    "        super().__init__()\n",
    "        self.device = device_\n",
    "        \n",
    "        self.phys_encoder = Encoder(num_state, 16, 1, 0.6, device_)\n",
    "        self.stat_encoder = Encoder(num_status, 16, 1, 0.6, device_)\n",
    "        self.decoder = Decoder(num_outputs, 32, 1, 0.3, device_)\n",
    "        \n",
    "        self.conv = nn.Conv1d(64, 3, 1)\n",
    "        \n",
    "        pass\n",
    "    def forward(self, phys, stat):\n",
    "        phys_x, phys_h = self.phys_encoder(phys)\n",
    "        stat_x, stat_h = self.stat_encoder(stat)\n",
    "\n",
    "        h0 = torch.cat([phys_h, stat_h], axis = 2)\n",
    "        \n",
    "        out, _ = self.decoder(phys[:,:,:3], h0)\n",
    "        out = out.transpose(1,2)\n",
    "        out = self.conv(out)\n",
    "        out = out.transpose(1,2)\n",
    "        return out"
   ]
  },
  {
   "cell_type": "code",
   "execution_count": 35,
   "metadata": {
    "ExecuteTime": {
     "end_time": "2021-07-07T14:23:00.110935Z",
     "start_time": "2021-07-07T14:23:00.081935Z"
    },
    "execution": {
     "iopub.execute_input": "2021-07-07T12:04:20.149399Z",
     "iopub.status.busy": "2021-07-07T12:04:20.149071Z",
     "iopub.status.idle": "2021-07-07T12:04:20.186262Z",
     "shell.execute_reply": "2021-07-07T12:04:20.185248Z",
     "shell.execute_reply.started": "2021-07-07T12:04:20.149372Z"
    }
   },
   "outputs": [],
   "source": [
    "model = BaseModel(len(phys_features), len(stat_features), len(labels), device)\n",
    "model.to(device)\n",
    "# model.load_state_dict(torch.load(\"./models/Baseline3/model-4.pth\"))\n",
    "\n",
    "optimizer = optim.Adam(model.parameters(), lr = learning_rate)\n",
    "scheduler = optim.lr_scheduler.ReduceLROnPlateau(optimizer=optimizer,\n",
    "                                                mode = 'min',\n",
    "                                                factor = 0.1,\n",
    "                                                patience = 5,\n",
    "                                                verbose = True)"
   ]
  },
  {
   "cell_type": "code",
   "execution_count": 41,
   "metadata": {
    "ExecuteTime": {
     "end_time": "2021-07-07T14:31:20.287328Z",
     "start_time": "2021-07-07T14:31:20.278328Z"
    },
    "execution": {
     "iopub.execute_input": "2021-07-07T12:05:02.451618Z",
     "iopub.status.busy": "2021-07-07T12:05:02.451267Z",
     "iopub.status.idle": "2021-07-07T12:05:02.461439Z",
     "shell.execute_reply": "2021-07-07T12:05:02.460474Z",
     "shell.execute_reply.started": "2021-07-07T12:05:02.451589Z"
    }
   },
   "outputs": [],
   "source": [
    "def train(epoch, progress_log):\n",
    "    model.train()  # 신경망을 학습 모드로 전환\n",
    "\n",
    "    # 데이터로더에서 미니배치를 하나씩 꺼내 학습을 수행\n",
    "    predict = []\n",
    "    ground = []\n",
    "    \n",
    "    for phys, stat, label in progress_log:\n",
    "        \n",
    "        phys = phys.to(device)\n",
    "        stat = stat.to(device)\n",
    "        label = label.to(device)\n",
    "        \n",
    "        optimizer.zero_grad()  # 경사를 0으로 초기화\n",
    "        pred = model(phys, stat)  # 데이터를 입력하고 출력을 계산\n",
    "        \n",
    "        loss = gps_loss(pred, label)  # 출력과 훈련 데이터 정답 간의 오차를 계산\n",
    "        score = gps_score(pred, label)  # 출력과 훈련 데이터 정답 간의 오차를 계산\n",
    "\n",
    "        \n",
    "        loss.backward()  # 오차를 역전파 계산\n",
    "        optimizer.step()  # 역전파 계산한 값으로 가중치를 수정\n",
    "        \n",
    "        predict.append(pred.cpu())\n",
    "        ground.append(label.cpu())\n",
    "    \n",
    "    return predict, ground"
   ]
  },
  {
   "cell_type": "code",
   "execution_count": 47,
   "metadata": {
    "ExecuteTime": {
     "end_time": "2021-07-07T14:32:34.664278Z",
     "start_time": "2021-07-07T14:32:34.654287Z"
    },
    "execution": {
     "iopub.execute_input": "2021-07-07T12:05:02.451618Z",
     "iopub.status.busy": "2021-07-07T12:05:02.451267Z",
     "iopub.status.idle": "2021-07-07T12:05:02.461439Z",
     "shell.execute_reply": "2021-07-07T12:05:02.460474Z",
     "shell.execute_reply.started": "2021-07-07T12:05:02.451589Z"
    }
   },
   "outputs": [],
   "source": [
    "def valid(epoch, progress_log):\n",
    "    model.eval()  # 신경망을 학습 모드로 전환\n",
    "\n",
    "    # 데이터로더에서 미니배치를 하나씩 꺼내 학습을 수행\n",
    "    predict = []\n",
    "    ground = []\n",
    "    \n",
    "    with torch.no_grad():\n",
    "        for phys, stat, label in progress_log:\n",
    "\n",
    "            phys = phys.to(device)\n",
    "            stat = stat.to(device)\n",
    "            label = label.to(device)\n",
    "\n",
    "            pred = model(phys, stat)  # 데이터를 입력하고 출력을 계산\n",
    "\n",
    "            predict.append(pred.cpu())\n",
    "            ground.append(label.cpu())\n",
    "    \n",
    "    return predict, ground"
   ]
  },
  {
   "cell_type": "code",
   "execution_count": 47,
   "metadata": {
    "ExecuteTime": {
     "end_time": "2021-07-07T14:32:34.664278Z",
     "start_time": "2021-07-07T14:32:34.654287Z"
    },
    "execution": {
     "iopub.execute_input": "2021-07-07T12:05:02.451618Z",
     "iopub.status.busy": "2021-07-07T12:05:02.451267Z",
     "iopub.status.idle": "2021-07-07T12:05:02.461439Z",
     "shell.execute_reply": "2021-07-07T12:05:02.460474Z",
     "shell.execute_reply.started": "2021-07-07T12:05:02.451589Z"
    }
   },
   "outputs": [],
   "source": [
    "def test(epoch, progress_log):\n",
    "    model.eval()  # 신경망을 학습 모드로 전환\n",
    "\n",
    "    # 데이터로더에서 미니배치를 하나씩 꺼내 학습을 수행\n",
    "    predict = []\n",
    "    ground = []\n",
    "    \n",
    "    with torch.no_grad():\n",
    "        for phys, stat, _ in progress_log:\n",
    "\n",
    "            phys = phys.to(device)\n",
    "            stat = stat.to(device)\n",
    "\n",
    "            pred = model(phys, stat)  # 데이터를 입력하고 출력을 계산\n",
    "\n",
    "            predict.append(pred.cpu())\n",
    "    \n",
    "    return predict"
   ]
  },
  {
   "cell_type": "code",
   "execution_count": 48,
   "metadata": {
    "ExecuteTime": {
     "end_time": "2021-07-07T14:34:30.678181Z",
     "start_time": "2021-07-07T14:32:39.030278Z"
    }
   },
   "outputs": [
    {
     "data": {
      "application/vnd.jupyter.widget-view+json": {
       "model_id": "29f7705d8cf0433f88360d9e2d664aba",
       "version_major": 2,
       "version_minor": 0
      },
      "text/plain": [
       "EPOCH:   0%|          | 0/10 [00:00<?, ?it/s]"
      ]
     },
     "metadata": {},
     "output_type": "display_data"
    },
    {
     "data": {
      "application/vnd.jupyter.widget-view+json": {
       "model_id": "045b576787bd4824ab3110e5e3f06340",
       "version_major": 2,
       "version_minor": 0
      },
      "text/plain": [
       "TRAIN:   0%|          | 0/39 [00:00<?, ?it/s]"
      ]
     },
     "metadata": {},
     "output_type": "display_data"
    },
    {
     "data": {
      "application/vnd.jupyter.widget-view+json": {
       "model_id": "7c9915d12e45491a9e2ef7abc1a46388",
       "version_major": 2,
       "version_minor": 0
      },
      "text/plain": [
       "VALID:   0%|          | 0/5 [00:00<?, ?it/s]"
      ]
     },
     "metadata": {},
     "output_type": "display_data"
    },
    {
     "name": "stdout",
     "output_type": "stream",
     "text": [
      "-------------------------------------------------------\n",
      "|EPOCH: 0/10\n",
      "|TRAIN: loss=11396091.000000,  score=11551429.000000|\n",
      "|VALID: loss=11257088.000000,  score=11337993.000000|\n",
      "-------------------------------------------------------\n",
      "|EPOCH: 1/10\n",
      "|TRAIN: loss=11076521.000000,  score=11253027.000000|\n",
      "|VALID: loss=10910089.000000,  score=10984318.000000|\n",
      "-------------------------------------------------------\n",
      "|EPOCH: 2/10\n",
      "|TRAIN: loss=10730001.000000,  score=10900247.000000|\n",
      "|VALID: loss=10564553.000000,  score=10633460.000000|\n",
      "-------------------------------------------------------\n",
      "|EPOCH: 3/10\n",
      "|TRAIN: loss=10399997.000000,  score=10581743.000000|\n",
      "|VALID: loss=10238954.000000,  score=10330032.000000|\n",
      "-------------------------------------------------------\n",
      "|EPOCH: 4/10\n",
      "|TRAIN: loss=10093045.000000,  score=10275188.000000|\n",
      "|VALID: loss=9923450.000000,  score=10030598.000000|\n",
      "-------------------------------------------------------\n",
      "|EPOCH: 5/10\n",
      "|TRAIN: loss=9769388.000000,  score=9983664.000000|\n",
      "|VALID: loss=9604917.000000,  score=9716350.000000|\n",
      "-------------------------------------------------------\n",
      "|EPOCH: 6/10\n",
      "|TRAIN: loss=9462024.000000,  score=9686720.000000|\n",
      "|VALID: loss=9296058.000000,  score=9420261.000000|\n",
      "-------------------------------------------------------\n",
      "|EPOCH: 7/10\n",
      "|TRAIN: loss=9160626.000000,  score=9397790.000000|\n",
      "|VALID: loss=9000114.000000,  score=9132585.000000|\n",
      "-------------------------------------------------------\n",
      "|EPOCH: 8/10\n",
      "|TRAIN: loss=8850611.000000,  score=9130153.000000|\n",
      "|VALID: loss=8708274.000000,  score=8849493.000000|\n",
      "-------------------------------------------------------\n",
      "|EPOCH: 9/10\n",
      "|TRAIN: loss=8553160.000000,  score=8822798.000000|\n",
      "|VALID: loss=8386115.500000,  score=8505473.000000|\n"
     ]
    }
   ],
   "source": [
    "prog_epoch = tqdm(range(nepochs), position = 0, desc = 'EPOCH')\n",
    "\n",
    "for epoch in prog_epoch:\n",
    "    prog_train = tqdm(train_loader, desc = 'TRAIN', leave = False)\n",
    "    prog_valid = tqdm(valid_loader, desc = 'VALID', leave = False)\n",
    "    train_predict, train_ground = train(epoch, prog_train)\n",
    "    valid_predict, valid_ground = valid(epoch, prog_valid)\n",
    "    \n",
    "    train_loss, train_score = calc_loss_and_score(train_predict, train_ground)\n",
    "    valid_loss, valid_score = calc_loss_and_score(valid_predict, valid_ground)\n",
    "    \n",
    "    print( \"-------------------------------------------------------\")\n",
    "    print(f\"|EPOCH: {epoch+1}/{nepochs}\")\n",
    "    print(f\"|TRAIN: loss={train_loss:.6f},  score={train_score:.6f}|\")\n",
    "    print(f\"|VALID: loss={valid_loss:.6f},  score={valid_score:.6f}|\")"
   ]
  },
  {
   "cell_type": "code",
   "execution_count": null,
   "metadata": {},
   "outputs": [],
   "source": []
  }
 ],
 "metadata": {
  "hide_input": false,
  "kernelspec": {
   "display_name": "torch",
   "language": "python",
   "name": "torch"
  },
  "language_info": {
   "codemirror_mode": {
    "name": "ipython",
    "version": 3
   },
   "file_extension": ".py",
   "mimetype": "text/x-python",
   "name": "python",
   "nbconvert_exporter": "python",
   "pygments_lexer": "ipython3",
   "version": "3.6.12"
  },
  "latex_envs": {
   "LaTeX_envs_menu_present": true,
   "autoclose": false,
   "autocomplete": true,
   "bibliofile": "biblio.bib",
   "cite_by": "apalike",
   "current_citInitial": 1,
   "eqLabelWithNumbers": true,
   "eqNumInitial": 1,
   "hotkeys": {
    "equation": "Ctrl-E",
    "itemize": "Ctrl-I"
   },
   "labels_anchors": false,
   "latex_user_defs": false,
   "report_style_numbering": false,
   "user_envs_cfg": false
  },
  "toc": {
   "base_numbering": 1,
   "nav_menu": {},
   "number_sections": true,
   "sideBar": true,
   "skip_h1_title": false,
   "title_cell": "Table of Contents",
   "title_sidebar": "Contents",
   "toc_cell": false,
   "toc_position": {},
   "toc_section_display": true,
   "toc_window_display": false
  },
  "varInspector": {
   "cols": {
    "lenName": 16,
    "lenType": 16,
    "lenVar": 40
   },
   "kernels_config": {
    "python": {
     "delete_cmd_postfix": "",
     "delete_cmd_prefix": "del ",
     "library": "var_list.py",
     "varRefreshCmd": "print(var_dic_list())"
    },
    "r": {
     "delete_cmd_postfix": ") ",
     "delete_cmd_prefix": "rm(",
     "library": "var_list.r",
     "varRefreshCmd": "cat(var_dic_list()) "
    }
   },
   "types_to_exclude": [
    "module",
    "function",
    "builtin_function_or_method",
    "instance",
    "_Feature"
   ],
   "window_display": false
  }
 },
 "nbformat": 4,
 "nbformat_minor": 4
}
