{
 "cells": [
  {
   "cell_type": "markdown",
   "metadata": {},
   "source": [
    "# Load Libraries"
   ]
  },
  {
   "cell_type": "code",
   "execution_count": 1,
   "metadata": {
    "ExecuteTime": {
     "end_time": "2021-07-11T08:21:07.910933Z",
     "start_time": "2021-07-11T08:21:04.945884Z"
    }
   },
   "outputs": [],
   "source": [
    "import numpy as np\n",
    "import pandas as pd\n",
    "from glob import glob\n",
    "import os\n",
    "import matplotlib.pyplot as plt\n",
    "from tqdm.notebook import tqdm\n",
    "from pathlib import Path\n",
    "import plotly.express as px\n",
    "\n",
    "import torch\n",
    "import torch.nn as nn\n",
    "import torch.nn.functional as F\n",
    "import torch.optim as optim\n",
    "from torch.utils.data import TensorDataset, DataLoader\n",
    "import torchsummary\n",
    "from sklearn.model_selection import train_test_split\n",
    "from sklearn.preprocessing import StandardScaler, MinMaxScaler\n",
    "\n",
    "import warnings\n",
    "warnings.filterwarnings(action='ignore')"
   ]
  },
  {
   "cell_type": "code",
   "execution_count": 2,
   "metadata": {
    "ExecuteTime": {
     "end_time": "2021-07-11T08:21:07.955934Z",
     "start_time": "2021-07-11T08:21:07.911934Z"
    }
   },
   "outputs": [
    {
     "name": "stdout",
     "output_type": "stream",
     "text": [
      "cuda:0\n"
     ]
    }
   ],
   "source": [
    "device = torch.device('cuda:0' if torch.cuda.is_available() else \"cpu\")\n",
    "print(device)"
   ]
  },
  {
   "cell_type": "markdown",
   "metadata": {},
   "source": [
    "# Set Hyper Parameters"
   ]
  },
  {
   "cell_type": "code",
   "execution_count": 3,
   "metadata": {
    "ExecuteTime": {
     "end_time": "2021-07-11T08:21:07.970934Z",
     "start_time": "2021-07-11T08:21:07.957934Z"
    }
   },
   "outputs": [],
   "source": [
    "hyper_parameters = {\n",
    "    \"SEED\":20180724,\n",
    "    \"notebookName\":\"MovingWindowSequence\",\n",
    "    \"nepochs\":10000,\n",
    "    \"batch_size\":256,\n",
    "    \"learning_rate\":0.001,\n",
    "    \"window_size\":128,\n",
    "    \"max_patience_count\":1000\n",
    "}\n",
    "\n",
    "nepochs = hyper_parameters['nepochs']"
   ]
  },
  {
   "cell_type": "code",
   "execution_count": 4,
   "metadata": {
    "ExecuteTime": {
     "end_time": "2021-07-11T08:21:07.985935Z",
     "start_time": "2021-07-11T08:21:07.972933Z"
    }
   },
   "outputs": [
    {
     "data": {
      "text/plain": [
       "<torch._C.Generator at 0x16c59dd7d80>"
      ]
     },
     "execution_count": 4,
     "metadata": {},
     "output_type": "execute_result"
    }
   ],
   "source": [
    "torch.manual_seed(hyper_parameters[\"SEED\"])"
   ]
  },
  {
   "cell_type": "code",
   "execution_count": 5,
   "metadata": {
    "ExecuteTime": {
     "end_time": "2021-07-11T08:21:08.000934Z",
     "start_time": "2021-07-11T08:21:07.987934Z"
    }
   },
   "outputs": [
    {
     "data": {
      "text/plain": [
       "'./models/MovingWindowSequence'"
      ]
     },
     "execution_count": 5,
     "metadata": {},
     "output_type": "execute_result"
    }
   ],
   "source": [
    "f\"./models/{hyper_parameters['notebookName']}\""
   ]
  },
  {
   "cell_type": "code",
   "execution_count": 6,
   "metadata": {
    "ExecuteTime": {
     "end_time": "2021-07-11T08:21:08.015933Z",
     "start_time": "2021-07-11T08:21:08.002934Z"
    }
   },
   "outputs": [
    {
     "data": {
      "text/plain": [
       "0"
      ]
     },
     "execution_count": 6,
     "metadata": {},
     "output_type": "execute_result"
    }
   ],
   "source": [
    "\n",
    "PATH = Path(f\"./models/{hyper_parameters['notebookName']}\")\n",
    "if os.path.isdir(PATH):\n",
    "    dir_list = os.listdir(PATH)\n",
    "    num_files = 0\n",
    "    while True:\n",
    "        if os.path.isfile(str(PATH / f\"{num_files}\")):\n",
    "            print(num_files)\n",
    "            num_files += 1\n",
    "        else:\n",
    "            break\n",
    "else:\n",
    "    os.mkdir(PATH)\n",
    "    num_files = 0\n",
    "num_files"
   ]
  },
  {
   "cell_type": "markdown",
   "metadata": {},
   "source": [
    "# Set Path"
   ]
  },
  {
   "cell_type": "code",
   "execution_count": 7,
   "metadata": {
    "ExecuteTime": {
     "end_time": "2021-07-11T08:21:08.030933Z",
     "start_time": "2021-07-11T08:21:08.016934Z"
    }
   },
   "outputs": [],
   "source": [
    "data_dir = Path(\"../input/google-smartphone-decimeter-challenge\")"
   ]
  },
  {
   "cell_type": "markdown",
   "metadata": {},
   "source": [
    "# Help Functions"
   ]
  },
  {
   "cell_type": "markdown",
   "metadata": {},
   "source": [
    "# Load Data"
   ]
  },
  {
   "cell_type": "code",
   "execution_count": 8,
   "metadata": {
    "ExecuteTime": {
     "end_time": "2021-07-11T08:21:08.135933Z",
     "start_time": "2021-07-11T08:21:08.032933Z"
    }
   },
   "outputs": [],
   "source": [
    "df_train_default = pd.read_pickle(str(data_dir / \"gsdc_extract_train.pkl.gzip\"))"
   ]
  },
  {
   "cell_type": "code",
   "execution_count": 9,
   "metadata": {
    "ExecuteTime": {
     "end_time": "2021-07-11T08:21:08.210933Z",
     "start_time": "2021-07-11T08:21:08.137937Z"
    }
   },
   "outputs": [],
   "source": [
    "df_test = pd.read_pickle(str(data_dir / \"gsdc_extract_test.pkl.gzip\"))"
   ]
  },
  {
   "cell_type": "code",
   "execution_count": 10,
   "metadata": {
    "ExecuteTime": {
     "end_time": "2021-07-11T08:21:08.225934Z",
     "start_time": "2021-07-11T08:21:08.211935Z"
    },
    "scrolled": true
   },
   "outputs": [
    {
     "name": "stdout",
     "output_type": "stream",
     "text": [
      "collectionName\n",
      "phoneName\n",
      "millisSinceGpsEpoch\n",
      "latDeg\n",
      "lngDeg\n",
      "heightAboveWgs84EllipsoidM\n",
      "phone\n",
      "timeSinceFirstFixSeconds\n",
      "hDop\n",
      "vDop\n",
      "speedMps\n",
      "courseDegree\n",
      "t_latDeg\n",
      "t_lngDeg\n",
      "t_heightAboveWgs84EllipsoidM\n",
      "constellationType\n",
      "svid\n",
      "signalType\n",
      "receivedSvTimeInGpsNanos\n",
      "xSatPosM\n",
      "ySatPosM\n",
      "zSatPosM\n",
      "xSatVelMps\n",
      "ySatVelMps\n",
      "zSatVelMps\n",
      "satClkBiasM\n",
      "satClkDriftMps\n",
      "rawPrM\n",
      "rawPrUncM\n",
      "isrbM\n",
      "ionoDelayM\n",
      "tropoDelayM\n",
      "utcTimeMillis\n",
      "elapsedRealtimeNanos\n",
      "yawDeg\n",
      "rollDeg\n",
      "pitchDeg\n",
      "utcTimeMillis_Status\n",
      "SignalCount\n",
      "SignalIndex\n",
      "ConstellationType\n",
      "Svid\n",
      "CarrierFrequencyHz\n",
      "Cn0DbHz\n",
      "AzimuthDegrees\n",
      "ElevationDegrees\n",
      "UsedInFix\n",
      "HasAlmanacData\n",
      "HasEphemerisData\n",
      "BasebandCn0DbHz\n",
      "utcTimeMillis_UncalMag\n",
      "elapsedRealtimeNanos_UncalMag\n",
      "UncalMagXMicroT\n",
      "UncalMagYMicroT\n",
      "UncalMagZMicroT\n",
      "BiasXMicroT\n",
      "BiasYMicroT\n",
      "BiasZMicroT\n",
      "utcTimeMillis_UncalAccel\n",
      "elapsedRealtimeNanos_UncalAccel\n",
      "UncalAccelXMps2\n",
      "UncalAccelYMps2\n",
      "UncalAccelZMps2\n",
      "BiasXMps2\n",
      "BiasYMps2\n",
      "BiasZMps2\n",
      "utcTimeMillis_UncalGyro\n",
      "elapsedRealtimeNanos_UncalGyro\n",
      "UncalGyroXRadPerSec\n",
      "UncalGyroYRadPerSec\n",
      "UncalGyroZRadPerSec\n",
      "DriftXRadPerSec\n",
      "DriftYRadPerSec\n",
      "DriftZRadPerSec\n",
      "utcTimeMillis_Raw\n",
      "TimeNanos\n",
      "LeapSecond\n",
      "FullBiasNanos\n",
      "BiasNanos\n",
      "BiasUncertaintyNanos\n",
      "DriftNanosPerSecond\n",
      "DriftUncertaintyNanosPerSecond\n",
      "HardwareClockDiscontinuityCount\n",
      "Svid_Raw\n",
      "TimeOffsetNanos\n",
      "State\n",
      "ReceivedSvTimeNanos\n",
      "ReceivedSvTimeUncertaintyNanos\n",
      "Cn0DbHz_Raw\n",
      "PseudorangeRateMetersPerSecond\n",
      "PseudorangeRateUncertaintyMetersPerSecond\n",
      "AccumulatedDeltaRangeState\n",
      "AccumulatedDeltaRangeMeters\n",
      "AccumulatedDeltaRangeUncertaintyMeters\n",
      "CarrierFrequencyHz_Raw\n",
      "MultipathIndicator\n",
      "ConstellationType_Raw\n",
      "AgcDb\n",
      "BasebandCn0DbHz_Raw\n",
      "FullInterSignalBiasNanos\n",
      "FullInterSignalBiasUncertaintyNanos\n",
      "SatelliteInterSignalBiasNanos\n",
      "SatelliteInterSignalBiasUncertaintyNanos\n",
      "CodeType\n",
      "ChipsetElapsedRealtimeNanos\n",
      "dlatDeg\n",
      "dlngDeg\n",
      "dheight\n",
      "dlatDeg_Scaled\n",
      "dlngDeg_Scaled\n",
      "dheight_Scaled\n",
      "xSatPosM_Scaled\n",
      "ySatPosM_Scaled\n",
      "zSatPosM_Scaled\n",
      "xSatVelMps_Scaled\n",
      "ySatVelMps_Scaled\n",
      "zSatVelMps_Scaled\n",
      "UncalGyroXRadPerSec_Scaled\n",
      "UncalGyroYRadPerSec_Scaled\n",
      "UncalGyroZRadPerSec_Scaled\n",
      "DriftXRadPerSec_Scaled\n",
      "DriftYRadPerSec_Scaled\n",
      "DriftZRadPerSec_Scaled\n",
      "UncalAccelXMps2_Scaled\n",
      "UncalAccelYMps2_Scaled\n",
      "UncalAccelZMps2_Scaled\n",
      "BiasXMps2_Scaled\n",
      "BiasYMps2_Scaled\n",
      "BiasZMps2_Scaled\n",
      "UncalMagXMicroT_Scaled\n",
      "UncalMagYMicroT_Scaled\n",
      "UncalMagZMicroT_Scaled\n",
      "BiasXMicroT_Scaled\n",
      "BiasYMicroT_Scaled\n",
      "BiasZMicroT_Scaled\n",
      "yawDeg_Scaled\n",
      "rollDeg_Scaled\n",
      "pitchDeg_Scaled\n",
      "GPS_L1\n",
      "GPS_L5\n",
      "GAL_E1\n",
      "GAL_E5A\n",
      "GLO_G1\n",
      "BDS_B1I\n",
      "BDS_B1C\n",
      "BDS_B2A\n",
      "QZS_J1\n",
      "QZS_J5\n"
     ]
    }
   ],
   "source": [
    "for col in df_train_default.columns:\n",
    "    print(col)"
   ]
  },
  {
   "cell_type": "markdown",
   "metadata": {},
   "source": [
    "# Dataloader"
   ]
  },
  {
   "cell_type": "code",
   "execution_count": 11,
   "metadata": {
    "ExecuteTime": {
     "end_time": "2021-07-11T08:21:08.255933Z",
     "start_time": "2021-07-11T08:21:08.226934Z"
    }
   },
   "outputs": [
    {
     "data": {
      "text/plain": [
       "2021-04-22-US-SJC-1_Pixel4             2890\n",
       "2021-04-22-US-SJC-1_SamsungS20Ultra    2826\n",
       "2020-09-04-US-SF-2_Mi8                 2500\n",
       "2021-04-29-US-SJC-2_SamsungS20Ultra    2370\n",
       "2020-09-04-US-SF-2_Pixel4              2349\n",
       "                                       ... \n",
       "2021-01-05-US-SVL-2_Pixel4XL           1193\n",
       "2020-06-05-US-MTV-1_Pixel4XLModded     1123\n",
       "2021-04-26-US-SVL-1_Mi8                1036\n",
       "2021-04-26-US-SVL-1_Pixel5             1034\n",
       "2020-05-14-US-MTV-2_Pixel4XLModded      577\n",
       "Name: phone, Length: 73, dtype: int64"
      ]
     },
     "execution_count": 11,
     "metadata": {},
     "output_type": "execute_result"
    }
   ],
   "source": [
    "df_train_default['phone'].value_counts()"
   ]
  },
  {
   "cell_type": "markdown",
   "metadata": {},
   "source": [
    "# Split functions"
   ]
  },
  {
   "cell_type": "code",
   "execution_count": 12,
   "metadata": {
    "ExecuteTime": {
     "end_time": "2021-07-11T08:21:09.245943Z",
     "start_time": "2021-07-11T08:21:08.257934Z"
    },
    "scrolled": true
   },
   "outputs": [
    {
     "name": "stdout",
     "output_type": "stream",
     "text": [
      "(118904, 148) (11245, 148)\n"
     ]
    }
   ],
   "source": [
    "def CustomTrainValidSplit(df:pd.DataFrame, valid_size):\n",
    "    phones = df['phone'].unique()\n",
    "    \n",
    "    valid_num = int(len(phones) * valid_size)\n",
    "    train_num = len(phones) - valid_num\n",
    "    \n",
    "    indexes = np.array(range(len(phones)))\n",
    "    indexes = np.random.choice(indexes, len(indexes), replace = False)\n",
    "    \n",
    "    df_train = []\n",
    "    for phone in phones[indexes[:train_num]]:\n",
    "        df_train.append(df[df['phone'] == phone])\n",
    "    df_train = pd.concat(df_train).reset_index().drop(columns = 'index')\n",
    "    \n",
    "    df_valid = []\n",
    "    for phone in phones[indexes[train_num:-1]]:\n",
    "        df_valid.append(df[df['phone'] == phone])\n",
    "    df_valid = pd.concat(df_valid).reset_index().drop(columns = 'index')\n",
    "    \n",
    "    return df_train, df_valid\n",
    "    \n",
    "df_train, df_valid = CustomTrainValidSplit(df_train_default.sort_values(by = ['phone', 'millisSinceGpsEpoch'], ignore_index = True), valid_size = 0.1)\n",
    "df_test = df_test.sort_values(by = ['phone', 'millisSinceGpsEpoch'], ignore_index = True)\n",
    "print(df_train.shape, df_valid.shape)\n",
    "    "
   ]
  },
  {
   "cell_type": "code",
   "execution_count": 13,
   "metadata": {
    "ExecuteTime": {
     "end_time": "2021-07-11T08:21:09.305933Z",
     "start_time": "2021-07-11T08:21:09.247936Z"
    }
   },
   "outputs": [
    {
     "data": {
      "text/html": [
       "<div>\n",
       "<style scoped>\n",
       "    .dataframe tbody tr th:only-of-type {\n",
       "        vertical-align: middle;\n",
       "    }\n",
       "\n",
       "    .dataframe tbody tr th {\n",
       "        vertical-align: top;\n",
       "    }\n",
       "\n",
       "    .dataframe thead th {\n",
       "        text-align: right;\n",
       "    }\n",
       "</style>\n",
       "<table border=\"1\" class=\"dataframe\">\n",
       "  <thead>\n",
       "    <tr style=\"text-align: right;\">\n",
       "      <th></th>\n",
       "      <th>collectionName</th>\n",
       "      <th>phoneName</th>\n",
       "      <th>millisSinceGpsEpoch</th>\n",
       "      <th>latDeg</th>\n",
       "      <th>lngDeg</th>\n",
       "      <th>heightAboveWgs84EllipsoidM</th>\n",
       "      <th>phone</th>\n",
       "      <th>timeSinceFirstFixSeconds</th>\n",
       "      <th>hDop</th>\n",
       "      <th>vDop</th>\n",
       "      <th>...</th>\n",
       "      <th>GPS_L1</th>\n",
       "      <th>GPS_L5</th>\n",
       "      <th>GAL_E1</th>\n",
       "      <th>GAL_E5A</th>\n",
       "      <th>GLO_G1</th>\n",
       "      <th>BDS_B1I</th>\n",
       "      <th>BDS_B1C</th>\n",
       "      <th>BDS_B2A</th>\n",
       "      <th>QZS_J1</th>\n",
       "      <th>QZS_J5</th>\n",
       "    </tr>\n",
       "  </thead>\n",
       "  <tbody>\n",
       "    <tr>\n",
       "      <th>0</th>\n",
       "      <td>2021-04-22-US-SJC-1</td>\n",
       "      <td>SamsungS20Ultra</td>\n",
       "      <td>1303160577000</td>\n",
       "      <td>37.334587</td>\n",
       "      <td>-121.899431</td>\n",
       "      <td>-4.10</td>\n",
       "      <td>2021-04-22-US-SJC-1_SamsungS20Ultra</td>\n",
       "      <td>327.00</td>\n",
       "      <td>1.8</td>\n",
       "      <td>0.0</td>\n",
       "      <td>...</td>\n",
       "      <td>0</td>\n",
       "      <td>0</td>\n",
       "      <td>0</td>\n",
       "      <td>0</td>\n",
       "      <td>0</td>\n",
       "      <td>0</td>\n",
       "      <td>0</td>\n",
       "      <td>0</td>\n",
       "      <td>0</td>\n",
       "      <td>0</td>\n",
       "    </tr>\n",
       "    <tr>\n",
       "      <th>1</th>\n",
       "      <td>2021-04-22-US-SJC-1</td>\n",
       "      <td>SamsungS20Ultra</td>\n",
       "      <td>1303160578000</td>\n",
       "      <td>37.334564</td>\n",
       "      <td>-121.899395</td>\n",
       "      <td>-5.95</td>\n",
       "      <td>2021-04-22-US-SJC-1_SamsungS20Ultra</td>\n",
       "      <td>328.00</td>\n",
       "      <td>1.8</td>\n",
       "      <td>0.0</td>\n",
       "      <td>...</td>\n",
       "      <td>0</td>\n",
       "      <td>0</td>\n",
       "      <td>0</td>\n",
       "      <td>0</td>\n",
       "      <td>0</td>\n",
       "      <td>0</td>\n",
       "      <td>0</td>\n",
       "      <td>0</td>\n",
       "      <td>0</td>\n",
       "      <td>0</td>\n",
       "    </tr>\n",
       "    <tr>\n",
       "      <th>2</th>\n",
       "      <td>2021-04-22-US-SJC-1</td>\n",
       "      <td>SamsungS20Ultra</td>\n",
       "      <td>1303160579000</td>\n",
       "      <td>37.334579</td>\n",
       "      <td>-121.899414</td>\n",
       "      <td>-5.03</td>\n",
       "      <td>2021-04-22-US-SJC-1_SamsungS20Ultra</td>\n",
       "      <td>329.00</td>\n",
       "      <td>1.8</td>\n",
       "      <td>0.0</td>\n",
       "      <td>...</td>\n",
       "      <td>0</td>\n",
       "      <td>0</td>\n",
       "      <td>0</td>\n",
       "      <td>0</td>\n",
       "      <td>0</td>\n",
       "      <td>0</td>\n",
       "      <td>0</td>\n",
       "      <td>0</td>\n",
       "      <td>0</td>\n",
       "      <td>0</td>\n",
       "    </tr>\n",
       "    <tr>\n",
       "      <th>3</th>\n",
       "      <td>2021-04-22-US-SJC-1</td>\n",
       "      <td>SamsungS20Ultra</td>\n",
       "      <td>1303160580000</td>\n",
       "      <td>37.334573</td>\n",
       "      <td>-121.899406</td>\n",
       "      <td>-4.78</td>\n",
       "      <td>2021-04-22-US-SJC-1_SamsungS20Ultra</td>\n",
       "      <td>330.00</td>\n",
       "      <td>1.8</td>\n",
       "      <td>0.0</td>\n",
       "      <td>...</td>\n",
       "      <td>0</td>\n",
       "      <td>0</td>\n",
       "      <td>0</td>\n",
       "      <td>0</td>\n",
       "      <td>0</td>\n",
       "      <td>0</td>\n",
       "      <td>0</td>\n",
       "      <td>0</td>\n",
       "      <td>0</td>\n",
       "      <td>0</td>\n",
       "    </tr>\n",
       "    <tr>\n",
       "      <th>4</th>\n",
       "      <td>2021-04-22-US-SJC-1</td>\n",
       "      <td>SamsungS20Ultra</td>\n",
       "      <td>1303160581000</td>\n",
       "      <td>37.334588</td>\n",
       "      <td>-121.899438</td>\n",
       "      <td>-9.13</td>\n",
       "      <td>2021-04-22-US-SJC-1_SamsungS20Ultra</td>\n",
       "      <td>331.00</td>\n",
       "      <td>1.8</td>\n",
       "      <td>0.0</td>\n",
       "      <td>...</td>\n",
       "      <td>0</td>\n",
       "      <td>0</td>\n",
       "      <td>0</td>\n",
       "      <td>0</td>\n",
       "      <td>0</td>\n",
       "      <td>0</td>\n",
       "      <td>0</td>\n",
       "      <td>0</td>\n",
       "      <td>0</td>\n",
       "      <td>0</td>\n",
       "    </tr>\n",
       "    <tr>\n",
       "      <th>...</th>\n",
       "      <td>...</td>\n",
       "      <td>...</td>\n",
       "      <td>...</td>\n",
       "      <td>...</td>\n",
       "      <td>...</td>\n",
       "      <td>...</td>\n",
       "      <td>...</td>\n",
       "      <td>...</td>\n",
       "      <td>...</td>\n",
       "      <td>...</td>\n",
       "      <td>...</td>\n",
       "      <td>...</td>\n",
       "      <td>...</td>\n",
       "      <td>...</td>\n",
       "      <td>...</td>\n",
       "      <td>...</td>\n",
       "      <td>...</td>\n",
       "      <td>...</td>\n",
       "      <td>...</td>\n",
       "      <td>...</td>\n",
       "      <td>...</td>\n",
       "    </tr>\n",
       "    <tr>\n",
       "      <th>118899</th>\n",
       "      <td>2020-05-21-US-MTV-2</td>\n",
       "      <td>Pixel4</td>\n",
       "      <td>1274133324434</td>\n",
       "      <td>37.414966</td>\n",
       "      <td>-122.082347</td>\n",
       "      <td>-22.03</td>\n",
       "      <td>2020-05-21-US-MTV-2_Pixel4</td>\n",
       "      <td>2024.43</td>\n",
       "      <td>1.1</td>\n",
       "      <td>0.0</td>\n",
       "      <td>...</td>\n",
       "      <td>0</td>\n",
       "      <td>0</td>\n",
       "      <td>0</td>\n",
       "      <td>0</td>\n",
       "      <td>0</td>\n",
       "      <td>0</td>\n",
       "      <td>0</td>\n",
       "      <td>0</td>\n",
       "      <td>0</td>\n",
       "      <td>0</td>\n",
       "    </tr>\n",
       "    <tr>\n",
       "      <th>118900</th>\n",
       "      <td>2020-05-21-US-MTV-2</td>\n",
       "      <td>Pixel4</td>\n",
       "      <td>1274133325434</td>\n",
       "      <td>37.414952</td>\n",
       "      <td>-122.082351</td>\n",
       "      <td>-22.84</td>\n",
       "      <td>2020-05-21-US-MTV-2_Pixel4</td>\n",
       "      <td>2025.43</td>\n",
       "      <td>1.1</td>\n",
       "      <td>0.0</td>\n",
       "      <td>...</td>\n",
       "      <td>0</td>\n",
       "      <td>0</td>\n",
       "      <td>0</td>\n",
       "      <td>0</td>\n",
       "      <td>0</td>\n",
       "      <td>0</td>\n",
       "      <td>0</td>\n",
       "      <td>0</td>\n",
       "      <td>0</td>\n",
       "      <td>0</td>\n",
       "    </tr>\n",
       "    <tr>\n",
       "      <th>118901</th>\n",
       "      <td>2020-05-21-US-MTV-2</td>\n",
       "      <td>Pixel4</td>\n",
       "      <td>1274133326434</td>\n",
       "      <td>37.414959</td>\n",
       "      <td>-122.082353</td>\n",
       "      <td>-23.82</td>\n",
       "      <td>2020-05-21-US-MTV-2_Pixel4</td>\n",
       "      <td>2026.43</td>\n",
       "      <td>1.1</td>\n",
       "      <td>0.0</td>\n",
       "      <td>...</td>\n",
       "      <td>0</td>\n",
       "      <td>0</td>\n",
       "      <td>0</td>\n",
       "      <td>0</td>\n",
       "      <td>0</td>\n",
       "      <td>0</td>\n",
       "      <td>0</td>\n",
       "      <td>0</td>\n",
       "      <td>0</td>\n",
       "      <td>0</td>\n",
       "    </tr>\n",
       "    <tr>\n",
       "      <th>118902</th>\n",
       "      <td>2020-05-21-US-MTV-2</td>\n",
       "      <td>Pixel4</td>\n",
       "      <td>1274133327434</td>\n",
       "      <td>37.414961</td>\n",
       "      <td>-122.082353</td>\n",
       "      <td>-22.63</td>\n",
       "      <td>2020-05-21-US-MTV-2_Pixel4</td>\n",
       "      <td>2027.43</td>\n",
       "      <td>1.1</td>\n",
       "      <td>0.0</td>\n",
       "      <td>...</td>\n",
       "      <td>0</td>\n",
       "      <td>0</td>\n",
       "      <td>0</td>\n",
       "      <td>0</td>\n",
       "      <td>0</td>\n",
       "      <td>0</td>\n",
       "      <td>0</td>\n",
       "      <td>0</td>\n",
       "      <td>0</td>\n",
       "      <td>0</td>\n",
       "    </tr>\n",
       "    <tr>\n",
       "      <th>118903</th>\n",
       "      <td>2020-05-21-US-MTV-2</td>\n",
       "      <td>Pixel4</td>\n",
       "      <td>1274133328434</td>\n",
       "      <td>37.414963</td>\n",
       "      <td>-122.082362</td>\n",
       "      <td>-25.34</td>\n",
       "      <td>2020-05-21-US-MTV-2_Pixel4</td>\n",
       "      <td>2028.43</td>\n",
       "      <td>1.1</td>\n",
       "      <td>0.0</td>\n",
       "      <td>...</td>\n",
       "      <td>0</td>\n",
       "      <td>0</td>\n",
       "      <td>0</td>\n",
       "      <td>0</td>\n",
       "      <td>0</td>\n",
       "      <td>0</td>\n",
       "      <td>0</td>\n",
       "      <td>0</td>\n",
       "      <td>0</td>\n",
       "      <td>0</td>\n",
       "    </tr>\n",
       "  </tbody>\n",
       "</table>\n",
       "<p>118904 rows × 148 columns</p>\n",
       "</div>"
      ],
      "text/plain": [
       "             collectionName        phoneName  millisSinceGpsEpoch     latDeg  \\\n",
       "0       2021-04-22-US-SJC-1  SamsungS20Ultra        1303160577000  37.334587   \n",
       "1       2021-04-22-US-SJC-1  SamsungS20Ultra        1303160578000  37.334564   \n",
       "2       2021-04-22-US-SJC-1  SamsungS20Ultra        1303160579000  37.334579   \n",
       "3       2021-04-22-US-SJC-1  SamsungS20Ultra        1303160580000  37.334573   \n",
       "4       2021-04-22-US-SJC-1  SamsungS20Ultra        1303160581000  37.334588   \n",
       "...                     ...              ...                  ...        ...   \n",
       "118899  2020-05-21-US-MTV-2           Pixel4        1274133324434  37.414966   \n",
       "118900  2020-05-21-US-MTV-2           Pixel4        1274133325434  37.414952   \n",
       "118901  2020-05-21-US-MTV-2           Pixel4        1274133326434  37.414959   \n",
       "118902  2020-05-21-US-MTV-2           Pixel4        1274133327434  37.414961   \n",
       "118903  2020-05-21-US-MTV-2           Pixel4        1274133328434  37.414963   \n",
       "\n",
       "            lngDeg  heightAboveWgs84EllipsoidM  \\\n",
       "0      -121.899431                       -4.10   \n",
       "1      -121.899395                       -5.95   \n",
       "2      -121.899414                       -5.03   \n",
       "3      -121.899406                       -4.78   \n",
       "4      -121.899438                       -9.13   \n",
       "...            ...                         ...   \n",
       "118899 -122.082347                      -22.03   \n",
       "118900 -122.082351                      -22.84   \n",
       "118901 -122.082353                      -23.82   \n",
       "118902 -122.082353                      -22.63   \n",
       "118903 -122.082362                      -25.34   \n",
       "\n",
       "                                      phone  timeSinceFirstFixSeconds  hDop  \\\n",
       "0       2021-04-22-US-SJC-1_SamsungS20Ultra                    327.00   1.8   \n",
       "1       2021-04-22-US-SJC-1_SamsungS20Ultra                    328.00   1.8   \n",
       "2       2021-04-22-US-SJC-1_SamsungS20Ultra                    329.00   1.8   \n",
       "3       2021-04-22-US-SJC-1_SamsungS20Ultra                    330.00   1.8   \n",
       "4       2021-04-22-US-SJC-1_SamsungS20Ultra                    331.00   1.8   \n",
       "...                                     ...                       ...   ...   \n",
       "118899           2020-05-21-US-MTV-2_Pixel4                   2024.43   1.1   \n",
       "118900           2020-05-21-US-MTV-2_Pixel4                   2025.43   1.1   \n",
       "118901           2020-05-21-US-MTV-2_Pixel4                   2026.43   1.1   \n",
       "118902           2020-05-21-US-MTV-2_Pixel4                   2027.43   1.1   \n",
       "118903           2020-05-21-US-MTV-2_Pixel4                   2028.43   1.1   \n",
       "\n",
       "        vDop  ...  GPS_L1  GPS_L5  GAL_E1  GAL_E5A  GLO_G1  BDS_B1I  BDS_B1C  \\\n",
       "0        0.0  ...       0       0       0        0       0        0        0   \n",
       "1        0.0  ...       0       0       0        0       0        0        0   \n",
       "2        0.0  ...       0       0       0        0       0        0        0   \n",
       "3        0.0  ...       0       0       0        0       0        0        0   \n",
       "4        0.0  ...       0       0       0        0       0        0        0   \n",
       "...      ...  ...     ...     ...     ...      ...     ...      ...      ...   \n",
       "118899   0.0  ...       0       0       0        0       0        0        0   \n",
       "118900   0.0  ...       0       0       0        0       0        0        0   \n",
       "118901   0.0  ...       0       0       0        0       0        0        0   \n",
       "118902   0.0  ...       0       0       0        0       0        0        0   \n",
       "118903   0.0  ...       0       0       0        0       0        0        0   \n",
       "\n",
       "       BDS_B2A  QZS_J1  QZS_J5  \n",
       "0            0       0       0  \n",
       "1            0       0       0  \n",
       "2            0       0       0  \n",
       "3            0       0       0  \n",
       "4            0       0       0  \n",
       "...        ...     ...     ...  \n",
       "118899       0       0       0  \n",
       "118900       0       0       0  \n",
       "118901       0       0       0  \n",
       "118902       0       0       0  \n",
       "118903       0       0       0  \n",
       "\n",
       "[118904 rows x 148 columns]"
      ]
     },
     "execution_count": 13,
     "metadata": {},
     "output_type": "execute_result"
    }
   ],
   "source": [
    "df_train"
   ]
  },
  {
   "cell_type": "markdown",
   "metadata": {},
   "source": [
    "# Create Data Loader"
   ]
  },
  {
   "cell_type": "markdown",
   "metadata": {},
   "source": [
    "## Moving Window Function"
   ]
  },
  {
   "cell_type": "code",
   "execution_count": 14,
   "metadata": {
    "ExecuteTime": {
     "end_time": "2021-07-11T08:21:09.320932Z",
     "start_time": "2021-07-11T08:21:09.307935Z"
    }
   },
   "outputs": [],
   "source": [
    "def MovingWindow(current_index, max_index, window_size, ratio = 0.5):\n",
    "    left_window = int(window_size * ratio)\n",
    "    right_window = window_size - left_window\n",
    "    \n",
    "    left_index = np.arange(current_index - left_window, current_index)\n",
    "    right_index = np.arange(current_index, current_index + right_window)\n",
    "    \n",
    "    index = np.concatenate([left_index, right_index])\n",
    "    index[index < 0] = 0\n",
    "    index[index >= max_index] = max_index-1\n",
    "    \n",
    "    return index"
   ]
  },
  {
   "cell_type": "markdown",
   "metadata": {},
   "source": [
    "## Custom Dataset"
   ]
  },
  {
   "cell_type": "code",
   "execution_count": 15,
   "metadata": {
    "ExecuteTime": {
     "end_time": "2021-07-11T08:21:09.335935Z",
     "start_time": "2021-07-11T08:21:09.321934Z"
    }
   },
   "outputs": [],
   "source": [
    "class CustomDataset(torch.utils.data.Dataset):\n",
    "    def __init__(self, df:pd.DataFrame, \n",
    "                 features = ['latDeg', 'lngDeg', 'heightAboveWgs84EllipsoidM'], \n",
    "                 labels = ['t_latDeg', 't_lngDeg', 't_heightAboveWgs84EllipsoidM'],\n",
    "                 window_size = 100,\n",
    "                 train = False,\n",
    "                 augment = False,\n",
    "                 crop_ratio = 0.0,\n",
    "                device = 'cpu'):\n",
    "        self.df = df\n",
    "        self.features = features\n",
    "        self.labels = labels\n",
    "        self.len = df.shape[0]\n",
    "        self.window_size = window_size\n",
    "        self.train = train\n",
    "        self.augment = augment\n",
    "        self.crop_ratio = crop_ratio\n",
    "        self.device = device\n",
    "        self.phones = df['phone'].unique()\n",
    "        \n",
    "        self.df_dict = dict()\n",
    "        for phone in tqdm(self.phones):\n",
    "            self.df_dict[phone] = df[df['phone'] == phone]\n",
    "        \n",
    "    \n",
    "    def __len__(self):\n",
    "        return self.len\n",
    "    \n",
    "    def __getitem__(self, idx):\n",
    "        origin_idx = idx\n",
    "        current_sample = self.df.iloc[idx]\n",
    "        phone = current_sample['phone']\n",
    "        millisSinceGpsEpoch = current_sample['millisSinceGpsEpoch']\n",
    "        df = self.df_dict[phone]\n",
    "        \n",
    "        start_index = df.index[0]\n",
    "        \n",
    "        self.data = df[features].astype(float).values\n",
    "        if self.train == True:\n",
    "            self.true = df[labels].astype(float).values\n",
    "        else:\n",
    "            self.true = []\n",
    "        \n",
    "        window_index = MovingWindow(idx - start_index, df.shape[0], self.window_size)\n",
    "        data = self.data[window_index, :]\n",
    "        \n",
    "            \n",
    "        indx = [phone, millisSinceGpsEpoch]\n",
    "        \n",
    "        # data shape : num_of_features X window_size\n",
    "        # true shape : num_of_labels X 1\n",
    "        data = torch.Tensor(data)\n",
    "        if self.augment:\n",
    "            crop_size = int(self.crop_ratio * self.window_size * np.random.rand(1))\n",
    "            crop_start_index = np.random.randint(0, self.window_size - crop_size)\n",
    "            data[crop_start_index:crop_size, :] = 0\n",
    "        \n",
    "        if self.train is False:\n",
    "            true = []\n",
    "        else:\n",
    "            true = self.true[idx - start_index, :]\n",
    "            true = torch.Tensor(true.astype(float))\n",
    "        return data, true, indx\n",
    "    \n"
   ]
  },
  {
   "cell_type": "markdown",
   "metadata": {},
   "source": [
    "## Feature Select"
   ]
  },
  {
   "cell_type": "code",
   "execution_count": 16,
   "metadata": {
    "ExecuteTime": {
     "end_time": "2021-07-11T08:21:09.545933Z",
     "start_time": "2021-07-11T08:21:09.337936Z"
    },
    "scrolled": true
   },
   "outputs": [
    {
     "name": "stdout",
     "output_type": "stream",
     "text": [
      "(118904, 43)\n",
      "              latDeg         lngDeg  heightAboveWgs84EllipsoidM  \\\n",
      "count  118904.000000  118904.000000               118904.000000   \n",
      "mean       37.435567    -122.154980                   21.783362   \n",
      "std         0.082466       0.143705                   73.308272   \n",
      "min        37.322844    -122.472214                -6157.470000   \n",
      "25%        37.373910    -122.273127                  -27.310000   \n",
      "50%        37.424290    -122.116144                    1.770000   \n",
      "75%        37.469032    -122.069911                   56.780000   \n",
      "max        37.690836    -121.881855                13701.980000   \n",
      "\n",
      "       dlatDeg_Scaled  dlngDeg_Scaled  dheight_Scaled  xSatPosM_Scaled  \\\n",
      "count   118904.000000   118904.000000   118904.000000    118904.000000   \n",
      "mean         0.003680       -0.001599       -0.012571         0.012272   \n",
      "std          1.013329        1.008292        1.002822         0.724084   \n",
      "min         -3.367212       -2.837517      -84.852009        -1.703958   \n",
      "25%         -0.141651       -0.257462       -0.365538        -0.313048   \n",
      "50%          0.068484        0.088219       -0.242765         0.000000   \n",
      "75%          0.197894        0.206375        0.221136         0.000000   \n",
      "max          2.689582        2.871625      188.239406         2.588478   \n",
      "\n",
      "       ySatPosM_Scaled  zSatPosM_Scaled  xSatVelMps_Scaled  ...  \\\n",
      "count    118904.000000    118904.000000      118904.000000  ...   \n",
      "mean         -0.003605         0.010974           0.003385  ...   \n",
      "std           0.737901         0.718791           0.731761  ...   \n",
      "min          -1.604379        -2.959637          -2.805447  ...   \n",
      "25%          -0.234712         0.000000          -0.143455  ...   \n",
      "50%           0.000000         0.000000           0.000000  ...   \n",
      "75%           0.000000         0.430128           0.005197  ...   \n",
      "max           3.452574         2.112431           2.136355  ...   \n",
      "\n",
      "              GPS_L1         GPS_L5         GAL_E1        GAL_E5A  \\\n",
      "count  118904.000000  118904.000000  118904.000000  118904.000000   \n",
      "mean        0.166512       0.053867       0.102907       0.066440   \n",
      "std         0.372542       0.225756       0.303838       0.249051   \n",
      "min         0.000000       0.000000       0.000000       0.000000   \n",
      "25%         0.000000       0.000000       0.000000       0.000000   \n",
      "50%         0.000000       0.000000       0.000000       0.000000   \n",
      "75%         0.000000       0.000000       0.000000       0.000000   \n",
      "max         1.000000       1.000000       1.000000       1.000000   \n",
      "\n",
      "              GLO_G1        BDS_B1I   BDS_B1C   BDS_B2A         QZS_J1  \\\n",
      "count  118904.000000  118904.000000  118904.0  118904.0  118904.000000   \n",
      "mean        0.104891       0.032261       0.0       0.0       0.001682   \n",
      "std         0.306415       0.176694       0.0       0.0       0.040978   \n",
      "min         0.000000       0.000000       0.0       0.0       0.000000   \n",
      "25%         0.000000       0.000000       0.0       0.0       0.000000   \n",
      "50%         0.000000       0.000000       0.0       0.0       0.000000   \n",
      "75%         0.000000       0.000000       0.0       0.0       0.000000   \n",
      "max         1.000000       1.000000       0.0       0.0       1.000000   \n",
      "\n",
      "              QZS_J5  \n",
      "count  118904.000000  \n",
      "mean        0.001564  \n",
      "std         0.039520  \n",
      "min         0.000000  \n",
      "25%         0.000000  \n",
      "50%         0.000000  \n",
      "75%         0.000000  \n",
      "max         1.000000  \n",
      "\n",
      "[8 rows x 43 columns]\n"
     ]
    }
   ],
   "source": [
    "features = [\n",
    "    'latDeg', \n",
    "    'lngDeg', \n",
    "    'heightAboveWgs84EllipsoidM',\n",
    "    'dlatDeg_Scaled',\n",
    "    'dlngDeg_Scaled',\n",
    "    'dheight_Scaled',\n",
    "    'xSatPosM_Scaled',\n",
    "    'ySatPosM_Scaled',\n",
    "    'zSatPosM_Scaled',\n",
    "    'xSatVelMps_Scaled',\n",
    "    'ySatVelMps_Scaled',\n",
    "    'zSatVelMps_Scaled',\n",
    "    'UncalGyroXRadPerSec_Scaled',\n",
    "    'UncalGyroYRadPerSec_Scaled',\n",
    "    'UncalGyroZRadPerSec_Scaled',\n",
    "    'DriftXRadPerSec_Scaled',\n",
    "    'DriftYRadPerSec_Scaled',\n",
    "    'DriftZRadPerSec_Scaled',\n",
    "    'UncalAccelXMps2_Scaled',\n",
    "    'UncalAccelYMps2_Scaled',\n",
    "    'UncalAccelZMps2_Scaled',\n",
    "    'BiasXMps2_Scaled',\n",
    "    'BiasYMps2_Scaled',\n",
    "    'BiasZMps2_Scaled',\n",
    "    'UncalMagXMicroT_Scaled',\n",
    "    'UncalMagYMicroT_Scaled',\n",
    "    'UncalMagZMicroT_Scaled',\n",
    "    'BiasXMicroT_Scaled',\n",
    "    'BiasYMicroT_Scaled',\n",
    "    'BiasZMicroT_Scaled',\n",
    "    'yawDeg_Scaled',\n",
    "    'rollDeg_Scaled',\n",
    "    'pitchDeg_Scaled',\n",
    "    'GPS_L1', \n",
    "    'GPS_L5', \n",
    "    'GAL_E1', \n",
    "    'GAL_E5A', \n",
    "    'GLO_G1', \n",
    "    'BDS_B1I', \n",
    "    'BDS_B1C', \n",
    "    'BDS_B2A', \n",
    "    'QZS_J1', \n",
    "    'QZS_J5'\n",
    "]\n",
    "status_features = [\n",
    "]\n",
    "\n",
    "labels = [\n",
    "    't_latDeg', \n",
    "    't_lngDeg', \n",
    "    't_heightAboveWgs84EllipsoidM',\n",
    "#     'courseDegree',\n",
    "#     'hDop',\n",
    "#     'vDop',\n",
    "#     'speedMps'\n",
    "         ]\n",
    "\n",
    "print(df_train[features].shape)\n",
    "print(df_train[features].describe())\n"
   ]
  },
  {
   "cell_type": "markdown",
   "metadata": {},
   "source": [
    "## Get Datasets"
   ]
  },
  {
   "cell_type": "code",
   "execution_count": 17,
   "metadata": {
    "ExecuteTime": {
     "end_time": "2021-07-11T08:21:10.220933Z",
     "start_time": "2021-07-11T08:21:09.546934Z"
    }
   },
   "outputs": [
    {
     "data": {
      "application/vnd.jupyter.widget-view+json": {
       "model_id": "b4b1d804e7ef42a489012f8f5f50b9ca",
       "version_major": 2,
       "version_minor": 0
      },
      "text/plain": [
       "  0%|          | 0/66 [00:00<?, ?it/s]"
      ]
     },
     "metadata": {},
     "output_type": "display_data"
    },
    {
     "data": {
      "application/vnd.jupyter.widget-view+json": {
       "model_id": "22a0ae3b8af84ebcbe3b638b0a550f07",
       "version_major": 2,
       "version_minor": 0
      },
      "text/plain": [
       "  0%|          | 0/6 [00:00<?, ?it/s]"
      ]
     },
     "metadata": {},
     "output_type": "display_data"
    },
    {
     "data": {
      "application/vnd.jupyter.widget-view+json": {
       "model_id": "926a54d59abf42c6a4e7e764c8e9d348",
       "version_major": 2,
       "version_minor": 0
      },
      "text/plain": [
       "  0%|          | 0/48 [00:00<?, ?it/s]"
      ]
     },
     "metadata": {},
     "output_type": "display_data"
    }
   ],
   "source": [
    "train_data = CustomDataset(df_train, \n",
    "                           features = features, labels = labels, \n",
    "                           window_size = hyper_parameters['window_size'], \n",
    "                           train = True, \n",
    "                           augment = True,\n",
    "                           crop_ratio = 0.1,\n",
    "                           device = device)\n",
    "valid_data = CustomDataset(df_valid, \n",
    "                           features = features, labels = labels, \n",
    "                           window_size = hyper_parameters['window_size'], \n",
    "                           train = True, \n",
    "                           augment = False,\n",
    "                           crop_ratio = 0.0,\n",
    "                           device = device)\n",
    "test_data = CustomDataset(df_test, \n",
    "                        features = features, labels = labels, \n",
    "                        window_size = hyper_parameters['window_size'], \n",
    "                        train = False, \n",
    "                        augment = False,\n",
    "                        crop_ratio = 0.0,\n",
    "                        device = device)"
   ]
  },
  {
   "cell_type": "markdown",
   "metadata": {},
   "source": [
    "## Get Data Loader"
   ]
  },
  {
   "cell_type": "code",
   "execution_count": 18,
   "metadata": {
    "ExecuteTime": {
     "end_time": "2021-07-11T08:21:10.235938Z",
     "start_time": "2021-07-11T08:21:10.222935Z"
    }
   },
   "outputs": [],
   "source": [
    "train_loader = DataLoader(train_data, batch_size = hyper_parameters['batch_size'], shuffle = True)\n",
    "valid_loader = DataLoader(valid_data, batch_size = hyper_parameters['batch_size'], shuffle = False)\n",
    "test_loader = DataLoader(test_data, batch_size = hyper_parameters['batch_size'], shuffle = False)"
   ]
  },
  {
   "cell_type": "markdown",
   "metadata": {},
   "source": [
    "# Build Model\n",
    "## Define Loss and Score"
   ]
  },
  {
   "cell_type": "code",
   "execution_count": 19,
   "metadata": {
    "ExecuteTime": {
     "end_time": "2021-07-11T08:21:10.250933Z",
     "start_time": "2021-07-11T08:21:10.237934Z"
    }
   },
   "outputs": [],
   "source": [
    "def torch_haversine(lat1, lon1, lat2, lon2):\n",
    "    lat1=lat1 % 360\n",
    "    lon1=lon1 % 360\n",
    "    lat2=lat2 % 360\n",
    "    lon2=lon2 % 360\n",
    "\n",
    "    lat1, lat2, lon1, lon2 = map(torch.deg2rad, [lat1, lat2, lon1, lon2])\n",
    "\n",
    "    dlat = (lat2 - lat1)\n",
    "    dlon = (lon2 - lon1)\n",
    "\n",
    "    a = torch.sin(dlat / 2.0)**2 + torch.cos(lat1) * torch.cos(lat2) * (torch.sin(dlon / 2.0)**2)\n",
    "    c = 2 * torch.arcsin(a ** 0.5)\n",
    "\n",
    "    dist = 6_367_000 * c\n",
    "\n",
    "    return dist\n",
    "\n",
    "def CustomLoss(predict:torch.Tensor, target:torch.Tensor):\n",
    "    loss = SmoothL1Loss(predict, target)\n",
    "    gpsLoss = GpsLoss(predict, target)\n",
    "    if (loss < 1):\n",
    "        loss = gpsLoss\n",
    "    return loss\n",
    "\n",
    "def SmoothL1Loss(predict:torch.Tensor, target:torch.Tensor):\n",
    "    \n",
    "    return nn.SmoothL1Loss()(predict, target)\n",
    "\n",
    "def GpsLoss(predict:torch.Tensor, target:torch.Tensor):\n",
    "    dist = torch_haversine(predict[:,0], predict[:,1], target[:,0], target[:,1])\n",
    "\n",
    "    return dist.mean()\n",
    "\n",
    "def GpsScore(predict:torch.Tensor, target:torch.Tensor):\n",
    "    dist = torch_haversine(predict[:,0], predict[:,1], target[:,0], target[:,1])\n",
    "\n",
    "    return (torch.quantile(dist, 0.5) + torch.quantile(dist, 0.95))/2"
   ]
  },
  {
   "cell_type": "markdown",
   "metadata": {},
   "source": [
    "## Build Custom Model"
   ]
  },
  {
   "cell_type": "code",
   "execution_count": 20,
   "metadata": {
    "ExecuteTime": {
     "end_time": "2021-07-11T08:21:10.265932Z",
     "start_time": "2021-07-11T08:21:10.251934Z"
    }
   },
   "outputs": [],
   "source": [
    "\n",
    "class ConvBlock(nn.Module):\n",
    "    def __init__(self, input_features, features = 128):\n",
    "        super().__init__()\n",
    "        \n",
    "        self.fuse = nn.Conv1d(input_features + features, features, kernel_size = 1)\n",
    "        self.conv = nn.Conv1d(input_features, features, kernel_size=3, padding = 1)\n",
    "        self.batch = nn.BatchNorm1d(features)\n",
    "        self.pool = nn.AvgPool1d(kernel_size = 2)\n",
    "        \n",
    "    def forward(self, x):\n",
    "        skip = x\n",
    "        \n",
    "        x = self.conv(x)\n",
    "        x = F.relu(x)\n",
    "        x = self.batch(x)\n",
    "        x = torch.cat([skip, x], axis = 1)\n",
    "        x = self.fuse(x)\n",
    "        x = self.pool(x)\n",
    "        return x\n",
    "    \n",
    "class BaseModel(nn.Module):\n",
    "    def __init__(self, input_size = (100, 3), output_size = 3):\n",
    "        super().__init__()\n",
    "        self.input_size = input_size\n",
    "        self.output_size = output_size\n",
    "        \n",
    "        self.conv1 = ConvBlock(input_size[1], 256)\n",
    "        self.conv2 = ConvBlock(256, 512)\n",
    "        \n",
    "        self.batch_norm = nn.BatchNorm1d(512)\n",
    "        self.layer_norm = nn.LayerNorm([32, 512])\n",
    "        \n",
    "        self.fc1 = nn.Linear(32*512, 1024)\n",
    "        self.layer_norm1 = nn.LayerNorm(1024)\n",
    "        self.fc2 = nn.Linear(1024, 512)\n",
    "        self.layer_norm2 = nn.LayerNorm(512)\n",
    "        self.fc3 = nn.Linear(512, output_size)\n",
    "        \n",
    "        self.drop06 = nn.Dropout(0.6)\n",
    "        self.drop03 = nn.Dropout(0.3)\n",
    "        self.drop01 = nn.Dropout(0.1)\n",
    "        \n",
    "        nn.init.kaiming_normal_(self.fc1.weight)\n",
    "        nn.init.kaiming_normal_(self.fc2.weight)\n",
    "        nn.init.kaiming_normal_(self.fc3.weight)\n",
    "        \n",
    "        \n",
    "    def forward(self, x):\n",
    "        input_size = self.input_size \n",
    "        output_size = self.output_size\n",
    "        \n",
    "        x[:,:,:2] = torch.deg2rad(x[:,:,:2])\n",
    "        \n",
    "        \n",
    "        x = x.transpose(2,1)\n",
    "        x = self.conv1(x)\n",
    "        x = self.conv2(x)\n",
    "        x = x.transpose(2,1)\n",
    "        \n",
    "        x = x.reshape(-1, 32*512)\n",
    "        \n",
    "        x = self.drop06(x)\n",
    "        x = self.fc1(x)\n",
    "        x = F.relu(x)\n",
    "        x = self.layer_norm1(x)\n",
    "        \n",
    "        x = self.drop03(x)\n",
    "        x = self.fc2(x)\n",
    "        x = F.relu(x)\n",
    "        x = self.layer_norm2(x)\n",
    "        \n",
    "        x = self.drop01(x)\n",
    "        x = self.fc3(x)\n",
    "        \n",
    "        x[:,:2] = torch.rad2deg(x[:,:2])\n",
    "        \n",
    "        return x"
   ]
  },
  {
   "cell_type": "markdown",
   "metadata": {
    "ExecuteTime": {
     "end_time": "2021-07-04T22:49:13.652182Z",
     "start_time": "2021-07-04T22:47:56.929Z"
    }
   },
   "source": [
    "## Compile Model"
   ]
  },
  {
   "cell_type": "code",
   "execution_count": 21,
   "metadata": {
    "ExecuteTime": {
     "end_time": "2021-07-11T08:21:11.811736Z",
     "start_time": "2021-07-11T08:21:10.266934Z"
    }
   },
   "outputs": [],
   "source": [
    "model = BaseModel((hyper_parameters['window_size'], len(features)), len(labels))\n",
    "model.to(device)\n",
    "# model.load_state_dict(torch.load(\"./models/Baseline3/model-4.pth\"))\n",
    "\n",
    "# loss_func = nn.SmoothL1Loss()\n",
    "loss_func = CustomLoss\n",
    "optimizer = optim.Adam(model.parameters(), lr = hyper_parameters['learning_rate'])\n",
    "scheduler = optim.lr_scheduler.ReduceLROnPlateau(optimizer=optimizer,\n",
    "                                                mode = 'min',\n",
    "                                                factor = 0.1,\n",
    "                                                patience = 5,\n",
    "                                                verbose = True)"
   ]
  },
  {
   "cell_type": "markdown",
   "metadata": {},
   "source": [
    "# Fit and Validate\n",
    "## Train"
   ]
  },
  {
   "cell_type": "code",
   "execution_count": 22,
   "metadata": {
    "ExecuteTime": {
     "end_time": "2021-07-11T08:21:11.826737Z",
     "start_time": "2021-07-11T08:21:11.812737Z"
    }
   },
   "outputs": [],
   "source": [
    "def train(epoch, progress_log):\n",
    "    model.train()  # 신경망을 학습 모드로 전환\n",
    "\n",
    "    # 데이터로더에서 미니배치를 하나씩 꺼내 학습을 수행\n",
    "    predict = []\n",
    "    ground = []\n",
    "    \n",
    "    for data, targets, _ in progress_log:\n",
    "        \n",
    "        data = data.to(device)\n",
    "        targets = targets.to(device)\n",
    "        \n",
    "        optimizer.zero_grad()  # 경사를 0으로 초기화\n",
    "        outputs = model(data)  # 데이터를 입력하고 출력을 계산\n",
    "        loss = loss_func(outputs, targets)  # 출력과 훈련 데이터 정답 간의 오차를 계산\n",
    "        \n",
    "        loss.backward()  # 오차를 역전파 계산\n",
    "        optimizer.step()  # 역전파 계산한 값으로 가중치를 수정\n",
    "        \n",
    "        predict.append(outputs)\n",
    "        ground.append(targets)\n",
    "        \n",
    "    # 정확도 출력\n",
    "    predict = torch.cat(predict,axis = 0)\n",
    "    ground = torch.cat(ground,axis = 0)\n",
    "    \n",
    "    loss = loss_func(predict, ground)\n",
    "    gpsloss = GpsLoss(predict, ground)\n",
    "    gpsscore = GpsScore(predict, ground)\n",
    "    return loss, gpsloss, gpsscore"
   ]
  },
  {
   "cell_type": "markdown",
   "metadata": {},
   "source": [
    "## Valid"
   ]
  },
  {
   "cell_type": "code",
   "execution_count": 23,
   "metadata": {
    "ExecuteTime": {
     "end_time": "2021-07-11T08:21:11.841741Z",
     "start_time": "2021-07-11T08:21:11.829739Z"
    }
   },
   "outputs": [],
   "source": [
    "def valid(progress_log):\n",
    "    model.eval()  # 신경망을 추론 모드로 전환\n",
    "\n",
    "    # 데이터로더에서 미니배치를 하나씩 꺼내 추론을 수행\n",
    "    predict = []\n",
    "    ground = []\n",
    "    \n",
    "    with torch.no_grad():  # 추론 과정에는 미분이 필요없음\n",
    "        for data, targets, _ in progress_log:\n",
    "            \n",
    "            data = data.to(device)\n",
    "            targets = targets.to(device)\n",
    "            \n",
    "            outputs = model(data)  # 데이터를 입력하고 출력을 계산\n",
    "            loss = loss_func(outputs, targets)  # 출력과 훈련 데이터 정답 간의 오차를 계산\n",
    "            \n",
    "            predict.append(outputs)\n",
    "            ground.append(targets)\n",
    "            \n",
    "    # 정확도 출력\n",
    "    predict = torch.cat(predict,axis = 0)\n",
    "    ground = torch.cat(ground,axis = 0)\n",
    "    \n",
    "    loss = loss_func(predict, ground)\n",
    "    gpsloss = GpsLoss(predict, ground)\n",
    "    gpsscore = GpsScore(predict, ground)\n",
    "    return loss, gpsloss, gpsscore"
   ]
  },
  {
   "cell_type": "markdown",
   "metadata": {},
   "source": [
    "## Test"
   ]
  },
  {
   "cell_type": "code",
   "execution_count": 24,
   "metadata": {
    "ExecuteTime": {
     "end_time": "2021-07-11T08:21:11.856738Z",
     "start_time": "2021-07-11T08:21:11.843738Z"
    }
   },
   "outputs": [],
   "source": [
    "def test(dataloader):\n",
    "    model.eval()  # 신경망을 추론 모드로 전환\n",
    "    \n",
    "    output_list = []\n",
    "    with torch.no_grad():  # 추론 과정에는 미분이 필요없음\n",
    "        for data, _, index in tqdm(dataloader):\n",
    "            data = data.to(device)\n",
    "            outputs = model(data)  # 데이터를 입력하고 출력을 계산\n",
    "            df_temp = pd.DataFrame()\n",
    "            df_temp['phone'] = index[0]\n",
    "            df_temp['millisSinceGpsEpoch'] = index[1]\n",
    "            df_temp[['latDeg', 'lngDeg', 'heightAboveWgs84EllipsoidM']] = outputs[:,:3].to('cpu').numpy()\n",
    "            output_list.append(df_temp)\n",
    "    \n",
    "    predicts = pd.concat(output_list)\n",
    "    return predicts\n",
    "            "
   ]
  },
  {
   "cell_type": "markdown",
   "metadata": {},
   "source": [
    "## Fit"
   ]
  },
  {
   "cell_type": "code",
   "execution_count": 25,
   "metadata": {
    "ExecuteTime": {
     "end_time": "2021-07-11T12:14:18.825289Z",
     "start_time": "2021-07-11T08:21:11.858738Z"
    },
    "scrolled": false
   },
   "outputs": [
    {
     "data": {
      "application/vnd.jupyter.widget-view+json": {
       "model_id": "825eae2bc2974b90afd2ca913707d3b8",
       "version_major": 2,
       "version_minor": 0
      },
      "text/plain": [
       "EPOCH:   0%|          | 0/10000 [00:00<?, ?it/s]"
      ]
     },
     "metadata": {},
     "output_type": "display_data"
    },
    {
     "name": "stdout",
     "output_type": "stream",
     "text": [
      "-------------------------------------------------------\n",
      "|EPOCH: 1/10000\n"
     ]
    },
    {
     "data": {
      "application/vnd.jupyter.widget-view+json": {
       "model_id": "",
       "version_major": 2,
       "version_minor": 0
      },
      "text/plain": [
       "TRAIN:   0%|          | 0/465 [00:00<?, ?it/s]"
      ]
     },
     "metadata": {},
     "output_type": "display_data"
    },
    {
     "data": {
      "application/vnd.jupyter.widget-view+json": {
       "model_id": "",
       "version_major": 2,
       "version_minor": 0
      },
      "text/plain": [
       "VALID:   0%|          | 0/44 [00:00<?, ?it/s]"
      ]
     },
     "metadata": {},
     "output_type": "display_data"
    },
    {
     "name": "stdout",
     "output_type": "stream",
     "text": [
      "|1-th model is checked!, *model-0-352097.125.pth*\n",
      "|TRAIN: loss=20.714237,  gloss=1698378.000000,  score=2857907.750000|\n",
      "|VALID: loss=8.592450,  gloss=303876.812500,  score=352097.125000|\n",
      "-------------------------------------------------------\n",
      "|EPOCH: 2/10000\n"
     ]
    },
    {
     "data": {
      "application/vnd.jupyter.widget-view+json": {
       "model_id": "",
       "version_major": 2,
       "version_minor": 0
      },
      "text/plain": [
       "TRAIN:   0%|          | 0/465 [00:00<?, ?it/s]"
      ]
     },
     "metadata": {},
     "output_type": "display_data"
    },
    {
     "data": {
      "application/vnd.jupyter.widget-view+json": {
       "model_id": "",
       "version_major": 2,
       "version_minor": 0
      },
      "text/plain": [
       "VALID:   0%|          | 0/44 [00:00<?, ?it/s]"
      ]
     },
     "metadata": {},
     "output_type": "display_data"
    },
    {
     "name": "stdout",
     "output_type": "stream",
     "text": [
      "|2-th model is checked!, *model-1-230908.84375.pth*\n",
      "|TRAIN: loss=4.469209,  gloss=576668.187500,  score=922863.750000|\n",
      "|VALID: loss=2.385229,  gloss=195967.328125,  score=230908.843750|\n",
      "-------------------------------------------------------\n",
      "|EPOCH: 3/10000\n"
     ]
    },
    {
     "data": {
      "application/vnd.jupyter.widget-view+json": {
       "model_id": "",
       "version_major": 2,
       "version_minor": 0
      },
      "text/plain": [
       "TRAIN:   0%|          | 0/465 [00:00<?, ?it/s]"
      ]
     },
     "metadata": {},
     "output_type": "display_data"
    },
    {
     "data": {
      "application/vnd.jupyter.widget-view+json": {
       "model_id": "",
       "version_major": 2,
       "version_minor": 0
      },
      "text/plain": [
       "VALID:   0%|          | 0/44 [00:00<?, ?it/s]"
      ]
     },
     "metadata": {},
     "output_type": "display_data"
    },
    {
     "name": "stdout",
     "output_type": "stream",
     "text": [
      "|3-th model is checked!, *model-2-163633.25.pth*\n",
      "|TRAIN: loss=2.501882,  gloss=332426.718750,  score=518357.718750|\n",
      "|VALID: loss=1.824483,  gloss=121495.046875,  score=163633.250000|\n",
      "-------------------------------------------------------\n",
      "|EPOCH: 4/10000\n"
     ]
    },
    {
     "data": {
      "application/vnd.jupyter.widget-view+json": {
       "model_id": "",
       "version_major": 2,
       "version_minor": 0
      },
      "text/plain": [
       "TRAIN:   0%|          | 0/465 [00:00<?, ?it/s]"
      ]
     },
     "metadata": {},
     "output_type": "display_data"
    },
    {
     "data": {
      "application/vnd.jupyter.widget-view+json": {
       "model_id": "",
       "version_major": 2,
       "version_minor": 0
      },
      "text/plain": [
       "VALID:   0%|          | 0/44 [00:00<?, ?it/s]"
      ]
     },
     "metadata": {},
     "output_type": "display_data"
    },
    {
     "name": "stdout",
     "output_type": "stream",
     "text": [
      "|TRAIN: loss=1.886163,  gloss=246848.609375,  score=386171.125000|\n",
      "|VALID: loss=1.368968,  gloss=139720.453125,  score=188059.937500|\n",
      "-------------------------------------------------------\n",
      "|EPOCH: 5/10000\n"
     ]
    },
    {
     "data": {
      "application/vnd.jupyter.widget-view+json": {
       "model_id": "",
       "version_major": 2,
       "version_minor": 0
      },
      "text/plain": [
       "TRAIN:   0%|          | 0/465 [00:00<?, ?it/s]"
      ]
     },
     "metadata": {},
     "output_type": "display_data"
    },
    {
     "data": {
      "application/vnd.jupyter.widget-view+json": {
       "model_id": "",
       "version_major": 2,
       "version_minor": 0
      },
      "text/plain": [
       "VALID:   0%|          | 0/44 [00:00<?, ?it/s]"
      ]
     },
     "metadata": {},
     "output_type": "display_data"
    },
    {
     "name": "stdout",
     "output_type": "stream",
     "text": [
      "|5-th model is checked!, *model-4-117657.5625.pth*\n",
      "|TRAIN: loss=1.633723,  gloss=208317.437500,  score=328563.125000|\n",
      "|VALID: loss=1.412743,  gloss=102728.359375,  score=117657.562500|\n",
      "-------------------------------------------------------\n",
      "|EPOCH: 6/10000\n"
     ]
    },
    {
     "data": {
      "application/vnd.jupyter.widget-view+json": {
       "model_id": "",
       "version_major": 2,
       "version_minor": 0
      },
      "text/plain": [
       "TRAIN:   0%|          | 0/465 [00:00<?, ?it/s]"
      ]
     },
     "metadata": {},
     "output_type": "display_data"
    },
    {
     "data": {
      "application/vnd.jupyter.widget-view+json": {
       "model_id": "",
       "version_major": 2,
       "version_minor": 0
      },
      "text/plain": [
       "VALID:   0%|          | 0/44 [00:00<?, ?it/s]"
      ]
     },
     "metadata": {},
     "output_type": "display_data"
    },
    {
     "name": "stdout",
     "output_type": "stream",
     "text": [
      "|6-th model is checked!, *model-5-115339.96875.pth*\n",
      "|TRAIN: loss=1.539351,  gloss=207335.437500,  score=326909.000000|\n",
      "|VALID: loss=1.232985,  gloss=85988.851562,  score=115339.968750|\n",
      "-------------------------------------------------------\n",
      "|EPOCH: 7/10000\n"
     ]
    },
    {
     "data": {
      "application/vnd.jupyter.widget-view+json": {
       "model_id": "",
       "version_major": 2,
       "version_minor": 0
      },
      "text/plain": [
       "TRAIN:   0%|          | 0/465 [00:00<?, ?it/s]"
      ]
     },
     "metadata": {},
     "output_type": "display_data"
    },
    {
     "data": {
      "application/vnd.jupyter.widget-view+json": {
       "model_id": "",
       "version_major": 2,
       "version_minor": 0
      },
      "text/plain": [
       "VALID:   0%|          | 0/44 [00:00<?, ?it/s]"
      ]
     },
     "metadata": {},
     "output_type": "display_data"
    },
    {
     "name": "stdout",
     "output_type": "stream",
     "text": [
      "|TRAIN: loss=1.417118,  gloss=182339.171875,  score=290161.312500|\n",
      "|VALID: loss=1.174496,  gloss=126179.226562,  score=152871.390625|\n",
      "-------------------------------------------------------\n",
      "|EPOCH: 8/10000\n"
     ]
    },
    {
     "data": {
      "application/vnd.jupyter.widget-view+json": {
       "model_id": "",
       "version_major": 2,
       "version_minor": 0
      },
      "text/plain": [
       "TRAIN:   0%|          | 0/465 [00:00<?, ?it/s]"
      ]
     },
     "metadata": {},
     "output_type": "display_data"
    },
    {
     "data": {
      "application/vnd.jupyter.widget-view+json": {
       "model_id": "",
       "version_major": 2,
       "version_minor": 0
      },
      "text/plain": [
       "VALID:   0%|          | 0/44 [00:00<?, ?it/s]"
      ]
     },
     "metadata": {},
     "output_type": "display_data"
    },
    {
     "name": "stdout",
     "output_type": "stream",
     "text": [
      "|TRAIN: loss=1.346858,  gloss=175528.328125,  score=278429.187500|\n",
      "|VALID: loss=1.602969,  gloss=120785.601562,  score=140209.390625|\n",
      "-------------------------------------------------------\n",
      "|EPOCH: 9/10000\n"
     ]
    },
    {
     "data": {
      "application/vnd.jupyter.widget-view+json": {
       "model_id": "",
       "version_major": 2,
       "version_minor": 0
      },
      "text/plain": [
       "TRAIN:   0%|          | 0/465 [00:00<?, ?it/s]"
      ]
     },
     "metadata": {},
     "output_type": "display_data"
    },
    {
     "data": {
      "application/vnd.jupyter.widget-view+json": {
       "model_id": "",
       "version_major": 2,
       "version_minor": 0
      },
      "text/plain": [
       "VALID:   0%|          | 0/44 [00:00<?, ?it/s]"
      ]
     },
     "metadata": {},
     "output_type": "display_data"
    },
    {
     "name": "stdout",
     "output_type": "stream",
     "text": [
      "|9-th model is checked!, *model-8-72496.4140625.pth*\n",
      "|TRAIN: loss=1.336401,  gloss=184444.937500,  score=291464.031250|\n",
      "|VALID: loss=1.084000,  gloss=56187.218750,  score=72496.414062|\n",
      "-------------------------------------------------------\n",
      "|EPOCH: 10/10000\n"
     ]
    },
    {
     "data": {
      "application/vnd.jupyter.widget-view+json": {
       "model_id": "",
       "version_major": 2,
       "version_minor": 0
      },
      "text/plain": [
       "TRAIN:   0%|          | 0/465 [00:00<?, ?it/s]"
      ]
     },
     "metadata": {},
     "output_type": "display_data"
    },
    {
     "data": {
      "application/vnd.jupyter.widget-view+json": {
       "model_id": "",
       "version_major": 2,
       "version_minor": 0
      },
      "text/plain": [
       "VALID:   0%|          | 0/44 [00:00<?, ?it/s]"
      ]
     },
     "metadata": {},
     "output_type": "display_data"
    },
    {
     "name": "stdout",
     "output_type": "stream",
     "text": [
      "|TRAIN: loss=12.928834,  gloss=1253806.375000,  score=3243211.250000|\n",
      "|VALID: loss=13.443821,  gloss=423053.406250,  score=655455.250000|\n",
      "-------------------------------------------------------\n",
      "|EPOCH: 11/10000\n"
     ]
    },
    {
     "data": {
      "application/vnd.jupyter.widget-view+json": {
       "model_id": "",
       "version_major": 2,
       "version_minor": 0
      },
      "text/plain": [
       "TRAIN:   0%|          | 0/465 [00:00<?, ?it/s]"
      ]
     },
     "metadata": {},
     "output_type": "display_data"
    },
    {
     "data": {
      "application/vnd.jupyter.widget-view+json": {
       "model_id": "",
       "version_major": 2,
       "version_minor": 0
      },
      "text/plain": [
       "VALID:   0%|          | 0/44 [00:00<?, ?it/s]"
      ]
     },
     "metadata": {},
     "output_type": "display_data"
    },
    {
     "name": "stdout",
     "output_type": "stream",
     "text": [
      "|TRAIN: loss=10.830963,  gloss=1920398.875000,  score=2906668.500000|\n",
      "|VALID: loss=4.304800,  gloss=283487.312500,  score=415462.968750|\n",
      "-------------------------------------------------------\n",
      "|EPOCH: 12/10000\n"
     ]
    },
    {
     "data": {
      "application/vnd.jupyter.widget-view+json": {
       "model_id": "",
       "version_major": 2,
       "version_minor": 0
      },
      "text/plain": [
       "TRAIN:   0%|          | 0/465 [00:00<?, ?it/s]"
      ]
     },
     "metadata": {},
     "output_type": "display_data"
    },
    {
     "data": {
      "application/vnd.jupyter.widget-view+json": {
       "model_id": "",
       "version_major": 2,
       "version_minor": 0
      },
      "text/plain": [
       "VALID:   0%|          | 0/44 [00:00<?, ?it/s]"
      ]
     },
     "metadata": {},
     "output_type": "display_data"
    },
    {
     "name": "stdout",
     "output_type": "stream",
     "text": [
      "|TRAIN: loss=8.526540,  gloss=1662049.875000,  score=2511268.250000|\n",
      "|VALID: loss=4.437929,  gloss=284161.968750,  score=370602.250000|\n",
      "-------------------------------------------------------\n",
      "|EPOCH: 13/10000\n"
     ]
    },
    {
     "data": {
      "application/vnd.jupyter.widget-view+json": {
       "model_id": "",
       "version_major": 2,
       "version_minor": 0
      },
      "text/plain": [
       "TRAIN:   0%|          | 0/465 [00:00<?, ?it/s]"
      ]
     },
     "metadata": {},
     "output_type": "display_data"
    },
    {
     "data": {
      "application/vnd.jupyter.widget-view+json": {
       "model_id": "",
       "version_major": 2,
       "version_minor": 0
      },
      "text/plain": [
       "VALID:   0%|          | 0/44 [00:00<?, ?it/s]"
      ]
     },
     "metadata": {},
     "output_type": "display_data"
    },
    {
     "name": "stdout",
     "output_type": "stream",
     "text": [
      "|TRAIN: loss=7.085391,  gloss=1394070.125000,  score=2121587.750000|\n",
      "|VALID: loss=3.673302,  gloss=258312.812500,  score=329547.187500|\n",
      "-------------------------------------------------------\n",
      "|EPOCH: 14/10000\n"
     ]
    },
    {
     "data": {
      "application/vnd.jupyter.widget-view+json": {
       "model_id": "",
       "version_major": 2,
       "version_minor": 0
      },
      "text/plain": [
       "TRAIN:   0%|          | 0/465 [00:00<?, ?it/s]"
      ]
     },
     "metadata": {},
     "output_type": "display_data"
    },
    {
     "data": {
      "application/vnd.jupyter.widget-view+json": {
       "model_id": "",
       "version_major": 2,
       "version_minor": 0
      },
      "text/plain": [
       "VALID:   0%|          | 0/44 [00:00<?, ?it/s]"
      ]
     },
     "metadata": {},
     "output_type": "display_data"
    },
    {
     "name": "stdout",
     "output_type": "stream",
     "text": [
      "|TRAIN: loss=6.012790,  gloss=1180867.750000,  score=1788301.750000|\n",
      "|VALID: loss=3.027526,  gloss=200573.296875,  score=247601.781250|\n",
      "-------------------------------------------------------\n",
      "|EPOCH: 15/10000\n"
     ]
    },
    {
     "data": {
      "application/vnd.jupyter.widget-view+json": {
       "model_id": "",
       "version_major": 2,
       "version_minor": 0
      },
      "text/plain": [
       "TRAIN:   0%|          | 0/465 [00:00<?, ?it/s]"
      ]
     },
     "metadata": {},
     "output_type": "display_data"
    },
    {
     "data": {
      "application/vnd.jupyter.widget-view+json": {
       "model_id": "",
       "version_major": 2,
       "version_minor": 0
      },
      "text/plain": [
       "VALID:   0%|          | 0/44 [00:00<?, ?it/s]"
      ]
     },
     "metadata": {},
     "output_type": "display_data"
    },
    {
     "name": "stdout",
     "output_type": "stream",
     "text": [
      "Epoch    15: reducing learning rate of group 0 to 1.0000e-04.\n",
      "|TRAIN: loss=5.478540,  gloss=1080287.875000,  score=1634859.625000|\n",
      "|VALID: loss=2.663663,  gloss=247841.921875,  score=319723.312500|\n",
      "-------------------------------------------------------\n",
      "|EPOCH: 16/10000\n"
     ]
    },
    {
     "data": {
      "application/vnd.jupyter.widget-view+json": {
       "model_id": "",
       "version_major": 2,
       "version_minor": 0
      },
      "text/plain": [
       "TRAIN:   0%|          | 0/465 [00:00<?, ?it/s]"
      ]
     },
     "metadata": {},
     "output_type": "display_data"
    },
    {
     "data": {
      "application/vnd.jupyter.widget-view+json": {
       "model_id": "",
       "version_major": 2,
       "version_minor": 0
      },
      "text/plain": [
       "VALID:   0%|          | 0/44 [00:00<?, ?it/s]"
      ]
     },
     "metadata": {},
     "output_type": "display_data"
    },
    {
     "name": "stdout",
     "output_type": "stream",
     "text": [
      "|TRAIN: loss=5.132340,  gloss=1027796.687500,  score=1556653.250000|\n",
      "|VALID: loss=2.274345,  gloss=198811.265625,  score=235056.906250|\n",
      "-------------------------------------------------------\n",
      "|EPOCH: 17/10000\n"
     ]
    },
    {
     "data": {
      "application/vnd.jupyter.widget-view+json": {
       "model_id": "",
       "version_major": 2,
       "version_minor": 0
      },
      "text/plain": [
       "TRAIN:   0%|          | 0/465 [00:00<?, ?it/s]"
      ]
     },
     "metadata": {},
     "output_type": "display_data"
    },
    {
     "data": {
      "application/vnd.jupyter.widget-view+json": {
       "model_id": "",
       "version_major": 2,
       "version_minor": 0
      },
      "text/plain": [
       "VALID:   0%|          | 0/44 [00:00<?, ?it/s]"
      ]
     },
     "metadata": {},
     "output_type": "display_data"
    },
    {
     "name": "stdout",
     "output_type": "stream",
     "text": [
      "|TRAIN: loss=5.095935,  gloss=1021185.125000,  score=1546306.000000|\n",
      "|VALID: loss=2.346306,  gloss=193914.484375,  score=239126.812500|\n",
      "-------------------------------------------------------\n",
      "|EPOCH: 18/10000\n"
     ]
    },
    {
     "data": {
      "application/vnd.jupyter.widget-view+json": {
       "model_id": "",
       "version_major": 2,
       "version_minor": 0
      },
      "text/plain": [
       "TRAIN:   0%|          | 0/465 [00:00<?, ?it/s]"
      ]
     },
     "metadata": {},
     "output_type": "display_data"
    },
    {
     "data": {
      "application/vnd.jupyter.widget-view+json": {
       "model_id": "",
       "version_major": 2,
       "version_minor": 0
      },
      "text/plain": [
       "VALID:   0%|          | 0/44 [00:00<?, ?it/s]"
      ]
     },
     "metadata": {},
     "output_type": "display_data"
    },
    {
     "name": "stdout",
     "output_type": "stream",
     "text": [
      "|TRAIN: loss=5.038875,  gloss=1012258.875000,  score=1535870.500000|\n",
      "|VALID: loss=2.482144,  gloss=188733.921875,  score=226398.593750|\n",
      "-------------------------------------------------------\n",
      "|EPOCH: 19/10000\n"
     ]
    },
    {
     "data": {
      "application/vnd.jupyter.widget-view+json": {
       "model_id": "",
       "version_major": 2,
       "version_minor": 0
      },
      "text/plain": [
       "TRAIN:   0%|          | 0/465 [00:00<?, ?it/s]"
      ]
     },
     "metadata": {},
     "output_type": "display_data"
    },
    {
     "data": {
      "application/vnd.jupyter.widget-view+json": {
       "model_id": "",
       "version_major": 2,
       "version_minor": 0
      },
      "text/plain": [
       "VALID:   0%|          | 0/44 [00:00<?, ?it/s]"
      ]
     },
     "metadata": {},
     "output_type": "display_data"
    },
    {
     "name": "stdout",
     "output_type": "stream",
     "text": [
      "|TRAIN: loss=4.998271,  gloss=1005453.687500,  score=1529288.000000|\n",
      "|VALID: loss=2.198838,  gloss=194106.937500,  score=249877.937500|\n",
      "-------------------------------------------------------\n",
      "|EPOCH: 20/10000\n"
     ]
    },
    {
     "data": {
      "application/vnd.jupyter.widget-view+json": {
       "model_id": "",
       "version_major": 2,
       "version_minor": 0
      },
      "text/plain": [
       "TRAIN:   0%|          | 0/465 [00:00<?, ?it/s]"
      ]
     },
     "metadata": {},
     "output_type": "display_data"
    },
    {
     "data": {
      "application/vnd.jupyter.widget-view+json": {
       "model_id": "",
       "version_major": 2,
       "version_minor": 0
      },
      "text/plain": [
       "VALID:   0%|          | 0/44 [00:00<?, ?it/s]"
      ]
     },
     "metadata": {},
     "output_type": "display_data"
    },
    {
     "name": "stdout",
     "output_type": "stream",
     "text": [
      "|TRAIN: loss=4.903044,  gloss=988699.125000,  score=1504392.500000|\n",
      "|VALID: loss=2.136118,  gloss=182115.015625,  score=233753.421875|\n",
      "-------------------------------------------------------\n",
      "|EPOCH: 21/10000\n"
     ]
    },
    {
     "data": {
      "application/vnd.jupyter.widget-view+json": {
       "model_id": "",
       "version_major": 2,
       "version_minor": 0
      },
      "text/plain": [
       "TRAIN:   0%|          | 0/465 [00:00<?, ?it/s]"
      ]
     },
     "metadata": {},
     "output_type": "display_data"
    },
    {
     "data": {
      "application/vnd.jupyter.widget-view+json": {
       "model_id": "",
       "version_major": 2,
       "version_minor": 0
      },
      "text/plain": [
       "VALID:   0%|          | 0/44 [00:00<?, ?it/s]"
      ]
     },
     "metadata": {},
     "output_type": "display_data"
    },
    {
     "name": "stdout",
     "output_type": "stream",
     "text": [
      "Epoch    21: reducing learning rate of group 0 to 1.0000e-05.\n",
      "|TRAIN: loss=4.847741,  gloss=977583.500000,  score=1485242.125000|\n",
      "|VALID: loss=1.892795,  gloss=168721.546875,  score=234532.906250|\n",
      "-------------------------------------------------------\n",
      "|EPOCH: 22/10000\n"
     ]
    },
    {
     "data": {
      "application/vnd.jupyter.widget-view+json": {
       "model_id": "",
       "version_major": 2,
       "version_minor": 0
      },
      "text/plain": [
       "TRAIN:   0%|          | 0/465 [00:00<?, ?it/s]"
      ]
     },
     "metadata": {},
     "output_type": "display_data"
    },
    {
     "data": {
      "application/vnd.jupyter.widget-view+json": {
       "model_id": "",
       "version_major": 2,
       "version_minor": 0
      },
      "text/plain": [
       "VALID:   0%|          | 0/44 [00:00<?, ?it/s]"
      ]
     },
     "metadata": {},
     "output_type": "display_data"
    },
    {
     "name": "stdout",
     "output_type": "stream",
     "text": [
      "|TRAIN: loss=4.784878,  gloss=968733.875000,  score=1475274.500000|\n",
      "|VALID: loss=1.934227,  gloss=175721.640625,  score=233505.921875|\n",
      "-------------------------------------------------------\n",
      "|EPOCH: 23/10000\n"
     ]
    },
    {
     "data": {
      "application/vnd.jupyter.widget-view+json": {
       "model_id": "",
       "version_major": 2,
       "version_minor": 0
      },
      "text/plain": [
       "TRAIN:   0%|          | 0/465 [00:00<?, ?it/s]"
      ]
     },
     "metadata": {},
     "output_type": "display_data"
    },
    {
     "data": {
      "application/vnd.jupyter.widget-view+json": {
       "model_id": "",
       "version_major": 2,
       "version_minor": 0
      },
      "text/plain": [
       "VALID:   0%|          | 0/44 [00:00<?, ?it/s]"
      ]
     },
     "metadata": {},
     "output_type": "display_data"
    },
    {
     "name": "stdout",
     "output_type": "stream",
     "text": [
      "|TRAIN: loss=4.774032,  gloss=968547.750000,  score=1472515.500000|\n",
      "|VALID: loss=2.001030,  gloss=177366.765625,  score=223822.750000|\n",
      "-------------------------------------------------------\n",
      "|EPOCH: 24/10000\n"
     ]
    },
    {
     "data": {
      "application/vnd.jupyter.widget-view+json": {
       "model_id": "",
       "version_major": 2,
       "version_minor": 0
      },
      "text/plain": [
       "TRAIN:   0%|          | 0/465 [00:00<?, ?it/s]"
      ]
     },
     "metadata": {},
     "output_type": "display_data"
    },
    {
     "data": {
      "application/vnd.jupyter.widget-view+json": {
       "model_id": "",
       "version_major": 2,
       "version_minor": 0
      },
      "text/plain": [
       "VALID:   0%|          | 0/44 [00:00<?, ?it/s]"
      ]
     },
     "metadata": {},
     "output_type": "display_data"
    },
    {
     "name": "stdout",
     "output_type": "stream",
     "text": [
      "|TRAIN: loss=4.760808,  gloss=963315.812500,  score=1467164.000000|\n",
      "|VALID: loss=2.061565,  gloss=183521.250000,  score=229331.578125|\n",
      "-------------------------------------------------------\n",
      "|EPOCH: 25/10000\n"
     ]
    },
    {
     "data": {
      "application/vnd.jupyter.widget-view+json": {
       "model_id": "",
       "version_major": 2,
       "version_minor": 0
      },
      "text/plain": [
       "TRAIN:   0%|          | 0/465 [00:00<?, ?it/s]"
      ]
     },
     "metadata": {},
     "output_type": "display_data"
    },
    {
     "data": {
      "application/vnd.jupyter.widget-view+json": {
       "model_id": "",
       "version_major": 2,
       "version_minor": 0
      },
      "text/plain": [
       "VALID:   0%|          | 0/44 [00:00<?, ?it/s]"
      ]
     },
     "metadata": {},
     "output_type": "display_data"
    },
    {
     "name": "stdout",
     "output_type": "stream",
     "text": [
      "|TRAIN: loss=4.753475,  gloss=963808.812500,  score=1467657.750000|\n",
      "|VALID: loss=1.809604,  gloss=181912.609375,  score=234298.062500|\n",
      "-------------------------------------------------------\n",
      "|EPOCH: 26/10000\n"
     ]
    },
    {
     "data": {
      "application/vnd.jupyter.widget-view+json": {
       "model_id": "",
       "version_major": 2,
       "version_minor": 0
      },
      "text/plain": [
       "TRAIN:   0%|          | 0/465 [00:00<?, ?it/s]"
      ]
     },
     "metadata": {},
     "output_type": "display_data"
    },
    {
     "data": {
      "application/vnd.jupyter.widget-view+json": {
       "model_id": "",
       "version_major": 2,
       "version_minor": 0
      },
      "text/plain": [
       "VALID:   0%|          | 0/44 [00:00<?, ?it/s]"
      ]
     },
     "metadata": {},
     "output_type": "display_data"
    },
    {
     "name": "stdout",
     "output_type": "stream",
     "text": [
      "|TRAIN: loss=4.745457,  gloss=961668.500000,  score=1464920.500000|\n",
      "|VALID: loss=1.852080,  gloss=161845.984375,  score=216731.109375|\n",
      "-------------------------------------------------------\n",
      "|EPOCH: 27/10000\n"
     ]
    },
    {
     "data": {
      "application/vnd.jupyter.widget-view+json": {
       "model_id": "",
       "version_major": 2,
       "version_minor": 0
      },
      "text/plain": [
       "TRAIN:   0%|          | 0/465 [00:00<?, ?it/s]"
      ]
     },
     "metadata": {},
     "output_type": "display_data"
    },
    {
     "data": {
      "application/vnd.jupyter.widget-view+json": {
       "model_id": "",
       "version_major": 2,
       "version_minor": 0
      },
      "text/plain": [
       "VALID:   0%|          | 0/44 [00:00<?, ?it/s]"
      ]
     },
     "metadata": {},
     "output_type": "display_data"
    },
    {
     "name": "stdout",
     "output_type": "stream",
     "text": [
      "Epoch    27: reducing learning rate of group 0 to 1.0000e-06.\n",
      "|TRAIN: loss=4.731577,  gloss=959223.437500,  score=1460141.250000|\n",
      "|VALID: loss=1.720171,  gloss=170735.140625,  score=222919.000000|\n",
      "-------------------------------------------------------\n",
      "|EPOCH: 28/10000\n"
     ]
    },
    {
     "data": {
      "application/vnd.jupyter.widget-view+json": {
       "model_id": "",
       "version_major": 2,
       "version_minor": 0
      },
      "text/plain": [
       "TRAIN:   0%|          | 0/465 [00:00<?, ?it/s]"
      ]
     },
     "metadata": {},
     "output_type": "display_data"
    },
    {
     "data": {
      "application/vnd.jupyter.widget-view+json": {
       "model_id": "",
       "version_major": 2,
       "version_minor": 0
      },
      "text/plain": [
       "VALID:   0%|          | 0/44 [00:00<?, ?it/s]"
      ]
     },
     "metadata": {},
     "output_type": "display_data"
    },
    {
     "name": "stdout",
     "output_type": "stream",
     "text": [
      "|TRAIN: loss=4.704205,  gloss=953483.750000,  score=1448102.500000|\n",
      "|VALID: loss=1.778194,  gloss=171511.671875,  score=219628.140625|\n",
      "-------------------------------------------------------\n",
      "|EPOCH: 29/10000\n"
     ]
    },
    {
     "data": {
      "application/vnd.jupyter.widget-view+json": {
       "model_id": "",
       "version_major": 2,
       "version_minor": 0
      },
      "text/plain": [
       "TRAIN:   0%|          | 0/465 [00:00<?, ?it/s]"
      ]
     },
     "metadata": {},
     "output_type": "display_data"
    },
    {
     "data": {
      "application/vnd.jupyter.widget-view+json": {
       "model_id": "",
       "version_major": 2,
       "version_minor": 0
      },
      "text/plain": [
       "VALID:   0%|          | 0/44 [00:00<?, ?it/s]"
      ]
     },
     "metadata": {},
     "output_type": "display_data"
    },
    {
     "name": "stdout",
     "output_type": "stream",
     "text": [
      "|TRAIN: loss=4.698145,  gloss=952084.937500,  score=1446237.750000|\n",
      "|VALID: loss=1.698074,  gloss=171977.812500,  score=220980.406250|\n",
      "-------------------------------------------------------\n",
      "|EPOCH: 30/10000\n"
     ]
    },
    {
     "data": {
      "application/vnd.jupyter.widget-view+json": {
       "model_id": "",
       "version_major": 2,
       "version_minor": 0
      },
      "text/plain": [
       "TRAIN:   0%|          | 0/465 [00:00<?, ?it/s]"
      ]
     },
     "metadata": {},
     "output_type": "display_data"
    },
    {
     "data": {
      "application/vnd.jupyter.widget-view+json": {
       "model_id": "",
       "version_major": 2,
       "version_minor": 0
      },
      "text/plain": [
       "VALID:   0%|          | 0/44 [00:00<?, ?it/s]"
      ]
     },
     "metadata": {},
     "output_type": "display_data"
    },
    {
     "name": "stdout",
     "output_type": "stream",
     "text": [
      "|TRAIN: loss=4.708189,  gloss=954986.250000,  score=1455082.500000|\n",
      "|VALID: loss=2.015822,  gloss=179370.140625,  score=227932.875000|\n",
      "-------------------------------------------------------\n",
      "|EPOCH: 31/10000\n"
     ]
    },
    {
     "data": {
      "application/vnd.jupyter.widget-view+json": {
       "model_id": "",
       "version_major": 2,
       "version_minor": 0
      },
      "text/plain": [
       "TRAIN:   0%|          | 0/465 [00:00<?, ?it/s]"
      ]
     },
     "metadata": {},
     "output_type": "display_data"
    },
    {
     "data": {
      "application/vnd.jupyter.widget-view+json": {
       "model_id": "",
       "version_major": 2,
       "version_minor": 0
      },
      "text/plain": [
       "VALID:   0%|          | 0/44 [00:00<?, ?it/s]"
      ]
     },
     "metadata": {},
     "output_type": "display_data"
    },
    {
     "name": "stdout",
     "output_type": "stream",
     "text": [
      "|TRAIN: loss=4.694464,  gloss=950916.062500,  score=1444358.875000|\n",
      "|VALID: loss=1.812343,  gloss=176149.203125,  score=224720.234375|\n",
      "-------------------------------------------------------\n",
      "|EPOCH: 32/10000\n"
     ]
    },
    {
     "data": {
      "application/vnd.jupyter.widget-view+json": {
       "model_id": "",
       "version_major": 2,
       "version_minor": 0
      },
      "text/plain": [
       "TRAIN:   0%|          | 0/465 [00:00<?, ?it/s]"
      ]
     },
     "metadata": {},
     "output_type": "display_data"
    },
    {
     "data": {
      "application/vnd.jupyter.widget-view+json": {
       "model_id": "",
       "version_major": 2,
       "version_minor": 0
      },
      "text/plain": [
       "VALID:   0%|          | 0/44 [00:00<?, ?it/s]"
      ]
     },
     "metadata": {},
     "output_type": "display_data"
    },
    {
     "name": "stdout",
     "output_type": "stream",
     "text": [
      "|TRAIN: loss=4.694265,  gloss=951883.562500,  score=1448039.875000|\n",
      "|VALID: loss=1.849434,  gloss=175026.343750,  score=222070.140625|\n",
      "-------------------------------------------------------\n",
      "|EPOCH: 33/10000\n"
     ]
    },
    {
     "data": {
      "application/vnd.jupyter.widget-view+json": {
       "model_id": "",
       "version_major": 2,
       "version_minor": 0
      },
      "text/plain": [
       "TRAIN:   0%|          | 0/465 [00:00<?, ?it/s]"
      ]
     },
     "metadata": {},
     "output_type": "display_data"
    },
    {
     "data": {
      "application/vnd.jupyter.widget-view+json": {
       "model_id": "",
       "version_major": 2,
       "version_minor": 0
      },
      "text/plain": [
       "VALID:   0%|          | 0/44 [00:00<?, ?it/s]"
      ]
     },
     "metadata": {},
     "output_type": "display_data"
    },
    {
     "name": "stdout",
     "output_type": "stream",
     "text": [
      "Epoch    33: reducing learning rate of group 0 to 1.0000e-07.\n",
      "|TRAIN: loss=4.693656,  gloss=950943.687500,  score=1443008.500000|\n",
      "|VALID: loss=1.802133,  gloss=168811.968750,  score=216408.593750|\n",
      "-------------------------------------------------------\n",
      "|EPOCH: 34/10000\n"
     ]
    },
    {
     "data": {
      "application/vnd.jupyter.widget-view+json": {
       "model_id": "",
       "version_major": 2,
       "version_minor": 0
      },
      "text/plain": [
       "TRAIN:   0%|          | 0/465 [00:00<?, ?it/s]"
      ]
     },
     "metadata": {},
     "output_type": "display_data"
    },
    {
     "data": {
      "application/vnd.jupyter.widget-view+json": {
       "model_id": "",
       "version_major": 2,
       "version_minor": 0
      },
      "text/plain": [
       "VALID:   0%|          | 0/44 [00:00<?, ?it/s]"
      ]
     },
     "metadata": {},
     "output_type": "display_data"
    },
    {
     "name": "stdout",
     "output_type": "stream",
     "text": [
      "|TRAIN: loss=4.690286,  gloss=951737.687500,  score=1443591.875000|\n",
      "|VALID: loss=1.936330,  gloss=173370.859375,  score=219362.640625|\n",
      "-------------------------------------------------------\n",
      "|EPOCH: 35/10000\n"
     ]
    },
    {
     "data": {
      "application/vnd.jupyter.widget-view+json": {
       "model_id": "",
       "version_major": 2,
       "version_minor": 0
      },
      "text/plain": [
       "TRAIN:   0%|          | 0/465 [00:00<?, ?it/s]"
      ]
     },
     "metadata": {},
     "output_type": "display_data"
    },
    {
     "data": {
      "application/vnd.jupyter.widget-view+json": {
       "model_id": "",
       "version_major": 2,
       "version_minor": 0
      },
      "text/plain": [
       "VALID:   0%|          | 0/44 [00:00<?, ?it/s]"
      ]
     },
     "metadata": {},
     "output_type": "display_data"
    },
    {
     "name": "stdout",
     "output_type": "stream",
     "text": [
      "|TRAIN: loss=4.688640,  gloss=951004.062500,  score=1448134.750000|\n",
      "|VALID: loss=1.984760,  gloss=172395.609375,  score=220260.093750|\n",
      "-------------------------------------------------------\n",
      "|EPOCH: 36/10000\n"
     ]
    },
    {
     "data": {
      "application/vnd.jupyter.widget-view+json": {
       "model_id": "",
       "version_major": 2,
       "version_minor": 0
      },
      "text/plain": [
       "TRAIN:   0%|          | 0/465 [00:00<?, ?it/s]"
      ]
     },
     "metadata": {},
     "output_type": "display_data"
    },
    {
     "data": {
      "application/vnd.jupyter.widget-view+json": {
       "model_id": "",
       "version_major": 2,
       "version_minor": 0
      },
      "text/plain": [
       "VALID:   0%|          | 0/44 [00:00<?, ?it/s]"
      ]
     },
     "metadata": {},
     "output_type": "display_data"
    },
    {
     "name": "stdout",
     "output_type": "stream",
     "text": [
      "|TRAIN: loss=4.687857,  gloss=949332.062500,  score=1448084.875000|\n",
      "|VALID: loss=1.805812,  gloss=171377.062500,  score=219001.656250|\n",
      "-------------------------------------------------------\n",
      "|EPOCH: 37/10000\n"
     ]
    },
    {
     "data": {
      "application/vnd.jupyter.widget-view+json": {
       "model_id": "",
       "version_major": 2,
       "version_minor": 0
      },
      "text/plain": [
       "TRAIN:   0%|          | 0/465 [00:00<?, ?it/s]"
      ]
     },
     "metadata": {},
     "output_type": "display_data"
    },
    {
     "data": {
      "application/vnd.jupyter.widget-view+json": {
       "model_id": "",
       "version_major": 2,
       "version_minor": 0
      },
      "text/plain": [
       "VALID:   0%|          | 0/44 [00:00<?, ?it/s]"
      ]
     },
     "metadata": {},
     "output_type": "display_data"
    },
    {
     "name": "stdout",
     "output_type": "stream",
     "text": [
      "|TRAIN: loss=4.688062,  gloss=949743.437500,  score=1444334.500000|\n",
      "|VALID: loss=1.901345,  gloss=172636.593750,  score=220003.281250|\n",
      "-------------------------------------------------------\n",
      "|EPOCH: 38/10000\n"
     ]
    },
    {
     "data": {
      "application/vnd.jupyter.widget-view+json": {
       "model_id": "",
       "version_major": 2,
       "version_minor": 0
      },
      "text/plain": [
       "TRAIN:   0%|          | 0/465 [00:00<?, ?it/s]"
      ]
     },
     "metadata": {},
     "output_type": "display_data"
    },
    {
     "data": {
      "application/vnd.jupyter.widget-view+json": {
       "model_id": "",
       "version_major": 2,
       "version_minor": 0
      },
      "text/plain": [
       "VALID:   0%|          | 0/44 [00:00<?, ?it/s]"
      ]
     },
     "metadata": {},
     "output_type": "display_data"
    },
    {
     "name": "stdout",
     "output_type": "stream",
     "text": [
      "|TRAIN: loss=4.682011,  gloss=948475.000000,  score=1443194.000000|\n",
      "|VALID: loss=1.855172,  gloss=173769.109375,  score=219956.718750|\n",
      "-------------------------------------------------------\n",
      "|EPOCH: 39/10000\n"
     ]
    },
    {
     "data": {
      "application/vnd.jupyter.widget-view+json": {
       "model_id": "",
       "version_major": 2,
       "version_minor": 0
      },
      "text/plain": [
       "TRAIN:   0%|          | 0/465 [00:00<?, ?it/s]"
      ]
     },
     "metadata": {},
     "output_type": "display_data"
    },
    {
     "data": {
      "application/vnd.jupyter.widget-view+json": {
       "model_id": "",
       "version_major": 2,
       "version_minor": 0
      },
      "text/plain": [
       "VALID:   0%|          | 0/44 [00:00<?, ?it/s]"
      ]
     },
     "metadata": {},
     "output_type": "display_data"
    },
    {
     "name": "stdout",
     "output_type": "stream",
     "text": [
      "Epoch    39: reducing learning rate of group 0 to 1.0000e-08.\n",
      "|TRAIN: loss=4.680667,  gloss=949733.625000,  score=1444323.500000|\n",
      "|VALID: loss=1.729797,  gloss=171072.812500,  score=216627.843750|\n",
      "-------------------------------------------------------\n",
      "|EPOCH: 40/10000\n"
     ]
    },
    {
     "data": {
      "application/vnd.jupyter.widget-view+json": {
       "model_id": "",
       "version_major": 2,
       "version_minor": 0
      },
      "text/plain": [
       "TRAIN:   0%|          | 0/465 [00:00<?, ?it/s]"
      ]
     },
     "metadata": {},
     "output_type": "display_data"
    },
    {
     "data": {
      "application/vnd.jupyter.widget-view+json": {
       "model_id": "",
       "version_major": 2,
       "version_minor": 0
      },
      "text/plain": [
       "VALID:   0%|          | 0/44 [00:00<?, ?it/s]"
      ]
     },
     "metadata": {},
     "output_type": "display_data"
    },
    {
     "name": "stdout",
     "output_type": "stream",
     "text": [
      "|TRAIN: loss=4.684556,  gloss=948498.875000,  score=1444332.500000|\n",
      "|VALID: loss=1.873950,  gloss=173854.593750,  score=219438.796875|\n",
      "-------------------------------------------------------\n",
      "|EPOCH: 41/10000\n"
     ]
    },
    {
     "data": {
      "application/vnd.jupyter.widget-view+json": {
       "model_id": "",
       "version_major": 2,
       "version_minor": 0
      },
      "text/plain": [
       "TRAIN:   0%|          | 0/465 [00:00<?, ?it/s]"
      ]
     },
     "metadata": {},
     "output_type": "display_data"
    },
    {
     "data": {
      "application/vnd.jupyter.widget-view+json": {
       "model_id": "",
       "version_major": 2,
       "version_minor": 0
      },
      "text/plain": [
       "VALID:   0%|          | 0/44 [00:00<?, ?it/s]"
      ]
     },
     "metadata": {},
     "output_type": "display_data"
    },
    {
     "name": "stdout",
     "output_type": "stream",
     "text": [
      "|TRAIN: loss=4.696937,  gloss=952612.375000,  score=1452970.250000|\n",
      "|VALID: loss=1.929508,  gloss=174227.140625,  score=220134.375000|\n",
      "-------------------------------------------------------\n",
      "|EPOCH: 42/10000\n"
     ]
    },
    {
     "data": {
      "application/vnd.jupyter.widget-view+json": {
       "model_id": "",
       "version_major": 2,
       "version_minor": 0
      },
      "text/plain": [
       "TRAIN:   0%|          | 0/465 [00:00<?, ?it/s]"
      ]
     },
     "metadata": {},
     "output_type": "display_data"
    },
    {
     "data": {
      "application/vnd.jupyter.widget-view+json": {
       "model_id": "",
       "version_major": 2,
       "version_minor": 0
      },
      "text/plain": [
       "VALID:   0%|          | 0/44 [00:00<?, ?it/s]"
      ]
     },
     "metadata": {},
     "output_type": "display_data"
    },
    {
     "name": "stdout",
     "output_type": "stream",
     "text": [
      "|TRAIN: loss=4.669657,  gloss=946344.250000,  score=1439911.250000|\n",
      "|VALID: loss=1.852833,  gloss=174456.609375,  score=220413.359375|\n",
      "-------------------------------------------------------\n",
      "|EPOCH: 43/10000\n"
     ]
    },
    {
     "data": {
      "application/vnd.jupyter.widget-view+json": {
       "model_id": "",
       "version_major": 2,
       "version_minor": 0
      },
      "text/plain": [
       "TRAIN:   0%|          | 0/465 [00:00<?, ?it/s]"
      ]
     },
     "metadata": {},
     "output_type": "display_data"
    },
    {
     "data": {
      "application/vnd.jupyter.widget-view+json": {
       "model_id": "",
       "version_major": 2,
       "version_minor": 0
      },
      "text/plain": [
       "VALID:   0%|          | 0/44 [00:00<?, ?it/s]"
      ]
     },
     "metadata": {},
     "output_type": "display_data"
    },
    {
     "name": "stdout",
     "output_type": "stream",
     "text": [
      "|TRAIN: loss=4.681408,  gloss=949405.250000,  score=1447408.625000|\n",
      "|VALID: loss=1.830880,  gloss=173151.328125,  score=218774.109375|\n",
      "-------------------------------------------------------\n",
      "|EPOCH: 44/10000\n"
     ]
    },
    {
     "data": {
      "application/vnd.jupyter.widget-view+json": {
       "model_id": "",
       "version_major": 2,
       "version_minor": 0
      },
      "text/plain": [
       "TRAIN:   0%|          | 0/465 [00:00<?, ?it/s]"
      ]
     },
     "metadata": {},
     "output_type": "display_data"
    },
    {
     "data": {
      "application/vnd.jupyter.widget-view+json": {
       "model_id": "",
       "version_major": 2,
       "version_minor": 0
      },
      "text/plain": [
       "VALID:   0%|          | 0/44 [00:00<?, ?it/s]"
      ]
     },
     "metadata": {},
     "output_type": "display_data"
    },
    {
     "name": "stdout",
     "output_type": "stream",
     "text": [
      "|TRAIN: loss=4.687528,  gloss=949997.375000,  score=1448649.000000|\n",
      "|VALID: loss=1.754742,  gloss=171537.734375,  score=218141.250000|\n",
      "-------------------------------------------------------\n",
      "|EPOCH: 45/10000\n"
     ]
    },
    {
     "data": {
      "application/vnd.jupyter.widget-view+json": {
       "model_id": "",
       "version_major": 2,
       "version_minor": 0
      },
      "text/plain": [
       "TRAIN:   0%|          | 0/465 [00:00<?, ?it/s]"
      ]
     },
     "metadata": {},
     "output_type": "display_data"
    },
    {
     "data": {
      "application/vnd.jupyter.widget-view+json": {
       "model_id": "",
       "version_major": 2,
       "version_minor": 0
      },
      "text/plain": [
       "VALID:   0%|          | 0/44 [00:00<?, ?it/s]"
      ]
     },
     "metadata": {},
     "output_type": "display_data"
    },
    {
     "name": "stdout",
     "output_type": "stream",
     "text": [
      "|TRAIN: loss=4.687908,  gloss=950715.062500,  score=1450211.750000|\n",
      "|VALID: loss=1.758094,  gloss=172121.531250,  score=217641.359375|\n",
      "-------------------------------------------------------\n",
      "|EPOCH: 46/10000\n"
     ]
    },
    {
     "data": {
      "application/vnd.jupyter.widget-view+json": {
       "model_id": "",
       "version_major": 2,
       "version_minor": 0
      },
      "text/plain": [
       "TRAIN:   0%|          | 0/465 [00:00<?, ?it/s]"
      ]
     },
     "metadata": {},
     "output_type": "display_data"
    },
    {
     "data": {
      "application/vnd.jupyter.widget-view+json": {
       "model_id": "",
       "version_major": 2,
       "version_minor": 0
      },
      "text/plain": [
       "VALID:   0%|          | 0/44 [00:00<?, ?it/s]"
      ]
     },
     "metadata": {},
     "output_type": "display_data"
    },
    {
     "name": "stdout",
     "output_type": "stream",
     "text": [
      "|TRAIN: loss=4.685929,  gloss=950295.375000,  score=1444236.375000|\n",
      "|VALID: loss=1.812254,  gloss=172605.859375,  score=218008.343750|\n",
      "-------------------------------------------------------\n",
      "|EPOCH: 47/10000\n"
     ]
    },
    {
     "data": {
      "application/vnd.jupyter.widget-view+json": {
       "model_id": "",
       "version_major": 2,
       "version_minor": 0
      },
      "text/plain": [
       "TRAIN:   0%|          | 0/465 [00:00<?, ?it/s]"
      ]
     },
     "metadata": {},
     "output_type": "display_data"
    },
    {
     "data": {
      "application/vnd.jupyter.widget-view+json": {
       "model_id": "",
       "version_major": 2,
       "version_minor": 0
      },
      "text/plain": [
       "VALID:   0%|          | 0/44 [00:00<?, ?it/s]"
      ]
     },
     "metadata": {},
     "output_type": "display_data"
    },
    {
     "name": "stdout",
     "output_type": "stream",
     "text": [
      "|TRAIN: loss=4.685870,  gloss=949663.500000,  score=1444297.500000|\n",
      "|VALID: loss=1.859478,  gloss=171189.687500,  score=217144.281250|\n",
      "-------------------------------------------------------\n",
      "|EPOCH: 48/10000\n"
     ]
    },
    {
     "data": {
      "application/vnd.jupyter.widget-view+json": {
       "model_id": "",
       "version_major": 2,
       "version_minor": 0
      },
      "text/plain": [
       "TRAIN:   0%|          | 0/465 [00:00<?, ?it/s]"
      ]
     },
     "metadata": {},
     "output_type": "display_data"
    },
    {
     "data": {
      "application/vnd.jupyter.widget-view+json": {
       "model_id": "",
       "version_major": 2,
       "version_minor": 0
      },
      "text/plain": [
       "VALID:   0%|          | 0/44 [00:00<?, ?it/s]"
      ]
     },
     "metadata": {},
     "output_type": "display_data"
    },
    {
     "name": "stdout",
     "output_type": "stream",
     "text": [
      "|TRAIN: loss=4.684464,  gloss=950166.000000,  score=1446350.000000|\n",
      "|VALID: loss=1.902296,  gloss=171985.937500,  score=218195.781250|\n",
      "-------------------------------------------------------\n",
      "|EPOCH: 49/10000\n"
     ]
    },
    {
     "data": {
      "application/vnd.jupyter.widget-view+json": {
       "model_id": "",
       "version_major": 2,
       "version_minor": 0
      },
      "text/plain": [
       "TRAIN:   0%|          | 0/465 [00:00<?, ?it/s]"
      ]
     },
     "metadata": {},
     "output_type": "display_data"
    },
    {
     "data": {
      "application/vnd.jupyter.widget-view+json": {
       "model_id": "",
       "version_major": 2,
       "version_minor": 0
      },
      "text/plain": [
       "VALID:   0%|          | 0/44 [00:00<?, ?it/s]"
      ]
     },
     "metadata": {},
     "output_type": "display_data"
    },
    {
     "name": "stdout",
     "output_type": "stream",
     "text": [
      "|TRAIN: loss=4.689960,  gloss=948895.437500,  score=1447328.250000|\n",
      "|VALID: loss=1.821365,  gloss=171023.781250,  score=216196.593750|\n",
      "-------------------------------------------------------\n",
      "|EPOCH: 50/10000\n"
     ]
    },
    {
     "data": {
      "application/vnd.jupyter.widget-view+json": {
       "model_id": "",
       "version_major": 2,
       "version_minor": 0
      },
      "text/plain": [
       "TRAIN:   0%|          | 0/465 [00:00<?, ?it/s]"
      ]
     },
     "metadata": {},
     "output_type": "display_data"
    },
    {
     "data": {
      "application/vnd.jupyter.widget-view+json": {
       "model_id": "",
       "version_major": 2,
       "version_minor": 0
      },
      "text/plain": [
       "VALID:   0%|          | 0/44 [00:00<?, ?it/s]"
      ]
     },
     "metadata": {},
     "output_type": "display_data"
    },
    {
     "name": "stdout",
     "output_type": "stream",
     "text": [
      "|TRAIN: loss=4.682302,  gloss=948489.875000,  score=1443741.250000|\n",
      "|VALID: loss=1.824540,  gloss=169919.218750,  score=214954.125000|\n",
      "-------------------------------------------------------\n",
      "|EPOCH: 51/10000\n"
     ]
    },
    {
     "data": {
      "application/vnd.jupyter.widget-view+json": {
       "model_id": "",
       "version_major": 2,
       "version_minor": 0
      },
      "text/plain": [
       "TRAIN:   0%|          | 0/465 [00:00<?, ?it/s]"
      ]
     },
     "metadata": {},
     "output_type": "display_data"
    },
    {
     "data": {
      "application/vnd.jupyter.widget-view+json": {
       "model_id": "",
       "version_major": 2,
       "version_minor": 0
      },
      "text/plain": [
       "VALID:   0%|          | 0/44 [00:00<?, ?it/s]"
      ]
     },
     "metadata": {},
     "output_type": "display_data"
    },
    {
     "name": "stdout",
     "output_type": "stream",
     "text": [
      "|TRAIN: loss=4.696066,  gloss=952711.687500,  score=1451685.500000|\n",
      "|VALID: loss=1.978207,  gloss=172662.000000,  score=218505.781250|\n",
      "-------------------------------------------------------\n",
      "|EPOCH: 52/10000\n"
     ]
    },
    {
     "data": {
      "application/vnd.jupyter.widget-view+json": {
       "model_id": "",
       "version_major": 2,
       "version_minor": 0
      },
      "text/plain": [
       "TRAIN:   0%|          | 0/465 [00:00<?, ?it/s]"
      ]
     },
     "metadata": {},
     "output_type": "display_data"
    },
    {
     "data": {
      "application/vnd.jupyter.widget-view+json": {
       "model_id": "",
       "version_major": 2,
       "version_minor": 0
      },
      "text/plain": [
       "VALID:   0%|          | 0/44 [00:00<?, ?it/s]"
      ]
     },
     "metadata": {},
     "output_type": "display_data"
    },
    {
     "name": "stdout",
     "output_type": "stream",
     "text": [
      "|TRAIN: loss=4.686117,  gloss=950091.750000,  score=1444661.500000|\n",
      "|VALID: loss=1.881242,  gloss=170206.812500,  score=216031.687500|\n",
      "-------------------------------------------------------\n",
      "|EPOCH: 53/10000\n"
     ]
    },
    {
     "data": {
      "application/vnd.jupyter.widget-view+json": {
       "model_id": "",
       "version_major": 2,
       "version_minor": 0
      },
      "text/plain": [
       "TRAIN:   0%|          | 0/465 [00:00<?, ?it/s]"
      ]
     },
     "metadata": {},
     "output_type": "display_data"
    },
    {
     "data": {
      "application/vnd.jupyter.widget-view+json": {
       "model_id": "",
       "version_major": 2,
       "version_minor": 0
      },
      "text/plain": [
       "VALID:   0%|          | 0/44 [00:00<?, ?it/s]"
      ]
     },
     "metadata": {},
     "output_type": "display_data"
    },
    {
     "name": "stdout",
     "output_type": "stream",
     "text": [
      "|TRAIN: loss=4.675100,  gloss=948521.312500,  score=1442370.250000|\n",
      "|VALID: loss=1.777706,  gloss=169726.718750,  score=214832.484375|\n",
      "-------------------------------------------------------\n",
      "|EPOCH: 54/10000\n"
     ]
    },
    {
     "data": {
      "application/vnd.jupyter.widget-view+json": {
       "model_id": "",
       "version_major": 2,
       "version_minor": 0
      },
      "text/plain": [
       "TRAIN:   0%|          | 0/465 [00:00<?, ?it/s]"
      ]
     },
     "metadata": {},
     "output_type": "display_data"
    },
    {
     "data": {
      "application/vnd.jupyter.widget-view+json": {
       "model_id": "",
       "version_major": 2,
       "version_minor": 0
      },
      "text/plain": [
       "VALID:   0%|          | 0/44 [00:00<?, ?it/s]"
      ]
     },
     "metadata": {},
     "output_type": "display_data"
    },
    {
     "name": "stdout",
     "output_type": "stream",
     "text": [
      "|TRAIN: loss=4.691117,  gloss=951068.937500,  score=1451766.250000|\n",
      "|VALID: loss=1.835657,  gloss=167189.359375,  score=211733.937500|\n",
      "-------------------------------------------------------\n",
      "|EPOCH: 55/10000\n"
     ]
    },
    {
     "data": {
      "application/vnd.jupyter.widget-view+json": {
       "model_id": "",
       "version_major": 2,
       "version_minor": 0
      },
      "text/plain": [
       "TRAIN:   0%|          | 0/465 [00:00<?, ?it/s]"
      ]
     },
     "metadata": {},
     "output_type": "display_data"
    },
    {
     "data": {
      "application/vnd.jupyter.widget-view+json": {
       "model_id": "",
       "version_major": 2,
       "version_minor": 0
      },
      "text/plain": [
       "VALID:   0%|          | 0/44 [00:00<?, ?it/s]"
      ]
     },
     "metadata": {},
     "output_type": "display_data"
    },
    {
     "name": "stdout",
     "output_type": "stream",
     "text": [
      "|TRAIN: loss=4.676294,  gloss=948477.625000,  score=1446382.000000|\n",
      "|VALID: loss=1.729620,  gloss=165331.671875,  score=210743.718750|\n",
      "-------------------------------------------------------\n",
      "|EPOCH: 56/10000\n"
     ]
    },
    {
     "data": {
      "application/vnd.jupyter.widget-view+json": {
       "model_id": "",
       "version_major": 2,
       "version_minor": 0
      },
      "text/plain": [
       "TRAIN:   0%|          | 0/465 [00:00<?, ?it/s]"
      ]
     },
     "metadata": {},
     "output_type": "display_data"
    },
    {
     "data": {
      "application/vnd.jupyter.widget-view+json": {
       "model_id": "",
       "version_major": 2,
       "version_minor": 0
      },
      "text/plain": [
       "VALID:   0%|          | 0/44 [00:00<?, ?it/s]"
      ]
     },
     "metadata": {},
     "output_type": "display_data"
    },
    {
     "name": "stdout",
     "output_type": "stream",
     "text": [
      "|TRAIN: loss=4.680287,  gloss=949610.000000,  score=1448677.125000|\n",
      "|VALID: loss=1.823180,  gloss=165647.781250,  score=210271.281250|\n",
      "-------------------------------------------------------\n",
      "|EPOCH: 57/10000\n"
     ]
    },
    {
     "data": {
      "application/vnd.jupyter.widget-view+json": {
       "model_id": "",
       "version_major": 2,
       "version_minor": 0
      },
      "text/plain": [
       "TRAIN:   0%|          | 0/465 [00:00<?, ?it/s]"
      ]
     },
     "metadata": {},
     "output_type": "display_data"
    },
    {
     "data": {
      "application/vnd.jupyter.widget-view+json": {
       "model_id": "",
       "version_major": 2,
       "version_minor": 0
      },
      "text/plain": [
       "VALID:   0%|          | 0/44 [00:00<?, ?it/s]"
      ]
     },
     "metadata": {},
     "output_type": "display_data"
    },
    {
     "name": "stdout",
     "output_type": "stream",
     "text": [
      "|TRAIN: loss=4.690338,  gloss=951921.750000,  score=1446894.250000|\n",
      "|VALID: loss=1.683973,  gloss=161867.359375,  score=207251.609375|\n",
      "-------------------------------------------------------\n",
      "|EPOCH: 58/10000\n"
     ]
    },
    {
     "data": {
      "application/vnd.jupyter.widget-view+json": {
       "model_id": "6cb9648c13d844b58c7521ec8bb4ffef",
       "version_major": 2,
       "version_minor": 0
      },
      "text/plain": [
       "TRAIN:   0%|          | 0/465 [00:00<?, ?it/s]"
      ]
     },
     "metadata": {},
     "output_type": "display_data"
    },
    {
     "data": {
      "application/vnd.jupyter.widget-view+json": {
       "model_id": "111ebc49a9b842c8bfb2cd54e081899f",
       "version_major": 2,
       "version_minor": 0
      },
      "text/plain": [
       "VALID:   0%|          | 0/44 [00:00<?, ?it/s]"
      ]
     },
     "metadata": {},
     "output_type": "display_data"
    },
    {
     "ename": "KeyboardInterrupt",
     "evalue": "",
     "output_type": "error",
     "traceback": [
      "\u001b[1;31m---------------------------------------------------------------------------\u001b[0m",
      "\u001b[1;31mKeyboardInterrupt\u001b[0m                         Traceback (most recent call last)",
      "\u001b[1;32m<ipython-input-25-b9fe4ce356d6>\u001b[0m in \u001b[0;36m<module>\u001b[1;34m\u001b[0m\n\u001b[0;32m     20\u001b[0m     \u001b[0mprog_valid\u001b[0m \u001b[1;33m=\u001b[0m \u001b[0mtqdm\u001b[0m\u001b[1;33m(\u001b[0m\u001b[0mvalid_loader\u001b[0m\u001b[1;33m,\u001b[0m \u001b[0mdesc\u001b[0m \u001b[1;33m=\u001b[0m \u001b[1;34m'VALID'\u001b[0m\u001b[1;33m,\u001b[0m \u001b[0mleave\u001b[0m \u001b[1;33m=\u001b[0m \u001b[1;32mFalse\u001b[0m\u001b[1;33m)\u001b[0m\u001b[1;33m\u001b[0m\u001b[1;33m\u001b[0m\u001b[0m\n\u001b[0;32m     21\u001b[0m \u001b[1;33m\u001b[0m\u001b[0m\n\u001b[1;32m---> 22\u001b[1;33m     \u001b[0mtrain_loss\u001b[0m\u001b[1;33m,\u001b[0m \u001b[0mtrain_gpsloss\u001b[0m\u001b[1;33m,\u001b[0m \u001b[0mtrain_gpsscore\u001b[0m \u001b[1;33m=\u001b[0m \u001b[0mtrain\u001b[0m\u001b[1;33m(\u001b[0m\u001b[0mepoch\u001b[0m\u001b[1;33m,\u001b[0m \u001b[0mprog_train\u001b[0m\u001b[1;33m)\u001b[0m\u001b[1;33m\u001b[0m\u001b[1;33m\u001b[0m\u001b[0m\n\u001b[0m\u001b[0;32m     23\u001b[0m     \u001b[0mvalid_loss\u001b[0m\u001b[1;33m,\u001b[0m \u001b[0mvalid_gpsloss\u001b[0m\u001b[1;33m,\u001b[0m \u001b[0mvalid_gpsscore\u001b[0m \u001b[1;33m=\u001b[0m \u001b[0mvalid\u001b[0m\u001b[1;33m(\u001b[0m\u001b[0mprog_valid\u001b[0m\u001b[1;33m)\u001b[0m\u001b[1;33m\u001b[0m\u001b[1;33m\u001b[0m\u001b[0m\n\u001b[0;32m     24\u001b[0m \u001b[1;33m\u001b[0m\u001b[0m\n",
      "\u001b[1;32m<ipython-input-22-e3943b072cf5>\u001b[0m in \u001b[0;36mtrain\u001b[1;34m(epoch, progress_log)\u001b[0m\n\u001b[0;32m      6\u001b[0m     \u001b[0mground\u001b[0m \u001b[1;33m=\u001b[0m \u001b[1;33m[\u001b[0m\u001b[1;33m]\u001b[0m\u001b[1;33m\u001b[0m\u001b[1;33m\u001b[0m\u001b[0m\n\u001b[0;32m      7\u001b[0m \u001b[1;33m\u001b[0m\u001b[0m\n\u001b[1;32m----> 8\u001b[1;33m     \u001b[1;32mfor\u001b[0m \u001b[0mdata\u001b[0m\u001b[1;33m,\u001b[0m \u001b[0mtargets\u001b[0m\u001b[1;33m,\u001b[0m \u001b[0m_\u001b[0m \u001b[1;32min\u001b[0m \u001b[0mprogress_log\u001b[0m\u001b[1;33m:\u001b[0m\u001b[1;33m\u001b[0m\u001b[1;33m\u001b[0m\u001b[0m\n\u001b[0m\u001b[0;32m      9\u001b[0m \u001b[1;33m\u001b[0m\u001b[0m\n\u001b[0;32m     10\u001b[0m         \u001b[0mdata\u001b[0m \u001b[1;33m=\u001b[0m \u001b[0mdata\u001b[0m\u001b[1;33m.\u001b[0m\u001b[0mto\u001b[0m\u001b[1;33m(\u001b[0m\u001b[0mdevice\u001b[0m\u001b[1;33m)\u001b[0m\u001b[1;33m\u001b[0m\u001b[1;33m\u001b[0m\u001b[0m\n",
      "\u001b[1;32mD:\\Sangwons_Room\\00_SoftWares\\Anaconda\\envs\\torch\\lib\\site-packages\\tqdm\\notebook.py\u001b[0m in \u001b[0;36m__iter__\u001b[1;34m(self)\u001b[0m\n\u001b[0;32m    252\u001b[0m     \u001b[1;32mdef\u001b[0m \u001b[0m__iter__\u001b[0m\u001b[1;33m(\u001b[0m\u001b[0mself\u001b[0m\u001b[1;33m)\u001b[0m\u001b[1;33m:\u001b[0m\u001b[1;33m\u001b[0m\u001b[1;33m\u001b[0m\u001b[0m\n\u001b[0;32m    253\u001b[0m         \u001b[1;32mtry\u001b[0m\u001b[1;33m:\u001b[0m\u001b[1;33m\u001b[0m\u001b[1;33m\u001b[0m\u001b[0m\n\u001b[1;32m--> 254\u001b[1;33m             \u001b[1;32mfor\u001b[0m \u001b[0mobj\u001b[0m \u001b[1;32min\u001b[0m \u001b[0msuper\u001b[0m\u001b[1;33m(\u001b[0m\u001b[0mtqdm_notebook\u001b[0m\u001b[1;33m,\u001b[0m \u001b[0mself\u001b[0m\u001b[1;33m)\u001b[0m\u001b[1;33m.\u001b[0m\u001b[0m__iter__\u001b[0m\u001b[1;33m(\u001b[0m\u001b[1;33m)\u001b[0m\u001b[1;33m:\u001b[0m\u001b[1;33m\u001b[0m\u001b[1;33m\u001b[0m\u001b[0m\n\u001b[0m\u001b[0;32m    255\u001b[0m                 \u001b[1;31m# return super(tqdm...) will not catch exception\u001b[0m\u001b[1;33m\u001b[0m\u001b[1;33m\u001b[0m\u001b[1;33m\u001b[0m\u001b[0m\n\u001b[0;32m    256\u001b[0m                 \u001b[1;32myield\u001b[0m \u001b[0mobj\u001b[0m\u001b[1;33m\u001b[0m\u001b[1;33m\u001b[0m\u001b[0m\n",
      "\u001b[1;32mD:\\Sangwons_Room\\00_SoftWares\\Anaconda\\envs\\torch\\lib\\site-packages\\tqdm\\std.py\u001b[0m in \u001b[0;36m__iter__\u001b[1;34m(self)\u001b[0m\n\u001b[0;32m   1176\u001b[0m \u001b[1;33m\u001b[0m\u001b[0m\n\u001b[0;32m   1177\u001b[0m         \u001b[1;32mtry\u001b[0m\u001b[1;33m:\u001b[0m\u001b[1;33m\u001b[0m\u001b[1;33m\u001b[0m\u001b[0m\n\u001b[1;32m-> 1178\u001b[1;33m             \u001b[1;32mfor\u001b[0m \u001b[0mobj\u001b[0m \u001b[1;32min\u001b[0m \u001b[0miterable\u001b[0m\u001b[1;33m:\u001b[0m\u001b[1;33m\u001b[0m\u001b[1;33m\u001b[0m\u001b[0m\n\u001b[0m\u001b[0;32m   1179\u001b[0m                 \u001b[1;32myield\u001b[0m \u001b[0mobj\u001b[0m\u001b[1;33m\u001b[0m\u001b[1;33m\u001b[0m\u001b[0m\n\u001b[0;32m   1180\u001b[0m                 \u001b[1;31m# Update and possibly print the progressbar.\u001b[0m\u001b[1;33m\u001b[0m\u001b[1;33m\u001b[0m\u001b[1;33m\u001b[0m\u001b[0m\n",
      "\u001b[1;32mD:\\Sangwons_Room\\00_SoftWares\\Anaconda\\envs\\torch\\lib\\site-packages\\torch\\utils\\data\\dataloader.py\u001b[0m in \u001b[0;36m__next__\u001b[1;34m(self)\u001b[0m\n\u001b[0;32m    519\u001b[0m             \u001b[1;32mif\u001b[0m \u001b[0mself\u001b[0m\u001b[1;33m.\u001b[0m\u001b[0m_sampler_iter\u001b[0m \u001b[1;32mis\u001b[0m \u001b[1;32mNone\u001b[0m\u001b[1;33m:\u001b[0m\u001b[1;33m\u001b[0m\u001b[1;33m\u001b[0m\u001b[0m\n\u001b[0;32m    520\u001b[0m                 \u001b[0mself\u001b[0m\u001b[1;33m.\u001b[0m\u001b[0m_reset\u001b[0m\u001b[1;33m(\u001b[0m\u001b[1;33m)\u001b[0m\u001b[1;33m\u001b[0m\u001b[1;33m\u001b[0m\u001b[0m\n\u001b[1;32m--> 521\u001b[1;33m             \u001b[0mdata\u001b[0m \u001b[1;33m=\u001b[0m \u001b[0mself\u001b[0m\u001b[1;33m.\u001b[0m\u001b[0m_next_data\u001b[0m\u001b[1;33m(\u001b[0m\u001b[1;33m)\u001b[0m\u001b[1;33m\u001b[0m\u001b[1;33m\u001b[0m\u001b[0m\n\u001b[0m\u001b[0;32m    522\u001b[0m             \u001b[0mself\u001b[0m\u001b[1;33m.\u001b[0m\u001b[0m_num_yielded\u001b[0m \u001b[1;33m+=\u001b[0m \u001b[1;36m1\u001b[0m\u001b[1;33m\u001b[0m\u001b[1;33m\u001b[0m\u001b[0m\n\u001b[0;32m    523\u001b[0m             \u001b[1;32mif\u001b[0m \u001b[0mself\u001b[0m\u001b[1;33m.\u001b[0m\u001b[0m_dataset_kind\u001b[0m \u001b[1;33m==\u001b[0m \u001b[0m_DatasetKind\u001b[0m\u001b[1;33m.\u001b[0m\u001b[0mIterable\u001b[0m \u001b[1;32mand\u001b[0m\u001b[0;31m \u001b[0m\u001b[0;31m\\\u001b[0m\u001b[1;33m\u001b[0m\u001b[1;33m\u001b[0m\u001b[0m\n",
      "\u001b[1;32mD:\\Sangwons_Room\\00_SoftWares\\Anaconda\\envs\\torch\\lib\\site-packages\\torch\\utils\\data\\dataloader.py\u001b[0m in \u001b[0;36m_next_data\u001b[1;34m(self)\u001b[0m\n\u001b[0;32m    559\u001b[0m     \u001b[1;32mdef\u001b[0m \u001b[0m_next_data\u001b[0m\u001b[1;33m(\u001b[0m\u001b[0mself\u001b[0m\u001b[1;33m)\u001b[0m\u001b[1;33m:\u001b[0m\u001b[1;33m\u001b[0m\u001b[1;33m\u001b[0m\u001b[0m\n\u001b[0;32m    560\u001b[0m         \u001b[0mindex\u001b[0m \u001b[1;33m=\u001b[0m \u001b[0mself\u001b[0m\u001b[1;33m.\u001b[0m\u001b[0m_next_index\u001b[0m\u001b[1;33m(\u001b[0m\u001b[1;33m)\u001b[0m  \u001b[1;31m# may raise StopIteration\u001b[0m\u001b[1;33m\u001b[0m\u001b[1;33m\u001b[0m\u001b[0m\n\u001b[1;32m--> 561\u001b[1;33m         \u001b[0mdata\u001b[0m \u001b[1;33m=\u001b[0m \u001b[0mself\u001b[0m\u001b[1;33m.\u001b[0m\u001b[0m_dataset_fetcher\u001b[0m\u001b[1;33m.\u001b[0m\u001b[0mfetch\u001b[0m\u001b[1;33m(\u001b[0m\u001b[0mindex\u001b[0m\u001b[1;33m)\u001b[0m  \u001b[1;31m# may raise StopIteration\u001b[0m\u001b[1;33m\u001b[0m\u001b[1;33m\u001b[0m\u001b[0m\n\u001b[0m\u001b[0;32m    562\u001b[0m         \u001b[1;32mif\u001b[0m \u001b[0mself\u001b[0m\u001b[1;33m.\u001b[0m\u001b[0m_pin_memory\u001b[0m\u001b[1;33m:\u001b[0m\u001b[1;33m\u001b[0m\u001b[1;33m\u001b[0m\u001b[0m\n\u001b[0;32m    563\u001b[0m             \u001b[0mdata\u001b[0m \u001b[1;33m=\u001b[0m \u001b[0m_utils\u001b[0m\u001b[1;33m.\u001b[0m\u001b[0mpin_memory\u001b[0m\u001b[1;33m.\u001b[0m\u001b[0mpin_memory\u001b[0m\u001b[1;33m(\u001b[0m\u001b[0mdata\u001b[0m\u001b[1;33m)\u001b[0m\u001b[1;33m\u001b[0m\u001b[1;33m\u001b[0m\u001b[0m\n",
      "\u001b[1;32mD:\\Sangwons_Room\\00_SoftWares\\Anaconda\\envs\\torch\\lib\\site-packages\\torch\\utils\\data\\_utils\\fetch.py\u001b[0m in \u001b[0;36mfetch\u001b[1;34m(self, possibly_batched_index)\u001b[0m\n\u001b[0;32m     42\u001b[0m     \u001b[1;32mdef\u001b[0m \u001b[0mfetch\u001b[0m\u001b[1;33m(\u001b[0m\u001b[0mself\u001b[0m\u001b[1;33m,\u001b[0m \u001b[0mpossibly_batched_index\u001b[0m\u001b[1;33m)\u001b[0m\u001b[1;33m:\u001b[0m\u001b[1;33m\u001b[0m\u001b[1;33m\u001b[0m\u001b[0m\n\u001b[0;32m     43\u001b[0m         \u001b[1;32mif\u001b[0m \u001b[0mself\u001b[0m\u001b[1;33m.\u001b[0m\u001b[0mauto_collation\u001b[0m\u001b[1;33m:\u001b[0m\u001b[1;33m\u001b[0m\u001b[1;33m\u001b[0m\u001b[0m\n\u001b[1;32m---> 44\u001b[1;33m             \u001b[0mdata\u001b[0m \u001b[1;33m=\u001b[0m \u001b[1;33m[\u001b[0m\u001b[0mself\u001b[0m\u001b[1;33m.\u001b[0m\u001b[0mdataset\u001b[0m\u001b[1;33m[\u001b[0m\u001b[0midx\u001b[0m\u001b[1;33m]\u001b[0m \u001b[1;32mfor\u001b[0m \u001b[0midx\u001b[0m \u001b[1;32min\u001b[0m \u001b[0mpossibly_batched_index\u001b[0m\u001b[1;33m]\u001b[0m\u001b[1;33m\u001b[0m\u001b[1;33m\u001b[0m\u001b[0m\n\u001b[0m\u001b[0;32m     45\u001b[0m         \u001b[1;32melse\u001b[0m\u001b[1;33m:\u001b[0m\u001b[1;33m\u001b[0m\u001b[1;33m\u001b[0m\u001b[0m\n\u001b[0;32m     46\u001b[0m             \u001b[0mdata\u001b[0m \u001b[1;33m=\u001b[0m \u001b[0mself\u001b[0m\u001b[1;33m.\u001b[0m\u001b[0mdataset\u001b[0m\u001b[1;33m[\u001b[0m\u001b[0mpossibly_batched_index\u001b[0m\u001b[1;33m]\u001b[0m\u001b[1;33m\u001b[0m\u001b[1;33m\u001b[0m\u001b[0m\n",
      "\u001b[1;32mD:\\Sangwons_Room\\00_SoftWares\\Anaconda\\envs\\torch\\lib\\site-packages\\torch\\utils\\data\\_utils\\fetch.py\u001b[0m in \u001b[0;36m<listcomp>\u001b[1;34m(.0)\u001b[0m\n\u001b[0;32m     42\u001b[0m     \u001b[1;32mdef\u001b[0m \u001b[0mfetch\u001b[0m\u001b[1;33m(\u001b[0m\u001b[0mself\u001b[0m\u001b[1;33m,\u001b[0m \u001b[0mpossibly_batched_index\u001b[0m\u001b[1;33m)\u001b[0m\u001b[1;33m:\u001b[0m\u001b[1;33m\u001b[0m\u001b[1;33m\u001b[0m\u001b[0m\n\u001b[0;32m     43\u001b[0m         \u001b[1;32mif\u001b[0m \u001b[0mself\u001b[0m\u001b[1;33m.\u001b[0m\u001b[0mauto_collation\u001b[0m\u001b[1;33m:\u001b[0m\u001b[1;33m\u001b[0m\u001b[1;33m\u001b[0m\u001b[0m\n\u001b[1;32m---> 44\u001b[1;33m             \u001b[0mdata\u001b[0m \u001b[1;33m=\u001b[0m \u001b[1;33m[\u001b[0m\u001b[0mself\u001b[0m\u001b[1;33m.\u001b[0m\u001b[0mdataset\u001b[0m\u001b[1;33m[\u001b[0m\u001b[0midx\u001b[0m\u001b[1;33m]\u001b[0m \u001b[1;32mfor\u001b[0m \u001b[0midx\u001b[0m \u001b[1;32min\u001b[0m \u001b[0mpossibly_batched_index\u001b[0m\u001b[1;33m]\u001b[0m\u001b[1;33m\u001b[0m\u001b[1;33m\u001b[0m\u001b[0m\n\u001b[0m\u001b[0;32m     45\u001b[0m         \u001b[1;32melse\u001b[0m\u001b[1;33m:\u001b[0m\u001b[1;33m\u001b[0m\u001b[1;33m\u001b[0m\u001b[0m\n\u001b[0;32m     46\u001b[0m             \u001b[0mdata\u001b[0m \u001b[1;33m=\u001b[0m \u001b[0mself\u001b[0m\u001b[1;33m.\u001b[0m\u001b[0mdataset\u001b[0m\u001b[1;33m[\u001b[0m\u001b[0mpossibly_batched_index\u001b[0m\u001b[1;33m]\u001b[0m\u001b[1;33m\u001b[0m\u001b[1;33m\u001b[0m\u001b[0m\n",
      "\u001b[1;32m<ipython-input-15-dad72872acf1>\u001b[0m in \u001b[0;36m__getitem__\u001b[1;34m(self, idx)\u001b[0m\n\u001b[0;32m     36\u001b[0m         \u001b[0mstart_index\u001b[0m \u001b[1;33m=\u001b[0m \u001b[0mdf\u001b[0m\u001b[1;33m.\u001b[0m\u001b[0mindex\u001b[0m\u001b[1;33m[\u001b[0m\u001b[1;36m0\u001b[0m\u001b[1;33m]\u001b[0m\u001b[1;33m\u001b[0m\u001b[1;33m\u001b[0m\u001b[0m\n\u001b[0;32m     37\u001b[0m \u001b[1;33m\u001b[0m\u001b[0m\n\u001b[1;32m---> 38\u001b[1;33m         \u001b[0mself\u001b[0m\u001b[1;33m.\u001b[0m\u001b[0mdata\u001b[0m \u001b[1;33m=\u001b[0m \u001b[0mdf\u001b[0m\u001b[1;33m[\u001b[0m\u001b[0mfeatures\u001b[0m\u001b[1;33m]\u001b[0m\u001b[1;33m.\u001b[0m\u001b[0mastype\u001b[0m\u001b[1;33m(\u001b[0m\u001b[0mfloat\u001b[0m\u001b[1;33m)\u001b[0m\u001b[1;33m.\u001b[0m\u001b[0mvalues\u001b[0m\u001b[1;33m\u001b[0m\u001b[1;33m\u001b[0m\u001b[0m\n\u001b[0m\u001b[0;32m     39\u001b[0m         \u001b[1;32mif\u001b[0m \u001b[0mself\u001b[0m\u001b[1;33m.\u001b[0m\u001b[0mtrain\u001b[0m \u001b[1;33m==\u001b[0m \u001b[1;32mTrue\u001b[0m\u001b[1;33m:\u001b[0m\u001b[1;33m\u001b[0m\u001b[1;33m\u001b[0m\u001b[0m\n\u001b[0;32m     40\u001b[0m             \u001b[0mself\u001b[0m\u001b[1;33m.\u001b[0m\u001b[0mtrue\u001b[0m \u001b[1;33m=\u001b[0m \u001b[0mdf\u001b[0m\u001b[1;33m[\u001b[0m\u001b[0mlabels\u001b[0m\u001b[1;33m]\u001b[0m\u001b[1;33m.\u001b[0m\u001b[0mastype\u001b[0m\u001b[1;33m(\u001b[0m\u001b[0mfloat\u001b[0m\u001b[1;33m)\u001b[0m\u001b[1;33m.\u001b[0m\u001b[0mvalues\u001b[0m\u001b[1;33m\u001b[0m\u001b[1;33m\u001b[0m\u001b[0m\n",
      "\u001b[1;32mD:\\Sangwons_Room\\00_SoftWares\\Anaconda\\envs\\torch\\lib\\site-packages\\pandas\\core\\generic.py\u001b[0m in \u001b[0;36mastype\u001b[1;34m(self, dtype, copy, errors)\u001b[0m\n\u001b[0;32m   5546\u001b[0m         \u001b[1;32melse\u001b[0m\u001b[1;33m:\u001b[0m\u001b[1;33m\u001b[0m\u001b[1;33m\u001b[0m\u001b[0m\n\u001b[0;32m   5547\u001b[0m             \u001b[1;31m# else, only a single dtype is given\u001b[0m\u001b[1;33m\u001b[0m\u001b[1;33m\u001b[0m\u001b[1;33m\u001b[0m\u001b[0m\n\u001b[1;32m-> 5548\u001b[1;33m             \u001b[0mnew_data\u001b[0m \u001b[1;33m=\u001b[0m \u001b[0mself\u001b[0m\u001b[1;33m.\u001b[0m\u001b[0m_mgr\u001b[0m\u001b[1;33m.\u001b[0m\u001b[0mastype\u001b[0m\u001b[1;33m(\u001b[0m\u001b[0mdtype\u001b[0m\u001b[1;33m=\u001b[0m\u001b[0mdtype\u001b[0m\u001b[1;33m,\u001b[0m \u001b[0mcopy\u001b[0m\u001b[1;33m=\u001b[0m\u001b[0mcopy\u001b[0m\u001b[1;33m,\u001b[0m \u001b[0merrors\u001b[0m\u001b[1;33m=\u001b[0m\u001b[0merrors\u001b[0m\u001b[1;33m,\u001b[0m\u001b[1;33m)\u001b[0m\u001b[1;33m\u001b[0m\u001b[1;33m\u001b[0m\u001b[0m\n\u001b[0m\u001b[0;32m   5549\u001b[0m             \u001b[1;32mreturn\u001b[0m \u001b[0mself\u001b[0m\u001b[1;33m.\u001b[0m\u001b[0m_constructor\u001b[0m\u001b[1;33m(\u001b[0m\u001b[0mnew_data\u001b[0m\u001b[1;33m)\u001b[0m\u001b[1;33m.\u001b[0m\u001b[0m__finalize__\u001b[0m\u001b[1;33m(\u001b[0m\u001b[0mself\u001b[0m\u001b[1;33m,\u001b[0m \u001b[0mmethod\u001b[0m\u001b[1;33m=\u001b[0m\u001b[1;34m\"astype\"\u001b[0m\u001b[1;33m)\u001b[0m\u001b[1;33m\u001b[0m\u001b[1;33m\u001b[0m\u001b[0m\n\u001b[0;32m   5550\u001b[0m \u001b[1;33m\u001b[0m\u001b[0m\n",
      "\u001b[1;32mD:\\Sangwons_Room\\00_SoftWares\\Anaconda\\envs\\torch\\lib\\site-packages\\pandas\\core\\internals\\managers.py\u001b[0m in \u001b[0;36mastype\u001b[1;34m(self, dtype, copy, errors)\u001b[0m\n\u001b[0;32m    602\u001b[0m         \u001b[0mself\u001b[0m\u001b[1;33m,\u001b[0m \u001b[0mdtype\u001b[0m\u001b[1;33m,\u001b[0m \u001b[0mcopy\u001b[0m\u001b[1;33m:\u001b[0m \u001b[0mbool\u001b[0m \u001b[1;33m=\u001b[0m \u001b[1;32mFalse\u001b[0m\u001b[1;33m,\u001b[0m \u001b[0merrors\u001b[0m\u001b[1;33m:\u001b[0m \u001b[0mstr\u001b[0m \u001b[1;33m=\u001b[0m \u001b[1;34m\"raise\"\u001b[0m\u001b[1;33m\u001b[0m\u001b[1;33m\u001b[0m\u001b[0m\n\u001b[0;32m    603\u001b[0m     ) -> \"BlockManager\":\n\u001b[1;32m--> 604\u001b[1;33m         \u001b[1;32mreturn\u001b[0m \u001b[0mself\u001b[0m\u001b[1;33m.\u001b[0m\u001b[0mapply\u001b[0m\u001b[1;33m(\u001b[0m\u001b[1;34m\"astype\"\u001b[0m\u001b[1;33m,\u001b[0m \u001b[0mdtype\u001b[0m\u001b[1;33m=\u001b[0m\u001b[0mdtype\u001b[0m\u001b[1;33m,\u001b[0m \u001b[0mcopy\u001b[0m\u001b[1;33m=\u001b[0m\u001b[0mcopy\u001b[0m\u001b[1;33m,\u001b[0m \u001b[0merrors\u001b[0m\u001b[1;33m=\u001b[0m\u001b[0merrors\u001b[0m\u001b[1;33m)\u001b[0m\u001b[1;33m\u001b[0m\u001b[1;33m\u001b[0m\u001b[0m\n\u001b[0m\u001b[0;32m    605\u001b[0m \u001b[1;33m\u001b[0m\u001b[0m\n\u001b[0;32m    606\u001b[0m     def convert(\n",
      "\u001b[1;32mD:\\Sangwons_Room\\00_SoftWares\\Anaconda\\envs\\torch\\lib\\site-packages\\pandas\\core\\internals\\managers.py\u001b[0m in \u001b[0;36mapply\u001b[1;34m(self, f, align_keys, **kwargs)\u001b[0m\n\u001b[0;32m    407\u001b[0m                 \u001b[0mapplied\u001b[0m \u001b[1;33m=\u001b[0m \u001b[0mb\u001b[0m\u001b[1;33m.\u001b[0m\u001b[0mapply\u001b[0m\u001b[1;33m(\u001b[0m\u001b[0mf\u001b[0m\u001b[1;33m,\u001b[0m \u001b[1;33m**\u001b[0m\u001b[0mkwargs\u001b[0m\u001b[1;33m)\u001b[0m\u001b[1;33m\u001b[0m\u001b[1;33m\u001b[0m\u001b[0m\n\u001b[0;32m    408\u001b[0m             \u001b[1;32melse\u001b[0m\u001b[1;33m:\u001b[0m\u001b[1;33m\u001b[0m\u001b[1;33m\u001b[0m\u001b[0m\n\u001b[1;32m--> 409\u001b[1;33m                 \u001b[0mapplied\u001b[0m \u001b[1;33m=\u001b[0m \u001b[0mgetattr\u001b[0m\u001b[1;33m(\u001b[0m\u001b[0mb\u001b[0m\u001b[1;33m,\u001b[0m \u001b[0mf\u001b[0m\u001b[1;33m)\u001b[0m\u001b[1;33m(\u001b[0m\u001b[1;33m**\u001b[0m\u001b[0mkwargs\u001b[0m\u001b[1;33m)\u001b[0m\u001b[1;33m\u001b[0m\u001b[1;33m\u001b[0m\u001b[0m\n\u001b[0m\u001b[0;32m    410\u001b[0m             \u001b[0mresult_blocks\u001b[0m \u001b[1;33m=\u001b[0m \u001b[0m_extend_blocks\u001b[0m\u001b[1;33m(\u001b[0m\u001b[0mapplied\u001b[0m\u001b[1;33m,\u001b[0m \u001b[0mresult_blocks\u001b[0m\u001b[1;33m)\u001b[0m\u001b[1;33m\u001b[0m\u001b[1;33m\u001b[0m\u001b[0m\n\u001b[0;32m    411\u001b[0m \u001b[1;33m\u001b[0m\u001b[0m\n",
      "\u001b[1;32mD:\\Sangwons_Room\\00_SoftWares\\Anaconda\\envs\\torch\\lib\\site-packages\\pandas\\core\\internals\\blocks.py\u001b[0m in \u001b[0;36mastype\u001b[1;34m(self, dtype, copy, errors)\u001b[0m\n\u001b[0;32m    562\u001b[0m         \u001b[1;32mif\u001b[0m \u001b[0mis_dtype_equal\u001b[0m\u001b[1;33m(\u001b[0m\u001b[0mself\u001b[0m\u001b[1;33m.\u001b[0m\u001b[0mdtype\u001b[0m\u001b[1;33m,\u001b[0m \u001b[0mdtype\u001b[0m\u001b[1;33m)\u001b[0m\u001b[1;33m:\u001b[0m\u001b[1;33m\u001b[0m\u001b[1;33m\u001b[0m\u001b[0m\n\u001b[0;32m    563\u001b[0m             \u001b[1;32mif\u001b[0m \u001b[0mcopy\u001b[0m\u001b[1;33m:\u001b[0m\u001b[1;33m\u001b[0m\u001b[1;33m\u001b[0m\u001b[0m\n\u001b[1;32m--> 564\u001b[1;33m                 \u001b[1;32mreturn\u001b[0m \u001b[0mself\u001b[0m\u001b[1;33m.\u001b[0m\u001b[0mcopy\u001b[0m\u001b[1;33m(\u001b[0m\u001b[1;33m)\u001b[0m\u001b[1;33m\u001b[0m\u001b[1;33m\u001b[0m\u001b[0m\n\u001b[0m\u001b[0;32m    565\u001b[0m             \u001b[1;32mreturn\u001b[0m \u001b[0mself\u001b[0m\u001b[1;33m\u001b[0m\u001b[1;33m\u001b[0m\u001b[0m\n\u001b[0;32m    566\u001b[0m \u001b[1;33m\u001b[0m\u001b[0m\n",
      "\u001b[1;32mD:\\Sangwons_Room\\00_SoftWares\\Anaconda\\envs\\torch\\lib\\site-packages\\pandas\\core\\internals\\blocks.py\u001b[0m in \u001b[0;36mcopy\u001b[1;34m(self, deep)\u001b[0m\n\u001b[0;32m    677\u001b[0m         \u001b[0mvalues\u001b[0m \u001b[1;33m=\u001b[0m \u001b[0mself\u001b[0m\u001b[1;33m.\u001b[0m\u001b[0mvalues\u001b[0m\u001b[1;33m\u001b[0m\u001b[1;33m\u001b[0m\u001b[0m\n\u001b[0;32m    678\u001b[0m         \u001b[1;32mif\u001b[0m \u001b[0mdeep\u001b[0m\u001b[1;33m:\u001b[0m\u001b[1;33m\u001b[0m\u001b[1;33m\u001b[0m\u001b[0m\n\u001b[1;32m--> 679\u001b[1;33m             \u001b[0mvalues\u001b[0m \u001b[1;33m=\u001b[0m \u001b[0mvalues\u001b[0m\u001b[1;33m.\u001b[0m\u001b[0mcopy\u001b[0m\u001b[1;33m(\u001b[0m\u001b[1;33m)\u001b[0m\u001b[1;33m\u001b[0m\u001b[1;33m\u001b[0m\u001b[0m\n\u001b[0m\u001b[0;32m    680\u001b[0m         \u001b[1;32mreturn\u001b[0m \u001b[0mself\u001b[0m\u001b[1;33m.\u001b[0m\u001b[0mmake_block_same_class\u001b[0m\u001b[1;33m(\u001b[0m\u001b[0mvalues\u001b[0m\u001b[1;33m,\u001b[0m \u001b[0mndim\u001b[0m\u001b[1;33m=\u001b[0m\u001b[0mself\u001b[0m\u001b[1;33m.\u001b[0m\u001b[0mndim\u001b[0m\u001b[1;33m)\u001b[0m\u001b[1;33m\u001b[0m\u001b[1;33m\u001b[0m\u001b[0m\n\u001b[0;32m    681\u001b[0m \u001b[1;33m\u001b[0m\u001b[0m\n",
      "\u001b[1;31mKeyboardInterrupt\u001b[0m: "
     ]
    }
   ],
   "source": [
    "train_loss_list = []\n",
    "train_gloss_list = []\n",
    "train_score_list = []\n",
    "valid_loss_list = []\n",
    "valid_gloss_list = []\n",
    "valid_score_list = []\n",
    "\n",
    "patience_count = 0\n",
    "min_valid_score = np.inf\n",
    "checkpoint_name = \"\"\n",
    "\n",
    "if not os.path.isdir(f\"./models/{hyper_parameters['notebookName']}/model-{num_files}_checkpoint/\"):\n",
    "    os.mkdir(f\"./models/{hyper_parameters['notebookName']}/model-{num_files}_checkpoint/\")\n",
    "    \n",
    "prog_epoch = tqdm(range(0, hyper_parameters['nepochs']), position = 0, desc = 'EPOCH')\n",
    "for epoch in prog_epoch:\n",
    "    print( \"-------------------------------------------------------\")\n",
    "    print(f\"|EPOCH: {epoch+1}/{nepochs}\")\n",
    "    prog_train = tqdm(train_loader, desc = 'TRAIN', leave = False)\n",
    "    prog_valid = tqdm(valid_loader, desc = 'VALID', leave = False)\n",
    "\n",
    "    train_loss, train_gpsloss, train_gpsscore = train(epoch, prog_train)\n",
    "    valid_loss, valid_gpsloss, valid_gpsscore = valid(prog_valid)\n",
    "    \n",
    "    scheduler.step(valid_gpsscore)\n",
    "    if valid_gpsscore < min_valid_score:\n",
    "        print(f\"|{epoch+1}-th model is checked!, *model-{epoch}-{valid_gpsscore}.pth*\")\n",
    "        min_valid_score= valid_gpsscore\n",
    "        checkpoint_name = f\"./models/{hyper_parameters['notebookName']}/model-{num_files}_checkpoint/model-{epoch}-{valid_gpsscore}.pth\"\n",
    "        torch.save(model.state_dict(), checkpoint_name)\n",
    "    else:\n",
    "        patience_count+=1\n",
    "        if(patience_count > hyper_parameters['max_patience_count']):\n",
    "            break\n",
    "    \n",
    "    train_loss_list.append(train_loss)\n",
    "    train_gloss_list.append(train_gpsloss)\n",
    "    train_score_list.append(train_gpsscore)\n",
    "    valid_loss_list.append(valid_loss)\n",
    "    valid_gloss_list.append(valid_gpsloss)\n",
    "    valid_score_list.append(valid_gpsscore)\n",
    "    \n",
    "    print(f\"|TRAIN: loss={train_loss:.6f},  gloss={train_gpsloss:.6f},  score={train_gpsscore:.6f}|\")\n",
    "    print(f\"|VALID: loss={valid_loss:.6f},  gloss={valid_gpsloss:.6f},  score={valid_gpsscore:.6f}|\")\n",
    "\n",
    "\n",
    "history = dict()\n",
    "history['train_loss'] = train_loss_list\n",
    "history['train_gpsloss'] = train_gloss_list\n",
    "history['train_score'] = train_score_list\n",
    "history['valid_loss'] = valid_loss_list\n",
    "history['valid_gpsloss'] = valid_gloss_list\n",
    "history['valid_score'] = valid_score_list"
   ]
  },
  {
   "cell_type": "markdown",
   "metadata": {},
   "source": [
    "## Visualization"
   ]
  },
  {
   "cell_type": "code",
   "execution_count": null,
   "metadata": {
    "ExecuteTime": {
     "end_time": "2021-07-11T12:14:18.844290Z",
     "start_time": "2021-07-11T08:21:05.431Z"
    }
   },
   "outputs": [],
   "source": [
    "plt.figure(figsize = (16,6))\n",
    "plt.subplot(3,1,1)\n",
    "plt.plot(history['train_loss'], label = 'train')\n",
    "plt.plot(history['valid_loss'], label = 'valid')\n",
    "plt.ylabel('loss')\n",
    "\n",
    "plt.subplot(3,1,2)\n",
    "plt.plot(history['train_gpsloss'], label = 'train')\n",
    "plt.plot(history['valid_gpsloss'], label = 'valid')\n",
    "plt.ylabel('gpsloss')\n",
    "\n",
    "plt.subplot(3,1,3)\n",
    "plt.plot(history['train_score'], label = 'train')\n",
    "plt.plot(history['valid_score'], label = 'valid')\n",
    "plt.ylabel('score')"
   ]
  },
  {
   "cell_type": "markdown",
   "metadata": {},
   "source": [
    "#  Output"
   ]
  },
  {
   "cell_type": "code",
   "execution_count": null,
   "metadata": {
    "ExecuteTime": {
     "end_time": "2021-07-11T12:14:18.845288Z",
     "start_time": "2021-07-11T08:21:05.454Z"
    }
   },
   "outputs": [],
   "source": [
    "# Load submission sample\n",
    "submission = pd.read_csv(str(data_dir / \"sample_submission.csv\"))\n",
    "print(submission.shape)\n",
    "submission.head()"
   ]
  },
  {
   "cell_type": "code",
   "execution_count": null,
   "metadata": {
    "ExecuteTime": {
     "end_time": "2021-07-11T12:14:18.846291Z",
     "start_time": "2021-07-11T08:21:05.455Z"
    }
   },
   "outputs": [],
   "source": [
    "model.load_state_dict(torch.load(checkpoint_name))\n",
    "torch.save(model.state_dict(), f\"./models/{hyper_parameters['notebookName']}/model-{num_files}_checkpoint/model-{epoch}-{min_valid_score}.pth\")"
   ]
  },
  {
   "cell_type": "code",
   "execution_count": null,
   "metadata": {
    "ExecuteTime": {
     "end_time": "2021-07-11T12:14:18.847291Z",
     "start_time": "2021-07-11T08:21:05.456Z"
    }
   },
   "outputs": [],
   "source": [
    "predict = test(test_loader)\n",
    "print(predict.shape)\n",
    "predict.head()"
   ]
  },
  {
   "cell_type": "code",
   "execution_count": null,
   "metadata": {
    "ExecuteTime": {
     "end_time": "2021-07-11T12:14:18.848293Z",
     "start_time": "2021-07-11T08:21:05.457Z"
    },
    "scrolled": true
   },
   "outputs": [],
   "source": [
    "submission = submission[['phone', 'millisSinceGpsEpoch']].merge(predict[['phone', 'millisSinceGpsEpoch', 'latDeg', 'lngDeg']]\n",
    "                                                                , on = ['phone', 'millisSinceGpsEpoch'])\n",
    "print(submission.shape)\n",
    "submission.head()"
   ]
  },
  {
   "cell_type": "code",
   "execution_count": null,
   "metadata": {
    "ExecuteTime": {
     "end_time": "2021-07-11T12:14:18.850293Z",
     "start_time": "2021-07-11T08:21:05.457Z"
    }
   },
   "outputs": [],
   "source": [
    "submission.to_csv(f\"./models/{hyper_parameters['notebookName']}/result-{num_files}.csv\", index = False)\n",
    "pd.DataFrame([]).to_csv(PATH / f\"{num_files}\")"
   ]
  },
  {
   "cell_type": "code",
   "execution_count": null,
   "metadata": {},
   "outputs": [],
   "source": []
  },
  {
   "cell_type": "code",
   "execution_count": null,
   "metadata": {},
   "outputs": [],
   "source": []
  }
 ],
 "metadata": {
  "hide_input": false,
  "kernelspec": {
   "display_name": "torch",
   "language": "python",
   "name": "torch"
  },
  "language_info": {
   "codemirror_mode": {
    "name": "ipython",
    "version": 3
   },
   "file_extension": ".py",
   "mimetype": "text/x-python",
   "name": "python",
   "nbconvert_exporter": "python",
   "pygments_lexer": "ipython3",
   "version": "3.6.12"
  },
  "latex_envs": {
   "LaTeX_envs_menu_present": true,
   "autoclose": false,
   "autocomplete": true,
   "bibliofile": "biblio.bib",
   "cite_by": "apalike",
   "current_citInitial": 1,
   "eqLabelWithNumbers": true,
   "eqNumInitial": 1,
   "hotkeys": {
    "equation": "Ctrl-E",
    "itemize": "Ctrl-I"
   },
   "labels_anchors": false,
   "latex_user_defs": false,
   "report_style_numbering": false,
   "user_envs_cfg": false
  },
  "toc": {
   "base_numbering": 1,
   "nav_menu": {},
   "number_sections": true,
   "sideBar": true,
   "skip_h1_title": false,
   "title_cell": "Table of Contents",
   "title_sidebar": "Contents",
   "toc_cell": false,
   "toc_position": {
    "height": "calc(100% - 180px)",
    "left": "10px",
    "top": "150px",
    "width": "384px"
   },
   "toc_section_display": true,
   "toc_window_display": true
  },
  "varInspector": {
   "cols": {
    "lenName": 16,
    "lenType": 16,
    "lenVar": 40
   },
   "kernels_config": {
    "python": {
     "delete_cmd_postfix": "",
     "delete_cmd_prefix": "del ",
     "library": "var_list.py",
     "varRefreshCmd": "print(var_dic_list())"
    },
    "r": {
     "delete_cmd_postfix": ") ",
     "delete_cmd_prefix": "rm(",
     "library": "var_list.r",
     "varRefreshCmd": "cat(var_dic_list()) "
    }
   },
   "types_to_exclude": [
    "module",
    "function",
    "builtin_function_or_method",
    "instance",
    "_Feature"
   ],
   "window_display": false
  }
 },
 "nbformat": 4,
 "nbformat_minor": 4
}
