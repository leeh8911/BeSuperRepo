{
 "cells": [
  {
   "cell_type": "markdown",
   "metadata": {},
   "source": [
    "# Load Libraries"
   ]
  },
  {
   "cell_type": "code",
   "execution_count": 1,
   "metadata": {
    "ExecuteTime": {
     "end_time": "2021-07-04T23:03:46.432239Z",
     "start_time": "2021-07-04T23:03:43.340163Z"
    }
   },
   "outputs": [],
   "source": [
    "import numpy as np\n",
    "import pandas as pd\n",
    "from glob import glob\n",
    "import os\n",
    "import matplotlib.pyplot as plt\n",
    "from tqdm.notebook import tqdm\n",
    "from pathlib import Path\n",
    "import plotly.express as px\n",
    "\n",
    "import torch\n",
    "import torch.nn as nn\n",
    "import torch.nn.functional as F\n",
    "import torch.optim as optim\n",
    "from torch.utils.data import TensorDataset, DataLoader\n",
    "import torchsummary\n",
    "from sklearn.model_selection import train_test_split\n",
    "from sklearn.preprocessing import StandardScaler, MinMaxScaler\n",
    "\n",
    "import warnings\n",
    "warnings.filterwarnings(action='ignore')"
   ]
  },
  {
   "cell_type": "code",
   "execution_count": 2,
   "metadata": {
    "ExecuteTime": {
     "end_time": "2021-07-04T23:03:46.492581Z",
     "start_time": "2021-07-04T23:03:46.434239Z"
    }
   },
   "outputs": [
    {
     "name": "stdout",
     "output_type": "stream",
     "text": [
      "cuda:0\n"
     ]
    }
   ],
   "source": [
    "device = torch.device('cuda:0' if torch.cuda.is_available() else \"cpu\")\n",
    "print(device)"
   ]
  },
  {
   "cell_type": "markdown",
   "metadata": {},
   "source": [
    "# Set Hyper Parameters"
   ]
  },
  {
   "cell_type": "code",
   "execution_count": 3,
   "metadata": {
    "ExecuteTime": {
     "end_time": "2021-07-04T23:03:46.507579Z",
     "start_time": "2021-07-04T23:03:46.494579Z"
    }
   },
   "outputs": [],
   "source": [
    "hyper_parameters = {\n",
    "    \"SEED\":1990,\n",
    "    \"notebookName\":\"ComplexModel2\",\n",
    "    \"nepochs\":10000,\n",
    "    \"batch_size\":256,\n",
    "    \"learning_rate\":0.001,\n",
    "    \"window_size\":128,\n",
    "    \"max_patience_count\":1000\n",
    "}"
   ]
  },
  {
   "cell_type": "code",
   "execution_count": 4,
   "metadata": {
    "ExecuteTime": {
     "end_time": "2021-07-04T23:03:46.522581Z",
     "start_time": "2021-07-04T23:03:46.509579Z"
    }
   },
   "outputs": [
    {
     "data": {
      "text/plain": [
       "<torch._C.Generator at 0x24f0df8cdc8>"
      ]
     },
     "execution_count": 4,
     "metadata": {},
     "output_type": "execute_result"
    }
   ],
   "source": [
    "torch.manual_seed(hyper_parameters[\"SEED\"])"
   ]
  },
  {
   "cell_type": "code",
   "execution_count": 5,
   "metadata": {
    "ExecuteTime": {
     "end_time": "2021-07-04T23:03:46.537600Z",
     "start_time": "2021-07-04T23:03:46.524579Z"
    }
   },
   "outputs": [
    {
     "data": {
      "text/plain": [
       "'./models/ComplexModel2'"
      ]
     },
     "execution_count": 5,
     "metadata": {},
     "output_type": "execute_result"
    }
   ],
   "source": [
    "f\"./models/{hyper_parameters['notebookName']}\""
   ]
  },
  {
   "cell_type": "code",
   "execution_count": 6,
   "metadata": {
    "ExecuteTime": {
     "end_time": "2021-07-04T23:03:46.552633Z",
     "start_time": "2021-07-04T23:03:46.539601Z"
    }
   },
   "outputs": [],
   "source": [
    "\n",
    "PATH = Path(f\"./models/{hyper_parameters['notebookName']}\")\n",
    "if os.path.isdir(PATH):\n",
    "    dir_list = os.listdir(PATH)\n",
    "    num_files = 0\n",
    "    while True:\n",
    "        if os.path.isfile(str(PATH / f\"{num_files}\")):\n",
    "            print(num_files)\n",
    "            num_files += 1\n",
    "        else:\n",
    "            break\n",
    "else:\n",
    "    os.mkdir(PATH)\n",
    "    num_files = 0\n",
    "num_files = 2"
   ]
  },
  {
   "cell_type": "markdown",
   "metadata": {},
   "source": [
    "# Set Path"
   ]
  },
  {
   "cell_type": "code",
   "execution_count": 7,
   "metadata": {
    "ExecuteTime": {
     "end_time": "2021-07-04T23:03:46.567631Z",
     "start_time": "2021-07-04T23:03:46.554635Z"
    }
   },
   "outputs": [],
   "source": [
    "data_dir = Path(\"../input/google-smartphone-decimeter-challenge\")"
   ]
  },
  {
   "cell_type": "markdown",
   "metadata": {},
   "source": [
    "# Help Functions"
   ]
  },
  {
   "cell_type": "markdown",
   "metadata": {},
   "source": [
    "# Load Data"
   ]
  },
  {
   "cell_type": "code",
   "execution_count": 8,
   "metadata": {
    "ExecuteTime": {
     "end_time": "2021-07-04T23:03:46.703663Z",
     "start_time": "2021-07-04T23:03:46.570633Z"
    }
   },
   "outputs": [],
   "source": [
    "df_train_default = pd.read_pickle(str(data_dir / \"gsdc_extract_train.pkl.gzip\"))"
   ]
  },
  {
   "cell_type": "code",
   "execution_count": 9,
   "metadata": {
    "ExecuteTime": {
     "end_time": "2021-07-04T23:03:46.793663Z",
     "start_time": "2021-07-04T23:03:46.704664Z"
    }
   },
   "outputs": [],
   "source": [
    "df_test = pd.read_pickle(str(data_dir / \"gsdc_extract_test.pkl.gzip\"))"
   ]
  },
  {
   "cell_type": "code",
   "execution_count": 10,
   "metadata": {
    "ExecuteTime": {
     "end_time": "2021-07-04T23:03:46.823665Z",
     "start_time": "2021-07-04T23:03:46.794663Z"
    },
    "scrolled": true
   },
   "outputs": [
    {
     "name": "stdout",
     "output_type": "stream",
     "text": [
      "collectionName\n",
      "phoneName\n",
      "millisSinceGpsEpoch\n",
      "latDeg\n",
      "lngDeg\n",
      "heightAboveWgs84EllipsoidM\n",
      "phone\n",
      "timeSinceFirstFixSeconds\n",
      "hDop\n",
      "vDop\n",
      "speedMps\n",
      "courseDegree\n",
      "t_latDeg\n",
      "t_lngDeg\n",
      "t_heightAboveWgs84EllipsoidM\n",
      "constellationType\n",
      "svid\n",
      "signalType\n",
      "receivedSvTimeInGpsNanos\n",
      "xSatPosM\n",
      "ySatPosM\n",
      "zSatPosM\n",
      "xSatVelMps\n",
      "ySatVelMps\n",
      "zSatVelMps\n",
      "satClkBiasM\n",
      "satClkDriftMps\n",
      "rawPrM\n",
      "rawPrUncM\n",
      "isrbM\n",
      "ionoDelayM\n",
      "tropoDelayM\n",
      "utcTimeMillis\n",
      "elapsedRealtimeNanos\n",
      "yawDeg\n",
      "rollDeg\n",
      "pitchDeg\n",
      "utcTimeMillis_Status\n",
      "SignalCount\n",
      "SignalIndex\n",
      "ConstellationType\n",
      "Svid\n",
      "CarrierFrequencyHz\n",
      "Cn0DbHz\n",
      "AzimuthDegrees\n",
      "ElevationDegrees\n",
      "UsedInFix\n",
      "HasAlmanacData\n",
      "HasEphemerisData\n",
      "BasebandCn0DbHz\n",
      "utcTimeMillis_UncalMag\n",
      "elapsedRealtimeNanos_UncalMag\n",
      "UncalMagXMicroT\n",
      "UncalMagYMicroT\n",
      "UncalMagZMicroT\n",
      "BiasXMicroT\n",
      "BiasYMicroT\n",
      "BiasZMicroT\n",
      "utcTimeMillis_UncalAccel\n",
      "elapsedRealtimeNanos_UncalAccel\n",
      "UncalAccelXMps2\n",
      "UncalAccelYMps2\n",
      "UncalAccelZMps2\n",
      "BiasXMps2\n",
      "BiasYMps2\n",
      "BiasZMps2\n",
      "utcTimeMillis_UncalGyro\n",
      "elapsedRealtimeNanos_UncalGyro\n",
      "UncalGyroXRadPerSec\n",
      "UncalGyroYRadPerSec\n",
      "UncalGyroZRadPerSec\n",
      "DriftXRadPerSec\n",
      "DriftYRadPerSec\n",
      "DriftZRadPerSec\n",
      "utcTimeMillis_Raw\n",
      "TimeNanos\n",
      "LeapSecond\n",
      "FullBiasNanos\n",
      "BiasNanos\n",
      "BiasUncertaintyNanos\n",
      "DriftNanosPerSecond\n",
      "DriftUncertaintyNanosPerSecond\n",
      "HardwareClockDiscontinuityCount\n",
      "Svid_Raw\n",
      "TimeOffsetNanos\n",
      "State\n",
      "ReceivedSvTimeNanos\n",
      "ReceivedSvTimeUncertaintyNanos\n",
      "Cn0DbHz_Raw\n",
      "PseudorangeRateMetersPerSecond\n",
      "PseudorangeRateUncertaintyMetersPerSecond\n",
      "AccumulatedDeltaRangeState\n",
      "AccumulatedDeltaRangeMeters\n",
      "AccumulatedDeltaRangeUncertaintyMeters\n",
      "CarrierFrequencyHz_Raw\n",
      "MultipathIndicator\n",
      "ConstellationType_Raw\n",
      "AgcDb\n",
      "BasebandCn0DbHz_Raw\n",
      "FullInterSignalBiasNanos\n",
      "FullInterSignalBiasUncertaintyNanos\n",
      "SatelliteInterSignalBiasNanos\n",
      "SatelliteInterSignalBiasUncertaintyNanos\n",
      "CodeType\n",
      "ChipsetElapsedRealtimeNanos\n",
      "dlatDeg\n",
      "dlngDeg\n",
      "dheight\n",
      "dlatDeg_Scaled\n",
      "dlngDeg_Scaled\n",
      "dheight_Scaled\n",
      "xSatPosM_Scaled\n",
      "ySatPosM_Scaled\n",
      "zSatPosM_Scaled\n",
      "xSatVelMps_Scaled\n",
      "ySatVelMps_Scaled\n",
      "zSatVelMps_Scaled\n",
      "UncalGyroXRadPerSec_Scaled\n",
      "UncalGyroYRadPerSec_Scaled\n",
      "UncalGyroZRadPerSec_Scaled\n",
      "DriftXRadPerSec_Scaled\n",
      "DriftYRadPerSec_Scaled\n",
      "DriftZRadPerSec_Scaled\n",
      "UncalAccelXMps2_Scaled\n",
      "UncalAccelYMps2_Scaled\n",
      "UncalAccelZMps2_Scaled\n",
      "BiasXMps2_Scaled\n",
      "BiasYMps2_Scaled\n",
      "BiasZMps2_Scaled\n",
      "UncalMagXMicroT_Scaled\n",
      "UncalMagYMicroT_Scaled\n",
      "UncalMagZMicroT_Scaled\n",
      "BiasXMicroT_Scaled\n",
      "BiasYMicroT_Scaled\n",
      "BiasZMicroT_Scaled\n",
      "yawDeg_Scaled\n",
      "rollDeg_Scaled\n",
      "pitchDeg_Scaled\n",
      "GPS_L1\n",
      "GPS_L5\n",
      "GAL_E1\n",
      "GAL_E5A\n",
      "GLO_G1\n",
      "BDS_B1I\n",
      "BDS_B1C\n",
      "BDS_B2A\n",
      "QZS_J1\n",
      "QZS_J5\n"
     ]
    }
   ],
   "source": [
    "for col in df_train_default.columns:\n",
    "    print(col)"
   ]
  },
  {
   "cell_type": "markdown",
   "metadata": {},
   "source": [
    "# Dataloader"
   ]
  },
  {
   "cell_type": "code",
   "execution_count": 11,
   "metadata": {
    "ExecuteTime": {
     "end_time": "2021-07-04T23:03:46.853664Z",
     "start_time": "2021-07-04T23:03:46.824664Z"
    }
   },
   "outputs": [
    {
     "data": {
      "text/plain": [
       "2021-04-22-US-SJC-1_Pixel4             2890\n",
       "2021-04-22-US-SJC-1_SamsungS20Ultra    2826\n",
       "2020-09-04-US-SF-2_Mi8                 2500\n",
       "2021-04-29-US-SJC-2_SamsungS20Ultra    2370\n",
       "2020-09-04-US-SF-2_Pixel4              2349\n",
       "                                       ... \n",
       "2021-01-05-US-SVL-2_Pixel4XL           1193\n",
       "2020-06-05-US-MTV-1_Pixel4XLModded     1123\n",
       "2021-04-26-US-SVL-1_Mi8                1036\n",
       "2021-04-26-US-SVL-1_Pixel5             1034\n",
       "2020-05-14-US-MTV-2_Pixel4XLModded      577\n",
       "Name: phone, Length: 73, dtype: int64"
      ]
     },
     "execution_count": 11,
     "metadata": {},
     "output_type": "execute_result"
    }
   ],
   "source": [
    "df_train_default['phone'].value_counts()"
   ]
  },
  {
   "cell_type": "code",
   "execution_count": 12,
   "metadata": {
    "ExecuteTime": {
     "end_time": "2021-07-04T23:03:47.740672Z",
     "start_time": "2021-07-04T23:03:46.854665Z"
    },
    "scrolled": true
   },
   "outputs": [
    {
     "name": "stdout",
     "output_type": "stream",
     "text": [
      "(118068, 148) (10863, 148)\n"
     ]
    }
   ],
   "source": [
    "def CustomTrainValidSplit(df:pd.DataFrame, valid_size):\n",
    "    phones = df['phone'].unique()\n",
    "    \n",
    "    valid_num = int(len(phones) * valid_size)\n",
    "    train_num = len(phones) - valid_num\n",
    "    \n",
    "    indexes = np.array(range(len(phones)))\n",
    "    indexes = np.random.choice(indexes, len(indexes))\n",
    "    \n",
    "    df_train = []\n",
    "    for phone in phones[indexes[:train_num]]:\n",
    "        df_train.append(df[df['phone'] == phone])\n",
    "    df_train = pd.concat(df_train)\n",
    "    \n",
    "    df_valid = []\n",
    "    for phone in phones[indexes[train_num:-1]]:\n",
    "        df_valid.append(df[df['phone'] == phone])\n",
    "    df_valid = pd.concat(df_valid)\n",
    "    \n",
    "    return df_train.reset_index().drop(columns = 'index'), df_valid.reset_index().drop(columns = 'index')\n",
    "    \n",
    "df_train, df_valid = CustomTrainValidSplit(df_train_default, valid_size = 0.1)\n",
    "print(df_train.shape, df_valid.shape)\n",
    "    "
   ]
  },
  {
   "cell_type": "code",
   "execution_count": 13,
   "metadata": {
    "ExecuteTime": {
     "end_time": "2021-07-04T23:03:47.800671Z",
     "start_time": "2021-07-04T23:03:47.741672Z"
    },
    "scrolled": true
   },
   "outputs": [
    {
     "data": {
      "text/html": [
       "<div>\n",
       "<style scoped>\n",
       "    .dataframe tbody tr th:only-of-type {\n",
       "        vertical-align: middle;\n",
       "    }\n",
       "\n",
       "    .dataframe tbody tr th {\n",
       "        vertical-align: top;\n",
       "    }\n",
       "\n",
       "    .dataframe thead th {\n",
       "        text-align: right;\n",
       "    }\n",
       "</style>\n",
       "<table border=\"1\" class=\"dataframe\">\n",
       "  <thead>\n",
       "    <tr style=\"text-align: right;\">\n",
       "      <th></th>\n",
       "      <th>collectionName</th>\n",
       "      <th>phoneName</th>\n",
       "      <th>millisSinceGpsEpoch</th>\n",
       "      <th>latDeg</th>\n",
       "      <th>lngDeg</th>\n",
       "      <th>heightAboveWgs84EllipsoidM</th>\n",
       "      <th>phone</th>\n",
       "      <th>timeSinceFirstFixSeconds</th>\n",
       "      <th>hDop</th>\n",
       "      <th>vDop</th>\n",
       "      <th>...</th>\n",
       "      <th>GPS_L1</th>\n",
       "      <th>GPS_L5</th>\n",
       "      <th>GAL_E1</th>\n",
       "      <th>GAL_E5A</th>\n",
       "      <th>GLO_G1</th>\n",
       "      <th>BDS_B1I</th>\n",
       "      <th>BDS_B1C</th>\n",
       "      <th>BDS_B2A</th>\n",
       "      <th>QZS_J1</th>\n",
       "      <th>QZS_J5</th>\n",
       "    </tr>\n",
       "  </thead>\n",
       "  <tbody>\n",
       "    <tr>\n",
       "      <th>0</th>\n",
       "      <td>2021-01-05-US-SVL-2</td>\n",
       "      <td>Pixel4</td>\n",
       "      <td>1293918763441</td>\n",
       "      <td>37.379529</td>\n",
       "      <td>-122.071912</td>\n",
       "      <td>11.49</td>\n",
       "      <td>2021-01-05-US-SVL-2_Pixel4</td>\n",
       "      <td>279.44</td>\n",
       "      <td>0.8</td>\n",
       "      <td>0.0</td>\n",
       "      <td>...</td>\n",
       "      <td>0</td>\n",
       "      <td>0</td>\n",
       "      <td>0</td>\n",
       "      <td>0</td>\n",
       "      <td>0</td>\n",
       "      <td>1</td>\n",
       "      <td>0</td>\n",
       "      <td>0</td>\n",
       "      <td>0</td>\n",
       "      <td>0</td>\n",
       "    </tr>\n",
       "    <tr>\n",
       "      <th>1</th>\n",
       "      <td>2021-01-05-US-SVL-2</td>\n",
       "      <td>Pixel4</td>\n",
       "      <td>1293918764441</td>\n",
       "      <td>37.379528</td>\n",
       "      <td>-122.071903</td>\n",
       "      <td>11.26</td>\n",
       "      <td>2021-01-05-US-SVL-2_Pixel4</td>\n",
       "      <td>280.44</td>\n",
       "      <td>0.8</td>\n",
       "      <td>0.0</td>\n",
       "      <td>...</td>\n",
       "      <td>0</td>\n",
       "      <td>1</td>\n",
       "      <td>0</td>\n",
       "      <td>0</td>\n",
       "      <td>0</td>\n",
       "      <td>0</td>\n",
       "      <td>0</td>\n",
       "      <td>0</td>\n",
       "      <td>0</td>\n",
       "      <td>0</td>\n",
       "    </tr>\n",
       "    <tr>\n",
       "      <th>2</th>\n",
       "      <td>2021-01-05-US-SVL-2</td>\n",
       "      <td>Pixel4</td>\n",
       "      <td>1293918765441</td>\n",
       "      <td>37.379533</td>\n",
       "      <td>-122.071919</td>\n",
       "      <td>9.14</td>\n",
       "      <td>2021-01-05-US-SVL-2_Pixel4</td>\n",
       "      <td>281.44</td>\n",
       "      <td>0.8</td>\n",
       "      <td>0.0</td>\n",
       "      <td>...</td>\n",
       "      <td>1</td>\n",
       "      <td>0</td>\n",
       "      <td>0</td>\n",
       "      <td>0</td>\n",
       "      <td>0</td>\n",
       "      <td>0</td>\n",
       "      <td>0</td>\n",
       "      <td>0</td>\n",
       "      <td>0</td>\n",
       "      <td>0</td>\n",
       "    </tr>\n",
       "    <tr>\n",
       "      <th>3</th>\n",
       "      <td>2021-01-05-US-SVL-2</td>\n",
       "      <td>Pixel4</td>\n",
       "      <td>1293918766441</td>\n",
       "      <td>37.379534</td>\n",
       "      <td>-122.071917</td>\n",
       "      <td>10.77</td>\n",
       "      <td>2021-01-05-US-SVL-2_Pixel4</td>\n",
       "      <td>282.44</td>\n",
       "      <td>0.8</td>\n",
       "      <td>0.0</td>\n",
       "      <td>...</td>\n",
       "      <td>0</td>\n",
       "      <td>0</td>\n",
       "      <td>1</td>\n",
       "      <td>0</td>\n",
       "      <td>0</td>\n",
       "      <td>0</td>\n",
       "      <td>0</td>\n",
       "      <td>0</td>\n",
       "      <td>0</td>\n",
       "      <td>0</td>\n",
       "    </tr>\n",
       "    <tr>\n",
       "      <th>4</th>\n",
       "      <td>2021-01-05-US-SVL-2</td>\n",
       "      <td>Pixel4</td>\n",
       "      <td>1293918767441</td>\n",
       "      <td>37.379521</td>\n",
       "      <td>-122.071925</td>\n",
       "      <td>10.86</td>\n",
       "      <td>2021-01-05-US-SVL-2_Pixel4</td>\n",
       "      <td>283.44</td>\n",
       "      <td>0.8</td>\n",
       "      <td>0.0</td>\n",
       "      <td>...</td>\n",
       "      <td>0</td>\n",
       "      <td>0</td>\n",
       "      <td>0</td>\n",
       "      <td>0</td>\n",
       "      <td>0</td>\n",
       "      <td>1</td>\n",
       "      <td>0</td>\n",
       "      <td>0</td>\n",
       "      <td>0</td>\n",
       "      <td>0</td>\n",
       "    </tr>\n",
       "    <tr>\n",
       "      <th>...</th>\n",
       "      <td>...</td>\n",
       "      <td>...</td>\n",
       "      <td>...</td>\n",
       "      <td>...</td>\n",
       "      <td>...</td>\n",
       "      <td>...</td>\n",
       "      <td>...</td>\n",
       "      <td>...</td>\n",
       "      <td>...</td>\n",
       "      <td>...</td>\n",
       "      <td>...</td>\n",
       "      <td>...</td>\n",
       "      <td>...</td>\n",
       "      <td>...</td>\n",
       "      <td>...</td>\n",
       "      <td>...</td>\n",
       "      <td>...</td>\n",
       "      <td>...</td>\n",
       "      <td>...</td>\n",
       "      <td>...</td>\n",
       "      <td>...</td>\n",
       "    </tr>\n",
       "    <tr>\n",
       "      <th>118063</th>\n",
       "      <td>2020-05-14-US-MTV-1</td>\n",
       "      <td>Pixel4</td>\n",
       "      <td>1273531198442</td>\n",
       "      <td>37.645814</td>\n",
       "      <td>-122.405615</td>\n",
       "      <td>-33.66</td>\n",
       "      <td>2020-05-14-US-MTV-1_Pixel4</td>\n",
       "      <td>2286.44</td>\n",
       "      <td>0.8</td>\n",
       "      <td>0.0</td>\n",
       "      <td>...</td>\n",
       "      <td>0</td>\n",
       "      <td>0</td>\n",
       "      <td>0</td>\n",
       "      <td>0</td>\n",
       "      <td>1</td>\n",
       "      <td>0</td>\n",
       "      <td>0</td>\n",
       "      <td>0</td>\n",
       "      <td>0</td>\n",
       "      <td>0</td>\n",
       "    </tr>\n",
       "    <tr>\n",
       "      <th>118064</th>\n",
       "      <td>2020-05-14-US-MTV-1</td>\n",
       "      <td>Pixel4</td>\n",
       "      <td>1273531199442</td>\n",
       "      <td>37.645819</td>\n",
       "      <td>-122.405615</td>\n",
       "      <td>-34.77</td>\n",
       "      <td>2020-05-14-US-MTV-1_Pixel4</td>\n",
       "      <td>2287.44</td>\n",
       "      <td>0.8</td>\n",
       "      <td>0.0</td>\n",
       "      <td>...</td>\n",
       "      <td>0</td>\n",
       "      <td>1</td>\n",
       "      <td>0</td>\n",
       "      <td>0</td>\n",
       "      <td>0</td>\n",
       "      <td>0</td>\n",
       "      <td>0</td>\n",
       "      <td>0</td>\n",
       "      <td>0</td>\n",
       "      <td>0</td>\n",
       "    </tr>\n",
       "    <tr>\n",
       "      <th>118065</th>\n",
       "      <td>2020-05-14-US-MTV-1</td>\n",
       "      <td>Pixel4</td>\n",
       "      <td>1273531200442</td>\n",
       "      <td>37.645814</td>\n",
       "      <td>-122.405599</td>\n",
       "      <td>-35.89</td>\n",
       "      <td>2020-05-14-US-MTV-1_Pixel4</td>\n",
       "      <td>2288.44</td>\n",
       "      <td>0.8</td>\n",
       "      <td>0.0</td>\n",
       "      <td>...</td>\n",
       "      <td>0</td>\n",
       "      <td>0</td>\n",
       "      <td>0</td>\n",
       "      <td>0</td>\n",
       "      <td>1</td>\n",
       "      <td>0</td>\n",
       "      <td>0</td>\n",
       "      <td>0</td>\n",
       "      <td>0</td>\n",
       "      <td>0</td>\n",
       "    </tr>\n",
       "    <tr>\n",
       "      <th>118066</th>\n",
       "      <td>2020-05-14-US-MTV-1</td>\n",
       "      <td>Pixel4</td>\n",
       "      <td>1273531201442</td>\n",
       "      <td>37.645812</td>\n",
       "      <td>-122.405608</td>\n",
       "      <td>-35.07</td>\n",
       "      <td>2020-05-14-US-MTV-1_Pixel4</td>\n",
       "      <td>2289.44</td>\n",
       "      <td>0.8</td>\n",
       "      <td>0.0</td>\n",
       "      <td>...</td>\n",
       "      <td>0</td>\n",
       "      <td>0</td>\n",
       "      <td>0</td>\n",
       "      <td>0</td>\n",
       "      <td>1</td>\n",
       "      <td>0</td>\n",
       "      <td>0</td>\n",
       "      <td>0</td>\n",
       "      <td>0</td>\n",
       "      <td>0</td>\n",
       "    </tr>\n",
       "    <tr>\n",
       "      <th>118067</th>\n",
       "      <td>2020-05-14-US-MTV-1</td>\n",
       "      <td>Pixel4</td>\n",
       "      <td>1273531202442</td>\n",
       "      <td>37.645810</td>\n",
       "      <td>-122.405611</td>\n",
       "      <td>-33.94</td>\n",
       "      <td>2020-05-14-US-MTV-1_Pixel4</td>\n",
       "      <td>2290.44</td>\n",
       "      <td>0.8</td>\n",
       "      <td>0.0</td>\n",
       "      <td>...</td>\n",
       "      <td>0</td>\n",
       "      <td>0</td>\n",
       "      <td>0</td>\n",
       "      <td>0</td>\n",
       "      <td>1</td>\n",
       "      <td>0</td>\n",
       "      <td>0</td>\n",
       "      <td>0</td>\n",
       "      <td>0</td>\n",
       "      <td>0</td>\n",
       "    </tr>\n",
       "  </tbody>\n",
       "</table>\n",
       "<p>118068 rows × 148 columns</p>\n",
       "</div>"
      ],
      "text/plain": [
       "             collectionName phoneName  millisSinceGpsEpoch     latDeg  \\\n",
       "0       2021-01-05-US-SVL-2    Pixel4        1293918763441  37.379529   \n",
       "1       2021-01-05-US-SVL-2    Pixel4        1293918764441  37.379528   \n",
       "2       2021-01-05-US-SVL-2    Pixel4        1293918765441  37.379533   \n",
       "3       2021-01-05-US-SVL-2    Pixel4        1293918766441  37.379534   \n",
       "4       2021-01-05-US-SVL-2    Pixel4        1293918767441  37.379521   \n",
       "...                     ...       ...                  ...        ...   \n",
       "118063  2020-05-14-US-MTV-1    Pixel4        1273531198442  37.645814   \n",
       "118064  2020-05-14-US-MTV-1    Pixel4        1273531199442  37.645819   \n",
       "118065  2020-05-14-US-MTV-1    Pixel4        1273531200442  37.645814   \n",
       "118066  2020-05-14-US-MTV-1    Pixel4        1273531201442  37.645812   \n",
       "118067  2020-05-14-US-MTV-1    Pixel4        1273531202442  37.645810   \n",
       "\n",
       "            lngDeg  heightAboveWgs84EllipsoidM                       phone  \\\n",
       "0      -122.071912                       11.49  2021-01-05-US-SVL-2_Pixel4   \n",
       "1      -122.071903                       11.26  2021-01-05-US-SVL-2_Pixel4   \n",
       "2      -122.071919                        9.14  2021-01-05-US-SVL-2_Pixel4   \n",
       "3      -122.071917                       10.77  2021-01-05-US-SVL-2_Pixel4   \n",
       "4      -122.071925                       10.86  2021-01-05-US-SVL-2_Pixel4   \n",
       "...            ...                         ...                         ...   \n",
       "118063 -122.405615                      -33.66  2020-05-14-US-MTV-1_Pixel4   \n",
       "118064 -122.405615                      -34.77  2020-05-14-US-MTV-1_Pixel4   \n",
       "118065 -122.405599                      -35.89  2020-05-14-US-MTV-1_Pixel4   \n",
       "118066 -122.405608                      -35.07  2020-05-14-US-MTV-1_Pixel4   \n",
       "118067 -122.405611                      -33.94  2020-05-14-US-MTV-1_Pixel4   \n",
       "\n",
       "        timeSinceFirstFixSeconds  hDop  vDop  ...  GPS_L1  GPS_L5  GAL_E1  \\\n",
       "0                         279.44   0.8   0.0  ...       0       0       0   \n",
       "1                         280.44   0.8   0.0  ...       0       1       0   \n",
       "2                         281.44   0.8   0.0  ...       1       0       0   \n",
       "3                         282.44   0.8   0.0  ...       0       0       1   \n",
       "4                         283.44   0.8   0.0  ...       0       0       0   \n",
       "...                          ...   ...   ...  ...     ...     ...     ...   \n",
       "118063                   2286.44   0.8   0.0  ...       0       0       0   \n",
       "118064                   2287.44   0.8   0.0  ...       0       1       0   \n",
       "118065                   2288.44   0.8   0.0  ...       0       0       0   \n",
       "118066                   2289.44   0.8   0.0  ...       0       0       0   \n",
       "118067                   2290.44   0.8   0.0  ...       0       0       0   \n",
       "\n",
       "        GAL_E5A  GLO_G1  BDS_B1I  BDS_B1C BDS_B2A  QZS_J1  QZS_J5  \n",
       "0             0       0        1        0       0       0       0  \n",
       "1             0       0        0        0       0       0       0  \n",
       "2             0       0        0        0       0       0       0  \n",
       "3             0       0        0        0       0       0       0  \n",
       "4             0       0        1        0       0       0       0  \n",
       "...         ...     ...      ...      ...     ...     ...     ...  \n",
       "118063        0       1        0        0       0       0       0  \n",
       "118064        0       0        0        0       0       0       0  \n",
       "118065        0       1        0        0       0       0       0  \n",
       "118066        0       1        0        0       0       0       0  \n",
       "118067        0       1        0        0       0       0       0  \n",
       "\n",
       "[118068 rows x 148 columns]"
      ]
     },
     "execution_count": 13,
     "metadata": {},
     "output_type": "execute_result"
    }
   ],
   "source": [
    "df_train"
   ]
  },
  {
   "cell_type": "code",
   "execution_count": 14,
   "metadata": {
    "ExecuteTime": {
     "end_time": "2021-07-04T23:03:47.830675Z",
     "start_time": "2021-07-04T23:03:47.802672Z"
    }
   },
   "outputs": [],
   "source": [
    "def GetWindowsRight(idx, window_size):\n",
    "    index = np.array([])\n",
    "    if idx < window_size:\n",
    "        index = np.concatenate([np.zeros(window_size - idx-1), np.array(range(idx+1))])\n",
    "        pass\n",
    "    else:\n",
    "        index = np.array(range(idx-window_size+1, idx+1))\n",
    "    return index.astype(int)\n",
    "\n",
    "def GetWindowsMid(idx, window_size, max_idx):\n",
    "    left_index = np.array([])\n",
    "    right_index = np.array([])\n",
    "    \n",
    "    left_size = int(round(window_size * 0.5))\n",
    "    right_size = window_size - left_size\n",
    "    if idx - left_size< 0:\n",
    "        left_index = np.concatenate([np.zeros(left_size - idx-1), np.array(range(idx+1))])\n",
    "    else:\n",
    "        left_index = np.array(range(idx-left_size, idx+1))\n",
    "    \n",
    "    if idx + right_size> max_idx:\n",
    "        right_index = np.concatenate([np.array(range(idx+1, max_idx+1)), (max_idx)*np.ones(right_size - (max_idx - idx) + 1)])\n",
    "    else:\n",
    "        right_index = np.array(range(idx+1, idx + right_size))\n",
    "    \n",
    "    index = np.concatenate([left_index, right_index])\n",
    "    \n",
    "    return index.astype(int)\n",
    "\n",
    "def GetWindowsWithRatio(idx, max_idx, window_size, window_ratio = 1.):\n",
    "    left_index = np.array([])\n",
    "    right_index = np.array([])\n",
    "    \n",
    "    left_size = int(round(window_size * window_ratio))\n",
    "    right_size = window_size - left_size\n",
    "    if idx - left_size< 0:\n",
    "        left_index = np.concatenate([np.zeros(left_size - idx-1), np.array(range(idx+1))])\n",
    "    else:\n",
    "        left_index = np.array(range(idx-left_size, idx+1))\n",
    "    \n",
    "    if idx + right_size> max_idx:\n",
    "        right_index = np.concatenate([np.array(range(idx+1, max_idx+1)), (max_idx)*np.ones(right_size - idx - 1)])\n",
    "    else:\n",
    "        right_index = np.array(range(idx+1, idx + right_size))\n",
    "    \n",
    "    index = np.concatenate([left_index, right_index])\n",
    "    \n",
    "    if index.shape[0] < window_size:\n",
    "        if idx > np.percentile(index, window_ratio * 100):\n",
    "            if index[-1] == max_idx:\n",
    "                addtional_index = index[-1]\n",
    "            else:\n",
    "                addtional_index = index[-1] + 1\n",
    "            index = np.concatenate([index, np.array([addtional_index])])\n",
    "        \n",
    "    return index.astype(int)\n",
    "\n",
    "\n",
    "class CustomDataset(torch.utils.data.Dataset):\n",
    "    def __init__(self, df:pd.DataFrame, \n",
    "                 features = ['latDeg', 'lngDeg', 'heightAboveWgs84EllipsoidM'], \n",
    "                 labels = ['t_latDeg', 't_lngDeg', 't_heightAboveWgs84EllipsoidM'],\n",
    "                 window_size = 100,\n",
    "                 train = False,\n",
    "                 augment = False,\n",
    "                 crop_ratio = 0.0,\n",
    "                device = 'cpu'):\n",
    "        self.df = df\n",
    "        self.features = features\n",
    "        self.labels = labels\n",
    "        self.len = df.shape[0]\n",
    "        self.window_size = window_size\n",
    "        self.train = train\n",
    "        self.augment = augment\n",
    "        self.crop_ratio = crop_ratio\n",
    "        self.device = device\n",
    "        \n",
    "        self.data = self.df[features].astype(float).values\n",
    "        if train == True:\n",
    "            self.true = self.df[labels].astype(float).values\n",
    "        else:\n",
    "            self.true = []\n",
    "        self.phone = self.df['phone'].values\n",
    "        self.millisSinceGpsEpoch = self.df['millisSinceGpsEpoch'].values\n",
    "        \n",
    "        self.start_index_by_phone = dict()\n",
    "        self.length_by_phone = dict()\n",
    "        \n",
    "        for phone in set(self.phone):\n",
    "            start_index = np.where(self.phone == phone)[0][0]\n",
    "            self.start_index_by_phone[phone] = start_index\n",
    "            self.length_by_phone[phone] = (self.phone == phone).sum().astype('int64')\n",
    "            \n",
    "        \n",
    "    \n",
    "    def __len__(self):\n",
    "        return self.len\n",
    "    \n",
    "    def __getitem__(self, idx):\n",
    "        # 필요하다면 random crop 코드도 추가(랜덤한 위치에서 일정 비율의 데이터를 0으로 초기화)\n",
    "        phone = self.phone[idx]\n",
    "        start_index = self.start_index_by_phone[phone]\n",
    "        \n",
    "#         window_index = GetWindowsWithRatio(idx - start_index, self.length_by_phone[phone], self.window_size, 1) + start_index\n",
    "        window_index = GetWindowsRight(idx - start_index, self.window_size) + start_index\n",
    "#         window_index = GetWindowsMid(idx - start_index, self.window_size, self.length_by_phone[phone]) + start_index\n",
    "    \n",
    "#         data = self.data[window_index, :].transpose(1, 0) # num_of_features X window_size\n",
    "        data = self.data[window_index, :]                   # window_size X num_of_features\n",
    "        \n",
    "            \n",
    "        indx = [self.phone[idx], self.millisSinceGpsEpoch[idx]]\n",
    "        \n",
    "        # data shape : num_of_features X window_size\n",
    "        # true shape : num_of_labels X 1\n",
    "        data = torch.Tensor(data)\n",
    "        if self.augment:\n",
    "            crop_size = int(self.crop_ratio * self.window_size * np.random.rand(1))\n",
    "            crop_start_index = np.random.randint(0, self.window_size - crop_size)\n",
    "            data[crop_start_index:crop_size] = 0\n",
    "        \n",
    "        if self.train is False:\n",
    "            true = []\n",
    "        else:\n",
    "            true = self.true[idx]\n",
    "            true = torch.Tensor(true.astype(float))\n",
    "        \n",
    "        return data, true, indx\n",
    "    \n"
   ]
  },
  {
   "cell_type": "markdown",
   "metadata": {},
   "source": [
    "## Feature Select"
   ]
  },
  {
   "cell_type": "code",
   "execution_count": 15,
   "metadata": {
    "ExecuteTime": {
     "end_time": "2021-07-04T23:03:48.071189Z",
     "start_time": "2021-07-04T23:03:47.833674Z"
    },
    "scrolled": true
   },
   "outputs": [
    {
     "name": "stdout",
     "output_type": "stream",
     "text": [
      "(118068, 43)\n",
      "              latDeg         lngDeg  heightAboveWgs84EllipsoidM  \\\n",
      "count  118068.000000  118068.000000               118068.000000   \n",
      "mean       37.440065    -122.172040                   32.740550   \n",
      "std         0.085473       0.146996                   85.073555   \n",
      "min        37.322844    -122.472214                -6157.470000   \n",
      "25%        37.371256    -122.289617                  -22.720000   \n",
      "50%        37.428118    -122.171192                   11.390000   \n",
      "75%        37.486562    -122.069911                   72.192500   \n",
      "max        37.690836    -121.881855                13701.980000   \n",
      "\n",
      "       dlatDeg_Scaled  dlngDeg_Scaled  dheight_Scaled  xSatPosM_Scaled  \\\n",
      "count   118068.000000   118068.000000   118068.000000    118068.000000   \n",
      "mean        -0.045631        0.031210       -0.019615         0.022387   \n",
      "std          1.071818        1.101797        1.200591         0.812507   \n",
      "min         -3.367212       -2.837517      -84.852009        -1.703958   \n",
      "25%         -0.366584       -0.347900       -0.374876        -0.491161   \n",
      "50%          0.058932        0.091150       -0.230268         0.000000   \n",
      "75%          0.206487        0.251508        0.395957         0.244720   \n",
      "max          2.689582        2.871625      188.239406         2.388951   \n",
      "\n",
      "       ySatPosM_Scaled  zSatPosM_Scaled  xSatVelMps_Scaled  ...  \\\n",
      "count    118068.000000    118068.000000      118068.000000  ...   \n",
      "mean         -0.012668        -0.015887          -0.003786  ...   \n",
      "std           0.825298         0.823676           0.828783  ...   \n",
      "min          -1.601716        -2.959637          -2.805447  ...   \n",
      "25%          -0.419696        -0.097021          -0.356043  ...   \n",
      "50%           0.000000         0.000000           0.000000  ...   \n",
      "75%           0.124395         0.636294           0.212203  ...   \n",
      "max           3.451242         2.057755           2.136355  ...   \n",
      "\n",
      "              GPS_L1         GPS_L5         GAL_E1        GAL_E5A  \\\n",
      "count  118068.000000  118068.000000  118068.000000  118068.000000   \n",
      "mean        0.206152       0.070891       0.127782       0.088390   \n",
      "std         0.404543       0.256644       0.333849       0.283862   \n",
      "min         0.000000       0.000000       0.000000       0.000000   \n",
      "25%         0.000000       0.000000       0.000000       0.000000   \n",
      "50%         0.000000       0.000000       0.000000       0.000000   \n",
      "75%         0.000000       0.000000       0.000000       0.000000   \n",
      "max         1.000000       1.000000       1.000000       1.000000   \n",
      "\n",
      "              GLO_G1        BDS_B1I   BDS_B1C   BDS_B2A         QZS_J1  \\\n",
      "count  118068.000000  118068.000000  118068.0  118068.0  118068.000000   \n",
      "mean        0.125309       0.032100       0.0       0.0       0.001956   \n",
      "std         0.331071       0.176267       0.0       0.0       0.044189   \n",
      "min         0.000000       0.000000       0.0       0.0       0.000000   \n",
      "25%         0.000000       0.000000       0.0       0.0       0.000000   \n",
      "50%         0.000000       0.000000       0.0       0.0       0.000000   \n",
      "75%         0.000000       0.000000       0.0       0.0       0.000000   \n",
      "max         1.000000       1.000000       0.0       0.0       1.000000   \n",
      "\n",
      "              QZS_J5  \n",
      "count  118068.000000  \n",
      "mean        0.002236  \n",
      "std         0.047234  \n",
      "min         0.000000  \n",
      "25%         0.000000  \n",
      "50%         0.000000  \n",
      "75%         0.000000  \n",
      "max         1.000000  \n",
      "\n",
      "[8 rows x 43 columns]\n"
     ]
    }
   ],
   "source": [
    "features = [\n",
    "    'latDeg', \n",
    "    'lngDeg', \n",
    "    'heightAboveWgs84EllipsoidM',\n",
    "    'dlatDeg_Scaled',\n",
    "    'dlngDeg_Scaled',\n",
    "    'dheight_Scaled',\n",
    "    'xSatPosM_Scaled',\n",
    "    'ySatPosM_Scaled',\n",
    "    'zSatPosM_Scaled',\n",
    "    'xSatVelMps_Scaled',\n",
    "    'ySatVelMps_Scaled',\n",
    "    'zSatVelMps_Scaled',\n",
    "    'UncalGyroXRadPerSec_Scaled',\n",
    "    'UncalGyroYRadPerSec_Scaled',\n",
    "    'UncalGyroZRadPerSec_Scaled',\n",
    "    'DriftXRadPerSec_Scaled',\n",
    "    'DriftYRadPerSec_Scaled',\n",
    "    'DriftZRadPerSec_Scaled',\n",
    "    'UncalAccelXMps2_Scaled',\n",
    "    'UncalAccelYMps2_Scaled',\n",
    "    'UncalAccelZMps2_Scaled',\n",
    "    'BiasXMps2_Scaled',\n",
    "    'BiasYMps2_Scaled',\n",
    "    'BiasZMps2_Scaled',\n",
    "    'UncalMagXMicroT_Scaled',\n",
    "    'UncalMagYMicroT_Scaled',\n",
    "    'UncalMagZMicroT_Scaled',\n",
    "    'BiasXMicroT_Scaled',\n",
    "    'BiasYMicroT_Scaled',\n",
    "    'BiasZMicroT_Scaled',\n",
    "    'yawDeg_Scaled',\n",
    "    'rollDeg_Scaled',\n",
    "    'pitchDeg_Scaled',\n",
    "    'GPS_L1', \n",
    "    'GPS_L5', \n",
    "    'GAL_E1', \n",
    "    'GAL_E5A', \n",
    "    'GLO_G1', \n",
    "    'BDS_B1I', \n",
    "    'BDS_B1C', \n",
    "    'BDS_B2A', \n",
    "    'QZS_J1', \n",
    "    'QZS_J5'\n",
    "]\n",
    "status_features = [\n",
    "]\n",
    "\n",
    "labels = [\n",
    "    't_latDeg', \n",
    "    't_lngDeg', \n",
    "    't_heightAboveWgs84EllipsoidM',\n",
    "#     'courseDegree',\n",
    "#     'hDop',\n",
    "#     'vDop',\n",
    "#     'speedMps'\n",
    "         ]\n",
    "\n",
    "print(df_train[features].shape)\n",
    "print(df_train[features].describe())\n"
   ]
  },
  {
   "cell_type": "code",
   "execution_count": 16,
   "metadata": {
    "ExecuteTime": {
     "end_time": "2021-07-04T23:03:48.417245Z",
     "start_time": "2021-07-04T23:03:48.073194Z"
    }
   },
   "outputs": [],
   "source": [
    "train_data = CustomDataset(df_train, \n",
    "                           features = features, labels = labels, \n",
    "                           window_size = hyper_parameters['window_size'], \n",
    "                           train = True, \n",
    "                           augment = True,\n",
    "                           crop_ratio = 0.1,\n",
    "                           device = device)\n",
    "valid_data = CustomDataset(df_valid, \n",
    "                           features = features, labels = labels, \n",
    "                           window_size = hyper_parameters['window_size'], \n",
    "                           train = True, \n",
    "                           augment = False,\n",
    "                           crop_ratio = 0.0,\n",
    "                           device = device)\n",
    "test_data = CustomDataset(df_test, \n",
    "                        features = features, labels = labels, \n",
    "                        window_size = hyper_parameters['window_size'], \n",
    "                        train = False, \n",
    "                        augment = False,\n",
    "                        crop_ratio = 0.0,\n",
    "                        device = device)"
   ]
  },
  {
   "cell_type": "code",
   "execution_count": 17,
   "metadata": {
    "ExecuteTime": {
     "end_time": "2021-07-04T23:03:48.432244Z",
     "start_time": "2021-07-04T23:03:48.418244Z"
    }
   },
   "outputs": [],
   "source": [
    "train_loader = DataLoader(train_data, batch_size = hyper_parameters['batch_size'], shuffle = True)\n",
    "valid_loader = DataLoader(valid_data, batch_size = hyper_parameters['batch_size'], shuffle = False)\n",
    "test_loader = DataLoader(test_data, batch_size = hyper_parameters['batch_size'], shuffle = False)"
   ]
  },
  {
   "cell_type": "markdown",
   "metadata": {},
   "source": [
    "# Build Model\n",
    "## Define Loss and Score"
   ]
  },
  {
   "cell_type": "code",
   "execution_count": 18,
   "metadata": {
    "ExecuteTime": {
     "end_time": "2021-07-04T23:03:48.447246Z",
     "start_time": "2021-07-04T23:03:48.433244Z"
    }
   },
   "outputs": [],
   "source": [
    "class GPSLossScore(nn.Module):\n",
    "    def __init__(self):\n",
    "        super().__init__()\n",
    "        self.EARTH_RADIUS = 6_367_000\n",
    "        self.loss = nn.SmoothL1Loss()\n",
    "        pass\n",
    "    \n",
    "    def forward(self, predict:torch.Tensor, target:torch.Tensor):\n",
    "        loss = self.loss(predict[:,:2], target[:,:2])\n",
    "        if (loss <1e-4):\n",
    "            loss = self.gps_loss(predict, target)\n",
    "        return loss\n",
    "    \n",
    "    def torch_haversine(self,lat1, lon1, lat2, lon2):\n",
    "    \n",
    "        lat1=lat1 % 360\n",
    "        lon1=lon1 % 360\n",
    "        lat2=lat2 % 360\n",
    "        lon2=lon2 % 360\n",
    "\n",
    "        lat1, lat2, lon1, lon2 = map(torch.deg2rad, [lat1, lat2, lon1, lon2])\n",
    "\n",
    "        dlat = (lat2 - lat1)\n",
    "        dlon = (lon2 - lon1)\n",
    "\n",
    "        a = torch.sin(dlat / 2.0)**2 + torch.cos(lat1) * torch.cos(lat2) * (torch.sin(dlon / 2.0)**2)\n",
    "        c = 2 * torch.arcsin(a ** 0.5)\n",
    "\n",
    "        dist = self.EARTH_RADIUS * c\n",
    "\n",
    "        return dist\n",
    "    \n",
    "    def custom_loss(self, predict:torch.Tensor, target:torch.Tensor):\n",
    "        latlng_loss = self.loss(predict[:,:2], target[:,:2])\n",
    "        other_loss = self.loss(predict[:,2:], target[:,2:])\n",
    "        loss = 0.9 * latlng_loss + 0.1 * other_loss\n",
    "        \n",
    "        return loss, latlng_loss, other_loss\n",
    "\n",
    "    def gps_loss(self, predict:torch.Tensor, target:torch.Tensor):\n",
    "        dist = self.torch_haversine(predict[:,0], predict[:,1], target[:,0], target[:,1])\n",
    "\n",
    "        loss = dist.mean()\n",
    "\n",
    "        return loss\n",
    "\n",
    "    def gps_score(self, predict:torch.Tensor, target:torch.Tensor):\n",
    "        dist = self.torch_haversine(predict[:,0], predict[:,1], target[:,0], target[:,1])\n",
    "\n",
    "        score = (torch.quantile(dist, 0.5) + torch.quantile(dist, 0.95))/2\n",
    "\n",
    "        return score\n",
    "    "
   ]
  },
  {
   "cell_type": "markdown",
   "metadata": {},
   "source": [
    "## Build Custom Model"
   ]
  },
  {
   "cell_type": "code",
   "execution_count": 19,
   "metadata": {
    "ExecuteTime": {
     "end_time": "2021-07-04T23:03:48.477243Z",
     "start_time": "2021-07-04T23:03:48.449245Z"
    }
   },
   "outputs": [],
   "source": [
    "\n",
    "class ConvBlock(nn.Module):\n",
    "    def __init__(self, input_features, features = 128):\n",
    "        super().__init__()\n",
    "        \n",
    "        self.fuse = nn.Conv1d(input_features + features, features, kernel_size = 1)\n",
    "        self.conv = nn.Conv1d(input_features, features, kernel_size=3, padding = 1)\n",
    "        self.batch = nn.BatchNorm1d(features)\n",
    "        self.pool = nn.AvgPool1d(kernel_size = 2)\n",
    "        \n",
    "    def forward(self, x):\n",
    "        skip = x\n",
    "        \n",
    "        x = self.conv(x)\n",
    "        x = F.tanh(x)\n",
    "        x = self.batch(x)\n",
    "        x = torch.cat([skip, x], axis = 1)\n",
    "        x = self.fuse(x)\n",
    "        x = self.pool(x)\n",
    "        return x\n",
    "    \n",
    "class BaseModel(nn.Module):\n",
    "    def __init__(self, input_size = (100, 3), output_size = 3):\n",
    "        super().__init__()\n",
    "        self.input_size = input_size\n",
    "        self.output_size = output_size\n",
    "        \n",
    "        self.conv1 = ConvBlock(input_size[1], 64)\n",
    "        self.conv2 = ConvBlock(64, 64)\n",
    "        self.conv3 = ConvBlock(64, 64)\n",
    "        \n",
    "        self.tf = nn.Transformer(d_model = 64, \n",
    "                                 nhead = 32, \n",
    "                                 num_encoder_layers = 1, \n",
    "                                 num_decoder_layers = 1, \n",
    "                                 dim_feedforward = 64,\n",
    "                                 dropout = 0.3, \n",
    "                                 activation= 'relu')\n",
    "        \n",
    "        self.batch_norm = nn.BatchNorm1d(64)\n",
    "        self.layer_norm = nn.LayerNorm([16, 64])\n",
    "        \n",
    "        self.fc1 = nn.Linear(16*64, 128)\n",
    "        self.layer_norm1 = nn.LayerNorm(128)\n",
    "        self.fc2 = nn.Linear(128, 64)\n",
    "        self.layer_norm2 = nn.LayerNorm(64)\n",
    "        self.fc3 = nn.Linear(64, 32)\n",
    "        self.layer_norm3 = nn.LayerNorm(32)\n",
    "        self.fc4 = nn.Linear(32, output_size)\n",
    "        self.layer_norm4 = nn.LayerNorm(output_size)\n",
    "        \n",
    "        self.drop06 = nn.Dropout(0.6)\n",
    "        self.drop03 = nn.Dropout(0.3)\n",
    "        self.drop01 = nn.Dropout(0.1)\n",
    "        \n",
    "        nn.init.kaiming_normal_(self.fc1.weight)\n",
    "        nn.init.kaiming_normal_(self.fc2.weight)\n",
    "        nn.init.kaiming_normal_(self.fc3.weight)\n",
    "        nn.init.kaiming_normal_(self.fc4.weight)\n",
    "        \n",
    "        \n",
    "    def forward(self, x):\n",
    "        input_size = self.input_size \n",
    "        output_size = self.output_size\n",
    "        \n",
    "        x[:,:,:2] = torch.deg2rad(x[:,:,:2])\n",
    "        \n",
    "        x = x.transpose(2,1)\n",
    "        x = self.conv1(x)\n",
    "        x = self.conv2(x)\n",
    "        x = self.conv3(x)\n",
    "        x = x.transpose(2,1)\n",
    "        \n",
    "        skip = x\n",
    "        x = self.layer_norm(x)\n",
    "        x = self.tf(x, x)\n",
    "        x = self.batch_norm(x.transpose(2,1))\n",
    "        x = x.transpose(2,1)\n",
    "        x = x + skip\n",
    "        \n",
    "        x = x.reshape(-1, 16*64)\n",
    "        \n",
    "        x = self.drop06(x)\n",
    "        x = self.fc1(x)\n",
    "        x = F.tanh(x)\n",
    "        x = self.layer_norm1(x)\n",
    "        \n",
    "        x = self.drop06(x)\n",
    "        x = self.fc2(x)\n",
    "        x = F.tanh(x)\n",
    "        x = self.layer_norm2(x)\n",
    "        \n",
    "        x = self.drop03(x)\n",
    "        x = self.fc3(x)\n",
    "        x = F.tanh(x)\n",
    "        x = self.layer_norm3(x)\n",
    "        \n",
    "        x = self.drop01(x)\n",
    "        x = self.fc4(x)\n",
    "        x = self.layer_norm4(x)\n",
    "        \n",
    "        x[:,:2] = torch.rad2deg(x[:,:2])\n",
    "        \n",
    "        return x"
   ]
  },
  {
   "cell_type": "markdown",
   "metadata": {
    "ExecuteTime": {
     "end_time": "2021-07-04T22:49:13.652182Z",
     "start_time": "2021-07-04T22:47:56.929Z"
    }
   },
   "source": [
    "## Compile Model"
   ]
  },
  {
   "cell_type": "code",
   "execution_count": 20,
   "metadata": {
    "ExecuteTime": {
     "end_time": "2021-07-04T23:03:49.662771Z",
     "start_time": "2021-07-04T23:03:48.479245Z"
    }
   },
   "outputs": [],
   "source": [
    "model = BaseModel((hyper_parameters['window_size'], len(features)), len(labels))\n",
    "model.to(device)\n",
    "# model.load_state_dict(torch.load(\"./models/Baseline3/model-4.pth\"))\n",
    "\n",
    "# loss_func = nn.SmoothL1Loss()\n",
    "loss_func = GPSLossScore()\n",
    "optimizer = optim.Adam(model.parameters(), lr = hyper_parameters['learning_rate'])\n",
    "scheduler = optim.lr_scheduler.ReduceLROnPlateau(optimizer=optimizer,\n",
    "                                                mode = 'min',\n",
    "                                                factor = 0.1,\n",
    "                                                patience = 5,\n",
    "                                                verbose = True)"
   ]
  },
  {
   "cell_type": "markdown",
   "metadata": {},
   "source": [
    "# Fit and Validate\n",
    "## Train"
   ]
  },
  {
   "cell_type": "code",
   "execution_count": 21,
   "metadata": {
    "ExecuteTime": {
     "end_time": "2021-07-04T23:03:49.677772Z",
     "start_time": "2021-07-04T23:03:49.663774Z"
    }
   },
   "outputs": [],
   "source": [
    "def train(epoch, progress_log, status_log):\n",
    "    model.train()  # 신경망을 학습 모드로 전환\n",
    "\n",
    "    # 데이터로더에서 미니배치를 하나씩 꺼내 학습을 수행\n",
    "    predict = []\n",
    "    ground = []\n",
    "    \n",
    "    for data, targets, _ in progress_log:\n",
    "        \n",
    "        data = data.to(device)\n",
    "        targets = targets.to(device)\n",
    "        \n",
    "        optimizer.zero_grad()  # 경사를 0으로 초기화\n",
    "        outputs = model(data)  # 데이터를 입력하고 출력을 계산\n",
    "        loss = loss_func(outputs, targets)  # 출력과 훈련 데이터 정답 간의 오차를 계산\n",
    "        \n",
    "        loss.backward()  # 오차를 역전파 계산\n",
    "        optimizer.step()  # 역전파 계산한 값으로 가중치를 수정\n",
    "        \n",
    "        predict.append(outputs)\n",
    "        ground.append(targets)\n",
    "        \n",
    "        status_log.set_description_str(\n",
    "            f\"train status: loss - {loss_func(outputs, targets)} | {nn.SmoothL1Loss()(outputs, targets)}, score - {loss_func.gps_score(outputs, targets)}\")\n",
    "\n",
    "    # 정확도 출력\n",
    "    predict = torch.cat(predict,axis = 0)\n",
    "    ground = torch.cat(ground,axis = 0)\n",
    "    \n",
    "    loss = loss_func(predict, ground)\n",
    "    meas = loss_func.gps_score(predict, ground)\n",
    "    return loss, meas"
   ]
  },
  {
   "cell_type": "markdown",
   "metadata": {},
   "source": [
    "## Valid"
   ]
  },
  {
   "cell_type": "code",
   "execution_count": 22,
   "metadata": {
    "ExecuteTime": {
     "end_time": "2021-07-04T23:03:49.692773Z",
     "start_time": "2021-07-04T23:03:49.679772Z"
    }
   },
   "outputs": [],
   "source": [
    "def valid(progress_log, status_log):\n",
    "    model.eval()  # 신경망을 추론 모드로 전환\n",
    "\n",
    "    # 데이터로더에서 미니배치를 하나씩 꺼내 추론을 수행\n",
    "    predict = []\n",
    "    ground = []\n",
    "    \n",
    "    with torch.no_grad():  # 추론 과정에는 미분이 필요없음\n",
    "        for data, targets, _ in progress_log:\n",
    "            \n",
    "            data = data.to(device)\n",
    "            targets = targets.to(device)\n",
    "            \n",
    "            outputs = model(data)  # 데이터를 입력하고 출력을 계산\n",
    "            loss = loss_func(outputs, targets)  # 출력과 훈련 데이터 정답 간의 오차를 계산\n",
    "            \n",
    "            predict.append(outputs)\n",
    "            ground.append(targets)\n",
    "            \n",
    "        status_log.set_description_str(f\"valid status: loss - {loss_func(outputs, targets)} | {nn.SmoothL1Loss()(outputs, targets)}, score - {loss_func.gps_score(outputs, targets)}\")\n",
    "    # 정확도 출력\n",
    "    predict = torch.cat(predict,axis = 0)\n",
    "    ground = torch.cat(ground,axis = 0)\n",
    "    \n",
    "    loss = loss_func(predict, ground)\n",
    "    meas = loss_func.gps_score(predict, ground)\n",
    "    return loss, meas"
   ]
  },
  {
   "cell_type": "markdown",
   "metadata": {},
   "source": [
    "## Test"
   ]
  },
  {
   "cell_type": "code",
   "execution_count": 23,
   "metadata": {
    "ExecuteTime": {
     "end_time": "2021-07-04T23:03:49.707771Z",
     "start_time": "2021-07-04T23:03:49.696771Z"
    }
   },
   "outputs": [],
   "source": [
    "def test(dataloader):\n",
    "    model.eval()  # 신경망을 추론 모드로 전환\n",
    "    \n",
    "    output_list = []\n",
    "    with torch.no_grad():  # 추론 과정에는 미분이 필요없음\n",
    "        for data, _, index in tqdm(dataloader):\n",
    "            data = data.to(device)\n",
    "            outputs = model(data)  # 데이터를 입력하고 출력을 계산\n",
    "            df_temp = pd.DataFrame()\n",
    "            df_temp['phone'] = index[0]\n",
    "            df_temp['millisSinceGpsEpoch'] = index[1]\n",
    "            df_temp[['latDeg', 'lngDeg', 'heightAboveWgs84EllipsoidM']] = outputs[:,:3].to('cpu').numpy()\n",
    "            output_list.append(df_temp)\n",
    "    \n",
    "    predicts = pd.concat(output_list)\n",
    "    return predicts\n",
    "            "
   ]
  },
  {
   "cell_type": "code",
   "execution_count": 24,
   "metadata": {
    "ExecuteTime": {
     "end_time": "2021-07-04T23:38:45.216277Z",
     "start_time": "2021-07-04T23:03:49.709775Z"
    },
    "scrolled": true
   },
   "outputs": [
    {
     "data": {
      "application/vnd.jupyter.widget-view+json": {
       "model_id": "1f10df4d19e94a5684e5d9252184fbec",
       "version_major": 2,
       "version_minor": 0
      },
      "text/plain": [
       "EPOCH:   0%|          | 0/10000 [00:00<?, ?it/s]"
      ]
     },
     "metadata": {},
     "output_type": "display_data"
    },
    {
     "data": {
      "application/vnd.jupyter.widget-view+json": {
       "model_id": "53b6d4dab65e4727a1e9465b64eeae1f",
       "version_major": 2,
       "version_minor": 0
      },
      "text/plain": []
     },
     "metadata": {},
     "output_type": "display_data"
    },
    {
     "data": {
      "application/vnd.jupyter.widget-view+json": {
       "model_id": "5f739e5f9b974b4186cdb14d9ee28ba0",
       "version_major": 2,
       "version_minor": 0
      },
      "text/plain": []
     },
     "metadata": {},
     "output_type": "display_data"
    },
    {
     "data": {
      "application/vnd.jupyter.widget-view+json": {
       "model_id": "842de2f9bd2a456b9097498474d6e1dc",
       "version_major": 2,
       "version_minor": 0
      },
      "text/plain": []
     },
     "metadata": {},
     "output_type": "display_data"
    },
    {
     "data": {
      "application/vnd.jupyter.widget-view+json": {
       "model_id": "",
       "version_major": 2,
       "version_minor": 0
      },
      "text/plain": [
       "Train:   0%|          | 0/462 [00:00<?, ?it/s]"
      ]
     },
     "metadata": {},
     "output_type": "display_data"
    },
    {
     "data": {
      "application/vnd.jupyter.widget-view+json": {
       "model_id": "",
       "version_major": 2,
       "version_minor": 0
      },
      "text/plain": [
       "Valid:   0%|          | 0/43 [00:00<?, ?it/s]"
      ]
     },
     "metadata": {},
     "output_type": "display_data"
    },
    {
     "name": "stdout",
     "output_type": "stream",
     "text": [
      "EPOCH:0/10000 train status: loss - 10.64869213104248, score - 2547048.0, valid status: loss - 0.0036990344524383545, score - 14275.4052734375\n"
     ]
    },
    {
     "data": {
      "application/vnd.jupyter.widget-view+json": {
       "model_id": "",
       "version_major": 2,
       "version_minor": 0
      },
      "text/plain": [
       "Train:   0%|          | 0/462 [00:00<?, ?it/s]"
      ]
     },
     "metadata": {},
     "output_type": "display_data"
    },
    {
     "data": {
      "application/vnd.jupyter.widget-view+json": {
       "model_id": "",
       "version_major": 2,
       "version_minor": 0
      },
      "text/plain": [
       "Valid:   0%|          | 0/43 [00:00<?, ?it/s]"
      ]
     },
     "metadata": {},
     "output_type": "display_data"
    },
    {
     "name": "stdout",
     "output_type": "stream",
     "text": [
      "EPOCH:1/10000 train status: loss - 0.2357868254184723, score - 148997.15625, valid status: loss - 0.004769667983055115, score - 16626.24609375\n"
     ]
    },
    {
     "data": {
      "application/vnd.jupyter.widget-view+json": {
       "model_id": "",
       "version_major": 2,
       "version_minor": 0
      },
      "text/plain": [
       "Train:   0%|          | 0/462 [00:00<?, ?it/s]"
      ]
     },
     "metadata": {},
     "output_type": "display_data"
    },
    {
     "data": {
      "application/vnd.jupyter.widget-view+json": {
       "model_id": "",
       "version_major": 2,
       "version_minor": 0
      },
      "text/plain": [
       "Valid:   0%|          | 0/43 [00:00<?, ?it/s]"
      ]
     },
     "metadata": {},
     "output_type": "display_data"
    },
    {
     "name": "stdout",
     "output_type": "stream",
     "text": [
      "EPOCH:2/10000 train status: loss - 0.0370246060192585, score - 54453.6015625, valid status: loss - 0.0032827674876898527, score - 14828.546875\n"
     ]
    },
    {
     "data": {
      "application/vnd.jupyter.widget-view+json": {
       "model_id": "",
       "version_major": 2,
       "version_minor": 0
      },
      "text/plain": [
       "Train:   0%|          | 0/462 [00:00<?, ?it/s]"
      ]
     },
     "metadata": {},
     "output_type": "display_data"
    },
    {
     "data": {
      "application/vnd.jupyter.widget-view+json": {
       "model_id": "",
       "version_major": 2,
       "version_minor": 0
      },
      "text/plain": [
       "Valid:   0%|          | 0/43 [00:00<?, ?it/s]"
      ]
     },
     "metadata": {},
     "output_type": "display_data"
    },
    {
     "name": "stdout",
     "output_type": "stream",
     "text": [
      "EPOCH:3/10000 train status: loss - 0.01538271177560091, score - 29413.98046875, valid status: loss - 0.0032848478294909, score - 14803.1279296875\n"
     ]
    },
    {
     "data": {
      "application/vnd.jupyter.widget-view+json": {
       "model_id": "",
       "version_major": 2,
       "version_minor": 0
      },
      "text/plain": [
       "Train:   0%|          | 0/462 [00:00<?, ?it/s]"
      ]
     },
     "metadata": {},
     "output_type": "display_data"
    },
    {
     "data": {
      "application/vnd.jupyter.widget-view+json": {
       "model_id": "",
       "version_major": 2,
       "version_minor": 0
      },
      "text/plain": [
       "Valid:   0%|          | 0/43 [00:00<?, ?it/s]"
      ]
     },
     "metadata": {},
     "output_type": "display_data"
    },
    {
     "name": "stdout",
     "output_type": "stream",
     "text": [
      "EPOCH:4/10000 train status: loss - 0.008789917454123497, score - 22261.591796875, valid status: loss - 0.0033347452990710735, score - 14650.66796875\n"
     ]
    },
    {
     "data": {
      "application/vnd.jupyter.widget-view+json": {
       "model_id": "",
       "version_major": 2,
       "version_minor": 0
      },
      "text/plain": [
       "Train:   0%|          | 0/462 [00:00<?, ?it/s]"
      ]
     },
     "metadata": {},
     "output_type": "display_data"
    },
    {
     "data": {
      "application/vnd.jupyter.widget-view+json": {
       "model_id": "",
       "version_major": 2,
       "version_minor": 0
      },
      "text/plain": [
       "Valid:   0%|          | 0/43 [00:00<?, ?it/s]"
      ]
     },
     "metadata": {},
     "output_type": "display_data"
    },
    {
     "name": "stdout",
     "output_type": "stream",
     "text": [
      "EPOCH:5/10000 train status: loss - 0.008954089134931564, score - 21044.734375, valid status: loss - 0.0032914485782384872, score - 14884.880859375\n"
     ]
    },
    {
     "data": {
      "application/vnd.jupyter.widget-view+json": {
       "model_id": "",
       "version_major": 2,
       "version_minor": 0
      },
      "text/plain": [
       "Train:   0%|          | 0/462 [00:00<?, ?it/s]"
      ]
     },
     "metadata": {},
     "output_type": "display_data"
    },
    {
     "data": {
      "application/vnd.jupyter.widget-view+json": {
       "model_id": "",
       "version_major": 2,
       "version_minor": 0
      },
      "text/plain": [
       "Valid:   0%|          | 0/43 [00:00<?, ?it/s]"
      ]
     },
     "metadata": {},
     "output_type": "display_data"
    },
    {
     "name": "stdout",
     "output_type": "stream",
     "text": [
      "Epoch     7: reducing learning rate of group 0 to 1.0000e-04.\n",
      "EPOCH:6/10000 train status: loss - 0.007380388211458921, score - 20504.12109375, valid status: loss - 0.0033512020017951727, score - 14647.115234375\n"
     ]
    },
    {
     "data": {
      "application/vnd.jupyter.widget-view+json": {
       "model_id": "",
       "version_major": 2,
       "version_minor": 0
      },
      "text/plain": [
       "Train:   0%|          | 0/462 [00:00<?, ?it/s]"
      ]
     },
     "metadata": {},
     "output_type": "display_data"
    },
    {
     "data": {
      "application/vnd.jupyter.widget-view+json": {
       "model_id": "",
       "version_major": 2,
       "version_minor": 0
      },
      "text/plain": [
       "Valid:   0%|          | 0/43 [00:00<?, ?it/s]"
      ]
     },
     "metadata": {},
     "output_type": "display_data"
    },
    {
     "name": "stdout",
     "output_type": "stream",
     "text": [
      "EPOCH:7/10000 train status: loss - 0.007295095361769199, score - 20343.533203125, valid status: loss - 0.003294760826975107, score - 14738.4892578125\n"
     ]
    },
    {
     "data": {
      "application/vnd.jupyter.widget-view+json": {
       "model_id": "",
       "version_major": 2,
       "version_minor": 0
      },
      "text/plain": [
       "Train:   0%|          | 0/462 [00:00<?, ?it/s]"
      ]
     },
     "metadata": {},
     "output_type": "display_data"
    },
    {
     "data": {
      "application/vnd.jupyter.widget-view+json": {
       "model_id": "",
       "version_major": 2,
       "version_minor": 0
      },
      "text/plain": [
       "Valid:   0%|          | 0/43 [00:00<?, ?it/s]"
      ]
     },
     "metadata": {},
     "output_type": "display_data"
    },
    {
     "name": "stdout",
     "output_type": "stream",
     "text": [
      "EPOCH:8/10000 train status: loss - 0.007285992614924908, score - 20327.078125, valid status: loss - 0.003299638396129012, score - 14750.296875\n"
     ]
    },
    {
     "data": {
      "application/vnd.jupyter.widget-view+json": {
       "model_id": "",
       "version_major": 2,
       "version_minor": 0
      },
      "text/plain": [
       "Train:   0%|          | 0/462 [00:00<?, ?it/s]"
      ]
     },
     "metadata": {},
     "output_type": "display_data"
    },
    {
     "data": {
      "application/vnd.jupyter.widget-view+json": {
       "model_id": "",
       "version_major": 2,
       "version_minor": 0
      },
      "text/plain": [
       "Valid:   0%|          | 0/43 [00:00<?, ?it/s]"
      ]
     },
     "metadata": {},
     "output_type": "display_data"
    },
    {
     "name": "stdout",
     "output_type": "stream",
     "text": [
      "EPOCH:9/10000 train status: loss - 0.007282283157110214, score - 20362.03125, valid status: loss - 0.0032796873711049557, score - 14845.943359375\n"
     ]
    },
    {
     "data": {
      "application/vnd.jupyter.widget-view+json": {
       "model_id": "",
       "version_major": 2,
       "version_minor": 0
      },
      "text/plain": [
       "Train:   0%|          | 0/462 [00:00<?, ?it/s]"
      ]
     },
     "metadata": {},
     "output_type": "display_data"
    },
    {
     "data": {
      "application/vnd.jupyter.widget-view+json": {
       "model_id": "",
       "version_major": 2,
       "version_minor": 0
      },
      "text/plain": [
       "Valid:   0%|          | 0/43 [00:00<?, ?it/s]"
      ]
     },
     "metadata": {},
     "output_type": "display_data"
    },
    {
     "name": "stdout",
     "output_type": "stream",
     "text": [
      "EPOCH:10/10000 train status: loss - 0.007279521785676479, score - 20343.19140625, valid status: loss - 0.003298269584774971, score - 14741.376953125\n"
     ]
    },
    {
     "data": {
      "application/vnd.jupyter.widget-view+json": {
       "model_id": "",
       "version_major": 2,
       "version_minor": 0
      },
      "text/plain": [
       "Train:   0%|          | 0/462 [00:00<?, ?it/s]"
      ]
     },
     "metadata": {},
     "output_type": "display_data"
    },
    {
     "data": {
      "application/vnd.jupyter.widget-view+json": {
       "model_id": "",
       "version_major": 2,
       "version_minor": 0
      },
      "text/plain": [
       "Valid:   0%|          | 0/43 [00:00<?, ?it/s]"
      ]
     },
     "metadata": {},
     "output_type": "display_data"
    },
    {
     "name": "stdout",
     "output_type": "stream",
     "text": [
      "EPOCH:11/10000 train status: loss - 0.0072755408473312855, score - 20351.40625, valid status: loss - 0.0033108496572822332, score - 14702.9951171875\n"
     ]
    },
    {
     "data": {
      "application/vnd.jupyter.widget-view+json": {
       "model_id": "",
       "version_major": 2,
       "version_minor": 0
      },
      "text/plain": [
       "Train:   0%|          | 0/462 [00:00<?, ?it/s]"
      ]
     },
     "metadata": {},
     "output_type": "display_data"
    },
    {
     "data": {
      "application/vnd.jupyter.widget-view+json": {
       "model_id": "",
       "version_major": 2,
       "version_minor": 0
      },
      "text/plain": [
       "Valid:   0%|          | 0/43 [00:00<?, ?it/s]"
      ]
     },
     "metadata": {},
     "output_type": "display_data"
    },
    {
     "name": "stdout",
     "output_type": "stream",
     "text": [
      "Epoch    13: reducing learning rate of group 0 to 1.0000e-05.\n",
      "EPOCH:12/10000 train status: loss - 0.008500449359416962, score - 20359.474609375, valid status: loss - 0.0033287000842392445, score - 14734.046875\n"
     ]
    },
    {
     "data": {
      "application/vnd.jupyter.widget-view+json": {
       "model_id": "",
       "version_major": 2,
       "version_minor": 0
      },
      "text/plain": [
       "Train:   0%|          | 0/462 [00:00<?, ?it/s]"
      ]
     },
     "metadata": {},
     "output_type": "display_data"
    },
    {
     "data": {
      "application/vnd.jupyter.widget-view+json": {
       "model_id": "",
       "version_major": 2,
       "version_minor": 0
      },
      "text/plain": [
       "Valid:   0%|          | 0/43 [00:00<?, ?it/s]"
      ]
     },
     "metadata": {},
     "output_type": "display_data"
    },
    {
     "name": "stdout",
     "output_type": "stream",
     "text": [
      "EPOCH:13/10000 train status: loss - 0.009721240028738976, score - 20350.759765625, valid status: loss - 0.0032928907312452793, score - 14747.369140625\n"
     ]
    },
    {
     "data": {
      "application/vnd.jupyter.widget-view+json": {
       "model_id": "",
       "version_major": 2,
       "version_minor": 0
      },
      "text/plain": [
       "Train:   0%|          | 0/462 [00:00<?, ?it/s]"
      ]
     },
     "metadata": {},
     "output_type": "display_data"
    },
    {
     "data": {
      "application/vnd.jupyter.widget-view+json": {
       "model_id": "",
       "version_major": 2,
       "version_minor": 0
      },
      "text/plain": [
       "Valid:   0%|          | 0/43 [00:00<?, ?it/s]"
      ]
     },
     "metadata": {},
     "output_type": "display_data"
    },
    {
     "name": "stdout",
     "output_type": "stream",
     "text": [
      "EPOCH:14/10000 train status: loss - 0.008488046005368233, score - 20373.810546875, valid status: loss - 0.003291150089353323, score - 14758.96484375\n"
     ]
    },
    {
     "data": {
      "application/vnd.jupyter.widget-view+json": {
       "model_id": "",
       "version_major": 2,
       "version_minor": 0
      },
      "text/plain": [
       "Train:   0%|          | 0/462 [00:00<?, ?it/s]"
      ]
     },
     "metadata": {},
     "output_type": "display_data"
    },
    {
     "data": {
      "application/vnd.jupyter.widget-view+json": {
       "model_id": "",
       "version_major": 2,
       "version_minor": 0
      },
      "text/plain": [
       "Valid:   0%|          | 0/43 [00:00<?, ?it/s]"
      ]
     },
     "metadata": {},
     "output_type": "display_data"
    },
    {
     "name": "stdout",
     "output_type": "stream",
     "text": [
      "EPOCH:15/10000 train status: loss - 0.007252485025674105, score - 20367.328125, valid status: loss - 0.003304684767499566, score - 14721.7041015625\n"
     ]
    },
    {
     "data": {
      "application/vnd.jupyter.widget-view+json": {
       "model_id": "",
       "version_major": 2,
       "version_minor": 0
      },
      "text/plain": [
       "Train:   0%|          | 0/462 [00:00<?, ?it/s]"
      ]
     },
     "metadata": {},
     "output_type": "display_data"
    },
    {
     "data": {
      "application/vnd.jupyter.widget-view+json": {
       "model_id": "",
       "version_major": 2,
       "version_minor": 0
      },
      "text/plain": [
       "Valid:   0%|          | 0/43 [00:00<?, ?it/s]"
      ]
     },
     "metadata": {},
     "output_type": "display_data"
    },
    {
     "name": "stdout",
     "output_type": "stream",
     "text": [
      "EPOCH:16/10000 train status: loss - 0.008489404805004597, score - 20394.138671875, valid status: loss - 0.0033261291682720184, score - 14652.310546875\n"
     ]
    },
    {
     "data": {
      "application/vnd.jupyter.widget-view+json": {
       "model_id": "",
       "version_major": 2,
       "version_minor": 0
      },
      "text/plain": [
       "Train:   0%|          | 0/462 [00:00<?, ?it/s]"
      ]
     },
     "metadata": {},
     "output_type": "display_data"
    },
    {
     "data": {
      "application/vnd.jupyter.widget-view+json": {
       "model_id": "",
       "version_major": 2,
       "version_minor": 0
      },
      "text/plain": [
       "Valid:   0%|          | 0/43 [00:00<?, ?it/s]"
      ]
     },
     "metadata": {},
     "output_type": "display_data"
    },
    {
     "name": "stdout",
     "output_type": "stream",
     "text": [
      "EPOCH:17/10000 train status: loss - 0.007254055701196194, score - 20378.328125, valid status: loss - 0.003317078575491905, score - 14684.759765625\n"
     ]
    },
    {
     "data": {
      "application/vnd.jupyter.widget-view+json": {
       "model_id": "",
       "version_major": 2,
       "version_minor": 0
      },
      "text/plain": [
       "Train:   0%|          | 0/462 [00:00<?, ?it/s]"
      ]
     },
     "metadata": {},
     "output_type": "display_data"
    },
    {
     "data": {
      "application/vnd.jupyter.widget-view+json": {
       "model_id": "",
       "version_major": 2,
       "version_minor": 0
      },
      "text/plain": [
       "Valid:   0%|          | 0/43 [00:00<?, ?it/s]"
      ]
     },
     "metadata": {},
     "output_type": "display_data"
    },
    {
     "name": "stdout",
     "output_type": "stream",
     "text": [
      "Epoch    19: reducing learning rate of group 0 to 1.0000e-06.\n",
      "EPOCH:18/10000 train status: loss - 0.0072543201968073845, score - 20380.34375, valid status: loss - 0.003296267008408904, score - 14753.384765625\n"
     ]
    },
    {
     "data": {
      "application/vnd.jupyter.widget-view+json": {
       "model_id": "",
       "version_major": 2,
       "version_minor": 0
      },
      "text/plain": [
       "Train:   0%|          | 0/462 [00:00<?, ?it/s]"
      ]
     },
     "metadata": {},
     "output_type": "display_data"
    },
    {
     "data": {
      "application/vnd.jupyter.widget-view+json": {
       "model_id": "",
       "version_major": 2,
       "version_minor": 0
      },
      "text/plain": [
       "Valid:   0%|          | 0/43 [00:00<?, ?it/s]"
      ]
     },
     "metadata": {},
     "output_type": "display_data"
    },
    {
     "name": "stdout",
     "output_type": "stream",
     "text": [
      "EPOCH:19/10000 train status: loss - 0.008483029901981354, score - 20385.34765625, valid status: loss - 0.0033003538846969604, score - 14734.888671875\n"
     ]
    },
    {
     "data": {
      "application/vnd.jupyter.widget-view+json": {
       "model_id": "",
       "version_major": 2,
       "version_minor": 0
      },
      "text/plain": [
       "Train:   0%|          | 0/462 [00:00<?, ?it/s]"
      ]
     },
     "metadata": {},
     "output_type": "display_data"
    },
    {
     "data": {
      "application/vnd.jupyter.widget-view+json": {
       "model_id": "",
       "version_major": 2,
       "version_minor": 0
      },
      "text/plain": [
       "Valid:   0%|          | 0/43 [00:00<?, ?it/s]"
      ]
     },
     "metadata": {},
     "output_type": "display_data"
    },
    {
     "name": "stdout",
     "output_type": "stream",
     "text": [
      "EPOCH:20/10000 train status: loss - 0.00848838035017252, score - 20389.17578125, valid status: loss - 0.0033028186298906803, score - 14732.830078125\n"
     ]
    },
    {
     "data": {
      "application/vnd.jupyter.widget-view+json": {
       "model_id": "",
       "version_major": 2,
       "version_minor": 0
      },
      "text/plain": [
       "Train:   0%|          | 0/462 [00:00<?, ?it/s]"
      ]
     },
     "metadata": {},
     "output_type": "display_data"
    },
    {
     "data": {
      "application/vnd.jupyter.widget-view+json": {
       "model_id": "",
       "version_major": 2,
       "version_minor": 0
      },
      "text/plain": [
       "Valid:   0%|          | 0/43 [00:00<?, ?it/s]"
      ]
     },
     "metadata": {},
     "output_type": "display_data"
    },
    {
     "name": "stdout",
     "output_type": "stream",
     "text": [
      "EPOCH:21/10000 train status: loss - 0.0072486512362957, score - 20380.01171875, valid status: loss - 0.003302171127870679, score - 14736.7197265625\n"
     ]
    },
    {
     "data": {
      "application/vnd.jupyter.widget-view+json": {
       "model_id": "",
       "version_major": 2,
       "version_minor": 0
      },
      "text/plain": [
       "Train:   0%|          | 0/462 [00:00<?, ?it/s]"
      ]
     },
     "metadata": {},
     "output_type": "display_data"
    },
    {
     "data": {
      "application/vnd.jupyter.widget-view+json": {
       "model_id": "",
       "version_major": 2,
       "version_minor": 0
      },
      "text/plain": [
       "Valid:   0%|          | 0/43 [00:00<?, ?it/s]"
      ]
     },
     "metadata": {},
     "output_type": "display_data"
    },
    {
     "name": "stdout",
     "output_type": "stream",
     "text": [
      "EPOCH:22/10000 train status: loss - 0.007247973699122667, score - 20366.72265625, valid status: loss - 0.0032936898060142994, score - 14754.2255859375\n"
     ]
    },
    {
     "data": {
      "application/vnd.jupyter.widget-view+json": {
       "model_id": "",
       "version_major": 2,
       "version_minor": 0
      },
      "text/plain": [
       "Train:   0%|          | 0/462 [00:00<?, ?it/s]"
      ]
     },
     "metadata": {},
     "output_type": "display_data"
    },
    {
     "data": {
      "application/vnd.jupyter.widget-view+json": {
       "model_id": "",
       "version_major": 2,
       "version_minor": 0
      },
      "text/plain": [
       "Valid:   0%|          | 0/43 [00:00<?, ?it/s]"
      ]
     },
     "metadata": {},
     "output_type": "display_data"
    },
    {
     "name": "stdout",
     "output_type": "stream",
     "text": [
      "EPOCH:23/10000 train status: loss - 0.008481917902827263, score - 20385.30859375, valid status: loss - 0.0032956921495497227, score - 14751.8935546875\n"
     ]
    },
    {
     "data": {
      "application/vnd.jupyter.widget-view+json": {
       "model_id": "",
       "version_major": 2,
       "version_minor": 0
      },
      "text/plain": [
       "Train:   0%|          | 0/462 [00:00<?, ?it/s]"
      ]
     },
     "metadata": {},
     "output_type": "display_data"
    },
    {
     "data": {
      "application/vnd.jupyter.widget-view+json": {
       "model_id": "",
       "version_major": 2,
       "version_minor": 0
      },
      "text/plain": [
       "Valid:   0%|          | 0/43 [00:00<?, ?it/s]"
      ]
     },
     "metadata": {},
     "output_type": "display_data"
    },
    {
     "name": "stdout",
     "output_type": "stream",
     "text": [
      "Epoch    25: reducing learning rate of group 0 to 1.0000e-07.\n",
      "EPOCH:24/10000 train status: loss - 0.007248668000102043, score - 20394.025390625, valid status: loss - 0.0032953822519630194, score - 14749.693359375\n"
     ]
    },
    {
     "data": {
      "application/vnd.jupyter.widget-view+json": {
       "model_id": "",
       "version_major": 2,
       "version_minor": 0
      },
      "text/plain": [
       "Train:   0%|          | 0/462 [00:00<?, ?it/s]"
      ]
     },
     "metadata": {},
     "output_type": "display_data"
    },
    {
     "data": {
      "application/vnd.jupyter.widget-view+json": {
       "model_id": "",
       "version_major": 2,
       "version_minor": 0
      },
      "text/plain": [
       "Valid:   0%|          | 0/43 [00:00<?, ?it/s]"
      ]
     },
     "metadata": {},
     "output_type": "display_data"
    },
    {
     "name": "stdout",
     "output_type": "stream",
     "text": [
      "EPOCH:25/10000 train status: loss - 0.007384386379271746, score - 20417.294921875, valid status: loss - 0.003297962713986635, score - 14738.3046875\n"
     ]
    },
    {
     "data": {
      "application/vnd.jupyter.widget-view+json": {
       "model_id": "",
       "version_major": 2,
       "version_minor": 0
      },
      "text/plain": [
       "Train:   0%|          | 0/462 [00:00<?, ?it/s]"
      ]
     },
     "metadata": {},
     "output_type": "display_data"
    },
    {
     "data": {
      "application/vnd.jupyter.widget-view+json": {
       "model_id": "",
       "version_major": 2,
       "version_minor": 0
      },
      "text/plain": [
       "Valid:   0%|          | 0/43 [00:00<?, ?it/s]"
      ]
     },
     "metadata": {},
     "output_type": "display_data"
    },
    {
     "name": "stdout",
     "output_type": "stream",
     "text": [
      "EPOCH:26/10000 train status: loss - 0.007247761357575655, score - 20402.08984375, valid status: loss - 0.0032983862329274416, score - 14736.7919921875\n"
     ]
    },
    {
     "data": {
      "application/vnd.jupyter.widget-view+json": {
       "model_id": "",
       "version_major": 2,
       "version_minor": 0
      },
      "text/plain": [
       "Train:   0%|          | 0/462 [00:00<?, ?it/s]"
      ]
     },
     "metadata": {},
     "output_type": "display_data"
    },
    {
     "data": {
      "application/vnd.jupyter.widget-view+json": {
       "model_id": "",
       "version_major": 2,
       "version_minor": 0
      },
      "text/plain": [
       "Valid:   0%|          | 0/43 [00:00<?, ?it/s]"
      ]
     },
     "metadata": {},
     "output_type": "display_data"
    },
    {
     "name": "stdout",
     "output_type": "stream",
     "text": [
      "EPOCH:27/10000 train status: loss - 0.007252170704305172, score - 20403.109375, valid status: loss - 0.003298630239441991, score - 14736.453125\n"
     ]
    },
    {
     "data": {
      "application/vnd.jupyter.widget-view+json": {
       "model_id": "",
       "version_major": 2,
       "version_minor": 0
      },
      "text/plain": [
       "Train:   0%|          | 0/462 [00:00<?, ?it/s]"
      ]
     },
     "metadata": {},
     "output_type": "display_data"
    },
    {
     "data": {
      "application/vnd.jupyter.widget-view+json": {
       "model_id": "",
       "version_major": 2,
       "version_minor": 0
      },
      "text/plain": [
       "Valid:   0%|          | 0/43 [00:00<?, ?it/s]"
      ]
     },
     "metadata": {},
     "output_type": "display_data"
    },
    {
     "name": "stdout",
     "output_type": "stream",
     "text": [
      "EPOCH:28/10000 train status: loss - 0.007248518988490105, score - 20398.294921875, valid status: loss - 0.0032992754131555557, score - 14735.2099609375\n"
     ]
    },
    {
     "data": {
      "application/vnd.jupyter.widget-view+json": {
       "model_id": "",
       "version_major": 2,
       "version_minor": 0
      },
      "text/plain": [
       "Train:   0%|          | 0/462 [00:00<?, ?it/s]"
      ]
     },
     "metadata": {},
     "output_type": "display_data"
    },
    {
     "data": {
      "application/vnd.jupyter.widget-view+json": {
       "model_id": "",
       "version_major": 2,
       "version_minor": 0
      },
      "text/plain": [
       "Valid:   0%|          | 0/43 [00:00<?, ?it/s]"
      ]
     },
     "metadata": {},
     "output_type": "display_data"
    },
    {
     "name": "stdout",
     "output_type": "stream",
     "text": [
      "EPOCH:29/10000 train status: loss - 0.007247230503708124, score - 20396.150390625, valid status: loss - 0.003299209289252758, score - 14735.435546875\n"
     ]
    },
    {
     "data": {
      "application/vnd.jupyter.widget-view+json": {
       "model_id": "",
       "version_major": 2,
       "version_minor": 0
      },
      "text/plain": [
       "Train:   0%|          | 0/462 [00:00<?, ?it/s]"
      ]
     },
     "metadata": {},
     "output_type": "display_data"
    },
    {
     "data": {
      "application/vnd.jupyter.widget-view+json": {
       "model_id": "",
       "version_major": 2,
       "version_minor": 0
      },
      "text/plain": [
       "Valid:   0%|          | 0/43 [00:00<?, ?it/s]"
      ]
     },
     "metadata": {},
     "output_type": "display_data"
    },
    {
     "name": "stdout",
     "output_type": "stream",
     "text": [
      "Epoch    31: reducing learning rate of group 0 to 1.0000e-08.\n",
      "EPOCH:30/10000 train status: loss - 0.008493720553815365, score - 20380.828125, valid status: loss - 0.003299238160252571, score - 14736.349609375\n"
     ]
    },
    {
     "data": {
      "application/vnd.jupyter.widget-view+json": {
       "model_id": "",
       "version_major": 2,
       "version_minor": 0
      },
      "text/plain": [
       "Train:   0%|          | 0/462 [00:00<?, ?it/s]"
      ]
     },
     "metadata": {},
     "output_type": "display_data"
    },
    {
     "data": {
      "application/vnd.jupyter.widget-view+json": {
       "model_id": "",
       "version_major": 2,
       "version_minor": 0
      },
      "text/plain": [
       "Valid:   0%|          | 0/43 [00:00<?, ?it/s]"
      ]
     },
     "metadata": {},
     "output_type": "display_data"
    },
    {
     "name": "stdout",
     "output_type": "stream",
     "text": [
      "EPOCH:31/10000 train status: loss - 0.007246993947774172, score - 20386.34765625, valid status: loss - 0.0032992514315992594, score - 14736.171875\n"
     ]
    },
    {
     "data": {
      "application/vnd.jupyter.widget-view+json": {
       "model_id": "",
       "version_major": 2,
       "version_minor": 0
      },
      "text/plain": [
       "Train:   0%|          | 0/462 [00:00<?, ?it/s]"
      ]
     },
     "metadata": {},
     "output_type": "display_data"
    },
    {
     "data": {
      "application/vnd.jupyter.widget-view+json": {
       "model_id": "",
       "version_major": 2,
       "version_minor": 0
      },
      "text/plain": [
       "Valid:   0%|          | 0/43 [00:00<?, ?it/s]"
      ]
     },
     "metadata": {},
     "output_type": "display_data"
    },
    {
     "name": "stdout",
     "output_type": "stream",
     "text": [
      "EPOCH:32/10000 train status: loss - 0.007248427253216505, score - 20398.31640625, valid status: loss - 0.003299257718026638, score - 14735.3779296875\n"
     ]
    },
    {
     "data": {
      "application/vnd.jupyter.widget-view+json": {
       "model_id": "",
       "version_major": 2,
       "version_minor": 0
      },
      "text/plain": [
       "Train:   0%|          | 0/462 [00:00<?, ?it/s]"
      ]
     },
     "metadata": {},
     "output_type": "display_data"
    },
    {
     "data": {
      "application/vnd.jupyter.widget-view+json": {
       "model_id": "",
       "version_major": 2,
       "version_minor": 0
      },
      "text/plain": [
       "Valid:   0%|          | 0/43 [00:00<?, ?it/s]"
      ]
     },
     "metadata": {},
     "output_type": "display_data"
    },
    {
     "name": "stdout",
     "output_type": "stream",
     "text": [
      "EPOCH:33/10000 train status: loss - 0.007246928755193949, score - 20382.0546875, valid status: loss - 0.0032992877531796694, score - 14735.08984375\n"
     ]
    },
    {
     "data": {
      "application/vnd.jupyter.widget-view+json": {
       "model_id": "",
       "version_major": 2,
       "version_minor": 0
      },
      "text/plain": [
       "Train:   0%|          | 0/462 [00:00<?, ?it/s]"
      ]
     },
     "metadata": {},
     "output_type": "display_data"
    },
    {
     "data": {
      "application/vnd.jupyter.widget-view+json": {
       "model_id": "",
       "version_major": 2,
       "version_minor": 0
      },
      "text/plain": [
       "Valid:   0%|          | 0/43 [00:00<?, ?it/s]"
      ]
     },
     "metadata": {},
     "output_type": "display_data"
    },
    {
     "name": "stdout",
     "output_type": "stream",
     "text": [
      "EPOCH:34/10000 train status: loss - 0.0072484975680708885, score - 20395.8984375, valid status: loss - 0.0032993326894938946, score - 14735.9296875\n"
     ]
    },
    {
     "data": {
      "application/vnd.jupyter.widget-view+json": {
       "model_id": "",
       "version_major": 2,
       "version_minor": 0
      },
      "text/plain": [
       "Train:   0%|          | 0/462 [00:00<?, ?it/s]"
      ]
     },
     "metadata": {},
     "output_type": "display_data"
    },
    {
     "data": {
      "application/vnd.jupyter.widget-view+json": {
       "model_id": "",
       "version_major": 2,
       "version_minor": 0
      },
      "text/plain": [
       "Valid:   0%|          | 0/43 [00:00<?, ?it/s]"
      ]
     },
     "metadata": {},
     "output_type": "display_data"
    },
    {
     "name": "stdout",
     "output_type": "stream",
     "text": [
      "EPOCH:35/10000 train status: loss - 0.007248696871101856, score - 20391.0078125, valid status: loss - 0.003299337811768055, score - 14735.5830078125\n"
     ]
    },
    {
     "data": {
      "application/vnd.jupyter.widget-view+json": {
       "model_id": "",
       "version_major": 2,
       "version_minor": 0
      },
      "text/plain": [
       "Train:   0%|          | 0/462 [00:00<?, ?it/s]"
      ]
     },
     "metadata": {},
     "output_type": "display_data"
    },
    {
     "data": {
      "application/vnd.jupyter.widget-view+json": {
       "model_id": "",
       "version_major": 2,
       "version_minor": 0
      },
      "text/plain": [
       "Valid:   0%|          | 0/43 [00:00<?, ?it/s]"
      ]
     },
     "metadata": {},
     "output_type": "display_data"
    },
    {
     "name": "stdout",
     "output_type": "stream",
     "text": [
      "EPOCH:36/10000 train status: loss - 0.007249387446790934, score - 20408.609375, valid status: loss - 0.0032993683125823736, score - 14735.1318359375\n"
     ]
    },
    {
     "data": {
      "application/vnd.jupyter.widget-view+json": {
       "model_id": "",
       "version_major": 2,
       "version_minor": 0
      },
      "text/plain": [
       "Train:   0%|          | 0/462 [00:00<?, ?it/s]"
      ]
     },
     "metadata": {},
     "output_type": "display_data"
    },
    {
     "data": {
      "application/vnd.jupyter.widget-view+json": {
       "model_id": "",
       "version_major": 2,
       "version_minor": 0
      },
      "text/plain": [
       "Valid:   0%|          | 0/43 [00:00<?, ?it/s]"
      ]
     },
     "metadata": {},
     "output_type": "display_data"
    },
    {
     "name": "stdout",
     "output_type": "stream",
     "text": [
      "EPOCH:37/10000 train status: loss - 0.0072494191117584705, score - 20393.6328125, valid status: loss - 0.0032993811182677746, score - 14735.154296875\n"
     ]
    },
    {
     "data": {
      "application/vnd.jupyter.widget-view+json": {
       "model_id": "",
       "version_major": 2,
       "version_minor": 0
      },
      "text/plain": [
       "Train:   0%|          | 0/462 [00:00<?, ?it/s]"
      ]
     },
     "metadata": {},
     "output_type": "display_data"
    },
    {
     "data": {
      "application/vnd.jupyter.widget-view+json": {
       "model_id": "",
       "version_major": 2,
       "version_minor": 0
      },
      "text/plain": [
       "Valid:   0%|          | 0/43 [00:00<?, ?it/s]"
      ]
     },
     "metadata": {},
     "output_type": "display_data"
    },
    {
     "name": "stdout",
     "output_type": "stream",
     "text": [
      "EPOCH:38/10000 train status: loss - 0.0072510638274252415, score - 20387.27734375, valid status: loss - 0.003299392992630601, score - 14734.83203125\n"
     ]
    },
    {
     "data": {
      "application/vnd.jupyter.widget-view+json": {
       "model_id": "",
       "version_major": 2,
       "version_minor": 0
      },
      "text/plain": [
       "Train:   0%|          | 0/462 [00:00<?, ?it/s]"
      ]
     },
     "metadata": {},
     "output_type": "display_data"
    },
    {
     "data": {
      "application/vnd.jupyter.widget-view+json": {
       "model_id": "",
       "version_major": 2,
       "version_minor": 0
      },
      "text/plain": [
       "Valid:   0%|          | 0/43 [00:00<?, ?it/s]"
      ]
     },
     "metadata": {},
     "output_type": "display_data"
    },
    {
     "name": "stdout",
     "output_type": "stream",
     "text": [
      "EPOCH:39/10000 train status: loss - 0.007247577421367168, score - 20385.283203125, valid status: loss - 0.0032993999775499105, score - 14734.8271484375\n"
     ]
    },
    {
     "data": {
      "application/vnd.jupyter.widget-view+json": {
       "model_id": "",
       "version_major": 2,
       "version_minor": 0
      },
      "text/plain": [
       "Train:   0%|          | 0/462 [00:00<?, ?it/s]"
      ]
     },
     "metadata": {},
     "output_type": "display_data"
    },
    {
     "data": {
      "application/vnd.jupyter.widget-view+json": {
       "model_id": "",
       "version_major": 2,
       "version_minor": 0
      },
      "text/plain": [
       "Valid:   0%|          | 0/43 [00:00<?, ?it/s]"
      ]
     },
     "metadata": {},
     "output_type": "display_data"
    },
    {
     "name": "stdout",
     "output_type": "stream",
     "text": [
      "EPOCH:40/10000 train status: loss - 0.007247263099998236, score - 20393.53125, valid status: loss - 0.003299396950751543, score - 14734.69140625\n"
     ]
    },
    {
     "data": {
      "application/vnd.jupyter.widget-view+json": {
       "model_id": "",
       "version_major": 2,
       "version_minor": 0
      },
      "text/plain": [
       "Train:   0%|          | 0/462 [00:00<?, ?it/s]"
      ]
     },
     "metadata": {},
     "output_type": "display_data"
    },
    {
     "data": {
      "application/vnd.jupyter.widget-view+json": {
       "model_id": "",
       "version_major": 2,
       "version_minor": 0
      },
      "text/plain": [
       "Valid:   0%|          | 0/43 [00:00<?, ?it/s]"
      ]
     },
     "metadata": {},
     "output_type": "display_data"
    },
    {
     "name": "stdout",
     "output_type": "stream",
     "text": [
      "EPOCH:41/10000 train status: loss - 0.007250632159411907, score - 20397.314453125, valid status: loss - 0.003299412317574024, score - 14734.7451171875\n"
     ]
    },
    {
     "data": {
      "application/vnd.jupyter.widget-view+json": {
       "model_id": "",
       "version_major": 2,
       "version_minor": 0
      },
      "text/plain": [
       "Train:   0%|          | 0/462 [00:00<?, ?it/s]"
      ]
     },
     "metadata": {},
     "output_type": "display_data"
    },
    {
     "data": {
      "application/vnd.jupyter.widget-view+json": {
       "model_id": "",
       "version_major": 2,
       "version_minor": 0
      },
      "text/plain": [
       "Valid:   0%|          | 0/43 [00:00<?, ?it/s]"
      ]
     },
     "metadata": {},
     "output_type": "display_data"
    },
    {
     "name": "stdout",
     "output_type": "stream",
     "text": [
      "EPOCH:42/10000 train status: loss - 0.008569448255002499, score - 20392.296875, valid status: loss - 0.0032993874046951532, score - 14734.609375\n"
     ]
    },
    {
     "data": {
      "application/vnd.jupyter.widget-view+json": {
       "model_id": "",
       "version_major": 2,
       "version_minor": 0
      },
      "text/plain": [
       "Train:   0%|          | 0/462 [00:00<?, ?it/s]"
      ]
     },
     "metadata": {},
     "output_type": "display_data"
    },
    {
     "data": {
      "application/vnd.jupyter.widget-view+json": {
       "model_id": "",
       "version_major": 2,
       "version_minor": 0
      },
      "text/plain": [
       "Valid:   0%|          | 0/43 [00:00<?, ?it/s]"
      ]
     },
     "metadata": {},
     "output_type": "display_data"
    },
    {
     "name": "stdout",
     "output_type": "stream",
     "text": [
      "EPOCH:43/10000 train status: loss - 0.008485167287290096, score - 20394.66015625, valid status: loss - 0.0032993992790579796, score - 14734.6181640625\n"
     ]
    },
    {
     "data": {
      "application/vnd.jupyter.widget-view+json": {
       "model_id": "",
       "version_major": 2,
       "version_minor": 0
      },
      "text/plain": [
       "Train:   0%|          | 0/462 [00:00<?, ?it/s]"
      ]
     },
     "metadata": {},
     "output_type": "display_data"
    },
    {
     "data": {
      "application/vnd.jupyter.widget-view+json": {
       "model_id": "",
       "version_major": 2,
       "version_minor": 0
      },
      "text/plain": [
       "Valid:   0%|          | 0/43 [00:00<?, ?it/s]"
      ]
     },
     "metadata": {},
     "output_type": "display_data"
    },
    {
     "name": "stdout",
     "output_type": "stream",
     "text": [
      "EPOCH:44/10000 train status: loss - 0.007251270581036806, score - 20393.357421875, valid status: loss - 0.003299396950751543, score - 14734.771484375\n"
     ]
    },
    {
     "data": {
      "application/vnd.jupyter.widget-view+json": {
       "model_id": "",
       "version_major": 2,
       "version_minor": 0
      },
      "text/plain": [
       "Train:   0%|          | 0/462 [00:00<?, ?it/s]"
      ]
     },
     "metadata": {},
     "output_type": "display_data"
    },
    {
     "data": {
      "application/vnd.jupyter.widget-view+json": {
       "model_id": "",
       "version_major": 2,
       "version_minor": 0
      },
      "text/plain": [
       "Valid:   0%|          | 0/43 [00:00<?, ?it/s]"
      ]
     },
     "metadata": {},
     "output_type": "display_data"
    },
    {
     "name": "stdout",
     "output_type": "stream",
     "text": [
      "EPOCH:45/10000 train status: loss - 0.007248463574796915, score - 20386.9140625, valid status: loss - 0.003299411851912737, score - 14734.912109375\n"
     ]
    },
    {
     "data": {
      "application/vnd.jupyter.widget-view+json": {
       "model_id": "",
       "version_major": 2,
       "version_minor": 0
      },
      "text/plain": [
       "Train:   0%|          | 0/462 [00:00<?, ?it/s]"
      ]
     },
     "metadata": {},
     "output_type": "display_data"
    },
    {
     "data": {
      "application/vnd.jupyter.widget-view+json": {
       "model_id": "",
       "version_major": 2,
       "version_minor": 0
      },
      "text/plain": [
       "Valid:   0%|          | 0/43 [00:00<?, ?it/s]"
      ]
     },
     "metadata": {},
     "output_type": "display_data"
    },
    {
     "name": "stdout",
     "output_type": "stream",
     "text": [
      "EPOCH:46/10000 train status: loss - 0.008479456417262554, score - 20385.31640625, valid status: loss - 0.003299387637525797, score - 14734.6416015625\n"
     ]
    },
    {
     "data": {
      "application/vnd.jupyter.widget-view+json": {
       "model_id": "",
       "version_major": 2,
       "version_minor": 0
      },
      "text/plain": [
       "Train:   0%|          | 0/462 [00:00<?, ?it/s]"
      ]
     },
     "metadata": {},
     "output_type": "display_data"
    },
    {
     "data": {
      "application/vnd.jupyter.widget-view+json": {
       "model_id": "",
       "version_major": 2,
       "version_minor": 0
      },
      "text/plain": [
       "Valid:   0%|          | 0/43 [00:00<?, ?it/s]"
      ]
     },
     "metadata": {},
     "output_type": "display_data"
    },
    {
     "name": "stdout",
     "output_type": "stream",
     "text": [
      "EPOCH:47/10000 train status: loss - 0.008511876687407494, score - 20390.83203125, valid status: loss - 0.003299400443211198, score - 14734.58203125\n"
     ]
    },
    {
     "data": {
      "application/vnd.jupyter.widget-view+json": {
       "model_id": "544253dd62d64f3a8ec04795e94ee638",
       "version_major": 2,
       "version_minor": 0
      },
      "text/plain": [
       "Train:   0%|          | 0/462 [00:00<?, ?it/s]"
      ]
     },
     "metadata": {},
     "output_type": "display_data"
    },
    {
     "data": {
      "application/vnd.jupyter.widget-view+json": {
       "model_id": "7a035af393d9421b8c700af1a05fe9bd",
       "version_major": 2,
       "version_minor": 0
      },
      "text/plain": [
       "Valid:   0%|          | 0/43 [00:00<?, ?it/s]"
      ]
     },
     "metadata": {},
     "output_type": "display_data"
    },
    {
     "ename": "KeyboardInterrupt",
     "evalue": "",
     "output_type": "error",
     "traceback": [
      "\u001b[1;31m---------------------------------------------------------------------------\u001b[0m",
      "\u001b[1;31mKeyboardInterrupt\u001b[0m                         Traceback (most recent call last)",
      "\u001b[1;32m<ipython-input-24-e41326f7c3f1>\u001b[0m in \u001b[0;36m<module>\u001b[1;34m\u001b[0m\n\u001b[0;32m     20\u001b[0m     \u001b[0mvalid_prog\u001b[0m \u001b[1;33m=\u001b[0m \u001b[0mtqdm\u001b[0m\u001b[1;33m(\u001b[0m\u001b[0mvalid_loader\u001b[0m\u001b[1;33m,\u001b[0m \u001b[0mposition\u001b[0m \u001b[1;33m=\u001b[0m \u001b[1;36m6\u001b[0m\u001b[1;33m,\u001b[0m \u001b[0mdesc\u001b[0m \u001b[1;33m=\u001b[0m \u001b[1;34m'Valid'\u001b[0m\u001b[1;33m,\u001b[0m \u001b[0mleave\u001b[0m \u001b[1;33m=\u001b[0m \u001b[1;32mFalse\u001b[0m\u001b[1;33m)\u001b[0m\u001b[1;33m\u001b[0m\u001b[1;33m\u001b[0m\u001b[0m\n\u001b[0;32m     21\u001b[0m \u001b[1;33m\u001b[0m\u001b[0m\n\u001b[1;32m---> 22\u001b[1;33m     \u001b[0mtrain_loss\u001b[0m\u001b[1;33m,\u001b[0m \u001b[0mtrain_meas\u001b[0m \u001b[1;33m=\u001b[0m \u001b[0mtrain\u001b[0m\u001b[1;33m(\u001b[0m\u001b[0mepoch\u001b[0m\u001b[1;33m,\u001b[0m \u001b[0mtrain_prog\u001b[0m\u001b[1;33m,\u001b[0m \u001b[0mtrain_status_log\u001b[0m\u001b[1;33m)\u001b[0m\u001b[1;33m\u001b[0m\u001b[1;33m\u001b[0m\u001b[0m\n\u001b[0m\u001b[0;32m     23\u001b[0m     \u001b[0mvalid_loss\u001b[0m\u001b[1;33m,\u001b[0m \u001b[0mvalid_meas\u001b[0m \u001b[1;33m=\u001b[0m \u001b[0mvalid\u001b[0m\u001b[1;33m(\u001b[0m\u001b[0mvalid_prog\u001b[0m\u001b[1;33m,\u001b[0m \u001b[0mvalid_status_log\u001b[0m\u001b[1;33m)\u001b[0m\u001b[1;33m\u001b[0m\u001b[1;33m\u001b[0m\u001b[0m\n\u001b[0;32m     24\u001b[0m \u001b[1;33m\u001b[0m\u001b[0m\n",
      "\u001b[1;32m<ipython-input-21-7c91a8ce1003>\u001b[0m in \u001b[0;36mtrain\u001b[1;34m(epoch, progress_log, status_log)\u001b[0m\n\u001b[0;32m     22\u001b[0m \u001b[1;33m\u001b[0m\u001b[0m\n\u001b[0;32m     23\u001b[0m         status_log.set_description_str(\n\u001b[1;32m---> 24\u001b[1;33m             f\"train status: loss - {loss_func(outputs, targets)} | {nn.SmoothL1Loss()(outputs, targets)}, score - {loss_func.gps_score(outputs, targets)}\")\n\u001b[0m\u001b[0;32m     25\u001b[0m \u001b[1;33m\u001b[0m\u001b[0m\n\u001b[0;32m     26\u001b[0m     \u001b[1;31m# 정확도 출력\u001b[0m\u001b[1;33m\u001b[0m\u001b[1;33m\u001b[0m\u001b[1;33m\u001b[0m\u001b[0m\n",
      "\u001b[1;32mD:\\Sangwons_Room\\00_SoftWares\\Anaconda\\envs\\torch\\lib\\site-packages\\torch\\nn\\modules\\module.py\u001b[0m in \u001b[0;36m_call_impl\u001b[1;34m(self, *input, **kwargs)\u001b[0m\n\u001b[0;32m    725\u001b[0m             \u001b[0mresult\u001b[0m \u001b[1;33m=\u001b[0m \u001b[0mself\u001b[0m\u001b[1;33m.\u001b[0m\u001b[0m_slow_forward\u001b[0m\u001b[1;33m(\u001b[0m\u001b[1;33m*\u001b[0m\u001b[0minput\u001b[0m\u001b[1;33m,\u001b[0m \u001b[1;33m**\u001b[0m\u001b[0mkwargs\u001b[0m\u001b[1;33m)\u001b[0m\u001b[1;33m\u001b[0m\u001b[1;33m\u001b[0m\u001b[0m\n\u001b[0;32m    726\u001b[0m         \u001b[1;32melse\u001b[0m\u001b[1;33m:\u001b[0m\u001b[1;33m\u001b[0m\u001b[1;33m\u001b[0m\u001b[0m\n\u001b[1;32m--> 727\u001b[1;33m             \u001b[0mresult\u001b[0m \u001b[1;33m=\u001b[0m \u001b[0mself\u001b[0m\u001b[1;33m.\u001b[0m\u001b[0mforward\u001b[0m\u001b[1;33m(\u001b[0m\u001b[1;33m*\u001b[0m\u001b[0minput\u001b[0m\u001b[1;33m,\u001b[0m \u001b[1;33m**\u001b[0m\u001b[0mkwargs\u001b[0m\u001b[1;33m)\u001b[0m\u001b[1;33m\u001b[0m\u001b[1;33m\u001b[0m\u001b[0m\n\u001b[0m\u001b[0;32m    728\u001b[0m         for hook in itertools.chain(\n\u001b[0;32m    729\u001b[0m                 \u001b[0m_global_forward_hooks\u001b[0m\u001b[1;33m.\u001b[0m\u001b[0mvalues\u001b[0m\u001b[1;33m(\u001b[0m\u001b[1;33m)\u001b[0m\u001b[1;33m,\u001b[0m\u001b[1;33m\u001b[0m\u001b[1;33m\u001b[0m\u001b[0m\n",
      "\u001b[1;32m<ipython-input-18-447b17075567>\u001b[0m in \u001b[0;36mforward\u001b[1;34m(self, predict, target)\u001b[0m\n\u001b[0;32m      8\u001b[0m     \u001b[1;32mdef\u001b[0m \u001b[0mforward\u001b[0m\u001b[1;33m(\u001b[0m\u001b[0mself\u001b[0m\u001b[1;33m,\u001b[0m \u001b[0mpredict\u001b[0m\u001b[1;33m:\u001b[0m\u001b[0mtorch\u001b[0m\u001b[1;33m.\u001b[0m\u001b[0mTensor\u001b[0m\u001b[1;33m,\u001b[0m \u001b[0mtarget\u001b[0m\u001b[1;33m:\u001b[0m\u001b[0mtorch\u001b[0m\u001b[1;33m.\u001b[0m\u001b[0mTensor\u001b[0m\u001b[1;33m)\u001b[0m\u001b[1;33m:\u001b[0m\u001b[1;33m\u001b[0m\u001b[1;33m\u001b[0m\u001b[0m\n\u001b[0;32m      9\u001b[0m         \u001b[0mloss\u001b[0m \u001b[1;33m=\u001b[0m \u001b[0mself\u001b[0m\u001b[1;33m.\u001b[0m\u001b[0mloss\u001b[0m\u001b[1;33m(\u001b[0m\u001b[0mpredict\u001b[0m\u001b[1;33m[\u001b[0m\u001b[1;33m:\u001b[0m\u001b[1;33m,\u001b[0m\u001b[1;33m:\u001b[0m\u001b[1;36m2\u001b[0m\u001b[1;33m]\u001b[0m\u001b[1;33m,\u001b[0m \u001b[0mtarget\u001b[0m\u001b[1;33m[\u001b[0m\u001b[1;33m:\u001b[0m\u001b[1;33m,\u001b[0m\u001b[1;33m:\u001b[0m\u001b[1;36m2\u001b[0m\u001b[1;33m]\u001b[0m\u001b[1;33m)\u001b[0m\u001b[1;33m\u001b[0m\u001b[1;33m\u001b[0m\u001b[0m\n\u001b[1;32m---> 10\u001b[1;33m         \u001b[1;32mif\u001b[0m \u001b[1;33m(\u001b[0m\u001b[0mloss\u001b[0m \u001b[1;33m<\u001b[0m\u001b[1;36m1e-4\u001b[0m\u001b[1;33m)\u001b[0m\u001b[1;33m:\u001b[0m\u001b[1;33m\u001b[0m\u001b[1;33m\u001b[0m\u001b[0m\n\u001b[0m\u001b[0;32m     11\u001b[0m             \u001b[0mloss\u001b[0m \u001b[1;33m=\u001b[0m \u001b[0mself\u001b[0m\u001b[1;33m.\u001b[0m\u001b[0mgps_loss\u001b[0m\u001b[1;33m(\u001b[0m\u001b[0mpredict\u001b[0m\u001b[1;33m,\u001b[0m \u001b[0mtarget\u001b[0m\u001b[1;33m)\u001b[0m\u001b[1;33m\u001b[0m\u001b[1;33m\u001b[0m\u001b[0m\n\u001b[0;32m     12\u001b[0m         \u001b[1;32mreturn\u001b[0m \u001b[0mloss\u001b[0m\u001b[1;33m\u001b[0m\u001b[1;33m\u001b[0m\u001b[0m\n",
      "\u001b[1;31mKeyboardInterrupt\u001b[0m: "
     ]
    }
   ],
   "source": [
    "train_loss_list = []\n",
    "train_meas_list = []\n",
    "valid_loss_list = []\n",
    "valid_meas_list = []\n",
    "\n",
    "patience_count = 0\n",
    "min_valid_meas = np.inf\n",
    "checkpoint_name = \"\"\n",
    "\n",
    "epoch_prog = tqdm(range(hyper_parameters['nepochs']), position = 0, desc = \"EPOCH\")\n",
    "epoch_status_log = tqdm(total=0, position = 2, bar_format='{desc}')\n",
    "train_status_log = tqdm(total=0, position = 3, bar_format='{desc}')\n",
    "valid_status_log = tqdm(total=0, position = 4, bar_format='{desc}')\n",
    "\n",
    "if not os.path.isdir(f\"./models/{hyper_parameters['notebookName']}/model-{num_files}_checkpoint/\"):\n",
    "    os.mkdir(f\"./models/{hyper_parameters['notebookName']}/model-{num_files}_checkpoint/\")\n",
    "    \n",
    "for epoch in epoch_prog:\n",
    "    train_prog = tqdm(train_loader, position = 5, desc = 'Train', leave = False)\n",
    "    valid_prog = tqdm(valid_loader, position = 6, desc = 'Valid', leave = False)\n",
    "\n",
    "    train_loss, train_meas = train(epoch, train_prog, train_status_log)\n",
    "    valid_loss, valid_meas = valid(valid_prog, valid_status_log)\n",
    "    \n",
    "    scheduler.step(valid_meas)\n",
    "    if valid_meas < min_valid_meas:\n",
    "        min_valid_meas = valid_meas\n",
    "        checkpoint_name = f\"./models/{hyper_parameters['notebookName']}/model-{num_files}_checkpoint/model-{epoch}-{min_valid_meas}.pth\"\n",
    "        torch.save(model.state_dict(), checkpoint_name)\n",
    "    else:\n",
    "        patience_count+=1\n",
    "        if(patience_count > hyper_parameters['max_patience_count']):\n",
    "            break\n",
    "    \n",
    "    train_loss_list.append(train_loss)\n",
    "    train_meas_list.append(train_meas)\n",
    "    valid_loss_list.append(valid_loss)\n",
    "    valid_meas_list.append(valid_meas)\n",
    "    \n",
    "    status = f\"EPOCH:{epoch}/{hyper_parameters['nepochs']} train status: loss - {train_loss}, score - {train_meas}, valid status: loss - {valid_loss}, score - {valid_meas}\"\n",
    "    epoch_status_log.set_description_str(status)\n",
    "\n",
    "    print(status)\n",
    "\n",
    "history = dict()\n",
    "history['train_loss'] = train_loss_list\n",
    "history['train_meas'] = train_meas_list\n",
    "history['valid_loss'] = valid_loss_list\n",
    "history['valid_meas'] = valid_meas_list\n"
   ]
  },
  {
   "cell_type": "code",
   "execution_count": 26,
   "metadata": {
    "ExecuteTime": {
     "end_time": "2021-07-04T23:39:30.443401Z",
     "start_time": "2021-07-04T23:39:30.263401Z"
    }
   },
   "outputs": [
    {
     "data": {
      "text/plain": [
       "Text(0, 0.5, 'meas')"
      ]
     },
     "execution_count": 26,
     "metadata": {},
     "output_type": "execute_result"
    },
    {
     "data": {
      "image/png": "[encoded data removed]",
      "text/plain": [
       "<Figure size 1152x432 with 2 Axes>"
      ]
     },
     "metadata": {
      "needs_background": "light"
     },
     "output_type": "display_data"
    }
   ],
   "source": [
    "\n",
    "plt.figure(figsize = (16,6))\n",
    "plt.subplot(2,1,1)\n",
    "plt.plot(history['train_loss'], label = 'train')\n",
    "plt.plot(history['valid_loss'], label = 'valid')\n",
    "plt.ylabel('loss')\n",
    "\n",
    "plt.subplot(2,1,2)\n",
    "plt.plot(history['train_meas'], label = 'train')\n",
    "plt.plot(history['valid_meas'], label = 'valid')\n",
    "plt.ylabel('meas')"
   ]
  },
  {
   "cell_type": "markdown",
   "metadata": {},
   "source": [
    "#  Output"
   ]
  },
  {
   "cell_type": "code",
   "execution_count": 27,
   "metadata": {
    "ExecuteTime": {
     "end_time": "2021-07-04T23:39:39.264772Z",
     "start_time": "2021-07-04T23:39:39.164773Z"
    }
   },
   "outputs": [
    {
     "name": "stdout",
     "output_type": "stream",
     "text": [
      "(91486, 4)\n"
     ]
    },
    {
     "data": {
      "text/html": [
       "<div>\n",
       "<style scoped>\n",
       "    .dataframe tbody tr th:only-of-type {\n",
       "        vertical-align: middle;\n",
       "    }\n",
       "\n",
       "    .dataframe tbody tr th {\n",
       "        vertical-align: top;\n",
       "    }\n",
       "\n",
       "    .dataframe thead th {\n",
       "        text-align: right;\n",
       "    }\n",
       "</style>\n",
       "<table border=\"1\" class=\"dataframe\">\n",
       "  <thead>\n",
       "    <tr style=\"text-align: right;\">\n",
       "      <th></th>\n",
       "      <th>phone</th>\n",
       "      <th>millisSinceGpsEpoch</th>\n",
       "      <th>latDeg</th>\n",
       "      <th>lngDeg</th>\n",
       "    </tr>\n",
       "  </thead>\n",
       "  <tbody>\n",
       "    <tr>\n",
       "      <th>0</th>\n",
       "      <td>2020-05-15-US-MTV-1_Pixel4</td>\n",
       "      <td>1273608785432</td>\n",
       "      <td>37.904611</td>\n",
       "      <td>-86.481078</td>\n",
       "    </tr>\n",
       "    <tr>\n",
       "      <th>1</th>\n",
       "      <td>2020-05-15-US-MTV-1_Pixel4</td>\n",
       "      <td>1273608786432</td>\n",
       "      <td>37.904611</td>\n",
       "      <td>-86.481078</td>\n",
       "    </tr>\n",
       "    <tr>\n",
       "      <th>2</th>\n",
       "      <td>2020-05-15-US-MTV-1_Pixel4</td>\n",
       "      <td>1273608787432</td>\n",
       "      <td>37.904611</td>\n",
       "      <td>-86.481078</td>\n",
       "    </tr>\n",
       "    <tr>\n",
       "      <th>3</th>\n",
       "      <td>2020-05-15-US-MTV-1_Pixel4</td>\n",
       "      <td>1273608788432</td>\n",
       "      <td>37.904611</td>\n",
       "      <td>-86.481078</td>\n",
       "    </tr>\n",
       "    <tr>\n",
       "      <th>4</th>\n",
       "      <td>2020-05-15-US-MTV-1_Pixel4</td>\n",
       "      <td>1273608789432</td>\n",
       "      <td>37.904611</td>\n",
       "      <td>-86.481078</td>\n",
       "    </tr>\n",
       "  </tbody>\n",
       "</table>\n",
       "</div>"
      ],
      "text/plain": [
       "                        phone  millisSinceGpsEpoch     latDeg     lngDeg\n",
       "0  2020-05-15-US-MTV-1_Pixel4        1273608785432  37.904611 -86.481078\n",
       "1  2020-05-15-US-MTV-1_Pixel4        1273608786432  37.904611 -86.481078\n",
       "2  2020-05-15-US-MTV-1_Pixel4        1273608787432  37.904611 -86.481078\n",
       "3  2020-05-15-US-MTV-1_Pixel4        1273608788432  37.904611 -86.481078\n",
       "4  2020-05-15-US-MTV-1_Pixel4        1273608789432  37.904611 -86.481078"
      ]
     },
     "execution_count": 27,
     "metadata": {},
     "output_type": "execute_result"
    }
   ],
   "source": [
    "# Load submission sample\n",
    "submission = pd.read_csv(str(data_dir / \"sample_submission.csv\"))\n",
    "print(submission.shape)\n",
    "submission.head()"
   ]
  },
  {
   "cell_type": "code",
   "execution_count": 28,
   "metadata": {
    "ExecuteTime": {
     "end_time": "2021-07-04T23:39:40.570266Z",
     "start_time": "2021-07-04T23:39:40.496268Z"
    }
   },
   "outputs": [],
   "source": [
    "model.load_state_dict(torch.load(checkpoint_name))\n",
    "torch.save(model.state_dict(), f\"./models/{hyper_parameters['notebookName']}/model-{num_files}_checkpoint/model-{epoch}-{min_valid_meas}.pth\")"
   ]
  },
  {
   "cell_type": "code",
   "execution_count": 29,
   "metadata": {
    "ExecuteTime": {
     "end_time": "2021-07-04T23:40:09.017230Z",
     "start_time": "2021-07-04T23:39:56.399279Z"
    }
   },
   "outputs": [
    {
     "data": {
      "application/vnd.jupyter.widget-view+json": {
       "model_id": "8165d81f62fc493b847c4c3f3d0ed1b2",
       "version_major": 2,
       "version_minor": 0
      },
      "text/plain": [
       "  0%|          | 0/358 [00:00<?, ?it/s]"
      ]
     },
     "metadata": {},
     "output_type": "display_data"
    },
    {
     "name": "stdout",
     "output_type": "stream",
     "text": [
      "(91486, 5)\n"
     ]
    },
    {
     "data": {
      "text/html": [
       "<div>\n",
       "<style scoped>\n",
       "    .dataframe tbody tr th:only-of-type {\n",
       "        vertical-align: middle;\n",
       "    }\n",
       "\n",
       "    .dataframe tbody tr th {\n",
       "        vertical-align: top;\n",
       "    }\n",
       "\n",
       "    .dataframe thead th {\n",
       "        text-align: right;\n",
       "    }\n",
       "</style>\n",
       "<table border=\"1\" class=\"dataframe\">\n",
       "  <thead>\n",
       "    <tr style=\"text-align: right;\">\n",
       "      <th></th>\n",
       "      <th>phone</th>\n",
       "      <th>millisSinceGpsEpoch</th>\n",
       "      <th>latDeg</th>\n",
       "      <th>lngDeg</th>\n",
       "      <th>heightAboveWgs84EllipsoidM</th>\n",
       "    </tr>\n",
       "  </thead>\n",
       "  <tbody>\n",
       "    <tr>\n",
       "      <th>0</th>\n",
       "      <td>2020-05-15-US-MTV-1_Pixel4XL</td>\n",
       "      <td>1273608752446</td>\n",
       "      <td>37.444633</td>\n",
       "      <td>-122.209610</td>\n",
       "      <td>0.634710</td>\n",
       "    </tr>\n",
       "    <tr>\n",
       "      <th>1</th>\n",
       "      <td>2020-05-15-US-MTV-1_Pixel4XL</td>\n",
       "      <td>1273608753446</td>\n",
       "      <td>37.444725</td>\n",
       "      <td>-122.209595</td>\n",
       "      <td>0.634708</td>\n",
       "    </tr>\n",
       "    <tr>\n",
       "      <th>2</th>\n",
       "      <td>2020-05-15-US-MTV-1_Pixel4XL</td>\n",
       "      <td>1273608754446</td>\n",
       "      <td>37.444820</td>\n",
       "      <td>-122.209572</td>\n",
       "      <td>0.634706</td>\n",
       "    </tr>\n",
       "    <tr>\n",
       "      <th>3</th>\n",
       "      <td>2020-05-15-US-MTV-1_Pixel4XL</td>\n",
       "      <td>1273608755446</td>\n",
       "      <td>37.444771</td>\n",
       "      <td>-122.209595</td>\n",
       "      <td>0.634706</td>\n",
       "    </tr>\n",
       "    <tr>\n",
       "      <th>4</th>\n",
       "      <td>2020-05-15-US-MTV-1_Pixel4XL</td>\n",
       "      <td>1273608756446</td>\n",
       "      <td>37.444691</td>\n",
       "      <td>-122.209595</td>\n",
       "      <td>0.634708</td>\n",
       "    </tr>\n",
       "  </tbody>\n",
       "</table>\n",
       "</div>"
      ],
      "text/plain": [
       "                          phone  millisSinceGpsEpoch     latDeg      lngDeg  \\\n",
       "0  2020-05-15-US-MTV-1_Pixel4XL        1273608752446  37.444633 -122.209610   \n",
       "1  2020-05-15-US-MTV-1_Pixel4XL        1273608753446  37.444725 -122.209595   \n",
       "2  2020-05-15-US-MTV-1_Pixel4XL        1273608754446  37.444820 -122.209572   \n",
       "3  2020-05-15-US-MTV-1_Pixel4XL        1273608755446  37.444771 -122.209595   \n",
       "4  2020-05-15-US-MTV-1_Pixel4XL        1273608756446  37.444691 -122.209595   \n",
       "\n",
       "   heightAboveWgs84EllipsoidM  \n",
       "0                    0.634710  \n",
       "1                    0.634708  \n",
       "2                    0.634706  \n",
       "3                    0.634706  \n",
       "4                    0.634708  "
      ]
     },
     "execution_count": 29,
     "metadata": {},
     "output_type": "execute_result"
    }
   ],
   "source": [
    "predict = test(test_loader)\n",
    "print(predict.shape)\n",
    "predict.head()"
   ]
  },
  {
   "cell_type": "code",
   "execution_count": 30,
   "metadata": {
    "ExecuteTime": {
     "end_time": "2021-07-04T23:40:18.482136Z",
     "start_time": "2021-07-04T23:40:17.689117Z"
    },
    "scrolled": true
   },
   "outputs": [
    {
     "name": "stdout",
     "output_type": "stream",
     "text": [
      "(91486, 4)\n"
     ]
    },
    {
     "data": {
      "text/html": [
       "<div>\n",
       "<style scoped>\n",
       "    .dataframe tbody tr th:only-of-type {\n",
       "        vertical-align: middle;\n",
       "    }\n",
       "\n",
       "    .dataframe tbody tr th {\n",
       "        vertical-align: top;\n",
       "    }\n",
       "\n",
       "    .dataframe thead th {\n",
       "        text-align: right;\n",
       "    }\n",
       "</style>\n",
       "<table border=\"1\" class=\"dataframe\">\n",
       "  <thead>\n",
       "    <tr style=\"text-align: right;\">\n",
       "      <th></th>\n",
       "      <th>phone</th>\n",
       "      <th>millisSinceGpsEpoch</th>\n",
       "      <th>latDeg</th>\n",
       "      <th>lngDeg</th>\n",
       "    </tr>\n",
       "  </thead>\n",
       "  <tbody>\n",
       "    <tr>\n",
       "      <th>0</th>\n",
       "      <td>2020-05-15-US-MTV-1_Pixel4</td>\n",
       "      <td>1273608785432</td>\n",
       "      <td>37.439213</td>\n",
       "      <td>-122.210175</td>\n",
       "    </tr>\n",
       "    <tr>\n",
       "      <th>1</th>\n",
       "      <td>2020-05-15-US-MTV-1_Pixel4</td>\n",
       "      <td>1273608786432</td>\n",
       "      <td>37.439316</td>\n",
       "      <td>-122.210175</td>\n",
       "    </tr>\n",
       "    <tr>\n",
       "      <th>2</th>\n",
       "      <td>2020-05-15-US-MTV-1_Pixel4</td>\n",
       "      <td>1273608787432</td>\n",
       "      <td>37.439434</td>\n",
       "      <td>-122.210159</td>\n",
       "    </tr>\n",
       "    <tr>\n",
       "      <th>3</th>\n",
       "      <td>2020-05-15-US-MTV-1_Pixel4</td>\n",
       "      <td>1273608788432</td>\n",
       "      <td>37.439674</td>\n",
       "      <td>-122.210129</td>\n",
       "    </tr>\n",
       "    <tr>\n",
       "      <th>4</th>\n",
       "      <td>2020-05-15-US-MTV-1_Pixel4</td>\n",
       "      <td>1273608789432</td>\n",
       "      <td>37.439857</td>\n",
       "      <td>-122.210106</td>\n",
       "    </tr>\n",
       "  </tbody>\n",
       "</table>\n",
       "</div>"
      ],
      "text/plain": [
       "                        phone  millisSinceGpsEpoch     latDeg      lngDeg\n",
       "0  2020-05-15-US-MTV-1_Pixel4        1273608785432  37.439213 -122.210175\n",
       "1  2020-05-15-US-MTV-1_Pixel4        1273608786432  37.439316 -122.210175\n",
       "2  2020-05-15-US-MTV-1_Pixel4        1273608787432  37.439434 -122.210159\n",
       "3  2020-05-15-US-MTV-1_Pixel4        1273608788432  37.439674 -122.210129\n",
       "4  2020-05-15-US-MTV-1_Pixel4        1273608789432  37.439857 -122.210106"
      ]
     },
     "execution_count": 30,
     "metadata": {},
     "output_type": "execute_result"
    }
   ],
   "source": [
    "submission = submission[['phone', 'millisSinceGpsEpoch']].merge(predict[['phone', 'millisSinceGpsEpoch', 'latDeg', 'lngDeg']]\n",
    "                                                                , on = ['phone', 'millisSinceGpsEpoch'])\n",
    "print(submission.shape)\n",
    "submission.head()"
   ]
  },
  {
   "cell_type": "code",
   "execution_count": 31,
   "metadata": {
    "ExecuteTime": {
     "end_time": "2021-07-04T23:40:27.588221Z",
     "start_time": "2021-07-04T23:40:27.140222Z"
    }
   },
   "outputs": [],
   "source": [
    "submission.to_csv(f\"./models/{hyper_parameters['notebookName']}/result-{num_files}esult.csv\", index = False)\n",
    "pd.DataFrame([]).to_csv(PATH / f\"{num_files}\")"
   ]
  },
  {
   "cell_type": "code",
   "execution_count": null,
   "metadata": {},
   "outputs": [],
   "source": []
  },
  {
   "cell_type": "code",
   "execution_count": null,
   "metadata": {},
   "outputs": [],
   "source": []
  },
  {
   "cell_type": "code",
   "execution_count": null,
   "metadata": {},
   "outputs": [],
   "source": []
  },
  {
   "cell_type": "code",
   "execution_count": null,
   "metadata": {},
   "outputs": [],
   "source": []
  },
  {
   "cell_type": "code",
   "execution_count": null,
   "metadata": {},
   "outputs": [],
   "source": []
  }
 ],
 "metadata": {
  "hide_input": false,
  "kernelspec": {
   "display_name": "torch",
   "language": "python",
   "name": "torch"
  },
  "language_info": {
   "codemirror_mode": {
    "name": "ipython",
    "version": 3
   },
   "file_extension": ".py",
   "mimetype": "text/x-python",
   "name": "python",
   "nbconvert_exporter": "python",
   "pygments_lexer": "ipython3",
   "version": "3.6.12"
  },
  "latex_envs": {
   "LaTeX_envs_menu_present": true,
   "autoclose": false,
   "autocomplete": true,
   "bibliofile": "biblio.bib",
   "cite_by": "apalike",
   "current_citInitial": 1,
   "eqLabelWithNumbers": true,
   "eqNumInitial": 1,
   "hotkeys": {
    "equation": "Ctrl-E",
    "itemize": "Ctrl-I"
   },
   "labels_anchors": false,
   "latex_user_defs": false,
   "report_style_numbering": false,
   "user_envs_cfg": false
  },
  "toc": {
   "base_numbering": 1,
   "nav_menu": {},
   "number_sections": true,
   "sideBar": true,
   "skip_h1_title": false,
   "title_cell": "Table of Contents",
   "title_sidebar": "Contents",
   "toc_cell": false,
   "toc_position": {
    "height": "calc(100% - 180px)",
    "left": "10px",
    "top": "150px",
    "width": "384px"
   },
   "toc_section_display": true,
   "toc_window_display": true
  },
  "varInspector": {
   "cols": {
    "lenName": 16,
    "lenType": 16,
    "lenVar": 40
   },
   "kernels_config": {
    "python": {
     "delete_cmd_postfix": "",
     "delete_cmd_prefix": "del ",
     "library": "var_list.py",
     "varRefreshCmd": "print(var_dic_list())"
    },
    "r": {
     "delete_cmd_postfix": ") ",
     "delete_cmd_prefix": "rm(",
     "library": "var_list.r",
     "varRefreshCmd": "cat(var_dic_list()) "
    }
   },
   "types_to_exclude": [
    "module",
    "function",
    "builtin_function_or_method",
    "instance",
    "_Feature"
   ],
   "window_display": false
  }
 },
 "nbformat": 4,
 "nbformat_minor": 4
}
