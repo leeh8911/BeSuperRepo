{
 "cells": [
  {
   "cell_type": "markdown",
   "metadata": {},
   "source": [
    "# Reference\n",
    "1. https://www.kaggle.com/rohanrao/tutorial-on-reading-large-datasets\n",
    "1. https://www.kaggle.com/asobod11138/gsdc-neuralnet-keras (multi-threading)"
   ]
  },
  {
   "cell_type": "markdown",
   "metadata": {},
   "source": [
    "# Import Libraries"
   ]
  },
  {
   "cell_type": "code",
   "execution_count": 1,
   "metadata": {
    "ExecuteTime": {
     "end_time": "2021-07-04T21:41:52.002963Z",
     "start_time": "2021-07-04T21:41:44.643302Z"
    }
   },
   "outputs": [],
   "source": [
    "import numpy as np\n",
    "import pandas as pd\n",
    "from glob import glob\n",
    "import os\n",
    "import matplotlib.pyplot as plt\n",
    "from tqdm.notebook import tqdm\n",
    "from pathlib import Path\n",
    "import plotly.express as px\n",
    "from multiprocessing import Pool\n",
    "import multiprocessing as multi\n",
    "import gc\n",
    "\n",
    "from utils.gsdc_parser import ground_truth_file_open, derived_file_open, gnsslog_file_open, gnss_log_to_dataframes\n",
    "\n",
    "split_charater = \"\\\\\""
   ]
  },
  {
   "cell_type": "markdown",
   "metadata": {},
   "source": [
    "# Help Function"
   ]
  },
  {
   "cell_type": "code",
   "execution_count": 2,
   "metadata": {
    "ExecuteTime": {
     "end_time": "2021-07-04T21:41:52.017984Z",
     "start_time": "2021-07-04T21:41:52.003974Z"
    }
   },
   "outputs": [],
   "source": [
    "def UTC2GpsEpoch(df):\n",
    "    '''UTC to GpsEpoch\n",
    "    \n",
    "    utcTimeMillis         : UTC epoch (1970/1/1)\n",
    "    millisSinceGpsEpoch   : GPS epoch(1980/1/6 midnight 12:00 UTC)\n",
    "    \n",
    "    Ref: https://www.kaggle.com/c/google-smartphone-decimeter-challenge/discussion/239187\n",
    "    '''\n",
    "    dt_offset = pd.to_datetime('1980-01-06 00:00:00') \n",
    "    dt_offset_in_ms = int(dt_offset.value / 1e6)\n",
    "    df['millisSinceGpsEpoch'] = df['utcTimeMillis'] - dt_offset_in_ms + 18000\n",
    "    df['millisSinceGpsEpoch'] = df['millisSinceGpsEpoch'].astype('int64')\n",
    "    return df"
   ]
  },
  {
   "cell_type": "markdown",
   "metadata": {},
   "source": [
    "# Set Path and Load Dataset"
   ]
  },
  {
   "cell_type": "code",
   "execution_count": 3,
   "metadata": {
    "ExecuteTime": {
     "end_time": "2021-07-04T21:41:52.348494Z",
     "start_time": "2021-07-04T21:41:52.019983Z"
    }
   },
   "outputs": [],
   "source": [
    "PATH = Path(\"../input/google-smartphone-decimeter-challenge\")\n",
    "train_df = pd.read_csv(PATH / \"baseline_locations_train.csv\")\n",
    "test_df = pd.read_csv(PATH / \"baseline_locations_test.csv\")"
   ]
  },
  {
   "cell_type": "code",
   "execution_count": 4,
   "metadata": {
    "ExecuteTime": {
     "end_time": "2021-07-04T21:41:52.408188Z",
     "start_time": "2021-07-04T21:41:52.349495Z"
    }
   },
   "outputs": [
    {
     "name": "stdout",
     "output_type": "stream",
     "text": [
      "(131342, 7)\n"
     ]
    },
    {
     "data": {
      "text/html": [
       "<div>\n",
       "<style scoped>\n",
       "    .dataframe tbody tr th:only-of-type {\n",
       "        vertical-align: middle;\n",
       "    }\n",
       "\n",
       "    .dataframe tbody tr th {\n",
       "        vertical-align: top;\n",
       "    }\n",
       "\n",
       "    .dataframe thead th {\n",
       "        text-align: right;\n",
       "    }\n",
       "</style>\n",
       "<table border=\"1\" class=\"dataframe\">\n",
       "  <thead>\n",
       "    <tr style=\"text-align: right;\">\n",
       "      <th></th>\n",
       "      <th>collectionName</th>\n",
       "      <th>phoneName</th>\n",
       "      <th>millisSinceGpsEpoch</th>\n",
       "      <th>latDeg</th>\n",
       "      <th>lngDeg</th>\n",
       "      <th>heightAboveWgs84EllipsoidM</th>\n",
       "      <th>phone</th>\n",
       "    </tr>\n",
       "  </thead>\n",
       "  <tbody>\n",
       "    <tr>\n",
       "      <th>0</th>\n",
       "      <td>2020-05-14-US-MTV-1</td>\n",
       "      <td>Pixel4</td>\n",
       "      <td>1273529463442</td>\n",
       "      <td>37.423575</td>\n",
       "      <td>-122.094091</td>\n",
       "      <td>-34.06</td>\n",
       "      <td>2020-05-14-US-MTV-1_Pixel4</td>\n",
       "    </tr>\n",
       "    <tr>\n",
       "      <th>1</th>\n",
       "      <td>2020-05-14-US-MTV-1</td>\n",
       "      <td>Pixel4</td>\n",
       "      <td>1273529464442</td>\n",
       "      <td>37.423578</td>\n",
       "      <td>-122.094101</td>\n",
       "      <td>-33.29</td>\n",
       "      <td>2020-05-14-US-MTV-1_Pixel4</td>\n",
       "    </tr>\n",
       "    <tr>\n",
       "      <th>2</th>\n",
       "      <td>2020-05-14-US-MTV-1</td>\n",
       "      <td>Pixel4</td>\n",
       "      <td>1273529465442</td>\n",
       "      <td>37.423573</td>\n",
       "      <td>-122.094111</td>\n",
       "      <td>-30.99</td>\n",
       "      <td>2020-05-14-US-MTV-1_Pixel4</td>\n",
       "    </tr>\n",
       "    <tr>\n",
       "      <th>3</th>\n",
       "      <td>2020-05-14-US-MTV-1</td>\n",
       "      <td>Pixel4</td>\n",
       "      <td>1273529466442</td>\n",
       "      <td>37.423583</td>\n",
       "      <td>-122.094121</td>\n",
       "      <td>-32.83</td>\n",
       "      <td>2020-05-14-US-MTV-1_Pixel4</td>\n",
       "    </tr>\n",
       "    <tr>\n",
       "      <th>4</th>\n",
       "      <td>2020-05-14-US-MTV-1</td>\n",
       "      <td>Pixel4</td>\n",
       "      <td>1273529467442</td>\n",
       "      <td>37.423579</td>\n",
       "      <td>-122.094114</td>\n",
       "      <td>-34.49</td>\n",
       "      <td>2020-05-14-US-MTV-1_Pixel4</td>\n",
       "    </tr>\n",
       "  </tbody>\n",
       "</table>\n",
       "</div>"
      ],
      "text/plain": [
       "        collectionName phoneName  millisSinceGpsEpoch     latDeg      lngDeg  \\\n",
       "0  2020-05-14-US-MTV-1    Pixel4        1273529463442  37.423575 -122.094091   \n",
       "1  2020-05-14-US-MTV-1    Pixel4        1273529464442  37.423578 -122.094101   \n",
       "2  2020-05-14-US-MTV-1    Pixel4        1273529465442  37.423573 -122.094111   \n",
       "3  2020-05-14-US-MTV-1    Pixel4        1273529466442  37.423583 -122.094121   \n",
       "4  2020-05-14-US-MTV-1    Pixel4        1273529467442  37.423579 -122.094114   \n",
       "\n",
       "   heightAboveWgs84EllipsoidM                       phone  \n",
       "0                      -34.06  2020-05-14-US-MTV-1_Pixel4  \n",
       "1                      -33.29  2020-05-14-US-MTV-1_Pixel4  \n",
       "2                      -30.99  2020-05-14-US-MTV-1_Pixel4  \n",
       "3                      -32.83  2020-05-14-US-MTV-1_Pixel4  \n",
       "4                      -34.49  2020-05-14-US-MTV-1_Pixel4  "
      ]
     },
     "execution_count": 4,
     "metadata": {},
     "output_type": "execute_result"
    }
   ],
   "source": [
    "print(train_df.shape)\n",
    "train_df.head()"
   ]
  },
  {
   "cell_type": "code",
   "execution_count": 5,
   "metadata": {
    "ExecuteTime": {
     "end_time": "2021-07-04T21:41:52.423189Z",
     "start_time": "2021-07-04T21:41:52.409189Z"
    }
   },
   "outputs": [
    {
     "name": "stdout",
     "output_type": "stream",
     "text": [
      "(91486, 7)\n"
     ]
    },
    {
     "data": {
      "text/html": [
       "<div>\n",
       "<style scoped>\n",
       "    .dataframe tbody tr th:only-of-type {\n",
       "        vertical-align: middle;\n",
       "    }\n",
       "\n",
       "    .dataframe tbody tr th {\n",
       "        vertical-align: top;\n",
       "    }\n",
       "\n",
       "    .dataframe thead th {\n",
       "        text-align: right;\n",
       "    }\n",
       "</style>\n",
       "<table border=\"1\" class=\"dataframe\">\n",
       "  <thead>\n",
       "    <tr style=\"text-align: right;\">\n",
       "      <th></th>\n",
       "      <th>collectionName</th>\n",
       "      <th>phoneName</th>\n",
       "      <th>millisSinceGpsEpoch</th>\n",
       "      <th>latDeg</th>\n",
       "      <th>lngDeg</th>\n",
       "      <th>heightAboveWgs84EllipsoidM</th>\n",
       "      <th>phone</th>\n",
       "    </tr>\n",
       "  </thead>\n",
       "  <tbody>\n",
       "    <tr>\n",
       "      <th>0</th>\n",
       "      <td>2020-05-15-US-MTV-1</td>\n",
       "      <td>Pixel4</td>\n",
       "      <td>1273608785432</td>\n",
       "      <td>37.416628</td>\n",
       "      <td>-122.082053</td>\n",
       "      <td>-30.69</td>\n",
       "      <td>2020-05-15-US-MTV-1_Pixel4</td>\n",
       "    </tr>\n",
       "    <tr>\n",
       "      <th>1</th>\n",
       "      <td>2020-05-15-US-MTV-1</td>\n",
       "      <td>Pixel4</td>\n",
       "      <td>1273608786432</td>\n",
       "      <td>37.416646</td>\n",
       "      <td>-122.082040</td>\n",
       "      <td>-31.76</td>\n",
       "      <td>2020-05-15-US-MTV-1_Pixel4</td>\n",
       "    </tr>\n",
       "    <tr>\n",
       "      <th>2</th>\n",
       "      <td>2020-05-15-US-MTV-1</td>\n",
       "      <td>Pixel4</td>\n",
       "      <td>1273608787432</td>\n",
       "      <td>37.416653</td>\n",
       "      <td>-122.082039</td>\n",
       "      <td>-31.65</td>\n",
       "      <td>2020-05-15-US-MTV-1_Pixel4</td>\n",
       "    </tr>\n",
       "    <tr>\n",
       "      <th>3</th>\n",
       "      <td>2020-05-15-US-MTV-1</td>\n",
       "      <td>Pixel4</td>\n",
       "      <td>1273608788432</td>\n",
       "      <td>37.416607</td>\n",
       "      <td>-122.082063</td>\n",
       "      <td>-31.52</td>\n",
       "      <td>2020-05-15-US-MTV-1_Pixel4</td>\n",
       "    </tr>\n",
       "    <tr>\n",
       "      <th>4</th>\n",
       "      <td>2020-05-15-US-MTV-1</td>\n",
       "      <td>Pixel4</td>\n",
       "      <td>1273608789432</td>\n",
       "      <td>37.416609</td>\n",
       "      <td>-122.082073</td>\n",
       "      <td>-28.95</td>\n",
       "      <td>2020-05-15-US-MTV-1_Pixel4</td>\n",
       "    </tr>\n",
       "  </tbody>\n",
       "</table>\n",
       "</div>"
      ],
      "text/plain": [
       "        collectionName phoneName  millisSinceGpsEpoch     latDeg      lngDeg  \\\n",
       "0  2020-05-15-US-MTV-1    Pixel4        1273608785432  37.416628 -122.082053   \n",
       "1  2020-05-15-US-MTV-1    Pixel4        1273608786432  37.416646 -122.082040   \n",
       "2  2020-05-15-US-MTV-1    Pixel4        1273608787432  37.416653 -122.082039   \n",
       "3  2020-05-15-US-MTV-1    Pixel4        1273608788432  37.416607 -122.082063   \n",
       "4  2020-05-15-US-MTV-1    Pixel4        1273608789432  37.416609 -122.082073   \n",
       "\n",
       "   heightAboveWgs84EllipsoidM                       phone  \n",
       "0                      -30.69  2020-05-15-US-MTV-1_Pixel4  \n",
       "1                      -31.76  2020-05-15-US-MTV-1_Pixel4  \n",
       "2                      -31.65  2020-05-15-US-MTV-1_Pixel4  \n",
       "3                      -31.52  2020-05-15-US-MTV-1_Pixel4  \n",
       "4                      -28.95  2020-05-15-US-MTV-1_Pixel4  "
      ]
     },
     "execution_count": 5,
     "metadata": {},
     "output_type": "execute_result"
    }
   ],
   "source": [
    "print(test_df.shape)\n",
    "test_df.head()"
   ]
  },
  {
   "cell_type": "markdown",
   "metadata": {},
   "source": [
    "# Load All Data Function"
   ]
  },
  {
   "cell_type": "code",
   "execution_count": 6,
   "metadata": {
    "ExecuteTime": {
     "end_time": "2021-07-04T21:41:52.438188Z",
     "start_time": "2021-07-04T21:41:52.424189Z"
    }
   },
   "outputs": [],
   "source": [
    "gnss_section_names = {'Raw','UncalAccel', 'UncalGyro', 'UncalMag', 'Fix', 'Status', 'OrientationDeg'}\n",
    "section_names = {'GroundTruth', 'Derived', 'Raw','UncalAccel', 'UncalGyro', 'UncalMag', 'Fix', 'Status', 'OrientationDeg'}\n",
    "_columns = ['latDeg', 'lngDeg', 'heightAboveWgs84EllipsoidM']"
   ]
  },
  {
   "cell_type": "code",
   "execution_count": 7,
   "metadata": {
    "ExecuteTime": {
     "end_time": "2021-07-04T21:41:52.453192Z",
     "start_time": "2021-07-04T21:41:52.439188Z"
    }
   },
   "outputs": [],
   "source": [
    "thread_num = 4"
   ]
  },
  {
   "cell_type": "code",
   "execution_count": 8,
   "metadata": {
    "ExecuteTime": {
     "end_time": "2021-07-04T21:41:52.468191Z",
     "start_time": "2021-07-04T21:41:52.455189Z"
    }
   },
   "outputs": [],
   "source": [
    "def merge_data(df_, truth, derived, gnss):\n",
    "    df = df_.copy()\n",
    "    \n",
    "    print('Truth Data Start')\n",
    "    if truth is not None:\n",
    "        df = pd.merge_asof(df.sort_values('millisSinceGpsEpoch'), \n",
    "              truth.sort_values('millisSinceGpsEpoch'), \n",
    "              on=\"millisSinceGpsEpoch\", by=[\"collectionName\", \"phoneName\"], \n",
    "              direction='nearest',tolerance=100000)\n",
    "    print('Truth Data Fin')\n",
    "\n",
    "    print('Derived Data Start')\n",
    "    df = pd.merge_asof(df.sort_values('millisSinceGpsEpoch'), \n",
    "          derived.sort_values('millisSinceGpsEpoch'), \n",
    "          on=\"millisSinceGpsEpoch\", by=[\"collectionName\", \"phoneName\"], \n",
    "          direction='nearest',tolerance=100000)\n",
    "    print('Derived Data Fin')\n",
    "\n",
    "\n",
    "    print('Gnss Log Data Start')\n",
    "    for key, value in tqdm(gnss.items()):\n",
    "        if value.shape[0] == 0:\n",
    "            continue\n",
    "        df = pd.merge_asof(df.sort_values('millisSinceGpsEpoch'), \n",
    "              value.sort_values('millisSinceGpsEpoch'), \n",
    "              on=\"millisSinceGpsEpoch\", by=[\"collectionName\", \"phoneName\"], \n",
    "              direction='nearest',tolerance=100000, suffixes = ['', \"_\" + key])\n",
    "    print('Gnss Log Data Fin')\n",
    "        \n",
    "    return df"
   ]
  },
  {
   "cell_type": "markdown",
   "metadata": {},
   "source": [
    "## Train\n",
    "### For Multi Processing Code"
   ]
  },
  {
   "cell_type": "code",
   "execution_count": 9,
   "metadata": {
    "ExecuteTime": {
     "end_time": "2021-07-04T21:41:52.543191Z",
     "start_time": "2021-07-04T21:41:52.470193Z"
    },
    "scrolled": true
   },
   "outputs": [],
   "source": [
    "path_list = list(glob(str(PATH / \"train\" / \"*/*/*\")))\n",
    "\n",
    "get_ground_truth = lambda x:x.split(split_charater)[-1].find(\"ground_truth\")>= 0\n",
    "get_derived = lambda x:x.split(split_charater)[-1].find(\"derived.csv\")>= 0\n",
    "get_gnsslog = lambda x:x.split(split_charater)[-1].find(\"GnssLog.txt\")>= 0\n",
    "\n",
    "ground_truth_path_list = list(filter(get_ground_truth, path_list))\n",
    "derived_path_list = list(filter(get_derived, path_list))\n",
    "gnsslog_path_list = list(filter(get_gnsslog, path_list))"
   ]
  },
  {
   "cell_type": "code",
   "execution_count": 10,
   "metadata": {
    "ExecuteTime": {
     "end_time": "2021-07-04T21:41:52.558189Z",
     "start_time": "2021-07-04T21:41:52.544189Z"
    }
   },
   "outputs": [],
   "source": [
    "output = dict()\n",
    "for section in section_names:\n",
    "    output[section] = pd.DataFrame()"
   ]
  },
  {
   "cell_type": "code",
   "execution_count": null,
   "metadata": {
    "ExecuteTime": {
     "start_time": "2021-07-04T21:41:44.704Z"
    }
   },
   "outputs": [
    {
     "data": {
      "application/vnd.jupyter.widget-view+json": {
       "model_id": "edd54ef2e86f4b7d91596bc473657142",
       "version_major": 2,
       "version_minor": 0
      },
      "text/plain": [
       "load gnss log:   0%|          | 0/73 [00:00<?, ?it/s]"
      ]
     },
     "metadata": {},
     "output_type": "display_data"
    }
   ],
   "source": [
    "with Pool(thread_num) as pool:\n",
    "    imap = pool.imap(gnsslog_file_open, gnsslog_path_list)\n",
    "    gnss_logs = list(tqdm(imap, total=len(gnsslog_path_list), desc=\"load gnss log\"))\n",
    "    \n",
    "gnss_dict = {}\n",
    "for key in gnss_section_names:\n",
    "    list_temp = []\n",
    "    for gnss_log in gnss_logs:\n",
    "        list_temp.append(gnss_log[key])\n",
    "    df_temp = pd.concat(list_temp)\n",
    "    gnss_dict[key] = df_temp\n",
    "    if (key == \"Status\") or (key == \"Fix\"):  \n",
    "        gnss_dict[key].rename(columns = {'UnixTimeMillis':'utcTimeMillis'}, inplace = True)\n",
    "    \n",
    "    gnss_dict[key] = UTC2GpsEpoch(gnss_dict[key])\n",
    "    print(gnss_dict[key]['utcTimeMillis'].dtype)\n",
    "    print(gnss_dict[key].shape)\n",
    "    print(gnss_dict[key].head())\n",
    "\n",
    "del gnss_logs"
   ]
  },
  {
   "cell_type": "code",
   "execution_count": null,
   "metadata": {
    "ExecuteTime": {
     "start_time": "2021-07-04T21:41:44.706Z"
    }
   },
   "outputs": [],
   "source": [
    "with Pool(thread_num) as pool:\n",
    "    imap = pool.imap(ground_truth_file_open, ground_truth_path_list)\n",
    "    ground_truth = list(tqdm(imap, total=len(ground_truth_path_list), desc=\"load ground truth\"))\n",
    "    \n",
    "df_truth = pd.concat(ground_truth)\n",
    "print(df_truth.shape)\n",
    "df_truth.head()\n",
    "\n",
    "del ground_truth"
   ]
  },
  {
   "cell_type": "code",
   "execution_count": null,
   "metadata": {
    "ExecuteTime": {
     "start_time": "2021-07-04T21:41:44.707Z"
    }
   },
   "outputs": [],
   "source": [
    "with Pool(thread_num) as pool:\n",
    "    imap = pool.imap(derived_file_open, derived_path_list)\n",
    "    derived = list(tqdm(imap, total=len(derived_path_list), desc=\"load derived data\"))\n",
    "    \n",
    "df_derived = pd.concat(derived)\n",
    "print(df_derived.shape)\n",
    "df_derived.head()\n",
    "\n",
    "del derived"
   ]
  },
  {
   "cell_type": "markdown",
   "metadata": {},
   "source": [
    "### Tiny Data Issue Solve"
   ]
  },
  {
   "cell_type": "code",
   "execution_count": null,
   "metadata": {
    "ExecuteTime": {
     "start_time": "2021-07-04T21:41:44.730Z"
    }
   },
   "outputs": [],
   "source": [
    "raw_timestamps = gnss_dict['Raw']['millisSinceGpsEpoch'].unique()\n",
    "derived_timestamps = df_derived['millisSinceGpsEpoch'].unique()\n",
    "\n",
    "# The timestamps in derived are one epoch ahead. We need to map each epoch\n",
    "# in derived to the prior one (in Raw).\n",
    "indexes = np.searchsorted(raw_timestamps, derived_timestamps)\n",
    "from_t_to_fix_derived = dict(zip(derived_timestamps, raw_timestamps[indexes-1]))\n",
    "df_derived['millisSinceGpsEpoch'] = np.array(list(map(lambda v: from_t_to_fix_derived[v], df_derived['millisSinceGpsEpoch'])))"
   ]
  },
  {
   "cell_type": "code",
   "execution_count": null,
   "metadata": {
    "ExecuteTime": {
     "start_time": "2021-07-04T21:41:44.731Z"
    }
   },
   "outputs": [],
   "source": [
    "delta_millis = df_derived['millisSinceGpsEpoch'] - df_derived['receivedSvTimeInGpsNanos']/1e6\n",
    "good_signals = (delta_millis > 0) & (delta_millis < 300)\n",
    "df_derived = df_derived[good_signals].copy()"
   ]
  },
  {
   "cell_type": "markdown",
   "metadata": {},
   "source": [
    "### Save To Pickle File"
   ]
  },
  {
   "cell_type": "code",
   "execution_count": null,
   "metadata": {
    "ExecuteTime": {
     "start_time": "2021-07-04T21:41:44.751Z"
    },
    "scrolled": true
   },
   "outputs": [],
   "source": [
    "output = merge_data(train_df, df_truth, df_derived, gnss_dict)\n",
    "output.to_pickle(str(PATH / \"gsdc_train.pkl.gzip\"))\n",
    "print(output.shape)\n",
    "output.head()"
   ]
  },
  {
   "cell_type": "code",
   "execution_count": null,
   "metadata": {
    "ExecuteTime": {
     "start_time": "2021-07-04T21:41:44.752Z"
    }
   },
   "outputs": [],
   "source": [
    "output.info(verbose = True, memory_usage= True, null_counts=True)"
   ]
  },
  {
   "cell_type": "code",
   "execution_count": null,
   "metadata": {
    "ExecuteTime": {
     "start_time": "2021-07-04T21:41:44.753Z"
    }
   },
   "outputs": [],
   "source": [
    "del df_truth, df_derived, gnss_dict, output, gnss_logs, ground_truth, derived\n",
    "gc.collect()"
   ]
  },
  {
   "cell_type": "markdown",
   "metadata": {},
   "source": [
    "## Test\n",
    "### For Multi Processing Code"
   ]
  },
  {
   "cell_type": "code",
   "execution_count": null,
   "metadata": {
    "ExecuteTime": {
     "start_time": "2021-07-04T21:41:44.767Z"
    },
    "scrolled": true
   },
   "outputs": [],
   "source": [
    "path_list = list(glob(str(PATH / \"test\" / \"*/*/*\")))\n",
    "\n",
    "get_ground_truth = lambda x:x.split(split_charater)[-1].find(\"ground_truth\")>= 0\n",
    "get_derived = lambda x:x.split(split_charater)[-1].find(\"derived.csv\")>= 0\n",
    "get_gnsslog = lambda x:x.split(split_charater)[-1].find(\"GnssLog.txt\")>= 0\n",
    "\n",
    "ground_truth_path_list = list(filter(get_ground_truth, path_list))\n",
    "derived_path_list = list(filter(get_derived, path_list))\n",
    "gnsslog_path_list = list(filter(get_gnsslog, path_list))"
   ]
  },
  {
   "cell_type": "code",
   "execution_count": null,
   "metadata": {
    "ExecuteTime": {
     "start_time": "2021-07-04T21:41:44.768Z"
    }
   },
   "outputs": [],
   "source": [
    "output = dict()\n",
    "for section in section_names:\n",
    "    output[section] = pd.DataFrame()"
   ]
  },
  {
   "cell_type": "code",
   "execution_count": null,
   "metadata": {
    "ExecuteTime": {
     "start_time": "2021-07-04T21:41:44.704Z"
    }
   },
   "outputs": [
    {
     "data": {
      "application/vnd.jupyter.widget-view+json": {
       "model_id": "edd54ef2e86f4b7d91596bc473657142",
       "version_major": 2,
       "version_minor": 0
      },
      "text/plain": [
       "load gnss log:   0%|          | 0/73 [00:00<?, ?it/s]"
      ]
     },
     "metadata": {},
     "output_type": "display_data"
    }
   ],
   "source": [
    "with Pool(thread_num) as pool:\n",
    "    imap = pool.imap(gnsslog_file_open, gnsslog_path_list)\n",
    "    gnss_logs = list(tqdm(imap, total=len(gnsslog_path_list), desc=\"load gnss log\"))\n",
    "    \n",
    "gnss_dict = {}\n",
    "for key in gnss_section_names:\n",
    "    list_temp = []\n",
    "    for gnss_log in gnss_logs:\n",
    "        list_temp.append(gnss_log[key])\n",
    "    df_temp = pd.concat(list_temp)\n",
    "    gnss_dict[key] = df_temp\n",
    "    if (key == \"Status\") or (key == \"Fix\"):  \n",
    "        gnss_dict[key].rename(columns = {'UnixTimeMillis':'utcTimeMillis'}, inplace = True)\n",
    "    \n",
    "    gnss_dict[key] = UTC2GpsEpoch(gnss_dict[key])\n",
    "    print(gnss_dict[key]['utcTimeMillis'].dtype)\n",
    "    print(gnss_dict[key].shape)\n",
    "    print(gnss_dict[key].head())\n",
    "\n",
    "del gnss_logs"
   ]
  },
  {
   "cell_type": "code",
   "execution_count": null,
   "metadata": {
    "ExecuteTime": {
     "start_time": "2021-07-04T21:41:44.706Z"
    }
   },
   "outputs": [],
   "source": [
    "with Pool(thread_num) as pool:\n",
    "    imap = pool.imap(ground_truth_file_open, ground_truth_path_list)\n",
    "    ground_truth = list(tqdm(imap, total=len(ground_truth_path_list), desc=\"load ground truth\"))\n",
    "    \n",
    "df_truth = pd.concat(ground_truth)\n",
    "print(df_truth.shape)\n",
    "df_truth.head()\n",
    "\n",
    "del ground_truth"
   ]
  },
  {
   "cell_type": "code",
   "execution_count": null,
   "metadata": {
    "ExecuteTime": {
     "start_time": "2021-07-04T21:41:44.707Z"
    }
   },
   "outputs": [],
   "source": [
    "with Pool(thread_num) as pool:\n",
    "    imap = pool.imap(derived_file_open, derived_path_list)\n",
    "    derived = list(tqdm(imap, total=len(derived_path_list), desc=\"load derived data\"))\n",
    "    \n",
    "df_derived = pd.concat(derived)\n",
    "print(df_derived.shape)\n",
    "df_derived.head()\n",
    "\n",
    "del derived"
   ]
  },
  {
   "cell_type": "markdown",
   "metadata": {},
   "source": [
    "### Tiny Data Issue Solve"
   ]
  },
  {
   "cell_type": "code",
   "execution_count": null,
   "metadata": {
    "ExecuteTime": {
     "start_time": "2021-07-04T21:41:44.730Z"
    }
   },
   "outputs": [],
   "source": [
    "raw_timestamps = gnss_dict['Raw']['millisSinceGpsEpoch'].unique()\n",
    "derived_timestamps = df_derived['millisSinceGpsEpoch'].unique()\n",
    "\n",
    "# The timestamps in derived are one epoch ahead. We need to map each epoch\n",
    "# in derived to the prior one (in Raw).\n",
    "indexes = np.searchsorted(raw_timestamps, derived_timestamps)\n",
    "from_t_to_fix_derived = dict(zip(derived_timestamps, raw_timestamps[indexes-1]))\n",
    "df_derived['millisSinceGpsEpoch'] = np.array(list(map(lambda v: from_t_to_fix_derived[v], df_derived['millisSinceGpsEpoch'])))"
   ]
  },
  {
   "cell_type": "code",
   "execution_count": null,
   "metadata": {
    "ExecuteTime": {
     "start_time": "2021-07-04T21:41:44.731Z"
    }
   },
   "outputs": [],
   "source": [
    "delta_millis = df_derived['millisSinceGpsEpoch'] - df_derived['receivedSvTimeInGpsNanos']/1e6\n",
    "good_signals = (delta_millis > 0) & (delta_millis < 300)\n",
    "df_derived = df_derived[good_signals].copy()"
   ]
  },
  {
   "cell_type": "markdown",
   "metadata": {},
   "source": [
    "### Save To Pickle File"
   ]
  },
  {
   "cell_type": "code",
   "execution_count": null,
   "metadata": {
    "ExecuteTime": {
     "start_time": "2021-07-04T21:41:44.804Z"
    },
    "scrolled": true
   },
   "outputs": [],
   "source": [
    "output = merge_data(test_df, None, df_derived, gnss_dict)\n",
    "output.to_pickle(str(PATH / \"gsdc_test.pkl.gzip\"))\n",
    "print(output.shape)\n",
    "output.head()"
   ]
  },
  {
   "cell_type": "code",
   "execution_count": null,
   "metadata": {
    "ExecuteTime": {
     "start_time": "2021-07-04T21:41:44.804Z"
    }
   },
   "outputs": [],
   "source": [
    "output.info(verbose = True, memory_usage= True, null_counts=True)"
   ]
  },
  {
   "cell_type": "code",
   "execution_count": null,
   "metadata": {
    "ExecuteTime": {
     "start_time": "2021-07-04T21:41:44.805Z"
    }
   },
   "outputs": [],
   "source": [
    "del df_derived, gnss_dict"
   ]
  },
  {
   "cell_type": "code",
   "execution_count": null,
   "metadata": {
    "ExecuteTime": {
     "start_time": "2021-07-04T21:41:44.806Z"
    }
   },
   "outputs": [],
   "source": [
    "%clear"
   ]
  },
  {
   "cell_type": "markdown",
   "metadata": {},
   "source": [
    "# Load Pickle File"
   ]
  },
  {
   "cell_type": "code",
   "execution_count": null,
   "metadata": {
    "ExecuteTime": {
     "start_time": "2021-07-04T21:41:44.821Z"
    }
   },
   "outputs": [],
   "source": [
    "import numpy as np\n",
    "import pandas as pd\n",
    "from glob import glob\n",
    "import os\n",
    "import matplotlib.pyplot as plt\n",
    "from tqdm.notebook import tqdm\n",
    "from pathlib import Path\n",
    "import plotly.express as px"
   ]
  },
  {
   "cell_type": "code",
   "execution_count": null,
   "metadata": {
    "ExecuteTime": {
     "start_time": "2021-07-04T21:41:44.822Z"
    }
   },
   "outputs": [],
   "source": [
    "PATH = Path(\"../input/google-smartphone-decimeter-challenge\")"
   ]
  },
  {
   "cell_type": "code",
   "execution_count": null,
   "metadata": {
    "ExecuteTime": {
     "start_time": "2021-07-04T21:41:44.823Z"
    }
   },
   "outputs": [],
   "source": [
    "df_train = pd.read_pickle(str(PATH / \"gsdc_train.pkl.gzip\"))"
   ]
  },
  {
   "cell_type": "code",
   "execution_count": null,
   "metadata": {
    "ExecuteTime": {
     "start_time": "2021-07-04T21:41:44.823Z"
    }
   },
   "outputs": [],
   "source": [
    "print(df_train.shape)\n",
    "df_train.head()"
   ]
  },
  {
   "cell_type": "code",
   "execution_count": null,
   "metadata": {
    "ExecuteTime": {
     "start_time": "2021-07-04T21:41:44.824Z"
    }
   },
   "outputs": [],
   "source": [
    "df_train.info(verbose = True, memory_usage= True, null_counts=True)"
   ]
  },
  {
   "cell_type": "code",
   "execution_count": null,
   "metadata": {
    "ExecuteTime": {
     "start_time": "2021-07-04T21:41:44.826Z"
    }
   },
   "outputs": [],
   "source": [
    "df_test = pd.read_pickle(str(PATH / \"gsdc_test.pkl.gzip\"))"
   ]
  },
  {
   "cell_type": "code",
   "execution_count": null,
   "metadata": {
    "ExecuteTime": {
     "start_time": "2021-07-04T21:41:44.827Z"
    }
   },
   "outputs": [],
   "source": [
    "print(df_test.shape)\n",
    "df_test.head()"
   ]
  },
  {
   "cell_type": "code",
   "execution_count": null,
   "metadata": {
    "ExecuteTime": {
     "start_time": "2021-07-04T21:41:44.827Z"
    }
   },
   "outputs": [],
   "source": [
    "df_test.info(verbose = True, memory_usage= True, null_counts=True)"
   ]
  },
  {
   "cell_type": "code",
   "execution_count": null,
   "metadata": {},
   "outputs": [],
   "source": []
  }
 ],
 "metadata": {
  "hide_input": false,
  "kernelspec": {
   "display_name": "torch",
   "language": "python",
   "name": "torch"
  },
  "language_info": {
   "codemirror_mode": {
    "name": "ipython",
    "version": 3
   },
   "file_extension": ".py",
   "mimetype": "text/x-python",
   "name": "python",
   "nbconvert_exporter": "python",
   "pygments_lexer": "ipython3",
   "version": "3.6.12"
  },
  "latex_envs": {
   "LaTeX_envs_menu_present": true,
   "autoclose": false,
   "autocomplete": true,
   "bibliofile": "biblio.bib",
   "cite_by": "apalike",
   "current_citInitial": 1,
   "eqLabelWithNumbers": true,
   "eqNumInitial": 1,
   "hotkeys": {
    "equation": "Ctrl-E",
    "itemize": "Ctrl-I"
   },
   "labels_anchors": false,
   "latex_user_defs": false,
   "report_style_numbering": false,
   "user_envs_cfg": false
  },
  "toc": {
   "base_numbering": 1,
   "nav_menu": {},
   "number_sections": true,
   "sideBar": true,
   "skip_h1_title": false,
   "title_cell": "Table of Contents",
   "title_sidebar": "Contents",
   "toc_cell": false,
   "toc_position": {
    "height": "calc(100% - 180px)",
    "left": "10px",
    "top": "150px",
    "width": "384px"
   },
   "toc_section_display": true,
   "toc_window_display": true
  },
  "varInspector": {
   "cols": {
    "lenName": 16,
    "lenType": 16,
    "lenVar": 40
   },
   "kernels_config": {
    "python": {
     "delete_cmd_postfix": "",
     "delete_cmd_prefix": "del ",
     "library": "var_list.py",
     "varRefreshCmd": "print(var_dic_list())"
    },
    "r": {
     "delete_cmd_postfix": ") ",
     "delete_cmd_prefix": "rm(",
     "library": "var_list.r",
     "varRefreshCmd": "cat(var_dic_list()) "
    }
   },
   "types_to_exclude": [
    "module",
    "function",
    "builtin_function_or_method",
    "instance",
    "_Feature"
   ],
   "window_display": false
  }
 },
 "nbformat": 4,
 "nbformat_minor": 4
}
