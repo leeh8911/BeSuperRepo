{
 "cells": [
  {
   "cell_type": "markdown",
   "metadata": {},
   "source": [
    "# Libraries"
   ]
  },
  {
   "cell_type": "code",
   "execution_count": 1,
   "metadata": {
    "ExecuteTime": {
     "end_time": "2021-07-08T15:52:14.029162Z",
     "start_time": "2021-07-08T15:52:11.251465Z"
    },
    "execution": {
     "iopub.execute_input": "2021-07-07T12:01:13.086273Z",
     "iopub.status.busy": "2021-07-07T12:01:13.085956Z",
     "iopub.status.idle": "2021-07-07T12:01:13.101791Z",
     "shell.execute_reply": "2021-07-07T12:01:13.100287Z",
     "shell.execute_reply.started": "2021-07-07T12:01:13.086245Z"
    }
   },
   "outputs": [],
   "source": [
    "import numpy as np\n",
    "import pandas as pd\n",
    "from glob import glob\n",
    "import os\n",
    "import matplotlib.pyplot as plt\n",
    "from tqdm.notebook import tqdm\n",
    "from pathlib import Path\n",
    "import plotly.express as px\n",
    "\n",
    "import torch\n",
    "import torch.nn as nn\n",
    "import torch.nn.functional as F\n",
    "import torch.optim as optim\n",
    "from torch.utils.data import TensorDataset, DataLoader\n",
    "import torchsummary\n",
    "from sklearn.model_selection import train_test_split\n",
    "from sklearn.preprocessing import StandardScaler, MinMaxScaler\n",
    "\n",
    "import warnings\n",
    "warnings.filterwarnings(action='ignore')"
   ]
  },
  {
   "cell_type": "markdown",
   "metadata": {},
   "source": [
    "# Set Device"
   ]
  },
  {
   "cell_type": "code",
   "execution_count": 2,
   "metadata": {
    "ExecuteTime": {
     "end_time": "2021-07-08T15:52:14.074162Z",
     "start_time": "2021-07-08T15:52:14.030161Z"
    },
    "execution": {
     "iopub.execute_input": "2021-07-07T12:01:13.103578Z",
     "iopub.status.busy": "2021-07-07T12:01:13.103247Z",
     "iopub.status.idle": "2021-07-07T12:01:13.115766Z",
     "shell.execute_reply": "2021-07-07T12:01:13.114970Z",
     "shell.execute_reply.started": "2021-07-07T12:01:13.103527Z"
    }
   },
   "outputs": [
    {
     "name": "stdout",
     "output_type": "stream",
     "text": [
      "cuda:0\n"
     ]
    }
   ],
   "source": [
    "device = torch.device('cuda:0' if torch.cuda.is_available() else \"cpu\")\n",
    "print(device)"
   ]
  },
  {
   "cell_type": "markdown",
   "metadata": {},
   "source": [
    "# Set Hyper-Parameters"
   ]
  },
  {
   "cell_type": "code",
   "execution_count": 3,
   "metadata": {
    "ExecuteTime": {
     "end_time": "2021-07-08T15:52:14.089161Z",
     "start_time": "2021-07-08T15:52:14.077163Z"
    },
    "execution": {
     "iopub.execute_input": "2021-07-07T12:03:55.554162Z",
     "iopub.status.busy": "2021-07-07T12:03:55.553783Z",
     "iopub.status.idle": "2021-07-07T12:03:55.558107Z",
     "shell.execute_reply": "2021-07-07T12:03:55.557314Z",
     "shell.execute_reply.started": "2021-07-07T12:03:55.554125Z"
    }
   },
   "outputs": [
    {
     "data": {
      "text/plain": [
       "<torch._C.Generator at 0x110c8f05d80>"
      ]
     },
     "execution_count": 3,
     "metadata": {},
     "output_type": "execute_result"
    }
   ],
   "source": [
    "notebookName = \"DualEncoderRNN\"\n",
    "SEED = 19901109\n",
    "batch_size = 1\n",
    "learning_rate = 0.01\n",
    "weight_decay = 1e-3\n",
    "nepochs = 1000000\n",
    "max_patience_count = 100\n",
    "\n",
    "torch.manual_seed(SEED)"
   ]
  },
  {
   "cell_type": "markdown",
   "metadata": {},
   "source": [
    "# Set Output Path"
   ]
  },
  {
   "cell_type": "code",
   "execution_count": 4,
   "metadata": {
    "ExecuteTime": {
     "end_time": "2021-07-08T15:52:14.104163Z",
     "start_time": "2021-07-08T15:52:14.090165Z"
    }
   },
   "outputs": [],
   "source": [
    "\n",
    "PATH = Path(f\"./models/{notebookName}\")\n",
    "if os.path.isdir(PATH):\n",
    "    dir_list = os.listdir(PATH)\n",
    "    num_files = 0\n",
    "    while True:\n",
    "        if os.path.isfile(str(PATH / f\"{num_files}\")):\n",
    "            num_files += 1\n",
    "        else:\n",
    "            break\n",
    "else:\n",
    "    os.mkdir(PATH)\n",
    "    num_files = 0\n",
    "num_files = 2"
   ]
  },
  {
   "cell_type": "markdown",
   "metadata": {},
   "source": [
    "# Load Dataset"
   ]
  },
  {
   "cell_type": "code",
   "execution_count": 5,
   "metadata": {
    "ExecuteTime": {
     "end_time": "2021-07-08T15:52:14.254160Z",
     "start_time": "2021-07-08T15:52:14.105161Z"
    },
    "execution": {
     "iopub.execute_input": "2021-07-07T12:01:13.152611Z",
     "iopub.status.busy": "2021-07-07T12:01:13.152281Z",
     "iopub.status.idle": "2021-07-07T12:01:13.572302Z",
     "shell.execute_reply": "2021-07-07T12:01:13.571313Z",
     "shell.execute_reply.started": "2021-07-07T12:01:13.152581Z"
    }
   },
   "outputs": [],
   "source": [
    "data_dir = Path(\"../input/google-smartphone-decimeter-challenge/\")\n",
    "df_train_default = pd.read_pickle(str(data_dir / \"gsdc_extract_train.pkl.gzip\"))\n",
    "df_test = pd.read_pickle(str(data_dir / \"gsdc_extract_test.pkl.gzip\"))"
   ]
  },
  {
   "cell_type": "code",
   "execution_count": 6,
   "metadata": {
    "ExecuteTime": {
     "end_time": "2021-07-08T15:52:15.064161Z",
     "start_time": "2021-07-08T15:52:14.255161Z"
    },
    "execution": {
     "iopub.execute_input": "2021-07-07T12:01:13.573999Z",
     "iopub.status.busy": "2021-07-07T12:01:13.573647Z",
     "iopub.status.idle": "2021-07-07T12:01:15.608460Z",
     "shell.execute_reply": "2021-07-07T12:01:15.607254Z",
     "shell.execute_reply.started": "2021-07-07T12:01:13.573969Z"
    }
   },
   "outputs": [
    {
     "name": "stdout",
     "output_type": "stream",
     "text": [
      "(123093, 148) (10795, 148)\n"
     ]
    }
   ],
   "source": [
    "def CustomTrainValidSplit(df:pd.DataFrame, valid_size):\n",
    "    phones = df['phone'].unique()\n",
    "    \n",
    "    valid_num = int(len(phones) * valid_size)\n",
    "    train_num = len(phones) - valid_num\n",
    "    \n",
    "    indexes = np.array(range(len(phones)))\n",
    "    indexes = np.random.choice(indexes, len(indexes))\n",
    "    \n",
    "    df_train = []\n",
    "    for phone in phones[indexes[:train_num]]:\n",
    "        df_train.append(df[df['phone'] == phone])\n",
    "    df_train = pd.concat(df_train)\n",
    "    \n",
    "    df_valid = []\n",
    "    for phone in phones[indexes[train_num:-1]]:\n",
    "        df_valid.append(df[df['phone'] == phone])\n",
    "    df_valid = pd.concat(df_valid)\n",
    "    \n",
    "    return df_train.reset_index().drop(columns = 'index'), df_valid.reset_index().drop(columns = 'index')\n",
    "    \n",
    "df_train, df_valid = CustomTrainValidSplit(df_train_default, valid_size = 0.1)\n",
    "print(df_train.shape, df_valid.shape)\n",
    "del df_train_default"
   ]
  },
  {
   "cell_type": "code",
   "execution_count": 7,
   "metadata": {
    "ExecuteTime": {
     "end_time": "2021-07-08T15:52:15.079164Z",
     "start_time": "2021-07-08T15:52:15.065161Z"
    },
    "execution": {
     "iopub.execute_input": "2021-07-07T12:01:15.610068Z",
     "iopub.status.busy": "2021-07-07T12:01:15.609730Z",
     "iopub.status.idle": "2021-07-07T12:01:15.618404Z",
     "shell.execute_reply": "2021-07-07T12:01:15.617229Z",
     "shell.execute_reply.started": "2021-07-07T12:01:15.610038Z"
    }
   },
   "outputs": [],
   "source": [
    "class TimeSeriseDataset(torch.utils.data.Dataset):\n",
    "    def __init__(self, df, phys_features, stat_features, labels, train = False):\n",
    "        self.phys_features = phys_features\n",
    "        self.stat_features = stat_features\n",
    "        self.labels = labels\n",
    "        self.train = train\n",
    "        self.phones =df['phone'].unique()\n",
    "        self._len = len(self.phones)\n",
    "        \n",
    "        self.df = df\n",
    "        \n",
    "    def __len__(self):\n",
    "        return self._len\n",
    "    \n",
    "    def __getitem__(self, idx):\n",
    "        phys_features = self.phys_features\n",
    "        stat_features = self.stat_features\n",
    "        labels = self.labels\n",
    "        phone = self.phones[idx]\n",
    "        df = self.df[self.df['phone']==phone]\n",
    "        \n",
    "        phys = torch.Tensor(df[phys_features].values)\n",
    "        stat = torch.Tensor(df[stat_features].values)\n",
    "        if self.train:\n",
    "            label = torch.Tensor(df[labels].values)\n",
    "        else:\n",
    "            label = None\n",
    "        return phys, stat, label"
   ]
  },
  {
   "cell_type": "code",
   "execution_count": 8,
   "metadata": {
    "ExecuteTime": {
     "end_time": "2021-07-08T15:52:15.094162Z",
     "start_time": "2021-07-08T15:52:15.081162Z"
    },
    "execution": {
     "iopub.execute_input": "2021-07-07T12:01:15.622098Z",
     "iopub.status.busy": "2021-07-07T12:01:15.621813Z",
     "iopub.status.idle": "2021-07-07T12:01:15.859545Z",
     "shell.execute_reply": "2021-07-07T12:01:15.858532Z",
     "shell.execute_reply.started": "2021-07-07T12:01:15.622072Z"
    }
   },
   "outputs": [],
   "source": [
    "phys_features = [\n",
    "    'latDeg', \n",
    "    'lngDeg', \n",
    "    'heightAboveWgs84EllipsoidM',\n",
    "    'dlatDeg',\n",
    "    'dlngDeg',\n",
    "    'dheight',\n",
    "    'UncalGyroXRadPerSec_Scaled',\n",
    "    'UncalGyroYRadPerSec_Scaled',\n",
    "    'UncalGyroZRadPerSec_Scaled',\n",
    "    'DriftXRadPerSec_Scaled',\n",
    "    'DriftYRadPerSec_Scaled',\n",
    "    'DriftZRadPerSec_Scaled',\n",
    "    'UncalAccelXMps2_Scaled',\n",
    "    'UncalAccelYMps2_Scaled',\n",
    "    'UncalAccelZMps2_Scaled',\n",
    "    'BiasXMps2_Scaled',\n",
    "    'BiasYMps2_Scaled',\n",
    "    'BiasZMps2_Scaled',\n",
    "    'UncalMagXMicroT_Scaled',\n",
    "    'UncalMagYMicroT_Scaled',\n",
    "    'UncalMagZMicroT_Scaled',\n",
    "    'BiasXMicroT_Scaled',\n",
    "    'BiasYMicroT_Scaled',\n",
    "    'BiasZMicroT_Scaled',\n",
    "    'yawDeg_Scaled',\n",
    "    'rollDeg_Scaled',\n",
    "    'pitchDeg_Scaled',\n",
    "]\n",
    "stat_features = [\n",
    "    'GPS_L1', \n",
    "    'GPS_L5', \n",
    "    'GAL_E1', \n",
    "    'GAL_E5A', \n",
    "    'GLO_G1', \n",
    "    'BDS_B1I', \n",
    "    'BDS_B1C', \n",
    "    'BDS_B2A', \n",
    "    'QZS_J1', \n",
    "    'QZS_J5',\n",
    "    'xSatPosM_Scaled',\n",
    "    'ySatPosM_Scaled',\n",
    "    'zSatPosM_Scaled',\n",
    "    'xSatVelMps_Scaled',\n",
    "    'ySatVelMps_Scaled',\n",
    "    'zSatVelMps_Scaled',\n",
    "    'State',\n",
    "    'MultipathIndicator',\n",
    "]\n",
    "\n",
    "labels = [\n",
    "    't_latDeg', \n",
    "    't_lngDeg', \n",
    "    't_heightAboveWgs84EllipsoidM',\n",
    "#     'courseDegree',\n",
    "#     'hDop',\n",
    "#     'vDop',\n",
    "#     'speedMps'\n",
    "         ]"
   ]
  },
  {
   "cell_type": "code",
   "execution_count": 9,
   "metadata": {
    "ExecuteTime": {
     "end_time": "2021-07-08T15:52:15.124169Z",
     "start_time": "2021-07-08T15:52:15.096164Z"
    },
    "execution": {
     "iopub.execute_input": "2021-07-07T12:01:15.861361Z",
     "iopub.status.busy": "2021-07-07T12:01:15.861068Z",
     "iopub.status.idle": "2021-07-07T12:01:15.907026Z",
     "shell.execute_reply": "2021-07-07T12:01:15.906093Z",
     "shell.execute_reply.started": "2021-07-07T12:01:15.861334Z"
    }
   },
   "outputs": [],
   "source": [
    "train_data = TimeSeriseDataset(df_train, \n",
    "                           phys_features, stat_features, labels,\n",
    "                           train = True)\n",
    "valid_data = TimeSeriseDataset(df_valid, \n",
    "                           phys_features, stat_features, labels,\n",
    "                           train = True)\n",
    "test_data = TimeSeriseDataset(df_test, \n",
    "                           phys_features, stat_features, labels,\n",
    "                           train = False)\n",
    "train_loader = DataLoader(train_data, batch_size = batch_size, shuffle = True)\n",
    "valid_loader = DataLoader(valid_data, batch_size = batch_size, shuffle = False)\n",
    "test_loader = DataLoader(test_data, batch_size = batch_size, shuffle = False)"
   ]
  },
  {
   "cell_type": "code",
   "execution_count": 10,
   "metadata": {
    "ExecuteTime": {
     "end_time": "2021-07-08T15:52:15.139694Z",
     "start_time": "2021-07-08T15:52:15.125174Z"
    },
    "execution": {
     "iopub.execute_input": "2021-07-07T12:03:43.108868Z",
     "iopub.status.busy": "2021-07-07T12:03:43.108516Z",
     "iopub.status.idle": "2021-07-07T12:03:43.124141Z",
     "shell.execute_reply": "2021-07-07T12:03:43.122937Z",
     "shell.execute_reply.started": "2021-07-07T12:03:43.108841Z"
    }
   },
   "outputs": [],
   "source": [
    "\n",
    "def torch_haversine(pred, true):\n",
    "\n",
    "    lat1=pred[:,0] % 360\n",
    "    lon1=pred[:,1] % 360\n",
    "    lat2=true[:,0] % 360\n",
    "    lon2=true[:,1] % 360\n",
    "\n",
    "    lat1, lat2, lon1, lon2 = map(lambda x:x*np.pi/180, [lat1, lat2, lon1, lon2])\n",
    "\n",
    "    dlat = (lat2 - lat1)\n",
    "    dlon = (lon2 - lon1)\n",
    "\n",
    "    a = torch.sin(dlat / 2.0)**2 + torch.cos(lat1) * torch.cos(lat2) * (torch.sin(dlon / 2.0)**2)\n",
    "    c = 2 * torch.arcsin(a ** 0.5)\n",
    "\n",
    "    dist = 6_367_000 * c\n",
    "\n",
    "    return dist\n",
    "\n",
    "def quantile_mean(dist):\n",
    "    return (torch.quantile(dist, 0.5) + torch.quantile(dist, 0.95))/2\n",
    "    \n",
    "def gps_loss(predict:torch.Tensor, target:torch.Tensor):\n",
    "#     dist = torch_haversine(predict, target)\n",
    "#     loss = dist.mean()\n",
    "\n",
    "    loss = nn.SmoothL1Loss()(predict, target)\n",
    "\n",
    "    return loss\n",
    "\n",
    "def gps_score(predict:torch.Tensor, target:torch.Tensor):\n",
    "    dist = torch_haversine(predict, target)\n",
    "\n",
    "    score = quantile_mean(dist)\n",
    "\n",
    "    return score\n",
    "\n",
    "def calc_loss_and_score(predicts, grounds):\n",
    "    dist = []\n",
    "    for pred, ground in zip(predicts, grounds):\n",
    "        pred = pred.squeeze(0)\n",
    "        ground = ground.squeeze(0)\n",
    "        dist.append(torch_haversine(pred, ground))\n",
    "    dist = torch.cat(dist, axis = 0)\n",
    "    return dist.mean(), quantile_mean(dist)"
   ]
  },
  {
   "cell_type": "code",
   "execution_count": 11,
   "metadata": {
    "ExecuteTime": {
     "end_time": "2021-07-08T15:52:15.154695Z",
     "start_time": "2021-07-08T15:52:15.140697Z"
    }
   },
   "outputs": [],
   "source": [
    "class Encoder(nn.Module):\n",
    "    def __init__(self, num_features, num_hiddens, num_layers, dropout = 0.1, device_ = 'cpu'):\n",
    "        super().__init__()\n",
    "        self.device = device_\n",
    "        \n",
    "        self.gru = nn.GRU(num_features, num_hiddens, num_layers, batch_first = True, dropout = dropout, bidirectional = True)\n",
    "    def forward(self, x):\n",
    "        x, h = self.gru(x)\n",
    "        h = h.to(device)\n",
    "        return x, h"
   ]
  },
  {
   "cell_type": "code",
   "execution_count": 12,
   "metadata": {
    "ExecuteTime": {
     "end_time": "2021-07-08T15:52:15.169696Z",
     "start_time": "2021-07-08T15:52:15.155695Z"
    }
   },
   "outputs": [],
   "source": [
    "class Decoder(nn.Module):\n",
    "    def __init__(self, num_features, num_hiddens, num_layers, dropout = 0.1, device_ = 'cpu'):\n",
    "        super().__init__()\n",
    "        self.device = device_\n",
    "        \n",
    "        self.gru = nn.GRU(num_features, num_hiddens, num_layers, batch_first = True, dropout = dropout, bidirectional = True)\n",
    "    def forward(self, x, h0):\n",
    "        x, h = self.gru(x, h0)\n",
    "        h = h.to(device)\n",
    "        return x, h"
   ]
  },
  {
   "cell_type": "code",
   "execution_count": 13,
   "metadata": {
    "ExecuteTime": {
     "end_time": "2021-07-08T15:52:15.184695Z",
     "start_time": "2021-07-08T15:52:15.170697Z"
    },
    "execution": {
     "iopub.execute_input": "2021-07-07T12:03:43.313069Z",
     "iopub.status.busy": "2021-07-07T12:03:43.312697Z",
     "iopub.status.idle": "2021-07-07T12:03:43.318841Z",
     "shell.execute_reply": "2021-07-07T12:03:43.317752Z",
     "shell.execute_reply.started": "2021-07-07T12:03:43.313040Z"
    }
   },
   "outputs": [],
   "source": [
    "class BaseModel(nn.Module):\n",
    "    def __init__(self, num_state, num_status, num_outputs, device_ = 'cpu'):\n",
    "        super().__init__()\n",
    "        self.device = device_\n",
    "        self.dropout03 = nn.Dropout(0.3)\n",
    "        \n",
    "        self.embd1 = nn.Conv1d(num_status, 64, 1)\n",
    "        self.embd2 = nn.Conv1d(64, 128, 1)\n",
    "        self.embd3 = nn.Conv1d(128, 128, 1)\n",
    "        \n",
    "        self.phys_encoder = Encoder(num_state, 32, 1, 0.6, device_)\n",
    "        self.stat_encoder = Encoder(128, 32, 1, 0.6, device_)\n",
    "        self.decoder = Decoder(num_state, 64, 1, 0.3, device_)\n",
    "        \n",
    "        self.conv1 = nn.Conv1d(128, 64, 1)\n",
    "        self.conv2 = nn.Conv1d(64, 32, 1)\n",
    "        self.conv3 = nn.Conv1d(32, 3, 1)\n",
    "        \n",
    "        self.batch1 = nn.BatchNorm1d(64)\n",
    "        self.batch2 = nn.BatchNorm1d(32)\n",
    "        self.batch3 = nn.BatchNorm1d(3)\n",
    "        \n",
    "        pass\n",
    "    def forward(self, phys, stat):\n",
    "        stat = self.dropout03(stat)\n",
    "        phys = self.dropout03(phys)\n",
    "        \n",
    "        stat = stat.transpose(1,2)\n",
    "        stat = self.embd1(stat)\n",
    "        stat = F.relu(stat)\n",
    "        stat = self.embd2(stat)\n",
    "        stat = F.relu(stat)\n",
    "        stat = self.embd3(stat)\n",
    "        stat = stat.transpose(1,2)\n",
    "        \n",
    "        phys_x, phys_h = self.phys_encoder(phys)\n",
    "        stat_x, stat_h = self.stat_encoder(stat)\n",
    "\n",
    "        h0 = torch.cat([phys_h, stat_h], axis = 2)\n",
    "        \n",
    "        out, _ = self.decoder(phys, h0)\n",
    "        \n",
    "        out = out.transpose(1,2)\n",
    "        out = self.conv1(out)\n",
    "        out = F.tanh(out)\n",
    "        out = self.batch1(out)\n",
    "        out = self.conv2(out)\n",
    "        out = F.tanh(out)\n",
    "        out = self.batch2(out)\n",
    "        out = self.conv3(out)\n",
    "        out = out.transpose(1,2)\n",
    "        \n",
    "        out = out + phys_x[:,:,:3]\n",
    "        return out"
   ]
  },
  {
   "cell_type": "code",
   "execution_count": 14,
   "metadata": {
    "ExecuteTime": {
     "end_time": "2021-07-08T15:52:17.243141Z",
     "start_time": "2021-07-08T15:52:15.185695Z"
    },
    "execution": {
     "iopub.execute_input": "2021-07-07T12:04:20.149399Z",
     "iopub.status.busy": "2021-07-07T12:04:20.149071Z",
     "iopub.status.idle": "2021-07-07T12:04:20.186262Z",
     "shell.execute_reply": "2021-07-07T12:04:20.185248Z",
     "shell.execute_reply.started": "2021-07-07T12:04:20.149372Z"
    }
   },
   "outputs": [],
   "source": [
    "model = BaseModel(len(phys_features), len(stat_features), len(labels), device)\n",
    "model.to(device)\n",
    "# model.load_state_dict(torch.load(\"./models/Baseline3/model-4.pth\"))\n",
    "\n",
    "optimizer = optim.Adam(model.parameters(), lr = learning_rate, weight_decay = weight_decay)\n",
    "scheduler = optim.lr_scheduler.ReduceLROnPlateau(optimizer=optimizer,\n",
    "                                                mode = 'min',\n",
    "                                                factor = 0.1,\n",
    "                                                patience = 5,\n",
    "                                                verbose = True)"
   ]
  },
  {
   "cell_type": "code",
   "execution_count": 15,
   "metadata": {
    "ExecuteTime": {
     "end_time": "2021-07-08T15:52:17.258141Z",
     "start_time": "2021-07-08T15:52:17.244142Z"
    },
    "execution": {
     "iopub.execute_input": "2021-07-07T12:05:02.451618Z",
     "iopub.status.busy": "2021-07-07T12:05:02.451267Z",
     "iopub.status.idle": "2021-07-07T12:05:02.461439Z",
     "shell.execute_reply": "2021-07-07T12:05:02.460474Z",
     "shell.execute_reply.started": "2021-07-07T12:05:02.451589Z"
    }
   },
   "outputs": [],
   "source": [
    "def train(epoch, progress_log):\n",
    "    model.train()  # 신경망을 학습 모드로 전환\n",
    "\n",
    "    # 데이터로더에서 미니배치를 하나씩 꺼내 학습을 수행\n",
    "    predict = []\n",
    "    ground = []\n",
    "    \n",
    "    for phys, stat, label in progress_log:\n",
    "        \n",
    "        phys = phys.to(device)\n",
    "        stat = stat.to(device)\n",
    "        label = label.to(device)\n",
    "        \n",
    "        optimizer.zero_grad()  # 경사를 0으로 초기화\n",
    "        pred = model(phys, stat)  # 데이터를 입력하고 출력을 계산\n",
    "        \n",
    "        loss = gps_loss(pred, label)  # 출력과 훈련 데이터 정답 간의 오차를 계산\n",
    "        score = gps_score(pred, label)  # 출력과 훈련 데이터 정답 간의 오차를 계산\n",
    "\n",
    "        loss.backward()  # 오차를 역전파 계산\n",
    "        optimizer.step()  # 역전파 계산한 값으로 가중치를 수정\n",
    "        \n",
    "        predict.append(pred)\n",
    "        ground.append(label)\n",
    "            \n",
    "    loss, score = calc_loss_and_score(predict, ground)\n",
    "    \n",
    "    del predict, ground\n",
    "    return loss, score"
   ]
  },
  {
   "cell_type": "code",
   "execution_count": 16,
   "metadata": {
    "ExecuteTime": {
     "end_time": "2021-07-08T15:52:17.273142Z",
     "start_time": "2021-07-08T15:52:17.259142Z"
    },
    "execution": {
     "iopub.execute_input": "2021-07-07T12:05:02.451618Z",
     "iopub.status.busy": "2021-07-07T12:05:02.451267Z",
     "iopub.status.idle": "2021-07-07T12:05:02.461439Z",
     "shell.execute_reply": "2021-07-07T12:05:02.460474Z",
     "shell.execute_reply.started": "2021-07-07T12:05:02.451589Z"
    }
   },
   "outputs": [],
   "source": [
    "def valid(epoch, progress_log):\n",
    "    model.eval()  # 신경망을 학습 모드로 전환\n",
    "\n",
    "    # 데이터로더에서 미니배치를 하나씩 꺼내 학습을 수행\n",
    "    predict = []\n",
    "    ground = []\n",
    "    \n",
    "    with torch.no_grad():\n",
    "        for phys, stat, label in progress_log:\n",
    "\n",
    "            phys = phys.to(device)\n",
    "            stat = stat.to(device)\n",
    "            label = label.to(device)\n",
    "\n",
    "            pred = model(phys, stat)  # 데이터를 입력하고 출력을 계산\n",
    "\n",
    "            predict.append(pred)\n",
    "            ground.append(label)\n",
    "            \n",
    "    loss, score = calc_loss_and_score(predict, ground)\n",
    "    \n",
    "    del predict, ground\n",
    "    return loss, score"
   ]
  },
  {
   "cell_type": "code",
   "execution_count": 17,
   "metadata": {
    "ExecuteTime": {
     "end_time": "2021-07-08T15:52:17.288142Z",
     "start_time": "2021-07-08T15:52:17.274143Z"
    },
    "execution": {
     "iopub.execute_input": "2021-07-07T12:05:02.451618Z",
     "iopub.status.busy": "2021-07-07T12:05:02.451267Z",
     "iopub.status.idle": "2021-07-07T12:05:02.461439Z",
     "shell.execute_reply": "2021-07-07T12:05:02.460474Z",
     "shell.execute_reply.started": "2021-07-07T12:05:02.451589Z"
    }
   },
   "outputs": [],
   "source": [
    "def test(epoch, progress_log):\n",
    "    model.eval()  # 신경망을 학습 모드로 전환\n",
    "\n",
    "    # 데이터로더에서 미니배치를 하나씩 꺼내 학습을 수행\n",
    "    predict = []\n",
    "    ground = []\n",
    "    \n",
    "    with torch.no_grad():\n",
    "        for phys, stat, _ in progress_log:\n",
    "\n",
    "            phys = phys.to(device)\n",
    "            stat = stat.to(device)\n",
    "\n",
    "            pred = model(phys, stat)  # 데이터를 입력하고 출력을 계산\n",
    "\n",
    "            predict.append(pred.cpu())\n",
    "    \n",
    "    return predict"
   ]
  },
  {
   "cell_type": "code",
   "execution_count": null,
   "metadata": {
    "ExecuteTime": {
     "start_time": "2021-07-08T15:52:11.292Z"
    },
    "scrolled": false
   },
   "outputs": [
    {
     "data": {
      "application/vnd.jupyter.widget-view+json": {
       "model_id": "faf0b243796e4f9a895380787adee23f",
       "version_major": 2,
       "version_minor": 0
      },
      "text/plain": [
       "EPOCH:   0%|          | 0/1000000 [00:00<?, ?it/s]"
      ]
     },
     "metadata": {},
     "output_type": "display_data"
    },
    {
     "name": "stdout",
     "output_type": "stream",
     "text": [
      "-------------------------------------------------------\n",
      "|EPOCH: 1/1000000\n"
     ]
    },
    {
     "data": {
      "application/vnd.jupyter.widget-view+json": {
       "model_id": "",
       "version_major": 2,
       "version_minor": 0
      },
      "text/plain": [
       "TRAIN:   0%|          | 0/43 [00:00<?, ?it/s]"
      ]
     },
     "metadata": {},
     "output_type": "display_data"
    },
    {
     "data": {
      "application/vnd.jupyter.widget-view+json": {
       "model_id": "",
       "version_major": 2,
       "version_minor": 0
      },
      "text/plain": [
       "VALID:   0%|          | 0/5 [00:00<?, ?it/s]"
      ]
     },
     "metadata": {},
     "output_type": "display_data"
    },
    {
     "name": "stdout",
     "output_type": "stream",
     "text": [
      "|IS Best!\n",
      "|TRAIN: loss=12254549.000000,  score=12624698.000000|\n",
      "|VALID: loss=5093954.000000,  score=5544732.000000|\n",
      "-------------------------------------------------------\n",
      "|EPOCH: 2/1000000\n"
     ]
    },
    {
     "data": {
      "application/vnd.jupyter.widget-view+json": {
       "model_id": "",
       "version_major": 2,
       "version_minor": 0
      },
      "text/plain": [
       "TRAIN:   0%|          | 0/43 [00:00<?, ?it/s]"
      ]
     },
     "metadata": {},
     "output_type": "display_data"
    },
    {
     "data": {
      "application/vnd.jupyter.widget-view+json": {
       "model_id": "",
       "version_major": 2,
       "version_minor": 0
      },
      "text/plain": [
       "VALID:   0%|          | 0/5 [00:00<?, ?it/s]"
      ]
     },
     "metadata": {},
     "output_type": "display_data"
    },
    {
     "name": "stdout",
     "output_type": "stream",
     "text": [
      "|TRAIN: loss=8930697.000000,  score=10412004.000000|\n",
      "|VALID: loss=7122927.500000,  score=7149572.000000|\n",
      "-------------------------------------------------------\n",
      "|EPOCH: 3/1000000\n"
     ]
    },
    {
     "data": {
      "application/vnd.jupyter.widget-view+json": {
       "model_id": "",
       "version_major": 2,
       "version_minor": 0
      },
      "text/plain": [
       "TRAIN:   0%|          | 0/43 [00:00<?, ?it/s]"
      ]
     },
     "metadata": {},
     "output_type": "display_data"
    },
    {
     "data": {
      "application/vnd.jupyter.widget-view+json": {
       "model_id": "",
       "version_major": 2,
       "version_minor": 0
      },
      "text/plain": [
       "VALID:   0%|          | 0/5 [00:00<?, ?it/s]"
      ]
     },
     "metadata": {},
     "output_type": "display_data"
    },
    {
     "name": "stdout",
     "output_type": "stream",
     "text": [
      "|IS Best!\n",
      "|TRAIN: loss=5016567.000000,  score=5828055.000000|\n",
      "|VALID: loss=3743000.250000,  score=3904037.750000|\n",
      "-------------------------------------------------------\n",
      "|EPOCH: 4/1000000\n"
     ]
    },
    {
     "data": {
      "application/vnd.jupyter.widget-view+json": {
       "model_id": "",
       "version_major": 2,
       "version_minor": 0
      },
      "text/plain": [
       "TRAIN:   0%|          | 0/43 [00:00<?, ?it/s]"
      ]
     },
     "metadata": {},
     "output_type": "display_data"
    },
    {
     "data": {
      "application/vnd.jupyter.widget-view+json": {
       "model_id": "",
       "version_major": 2,
       "version_minor": 0
      },
      "text/plain": [
       "VALID:   0%|          | 0/5 [00:00<?, ?it/s]"
      ]
     },
     "metadata": {},
     "output_type": "display_data"
    },
    {
     "name": "stdout",
     "output_type": "stream",
     "text": [
      "|IS Best!\n",
      "|TRAIN: loss=973260.375000,  score=1555827.250000|\n",
      "|VALID: loss=388545.250000,  score=478258.656250|\n",
      "-------------------------------------------------------\n",
      "|EPOCH: 5/1000000\n"
     ]
    },
    {
     "data": {
      "application/vnd.jupyter.widget-view+json": {
       "model_id": "",
       "version_major": 2,
       "version_minor": 0
      },
      "text/plain": [
       "TRAIN:   0%|          | 0/43 [00:00<?, ?it/s]"
      ]
     },
     "metadata": {},
     "output_type": "display_data"
    },
    {
     "data": {
      "application/vnd.jupyter.widget-view+json": {
       "model_id": "",
       "version_major": 2,
       "version_minor": 0
      },
      "text/plain": [
       "VALID:   0%|          | 0/5 [00:00<?, ?it/s]"
      ]
     },
     "metadata": {},
     "output_type": "display_data"
    },
    {
     "name": "stdout",
     "output_type": "stream",
     "text": [
      "|IS Best!\n",
      "|TRAIN: loss=91636.421875,  score=136900.125000|\n",
      "|VALID: loss=53984.421875,  score=86965.523438|\n",
      "-------------------------------------------------------\n",
      "|EPOCH: 6/1000000\n"
     ]
    },
    {
     "data": {
      "application/vnd.jupyter.widget-view+json": {
       "model_id": "",
       "version_major": 2,
       "version_minor": 0
      },
      "text/plain": [
       "TRAIN:   0%|          | 0/43 [00:00<?, ?it/s]"
      ]
     },
     "metadata": {},
     "output_type": "display_data"
    },
    {
     "data": {
      "application/vnd.jupyter.widget-view+json": {
       "model_id": "",
       "version_major": 2,
       "version_minor": 0
      },
      "text/plain": [
       "VALID:   0%|          | 0/5 [00:00<?, ?it/s]"
      ]
     },
     "metadata": {},
     "output_type": "display_data"
    },
    {
     "name": "stdout",
     "output_type": "stream",
     "text": [
      "|TRAIN: loss=36067.539062,  score=56577.328125|\n",
      "|VALID: loss=77939.804688,  score=112146.187500|\n",
      "-------------------------------------------------------\n",
      "|EPOCH: 7/1000000\n"
     ]
    },
    {
     "data": {
      "application/vnd.jupyter.widget-view+json": {
       "model_id": "",
       "version_major": 2,
       "version_minor": 0
      },
      "text/plain": [
       "TRAIN:   0%|          | 0/43 [00:00<?, ?it/s]"
      ]
     },
     "metadata": {},
     "output_type": "display_data"
    },
    {
     "data": {
      "application/vnd.jupyter.widget-view+json": {
       "model_id": "",
       "version_major": 2,
       "version_minor": 0
      },
      "text/plain": [
       "VALID:   0%|          | 0/5 [00:00<?, ?it/s]"
      ]
     },
     "metadata": {},
     "output_type": "display_data"
    },
    {
     "name": "stdout",
     "output_type": "stream",
     "text": [
      "|TRAIN: loss=30185.005859,  score=46611.046875|\n",
      "|VALID: loss=93735.195312,  score=274627.281250|\n",
      "-------------------------------------------------------\n",
      "|EPOCH: 8/1000000\n"
     ]
    },
    {
     "data": {
      "application/vnd.jupyter.widget-view+json": {
       "model_id": "",
       "version_major": 2,
       "version_minor": 0
      },
      "text/plain": [
       "TRAIN:   0%|          | 0/43 [00:00<?, ?it/s]"
      ]
     },
     "metadata": {},
     "output_type": "display_data"
    },
    {
     "data": {
      "application/vnd.jupyter.widget-view+json": {
       "model_id": "",
       "version_major": 2,
       "version_minor": 0
      },
      "text/plain": [
       "VALID:   0%|          | 0/5 [00:00<?, ?it/s]"
      ]
     },
     "metadata": {},
     "output_type": "display_data"
    },
    {
     "name": "stdout",
     "output_type": "stream",
     "text": [
      "|TRAIN: loss=33371.683594,  score=51423.253906|\n",
      "|VALID: loss=90135.132812,  score=126192.921875|\n",
      "-------------------------------------------------------\n",
      "|EPOCH: 9/1000000\n"
     ]
    },
    {
     "data": {
      "application/vnd.jupyter.widget-view+json": {
       "model_id": "",
       "version_major": 2,
       "version_minor": 0
      },
      "text/plain": [
       "TRAIN:   0%|          | 0/43 [00:00<?, ?it/s]"
      ]
     },
     "metadata": {},
     "output_type": "display_data"
    },
    {
     "data": {
      "application/vnd.jupyter.widget-view+json": {
       "model_id": "",
       "version_major": 2,
       "version_minor": 0
      },
      "text/plain": [
       "VALID:   0%|          | 0/5 [00:00<?, ?it/s]"
      ]
     },
     "metadata": {},
     "output_type": "display_data"
    },
    {
     "name": "stdout",
     "output_type": "stream",
     "text": [
      "|TRAIN: loss=40521.671875,  score=61120.093750|\n",
      "|VALID: loss=553637.062500,  score=648345.125000|\n",
      "-------------------------------------------------------\n",
      "|EPOCH: 10/1000000\n"
     ]
    },
    {
     "data": {
      "application/vnd.jupyter.widget-view+json": {
       "model_id": "",
       "version_major": 2,
       "version_minor": 0
      },
      "text/plain": [
       "TRAIN:   0%|          | 0/43 [00:00<?, ?it/s]"
      ]
     },
     "metadata": {},
     "output_type": "display_data"
    },
    {
     "data": {
      "application/vnd.jupyter.widget-view+json": {
       "model_id": "",
       "version_major": 2,
       "version_minor": 0
      },
      "text/plain": [
       "VALID:   0%|          | 0/5 [00:00<?, ?it/s]"
      ]
     },
     "metadata": {},
     "output_type": "display_data"
    },
    {
     "name": "stdout",
     "output_type": "stream",
     "text": [
      "|TRAIN: loss=38548.929688,  score=59630.960938|\n",
      "|VALID: loss=392007.218750,  score=750350.750000|\n",
      "-------------------------------------------------------\n",
      "|EPOCH: 11/1000000\n"
     ]
    },
    {
     "data": {
      "application/vnd.jupyter.widget-view+json": {
       "model_id": "",
       "version_major": 2,
       "version_minor": 0
      },
      "text/plain": [
       "TRAIN:   0%|          | 0/43 [00:00<?, ?it/s]"
      ]
     },
     "metadata": {},
     "output_type": "display_data"
    },
    {
     "data": {
      "application/vnd.jupyter.widget-view+json": {
       "model_id": "",
       "version_major": 2,
       "version_minor": 0
      },
      "text/plain": [
       "VALID:   0%|          | 0/5 [00:00<?, ?it/s]"
      ]
     },
     "metadata": {},
     "output_type": "display_data"
    },
    {
     "name": "stdout",
     "output_type": "stream",
     "text": [
      "|IS Best!\n",
      "|TRAIN: loss=33866.968750,  score=54469.546875|\n",
      "|VALID: loss=47571.761719,  score=83665.429688|\n",
      "-------------------------------------------------------\n",
      "|EPOCH: 12/1000000\n"
     ]
    },
    {
     "data": {
      "application/vnd.jupyter.widget-view+json": {
       "model_id": "",
       "version_major": 2,
       "version_minor": 0
      },
      "text/plain": [
       "TRAIN:   0%|          | 0/43 [00:00<?, ?it/s]"
      ]
     },
     "metadata": {},
     "output_type": "display_data"
    },
    {
     "data": {
      "application/vnd.jupyter.widget-view+json": {
       "model_id": "",
       "version_major": 2,
       "version_minor": 0
      },
      "text/plain": [
       "VALID:   0%|          | 0/5 [00:00<?, ?it/s]"
      ]
     },
     "metadata": {},
     "output_type": "display_data"
    },
    {
     "name": "stdout",
     "output_type": "stream",
     "text": [
      "|TRAIN: loss=46374.664062,  score=68616.328125|\n",
      "|VALID: loss=99875.968750,  score=132326.390625|\n",
      "-------------------------------------------------------\n",
      "|EPOCH: 13/1000000\n"
     ]
    },
    {
     "data": {
      "application/vnd.jupyter.widget-view+json": {
       "model_id": "",
       "version_major": 2,
       "version_minor": 0
      },
      "text/plain": [
       "TRAIN:   0%|          | 0/43 [00:00<?, ?it/s]"
      ]
     },
     "metadata": {},
     "output_type": "display_data"
    },
    {
     "data": {
      "application/vnd.jupyter.widget-view+json": {
       "model_id": "",
       "version_major": 2,
       "version_minor": 0
      },
      "text/plain": [
       "VALID:   0%|          | 0/5 [00:00<?, ?it/s]"
      ]
     },
     "metadata": {},
     "output_type": "display_data"
    },
    {
     "name": "stdout",
     "output_type": "stream",
     "text": [
      "|TRAIN: loss=45291.808594,  score=74663.515625|\n",
      "|VALID: loss=333279.562500,  score=383487.750000|\n",
      "-------------------------------------------------------\n",
      "|EPOCH: 14/1000000\n"
     ]
    },
    {
     "data": {
      "application/vnd.jupyter.widget-view+json": {
       "model_id": "",
       "version_major": 2,
       "version_minor": 0
      },
      "text/plain": [
       "TRAIN:   0%|          | 0/43 [00:00<?, ?it/s]"
      ]
     },
     "metadata": {},
     "output_type": "display_data"
    },
    {
     "data": {
      "application/vnd.jupyter.widget-view+json": {
       "model_id": "",
       "version_major": 2,
       "version_minor": 0
      },
      "text/plain": [
       "VALID:   0%|          | 0/5 [00:00<?, ?it/s]"
      ]
     },
     "metadata": {},
     "output_type": "display_data"
    },
    {
     "name": "stdout",
     "output_type": "stream",
     "text": [
      "|TRAIN: loss=30199.791016,  score=49396.457031|\n",
      "|VALID: loss=234665.406250,  score=258992.125000|\n",
      "-------------------------------------------------------\n",
      "|EPOCH: 15/1000000\n"
     ]
    },
    {
     "data": {
      "application/vnd.jupyter.widget-view+json": {
       "model_id": "",
       "version_major": 2,
       "version_minor": 0
      },
      "text/plain": [
       "TRAIN:   0%|          | 0/43 [00:00<?, ?it/s]"
      ]
     },
     "metadata": {},
     "output_type": "display_data"
    },
    {
     "data": {
      "application/vnd.jupyter.widget-view+json": {
       "model_id": "",
       "version_major": 2,
       "version_minor": 0
      },
      "text/plain": [
       "VALID:   0%|          | 0/5 [00:00<?, ?it/s]"
      ]
     },
     "metadata": {},
     "output_type": "display_data"
    },
    {
     "name": "stdout",
     "output_type": "stream",
     "text": [
      "|TRAIN: loss=38469.449219,  score=55964.339844|\n",
      "|VALID: loss=88290.125000,  score=108470.367188|\n",
      "-------------------------------------------------------\n",
      "|EPOCH: 16/1000000\n"
     ]
    },
    {
     "data": {
      "application/vnd.jupyter.widget-view+json": {
       "model_id": "",
       "version_major": 2,
       "version_minor": 0
      },
      "text/plain": [
       "TRAIN:   0%|          | 0/43 [00:00<?, ?it/s]"
      ]
     },
     "metadata": {},
     "output_type": "display_data"
    },
    {
     "data": {
      "application/vnd.jupyter.widget-view+json": {
       "model_id": "",
       "version_major": 2,
       "version_minor": 0
      },
      "text/plain": [
       "VALID:   0%|          | 0/5 [00:00<?, ?it/s]"
      ]
     },
     "metadata": {},
     "output_type": "display_data"
    },
    {
     "name": "stdout",
     "output_type": "stream",
     "text": [
      "|TRAIN: loss=34231.796875,  score=56614.519531|\n",
      "|VALID: loss=161519.703125,  score=229509.843750|\n",
      "-------------------------------------------------------\n",
      "|EPOCH: 17/1000000\n"
     ]
    },
    {
     "data": {
      "application/vnd.jupyter.widget-view+json": {
       "model_id": "",
       "version_major": 2,
       "version_minor": 0
      },
      "text/plain": [
       "TRAIN:   0%|          | 0/43 [00:00<?, ?it/s]"
      ]
     },
     "metadata": {},
     "output_type": "display_data"
    },
    {
     "data": {
      "application/vnd.jupyter.widget-view+json": {
       "model_id": "",
       "version_major": 2,
       "version_minor": 0
      },
      "text/plain": [
       "VALID:   0%|          | 0/5 [00:00<?, ?it/s]"
      ]
     },
     "metadata": {},
     "output_type": "display_data"
    },
    {
     "name": "stdout",
     "output_type": "stream",
     "text": [
      "Epoch    17: reducing learning rate of group 0 to 1.0000e-03.\n",
      "|TRAIN: loss=61996.554688,  score=116381.976562|\n",
      "|VALID: loss=450877.375000,  score=480013.781250|\n",
      "-------------------------------------------------------\n",
      "|EPOCH: 18/1000000\n"
     ]
    },
    {
     "data": {
      "application/vnd.jupyter.widget-view+json": {
       "model_id": "",
       "version_major": 2,
       "version_minor": 0
      },
      "text/plain": [
       "TRAIN:   0%|          | 0/43 [00:00<?, ?it/s]"
      ]
     },
     "metadata": {},
     "output_type": "display_data"
    },
    {
     "data": {
      "application/vnd.jupyter.widget-view+json": {
       "model_id": "",
       "version_major": 2,
       "version_minor": 0
      },
      "text/plain": [
       "VALID:   0%|          | 0/5 [00:00<?, ?it/s]"
      ]
     },
     "metadata": {},
     "output_type": "display_data"
    },
    {
     "name": "stdout",
     "output_type": "stream",
     "text": [
      "|TRAIN: loss=27667.523438,  score=43177.390625|\n",
      "|VALID: loss=133803.156250,  score=171232.828125|\n",
      "-------------------------------------------------------\n",
      "|EPOCH: 19/1000000\n"
     ]
    },
    {
     "data": {
      "application/vnd.jupyter.widget-view+json": {
       "model_id": "",
       "version_major": 2,
       "version_minor": 0
      },
      "text/plain": [
       "TRAIN:   0%|          | 0/43 [00:00<?, ?it/s]"
      ]
     },
     "metadata": {},
     "output_type": "display_data"
    },
    {
     "data": {
      "application/vnd.jupyter.widget-view+json": {
       "model_id": "",
       "version_major": 2,
       "version_minor": 0
      },
      "text/plain": [
       "VALID:   0%|          | 0/5 [00:00<?, ?it/s]"
      ]
     },
     "metadata": {},
     "output_type": "display_data"
    },
    {
     "name": "stdout",
     "output_type": "stream",
     "text": [
      "|TRAIN: loss=20257.134766,  score=31804.373047|\n",
      "|VALID: loss=193267.312500,  score=227546.921875|\n",
      "-------------------------------------------------------\n",
      "|EPOCH: 20/1000000\n"
     ]
    },
    {
     "data": {
      "application/vnd.jupyter.widget-view+json": {
       "model_id": "",
       "version_major": 2,
       "version_minor": 0
      },
      "text/plain": [
       "TRAIN:   0%|          | 0/43 [00:00<?, ?it/s]"
      ]
     },
     "metadata": {},
     "output_type": "display_data"
    },
    {
     "data": {
      "application/vnd.jupyter.widget-view+json": {
       "model_id": "",
       "version_major": 2,
       "version_minor": 0
      },
      "text/plain": [
       "VALID:   0%|          | 0/5 [00:00<?, ?it/s]"
      ]
     },
     "metadata": {},
     "output_type": "display_data"
    },
    {
     "name": "stdout",
     "output_type": "stream",
     "text": [
      "|TRAIN: loss=17338.472656,  score=25259.830078|\n",
      "|VALID: loss=74757.687500,  score=100575.890625|\n",
      "-------------------------------------------------------\n",
      "|EPOCH: 21/1000000\n"
     ]
    },
    {
     "data": {
      "application/vnd.jupyter.widget-view+json": {
       "model_id": "",
       "version_major": 2,
       "version_minor": 0
      },
      "text/plain": [
       "TRAIN:   0%|          | 0/43 [00:00<?, ?it/s]"
      ]
     },
     "metadata": {},
     "output_type": "display_data"
    },
    {
     "data": {
      "application/vnd.jupyter.widget-view+json": {
       "model_id": "",
       "version_major": 2,
       "version_minor": 0
      },
      "text/plain": [
       "VALID:   0%|          | 0/5 [00:00<?, ?it/s]"
      ]
     },
     "metadata": {},
     "output_type": "display_data"
    },
    {
     "name": "stdout",
     "output_type": "stream",
     "text": [
      "|IS Best!\n",
      "|TRAIN: loss=15035.073242,  score=23723.583984|\n",
      "|VALID: loss=33625.593750,  score=48024.996094|\n",
      "-------------------------------------------------------\n",
      "|EPOCH: 22/1000000\n"
     ]
    },
    {
     "data": {
      "application/vnd.jupyter.widget-view+json": {
       "model_id": "",
       "version_major": 2,
       "version_minor": 0
      },
      "text/plain": [
       "TRAIN:   0%|          | 0/43 [00:00<?, ?it/s]"
      ]
     },
     "metadata": {},
     "output_type": "display_data"
    },
    {
     "data": {
      "application/vnd.jupyter.widget-view+json": {
       "model_id": "",
       "version_major": 2,
       "version_minor": 0
      },
      "text/plain": [
       "VALID:   0%|          | 0/5 [00:00<?, ?it/s]"
      ]
     },
     "metadata": {},
     "output_type": "display_data"
    },
    {
     "name": "stdout",
     "output_type": "stream",
     "text": [
      "|TRAIN: loss=18017.851562,  score=28273.488281|\n",
      "|VALID: loss=42965.582031,  score=60885.601562|\n",
      "-------------------------------------------------------\n",
      "|EPOCH: 23/1000000\n"
     ]
    },
    {
     "data": {
      "application/vnd.jupyter.widget-view+json": {
       "model_id": "",
       "version_major": 2,
       "version_minor": 0
      },
      "text/plain": [
       "TRAIN:   0%|          | 0/43 [00:00<?, ?it/s]"
      ]
     },
     "metadata": {},
     "output_type": "display_data"
    },
    {
     "data": {
      "application/vnd.jupyter.widget-view+json": {
       "model_id": "",
       "version_major": 2,
       "version_minor": 0
      },
      "text/plain": [
       "VALID:   0%|          | 0/5 [00:00<?, ?it/s]"
      ]
     },
     "metadata": {},
     "output_type": "display_data"
    },
    {
     "name": "stdout",
     "output_type": "stream",
     "text": [
      "|IS Best!\n",
      "|TRAIN: loss=16880.673828,  score=31448.496094|\n",
      "|VALID: loss=25723.386719,  score=36500.550781|\n",
      "-------------------------------------------------------\n",
      "|EPOCH: 24/1000000\n"
     ]
    },
    {
     "data": {
      "application/vnd.jupyter.widget-view+json": {
       "model_id": "",
       "version_major": 2,
       "version_minor": 0
      },
      "text/plain": [
       "TRAIN:   0%|          | 0/43 [00:00<?, ?it/s]"
      ]
     },
     "metadata": {},
     "output_type": "display_data"
    },
    {
     "data": {
      "application/vnd.jupyter.widget-view+json": {
       "model_id": "",
       "version_major": 2,
       "version_minor": 0
      },
      "text/plain": [
       "VALID:   0%|          | 0/5 [00:00<?, ?it/s]"
      ]
     },
     "metadata": {},
     "output_type": "display_data"
    },
    {
     "name": "stdout",
     "output_type": "stream",
     "text": [
      "|TRAIN: loss=17260.253906,  score=28865.343750|\n",
      "|VALID: loss=37464.210938,  score=52039.378906|\n",
      "-------------------------------------------------------\n",
      "|EPOCH: 25/1000000\n"
     ]
    },
    {
     "data": {
      "application/vnd.jupyter.widget-view+json": {
       "model_id": "",
       "version_major": 2,
       "version_minor": 0
      },
      "text/plain": [
       "TRAIN:   0%|          | 0/43 [00:00<?, ?it/s]"
      ]
     },
     "metadata": {},
     "output_type": "display_data"
    },
    {
     "data": {
      "application/vnd.jupyter.widget-view+json": {
       "model_id": "",
       "version_major": 2,
       "version_minor": 0
      },
      "text/plain": [
       "VALID:   0%|          | 0/5 [00:00<?, ?it/s]"
      ]
     },
     "metadata": {},
     "output_type": "display_data"
    },
    {
     "name": "stdout",
     "output_type": "stream",
     "text": [
      "|TRAIN: loss=15953.420898,  score=23209.259766|\n",
      "|VALID: loss=50557.277344,  score=68752.781250|\n",
      "-------------------------------------------------------\n",
      "|EPOCH: 26/1000000\n"
     ]
    },
    {
     "data": {
      "application/vnd.jupyter.widget-view+json": {
       "model_id": "",
       "version_major": 2,
       "version_minor": 0
      },
      "text/plain": [
       "TRAIN:   0%|          | 0/43 [00:00<?, ?it/s]"
      ]
     },
     "metadata": {},
     "output_type": "display_data"
    },
    {
     "data": {
      "application/vnd.jupyter.widget-view+json": {
       "model_id": "",
       "version_major": 2,
       "version_minor": 0
      },
      "text/plain": [
       "VALID:   0%|          | 0/5 [00:00<?, ?it/s]"
      ]
     },
     "metadata": {},
     "output_type": "display_data"
    },
    {
     "name": "stdout",
     "output_type": "stream",
     "text": [
      "|IS Best!\n",
      "|TRAIN: loss=16878.462891,  score=27351.873047|\n",
      "|VALID: loss=24331.900391,  score=33522.828125|\n",
      "-------------------------------------------------------\n",
      "|EPOCH: 27/1000000\n"
     ]
    },
    {
     "data": {
      "application/vnd.jupyter.widget-view+json": {
       "model_id": "",
       "version_major": 2,
       "version_minor": 0
      },
      "text/plain": [
       "TRAIN:   0%|          | 0/43 [00:00<?, ?it/s]"
      ]
     },
     "metadata": {},
     "output_type": "display_data"
    },
    {
     "data": {
      "application/vnd.jupyter.widget-view+json": {
       "model_id": "",
       "version_major": 2,
       "version_minor": 0
      },
      "text/plain": [
       "VALID:   0%|          | 0/5 [00:00<?, ?it/s]"
      ]
     },
     "metadata": {},
     "output_type": "display_data"
    },
    {
     "name": "stdout",
     "output_type": "stream",
     "text": [
      "|TRAIN: loss=14750.983398,  score=23056.697266|\n",
      "|VALID: loss=45080.933594,  score=63817.191406|\n",
      "-------------------------------------------------------\n",
      "|EPOCH: 28/1000000\n"
     ]
    },
    {
     "data": {
      "application/vnd.jupyter.widget-view+json": {
       "model_id": "",
       "version_major": 2,
       "version_minor": 0
      },
      "text/plain": [
       "TRAIN:   0%|          | 0/43 [00:00<?, ?it/s]"
      ]
     },
     "metadata": {},
     "output_type": "display_data"
    },
    {
     "data": {
      "application/vnd.jupyter.widget-view+json": {
       "model_id": "",
       "version_major": 2,
       "version_minor": 0
      },
      "text/plain": [
       "VALID:   0%|          | 0/5 [00:00<?, ?it/s]"
      ]
     },
     "metadata": {},
     "output_type": "display_data"
    },
    {
     "name": "stdout",
     "output_type": "stream",
     "text": [
      "|TRAIN: loss=14757.650391,  score=22590.453125|\n",
      "|VALID: loss=66631.734375,  score=79414.234375|\n",
      "-------------------------------------------------------\n",
      "|EPOCH: 29/1000000\n"
     ]
    },
    {
     "data": {
      "application/vnd.jupyter.widget-view+json": {
       "model_id": "",
       "version_major": 2,
       "version_minor": 0
      },
      "text/plain": [
       "TRAIN:   0%|          | 0/43 [00:00<?, ?it/s]"
      ]
     },
     "metadata": {},
     "output_type": "display_data"
    },
    {
     "data": {
      "application/vnd.jupyter.widget-view+json": {
       "model_id": "",
       "version_major": 2,
       "version_minor": 0
      },
      "text/plain": [
       "VALID:   0%|          | 0/5 [00:00<?, ?it/s]"
      ]
     },
     "metadata": {},
     "output_type": "display_data"
    },
    {
     "name": "stdout",
     "output_type": "stream",
     "text": [
      "|TRAIN: loss=17185.605469,  score=25509.818359|\n",
      "|VALID: loss=52604.796875,  score=65764.312500|\n",
      "-------------------------------------------------------\n",
      "|EPOCH: 30/1000000\n"
     ]
    },
    {
     "data": {
      "application/vnd.jupyter.widget-view+json": {
       "model_id": "",
       "version_major": 2,
       "version_minor": 0
      },
      "text/plain": [
       "TRAIN:   0%|          | 0/43 [00:00<?, ?it/s]"
      ]
     },
     "metadata": {},
     "output_type": "display_data"
    },
    {
     "data": {
      "application/vnd.jupyter.widget-view+json": {
       "model_id": "",
       "version_major": 2,
       "version_minor": 0
      },
      "text/plain": [
       "VALID:   0%|          | 0/5 [00:00<?, ?it/s]"
      ]
     },
     "metadata": {},
     "output_type": "display_data"
    },
    {
     "name": "stdout",
     "output_type": "stream",
     "text": [
      "|TRAIN: loss=15789.997070,  score=25178.408203|\n",
      "|VALID: loss=37161.000000,  score=49708.539062|\n",
      "-------------------------------------------------------\n",
      "|EPOCH: 31/1000000\n"
     ]
    },
    {
     "data": {
      "application/vnd.jupyter.widget-view+json": {
       "model_id": "",
       "version_major": 2,
       "version_minor": 0
      },
      "text/plain": [
       "TRAIN:   0%|          | 0/43 [00:00<?, ?it/s]"
      ]
     },
     "metadata": {},
     "output_type": "display_data"
    },
    {
     "data": {
      "application/vnd.jupyter.widget-view+json": {
       "model_id": "",
       "version_major": 2,
       "version_minor": 0
      },
      "text/plain": [
       "VALID:   0%|          | 0/5 [00:00<?, ?it/s]"
      ]
     },
     "metadata": {},
     "output_type": "display_data"
    },
    {
     "name": "stdout",
     "output_type": "stream",
     "text": [
      "|TRAIN: loss=16682.361328,  score=23887.369141|\n",
      "|VALID: loss=94345.757812,  score=110202.328125|\n",
      "-------------------------------------------------------\n",
      "|EPOCH: 32/1000000\n"
     ]
    },
    {
     "data": {
      "application/vnd.jupyter.widget-view+json": {
       "model_id": "",
       "version_major": 2,
       "version_minor": 0
      },
      "text/plain": [
       "TRAIN:   0%|          | 0/43 [00:00<?, ?it/s]"
      ]
     },
     "metadata": {},
     "output_type": "display_data"
    },
    {
     "data": {
      "application/vnd.jupyter.widget-view+json": {
       "model_id": "",
       "version_major": 2,
       "version_minor": 0
      },
      "text/plain": [
       "VALID:   0%|          | 0/5 [00:00<?, ?it/s]"
      ]
     },
     "metadata": {},
     "output_type": "display_data"
    },
    {
     "name": "stdout",
     "output_type": "stream",
     "text": [
      "Epoch    32: reducing learning rate of group 0 to 1.0000e-04.\n",
      "|TRAIN: loss=18280.201172,  score=27081.558594|\n",
      "|VALID: loss=54394.644531,  score=78625.375000|\n",
      "-------------------------------------------------------\n",
      "|EPOCH: 33/1000000\n"
     ]
    },
    {
     "data": {
      "application/vnd.jupyter.widget-view+json": {
       "model_id": "",
       "version_major": 2,
       "version_minor": 0
      },
      "text/plain": [
       "TRAIN:   0%|          | 0/43 [00:00<?, ?it/s]"
      ]
     },
     "metadata": {},
     "output_type": "display_data"
    },
    {
     "data": {
      "application/vnd.jupyter.widget-view+json": {
       "model_id": "",
       "version_major": 2,
       "version_minor": 0
      },
      "text/plain": [
       "VALID:   0%|          | 0/5 [00:00<?, ?it/s]"
      ]
     },
     "metadata": {},
     "output_type": "display_data"
    },
    {
     "name": "stdout",
     "output_type": "stream",
     "text": [
      "|TRAIN: loss=14921.820312,  score=21995.535156|\n",
      "|VALID: loss=43727.000000,  score=58193.476562|\n",
      "-------------------------------------------------------\n",
      "|EPOCH: 34/1000000\n"
     ]
    },
    {
     "data": {
      "application/vnd.jupyter.widget-view+json": {
       "model_id": "",
       "version_major": 2,
       "version_minor": 0
      },
      "text/plain": [
       "TRAIN:   0%|          | 0/43 [00:00<?, ?it/s]"
      ]
     },
     "metadata": {},
     "output_type": "display_data"
    },
    {
     "data": {
      "application/vnd.jupyter.widget-view+json": {
       "model_id": "",
       "version_major": 2,
       "version_minor": 0
      },
      "text/plain": [
       "VALID:   0%|          | 0/5 [00:00<?, ?it/s]"
      ]
     },
     "metadata": {},
     "output_type": "display_data"
    },
    {
     "name": "stdout",
     "output_type": "stream",
     "text": [
      "|TRAIN: loss=14552.300781,  score=21703.388672|\n",
      "|VALID: loss=46914.464844,  score=67428.054688|\n",
      "-------------------------------------------------------\n",
      "|EPOCH: 35/1000000\n"
     ]
    },
    {
     "data": {
      "application/vnd.jupyter.widget-view+json": {
       "model_id": "",
       "version_major": 2,
       "version_minor": 0
      },
      "text/plain": [
       "TRAIN:   0%|          | 0/43 [00:00<?, ?it/s]"
      ]
     },
     "metadata": {},
     "output_type": "display_data"
    },
    {
     "data": {
      "application/vnd.jupyter.widget-view+json": {
       "model_id": "",
       "version_major": 2,
       "version_minor": 0
      },
      "text/plain": [
       "VALID:   0%|          | 0/5 [00:00<?, ?it/s]"
      ]
     },
     "metadata": {},
     "output_type": "display_data"
    },
    {
     "name": "stdout",
     "output_type": "stream",
     "text": [
      "|TRAIN: loss=14800.197266,  score=22275.925781|\n",
      "|VALID: loss=35952.031250,  score=49904.156250|\n",
      "-------------------------------------------------------\n",
      "|EPOCH: 36/1000000\n"
     ]
    },
    {
     "data": {
      "application/vnd.jupyter.widget-view+json": {
       "model_id": "",
       "version_major": 2,
       "version_minor": 0
      },
      "text/plain": [
       "TRAIN:   0%|          | 0/43 [00:00<?, ?it/s]"
      ]
     },
     "metadata": {},
     "output_type": "display_data"
    },
    {
     "data": {
      "application/vnd.jupyter.widget-view+json": {
       "model_id": "",
       "version_major": 2,
       "version_minor": 0
      },
      "text/plain": [
       "VALID:   0%|          | 0/5 [00:00<?, ?it/s]"
      ]
     },
     "metadata": {},
     "output_type": "display_data"
    },
    {
     "name": "stdout",
     "output_type": "stream",
     "text": [
      "|TRAIN: loss=14923.954102,  score=22995.894531|\n",
      "|VALID: loss=32010.847656,  score=46374.742188|\n",
      "-------------------------------------------------------\n",
      "|EPOCH: 37/1000000\n"
     ]
    },
    {
     "data": {
      "application/vnd.jupyter.widget-view+json": {
       "model_id": "",
       "version_major": 2,
       "version_minor": 0
      },
      "text/plain": [
       "TRAIN:   0%|          | 0/43 [00:00<?, ?it/s]"
      ]
     },
     "metadata": {},
     "output_type": "display_data"
    },
    {
     "data": {
      "application/vnd.jupyter.widget-view+json": {
       "model_id": "",
       "version_major": 2,
       "version_minor": 0
      },
      "text/plain": [
       "VALID:   0%|          | 0/5 [00:00<?, ?it/s]"
      ]
     },
     "metadata": {},
     "output_type": "display_data"
    },
    {
     "name": "stdout",
     "output_type": "stream",
     "text": [
      "|TRAIN: loss=14632.595703,  score=22715.714844|\n",
      "|VALID: loss=46481.703125,  score=65329.570312|\n",
      "-------------------------------------------------------\n",
      "|EPOCH: 38/1000000\n"
     ]
    },
    {
     "data": {
      "application/vnd.jupyter.widget-view+json": {
       "model_id": "",
       "version_major": 2,
       "version_minor": 0
      },
      "text/plain": [
       "TRAIN:   0%|          | 0/43 [00:00<?, ?it/s]"
      ]
     },
     "metadata": {},
     "output_type": "display_data"
    },
    {
     "data": {
      "application/vnd.jupyter.widget-view+json": {
       "model_id": "",
       "version_major": 2,
       "version_minor": 0
      },
      "text/plain": [
       "VALID:   0%|          | 0/5 [00:00<?, ?it/s]"
      ]
     },
     "metadata": {},
     "output_type": "display_data"
    },
    {
     "name": "stdout",
     "output_type": "stream",
     "text": [
      "Epoch    38: reducing learning rate of group 0 to 1.0000e-05.\n",
      "|TRAIN: loss=14844.793945,  score=22866.427734|\n",
      "|VALID: loss=42435.253906,  score=60457.847656|\n",
      "-------------------------------------------------------\n",
      "|EPOCH: 39/1000000\n"
     ]
    },
    {
     "data": {
      "application/vnd.jupyter.widget-view+json": {
       "model_id": "",
       "version_major": 2,
       "version_minor": 0
      },
      "text/plain": [
       "TRAIN:   0%|          | 0/43 [00:00<?, ?it/s]"
      ]
     },
     "metadata": {},
     "output_type": "display_data"
    },
    {
     "data": {
      "application/vnd.jupyter.widget-view+json": {
       "model_id": "",
       "version_major": 2,
       "version_minor": 0
      },
      "text/plain": [
       "VALID:   0%|          | 0/5 [00:00<?, ?it/s]"
      ]
     },
     "metadata": {},
     "output_type": "display_data"
    },
    {
     "name": "stdout",
     "output_type": "stream",
     "text": [
      "|TRAIN: loss=14537.175781,  score=21900.253906|\n",
      "|VALID: loss=40863.281250,  score=55570.007812|\n",
      "-------------------------------------------------------\n",
      "|EPOCH: 40/1000000\n"
     ]
    },
    {
     "data": {
      "application/vnd.jupyter.widget-view+json": {
       "model_id": "",
       "version_major": 2,
       "version_minor": 0
      },
      "text/plain": [
       "TRAIN:   0%|          | 0/43 [00:00<?, ?it/s]"
      ]
     },
     "metadata": {},
     "output_type": "display_data"
    },
    {
     "data": {
      "application/vnd.jupyter.widget-view+json": {
       "model_id": "",
       "version_major": 2,
       "version_minor": 0
      },
      "text/plain": [
       "VALID:   0%|          | 0/5 [00:00<?, ?it/s]"
      ]
     },
     "metadata": {},
     "output_type": "display_data"
    },
    {
     "name": "stdout",
     "output_type": "stream",
     "text": [
      "|TRAIN: loss=14524.275391,  score=21929.867188|\n",
      "|VALID: loss=29349.617188,  score=43765.218750|\n",
      "-------------------------------------------------------\n",
      "|EPOCH: 41/1000000\n"
     ]
    },
    {
     "data": {
      "application/vnd.jupyter.widget-view+json": {
       "model_id": "",
       "version_major": 2,
       "version_minor": 0
      },
      "text/plain": [
       "TRAIN:   0%|          | 0/43 [00:00<?, ?it/s]"
      ]
     },
     "metadata": {},
     "output_type": "display_data"
    },
    {
     "data": {
      "application/vnd.jupyter.widget-view+json": {
       "model_id": "",
       "version_major": 2,
       "version_minor": 0
      },
      "text/plain": [
       "VALID:   0%|          | 0/5 [00:00<?, ?it/s]"
      ]
     },
     "metadata": {},
     "output_type": "display_data"
    },
    {
     "name": "stdout",
     "output_type": "stream",
     "text": [
      "|TRAIN: loss=14500.942383,  score=21877.253906|\n",
      "|VALID: loss=32920.371094,  score=47113.421875|\n",
      "-------------------------------------------------------\n",
      "|EPOCH: 42/1000000\n"
     ]
    },
    {
     "data": {
      "application/vnd.jupyter.widget-view+json": {
       "model_id": "",
       "version_major": 2,
       "version_minor": 0
      },
      "text/plain": [
       "TRAIN:   0%|          | 0/43 [00:00<?, ?it/s]"
      ]
     },
     "metadata": {},
     "output_type": "display_data"
    },
    {
     "data": {
      "application/vnd.jupyter.widget-view+json": {
       "model_id": "",
       "version_major": 2,
       "version_minor": 0
      },
      "text/plain": [
       "VALID:   0%|          | 0/5 [00:00<?, ?it/s]"
      ]
     },
     "metadata": {},
     "output_type": "display_data"
    },
    {
     "name": "stdout",
     "output_type": "stream",
     "text": [
      "|TRAIN: loss=14587.261719,  score=22175.958984|\n",
      "|VALID: loss=36741.292969,  score=50692.750000|\n",
      "-------------------------------------------------------\n",
      "|EPOCH: 43/1000000\n"
     ]
    },
    {
     "data": {
      "application/vnd.jupyter.widget-view+json": {
       "model_id": "",
       "version_major": 2,
       "version_minor": 0
      },
      "text/plain": [
       "TRAIN:   0%|          | 0/43 [00:00<?, ?it/s]"
      ]
     },
     "metadata": {},
     "output_type": "display_data"
    },
    {
     "data": {
      "application/vnd.jupyter.widget-view+json": {
       "model_id": "",
       "version_major": 2,
       "version_minor": 0
      },
      "text/plain": [
       "VALID:   0%|          | 0/5 [00:00<?, ?it/s]"
      ]
     },
     "metadata": {},
     "output_type": "display_data"
    },
    {
     "name": "stdout",
     "output_type": "stream",
     "text": [
      "|TRAIN: loss=14548.108398,  score=22140.250000|\n",
      "|VALID: loss=40943.214844,  score=58743.257812|\n",
      "-------------------------------------------------------\n",
      "|EPOCH: 44/1000000\n"
     ]
    },
    {
     "data": {
      "application/vnd.jupyter.widget-view+json": {
       "model_id": "",
       "version_major": 2,
       "version_minor": 0
      },
      "text/plain": [
       "TRAIN:   0%|          | 0/43 [00:00<?, ?it/s]"
      ]
     },
     "metadata": {},
     "output_type": "display_data"
    },
    {
     "data": {
      "application/vnd.jupyter.widget-view+json": {
       "model_id": "",
       "version_major": 2,
       "version_minor": 0
      },
      "text/plain": [
       "VALID:   0%|          | 0/5 [00:00<?, ?it/s]"
      ]
     },
     "metadata": {},
     "output_type": "display_data"
    },
    {
     "name": "stdout",
     "output_type": "stream",
     "text": [
      "Epoch    44: reducing learning rate of group 0 to 1.0000e-06.\n",
      "|TRAIN: loss=14540.084961,  score=22251.587891|\n",
      "|VALID: loss=36625.734375,  score=53029.953125|\n",
      "-------------------------------------------------------\n",
      "|EPOCH: 45/1000000\n"
     ]
    },
    {
     "data": {
      "application/vnd.jupyter.widget-view+json": {
       "model_id": "",
       "version_major": 2,
       "version_minor": 0
      },
      "text/plain": [
       "TRAIN:   0%|          | 0/43 [00:00<?, ?it/s]"
      ]
     },
     "metadata": {},
     "output_type": "display_data"
    },
    {
     "data": {
      "application/vnd.jupyter.widget-view+json": {
       "model_id": "",
       "version_major": 2,
       "version_minor": 0
      },
      "text/plain": [
       "VALID:   0%|          | 0/5 [00:00<?, ?it/s]"
      ]
     },
     "metadata": {},
     "output_type": "display_data"
    },
    {
     "name": "stdout",
     "output_type": "stream",
     "text": [
      "|TRAIN: loss=14540.941406,  score=22198.728516|\n",
      "|VALID: loss=31505.517578,  score=43605.628906|\n",
      "-------------------------------------------------------\n",
      "|EPOCH: 46/1000000\n"
     ]
    },
    {
     "data": {
      "application/vnd.jupyter.widget-view+json": {
       "model_id": "",
       "version_major": 2,
       "version_minor": 0
      },
      "text/plain": [
       "TRAIN:   0%|          | 0/43 [00:00<?, ?it/s]"
      ]
     },
     "metadata": {},
     "output_type": "display_data"
    },
    {
     "data": {
      "application/vnd.jupyter.widget-view+json": {
       "model_id": "",
       "version_major": 2,
       "version_minor": 0
      },
      "text/plain": [
       "VALID:   0%|          | 0/5 [00:00<?, ?it/s]"
      ]
     },
     "metadata": {},
     "output_type": "display_data"
    },
    {
     "name": "stdout",
     "output_type": "stream",
     "text": [
      "|TRAIN: loss=14543.090820,  score=22201.755859|\n",
      "|VALID: loss=37383.058594,  score=53485.199219|\n",
      "-------------------------------------------------------\n",
      "|EPOCH: 47/1000000\n"
     ]
    },
    {
     "data": {
      "application/vnd.jupyter.widget-view+json": {
       "model_id": "6f48b7cfce2e404fa868727afa63ebb3",
       "version_major": 2,
       "version_minor": 0
      },
      "text/plain": [
       "TRAIN:   0%|          | 0/43 [00:00<?, ?it/s]"
      ]
     },
     "metadata": {},
     "output_type": "display_data"
    },
    {
     "data": {
      "application/vnd.jupyter.widget-view+json": {
       "model_id": "5a6b04e742bd4a66ab01df0b596bdea4",
       "version_major": 2,
       "version_minor": 0
      },
      "text/plain": [
       "VALID:   0%|          | 0/5 [00:00<?, ?it/s]"
      ]
     },
     "metadata": {},
     "output_type": "display_data"
    }
   ],
   "source": [
    "train_loss_list = []\n",
    "train_score_list = []\n",
    "valid_loss_list = []\n",
    "valid_score_list = []\n",
    "\n",
    "patience_count = 0\n",
    "min_valid_score = np.inf\n",
    "checkpoint_name = \"\"\n",
    "\n",
    "if not os.path.isdir(f\"./models/{notebookName}/model-{num_files}_checkpoint/\"):\n",
    "    os.mkdir(f\"./models/{notebookName}/model-{num_files}_checkpoint/\")\n",
    "    \n",
    "prog_epoch = tqdm(range(0, nepochs), position = 0, desc = 'EPOCH')\n",
    "for epoch in prog_epoch:\n",
    "    print( \"-------------------------------------------------------\")\n",
    "    print(f\"|EPOCH: {epoch+1}/{nepochs}\")\n",
    "    prog_train = tqdm(train_loader, desc = 'TRAIN', leave = False)\n",
    "    prog_valid = tqdm(valid_loader, desc = 'VALID', leave = False)\n",
    "    \n",
    "    train_loss, train_score = train(epoch, prog_train)\n",
    "    valid_loss, valid_score = valid(epoch, prog_valid)\n",
    "    \n",
    "    scheduler.step(valid_score)\n",
    "    \n",
    "    if min_valid_score > valid_score:\n",
    "        print(\"|IS Best!\")\n",
    "        min_valid_score = valid_score\n",
    "        checkpoint_name = f\"./models/{notebookName}/model-{num_files}_checkpoint/model-{epoch}-{valid_score}.pth\"\n",
    "        torch.save(model.state_dict(), checkpoint_name)\n",
    "    else:\n",
    "        patience_count+=1\n",
    "        if(patience_count > max_patience_count):\n",
    "            break\n",
    "        \n",
    "    train_loss_list.append(train_loss)\n",
    "    train_score_list.append(train_score)\n",
    "    valid_loss_list.append(valid_loss)\n",
    "    valid_score_list.append(valid_score)\n",
    "    \n",
    "    print(f\"|TRAIN: loss={train_loss:.6f},  score={train_score:.6f}|\")\n",
    "    print(f\"|VALID: loss={valid_loss:.6f},  score={valid_score:.6f}|\")\n",
    "    \n",
    "    \n",
    "history = dict()\n",
    "history['train_loss'] = train_loss_list\n",
    "history['train_score'] = train_score_list\n",
    "history['valid_loss'] = valid_loss_list\n",
    "history['valid_score'] = valid_score_list"
   ]
  },
  {
   "cell_type": "code",
   "execution_count": null,
   "metadata": {
    "ExecuteTime": {
     "start_time": "2021-07-08T15:52:11.293Z"
    }
   },
   "outputs": [],
   "source": [
    "# Load submission sample\n",
    "submission = pd.read_csv(str(data_dir / \"sample_submission.csv\"))\n",
    "print(submission.shape)\n",
    "submission.head()"
   ]
  },
  {
   "cell_type": "code",
   "execution_count": null,
   "metadata": {
    "ExecuteTime": {
     "start_time": "2021-07-08T15:52:11.293Z"
    }
   },
   "outputs": [],
   "source": [
    "model.load_state_dict(torch.load(checkpoint_name))\n",
    "torch.save(model.state_dict(), f\"./models/{notebookName}/model-{min_valid_score}.pth\")"
   ]
  },
  {
   "cell_type": "code",
   "execution_count": null,
   "metadata": {
    "ExecuteTime": {
     "start_time": "2021-07-08T15:52:11.294Z"
    }
   },
   "outputs": [],
   "source": [
    "predict = test(0, tqdm(test_loader))"
   ]
  },
  {
   "cell_type": "code",
   "execution_count": null,
   "metadata": {
    "ExecuteTime": {
     "start_time": "2021-07-08T15:52:11.295Z"
    }
   },
   "outputs": [],
   "source": [
    "predict = torch.cat(predict, axis = 1).squeeze(0)\n",
    "submission['latDeg'] = predict[:,0]\n",
    "submission['lngDeg'] = predict[:,1]"
   ]
  },
  {
   "cell_type": "code",
   "execution_count": null,
   "metadata": {
    "ExecuteTime": {
     "start_time": "2021-07-08T15:52:11.296Z"
    }
   },
   "outputs": [],
   "source": [
    "submission.to_csv(f\"./models/{notebookName}/result-{num_files}-{min_valid_score}.csv\", index = False)\n",
    "pd.DataFrame([]).to_csv(PATH / f\"{num_files}\")"
   ]
  }
 ],
 "metadata": {
  "hide_input": false,
  "kernelspec": {
   "display_name": "torch",
   "language": "python",
   "name": "torch"
  },
  "language_info": {
   "codemirror_mode": {
    "name": "ipython",
    "version": 3
   },
   "file_extension": ".py",
   "mimetype": "text/x-python",
   "name": "python",
   "nbconvert_exporter": "python",
   "pygments_lexer": "ipython3",
   "version": "3.6.12"
  },
  "latex_envs": {
   "LaTeX_envs_menu_present": true,
   "autoclose": false,
   "autocomplete": true,
   "bibliofile": "biblio.bib",
   "cite_by": "apalike",
   "current_citInitial": 1,
   "eqLabelWithNumbers": true,
   "eqNumInitial": 1,
   "hotkeys": {
    "equation": "Ctrl-E",
    "itemize": "Ctrl-I"
   },
   "labels_anchors": false,
   "latex_user_defs": false,
   "report_style_numbering": false,
   "user_envs_cfg": false
  },
  "toc": {
   "base_numbering": 1,
   "nav_menu": {},
   "number_sections": true,
   "sideBar": true,
   "skip_h1_title": false,
   "title_cell": "Table of Contents",
   "title_sidebar": "Contents",
   "toc_cell": false,
   "toc_position": {
    "height": "calc(100% - 180px)",
    "left": "10px",
    "top": "150px",
    "width": "192px"
   },
   "toc_section_display": true,
   "toc_window_display": true
  },
  "varInspector": {
   "cols": {
    "lenName": 16,
    "lenType": 16,
    "lenVar": 40
   },
   "kernels_config": {
    "python": {
     "delete_cmd_postfix": "",
     "delete_cmd_prefix": "del ",
     "library": "var_list.py",
     "varRefreshCmd": "print(var_dic_list())"
    },
    "r": {
     "delete_cmd_postfix": ") ",
     "delete_cmd_prefix": "rm(",
     "library": "var_list.r",
     "varRefreshCmd": "cat(var_dic_list()) "
    }
   },
   "types_to_exclude": [
    "module",
    "function",
    "builtin_function_or_method",
    "instance",
    "_Feature"
   ],
   "window_display": false
  }
 },
 "nbformat": 4,
 "nbformat_minor": 4
}
