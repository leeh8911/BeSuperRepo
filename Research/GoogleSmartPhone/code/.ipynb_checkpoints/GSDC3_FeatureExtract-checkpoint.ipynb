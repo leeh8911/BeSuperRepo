{
 "cells": [
  {
   "cell_type": "markdown",
   "metadata": {},
   "source": [
    "# Load Libraries"
   ]
  },
  {
   "cell_type": "code",
   "execution_count": null,
   "metadata": {
    "ExecuteTime": {
     "start_time": "2021-07-04T01:08:55.701Z"
    }
   },
   "outputs": [],
   "source": [
    "import numpy as np\n",
    "import pandas as pd\n",
    "from glob import glob\n",
    "import os\n",
    "import matplotlib.pyplot as plt\n",
    "from tqdm.notebook import tqdm\n",
    "from pathlib import Path\n",
    "import plotly.express as px\n",
    "\n",
    "import torch\n",
    "import torch.nn as nn\n",
    "import torch.nn.functional as F\n",
    "import torch.optim as optim\n",
    "from torch.utils.data import TensorDataset, DataLoader\n",
    "from sklearn.model_selection import train_test_split\n",
    "from sklearn.preprocessing import StandardScaler, MinMaxScaler"
   ]
  },
  {
   "cell_type": "markdown",
   "metadata": {},
   "source": [
    "# Set Path"
   ]
  },
  {
   "cell_type": "code",
   "execution_count": null,
   "metadata": {
    "ExecuteTime": {
     "start_time": "2021-07-04T01:08:55.709Z"
    }
   },
   "outputs": [],
   "source": [
    "data_dir = Path(\"../input/google-smartphone-decimeter-challenge\")"
   ]
  },
  {
   "cell_type": "markdown",
   "metadata": {},
   "source": [
    "# Load Data"
   ]
  },
  {
   "cell_type": "code",
   "execution_count": null,
   "metadata": {
    "ExecuteTime": {
     "start_time": "2021-07-04T01:08:55.716Z"
    }
   },
   "outputs": [],
   "source": [
    "df_train = pd.read_pickle(str(data_dir / \"gsdc_cleaned_train.pkl.gzip\"))"
   ]
  },
  {
   "cell_type": "code",
   "execution_count": null,
   "metadata": {
    "ExecuteTime": {
     "start_time": "2021-07-04T01:08:55.717Z"
    }
   },
   "outputs": [],
   "source": [
    "df_test = pd.read_pickle(str(data_dir / \"gsdc_cleaned_test.pkl.gzip\"))"
   ]
  },
  {
   "cell_type": "code",
   "execution_count": null,
   "metadata": {
    "ExecuteTime": {
     "start_time": "2021-07-04T01:08:55.717Z"
    },
    "scrolled": true
   },
   "outputs": [],
   "source": [
    "for col in df_train.columns:\n",
    "    print(col)"
   ]
  },
  {
   "cell_type": "markdown",
   "metadata": {},
   "source": [
    "# Extract Data"
   ]
  },
  {
   "cell_type": "markdown",
   "metadata": {},
   "source": [
    "## Get dlatDeg, dlngDeg, dheightAboveWgs84EllipsoidM"
   ]
  },
  {
   "cell_type": "code",
   "execution_count": null,
   "metadata": {
    "ExecuteTime": {
     "start_time": "2021-07-04T01:08:55.731Z"
    }
   },
   "outputs": [],
   "source": [
    "def getDeltaPositions(df:pd.DataFrame)->pd.DataFrame:\n",
    "    output = df.copy()\n",
    "    phones = output['phone'].unique()\n",
    "    output[['dlatDeg', 'dlngDeg', 'dheight']] = 0\n",
    "    for phone in phones:\n",
    "        latDeg = output.loc[output['phone'] == phone, 'latDeg']\n",
    "        output.loc[output['phone'] == phone, 'dlatDeg'] = latDeg - latDeg.iloc[0]\n",
    "        \n",
    "        lngDeg = output.loc[output['phone'] == phone, 'lngDeg']\n",
    "        output.loc[output['phone'] == phone, 'dlngDeg'] = lngDeg - lngDeg.iloc[0]\n",
    "        \n",
    "        heightAboveWgs84EllipsoidM = output.loc[output['phone'] == phone, 'heightAboveWgs84EllipsoidM']\n",
    "        output.loc[output['phone'] == phone, 'dheight'] = heightAboveWgs84EllipsoidM - heightAboveWgs84EllipsoidM.iloc[0]\n",
    "        \n",
    "    return output"
   ]
  },
  {
   "cell_type": "code",
   "execution_count": null,
   "metadata": {
    "ExecuteTime": {
     "start_time": "2021-07-04T01:08:55.732Z"
    }
   },
   "outputs": [],
   "source": [
    "df_train = getDeltaPositions(df_train)\n",
    "df_test = getDeltaPositions(df_test)"
   ]
  },
  {
   "cell_type": "markdown",
   "metadata": {},
   "source": [
    "## Scaler"
   ]
  },
  {
   "cell_type": "code",
   "execution_count": null,
   "metadata": {
    "ExecuteTime": {
     "start_time": "2021-07-04T01:08:55.740Z"
    }
   },
   "outputs": [],
   "source": [
    "class Scaler():\n",
    "    def __init__(self, target_columns):\n",
    "        self.target_columns = target_columns\n",
    "        self.renames_columns = [name + \"_Scaled\" for name in target_columns]\n",
    "        self.scaler = dict()\n",
    "        for name in target_columns:\n",
    "            self.scaler[name] = StandardScaler()\n",
    "            \n",
    "    def fit(self, df:pd.DataFrame):\n",
    "        for col in self.target_columns:\n",
    "            self.scaler[col].fit(df[col].values.reshape(-1, 1))\n",
    "            \n",
    "    def transform(self, df:pd.DataFrame):\n",
    "        output = df.copy()\n",
    "        for col,recol in zip(self.target_columns, self.renames_columns):\n",
    "            output[recol] = self.scaler[col].transform(df[col].values.reshape(-1, 1))\n",
    "        return output\n",
    "        \n",
    "    "
   ]
  },
  {
   "cell_type": "code",
   "execution_count": null,
   "metadata": {
    "ExecuteTime": {
     "start_time": "2021-07-04T01:08:55.740Z"
    }
   },
   "outputs": [],
   "source": [
    "target_columns = ['dlatDeg', 'dlngDeg', 'dheight',\n",
    "                 'xSatPosM', 'ySatPosM', 'zSatPosM', 'xSatVelMps', 'ySatVelMps', 'zSatVelMps',\n",
    "                  'UncalGyroXRadPerSec', 'UncalGyroYRadPerSec', 'UncalGyroZRadPerSec', \n",
    "                  'DriftXRadPerSec', 'DriftYRadPerSec', 'DriftZRadPerSec', \n",
    "                  'UncalAccelXMps2', 'UncalAccelYMps2', 'UncalAccelZMps2', 'BiasXMps2', 'BiasYMps2', 'BiasZMps2',\n",
    "                  'UncalMagXMicroT', 'UncalMagYMicroT', 'UncalMagZMicroT', 'BiasXMicroT', 'BiasYMicroT', 'BiasZMicroT',\n",
    "                  'yawDeg', 'rollDeg', 'pitchDeg'\n",
    "                 ]"
   ]
  },
  {
   "cell_type": "code",
   "execution_count": null,
   "metadata": {
    "ExecuteTime": {
     "start_time": "2021-07-04T01:08:55.741Z"
    }
   },
   "outputs": [],
   "source": [
    "scaler = Scaler(target_columns)\n",
    "scaler.fit(df_train)\n",
    "\n",
    "df_train = scaler.transform(df_train)\n",
    "df_test = scaler.transform(df_test)"
   ]
  },
  {
   "cell_type": "code",
   "execution_count": null,
   "metadata": {
    "ExecuteTime": {
     "start_time": "2021-07-04T01:08:55.742Z"
    },
    "scrolled": true
   },
   "outputs": [],
   "source": [
    "df_train[scaler.renames_columns].describe()"
   ]
  },
  {
   "cell_type": "markdown",
   "metadata": {},
   "source": [
    "## Categorical Variables\n",
    "### signalType"
   ]
  },
  {
   "cell_type": "code",
   "execution_count": null,
   "metadata": {
    "ExecuteTime": {
     "start_time": "2021-07-04T01:08:55.751Z"
    }
   },
   "outputs": [],
   "source": [
    "categories_signal_type = ['GPS_L1', 'GPS_L5', 'GAL_E1', 'GAL_E5A', 'GLO_G1', 'BDS_B1I', 'BDS_B1C', 'BDS_B2A', 'QZS_J1', 'QZS_J5']\n"
   ]
  },
  {
   "cell_type": "code",
   "execution_count": null,
   "metadata": {
    "ExecuteTime": {
     "start_time": "2021-07-04T01:08:55.751Z"
    }
   },
   "outputs": [],
   "source": [
    "df_train['signalType'].value_counts()"
   ]
  },
  {
   "cell_type": "code",
   "execution_count": null,
   "metadata": {
    "ExecuteTime": {
     "start_time": "2021-07-04T01:08:55.752Z"
    },
    "scrolled": true
   },
   "outputs": [],
   "source": [
    "df_test['signalType'].value_counts()"
   ]
  },
  {
   "cell_type": "code",
   "execution_count": null,
   "metadata": {
    "ExecuteTime": {
     "start_time": "2021-07-04T01:08:55.752Z"
    }
   },
   "outputs": [],
   "source": [
    "def GetSignalTypeDummies(df:pd.DataFrame, cols = ['GPS_L1', 'GPS_L5', 'GAL_E1', 'GAL_E5A', 'GLO_G1', 'BDS_B1I', 'BDS_B1C', 'BDS_B2A', 'QZS_J1', 'QZS_J5']):\n",
    "    output = df.copy()\n",
    "    for col in cols:\n",
    "        output[col] = (df['signalType'] == col).astype(int)\n",
    "    return output    "
   ]
  },
  {
   "cell_type": "code",
   "execution_count": null,
   "metadata": {
    "ExecuteTime": {
     "start_time": "2021-07-04T01:08:55.753Z"
    }
   },
   "outputs": [],
   "source": [
    "df_train = GetSignalTypeDummies(df_train)\n",
    "df_test = GetSignalTypeDummies(df_test)"
   ]
  },
  {
   "cell_type": "code",
   "execution_count": null,
   "metadata": {
    "ExecuteTime": {
     "start_time": "2021-07-04T01:08:55.754Z"
    }
   },
   "outputs": [],
   "source": [
    "print(df_train.shape)\n",
    "print(df_test.shape)"
   ]
  },
  {
   "cell_type": "markdown",
   "metadata": {},
   "source": [
    "#  Output"
   ]
  },
  {
   "cell_type": "code",
   "execution_count": null,
   "metadata": {
    "ExecuteTime": {
     "start_time": "2021-07-04T01:08:55.762Z"
    }
   },
   "outputs": [],
   "source": [
    "df_train.to_pickle(str(data_dir / \"gsdc_extract_train.pkl.gzip\"))\n",
    "df_test.to_pickle(str(data_dir / \"gsdc_extract_test.pkl.gzip\"))"
   ]
  },
  {
   "cell_type": "code",
   "execution_count": null,
   "metadata": {},
   "outputs": [],
   "source": []
  }
 ],
 "metadata": {
  "hide_input": false,
  "kernelspec": {
   "display_name": "torch",
   "language": "python",
   "name": "torch"
  },
  "language_info": {
   "codemirror_mode": {
    "name": "ipython",
    "version": 3
   },
   "file_extension": ".py",
   "mimetype": "text/x-python",
   "name": "python",
   "nbconvert_exporter": "python",
   "pygments_lexer": "ipython3",
   "version": "3.6.12"
  },
  "latex_envs": {
   "LaTeX_envs_menu_present": true,
   "autoclose": false,
   "autocomplete": true,
   "bibliofile": "biblio.bib",
   "cite_by": "apalike",
   "current_citInitial": 1,
   "eqLabelWithNumbers": true,
   "eqNumInitial": 1,
   "hotkeys": {
    "equation": "Ctrl-E",
    "itemize": "Ctrl-I"
   },
   "labels_anchors": false,
   "latex_user_defs": false,
   "report_style_numbering": false,
   "user_envs_cfg": false
  },
  "toc": {
   "base_numbering": 1,
   "nav_menu": {},
   "number_sections": true,
   "sideBar": true,
   "skip_h1_title": false,
   "title_cell": "Table of Contents",
   "title_sidebar": "Contents",
   "toc_cell": false,
   "toc_position": {},
   "toc_section_display": true,
   "toc_window_display": false
  },
  "varInspector": {
   "cols": {
    "lenName": 16,
    "lenType": 16,
    "lenVar": 40
   },
   "kernels_config": {
    "python": {
     "delete_cmd_postfix": "",
     "delete_cmd_prefix": "del ",
     "library": "var_list.py",
     "varRefreshCmd": "print(var_dic_list())"
    },
    "r": {
     "delete_cmd_postfix": ") ",
     "delete_cmd_prefix": "rm(",
     "library": "var_list.r",
     "varRefreshCmd": "cat(var_dic_list()) "
    }
   },
   "types_to_exclude": [
    "module",
    "function",
    "builtin_function_or_method",
    "instance",
    "_Feature"
   ],
   "window_display": false
  }
 },
 "nbformat": 4,
 "nbformat_minor": 4
}
