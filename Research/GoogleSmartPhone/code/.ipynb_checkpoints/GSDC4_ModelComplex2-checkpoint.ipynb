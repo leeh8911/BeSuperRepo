{
 "cells": [
  {
   "cell_type": "markdown",
   "metadata": {},
   "source": [
    "# Load Libraries"
   ]
  },
  {
   "cell_type": "code",
   "execution_count": 1,
   "metadata": {
    "ExecuteTime": {
     "end_time": "2021-07-04T22:58:24.945203Z",
     "start_time": "2021-07-04T22:58:21.977622Z"
    }
   },
   "outputs": [],
   "source": [
    "import numpy as np\n",
    "import pandas as pd\n",
    "from glob import glob\n",
    "import os\n",
    "import matplotlib.pyplot as plt\n",
    "from tqdm.notebook import tqdm\n",
    "from pathlib import Path\n",
    "import plotly.express as px\n",
    "\n",
    "import torch\n",
    "import torch.nn as nn\n",
    "import torch.nn.functional as F\n",
    "import torch.optim as optim\n",
    "from torch.utils.data import TensorDataset, DataLoader\n",
    "import torchsummary\n",
    "from sklearn.model_selection import train_test_split\n",
    "from sklearn.preprocessing import StandardScaler, MinMaxScaler\n",
    "\n",
    "import warnings\n",
    "warnings.filterwarnings(action='ignore')"
   ]
  },
  {
   "cell_type": "code",
   "execution_count": 2,
   "metadata": {
    "ExecuteTime": {
     "end_time": "2021-07-04T22:58:24.990203Z",
     "start_time": "2021-07-04T22:58:24.947203Z"
    }
   },
   "outputs": [
    {
     "name": "stdout",
     "output_type": "stream",
     "text": [
      "cuda:0\n"
     ]
    }
   ],
   "source": [
    "device = torch.device('cuda:0' if torch.cuda.is_available() else \"cpu\")\n",
    "print(device)"
   ]
  },
  {
   "cell_type": "markdown",
   "metadata": {},
   "source": [
    "# Set Hyper Parameters"
   ]
  },
  {
   "cell_type": "code",
   "execution_count": 3,
   "metadata": {
    "ExecuteTime": {
     "end_time": "2021-07-04T22:58:25.005203Z",
     "start_time": "2021-07-04T22:58:24.992205Z"
    }
   },
   "outputs": [],
   "source": [
    "hyper_parameters = {\n",
    "    \"SEED\":1990,\n",
    "    \"notebookName\":\"ComplexModel2\",\n",
    "    \"nepochs\":10000,\n",
    "    \"batch_size\":256,\n",
    "    \"learning_rate\":0.001,\n",
    "    \"window_size\":128,\n",
    "    \"max_patience_count\":1000\n",
    "}"
   ]
  },
  {
   "cell_type": "code",
   "execution_count": 4,
   "metadata": {
    "ExecuteTime": {
     "end_time": "2021-07-04T22:58:25.020205Z",
     "start_time": "2021-07-04T22:58:25.007205Z"
    }
   },
   "outputs": [
    {
     "data": {
      "text/plain": [
       "<torch._C.Generator at 0x27b11c2bdc8>"
      ]
     },
     "execution_count": 4,
     "metadata": {},
     "output_type": "execute_result"
    }
   ],
   "source": [
    "torch.manual_seed(hyper_parameters[\"SEED\"])"
   ]
  },
  {
   "cell_type": "code",
   "execution_count": 5,
   "metadata": {
    "ExecuteTime": {
     "end_time": "2021-07-04T22:58:25.035203Z",
     "start_time": "2021-07-04T22:58:25.022206Z"
    }
   },
   "outputs": [
    {
     "data": {
      "text/plain": [
       "'./models/ComplexModel2'"
      ]
     },
     "execution_count": 5,
     "metadata": {},
     "output_type": "execute_result"
    }
   ],
   "source": [
    "f\"./models/{hyper_parameters['notebookName']}\""
   ]
  },
  {
   "cell_type": "code",
   "execution_count": 6,
   "metadata": {
    "ExecuteTime": {
     "end_time": "2021-07-04T22:58:25.050203Z",
     "start_time": "2021-07-04T22:58:25.037203Z"
    }
   },
   "outputs": [],
   "source": [
    "\n",
    "PATH = Path(f\"./models/{hyper_parameters['notebookName']}\")\n",
    "if os.path.isdir(PATH):\n",
    "    dir_list = os.listdir(PATH)\n",
    "    num_files = 0\n",
    "    while True:\n",
    "        if os.path.isfile(str(PATH / f\"{num_files}\")):\n",
    "            print(num_files)\n",
    "            num_files += 1\n",
    "        else:\n",
    "            break\n",
    "else:\n",
    "    os.mkdir(PATH)\n",
    "    num_files = 0\n",
    "num_files = 2"
   ]
  },
  {
   "cell_type": "markdown",
   "metadata": {},
   "source": [
    "# Set Path"
   ]
  },
  {
   "cell_type": "code",
   "execution_count": 7,
   "metadata": {
    "ExecuteTime": {
     "end_time": "2021-07-04T22:58:25.065203Z",
     "start_time": "2021-07-04T22:58:25.052204Z"
    }
   },
   "outputs": [],
   "source": [
    "data_dir = Path(\"../input/google-smartphone-decimeter-challenge\")"
   ]
  },
  {
   "cell_type": "markdown",
   "metadata": {},
   "source": [
    "# Help Functions"
   ]
  },
  {
   "cell_type": "markdown",
   "metadata": {},
   "source": [
    "# Load Data"
   ]
  },
  {
   "cell_type": "code",
   "execution_count": 8,
   "metadata": {
    "ExecuteTime": {
     "end_time": "2021-07-04T22:58:25.185720Z",
     "start_time": "2021-07-04T22:58:25.067203Z"
    }
   },
   "outputs": [],
   "source": [
    "df_train_default = pd.read_pickle(str(data_dir / \"gsdc_extract_train.pkl.gzip\"))"
   ]
  },
  {
   "cell_type": "code",
   "execution_count": 9,
   "metadata": {
    "ExecuteTime": {
     "end_time": "2021-07-04T22:58:25.275720Z",
     "start_time": "2021-07-04T22:58:25.187719Z"
    }
   },
   "outputs": [],
   "source": [
    "df_test = pd.read_pickle(str(data_dir / \"gsdc_extract_test.pkl.gzip\"))"
   ]
  },
  {
   "cell_type": "code",
   "execution_count": 10,
   "metadata": {
    "ExecuteTime": {
     "end_time": "2021-07-04T22:58:25.305721Z",
     "start_time": "2021-07-04T22:58:25.276720Z"
    },
    "scrolled": true
   },
   "outputs": [
    {
     "name": "stdout",
     "output_type": "stream",
     "text": [
      "collectionName\n",
      "phoneName\n",
      "millisSinceGpsEpoch\n",
      "latDeg\n",
      "lngDeg\n",
      "heightAboveWgs84EllipsoidM\n",
      "phone\n",
      "timeSinceFirstFixSeconds\n",
      "hDop\n",
      "vDop\n",
      "speedMps\n",
      "courseDegree\n",
      "t_latDeg\n",
      "t_lngDeg\n",
      "t_heightAboveWgs84EllipsoidM\n",
      "constellationType\n",
      "svid\n",
      "signalType\n",
      "receivedSvTimeInGpsNanos\n",
      "xSatPosM\n",
      "ySatPosM\n",
      "zSatPosM\n",
      "xSatVelMps\n",
      "ySatVelMps\n",
      "zSatVelMps\n",
      "satClkBiasM\n",
      "satClkDriftMps\n",
      "rawPrM\n",
      "rawPrUncM\n",
      "isrbM\n",
      "ionoDelayM\n",
      "tropoDelayM\n",
      "utcTimeMillis\n",
      "elapsedRealtimeNanos\n",
      "yawDeg\n",
      "rollDeg\n",
      "pitchDeg\n",
      "utcTimeMillis_Status\n",
      "SignalCount\n",
      "SignalIndex\n",
      "ConstellationType\n",
      "Svid\n",
      "CarrierFrequencyHz\n",
      "Cn0DbHz\n",
      "AzimuthDegrees\n",
      "ElevationDegrees\n",
      "UsedInFix\n",
      "HasAlmanacData\n",
      "HasEphemerisData\n",
      "BasebandCn0DbHz\n",
      "utcTimeMillis_UncalMag\n",
      "elapsedRealtimeNanos_UncalMag\n",
      "UncalMagXMicroT\n",
      "UncalMagYMicroT\n",
      "UncalMagZMicroT\n",
      "BiasXMicroT\n",
      "BiasYMicroT\n",
      "BiasZMicroT\n",
      "utcTimeMillis_UncalAccel\n",
      "elapsedRealtimeNanos_UncalAccel\n",
      "UncalAccelXMps2\n",
      "UncalAccelYMps2\n",
      "UncalAccelZMps2\n",
      "BiasXMps2\n",
      "BiasYMps2\n",
      "BiasZMps2\n",
      "utcTimeMillis_UncalGyro\n",
      "elapsedRealtimeNanos_UncalGyro\n",
      "UncalGyroXRadPerSec\n",
      "UncalGyroYRadPerSec\n",
      "UncalGyroZRadPerSec\n",
      "DriftXRadPerSec\n",
      "DriftYRadPerSec\n",
      "DriftZRadPerSec\n",
      "utcTimeMillis_Raw\n",
      "TimeNanos\n",
      "LeapSecond\n",
      "FullBiasNanos\n",
      "BiasNanos\n",
      "BiasUncertaintyNanos\n",
      "DriftNanosPerSecond\n",
      "DriftUncertaintyNanosPerSecond\n",
      "HardwareClockDiscontinuityCount\n",
      "Svid_Raw\n",
      "TimeOffsetNanos\n",
      "State\n",
      "ReceivedSvTimeNanos\n",
      "ReceivedSvTimeUncertaintyNanos\n",
      "Cn0DbHz_Raw\n",
      "PseudorangeRateMetersPerSecond\n",
      "PseudorangeRateUncertaintyMetersPerSecond\n",
      "AccumulatedDeltaRangeState\n",
      "AccumulatedDeltaRangeMeters\n",
      "AccumulatedDeltaRangeUncertaintyMeters\n",
      "CarrierFrequencyHz_Raw\n",
      "MultipathIndicator\n",
      "ConstellationType_Raw\n",
      "AgcDb\n",
      "BasebandCn0DbHz_Raw\n",
      "FullInterSignalBiasNanos\n",
      "FullInterSignalBiasUncertaintyNanos\n",
      "SatelliteInterSignalBiasNanos\n",
      "SatelliteInterSignalBiasUncertaintyNanos\n",
      "CodeType\n",
      "ChipsetElapsedRealtimeNanos\n",
      "dlatDeg\n",
      "dlngDeg\n",
      "dheight\n",
      "dlatDeg_Scaled\n",
      "dlngDeg_Scaled\n",
      "dheight_Scaled\n",
      "xSatPosM_Scaled\n",
      "ySatPosM_Scaled\n",
      "zSatPosM_Scaled\n",
      "xSatVelMps_Scaled\n",
      "ySatVelMps_Scaled\n",
      "zSatVelMps_Scaled\n",
      "UncalGyroXRadPerSec_Scaled\n",
      "UncalGyroYRadPerSec_Scaled\n",
      "UncalGyroZRadPerSec_Scaled\n",
      "DriftXRadPerSec_Scaled\n",
      "DriftYRadPerSec_Scaled\n",
      "DriftZRadPerSec_Scaled\n",
      "UncalAccelXMps2_Scaled\n",
      "UncalAccelYMps2_Scaled\n",
      "UncalAccelZMps2_Scaled\n",
      "BiasXMps2_Scaled\n",
      "BiasYMps2_Scaled\n",
      "BiasZMps2_Scaled\n",
      "UncalMagXMicroT_Scaled\n",
      "UncalMagYMicroT_Scaled\n",
      "UncalMagZMicroT_Scaled\n",
      "BiasXMicroT_Scaled\n",
      "BiasYMicroT_Scaled\n",
      "BiasZMicroT_Scaled\n",
      "yawDeg_Scaled\n",
      "rollDeg_Scaled\n",
      "pitchDeg_Scaled\n",
      "GPS_L1\n",
      "GPS_L5\n",
      "GAL_E1\n",
      "GAL_E5A\n",
      "GLO_G1\n",
      "BDS_B1I\n",
      "BDS_B1C\n",
      "BDS_B2A\n",
      "QZS_J1\n",
      "QZS_J5\n"
     ]
    }
   ],
   "source": [
    "for col in df_train_default.columns:\n",
    "    print(col)"
   ]
  },
  {
   "cell_type": "markdown",
   "metadata": {},
   "source": [
    "# Dataloader"
   ]
  },
  {
   "cell_type": "code",
   "execution_count": 11,
   "metadata": {
    "ExecuteTime": {
     "end_time": "2021-07-04T22:58:25.335840Z",
     "start_time": "2021-07-04T22:58:25.307722Z"
    }
   },
   "outputs": [
    {
     "data": {
      "text/plain": [
       "2021-04-22-US-SJC-1_Pixel4             2890\n",
       "2021-04-22-US-SJC-1_SamsungS20Ultra    2826\n",
       "2020-09-04-US-SF-2_Mi8                 2500\n",
       "2021-04-29-US-SJC-2_SamsungS20Ultra    2370\n",
       "2020-09-04-US-SF-2_Pixel4              2349\n",
       "                                       ... \n",
       "2021-01-05-US-SVL-2_Pixel4XL           1193\n",
       "2020-06-05-US-MTV-1_Pixel4XLModded     1123\n",
       "2021-04-26-US-SVL-1_Mi8                1036\n",
       "2021-04-26-US-SVL-1_Pixel5             1034\n",
       "2020-05-14-US-MTV-2_Pixel4XLModded      577\n",
       "Name: phone, Length: 73, dtype: int64"
      ]
     },
     "execution_count": 11,
     "metadata": {},
     "output_type": "execute_result"
    }
   ],
   "source": [
    "df_train_default['phone'].value_counts()"
   ]
  },
  {
   "cell_type": "code",
   "execution_count": 12,
   "metadata": {
    "ExecuteTime": {
     "end_time": "2021-07-04T22:58:26.175840Z",
     "start_time": "2021-07-04T22:58:25.336840Z"
    },
    "scrolled": true
   },
   "outputs": [
    {
     "name": "stdout",
     "output_type": "stream",
     "text": [
      "(118763, 148) (10495, 148)\n"
     ]
    }
   ],
   "source": [
    "def CustomTrainValidSplit(df:pd.DataFrame, valid_size):\n",
    "    phones = df['phone'].unique()\n",
    "    \n",
    "    valid_num = int(len(phones) * valid_size)\n",
    "    train_num = len(phones) - valid_num\n",
    "    \n",
    "    indexes = np.array(range(len(phones)))\n",
    "    indexes = np.random.choice(indexes, len(indexes))\n",
    "    \n",
    "    df_train = []\n",
    "    for phone in phones[indexes[:train_num]]:\n",
    "        df_train.append(df[df['phone'] == phone])\n",
    "    df_train = pd.concat(df_train)\n",
    "    \n",
    "    df_valid = []\n",
    "    for phone in phones[indexes[train_num:-1]]:\n",
    "        df_valid.append(df[df['phone'] == phone])\n",
    "    df_valid = pd.concat(df_valid)\n",
    "    \n",
    "    return df_train.reset_index().drop(columns = 'index'), df_valid.reset_index().drop(columns = 'index')\n",
    "    \n",
    "df_train, df_valid = CustomTrainValidSplit(df_train_default, valid_size = 0.1)\n",
    "print(df_train.shape, df_valid.shape)\n",
    "    "
   ]
  },
  {
   "cell_type": "code",
   "execution_count": 13,
   "metadata": {
    "ExecuteTime": {
     "end_time": "2021-07-04T22:58:26.235842Z",
     "start_time": "2021-07-04T22:58:26.176840Z"
    },
    "scrolled": true
   },
   "outputs": [
    {
     "data": {
      "text/html": [
       "<div>\n",
       "<style scoped>\n",
       "    .dataframe tbody tr th:only-of-type {\n",
       "        vertical-align: middle;\n",
       "    }\n",
       "\n",
       "    .dataframe tbody tr th {\n",
       "        vertical-align: top;\n",
       "    }\n",
       "\n",
       "    .dataframe thead th {\n",
       "        text-align: right;\n",
       "    }\n",
       "</style>\n",
       "<table border=\"1\" class=\"dataframe\">\n",
       "  <thead>\n",
       "    <tr style=\"text-align: right;\">\n",
       "      <th></th>\n",
       "      <th>collectionName</th>\n",
       "      <th>phoneName</th>\n",
       "      <th>millisSinceGpsEpoch</th>\n",
       "      <th>latDeg</th>\n",
       "      <th>lngDeg</th>\n",
       "      <th>heightAboveWgs84EllipsoidM</th>\n",
       "      <th>phone</th>\n",
       "      <th>timeSinceFirstFixSeconds</th>\n",
       "      <th>hDop</th>\n",
       "      <th>vDop</th>\n",
       "      <th>...</th>\n",
       "      <th>GPS_L1</th>\n",
       "      <th>GPS_L5</th>\n",
       "      <th>GAL_E1</th>\n",
       "      <th>GAL_E5A</th>\n",
       "      <th>GLO_G1</th>\n",
       "      <th>BDS_B1I</th>\n",
       "      <th>BDS_B1C</th>\n",
       "      <th>BDS_B2A</th>\n",
       "      <th>QZS_J1</th>\n",
       "      <th>QZS_J5</th>\n",
       "    </tr>\n",
       "  </thead>\n",
       "  <tbody>\n",
       "    <tr>\n",
       "      <th>0</th>\n",
       "      <td>2021-01-05-US-SVL-2</td>\n",
       "      <td>Pixel4XL</td>\n",
       "      <td>1293918764643</td>\n",
       "      <td>37.379580</td>\n",
       "      <td>-122.071900</td>\n",
       "      <td>15.98</td>\n",
       "      <td>2021-01-05-US-SVL-2_Pixel4XL</td>\n",
       "      <td>280.64</td>\n",
       "      <td>0.80</td>\n",
       "      <td>0.0</td>\n",
       "      <td>...</td>\n",
       "      <td>1</td>\n",
       "      <td>0</td>\n",
       "      <td>0</td>\n",
       "      <td>0</td>\n",
       "      <td>0</td>\n",
       "      <td>0</td>\n",
       "      <td>0</td>\n",
       "      <td>0</td>\n",
       "      <td>0</td>\n",
       "      <td>0</td>\n",
       "    </tr>\n",
       "    <tr>\n",
       "      <th>1</th>\n",
       "      <td>2021-01-05-US-SVL-2</td>\n",
       "      <td>Pixel4XL</td>\n",
       "      <td>1293918765657</td>\n",
       "      <td>37.379518</td>\n",
       "      <td>-122.071986</td>\n",
       "      <td>4.47</td>\n",
       "      <td>2021-01-05-US-SVL-2_Pixel4XL</td>\n",
       "      <td>281.66</td>\n",
       "      <td>0.80</td>\n",
       "      <td>0.0</td>\n",
       "      <td>...</td>\n",
       "      <td>1</td>\n",
       "      <td>0</td>\n",
       "      <td>0</td>\n",
       "      <td>0</td>\n",
       "      <td>0</td>\n",
       "      <td>0</td>\n",
       "      <td>0</td>\n",
       "      <td>0</td>\n",
       "      <td>0</td>\n",
       "      <td>0</td>\n",
       "    </tr>\n",
       "    <tr>\n",
       "      <th>2</th>\n",
       "      <td>2021-01-05-US-SVL-2</td>\n",
       "      <td>Pixel4XL</td>\n",
       "      <td>1293918766650</td>\n",
       "      <td>37.379532</td>\n",
       "      <td>-122.072113</td>\n",
       "      <td>1.51</td>\n",
       "      <td>2021-01-05-US-SVL-2_Pixel4XL</td>\n",
       "      <td>282.65</td>\n",
       "      <td>0.80</td>\n",
       "      <td>0.0</td>\n",
       "      <td>...</td>\n",
       "      <td>1</td>\n",
       "      <td>0</td>\n",
       "      <td>0</td>\n",
       "      <td>0</td>\n",
       "      <td>0</td>\n",
       "      <td>0</td>\n",
       "      <td>0</td>\n",
       "      <td>0</td>\n",
       "      <td>0</td>\n",
       "      <td>0</td>\n",
       "    </tr>\n",
       "    <tr>\n",
       "      <th>3</th>\n",
       "      <td>2021-01-05-US-SVL-2</td>\n",
       "      <td>Pixel4XL</td>\n",
       "      <td>1293918767660</td>\n",
       "      <td>37.379575</td>\n",
       "      <td>-122.072089</td>\n",
       "      <td>-5.10</td>\n",
       "      <td>2021-01-05-US-SVL-2_Pixel4XL</td>\n",
       "      <td>283.66</td>\n",
       "      <td>0.80</td>\n",
       "      <td>0.0</td>\n",
       "      <td>...</td>\n",
       "      <td>1</td>\n",
       "      <td>0</td>\n",
       "      <td>0</td>\n",
       "      <td>0</td>\n",
       "      <td>0</td>\n",
       "      <td>0</td>\n",
       "      <td>0</td>\n",
       "      <td>0</td>\n",
       "      <td>0</td>\n",
       "      <td>0</td>\n",
       "    </tr>\n",
       "    <tr>\n",
       "      <th>4</th>\n",
       "      <td>2021-01-05-US-SVL-2</td>\n",
       "      <td>Pixel4XL</td>\n",
       "      <td>1293918768654</td>\n",
       "      <td>37.379687</td>\n",
       "      <td>-122.071986</td>\n",
       "      <td>13.73</td>\n",
       "      <td>2021-01-05-US-SVL-2_Pixel4XL</td>\n",
       "      <td>284.65</td>\n",
       "      <td>0.80</td>\n",
       "      <td>0.0</td>\n",
       "      <td>...</td>\n",
       "      <td>1</td>\n",
       "      <td>0</td>\n",
       "      <td>0</td>\n",
       "      <td>0</td>\n",
       "      <td>0</td>\n",
       "      <td>0</td>\n",
       "      <td>0</td>\n",
       "      <td>0</td>\n",
       "      <td>0</td>\n",
       "      <td>0</td>\n",
       "    </tr>\n",
       "    <tr>\n",
       "      <th>...</th>\n",
       "      <td>...</td>\n",
       "      <td>...</td>\n",
       "      <td>...</td>\n",
       "      <td>...</td>\n",
       "      <td>...</td>\n",
       "      <td>...</td>\n",
       "      <td>...</td>\n",
       "      <td>...</td>\n",
       "      <td>...</td>\n",
       "      <td>...</td>\n",
       "      <td>...</td>\n",
       "      <td>...</td>\n",
       "      <td>...</td>\n",
       "      <td>...</td>\n",
       "      <td>...</td>\n",
       "      <td>...</td>\n",
       "      <td>...</td>\n",
       "      <td>...</td>\n",
       "      <td>...</td>\n",
       "      <td>...</td>\n",
       "      <td>...</td>\n",
       "    </tr>\n",
       "    <tr>\n",
       "      <th>118758</th>\n",
       "      <td>2020-08-06-US-MTV-2</td>\n",
       "      <td>Pixel4</td>\n",
       "      <td>1280791335447</td>\n",
       "      <td>37.427359</td>\n",
       "      <td>-122.069915</td>\n",
       "      <td>-26.60</td>\n",
       "      <td>2020-08-06-US-MTV-2_Pixel4</td>\n",
       "      <td>2235.45</td>\n",
       "      <td>2.25</td>\n",
       "      <td>0.0</td>\n",
       "      <td>...</td>\n",
       "      <td>1</td>\n",
       "      <td>0</td>\n",
       "      <td>0</td>\n",
       "      <td>0</td>\n",
       "      <td>0</td>\n",
       "      <td>0</td>\n",
       "      <td>0</td>\n",
       "      <td>0</td>\n",
       "      <td>0</td>\n",
       "      <td>0</td>\n",
       "    </tr>\n",
       "    <tr>\n",
       "      <th>118759</th>\n",
       "      <td>2020-08-06-US-MTV-2</td>\n",
       "      <td>Pixel4</td>\n",
       "      <td>1280791336447</td>\n",
       "      <td>37.427345</td>\n",
       "      <td>-122.069917</td>\n",
       "      <td>-27.56</td>\n",
       "      <td>2020-08-06-US-MTV-2_Pixel4</td>\n",
       "      <td>2236.45</td>\n",
       "      <td>2.35</td>\n",
       "      <td>0.0</td>\n",
       "      <td>...</td>\n",
       "      <td>1</td>\n",
       "      <td>0</td>\n",
       "      <td>0</td>\n",
       "      <td>0</td>\n",
       "      <td>0</td>\n",
       "      <td>0</td>\n",
       "      <td>0</td>\n",
       "      <td>0</td>\n",
       "      <td>0</td>\n",
       "      <td>0</td>\n",
       "    </tr>\n",
       "    <tr>\n",
       "      <th>118760</th>\n",
       "      <td>2020-08-06-US-MTV-2</td>\n",
       "      <td>Pixel4</td>\n",
       "      <td>1280791337447</td>\n",
       "      <td>37.427340</td>\n",
       "      <td>-122.069912</td>\n",
       "      <td>-25.44</td>\n",
       "      <td>2020-08-06-US-MTV-2_Pixel4</td>\n",
       "      <td>2237.45</td>\n",
       "      <td>2.25</td>\n",
       "      <td>0.0</td>\n",
       "      <td>...</td>\n",
       "      <td>1</td>\n",
       "      <td>0</td>\n",
       "      <td>0</td>\n",
       "      <td>0</td>\n",
       "      <td>0</td>\n",
       "      <td>0</td>\n",
       "      <td>0</td>\n",
       "      <td>0</td>\n",
       "      <td>0</td>\n",
       "      <td>0</td>\n",
       "    </tr>\n",
       "    <tr>\n",
       "      <th>118761</th>\n",
       "      <td>2020-08-06-US-MTV-2</td>\n",
       "      <td>Pixel4</td>\n",
       "      <td>1280791338447</td>\n",
       "      <td>37.427328</td>\n",
       "      <td>-122.069920</td>\n",
       "      <td>-27.00</td>\n",
       "      <td>2020-08-06-US-MTV-2_Pixel4</td>\n",
       "      <td>2238.45</td>\n",
       "      <td>2.80</td>\n",
       "      <td>0.0</td>\n",
       "      <td>...</td>\n",
       "      <td>1</td>\n",
       "      <td>0</td>\n",
       "      <td>0</td>\n",
       "      <td>0</td>\n",
       "      <td>0</td>\n",
       "      <td>0</td>\n",
       "      <td>0</td>\n",
       "      <td>0</td>\n",
       "      <td>0</td>\n",
       "      <td>0</td>\n",
       "    </tr>\n",
       "    <tr>\n",
       "      <th>118762</th>\n",
       "      <td>2020-08-06-US-MTV-2</td>\n",
       "      <td>Pixel4</td>\n",
       "      <td>1280791339447</td>\n",
       "      <td>37.427345</td>\n",
       "      <td>-122.069918</td>\n",
       "      <td>-26.52</td>\n",
       "      <td>2020-08-06-US-MTV-2_Pixel4</td>\n",
       "      <td>2239.45</td>\n",
       "      <td>2.80</td>\n",
       "      <td>0.0</td>\n",
       "      <td>...</td>\n",
       "      <td>1</td>\n",
       "      <td>0</td>\n",
       "      <td>0</td>\n",
       "      <td>0</td>\n",
       "      <td>0</td>\n",
       "      <td>0</td>\n",
       "      <td>0</td>\n",
       "      <td>0</td>\n",
       "      <td>0</td>\n",
       "      <td>0</td>\n",
       "    </tr>\n",
       "  </tbody>\n",
       "</table>\n",
       "<p>118763 rows × 148 columns</p>\n",
       "</div>"
      ],
      "text/plain": [
       "             collectionName phoneName  millisSinceGpsEpoch     latDeg  \\\n",
       "0       2021-01-05-US-SVL-2  Pixel4XL        1293918764643  37.379580   \n",
       "1       2021-01-05-US-SVL-2  Pixel4XL        1293918765657  37.379518   \n",
       "2       2021-01-05-US-SVL-2  Pixel4XL        1293918766650  37.379532   \n",
       "3       2021-01-05-US-SVL-2  Pixel4XL        1293918767660  37.379575   \n",
       "4       2021-01-05-US-SVL-2  Pixel4XL        1293918768654  37.379687   \n",
       "...                     ...       ...                  ...        ...   \n",
       "118758  2020-08-06-US-MTV-2    Pixel4        1280791335447  37.427359   \n",
       "118759  2020-08-06-US-MTV-2    Pixel4        1280791336447  37.427345   \n",
       "118760  2020-08-06-US-MTV-2    Pixel4        1280791337447  37.427340   \n",
       "118761  2020-08-06-US-MTV-2    Pixel4        1280791338447  37.427328   \n",
       "118762  2020-08-06-US-MTV-2    Pixel4        1280791339447  37.427345   \n",
       "\n",
       "            lngDeg  heightAboveWgs84EllipsoidM                         phone  \\\n",
       "0      -122.071900                       15.98  2021-01-05-US-SVL-2_Pixel4XL   \n",
       "1      -122.071986                        4.47  2021-01-05-US-SVL-2_Pixel4XL   \n",
       "2      -122.072113                        1.51  2021-01-05-US-SVL-2_Pixel4XL   \n",
       "3      -122.072089                       -5.10  2021-01-05-US-SVL-2_Pixel4XL   \n",
       "4      -122.071986                       13.73  2021-01-05-US-SVL-2_Pixel4XL   \n",
       "...            ...                         ...                           ...   \n",
       "118758 -122.069915                      -26.60    2020-08-06-US-MTV-2_Pixel4   \n",
       "118759 -122.069917                      -27.56    2020-08-06-US-MTV-2_Pixel4   \n",
       "118760 -122.069912                      -25.44    2020-08-06-US-MTV-2_Pixel4   \n",
       "118761 -122.069920                      -27.00    2020-08-06-US-MTV-2_Pixel4   \n",
       "118762 -122.069918                      -26.52    2020-08-06-US-MTV-2_Pixel4   \n",
       "\n",
       "        timeSinceFirstFixSeconds  hDop  vDop  ...  GPS_L1  GPS_L5  GAL_E1  \\\n",
       "0                         280.64  0.80   0.0  ...       1       0       0   \n",
       "1                         281.66  0.80   0.0  ...       1       0       0   \n",
       "2                         282.65  0.80   0.0  ...       1       0       0   \n",
       "3                         283.66  0.80   0.0  ...       1       0       0   \n",
       "4                         284.65  0.80   0.0  ...       1       0       0   \n",
       "...                          ...   ...   ...  ...     ...     ...     ...   \n",
       "118758                   2235.45  2.25   0.0  ...       1       0       0   \n",
       "118759                   2236.45  2.35   0.0  ...       1       0       0   \n",
       "118760                   2237.45  2.25   0.0  ...       1       0       0   \n",
       "118761                   2238.45  2.80   0.0  ...       1       0       0   \n",
       "118762                   2239.45  2.80   0.0  ...       1       0       0   \n",
       "\n",
       "        GAL_E5A  GLO_G1  BDS_B1I  BDS_B1C BDS_B2A  QZS_J1  QZS_J5  \n",
       "0             0       0        0        0       0       0       0  \n",
       "1             0       0        0        0       0       0       0  \n",
       "2             0       0        0        0       0       0       0  \n",
       "3             0       0        0        0       0       0       0  \n",
       "4             0       0        0        0       0       0       0  \n",
       "...         ...     ...      ...      ...     ...     ...     ...  \n",
       "118758        0       0        0        0       0       0       0  \n",
       "118759        0       0        0        0       0       0       0  \n",
       "118760        0       0        0        0       0       0       0  \n",
       "118761        0       0        0        0       0       0       0  \n",
       "118762        0       0        0        0       0       0       0  \n",
       "\n",
       "[118763 rows x 148 columns]"
      ]
     },
     "execution_count": 13,
     "metadata": {},
     "output_type": "execute_result"
    }
   ],
   "source": [
    "df_train"
   ]
  },
  {
   "cell_type": "code",
   "execution_count": 14,
   "metadata": {
    "ExecuteTime": {
     "end_time": "2021-07-04T22:58:26.265841Z",
     "start_time": "2021-07-04T22:58:26.236839Z"
    }
   },
   "outputs": [],
   "source": [
    "def GetWindowsRight(idx, window_size):\n",
    "    index = np.array([])\n",
    "    if idx < window_size:\n",
    "        index = np.concatenate([np.zeros(window_size - idx-1), np.array(range(idx+1))])\n",
    "        pass\n",
    "    else:\n",
    "        index = np.array(range(idx-window_size+1, idx+1))\n",
    "    return index.astype(int)\n",
    "\n",
    "def GetWindowsMid(idx, window_size, max_idx):\n",
    "    left_index = np.array([])\n",
    "    right_index = np.array([])\n",
    "    \n",
    "    left_size = int(round(window_size * 0.5))\n",
    "    right_size = window_size - left_size\n",
    "    if idx - left_size< 0:\n",
    "        left_index = np.concatenate([np.zeros(left_size - idx-1), np.array(range(idx+1))])\n",
    "    else:\n",
    "        left_index = np.array(range(idx-left_size, idx+1))\n",
    "    \n",
    "    if idx + right_size> max_idx:\n",
    "        right_index = np.concatenate([np.array(range(idx+1, max_idx+1)), (max_idx)*np.ones(right_size - (max_idx - idx) + 1)])\n",
    "    else:\n",
    "        right_index = np.array(range(idx+1, idx + right_size))\n",
    "    \n",
    "    index = np.concatenate([left_index, right_index])\n",
    "    \n",
    "    return index.astype(int)\n",
    "\n",
    "def GetWindowsWithRatio(idx, max_idx, window_size, window_ratio = 1.):\n",
    "    left_index = np.array([])\n",
    "    right_index = np.array([])\n",
    "    \n",
    "    left_size = int(round(window_size * window_ratio))\n",
    "    right_size = window_size - left_size\n",
    "    if idx - left_size< 0:\n",
    "        left_index = np.concatenate([np.zeros(left_size - idx-1), np.array(range(idx+1))])\n",
    "    else:\n",
    "        left_index = np.array(range(idx-left_size, idx+1))\n",
    "    \n",
    "    if idx + right_size> max_idx:\n",
    "        right_index = np.concatenate([np.array(range(idx+1, max_idx+1)), (max_idx)*np.ones(right_size - idx - 1)])\n",
    "    else:\n",
    "        right_index = np.array(range(idx+1, idx + right_size))\n",
    "    \n",
    "    index = np.concatenate([left_index, right_index])\n",
    "    \n",
    "    if index.shape[0] < window_size:\n",
    "        if idx > np.percentile(index, window_ratio * 100):\n",
    "            if index[-1] == max_idx:\n",
    "                addtional_index = index[-1]\n",
    "            else:\n",
    "                addtional_index = index[-1] + 1\n",
    "            index = np.concatenate([index, np.array([addtional_index])])\n",
    "        \n",
    "    return index.astype(int)\n",
    "\n",
    "\n",
    "class CustomDataset(torch.utils.data.Dataset):\n",
    "    def __init__(self, df:pd.DataFrame, \n",
    "                 features = ['latDeg', 'lngDeg', 'heightAboveWgs84EllipsoidM'], \n",
    "                 labels = ['t_latDeg', 't_lngDeg', 't_heightAboveWgs84EllipsoidM'],\n",
    "                 window_size = 100,\n",
    "                 train = False,\n",
    "                 augment = False,\n",
    "                 crop_ratio = 0.0,\n",
    "                device = 'cpu'):\n",
    "        self.df = df\n",
    "        self.features = features\n",
    "        self.labels = labels\n",
    "        self.len = df.shape[0]\n",
    "        self.window_size = window_size\n",
    "        self.train = train\n",
    "        self.augment = augment\n",
    "        self.crop_ratio = crop_ratio\n",
    "        self.device = device\n",
    "        \n",
    "        self.data = self.df[features].astype(float).values\n",
    "        if train == True:\n",
    "            self.true = self.df[labels].astype(float).values\n",
    "        else:\n",
    "            self.true = []\n",
    "        self.phone = self.df['phone'].values\n",
    "        self.millisSinceGpsEpoch = self.df['millisSinceGpsEpoch'].values\n",
    "        \n",
    "        self.start_index_by_phone = dict()\n",
    "        self.length_by_phone = dict()\n",
    "        \n",
    "        for phone in set(self.phone):\n",
    "            start_index = np.where(self.phone == phone)[0][0]\n",
    "            self.start_index_by_phone[phone] = start_index\n",
    "            self.length_by_phone[phone] = (self.phone == phone).sum().astype('int64')\n",
    "            \n",
    "        \n",
    "    \n",
    "    def __len__(self):\n",
    "        return self.len\n",
    "    \n",
    "    def __getitem__(self, idx):\n",
    "        # 필요하다면 random crop 코드도 추가(랜덤한 위치에서 일정 비율의 데이터를 0으로 초기화)\n",
    "        phone = self.phone[idx]\n",
    "        start_index = self.start_index_by_phone[phone]\n",
    "        \n",
    "#         window_index = GetWindowsWithRatio(idx - start_index, self.length_by_phone[phone], self.window_size, 1) + start_index\n",
    "        window_index = GetWindowsRight(idx - start_index, self.window_size) + start_index\n",
    "#         window_index = GetWindowsMid(idx - start_index, self.window_size, self.length_by_phone[phone]) + start_index\n",
    "    \n",
    "#         data = self.data[window_index, :].transpose(1, 0) # num_of_features X window_size\n",
    "        data = self.data[window_index, :]                   # window_size X num_of_features\n",
    "        \n",
    "            \n",
    "        indx = [self.phone[idx], self.millisSinceGpsEpoch[idx]]\n",
    "        \n",
    "        # data shape : num_of_features X window_size\n",
    "        # true shape : num_of_labels X 1\n",
    "        data = torch.Tensor(data)\n",
    "        if self.augment:\n",
    "            crop_size = int(self.crop_ratio * self.window_size * np.random.rand(1))\n",
    "            crop_start_index = np.random.randint(0, self.window_size - crop_size)\n",
    "            data[crop_start_index:crop_size] = 0\n",
    "        \n",
    "        if self.train is False:\n",
    "            true = []\n",
    "        else:\n",
    "            true = self.true[idx]\n",
    "            true = torch.Tensor(true.astype(float))\n",
    "        \n",
    "        return data, true, indx\n",
    "    \n"
   ]
  },
  {
   "cell_type": "markdown",
   "metadata": {},
   "source": [
    "## Feature Select"
   ]
  },
  {
   "cell_type": "code",
   "execution_count": 15,
   "metadata": {
    "ExecuteTime": {
     "end_time": "2021-07-04T22:58:26.476001Z",
     "start_time": "2021-07-04T22:58:26.266840Z"
    },
    "scrolled": true
   },
   "outputs": [
    {
     "name": "stdout",
     "output_type": "stream",
     "text": [
      "(118763, 43)\n",
      "              latDeg         lngDeg  heightAboveWgs84EllipsoidM  \\\n",
      "count  118763.000000  118763.000000                118763.00000   \n",
      "mean       37.442918    -122.163541                    24.27568   \n",
      "std         0.085867       0.151991                    89.97159   \n",
      "min        37.321683    -122.472214                 -6157.47000   \n",
      "25%        37.374578    -122.286753                   -27.76000   \n",
      "50%        37.430906    -122.143473                     3.02000   \n",
      "75%        37.488124    -122.069911                    61.51000   \n",
      "max        37.690808    -121.881868                 13701.98000   \n",
      "\n",
      "       dlatDeg_Scaled  dlngDeg_Scaled  dheight_Scaled  xSatPosM_Scaled  \\\n",
      "count   118763.000000   118763.000000   118763.000000    118763.000000   \n",
      "mean        -0.016514       -0.016338        0.064253         0.007211   \n",
      "std          1.014741        1.029600        1.253750         0.725679   \n",
      "min         -3.366423       -2.837517      -84.852009        -1.703273   \n",
      "25%         -0.223234       -0.312940       -0.343565        -0.335190   \n",
      "50%          0.071877        0.086604       -0.217496         0.000000   \n",
      "75%          0.218413        0.200753        0.466270         0.000000   \n",
      "max          2.633869        2.871580      188.239406         2.517594   \n",
      "\n",
      "       ySatPosM_Scaled  zSatPosM_Scaled  xSatVelMps_Scaled  ...  \\\n",
      "count    118763.000000    118763.000000      118763.000000  ...   \n",
      "mean         -0.003801        -0.006063           0.011708  ...   \n",
      "std           0.730272         0.739641           0.721815  ...   \n",
      "min          -1.604379        -2.852978          -2.805447  ...   \n",
      "25%          -0.194196         0.000000          -0.097389  ...   \n",
      "50%           0.000000         0.000000           0.000000  ...   \n",
      "75%           0.000000         0.385029           0.015046  ...   \n",
      "max           3.451242         2.112431           2.135501  ...   \n",
      "\n",
      "              GPS_L1         GPS_L5         GAL_E1        GAL_E5A  \\\n",
      "count  118763.000000  118763.000000  118763.000000  118763.000000   \n",
      "mean        0.163443       0.053333       0.111255       0.074577   \n",
      "std         0.369771       0.224698       0.314449       0.262709   \n",
      "min         0.000000       0.000000       0.000000       0.000000   \n",
      "25%         0.000000       0.000000       0.000000       0.000000   \n",
      "50%         0.000000       0.000000       0.000000       0.000000   \n",
      "75%         0.000000       0.000000       0.000000       0.000000   \n",
      "max         1.000000       1.000000       1.000000       1.000000   \n",
      "\n",
      "              GLO_G1        BDS_B1I   BDS_B1C   BDS_B2A         QZS_J1  \\\n",
      "count  118763.000000  118763.000000  118763.0  118763.0  118763.000000   \n",
      "mean        0.088647       0.026523       0.0       0.0       0.001785   \n",
      "std         0.284235       0.160686       0.0       0.0       0.042213   \n",
      "min         0.000000       0.000000       0.0       0.0       0.000000   \n",
      "25%         0.000000       0.000000       0.0       0.0       0.000000   \n",
      "50%         0.000000       0.000000       0.0       0.0       0.000000   \n",
      "75%         0.000000       0.000000       0.0       0.0       0.000000   \n",
      "max         1.000000       1.000000       0.0       0.0       1.000000   \n",
      "\n",
      "              QZS_J5  \n",
      "count  118763.000000  \n",
      "mean        0.001086  \n",
      "std         0.032940  \n",
      "min         0.000000  \n",
      "25%         0.000000  \n",
      "50%         0.000000  \n",
      "75%         0.000000  \n",
      "max         1.000000  \n",
      "\n",
      "[8 rows x 43 columns]\n"
     ]
    }
   ],
   "source": [
    "features = [\n",
    "    'latDeg', \n",
    "    'lngDeg', \n",
    "    'heightAboveWgs84EllipsoidM',\n",
    "    'dlatDeg_Scaled',\n",
    "    'dlngDeg_Scaled',\n",
    "    'dheight_Scaled',\n",
    "    'xSatPosM_Scaled',\n",
    "    'ySatPosM_Scaled',\n",
    "    'zSatPosM_Scaled',\n",
    "    'xSatVelMps_Scaled',\n",
    "    'ySatVelMps_Scaled',\n",
    "    'zSatVelMps_Scaled',\n",
    "    'UncalGyroXRadPerSec_Scaled',\n",
    "    'UncalGyroYRadPerSec_Scaled',\n",
    "    'UncalGyroZRadPerSec_Scaled',\n",
    "    'DriftXRadPerSec_Scaled',\n",
    "    'DriftYRadPerSec_Scaled',\n",
    "    'DriftZRadPerSec_Scaled',\n",
    "    'UncalAccelXMps2_Scaled',\n",
    "    'UncalAccelYMps2_Scaled',\n",
    "    'UncalAccelZMps2_Scaled',\n",
    "    'BiasXMps2_Scaled',\n",
    "    'BiasYMps2_Scaled',\n",
    "    'BiasZMps2_Scaled',\n",
    "    'UncalMagXMicroT_Scaled',\n",
    "    'UncalMagYMicroT_Scaled',\n",
    "    'UncalMagZMicroT_Scaled',\n",
    "    'BiasXMicroT_Scaled',\n",
    "    'BiasYMicroT_Scaled',\n",
    "    'BiasZMicroT_Scaled',\n",
    "    'yawDeg_Scaled',\n",
    "    'rollDeg_Scaled',\n",
    "    'pitchDeg_Scaled',\n",
    "    'GPS_L1', \n",
    "    'GPS_L5', \n",
    "    'GAL_E1', \n",
    "    'GAL_E5A', \n",
    "    'GLO_G1', \n",
    "    'BDS_B1I', \n",
    "    'BDS_B1C', \n",
    "    'BDS_B2A', \n",
    "    'QZS_J1', \n",
    "    'QZS_J5'\n",
    "]\n",
    "status_features = [\n",
    "]\n",
    "\n",
    "labels = [\n",
    "    't_latDeg', \n",
    "    't_lngDeg', \n",
    "    't_heightAboveWgs84EllipsoidM',\n",
    "#     'courseDegree',\n",
    "#     'hDop',\n",
    "#     'vDop',\n",
    "#     'speedMps'\n",
    "         ]\n",
    "\n",
    "print(df_train[features].shape)\n",
    "print(df_train[features].describe())\n"
   ]
  },
  {
   "cell_type": "code",
   "execution_count": 16,
   "metadata": {
    "ExecuteTime": {
     "end_time": "2021-07-04T22:58:26.821220Z",
     "start_time": "2021-07-04T22:58:26.478000Z"
    }
   },
   "outputs": [],
   "source": [
    "train_data = CustomDataset(df_train, \n",
    "                           features = features, labels = labels, \n",
    "                           window_size = hyper_parameters['window_size'], \n",
    "                           train = True, \n",
    "                           augment = True,\n",
    "                           crop_ratio = 0.1,\n",
    "                           device = device)\n",
    "valid_data = CustomDataset(df_valid, \n",
    "                           features = features, labels = labels, \n",
    "                           window_size = hyper_parameters['window_size'], \n",
    "                           train = True, \n",
    "                           augment = False,\n",
    "                           crop_ratio = 0.0,\n",
    "                           device = device)\n",
    "test_data = CustomDataset(df_test, \n",
    "                        features = features, labels = labels, \n",
    "                        window_size = hyper_parameters['window_size'], \n",
    "                        train = False, \n",
    "                        augment = False,\n",
    "                        crop_ratio = 0.0,\n",
    "                        device = device)"
   ]
  },
  {
   "cell_type": "code",
   "execution_count": 17,
   "metadata": {
    "ExecuteTime": {
     "end_time": "2021-07-04T22:58:26.836220Z",
     "start_time": "2021-07-04T22:58:26.822221Z"
    }
   },
   "outputs": [],
   "source": [
    "train_loader = DataLoader(train_data, batch_size = hyper_parameters['batch_size'], shuffle = True)\n",
    "valid_loader = DataLoader(valid_data, batch_size = hyper_parameters['batch_size'], shuffle = False)\n",
    "test_loader = DataLoader(test_data, batch_size = hyper_parameters['batch_size'], shuffle = False)"
   ]
  },
  {
   "cell_type": "markdown",
   "metadata": {},
   "source": [
    "# Build Model\n",
    "## Define Loss and Score"
   ]
  },
  {
   "cell_type": "code",
   "execution_count": 18,
   "metadata": {
    "ExecuteTime": {
     "end_time": "2021-07-04T22:58:26.851219Z",
     "start_time": "2021-07-04T22:58:26.837221Z"
    }
   },
   "outputs": [],
   "source": [
    "class GPSLossScore(nn.Module):\n",
    "    def __init__(self):\n",
    "        super().__init__()\n",
    "        self.EARTH_RADIUS = 6_367_000\n",
    "        self.loss = nn.SmoothL1Loss()\n",
    "        pass\n",
    "    \n",
    "    def forward(self, predict:torch.Tensor, target:torch.Tensor):\n",
    "        loss = self.loss(predict[:,:2], target[:,:2])\n",
    "        if (loss <1e-4):\n",
    "            loss = self.gps_loss(predict, target)\n",
    "        return loss\n",
    "    \n",
    "    def torch_haversine(self,lat1, lon1, lat2, lon2):\n",
    "    \n",
    "        lat1=lat1 % 360\n",
    "        lon1=lon1 % 360\n",
    "        lat2=lat2 % 360\n",
    "        lon2=lon2 % 360\n",
    "\n",
    "        lat1, lat2, lon1, lon2 = map(torch.deg2rad, [lat1, lat2, lon1, lon2])\n",
    "\n",
    "        dlat = (lat2 - lat1)\n",
    "        dlon = (lon2 - lon1)\n",
    "\n",
    "        a = torch.sin(dlat / 2.0)**2 + torch.cos(lat1) * torch.cos(lat2) * (torch.sin(dlon / 2.0)**2)\n",
    "        c = 2 * torch.arcsin(a ** 0.5)\n",
    "\n",
    "        dist = self.EARTH_RADIUS * c\n",
    "\n",
    "        return dist\n",
    "    \n",
    "    def custom_loss(self, predict:torch.Tensor, target:torch.Tensor):\n",
    "        latlng_loss = self.loss(predict[:,:2], target[:,:2])\n",
    "        other_loss = self.loss(predict[:,2:], target[:,2:])\n",
    "        loss = 0.9 * latlng_loss + 0.1 * other_loss\n",
    "        \n",
    "        return loss, latlng_loss, other_loss\n",
    "\n",
    "    def gps_loss(self, predict:torch.Tensor, target:torch.Tensor):\n",
    "        dist = self.torch_haversine(predict[:,0], predict[:,1], target[:,0], target[:,1])\n",
    "\n",
    "        loss = dist.mean()\n",
    "\n",
    "        return loss\n",
    "\n",
    "    def gps_score(self, predict:torch.Tensor, target:torch.Tensor):\n",
    "        dist = self.torch_haversine(predict[:,0], predict[:,1], target[:,0], target[:,1])\n",
    "\n",
    "        score = (torch.quantile(dist, 0.5) + torch.quantile(dist, 0.95))/2\n",
    "\n",
    "        return score\n",
    "    "
   ]
  },
  {
   "cell_type": "markdown",
   "metadata": {},
   "source": [
    "## Build Custom Model"
   ]
  },
  {
   "cell_type": "code",
   "execution_count": 19,
   "metadata": {
    "ExecuteTime": {
     "end_time": "2021-07-04T22:58:26.881253Z",
     "start_time": "2021-07-04T22:58:26.853221Z"
    }
   },
   "outputs": [],
   "source": [
    "\n",
    "class ConvBlock(nn.Module):\n",
    "    def __init__(self, input_features, features = 128):\n",
    "        super().__init__()\n",
    "        \n",
    "        self.fuse = nn.Conv1d(input_features + features, features, kernel_size = 1)\n",
    "        self.conv = nn.Conv1d(input_features, features, kernel_size=3, padding = 1)\n",
    "        self.batch = nn.BatchNorm1d(features)\n",
    "        self.pool = nn.AvgPool1d(kernel_size = 2)\n",
    "        \n",
    "    def forward(self, x):\n",
    "        skip = x\n",
    "        \n",
    "        x = self.conv(x)\n",
    "        x = F.tanh(x)\n",
    "        x = self.batch(x)\n",
    "        x = torch.cat([skip, x], axis = 1)\n",
    "        x = self.fuse(x)\n",
    "        x = self.pool(x)\n",
    "        return x\n",
    "    \n",
    "class BaseModel(nn.Module):\n",
    "    def __init__(self, input_size = (100, 3), output_size = 3):\n",
    "        super().__init__()\n",
    "        self.input_size = input_size\n",
    "        self.output_size = output_size\n",
    "        \n",
    "        self.conv1 = ConvBlock(input_size[1], 64)\n",
    "        self.conv2 = ConvBlock(64, 64)\n",
    "        self.conv3 = ConvBlock(64, 64)\n",
    "        \n",
    "        self.tf = nn.Transformer(d_model = 64, \n",
    "                                 nhead = 32, \n",
    "                                 num_encoder_layers = 1, \n",
    "                                 num_decoder_layers = 1, \n",
    "                                 dim_feedforward = 64,\n",
    "                                 dropout = 0.3, \n",
    "                                 activation= 'relu')\n",
    "        \n",
    "        self.batch_norm = nn.BatchNorm1d(64)\n",
    "        self.layer_norm = nn.LayerNorm([16, 64])\n",
    "        \n",
    "        self.fc1 = nn.Linear(16*64, 128)\n",
    "        self.layer_norm1 = nn.LayerNorm(128)\n",
    "        self.fc2 = nn.Linear(128, 64)\n",
    "        self.layer_norm2 = nn.LayerNorm(64)\n",
    "        self.fc3 = nn.Linear(64, 32)\n",
    "        self.layer_norm3 = nn.LayerNorm(32)\n",
    "        self.fc4 = nn.Linear(32, output_size)\n",
    "        self.layer_norm4 = nn.LayerNorm(output_size)\n",
    "        \n",
    "        self.drop06 = nn.Dropout(0.6)\n",
    "        self.drop03 = nn.Dropout(0.3)\n",
    "        self.drop01 = nn.Dropout(0.1)\n",
    "        \n",
    "        nn.init.kaiming_normal_(self.fc1.weight)\n",
    "        nn.init.kaiming_normal_(self.fc2.weight)\n",
    "        nn.init.kaiming_normal_(self.fc3.weight)\n",
    "        nn.init.kaiming_normal_(self.fc4.weight)\n",
    "        \n",
    "        \n",
    "    def forward(self, x):\n",
    "        input_size = self.input_size \n",
    "        output_size = self.output_size\n",
    "        \n",
    "        x[:,:,:2] = torch.deg2rad(x[:,:,:2])\n",
    "        \n",
    "        x = x.transpose(2,1)\n",
    "        x = self.conv1(x)\n",
    "        x = self.conv2(x)\n",
    "        x = self.conv3(x)\n",
    "        x = x.transpose(2,1)\n",
    "        \n",
    "        skip = x\n",
    "        x = self.layer_norm(x)\n",
    "        x = self.tf(x, x)\n",
    "        x = self.batch_norm(x.transpose(2,1))\n",
    "        x = x.transpose(2,1)\n",
    "        x = x + skip\n",
    "        \n",
    "        x = x.reshape(-1, 16*64)\n",
    "        \n",
    "        x = self.drop06(x)\n",
    "        x = self.fc1(x)\n",
    "        x = F.tanh(x)\n",
    "        x = self.layer_norm1(x)\n",
    "        \n",
    "        x = self.drop06(x)\n",
    "        x = self.fc2(x)\n",
    "        x = F.tanh(x)\n",
    "        x = self.layer_norm2(x)\n",
    "        \n",
    "        x = self.drop03(x)\n",
    "        x = self.fc3(x)\n",
    "        x = F.tanh(x)\n",
    "        x = self.layer_norm3(x)\n",
    "        \n",
    "        x = self.drop01(x)\n",
    "        x = self.fc4(x)\n",
    "        x = self.layer_norm4(x)\n",
    "        \n",
    "        x[:,:2] = torch.rad2deg(x[:,:2])\n",
    "        \n",
    "        return x"
   ]
  },
  {
   "cell_type": "markdown",
   "metadata": {
    "ExecuteTime": {
     "end_time": "2021-07-04T22:49:13.652182Z",
     "start_time": "2021-07-04T22:47:56.929Z"
    }
   },
   "source": [
    "## Compile Model"
   ]
  },
  {
   "cell_type": "code",
   "execution_count": 20,
   "metadata": {
    "ExecuteTime": {
     "end_time": "2021-07-04T22:58:28.066473Z",
     "start_time": "2021-07-04T22:58:26.882253Z"
    }
   },
   "outputs": [],
   "source": [
    "model = BaseModel((hyper_parameters['window_size'], len(features)), len(labels))\n",
    "model.to(device)\n",
    "# model.load_state_dict(torch.load(\"./models/Baseline3/model-4.pth\"))\n",
    "\n",
    "# loss_func = nn.SmoothL1Loss()\n",
    "loss_func = GPSLossScore()\n",
    "optimizer = optim.Adam(model.parameters(), lr = hyper_parameters['learning_rate'])\n",
    "scheduler = optim.lr_scheduler.ReduceLROnPlateau(optimizer=optimizer,\n",
    "                                                mode = 'min',\n",
    "                                                factor = 0.1,\n",
    "                                                patience = 5,\n",
    "                                                verbose = True)"
   ]
  },
  {
   "cell_type": "markdown",
   "metadata": {},
   "source": [
    "# Fit and Validate\n",
    "## Train"
   ]
  },
  {
   "cell_type": "code",
   "execution_count": 21,
   "metadata": {
    "ExecuteTime": {
     "end_time": "2021-07-04T22:58:28.081472Z",
     "start_time": "2021-07-04T22:58:28.067472Z"
    }
   },
   "outputs": [],
   "source": [
    "def train(epoch, progress_log, status_log):\n",
    "    model.train()  # 신경망을 학습 모드로 전환\n",
    "\n",
    "    # 데이터로더에서 미니배치를 하나씩 꺼내 학습을 수행\n",
    "    predict = []\n",
    "    ground = []\n",
    "    \n",
    "    for data, targets, _ in progress_log:\n",
    "        \n",
    "        data = data.to(device)\n",
    "        targets = targets.to(device)\n",
    "        \n",
    "        optimizer.zero_grad()  # 경사를 0으로 초기화\n",
    "        outputs = model(data)  # 데이터를 입력하고 출력을 계산\n",
    "        loss = loss_func(outputs, targets)  # 출력과 훈련 데이터 정답 간의 오차를 계산\n",
    "        \n",
    "        loss.backward()  # 오차를 역전파 계산\n",
    "        optimizer.step()  # 역전파 계산한 값으로 가중치를 수정\n",
    "        \n",
    "        predict.append(outputs)\n",
    "        ground.append(targets)\n",
    "        \n",
    "        status_log.set_description_str(\n",
    "            f\"train status: loss - {loss_func(outputs, targets)} | {nn.SmoothL1Loss()(outputs, targets)}, score - {loss_func.gps_score(outputs, targets)}\")\n",
    "\n",
    "    # 정확도 출력\n",
    "    predict = torch.cat(predict,axis = 0)\n",
    "    ground = torch.cat(ground,axis = 0)\n",
    "    \n",
    "    loss = loss_func(predict, ground)\n",
    "    meas = loss_func.gps_score(predict, ground)\n",
    "    return loss, meas"
   ]
  },
  {
   "cell_type": "markdown",
   "metadata": {},
   "source": [
    "## Valid"
   ]
  },
  {
   "cell_type": "code",
   "execution_count": 22,
   "metadata": {
    "ExecuteTime": {
     "end_time": "2021-07-04T22:58:28.096472Z",
     "start_time": "2021-07-04T22:58:28.083475Z"
    }
   },
   "outputs": [],
   "source": [
    "def valid(progress_log, status_log):\n",
    "    model.eval()  # 신경망을 추론 모드로 전환\n",
    "\n",
    "    # 데이터로더에서 미니배치를 하나씩 꺼내 추론을 수행\n",
    "    predict = []\n",
    "    ground = []\n",
    "    \n",
    "    with torch.no_grad():  # 추론 과정에는 미분이 필요없음\n",
    "        for data, targets, _ in progress_log:\n",
    "            \n",
    "            data = data.to(device)\n",
    "            targets = targets.to(device)\n",
    "            \n",
    "            outputs = model(data)  # 데이터를 입력하고 출력을 계산\n",
    "            loss = loss_func(outputs, targets)  # 출력과 훈련 데이터 정답 간의 오차를 계산\n",
    "            \n",
    "            predict.append(outputs)\n",
    "            ground.append(targets)\n",
    "            \n",
    "        status_log.set_description_str(f\"valid status: loss - {loss_func(outputs, targets)} | {nn.SmoothL1Loss()(outputs, targets)}, score - {loss_func.gps_score(outputs, targets)}\")\n",
    "    # 정확도 출력\n",
    "    predict = torch.cat(predict,axis = 0)\n",
    "    ground = torch.cat(ground,axis = 0)\n",
    "    \n",
    "    loss = loss_func(predict, ground)\n",
    "    meas = loss_func.gps_score(predict, ground)\n",
    "    return loss, meas"
   ]
  },
  {
   "cell_type": "markdown",
   "metadata": {},
   "source": [
    "## Test"
   ]
  },
  {
   "cell_type": "code",
   "execution_count": 23,
   "metadata": {
    "ExecuteTime": {
     "end_time": "2021-07-04T22:58:28.111472Z",
     "start_time": "2021-07-04T22:58:28.100476Z"
    }
   },
   "outputs": [],
   "source": [
    "def test(dataloader):\n",
    "    model.eval()  # 신경망을 추론 모드로 전환\n",
    "    \n",
    "    output_list = []\n",
    "    with torch.no_grad():  # 추론 과정에는 미분이 필요없음\n",
    "        for data, _, index in tqdm(dataloader):\n",
    "            data = data.to(device)\n",
    "            outputs = model(data)  # 데이터를 입력하고 출력을 계산\n",
    "            df_temp = pd.DataFrame()\n",
    "            df_temp['phone'] = index[0]\n",
    "            df_temp['millisSinceGpsEpoch'] = index[1]\n",
    "            df_temp[['latDeg', 'lngDeg', 'heightAboveWgs84EllipsoidM']] = outputs[:,:3].to('cpu').numpy()\n",
    "            output_list.append(df_temp)\n",
    "    \n",
    "    predicts = pd.concat(output_list)\n",
    "    return predicts\n",
    "            "
   ]
  },
  {
   "cell_type": "code",
   "execution_count": 24,
   "metadata": {
    "ExecuteTime": {
     "end_time": "2021-07-04T23:02:15.182792Z",
     "start_time": "2021-07-04T22:58:28.113475Z"
    },
    "scrolled": true
   },
   "outputs": [
    {
     "data": {
      "application/vnd.jupyter.widget-view+json": {
       "model_id": "020e2949893e42e281077325ace3840c",
       "version_major": 2,
       "version_minor": 0
      },
      "text/plain": [
       "EPOCH:   0%|          | 0/10000 [00:00<?, ?it/s]"
      ]
     },
     "metadata": {},
     "output_type": "display_data"
    },
    {
     "data": {
      "application/vnd.jupyter.widget-view+json": {
       "model_id": "43189cb7820048889345c81fb5c41cef",
       "version_major": 2,
       "version_minor": 0
      },
      "text/plain": []
     },
     "metadata": {},
     "output_type": "display_data"
    },
    {
     "data": {
      "application/vnd.jupyter.widget-view+json": {
       "model_id": "7ed7acaadd434e978cb0810808cdce55",
       "version_major": 2,
       "version_minor": 0
      },
      "text/plain": []
     },
     "metadata": {},
     "output_type": "display_data"
    },
    {
     "data": {
      "application/vnd.jupyter.widget-view+json": {
       "model_id": "9ee1787dcc0a48db974a81124989d959",
       "version_major": 2,
       "version_minor": 0
      },
      "text/plain": []
     },
     "metadata": {},
     "output_type": "display_data"
    },
    {
     "data": {
      "application/vnd.jupyter.widget-view+json": {
       "model_id": "",
       "version_major": 2,
       "version_minor": 0
      },
      "text/plain": [
       "Train:   0%|          | 0/464 [00:00<?, ?it/s]"
      ]
     },
     "metadata": {},
     "output_type": "display_data"
    },
    {
     "data": {
      "application/vnd.jupyter.widget-view+json": {
       "model_id": "",
       "version_major": 2,
       "version_minor": 0
      },
      "text/plain": [
       "Valid:   0%|          | 0/41 [00:00<?, ?it/s]"
      ]
     },
     "metadata": {},
     "output_type": "display_data"
    },
    {
     "name": "stdout",
     "output_type": "stream",
     "text": [
      "EPOCH:0/10000 train status: loss - 1622128.5, score - 2989700.0, valid status: loss - 14322.3388671875, score - 20195.44140625\n"
     ]
    },
    {
     "data": {
      "application/vnd.jupyter.widget-view+json": {
       "model_id": "",
       "version_major": 2,
       "version_minor": 0
      },
      "text/plain": [
       "Train:   0%|          | 0/464 [00:00<?, ?it/s]"
      ]
     },
     "metadata": {},
     "output_type": "display_data"
    },
    {
     "data": {
      "application/vnd.jupyter.widget-view+json": {
       "model_id": "",
       "version_major": 2,
       "version_minor": 0
      },
      "text/plain": [
       "Valid:   0%|          | 0/41 [00:00<?, ?it/s]"
      ]
     },
     "metadata": {},
     "output_type": "display_data"
    },
    {
     "name": "stdout",
     "output_type": "stream",
     "text": [
      "EPOCH:1/10000 train status: loss - 50725.73828125, score - 89668.9140625, valid status: loss - 10900.486328125, score - 15690.033203125\n"
     ]
    },
    {
     "data": {
      "application/vnd.jupyter.widget-view+json": {
       "model_id": "",
       "version_major": 2,
       "version_minor": 0
      },
      "text/plain": [
       "Train:   0%|          | 0/464 [00:00<?, ?it/s]"
      ]
     },
     "metadata": {},
     "output_type": "display_data"
    },
    {
     "data": {
      "application/vnd.jupyter.widget-view+json": {
       "model_id": "",
       "version_major": 2,
       "version_minor": 0
      },
      "text/plain": [
       "Valid:   0%|          | 0/41 [00:00<?, ?it/s]"
      ]
     },
     "metadata": {},
     "output_type": "display_data"
    },
    {
     "name": "stdout",
     "output_type": "stream",
     "text": [
      "EPOCH:2/10000 train status: loss - 16364.681640625, score - 22838.689453125, valid status: loss - 11133.0146484375, score - 14813.36328125\n"
     ]
    },
    {
     "data": {
      "application/vnd.jupyter.widget-view+json": {
       "model_id": "",
       "version_major": 2,
       "version_minor": 0
      },
      "text/plain": [
       "Train:   0%|          | 0/464 [00:00<?, ?it/s]"
      ]
     },
     "metadata": {},
     "output_type": "display_data"
    },
    {
     "data": {
      "application/vnd.jupyter.widget-view+json": {
       "model_id": "",
       "version_major": 2,
       "version_minor": 0
      },
      "text/plain": [
       "Valid:   0%|          | 0/41 [00:00<?, ?it/s]"
      ]
     },
     "metadata": {},
     "output_type": "display_data"
    },
    {
     "name": "stdout",
     "output_type": "stream",
     "text": [
      "EPOCH:3/10000 train status: loss - 15465.4345703125, score - 21465.953125, valid status: loss - 11353.384765625, score - 15763.1708984375\n"
     ]
    },
    {
     "data": {
      "application/vnd.jupyter.widget-view+json": {
       "model_id": "",
       "version_major": 2,
       "version_minor": 0
      },
      "text/plain": [
       "Train:   0%|          | 0/464 [00:00<?, ?it/s]"
      ]
     },
     "metadata": {},
     "output_type": "display_data"
    },
    {
     "data": {
      "application/vnd.jupyter.widget-view+json": {
       "model_id": "",
       "version_major": 2,
       "version_minor": 0
      },
      "text/plain": [
       "Valid:   0%|          | 0/41 [00:00<?, ?it/s]"
      ]
     },
     "metadata": {},
     "output_type": "display_data"
    },
    {
     "name": "stdout",
     "output_type": "stream",
     "text": [
      "EPOCH:4/10000 train status: loss - 14667.7333984375, score - 21486.775390625, valid status: loss - 10590.40234375, score - 15439.56640625\n"
     ]
    },
    {
     "data": {
      "application/vnd.jupyter.widget-view+json": {
       "model_id": "273e4a68ca1a4d60930669823d6de6fd",
       "version_major": 2,
       "version_minor": 0
      },
      "text/plain": [
       "Train:   0%|          | 0/464 [00:00<?, ?it/s]"
      ]
     },
     "metadata": {},
     "output_type": "display_data"
    },
    {
     "data": {
      "application/vnd.jupyter.widget-view+json": {
       "model_id": "924509b3ea6647aa910bf10803ec0d1e",
       "version_major": 2,
       "version_minor": 0
      },
      "text/plain": [
       "Valid:   0%|          | 0/41 [00:00<?, ?it/s]"
      ]
     },
     "metadata": {},
     "output_type": "display_data"
    },
    {
     "ename": "KeyboardInterrupt",
     "evalue": "",
     "output_type": "error",
     "traceback": [
      "\u001b[1;31m---------------------------------------------------------------------------\u001b[0m",
      "\u001b[1;31mKeyboardInterrupt\u001b[0m                         Traceback (most recent call last)",
      "\u001b[1;32m<ipython-input-24-e41326f7c3f1>\u001b[0m in \u001b[0;36m<module>\u001b[1;34m\u001b[0m\n\u001b[0;32m     20\u001b[0m     \u001b[0mvalid_prog\u001b[0m \u001b[1;33m=\u001b[0m \u001b[0mtqdm\u001b[0m\u001b[1;33m(\u001b[0m\u001b[0mvalid_loader\u001b[0m\u001b[1;33m,\u001b[0m \u001b[0mposition\u001b[0m \u001b[1;33m=\u001b[0m \u001b[1;36m6\u001b[0m\u001b[1;33m,\u001b[0m \u001b[0mdesc\u001b[0m \u001b[1;33m=\u001b[0m \u001b[1;34m'Valid'\u001b[0m\u001b[1;33m,\u001b[0m \u001b[0mleave\u001b[0m \u001b[1;33m=\u001b[0m \u001b[1;32mFalse\u001b[0m\u001b[1;33m)\u001b[0m\u001b[1;33m\u001b[0m\u001b[1;33m\u001b[0m\u001b[0m\n\u001b[0;32m     21\u001b[0m \u001b[1;33m\u001b[0m\u001b[0m\n\u001b[1;32m---> 22\u001b[1;33m     \u001b[0mtrain_loss\u001b[0m\u001b[1;33m,\u001b[0m \u001b[0mtrain_meas\u001b[0m \u001b[1;33m=\u001b[0m \u001b[0mtrain\u001b[0m\u001b[1;33m(\u001b[0m\u001b[0mepoch\u001b[0m\u001b[1;33m,\u001b[0m \u001b[0mtrain_prog\u001b[0m\u001b[1;33m,\u001b[0m \u001b[0mtrain_status_log\u001b[0m\u001b[1;33m)\u001b[0m\u001b[1;33m\u001b[0m\u001b[1;33m\u001b[0m\u001b[0m\n\u001b[0m\u001b[0;32m     23\u001b[0m     \u001b[0mvalid_loss\u001b[0m\u001b[1;33m,\u001b[0m \u001b[0mvalid_meas\u001b[0m \u001b[1;33m=\u001b[0m \u001b[0mvalid\u001b[0m\u001b[1;33m(\u001b[0m\u001b[0mvalid_prog\u001b[0m\u001b[1;33m,\u001b[0m \u001b[0mvalid_status_log\u001b[0m\u001b[1;33m)\u001b[0m\u001b[1;33m\u001b[0m\u001b[1;33m\u001b[0m\u001b[0m\n\u001b[0;32m     24\u001b[0m \u001b[1;33m\u001b[0m\u001b[0m\n",
      "\u001b[1;32m<ipython-input-21-7c91a8ce1003>\u001b[0m in \u001b[0;36mtrain\u001b[1;34m(epoch, progress_log, status_log)\u001b[0m\n\u001b[0;32m      6\u001b[0m     \u001b[0mground\u001b[0m \u001b[1;33m=\u001b[0m \u001b[1;33m[\u001b[0m\u001b[1;33m]\u001b[0m\u001b[1;33m\u001b[0m\u001b[1;33m\u001b[0m\u001b[0m\n\u001b[0;32m      7\u001b[0m \u001b[1;33m\u001b[0m\u001b[0m\n\u001b[1;32m----> 8\u001b[1;33m     \u001b[1;32mfor\u001b[0m \u001b[0mdata\u001b[0m\u001b[1;33m,\u001b[0m \u001b[0mtargets\u001b[0m\u001b[1;33m,\u001b[0m \u001b[0m_\u001b[0m \u001b[1;32min\u001b[0m \u001b[0mprogress_log\u001b[0m\u001b[1;33m:\u001b[0m\u001b[1;33m\u001b[0m\u001b[1;33m\u001b[0m\u001b[0m\n\u001b[0m\u001b[0;32m      9\u001b[0m \u001b[1;33m\u001b[0m\u001b[0m\n\u001b[0;32m     10\u001b[0m         \u001b[0mdata\u001b[0m \u001b[1;33m=\u001b[0m \u001b[0mdata\u001b[0m\u001b[1;33m.\u001b[0m\u001b[0mto\u001b[0m\u001b[1;33m(\u001b[0m\u001b[0mdevice\u001b[0m\u001b[1;33m)\u001b[0m\u001b[1;33m\u001b[0m\u001b[1;33m\u001b[0m\u001b[0m\n",
      "\u001b[1;32mD:\\Sangwons_Room\\00_SoftWares\\Anaconda\\envs\\torch\\lib\\site-packages\\tqdm\\notebook.py\u001b[0m in \u001b[0;36m__iter__\u001b[1;34m(self)\u001b[0m\n\u001b[0;32m    252\u001b[0m     \u001b[1;32mdef\u001b[0m \u001b[0m__iter__\u001b[0m\u001b[1;33m(\u001b[0m\u001b[0mself\u001b[0m\u001b[1;33m)\u001b[0m\u001b[1;33m:\u001b[0m\u001b[1;33m\u001b[0m\u001b[1;33m\u001b[0m\u001b[0m\n\u001b[0;32m    253\u001b[0m         \u001b[1;32mtry\u001b[0m\u001b[1;33m:\u001b[0m\u001b[1;33m\u001b[0m\u001b[1;33m\u001b[0m\u001b[0m\n\u001b[1;32m--> 254\u001b[1;33m             \u001b[1;32mfor\u001b[0m \u001b[0mobj\u001b[0m \u001b[1;32min\u001b[0m \u001b[0msuper\u001b[0m\u001b[1;33m(\u001b[0m\u001b[0mtqdm_notebook\u001b[0m\u001b[1;33m,\u001b[0m \u001b[0mself\u001b[0m\u001b[1;33m)\u001b[0m\u001b[1;33m.\u001b[0m\u001b[0m__iter__\u001b[0m\u001b[1;33m(\u001b[0m\u001b[1;33m)\u001b[0m\u001b[1;33m:\u001b[0m\u001b[1;33m\u001b[0m\u001b[1;33m\u001b[0m\u001b[0m\n\u001b[0m\u001b[0;32m    255\u001b[0m                 \u001b[1;31m# return super(tqdm...) will not catch exception\u001b[0m\u001b[1;33m\u001b[0m\u001b[1;33m\u001b[0m\u001b[1;33m\u001b[0m\u001b[0m\n\u001b[0;32m    256\u001b[0m                 \u001b[1;32myield\u001b[0m \u001b[0mobj\u001b[0m\u001b[1;33m\u001b[0m\u001b[1;33m\u001b[0m\u001b[0m\n",
      "\u001b[1;32mD:\\Sangwons_Room\\00_SoftWares\\Anaconda\\envs\\torch\\lib\\site-packages\\tqdm\\std.py\u001b[0m in \u001b[0;36m__iter__\u001b[1;34m(self)\u001b[0m\n\u001b[0;32m   1176\u001b[0m \u001b[1;33m\u001b[0m\u001b[0m\n\u001b[0;32m   1177\u001b[0m         \u001b[1;32mtry\u001b[0m\u001b[1;33m:\u001b[0m\u001b[1;33m\u001b[0m\u001b[1;33m\u001b[0m\u001b[0m\n\u001b[1;32m-> 1178\u001b[1;33m             \u001b[1;32mfor\u001b[0m \u001b[0mobj\u001b[0m \u001b[1;32min\u001b[0m \u001b[0miterable\u001b[0m\u001b[1;33m:\u001b[0m\u001b[1;33m\u001b[0m\u001b[1;33m\u001b[0m\u001b[0m\n\u001b[0m\u001b[0;32m   1179\u001b[0m                 \u001b[1;32myield\u001b[0m \u001b[0mobj\u001b[0m\u001b[1;33m\u001b[0m\u001b[1;33m\u001b[0m\u001b[0m\n\u001b[0;32m   1180\u001b[0m                 \u001b[1;31m# Update and possibly print the progressbar.\u001b[0m\u001b[1;33m\u001b[0m\u001b[1;33m\u001b[0m\u001b[1;33m\u001b[0m\u001b[0m\n",
      "\u001b[1;32mD:\\Sangwons_Room\\00_SoftWares\\Anaconda\\envs\\torch\\lib\\site-packages\\torch\\utils\\data\\dataloader.py\u001b[0m in \u001b[0;36m__next__\u001b[1;34m(self)\u001b[0m\n\u001b[0;32m    433\u001b[0m         \u001b[1;32mif\u001b[0m \u001b[0mself\u001b[0m\u001b[1;33m.\u001b[0m\u001b[0m_sampler_iter\u001b[0m \u001b[1;32mis\u001b[0m \u001b[1;32mNone\u001b[0m\u001b[1;33m:\u001b[0m\u001b[1;33m\u001b[0m\u001b[1;33m\u001b[0m\u001b[0m\n\u001b[0;32m    434\u001b[0m             \u001b[0mself\u001b[0m\u001b[1;33m.\u001b[0m\u001b[0m_reset\u001b[0m\u001b[1;33m(\u001b[0m\u001b[1;33m)\u001b[0m\u001b[1;33m\u001b[0m\u001b[1;33m\u001b[0m\u001b[0m\n\u001b[1;32m--> 435\u001b[1;33m         \u001b[0mdata\u001b[0m \u001b[1;33m=\u001b[0m \u001b[0mself\u001b[0m\u001b[1;33m.\u001b[0m\u001b[0m_next_data\u001b[0m\u001b[1;33m(\u001b[0m\u001b[1;33m)\u001b[0m\u001b[1;33m\u001b[0m\u001b[1;33m\u001b[0m\u001b[0m\n\u001b[0m\u001b[0;32m    436\u001b[0m         \u001b[0mself\u001b[0m\u001b[1;33m.\u001b[0m\u001b[0m_num_yielded\u001b[0m \u001b[1;33m+=\u001b[0m \u001b[1;36m1\u001b[0m\u001b[1;33m\u001b[0m\u001b[1;33m\u001b[0m\u001b[0m\n\u001b[0;32m    437\u001b[0m         \u001b[1;32mif\u001b[0m \u001b[0mself\u001b[0m\u001b[1;33m.\u001b[0m\u001b[0m_dataset_kind\u001b[0m \u001b[1;33m==\u001b[0m \u001b[0m_DatasetKind\u001b[0m\u001b[1;33m.\u001b[0m\u001b[0mIterable\u001b[0m \u001b[1;32mand\u001b[0m\u001b[0;31m \u001b[0m\u001b[0;31m\\\u001b[0m\u001b[1;33m\u001b[0m\u001b[1;33m\u001b[0m\u001b[0m\n",
      "\u001b[1;32mD:\\Sangwons_Room\\00_SoftWares\\Anaconda\\envs\\torch\\lib\\site-packages\\torch\\utils\\data\\dataloader.py\u001b[0m in \u001b[0;36m_next_data\u001b[1;34m(self)\u001b[0m\n\u001b[0;32m    473\u001b[0m     \u001b[1;32mdef\u001b[0m \u001b[0m_next_data\u001b[0m\u001b[1;33m(\u001b[0m\u001b[0mself\u001b[0m\u001b[1;33m)\u001b[0m\u001b[1;33m:\u001b[0m\u001b[1;33m\u001b[0m\u001b[1;33m\u001b[0m\u001b[0m\n\u001b[0;32m    474\u001b[0m         \u001b[0mindex\u001b[0m \u001b[1;33m=\u001b[0m \u001b[0mself\u001b[0m\u001b[1;33m.\u001b[0m\u001b[0m_next_index\u001b[0m\u001b[1;33m(\u001b[0m\u001b[1;33m)\u001b[0m  \u001b[1;31m# may raise StopIteration\u001b[0m\u001b[1;33m\u001b[0m\u001b[1;33m\u001b[0m\u001b[0m\n\u001b[1;32m--> 475\u001b[1;33m         \u001b[0mdata\u001b[0m \u001b[1;33m=\u001b[0m \u001b[0mself\u001b[0m\u001b[1;33m.\u001b[0m\u001b[0m_dataset_fetcher\u001b[0m\u001b[1;33m.\u001b[0m\u001b[0mfetch\u001b[0m\u001b[1;33m(\u001b[0m\u001b[0mindex\u001b[0m\u001b[1;33m)\u001b[0m  \u001b[1;31m# may raise StopIteration\u001b[0m\u001b[1;33m\u001b[0m\u001b[1;33m\u001b[0m\u001b[0m\n\u001b[0m\u001b[0;32m    476\u001b[0m         \u001b[1;32mif\u001b[0m \u001b[0mself\u001b[0m\u001b[1;33m.\u001b[0m\u001b[0m_pin_memory\u001b[0m\u001b[1;33m:\u001b[0m\u001b[1;33m\u001b[0m\u001b[1;33m\u001b[0m\u001b[0m\n\u001b[0;32m    477\u001b[0m             \u001b[0mdata\u001b[0m \u001b[1;33m=\u001b[0m \u001b[0m_utils\u001b[0m\u001b[1;33m.\u001b[0m\u001b[0mpin_memory\u001b[0m\u001b[1;33m.\u001b[0m\u001b[0mpin_memory\u001b[0m\u001b[1;33m(\u001b[0m\u001b[0mdata\u001b[0m\u001b[1;33m)\u001b[0m\u001b[1;33m\u001b[0m\u001b[1;33m\u001b[0m\u001b[0m\n",
      "\u001b[1;32mD:\\Sangwons_Room\\00_SoftWares\\Anaconda\\envs\\torch\\lib\\site-packages\\torch\\utils\\data\\_utils\\fetch.py\u001b[0m in \u001b[0;36mfetch\u001b[1;34m(self, possibly_batched_index)\u001b[0m\n\u001b[0;32m     42\u001b[0m     \u001b[1;32mdef\u001b[0m \u001b[0mfetch\u001b[0m\u001b[1;33m(\u001b[0m\u001b[0mself\u001b[0m\u001b[1;33m,\u001b[0m \u001b[0mpossibly_batched_index\u001b[0m\u001b[1;33m)\u001b[0m\u001b[1;33m:\u001b[0m\u001b[1;33m\u001b[0m\u001b[1;33m\u001b[0m\u001b[0m\n\u001b[0;32m     43\u001b[0m         \u001b[1;32mif\u001b[0m \u001b[0mself\u001b[0m\u001b[1;33m.\u001b[0m\u001b[0mauto_collation\u001b[0m\u001b[1;33m:\u001b[0m\u001b[1;33m\u001b[0m\u001b[1;33m\u001b[0m\u001b[0m\n\u001b[1;32m---> 44\u001b[1;33m             \u001b[0mdata\u001b[0m \u001b[1;33m=\u001b[0m \u001b[1;33m[\u001b[0m\u001b[0mself\u001b[0m\u001b[1;33m.\u001b[0m\u001b[0mdataset\u001b[0m\u001b[1;33m[\u001b[0m\u001b[0midx\u001b[0m\u001b[1;33m]\u001b[0m \u001b[1;32mfor\u001b[0m \u001b[0midx\u001b[0m \u001b[1;32min\u001b[0m \u001b[0mpossibly_batched_index\u001b[0m\u001b[1;33m]\u001b[0m\u001b[1;33m\u001b[0m\u001b[1;33m\u001b[0m\u001b[0m\n\u001b[0m\u001b[0;32m     45\u001b[0m         \u001b[1;32melse\u001b[0m\u001b[1;33m:\u001b[0m\u001b[1;33m\u001b[0m\u001b[1;33m\u001b[0m\u001b[0m\n\u001b[0;32m     46\u001b[0m             \u001b[0mdata\u001b[0m \u001b[1;33m=\u001b[0m \u001b[0mself\u001b[0m\u001b[1;33m.\u001b[0m\u001b[0mdataset\u001b[0m\u001b[1;33m[\u001b[0m\u001b[0mpossibly_batched_index\u001b[0m\u001b[1;33m]\u001b[0m\u001b[1;33m\u001b[0m\u001b[1;33m\u001b[0m\u001b[0m\n",
      "\u001b[1;32mD:\\Sangwons_Room\\00_SoftWares\\Anaconda\\envs\\torch\\lib\\site-packages\\torch\\utils\\data\\_utils\\fetch.py\u001b[0m in \u001b[0;36m<listcomp>\u001b[1;34m(.0)\u001b[0m\n\u001b[0;32m     42\u001b[0m     \u001b[1;32mdef\u001b[0m \u001b[0mfetch\u001b[0m\u001b[1;33m(\u001b[0m\u001b[0mself\u001b[0m\u001b[1;33m,\u001b[0m \u001b[0mpossibly_batched_index\u001b[0m\u001b[1;33m)\u001b[0m\u001b[1;33m:\u001b[0m\u001b[1;33m\u001b[0m\u001b[1;33m\u001b[0m\u001b[0m\n\u001b[0;32m     43\u001b[0m         \u001b[1;32mif\u001b[0m \u001b[0mself\u001b[0m\u001b[1;33m.\u001b[0m\u001b[0mauto_collation\u001b[0m\u001b[1;33m:\u001b[0m\u001b[1;33m\u001b[0m\u001b[1;33m\u001b[0m\u001b[0m\n\u001b[1;32m---> 44\u001b[1;33m             \u001b[0mdata\u001b[0m \u001b[1;33m=\u001b[0m \u001b[1;33m[\u001b[0m\u001b[0mself\u001b[0m\u001b[1;33m.\u001b[0m\u001b[0mdataset\u001b[0m\u001b[1;33m[\u001b[0m\u001b[0midx\u001b[0m\u001b[1;33m]\u001b[0m \u001b[1;32mfor\u001b[0m \u001b[0midx\u001b[0m \u001b[1;32min\u001b[0m \u001b[0mpossibly_batched_index\u001b[0m\u001b[1;33m]\u001b[0m\u001b[1;33m\u001b[0m\u001b[1;33m\u001b[0m\u001b[0m\n\u001b[0m\u001b[0;32m     45\u001b[0m         \u001b[1;32melse\u001b[0m\u001b[1;33m:\u001b[0m\u001b[1;33m\u001b[0m\u001b[1;33m\u001b[0m\u001b[0m\n\u001b[0;32m     46\u001b[0m             \u001b[0mdata\u001b[0m \u001b[1;33m=\u001b[0m \u001b[0mself\u001b[0m\u001b[1;33m.\u001b[0m\u001b[0mdataset\u001b[0m\u001b[1;33m[\u001b[0m\u001b[0mpossibly_batched_index\u001b[0m\u001b[1;33m]\u001b[0m\u001b[1;33m\u001b[0m\u001b[1;33m\u001b[0m\u001b[0m\n",
      "\u001b[1;32m<ipython-input-14-05bca82230a3>\u001b[0m in \u001b[0;36m__getitem__\u001b[1;34m(self, idx)\u001b[0m\n\u001b[0;32m    114\u001b[0m         \u001b[1;31m# data shape : num_of_features X window_size\u001b[0m\u001b[1;33m\u001b[0m\u001b[1;33m\u001b[0m\u001b[1;33m\u001b[0m\u001b[0m\n\u001b[0;32m    115\u001b[0m         \u001b[1;31m# true shape : num_of_labels X 1\u001b[0m\u001b[1;33m\u001b[0m\u001b[1;33m\u001b[0m\u001b[1;33m\u001b[0m\u001b[0m\n\u001b[1;32m--> 116\u001b[1;33m         \u001b[0mdata\u001b[0m \u001b[1;33m=\u001b[0m \u001b[0mtorch\u001b[0m\u001b[1;33m.\u001b[0m\u001b[0mTensor\u001b[0m\u001b[1;33m(\u001b[0m\u001b[0mdata\u001b[0m\u001b[1;33m)\u001b[0m\u001b[1;33m\u001b[0m\u001b[1;33m\u001b[0m\u001b[0m\n\u001b[0m\u001b[0;32m    117\u001b[0m         \u001b[1;32mif\u001b[0m \u001b[0mself\u001b[0m\u001b[1;33m.\u001b[0m\u001b[0maugment\u001b[0m\u001b[1;33m:\u001b[0m\u001b[1;33m\u001b[0m\u001b[1;33m\u001b[0m\u001b[0m\n\u001b[0;32m    118\u001b[0m             \u001b[0mcrop_size\u001b[0m \u001b[1;33m=\u001b[0m \u001b[0mint\u001b[0m\u001b[1;33m(\u001b[0m\u001b[0mself\u001b[0m\u001b[1;33m.\u001b[0m\u001b[0mcrop_ratio\u001b[0m \u001b[1;33m*\u001b[0m \u001b[0mself\u001b[0m\u001b[1;33m.\u001b[0m\u001b[0mwindow_size\u001b[0m \u001b[1;33m*\u001b[0m \u001b[0mnp\u001b[0m\u001b[1;33m.\u001b[0m\u001b[0mrandom\u001b[0m\u001b[1;33m.\u001b[0m\u001b[0mrand\u001b[0m\u001b[1;33m(\u001b[0m\u001b[1;36m1\u001b[0m\u001b[1;33m)\u001b[0m\u001b[1;33m)\u001b[0m\u001b[1;33m\u001b[0m\u001b[1;33m\u001b[0m\u001b[0m\n",
      "\u001b[1;31mKeyboardInterrupt\u001b[0m: "
     ]
    }
   ],
   "source": [
    "train_loss_list = []\n",
    "train_meas_list = []\n",
    "valid_loss_list = []\n",
    "valid_meas_list = []\n",
    "\n",
    "patience_count = 0\n",
    "min_valid_meas = np.inf\n",
    "checkpoint_name = \"\"\n",
    "\n",
    "epoch_prog = tqdm(range(hyper_parameters['nepochs']), position = 0, desc = \"EPOCH\")\n",
    "epoch_status_log = tqdm(total=0, position = 2, bar_format='{desc}')\n",
    "train_status_log = tqdm(total=0, position = 3, bar_format='{desc}')\n",
    "valid_status_log = tqdm(total=0, position = 4, bar_format='{desc}')\n",
    "\n",
    "if not os.path.isdir(f\"./models/{hyper_parameters['notebookName']}/model-{num_files}_checkpoint/\"):\n",
    "    os.mkdir(f\"./models/{hyper_parameters['notebookName']}/model-{num_files}_checkpoint/\")\n",
    "    \n",
    "for epoch in epoch_prog:\n",
    "    train_prog = tqdm(train_loader, position = 5, desc = 'Train', leave = False)\n",
    "    valid_prog = tqdm(valid_loader, position = 6, desc = 'Valid', leave = False)\n",
    "\n",
    "    train_loss, train_meas = train(epoch, train_prog, train_status_log)\n",
    "    valid_loss, valid_meas = valid(valid_prog, valid_status_log)\n",
    "    \n",
    "    scheduler.step(valid_meas)\n",
    "    if valid_meas < min_valid_meas:\n",
    "        min_valid_meas = valid_meas\n",
    "        checkpoint_name = f\"./models/{hyper_parameters['notebookName']}/model-{num_files}_checkpoint/model-{epoch}-{min_valid_meas}.pth\"\n",
    "        torch.save(model.state_dict(), checkpoint_name)\n",
    "    else:\n",
    "        patience_count+=1\n",
    "        if(patience_count > hyper_parameters['max_patience_count']):\n",
    "            break\n",
    "    \n",
    "    train_loss_list.append(train_loss)\n",
    "    train_meas_list.append(train_meas)\n",
    "    valid_loss_list.append(valid_loss)\n",
    "    valid_meas_list.append(valid_meas)\n",
    "    \n",
    "    status = f\"EPOCH:{epoch}/{hyper_parameters['nepochs']} train status: loss - {train_loss}, score - {train_meas}, valid status: loss - {valid_loss}, score - {valid_meas}\"\n",
    "    epoch_status_log.set_description_str(status)\n",
    "\n",
    "    print(status)\n",
    "\n",
    "history = dict()\n",
    "history['train_loss'] = train_loss_list\n",
    "history['train_meas'] = train_meas_list\n",
    "history['valid_loss'] = valid_loss_list\n",
    "history['valid_meas'] = valid_meas_list\n"
   ]
  },
  {
   "cell_type": "code",
   "execution_count": null,
   "metadata": {
    "ExecuteTime": {
     "end_time": "2021-07-04T23:02:15.199793Z",
     "start_time": "2021-07-04T22:58:22.280Z"
    }
   },
   "outputs": [],
   "source": [
    "\n",
    "plt.figure(figsize = (16,6))\n",
    "plt.subplot(2,1,1)\n",
    "plt.plot(history['train_loss'], label = 'train')\n",
    "plt.plot(history['valid_loss'], label = 'valid')\n",
    "plt.ylabel('loss')\n",
    "\n",
    "plt.subplot(2,1,2)\n",
    "plt.plot(history['train_meas'], label = 'train')\n",
    "plt.plot(history['valid_meas'], label = 'valid')\n",
    "plt.ylabel('meas')"
   ]
  },
  {
   "cell_type": "markdown",
   "metadata": {},
   "source": [
    "#  Output"
   ]
  },
  {
   "cell_type": "code",
   "execution_count": null,
   "metadata": {
    "ExecuteTime": {
     "end_time": "2021-07-04T23:02:15.200795Z",
     "start_time": "2021-07-04T22:58:22.302Z"
    }
   },
   "outputs": [],
   "source": [
    "# Load submission sample\n",
    "submission = pd.read_csv(str(data_dir / \"sample_submission.csv\"))\n",
    "print(submission.shape)\n",
    "submission.head()"
   ]
  },
  {
   "cell_type": "code",
   "execution_count": null,
   "metadata": {
    "ExecuteTime": {
     "end_time": "2021-07-04T23:02:15.201794Z",
     "start_time": "2021-07-04T22:58:22.304Z"
    }
   },
   "outputs": [],
   "source": [
    "model.load_state_dict(torch.load(checkpoint_name))\n",
    "torch.save(model.state_dict(), f\"./models/{hyper_parameters['notebookName']}/model-{num_files}_checkpoint/model-{epoch}-{min_valid_meas}.pth\")"
   ]
  },
  {
   "cell_type": "code",
   "execution_count": null,
   "metadata": {
    "ExecuteTime": {
     "end_time": "2021-07-04T23:02:15.202796Z",
     "start_time": "2021-07-04T22:58:22.305Z"
    }
   },
   "outputs": [],
   "source": [
    "predict = test(test_loader)\n",
    "print(predict.shape)\n",
    "predict.head()"
   ]
  },
  {
   "cell_type": "code",
   "execution_count": null,
   "metadata": {
    "ExecuteTime": {
     "end_time": "2021-07-04T23:02:15.203794Z",
     "start_time": "2021-07-04T22:58:22.306Z"
    },
    "scrolled": true
   },
   "outputs": [],
   "source": [
    "submission = submission[['phone', 'millisSinceGpsEpoch']].merge(predict[['phone', 'millisSinceGpsEpoch', 'latDeg', 'lngDeg']]\n",
    "                                                                , on = ['phone', 'millisSinceGpsEpoch'])\n",
    "print(submission.shape)\n",
    "submission.head()"
   ]
  },
  {
   "cell_type": "code",
   "execution_count": null,
   "metadata": {
    "ExecuteTime": {
     "end_time": "2021-07-04T23:02:15.204796Z",
     "start_time": "2021-07-04T22:58:22.307Z"
    }
   },
   "outputs": [],
   "source": [
    "submission.to_csv(f\"./models/{hyper_parameters['notebookName']}/result-{num_files}esult.csv\", index = False)\n",
    "pd.DataFrame([]).to_csv(PATH / f\"{num_files}\")"
   ]
  }
 ],
 "metadata": {
  "hide_input": false,
  "kernelspec": {
   "display_name": "torch",
   "language": "python",
   "name": "torch"
  },
  "language_info": {
   "codemirror_mode": {
    "name": "ipython",
    "version": 3
   },
   "file_extension": ".py",
   "mimetype": "text/x-python",
   "name": "python",
   "nbconvert_exporter": "python",
   "pygments_lexer": "ipython3",
   "version": "3.6.12"
  },
  "latex_envs": {
   "LaTeX_envs_menu_present": true,
   "autoclose": false,
   "autocomplete": true,
   "bibliofile": "biblio.bib",
   "cite_by": "apalike",
   "current_citInitial": 1,
   "eqLabelWithNumbers": true,
   "eqNumInitial": 1,
   "hotkeys": {
    "equation": "Ctrl-E",
    "itemize": "Ctrl-I"
   },
   "labels_anchors": false,
   "latex_user_defs": false,
   "report_style_numbering": false,
   "user_envs_cfg": false
  },
  "toc": {
   "base_numbering": 1,
   "nav_menu": {},
   "number_sections": true,
   "sideBar": true,
   "skip_h1_title": false,
   "title_cell": "Table of Contents",
   "title_sidebar": "Contents",
   "toc_cell": false,
   "toc_position": {
    "height": "calc(100% - 180px)",
    "left": "10px",
    "top": "150px",
    "width": "384px"
   },
   "toc_section_display": true,
   "toc_window_display": true
  },
  "varInspector": {
   "cols": {
    "lenName": 16,
    "lenType": 16,
    "lenVar": 40
   },
   "kernels_config": {
    "python": {
     "delete_cmd_postfix": "",
     "delete_cmd_prefix": "del ",
     "library": "var_list.py",
     "varRefreshCmd": "print(var_dic_list())"
    },
    "r": {
     "delete_cmd_postfix": ") ",
     "delete_cmd_prefix": "rm(",
     "library": "var_list.r",
     "varRefreshCmd": "cat(var_dic_list()) "
    }
   },
   "types_to_exclude": [
    "module",
    "function",
    "builtin_function_or_method",
    "instance",
    "_Feature"
   ],
   "window_display": false
  }
 },
 "nbformat": 4,
 "nbformat_minor": 4
}
