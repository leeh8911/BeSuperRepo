{
 "cells": [
  {
   "cell_type": "markdown",
   "metadata": {},
   "source": [
    "# Libraries\n",
    "1. [filterpy](https://filterpy.readthedocs.io/en/latest/kalman/UnscentedKalmanFilter.html)"
   ]
  },
  {
   "cell_type": "code",
   "execution_count": 1,
   "metadata": {
    "ExecuteTime": {
     "end_time": "2021-07-06T21:17:15.245297Z",
     "start_time": "2021-07-06T21:16:53.500422Z"
    }
   },
   "outputs": [],
   "source": [
    "import numpy as np\n",
    "import pandas as pd\n",
    "import random\n",
    "from glob import glob\n",
    "import os\n",
    "import matplotlib.pyplot as plt\n",
    "from tqdm.notebook import tqdm\n",
    "from pathlib import Path\n",
    "import plotly.express as px\n",
    "import seaborn as sns\n",
    "\n",
    "import geopy\n",
    "import pymap3d as pm\n",
    "from filterpy.kalman import UnscentedKalmanFilter, MerweScaledSigmaPoints\n",
    "\n",
    "import torch\n",
    "import torch.nn as nn\n",
    "import torch.nn.functional as F\n",
    "import torch.optim as optim\n",
    "from torch.utils.data import TensorDataset, DataLoader\n",
    "import torchsummary\n",
    "from sklearn.model_selection import train_test_split\n",
    "from sklearn.preprocessing import StandardScaler, MinMaxScaler\n",
    "\n",
    "import warnings\n",
    "warnings.filterwarnings(action='ignore')"
   ]
  },
  {
   "cell_type": "markdown",
   "metadata": {},
   "source": [
    "# Hyper Parameters"
   ]
  },
  {
   "cell_type": "code",
   "execution_count": 2,
   "metadata": {
    "ExecuteTime": {
     "end_time": "2021-07-06T21:17:15.260297Z",
     "start_time": "2021-07-06T21:17:15.246296Z"
    }
   },
   "outputs": [],
   "source": [
    "SEED = 1990\n",
    "random.seed(SEED)\n",
    "np.random.seed(SEED)"
   ]
  },
  {
   "cell_type": "code",
   "execution_count": 3,
   "metadata": {
    "ExecuteTime": {
     "end_time": "2021-07-06T21:17:15.275297Z",
     "start_time": "2021-07-06T21:17:15.262298Z"
    }
   },
   "outputs": [],
   "source": [
    "q = np.array([1,1,1,1,1])\n",
    "r = np.array([1,1,1,1])"
   ]
  },
  {
   "cell_type": "markdown",
   "metadata": {},
   "source": [
    "# Useful functions"
   ]
  },
  {
   "cell_type": "code",
   "execution_count": 4,
   "metadata": {
    "ExecuteTime": {
     "end_time": "2021-07-06T21:17:15.290297Z",
     "start_time": "2021-07-06T21:17:15.276297Z"
    }
   },
   "outputs": [],
   "source": [
    "def calc_haversine(lat1, lon1, lat2, lon2):\n",
    "    lat1, lon1, lat2, lon2 = map(np.radians, [lat1, lon1, lat2, lon2])\n",
    "    dlat = lat2 - lat1\n",
    "    dlon = lon2 - lon1\n",
    "    a = np.sin(dlat / 2.0)**2 + np.cos(lat1) * np.cos(lat2) * np.sin(dlon / 2.0)**2\n",
    "    \n",
    "    c = 2 * np.arcsin(a ** 0.5)\n",
    "    dist = 6_367_000 * c\n",
    "    return dist"
   ]
  },
  {
   "cell_type": "code",
   "execution_count": 5,
   "metadata": {
    "ExecuteTime": {
     "end_time": "2021-07-06T21:17:15.305636Z",
     "start_time": "2021-07-06T21:17:15.292297Z"
    }
   },
   "outputs": [],
   "source": [
    "def check_score(input_df: pd.DataFrame) -> pd.DataFrame:\n",
    "    output_df = input_df.copy()\n",
    "    \n",
    "    output_df['meter'] = input_df.apply(\n",
    "        lambda r: calc_haversine(\n",
    "            r.latDeg, r.lngDeg, r.t_latDeg, r.t_lngDeg\n",
    "        ),\n",
    "        axis=1\n",
    "    )\n",
    "\n",
    "    meter_score = output_df['meter'].mean()\n",
    "\n",
    "    scores = []\n",
    "    for phone in output_df['phone'].unique():\n",
    "        _index = output_df['phone']==phone\n",
    "        p_50 = np.percentile(output_df.loc[_index, 'meter'], 50)\n",
    "        p_95 = np.percentile(output_df.loc[_index, 'meter'], 95)\n",
    "        scores.append(p_50)\n",
    "        scores.append(p_95)\n",
    "\n",
    "    score = sum(scores) / len(scores)\n",
    "    \n",
    "    return output_df, meter_score , score"
   ]
  },
  {
   "cell_type": "code",
   "execution_count": 6,
   "metadata": {
    "ExecuteTime": {
     "end_time": "2021-07-06T21:17:15.320297Z",
     "start_time": "2021-07-06T21:17:15.307298Z"
    }
   },
   "outputs": [],
   "source": [
    "ell_wgs84 = pm.Ellipsoid()\n",
    "def calc_geo2enu(df:pd.DataFrame)->pd.DataFrame:\n",
    "    output = df.copy()\n",
    "    llh = np.array(df[['latDeg', 'lngDeg', 'heightAboveWgs84EllipsoidM']])\n",
    "    denu = pm.geodetic2enu(llh[:,0], llh[:,1], llh[:,2], llh[0,0], llh[0,1], llh[0,2], ell=ell_wgs84)\n",
    "    output['x'] = denu[0]\n",
    "    output['y'] = denu[1]\n",
    "    output['z'] = denu[2]\n",
    "    \n",
    "    return output\n",
    "\n",
    "def calc_enu2geo(df:pd.DataFrame)->pd.DataFrame:\n",
    "    output = df.copy()\n",
    "    enu = np.array(df[['x', 'y', 'z']])\n",
    "    llh = np.array(df[['latDeg', 'lngDeg', 'heightAboveWgs84EllipsoidM']])\n",
    "    geo = pm.enu2geodetic(enu[:,0], enu[:,1], enu[:,2], llh[0,0], llh[0,1], llh[0,2], ell=ell_wgs84, deg = True)\n",
    "    output['latDeg'] = geo[0]\n",
    "    output['lngDeg'] = geo[1]\n",
    "    output['heightAboveWgs84EllipsoidM'] = geo[2]\n",
    "    \n",
    "    return output"
   ]
  },
  {
   "cell_type": "markdown",
   "metadata": {},
   "source": [
    "# Data"
   ]
  },
  {
   "cell_type": "code",
   "execution_count": 7,
   "metadata": {
    "ExecuteTime": {
     "end_time": "2021-07-06T21:17:16.708251Z",
     "start_time": "2021-07-06T21:17:15.321297Z"
    }
   },
   "outputs": [],
   "source": [
    "data_dir = Path(\"../input/google-smartphone-decimeter-challenge\")\n",
    "df_train = pd.read_pickle(str(data_dir / \"gsdc_extract_train.pkl.gzip\"))\n",
    "df_test = pd.read_pickle(str(data_dir / \"gsdc_extract_test.pkl.gzip\"))"
   ]
  },
  {
   "cell_type": "code",
   "execution_count": 8,
   "metadata": {
    "ExecuteTime": {
     "end_time": "2021-07-06T21:17:16.858064Z",
     "start_time": "2021-07-06T21:17:16.710255Z"
    },
    "scrolled": true
   },
   "outputs": [
    {
     "name": "stdout",
     "output_type": "stream",
     "text": [
      "(1746, 148)\n"
     ]
    },
    {
     "data": {
      "text/html": [
       "<div>\n",
       "<style scoped>\n",
       "    .dataframe tbody tr th:only-of-type {\n",
       "        vertical-align: middle;\n",
       "    }\n",
       "\n",
       "    .dataframe tbody tr th {\n",
       "        vertical-align: top;\n",
       "    }\n",
       "\n",
       "    .dataframe thead th {\n",
       "        text-align: right;\n",
       "    }\n",
       "</style>\n",
       "<table border=\"1\" class=\"dataframe\">\n",
       "  <thead>\n",
       "    <tr style=\"text-align: right;\">\n",
       "      <th></th>\n",
       "      <th>collectionName</th>\n",
       "      <th>phoneName</th>\n",
       "      <th>millisSinceGpsEpoch</th>\n",
       "      <th>latDeg</th>\n",
       "      <th>lngDeg</th>\n",
       "      <th>heightAboveWgs84EllipsoidM</th>\n",
       "      <th>phone</th>\n",
       "      <th>timeSinceFirstFixSeconds</th>\n",
       "      <th>hDop</th>\n",
       "      <th>vDop</th>\n",
       "      <th>...</th>\n",
       "      <th>GPS_L1</th>\n",
       "      <th>GPS_L5</th>\n",
       "      <th>GAL_E1</th>\n",
       "      <th>GAL_E5A</th>\n",
       "      <th>GLO_G1</th>\n",
       "      <th>BDS_B1I</th>\n",
       "      <th>BDS_B1C</th>\n",
       "      <th>BDS_B2A</th>\n",
       "      <th>QZS_J1</th>\n",
       "      <th>QZS_J5</th>\n",
       "    </tr>\n",
       "  </thead>\n",
       "  <tbody>\n",
       "    <tr>\n",
       "      <th>0</th>\n",
       "      <td>2020-05-14-US-MTV-1</td>\n",
       "      <td>Pixel4XLModded</td>\n",
       "      <td>1273529466449</td>\n",
       "      <td>37.423574</td>\n",
       "      <td>-122.094137</td>\n",
       "      <td>-33.20</td>\n",
       "      <td>2020-05-14-US-MTV-1_Pixel4XLModded</td>\n",
       "      <td>554.45</td>\n",
       "      <td>1.2</td>\n",
       "      <td>0.0</td>\n",
       "      <td>...</td>\n",
       "      <td>0</td>\n",
       "      <td>0</td>\n",
       "      <td>0</td>\n",
       "      <td>0</td>\n",
       "      <td>0</td>\n",
       "      <td>0</td>\n",
       "      <td>0</td>\n",
       "      <td>0</td>\n",
       "      <td>0</td>\n",
       "      <td>0</td>\n",
       "    </tr>\n",
       "    <tr>\n",
       "      <th>1</th>\n",
       "      <td>2020-05-14-US-MTV-1</td>\n",
       "      <td>Pixel4XLModded</td>\n",
       "      <td>1273529467449</td>\n",
       "      <td>37.423573</td>\n",
       "      <td>-122.094153</td>\n",
       "      <td>-33.92</td>\n",
       "      <td>2020-05-14-US-MTV-1_Pixel4XLModded</td>\n",
       "      <td>555.45</td>\n",
       "      <td>1.2</td>\n",
       "      <td>0.0</td>\n",
       "      <td>...</td>\n",
       "      <td>0</td>\n",
       "      <td>0</td>\n",
       "      <td>0</td>\n",
       "      <td>0</td>\n",
       "      <td>0</td>\n",
       "      <td>0</td>\n",
       "      <td>0</td>\n",
       "      <td>0</td>\n",
       "      <td>0</td>\n",
       "      <td>0</td>\n",
       "    </tr>\n",
       "    <tr>\n",
       "      <th>2</th>\n",
       "      <td>2020-05-14-US-MTV-1</td>\n",
       "      <td>Pixel4XLModded</td>\n",
       "      <td>1273529468449</td>\n",
       "      <td>37.423578</td>\n",
       "      <td>-122.094148</td>\n",
       "      <td>-33.33</td>\n",
       "      <td>2020-05-14-US-MTV-1_Pixel4XLModded</td>\n",
       "      <td>556.45</td>\n",
       "      <td>1.2</td>\n",
       "      <td>0.0</td>\n",
       "      <td>...</td>\n",
       "      <td>0</td>\n",
       "      <td>0</td>\n",
       "      <td>0</td>\n",
       "      <td>0</td>\n",
       "      <td>0</td>\n",
       "      <td>0</td>\n",
       "      <td>0</td>\n",
       "      <td>0</td>\n",
       "      <td>0</td>\n",
       "      <td>0</td>\n",
       "    </tr>\n",
       "    <tr>\n",
       "      <th>3</th>\n",
       "      <td>2020-05-14-US-MTV-1</td>\n",
       "      <td>Pixel4XLModded</td>\n",
       "      <td>1273529469449</td>\n",
       "      <td>37.423573</td>\n",
       "      <td>-122.094150</td>\n",
       "      <td>-32.85</td>\n",
       "      <td>2020-05-14-US-MTV-1_Pixel4XLModded</td>\n",
       "      <td>557.45</td>\n",
       "      <td>1.2</td>\n",
       "      <td>0.0</td>\n",
       "      <td>...</td>\n",
       "      <td>0</td>\n",
       "      <td>0</td>\n",
       "      <td>0</td>\n",
       "      <td>0</td>\n",
       "      <td>0</td>\n",
       "      <td>0</td>\n",
       "      <td>0</td>\n",
       "      <td>0</td>\n",
       "      <td>0</td>\n",
       "      <td>0</td>\n",
       "    </tr>\n",
       "    <tr>\n",
       "      <th>4</th>\n",
       "      <td>2020-05-14-US-MTV-1</td>\n",
       "      <td>Pixel4XLModded</td>\n",
       "      <td>1273529470449</td>\n",
       "      <td>37.423573</td>\n",
       "      <td>-122.094147</td>\n",
       "      <td>-31.26</td>\n",
       "      <td>2020-05-14-US-MTV-1_Pixel4XLModded</td>\n",
       "      <td>558.45</td>\n",
       "      <td>1.2</td>\n",
       "      <td>0.0</td>\n",
       "      <td>...</td>\n",
       "      <td>0</td>\n",
       "      <td>0</td>\n",
       "      <td>0</td>\n",
       "      <td>0</td>\n",
       "      <td>0</td>\n",
       "      <td>0</td>\n",
       "      <td>0</td>\n",
       "      <td>0</td>\n",
       "      <td>0</td>\n",
       "      <td>0</td>\n",
       "    </tr>\n",
       "  </tbody>\n",
       "</table>\n",
       "<p>5 rows × 148 columns</p>\n",
       "</div>"
      ],
      "text/plain": [
       "        collectionName       phoneName  millisSinceGpsEpoch     latDeg  \\\n",
       "0  2020-05-14-US-MTV-1  Pixel4XLModded        1273529466449  37.423574   \n",
       "1  2020-05-14-US-MTV-1  Pixel4XLModded        1273529467449  37.423573   \n",
       "2  2020-05-14-US-MTV-1  Pixel4XLModded        1273529468449  37.423578   \n",
       "3  2020-05-14-US-MTV-1  Pixel4XLModded        1273529469449  37.423573   \n",
       "4  2020-05-14-US-MTV-1  Pixel4XLModded        1273529470449  37.423573   \n",
       "\n",
       "       lngDeg  heightAboveWgs84EllipsoidM                               phone  \\\n",
       "0 -122.094137                      -33.20  2020-05-14-US-MTV-1_Pixel4XLModded   \n",
       "1 -122.094153                      -33.92  2020-05-14-US-MTV-1_Pixel4XLModded   \n",
       "2 -122.094148                      -33.33  2020-05-14-US-MTV-1_Pixel4XLModded   \n",
       "3 -122.094150                      -32.85  2020-05-14-US-MTV-1_Pixel4XLModded   \n",
       "4 -122.094147                      -31.26  2020-05-14-US-MTV-1_Pixel4XLModded   \n",
       "\n",
       "   timeSinceFirstFixSeconds  hDop  vDop  ...  GPS_L1  GPS_L5  GAL_E1  GAL_E5A  \\\n",
       "0                    554.45   1.2   0.0  ...       0       0       0        0   \n",
       "1                    555.45   1.2   0.0  ...       0       0       0        0   \n",
       "2                    556.45   1.2   0.0  ...       0       0       0        0   \n",
       "3                    557.45   1.2   0.0  ...       0       0       0        0   \n",
       "4                    558.45   1.2   0.0  ...       0       0       0        0   \n",
       "\n",
       "   GLO_G1  BDS_B1I  BDS_B1C BDS_B2A  QZS_J1  QZS_J5  \n",
       "0       0        0        0       0       0       0  \n",
       "1       0        0        0       0       0       0  \n",
       "2       0        0        0       0       0       0  \n",
       "3       0        0        0       0       0       0  \n",
       "4       0        0        0       0       0       0  \n",
       "\n",
       "[5 rows x 148 columns]"
      ]
     },
     "execution_count": 8,
     "metadata": {},
     "output_type": "execute_result"
    }
   ],
   "source": [
    "phones = df_train['phone'].unique()\n",
    "phone = phones[random.randint(0, len(phones))]\n",
    "df_sample = df_train[df_train['phone'] == phone].copy().reset_index().drop(columns = ['index'])\n",
    "print(df_sample.shape)\n",
    "df_sample.head()"
   ]
  },
  {
   "cell_type": "code",
   "execution_count": 9,
   "metadata": {
    "ExecuteTime": {
     "end_time": "2021-07-06T21:17:16.888064Z",
     "start_time": "2021-07-06T21:17:16.860064Z"
    },
    "scrolled": true
   },
   "outputs": [
    {
     "name": "stdout",
     "output_type": "stream",
     "text": [
      "collectionName\n",
      "phoneName\n",
      "millisSinceGpsEpoch\n",
      "latDeg\n",
      "lngDeg\n",
      "heightAboveWgs84EllipsoidM\n",
      "phone\n",
      "timeSinceFirstFixSeconds\n",
      "hDop\n",
      "vDop\n",
      "speedMps\n",
      "courseDegree\n",
      "t_latDeg\n",
      "t_lngDeg\n",
      "t_heightAboveWgs84EllipsoidM\n",
      "constellationType\n",
      "svid\n",
      "signalType\n",
      "receivedSvTimeInGpsNanos\n",
      "xSatPosM\n",
      "ySatPosM\n",
      "zSatPosM\n",
      "xSatVelMps\n",
      "ySatVelMps\n",
      "zSatVelMps\n",
      "satClkBiasM\n",
      "satClkDriftMps\n",
      "rawPrM\n",
      "rawPrUncM\n",
      "isrbM\n",
      "ionoDelayM\n",
      "tropoDelayM\n",
      "utcTimeMillis\n",
      "elapsedRealtimeNanos\n",
      "yawDeg\n",
      "rollDeg\n",
      "pitchDeg\n",
      "utcTimeMillis_Status\n",
      "SignalCount\n",
      "SignalIndex\n",
      "ConstellationType\n",
      "Svid\n",
      "CarrierFrequencyHz\n",
      "Cn0DbHz\n",
      "AzimuthDegrees\n",
      "ElevationDegrees\n",
      "UsedInFix\n",
      "HasAlmanacData\n",
      "HasEphemerisData\n",
      "BasebandCn0DbHz\n",
      "utcTimeMillis_UncalMag\n",
      "elapsedRealtimeNanos_UncalMag\n",
      "UncalMagXMicroT\n",
      "UncalMagYMicroT\n",
      "UncalMagZMicroT\n",
      "BiasXMicroT\n",
      "BiasYMicroT\n",
      "BiasZMicroT\n",
      "utcTimeMillis_UncalAccel\n",
      "elapsedRealtimeNanos_UncalAccel\n",
      "UncalAccelXMps2\n",
      "UncalAccelYMps2\n",
      "UncalAccelZMps2\n",
      "BiasXMps2\n",
      "BiasYMps2\n",
      "BiasZMps2\n",
      "utcTimeMillis_UncalGyro\n",
      "elapsedRealtimeNanos_UncalGyro\n",
      "UncalGyroXRadPerSec\n",
      "UncalGyroYRadPerSec\n",
      "UncalGyroZRadPerSec\n",
      "DriftXRadPerSec\n",
      "DriftYRadPerSec\n",
      "DriftZRadPerSec\n",
      "utcTimeMillis_Raw\n",
      "TimeNanos\n",
      "LeapSecond\n",
      "FullBiasNanos\n",
      "BiasNanos\n",
      "BiasUncertaintyNanos\n",
      "DriftNanosPerSecond\n",
      "DriftUncertaintyNanosPerSecond\n",
      "HardwareClockDiscontinuityCount\n",
      "Svid_Raw\n",
      "TimeOffsetNanos\n",
      "State\n",
      "ReceivedSvTimeNanos\n",
      "ReceivedSvTimeUncertaintyNanos\n",
      "Cn0DbHz_Raw\n",
      "PseudorangeRateMetersPerSecond\n",
      "PseudorangeRateUncertaintyMetersPerSecond\n",
      "AccumulatedDeltaRangeState\n",
      "AccumulatedDeltaRangeMeters\n",
      "AccumulatedDeltaRangeUncertaintyMeters\n",
      "CarrierFrequencyHz_Raw\n",
      "MultipathIndicator\n",
      "ConstellationType_Raw\n",
      "AgcDb\n",
      "BasebandCn0DbHz_Raw\n",
      "FullInterSignalBiasNanos\n",
      "FullInterSignalBiasUncertaintyNanos\n",
      "SatelliteInterSignalBiasNanos\n",
      "SatelliteInterSignalBiasUncertaintyNanos\n",
      "CodeType\n",
      "ChipsetElapsedRealtimeNanos\n",
      "dlatDeg\n",
      "dlngDeg\n",
      "dheight\n",
      "dlatDeg_Scaled\n",
      "dlngDeg_Scaled\n",
      "dheight_Scaled\n",
      "xSatPosM_Scaled\n",
      "ySatPosM_Scaled\n",
      "zSatPosM_Scaled\n",
      "xSatVelMps_Scaled\n",
      "ySatVelMps_Scaled\n",
      "zSatVelMps_Scaled\n",
      "UncalGyroXRadPerSec_Scaled\n",
      "UncalGyroYRadPerSec_Scaled\n",
      "UncalGyroZRadPerSec_Scaled\n",
      "DriftXRadPerSec_Scaled\n",
      "DriftYRadPerSec_Scaled\n",
      "DriftZRadPerSec_Scaled\n",
      "UncalAccelXMps2_Scaled\n",
      "UncalAccelYMps2_Scaled\n",
      "UncalAccelZMps2_Scaled\n",
      "BiasXMps2_Scaled\n",
      "BiasYMps2_Scaled\n",
      "BiasZMps2_Scaled\n",
      "UncalMagXMicroT_Scaled\n",
      "UncalMagYMicroT_Scaled\n",
      "UncalMagZMicroT_Scaled\n",
      "BiasXMicroT_Scaled\n",
      "BiasYMicroT_Scaled\n",
      "BiasZMicroT_Scaled\n",
      "yawDeg_Scaled\n",
      "rollDeg_Scaled\n",
      "pitchDeg_Scaled\n",
      "GPS_L1\n",
      "GPS_L5\n",
      "GAL_E1\n",
      "GAL_E5A\n",
      "GLO_G1\n",
      "BDS_B1I\n",
      "BDS_B1C\n",
      "BDS_B2A\n",
      "QZS_J1\n",
      "QZS_J5\n"
     ]
    }
   ],
   "source": [
    "for col in df_train.columns:\n",
    "    print(col)"
   ]
  },
  {
   "cell_type": "markdown",
   "metadata": {},
   "source": [
    "## Model Define\n",
    "$$\n",
    "\\begin{matrix}\n",
    "x_t =& x_{t-1} + \\frac{v_{t-1}}{w_{t-1}}\\left({\\sin}\\left({\\omega}_{t-1}dt + {\\theta}_{t-1}\\right) - {\\sin}\\left({\\theta}\\right)\\right)\\\\\n",
    "y_t =& y_{t-1} + \\frac{v_{t-1}}{w_{t-1}}\\left({\\cos}\\left({\\theta}_{t-1}\\right) - {\\cos}\\left({\\omega}_{t-1}dt + {\\theta}_{t-1}\\right)\\right)\\\\\n",
    "v_t =& v_{t-1}\\\\\n",
    "{\\theta}_t =& {\\theta}_{t-1} + {\\omega}_{t-1}dt\\\\\n",
    "{\\omega}_t =& {\\omega}_{t-1}\n",
    "\\end{matrix}\n",
    "$$"
   ]
  },
  {
   "cell_type": "code",
   "execution_count": 10,
   "metadata": {
    "ExecuteTime": {
     "end_time": "2021-07-06T21:17:16.903062Z",
     "start_time": "2021-07-06T21:17:16.890064Z"
    }
   },
   "outputs": [],
   "source": [
    "def fx(x, dt):\n",
    "    xout = np.zeros_like(x)\n",
    "    if abs(x[4]) > 1e-3:\n",
    "        xout[0] = x[0] + x[2]/x[4] * (np.sin(x[4] * dt + x[3]) - np.sin(x[3]))\n",
    "        xout[1] = x[1] + x[2]/x[4] * (np.cos(x[3]) - np.cos(x[4] * dt + x[3]))\n",
    "        xout[2] = x[2]\n",
    "        xout[3] = x[3] + x[4] * dt\n",
    "        xout[4] = x[4]\n",
    "    else:\n",
    "        xout[0] = x[0] + x[2] * dt * (np.cos(x[3]))\n",
    "        xout[1] = x[1] + x[2] * dt * (np.sin(x[3]))\n",
    "        xout[2] = x[2]\n",
    "        xout[3] = x[3] + x[4] * dt\n",
    "        xout[4] = x[4]\n",
    "        \n",
    "    return xout"
   ]
  },
  {
   "cell_type": "code",
   "execution_count": 11,
   "metadata": {
    "ExecuteTime": {
     "end_time": "2021-07-06T21:17:16.918064Z",
     "start_time": "2021-07-06T21:17:16.904065Z"
    },
    "scrolled": true
   },
   "outputs": [],
   "source": [
    "def batch_filter(df, q_, r_):\n",
    "    df1 = calc_geo2enu(df)\n",
    "    df1['yawRad'] = np.deg2rad(df1['yawDeg'])\n",
    "    \n",
    "    \n",
    "    features = ['x', 'y']\n",
    "    index = [0, 1]\n",
    "    rindex = [0, 1]\n",
    "    if df1['yawDeg'].isna().mean() == 1 or df1['yawDeg'].mean() == 0:\n",
    "        pass\n",
    "    else:\n",
    "        features += ['yawRad']\n",
    "        index += [3]\n",
    "        rindex+= [2]\n",
    "    if df1['UncalGyroZRadPerSec'].isna().mean() == 1 or df1['UncalGyroZRadPerSec'].mean() == 0:\n",
    "        pass\n",
    "    else:\n",
    "        features += ['UncalGyroZRadPerSec']\n",
    "        index += [4]\n",
    "        rindex+= [3]\n",
    "    \n",
    "    q = q_\n",
    "    r = r_[rindex]\n",
    "    meas = df1[features]\n",
    "    meas = meas.fillna(0)\n",
    "    h = lambda x:x[index]\n",
    "    \n",
    "    points = MerweScaledSigmaPoints(5, alpha = .1, beta = 2., kappa = -1)\n",
    "    kf = UnscentedKalmanFilter(dim_x = 5, dim_z = len(features), dt = 1, fx = fx, hx = h, points = points)\n",
    "    kf.Q = np.diag(q)\n",
    "    kf.R = np.diag(r)\n",
    "    \n",
    "    mu, cov = kf.batch_filter(meas.values)\n",
    "    (xs, Ps, Ks) = kf.rts_smoother(mu, cov)\n",
    "    df2 = df1.copy()\n",
    "    df2['x'] = xs[:,0]\n",
    "    df2['y'] = xs[:,1]\n",
    "    df2['yawDeg'] = np.rad2deg(xs[:,2])\n",
    "    df2['UncalGyroZRadPerSec'] = xs[:,3]\n",
    "    df3 = calc_enu2geo(df2)\n",
    "    return df3"
   ]
  },
  {
   "cell_type": "code",
   "execution_count": 12,
   "metadata": {
    "ExecuteTime": {
     "end_time": "2021-07-06T21:17:16.933064Z",
     "start_time": "2021-07-06T21:17:16.919063Z"
    },
    "scrolled": true
   },
   "outputs": [],
   "source": [
    "def evaluate(df, q_, r_, get_score = True):\n",
    "    output = df.copy()\n",
    "    mean_before, score_before, mean_after, score_after =0, 0, 0, 0\n",
    "    output.drop(columns = ['latDeg', 'lngDeg'], inplace = True)\n",
    "    df_list = []\n",
    "    \n",
    "    for phone in tqdm(df['phone'].unique()):\n",
    "        df1 = df[df['phone'] == phone].copy()\n",
    "        df2 = batch_filter(df1, q_, r_)\n",
    "        df_list.append(df2[['phone', 'millisSinceGpsEpoch', 'latDeg', 'lngDeg']])\n",
    "    df3 = pd.concat(df_list)\n",
    "    output = output.merge(df3, on = ['phone', 'millisSinceGpsEpoch'])\n",
    "\n",
    "    if get_score:\n",
    "        _, mean_before, score_before = check_score(df)\n",
    "        _, mean_after, score_after = check_score(output)\n",
    "    \n",
    "    return output, mean_before, score_before, mean_after, score_after"
   ]
  },
  {
   "cell_type": "code",
   "execution_count": 15,
   "metadata": {
    "ExecuteTime": {
     "end_time": "2021-07-06T21:24:13.235572Z",
     "start_time": "2021-07-06T21:22:40.818498Z"
    }
   },
   "outputs": [
    {
     "data": {
      "application/vnd.jupyter.widget-view+json": {
       "model_id": "5f9796248f354a6ebf0cbc3e6e72dee1",
       "version_major": 2,
       "version_minor": 0
      },
      "text/plain": [
       "  0%|          | 0/5 [00:00<?, ?it/s]"
      ]
     },
     "metadata": {},
     "output_type": "display_data"
    },
    {
     "name": "stdout",
     "output_type": "stream",
     "text": [
      "0.1, 0.1 : mean chagne - 1.409011, score change - 4.060578\n",
      "after[7.509126852587856, 9.767368008707766], before[6.100115695987244, 5.706789590032912]\n"
     ]
    },
    {
     "data": {
      "application/vnd.jupyter.widget-view+json": {
       "model_id": "070d6bf0d1c64ceaae25df0ef6b89803",
       "version_major": 2,
       "version_minor": 0
      },
      "text/plain": [
       "  0%|          | 0/5 [00:00<?, ?it/s]"
      ]
     },
     "metadata": {},
     "output_type": "display_data"
    },
    {
     "name": "stdout",
     "output_type": "stream",
     "text": [
      "0.1, 0.2 : mean chagne - 3.302661, score change - 7.474296\n",
      "after[6.193867886166106, 11.872991701827868], before[2.891207251739289, 4.398695850487763]\n"
     ]
    },
    {
     "data": {
      "application/vnd.jupyter.widget-view+json": {
       "model_id": "4fd77090c98a4ead8bb9016607b87583",
       "version_major": 2,
       "version_minor": 0
      },
      "text/plain": [
       "  0%|          | 0/5 [00:00<?, ?it/s]"
      ]
     },
     "metadata": {},
     "output_type": "display_data"
    },
    {
     "name": "stdout",
     "output_type": "stream",
     "text": [
      "0.1, 0.30000000000000004 : mean chagne - 6.939964, score change - 14.878017\n",
      "after[10.777625034742238, 20.984442031988095], before[3.8376607608444675, 6.106425358959841]\n"
     ]
    },
    {
     "data": {
      "application/vnd.jupyter.widget-view+json": {
       "model_id": "6f94979a79ec438da94b80e18c8c2a79",
       "version_major": 2,
       "version_minor": 0
      },
      "text/plain": [
       "  0%|          | 0/5 [00:00<?, ?it/s]"
      ]
     },
     "metadata": {},
     "output_type": "display_data"
    },
    {
     "name": "stdout",
     "output_type": "stream",
     "text": [
      "0.1, 0.4 : mean chagne - 5.065270, score change - 12.430005\n",
      "after[6.893475316476481, 15.097339842625], before[1.8282056260665598, 2.6673352342511185]\n"
     ]
    },
    {
     "data": {
      "application/vnd.jupyter.widget-view+json": {
       "model_id": "6f79ab2ad3e44beeab50463f5d5f2e4f",
       "version_major": 2,
       "version_minor": 0
      },
      "text/plain": [
       "  0%|          | 0/5 [00:00<?, ?it/s]"
      ]
     },
     "metadata": {},
     "output_type": "display_data"
    },
    {
     "name": "stdout",
     "output_type": "stream",
     "text": [
      "0.1, 0.5 : mean chagne - 1.886971, score change - 5.230495\n",
      "after[4.496830002082362, 8.949471374397021], before[2.6098590991796033, 3.718976078019021]\n"
     ]
    },
    {
     "data": {
      "application/vnd.jupyter.widget-view+json": {
       "model_id": "00591f16fe2544d392891076fb785e7f",
       "version_major": 2,
       "version_minor": 0
      },
      "text/plain": [
       "  0%|          | 0/5 [00:00<?, ?it/s]"
      ]
     },
     "metadata": {},
     "output_type": "display_data"
    },
    {
     "name": "stdout",
     "output_type": "stream",
     "text": [
      "0.1, 0.6 : mean chagne - 3.205787, score change - 10.860384\n",
      "after[5.141372697642251, 14.389527177354475], before[1.935585884219616, 3.5291433483804275]\n"
     ]
    },
    {
     "data": {
      "application/vnd.jupyter.widget-view+json": {
       "model_id": "68d4cf91a97a4229aa98c922de565c31",
       "version_major": 2,
       "version_minor": 0
      },
      "text/plain": [
       "  0%|          | 0/5 [00:00<?, ?it/s]"
      ]
     },
     "metadata": {},
     "output_type": "display_data"
    },
    {
     "name": "stdout",
     "output_type": "stream",
     "text": [
      "0.1, 0.7000000000000001 : mean chagne - 10.088780, score change - 20.923739\n",
      "after[12.413853264260796, 24.64685572118797], before[2.325072779857873, 3.7231171122991604]\n"
     ]
    },
    {
     "data": {
      "application/vnd.jupyter.widget-view+json": {
       "model_id": "dde4f864d4354000b4c7dd9cc19f4b44",
       "version_major": 2,
       "version_minor": 0
      },
      "text/plain": [
       "  0%|          | 0/5 [00:00<?, ?it/s]"
      ]
     },
     "metadata": {},
     "output_type": "display_data"
    },
    {
     "name": "stdout",
     "output_type": "stream",
     "text": [
      "0.1, 0.8 : mean chagne - 6.976624, score change - 15.349158\n",
      "after[10.194976848917161, 18.252052580793848], before[3.218352876103308, 2.902894487556136]\n"
     ]
    },
    {
     "data": {
      "application/vnd.jupyter.widget-view+json": {
       "model_id": "05cc5409169f414b9d89a582f6d8c239",
       "version_major": 2,
       "version_minor": 0
      },
      "text/plain": [
       "  0%|          | 0/5 [00:00<?, ?it/s]"
      ]
     },
     "metadata": {},
     "output_type": "display_data"
    },
    {
     "name": "stdout",
     "output_type": "stream",
     "text": [
      "0.1, 0.9 : mean chagne - 3.809530, score change - 10.209491\n",
      "after[9.3869084741721, 17.730232190875157], before[5.577378290848269, 7.520740754652732]\n"
     ]
    },
    {
     "data": {
      "application/vnd.jupyter.widget-view+json": {
       "model_id": "0d4418698c724f35a5f9064836891905",
       "version_major": 2,
       "version_minor": 0
      },
      "text/plain": [
       "  0%|          | 0/5 [00:00<?, ?it/s]"
      ]
     },
     "metadata": {},
     "output_type": "display_data"
    },
    {
     "name": "stdout",
     "output_type": "stream",
     "text": [
      "0.1, 1.0 : mean chagne - 5.475940, score change - 14.942604\n",
      "after[9.503946263023687, 19.351588490317862], before[4.028006004840763, 4.408984185782634]\n"
     ]
    },
    {
     "data": {
      "application/vnd.jupyter.widget-view+json": {
       "model_id": "7908bd8fb05c40f19f828aeecd777b38",
       "version_major": 2,
       "version_minor": 0
      },
      "text/plain": [
       "  0%|          | 0/5 [00:00<?, ?it/s]"
      ]
     },
     "metadata": {},
     "output_type": "display_data"
    },
    {
     "ename": "KeyboardInterrupt",
     "evalue": "",
     "output_type": "error",
     "traceback": [
      "\u001b[1;31m---------------------------------------------------------------------------\u001b[0m",
      "\u001b[1;31mKeyboardInterrupt\u001b[0m                         Traceback (most recent call last)",
      "\u001b[1;32m<ipython-input-15-33ae95f8966c>\u001b[0m in \u001b[0;36m<module>\u001b[1;34m\u001b[0m\n\u001b[0;32m     16\u001b[0m         \u001b[0msample_phone\u001b[0m \u001b[1;33m=\u001b[0m \u001b[0mnp\u001b[0m\u001b[1;33m.\u001b[0m\u001b[0mrandom\u001b[0m\u001b[1;33m.\u001b[0m\u001b[0mchoice\u001b[0m\u001b[1;33m(\u001b[0m\u001b[0mphones\u001b[0m\u001b[1;33m,\u001b[0m \u001b[1;36m5\u001b[0m\u001b[1;33m,\u001b[0m \u001b[0mreplace\u001b[0m \u001b[1;33m=\u001b[0m \u001b[1;32mFalse\u001b[0m\u001b[1;33m)\u001b[0m\u001b[1;33m\u001b[0m\u001b[1;33m\u001b[0m\u001b[0m\n\u001b[0;32m     17\u001b[0m         \u001b[0msample_index\u001b[0m \u001b[1;33m=\u001b[0m \u001b[0mdf_train\u001b[0m\u001b[1;33m[\u001b[0m\u001b[1;34m'phone'\u001b[0m\u001b[1;33m]\u001b[0m\u001b[1;33m.\u001b[0m\u001b[0mapply\u001b[0m\u001b[1;33m(\u001b[0m\u001b[1;32mlambda\u001b[0m \u001b[0mx\u001b[0m\u001b[1;33m:\u001b[0m \u001b[0mx\u001b[0m \u001b[1;32min\u001b[0m \u001b[0msample_phone\u001b[0m\u001b[1;33m)\u001b[0m\u001b[1;33m\u001b[0m\u001b[1;33m\u001b[0m\u001b[0m\n\u001b[1;32m---> 18\u001b[1;33m         \u001b[0m_\u001b[0m\u001b[1;33m,\u001b[0m \u001b[0mmean_before\u001b[0m\u001b[1;33m,\u001b[0m \u001b[0mscore_before\u001b[0m\u001b[1;33m,\u001b[0m \u001b[0mmean_after\u001b[0m\u001b[1;33m,\u001b[0m \u001b[0mscore_after\u001b[0m \u001b[1;33m=\u001b[0m \u001b[0mevaluate\u001b[0m\u001b[1;33m(\u001b[0m\u001b[0mdf_train\u001b[0m\u001b[1;33m[\u001b[0m\u001b[0msample_index\u001b[0m\u001b[1;33m]\u001b[0m\u001b[1;33m,\u001b[0m \u001b[0mq\u001b[0m\u001b[1;33m,\u001b[0m \u001b[0mr\u001b[0m\u001b[1;33m)\u001b[0m\u001b[1;33m\u001b[0m\u001b[1;33m\u001b[0m\u001b[0m\n\u001b[0m\u001b[0;32m     19\u001b[0m         \u001b[0mresult\u001b[0m \u001b[1;33m=\u001b[0m \u001b[1;33m[\u001b[0m\u001b[0mq\u001b[0m\u001b[1;33m,\u001b[0m \u001b[0mr\u001b[0m\u001b[1;33m,\u001b[0m \u001b[0mmean_after\u001b[0m\u001b[1;33m,\u001b[0m \u001b[0mmean_before\u001b[0m\u001b[1;33m,\u001b[0m \u001b[0mscore_after\u001b[0m\u001b[1;33m,\u001b[0m \u001b[0mscore_before\u001b[0m\u001b[1;33m]\u001b[0m\u001b[1;33m\u001b[0m\u001b[1;33m\u001b[0m\u001b[0m\n\u001b[0;32m     20\u001b[0m         \u001b[0mprint\u001b[0m\u001b[1;33m(\u001b[0m\u001b[1;34mf\"{q_gain}, {r_gain} : mean chagne - {mean_after - mean_before:.6f}, score change - {score_after - score_before:.6f}\"\u001b[0m\u001b[1;33m)\u001b[0m\u001b[1;33m\u001b[0m\u001b[1;33m\u001b[0m\u001b[0m\n",
      "\u001b[1;32m<ipython-input-12-4842381d62b8>\u001b[0m in \u001b[0;36mevaluate\u001b[1;34m(df, q_, r_, get_score)\u001b[0m\n\u001b[0;32m      7\u001b[0m     \u001b[1;32mfor\u001b[0m \u001b[0mphone\u001b[0m \u001b[1;32min\u001b[0m \u001b[0mtqdm\u001b[0m\u001b[1;33m(\u001b[0m\u001b[0mdf\u001b[0m\u001b[1;33m[\u001b[0m\u001b[1;34m'phone'\u001b[0m\u001b[1;33m]\u001b[0m\u001b[1;33m.\u001b[0m\u001b[0munique\u001b[0m\u001b[1;33m(\u001b[0m\u001b[1;33m)\u001b[0m\u001b[1;33m)\u001b[0m\u001b[1;33m:\u001b[0m\u001b[1;33m\u001b[0m\u001b[1;33m\u001b[0m\u001b[0m\n\u001b[0;32m      8\u001b[0m         \u001b[0mdf1\u001b[0m \u001b[1;33m=\u001b[0m \u001b[0mdf\u001b[0m\u001b[1;33m[\u001b[0m\u001b[0mdf\u001b[0m\u001b[1;33m[\u001b[0m\u001b[1;34m'phone'\u001b[0m\u001b[1;33m]\u001b[0m \u001b[1;33m==\u001b[0m \u001b[0mphone\u001b[0m\u001b[1;33m]\u001b[0m\u001b[1;33m.\u001b[0m\u001b[0mcopy\u001b[0m\u001b[1;33m(\u001b[0m\u001b[1;33m)\u001b[0m\u001b[1;33m\u001b[0m\u001b[1;33m\u001b[0m\u001b[0m\n\u001b[1;32m----> 9\u001b[1;33m         \u001b[0mdf2\u001b[0m \u001b[1;33m=\u001b[0m \u001b[0mbatch_filter\u001b[0m\u001b[1;33m(\u001b[0m\u001b[0mdf1\u001b[0m\u001b[1;33m,\u001b[0m \u001b[0mq_\u001b[0m\u001b[1;33m,\u001b[0m \u001b[0mr_\u001b[0m\u001b[1;33m)\u001b[0m\u001b[1;33m\u001b[0m\u001b[1;33m\u001b[0m\u001b[0m\n\u001b[0m\u001b[0;32m     10\u001b[0m         \u001b[0mdf_list\u001b[0m\u001b[1;33m.\u001b[0m\u001b[0mappend\u001b[0m\u001b[1;33m(\u001b[0m\u001b[0mdf2\u001b[0m\u001b[1;33m[\u001b[0m\u001b[1;33m[\u001b[0m\u001b[1;34m'phone'\u001b[0m\u001b[1;33m,\u001b[0m \u001b[1;34m'millisSinceGpsEpoch'\u001b[0m\u001b[1;33m,\u001b[0m \u001b[1;34m'latDeg'\u001b[0m\u001b[1;33m,\u001b[0m \u001b[1;34m'lngDeg'\u001b[0m\u001b[1;33m]\u001b[0m\u001b[1;33m]\u001b[0m\u001b[1;33m)\u001b[0m\u001b[1;33m\u001b[0m\u001b[1;33m\u001b[0m\u001b[0m\n\u001b[0;32m     11\u001b[0m     \u001b[0mdf3\u001b[0m \u001b[1;33m=\u001b[0m \u001b[0mpd\u001b[0m\u001b[1;33m.\u001b[0m\u001b[0mconcat\u001b[0m\u001b[1;33m(\u001b[0m\u001b[0mdf_list\u001b[0m\u001b[1;33m)\u001b[0m\u001b[1;33m\u001b[0m\u001b[1;33m\u001b[0m\u001b[0m\n",
      "\u001b[1;32m<ipython-input-11-cd272c751283>\u001b[0m in \u001b[0;36mbatch_filter\u001b[1;34m(df, q_, r_)\u001b[0m\n\u001b[0;32m     31\u001b[0m     \u001b[0mkf\u001b[0m\u001b[1;33m.\u001b[0m\u001b[0mR\u001b[0m \u001b[1;33m=\u001b[0m \u001b[0mnp\u001b[0m\u001b[1;33m.\u001b[0m\u001b[0mdiag\u001b[0m\u001b[1;33m(\u001b[0m\u001b[0mr\u001b[0m\u001b[1;33m)\u001b[0m\u001b[1;33m\u001b[0m\u001b[1;33m\u001b[0m\u001b[0m\n\u001b[0;32m     32\u001b[0m \u001b[1;33m\u001b[0m\u001b[0m\n\u001b[1;32m---> 33\u001b[1;33m     \u001b[0mmu\u001b[0m\u001b[1;33m,\u001b[0m \u001b[0mcov\u001b[0m \u001b[1;33m=\u001b[0m \u001b[0mkf\u001b[0m\u001b[1;33m.\u001b[0m\u001b[0mbatch_filter\u001b[0m\u001b[1;33m(\u001b[0m\u001b[0mmeas\u001b[0m\u001b[1;33m.\u001b[0m\u001b[0mvalues\u001b[0m\u001b[1;33m)\u001b[0m\u001b[1;33m\u001b[0m\u001b[1;33m\u001b[0m\u001b[0m\n\u001b[0m\u001b[0;32m     34\u001b[0m     \u001b[1;33m(\u001b[0m\u001b[0mxs\u001b[0m\u001b[1;33m,\u001b[0m \u001b[0mPs\u001b[0m\u001b[1;33m,\u001b[0m \u001b[0mKs\u001b[0m\u001b[1;33m)\u001b[0m \u001b[1;33m=\u001b[0m \u001b[0mkf\u001b[0m\u001b[1;33m.\u001b[0m\u001b[0mrts_smoother\u001b[0m\u001b[1;33m(\u001b[0m\u001b[0mmu\u001b[0m\u001b[1;33m,\u001b[0m \u001b[0mcov\u001b[0m\u001b[1;33m)\u001b[0m\u001b[1;33m\u001b[0m\u001b[1;33m\u001b[0m\u001b[0m\n\u001b[0;32m     35\u001b[0m     \u001b[0mdf2\u001b[0m \u001b[1;33m=\u001b[0m \u001b[0mdf1\u001b[0m\u001b[1;33m.\u001b[0m\u001b[0mcopy\u001b[0m\u001b[1;33m(\u001b[0m\u001b[1;33m)\u001b[0m\u001b[1;33m\u001b[0m\u001b[1;33m\u001b[0m\u001b[0m\n",
      "\u001b[1;32mD:\\Sangwons_Room\\00_SoftWares\\Anaconda\\envs\\torch\\lib\\site-packages\\filterpy\\kalman\\UKF.py\u001b[0m in \u001b[0;36mbatch_filter\u001b[1;34m(self, zs, Rs, dts, UT, saver)\u001b[0m\n\u001b[0;32m    602\u001b[0m \u001b[1;33m\u001b[0m\u001b[0m\n\u001b[0;32m    603\u001b[0m         \u001b[1;32mfor\u001b[0m \u001b[0mi\u001b[0m\u001b[1;33m,\u001b[0m \u001b[1;33m(\u001b[0m\u001b[0mz\u001b[0m\u001b[1;33m,\u001b[0m \u001b[0mr\u001b[0m\u001b[1;33m,\u001b[0m \u001b[0mdt\u001b[0m\u001b[1;33m)\u001b[0m \u001b[1;32min\u001b[0m \u001b[0menumerate\u001b[0m\u001b[1;33m(\u001b[0m\u001b[0mzip\u001b[0m\u001b[1;33m(\u001b[0m\u001b[0mzs\u001b[0m\u001b[1;33m,\u001b[0m \u001b[0mRs\u001b[0m\u001b[1;33m,\u001b[0m \u001b[0mdts\u001b[0m\u001b[1;33m)\u001b[0m\u001b[1;33m)\u001b[0m\u001b[1;33m:\u001b[0m\u001b[1;33m\u001b[0m\u001b[1;33m\u001b[0m\u001b[0m\n\u001b[1;32m--> 604\u001b[1;33m             \u001b[0mself\u001b[0m\u001b[1;33m.\u001b[0m\u001b[0mpredict\u001b[0m\u001b[1;33m(\u001b[0m\u001b[0mdt\u001b[0m\u001b[1;33m=\u001b[0m\u001b[0mdt\u001b[0m\u001b[1;33m,\u001b[0m \u001b[0mUT\u001b[0m\u001b[1;33m=\u001b[0m\u001b[0mUT\u001b[0m\u001b[1;33m)\u001b[0m\u001b[1;33m\u001b[0m\u001b[1;33m\u001b[0m\u001b[0m\n\u001b[0m\u001b[0;32m    605\u001b[0m             \u001b[0mself\u001b[0m\u001b[1;33m.\u001b[0m\u001b[0mupdate\u001b[0m\u001b[1;33m(\u001b[0m\u001b[0mz\u001b[0m\u001b[1;33m,\u001b[0m \u001b[0mr\u001b[0m\u001b[1;33m,\u001b[0m \u001b[0mUT\u001b[0m\u001b[1;33m=\u001b[0m\u001b[0mUT\u001b[0m\u001b[1;33m)\u001b[0m\u001b[1;33m\u001b[0m\u001b[1;33m\u001b[0m\u001b[0m\n\u001b[0;32m    606\u001b[0m             \u001b[0mmeans\u001b[0m\u001b[1;33m[\u001b[0m\u001b[0mi\u001b[0m\u001b[1;33m,\u001b[0m \u001b[1;33m:\u001b[0m\u001b[1;33m]\u001b[0m \u001b[1;33m=\u001b[0m \u001b[0mself\u001b[0m\u001b[1;33m.\u001b[0m\u001b[0mx\u001b[0m\u001b[1;33m\u001b[0m\u001b[1;33m\u001b[0m\u001b[0m\n",
      "\u001b[1;32mD:\\Sangwons_Room\\00_SoftWares\\Anaconda\\envs\\torch\\lib\\site-packages\\filterpy\\kalman\\UKF.py\u001b[0m in \u001b[0;36mpredict\u001b[1;34m(self, dt, UT, fx, **fx_args)\u001b[0m\n\u001b[0;32m    390\u001b[0m         \u001b[1;31m#and pass sigmas through the unscented transform to compute prior\u001b[0m\u001b[1;33m\u001b[0m\u001b[1;33m\u001b[0m\u001b[1;33m\u001b[0m\u001b[0m\n\u001b[0;32m    391\u001b[0m         self.x, self.P = UT(self.sigmas_f, self.Wm, self.Wc, self.Q,\n\u001b[1;32m--> 392\u001b[1;33m                             self.x_mean, self.residual_x)\n\u001b[0m\u001b[0;32m    393\u001b[0m \u001b[1;33m\u001b[0m\u001b[0m\n\u001b[0;32m    394\u001b[0m         \u001b[1;31m# save prior\u001b[0m\u001b[1;33m\u001b[0m\u001b[1;33m\u001b[0m\u001b[1;33m\u001b[0m\u001b[0m\n",
      "\u001b[1;32mD:\\Sangwons_Room\\00_SoftWares\\Anaconda\\envs\\torch\\lib\\site-packages\\filterpy\\kalman\\unscented_transform.py\u001b[0m in \u001b[0;36munscented_transform\u001b[1;34m(sigmas, Wm, Wc, noise_cov, mean_fn, residual_fn)\u001b[0m\n\u001b[0;32m    116\u001b[0m     \u001b[1;32mif\u001b[0m \u001b[0mresidual_fn\u001b[0m \u001b[1;32mis\u001b[0m \u001b[0mnp\u001b[0m\u001b[1;33m.\u001b[0m\u001b[0msubtract\u001b[0m \u001b[1;32mor\u001b[0m \u001b[0mresidual_fn\u001b[0m \u001b[1;32mis\u001b[0m \u001b[1;32mNone\u001b[0m\u001b[1;33m:\u001b[0m\u001b[1;33m\u001b[0m\u001b[1;33m\u001b[0m\u001b[0m\n\u001b[0;32m    117\u001b[0m         \u001b[0my\u001b[0m \u001b[1;33m=\u001b[0m \u001b[0msigmas\u001b[0m \u001b[1;33m-\u001b[0m \u001b[0mx\u001b[0m\u001b[1;33m[\u001b[0m\u001b[0mnp\u001b[0m\u001b[1;33m.\u001b[0m\u001b[0mnewaxis\u001b[0m\u001b[1;33m,\u001b[0m \u001b[1;33m:\u001b[0m\u001b[1;33m]\u001b[0m\u001b[1;33m\u001b[0m\u001b[1;33m\u001b[0m\u001b[0m\n\u001b[1;32m--> 118\u001b[1;33m         \u001b[0mP\u001b[0m \u001b[1;33m=\u001b[0m \u001b[0mnp\u001b[0m\u001b[1;33m.\u001b[0m\u001b[0mdot\u001b[0m\u001b[1;33m(\u001b[0m\u001b[0my\u001b[0m\u001b[1;33m.\u001b[0m\u001b[0mT\u001b[0m\u001b[1;33m,\u001b[0m \u001b[0mnp\u001b[0m\u001b[1;33m.\u001b[0m\u001b[0mdot\u001b[0m\u001b[1;33m(\u001b[0m\u001b[0mnp\u001b[0m\u001b[1;33m.\u001b[0m\u001b[0mdiag\u001b[0m\u001b[1;33m(\u001b[0m\u001b[0mWc\u001b[0m\u001b[1;33m)\u001b[0m\u001b[1;33m,\u001b[0m \u001b[0my\u001b[0m\u001b[1;33m)\u001b[0m\u001b[1;33m)\u001b[0m\u001b[1;33m\u001b[0m\u001b[1;33m\u001b[0m\u001b[0m\n\u001b[0m\u001b[0;32m    119\u001b[0m     \u001b[1;32melse\u001b[0m\u001b[1;33m:\u001b[0m\u001b[1;33m\u001b[0m\u001b[1;33m\u001b[0m\u001b[0m\n\u001b[0;32m    120\u001b[0m         \u001b[0mP\u001b[0m \u001b[1;33m=\u001b[0m \u001b[0mnp\u001b[0m\u001b[1;33m.\u001b[0m\u001b[0mzeros\u001b[0m\u001b[1;33m(\u001b[0m\u001b[1;33m(\u001b[0m\u001b[0mn\u001b[0m\u001b[1;33m,\u001b[0m \u001b[0mn\u001b[0m\u001b[1;33m)\u001b[0m\u001b[1;33m)\u001b[0m\u001b[1;33m\u001b[0m\u001b[1;33m\u001b[0m\u001b[0m\n",
      "\u001b[1;32m<__array_function__ internals>\u001b[0m in \u001b[0;36mdot\u001b[1;34m(*args, **kwargs)\u001b[0m\n",
      "\u001b[1;31mKeyboardInterrupt\u001b[0m: "
     ]
    }
   ],
   "source": [
    "q_gain_list = np.arange(0.1, 2, 0.1)\n",
    "r_gain_list = np.arange(0.1, 2, 0.1)\n",
    "\n",
    "q_ = np.array([0.01, 0.01, 0.05, 0.5*np.pi/180, 2.5*np.pi/180])**2\n",
    "r_ = np.array([0.01, 0.01, 0.5*np.pi/180, 2.5*np.pi/180])**2\n",
    "phones = df_train['phone'].unique()\n",
    "sample_phone = np.random.choice(phones, 5, replace = False)\n",
    "sample_index = df_train['phone'].apply(lambda x: x in sample_phone)\n",
    "\n",
    "\n",
    "result_list = []\n",
    "iter_count = 0\n",
    "for q_gain in q_gain_list:\n",
    "    for r_gain in r_gain_list:\n",
    "        iter_count += 1\n",
    "        q = q_gain * q_\n",
    "        r = r_gain * r_\n",
    "        _, mean_before, score_before, mean_after, score_after = evaluate(df_train[sample_index], q, r)\n",
    "        result = [q, r, mean_after, mean_before, score_after, score_before]\n",
    "        print(f\"{q_gain}, {r_gain} : mean chagne - {mean_after - mean_before:.6f}, score change - {score_after - score_before:.6f}\")\n",
    "        print(f\"after[{mean_after}, {score_after}], before[{mean_before}, {score_before}]\")\n",
    "        result_list.append(result)"
   ]
  },
  {
   "cell_type": "code",
   "execution_count": 13,
   "metadata": {
    "ExecuteTime": {
     "end_time": "2021-07-06T21:21:47.600814Z",
     "start_time": "2021-07-06T21:17:16.935067Z"
    },
    "scrolled": true
   },
   "outputs": [
    {
     "data": {
      "application/vnd.jupyter.widget-view+json": {
       "model_id": "6f668a0e05f241d0a552e9ef04b4b585",
       "version_major": 2,
       "version_minor": 0
      },
      "text/plain": [
       "  0%|          | 0/73 [00:00<?, ?it/s]"
      ]
     },
     "metadata": {},
     "output_type": "display_data"
    },
    {
     "name": "stdout",
     "output_type": "stream",
     "text": [
      "0.1, 0.1 : mean chagne - 3.175018, score change - 7.199920\n",
      "after[7.021866761818569, 12.487890582667237], before[3.84684837499064, 5.2879706490841585]\n"
     ]
    },
    {
     "data": {
      "application/vnd.jupyter.widget-view+json": {
       "model_id": "8f04e2cb8da649e0bb91e3f2f74c3302",
       "version_major": 2,
       "version_minor": 0
      },
      "text/plain": [
       "  0%|          | 0/73 [00:00<?, ?it/s]"
      ]
     },
     "metadata": {},
     "output_type": "display_data"
    },
    {
     "name": "stdout",
     "output_type": "stream",
     "text": [
      "0.1, 0.2 : mean chagne - 3.786547, score change - 9.053881\n",
      "after[7.6333954147533705, 14.34185213488532], before[3.84684837499064, 5.2879706490841585]\n"
     ]
    },
    {
     "data": {
      "application/vnd.jupyter.widget-view+json": {
       "model_id": "7173af77d9a740ae8371b0b949a5a763",
       "version_major": 2,
       "version_minor": 0
      },
      "text/plain": [
       "  0%|          | 0/73 [00:00<?, ?it/s]"
      ]
     },
     "metadata": {},
     "output_type": "display_data"
    },
    {
     "ename": "KeyboardInterrupt",
     "evalue": "",
     "output_type": "error",
     "traceback": [
      "\u001b[1;31m---------------------------------------------------------------------------\u001b[0m",
      "\u001b[1;31mKeyboardInterrupt\u001b[0m                         Traceback (most recent call last)",
      "\u001b[1;32m<ipython-input-13-51eef7da9c71>\u001b[0m in \u001b[0;36m<module>\u001b[1;34m\u001b[0m\n\u001b[0;32m     17\u001b[0m \u001b[1;31m#         sample_index = df_train['phone'].apply(lambda x: x in sample_phone)\u001b[0m\u001b[1;33m\u001b[0m\u001b[1;33m\u001b[0m\u001b[1;33m\u001b[0m\u001b[0m\n\u001b[0;32m     18\u001b[0m \u001b[1;31m#         _, mean_before, score_before, mean_after, score_after = evaluate(df_train[sample_index], q, r)\u001b[0m\u001b[1;33m\u001b[0m\u001b[1;33m\u001b[0m\u001b[1;33m\u001b[0m\u001b[0m\n\u001b[1;32m---> 19\u001b[1;33m         \u001b[0m_\u001b[0m\u001b[1;33m,\u001b[0m \u001b[0mmean_before\u001b[0m\u001b[1;33m,\u001b[0m \u001b[0mscore_before\u001b[0m\u001b[1;33m,\u001b[0m \u001b[0mmean_after\u001b[0m\u001b[1;33m,\u001b[0m \u001b[0mscore_after\u001b[0m \u001b[1;33m=\u001b[0m \u001b[0mevaluate\u001b[0m\u001b[1;33m(\u001b[0m\u001b[0mdf_train\u001b[0m\u001b[1;33m,\u001b[0m \u001b[0mq\u001b[0m\u001b[1;33m,\u001b[0m \u001b[0mr\u001b[0m\u001b[1;33m)\u001b[0m\u001b[1;33m\u001b[0m\u001b[1;33m\u001b[0m\u001b[0m\n\u001b[0m\u001b[0;32m     20\u001b[0m         \u001b[0mresult\u001b[0m \u001b[1;33m=\u001b[0m \u001b[1;33m[\u001b[0m\u001b[0mq\u001b[0m\u001b[1;33m,\u001b[0m \u001b[0mr\u001b[0m\u001b[1;33m,\u001b[0m \u001b[0mmean_after\u001b[0m\u001b[1;33m,\u001b[0m \u001b[0mmean_before\u001b[0m\u001b[1;33m,\u001b[0m \u001b[0mscore_after\u001b[0m\u001b[1;33m,\u001b[0m \u001b[0mscore_before\u001b[0m\u001b[1;33m]\u001b[0m\u001b[1;33m\u001b[0m\u001b[1;33m\u001b[0m\u001b[0m\n\u001b[0;32m     21\u001b[0m         \u001b[0mprint\u001b[0m\u001b[1;33m(\u001b[0m\u001b[1;34mf\"{q_gain}, {r_gain} : mean chagne - {mean_after - mean_before:.6f}, score change - {score_after - score_before:.6f}\"\u001b[0m\u001b[1;33m)\u001b[0m\u001b[1;33m\u001b[0m\u001b[1;33m\u001b[0m\u001b[0m\n",
      "\u001b[1;32m<ipython-input-12-4842381d62b8>\u001b[0m in \u001b[0;36mevaluate\u001b[1;34m(df, q_, r_, get_score)\u001b[0m\n\u001b[0;32m      7\u001b[0m     \u001b[1;32mfor\u001b[0m \u001b[0mphone\u001b[0m \u001b[1;32min\u001b[0m \u001b[0mtqdm\u001b[0m\u001b[1;33m(\u001b[0m\u001b[0mdf\u001b[0m\u001b[1;33m[\u001b[0m\u001b[1;34m'phone'\u001b[0m\u001b[1;33m]\u001b[0m\u001b[1;33m.\u001b[0m\u001b[0munique\u001b[0m\u001b[1;33m(\u001b[0m\u001b[1;33m)\u001b[0m\u001b[1;33m)\u001b[0m\u001b[1;33m:\u001b[0m\u001b[1;33m\u001b[0m\u001b[1;33m\u001b[0m\u001b[0m\n\u001b[0;32m      8\u001b[0m         \u001b[0mdf1\u001b[0m \u001b[1;33m=\u001b[0m \u001b[0mdf\u001b[0m\u001b[1;33m[\u001b[0m\u001b[0mdf\u001b[0m\u001b[1;33m[\u001b[0m\u001b[1;34m'phone'\u001b[0m\u001b[1;33m]\u001b[0m \u001b[1;33m==\u001b[0m \u001b[0mphone\u001b[0m\u001b[1;33m]\u001b[0m\u001b[1;33m.\u001b[0m\u001b[0mcopy\u001b[0m\u001b[1;33m(\u001b[0m\u001b[1;33m)\u001b[0m\u001b[1;33m\u001b[0m\u001b[1;33m\u001b[0m\u001b[0m\n\u001b[1;32m----> 9\u001b[1;33m         \u001b[0mdf2\u001b[0m \u001b[1;33m=\u001b[0m \u001b[0mbatch_filter\u001b[0m\u001b[1;33m(\u001b[0m\u001b[0mdf1\u001b[0m\u001b[1;33m,\u001b[0m \u001b[0mq_\u001b[0m\u001b[1;33m,\u001b[0m \u001b[0mr_\u001b[0m\u001b[1;33m)\u001b[0m\u001b[1;33m\u001b[0m\u001b[1;33m\u001b[0m\u001b[0m\n\u001b[0m\u001b[0;32m     10\u001b[0m         \u001b[0mdf_list\u001b[0m\u001b[1;33m.\u001b[0m\u001b[0mappend\u001b[0m\u001b[1;33m(\u001b[0m\u001b[0mdf2\u001b[0m\u001b[1;33m[\u001b[0m\u001b[1;33m[\u001b[0m\u001b[1;34m'phone'\u001b[0m\u001b[1;33m,\u001b[0m \u001b[1;34m'millisSinceGpsEpoch'\u001b[0m\u001b[1;33m,\u001b[0m \u001b[1;34m'latDeg'\u001b[0m\u001b[1;33m,\u001b[0m \u001b[1;34m'lngDeg'\u001b[0m\u001b[1;33m]\u001b[0m\u001b[1;33m]\u001b[0m\u001b[1;33m)\u001b[0m\u001b[1;33m\u001b[0m\u001b[1;33m\u001b[0m\u001b[0m\n\u001b[0;32m     11\u001b[0m     \u001b[0mdf3\u001b[0m \u001b[1;33m=\u001b[0m \u001b[0mpd\u001b[0m\u001b[1;33m.\u001b[0m\u001b[0mconcat\u001b[0m\u001b[1;33m(\u001b[0m\u001b[0mdf_list\u001b[0m\u001b[1;33m)\u001b[0m\u001b[1;33m\u001b[0m\u001b[1;33m\u001b[0m\u001b[0m\n",
      "\u001b[1;32m<ipython-input-11-cd272c751283>\u001b[0m in \u001b[0;36mbatch_filter\u001b[1;34m(df, q_, r_)\u001b[0m\n\u001b[0;32m     31\u001b[0m     \u001b[0mkf\u001b[0m\u001b[1;33m.\u001b[0m\u001b[0mR\u001b[0m \u001b[1;33m=\u001b[0m \u001b[0mnp\u001b[0m\u001b[1;33m.\u001b[0m\u001b[0mdiag\u001b[0m\u001b[1;33m(\u001b[0m\u001b[0mr\u001b[0m\u001b[1;33m)\u001b[0m\u001b[1;33m\u001b[0m\u001b[1;33m\u001b[0m\u001b[0m\n\u001b[0;32m     32\u001b[0m \u001b[1;33m\u001b[0m\u001b[0m\n\u001b[1;32m---> 33\u001b[1;33m     \u001b[0mmu\u001b[0m\u001b[1;33m,\u001b[0m \u001b[0mcov\u001b[0m \u001b[1;33m=\u001b[0m \u001b[0mkf\u001b[0m\u001b[1;33m.\u001b[0m\u001b[0mbatch_filter\u001b[0m\u001b[1;33m(\u001b[0m\u001b[0mmeas\u001b[0m\u001b[1;33m.\u001b[0m\u001b[0mvalues\u001b[0m\u001b[1;33m)\u001b[0m\u001b[1;33m\u001b[0m\u001b[1;33m\u001b[0m\u001b[0m\n\u001b[0m\u001b[0;32m     34\u001b[0m     \u001b[1;33m(\u001b[0m\u001b[0mxs\u001b[0m\u001b[1;33m,\u001b[0m \u001b[0mPs\u001b[0m\u001b[1;33m,\u001b[0m \u001b[0mKs\u001b[0m\u001b[1;33m)\u001b[0m \u001b[1;33m=\u001b[0m \u001b[0mkf\u001b[0m\u001b[1;33m.\u001b[0m\u001b[0mrts_smoother\u001b[0m\u001b[1;33m(\u001b[0m\u001b[0mmu\u001b[0m\u001b[1;33m,\u001b[0m \u001b[0mcov\u001b[0m\u001b[1;33m)\u001b[0m\u001b[1;33m\u001b[0m\u001b[1;33m\u001b[0m\u001b[0m\n\u001b[0;32m     35\u001b[0m     \u001b[0mdf2\u001b[0m \u001b[1;33m=\u001b[0m \u001b[0mdf1\u001b[0m\u001b[1;33m.\u001b[0m\u001b[0mcopy\u001b[0m\u001b[1;33m(\u001b[0m\u001b[1;33m)\u001b[0m\u001b[1;33m\u001b[0m\u001b[1;33m\u001b[0m\u001b[0m\n",
      "\u001b[1;32mD:\\Sangwons_Room\\00_SoftWares\\Anaconda\\envs\\torch\\lib\\site-packages\\filterpy\\kalman\\UKF.py\u001b[0m in \u001b[0;36mbatch_filter\u001b[1;34m(self, zs, Rs, dts, UT, saver)\u001b[0m\n\u001b[0;32m    602\u001b[0m \u001b[1;33m\u001b[0m\u001b[0m\n\u001b[0;32m    603\u001b[0m         \u001b[1;32mfor\u001b[0m \u001b[0mi\u001b[0m\u001b[1;33m,\u001b[0m \u001b[1;33m(\u001b[0m\u001b[0mz\u001b[0m\u001b[1;33m,\u001b[0m \u001b[0mr\u001b[0m\u001b[1;33m,\u001b[0m \u001b[0mdt\u001b[0m\u001b[1;33m)\u001b[0m \u001b[1;32min\u001b[0m \u001b[0menumerate\u001b[0m\u001b[1;33m(\u001b[0m\u001b[0mzip\u001b[0m\u001b[1;33m(\u001b[0m\u001b[0mzs\u001b[0m\u001b[1;33m,\u001b[0m \u001b[0mRs\u001b[0m\u001b[1;33m,\u001b[0m \u001b[0mdts\u001b[0m\u001b[1;33m)\u001b[0m\u001b[1;33m)\u001b[0m\u001b[1;33m:\u001b[0m\u001b[1;33m\u001b[0m\u001b[1;33m\u001b[0m\u001b[0m\n\u001b[1;32m--> 604\u001b[1;33m             \u001b[0mself\u001b[0m\u001b[1;33m.\u001b[0m\u001b[0mpredict\u001b[0m\u001b[1;33m(\u001b[0m\u001b[0mdt\u001b[0m\u001b[1;33m=\u001b[0m\u001b[0mdt\u001b[0m\u001b[1;33m,\u001b[0m \u001b[0mUT\u001b[0m\u001b[1;33m=\u001b[0m\u001b[0mUT\u001b[0m\u001b[1;33m)\u001b[0m\u001b[1;33m\u001b[0m\u001b[1;33m\u001b[0m\u001b[0m\n\u001b[0m\u001b[0;32m    605\u001b[0m             \u001b[0mself\u001b[0m\u001b[1;33m.\u001b[0m\u001b[0mupdate\u001b[0m\u001b[1;33m(\u001b[0m\u001b[0mz\u001b[0m\u001b[1;33m,\u001b[0m \u001b[0mr\u001b[0m\u001b[1;33m,\u001b[0m \u001b[0mUT\u001b[0m\u001b[1;33m=\u001b[0m\u001b[0mUT\u001b[0m\u001b[1;33m)\u001b[0m\u001b[1;33m\u001b[0m\u001b[1;33m\u001b[0m\u001b[0m\n\u001b[0;32m    606\u001b[0m             \u001b[0mmeans\u001b[0m\u001b[1;33m[\u001b[0m\u001b[0mi\u001b[0m\u001b[1;33m,\u001b[0m \u001b[1;33m:\u001b[0m\u001b[1;33m]\u001b[0m \u001b[1;33m=\u001b[0m \u001b[0mself\u001b[0m\u001b[1;33m.\u001b[0m\u001b[0mx\u001b[0m\u001b[1;33m\u001b[0m\u001b[1;33m\u001b[0m\u001b[0m\n",
      "\u001b[1;32mD:\\Sangwons_Room\\00_SoftWares\\Anaconda\\envs\\torch\\lib\\site-packages\\filterpy\\kalman\\UKF.py\u001b[0m in \u001b[0;36mpredict\u001b[1;34m(self, dt, UT, fx, **fx_args)\u001b[0m\n\u001b[0;32m    390\u001b[0m         \u001b[1;31m#and pass sigmas through the unscented transform to compute prior\u001b[0m\u001b[1;33m\u001b[0m\u001b[1;33m\u001b[0m\u001b[1;33m\u001b[0m\u001b[0m\n\u001b[0;32m    391\u001b[0m         self.x, self.P = UT(self.sigmas_f, self.Wm, self.Wc, self.Q,\n\u001b[1;32m--> 392\u001b[1;33m                             self.x_mean, self.residual_x)\n\u001b[0m\u001b[0;32m    393\u001b[0m \u001b[1;33m\u001b[0m\u001b[0m\n\u001b[0;32m    394\u001b[0m         \u001b[1;31m# save prior\u001b[0m\u001b[1;33m\u001b[0m\u001b[1;33m\u001b[0m\u001b[1;33m\u001b[0m\u001b[0m\n",
      "\u001b[1;32mD:\\Sangwons_Room\\00_SoftWares\\Anaconda\\envs\\torch\\lib\\site-packages\\filterpy\\kalman\\unscented_transform.py\u001b[0m in \u001b[0;36munscented_transform\u001b[1;34m(sigmas, Wm, Wc, noise_cov, mean_fn, residual_fn)\u001b[0m\n\u001b[0;32m    116\u001b[0m     \u001b[1;32mif\u001b[0m \u001b[0mresidual_fn\u001b[0m \u001b[1;32mis\u001b[0m \u001b[0mnp\u001b[0m\u001b[1;33m.\u001b[0m\u001b[0msubtract\u001b[0m \u001b[1;32mor\u001b[0m \u001b[0mresidual_fn\u001b[0m \u001b[1;32mis\u001b[0m \u001b[1;32mNone\u001b[0m\u001b[1;33m:\u001b[0m\u001b[1;33m\u001b[0m\u001b[1;33m\u001b[0m\u001b[0m\n\u001b[0;32m    117\u001b[0m         \u001b[0my\u001b[0m \u001b[1;33m=\u001b[0m \u001b[0msigmas\u001b[0m \u001b[1;33m-\u001b[0m \u001b[0mx\u001b[0m\u001b[1;33m[\u001b[0m\u001b[0mnp\u001b[0m\u001b[1;33m.\u001b[0m\u001b[0mnewaxis\u001b[0m\u001b[1;33m,\u001b[0m \u001b[1;33m:\u001b[0m\u001b[1;33m]\u001b[0m\u001b[1;33m\u001b[0m\u001b[1;33m\u001b[0m\u001b[0m\n\u001b[1;32m--> 118\u001b[1;33m         \u001b[0mP\u001b[0m \u001b[1;33m=\u001b[0m \u001b[0mnp\u001b[0m\u001b[1;33m.\u001b[0m\u001b[0mdot\u001b[0m\u001b[1;33m(\u001b[0m\u001b[0my\u001b[0m\u001b[1;33m.\u001b[0m\u001b[0mT\u001b[0m\u001b[1;33m,\u001b[0m \u001b[0mnp\u001b[0m\u001b[1;33m.\u001b[0m\u001b[0mdot\u001b[0m\u001b[1;33m(\u001b[0m\u001b[0mnp\u001b[0m\u001b[1;33m.\u001b[0m\u001b[0mdiag\u001b[0m\u001b[1;33m(\u001b[0m\u001b[0mWc\u001b[0m\u001b[1;33m)\u001b[0m\u001b[1;33m,\u001b[0m \u001b[0my\u001b[0m\u001b[1;33m)\u001b[0m\u001b[1;33m)\u001b[0m\u001b[1;33m\u001b[0m\u001b[1;33m\u001b[0m\u001b[0m\n\u001b[0m\u001b[0;32m    119\u001b[0m     \u001b[1;32melse\u001b[0m\u001b[1;33m:\u001b[0m\u001b[1;33m\u001b[0m\u001b[1;33m\u001b[0m\u001b[0m\n\u001b[0;32m    120\u001b[0m         \u001b[0mP\u001b[0m \u001b[1;33m=\u001b[0m \u001b[0mnp\u001b[0m\u001b[1;33m.\u001b[0m\u001b[0mzeros\u001b[0m\u001b[1;33m(\u001b[0m\u001b[1;33m(\u001b[0m\u001b[0mn\u001b[0m\u001b[1;33m,\u001b[0m \u001b[0mn\u001b[0m\u001b[1;33m)\u001b[0m\u001b[1;33m)\u001b[0m\u001b[1;33m\u001b[0m\u001b[1;33m\u001b[0m\u001b[0m\n",
      "\u001b[1;32m<__array_function__ internals>\u001b[0m in \u001b[0;36mdot\u001b[1;34m(*args, **kwargs)\u001b[0m\n",
      "\u001b[1;31mKeyboardInterrupt\u001b[0m: "
     ]
    }
   ],
   "source": [
    "q_gain_list = np.arange(0.1, 2, 0.1)\n",
    "r_gain_list = np.arange(0.1, 2, 0.1)\n",
    "\n",
    "q_ = np.array([0.01, 0.01, 0.1, 1*np.pi/180, 10*np.pi/180])**2\n",
    "r_ = np.array([0.1, 0.1, 5 * np.pi/180, 20 * np.pi/180])**2\n",
    "phones = df_train['phone'].unique()\n",
    "\n",
    "\n",
    "result_list = []\n",
    "iter_count = 0\n",
    "for q_gain in q_gain_list:\n",
    "    for r_gain in r_gain_list:\n",
    "        iter_count += 1\n",
    "        q = q_gain * q_\n",
    "        r = r_gain * r_\n",
    "#         sample_phone = np.random.choice(phones, 13, replace = False)\n",
    "#         sample_index = df_train['phone'].apply(lambda x: x in sample_phone)\n",
    "#         _, mean_before, score_before, mean_after, score_after = evaluate(df_train[sample_index], q, r)\n",
    "        _, mean_before, score_before, mean_after, score_after = evaluate(df_train, q, r)\n",
    "        result = [q, r, mean_after, mean_before, score_after, score_before]\n",
    "        print(f\"{q_gain}, {r_gain} : mean chagne - {mean_after - mean_before:.6f}, score change - {score_after - score_before:.6f}\")\n",
    "        print(f\"after[{mean_after}, {score_after}], before[{mean_before}, {score_before}]\")\n",
    "        result_list.append(result)"
   ]
  },
  {
   "cell_type": "code",
   "execution_count": null,
   "metadata": {
    "ExecuteTime": {
     "end_time": "2021-07-06T21:21:47.602815Z",
     "start_time": "2021-07-06T21:16:53.571Z"
    }
   },
   "outputs": [],
   "source": [
    "df = pd.DataFrame(result_list, columns = ['q', 'r', 'mean_after', 'mean_before', 'score_after', 'score_before'])\n"
   ]
  },
  {
   "cell_type": "code",
   "execution_count": null,
   "metadata": {
    "ExecuteTime": {
     "end_time": "2021-07-06T21:21:47.603815Z",
     "start_time": "2021-07-06T21:16:53.572Z"
    }
   },
   "outputs": [],
   "source": [
    "df['qgain'] = df['q'].apply(lambda x: x.mean())\n",
    "df['rgain'] = df['r'].apply(lambda x: x.mean())\n",
    "df['change_score'] = df['score_after'] - df['score_before']"
   ]
  },
  {
   "cell_type": "code",
   "execution_count": null,
   "metadata": {
    "ExecuteTime": {
     "end_time": "2021-07-06T21:21:47.604816Z",
     "start_time": "2021-07-06T21:16:53.572Z"
    }
   },
   "outputs": [],
   "source": [
    "pt = df.pivot_table('change_score', 'qgain', 'rgain')\n",
    "sns.heatmap(pt)"
   ]
  },
  {
   "cell_type": "code",
   "execution_count": null,
   "metadata": {
    "ExecuteTime": {
     "end_time": "2021-07-06T21:21:47.605815Z",
     "start_time": "2021-07-06T21:16:53.573Z"
    },
    "scrolled": true
   },
   "outputs": [],
   "source": [
    "qgain = df.loc[df['change_score'].min() == df['change_score'], 'qgain'].values\n",
    "rgain = df.loc[df['change_score'].min() == df['change_score'], 'rgain'].values\n",
    "print(qgain, rgain)"
   ]
  },
  {
   "cell_type": "code",
   "execution_count": null,
   "metadata": {
    "ExecuteTime": {
     "end_time": "2021-07-06T21:21:47.605815Z",
     "start_time": "2021-07-06T21:16:53.574Z"
    }
   },
   "outputs": [],
   "source": [
    "_, mean_before, score_before, mean_after, score_after =  evaluate(df_train, qgain*q_, rgain*r_)\n",
    "print(mean_before, score_before, mean_after, score_after)\n",
    "print(f\"mean change : {mean_after - mean_before:.4f}\")\n",
    "print(f\"score change: {score_after - score_before:.4f}\")"
   ]
  },
  {
   "cell_type": "code",
   "execution_count": null,
   "metadata": {},
   "outputs": [],
   "source": []
  },
  {
   "cell_type": "code",
   "execution_count": null,
   "metadata": {
    "ExecuteTime": {
     "end_time": "2021-07-06T21:21:47.606815Z",
     "start_time": "2021-07-06T21:16:53.575Z"
    }
   },
   "outputs": [],
   "source": [
    "submission = pd.read_csv(\"../input/google-smartphone-decimeter-challenge/sample_submission.csv\")\n",
    "submission = submission[['phone', 'millisSinceGpsEpoch']]"
   ]
  },
  {
   "cell_type": "code",
   "execution_count": null,
   "metadata": {
    "ExecuteTime": {
     "end_time": "2021-07-06T21:21:47.607815Z",
     "start_time": "2021-07-06T21:16:53.576Z"
    }
   },
   "outputs": [],
   "source": [
    "result, _, _, _, _ =  evaluate(df_test, qgain*q_, rgain*r_, get_score=False)\n",
    "result = result[['phone', 'millisSinceGpsEpoch', 'latDeg', 'lngDeg']]\n",
    "submission = submission.merge(result, on = ['phone', 'millisSinceGpsEpoch'])"
   ]
  },
  {
   "cell_type": "code",
   "execution_count": null,
   "metadata": {
    "ExecuteTime": {
     "end_time": "2021-07-06T21:21:47.607815Z",
     "start_time": "2021-07-06T21:16:53.577Z"
    }
   },
   "outputs": [],
   "source": [
    "submission.to_csv(f\"./models/{'ComplexKalmanFilter1'}/result-{4}result.csv\", index = False)"
   ]
  }
 ],
 "metadata": {
  "hide_input": false,
  "kernelspec": {
   "display_name": "torch",
   "language": "python",
   "name": "torch"
  },
  "language_info": {
   "codemirror_mode": {
    "name": "ipython",
    "version": 3
   },
   "file_extension": ".py",
   "mimetype": "text/x-python",
   "name": "python",
   "nbconvert_exporter": "python",
   "pygments_lexer": "ipython3",
   "version": "3.6.12"
  },
  "latex_envs": {
   "LaTeX_envs_menu_present": true,
   "autoclose": false,
   "autocomplete": true,
   "bibliofile": "biblio.bib",
   "cite_by": "apalike",
   "current_citInitial": 1,
   "eqLabelWithNumbers": true,
   "eqNumInitial": 1,
   "hotkeys": {
    "equation": "Ctrl-E",
    "itemize": "Ctrl-I"
   },
   "labels_anchors": false,
   "latex_user_defs": false,
   "report_style_numbering": false,
   "user_envs_cfg": false
  },
  "toc": {
   "base_numbering": 1,
   "nav_menu": {},
   "number_sections": true,
   "sideBar": true,
   "skip_h1_title": false,
   "title_cell": "Table of Contents",
   "title_sidebar": "Contents",
   "toc_cell": false,
   "toc_position": {},
   "toc_section_display": true,
   "toc_window_display": false
  },
  "varInspector": {
   "cols": {
    "lenName": 16,
    "lenType": 16,
    "lenVar": 40
   },
   "kernels_config": {
    "python": {
     "delete_cmd_postfix": "",
     "delete_cmd_prefix": "del ",
     "library": "var_list.py",
     "varRefreshCmd": "print(var_dic_list())"
    },
    "r": {
     "delete_cmd_postfix": ") ",
     "delete_cmd_prefix": "rm(",
     "library": "var_list.r",
     "varRefreshCmd": "cat(var_dic_list()) "
    }
   },
   "types_to_exclude": [
    "module",
    "function",
    "builtin_function_or_method",
    "instance",
    "_Feature"
   ],
   "window_display": false
  }
 },
 "nbformat": 4,
 "nbformat_minor": 4
}
