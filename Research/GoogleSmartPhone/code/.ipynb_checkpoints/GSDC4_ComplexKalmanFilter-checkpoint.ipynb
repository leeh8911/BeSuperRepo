{
 "cells": [
  {
   "cell_type": "markdown",
   "metadata": {},
   "source": [
    "# Libraries\n",
    "1. [filterpy](https://filterpy.readthedocs.io/en/latest/kalman/UnscentedKalmanFilter.html)"
   ]
  },
  {
   "cell_type": "code",
   "execution_count": 154,
   "metadata": {
    "ExecuteTime": {
     "end_time": "2021-07-06T01:25:30.876495Z",
     "start_time": "2021-07-06T01:25:30.476495Z"
    }
   },
   "outputs": [],
   "source": [
    "import numpy as np\n",
    "import pandas as pd\n",
    "import random\n",
    "from glob import glob\n",
    "import os\n",
    "import matplotlib.pyplot as plt\n",
    "from tqdm.notebook import tqdm\n",
    "from pathlib import Path\n",
    "import plotly.express as px\n",
    "import seaborn as sns\n",
    "\n",
    "import geopy\n",
    "import pymap3d as pm\n",
    "from filterpy.kalman import UnscentedKalmanFilter, MerweScaledSigmaPoints\n",
    "\n",
    "import torch\n",
    "import torch.nn as nn\n",
    "import torch.nn.functional as F\n",
    "import torch.optim as optim\n",
    "from torch.utils.data import TensorDataset, DataLoader\n",
    "import torchsummary\n",
    "from sklearn.model_selection import train_test_split\n",
    "from sklearn.preprocessing import StandardScaler, MinMaxScaler\n",
    "\n",
    "import warnings\n",
    "warnings.filterwarnings(action='ignore')"
   ]
  },
  {
   "cell_type": "markdown",
   "metadata": {},
   "source": [
    "# Hyper Parameters"
   ]
  },
  {
   "cell_type": "code",
   "execution_count": 11,
   "metadata": {
    "ExecuteTime": {
     "end_time": "2021-07-05T21:11:25.951331Z",
     "start_time": "2021-07-05T21:11:25.936333Z"
    }
   },
   "outputs": [],
   "source": [
    "SEED = 1990\n",
    "random.seed(SEED)\n",
    "np.random.seed(SEED)"
   ]
  },
  {
   "cell_type": "code",
   "execution_count": 101,
   "metadata": {
    "ExecuteTime": {
     "end_time": "2021-07-05T22:29:24.488337Z",
     "start_time": "2021-07-05T22:29:24.474336Z"
    }
   },
   "outputs": [],
   "source": [
    "q = np.array([1,1,1,1,1])\n",
    "r = np.array([1,1,1,1])"
   ]
  },
  {
   "cell_type": "markdown",
   "metadata": {},
   "source": [
    "# Useful functions"
   ]
  },
  {
   "cell_type": "code",
   "execution_count": 50,
   "metadata": {
    "ExecuteTime": {
     "end_time": "2021-07-05T22:00:15.623904Z",
     "start_time": "2021-07-05T22:00:15.607911Z"
    }
   },
   "outputs": [],
   "source": [
    "def calc_haversine(lat1, lon1, lat2, lon2):\n",
    "    lat1, lon1, lat2, lon2 = map(np.radians, [lat1, lon1, lat2, lon2])\n",
    "    dlat = lat2 - lat1\n",
    "    dlon = lon2 - lon1\n",
    "    a = np.sin(dlat / 2.0)**2 + np.cos(lat1) * np.cos(lat2) * np.sin(dlon / 2.0)**2\n",
    "    \n",
    "    c = 2 * np.arcsin(a ** 0.5)\n",
    "    dist = 6_367_000 * c\n",
    "    return dist"
   ]
  },
  {
   "cell_type": "code",
   "execution_count": 55,
   "metadata": {
    "ExecuteTime": {
     "end_time": "2021-07-05T22:03:26.436671Z",
     "start_time": "2021-07-05T22:03:26.430661Z"
    }
   },
   "outputs": [],
   "source": [
    "def check_score(input_df: pd.DataFrame) -> pd.DataFrame:\n",
    "    output_df = input_df.copy()\n",
    "    \n",
    "    output_df['meter'] = input_df.apply(\n",
    "        lambda r: calc_haversine(\n",
    "            r.latDeg, r.lngDeg, r.t_latDeg, r.t_lngDeg\n",
    "        ),\n",
    "        axis=1\n",
    "    )\n",
    "\n",
    "    meter_score = output_df['meter'].mean()\n",
    "\n",
    "    scores = []\n",
    "    for phone in output_df['phone'].unique():\n",
    "        _index = output_df['phone']==phone\n",
    "        p_50 = np.percentile(output_df.loc[_index, 'meter'], 50)\n",
    "        p_95 = np.percentile(output_df.loc[_index, 'meter'], 95)\n",
    "        scores.append(p_50)\n",
    "        scores.append(p_95)\n",
    "\n",
    "    score = sum(scores) / len(scores)\n",
    "    \n",
    "    return output_df, meter_score , score"
   ]
  },
  {
   "cell_type": "code",
   "execution_count": 8,
   "metadata": {
    "ExecuteTime": {
     "end_time": "2021-07-05T21:09:31.273154Z",
     "start_time": "2021-07-05T21:09:31.263164Z"
    }
   },
   "outputs": [],
   "source": [
    "ell_wgs84 = pm.Ellipsoid()\n",
    "def calc_geo2enu(df:pd.DataFrame)->pd.DataFrame:\n",
    "    output = df.copy()\n",
    "    llh = np.array(df[['latDeg', 'lngDeg', 'heightAboveWgs84EllipsoidM']])\n",
    "    denu = pm.geodetic2enu(llh[:,0], llh[:,1], llh[:,2], llh[0,0], llh[0,1], llh[0,2], ell=ell_wgs84)\n",
    "    output['x'] = denu[0]\n",
    "    output['y'] = denu[1]\n",
    "    output['z'] = denu[2]\n",
    "    \n",
    "    return output\n",
    "\n",
    "def calc_enu2geo(df:pd.DataFrame)->pd.DataFrame:\n",
    "    output = df.copy()\n",
    "    enu = np.array(df[['x', 'y', 'z']])\n",
    "    llh = np.array(df[['latDeg', 'lngDeg', 'heightAboveWgs84EllipsoidM']])\n",
    "    geo = pm.enu2geodetic(enu[:,0], enu[:,1], enu[:,2], llh[0,0], llh[0,1], llh[0,2], ell=ell_wgs84, deg = True)\n",
    "    output['latDeg'] = geo[0]\n",
    "    output['lngDeg'] = geo[1]\n",
    "    output['heightAboveWgs84EllipsoidM'] = geo[2]\n",
    "    \n",
    "    return output"
   ]
  },
  {
   "cell_type": "markdown",
   "metadata": {},
   "source": [
    "# Data"
   ]
  },
  {
   "cell_type": "code",
   "execution_count": 4,
   "metadata": {
    "ExecuteTime": {
     "end_time": "2021-07-05T21:04:47.923668Z",
     "start_time": "2021-07-05T21:04:47.710671Z"
    }
   },
   "outputs": [],
   "source": [
    "data_dir = Path(\"../input/google-smartphone-decimeter-challenge\")\n",
    "df_train = pd.read_pickle(str(data_dir / \"gsdc_extract_train.pkl.gzip\"))\n",
    "df_test = pd.read_pickle(str(data_dir / \"gsdc_extract_test.pkl.gzip\"))"
   ]
  },
  {
   "cell_type": "code",
   "execution_count": 14,
   "metadata": {
    "ExecuteTime": {
     "end_time": "2021-07-05T21:12:53.174638Z",
     "start_time": "2021-07-05T21:12:53.108635Z"
    },
    "scrolled": true
   },
   "outputs": [
    {
     "name": "stdout",
     "output_type": "stream",
     "text": [
      "(2006, 148)\n"
     ]
    },
    {
     "data": {
      "text/html": [
       "<div>\n",
       "<style scoped>\n",
       "    .dataframe tbody tr th:only-of-type {\n",
       "        vertical-align: middle;\n",
       "    }\n",
       "\n",
       "    .dataframe tbody tr th {\n",
       "        vertical-align: top;\n",
       "    }\n",
       "\n",
       "    .dataframe thead th {\n",
       "        text-align: right;\n",
       "    }\n",
       "</style>\n",
       "<table border=\"1\" class=\"dataframe\">\n",
       "  <thead>\n",
       "    <tr style=\"text-align: right;\">\n",
       "      <th></th>\n",
       "      <th>collectionName</th>\n",
       "      <th>phoneName</th>\n",
       "      <th>millisSinceGpsEpoch</th>\n",
       "      <th>latDeg</th>\n",
       "      <th>lngDeg</th>\n",
       "      <th>heightAboveWgs84EllipsoidM</th>\n",
       "      <th>phone</th>\n",
       "      <th>timeSinceFirstFixSeconds</th>\n",
       "      <th>hDop</th>\n",
       "      <th>vDop</th>\n",
       "      <th>...</th>\n",
       "      <th>GPS_L1</th>\n",
       "      <th>GPS_L5</th>\n",
       "      <th>GAL_E1</th>\n",
       "      <th>GAL_E5A</th>\n",
       "      <th>GLO_G1</th>\n",
       "      <th>BDS_B1I</th>\n",
       "      <th>BDS_B1C</th>\n",
       "      <th>BDS_B2A</th>\n",
       "      <th>QZS_J1</th>\n",
       "      <th>QZS_J5</th>\n",
       "    </tr>\n",
       "  </thead>\n",
       "  <tbody>\n",
       "    <tr>\n",
       "      <th>0</th>\n",
       "      <td>2020-05-29-US-MTV-2</td>\n",
       "      <td>Pixel4XL</td>\n",
       "      <td>1274830058447</td>\n",
       "      <td>37.523279</td>\n",
       "      <td>-122.354322</td>\n",
       "      <td>123.38</td>\n",
       "      <td>2020-05-29-US-MTV-2_Pixel4XL</td>\n",
       "      <td>119.45</td>\n",
       "      <td>0.7</td>\n",
       "      <td>0.0</td>\n",
       "      <td>...</td>\n",
       "      <td>0</td>\n",
       "      <td>0</td>\n",
       "      <td>0</td>\n",
       "      <td>0</td>\n",
       "      <td>0</td>\n",
       "      <td>0</td>\n",
       "      <td>0</td>\n",
       "      <td>0</td>\n",
       "      <td>0</td>\n",
       "      <td>0</td>\n",
       "    </tr>\n",
       "    <tr>\n",
       "      <th>1</th>\n",
       "      <td>2020-05-29-US-MTV-2</td>\n",
       "      <td>Pixel4XL</td>\n",
       "      <td>1274830059447</td>\n",
       "      <td>37.523294</td>\n",
       "      <td>-122.354297</td>\n",
       "      <td>123.25</td>\n",
       "      <td>2020-05-29-US-MTV-2_Pixel4XL</td>\n",
       "      <td>120.45</td>\n",
       "      <td>0.7</td>\n",
       "      <td>0.0</td>\n",
       "      <td>...</td>\n",
       "      <td>0</td>\n",
       "      <td>0</td>\n",
       "      <td>0</td>\n",
       "      <td>0</td>\n",
       "      <td>0</td>\n",
       "      <td>0</td>\n",
       "      <td>0</td>\n",
       "      <td>0</td>\n",
       "      <td>0</td>\n",
       "      <td>0</td>\n",
       "    </tr>\n",
       "    <tr>\n",
       "      <th>2</th>\n",
       "      <td>2020-05-29-US-MTV-2</td>\n",
       "      <td>Pixel4XL</td>\n",
       "      <td>1274830060447</td>\n",
       "      <td>37.523292</td>\n",
       "      <td>-122.354306</td>\n",
       "      <td>121.67</td>\n",
       "      <td>2020-05-29-US-MTV-2_Pixel4XL</td>\n",
       "      <td>121.45</td>\n",
       "      <td>0.7</td>\n",
       "      <td>0.0</td>\n",
       "      <td>...</td>\n",
       "      <td>0</td>\n",
       "      <td>0</td>\n",
       "      <td>0</td>\n",
       "      <td>0</td>\n",
       "      <td>0</td>\n",
       "      <td>0</td>\n",
       "      <td>0</td>\n",
       "      <td>0</td>\n",
       "      <td>0</td>\n",
       "      <td>0</td>\n",
       "    </tr>\n",
       "    <tr>\n",
       "      <th>3</th>\n",
       "      <td>2020-05-29-US-MTV-2</td>\n",
       "      <td>Pixel4XL</td>\n",
       "      <td>1274830061447</td>\n",
       "      <td>37.523278</td>\n",
       "      <td>-122.354304</td>\n",
       "      <td>125.03</td>\n",
       "      <td>2020-05-29-US-MTV-2_Pixel4XL</td>\n",
       "      <td>122.45</td>\n",
       "      <td>0.7</td>\n",
       "      <td>0.0</td>\n",
       "      <td>...</td>\n",
       "      <td>0</td>\n",
       "      <td>0</td>\n",
       "      <td>0</td>\n",
       "      <td>0</td>\n",
       "      <td>0</td>\n",
       "      <td>0</td>\n",
       "      <td>0</td>\n",
       "      <td>0</td>\n",
       "      <td>0</td>\n",
       "      <td>0</td>\n",
       "    </tr>\n",
       "    <tr>\n",
       "      <th>4</th>\n",
       "      <td>2020-05-29-US-MTV-2</td>\n",
       "      <td>Pixel4XL</td>\n",
       "      <td>1274830062447</td>\n",
       "      <td>37.523281</td>\n",
       "      <td>-122.354304</td>\n",
       "      <td>125.47</td>\n",
       "      <td>2020-05-29-US-MTV-2_Pixel4XL</td>\n",
       "      <td>123.45</td>\n",
       "      <td>0.7</td>\n",
       "      <td>0.0</td>\n",
       "      <td>...</td>\n",
       "      <td>0</td>\n",
       "      <td>0</td>\n",
       "      <td>0</td>\n",
       "      <td>0</td>\n",
       "      <td>0</td>\n",
       "      <td>0</td>\n",
       "      <td>0</td>\n",
       "      <td>0</td>\n",
       "      <td>0</td>\n",
       "      <td>0</td>\n",
       "    </tr>\n",
       "  </tbody>\n",
       "</table>\n",
       "<p>5 rows × 148 columns</p>\n",
       "</div>"
      ],
      "text/plain": [
       "        collectionName phoneName  millisSinceGpsEpoch     latDeg      lngDeg  \\\n",
       "0  2020-05-29-US-MTV-2  Pixel4XL        1274830058447  37.523279 -122.354322   \n",
       "1  2020-05-29-US-MTV-2  Pixel4XL        1274830059447  37.523294 -122.354297   \n",
       "2  2020-05-29-US-MTV-2  Pixel4XL        1274830060447  37.523292 -122.354306   \n",
       "3  2020-05-29-US-MTV-2  Pixel4XL        1274830061447  37.523278 -122.354304   \n",
       "4  2020-05-29-US-MTV-2  Pixel4XL        1274830062447  37.523281 -122.354304   \n",
       "\n",
       "   heightAboveWgs84EllipsoidM                         phone  \\\n",
       "0                      123.38  2020-05-29-US-MTV-2_Pixel4XL   \n",
       "1                      123.25  2020-05-29-US-MTV-2_Pixel4XL   \n",
       "2                      121.67  2020-05-29-US-MTV-2_Pixel4XL   \n",
       "3                      125.03  2020-05-29-US-MTV-2_Pixel4XL   \n",
       "4                      125.47  2020-05-29-US-MTV-2_Pixel4XL   \n",
       "\n",
       "   timeSinceFirstFixSeconds  hDop  vDop  ...  GPS_L1  GPS_L5  GAL_E1  GAL_E5A  \\\n",
       "0                    119.45   0.7   0.0  ...       0       0       0        0   \n",
       "1                    120.45   0.7   0.0  ...       0       0       0        0   \n",
       "2                    121.45   0.7   0.0  ...       0       0       0        0   \n",
       "3                    122.45   0.7   0.0  ...       0       0       0        0   \n",
       "4                    123.45   0.7   0.0  ...       0       0       0        0   \n",
       "\n",
       "   GLO_G1  BDS_B1I  BDS_B1C BDS_B2A  QZS_J1  QZS_J5  \n",
       "0       0        0        0       0       0       0  \n",
       "1       0        0        0       0       0       0  \n",
       "2       0        0        0       0       0       0  \n",
       "3       0        0        0       0       0       0  \n",
       "4       0        0        0       0       0       0  \n",
       "\n",
       "[5 rows x 148 columns]"
      ]
     },
     "execution_count": 14,
     "metadata": {},
     "output_type": "execute_result"
    }
   ],
   "source": [
    "phones = df_train['phone'].unique()\n",
    "phone = phones[random.randint(0, len(phones))]\n",
    "df_sample = df_train[df_train['phone'] == phone].copy().reset_index().drop(columns = ['index'])\n",
    "print(df_sample.shape)\n",
    "df_sample.head()"
   ]
  },
  {
   "cell_type": "code",
   "execution_count": 24,
   "metadata": {
    "ExecuteTime": {
     "end_time": "2021-07-05T21:43:15.371570Z",
     "start_time": "2021-07-05T21:43:15.345581Z"
    },
    "scrolled": true
   },
   "outputs": [
    {
     "name": "stdout",
     "output_type": "stream",
     "text": [
      "collectionName\n",
      "phoneName\n",
      "millisSinceGpsEpoch\n",
      "latDeg\n",
      "lngDeg\n",
      "heightAboveWgs84EllipsoidM\n",
      "phone\n",
      "timeSinceFirstFixSeconds\n",
      "hDop\n",
      "vDop\n",
      "speedMps\n",
      "courseDegree\n",
      "t_latDeg\n",
      "t_lngDeg\n",
      "t_heightAboveWgs84EllipsoidM\n",
      "constellationType\n",
      "svid\n",
      "signalType\n",
      "receivedSvTimeInGpsNanos\n",
      "xSatPosM\n",
      "ySatPosM\n",
      "zSatPosM\n",
      "xSatVelMps\n",
      "ySatVelMps\n",
      "zSatVelMps\n",
      "satClkBiasM\n",
      "satClkDriftMps\n",
      "rawPrM\n",
      "rawPrUncM\n",
      "isrbM\n",
      "ionoDelayM\n",
      "tropoDelayM\n",
      "utcTimeMillis\n",
      "elapsedRealtimeNanos\n",
      "yawDeg\n",
      "rollDeg\n",
      "pitchDeg\n",
      "utcTimeMillis_Status\n",
      "SignalCount\n",
      "SignalIndex\n",
      "ConstellationType\n",
      "Svid\n",
      "CarrierFrequencyHz\n",
      "Cn0DbHz\n",
      "AzimuthDegrees\n",
      "ElevationDegrees\n",
      "UsedInFix\n",
      "HasAlmanacData\n",
      "HasEphemerisData\n",
      "BasebandCn0DbHz\n",
      "utcTimeMillis_UncalMag\n",
      "elapsedRealtimeNanos_UncalMag\n",
      "UncalMagXMicroT\n",
      "UncalMagYMicroT\n",
      "UncalMagZMicroT\n",
      "BiasXMicroT\n",
      "BiasYMicroT\n",
      "BiasZMicroT\n",
      "utcTimeMillis_UncalAccel\n",
      "elapsedRealtimeNanos_UncalAccel\n",
      "UncalAccelXMps2\n",
      "UncalAccelYMps2\n",
      "UncalAccelZMps2\n",
      "BiasXMps2\n",
      "BiasYMps2\n",
      "BiasZMps2\n",
      "utcTimeMillis_UncalGyro\n",
      "elapsedRealtimeNanos_UncalGyro\n",
      "UncalGyroXRadPerSec\n",
      "UncalGyroYRadPerSec\n",
      "UncalGyroZRadPerSec\n",
      "DriftXRadPerSec\n",
      "DriftYRadPerSec\n",
      "DriftZRadPerSec\n",
      "utcTimeMillis_Raw\n",
      "TimeNanos\n",
      "LeapSecond\n",
      "FullBiasNanos\n",
      "BiasNanos\n",
      "BiasUncertaintyNanos\n",
      "DriftNanosPerSecond\n",
      "DriftUncertaintyNanosPerSecond\n",
      "HardwareClockDiscontinuityCount\n",
      "Svid_Raw\n",
      "TimeOffsetNanos\n",
      "State\n",
      "ReceivedSvTimeNanos\n",
      "ReceivedSvTimeUncertaintyNanos\n",
      "Cn0DbHz_Raw\n",
      "PseudorangeRateMetersPerSecond\n",
      "PseudorangeRateUncertaintyMetersPerSecond\n",
      "AccumulatedDeltaRangeState\n",
      "AccumulatedDeltaRangeMeters\n",
      "AccumulatedDeltaRangeUncertaintyMeters\n",
      "CarrierFrequencyHz_Raw\n",
      "MultipathIndicator\n",
      "ConstellationType_Raw\n",
      "AgcDb\n",
      "BasebandCn0DbHz_Raw\n",
      "FullInterSignalBiasNanos\n",
      "FullInterSignalBiasUncertaintyNanos\n",
      "SatelliteInterSignalBiasNanos\n",
      "SatelliteInterSignalBiasUncertaintyNanos\n",
      "CodeType\n",
      "ChipsetElapsedRealtimeNanos\n",
      "dlatDeg\n",
      "dlngDeg\n",
      "dheight\n",
      "dlatDeg_Scaled\n",
      "dlngDeg_Scaled\n",
      "dheight_Scaled\n",
      "xSatPosM_Scaled\n",
      "ySatPosM_Scaled\n",
      "zSatPosM_Scaled\n",
      "xSatVelMps_Scaled\n",
      "ySatVelMps_Scaled\n",
      "zSatVelMps_Scaled\n",
      "UncalGyroXRadPerSec_Scaled\n",
      "UncalGyroYRadPerSec_Scaled\n",
      "UncalGyroZRadPerSec_Scaled\n",
      "DriftXRadPerSec_Scaled\n",
      "DriftYRadPerSec_Scaled\n",
      "DriftZRadPerSec_Scaled\n",
      "UncalAccelXMps2_Scaled\n",
      "UncalAccelYMps2_Scaled\n",
      "UncalAccelZMps2_Scaled\n",
      "BiasXMps2_Scaled\n",
      "BiasYMps2_Scaled\n",
      "BiasZMps2_Scaled\n",
      "UncalMagXMicroT_Scaled\n",
      "UncalMagYMicroT_Scaled\n",
      "UncalMagZMicroT_Scaled\n",
      "BiasXMicroT_Scaled\n",
      "BiasYMicroT_Scaled\n",
      "BiasZMicroT_Scaled\n",
      "yawDeg_Scaled\n",
      "rollDeg_Scaled\n",
      "pitchDeg_Scaled\n",
      "GPS_L1\n",
      "GPS_L5\n",
      "GAL_E1\n",
      "GAL_E5A\n",
      "GLO_G1\n",
      "BDS_B1I\n",
      "BDS_B1C\n",
      "BDS_B2A\n",
      "QZS_J1\n",
      "QZS_J5\n"
     ]
    }
   ],
   "source": [
    "for col in df_train.columns:\n",
    "    print(col)"
   ]
  },
  {
   "cell_type": "markdown",
   "metadata": {},
   "source": [
    "## Model Define\n",
    "$$\n",
    "\\begin{matrix}\n",
    "x_t =& x_{t-1} + \\frac{v_{t-1}}{w_{t-1}}\\left({\\sin}\\left({\\omega}_{t-1}dt + {\\theta}_{t-1}\\right) - {\\sin}\\left({\\theta}\\right)\\right)\\\\\n",
    "y_t =& y_{t-1} + \\frac{v_{t-1}}{w_{t-1}}\\left({\\cos}\\left({\\theta}_{t-1}\\right) - {\\cos}\\left({\\omega}_{t-1}dt + {\\theta}_{t-1}\\right)\\right)\\\\\n",
    "v_t =& v_{t-1}\\\\\n",
    "{\\theta}_t =& {\\theta}_{t-1} + {\\omega}_{t-1}dt\\\\\n",
    "{\\omega}_t =& {\\omega}_{t-1}\n",
    "\\end{matrix}\n",
    "$$"
   ]
  },
  {
   "cell_type": "code",
   "execution_count": 87,
   "metadata": {
    "ExecuteTime": {
     "end_time": "2021-07-05T22:25:37.101381Z",
     "start_time": "2021-07-05T22:25:37.090392Z"
    }
   },
   "outputs": [],
   "source": [
    "def fx(x, dt):\n",
    "    xout = np.zeros_like(x)\n",
    "    if abs(x[4]) > 1e-3:\n",
    "        xout[0] = x[0] + x[2]/x[4] * (np.sin(x[4] * dt + x[3]) - np.sin(x[3]))\n",
    "        xout[1] = x[1] + x[2]/x[4] * (np.cos(x[3]) - np.cos(x[4] * dt + x[3]))\n",
    "        xout[2] = x[2]\n",
    "        xout[3] = x[3] + x[4] * dt\n",
    "        xout[4] = x[4]\n",
    "    else:\n",
    "        xout[0] = x[0] + x[2] * dt * (np.cos(x[3]))\n",
    "        xout[1] = x[1] + x[2] * dt * (np.sin(x[3]))\n",
    "        xout[2] = x[2]\n",
    "        xout[3] = x[3] + x[4] * dt\n",
    "        xout[4] = x[4]\n",
    "        \n",
    "    return xout"
   ]
  },
  {
   "cell_type": "code",
   "execution_count": 105,
   "metadata": {
    "ExecuteTime": {
     "end_time": "2021-07-05T22:34:31.765924Z",
     "start_time": "2021-07-05T22:34:31.753915Z"
    },
    "scrolled": true
   },
   "outputs": [],
   "source": [
    "def batch_filter(df, q_, r_):\n",
    "    df1 = calc_geo2enu(df)\n",
    "    df1['yawRad'] = np.deg2rad(df1['yawDeg'])\n",
    "    \n",
    "    \n",
    "    features = ['x', 'y']\n",
    "    index = [0, 1]\n",
    "    rindex = [0, 1]\n",
    "    if df1['yawDeg'].isna().mean() == 1 or df1['yawDeg'].mean() == 0:\n",
    "        pass\n",
    "    else:\n",
    "        features += ['yawRad']\n",
    "        index += [3]\n",
    "        rindex+= [2]\n",
    "    if df1['UncalGyroZRadPerSec'].isna().mean() == 1 or df1['UncalGyroZRadPerSec'].mean() == 0:\n",
    "        pass\n",
    "    else:\n",
    "        features += ['UncalGyroZRadPerSec']\n",
    "        index += [4]\n",
    "        rindex+= [3]\n",
    "    \n",
    "    q = q_\n",
    "    r = r_[rindex]\n",
    "    meas = df1[features]\n",
    "    meas = meas.fillna(0)\n",
    "    h = lambda x:x[index]\n",
    "    \n",
    "    points = MerweScaledSigmaPoints(5, alpha = .1, beta = 2., kappa = -1)\n",
    "    kf = UnscentedKalmanFilter(dim_x = 5, dim_z = len(features), dt = 1, fx = fx, hx = h, points = points)\n",
    "    kf.Q = np.diag(q)\n",
    "    kf.R = np.diag(r)\n",
    "    \n",
    "    mu, cov = kf.batch_filter(meas.values)\n",
    "    (xs, Ps, Ks) = kf.rts_smoother(mu, cov)\n",
    "    df2 = df1.copy()\n",
    "    df2['x'] = xs[:,0]\n",
    "    df2['y'] = xs[:,1]\n",
    "    df2['yawDeg'] = np.rad2deg(xs[:,2])\n",
    "    df2['UncalGyroZRadPerSec'] = xs[:,3]\n",
    "    df3 = calc_enu2geo(df2)\n",
    "    return df3"
   ]
  },
  {
   "cell_type": "code",
   "execution_count": 193,
   "metadata": {
    "ExecuteTime": {
     "end_time": "2021-07-06T01:42:06.342140Z",
     "start_time": "2021-07-06T01:42:06.179091Z"
    }
   },
   "outputs": [
    {
     "data": {
      "application/vnd.jupyter.widget-view+json": {
       "model_id": "cd1e5b33cd80453c9b705f81f04037d2",
       "version_major": 2,
       "version_minor": 0
      },
      "text/plain": [
       "  0%|          | 0/73 [00:00<?, ?it/s]"
      ]
     },
     "metadata": {},
     "output_type": "display_data"
    },
    {
     "ename": "TypeError",
     "evalue": "string indices must be integers",
     "output_type": "error",
     "traceback": [
      "\u001b[1;31m---------------------------------------------------------------------------\u001b[0m",
      "\u001b[1;31mTypeError\u001b[0m                                 Traceback (most recent call last)",
      "\u001b[1;32m<ipython-input-193-e7b065caa436>\u001b[0m in \u001b[0;36m<module>\u001b[1;34m\u001b[0m\n\u001b[0;32m     18\u001b[0m     \u001b[1;32mreturn\u001b[0m \u001b[0moutput\u001b[0m\u001b[1;33m,\u001b[0m \u001b[0mmean_before\u001b[0m\u001b[1;33m,\u001b[0m \u001b[0mscore_before\u001b[0m\u001b[1;33m,\u001b[0m \u001b[0mmean_after\u001b[0m\u001b[1;33m,\u001b[0m \u001b[0mscore_after\u001b[0m\u001b[1;33m\u001b[0m\u001b[1;33m\u001b[0m\u001b[0m\n\u001b[0;32m     19\u001b[0m \u001b[1;33m\u001b[0m\u001b[0m\n\u001b[1;32m---> 20\u001b[1;33m \u001b[0m_\u001b[0m\u001b[1;33m,\u001b[0m \u001b[0mmean_before\u001b[0m\u001b[1;33m,\u001b[0m \u001b[0mscore_before\u001b[0m\u001b[1;33m,\u001b[0m \u001b[0mmean_after\u001b[0m\u001b[1;33m,\u001b[0m \u001b[0mscore_after\u001b[0m \u001b[1;33m=\u001b[0m \u001b[0mevaluate\u001b[0m\u001b[1;33m(\u001b[0m\u001b[0mdf_train\u001b[0m\u001b[1;33m,\u001b[0m \u001b[0mq\u001b[0m\u001b[1;33m,\u001b[0m \u001b[0mr\u001b[0m\u001b[1;33m)\u001b[0m\u001b[1;33m\u001b[0m\u001b[1;33m\u001b[0m\u001b[0m\n\u001b[0m\u001b[0;32m     21\u001b[0m \u001b[0mprint\u001b[0m\u001b[1;33m(\u001b[0m\u001b[0mmean_before\u001b[0m\u001b[1;33m,\u001b[0m \u001b[0mscore_before\u001b[0m\u001b[1;33m,\u001b[0m \u001b[0mmean_after\u001b[0m\u001b[1;33m,\u001b[0m \u001b[0mscore_after\u001b[0m\u001b[1;33m)\u001b[0m\u001b[1;33m\u001b[0m\u001b[1;33m\u001b[0m\u001b[0m\n",
      "\u001b[1;32m<ipython-input-193-e7b065caa436>\u001b[0m in \u001b[0;36mevaluate\u001b[1;34m(df, q_, r_, get_score)\u001b[0m\n\u001b[0;32m      7\u001b[0m     \u001b[1;32mfor\u001b[0m \u001b[0mphone\u001b[0m \u001b[1;32min\u001b[0m \u001b[0mtqdm\u001b[0m\u001b[1;33m(\u001b[0m\u001b[0mdf\u001b[0m\u001b[1;33m[\u001b[0m\u001b[1;34m'phone'\u001b[0m\u001b[1;33m]\u001b[0m\u001b[1;33m.\u001b[0m\u001b[0munique\u001b[0m\u001b[1;33m(\u001b[0m\u001b[1;33m)\u001b[0m\u001b[1;33m)\u001b[0m\u001b[1;33m:\u001b[0m\u001b[1;33m\u001b[0m\u001b[1;33m\u001b[0m\u001b[0m\n\u001b[0;32m      8\u001b[0m         \u001b[0mdf1\u001b[0m \u001b[1;33m=\u001b[0m \u001b[0mdf\u001b[0m\u001b[1;33m[\u001b[0m\u001b[0mdf\u001b[0m\u001b[1;33m[\u001b[0m\u001b[1;34m'phone'\u001b[0m\u001b[1;33m]\u001b[0m \u001b[1;33m==\u001b[0m \u001b[0mphone\u001b[0m\u001b[1;33m]\u001b[0m\u001b[1;33m.\u001b[0m\u001b[0mcopy\u001b[0m\u001b[1;33m(\u001b[0m\u001b[1;33m)\u001b[0m\u001b[1;33m\u001b[0m\u001b[1;33m\u001b[0m\u001b[0m\n\u001b[1;32m----> 9\u001b[1;33m         \u001b[0mdf2\u001b[0m \u001b[1;33m=\u001b[0m \u001b[0mbatch_filter\u001b[0m\u001b[1;33m(\u001b[0m\u001b[0mdf1\u001b[0m\u001b[1;33m,\u001b[0m \u001b[0mq_\u001b[0m\u001b[1;33m,\u001b[0m \u001b[0mr_\u001b[0m\u001b[1;33m)\u001b[0m\u001b[1;33m\u001b[0m\u001b[1;33m\u001b[0m\u001b[0m\n\u001b[0m\u001b[0;32m     10\u001b[0m         \u001b[0mdf_list\u001b[0m\u001b[1;33m.\u001b[0m\u001b[0mappend\u001b[0m\u001b[1;33m(\u001b[0m\u001b[0mdf2\u001b[0m\u001b[1;33m[\u001b[0m\u001b[1;33m[\u001b[0m\u001b[1;34m'phone'\u001b[0m\u001b[1;33m,\u001b[0m \u001b[1;34m'millisSinceGpsEpoch'\u001b[0m\u001b[1;33m,\u001b[0m \u001b[1;34m'latDeg'\u001b[0m\u001b[1;33m,\u001b[0m \u001b[1;34m'lngDeg'\u001b[0m\u001b[1;33m]\u001b[0m\u001b[1;33m]\u001b[0m\u001b[1;33m)\u001b[0m\u001b[1;33m\u001b[0m\u001b[1;33m\u001b[0m\u001b[0m\n\u001b[0;32m     11\u001b[0m     \u001b[0mdf3\u001b[0m \u001b[1;33m=\u001b[0m \u001b[0mpd\u001b[0m\u001b[1;33m.\u001b[0m\u001b[0mconcat\u001b[0m\u001b[1;33m(\u001b[0m\u001b[0mdf_list\u001b[0m\u001b[1;33m)\u001b[0m\u001b[1;33m\u001b[0m\u001b[1;33m\u001b[0m\u001b[0m\n",
      "\u001b[1;32m<ipython-input-105-cd272c751283>\u001b[0m in \u001b[0;36mbatch_filter\u001b[1;34m(df, q_, r_)\u001b[0m\n\u001b[0;32m     21\u001b[0m \u001b[1;33m\u001b[0m\u001b[0m\n\u001b[0;32m     22\u001b[0m     \u001b[0mq\u001b[0m \u001b[1;33m=\u001b[0m \u001b[0mq_\u001b[0m\u001b[1;33m\u001b[0m\u001b[1;33m\u001b[0m\u001b[0m\n\u001b[1;32m---> 23\u001b[1;33m     \u001b[0mr\u001b[0m \u001b[1;33m=\u001b[0m \u001b[0mr_\u001b[0m\u001b[1;33m[\u001b[0m\u001b[0mrindex\u001b[0m\u001b[1;33m]\u001b[0m\u001b[1;33m\u001b[0m\u001b[1;33m\u001b[0m\u001b[0m\n\u001b[0m\u001b[0;32m     24\u001b[0m     \u001b[0mmeas\u001b[0m \u001b[1;33m=\u001b[0m \u001b[0mdf1\u001b[0m\u001b[1;33m[\u001b[0m\u001b[0mfeatures\u001b[0m\u001b[1;33m]\u001b[0m\u001b[1;33m\u001b[0m\u001b[1;33m\u001b[0m\u001b[0m\n\u001b[0;32m     25\u001b[0m     \u001b[0mmeas\u001b[0m \u001b[1;33m=\u001b[0m \u001b[0mmeas\u001b[0m\u001b[1;33m.\u001b[0m\u001b[0mfillna\u001b[0m\u001b[1;33m(\u001b[0m\u001b[1;36m0\u001b[0m\u001b[1;33m)\u001b[0m\u001b[1;33m\u001b[0m\u001b[1;33m\u001b[0m\u001b[0m\n",
      "\u001b[1;31mTypeError\u001b[0m: string indices must be integers"
     ]
    }
   ],
   "source": [
    "def evaluate(df, q_, r_, get_score = True):\n",
    "    output = df.copy()\n",
    "    mean_before, score_before, mean_after, score_after =0, 0, 0, 0\n",
    "    output.drop(columns = ['latDeg', 'lngDeg'], inplace = True)\n",
    "    df_list = []\n",
    "    \n",
    "    for phone in tqdm(df['phone'].unique()):\n",
    "        df1 = df[df['phone'] == phone].copy()\n",
    "        df2 = batch_filter(df1, q_, r_)\n",
    "        df_list.append(df2[['phone', 'millisSinceGpsEpoch', 'latDeg', 'lngDeg']])\n",
    "    df3 = pd.concat(df_list)\n",
    "    output = output.merge(df3, on = ['phone', 'millisSinceGpsEpoch'])\n",
    "\n",
    "    if get_score:\n",
    "        _, mean_before, score_before = check_score(df)\n",
    "        _, mean_after, score_after = check_score(output)\n",
    "    \n",
    "    return output, mean_before, score_before, mean_after, score_after\n",
    "    \n",
    "_, mean_before, score_before, mean_after, score_after = evaluate(df_train, q, r)\n",
    "print(mean_before, score_before, mean_after, score_after)"
   ]
  },
  {
   "cell_type": "code",
   "execution_count": 113,
   "metadata": {
    "ExecuteTime": {
     "end_time": "2021-07-05T23:11:38.853465Z",
     "start_time": "2021-07-05T23:11:38.834465Z"
    }
   },
   "outputs": [],
   "source": [
    "q_gain_list = 10**np.linspace(-5, 1, 0.1)\n",
    "r_gain_list = 10**np.linspace(-5, 1, 0.1)\n",
    "\n",
    "q_ = np.array([1,1,1,1,1])\n",
    "r_ = np.array([1,1,1,1])\n",
    "\n",
    "result_list = []\n",
    "\n",
    "for q_gain in q_gain_lixst:\n",
    "    for r_gain in r_gain_list:\n",
    "        q = q_gain * q_\n",
    "        r = r_gain * r_\n",
    "        mean_before, score_before, mean_after, score_after = evaluate(df_train, q, r)\n",
    "        result_list.append([q, r, mean_after - mean_before, score_after, score_before])"
   ]
  },
  {
   "cell_type": "code",
   "execution_count": 96,
   "metadata": {
    "ExecuteTime": {
     "end_time": "2021-07-05T22:27:29.103161Z",
     "start_time": "2021-07-05T22:27:27.882172Z"
    },
    "scrolled": false
   },
   "outputs": [
    {
     "data": {
      "text/plain": [
       "[<matplotlib.lines.Line2D at 0x18719dad828>]"
      ]
     },
     "execution_count": 96,
     "metadata": {},
     "output_type": "execute_result"
    },
    {
     "data": {
      "image/png": "[encoded data removed]",
      "text/plain": [
       "<Figure size 1152x2304 with 8 Axes>"
      ]
     },
     "metadata": {
      "needs_background": "light"
     },
     "output_type": "display_data"
    }
   ],
   "source": [
    "bins = 100\n",
    "fig, axes = plt.subplots(8,1,figsize = (16,32))\n",
    "\n",
    "axes[0].plot(df_sample['latDeg'])\n",
    "axes[0].plot(df_sample_filter['latDeg'])\n",
    "\n",
    "axes[1].plot(df_sample['t_latDeg'] - df_sample['latDeg'])\n",
    "axes[1].plot(df_sample['t_latDeg'] - df_sample_filter['latDeg'])\n",
    "\n",
    "axes[2].hist(df_sample['t_latDeg'] - df_sample['latDeg'], alpha = 1/3, bins = bins)\n",
    "axes[2].hist(df_sample['t_latDeg'] - df_sample_filter['latDeg'], alpha = 1/3, bins = bins)\n",
    "\n",
    "axes[3].plot(df_sample['lngDeg'])\n",
    "axes[3].plot(df_sample_filter['lngDeg'])\n",
    "\n",
    "axes[4].plot(df_sample['t_lngDeg'] - df_sample['lngDeg'])\n",
    "axes[4].plot(df_sample['t_lngDeg'] - df_sample_filter['lngDeg'])\n",
    "\n",
    "axes[5].hist(df_sample['t_lngDeg'] - df_sample['lngDeg'], alpha = 1/3, bins = bins)\n",
    "axes[5].hist(df_sample['t_lngDeg'] - df_sample_filter['lngDeg'], alpha = 1/3, bins = bins)\n",
    "\n",
    "axes[6].plot(df_sample['yawDeg'])\n",
    "axes[6].plot(df_sample_filter['yawDeg'])\n",
    "\n",
    "axes[7].plot(df_sample['UncalGyroZRadPerSec'])\n",
    "axes[7].plot(df_sample_filter['UncalGyroZRadPerSec'])"
   ]
  },
  {
   "cell_type": "code",
   "execution_count": null,
   "metadata": {},
   "outputs": [],
   "source": []
  },
  {
   "cell_type": "code",
   "execution_count": 66,
   "metadata": {
    "ExecuteTime": {
     "end_time": "2021-07-05T22:11:13.705764Z",
     "start_time": "2021-07-05T22:10:51.685688Z"
    },
    "scrolled": true
   },
   "outputs": [
    {
     "name": "stdout",
     "output_type": "stream",
     "text": [
      "['x', 'y', 'UncalGyroZRadPerSec']\n",
      "2020-05-14-US-MTV-1_Pixel4 Result\n",
      "Before: 1.4565, 2.1006\n",
      "After : 1.4538, 2.0914\n",
      "\n",
      "['x', 'y', 'UncalGyroZRadPerSec']\n",
      "2020-05-14-US-MTV-1_Pixel4XLModded Result\n",
      "Before: 2.2339, 3.1699\n",
      "After : 2.2317, 3.1679\n",
      "\n",
      "['x', 'y', 'UncalGyroZRadPerSec']\n",
      "2020-05-14-US-MTV-2_Pixel4 Result\n",
      "Before: 1.4954, 2.0838\n",
      "After : 1.4927, 2.0795\n",
      "\n",
      "['x', 'y', 'UncalGyroZRadPerSec']\n",
      "2020-05-14-US-MTV-2_Pixel4XLModded Result\n",
      "Before: 5.0777, 7.3626\n",
      "After : 5.0754, 7.3224\n",
      "\n",
      "['x', 'y', 'UncalGyroZRadPerSec']\n",
      "2020-05-21-US-MTV-1_Pixel4 Result\n",
      "Before: 2.1822, 3.2407\n",
      "After : 2.1783, 3.2425\n",
      "\n",
      "['x', 'y', 'UncalGyroZRadPerSec']\n",
      "2020-05-21-US-MTV-2_Pixel4XL Result\n",
      "Before: 1.4370, 2.2773\n",
      "After : 1.4320, 2.2657\n",
      "\n",
      "['x', 'y', 'UncalGyroZRadPerSec']\n",
      "2020-05-21-US-MTV-2_Pixel4 Result\n",
      "Before: 1.2982, 2.1194\n",
      "After : 1.2928, 2.1142\n",
      "\n",
      "['x', 'y', 'UncalGyroZRadPerSec']\n",
      "2020-05-29-US-MTV-1_Pixel4XLModded Result\n",
      "Before: 2.4122, 3.2054\n",
      "After : 2.4039, 3.2020\n",
      "\n",
      "['x', 'y', 'UncalGyroZRadPerSec']\n",
      "2020-05-29-US-MTV-1_Pixel4 Result\n",
      "Before: 3.8450, 3.6691\n",
      "After : 3.8312, 3.6511\n",
      "\n",
      "['x', 'y', 'UncalGyroZRadPerSec']\n",
      "2020-05-29-US-MTV-1_Pixel4XL Result\n",
      "Before: 2.3070, 3.0817\n",
      "After : 2.3017, 3.0752\n",
      "\n",
      "['x', 'y', 'UncalGyroZRadPerSec']\n",
      "2020-05-29-US-MTV-2_Pixel4XL Result\n",
      "Before: 8.5446, 3.5143\n",
      "After : 8.5431, 3.5104\n",
      "\n",
      "['x', 'y', 'UncalGyroZRadPerSec']\n",
      "2020-05-29-US-MTV-2_Pixel4 Result\n",
      "Before: 8.3551, 3.5989\n",
      "After : 8.3543, 3.5978\n",
      "\n",
      "['x', 'y', 'UncalGyroZRadPerSec']\n",
      "2020-06-04-US-MTV-1_Pixel4 Result\n",
      "Before: 1.9136, 2.7105\n",
      "After : 1.9109, 2.6979\n",
      "\n",
      "['x', 'y', 'UncalGyroZRadPerSec']\n",
      "2020-06-04-US-MTV-1_Pixel4XL Result\n",
      "Before: 1.3612, 1.9794\n",
      "After : 1.3593, 1.9697\n",
      "\n",
      "['x', 'y', 'UncalGyroZRadPerSec']\n"
     ]
    },
    {
     "ename": "KeyboardInterrupt",
     "evalue": "",
     "output_type": "error",
     "traceback": [
      "\u001b[1;31m---------------------------------------------------------------------------\u001b[0m",
      "\u001b[1;31mKeyboardInterrupt\u001b[0m                         Traceback (most recent call last)",
      "\u001b[1;32m<ipython-input-66-d2d2386daf22>\u001b[0m in \u001b[0;36m<module>\u001b[1;34m\u001b[0m\n\u001b[0;32m      1\u001b[0m \u001b[1;32mfor\u001b[0m \u001b[0mphone\u001b[0m \u001b[1;32min\u001b[0m \u001b[0mphones\u001b[0m\u001b[1;33m:\u001b[0m\u001b[1;33m\u001b[0m\u001b[1;33m\u001b[0m\u001b[0m\n\u001b[0;32m      2\u001b[0m     \u001b[0mdf1\u001b[0m \u001b[1;33m=\u001b[0m \u001b[0mdf_train\u001b[0m\u001b[1;33m[\u001b[0m\u001b[0mdf_train\u001b[0m\u001b[1;33m[\u001b[0m\u001b[1;34m'phone'\u001b[0m\u001b[1;33m]\u001b[0m \u001b[1;33m==\u001b[0m \u001b[0mphone\u001b[0m\u001b[1;33m]\u001b[0m\u001b[1;33m.\u001b[0m\u001b[0mcopy\u001b[0m\u001b[1;33m(\u001b[0m\u001b[1;33m)\u001b[0m\u001b[1;33m\u001b[0m\u001b[1;33m\u001b[0m\u001b[0m\n\u001b[1;32m----> 3\u001b[1;33m     \u001b[0mdf2\u001b[0m \u001b[1;33m=\u001b[0m \u001b[0mbatch_filter\u001b[0m\u001b[1;33m(\u001b[0m\u001b[0mdf1\u001b[0m\u001b[1;33m)\u001b[0m\u001b[1;33m\u001b[0m\u001b[1;33m\u001b[0m\u001b[0m\n\u001b[0m\u001b[0;32m      4\u001b[0m     \u001b[0m_\u001b[0m\u001b[1;33m,\u001b[0m \u001b[0mres1_mean\u001b[0m \u001b[1;33m,\u001b[0m \u001b[0mres1_score\u001b[0m \u001b[1;33m=\u001b[0m \u001b[0mcheck_score\u001b[0m\u001b[1;33m(\u001b[0m\u001b[0mdf1\u001b[0m\u001b[1;33m)\u001b[0m\u001b[1;33m\u001b[0m\u001b[1;33m\u001b[0m\u001b[0m\n\u001b[0;32m      5\u001b[0m     \u001b[0m_\u001b[0m\u001b[1;33m,\u001b[0m \u001b[0mres2_mean\u001b[0m \u001b[1;33m,\u001b[0m \u001b[0mres2_score\u001b[0m \u001b[1;33m=\u001b[0m \u001b[0mcheck_score\u001b[0m\u001b[1;33m(\u001b[0m\u001b[0mdf2\u001b[0m\u001b[1;33m)\u001b[0m\u001b[1;33m\u001b[0m\u001b[1;33m\u001b[0m\u001b[0m\n",
      "\u001b[1;32m<ipython-input-64-38b10f30e2f9>\u001b[0m in \u001b[0;36mbatch_filter\u001b[1;34m(df)\u001b[0m\n\u001b[0;32m     24\u001b[0m     \u001b[0mpoints\u001b[0m \u001b[1;33m=\u001b[0m \u001b[0mMerweScaledSigmaPoints\u001b[0m\u001b[1;33m(\u001b[0m\u001b[1;36m5\u001b[0m\u001b[1;33m,\u001b[0m \u001b[0malpha\u001b[0m \u001b[1;33m=\u001b[0m \u001b[1;36m.1\u001b[0m\u001b[1;33m,\u001b[0m \u001b[0mbeta\u001b[0m \u001b[1;33m=\u001b[0m \u001b[1;36m2.\u001b[0m\u001b[1;33m,\u001b[0m \u001b[0mkappa\u001b[0m \u001b[1;33m=\u001b[0m \u001b[1;33m-\u001b[0m\u001b[1;36m1\u001b[0m\u001b[1;33m)\u001b[0m\u001b[1;33m\u001b[0m\u001b[1;33m\u001b[0m\u001b[0m\n\u001b[0;32m     25\u001b[0m     \u001b[0mkf\u001b[0m \u001b[1;33m=\u001b[0m \u001b[0mUnscentedKalmanFilter\u001b[0m\u001b[1;33m(\u001b[0m\u001b[0mdim_x\u001b[0m \u001b[1;33m=\u001b[0m \u001b[1;36m5\u001b[0m\u001b[1;33m,\u001b[0m \u001b[0mdim_z\u001b[0m \u001b[1;33m=\u001b[0m \u001b[0mlen\u001b[0m\u001b[1;33m(\u001b[0m\u001b[0mfeatures\u001b[0m\u001b[1;33m)\u001b[0m\u001b[1;33m,\u001b[0m \u001b[0mdt\u001b[0m \u001b[1;33m=\u001b[0m \u001b[1;36m1\u001b[0m\u001b[1;33m,\u001b[0m \u001b[0mfx\u001b[0m \u001b[1;33m=\u001b[0m \u001b[0mfx\u001b[0m\u001b[1;33m,\u001b[0m \u001b[0mhx\u001b[0m \u001b[1;33m=\u001b[0m \u001b[0mh\u001b[0m\u001b[1;33m,\u001b[0m \u001b[0mpoints\u001b[0m \u001b[1;33m=\u001b[0m \u001b[0mpoints\u001b[0m\u001b[1;33m)\u001b[0m\u001b[1;33m\u001b[0m\u001b[1;33m\u001b[0m\u001b[0m\n\u001b[1;32m---> 26\u001b[1;33m     \u001b[0mmu\u001b[0m\u001b[1;33m,\u001b[0m \u001b[0mcov\u001b[0m \u001b[1;33m=\u001b[0m \u001b[0mkf\u001b[0m\u001b[1;33m.\u001b[0m\u001b[0mbatch_filter\u001b[0m\u001b[1;33m(\u001b[0m\u001b[0mmeas\u001b[0m\u001b[1;33m.\u001b[0m\u001b[0mvalues\u001b[0m\u001b[1;33m)\u001b[0m\u001b[1;33m\u001b[0m\u001b[1;33m\u001b[0m\u001b[0m\n\u001b[0m\u001b[0;32m     27\u001b[0m     \u001b[1;33m(\u001b[0m\u001b[0mxs\u001b[0m\u001b[1;33m,\u001b[0m \u001b[0mPs\u001b[0m\u001b[1;33m,\u001b[0m \u001b[0mKs\u001b[0m\u001b[1;33m)\u001b[0m \u001b[1;33m=\u001b[0m \u001b[0mkf\u001b[0m\u001b[1;33m.\u001b[0m\u001b[0mrts_smoother\u001b[0m\u001b[1;33m(\u001b[0m\u001b[0mmu\u001b[0m\u001b[1;33m,\u001b[0m \u001b[0mcov\u001b[0m\u001b[1;33m)\u001b[0m\u001b[1;33m\u001b[0m\u001b[1;33m\u001b[0m\u001b[0m\n\u001b[0;32m     28\u001b[0m     \u001b[0mdf2\u001b[0m \u001b[1;33m=\u001b[0m \u001b[0mdf1\u001b[0m\u001b[1;33m.\u001b[0m\u001b[0mcopy\u001b[0m\u001b[1;33m(\u001b[0m\u001b[1;33m)\u001b[0m\u001b[1;33m\u001b[0m\u001b[1;33m\u001b[0m\u001b[0m\n",
      "\u001b[1;32mD:\\Sangwons_Room\\00_SoftWares\\Anaconda\\envs\\torch\\lib\\site-packages\\filterpy\\kalman\\UKF.py\u001b[0m in \u001b[0;36mbatch_filter\u001b[1;34m(self, zs, Rs, dts, UT, saver)\u001b[0m\n\u001b[0;32m    603\u001b[0m         \u001b[1;32mfor\u001b[0m \u001b[0mi\u001b[0m\u001b[1;33m,\u001b[0m \u001b[1;33m(\u001b[0m\u001b[0mz\u001b[0m\u001b[1;33m,\u001b[0m \u001b[0mr\u001b[0m\u001b[1;33m,\u001b[0m \u001b[0mdt\u001b[0m\u001b[1;33m)\u001b[0m \u001b[1;32min\u001b[0m \u001b[0menumerate\u001b[0m\u001b[1;33m(\u001b[0m\u001b[0mzip\u001b[0m\u001b[1;33m(\u001b[0m\u001b[0mzs\u001b[0m\u001b[1;33m,\u001b[0m \u001b[0mRs\u001b[0m\u001b[1;33m,\u001b[0m \u001b[0mdts\u001b[0m\u001b[1;33m)\u001b[0m\u001b[1;33m)\u001b[0m\u001b[1;33m:\u001b[0m\u001b[1;33m\u001b[0m\u001b[1;33m\u001b[0m\u001b[0m\n\u001b[0;32m    604\u001b[0m             \u001b[0mself\u001b[0m\u001b[1;33m.\u001b[0m\u001b[0mpredict\u001b[0m\u001b[1;33m(\u001b[0m\u001b[0mdt\u001b[0m\u001b[1;33m=\u001b[0m\u001b[0mdt\u001b[0m\u001b[1;33m,\u001b[0m \u001b[0mUT\u001b[0m\u001b[1;33m=\u001b[0m\u001b[0mUT\u001b[0m\u001b[1;33m)\u001b[0m\u001b[1;33m\u001b[0m\u001b[1;33m\u001b[0m\u001b[0m\n\u001b[1;32m--> 605\u001b[1;33m             \u001b[0mself\u001b[0m\u001b[1;33m.\u001b[0m\u001b[0mupdate\u001b[0m\u001b[1;33m(\u001b[0m\u001b[0mz\u001b[0m\u001b[1;33m,\u001b[0m \u001b[0mr\u001b[0m\u001b[1;33m,\u001b[0m \u001b[0mUT\u001b[0m\u001b[1;33m=\u001b[0m\u001b[0mUT\u001b[0m\u001b[1;33m)\u001b[0m\u001b[1;33m\u001b[0m\u001b[1;33m\u001b[0m\u001b[0m\n\u001b[0m\u001b[0;32m    606\u001b[0m             \u001b[0mmeans\u001b[0m\u001b[1;33m[\u001b[0m\u001b[0mi\u001b[0m\u001b[1;33m,\u001b[0m \u001b[1;33m:\u001b[0m\u001b[1;33m]\u001b[0m \u001b[1;33m=\u001b[0m \u001b[0mself\u001b[0m\u001b[1;33m.\u001b[0m\u001b[0mx\u001b[0m\u001b[1;33m\u001b[0m\u001b[1;33m\u001b[0m\u001b[0m\n\u001b[0;32m    607\u001b[0m             \u001b[0mcovariances\u001b[0m\u001b[1;33m[\u001b[0m\u001b[0mi\u001b[0m\u001b[1;33m,\u001b[0m \u001b[1;33m:\u001b[0m\u001b[1;33m,\u001b[0m \u001b[1;33m:\u001b[0m\u001b[1;33m]\u001b[0m \u001b[1;33m=\u001b[0m \u001b[0mself\u001b[0m\u001b[1;33m.\u001b[0m\u001b[0mP\u001b[0m\u001b[1;33m\u001b[0m\u001b[1;33m\u001b[0m\u001b[0m\n",
      "\u001b[1;32mD:\\Sangwons_Room\\00_SoftWares\\Anaconda\\envs\\torch\\lib\\site-packages\\filterpy\\kalman\\UKF.py\u001b[0m in \u001b[0;36mupdate\u001b[1;34m(self, z, R, UT, hx, **hx_args)\u001b[0m\n\u001b[0;32m    448\u001b[0m \u001b[1;33m\u001b[0m\u001b[0m\n\u001b[0;32m    449\u001b[0m         \u001b[1;31m# mean and covariance of prediction passed through unscented transform\u001b[0m\u001b[1;33m\u001b[0m\u001b[1;33m\u001b[0m\u001b[1;33m\u001b[0m\u001b[0m\n\u001b[1;32m--> 450\u001b[1;33m         \u001b[0mzp\u001b[0m\u001b[1;33m,\u001b[0m \u001b[0mself\u001b[0m\u001b[1;33m.\u001b[0m\u001b[0mS\u001b[0m \u001b[1;33m=\u001b[0m \u001b[0mUT\u001b[0m\u001b[1;33m(\u001b[0m\u001b[0mself\u001b[0m\u001b[1;33m.\u001b[0m\u001b[0msigmas_h\u001b[0m\u001b[1;33m,\u001b[0m \u001b[0mself\u001b[0m\u001b[1;33m.\u001b[0m\u001b[0mWm\u001b[0m\u001b[1;33m,\u001b[0m \u001b[0mself\u001b[0m\u001b[1;33m.\u001b[0m\u001b[0mWc\u001b[0m\u001b[1;33m,\u001b[0m \u001b[0mR\u001b[0m\u001b[1;33m,\u001b[0m \u001b[0mself\u001b[0m\u001b[1;33m.\u001b[0m\u001b[0mz_mean\u001b[0m\u001b[1;33m,\u001b[0m \u001b[0mself\u001b[0m\u001b[1;33m.\u001b[0m\u001b[0mresidual_z\u001b[0m\u001b[1;33m)\u001b[0m\u001b[1;33m\u001b[0m\u001b[1;33m\u001b[0m\u001b[0m\n\u001b[0m\u001b[0;32m    451\u001b[0m         \u001b[0mself\u001b[0m\u001b[1;33m.\u001b[0m\u001b[0mSI\u001b[0m \u001b[1;33m=\u001b[0m \u001b[0mself\u001b[0m\u001b[1;33m.\u001b[0m\u001b[0minv\u001b[0m\u001b[1;33m(\u001b[0m\u001b[0mself\u001b[0m\u001b[1;33m.\u001b[0m\u001b[0mS\u001b[0m\u001b[1;33m)\u001b[0m\u001b[1;33m\u001b[0m\u001b[1;33m\u001b[0m\u001b[0m\n\u001b[0;32m    452\u001b[0m \u001b[1;33m\u001b[0m\u001b[0m\n",
      "\u001b[1;32mD:\\Sangwons_Room\\00_SoftWares\\Anaconda\\envs\\torch\\lib\\site-packages\\filterpy\\kalman\\unscented_transform.py\u001b[0m in \u001b[0;36munscented_transform\u001b[1;34m(sigmas, Wm, Wc, noise_cov, mean_fn, residual_fn)\u001b[0m\n\u001b[0;32m    116\u001b[0m     \u001b[1;32mif\u001b[0m \u001b[0mresidual_fn\u001b[0m \u001b[1;32mis\u001b[0m \u001b[0mnp\u001b[0m\u001b[1;33m.\u001b[0m\u001b[0msubtract\u001b[0m \u001b[1;32mor\u001b[0m \u001b[0mresidual_fn\u001b[0m \u001b[1;32mis\u001b[0m \u001b[1;32mNone\u001b[0m\u001b[1;33m:\u001b[0m\u001b[1;33m\u001b[0m\u001b[1;33m\u001b[0m\u001b[0m\n\u001b[0;32m    117\u001b[0m         \u001b[0my\u001b[0m \u001b[1;33m=\u001b[0m \u001b[0msigmas\u001b[0m \u001b[1;33m-\u001b[0m \u001b[0mx\u001b[0m\u001b[1;33m[\u001b[0m\u001b[0mnp\u001b[0m\u001b[1;33m.\u001b[0m\u001b[0mnewaxis\u001b[0m\u001b[1;33m,\u001b[0m \u001b[1;33m:\u001b[0m\u001b[1;33m]\u001b[0m\u001b[1;33m\u001b[0m\u001b[1;33m\u001b[0m\u001b[0m\n\u001b[1;32m--> 118\u001b[1;33m         \u001b[0mP\u001b[0m \u001b[1;33m=\u001b[0m \u001b[0mnp\u001b[0m\u001b[1;33m.\u001b[0m\u001b[0mdot\u001b[0m\u001b[1;33m(\u001b[0m\u001b[0my\u001b[0m\u001b[1;33m.\u001b[0m\u001b[0mT\u001b[0m\u001b[1;33m,\u001b[0m \u001b[0mnp\u001b[0m\u001b[1;33m.\u001b[0m\u001b[0mdot\u001b[0m\u001b[1;33m(\u001b[0m\u001b[0mnp\u001b[0m\u001b[1;33m.\u001b[0m\u001b[0mdiag\u001b[0m\u001b[1;33m(\u001b[0m\u001b[0mWc\u001b[0m\u001b[1;33m)\u001b[0m\u001b[1;33m,\u001b[0m \u001b[0my\u001b[0m\u001b[1;33m)\u001b[0m\u001b[1;33m)\u001b[0m\u001b[1;33m\u001b[0m\u001b[1;33m\u001b[0m\u001b[0m\n\u001b[0m\u001b[0;32m    119\u001b[0m     \u001b[1;32melse\u001b[0m\u001b[1;33m:\u001b[0m\u001b[1;33m\u001b[0m\u001b[1;33m\u001b[0m\u001b[0m\n\u001b[0;32m    120\u001b[0m         \u001b[0mP\u001b[0m \u001b[1;33m=\u001b[0m \u001b[0mnp\u001b[0m\u001b[1;33m.\u001b[0m\u001b[0mzeros\u001b[0m\u001b[1;33m(\u001b[0m\u001b[1;33m(\u001b[0m\u001b[0mn\u001b[0m\u001b[1;33m,\u001b[0m \u001b[0mn\u001b[0m\u001b[1;33m)\u001b[0m\u001b[1;33m)\u001b[0m\u001b[1;33m\u001b[0m\u001b[1;33m\u001b[0m\u001b[0m\n",
      "\u001b[1;32m<__array_function__ internals>\u001b[0m in \u001b[0;36mdot\u001b[1;34m(*args, **kwargs)\u001b[0m\n",
      "\u001b[1;31mKeyboardInterrupt\u001b[0m: "
     ]
    }
   ],
   "source": [
    "for phone in phones:\n",
    "    df1 = df_train[df_train['phone'] == phone].copy()\n",
    "    df2 = batch_filter(df1, q, r)\n",
    "    _, res1_mean , res1_score = check_score(df1)\n",
    "    _, res2_mean , res2_score = check_score(df2)\n",
    "    print(phone + \" Result\")\n",
    "    print(f\"Before: {res1_mean:.4f}, {res1_score:.4f}\")\n",
    "    print(f\"After : {res2_mean:.4f}, {res2_score:.4f}\")\n",
    "    print()"
   ]
  },
  {
   "cell_type": "code",
   "execution_count": 96,
   "metadata": {
    "ExecuteTime": {
     "end_time": "2021-07-05T22:27:29.103161Z",
     "start_time": "2021-07-05T22:27:27.882172Z"
    },
    "scrolled": true
   },
   "outputs": [
    {
     "data": {
      "text/plain": [
       "[<matplotlib.lines.Line2D at 0x18719dad828>]"
      ]
     },
     "execution_count": 96,
     "metadata": {},
     "output_type": "execute_result"
    },
    {
     "data": {
      "image/png": "[encoded data removed]",
      "text/plain": [
       "<Figure size 1152x2304 with 8 Axes>"
      ]
     },
     "metadata": {
      "needs_background": "light"
     },
     "output_type": "display_data"
    }
   ],
   "source": [
    "bins = 100\n",
    "fig, axes = plt.subplots(8,1,figsize = (16,32))\n",
    "\n",
    "axes[0].plot(df_sample['latDeg'])\n",
    "axes[0].plot(df_sample_filter['latDeg'])\n",
    "\n",
    "axes[1].plot(df_sample['t_latDeg'] - df_sample['latDeg'])\n",
    "axes[1].plot(df_sample['t_latDeg'] - df_sample_filter['latDeg'])\n",
    "\n",
    "axes[2].hist(df_sample['t_latDeg'] - df_sample['latDeg'], alpha = 1/3, bins = bins)\n",
    "axes[2].hist(df_sample['t_latDeg'] - df_sample_filter['latDeg'], alpha = 1/3, bins = bins)\n",
    "\n",
    "axes[3].plot(df_sample['lngDeg'])\n",
    "axes[3].plot(df_sample_filter['lngDeg'])\n",
    "\n",
    "axes[4].plot(df_sample['t_lngDeg'] - df_sample['lngDeg'])\n",
    "axes[4].plot(df_sample['t_lngDeg'] - df_sample_filter['lngDeg'])\n",
    "\n",
    "axes[5].hist(df_sample['t_lngDeg'] - df_sample['lngDeg'], alpha = 1/3, bins = bins)\n",
    "axes[5].hist(df_sample['t_lngDeg'] - df_sample_filter['lngDeg'], alpha = 1/3, bins = bins)\n",
    "\n",
    "axes[6].plot(df_sample['yawDeg'])\n",
    "axes[6].plot(df_sample_filter['yawDeg'])\n",
    "\n",
    "axes[7].plot(df_sample['UncalGyroZRadPerSec'])\n",
    "axes[7].plot(df_sample_filter['UncalGyroZRadPerSec'])"
   ]
  },
  {
   "cell_type": "code",
   "execution_count": 141,
   "metadata": {
    "ExecuteTime": {
     "end_time": "2021-07-06T01:13:12.954226Z",
     "start_time": "2021-07-06T00:30:48.870898Z"
    },
    "scrolled": true
   },
   "outputs": [
    {
     "data": {
      "application/vnd.jupyter.widget-view+json": {
       "model_id": "b652e73cd9a64edebb79e352f4616c3a",
       "version_major": 2,
       "version_minor": 0
      },
      "text/plain": [
       "  0%|          | 0/4 [00:00<?, ?it/s]"
      ]
     },
     "metadata": {},
     "output_type": "display_data"
    },
    {
     "name": "stdout",
     "output_type": "stream",
     "text": [
      "0.1, 0.1 : mean chagne - 0.005117, score change - 0.036277\n",
      "after[1.5216032525702947, 2.336643446332478], before[1.5164858561340457, 2.3003666714294493]\n"
     ]
    },
    {
     "data": {
      "application/vnd.jupyter.widget-view+json": {
       "model_id": "b62dc71e0d0f4587863cc8542b2e7f86",
       "version_major": 2,
       "version_minor": 0
      },
      "text/plain": [
       "  0%|          | 0/4 [00:00<?, ?it/s]"
      ]
     },
     "metadata": {},
     "output_type": "display_data"
    },
    {
     "name": "stdout",
     "output_type": "stream",
     "text": [
      "0.1, 0.2 : mean chagne - 0.059982, score change - 0.211371\n",
      "after[2.392347641471798, 3.0570168758413114], before[2.3323651579337517, 2.8456456542291058]\n"
     ]
    },
    {
     "data": {
      "application/vnd.jupyter.widget-view+json": {
       "model_id": "aa5397e1659a4e56a672f7de1d999aa1",
       "version_major": 2,
       "version_minor": 0
      },
      "text/plain": [
       "  0%|          | 0/4 [00:00<?, ?it/s]"
      ]
     },
     "metadata": {},
     "output_type": "display_data"
    },
    {
     "name": "stdout",
     "output_type": "stream",
     "text": [
      "0.1, 0.30000000000000004 : mean chagne - -0.098046, score change - -0.130079\n",
      "after[2.60749112065645, 3.9309994569192535], before[2.705537271266679, 4.061078847557706]\n"
     ]
    },
    {
     "data": {
      "application/vnd.jupyter.widget-view+json": {
       "model_id": "4ff8977b00c843ae9ee804028a01f26d",
       "version_major": 2,
       "version_minor": 0
      },
      "text/plain": [
       "  0%|          | 0/4 [00:00<?, ?it/s]"
      ]
     },
     "metadata": {},
     "output_type": "display_data"
    },
    {
     "name": "stdout",
     "output_type": "stream",
     "text": [
      "0.1, 0.4 : mean chagne - -0.187161, score change - -0.388152\n",
      "after[3.3846155847165424, 5.1735887395391895], before[3.5717765507157155, 5.5617402446726825]\n"
     ]
    },
    {
     "data": {
      "application/vnd.jupyter.widget-view+json": {
       "model_id": "f961184171fe477bbac131f891bd8cc9",
       "version_major": 2,
       "version_minor": 0
      },
      "text/plain": [
       "  0%|          | 0/4 [00:00<?, ?it/s]"
      ]
     },
     "metadata": {},
     "output_type": "display_data"
    },
    {
     "name": "stdout",
     "output_type": "stream",
     "text": [
      "0.1, 0.5 : mean chagne - -0.310469, score change - -0.273978\n",
      "after[6.280803075717881, 9.993226779409095], before[6.59127252290914, 10.267205015180403]\n"
     ]
    },
    {
     "data": {
      "application/vnd.jupyter.widget-view+json": {
       "model_id": "96348bb33ad9402daac2b1929db6abf0",
       "version_major": 2,
       "version_minor": 0
      },
      "text/plain": [
       "  0%|          | 0/4 [00:00<?, ?it/s]"
      ]
     },
     "metadata": {},
     "output_type": "display_data"
    },
    {
     "name": "stdout",
     "output_type": "stream",
     "text": [
      "0.1, 0.6 : mean chagne - 0.432042, score change - 0.312159\n",
      "after[4.3770789547000675, 3.443558083502365], before[3.945036693843578, 3.13139908308108]\n"
     ]
    },
    {
     "data": {
      "application/vnd.jupyter.widget-view+json": {
       "model_id": "3a287f899b35420ea43e804e09155fc6",
       "version_major": 2,
       "version_minor": 0
      },
      "text/plain": [
       "  0%|          | 0/4 [00:00<?, ?it/s]"
      ]
     },
     "metadata": {},
     "output_type": "display_data"
    },
    {
     "name": "stdout",
     "output_type": "stream",
     "text": [
      "0.1, 0.7000000000000001 : mean chagne - -0.090019, score change - 0.397628\n",
      "after[8.16226550909311, 11.658717711485203], before[8.252284362443895, 11.261089663002629]\n"
     ]
    },
    {
     "data": {
      "application/vnd.jupyter.widget-view+json": {
       "model_id": "5163ebd469b9473abc82ec2c0f919056",
       "version_major": 2,
       "version_minor": 0
      },
      "text/plain": [
       "  0%|          | 0/4 [00:00<?, ?it/s]"
      ]
     },
     "metadata": {},
     "output_type": "display_data"
    },
    {
     "name": "stdout",
     "output_type": "stream",
     "text": [
      "0.1, 0.8 : mean chagne - -0.071294, score change - -0.121575\n",
      "after[3.4149552867823365, 5.34094959217455], before[3.4862488946925274, 5.462524261044363]\n"
     ]
    },
    {
     "data": {
      "application/vnd.jupyter.widget-view+json": {
       "model_id": "07c38386251e471197a60d9fc6c9ebc0",
       "version_major": 2,
       "version_minor": 0
      },
      "text/plain": [
       "  0%|          | 0/4 [00:00<?, ?it/s]"
      ]
     },
     "metadata": {},
     "output_type": "display_data"
    },
    {
     "name": "stdout",
     "output_type": "stream",
     "text": [
      "0.1, 0.9 : mean chagne - 0.011715, score change - 0.176785\n",
      "after[3.7064187243867335, 3.655624960056553], before[3.6947034548697175, 3.478839490886226]\n"
     ]
    },
    {
     "data": {
      "application/vnd.jupyter.widget-view+json": {
       "model_id": "2a44e2310a22415e809f9912530d46cc",
       "version_major": 2,
       "version_minor": 0
      },
      "text/plain": [
       "  0%|          | 0/4 [00:00<?, ?it/s]"
      ]
     },
     "metadata": {},
     "output_type": "display_data"
    },
    {
     "name": "stdout",
     "output_type": "stream",
     "text": [
      "0.1, 1.0 : mean chagne - 0.097561, score change - 0.649949\n",
      "after[3.5931740692601934, 6.114667938224396], before[3.4956131487509867, 5.4647191447106795]\n"
     ]
    },
    {
     "data": {
      "application/vnd.jupyter.widget-view+json": {
       "model_id": "f8d6c34308814cc796ce2c20d56b3035",
       "version_major": 2,
       "version_minor": 0
      },
      "text/plain": [
       "  0%|          | 0/4 [00:00<?, ?it/s]"
      ]
     },
     "metadata": {},
     "output_type": "display_data"
    },
    {
     "name": "stdout",
     "output_type": "stream",
     "text": [
      "0.1, 1.1 : mean chagne - 0.214407, score change - 1.535376\n",
      "after[5.050474753885992, 9.460483560903565], before[4.836067788218126, 7.925107940519059]\n"
     ]
    },
    {
     "data": {
      "application/vnd.jupyter.widget-view+json": {
       "model_id": "52be3853e4c44d74a0f93f3ec9c0b501",
       "version_major": 2,
       "version_minor": 0
      },
      "text/plain": [
       "  0%|          | 0/4 [00:00<?, ?it/s]"
      ]
     },
     "metadata": {},
     "output_type": "display_data"
    },
    {
     "name": "stdout",
     "output_type": "stream",
     "text": [
      "0.1, 1.2000000000000002 : mean chagne - 0.148366, score change - 0.327714\n",
      "after[3.060609229939569, 4.954296697390166], before[2.912243310415755, 4.626583115562655]\n"
     ]
    },
    {
     "data": {
      "application/vnd.jupyter.widget-view+json": {
       "model_id": "aed25f0786324dccbbf608450fa93466",
       "version_major": 2,
       "version_minor": 0
      },
      "text/plain": [
       "  0%|          | 0/4 [00:00<?, ?it/s]"
      ]
     },
     "metadata": {},
     "output_type": "display_data"
    },
    {
     "name": "stdout",
     "output_type": "stream",
     "text": [
      "0.1, 1.3000000000000003 : mean chagne - 0.128588, score change - 0.310168\n",
      "after[3.218153788494955, 4.8718866111648325], before[3.0895659907883366, 4.561718789222644]\n"
     ]
    },
    {
     "data": {
      "application/vnd.jupyter.widget-view+json": {
       "model_id": "8123a8394612497b8f28179a9596f43c",
       "version_major": 2,
       "version_minor": 0
      },
      "text/plain": [
       "  0%|          | 0/4 [00:00<?, ?it/s]"
      ]
     },
     "metadata": {},
     "output_type": "display_data"
    },
    {
     "name": "stdout",
     "output_type": "stream",
     "text": [
      "0.1, 1.4000000000000001 : mean chagne - 0.247713, score change - 0.920657\n",
      "after[2.2604666375619615, 4.438486698189143], before[2.0127540860933957, 3.5178295854852584]\n"
     ]
    },
    {
     "data": {
      "application/vnd.jupyter.widget-view+json": {
       "model_id": "1567e3bc60d34c0996d1558b94f9725f",
       "version_major": 2,
       "version_minor": 0
      },
      "text/plain": [
       "  0%|          | 0/4 [00:00<?, ?it/s]"
      ]
     },
     "metadata": {},
     "output_type": "display_data"
    },
    {
     "name": "stdout",
     "output_type": "stream",
     "text": [
      "0.1, 1.5000000000000002 : mean chagne - 0.551407, score change - 1.630224\n",
      "after[3.0272825536875607, 5.260870365691358], before[2.475875295899938, 3.630646342294141]\n"
     ]
    },
    {
     "data": {
      "application/vnd.jupyter.widget-view+json": {
       "model_id": "4cf7e2fd6c814f129663820ada22aafa",
       "version_major": 2,
       "version_minor": 0
      },
      "text/plain": [
       "  0%|          | 0/4 [00:00<?, ?it/s]"
      ]
     },
     "metadata": {},
     "output_type": "display_data"
    },
    {
     "name": "stdout",
     "output_type": "stream",
     "text": [
      "0.1, 1.6 : mean chagne - 0.629045, score change - 1.903630\n",
      "after[4.3498049264497896, 7.490961291602098], before[3.720759743618329, 5.5873316087955365]\n"
     ]
    },
    {
     "data": {
      "application/vnd.jupyter.widget-view+json": {
       "model_id": "19a410dbca3e48dd8fd1f4507a5e9fbe",
       "version_major": 2,
       "version_minor": 0
      },
      "text/plain": [
       "  0%|          | 0/4 [00:00<?, ?it/s]"
      ]
     },
     "metadata": {},
     "output_type": "display_data"
    },
    {
     "name": "stdout",
     "output_type": "stream",
     "text": [
      "0.1, 1.7000000000000002 : mean chagne - -0.117873, score change - 0.064870\n",
      "after[2.1319033643796685, 2.8785952537359756], before[2.249776386821844, 2.813725335764418]\n"
     ]
    },
    {
     "data": {
      "application/vnd.jupyter.widget-view+json": {
       "model_id": "477b77a3943a4598a9ed2b7cf8bc8b9d",
       "version_major": 2,
       "version_minor": 0
      },
      "text/plain": [
       "  0%|          | 0/4 [00:00<?, ?it/s]"
      ]
     },
     "metadata": {},
     "output_type": "display_data"
    },
    {
     "name": "stdout",
     "output_type": "stream",
     "text": [
      "0.1, 1.8000000000000003 : mean chagne - -0.188148, score change - -0.047865\n",
      "after[7.089044670983232, 11.387652074936845], before[7.277192877300739, 11.435516968705887]\n"
     ]
    },
    {
     "data": {
      "application/vnd.jupyter.widget-view+json": {
       "model_id": "4ffa97b18f694839afda3e08a65bc347",
       "version_major": 2,
       "version_minor": 0
      },
      "text/plain": [
       "  0%|          | 0/4 [00:00<?, ?it/s]"
      ]
     },
     "metadata": {},
     "output_type": "display_data"
    },
    {
     "name": "stdout",
     "output_type": "stream",
     "text": [
      "0.1, 1.9000000000000001 : mean chagne - 0.427142, score change - 1.421770\n",
      "after[3.1074662613037365, 5.929961014104971], before[2.68032450199805, 4.508190606189949]\n"
     ]
    },
    {
     "data": {
      "application/vnd.jupyter.widget-view+json": {
       "model_id": "aa486c53cc44413391e5c8d7e4994402",
       "version_major": 2,
       "version_minor": 0
      },
      "text/plain": [
       "  0%|          | 0/4 [00:00<?, ?it/s]"
      ]
     },
     "metadata": {},
     "output_type": "display_data"
    },
    {
     "name": "stdout",
     "output_type": "stream",
     "text": [
      "0.2, 0.1 : mean chagne - -0.050068, score change - -0.047237\n",
      "after[6.645497390479081, 8.968606746298011], before[6.695564911747623, 9.01584395415043]\n"
     ]
    },
    {
     "data": {
      "application/vnd.jupyter.widget-view+json": {
       "model_id": "a535e622923b46bc8dabcef50b0007d2",
       "version_major": 2,
       "version_minor": 0
      },
      "text/plain": [
       "  0%|          | 0/4 [00:00<?, ?it/s]"
      ]
     },
     "metadata": {},
     "output_type": "display_data"
    },
    {
     "name": "stdout",
     "output_type": "stream",
     "text": [
      "0.2, 0.2 : mean chagne - 0.281250, score change - -0.013825\n",
      "after[3.5419253224545524, 2.704170818062292], before[3.2606753791753684, 2.7179956918828063]\n"
     ]
    },
    {
     "data": {
      "application/vnd.jupyter.widget-view+json": {
       "model_id": "def2f195448347db9dec52784dc9c438",
       "version_major": 2,
       "version_minor": 0
      },
      "text/plain": [
       "  0%|          | 0/4 [00:00<?, ?it/s]"
      ]
     },
     "metadata": {},
     "output_type": "display_data"
    },
    {
     "name": "stdout",
     "output_type": "stream",
     "text": [
      "0.2, 0.30000000000000004 : mean chagne - -0.004834, score change - -0.000499\n",
      "after[2.5741633996512694, 3.50648630640132], before[2.578997370494183, 3.5069851350791206]\n"
     ]
    },
    {
     "data": {
      "application/vnd.jupyter.widget-view+json": {
       "model_id": "00abdfad3ad14f36aecb2bc71c3ac6b1",
       "version_major": 2,
       "version_minor": 0
      },
      "text/plain": [
       "  0%|          | 0/4 [00:00<?, ?it/s]"
      ]
     },
     "metadata": {},
     "output_type": "display_data"
    },
    {
     "name": "stdout",
     "output_type": "stream",
     "text": [
      "0.2, 0.4 : mean chagne - 1.549250, score change - 2.786669\n",
      "after[4.022936037035231, 6.108608899011291], before[2.473686181344433, 3.3219400090656253]\n"
     ]
    },
    {
     "data": {
      "application/vnd.jupyter.widget-view+json": {
       "model_id": "5aae793b7e224213a3b9de72c052cc70",
       "version_major": 2,
       "version_minor": 0
      },
      "text/plain": [
       "  0%|          | 0/4 [00:00<?, ?it/s]"
      ]
     },
     "metadata": {},
     "output_type": "display_data"
    },
    {
     "name": "stdout",
     "output_type": "stream",
     "text": [
      "0.2, 0.5 : mean chagne - 0.443169, score change - 1.474868\n",
      "after[5.40319990176144, 9.136616001724537], before[4.960030892770843, 7.661748404315946]\n"
     ]
    },
    {
     "data": {
      "application/vnd.jupyter.widget-view+json": {
       "model_id": "06520788e7d34b7d8f44f4bcff3b6267",
       "version_major": 2,
       "version_minor": 0
      },
      "text/plain": [
       "  0%|          | 0/4 [00:00<?, ?it/s]"
      ]
     },
     "metadata": {},
     "output_type": "display_data"
    },
    {
     "name": "stdout",
     "output_type": "stream",
     "text": [
      "0.2, 0.6 : mean chagne - 0.018662, score change - -0.004963\n",
      "after[2.4154034384153036, 3.3903641885122884], before[2.39674116339951, 3.3953272054734027]\n"
     ]
    },
    {
     "data": {
      "application/vnd.jupyter.widget-view+json": {
       "model_id": "6422ba873d9643af8b7ba88adf926027",
       "version_major": 2,
       "version_minor": 0
      },
      "text/plain": [
       "  0%|          | 0/4 [00:00<?, ?it/s]"
      ]
     },
     "metadata": {},
     "output_type": "display_data"
    },
    {
     "name": "stdout",
     "output_type": "stream",
     "text": [
      "0.2, 0.7000000000000001 : mean chagne - -0.039035, score change - -0.073096\n",
      "after[2.2146928488311106, 3.1043210018805105], before[2.253728192590618, 3.177416553239944]\n"
     ]
    },
    {
     "data": {
      "application/vnd.jupyter.widget-view+json": {
       "model_id": "5f388b325550467a9dff344c394a5c41",
       "version_major": 2,
       "version_minor": 0
      },
      "text/plain": [
       "  0%|          | 0/4 [00:00<?, ?it/s]"
      ]
     },
     "metadata": {},
     "output_type": "display_data"
    },
    {
     "name": "stdout",
     "output_type": "stream",
     "text": [
      "0.2, 0.8 : mean chagne - -0.032371, score change - -0.041460\n",
      "after[4.305962720732029, 4.245125101573444], before[4.33833337842143, 4.2865849282719655]\n"
     ]
    },
    {
     "data": {
      "application/vnd.jupyter.widget-view+json": {
       "model_id": "0ec7fe49462e46fd91b6983f2eb58dbe",
       "version_major": 2,
       "version_minor": 0
      },
      "text/plain": [
       "  0%|          | 0/4 [00:00<?, ?it/s]"
      ]
     },
     "metadata": {},
     "output_type": "display_data"
    },
    {
     "name": "stdout",
     "output_type": "stream",
     "text": [
      "0.2, 0.9 : mean chagne - -0.024227, score change - -0.010872\n",
      "after[1.7716673201605233, 2.6893615795701122], before[1.7958942025150768, 2.7002330830396466]\n"
     ]
    },
    {
     "data": {
      "application/vnd.jupyter.widget-view+json": {
       "model_id": "f8d08a4b064d4dddbeaa2c9be11d30aa",
       "version_major": 2,
       "version_minor": 0
      },
      "text/plain": [
       "  0%|          | 0/4 [00:00<?, ?it/s]"
      ]
     },
     "metadata": {},
     "output_type": "display_data"
    },
    {
     "name": "stdout",
     "output_type": "stream",
     "text": [
      "0.2, 1.0 : mean chagne - -0.077394, score change - -0.082301\n",
      "after[2.843317361265856, 4.399405802818004], before[2.920711109273962, 4.481706396112697]\n"
     ]
    },
    {
     "data": {
      "application/vnd.jupyter.widget-view+json": {
       "model_id": "50f03c30fa664716a2ce84392577de75",
       "version_major": 2,
       "version_minor": 0
      },
      "text/plain": [
       "  0%|          | 0/4 [00:00<?, ?it/s]"
      ]
     },
     "metadata": {},
     "output_type": "display_data"
    },
    {
     "name": "stdout",
     "output_type": "stream",
     "text": [
      "0.2, 1.1 : mean chagne - -0.052116, score change - -0.096093\n",
      "after[5.312439923070912, 5.714698117340702], before[5.364555519856703, 5.810791205825954]\n"
     ]
    },
    {
     "data": {
      "application/vnd.jupyter.widget-view+json": {
       "model_id": "c866a0339ec8440697dedf15859c67d2",
       "version_major": 2,
       "version_minor": 0
      },
      "text/plain": [
       "  0%|          | 0/4 [00:00<?, ?it/s]"
      ]
     },
     "metadata": {},
     "output_type": "display_data"
    },
    {
     "name": "stdout",
     "output_type": "stream",
     "text": [
      "0.2, 1.2000000000000002 : mean chagne - -0.233288, score change - -0.438946\n",
      "after[6.51382730837511, 9.30162201672361], before[6.747115215863483, 9.740568118858969]\n"
     ]
    },
    {
     "data": {
      "application/vnd.jupyter.widget-view+json": {
       "model_id": "12d46459d4ee40988ec1fc4dcbf60004",
       "version_major": 2,
       "version_minor": 0
      },
      "text/plain": [
       "  0%|          | 0/4 [00:00<?, ?it/s]"
      ]
     },
     "metadata": {},
     "output_type": "display_data"
    },
    {
     "name": "stdout",
     "output_type": "stream",
     "text": [
      "0.2, 1.3000000000000003 : mean chagne - 0.025851, score change - 0.081662\n",
      "after[2.6533368107265476, 4.047193156661374], before[2.627485341820048, 3.965531486832372]\n"
     ]
    },
    {
     "data": {
      "application/vnd.jupyter.widget-view+json": {
       "model_id": "0d2e613989ca46698f47fbd09406037b",
       "version_major": 2,
       "version_minor": 0
      },
      "text/plain": [
       "  0%|          | 0/4 [00:00<?, ?it/s]"
      ]
     },
     "metadata": {},
     "output_type": "display_data"
    },
    {
     "name": "stdout",
     "output_type": "stream",
     "text": [
      "0.2, 1.4000000000000001 : mean chagne - -0.012628, score change - 0.073543\n",
      "after[2.085487517032993, 3.98374996706426], before[2.0981152347380143, 3.9102067312278033]\n"
     ]
    },
    {
     "data": {
      "application/vnd.jupyter.widget-view+json": {
       "model_id": "96b0c28f09654ee6ab876b34756f67bb",
       "version_major": 2,
       "version_minor": 0
      },
      "text/plain": [
       "  0%|          | 0/4 [00:00<?, ?it/s]"
      ]
     },
     "metadata": {},
     "output_type": "display_data"
    },
    {
     "name": "stdout",
     "output_type": "stream",
     "text": [
      "0.2, 1.5000000000000002 : mean chagne - -0.175948, score change - -0.366154\n",
      "after[2.7381538001559913, 4.382061934750072], before[2.9141013363912704, 4.748216275857304]\n"
     ]
    },
    {
     "data": {
      "application/vnd.jupyter.widget-view+json": {
       "model_id": "bd88e9e2cf14408f9951b7f9c2b3b4c1",
       "version_major": 2,
       "version_minor": 0
      },
      "text/plain": [
       "  0%|          | 0/4 [00:00<?, ?it/s]"
      ]
     },
     "metadata": {},
     "output_type": "display_data"
    },
    {
     "name": "stdout",
     "output_type": "stream",
     "text": [
      "0.2, 1.6 : mean chagne - -0.061591, score change - -0.051899\n",
      "after[5.1598518487220675, 6.027074042877331], before[5.221443274954767, 6.078972573770258]\n"
     ]
    },
    {
     "data": {
      "application/vnd.jupyter.widget-view+json": {
       "model_id": "c29408565bf2451495fbcc162cc1d209",
       "version_major": 2,
       "version_minor": 0
      },
      "text/plain": [
       "  0%|          | 0/4 [00:00<?, ?it/s]"
      ]
     },
     "metadata": {},
     "output_type": "display_data"
    },
    {
     "name": "stdout",
     "output_type": "stream",
     "text": [
      "0.2, 1.7000000000000002 : mean chagne - -0.222496, score change - -0.395129\n",
      "after[3.4167320936691996, 5.234960705116947], before[3.639227864752068, 5.630089904860272]\n"
     ]
    },
    {
     "data": {
      "application/vnd.jupyter.widget-view+json": {
       "model_id": "9a71b3af2fe749c0bd52e39c404d02da",
       "version_major": 2,
       "version_minor": 0
      },
      "text/plain": [
       "  0%|          | 0/4 [00:00<?, ?it/s]"
      ]
     },
     "metadata": {},
     "output_type": "display_data"
    },
    {
     "name": "stdout",
     "output_type": "stream",
     "text": [
      "0.2, 1.8000000000000003 : mean chagne - 0.054905, score change - 0.082955\n",
      "after[5.060195156243012, 5.374299058023495], before[5.005290024989826, 5.291344090803833]\n"
     ]
    },
    {
     "data": {
      "application/vnd.jupyter.widget-view+json": {
       "model_id": "0b6ca92d8c4141b795035030b2d79948",
       "version_major": 2,
       "version_minor": 0
      },
      "text/plain": [
       "  0%|          | 0/4 [00:00<?, ?it/s]"
      ]
     },
     "metadata": {},
     "output_type": "display_data"
    },
    {
     "name": "stdout",
     "output_type": "stream",
     "text": [
      "0.2, 1.9000000000000001 : mean chagne - -0.104211, score change - -0.215764\n",
      "after[6.22962234945971, 6.554911394458554], before[6.333833545542408, 6.7706754221956595]\n"
     ]
    },
    {
     "data": {
      "application/vnd.jupyter.widget-view+json": {
       "model_id": "26c73bb0ebc648d58be5720f76e30d10",
       "version_major": 2,
       "version_minor": 0
      },
      "text/plain": [
       "  0%|          | 0/4 [00:00<?, ?it/s]"
      ]
     },
     "metadata": {},
     "output_type": "display_data"
    },
    {
     "name": "stdout",
     "output_type": "stream",
     "text": [
      "0.30000000000000004, 0.1 : mean chagne - -0.037121, score change - -0.068204\n",
      "after[2.775501115939439, 4.882881356870022], before[2.812622514593081, 4.9510856144308795]\n"
     ]
    },
    {
     "data": {
      "application/vnd.jupyter.widget-view+json": {
       "model_id": "46a58505d5a044e7a896b303e212665e",
       "version_major": 2,
       "version_minor": 0
      },
      "text/plain": [
       "  0%|          | 0/4 [00:00<?, ?it/s]"
      ]
     },
     "metadata": {},
     "output_type": "display_data"
    },
    {
     "name": "stdout",
     "output_type": "stream",
     "text": [
      "0.30000000000000004, 0.2 : mean chagne - -0.078282, score change - -0.192335\n",
      "after[7.536911158576174, 11.666601705342584], before[7.615193379648089, 11.858936889242885]\n"
     ]
    },
    {
     "data": {
      "application/vnd.jupyter.widget-view+json": {
       "model_id": "30b6fff6c7834c8fbeed448f5a265ccb",
       "version_major": 2,
       "version_minor": 0
      },
      "text/plain": [
       "  0%|          | 0/4 [00:00<?, ?it/s]"
      ]
     },
     "metadata": {},
     "output_type": "display_data"
    },
    {
     "name": "stdout",
     "output_type": "stream",
     "text": [
      "0.30000000000000004, 0.30000000000000004 : mean chagne - -0.063888, score change - -0.013388\n",
      "after[7.167613176429759, 8.724611446371487], before[7.231500725766859, 8.737999170946958]\n"
     ]
    },
    {
     "data": {
      "application/vnd.jupyter.widget-view+json": {
       "model_id": "eaa4c2873a1246c0a1558dbc65319144",
       "version_major": 2,
       "version_minor": 0
      },
      "text/plain": [
       "  0%|          | 0/4 [00:00<?, ?it/s]"
      ]
     },
     "metadata": {},
     "output_type": "display_data"
    },
    {
     "name": "stdout",
     "output_type": "stream",
     "text": [
      "0.30000000000000004, 0.4 : mean chagne - -0.007418, score change - 0.012051\n",
      "after[2.1111901671359896, 3.008142218572579], before[2.1186083971408105, 2.996091397089923]\n"
     ]
    },
    {
     "data": {
      "application/vnd.jupyter.widget-view+json": {
       "model_id": "64e6c9a05ad1487f98d695f0d0861d0c",
       "version_major": 2,
       "version_minor": 0
      },
      "text/plain": [
       "  0%|          | 0/4 [00:00<?, ?it/s]"
      ]
     },
     "metadata": {},
     "output_type": "display_data"
    },
    {
     "name": "stdout",
     "output_type": "stream",
     "text": [
      "0.30000000000000004, 0.5 : mean chagne - -0.003747, score change - -0.002265\n",
      "after[1.803450674377075, 2.6549966554296818], before[1.8071981473497318, 2.6572613100771885]\n"
     ]
    },
    {
     "data": {
      "application/vnd.jupyter.widget-view+json": {
       "model_id": "72bb9d66194a4c2ca3b98d62daeed1c6",
       "version_major": 2,
       "version_minor": 0
      },
      "text/plain": [
       "  0%|          | 0/4 [00:00<?, ?it/s]"
      ]
     },
     "metadata": {},
     "output_type": "display_data"
    },
    {
     "name": "stdout",
     "output_type": "stream",
     "text": [
      "0.30000000000000004, 0.6 : mean chagne - -0.135420, score change - 0.000111\n",
      "after[8.002633087455177, 10.693410555852402], before[8.138052770551637, 10.69329930621755]\n"
     ]
    },
    {
     "data": {
      "application/vnd.jupyter.widget-view+json": {
       "model_id": "1dc6261cea7c424e9f9f9b330a8c69ad",
       "version_major": 2,
       "version_minor": 0
      },
      "text/plain": [
       "  0%|          | 0/4 [00:00<?, ?it/s]"
      ]
     },
     "metadata": {},
     "output_type": "display_data"
    },
    {
     "name": "stdout",
     "output_type": "stream",
     "text": [
      "0.30000000000000004, 0.7000000000000001 : mean chagne - -0.020249, score change - -0.044986\n",
      "after[1.9726587915566227, 3.170979588143264], before[1.9929077272306426, 3.2159652564575154]\n"
     ]
    },
    {
     "data": {
      "application/vnd.jupyter.widget-view+json": {
       "model_id": "8e4ad06225a1483d97c315b55b7da788",
       "version_major": 2,
       "version_minor": 0
      },
      "text/plain": [
       "  0%|          | 0/4 [00:00<?, ?it/s]"
      ]
     },
     "metadata": {},
     "output_type": "display_data"
    },
    {
     "name": "stdout",
     "output_type": "stream",
     "text": [
      "0.30000000000000004, 0.8 : mean chagne - -0.049562, score change - -0.079442\n",
      "after[1.6041207433111109, 2.305192701750713], before[1.6536825098077654, 2.3846349499688975]\n"
     ]
    },
    {
     "data": {
      "application/vnd.jupyter.widget-view+json": {
       "model_id": "14e1193f77084df9b970f85ff643a902",
       "version_major": 2,
       "version_minor": 0
      },
      "text/plain": [
       "  0%|          | 0/4 [00:00<?, ?it/s]"
      ]
     },
     "metadata": {},
     "output_type": "display_data"
    },
    {
     "name": "stdout",
     "output_type": "stream",
     "text": [
      "0.30000000000000004, 0.9 : mean chagne - -0.096524, score change - -0.091081\n",
      "after[3.8146968634023866, 5.407275254390747], before[3.911221287126138, 5.498356029300329]\n"
     ]
    },
    {
     "data": {
      "application/vnd.jupyter.widget-view+json": {
       "model_id": "dc0556f1fea6462a9265676e53f2ba84",
       "version_major": 2,
       "version_minor": 0
      },
      "text/plain": [
       "  0%|          | 0/4 [00:00<?, ?it/s]"
      ]
     },
     "metadata": {},
     "output_type": "display_data"
    },
    {
     "name": "stdout",
     "output_type": "stream",
     "text": [
      "0.30000000000000004, 1.0 : mean chagne - -0.008518, score change - -0.009231\n",
      "after[2.9429192134501054, 4.569068802116482], before[2.951436843458741, 4.578300218589216]\n"
     ]
    },
    {
     "data": {
      "application/vnd.jupyter.widget-view+json": {
       "model_id": "d1408b09845148deb57667d2bb2dc2a9",
       "version_major": 2,
       "version_minor": 0
      },
      "text/plain": [
       "  0%|          | 0/4 [00:00<?, ?it/s]"
      ]
     },
     "metadata": {},
     "output_type": "display_data"
    },
    {
     "name": "stdout",
     "output_type": "stream",
     "text": [
      "0.30000000000000004, 1.1 : mean chagne - 0.167588, score change - 0.195344\n",
      "after[5.370377904221243, 5.1091072622715945], before[5.202789912384315, 4.913763276967153]\n"
     ]
    },
    {
     "data": {
      "application/vnd.jupyter.widget-view+json": {
       "model_id": "c4855d1ad19c47f2a80183de3778575a",
       "version_major": 2,
       "version_minor": 0
      },
      "text/plain": [
       "  0%|          | 0/4 [00:00<?, ?it/s]"
      ]
     },
     "metadata": {},
     "output_type": "display_data"
    },
    {
     "name": "stdout",
     "output_type": "stream",
     "text": [
      "0.30000000000000004, 1.2000000000000002 : mean chagne - 0.038080, score change - 0.087169\n",
      "after[2.1230796876268494, 2.7077739159488274], before[2.084999754520376, 2.620605092673258]\n"
     ]
    },
    {
     "data": {
      "application/vnd.jupyter.widget-view+json": {
       "model_id": "30febebdf0fd42fbbd9540000c2df8ce",
       "version_major": 2,
       "version_minor": 0
      },
      "text/plain": [
       "  0%|          | 0/4 [00:00<?, ?it/s]"
      ]
     },
     "metadata": {},
     "output_type": "display_data"
    },
    {
     "name": "stdout",
     "output_type": "stream",
     "text": [
      "0.30000000000000004, 1.3000000000000003 : mean chagne - -0.060752, score change - -0.126833\n",
      "after[4.11780361577271, 6.828072006395858], before[4.178555235067857, 6.954904987340425]\n"
     ]
    },
    {
     "data": {
      "application/vnd.jupyter.widget-view+json": {
       "model_id": "c3d57644e1ec4fdd9652766a8b1b839d",
       "version_major": 2,
       "version_minor": 0
      },
      "text/plain": [
       "  0%|          | 0/4 [00:00<?, ?it/s]"
      ]
     },
     "metadata": {},
     "output_type": "display_data"
    },
    {
     "name": "stdout",
     "output_type": "stream",
     "text": [
      "0.30000000000000004, 1.4000000000000001 : mean chagne - -0.031291, score change - 0.043542\n",
      "after[4.166790458897687, 3.153984640795033], before[4.1980812706626365, 3.1104431131964634]\n"
     ]
    },
    {
     "data": {
      "application/vnd.jupyter.widget-view+json": {
       "model_id": "c1d18823987a4968a26fe5a9fd8ff5bf",
       "version_major": 2,
       "version_minor": 0
      },
      "text/plain": [
       "  0%|          | 0/4 [00:00<?, ?it/s]"
      ]
     },
     "metadata": {},
     "output_type": "display_data"
    },
    {
     "name": "stdout",
     "output_type": "stream",
     "text": [
      "0.30000000000000004, 1.5000000000000002 : mean chagne - -0.154310, score change - -0.302090\n",
      "after[3.686479265547202, 5.284106813482844], before[3.840789145734523, 5.5861966207963825]\n"
     ]
    },
    {
     "data": {
      "application/vnd.jupyter.widget-view+json": {
       "model_id": "7aa8b11d0696450b88f2e4bc4cba94f4",
       "version_major": 2,
       "version_minor": 0
      },
      "text/plain": [
       "  0%|          | 0/4 [00:00<?, ?it/s]"
      ]
     },
     "metadata": {},
     "output_type": "display_data"
    },
    {
     "name": "stdout",
     "output_type": "stream",
     "text": [
      "0.30000000000000004, 1.6 : mean chagne - -0.004712, score change - -0.031944\n",
      "after[3.6167690786605826, 4.7897439955730725], before[3.6214809624809012, 4.821688334100269]\n"
     ]
    },
    {
     "data": {
      "application/vnd.jupyter.widget-view+json": {
       "model_id": "749fb4c4a0444af1970f6a24329b3def",
       "version_major": 2,
       "version_minor": 0
      },
      "text/plain": [
       "  0%|          | 0/4 [00:00<?, ?it/s]"
      ]
     },
     "metadata": {},
     "output_type": "display_data"
    },
    {
     "name": "stdout",
     "output_type": "stream",
     "text": [
      "0.30000000000000004, 1.7000000000000002 : mean chagne - 0.065973, score change - 0.316866\n",
      "after[3.30736910344929, 4.024082466477729], before[3.2413960285256302, 3.7072163323856815]\n"
     ]
    },
    {
     "data": {
      "application/vnd.jupyter.widget-view+json": {
       "model_id": "72e9eb1e99e64e7a9f30a8841a474899",
       "version_major": 2,
       "version_minor": 0
      },
      "text/plain": [
       "  0%|          | 0/4 [00:00<?, ?it/s]"
      ]
     },
     "metadata": {},
     "output_type": "display_data"
    },
    {
     "name": "stdout",
     "output_type": "stream",
     "text": [
      "0.30000000000000004, 1.8000000000000003 : mean chagne - -0.047076, score change - -0.050571\n",
      "after[2.388185569456809, 3.4838370691501366], before[2.4352612486627576, 3.5344082447300487]\n"
     ]
    },
    {
     "data": {
      "application/vnd.jupyter.widget-view+json": {
       "model_id": "30eecbeb71d94673b44e2617dc8ae0f5",
       "version_major": 2,
       "version_minor": 0
      },
      "text/plain": [
       "  0%|          | 0/4 [00:00<?, ?it/s]"
      ]
     },
     "metadata": {},
     "output_type": "display_data"
    },
    {
     "name": "stdout",
     "output_type": "stream",
     "text": [
      "0.30000000000000004, 1.9000000000000001 : mean chagne - -0.010958, score change - -0.001680\n",
      "after[3.8226216559728803, 3.6007934250241838], before[3.8335794784686263, 3.6024729659488886]\n"
     ]
    },
    {
     "data": {
      "application/vnd.jupyter.widget-view+json": {
       "model_id": "8e1ae3ef1b26489781011d36f1c6b6d9",
       "version_major": 2,
       "version_minor": 0
      },
      "text/plain": [
       "  0%|          | 0/4 [00:00<?, ?it/s]"
      ]
     },
     "metadata": {},
     "output_type": "display_data"
    },
    {
     "name": "stdout",
     "output_type": "stream",
     "text": [
      "0.4, 0.1 : mean chagne - -0.018335, score change - -0.050530\n",
      "after[2.2865851766672702, 3.5474348554006334], before[2.3049199950730683, 3.5979646621140997]\n"
     ]
    },
    {
     "data": {
      "application/vnd.jupyter.widget-view+json": {
       "model_id": "e2513acb7c7a47afbaf8357e6eaae827",
       "version_major": 2,
       "version_minor": 0
      },
      "text/plain": [
       "  0%|          | 0/4 [00:00<?, ?it/s]"
      ]
     },
     "metadata": {},
     "output_type": "display_data"
    },
    {
     "name": "stdout",
     "output_type": "stream",
     "text": [
      "0.4, 0.2 : mean chagne - -0.050369, score change - -0.087969\n",
      "after[2.818152647215721, 4.522363531123976], before[2.8685218751707517, 4.610332260598891]\n"
     ]
    },
    {
     "data": {
      "application/vnd.jupyter.widget-view+json": {
       "model_id": "4db5573e9cd44bbb8eafbf24dde42d9d",
       "version_major": 2,
       "version_minor": 0
      },
      "text/plain": [
       "  0%|          | 0/4 [00:00<?, ?it/s]"
      ]
     },
     "metadata": {},
     "output_type": "display_data"
    },
    {
     "name": "stdout",
     "output_type": "stream",
     "text": [
      "0.4, 0.30000000000000004 : mean chagne - -0.020927, score change - -0.036763\n",
      "after[2.5155468394752747, 3.9500648022874074], before[2.5364738516376186, 3.986827584070908]\n"
     ]
    },
    {
     "data": {
      "application/vnd.jupyter.widget-view+json": {
       "model_id": "85ac4447bcbf41f89f97194a546f810e",
       "version_major": 2,
       "version_minor": 0
      },
      "text/plain": [
       "  0%|          | 0/4 [00:00<?, ?it/s]"
      ]
     },
     "metadata": {},
     "output_type": "display_data"
    },
    {
     "name": "stdout",
     "output_type": "stream",
     "text": [
      "0.4, 0.4 : mean chagne - -0.014419, score change - -0.027328\n",
      "after[4.434749184363664, 6.815372363862702], before[4.449168500592098, 6.842700564821791]\n"
     ]
    },
    {
     "data": {
      "application/vnd.jupyter.widget-view+json": {
       "model_id": "989bf4468e35473ba752513745ee2704",
       "version_major": 2,
       "version_minor": 0
      },
      "text/plain": [
       "  0%|          | 0/4 [00:00<?, ?it/s]"
      ]
     },
     "metadata": {},
     "output_type": "display_data"
    },
    {
     "name": "stdout",
     "output_type": "stream",
     "text": [
      "0.4, 0.5 : mean chagne - -0.036731, score change - -0.104817\n",
      "after[4.319097406376765, 5.910328685049458], before[4.355828590088808, 6.0151451968423135]\n"
     ]
    },
    {
     "data": {
      "application/vnd.jupyter.widget-view+json": {
       "model_id": "7f96a5bf1cba4e6aa142bbb7c6c0ac8b",
       "version_major": 2,
       "version_minor": 0
      },
      "text/plain": [
       "  0%|          | 0/4 [00:00<?, ?it/s]"
      ]
     },
     "metadata": {},
     "output_type": "display_data"
    },
    {
     "name": "stdout",
     "output_type": "stream",
     "text": [
      "0.4, 0.6 : mean chagne - -0.015442, score change - -0.036908\n",
      "after[2.0376979853488573, 2.958791216062825], before[2.053140293889657, 2.9956987196865477]\n"
     ]
    },
    {
     "data": {
      "application/vnd.jupyter.widget-view+json": {
       "model_id": "afc11800a325425785cfd610c773c32d",
       "version_major": 2,
       "version_minor": 0
      },
      "text/plain": [
       "  0%|          | 0/4 [00:00<?, ?it/s]"
      ]
     },
     "metadata": {},
     "output_type": "display_data"
    },
    {
     "name": "stdout",
     "output_type": "stream",
     "text": [
      "0.4, 0.7000000000000001 : mean chagne - -0.119659, score change - -0.211351\n",
      "after[7.610850993903435, 11.690831882579067], before[7.730509781226133, 11.90218304979629]\n"
     ]
    },
    {
     "data": {
      "application/vnd.jupyter.widget-view+json": {
       "model_id": "224bc7d2a1144ecbbf98d608983c859f",
       "version_major": 2,
       "version_minor": 0
      },
      "text/plain": [
       "  0%|          | 0/4 [00:00<?, ?it/s]"
      ]
     },
     "metadata": {},
     "output_type": "display_data"
    },
    {
     "name": "stdout",
     "output_type": "stream",
     "text": [
      "0.4, 0.8 : mean chagne - -0.160334, score change - -0.267780\n",
      "after[4.087057852361692, 6.659833476707872], before[4.247391891276843, 6.927613882068073]\n"
     ]
    },
    {
     "data": {
      "application/vnd.jupyter.widget-view+json": {
       "model_id": "7a067277ceef442eaeed2244f21913d0",
       "version_major": 2,
       "version_minor": 0
      },
      "text/plain": [
       "  0%|          | 0/4 [00:00<?, ?it/s]"
      ]
     },
     "metadata": {},
     "output_type": "display_data"
    },
    {
     "name": "stdout",
     "output_type": "stream",
     "text": [
      "0.4, 0.9 : mean chagne - -0.030600, score change - -0.061002\n",
      "after[4.16252565406349, 4.119155378255187], before[4.193125841591056, 4.180156946051472]\n"
     ]
    },
    {
     "data": {
      "application/vnd.jupyter.widget-view+json": {
       "model_id": "2ba0b4dd9cb745c49c5cad619117af00",
       "version_major": 2,
       "version_minor": 0
      },
      "text/plain": [
       "  0%|          | 0/4 [00:00<?, ?it/s]"
      ]
     },
     "metadata": {},
     "output_type": "display_data"
    },
    {
     "name": "stdout",
     "output_type": "stream",
     "text": [
      "0.4, 1.0 : mean chagne - -0.074559, score change - -0.100722\n",
      "after[4.265857825773574, 6.8051907768264135], before[4.340416526273301, 6.90591265688234]\n"
     ]
    },
    {
     "data": {
      "application/vnd.jupyter.widget-view+json": {
       "model_id": "f3d768c12b7048d3b22be0a17fe3d826",
       "version_major": 2,
       "version_minor": 0
      },
      "text/plain": [
       "  0%|          | 0/4 [00:00<?, ?it/s]"
      ]
     },
     "metadata": {},
     "output_type": "display_data"
    },
    {
     "name": "stdout",
     "output_type": "stream",
     "text": [
      "0.4, 1.1 : mean chagne - -0.033089, score change - -0.082543\n",
      "after[2.7528134807629288, 4.023672398631959], before[2.7859022855646205, 4.106215568748354]\n"
     ]
    },
    {
     "data": {
      "application/vnd.jupyter.widget-view+json": {
       "model_id": "7cb6080e1c3d418292d6b5a80cbe4ee6",
       "version_major": 2,
       "version_minor": 0
      },
      "text/plain": [
       "  0%|          | 0/4 [00:00<?, ?it/s]"
      ]
     },
     "metadata": {},
     "output_type": "display_data"
    },
    {
     "name": "stdout",
     "output_type": "stream",
     "text": [
      "0.4, 1.2000000000000002 : mean chagne - -0.039473, score change - -0.086919\n",
      "after[2.9750076891913637, 4.402838348552316], before[3.014480903977529, 4.4897568763019216]\n"
     ]
    },
    {
     "data": {
      "application/vnd.jupyter.widget-view+json": {
       "model_id": "558d7a10b4dd417cbc73a3ca45915df1",
       "version_major": 2,
       "version_minor": 0
      },
      "text/plain": [
       "  0%|          | 0/4 [00:00<?, ?it/s]"
      ]
     },
     "metadata": {},
     "output_type": "display_data"
    },
    {
     "name": "stdout",
     "output_type": "stream",
     "text": [
      "0.4, 1.3000000000000003 : mean chagne - 0.010859, score change - 0.231704\n",
      "after[5.86248951984677, 7.072700434845153], before[5.8516303255235735, 6.840996136936006]\n"
     ]
    },
    {
     "data": {
      "application/vnd.jupyter.widget-view+json": {
       "model_id": "53a2f095709a47068002ad262c6359c3",
       "version_major": 2,
       "version_minor": 0
      },
      "text/plain": [
       "  0%|          | 0/4 [00:00<?, ?it/s]"
      ]
     },
     "metadata": {},
     "output_type": "display_data"
    },
    {
     "name": "stdout",
     "output_type": "stream",
     "text": [
      "0.4, 1.4000000000000001 : mean chagne - -0.022499, score change - -0.016095\n",
      "after[1.9046716365290282, 2.9174971216954813], before[1.9271703235857278, 2.933591838759427]\n"
     ]
    },
    {
     "data": {
      "application/vnd.jupyter.widget-view+json": {
       "model_id": "de1ac4bcc746494d802712fa74d0b4a4",
       "version_major": 2,
       "version_minor": 0
      },
      "text/plain": [
       "  0%|          | 0/4 [00:00<?, ?it/s]"
      ]
     },
     "metadata": {},
     "output_type": "display_data"
    },
    {
     "name": "stdout",
     "output_type": "stream",
     "text": [
      "0.4, 1.5000000000000002 : mean chagne - -0.005953, score change - -0.010200\n",
      "after[1.967655932702744, 2.899346205021736], before[1.9736089083140522, 2.909546378887713]\n"
     ]
    },
    {
     "data": {
      "application/vnd.jupyter.widget-view+json": {
       "model_id": "d40bd78a1f154f2bb7d307ef2a756d63",
       "version_major": 2,
       "version_minor": 0
      },
      "text/plain": [
       "  0%|          | 0/4 [00:00<?, ?it/s]"
      ]
     },
     "metadata": {},
     "output_type": "display_data"
    },
    {
     "name": "stdout",
     "output_type": "stream",
     "text": [
      "0.4, 1.6 : mean chagne - -0.043716, score change - -0.109784\n",
      "after[2.5122298748181726, 4.049816744043445], before[2.5559459889777227, 4.1596003120340805]\n"
     ]
    },
    {
     "data": {
      "application/vnd.jupyter.widget-view+json": {
       "model_id": "5cba34c67c1b47a198d185deb461232d",
       "version_major": 2,
       "version_minor": 0
      },
      "text/plain": [
       "  0%|          | 0/4 [00:00<?, ?it/s]"
      ]
     },
     "metadata": {},
     "output_type": "display_data"
    },
    {
     "name": "stdout",
     "output_type": "stream",
     "text": [
      "0.4, 1.7000000000000002 : mean chagne - -0.056666, score change - -0.090089\n",
      "after[5.560609852794631, 5.834821078913198], before[5.617276334715215, 5.9249104987394485]\n"
     ]
    },
    {
     "data": {
      "application/vnd.jupyter.widget-view+json": {
       "model_id": "a1a42ca1cdc14e9280db28933afc0114",
       "version_major": 2,
       "version_minor": 0
      },
      "text/plain": [
       "  0%|          | 0/4 [00:00<?, ?it/s]"
      ]
     },
     "metadata": {},
     "output_type": "display_data"
    },
    {
     "name": "stdout",
     "output_type": "stream",
     "text": [
      "0.4, 1.8000000000000003 : mean chagne - -0.064222, score change - -0.149239\n",
      "after[2.2168417977680073, 3.566044092370686], before[2.2810638112823414, 3.715283202814052]\n"
     ]
    },
    {
     "data": {
      "application/vnd.jupyter.widget-view+json": {
       "model_id": "8adeb6c031b0429d8eb9c1a77d1398f4",
       "version_major": 2,
       "version_minor": 0
      },
      "text/plain": [
       "  0%|          | 0/4 [00:00<?, ?it/s]"
      ]
     },
     "metadata": {},
     "output_type": "display_data"
    },
    {
     "name": "stdout",
     "output_type": "stream",
     "text": [
      "0.4, 1.9000000000000001 : mean chagne - 0.253683, score change - 0.749254\n",
      "after[2.558693750726806, 3.949320845079831], before[2.3050108384628514, 3.200067113690799]\n"
     ]
    },
    {
     "data": {
      "application/vnd.jupyter.widget-view+json": {
       "model_id": "2309c52230ad4bd7999fb545471f0a52",
       "version_major": 2,
       "version_minor": 0
      },
      "text/plain": [
       "  0%|          | 0/4 [00:00<?, ?it/s]"
      ]
     },
     "metadata": {},
     "output_type": "display_data"
    },
    {
     "name": "stdout",
     "output_type": "stream",
     "text": [
      "0.5, 0.1 : mean chagne - -0.042788, score change - -0.096243\n",
      "after[3.435438964100165, 5.413862904080855], before[3.478226587798347, 5.510106090380125]\n"
     ]
    },
    {
     "data": {
      "application/vnd.jupyter.widget-view+json": {
       "model_id": "b76ec78f425d4071b78cb61b64460378",
       "version_major": 2,
       "version_minor": 0
      },
      "text/plain": [
       "  0%|          | 0/4 [00:00<?, ?it/s]"
      ]
     },
     "metadata": {},
     "output_type": "display_data"
    },
    {
     "name": "stdout",
     "output_type": "stream",
     "text": [
      "0.5, 0.2 : mean chagne - -0.029343, score change - -0.100817\n",
      "after[2.668687906806647, 4.025318898518535], before[2.6980309800067084, 4.126135457188542]\n"
     ]
    },
    {
     "data": {
      "application/vnd.jupyter.widget-view+json": {
       "model_id": "abf67fdc9c264de381711262d188403c",
       "version_major": 2,
       "version_minor": 0
      },
      "text/plain": [
       "  0%|          | 0/4 [00:00<?, ?it/s]"
      ]
     },
     "metadata": {},
     "output_type": "display_data"
    },
    {
     "name": "stdout",
     "output_type": "stream",
     "text": [
      "0.5, 0.30000000000000004 : mean chagne - -0.020057, score change - -0.045045\n",
      "after[2.9123838980235632, 4.546622681706306], before[2.932440559241218, 4.59166782774154]\n"
     ]
    },
    {
     "data": {
      "application/vnd.jupyter.widget-view+json": {
       "model_id": "0772f446d7b8410b82b412fbd7cbf5bf",
       "version_major": 2,
       "version_minor": 0
      },
      "text/plain": [
       "  0%|          | 0/4 [00:00<?, ?it/s]"
      ]
     },
     "metadata": {},
     "output_type": "display_data"
    },
    {
     "name": "stdout",
     "output_type": "stream",
     "text": [
      "0.5, 0.4 : mean chagne - -0.022967, score change - -0.081987\n",
      "after[2.2760335373943974, 3.403432180224972], before[2.299000220651298, 3.4854193667973385]\n"
     ]
    },
    {
     "data": {
      "application/vnd.jupyter.widget-view+json": {
       "model_id": "6cf1eb0c263547d3ad7b85659e17ee37",
       "version_major": 2,
       "version_minor": 0
      },
      "text/plain": [
       "  0%|          | 0/4 [00:00<?, ?it/s]"
      ]
     },
     "metadata": {},
     "output_type": "display_data"
    },
    {
     "name": "stdout",
     "output_type": "stream",
     "text": [
      "0.5, 0.5 : mean chagne - -0.005279, score change - 0.015287\n",
      "after[1.827120985283195, 2.6003266985445856], before[1.832400067455692, 2.5850394813516226]\n"
     ]
    },
    {
     "data": {
      "application/vnd.jupyter.widget-view+json": {
       "model_id": "a7e6d01d59054a18828ae36ffe533848",
       "version_major": 2,
       "version_minor": 0
      },
      "text/plain": [
       "  0%|          | 0/4 [00:00<?, ?it/s]"
      ]
     },
     "metadata": {},
     "output_type": "display_data"
    },
    {
     "name": "stdout",
     "output_type": "stream",
     "text": [
      "0.5, 0.6 : mean chagne - -0.025314, score change - -0.050462\n",
      "after[2.6742427332521164, 4.666058224636344], before[2.6995564644038335, 4.716520577510126]\n"
     ]
    },
    {
     "data": {
      "application/vnd.jupyter.widget-view+json": {
       "model_id": "299495d176314c69b587c6d100abb00d",
       "version_major": 2,
       "version_minor": 0
      },
      "text/plain": [
       "  0%|          | 0/4 [00:00<?, ?it/s]"
      ]
     },
     "metadata": {},
     "output_type": "display_data"
    },
    {
     "name": "stdout",
     "output_type": "stream",
     "text": [
      "0.5, 0.7000000000000001 : mean chagne - -0.020903, score change - -0.011744\n",
      "after[1.8136530328704121, 2.701254610387305], before[1.8345558420316392, 2.7129987997364755]\n"
     ]
    },
    {
     "data": {
      "application/vnd.jupyter.widget-view+json": {
       "model_id": "9f51bc04b50640ac96954d279a19e194",
       "version_major": 2,
       "version_minor": 0
      },
      "text/plain": [
       "  0%|          | 0/4 [00:00<?, ?it/s]"
      ]
     },
     "metadata": {},
     "output_type": "display_data"
    },
    {
     "name": "stdout",
     "output_type": "stream",
     "text": [
      "0.5, 0.8 : mean chagne - -0.092326, score change - -0.037974\n",
      "after[3.8364697708678883, 4.106244027762993], before[3.928795482264969, 4.144218065211542]\n"
     ]
    },
    {
     "data": {
      "application/vnd.jupyter.widget-view+json": {
       "model_id": "b25c3607c3a0439ba3d1b84e8bdd3913",
       "version_major": 2,
       "version_minor": 0
      },
      "text/plain": [
       "  0%|          | 0/4 [00:00<?, ?it/s]"
      ]
     },
     "metadata": {},
     "output_type": "display_data"
    },
    {
     "name": "stdout",
     "output_type": "stream",
     "text": [
      "0.5, 0.9 : mean chagne - -0.018082, score change - -0.030939\n",
      "after[3.9782069117987224, 3.67281495123129], before[3.9962887405904715, 3.7037541277323185]\n"
     ]
    },
    {
     "data": {
      "application/vnd.jupyter.widget-view+json": {
       "model_id": "59b7bed375cc47878c5af710d9be601c",
       "version_major": 2,
       "version_minor": 0
      },
      "text/plain": [
       "  0%|          | 0/4 [00:00<?, ?it/s]"
      ]
     },
     "metadata": {},
     "output_type": "display_data"
    },
    {
     "name": "stdout",
     "output_type": "stream",
     "text": [
      "0.5, 1.0 : mean chagne - -0.042140, score change - -0.119093\n",
      "after[4.6720104540986, 7.846661714192278], before[4.714150534259852, 7.965755000377516]\n"
     ]
    },
    {
     "data": {
      "application/vnd.jupyter.widget-view+json": {
       "model_id": "97cfc83630ee47b69891c7454afbfa97",
       "version_major": 2,
       "version_minor": 0
      },
      "text/plain": [
       "  0%|          | 0/4 [00:00<?, ?it/s]"
      ]
     },
     "metadata": {},
     "output_type": "display_data"
    },
    {
     "name": "stdout",
     "output_type": "stream",
     "text": [
      "0.5, 1.1 : mean chagne - -0.045284, score change - -0.078155\n",
      "after[2.320313588618113, 3.113801786824796], before[2.365598070992864, 3.191956587823331]\n"
     ]
    },
    {
     "data": {
      "application/vnd.jupyter.widget-view+json": {
       "model_id": "7d3176d7986b43abac01f41580c1b876",
       "version_major": 2,
       "version_minor": 0
      },
      "text/plain": [
       "  0%|          | 0/4 [00:00<?, ?it/s]"
      ]
     },
     "metadata": {},
     "output_type": "display_data"
    },
    {
     "name": "stdout",
     "output_type": "stream",
     "text": [
      "0.5, 1.2000000000000002 : mean chagne - -0.056564, score change - -0.128552\n",
      "after[3.465429996619315, 5.551748418858065], before[3.52199436739619, 5.680300266228905]\n"
     ]
    },
    {
     "data": {
      "application/vnd.jupyter.widget-view+json": {
       "model_id": "7d0a58803840472ba0f0f73d750d3570",
       "version_major": 2,
       "version_minor": 0
      },
      "text/plain": [
       "  0%|          | 0/4 [00:00<?, ?it/s]"
      ]
     },
     "metadata": {},
     "output_type": "display_data"
    },
    {
     "name": "stdout",
     "output_type": "stream",
     "text": [
      "0.5, 1.3000000000000003 : mean chagne - -0.060155, score change - -0.028308\n",
      "after[5.802957953866407, 7.307562076225027], before[5.8631128964521455, 7.3358702794517185]\n"
     ]
    },
    {
     "data": {
      "application/vnd.jupyter.widget-view+json": {
       "model_id": "603daef3829d47ea9490c64f68273e6e",
       "version_major": 2,
       "version_minor": 0
      },
      "text/plain": [
       "  0%|          | 0/4 [00:00<?, ?it/s]"
      ]
     },
     "metadata": {},
     "output_type": "display_data"
    },
    {
     "name": "stdout",
     "output_type": "stream",
     "text": [
      "0.5, 1.4000000000000001 : mean chagne - 0.022265, score change - 0.050005\n",
      "after[2.160197307996619, 3.7281584645798835], before[2.1379325943463607, 3.678153419454768]\n"
     ]
    },
    {
     "data": {
      "application/vnd.jupyter.widget-view+json": {
       "model_id": "9fd940a90b0e4eb0b798f42afc3a7e70",
       "version_major": 2,
       "version_minor": 0
      },
      "text/plain": [
       "  0%|          | 0/4 [00:00<?, ?it/s]"
      ]
     },
     "metadata": {},
     "output_type": "display_data"
    },
    {
     "name": "stdout",
     "output_type": "stream",
     "text": [
      "0.5, 1.5000000000000002 : mean chagne - -0.005867, score change - -0.011475\n",
      "after[3.1543933214798154, 5.210673623301112], before[3.1602604539373114, 5.2221488604621475]\n"
     ]
    },
    {
     "data": {
      "application/vnd.jupyter.widget-view+json": {
       "model_id": "93604453df654c9f8d42e8db5c08e939",
       "version_major": 2,
       "version_minor": 0
      },
      "text/plain": [
       "  0%|          | 0/4 [00:00<?, ?it/s]"
      ]
     },
     "metadata": {},
     "output_type": "display_data"
    },
    {
     "name": "stdout",
     "output_type": "stream",
     "text": [
      "0.5, 1.6 : mean chagne - -0.010909, score change - -0.012382\n",
      "after[1.8080077274864084, 2.504192527396885], before[1.8189169134688057, 2.516574750119569]\n"
     ]
    },
    {
     "data": {
      "application/vnd.jupyter.widget-view+json": {
       "model_id": "02acefbcfdb44a16922883e1f5ca7090",
       "version_major": 2,
       "version_minor": 0
      },
      "text/plain": [
       "  0%|          | 0/4 [00:00<?, ?it/s]"
      ]
     },
     "metadata": {},
     "output_type": "display_data"
    },
    {
     "name": "stdout",
     "output_type": "stream",
     "text": [
      "0.5, 1.7000000000000002 : mean chagne - 0.011985, score change - 0.110047\n",
      "after[2.606637327473872, 3.480348478160077], before[2.5946524944457323, 3.3703019122028093]\n"
     ]
    },
    {
     "data": {
      "application/vnd.jupyter.widget-view+json": {
       "model_id": "509fb42e8558437eb0fc97286606b4fc",
       "version_major": 2,
       "version_minor": 0
      },
      "text/plain": [
       "  0%|          | 0/4 [00:00<?, ?it/s]"
      ]
     },
     "metadata": {},
     "output_type": "display_data"
    },
    {
     "name": "stdout",
     "output_type": "stream",
     "text": [
      "0.5, 1.8000000000000003 : mean chagne - -0.019442, score change - -0.018056\n",
      "after[1.8397307675135222, 2.752245851631841], before[1.8591727304265082, 2.7703023110473524]\n"
     ]
    },
    {
     "data": {
      "application/vnd.jupyter.widget-view+json": {
       "model_id": "558341f75d384bf6beddac69541ad0f1",
       "version_major": 2,
       "version_minor": 0
      },
      "text/plain": [
       "  0%|          | 0/4 [00:00<?, ?it/s]"
      ]
     },
     "metadata": {},
     "output_type": "display_data"
    },
    {
     "name": "stdout",
     "output_type": "stream",
     "text": [
      "0.5, 1.9000000000000001 : mean chagne - -0.035570, score change - -0.075817\n",
      "after[2.4482567060736042, 3.917875877491827], before[2.4838267907350193, 3.993692994430265]\n"
     ]
    },
    {
     "data": {
      "application/vnd.jupyter.widget-view+json": {
       "model_id": "a4fada8d67f54333a76d00143ea1a7ee",
       "version_major": 2,
       "version_minor": 0
      },
      "text/plain": [
       "  0%|          | 0/4 [00:00<?, ?it/s]"
      ]
     },
     "metadata": {},
     "output_type": "display_data"
    },
    {
     "name": "stdout",
     "output_type": "stream",
     "text": [
      "0.6, 0.1 : mean chagne - -0.010808, score change - -0.038487\n",
      "after[1.9933247902918265, 3.0691422049415165], before[2.0041329899955027, 3.1076294643546083]\n"
     ]
    },
    {
     "data": {
      "application/vnd.jupyter.widget-view+json": {
       "model_id": "fe4f10d6cb6b4883abe335c1b3e3bc7d",
       "version_major": 2,
       "version_minor": 0
      },
      "text/plain": [
       "  0%|          | 0/4 [00:00<?, ?it/s]"
      ]
     },
     "metadata": {},
     "output_type": "display_data"
    },
    {
     "name": "stdout",
     "output_type": "stream",
     "text": [
      "0.6, 0.2 : mean chagne - -0.046076, score change - -0.104143\n",
      "after[5.350657458238979, 8.589597595342283], before[5.396733587291415, 8.69374089672924]\n"
     ]
    },
    {
     "data": {
      "application/vnd.jupyter.widget-view+json": {
       "model_id": "71356c05d8a5486bae1fb06644851af1",
       "version_major": 2,
       "version_minor": 0
      },
      "text/plain": [
       "  0%|          | 0/4 [00:00<?, ?it/s]"
      ]
     },
     "metadata": {},
     "output_type": "display_data"
    },
    {
     "name": "stdout",
     "output_type": "stream",
     "text": [
      "0.6, 0.30000000000000004 : mean chagne - -0.083343, score change - -0.153014\n",
      "after[3.5706026810498472, 5.73992612811163], before[3.653945773675034, 5.89294047883703]\n"
     ]
    },
    {
     "data": {
      "application/vnd.jupyter.widget-view+json": {
       "model_id": "fc34040a7f3348da8ea3f5026c8d0918",
       "version_major": 2,
       "version_minor": 0
      },
      "text/plain": [
       "  0%|          | 0/4 [00:00<?, ?it/s]"
      ]
     },
     "metadata": {},
     "output_type": "display_data"
    },
    {
     "name": "stdout",
     "output_type": "stream",
     "text": [
      "0.6, 0.4 : mean chagne - -0.013339, score change - -0.004612\n",
      "after[1.7757548893480182, 2.6411287614201013], before[1.7890942017348772, 2.6457410504283776]\n"
     ]
    },
    {
     "data": {
      "application/vnd.jupyter.widget-view+json": {
       "model_id": "4d8ba1d256de4a7a8a8f846cd6af5204",
       "version_major": 2,
       "version_minor": 0
      },
      "text/plain": [
       "  0%|          | 0/4 [00:00<?, ?it/s]"
      ]
     },
     "metadata": {},
     "output_type": "display_data"
    },
    {
     "name": "stdout",
     "output_type": "stream",
     "text": [
      "0.6, 0.5 : mean chagne - -0.051556, score change - -0.020623\n",
      "after[3.649267171837434, 3.5084057697664117], before[3.7008233606696996, 3.529028916179115]\n"
     ]
    },
    {
     "data": {
      "application/vnd.jupyter.widget-view+json": {
       "model_id": "f380b1541fda42a595bad2597f11a558",
       "version_major": 2,
       "version_minor": 0
      },
      "text/plain": [
       "  0%|          | 0/4 [00:00<?, ?it/s]"
      ]
     },
     "metadata": {},
     "output_type": "display_data"
    },
    {
     "name": "stdout",
     "output_type": "stream",
     "text": [
      "0.6, 0.6 : mean chagne - -0.030976, score change - -0.045944\n",
      "after[3.5650032357197357, 5.355458382518405], before[3.595979722158278, 5.40140236883122]\n"
     ]
    },
    {
     "data": {
      "application/vnd.jupyter.widget-view+json": {
       "model_id": "a7a3a1073320444dba76910eca77f393",
       "version_major": 2,
       "version_minor": 0
      },
      "text/plain": [
       "  0%|          | 0/4 [00:00<?, ?it/s]"
      ]
     },
     "metadata": {},
     "output_type": "display_data"
    },
    {
     "name": "stdout",
     "output_type": "stream",
     "text": [
      "0.6, 0.7000000000000001 : mean chagne - -0.059211, score change - 0.069078\n",
      "after[7.745897245069884, 13.56433172217783], before[7.8051086733485375, 13.495253419170513]\n"
     ]
    },
    {
     "data": {
      "application/vnd.jupyter.widget-view+json": {
       "model_id": "a9324a809d6d48199b04fa5f78bb65cc",
       "version_major": 2,
       "version_minor": 0
      },
      "text/plain": [
       "  0%|          | 0/4 [00:00<?, ?it/s]"
      ]
     },
     "metadata": {},
     "output_type": "display_data"
    },
    {
     "name": "stdout",
     "output_type": "stream",
     "text": [
      "0.6, 0.8 : mean chagne - -0.051787, score change - -0.114660\n",
      "after[4.488486947881052, 7.291950962075417], before[4.540274211479636, 7.406611159740304]\n"
     ]
    },
    {
     "data": {
      "application/vnd.jupyter.widget-view+json": {
       "model_id": "b2b2ae327b794b108f65ebf81ed5ce12",
       "version_major": 2,
       "version_minor": 0
      },
      "text/plain": [
       "  0%|          | 0/4 [00:00<?, ?it/s]"
      ]
     },
     "metadata": {},
     "output_type": "display_data"
    },
    {
     "name": "stdout",
     "output_type": "stream",
     "text": [
      "0.6, 0.9 : mean chagne - -0.011552, score change - -0.033506\n",
      "after[2.047032843054777, 3.487657128356256], before[2.0585851322504225, 3.521162729359573]\n"
     ]
    },
    {
     "data": {
      "application/vnd.jupyter.widget-view+json": {
       "model_id": "2d1745a7e2b841ddaeb0f99f1c6d2920",
       "version_major": 2,
       "version_minor": 0
      },
      "text/plain": [
       "  0%|          | 0/4 [00:00<?, ?it/s]"
      ]
     },
     "metadata": {},
     "output_type": "display_data"
    },
    {
     "name": "stdout",
     "output_type": "stream",
     "text": [
      "0.6, 1.0 : mean chagne - -0.031944, score change - 0.010898\n",
      "after[4.339116648537341, 7.399923243119551], before[4.371061118289082, 7.389024814305188]\n"
     ]
    },
    {
     "data": {
      "application/vnd.jupyter.widget-view+json": {
       "model_id": "a7bda586784e4bfe9848d5f31d63bce9",
       "version_major": 2,
       "version_minor": 0
      },
      "text/plain": [
       "  0%|          | 0/4 [00:00<?, ?it/s]"
      ]
     },
     "metadata": {},
     "output_type": "display_data"
    },
    {
     "name": "stdout",
     "output_type": "stream",
     "text": [
      "0.6, 1.1 : mean chagne - -0.011005, score change - -0.011366\n",
      "after[1.9844914081419718, 2.779020185690157], before[1.9954960471943186, 2.7903862217448627]\n"
     ]
    },
    {
     "data": {
      "application/vnd.jupyter.widget-view+json": {
       "model_id": "caa21e3cae29407a82878939b1b3306e",
       "version_major": 2,
       "version_minor": 0
      },
      "text/plain": [
       "  0%|          | 0/4 [00:00<?, ?it/s]"
      ]
     },
     "metadata": {},
     "output_type": "display_data"
    },
    {
     "name": "stdout",
     "output_type": "stream",
     "text": [
      "0.6, 1.2000000000000002 : mean chagne - -0.011488, score change - -0.013965\n",
      "after[1.9462479682360152, 2.9143486124785807], before[1.9577362895122552, 2.9283136206436424]\n"
     ]
    },
    {
     "data": {
      "application/vnd.jupyter.widget-view+json": {
       "model_id": "3df142f8e4e3403d914384e97a75cdb2",
       "version_major": 2,
       "version_minor": 0
      },
      "text/plain": [
       "  0%|          | 0/4 [00:00<?, ?it/s]"
      ]
     },
     "metadata": {},
     "output_type": "display_data"
    },
    {
     "name": "stdout",
     "output_type": "stream",
     "text": [
      "0.6, 1.3000000000000003 : mean chagne - -0.016457, score change - -0.029630\n",
      "after[4.900787191704585, 3.2336257569285327], before[4.917243978202367, 3.263256121163761]\n"
     ]
    },
    {
     "data": {
      "application/vnd.jupyter.widget-view+json": {
       "model_id": "77159bba0cb34093bf8cad5251124dab",
       "version_major": 2,
       "version_minor": 0
      },
      "text/plain": [
       "  0%|          | 0/4 [00:00<?, ?it/s]"
      ]
     },
     "metadata": {},
     "output_type": "display_data"
    },
    {
     "name": "stdout",
     "output_type": "stream",
     "text": [
      "0.6, 1.4000000000000001 : mean chagne - -0.013168, score change - -0.007473\n",
      "after[2.2390415540043227, 3.537730365304927], before[2.2522095034096736, 3.5452030181272214]\n"
     ]
    },
    {
     "data": {
      "application/vnd.jupyter.widget-view+json": {
       "model_id": "85c68680544c4df2885bcce26ea3213e",
       "version_major": 2,
       "version_minor": 0
      },
      "text/plain": [
       "  0%|          | 0/4 [00:00<?, ?it/s]"
      ]
     },
     "metadata": {},
     "output_type": "display_data"
    },
    {
     "name": "stdout",
     "output_type": "stream",
     "text": [
      "0.6, 1.5000000000000002 : mean chagne - -0.013938, score change - -0.027095\n",
      "after[4.078318415869024, 3.7457535292055075], before[4.092256576852037, 3.7728486741245524]\n"
     ]
    },
    {
     "data": {
      "application/vnd.jupyter.widget-view+json": {
       "model_id": "f3f79f48c4064820819ba751108c1f5b",
       "version_major": 2,
       "version_minor": 0
      },
      "text/plain": [
       "  0%|          | 0/4 [00:00<?, ?it/s]"
      ]
     },
     "metadata": {},
     "output_type": "display_data"
    },
    {
     "name": "stdout",
     "output_type": "stream",
     "text": [
      "0.6, 1.6 : mean chagne - -0.051487, score change - -0.100115\n",
      "after[4.739521356804096, 7.219452718435287], before[4.791008735424807, 7.319567980438462]\n"
     ]
    },
    {
     "data": {
      "application/vnd.jupyter.widget-view+json": {
       "model_id": "f1a58628f125480f8c1ec82704ccf2b1",
       "version_major": 2,
       "version_minor": 0
      },
      "text/plain": [
       "  0%|          | 0/4 [00:00<?, ?it/s]"
      ]
     },
     "metadata": {},
     "output_type": "display_data"
    },
    {
     "name": "stdout",
     "output_type": "stream",
     "text": [
      "0.6, 1.7000000000000002 : mean chagne - -0.131886, score change - -0.259180\n",
      "after[3.796052961823728, 6.246487735188198], before[3.927938804368356, 6.50566823083194]\n"
     ]
    },
    {
     "data": {
      "application/vnd.jupyter.widget-view+json": {
       "model_id": "2041a01423ed486c8a8c8c293a98783a",
       "version_major": 2,
       "version_minor": 0
      },
      "text/plain": [
       "  0%|          | 0/4 [00:00<?, ?it/s]"
      ]
     },
     "metadata": {},
     "output_type": "display_data"
    },
    {
     "name": "stdout",
     "output_type": "stream",
     "text": [
      "0.6, 1.8000000000000003 : mean chagne - -0.031343, score change - 0.043662\n",
      "after[3.66866322456797, 6.883190413243412], before[3.700006153831346, 6.839528019012004]\n"
     ]
    },
    {
     "data": {
      "application/vnd.jupyter.widget-view+json": {
       "model_id": "f92bb7e33a9d47e5b1ab2d56dc85cee0",
       "version_major": 2,
       "version_minor": 0
      },
      "text/plain": [
       "  0%|          | 0/4 [00:00<?, ?it/s]"
      ]
     },
     "metadata": {},
     "output_type": "display_data"
    },
    {
     "name": "stdout",
     "output_type": "stream",
     "text": [
      "0.6, 1.9000000000000001 : mean chagne - -0.141599, score change - -0.238104\n",
      "after[5.520755096212675, 8.644765081517521], before[5.662353910414071, 8.88286873872064]\n"
     ]
    },
    {
     "data": {
      "application/vnd.jupyter.widget-view+json": {
       "model_id": "5583a3a3fea349468f148fb6f43c2890",
       "version_major": 2,
       "version_minor": 0
      },
      "text/plain": [
       "  0%|          | 0/4 [00:00<?, ?it/s]"
      ]
     },
     "metadata": {},
     "output_type": "display_data"
    },
    {
     "name": "stdout",
     "output_type": "stream",
     "text": [
      "0.7000000000000001, 0.1 : mean chagne - -0.012241, score change - -0.013023\n",
      "after[4.712027541163509, 4.797353824884043], before[4.724268284388774, 4.810376578075479]\n"
     ]
    },
    {
     "data": {
      "application/vnd.jupyter.widget-view+json": {
       "model_id": "563a59a7f4aa4cadbf0f60ab5b4be3bf",
       "version_major": 2,
       "version_minor": 0
      },
      "text/plain": [
       "  0%|          | 0/4 [00:00<?, ?it/s]"
      ]
     },
     "metadata": {},
     "output_type": "display_data"
    },
    {
     "name": "stdout",
     "output_type": "stream",
     "text": [
      "0.7000000000000001, 0.2 : mean chagne - -0.020532, score change - -0.028156\n",
      "after[2.4423938190113765, 3.7924934315017946], before[2.4629254977589956, 3.8206497415026526]\n"
     ]
    },
    {
     "data": {
      "application/vnd.jupyter.widget-view+json": {
       "model_id": "46aa71b49dbf43d597f59ab4b31e7c4e",
       "version_major": 2,
       "version_minor": 0
      },
      "text/plain": [
       "  0%|          | 0/4 [00:00<?, ?it/s]"
      ]
     },
     "metadata": {},
     "output_type": "display_data"
    },
    {
     "name": "stdout",
     "output_type": "stream",
     "text": [
      "0.7000000000000001, 0.30000000000000004 : mean chagne - -0.028965, score change - 0.044148\n",
      "after[4.1207438485636265, 7.2418823747531675], before[4.149709333467613, 7.197734167305235]\n"
     ]
    },
    {
     "data": {
      "application/vnd.jupyter.widget-view+json": {
       "model_id": "3a4e757ebfc1454f9cc9ec28ccc40da1",
       "version_major": 2,
       "version_minor": 0
      },
      "text/plain": [
       "  0%|          | 0/4 [00:00<?, ?it/s]"
      ]
     },
     "metadata": {},
     "output_type": "display_data"
    },
    {
     "name": "stdout",
     "output_type": "stream",
     "text": [
      "0.7000000000000001, 0.4 : mean chagne - -0.017766, score change - -0.029661\n",
      "after[2.198281997469554, 3.327077274132294], before[2.2160481161720393, 3.3567385166066037]\n"
     ]
    },
    {
     "data": {
      "application/vnd.jupyter.widget-view+json": {
       "model_id": "9ee30ed193e4486699cb5faae967a3a0",
       "version_major": 2,
       "version_minor": 0
      },
      "text/plain": [
       "  0%|          | 0/4 [00:00<?, ?it/s]"
      ]
     },
     "metadata": {},
     "output_type": "display_data"
    },
    {
     "name": "stdout",
     "output_type": "stream",
     "text": [
      "0.7000000000000001, 0.5 : mean chagne - -0.015258, score change - 0.007485\n",
      "after[3.015433012193308, 4.5457048820941175], before[3.030691137552353, 4.538220331911717]\n"
     ]
    },
    {
     "data": {
      "application/vnd.jupyter.widget-view+json": {
       "model_id": "308016b0dad34463a3fd0076a1008e4f",
       "version_major": 2,
       "version_minor": 0
      },
      "text/plain": [
       "  0%|          | 0/4 [00:00<?, ?it/s]"
      ]
     },
     "metadata": {},
     "output_type": "display_data"
    },
    {
     "name": "stdout",
     "output_type": "stream",
     "text": [
      "0.7000000000000001, 0.6 : mean chagne - -0.030120, score change - -0.037654\n",
      "after[4.131175008535259, 7.031942255915529], before[4.161295251207773, 7.069595956873974]\n"
     ]
    },
    {
     "data": {
      "application/vnd.jupyter.widget-view+json": {
       "model_id": "e9b8afa69ece403ea8003abc831af85b",
       "version_major": 2,
       "version_minor": 0
      },
      "text/plain": [
       "  0%|          | 0/4 [00:00<?, ?it/s]"
      ]
     },
     "metadata": {},
     "output_type": "display_data"
    },
    {
     "name": "stdout",
     "output_type": "stream",
     "text": [
      "0.7000000000000001, 0.7000000000000001 : mean chagne - -0.008330, score change - -0.032802\n",
      "after[3.767655728683735, 2.8985165215343924], before[3.7759855708208763, 2.931318394676369]\n"
     ]
    },
    {
     "data": {
      "application/vnd.jupyter.widget-view+json": {
       "model_id": "f655aabfa987486f99351479654a49df",
       "version_major": 2,
       "version_minor": 0
      },
      "text/plain": [
       "  0%|          | 0/4 [00:00<?, ?it/s]"
      ]
     },
     "metadata": {},
     "output_type": "display_data"
    },
    {
     "name": "stdout",
     "output_type": "stream",
     "text": [
      "0.7000000000000001, 0.8 : mean chagne - 0.017005, score change - 0.081017\n",
      "after[7.346879865059846, 7.303055198342412], before[7.329874479924831, 7.222038319754189]\n"
     ]
    },
    {
     "data": {
      "application/vnd.jupyter.widget-view+json": {
       "model_id": "868a244b22d844eeab426546e99dbbe7",
       "version_major": 2,
       "version_minor": 0
      },
      "text/plain": [
       "  0%|          | 0/4 [00:00<?, ?it/s]"
      ]
     },
     "metadata": {},
     "output_type": "display_data"
    },
    {
     "name": "stdout",
     "output_type": "stream",
     "text": [
      "0.7000000000000001, 0.9 : mean chagne - -0.009785, score change - 0.000953\n",
      "after[3.7398073448931193, 5.042311945625485], before[3.7495926021228807, 5.041359047509934]\n"
     ]
    },
    {
     "data": {
      "application/vnd.jupyter.widget-view+json": {
       "model_id": "5e5525a8867f4293b215f8eac5f39d4e",
       "version_major": 2,
       "version_minor": 0
      },
      "text/plain": [
       "  0%|          | 0/4 [00:00<?, ?it/s]"
      ]
     },
     "metadata": {},
     "output_type": "display_data"
    },
    {
     "name": "stdout",
     "output_type": "stream",
     "text": [
      "0.7000000000000001, 1.0 : mean chagne - -0.011844, score change - -0.010019\n",
      "after[2.3887490327673953, 3.3113112976292336], before[2.4005929482424975, 3.321330551465632]\n"
     ]
    },
    {
     "data": {
      "application/vnd.jupyter.widget-view+json": {
       "model_id": "5ad7f0bc23654c54b083a807e31100e4",
       "version_major": 2,
       "version_minor": 0
      },
      "text/plain": [
       "  0%|          | 0/4 [00:00<?, ?it/s]"
      ]
     },
     "metadata": {},
     "output_type": "display_data"
    },
    {
     "name": "stdout",
     "output_type": "stream",
     "text": [
      "0.7000000000000001, 1.1 : mean chagne - -0.010569, score change - -0.018746\n",
      "after[2.490033045455653, 3.6356382138422654], before[2.500601947591368, 3.654383797297098]\n"
     ]
    },
    {
     "data": {
      "application/vnd.jupyter.widget-view+json": {
       "model_id": "0a44e7e28d074bf888802ae1edaab729",
       "version_major": 2,
       "version_minor": 0
      },
      "text/plain": [
       "  0%|          | 0/4 [00:00<?, ?it/s]"
      ]
     },
     "metadata": {},
     "output_type": "display_data"
    },
    {
     "name": "stdout",
     "output_type": "stream",
     "text": [
      "0.7000000000000001, 1.2000000000000002 : mean chagne - -0.039502, score change - -0.095439\n",
      "after[3.6198148218750785, 5.485319282847924], before[3.659316635871421, 5.580758191579513]\n"
     ]
    },
    {
     "data": {
      "application/vnd.jupyter.widget-view+json": {
       "model_id": "c72c78b82af748f8a1bcf97a5dde4ffc",
       "version_major": 2,
       "version_minor": 0
      },
      "text/plain": [
       "  0%|          | 0/4 [00:00<?, ?it/s]"
      ]
     },
     "metadata": {},
     "output_type": "display_data"
    },
    {
     "name": "stdout",
     "output_type": "stream",
     "text": [
      "0.7000000000000001, 1.3000000000000003 : mean chagne - -0.024448, score change - -0.034204\n",
      "after[3.034998277247671, 4.544224802304891], before[3.059446424539843, 4.578429195862915]\n"
     ]
    },
    {
     "data": {
      "application/vnd.jupyter.widget-view+json": {
       "model_id": "eeeccb0266f44a68911d58c2cb0adcd7",
       "version_major": 2,
       "version_minor": 0
      },
      "text/plain": [
       "  0%|          | 0/4 [00:00<?, ?it/s]"
      ]
     },
     "metadata": {},
     "output_type": "display_data"
    },
    {
     "name": "stdout",
     "output_type": "stream",
     "text": [
      "0.7000000000000001, 1.4000000000000001 : mean chagne - -0.010801, score change - -0.010900\n",
      "after[2.855216205706956, 3.816451931867728], before[2.8660168297645185, 3.827351706013672]\n"
     ]
    },
    {
     "data": {
      "application/vnd.jupyter.widget-view+json": {
       "model_id": "193eee72966844e493685059d840ad1c",
       "version_major": 2,
       "version_minor": 0
      },
      "text/plain": [
       "  0%|          | 0/4 [00:00<?, ?it/s]"
      ]
     },
     "metadata": {},
     "output_type": "display_data"
    },
    {
     "name": "stdout",
     "output_type": "stream",
     "text": [
      "0.7000000000000001, 1.5000000000000002 : mean chagne - -0.022861, score change - -0.035591\n",
      "after[3.978612785526175, 6.743170394721366], before[4.001474061815633, 6.778761286550496]\n"
     ]
    },
    {
     "data": {
      "application/vnd.jupyter.widget-view+json": {
       "model_id": "a825ce43b9e74ab2b479819d990693b3",
       "version_major": 2,
       "version_minor": 0
      },
      "text/plain": [
       "  0%|          | 0/4 [00:00<?, ?it/s]"
      ]
     },
     "metadata": {},
     "output_type": "display_data"
    },
    {
     "name": "stdout",
     "output_type": "stream",
     "text": [
      "0.7000000000000001, 1.6 : mean chagne - -0.024583, score change - -0.028659\n",
      "after[3.4509808749960595, 5.251957865510589], before[3.475564200384645, 5.280616838437522]\n"
     ]
    },
    {
     "data": {
      "application/vnd.jupyter.widget-view+json": {
       "model_id": "ffdac5069c4b4059bd88002494b84577",
       "version_major": 2,
       "version_minor": 0
      },
      "text/plain": [
       "  0%|          | 0/4 [00:00<?, ?it/s]"
      ]
     },
     "metadata": {},
     "output_type": "display_data"
    },
    {
     "name": "stdout",
     "output_type": "stream",
     "text": [
      "0.7000000000000001, 1.7000000000000002 : mean chagne - -0.043177, score change - 0.088747\n",
      "after[6.805360241279414, 10.11716986006821], before[6.848536820047935, 10.028423056396932]\n"
     ]
    },
    {
     "data": {
      "application/vnd.jupyter.widget-view+json": {
       "model_id": "b8d7f1cab81b4d5ea69327a5fb237850",
       "version_major": 2,
       "version_minor": 0
      },
      "text/plain": [
       "  0%|          | 0/4 [00:00<?, ?it/s]"
      ]
     },
     "metadata": {},
     "output_type": "display_data"
    },
    {
     "name": "stdout",
     "output_type": "stream",
     "text": [
      "0.7000000000000001, 1.8000000000000003 : mean chagne - 0.071613, score change - 0.121731\n",
      "after[1.8972740542853428, 2.731336371982135], before[1.8256613755283884, 2.609605156528022]\n"
     ]
    },
    {
     "data": {
      "application/vnd.jupyter.widget-view+json": {
       "model_id": "444cc9e0577f489e8c6250e6656376ce",
       "version_major": 2,
       "version_minor": 0
      },
      "text/plain": [
       "  0%|          | 0/4 [00:00<?, ?it/s]"
      ]
     },
     "metadata": {},
     "output_type": "display_data"
    },
    {
     "name": "stdout",
     "output_type": "stream",
     "text": [
      "0.7000000000000001, 1.9000000000000001 : mean chagne - -0.009705, score change - -0.009727\n",
      "after[2.1101923511905367, 2.707782025778406], before[2.1198975827707383, 2.717509090947951]\n"
     ]
    },
    {
     "data": {
      "application/vnd.jupyter.widget-view+json": {
       "model_id": "5fd3e97e540f40389fe9ad450968c31a",
       "version_major": 2,
       "version_minor": 0
      },
      "text/plain": [
       "  0%|          | 0/4 [00:00<?, ?it/s]"
      ]
     },
     "metadata": {},
     "output_type": "display_data"
    },
    {
     "name": "stdout",
     "output_type": "stream",
     "text": [
      "0.8, 0.1 : mean chagne - -0.017141, score change - -0.015857\n",
      "after[4.184451020293026, 3.592740445172554], before[4.201592314338062, 3.608597903028553]\n"
     ]
    },
    {
     "data": {
      "application/vnd.jupyter.widget-view+json": {
       "model_id": "7dc372eca72e486f805b067ae7196af1",
       "version_major": 2,
       "version_minor": 0
      },
      "text/plain": [
       "  0%|          | 0/4 [00:00<?, ?it/s]"
      ]
     },
     "metadata": {},
     "output_type": "display_data"
    },
    {
     "name": "stdout",
     "output_type": "stream",
     "text": [
      "0.8, 0.2 : mean chagne - -0.007542, score change - -0.048052\n",
      "after[2.2524476492275474, 3.6201812948984133], before[2.259989802609135, 3.668233245355551]\n"
     ]
    },
    {
     "data": {
      "application/vnd.jupyter.widget-view+json": {
       "model_id": "58fd80c3028f4399818db4234ca038d4",
       "version_major": 2,
       "version_minor": 0
      },
      "text/plain": [
       "  0%|          | 0/4 [00:00<?, ?it/s]"
      ]
     },
     "metadata": {},
     "output_type": "display_data"
    },
    {
     "name": "stdout",
     "output_type": "stream",
     "text": [
      "0.8, 0.30000000000000004 : mean chagne - -0.016498, score change - -0.046256\n",
      "after[5.391896740441823, 7.048758870094126], before[5.408394992057393, 7.095014520672736]\n"
     ]
    },
    {
     "data": {
      "application/vnd.jupyter.widget-view+json": {
       "model_id": "0735407e6c834bee80c8a58a037e708c",
       "version_major": 2,
       "version_minor": 0
      },
      "text/plain": [
       "  0%|          | 0/4 [00:00<?, ?it/s]"
      ]
     },
     "metadata": {},
     "output_type": "display_data"
    },
    {
     "name": "stdout",
     "output_type": "stream",
     "text": [
      "0.8, 0.4 : mean chagne - -0.028388, score change - -0.102827\n",
      "after[5.738402855277095, 6.517146935391744], before[5.766790930258191, 6.619973608393353]\n"
     ]
    },
    {
     "data": {
      "application/vnd.jupyter.widget-view+json": {
       "model_id": "1bbdaff04bbe40bebb2b9ec0d8ce0694",
       "version_major": 2,
       "version_minor": 0
      },
      "text/plain": [
       "  0%|          | 0/4 [00:00<?, ?it/s]"
      ]
     },
     "metadata": {},
     "output_type": "display_data"
    },
    {
     "name": "stdout",
     "output_type": "stream",
     "text": [
      "0.8, 0.5 : mean chagne - -0.011857, score change - -0.029111\n",
      "after[2.432066226759207, 3.4933266667651353], before[2.443922978501546, 3.52243797253691]\n"
     ]
    },
    {
     "data": {
      "application/vnd.jupyter.widget-view+json": {
       "model_id": "ff1b7b108ef4472d84745cadb0892e30",
       "version_major": 2,
       "version_minor": 0
      },
      "text/plain": [
       "  0%|          | 0/4 [00:00<?, ?it/s]"
      ]
     },
     "metadata": {},
     "output_type": "display_data"
    },
    {
     "name": "stdout",
     "output_type": "stream",
     "text": [
      "0.8, 0.6 : mean chagne - -0.003301, score change - -0.002693\n",
      "after[1.6215002849894036, 2.4450404549622764], before[1.624800852339452, 2.447733638498611]\n"
     ]
    },
    {
     "data": {
      "application/vnd.jupyter.widget-view+json": {
       "model_id": "9b0fc437db294f2dbd37edd5bbb4dec0",
       "version_major": 2,
       "version_minor": 0
      },
      "text/plain": [
       "  0%|          | 0/4 [00:00<?, ?it/s]"
      ]
     },
     "metadata": {},
     "output_type": "display_data"
    },
    {
     "name": "stdout",
     "output_type": "stream",
     "text": [
      "0.8, 0.7000000000000001 : mean chagne - -0.002466, score change - -0.009157\n",
      "after[3.6037216915145738, 2.913549286590647], before[3.606187732202018, 2.922706643089441]\n"
     ]
    },
    {
     "data": {
      "application/vnd.jupyter.widget-view+json": {
       "model_id": "889c49764b0c408b8e641c6bea585e64",
       "version_major": 2,
       "version_minor": 0
      },
      "text/plain": [
       "  0%|          | 0/4 [00:00<?, ?it/s]"
      ]
     },
     "metadata": {},
     "output_type": "display_data"
    },
    {
     "name": "stdout",
     "output_type": "stream",
     "text": [
      "0.8, 0.8 : mean chagne - -0.015426, score change - -0.000660\n",
      "after[3.9075223138327253, 4.0580270173272375], before[3.9229478502866315, 4.058687168822125]\n"
     ]
    },
    {
     "data": {
      "application/vnd.jupyter.widget-view+json": {
       "model_id": "3477c06c13654b40a829be37730a5ab1",
       "version_major": 2,
       "version_minor": 0
      },
      "text/plain": [
       "  0%|          | 0/4 [00:00<?, ?it/s]"
      ]
     },
     "metadata": {},
     "output_type": "display_data"
    },
    {
     "name": "stdout",
     "output_type": "stream",
     "text": [
      "0.8, 0.9 : mean chagne - -0.008623, score change - -0.021998\n",
      "after[2.111046291471412, 3.2974471912797907], before[2.1196689897044902, 3.319445449007117]\n"
     ]
    },
    {
     "data": {
      "application/vnd.jupyter.widget-view+json": {
       "model_id": "fc3a9a9c0d7c4183a92c450e1dcebebf",
       "version_major": 2,
       "version_minor": 0
      },
      "text/plain": [
       "  0%|          | 0/4 [00:00<?, ?it/s]"
      ]
     },
     "metadata": {},
     "output_type": "display_data"
    },
    {
     "name": "stdout",
     "output_type": "stream",
     "text": [
      "0.8, 1.0 : mean chagne - -0.004018, score change - -0.010696\n",
      "after[1.7004047748732796, 2.5166273810502435], before[1.7044224190026316, 2.5273228944286976]\n"
     ]
    },
    {
     "data": {
      "application/vnd.jupyter.widget-view+json": {
       "model_id": "12a28845712b492a925c5a5dc9d5594a",
       "version_major": 2,
       "version_minor": 0
      },
      "text/plain": [
       "  0%|          | 0/4 [00:00<?, ?it/s]"
      ]
     },
     "metadata": {},
     "output_type": "display_data"
    },
    {
     "name": "stdout",
     "output_type": "stream",
     "text": [
      "0.8, 1.1 : mean chagne - -0.006472, score change - -0.048338\n",
      "after[4.060323023188089, 4.172715926585186], before[4.066794769263747, 4.221053784469879]\n"
     ]
    },
    {
     "data": {
      "application/vnd.jupyter.widget-view+json": {
       "model_id": "09e30ab5b6c74cbbb9387ca3a93122b8",
       "version_major": 2,
       "version_minor": 0
      },
      "text/plain": [
       "  0%|          | 0/4 [00:00<?, ?it/s]"
      ]
     },
     "metadata": {},
     "output_type": "display_data"
    },
    {
     "name": "stdout",
     "output_type": "stream",
     "text": [
      "0.8, 1.2000000000000002 : mean chagne - -0.018134, score change - -0.025977\n",
      "after[2.6366423232705096, 4.17377097678926], before[2.654776768891543, 4.199747723970572]\n"
     ]
    },
    {
     "data": {
      "application/vnd.jupyter.widget-view+json": {
       "model_id": "a912935a33754b0886bc9b8f353fed05",
       "version_major": 2,
       "version_minor": 0
      },
      "text/plain": [
       "  0%|          | 0/4 [00:00<?, ?it/s]"
      ]
     },
     "metadata": {},
     "output_type": "display_data"
    },
    {
     "name": "stdout",
     "output_type": "stream",
     "text": [
      "0.8, 1.3000000000000003 : mean chagne - 0.102439, score change - 0.288830\n",
      "after[4.539413282102885, 6.3651380849289145], before[4.436974774610902, 6.076308360963276]\n"
     ]
    },
    {
     "data": {
      "application/vnd.jupyter.widget-view+json": {
       "model_id": "787cf34cab0747b9884313b5e28bf741",
       "version_major": 2,
       "version_minor": 0
      },
      "text/plain": [
       "  0%|          | 0/4 [00:00<?, ?it/s]"
      ]
     },
     "metadata": {},
     "output_type": "display_data"
    },
    {
     "name": "stdout",
     "output_type": "stream",
     "text": [
      "0.8, 1.4000000000000001 : mean chagne - -0.044226, score change - -0.011484\n",
      "after[7.078735995800844, 10.958183457439873], before[7.122962286071443, 10.969667160244846]\n"
     ]
    },
    {
     "data": {
      "application/vnd.jupyter.widget-view+json": {
       "model_id": "53439c70903f4436a53f6c3e814b9ff8",
       "version_major": 2,
       "version_minor": 0
      },
      "text/plain": [
       "  0%|          | 0/4 [00:00<?, ?it/s]"
      ]
     },
     "metadata": {},
     "output_type": "display_data"
    },
    {
     "name": "stdout",
     "output_type": "stream",
     "text": [
      "0.8, 1.5000000000000002 : mean chagne - -0.008408, score change - 0.012578\n",
      "after[2.396247605696628, 3.114245092366819], before[2.4046552906588565, 3.1016666383927602]\n"
     ]
    },
    {
     "data": {
      "application/vnd.jupyter.widget-view+json": {
       "model_id": "be829752fb2448f481df23392c3cc653",
       "version_major": 2,
       "version_minor": 0
      },
      "text/plain": [
       "  0%|          | 0/4 [00:00<?, ?it/s]"
      ]
     },
     "metadata": {},
     "output_type": "display_data"
    },
    {
     "name": "stdout",
     "output_type": "stream",
     "text": [
      "0.8, 1.6 : mean chagne - -0.011592, score change - -0.021839\n",
      "after[3.4449189839102035, 5.5632112414440815], before[3.4565106236256273, 5.585050567471167]\n"
     ]
    },
    {
     "data": {
      "application/vnd.jupyter.widget-view+json": {
       "model_id": "efe8b5fd7cf2440ba6d55d1e9d0e5102",
       "version_major": 2,
       "version_minor": 0
      },
      "text/plain": [
       "  0%|          | 0/4 [00:00<?, ?it/s]"
      ]
     },
     "metadata": {},
     "output_type": "display_data"
    },
    {
     "name": "stdout",
     "output_type": "stream",
     "text": [
      "0.8, 1.7000000000000002 : mean chagne - -0.010789, score change - 0.006991\n",
      "after[4.919120752629938, 8.275854214864378], before[4.929909509428031, 8.268862765845995]\n"
     ]
    },
    {
     "data": {
      "application/vnd.jupyter.widget-view+json": {
       "model_id": "4f9be3cdd327482792ac6645776d382f",
       "version_major": 2,
       "version_minor": 0
      },
      "text/plain": [
       "  0%|          | 0/4 [00:00<?, ?it/s]"
      ]
     },
     "metadata": {},
     "output_type": "display_data"
    },
    {
     "name": "stdout",
     "output_type": "stream",
     "text": [
      "0.8, 1.8000000000000003 : mean chagne - -0.013860, score change - -0.040144\n",
      "after[2.7713948794675214, 4.273637939226673], before[2.7852551419016374, 4.313781984181593]\n"
     ]
    },
    {
     "data": {
      "application/vnd.jupyter.widget-view+json": {
       "model_id": "e302a1dc33534f4292c9e34ed9175bc1",
       "version_major": 2,
       "version_minor": 0
      },
      "text/plain": [
       "  0%|          | 0/4 [00:00<?, ?it/s]"
      ]
     },
     "metadata": {},
     "output_type": "display_data"
    },
    {
     "name": "stdout",
     "output_type": "stream",
     "text": [
      "0.8, 1.9000000000000001 : mean chagne - -0.015232, score change - -0.010497\n",
      "after[2.31625412644354, 4.06300190293258], before[2.3314863582020267, 4.073499352763001]\n"
     ]
    },
    {
     "data": {
      "application/vnd.jupyter.widget-view+json": {
       "model_id": "4080994ccee0477c81bc9fd9af811085",
       "version_major": 2,
       "version_minor": 0
      },
      "text/plain": [
       "  0%|          | 0/4 [00:00<?, ?it/s]"
      ]
     },
     "metadata": {},
     "output_type": "display_data"
    },
    {
     "name": "stdout",
     "output_type": "stream",
     "text": [
      "0.9, 0.1 : mean chagne - -0.001687, score change - -0.002278\n",
      "after[4.924162376539329, 3.048800633851591], before[4.925848954560986, 3.051078133900586]\n"
     ]
    },
    {
     "data": {
      "application/vnd.jupyter.widget-view+json": {
       "model_id": "558fc92b93194e1a823ebaa87043f15e",
       "version_major": 2,
       "version_minor": 0
      },
      "text/plain": [
       "  0%|          | 0/4 [00:00<?, ?it/s]"
      ]
     },
     "metadata": {},
     "output_type": "display_data"
    },
    {
     "name": "stdout",
     "output_type": "stream",
     "text": [
      "0.9, 0.2 : mean chagne - -0.018085, score change - -0.021417\n",
      "after[2.472257775346817, 3.9145852752284593], before[2.4903430723365445, 3.9360018891478923]\n"
     ]
    },
    {
     "data": {
      "application/vnd.jupyter.widget-view+json": {
       "model_id": "ad208528e39e47fc811faeb9d47de20e",
       "version_major": 2,
       "version_minor": 0
      },
      "text/plain": [
       "  0%|          | 0/4 [00:00<?, ?it/s]"
      ]
     },
     "metadata": {},
     "output_type": "display_data"
    },
    {
     "name": "stdout",
     "output_type": "stream",
     "text": [
      "0.9, 0.30000000000000004 : mean chagne - 0.066909, score change - 0.080749\n",
      "after[2.5348821633590792, 3.9140852593015176], before[2.467973170863856, 3.8333359255437327]\n"
     ]
    },
    {
     "data": {
      "application/vnd.jupyter.widget-view+json": {
       "model_id": "6417e7a093bb4b2d9e158d13c3dd7178",
       "version_major": 2,
       "version_minor": 0
      },
      "text/plain": [
       "  0%|          | 0/4 [00:00<?, ?it/s]"
      ]
     },
     "metadata": {},
     "output_type": "display_data"
    },
    {
     "name": "stdout",
     "output_type": "stream",
     "text": [
      "0.9, 0.4 : mean chagne - -0.004873, score change - -0.041427\n",
      "after[2.2316331015911977, 3.44784727819632], before[2.236506338548998, 3.4892743820181]\n"
     ]
    },
    {
     "data": {
      "application/vnd.jupyter.widget-view+json": {
       "model_id": "b4ee8304dc8f4ef0992328f700d44d76",
       "version_major": 2,
       "version_minor": 0
      },
      "text/plain": [
       "  0%|          | 0/4 [00:00<?, ?it/s]"
      ]
     },
     "metadata": {},
     "output_type": "display_data"
    },
    {
     "name": "stdout",
     "output_type": "stream",
     "text": [
      "0.9, 0.5 : mean chagne - -0.004256, score change - 0.037223\n",
      "after[2.795997291154081, 3.7117281462671947], before[2.800252869612041, 3.674505370607216]\n"
     ]
    },
    {
     "data": {
      "application/vnd.jupyter.widget-view+json": {
       "model_id": "5ae560a479834971b4b82727ec63a74c",
       "version_major": 2,
       "version_minor": 0
      },
      "text/plain": [
       "  0%|          | 0/4 [00:00<?, ?it/s]"
      ]
     },
     "metadata": {},
     "output_type": "display_data"
    },
    {
     "name": "stdout",
     "output_type": "stream",
     "text": [
      "0.9, 0.6 : mean chagne - -0.008515, score change - -0.018078\n",
      "after[3.0743504252716454, 4.7097583749409635], before[3.0828657360105343, 4.727835922284955]\n"
     ]
    },
    {
     "data": {
      "application/vnd.jupyter.widget-view+json": {
       "model_id": "1e8b0afccf0b4e92bd82d0cd24c5f37f",
       "version_major": 2,
       "version_minor": 0
      },
      "text/plain": [
       "  0%|          | 0/4 [00:00<?, ?it/s]"
      ]
     },
     "metadata": {},
     "output_type": "display_data"
    },
    {
     "name": "stdout",
     "output_type": "stream",
     "text": [
      "0.9, 0.7000000000000001 : mean chagne - -0.004484, score change - -0.007461\n",
      "after[2.0559906934343317, 3.000196260845453], before[2.0604750996487593, 3.0076574596741965]\n"
     ]
    },
    {
     "data": {
      "application/vnd.jupyter.widget-view+json": {
       "model_id": "d8827771f22641d1a32f288113a8492e",
       "version_major": 2,
       "version_minor": 0
      },
      "text/plain": [
       "  0%|          | 0/4 [00:00<?, ?it/s]"
      ]
     },
     "metadata": {},
     "output_type": "display_data"
    },
    {
     "name": "stdout",
     "output_type": "stream",
     "text": [
      "0.9, 0.8 : mean chagne - 0.004210, score change - 0.023335\n",
      "after[2.4112967847685582, 3.694132859174567], before[2.407087062783711, 3.6707980408105616]\n"
     ]
    },
    {
     "data": {
      "application/vnd.jupyter.widget-view+json": {
       "model_id": "f800163388b14cc4a596fbc316ee58a0",
       "version_major": 2,
       "version_minor": 0
      },
      "text/plain": [
       "  0%|          | 0/4 [00:00<?, ?it/s]"
      ]
     },
     "metadata": {},
     "output_type": "display_data"
    },
    {
     "name": "stdout",
     "output_type": "stream",
     "text": [
      "0.9, 0.9 : mean chagne - -0.031087, score change - -0.082623\n",
      "after[4.906978647615144, 4.998171635234476], before[4.938065966894124, 5.080794583415139]\n"
     ]
    },
    {
     "data": {
      "application/vnd.jupyter.widget-view+json": {
       "model_id": "05aca542ec14447493b244d27c15bddd",
       "version_major": 2,
       "version_minor": 0
      },
      "text/plain": [
       "  0%|          | 0/4 [00:00<?, ?it/s]"
      ]
     },
     "metadata": {},
     "output_type": "display_data"
    },
    {
     "name": "stdout",
     "output_type": "stream",
     "text": [
      "0.9, 1.0 : mean chagne - -0.005847, score change - -0.007438\n",
      "after[2.6282333882843587, 3.2147812124234774], before[2.634080460912312, 3.2222189821687577]\n"
     ]
    },
    {
     "data": {
      "application/vnd.jupyter.widget-view+json": {
       "model_id": "b45b6ceb548e4fbfbd26b928c338dc67",
       "version_major": 2,
       "version_minor": 0
      },
      "text/plain": [
       "  0%|          | 0/4 [00:00<?, ?it/s]"
      ]
     },
     "metadata": {},
     "output_type": "display_data"
    },
    {
     "name": "stdout",
     "output_type": "stream",
     "text": [
      "0.9, 1.1 : mean chagne - -0.006798, score change - -0.012227\n",
      "after[1.8920882660087872, 2.668338740786221], before[1.8988865154316712, 2.6805658262820025]\n"
     ]
    },
    {
     "data": {
      "application/vnd.jupyter.widget-view+json": {
       "model_id": "5145974027804bd8a58bdfb6eb4332f0",
       "version_major": 2,
       "version_minor": 0
      },
      "text/plain": [
       "  0%|          | 0/4 [00:00<?, ?it/s]"
      ]
     },
     "metadata": {},
     "output_type": "display_data"
    },
    {
     "name": "stdout",
     "output_type": "stream",
     "text": [
      "0.9, 1.2000000000000002 : mean chagne - -0.034507, score change - -0.009146\n",
      "after[6.398149946626133, 8.070929395956542], before[6.432657421030308, 8.080075895275673]\n"
     ]
    },
    {
     "data": {
      "application/vnd.jupyter.widget-view+json": {
       "model_id": "084cf0331f6d475992351f0e5bdee1e1",
       "version_major": 2,
       "version_minor": 0
      },
      "text/plain": [
       "  0%|          | 0/4 [00:00<?, ?it/s]"
      ]
     },
     "metadata": {},
     "output_type": "display_data"
    },
    {
     "name": "stdout",
     "output_type": "stream",
     "text": [
      "0.9, 1.3000000000000003 : mean chagne - -0.005750, score change - -0.011544\n",
      "after[2.848551472242096, 4.369367193815616], before[2.8543013457604145, 4.380910939045728]\n"
     ]
    },
    {
     "data": {
      "application/vnd.jupyter.widget-view+json": {
       "model_id": "c9916cdc255c4de689c9e8af76df9671",
       "version_major": 2,
       "version_minor": 0
      },
      "text/plain": [
       "  0%|          | 0/4 [00:00<?, ?it/s]"
      ]
     },
     "metadata": {},
     "output_type": "display_data"
    },
    {
     "name": "stdout",
     "output_type": "stream",
     "text": [
      "0.9, 1.4000000000000001 : mean chagne - -0.007034, score change - -0.011705\n",
      "after[3.1031262198893694, 2.8040395032444962], before[3.1101602698592763, 2.8157446544151705]\n"
     ]
    },
    {
     "data": {
      "application/vnd.jupyter.widget-view+json": {
       "model_id": "675605a58ca74e9797e08e13a69d642c",
       "version_major": 2,
       "version_minor": 0
      },
      "text/plain": [
       "  0%|          | 0/4 [00:00<?, ?it/s]"
      ]
     },
     "metadata": {},
     "output_type": "display_data"
    },
    {
     "name": "stdout",
     "output_type": "stream",
     "text": [
      "0.9, 1.5000000000000002 : mean chagne - -0.009993, score change - -0.045809\n",
      "after[5.214357516769914, 8.932817542025168], before[5.224350652884041, 8.978626739064396]\n"
     ]
    },
    {
     "data": {
      "application/vnd.jupyter.widget-view+json": {
       "model_id": "c4615e60bb5a4f758a682146caf4ee22",
       "version_major": 2,
       "version_minor": 0
      },
      "text/plain": [
       "  0%|          | 0/4 [00:00<?, ?it/s]"
      ]
     },
     "metadata": {},
     "output_type": "display_data"
    },
    {
     "name": "stdout",
     "output_type": "stream",
     "text": [
      "0.9, 1.6 : mean chagne - -0.014603, score change - -0.043304\n",
      "after[3.1913946974801077, 4.848844696996748], before[3.205997767069607, 4.892149109018053]\n"
     ]
    },
    {
     "data": {
      "application/vnd.jupyter.widget-view+json": {
       "model_id": "23e5108374684cf8abb07c8a118dfbdb",
       "version_major": 2,
       "version_minor": 0
      },
      "text/plain": [
       "  0%|          | 0/4 [00:00<?, ?it/s]"
      ]
     },
     "metadata": {},
     "output_type": "display_data"
    },
    {
     "name": "stdout",
     "output_type": "stream",
     "text": [
      "0.9, 1.7000000000000002 : mean chagne - -0.010479, score change - -0.022859\n",
      "after[2.216323616340358, 3.3485094857074262], before[2.226802508711969, 3.371368075782819]\n"
     ]
    },
    {
     "data": {
      "application/vnd.jupyter.widget-view+json": {
       "model_id": "145ec0310df64672a97b4bf96abc22a2",
       "version_major": 2,
       "version_minor": 0
      },
      "text/plain": [
       "  0%|          | 0/4 [00:00<?, ?it/s]"
      ]
     },
     "metadata": {},
     "output_type": "display_data"
    },
    {
     "name": "stdout",
     "output_type": "stream",
     "text": [
      "0.9, 1.8000000000000003 : mean chagne - -0.020543, score change - -0.056171\n",
      "after[4.346408235110642, 6.831584040347779], before[4.366951061260121, 6.887755490384681]\n"
     ]
    },
    {
     "data": {
      "application/vnd.jupyter.widget-view+json": {
       "model_id": "c802f924c0a44cec9de241b7a9d742d0",
       "version_major": 2,
       "version_minor": 0
      },
      "text/plain": [
       "  0%|          | 0/4 [00:00<?, ?it/s]"
      ]
     },
     "metadata": {},
     "output_type": "display_data"
    },
    {
     "name": "stdout",
     "output_type": "stream",
     "text": [
      "0.9, 1.9000000000000001 : mean chagne - -0.003789, score change - 0.000819\n",
      "after[3.2495259439130155, 5.45141474740036], before[3.253314624342754, 5.45059610368316]\n"
     ]
    },
    {
     "data": {
      "application/vnd.jupyter.widget-view+json": {
       "model_id": "e3e9f84351aa4cbe9f15e1308aacecb9",
       "version_major": 2,
       "version_minor": 0
      },
      "text/plain": [
       "  0%|          | 0/4 [00:00<?, ?it/s]"
      ]
     },
     "metadata": {},
     "output_type": "display_data"
    },
    {
     "name": "stdout",
     "output_type": "stream",
     "text": [
      "1.0, 0.1 : mean chagne - -0.004428, score change - -0.021064\n",
      "after[3.337773146532637, 3.1624303939081546], before[3.342201379581458, 3.183494766869347]\n"
     ]
    },
    {
     "data": {
      "application/vnd.jupyter.widget-view+json": {
       "model_id": "c5f30b719fed436dbfbcc75dba2494e7",
       "version_major": 2,
       "version_minor": 0
      },
      "text/plain": [
       "  0%|          | 0/4 [00:00<?, ?it/s]"
      ]
     },
     "metadata": {},
     "output_type": "display_data"
    },
    {
     "name": "stdout",
     "output_type": "stream",
     "text": [
      "1.0, 0.2 : mean chagne - -0.002172, score change - -0.010250\n",
      "after[1.8093440455094862, 2.5981900160904265], before[1.8115157668598496, 2.6084397911272905]\n"
     ]
    },
    {
     "data": {
      "application/vnd.jupyter.widget-view+json": {
       "model_id": "68c1cbd17d384129b0af9cbd436283d2",
       "version_major": 2,
       "version_minor": 0
      },
      "text/plain": [
       "  0%|          | 0/4 [00:00<?, ?it/s]"
      ]
     },
     "metadata": {},
     "output_type": "display_data"
    },
    {
     "name": "stdout",
     "output_type": "stream",
     "text": [
      "1.0, 0.30000000000000004 : mean chagne - -0.002189, score change - -0.024792\n",
      "after[1.707698542365856, 2.5451922665103033], before[1.7098873764162832, 2.5699843209770226]\n"
     ]
    },
    {
     "data": {
      "application/vnd.jupyter.widget-view+json": {
       "model_id": "14921021fec7444799bce4776096934f",
       "version_major": 2,
       "version_minor": 0
      },
      "text/plain": [
       "  0%|          | 0/4 [00:00<?, ?it/s]"
      ]
     },
     "metadata": {},
     "output_type": "display_data"
    },
    {
     "name": "stdout",
     "output_type": "stream",
     "text": [
      "1.0, 0.4 : mean chagne - -0.016503, score change - -0.020281\n",
      "after[3.1179434271509314, 4.8333438723214925], before[3.1344460712685893, 4.853625281433859]\n"
     ]
    },
    {
     "data": {
      "application/vnd.jupyter.widget-view+json": {
       "model_id": "a543390c16ba4d16aa62ade624f25739",
       "version_major": 2,
       "version_minor": 0
      },
      "text/plain": [
       "  0%|          | 0/4 [00:00<?, ?it/s]"
      ]
     },
     "metadata": {},
     "output_type": "display_data"
    },
    {
     "name": "stdout",
     "output_type": "stream",
     "text": [
      "1.0, 0.5 : mean chagne - -0.012695, score change - -0.015094\n",
      "after[2.771406560924763, 4.210256134567771], before[2.784101354212023, 4.225349947829249]\n"
     ]
    },
    {
     "data": {
      "application/vnd.jupyter.widget-view+json": {
       "model_id": "5f19d3fdb9224068a49d46eb458f31c5",
       "version_major": 2,
       "version_minor": 0
      },
      "text/plain": [
       "  0%|          | 0/4 [00:00<?, ?it/s]"
      ]
     },
     "metadata": {},
     "output_type": "display_data"
    },
    {
     "name": "stdout",
     "output_type": "stream",
     "text": [
      "1.0, 0.6 : mean chagne - -0.029272, score change - -0.036303\n",
      "after[7.214798963850627, 12.360386328638562], before[7.244070603399985, 12.396689650212625]\n"
     ]
    },
    {
     "data": {
      "application/vnd.jupyter.widget-view+json": {
       "model_id": "00f0e675ff59480c84296dbc266d0afb",
       "version_major": 2,
       "version_minor": 0
      },
      "text/plain": [
       "  0%|          | 0/4 [00:00<?, ?it/s]"
      ]
     },
     "metadata": {},
     "output_type": "display_data"
    },
    {
     "name": "stdout",
     "output_type": "stream",
     "text": [
      "1.0, 0.7000000000000001 : mean chagne - -0.013721, score change - 0.010959\n",
      "after[6.866811684178065, 8.578086039092602], before[6.880532208799434, 8.567127203741954]\n"
     ]
    },
    {
     "data": {
      "application/vnd.jupyter.widget-view+json": {
       "model_id": "cc2bf959d6e84c4898c5e0d819af5502",
       "version_major": 2,
       "version_minor": 0
      },
      "text/plain": [
       "  0%|          | 0/4 [00:00<?, ?it/s]"
      ]
     },
     "metadata": {},
     "output_type": "display_data"
    },
    {
     "name": "stdout",
     "output_type": "stream",
     "text": [
      "1.0, 0.8 : mean chagne - -0.012655, score change - -0.008934\n",
      "after[9.451735474894132, 13.48190655511605], before[9.464390370030262, 13.490840276493113]\n"
     ]
    },
    {
     "data": {
      "application/vnd.jupyter.widget-view+json": {
       "model_id": "027412e9bf2f47348727fba35b79b418",
       "version_major": 2,
       "version_minor": 0
      },
      "text/plain": [
       "  0%|          | 0/4 [00:00<?, ?it/s]"
      ]
     },
     "metadata": {},
     "output_type": "display_data"
    },
    {
     "name": "stdout",
     "output_type": "stream",
     "text": [
      "1.0, 0.9 : mean chagne - -0.005231, score change - -0.008703\n",
      "after[2.36252841579062, 3.5666701934636578], before[2.3677593020010432, 3.5753732178559474]\n"
     ]
    },
    {
     "data": {
      "application/vnd.jupyter.widget-view+json": {
       "model_id": "cb587a00bd1b4c559c56fa611603c496",
       "version_major": 2,
       "version_minor": 0
      },
      "text/plain": [
       "  0%|          | 0/4 [00:00<?, ?it/s]"
      ]
     },
     "metadata": {},
     "output_type": "display_data"
    },
    {
     "name": "stdout",
     "output_type": "stream",
     "text": [
      "1.0, 1.0 : mean chagne - -0.005523, score change - -0.006221\n",
      "after[3.1879601892945866, 4.7939765254098745], before[3.1934835987167656, 4.800197861223131]\n"
     ]
    },
    {
     "data": {
      "application/vnd.jupyter.widget-view+json": {
       "model_id": "8ab560b06fd0437cacf3db1993999737",
       "version_major": 2,
       "version_minor": 0
      },
      "text/plain": [
       "  0%|          | 0/4 [00:00<?, ?it/s]"
      ]
     },
     "metadata": {},
     "output_type": "display_data"
    },
    {
     "name": "stdout",
     "output_type": "stream",
     "text": [
      "1.0, 1.1 : mean chagne - 0.044361, score change - 0.083352\n",
      "after[1.5596611938607732, 2.4596705385848763], before[1.5152998430679214, 2.3763188542035674]\n"
     ]
    },
    {
     "data": {
      "application/vnd.jupyter.widget-view+json": {
       "model_id": "81943ca9f67d4a6d9513d9f1787e3d16",
       "version_major": 2,
       "version_minor": 0
      },
      "text/plain": [
       "  0%|          | 0/4 [00:00<?, ?it/s]"
      ]
     },
     "metadata": {},
     "output_type": "display_data"
    },
    {
     "name": "stdout",
     "output_type": "stream",
     "text": [
      "1.0, 1.2000000000000002 : mean chagne - -0.015719, score change - -0.032318\n",
      "after[3.3629175402070564, 5.6318207818521095], before[3.3786369893198733, 5.664138295865391]\n"
     ]
    },
    {
     "data": {
      "application/vnd.jupyter.widget-view+json": {
       "model_id": "3cb1054a41854710a3184946fb13a639",
       "version_major": 2,
       "version_minor": 0
      },
      "text/plain": [
       "  0%|          | 0/4 [00:00<?, ?it/s]"
      ]
     },
     "metadata": {},
     "output_type": "display_data"
    },
    {
     "name": "stdout",
     "output_type": "stream",
     "text": [
      "1.0, 1.3000000000000003 : mean chagne - -0.005686, score change - -0.002278\n",
      "after[4.127299489422977, 4.157616009152934], before[4.132985110813228, 4.159894501967335]\n"
     ]
    },
    {
     "data": {
      "application/vnd.jupyter.widget-view+json": {
       "model_id": "3de6a8b977e541da8b2123604d018fdf",
       "version_major": 2,
       "version_minor": 0
      },
      "text/plain": [
       "  0%|          | 0/4 [00:00<?, ?it/s]"
      ]
     },
     "metadata": {},
     "output_type": "display_data"
    },
    {
     "name": "stdout",
     "output_type": "stream",
     "text": [
      "1.0, 1.4000000000000001 : mean chagne - 0.000077, score change - -0.004606\n",
      "after[2.3950279905501155, 3.725738527971939], before[2.3949507474748155, 3.7303443130820035]\n"
     ]
    },
    {
     "data": {
      "application/vnd.jupyter.widget-view+json": {
       "model_id": "58bd3670a2d64a808164b59ac5fc5fcd",
       "version_major": 2,
       "version_minor": 0
      },
      "text/plain": [
       "  0%|          | 0/4 [00:00<?, ?it/s]"
      ]
     },
     "metadata": {},
     "output_type": "display_data"
    },
    {
     "name": "stdout",
     "output_type": "stream",
     "text": [
      "1.0, 1.5000000000000002 : mean chagne - -0.010530, score change - -0.030138\n",
      "after[5.440061942221434, 7.804115143808649], before[5.4505922892900776, 7.834253538104288]\n"
     ]
    },
    {
     "data": {
      "application/vnd.jupyter.widget-view+json": {
       "model_id": "5f2d783f1cb34810a05dd5db80c939e6",
       "version_major": 2,
       "version_minor": 0
      },
      "text/plain": [
       "  0%|          | 0/4 [00:00<?, ?it/s]"
      ]
     },
     "metadata": {},
     "output_type": "display_data"
    },
    {
     "name": "stdout",
     "output_type": "stream",
     "text": [
      "1.0, 1.6 : mean chagne - -0.010426, score change - 0.008947\n",
      "after[6.730221835634546, 11.028856505374833], before[6.740647563211506, 11.019909729776806]\n"
     ]
    },
    {
     "data": {
      "application/vnd.jupyter.widget-view+json": {
       "model_id": "409e7d0f19a045cc8ded95b96cdd9069",
       "version_major": 2,
       "version_minor": 0
      },
      "text/plain": [
       "  0%|          | 0/4 [00:00<?, ?it/s]"
      ]
     },
     "metadata": {},
     "output_type": "display_data"
    },
    {
     "name": "stdout",
     "output_type": "stream",
     "text": [
      "1.0, 1.7000000000000002 : mean chagne - -0.032929, score change - -0.025597\n",
      "after[6.22605024676124, 9.980698323098936], before[6.258979227903907, 10.00629524382376]\n"
     ]
    },
    {
     "data": {
      "application/vnd.jupyter.widget-view+json": {
       "model_id": "9323272cbe374f8e8a753e9fdf4137c0",
       "version_major": 2,
       "version_minor": 0
      },
      "text/plain": [
       "  0%|          | 0/4 [00:00<?, ?it/s]"
      ]
     },
     "metadata": {},
     "output_type": "display_data"
    },
    {
     "name": "stdout",
     "output_type": "stream",
     "text": [
      "1.0, 1.8000000000000003 : mean chagne - -0.002667, score change - -0.006209\n",
      "after[5.216575476330408, 5.694628528328794], before[5.21924225871727, 5.7008379002227585]\n"
     ]
    },
    {
     "data": {
      "application/vnd.jupyter.widget-view+json": {
       "model_id": "d41872b6318d4dce98c192b34cbe0303",
       "version_major": 2,
       "version_minor": 0
      },
      "text/plain": [
       "  0%|          | 0/4 [00:00<?, ?it/s]"
      ]
     },
     "metadata": {},
     "output_type": "display_data"
    },
    {
     "name": "stdout",
     "output_type": "stream",
     "text": [
      "1.0, 1.9000000000000001 : mean chagne - -0.014082, score change - -0.002040\n",
      "after[5.634164546670897, 9.190358545659247], before[5.648246753677431, 9.192398958446951]\n"
     ]
    },
    {
     "data": {
      "application/vnd.jupyter.widget-view+json": {
       "model_id": "e4e65c906a5c44668c592bc4d73ae296",
       "version_major": 2,
       "version_minor": 0
      },
      "text/plain": [
       "  0%|          | 0/4 [00:00<?, ?it/s]"
      ]
     },
     "metadata": {},
     "output_type": "display_data"
    },
    {
     "name": "stdout",
     "output_type": "stream",
     "text": [
      "1.1, 0.1 : mean chagne - -0.008593, score change - -0.026956\n",
      "after[2.877332795261185, 3.8161510087237], before[2.885925746819554, 3.8431073167534837]\n"
     ]
    },
    {
     "data": {
      "application/vnd.jupyter.widget-view+json": {
       "model_id": "c9e80a1cf07b43369282520ff1cb9ff9",
       "version_major": 2,
       "version_minor": 0
      },
      "text/plain": [
       "  0%|          | 0/4 [00:00<?, ?it/s]"
      ]
     },
     "metadata": {},
     "output_type": "display_data"
    },
    {
     "name": "stdout",
     "output_type": "stream",
     "text": [
      "1.1, 0.2 : mean chagne - -0.016475, score change - -0.026599\n",
      "after[5.753522926632001, 7.799673239751587], before[5.769997952739425, 7.826272495133395]\n"
     ]
    },
    {
     "data": {
      "application/vnd.jupyter.widget-view+json": {
       "model_id": "59e14b39c6bf442b9a03ba38cacc16b2",
       "version_major": 2,
       "version_minor": 0
      },
      "text/plain": [
       "  0%|          | 0/4 [00:00<?, ?it/s]"
      ]
     },
     "metadata": {},
     "output_type": "display_data"
    },
    {
     "name": "stdout",
     "output_type": "stream",
     "text": [
      "1.1, 0.30000000000000004 : mean chagne - -0.016208, score change - -0.033532\n",
      "after[4.048015965062872, 6.713396846877163], before[4.06422390487094, 6.746928628172804]\n"
     ]
    },
    {
     "data": {
      "application/vnd.jupyter.widget-view+json": {
       "model_id": "b6f319efebfb413f8ad5181ba71c2e48",
       "version_major": 2,
       "version_minor": 0
      },
      "text/plain": [
       "  0%|          | 0/4 [00:00<?, ?it/s]"
      ]
     },
     "metadata": {},
     "output_type": "display_data"
    },
    {
     "name": "stdout",
     "output_type": "stream",
     "text": [
      "1.1, 0.4 : mean chagne - -0.002374, score change - -0.002192\n",
      "after[3.303852917062255, 3.0548280474338965], before[3.306227001540182, 3.0570201153456003]\n"
     ]
    },
    {
     "data": {
      "application/vnd.jupyter.widget-view+json": {
       "model_id": "4270b640d9254147a42aa9a6f67f7439",
       "version_major": 2,
       "version_minor": 0
      },
      "text/plain": [
       "  0%|          | 0/4 [00:00<?, ?it/s]"
      ]
     },
     "metadata": {},
     "output_type": "display_data"
    },
    {
     "name": "stdout",
     "output_type": "stream",
     "text": [
      "1.1, 0.5 : mean chagne - -0.006510, score change - -0.001793\n",
      "after[1.5015695305926113, 2.4239149298830975], before[1.5080791813477712, 2.425707736429632]\n"
     ]
    },
    {
     "data": {
      "application/vnd.jupyter.widget-view+json": {
       "model_id": "924b8452500e4f0ba5b7255989f51b76",
       "version_major": 2,
       "version_minor": 0
      },
      "text/plain": [
       "  0%|          | 0/4 [00:00<?, ?it/s]"
      ]
     },
     "metadata": {},
     "output_type": "display_data"
    },
    {
     "name": "stdout",
     "output_type": "stream",
     "text": [
      "1.1, 0.6 : mean chagne - -0.072807, score change - 0.007212\n",
      "after[2.6011116768328417, 3.8356786402007534], before[2.673919020027133, 3.828466361559075]\n"
     ]
    },
    {
     "data": {
      "application/vnd.jupyter.widget-view+json": {
       "model_id": "1b97e343bfd044258b13ee3a69050e5f",
       "version_major": 2,
       "version_minor": 0
      },
      "text/plain": [
       "  0%|          | 0/4 [00:00<?, ?it/s]"
      ]
     },
     "metadata": {},
     "output_type": "display_data"
    },
    {
     "name": "stdout",
     "output_type": "stream",
     "text": [
      "1.1, 0.7000000000000001 : mean chagne - -0.013609, score change - -0.022207\n",
      "after[3.6126695160570925, 5.167762178790079], before[3.6262789710919234, 5.189969624316315]\n"
     ]
    },
    {
     "data": {
      "application/vnd.jupyter.widget-view+json": {
       "model_id": "19f75c9c2fe24ad9bc97a50111b0fa25",
       "version_major": 2,
       "version_minor": 0
      },
      "text/plain": [
       "  0%|          | 0/4 [00:00<?, ?it/s]"
      ]
     },
     "metadata": {},
     "output_type": "display_data"
    },
    {
     "name": "stdout",
     "output_type": "stream",
     "text": [
      "1.1, 0.8 : mean chagne - 0.115270, score change - 0.186274\n",
      "after[3.8191452879105485, 3.3084951318909273], before[3.7038756976844316, 3.1222214299440916]\n"
     ]
    },
    {
     "data": {
      "application/vnd.jupyter.widget-view+json": {
       "model_id": "5794ae34493343668d82f2ba70f408a7",
       "version_major": 2,
       "version_minor": 0
      },
      "text/plain": [
       "  0%|          | 0/4 [00:00<?, ?it/s]"
      ]
     },
     "metadata": {},
     "output_type": "display_data"
    },
    {
     "name": "stdout",
     "output_type": "stream",
     "text": [
      "1.1, 0.9 : mean chagne - -0.000811, score change - 0.001004\n",
      "after[2.2490459875221678, 3.6041131977999576], before[2.2498571747540814, 3.603109013784704]\n"
     ]
    },
    {
     "data": {
      "application/vnd.jupyter.widget-view+json": {
       "model_id": "b7d0133c57954b378302209b0aa69654",
       "version_major": 2,
       "version_minor": 0
      },
      "text/plain": [
       "  0%|          | 0/4 [00:00<?, ?it/s]"
      ]
     },
     "metadata": {},
     "output_type": "display_data"
    },
    {
     "name": "stdout",
     "output_type": "stream",
     "text": [
      "1.1, 1.0 : mean chagne - 0.008943, score change - 0.023762\n",
      "after[1.842119546125724, 2.721597112758233], before[1.833176314875022, 2.697834939290235]\n"
     ]
    },
    {
     "data": {
      "application/vnd.jupyter.widget-view+json": {
       "model_id": "747ad5ae7e0049ebb9f50aafa203ba3c",
       "version_major": 2,
       "version_minor": 0
      },
      "text/plain": [
       "  0%|          | 0/4 [00:00<?, ?it/s]"
      ]
     },
     "metadata": {},
     "output_type": "display_data"
    },
    {
     "name": "stdout",
     "output_type": "stream",
     "text": [
      "1.1, 1.1 : mean chagne - -0.004942, score change - -0.003811\n",
      "after[5.482705625155651, 6.161729241009061], before[5.487647866050334, 6.165539803224869]\n"
     ]
    },
    {
     "data": {
      "application/vnd.jupyter.widget-view+json": {
       "model_id": "dba8e9a766d64f49ae75ce144c6bf535",
       "version_major": 2,
       "version_minor": 0
      },
      "text/plain": [
       "  0%|          | 0/4 [00:00<?, ?it/s]"
      ]
     },
     "metadata": {},
     "output_type": "display_data"
    },
    {
     "name": "stdout",
     "output_type": "stream",
     "text": [
      "1.1, 1.2000000000000002 : mean chagne - -0.002996, score change - -0.001441\n",
      "after[6.156619625331706, 8.351042012690577], before[6.15961587253745, 8.352483265590644]\n"
     ]
    },
    {
     "data": {
      "application/vnd.jupyter.widget-view+json": {
       "model_id": "9b451c10b9e64cf8b905dd74ca84f0e4",
       "version_major": 2,
       "version_minor": 0
      },
      "text/plain": [
       "  0%|          | 0/4 [00:00<?, ?it/s]"
      ]
     },
     "metadata": {},
     "output_type": "display_data"
    },
    {
     "name": "stdout",
     "output_type": "stream",
     "text": [
      "1.1, 1.3000000000000003 : mean chagne - -0.004931, score change - -0.000483\n",
      "after[2.4512463433021163, 3.603632702558303], before[2.4561775749821746, 3.6041158846438233]\n"
     ]
    },
    {
     "data": {
      "application/vnd.jupyter.widget-view+json": {
       "model_id": "3f3fee69922b4ee89193d694332593c4",
       "version_major": 2,
       "version_minor": 0
      },
      "text/plain": [
       "  0%|          | 0/4 [00:00<?, ?it/s]"
      ]
     },
     "metadata": {},
     "output_type": "display_data"
    },
    {
     "name": "stdout",
     "output_type": "stream",
     "text": [
      "1.1, 1.4000000000000001 : mean chagne - -0.025010, score change - -0.017296\n",
      "after[5.534271215479841, 8.237004234996515], before[5.55928079120991, 8.254300155673594]\n"
     ]
    },
    {
     "data": {
      "application/vnd.jupyter.widget-view+json": {
       "model_id": "7ddd5b14ae9f40748e5c718dcb2d4b8f",
       "version_major": 2,
       "version_minor": 0
      },
      "text/plain": [
       "  0%|          | 0/4 [00:00<?, ?it/s]"
      ]
     },
     "metadata": {},
     "output_type": "display_data"
    },
    {
     "name": "stdout",
     "output_type": "stream",
     "text": [
      "1.1, 1.5000000000000002 : mean chagne - 0.009396, score change - 0.028305\n",
      "after[1.9142466539274712, 2.517298671996635], before[1.9048501871332189, 2.4889941037888876]\n"
     ]
    },
    {
     "data": {
      "application/vnd.jupyter.widget-view+json": {
       "model_id": "22d2b26b56c04a39a7866ced60559af2",
       "version_major": 2,
       "version_minor": 0
      },
      "text/plain": [
       "  0%|          | 0/4 [00:00<?, ?it/s]"
      ]
     },
     "metadata": {},
     "output_type": "display_data"
    },
    {
     "name": "stdout",
     "output_type": "stream",
     "text": [
      "1.1, 1.6 : mean chagne - -0.003173, score change - -0.003525\n",
      "after[2.2897251092729762, 3.337662023983323], before[2.292897697011526, 3.341187504628889]\n"
     ]
    },
    {
     "data": {
      "application/vnd.jupyter.widget-view+json": {
       "model_id": "30d44a28487d43c89904c8aadcfc5237",
       "version_major": 2,
       "version_minor": 0
      },
      "text/plain": [
       "  0%|          | 0/4 [00:00<?, ?it/s]"
      ]
     },
     "metadata": {},
     "output_type": "display_data"
    },
    {
     "name": "stdout",
     "output_type": "stream",
     "text": [
      "1.1, 1.7000000000000002 : mean chagne - -0.007453, score change - -0.021557\n",
      "after[2.503864170915447, 4.002036479525719], before[2.5113167874529516, 4.023593956715956]\n"
     ]
    },
    {
     "data": {
      "application/vnd.jupyter.widget-view+json": {
       "model_id": "99ceb3bd0a7d4aa88eb7865ec0f9f5ec",
       "version_major": 2,
       "version_minor": 0
      },
      "text/plain": [
       "  0%|          | 0/4 [00:00<?, ?it/s]"
      ]
     },
     "metadata": {},
     "output_type": "display_data"
    },
    {
     "name": "stdout",
     "output_type": "stream",
     "text": [
      "1.1, 1.8000000000000003 : mean chagne - -0.002373, score change - 0.001027\n",
      "after[3.9144313131685897, 2.8885918357914817], before[3.91680450493438, 2.887564620359756]\n"
     ]
    },
    {
     "data": {
      "application/vnd.jupyter.widget-view+json": {
       "model_id": "85e524189a474b898c4e37a30adac4f1",
       "version_major": 2,
       "version_minor": 0
      },
      "text/plain": [
       "  0%|          | 0/4 [00:00<?, ?it/s]"
      ]
     },
     "metadata": {},
     "output_type": "display_data"
    },
    {
     "name": "stdout",
     "output_type": "stream",
     "text": [
      "1.1, 1.9000000000000001 : mean chagne - 0.636685, score change - 1.422687\n",
      "after[2.7268449847794876, 4.9782969448389345], before[2.0901601470741626, 3.555610137197986]\n"
     ]
    },
    {
     "data": {
      "application/vnd.jupyter.widget-view+json": {
       "model_id": "09c1955bcd18457680df9cb0234ff872",
       "version_major": 2,
       "version_minor": 0
      },
      "text/plain": [
       "  0%|          | 0/4 [00:00<?, ?it/s]"
      ]
     },
     "metadata": {},
     "output_type": "display_data"
    },
    {
     "name": "stdout",
     "output_type": "stream",
     "text": [
      "1.2000000000000002, 0.1 : mean chagne - -0.003716, score change - 0.007843\n",
      "after[2.263987154705242, 3.6731193361615606], before[2.267703616625605, 3.6652762231641063]\n"
     ]
    },
    {
     "data": {
      "application/vnd.jupyter.widget-view+json": {
       "model_id": "c02f694e08794422891d86a7581cf2d3",
       "version_major": 2,
       "version_minor": 0
      },
      "text/plain": [
       "  0%|          | 0/4 [00:00<?, ?it/s]"
      ]
     },
     "metadata": {},
     "output_type": "display_data"
    },
    {
     "name": "stdout",
     "output_type": "stream",
     "text": [
      "1.2000000000000002, 0.2 : mean chagne - 0.144598, score change - 0.415558\n",
      "after[5.062040929028413, 8.608732263869456], before[4.917442591538, 8.19317455867608]\n"
     ]
    },
    {
     "data": {
      "application/vnd.jupyter.widget-view+json": {
       "model_id": "3e805805c53f46a7a30f279c49e7f034",
       "version_major": 2,
       "version_minor": 0
      },
      "text/plain": [
       "  0%|          | 0/4 [00:00<?, ?it/s]"
      ]
     },
     "metadata": {},
     "output_type": "display_data"
    },
    {
     "name": "stdout",
     "output_type": "stream",
     "text": [
      "1.2000000000000002, 0.30000000000000004 : mean chagne - -0.004064, score change - 0.002676\n",
      "after[2.366276733738276, 3.9706190711959897], before[2.370340294437262, 3.967943045380827]\n"
     ]
    },
    {
     "data": {
      "application/vnd.jupyter.widget-view+json": {
       "model_id": "167683e4aee349d69df2911b8c9c632d",
       "version_major": 2,
       "version_minor": 0
      },
      "text/plain": [
       "  0%|          | 0/4 [00:00<?, ?it/s]"
      ]
     },
     "metadata": {},
     "output_type": "display_data"
    },
    {
     "name": "stdout",
     "output_type": "stream",
     "text": [
      "1.2000000000000002, 0.4 : mean chagne - -0.008071, score change - -0.013382\n",
      "after[2.7085463108848407, 4.102997884060927], before[2.716616968018997, 4.116379544803825]\n"
     ]
    },
    {
     "data": {
      "application/vnd.jupyter.widget-view+json": {
       "model_id": "465f6176cfcb4a3a993ef8064f509008",
       "version_major": 2,
       "version_minor": 0
      },
      "text/plain": [
       "  0%|          | 0/4 [00:00<?, ?it/s]"
      ]
     },
     "metadata": {},
     "output_type": "display_data"
    },
    {
     "name": "stdout",
     "output_type": "stream",
     "text": [
      "1.2000000000000002, 0.5 : mean chagne - -0.003914, score change - -0.002800\n",
      "after[3.0977875015824594, 4.450467348581169], before[3.1017015364025915, 4.453267135267007]\n"
     ]
    },
    {
     "data": {
      "application/vnd.jupyter.widget-view+json": {
       "model_id": "e2d875f5d2224bb99f84954a0334e1b4",
       "version_major": 2,
       "version_minor": 0
      },
      "text/plain": [
       "  0%|          | 0/4 [00:00<?, ?it/s]"
      ]
     },
     "metadata": {},
     "output_type": "display_data"
    },
    {
     "name": "stdout",
     "output_type": "stream",
     "text": [
      "1.2000000000000002, 0.6 : mean chagne - -0.005871, score change - -0.024122\n",
      "after[4.324702297062013, 3.970971416841188], before[4.330573160888663, 3.995093409579606]\n"
     ]
    },
    {
     "data": {
      "application/vnd.jupyter.widget-view+json": {
       "model_id": "eaf45be10dd4493d91c3dbd1c3f9871b",
       "version_major": 2,
       "version_minor": 0
      },
      "text/plain": [
       "  0%|          | 0/4 [00:00<?, ?it/s]"
      ]
     },
     "metadata": {},
     "output_type": "display_data"
    },
    {
     "name": "stdout",
     "output_type": "stream",
     "text": [
      "1.2000000000000002, 0.7000000000000001 : mean chagne - -0.000108, score change - 0.004795\n",
      "after[3.604827240983227, 5.563369981755516], before[3.604935740273195, 5.5585748602409435]\n"
     ]
    },
    {
     "data": {
      "application/vnd.jupyter.widget-view+json": {
       "model_id": "95b386bc5c4e4ad08a453948bac86653",
       "version_major": 2,
       "version_minor": 0
      },
      "text/plain": [
       "  0%|          | 0/4 [00:00<?, ?it/s]"
      ]
     },
     "metadata": {},
     "output_type": "display_data"
    },
    {
     "name": "stdout",
     "output_type": "stream",
     "text": [
      "1.2000000000000002, 0.8 : mean chagne - -0.004858, score change - -0.031466\n",
      "after[5.46345561641291, 8.132114577519255], before[5.468313427928802, 8.163580135083965]\n"
     ]
    },
    {
     "data": {
      "application/vnd.jupyter.widget-view+json": {
       "model_id": "6212aebc9c5c45a19c70223f9cd2e0e0",
       "version_major": 2,
       "version_minor": 0
      },
      "text/plain": [
       "  0%|          | 0/4 [00:00<?, ?it/s]"
      ]
     },
     "metadata": {},
     "output_type": "display_data"
    },
    {
     "name": "stdout",
     "output_type": "stream",
     "text": [
      "1.2000000000000002, 0.9 : mean chagne - 0.000256, score change - 0.005750\n",
      "after[3.8892485007348743, 7.213590709483047], before[3.888992301089258, 7.207841164329004]\n"
     ]
    },
    {
     "data": {
      "application/vnd.jupyter.widget-view+json": {
       "model_id": "cde88d9a016c4e4da57a3e922bb1a467",
       "version_major": 2,
       "version_minor": 0
      },
      "text/plain": [
       "  0%|          | 0/4 [00:00<?, ?it/s]"
      ]
     },
     "metadata": {},
     "output_type": "display_data"
    },
    {
     "name": "stdout",
     "output_type": "stream",
     "text": [
      "1.2000000000000002, 1.0 : mean chagne - -0.005833, score change - -0.009231\n",
      "after[5.961379011735811, 6.863734806790889], before[5.967211797559855, 6.872966131047512]\n"
     ]
    },
    {
     "data": {
      "application/vnd.jupyter.widget-view+json": {
       "model_id": "24ed60d8e1b54133a46b3929433ccfb7",
       "version_major": 2,
       "version_minor": 0
      },
      "text/plain": [
       "  0%|          | 0/4 [00:00<?, ?it/s]"
      ]
     },
     "metadata": {},
     "output_type": "display_data"
    },
    {
     "name": "stdout",
     "output_type": "stream",
     "text": [
      "1.2000000000000002, 1.1 : mean chagne - -0.000651, score change - 0.005760\n",
      "after[4.485632143846891, 7.452028028380981], before[4.48628270505687, 7.446268228150648]\n"
     ]
    },
    {
     "data": {
      "application/vnd.jupyter.widget-view+json": {
       "model_id": "e801cea8e8a94ece8e042a5b19aa0f01",
       "version_major": 2,
       "version_minor": 0
      },
      "text/plain": [
       "  0%|          | 0/4 [00:00<?, ?it/s]"
      ]
     },
     "metadata": {},
     "output_type": "display_data"
    },
    {
     "name": "stdout",
     "output_type": "stream",
     "text": [
      "1.2000000000000002, 1.2000000000000002 : mean chagne - -0.004745, score change - -0.015235\n",
      "after[2.1432633279419235, 3.7908539928869467], before[2.148008250184082, 3.8060891376386268]\n"
     ]
    },
    {
     "data": {
      "application/vnd.jupyter.widget-view+json": {
       "model_id": "4fbf36d6c29c42179b7f1ae265519b7a",
       "version_major": 2,
       "version_minor": 0
      },
      "text/plain": [
       "  0%|          | 0/4 [00:00<?, ?it/s]"
      ]
     },
     "metadata": {},
     "output_type": "display_data"
    },
    {
     "name": "stdout",
     "output_type": "stream",
     "text": [
      "1.2000000000000002, 1.3000000000000003 : mean chagne - -0.004843, score change - -0.027175\n",
      "after[2.4848560830895385, 3.399728281482212], before[2.489699359338881, 3.426903701218759]\n"
     ]
    },
    {
     "data": {
      "application/vnd.jupyter.widget-view+json": {
       "model_id": "4ff271e33a4c472c95ccb1ef27836f48",
       "version_major": 2,
       "version_minor": 0
      },
      "text/plain": [
       "  0%|          | 0/4 [00:00<?, ?it/s]"
      ]
     },
     "metadata": {},
     "output_type": "display_data"
    },
    {
     "name": "stdout",
     "output_type": "stream",
     "text": [
      "1.2000000000000002, 1.4000000000000001 : mean chagne - -0.001706, score change - 0.003436\n",
      "after[3.494062930576056, 2.8409039845394473], before[3.495768893316123, 2.837467939497609]\n"
     ]
    },
    {
     "data": {
      "application/vnd.jupyter.widget-view+json": {
       "model_id": "fdcb5fd596914c719d3b3a281eb7f622",
       "version_major": 2,
       "version_minor": 0
      },
      "text/plain": [
       "  0%|          | 0/4 [00:00<?, ?it/s]"
      ]
     },
     "metadata": {},
     "output_type": "display_data"
    },
    {
     "name": "stdout",
     "output_type": "stream",
     "text": [
      "1.2000000000000002, 1.5000000000000002 : mean chagne - -0.003808, score change - -0.007711\n",
      "after[4.778766977453553, 7.78472867530532], before[4.782575072870909, 7.792439544797151]\n"
     ]
    },
    {
     "data": {
      "application/vnd.jupyter.widget-view+json": {
       "model_id": "9280f29ae54848febe56366403ab1ba7",
       "version_major": 2,
       "version_minor": 0
      },
      "text/plain": [
       "  0%|          | 0/4 [00:00<?, ?it/s]"
      ]
     },
     "metadata": {},
     "output_type": "display_data"
    },
    {
     "name": "stdout",
     "output_type": "stream",
     "text": [
      "1.2000000000000002, 1.6 : mean chagne - -0.007850, score change - -0.019017\n",
      "after[4.344658596951294, 8.113225211708468], before[4.352508164811467, 8.132241994692855]\n"
     ]
    },
    {
     "data": {
      "application/vnd.jupyter.widget-view+json": {
       "model_id": "4eab444108424ed7abc7044b9856c78b",
       "version_major": 2,
       "version_minor": 0
      },
      "text/plain": [
       "  0%|          | 0/4 [00:00<?, ?it/s]"
      ]
     },
     "metadata": {},
     "output_type": "display_data"
    },
    {
     "name": "stdout",
     "output_type": "stream",
     "text": [
      "1.2000000000000002, 1.7000000000000002 : mean chagne - -0.000830, score change - 0.002524\n",
      "after[3.5796736737374966, 2.8524213467496353], before[3.580503622280084, 2.84989685743659]\n"
     ]
    },
    {
     "data": {
      "application/vnd.jupyter.widget-view+json": {
       "model_id": "7129216cde404964937cb1a00658c376",
       "version_major": 2,
       "version_minor": 0
      },
      "text/plain": [
       "  0%|          | 0/4 [00:00<?, ?it/s]"
      ]
     },
     "metadata": {},
     "output_type": "display_data"
    },
    {
     "name": "stdout",
     "output_type": "stream",
     "text": [
      "1.2000000000000002, 1.8000000000000003 : mean chagne - -0.006100, score change - -0.028125\n",
      "after[2.935174317698607, 4.677356074492796], before[2.9412741827569664, 4.705480954463017]\n"
     ]
    },
    {
     "data": {
      "application/vnd.jupyter.widget-view+json": {
       "model_id": "41bb5506afc644988edda9a80144573d",
       "version_major": 2,
       "version_minor": 0
      },
      "text/plain": [
       "  0%|          | 0/4 [00:00<?, ?it/s]"
      ]
     },
     "metadata": {},
     "output_type": "display_data"
    },
    {
     "name": "stdout",
     "output_type": "stream",
     "text": [
      "1.2000000000000002, 1.9000000000000001 : mean chagne - -0.003010, score change - 0.006813\n",
      "after[4.280548773565608, 7.253585552266358], before[4.283559219886353, 7.246772262468304]\n"
     ]
    },
    {
     "data": {
      "application/vnd.jupyter.widget-view+json": {
       "model_id": "1547d4e958f64829a4767ce2fe2fa6e7",
       "version_major": 2,
       "version_minor": 0
      },
      "text/plain": [
       "  0%|          | 0/4 [00:00<?, ?it/s]"
      ]
     },
     "metadata": {},
     "output_type": "display_data"
    },
    {
     "name": "stdout",
     "output_type": "stream",
     "text": [
      "1.3000000000000003, 0.1 : mean chagne - -0.002268, score change - 0.003662\n",
      "after[3.611350290719254, 3.4978359020235197], before[3.6136182080373724, 3.4941743234028406]\n"
     ]
    },
    {
     "data": {
      "application/vnd.jupyter.widget-view+json": {
       "model_id": "54cf2f97254a4370b8c1676c069794f4",
       "version_major": 2,
       "version_minor": 0
      },
      "text/plain": [
       "  0%|          | 0/4 [00:00<?, ?it/s]"
      ]
     },
     "metadata": {},
     "output_type": "display_data"
    },
    {
     "name": "stdout",
     "output_type": "stream",
     "text": [
      "1.3000000000000003, 0.2 : mean chagne - -0.008984, score change - -0.019778\n",
      "after[4.70333191912302, 6.124563531619838], before[4.712315637885002, 6.14434176534556]\n"
     ]
    },
    {
     "data": {
      "application/vnd.jupyter.widget-view+json": {
       "model_id": "bf41ed138f0e43ac98b9f1e5c9c0ce8c",
       "version_major": 2,
       "version_minor": 0
      },
      "text/plain": [
       "  0%|          | 0/4 [00:00<?, ?it/s]"
      ]
     },
     "metadata": {},
     "output_type": "display_data"
    },
    {
     "name": "stdout",
     "output_type": "stream",
     "text": [
      "1.3000000000000003, 0.30000000000000004 : mean chagne - -0.008866, score change - -0.004679\n",
      "after[6.790329328919528, 10.685264760165264], before[6.799195022379943, 10.68994387803735]\n"
     ]
    },
    {
     "data": {
      "application/vnd.jupyter.widget-view+json": {
       "model_id": "4968801e530144e397c457674522aa8a",
       "version_major": 2,
       "version_minor": 0
      },
      "text/plain": [
       "  0%|          | 0/4 [00:00<?, ?it/s]"
      ]
     },
     "metadata": {},
     "output_type": "display_data"
    },
    {
     "name": "stdout",
     "output_type": "stream",
     "text": [
      "1.3000000000000003, 0.4 : mean chagne - -0.008445, score change - -0.020931\n",
      "after[3.467651238994244, 5.704977006592921], before[3.4760957557695407, 5.72590798344716]\n"
     ]
    },
    {
     "data": {
      "application/vnd.jupyter.widget-view+json": {
       "model_id": "46000ee6d97e4fefbabdef9f604daa18",
       "version_major": 2,
       "version_minor": 0
      },
      "text/plain": [
       "  0%|          | 0/4 [00:00<?, ?it/s]"
      ]
     },
     "metadata": {},
     "output_type": "display_data"
    },
    {
     "name": "stdout",
     "output_type": "stream",
     "text": [
      "1.3000000000000003, 0.5 : mean chagne - -0.008883, score change - -0.013676\n",
      "after[5.354061077529546, 8.222065049464934], before[5.3629440930008885, 8.235741109852626]\n"
     ]
    },
    {
     "data": {
      "application/vnd.jupyter.widget-view+json": {
       "model_id": "549ef41e09564057b53b6640cd4d444c",
       "version_major": 2,
       "version_minor": 0
      },
      "text/plain": [
       "  0%|          | 0/4 [00:00<?, ?it/s]"
      ]
     },
     "metadata": {},
     "output_type": "display_data"
    },
    {
     "name": "stdout",
     "output_type": "stream",
     "text": [
      "1.3000000000000003, 0.6 : mean chagne - -0.001438, score change - -0.002590\n",
      "after[4.609809272920969, 6.154474085642045], before[4.611247272191799, 6.157064121278227]\n"
     ]
    },
    {
     "data": {
      "application/vnd.jupyter.widget-view+json": {
       "model_id": "091f214867d84e7c8717058db9e747a4",
       "version_major": 2,
       "version_minor": 0
      },
      "text/plain": [
       "  0%|          | 0/4 [00:00<?, ?it/s]"
      ]
     },
     "metadata": {},
     "output_type": "display_data"
    },
    {
     "name": "stdout",
     "output_type": "stream",
     "text": [
      "1.3000000000000003, 0.7000000000000001 : mean chagne - 0.011655, score change - -0.000749\n",
      "after[2.9599334064766945, 4.131601519162459], before[2.9482780357519354, 4.1323504983662005]\n"
     ]
    },
    {
     "data": {
      "application/vnd.jupyter.widget-view+json": {
       "model_id": "ba0d2bb1f7ff466fbf1bec23205efa9f",
       "version_major": 2,
       "version_minor": 0
      },
      "text/plain": [
       "  0%|          | 0/4 [00:00<?, ?it/s]"
      ]
     },
     "metadata": {},
     "output_type": "display_data"
    },
    {
     "name": "stdout",
     "output_type": "stream",
     "text": [
      "1.3000000000000003, 0.8 : mean chagne - -0.006365, score change - -0.013175\n",
      "after[6.373558852291943, 9.233517499492851], before[6.379923839585238, 9.246692554898267]\n"
     ]
    },
    {
     "data": {
      "application/vnd.jupyter.widget-view+json": {
       "model_id": "e48d3c9564df404f8f76b07ee04f0fb5",
       "version_major": 2,
       "version_minor": 0
      },
      "text/plain": [
       "  0%|          | 0/4 [00:00<?, ?it/s]"
      ]
     },
     "metadata": {},
     "output_type": "display_data"
    },
    {
     "name": "stdout",
     "output_type": "stream",
     "text": [
      "1.3000000000000003, 0.9 : mean chagne - -0.003728, score change - -0.003427\n",
      "after[7.046686951924514, 8.216761905293504], before[7.050414693995682, 8.220188797001137]\n"
     ]
    },
    {
     "data": {
      "application/vnd.jupyter.widget-view+json": {
       "model_id": "68c78237aa6b4693b6e9e59ef60d0ff1",
       "version_major": 2,
       "version_minor": 0
      },
      "text/plain": [
       "  0%|          | 0/4 [00:00<?, ?it/s]"
      ]
     },
     "metadata": {},
     "output_type": "display_data"
    },
    {
     "name": "stdout",
     "output_type": "stream",
     "text": [
      "1.3000000000000003, 1.0 : mean chagne - -0.003014, score change - -0.011654\n",
      "after[3.0721757115015262, 4.300336405474502], before[3.075189936950361, 4.311990061526449]\n"
     ]
    },
    {
     "data": {
      "application/vnd.jupyter.widget-view+json": {
       "model_id": "e992ad1cf4f14274af433b2afa06667a",
       "version_major": 2,
       "version_minor": 0
      },
      "text/plain": [
       "  0%|          | 0/4 [00:00<?, ?it/s]"
      ]
     },
     "metadata": {},
     "output_type": "display_data"
    },
    {
     "name": "stdout",
     "output_type": "stream",
     "text": [
      "1.3000000000000003, 1.1 : mean chagne - 0.196727, score change - 0.583700\n",
      "after[2.236356845879439, 3.463104959888603], before[2.0396302352712556, 2.8794050071453565]\n"
     ]
    },
    {
     "data": {
      "application/vnd.jupyter.widget-view+json": {
       "model_id": "dbf5992db2104f9caa47eca0ff9d77e7",
       "version_major": 2,
       "version_minor": 0
      },
      "text/plain": [
       "  0%|          | 0/4 [00:00<?, ?it/s]"
      ]
     },
     "metadata": {},
     "output_type": "display_data"
    },
    {
     "name": "stdout",
     "output_type": "stream",
     "text": [
      "1.3000000000000003, 1.2000000000000002 : mean chagne - -0.002354, score change - -0.037143\n",
      "after[4.359370897162551, 4.081667597505003], before[4.361725221918961, 4.118810779792128]\n"
     ]
    },
    {
     "data": {
      "application/vnd.jupyter.widget-view+json": {
       "model_id": "2f2a8e201e0640a2aba3e7d2d0a95ed1",
       "version_major": 2,
       "version_minor": 0
      },
      "text/plain": [
       "  0%|          | 0/4 [00:00<?, ?it/s]"
      ]
     },
     "metadata": {},
     "output_type": "display_data"
    },
    {
     "name": "stdout",
     "output_type": "stream",
     "text": [
      "1.3000000000000003, 1.3000000000000003 : mean chagne - 0.000742, score change - 0.010357\n",
      "after[4.555430813369735, 6.877410595650009], before[4.554689254198389, 6.8670533976517465]\n"
     ]
    },
    {
     "data": {
      "application/vnd.jupyter.widget-view+json": {
       "model_id": "217bd1c64bb34fcba54de7a8b9b137ee",
       "version_major": 2,
       "version_minor": 0
      },
      "text/plain": [
       "  0%|          | 0/4 [00:00<?, ?it/s]"
      ]
     },
     "metadata": {},
     "output_type": "display_data"
    },
    {
     "name": "stdout",
     "output_type": "stream",
     "text": [
      "1.3000000000000003, 1.4000000000000001 : mean chagne - -0.006329, score change - -0.013854\n",
      "after[5.665569578996039, 8.696789486300997], before[5.671898909449901, 8.710643847601101]\n"
     ]
    },
    {
     "data": {
      "application/vnd.jupyter.widget-view+json": {
       "model_id": "bc4eab6b757c4309889dcc53b36f00a5",
       "version_major": 2,
       "version_minor": 0
      },
      "text/plain": [
       "  0%|          | 0/4 [00:00<?, ?it/s]"
      ]
     },
     "metadata": {},
     "output_type": "display_data"
    },
    {
     "name": "stdout",
     "output_type": "stream",
     "text": [
      "1.3000000000000003, 1.5000000000000002 : mean chagne - -0.002486, score change - -0.004855\n",
      "after[5.644112697903265, 7.454258552167453], before[5.646598817562915, 7.459114045681918]\n"
     ]
    },
    {
     "data": {
      "application/vnd.jupyter.widget-view+json": {
       "model_id": "29525610851d4d78bec10ea85a51afe3",
       "version_major": 2,
       "version_minor": 0
      },
      "text/plain": [
       "  0%|          | 0/4 [00:00<?, ?it/s]"
      ]
     },
     "metadata": {},
     "output_type": "display_data"
    },
    {
     "name": "stdout",
     "output_type": "stream",
     "text": [
      "1.3000000000000003, 1.6 : mean chagne - -0.004291, score change - -0.001492\n",
      "after[5.963508706785037, 8.831903525062096], before[5.967799434292871, 8.833395832398045]\n"
     ]
    },
    {
     "data": {
      "application/vnd.jupyter.widget-view+json": {
       "model_id": "5a6d5f57cce64773a1c5f5c798d2095a",
       "version_major": 2,
       "version_minor": 0
      },
      "text/plain": [
       "  0%|          | 0/4 [00:00<?, ?it/s]"
      ]
     },
     "metadata": {},
     "output_type": "display_data"
    },
    {
     "name": "stdout",
     "output_type": "stream",
     "text": [
      "1.3000000000000003, 1.7000000000000002 : mean chagne - -0.002468, score change - 0.000207\n",
      "after[2.995099784865237, 4.618300634021439], before[2.997567289980902, 4.618094041722777]\n"
     ]
    },
    {
     "data": {
      "application/vnd.jupyter.widget-view+json": {
       "model_id": "0af3b58e02b64549a590589173d1c12b",
       "version_major": 2,
       "version_minor": 0
      },
      "text/plain": [
       "  0%|          | 0/4 [00:00<?, ?it/s]"
      ]
     },
     "metadata": {},
     "output_type": "display_data"
    },
    {
     "name": "stdout",
     "output_type": "stream",
     "text": [
      "1.3000000000000003, 1.8000000000000003 : mean chagne - -0.003477, score change - -0.015168\n",
      "after[4.029732879311993, 6.101609080785892], before[4.033209806457362, 6.116776725293609]\n"
     ]
    },
    {
     "data": {
      "application/vnd.jupyter.widget-view+json": {
       "model_id": "c350a264592b407d98c2d4cbed4bee47",
       "version_major": 2,
       "version_minor": 0
      },
      "text/plain": [
       "  0%|          | 0/4 [00:00<?, ?it/s]"
      ]
     },
     "metadata": {},
     "output_type": "display_data"
    },
    {
     "name": "stdout",
     "output_type": "stream",
     "text": [
      "1.3000000000000003, 1.9000000000000001 : mean chagne - -0.007634, score change - -0.014595\n",
      "after[4.329440649600352, 5.96200609973873], before[4.337074824864612, 5.976601228062076]\n"
     ]
    },
    {
     "data": {
      "application/vnd.jupyter.widget-view+json": {
       "model_id": "1048cd0cc468404a8295913d17fe9b44",
       "version_major": 2,
       "version_minor": 0
      },
      "text/plain": [
       "  0%|          | 0/4 [00:00<?, ?it/s]"
      ]
     },
     "metadata": {},
     "output_type": "display_data"
    },
    {
     "name": "stdout",
     "output_type": "stream",
     "text": [
      "1.4000000000000001, 0.1 : mean chagne - -0.016520, score change - 0.019920\n",
      "after[5.479807070729258, 8.403996085772157], before[5.496327465336245, 8.384076405839538]\n"
     ]
    },
    {
     "data": {
      "application/vnd.jupyter.widget-view+json": {
       "model_id": "3c4fcff1c3ef4c5eb3985aa87be8f39d",
       "version_major": 2,
       "version_minor": 0
      },
      "text/plain": [
       "  0%|          | 0/4 [00:00<?, ?it/s]"
      ]
     },
     "metadata": {},
     "output_type": "display_data"
    },
    {
     "name": "stdout",
     "output_type": "stream",
     "text": [
      "1.4000000000000001, 0.2 : mean chagne - -0.001509, score change - 0.019252\n",
      "after[2.338929310177237, 3.635848367597694], before[2.34043826899809, 3.616596397316477]\n"
     ]
    },
    {
     "data": {
      "application/vnd.jupyter.widget-view+json": {
       "model_id": "c779d5dca17c4ed780eae6fae37e5dbd",
       "version_major": 2,
       "version_minor": 0
      },
      "text/plain": [
       "  0%|          | 0/4 [00:00<?, ?it/s]"
      ]
     },
     "metadata": {},
     "output_type": "display_data"
    },
    {
     "name": "stdout",
     "output_type": "stream",
     "text": [
      "1.4000000000000001, 0.30000000000000004 : mean chagne - -0.006348, score change - -0.005148\n",
      "after[5.606196830158704, 9.03622997916115], before[5.612545136836845, 9.04137781208033]\n"
     ]
    },
    {
     "data": {
      "application/vnd.jupyter.widget-view+json": {
       "model_id": "2047231d340c4ecebf20e27564e6981d",
       "version_major": 2,
       "version_minor": 0
      },
      "text/plain": [
       "  0%|          | 0/4 [00:00<?, ?it/s]"
      ]
     },
     "metadata": {},
     "output_type": "display_data"
    },
    {
     "name": "stdout",
     "output_type": "stream",
     "text": [
      "1.4000000000000001, 0.4 : mean chagne - -0.030866, score change - -0.001484\n",
      "after[6.011537207089544, 9.14367872769497], before[6.04240348354112, 9.145162512114329]\n"
     ]
    },
    {
     "data": {
      "application/vnd.jupyter.widget-view+json": {
       "model_id": "e38fa986ac2e4b9f935707e071c89ca6",
       "version_major": 2,
       "version_minor": 0
      },
      "text/plain": [
       "  0%|          | 0/4 [00:00<?, ?it/s]"
      ]
     },
     "metadata": {},
     "output_type": "display_data"
    },
    {
     "name": "stdout",
     "output_type": "stream",
     "text": [
      "1.4000000000000001, 0.5 : mean chagne - -0.003836, score change - -0.015000\n",
      "after[5.775377483296572, 10.121606915976564], before[5.7792138922165055, 10.136607253111611]\n"
     ]
    },
    {
     "data": {
      "application/vnd.jupyter.widget-view+json": {
       "model_id": "a825659a9a3041bf9083de82a40337e8",
       "version_major": 2,
       "version_minor": 0
      },
      "text/plain": [
       "  0%|          | 0/4 [00:00<?, ?it/s]"
      ]
     },
     "metadata": {},
     "output_type": "display_data"
    },
    {
     "name": "stdout",
     "output_type": "stream",
     "text": [
      "1.4000000000000001, 0.6 : mean chagne - -0.003811, score change - -0.023248\n",
      "after[3.2000800308336865, 5.103769447959724], before[3.2038913531973052, 5.127017194654355]\n"
     ]
    },
    {
     "data": {
      "application/vnd.jupyter.widget-view+json": {
       "model_id": "956c020c23494addb5609389918aece8",
       "version_major": 2,
       "version_minor": 0
      },
      "text/plain": [
       "  0%|          | 0/4 [00:00<?, ?it/s]"
      ]
     },
     "metadata": {},
     "output_type": "display_data"
    },
    {
     "name": "stdout",
     "output_type": "stream",
     "text": [
      "1.4000000000000001, 0.7000000000000001 : mean chagne - -0.003765, score change - -0.000568\n",
      "after[3.0484988283535768, 4.335326910900699], before[3.0522637401078083, 4.335894476570991]\n"
     ]
    },
    {
     "data": {
      "application/vnd.jupyter.widget-view+json": {
       "model_id": "15b24aee5d684b3f8319266cc8a0c82b",
       "version_major": 2,
       "version_minor": 0
      },
      "text/plain": [
       "  0%|          | 0/4 [00:00<?, ?it/s]"
      ]
     },
     "metadata": {},
     "output_type": "display_data"
    },
    {
     "name": "stdout",
     "output_type": "stream",
     "text": [
      "1.4000000000000001, 0.8 : mean chagne - -0.004499, score change - -0.030674\n",
      "after[5.4322676597212105, 8.941237003935075], before[5.436766350638427, 8.971910513091656]\n"
     ]
    },
    {
     "data": {
      "application/vnd.jupyter.widget-view+json": {
       "model_id": "69860a382f9f47f3920d5a3767770818",
       "version_major": 2,
       "version_minor": 0
      },
      "text/plain": [
       "  0%|          | 0/4 [00:00<?, ?it/s]"
      ]
     },
     "metadata": {},
     "output_type": "display_data"
    },
    {
     "name": "stdout",
     "output_type": "stream",
     "text": [
      "1.4000000000000001, 0.9 : mean chagne - -0.003874, score change - -0.011735\n",
      "after[4.009265330759037, 6.459823045738858], before[4.013139748824881, 6.471558093788762]\n"
     ]
    },
    {
     "data": {
      "application/vnd.jupyter.widget-view+json": {
       "model_id": "9a5bc1dcc8f548ca96a4f38005f08769",
       "version_major": 2,
       "version_minor": 0
      },
      "text/plain": [
       "  0%|          | 0/4 [00:00<?, ?it/s]"
      ]
     },
     "metadata": {},
     "output_type": "display_data"
    },
    {
     "name": "stdout",
     "output_type": "stream",
     "text": [
      "1.4000000000000001, 1.0 : mean chagne - -0.001932, score change - 0.001547\n",
      "after[2.0186663981761295, 2.888212990535732], before[2.0205984652086997, 2.8866659921373454]\n"
     ]
    },
    {
     "data": {
      "application/vnd.jupyter.widget-view+json": {
       "model_id": "09af1b13801142738f2af3e893c4f44c",
       "version_major": 2,
       "version_minor": 0
      },
      "text/plain": [
       "  0%|          | 0/4 [00:00<?, ?it/s]"
      ]
     },
     "metadata": {},
     "output_type": "display_data"
    },
    {
     "name": "stdout",
     "output_type": "stream",
     "text": [
      "1.4000000000000001, 1.1 : mean chagne - -0.001193, score change - -0.000604\n",
      "after[3.673143505481549, 2.645834463118123], before[3.6743361440006512, 2.6464389620308384]\n"
     ]
    },
    {
     "data": {
      "application/vnd.jupyter.widget-view+json": {
       "model_id": "761512c932cc4697bac14e27b735c031",
       "version_major": 2,
       "version_minor": 0
      },
      "text/plain": [
       "  0%|          | 0/4 [00:00<?, ?it/s]"
      ]
     },
     "metadata": {},
     "output_type": "display_data"
    },
    {
     "name": "stdout",
     "output_type": "stream",
     "text": [
      "1.4000000000000001, 1.2000000000000002 : mean chagne - -0.004658, score change - -0.007115\n",
      "after[3.197977536262173, 5.75110613354553], before[3.2026353757305106, 5.758220711627386]\n"
     ]
    },
    {
     "data": {
      "application/vnd.jupyter.widget-view+json": {
       "model_id": "bcd4d82f5e1343bcbbf1758e11624776",
       "version_major": 2,
       "version_minor": 0
      },
      "text/plain": [
       "  0%|          | 0/4 [00:00<?, ?it/s]"
      ]
     },
     "metadata": {},
     "output_type": "display_data"
    },
    {
     "name": "stdout",
     "output_type": "stream",
     "text": [
      "1.4000000000000001, 1.3000000000000003 : mean chagne - -0.002364, score change - -0.010140\n",
      "after[4.181024454155384, 3.1769876538999604], before[4.183388777128232, 3.1871279658474236]\n"
     ]
    },
    {
     "data": {
      "application/vnd.jupyter.widget-view+json": {
       "model_id": "fc238bfba6454424809d2259968bdbdb",
       "version_major": 2,
       "version_minor": 0
      },
      "text/plain": [
       "  0%|          | 0/4 [00:00<?, ?it/s]"
      ]
     },
     "metadata": {},
     "output_type": "display_data"
    },
    {
     "name": "stdout",
     "output_type": "stream",
     "text": [
      "1.4000000000000001, 1.4000000000000001 : mean chagne - -0.002035, score change - -0.001058\n",
      "after[3.566633228518909, 5.591879239531339], before[3.5686684027414786, 5.592936740566351]\n"
     ]
    },
    {
     "data": {
      "application/vnd.jupyter.widget-view+json": {
       "model_id": "009844e7c7fc4e0c9f65db90bf7465d3",
       "version_major": 2,
       "version_minor": 0
      },
      "text/plain": [
       "  0%|          | 0/4 [00:00<?, ?it/s]"
      ]
     },
     "metadata": {},
     "output_type": "display_data"
    },
    {
     "name": "stdout",
     "output_type": "stream",
     "text": [
      "1.4000000000000001, 1.5000000000000002 : mean chagne - -0.005431, score change - 0.001954\n",
      "after[2.550825084933891, 3.220152585428558], before[2.556256552986468, 3.21819893497871]\n"
     ]
    },
    {
     "data": {
      "application/vnd.jupyter.widget-view+json": {
       "model_id": "b92823aee0e0490ea9b626c49d869379",
       "version_major": 2,
       "version_minor": 0
      },
      "text/plain": [
       "  0%|          | 0/4 [00:00<?, ?it/s]"
      ]
     },
     "metadata": {},
     "output_type": "display_data"
    },
    {
     "name": "stdout",
     "output_type": "stream",
     "text": [
      "1.4000000000000001, 1.6 : mean chagne - -0.001322, score change - -0.000870\n",
      "after[5.348111383037123, 8.360925808063886], before[5.349433072818877, 8.361795978335572]\n"
     ]
    },
    {
     "data": {
      "application/vnd.jupyter.widget-view+json": {
       "model_id": "07e558c4dde64caf995891e4b48f2765",
       "version_major": 2,
       "version_minor": 0
      },
      "text/plain": [
       "  0%|          | 0/4 [00:00<?, ?it/s]"
      ]
     },
     "metadata": {},
     "output_type": "display_data"
    },
    {
     "name": "stdout",
     "output_type": "stream",
     "text": [
      "1.4000000000000001, 1.7000000000000002 : mean chagne - -0.003353, score change - -0.001988\n",
      "after[1.6252515237910952, 2.5921242094199464], before[1.6286041935091076, 2.5941123284008603]\n"
     ]
    },
    {
     "data": {
      "application/vnd.jupyter.widget-view+json": {
       "model_id": "693f769a4b714813aa4f85324e0faddb",
       "version_major": 2,
       "version_minor": 0
      },
      "text/plain": [
       "  0%|          | 0/4 [00:00<?, ?it/s]"
      ]
     },
     "metadata": {},
     "output_type": "display_data"
    },
    {
     "name": "stdout",
     "output_type": "stream",
     "text": [
      "1.4000000000000001, 1.8000000000000003 : mean chagne - -0.003849, score change - -0.000932\n",
      "after[2.059600824847877, 2.965910773416205], before[2.0634499089107083, 2.9668424964212514]\n"
     ]
    },
    {
     "data": {
      "application/vnd.jupyter.widget-view+json": {
       "model_id": "8e323e9725704813bf40f455dfca097f",
       "version_major": 2,
       "version_minor": 0
      },
      "text/plain": [
       "  0%|          | 0/4 [00:00<?, ?it/s]"
      ]
     },
     "metadata": {},
     "output_type": "display_data"
    },
    {
     "name": "stdout",
     "output_type": "stream",
     "text": [
      "1.4000000000000001, 1.9000000000000001 : mean chagne - -0.003015, score change - -0.001438\n",
      "after[4.153646638778018, 4.243978062951252], before[4.156661589557234, 4.2454164713968225]\n"
     ]
    },
    {
     "data": {
      "application/vnd.jupyter.widget-view+json": {
       "model_id": "070d1e7b877043d98448d193fee8ad7e",
       "version_major": 2,
       "version_minor": 0
      },
      "text/plain": [
       "  0%|          | 0/4 [00:00<?, ?it/s]"
      ]
     },
     "metadata": {},
     "output_type": "display_data"
    },
    {
     "name": "stdout",
     "output_type": "stream",
     "text": [
      "1.5000000000000002, 0.1 : mean chagne - -0.002544, score change - -0.010453\n",
      "after[6.044018550631951, 9.568641287679597], before[6.046563022863398, 9.57909419069573]\n"
     ]
    },
    {
     "data": {
      "application/vnd.jupyter.widget-view+json": {
       "model_id": "b852e99e89e24ab39a611c75849de898",
       "version_major": 2,
       "version_minor": 0
      },
      "text/plain": [
       "  0%|          | 0/4 [00:00<?, ?it/s]"
      ]
     },
     "metadata": {},
     "output_type": "display_data"
    },
    {
     "name": "stdout",
     "output_type": "stream",
     "text": [
      "1.5000000000000002, 0.2 : mean chagne - -0.010699, score change - 0.005461\n",
      "after[2.460117432216165, 3.217223763993546], before[2.4708163574881747, 3.2117627293214945]\n"
     ]
    },
    {
     "data": {
      "application/vnd.jupyter.widget-view+json": {
       "model_id": "b61d20327a0d4fe399948bc4b62d325c",
       "version_major": 2,
       "version_minor": 0
      },
      "text/plain": [
       "  0%|          | 0/4 [00:00<?, ?it/s]"
      ]
     },
     "metadata": {},
     "output_type": "display_data"
    },
    {
     "name": "stdout",
     "output_type": "stream",
     "text": [
      "1.5000000000000002, 0.30000000000000004 : mean chagne - -0.010386, score change - -0.011429\n",
      "after[4.741501674817688, 6.962092032841902], before[4.75188748290075, 6.973520690091801]\n"
     ]
    },
    {
     "data": {
      "application/vnd.jupyter.widget-view+json": {
       "model_id": "2cbc6b9d524648f0b5f37a830f7b3852",
       "version_major": 2,
       "version_minor": 0
      },
      "text/plain": [
       "  0%|          | 0/4 [00:00<?, ?it/s]"
      ]
     },
     "metadata": {},
     "output_type": "display_data"
    },
    {
     "name": "stdout",
     "output_type": "stream",
     "text": [
      "1.5000000000000002, 0.4 : mean chagne - -0.004030, score change - -0.003249\n",
      "after[2.935745763094172, 4.476758369452214], before[2.939775686435325, 4.480006927113282]\n"
     ]
    },
    {
     "data": {
      "application/vnd.jupyter.widget-view+json": {
       "model_id": "673f00c2d19e45588af36828bfba6836",
       "version_major": 2,
       "version_minor": 0
      },
      "text/plain": [
       "  0%|          | 0/4 [00:00<?, ?it/s]"
      ]
     },
     "metadata": {},
     "output_type": "display_data"
    },
    {
     "name": "stdout",
     "output_type": "stream",
     "text": [
      "1.5000000000000002, 0.5 : mean chagne - -0.001692, score change - -0.002750\n",
      "after[3.9513539920550094, 3.802694239240666], before[3.9530455736717345, 3.805444493238113]\n"
     ]
    },
    {
     "data": {
      "application/vnd.jupyter.widget-view+json": {
       "model_id": "3658a13d7e2b492c9457b62c7692f4f6",
       "version_major": 2,
       "version_minor": 0
      },
      "text/plain": [
       "  0%|          | 0/4 [00:00<?, ?it/s]"
      ]
     },
     "metadata": {},
     "output_type": "display_data"
    },
    {
     "name": "stdout",
     "output_type": "stream",
     "text": [
      "1.5000000000000002, 0.6 : mean chagne - -0.002152, score change - -0.001994\n",
      "after[1.6487379827955304, 2.49370625138111], before[1.6508899933748926, 2.4957006822428145]\n"
     ]
    },
    {
     "data": {
      "application/vnd.jupyter.widget-view+json": {
       "model_id": "5a4e836824ca40f291bac39d01dc98ba",
       "version_major": 2,
       "version_minor": 0
      },
      "text/plain": [
       "  0%|          | 0/4 [00:00<?, ?it/s]"
      ]
     },
     "metadata": {},
     "output_type": "display_data"
    },
    {
     "name": "stdout",
     "output_type": "stream",
     "text": [
      "1.5000000000000002, 0.7000000000000001 : mean chagne - -0.001628, score change - 0.004320\n",
      "after[2.4313585388987167, 3.96986026099143], before[2.4329863012329263, 3.965540678312987]\n"
     ]
    },
    {
     "data": {
      "application/vnd.jupyter.widget-view+json": {
       "model_id": "2940a7424bdd45e5ba03bc2e6013b42f",
       "version_major": 2,
       "version_minor": 0
      },
      "text/plain": [
       "  0%|          | 0/4 [00:00<?, ?it/s]"
      ]
     },
     "metadata": {},
     "output_type": "display_data"
    },
    {
     "name": "stdout",
     "output_type": "stream",
     "text": [
      "1.5000000000000002, 0.8 : mean chagne - -0.001724, score change - -0.002886\n",
      "after[4.552315696004848, 4.172871819321407], before[4.554039629626385, 4.175757727438832]\n"
     ]
    },
    {
     "data": {
      "application/vnd.jupyter.widget-view+json": {
       "model_id": "21edc965d5824e6f87a580999af1d270",
       "version_major": 2,
       "version_minor": 0
      },
      "text/plain": [
       "  0%|          | 0/4 [00:00<?, ?it/s]"
      ]
     },
     "metadata": {},
     "output_type": "display_data"
    },
    {
     "name": "stdout",
     "output_type": "stream",
     "text": [
      "1.5000000000000002, 0.9 : mean chagne - -0.001081, score change - 0.002726\n",
      "after[3.167696375991504, 2.8948233500060248], before[3.1687769041660423, 2.892096916572595]\n"
     ]
    },
    {
     "data": {
      "application/vnd.jupyter.widget-view+json": {
       "model_id": "3a5ac99e666f400ab43af807093985f1",
       "version_major": 2,
       "version_minor": 0
      },
      "text/plain": [
       "  0%|          | 0/4 [00:00<?, ?it/s]"
      ]
     },
     "metadata": {},
     "output_type": "display_data"
    },
    {
     "name": "stdout",
     "output_type": "stream",
     "text": [
      "1.5000000000000002, 1.0 : mean chagne - -0.003056, score change - -0.014513\n",
      "after[2.1656889596882114, 3.0093800100670336], before[2.1687451217506055, 3.0238926076769297]\n"
     ]
    },
    {
     "data": {
      "application/vnd.jupyter.widget-view+json": {
       "model_id": "56f0201df95d45d486995783e3bdf712",
       "version_major": 2,
       "version_minor": 0
      },
      "text/plain": [
       "  0%|          | 0/4 [00:00<?, ?it/s]"
      ]
     },
     "metadata": {},
     "output_type": "display_data"
    },
    {
     "name": "stdout",
     "output_type": "stream",
     "text": [
      "1.5000000000000002, 1.1 : mean chagne - -0.002145, score change - -0.000303\n",
      "after[4.015385185608585, 7.098675221603298], before[4.017530436099017, 7.098978176760889]\n"
     ]
    },
    {
     "data": {
      "application/vnd.jupyter.widget-view+json": {
       "model_id": "21b21c066a9f42c5865d251733d3b3e2",
       "version_major": 2,
       "version_minor": 0
      },
      "text/plain": [
       "  0%|          | 0/4 [00:00<?, ?it/s]"
      ]
     },
     "metadata": {},
     "output_type": "display_data"
    },
    {
     "name": "stdout",
     "output_type": "stream",
     "text": [
      "1.5000000000000002, 1.2000000000000002 : mean chagne - -0.002522, score change - -0.003170\n",
      "after[1.818736163864717, 2.597755225651044], before[1.821258057120636, 2.600924756245854]\n"
     ]
    },
    {
     "data": {
      "application/vnd.jupyter.widget-view+json": {
       "model_id": "976551b18dc440b2976fe451893747e2",
       "version_major": 2,
       "version_minor": 0
      },
      "text/plain": [
       "  0%|          | 0/4 [00:00<?, ?it/s]"
      ]
     },
     "metadata": {},
     "output_type": "display_data"
    },
    {
     "name": "stdout",
     "output_type": "stream",
     "text": [
      "1.5000000000000002, 1.3000000000000003 : mean chagne - -0.003151, score change - -0.001515\n",
      "after[8.10441259071235, 13.162355461209668], before[8.107563652908365, 13.16387065467866]\n"
     ]
    },
    {
     "data": {
      "application/vnd.jupyter.widget-view+json": {
       "model_id": "65bddaca9c9842dc980121ea9950f596",
       "version_major": 2,
       "version_minor": 0
      },
      "text/plain": [
       "  0%|          | 0/4 [00:00<?, ?it/s]"
      ]
     },
     "metadata": {},
     "output_type": "display_data"
    },
    {
     "name": "stdout",
     "output_type": "stream",
     "text": [
      "1.5000000000000002, 1.4000000000000001 : mean chagne - -0.002061, score change - -0.016714\n",
      "after[2.6536764556627848, 3.49709978441907], before[2.65573704713339, 3.5138136027283786]\n"
     ]
    },
    {
     "data": {
      "application/vnd.jupyter.widget-view+json": {
       "model_id": "0efe8367c1e54e3ca714b5f3421d6a1f",
       "version_major": 2,
       "version_minor": 0
      },
      "text/plain": [
       "  0%|          | 0/4 [00:00<?, ?it/s]"
      ]
     },
     "metadata": {},
     "output_type": "display_data"
    },
    {
     "name": "stdout",
     "output_type": "stream",
     "text": [
      "1.5000000000000002, 1.5000000000000002 : mean chagne - -0.001552, score change - -0.002688\n",
      "after[5.210414899969139, 3.1753472958104094], before[5.211966770270322, 3.1780355187333926]\n"
     ]
    },
    {
     "data": {
      "application/vnd.jupyter.widget-view+json": {
       "model_id": "df98a4183a1740b19b152df77c795d0a",
       "version_major": 2,
       "version_minor": 0
      },
      "text/plain": [
       "  0%|          | 0/4 [00:00<?, ?it/s]"
      ]
     },
     "metadata": {},
     "output_type": "display_data"
    },
    {
     "name": "stdout",
     "output_type": "stream",
     "text": [
      "1.5000000000000002, 1.6 : mean chagne - -0.002591, score change - -0.003256\n",
      "after[5.027681763167653, 5.332690576527545], before[5.030272379561682, 5.335946641224245]\n"
     ]
    },
    {
     "data": {
      "application/vnd.jupyter.widget-view+json": {
       "model_id": "8e40e9d3909e429d846db2d080959a94",
       "version_major": 2,
       "version_minor": 0
      },
      "text/plain": [
       "  0%|          | 0/4 [00:00<?, ?it/s]"
      ]
     },
     "metadata": {},
     "output_type": "display_data"
    },
    {
     "name": "stdout",
     "output_type": "stream",
     "text": [
      "1.5000000000000002, 1.7000000000000002 : mean chagne - -0.001962, score change - -0.004826\n",
      "after[4.681656976532582, 3.93029438233663], before[4.683618999657458, 3.935119888257752]\n"
     ]
    },
    {
     "data": {
      "application/vnd.jupyter.widget-view+json": {
       "model_id": "92438addf76940a9bb80706847d69fdf",
       "version_major": 2,
       "version_minor": 0
      },
      "text/plain": [
       "  0%|          | 0/4 [00:00<?, ?it/s]"
      ]
     },
     "metadata": {},
     "output_type": "display_data"
    },
    {
     "name": "stdout",
     "output_type": "stream",
     "text": [
      "1.5000000000000002, 1.8000000000000003 : mean chagne - -0.001835, score change - -0.005575\n",
      "after[1.9005192541508407, 2.776513331105236], before[1.9023543555828244, 2.7820884555837573]\n"
     ]
    },
    {
     "data": {
      "application/vnd.jupyter.widget-view+json": {
       "model_id": "42a5ff608410465691b335c38661ff8c",
       "version_major": 2,
       "version_minor": 0
      },
      "text/plain": [
       "  0%|          | 0/4 [00:00<?, ?it/s]"
      ]
     },
     "metadata": {},
     "output_type": "display_data"
    },
    {
     "name": "stdout",
     "output_type": "stream",
     "text": [
      "1.5000000000000002, 1.9000000000000001 : mean chagne - -0.001874, score change - -0.002274\n",
      "after[5.361272122720006, 5.052670612467782], before[5.363146592505629, 5.054944848226011]\n"
     ]
    },
    {
     "data": {
      "application/vnd.jupyter.widget-view+json": {
       "model_id": "3daa0dbe58044345860961c06beac4d7",
       "version_major": 2,
       "version_minor": 0
      },
      "text/plain": [
       "  0%|          | 0/4 [00:00<?, ?it/s]"
      ]
     },
     "metadata": {},
     "output_type": "display_data"
    },
    {
     "name": "stdout",
     "output_type": "stream",
     "text": [
      "1.6, 0.1 : mean chagne - -0.002615, score change - 0.010592\n",
      "after[3.057279750785994, 3.321758807961933], before[3.0598944616771986, 3.311167273911007]\n"
     ]
    },
    {
     "data": {
      "application/vnd.jupyter.widget-view+json": {
       "model_id": "ac6e540c52b8405dac3a33d4d53f8519",
       "version_major": 2,
       "version_minor": 0
      },
      "text/plain": [
       "  0%|          | 0/4 [00:00<?, ?it/s]"
      ]
     },
     "metadata": {},
     "output_type": "display_data"
    },
    {
     "name": "stdout",
     "output_type": "stream",
     "text": [
      "1.6, 0.2 : mean chagne - -0.002433, score change - 0.006535\n",
      "after[3.476187878723313, 5.674900927260627], before[3.4786208178477382, 5.6683654986021565]\n"
     ]
    },
    {
     "data": {
      "application/vnd.jupyter.widget-view+json": {
       "model_id": "0de1b2214de049a6892f296813ba956d",
       "version_major": 2,
       "version_minor": 0
      },
      "text/plain": [
       "  0%|          | 0/4 [00:00<?, ?it/s]"
      ]
     },
     "metadata": {},
     "output_type": "display_data"
    },
    {
     "name": "stdout",
     "output_type": "stream",
     "text": [
      "1.6, 0.30000000000000004 : mean chagne - -0.002796, score change - -0.000937\n",
      "after[2.0314270242341483, 2.931645984700782], before[2.0342230460515256, 2.9325831184206343]\n"
     ]
    },
    {
     "data": {
      "application/vnd.jupyter.widget-view+json": {
       "model_id": "4c002ea7438841f38e291db58b58d218",
       "version_major": 2,
       "version_minor": 0
      },
      "text/plain": [
       "  0%|          | 0/4 [00:00<?, ?it/s]"
      ]
     },
     "metadata": {},
     "output_type": "display_data"
    },
    {
     "name": "stdout",
     "output_type": "stream",
     "text": [
      "1.6, 0.4 : mean chagne - -0.000948, score change - -0.013997\n",
      "after[3.002528134030635, 5.032942626258842], before[3.0034757541845245, 5.046939916943962]\n"
     ]
    },
    {
     "data": {
      "application/vnd.jupyter.widget-view+json": {
       "model_id": "433da67de3fc4df1b18e9ee7ce642d87",
       "version_major": 2,
       "version_minor": 0
      },
      "text/plain": [
       "  0%|          | 0/4 [00:00<?, ?it/s]"
      ]
     },
     "metadata": {},
     "output_type": "display_data"
    },
    {
     "name": "stdout",
     "output_type": "stream",
     "text": [
      "1.6, 0.5 : mean chagne - -0.002627, score change - -0.017248\n",
      "after[3.374195019275097, 5.013379403904466], before[3.3768222343964354, 5.03062722669972]\n"
     ]
    },
    {
     "data": {
      "application/vnd.jupyter.widget-view+json": {
       "model_id": "d72c36341e404474a4b08babdea5f3b4",
       "version_major": 2,
       "version_minor": 0
      },
      "text/plain": [
       "  0%|          | 0/4 [00:00<?, ?it/s]"
      ]
     },
     "metadata": {},
     "output_type": "display_data"
    },
    {
     "name": "stdout",
     "output_type": "stream",
     "text": [
      "1.6, 0.6 : mean chagne - -0.002223, score change - -0.013022\n",
      "after[4.177531668306975, 4.684012614920457], before[4.179755064071525, 4.69703418023515]\n"
     ]
    },
    {
     "data": {
      "application/vnd.jupyter.widget-view+json": {
       "model_id": "eef24e0e7ac644b5915dd941692148a7",
       "version_major": 2,
       "version_minor": 0
      },
      "text/plain": [
       "  0%|          | 0/4 [00:00<?, ?it/s]"
      ]
     },
     "metadata": {},
     "output_type": "display_data"
    },
    {
     "name": "stdout",
     "output_type": "stream",
     "text": [
      "1.6, 0.7000000000000001 : mean chagne - -0.003043, score change - -0.008412\n",
      "after[4.196273959726706, 5.905678355406], before[4.199317350972623, 5.914090609494883]\n"
     ]
    },
    {
     "data": {
      "application/vnd.jupyter.widget-view+json": {
       "model_id": "371ce5998fcc4d10a82078dc71106ebd",
       "version_major": 2,
       "version_minor": 0
      },
      "text/plain": [
       "  0%|          | 0/4 [00:00<?, ?it/s]"
      ]
     },
     "metadata": {},
     "output_type": "display_data"
    },
    {
     "name": "stdout",
     "output_type": "stream",
     "text": [
      "1.6, 0.8 : mean chagne - 0.000335, score change - -0.000571\n",
      "after[3.879160063155951, 2.9738751065894022], before[3.8788249386939353, 2.9744465137213356]\n"
     ]
    },
    {
     "data": {
      "application/vnd.jupyter.widget-view+json": {
       "model_id": "0491e1b279854f1b97ba31a42fcb2d85",
       "version_major": 2,
       "version_minor": 0
      },
      "text/plain": [
       "  0%|          | 0/4 [00:00<?, ?it/s]"
      ]
     },
     "metadata": {},
     "output_type": "display_data"
    },
    {
     "name": "stdout",
     "output_type": "stream",
     "text": [
      "1.6, 0.9 : mean chagne - -0.002525, score change - -0.002199\n",
      "after[6.029136763108899, 8.927977285710629], before[6.031661836754984, 8.93017676371464]\n"
     ]
    },
    {
     "data": {
      "application/vnd.jupyter.widget-view+json": {
       "model_id": "b554202d5068455093ef001021e76cd7",
       "version_major": 2,
       "version_minor": 0
      },
      "text/plain": [
       "  0%|          | 0/4 [00:00<?, ?it/s]"
      ]
     },
     "metadata": {},
     "output_type": "display_data"
    },
    {
     "name": "stdout",
     "output_type": "stream",
     "text": [
      "1.6, 1.0 : mean chagne - -0.001594, score change - -0.025948\n",
      "after[2.4937295999442117, 3.872802225554843], before[2.4953240002068453, 3.8987502840537145]\n"
     ]
    },
    {
     "data": {
      "application/vnd.jupyter.widget-view+json": {
       "model_id": "0ee6934a1394460b8d65c321c5b5155c",
       "version_major": 2,
       "version_minor": 0
      },
      "text/plain": [
       "  0%|          | 0/4 [00:00<?, ?it/s]"
      ]
     },
     "metadata": {},
     "output_type": "display_data"
    },
    {
     "name": "stdout",
     "output_type": "stream",
     "text": [
      "1.6, 1.1 : mean chagne - -0.004410, score change - -0.008371\n",
      "after[4.328283090846823, 7.245126868513351], before[4.332692788697686, 7.2534975897438585]\n"
     ]
    },
    {
     "data": {
      "application/vnd.jupyter.widget-view+json": {
       "model_id": "6f9e360c04764dd9bf39af9107b32d49",
       "version_major": 2,
       "version_minor": 0
      },
      "text/plain": [
       "  0%|          | 0/4 [00:00<?, ?it/s]"
      ]
     },
     "metadata": {},
     "output_type": "display_data"
    },
    {
     "name": "stdout",
     "output_type": "stream",
     "text": [
      "1.6, 1.2000000000000002 : mean chagne - -0.000841, score change - 0.002987\n",
      "after[3.203373095904641, 2.5379224052339437], before[3.2042144869161704, 2.534935167741197]\n"
     ]
    },
    {
     "data": {
      "application/vnd.jupyter.widget-view+json": {
       "model_id": "3badceaaadaa40838f49da823b2640ce",
       "version_major": 2,
       "version_minor": 0
      },
      "text/plain": [
       "  0%|          | 0/4 [00:00<?, ?it/s]"
      ]
     },
     "metadata": {},
     "output_type": "display_data"
    },
    {
     "name": "stdout",
     "output_type": "stream",
     "text": [
      "1.6, 1.3000000000000003 : mean chagne - 0.000183, score change - 0.008072\n",
      "after[3.764059870048821, 5.365350729144385], before[3.763876935013668, 5.3572782637002465]\n"
     ]
    },
    {
     "data": {
      "application/vnd.jupyter.widget-view+json": {
       "model_id": "e0bdd552326c415a8e499464dd3c3223",
       "version_major": 2,
       "version_minor": 0
      },
      "text/plain": [
       "  0%|          | 0/4 [00:00<?, ?it/s]"
      ]
     },
     "metadata": {},
     "output_type": "display_data"
    },
    {
     "name": "stdout",
     "output_type": "stream",
     "text": [
      "1.6, 1.4000000000000001 : mean chagne - -0.004407, score change - -0.006267\n",
      "after[5.333889292274726, 9.38702114579976], before[5.338296421608153, 9.393288563871945]\n"
     ]
    },
    {
     "data": {
      "application/vnd.jupyter.widget-view+json": {
       "model_id": "b43900ae528b44c1900b60ac6748bb4e",
       "version_major": 2,
       "version_minor": 0
      },
      "text/plain": [
       "  0%|          | 0/4 [00:00<?, ?it/s]"
      ]
     },
     "metadata": {},
     "output_type": "display_data"
    },
    {
     "name": "stdout",
     "output_type": "stream",
     "text": [
      "1.6, 1.5000000000000002 : mean chagne - -0.004132, score change - -0.007320\n",
      "after[5.990917599981363, 8.962294880987187], before[5.995049163395381, 8.969615263899508]\n"
     ]
    },
    {
     "data": {
      "application/vnd.jupyter.widget-view+json": {
       "model_id": "e4123901411d45e2968d836335ad9b77",
       "version_major": 2,
       "version_minor": 0
      },
      "text/plain": [
       "  0%|          | 0/4 [00:00<?, ?it/s]"
      ]
     },
     "metadata": {},
     "output_type": "display_data"
    },
    {
     "name": "stdout",
     "output_type": "stream",
     "text": [
      "1.6, 1.6 : mean chagne - -0.002373, score change - -0.005765\n",
      "after[4.5167330316234295, 7.372482791563266], before[4.519105996856823, 7.378247972404948]\n"
     ]
    },
    {
     "data": {
      "application/vnd.jupyter.widget-view+json": {
       "model_id": "13387229a8d847879bee44b7cddc0cf8",
       "version_major": 2,
       "version_minor": 0
      },
      "text/plain": [
       "  0%|          | 0/4 [00:00<?, ?it/s]"
      ]
     },
     "metadata": {},
     "output_type": "display_data"
    },
    {
     "name": "stdout",
     "output_type": "stream",
     "text": [
      "1.6, 1.7000000000000002 : mean chagne - -0.004462, score change - -0.004442\n",
      "after[2.4820448210515744, 3.9318474386895397], before[2.486506606373392, 3.9362894483860655]\n"
     ]
    },
    {
     "data": {
      "application/vnd.jupyter.widget-view+json": {
       "model_id": "4a2f69baefda4a0eb1e74a3594eba18e",
       "version_major": 2,
       "version_minor": 0
      },
      "text/plain": [
       "  0%|          | 0/4 [00:00<?, ?it/s]"
      ]
     },
     "metadata": {},
     "output_type": "display_data"
    },
    {
     "name": "stdout",
     "output_type": "stream",
     "text": [
      "1.6, 1.8000000000000003 : mean chagne - -0.002234, score change - -0.008436\n",
      "after[4.382151850660344, 4.230874250878244], before[4.38438596395656, 4.239310377346409]\n"
     ]
    },
    {
     "data": {
      "application/vnd.jupyter.widget-view+json": {
       "model_id": "585de991c6c942a6baf7b8436bb2fc49",
       "version_major": 2,
       "version_minor": 0
      },
      "text/plain": [
       "  0%|          | 0/4 [00:00<?, ?it/s]"
      ]
     },
     "metadata": {},
     "output_type": "display_data"
    },
    {
     "name": "stdout",
     "output_type": "stream",
     "text": [
      "1.6, 1.9000000000000001 : mean chagne - -0.002341, score change - -0.000600\n",
      "after[1.6628658131256515, 2.5159070455403385], before[1.6652066921406663, 2.516507091414164]\n"
     ]
    },
    {
     "data": {
      "application/vnd.jupyter.widget-view+json": {
       "model_id": "14b99f5dff814258aa3d7871654a0ab6",
       "version_major": 2,
       "version_minor": 0
      },
      "text/plain": [
       "  0%|          | 0/4 [00:00<?, ?it/s]"
      ]
     },
     "metadata": {},
     "output_type": "display_data"
    },
    {
     "name": "stdout",
     "output_type": "stream",
     "text": [
      "1.7000000000000002, 0.1 : mean chagne - 0.051580, score change - 0.075675\n",
      "after[5.128871935817843, 6.482920958900861], before[5.077292096930903, 6.407245905400092]\n"
     ]
    },
    {
     "data": {
      "application/vnd.jupyter.widget-view+json": {
       "model_id": "acdff26abfed4654956ac750c80786b8",
       "version_major": 2,
       "version_minor": 0
      },
      "text/plain": [
       "  0%|          | 0/4 [00:00<?, ?it/s]"
      ]
     },
     "metadata": {},
     "output_type": "display_data"
    },
    {
     "name": "stdout",
     "output_type": "stream",
     "text": [
      "1.7000000000000002, 0.2 : mean chagne - -0.000313, score change - -0.003655\n",
      "after[1.7059349625899554, 2.7680120870879206], before[1.706247816473137, 2.771666913273605]\n"
     ]
    },
    {
     "data": {
      "application/vnd.jupyter.widget-view+json": {
       "model_id": "8b7a2971ccfb4694aaa5aa7b5ff15cee",
       "version_major": 2,
       "version_minor": 0
      },
      "text/plain": [
       "  0%|          | 0/4 [00:00<?, ?it/s]"
      ]
     },
     "metadata": {},
     "output_type": "display_data"
    },
    {
     "name": "stdout",
     "output_type": "stream",
     "text": [
      "1.7000000000000002, 0.30000000000000004 : mean chagne - -0.002288, score change - -0.006168\n",
      "after[2.2231430812262616, 3.2981536709152603], before[2.2254313364341844, 3.304321478349426]\n"
     ]
    },
    {
     "data": {
      "application/vnd.jupyter.widget-view+json": {
       "model_id": "3b708dbd6e13482d820c7189c454a799",
       "version_major": 2,
       "version_minor": 0
      },
      "text/plain": [
       "  0%|          | 0/4 [00:00<?, ?it/s]"
      ]
     },
     "metadata": {},
     "output_type": "display_data"
    },
    {
     "name": "stdout",
     "output_type": "stream",
     "text": [
      "1.7000000000000002, 0.4 : mean chagne - -0.001187, score change - 0.002129\n",
      "after[7.639362899019081, 11.725150935030733], before[7.640549902961723, 11.72302144503774]\n"
     ]
    },
    {
     "data": {
      "application/vnd.jupyter.widget-view+json": {
       "model_id": "0e5c59175c8542379b5be036d1ef1396",
       "version_major": 2,
       "version_minor": 0
      },
      "text/plain": [
       "  0%|          | 0/4 [00:00<?, ?it/s]"
      ]
     },
     "metadata": {},
     "output_type": "display_data"
    },
    {
     "name": "stdout",
     "output_type": "stream",
     "text": [
      "1.7000000000000002, 0.5 : mean chagne - -0.003117, score change - -0.003055\n",
      "after[1.9772949361104408, 2.9475747725071755], before[1.9804115526653718, 2.950629435203182]\n"
     ]
    },
    {
     "data": {
      "application/vnd.jupyter.widget-view+json": {
       "model_id": "0d5be6cd63d746ca9f606d502ddc1746",
       "version_major": 2,
       "version_minor": 0
      },
      "text/plain": [
       "  0%|          | 0/4 [00:00<?, ?it/s]"
      ]
     },
     "metadata": {},
     "output_type": "display_data"
    },
    {
     "name": "stdout",
     "output_type": "stream",
     "text": [
      "1.7000000000000002, 0.6 : mean chagne - -0.000810, score change - 0.002013\n",
      "after[3.1437131563275194, 2.8872005380221757], before[3.144523043652217, 2.885187339044344]\n"
     ]
    },
    {
     "data": {
      "application/vnd.jupyter.widget-view+json": {
       "model_id": "72c1cef54867488d82ec3322573a24db",
       "version_major": 2,
       "version_minor": 0
      },
      "text/plain": [
       "  0%|          | 0/4 [00:00<?, ?it/s]"
      ]
     },
     "metadata": {},
     "output_type": "display_data"
    },
    {
     "name": "stdout",
     "output_type": "stream",
     "text": [
      "1.7000000000000002, 0.7000000000000001 : mean chagne - -0.005153, score change - 0.000483\n",
      "after[2.3799379648491517, 3.6763020209452977], before[2.385090635876553, 3.6758193546910976]\n"
     ]
    },
    {
     "data": {
      "application/vnd.jupyter.widget-view+json": {
       "model_id": "6982f8bf6d684341933bcf38923104c0",
       "version_major": 2,
       "version_minor": 0
      },
      "text/plain": [
       "  0%|          | 0/4 [00:00<?, ?it/s]"
      ]
     },
     "metadata": {},
     "output_type": "display_data"
    },
    {
     "name": "stdout",
     "output_type": "stream",
     "text": [
      "1.7000000000000002, 0.8 : mean chagne - -0.001586, score change - -0.002282\n",
      "after[5.109839232943342, 5.689175596505056], before[5.111425225840803, 5.691458051360552]\n"
     ]
    },
    {
     "data": {
      "application/vnd.jupyter.widget-view+json": {
       "model_id": "9814096142884091ae385c73e3c60dac",
       "version_major": 2,
       "version_minor": 0
      },
      "text/plain": [
       "  0%|          | 0/4 [00:00<?, ?it/s]"
      ]
     },
     "metadata": {},
     "output_type": "display_data"
    },
    {
     "name": "stdout",
     "output_type": "stream",
     "text": [
      "1.7000000000000002, 0.9 : mean chagne - -0.003425, score change - -0.008180\n",
      "after[2.1429739870509357, 3.2056066397060716], before[2.1463986126875887, 3.213786784703257]\n"
     ]
    },
    {
     "data": {
      "application/vnd.jupyter.widget-view+json": {
       "model_id": "769bd2a7c41e4f5093ce6a40e249c58a",
       "version_major": 2,
       "version_minor": 0
      },
      "text/plain": [
       "  0%|          | 0/4 [00:00<?, ?it/s]"
      ]
     },
     "metadata": {},
     "output_type": "display_data"
    },
    {
     "name": "stdout",
     "output_type": "stream",
     "text": [
      "1.7000000000000002, 1.0 : mean chagne - 0.002754, score change - 0.010510\n",
      "after[3.5273176165435713, 6.672934914907569], before[3.524563933352728, 6.662424917249069]\n"
     ]
    },
    {
     "data": {
      "application/vnd.jupyter.widget-view+json": {
       "model_id": "fbba190a79c14cae9e978a773881e3a1",
       "version_major": 2,
       "version_minor": 0
      },
      "text/plain": [
       "  0%|          | 0/4 [00:00<?, ?it/s]"
      ]
     },
     "metadata": {},
     "output_type": "display_data"
    },
    {
     "name": "stdout",
     "output_type": "stream",
     "text": [
      "1.7000000000000002, 1.1 : mean chagne - -0.002372, score change - -0.003398\n",
      "after[1.7400170385029798, 2.6228967733466253], before[1.74238901931235, 2.6262945354907323]\n"
     ]
    },
    {
     "data": {
      "application/vnd.jupyter.widget-view+json": {
       "model_id": "e20594dfda38470cab72e85859af1e4c",
       "version_major": 2,
       "version_minor": 0
      },
      "text/plain": [
       "  0%|          | 0/4 [00:00<?, ?it/s]"
      ]
     },
     "metadata": {},
     "output_type": "display_data"
    },
    {
     "name": "stdout",
     "output_type": "stream",
     "text": [
      "1.7000000000000002, 1.2000000000000002 : mean chagne - -0.003473, score change - -0.004578\n",
      "after[4.703001897667934, 7.682753790274306], before[4.7064752713942, 7.68733158982411]\n"
     ]
    },
    {
     "data": {
      "application/vnd.jupyter.widget-view+json": {
       "model_id": "4cc60e66848b45d6b8cb7b1802e03f20",
       "version_major": 2,
       "version_minor": 0
      },
      "text/plain": [
       "  0%|          | 0/4 [00:00<?, ?it/s]"
      ]
     },
     "metadata": {},
     "output_type": "display_data"
    },
    {
     "name": "stdout",
     "output_type": "stream",
     "text": [
      "1.7000000000000002, 1.3000000000000003 : mean chagne - -0.006733, score change - -0.004621\n",
      "after[7.608628568368457, 11.57662700227792], before[7.615361450944152, 11.58124775056698]\n"
     ]
    },
    {
     "data": {
      "application/vnd.jupyter.widget-view+json": {
       "model_id": "6dad1dc3cf9344edbbfa697aebf92e5e",
       "version_major": 2,
       "version_minor": 0
      },
      "text/plain": [
       "  0%|          | 0/4 [00:00<?, ?it/s]"
      ]
     },
     "metadata": {},
     "output_type": "display_data"
    },
    {
     "name": "stdout",
     "output_type": "stream",
     "text": [
      "1.7000000000000002, 1.4000000000000001 : mean chagne - -0.000886, score change - -0.001548\n",
      "after[7.311794056238467, 9.408207675040497], before[7.312680484957292, 9.409755412014105]\n"
     ]
    },
    {
     "data": {
      "application/vnd.jupyter.widget-view+json": {
       "model_id": "05977f85da3640eb856fb75d91f74f2e",
       "version_major": 2,
       "version_minor": 0
      },
      "text/plain": [
       "  0%|          | 0/4 [00:00<?, ?it/s]"
      ]
     },
     "metadata": {},
     "output_type": "display_data"
    },
    {
     "name": "stdout",
     "output_type": "stream",
     "text": [
      "1.7000000000000002, 1.5000000000000002 : mean chagne - -0.005019, score change - -0.001352\n",
      "after[3.196637829366493, 4.946930239546314], before[3.2016571408850822, 4.948282192008708]\n"
     ]
    },
    {
     "data": {
      "application/vnd.jupyter.widget-view+json": {
       "model_id": "2eecc9e050854820a61eacc283cb5c2c",
       "version_major": 2,
       "version_minor": 0
      },
      "text/plain": [
       "  0%|          | 0/4 [00:00<?, ?it/s]"
      ]
     },
     "metadata": {},
     "output_type": "display_data"
    },
    {
     "name": "stdout",
     "output_type": "stream",
     "text": [
      "1.7000000000000002, 1.6 : mean chagne - -0.001100, score change - -0.025788\n",
      "after[2.6074565205113, 4.026561191757962], before[2.6085564940467063, 4.052348814775405]\n"
     ]
    },
    {
     "data": {
      "application/vnd.jupyter.widget-view+json": {
       "model_id": "19038ea5c3324475b7f44bdcc45c6259",
       "version_major": 2,
       "version_minor": 0
      },
      "text/plain": [
       "  0%|          | 0/4 [00:00<?, ?it/s]"
      ]
     },
     "metadata": {},
     "output_type": "display_data"
    },
    {
     "name": "stdout",
     "output_type": "stream",
     "text": [
      "1.7000000000000002, 1.7000000000000002 : mean chagne - -0.004679, score change - -0.012404\n",
      "after[2.220313628045407, 3.2515819439804834], before[2.2249924298219352, 3.263986148490799]\n"
     ]
    },
    {
     "data": {
      "application/vnd.jupyter.widget-view+json": {
       "model_id": "07e8eba7cd1d4f50ab6bbc046b87215d",
       "version_major": 2,
       "version_minor": 0
      },
      "text/plain": [
       "  0%|          | 0/4 [00:00<?, ?it/s]"
      ]
     },
     "metadata": {},
     "output_type": "display_data"
    },
    {
     "name": "stdout",
     "output_type": "stream",
     "text": [
      "1.7000000000000002, 1.8000000000000003 : mean chagne - -0.001654, score change - -0.028209\n",
      "after[3.3262645205125247, 4.78851004086954], before[3.3279184649928424, 4.816719317437838]\n"
     ]
    },
    {
     "data": {
      "application/vnd.jupyter.widget-view+json": {
       "model_id": "fbb0578074e44c79a9e0828485423c0b",
       "version_major": 2,
       "version_minor": 0
      },
      "text/plain": [
       "  0%|          | 0/4 [00:00<?, ?it/s]"
      ]
     },
     "metadata": {},
     "output_type": "display_data"
    },
    {
     "name": "stdout",
     "output_type": "stream",
     "text": [
      "1.7000000000000002, 1.9000000000000001 : mean chagne - -0.001861, score change - -0.002677\n",
      "after[2.081970615521248, 2.937707769621897], before[2.0838315320616156, 2.9403851892660193]\n"
     ]
    },
    {
     "data": {
      "application/vnd.jupyter.widget-view+json": {
       "model_id": "d8e5ed66878e48c9a5bfb079398e41ea",
       "version_major": 2,
       "version_minor": 0
      },
      "text/plain": [
       "  0%|          | 0/4 [00:00<?, ?it/s]"
      ]
     },
     "metadata": {},
     "output_type": "display_data"
    },
    {
     "name": "stdout",
     "output_type": "stream",
     "text": [
      "1.8000000000000003, 0.1 : mean chagne - 0.000007, score change - -0.002924\n",
      "after[9.537831639432728, 13.362034351570944], before[9.537825135187804, 13.364957951273645]\n"
     ]
    },
    {
     "data": {
      "application/vnd.jupyter.widget-view+json": {
       "model_id": "b4a43c011a30489fb44fcae0ea22e1d2",
       "version_major": 2,
       "version_minor": 0
      },
      "text/plain": [
       "  0%|          | 0/4 [00:00<?, ?it/s]"
      ]
     },
     "metadata": {},
     "output_type": "display_data"
    },
    {
     "name": "stdout",
     "output_type": "stream",
     "text": [
      "1.8000000000000003, 0.2 : mean chagne - -0.001121, score change - -0.002997\n",
      "after[2.5515543090110375, 4.022094684968854], before[2.5526752323170583, 4.025091605953309]\n"
     ]
    },
    {
     "data": {
      "application/vnd.jupyter.widget-view+json": {
       "model_id": "0f20daed2bb943c892a2960dde7fb653",
       "version_major": 2,
       "version_minor": 0
      },
      "text/plain": [
       "  0%|          | 0/4 [00:00<?, ?it/s]"
      ]
     },
     "metadata": {},
     "output_type": "display_data"
    },
    {
     "name": "stdout",
     "output_type": "stream",
     "text": [
      "1.8000000000000003, 0.30000000000000004 : mean chagne - -0.002623, score change - -0.006429\n",
      "after[3.4419042687176327, 5.650091499966423], before[3.444526803607785, 5.656520998879331]\n"
     ]
    },
    {
     "data": {
      "application/vnd.jupyter.widget-view+json": {
       "model_id": "9c7a6ca7ac074bf69440422124d7c7b9",
       "version_major": 2,
       "version_minor": 0
      },
      "text/plain": [
       "  0%|          | 0/4 [00:00<?, ?it/s]"
      ]
     },
     "metadata": {},
     "output_type": "display_data"
    },
    {
     "name": "stdout",
     "output_type": "stream",
     "text": [
      "1.8000000000000003, 0.4 : mean chagne - -0.002265, score change - -0.002596\n",
      "after[3.1272408043021938, 4.894610944894238], before[3.1295057305742557, 4.897207307381514]\n"
     ]
    },
    {
     "data": {
      "application/vnd.jupyter.widget-view+json": {
       "model_id": "1c66c91970594134ba70908fe55ea39b",
       "version_major": 2,
       "version_minor": 0
      },
      "text/plain": [
       "  0%|          | 0/4 [00:00<?, ?it/s]"
      ]
     },
     "metadata": {},
     "output_type": "display_data"
    },
    {
     "name": "stdout",
     "output_type": "stream",
     "text": [
      "1.8000000000000003, 0.5 : mean chagne - -0.003287, score change - 0.001299\n",
      "after[3.712886931936192, 5.115236090637741], before[3.7161744046026364, 5.113936602492801]\n"
     ]
    },
    {
     "data": {
      "application/vnd.jupyter.widget-view+json": {
       "model_id": "8033dac7ba1c40b59d5f4743f915ac0d",
       "version_major": 2,
       "version_minor": 0
      },
      "text/plain": [
       "  0%|          | 0/4 [00:00<?, ?it/s]"
      ]
     },
     "metadata": {},
     "output_type": "display_data"
    },
    {
     "name": "stdout",
     "output_type": "stream",
     "text": [
      "1.8000000000000003, 0.6 : mean chagne - -0.002684, score change - -0.003210\n",
      "after[2.950226634575271, 4.657535704093637], before[2.952910784088914, 4.660745791386118]\n"
     ]
    },
    {
     "data": {
      "application/vnd.jupyter.widget-view+json": {
       "model_id": "ae39df65a9284a5ca27e8b5640f30cf0",
       "version_major": 2,
       "version_minor": 0
      },
      "text/plain": [
       "  0%|          | 0/4 [00:00<?, ?it/s]"
      ]
     },
     "metadata": {},
     "output_type": "display_data"
    },
    {
     "name": "stdout",
     "output_type": "stream",
     "text": [
      "1.8000000000000003, 0.7000000000000001 : mean chagne - -0.001099, score change - -0.001752\n",
      "after[3.5321187654302184, 2.5793005773845414], before[3.5332173140853143, 2.5810524859718735]\n"
     ]
    },
    {
     "data": {
      "application/vnd.jupyter.widget-view+json": {
       "model_id": "2cb554a3b7b2473590899a0d8b5f621a",
       "version_major": 2,
       "version_minor": 0
      },
      "text/plain": [
       "  0%|          | 0/4 [00:00<?, ?it/s]"
      ]
     },
     "metadata": {},
     "output_type": "display_data"
    },
    {
     "name": "stdout",
     "output_type": "stream",
     "text": [
      "1.8000000000000003, 0.8 : mean chagne - -0.000139, score change - -0.002682\n",
      "after[2.30916446972354, 3.0613763522272692], before[2.3093039302048832, 3.064058422403753]\n"
     ]
    },
    {
     "data": {
      "application/vnd.jupyter.widget-view+json": {
       "model_id": "f840b9e21daf4ddaa55e0a20fae8c7de",
       "version_major": 2,
       "version_minor": 0
      },
      "text/plain": [
       "  0%|          | 0/4 [00:00<?, ?it/s]"
      ]
     },
     "metadata": {},
     "output_type": "display_data"
    },
    {
     "name": "stdout",
     "output_type": "stream",
     "text": [
      "1.8000000000000003, 0.9 : mean chagne - -0.000785, score change - -0.001663\n",
      "after[2.239182278400058, 3.4228487004415977], before[2.239967566883283, 3.4245118227769664]\n"
     ]
    },
    {
     "data": {
      "application/vnd.jupyter.widget-view+json": {
       "model_id": "89961b6bf65348d6a7f84dfd9d14b91b",
       "version_major": 2,
       "version_minor": 0
      },
      "text/plain": [
       "  0%|          | 0/4 [00:00<?, ?it/s]"
      ]
     },
     "metadata": {},
     "output_type": "display_data"
    },
    {
     "name": "stdout",
     "output_type": "stream",
     "text": [
      "1.8000000000000003, 1.0 : mean chagne - -0.001055, score change - -0.001029\n",
      "after[1.7274294972959707, 2.5375532217692416], before[1.7284846121384259, 2.538582146218381]\n"
     ]
    },
    {
     "data": {
      "application/vnd.jupyter.widget-view+json": {
       "model_id": "1449ecee2809477a8d860525bcd138c0",
       "version_major": 2,
       "version_minor": 0
      },
      "text/plain": [
       "  0%|          | 0/4 [00:00<?, ?it/s]"
      ]
     },
     "metadata": {},
     "output_type": "display_data"
    },
    {
     "name": "stdout",
     "output_type": "stream",
     "text": [
      "1.8000000000000003, 1.1 : mean chagne - -0.003127, score change - 0.000353\n",
      "after[2.422121623628208, 3.012583067466341], before[2.4252487576266164, 3.0122304484592526]\n"
     ]
    },
    {
     "data": {
      "application/vnd.jupyter.widget-view+json": {
       "model_id": "e77225add7714fdcbf6d578a489838f4",
       "version_major": 2,
       "version_minor": 0
      },
      "text/plain": [
       "  0%|          | 0/4 [00:00<?, ?it/s]"
      ]
     },
     "metadata": {},
     "output_type": "display_data"
    },
    {
     "name": "stdout",
     "output_type": "stream",
     "text": [
      "1.8000000000000003, 1.2000000000000002 : mean chagne - -0.001645, score change - -0.001065\n",
      "after[3.3728897371984448, 2.9695190364903588], before[3.3745348800915256, 2.9705843665594784]\n"
     ]
    },
    {
     "data": {
      "application/vnd.jupyter.widget-view+json": {
       "model_id": "ce89f75dbc1f4841a36839c7b57ba273",
       "version_major": 2,
       "version_minor": 0
      },
      "text/plain": [
       "  0%|          | 0/4 [00:00<?, ?it/s]"
      ]
     },
     "metadata": {},
     "output_type": "display_data"
    },
    {
     "name": "stdout",
     "output_type": "stream",
     "text": [
      "1.8000000000000003, 1.3000000000000003 : mean chagne - -0.001383, score change - -0.004452\n",
      "after[5.053348355499757, 7.258262989076565], before[5.054731300976644, 7.262715233131971]\n"
     ]
    },
    {
     "data": {
      "application/vnd.jupyter.widget-view+json": {
       "model_id": "bb44cec4c9c9404fa7e229524b589165",
       "version_major": 2,
       "version_minor": 0
      },
      "text/plain": [
       "  0%|          | 0/4 [00:00<?, ?it/s]"
      ]
     },
     "metadata": {},
     "output_type": "display_data"
    },
    {
     "name": "stdout",
     "output_type": "stream",
     "text": [
      "1.8000000000000003, 1.4000000000000001 : mean chagne - 0.006352, score change - 0.018327\n",
      "after[3.708053061242891, 3.713470968584935], before[3.70170119843548, 3.6951435467203595]\n"
     ]
    },
    {
     "data": {
      "application/vnd.jupyter.widget-view+json": {
       "model_id": "f441bec566a249d4b2bebe544ffc9523",
       "version_major": 2,
       "version_minor": 0
      },
      "text/plain": [
       "  0%|          | 0/4 [00:00<?, ?it/s]"
      ]
     },
     "metadata": {},
     "output_type": "display_data"
    },
    {
     "name": "stdout",
     "output_type": "stream",
     "text": [
      "1.8000000000000003, 1.5000000000000002 : mean chagne - -0.001536, score change - -0.007946\n",
      "after[1.8495459461660795, 2.6325173004511697], before[1.8510823435214863, 2.6404637905620976]\n"
     ]
    },
    {
     "data": {
      "application/vnd.jupyter.widget-view+json": {
       "model_id": "0e12dfc062d74f72b87c3128a44d5f6e",
       "version_major": 2,
       "version_minor": 0
      },
      "text/plain": [
       "  0%|          | 0/4 [00:00<?, ?it/s]"
      ]
     },
     "metadata": {},
     "output_type": "display_data"
    },
    {
     "name": "stdout",
     "output_type": "stream",
     "text": [
      "1.8000000000000003, 1.6 : mean chagne - -0.003693, score change - -0.000167\n",
      "after[2.7863617781697623, 4.395023260582498], before[2.790054815997089, 4.3951902898998]\n"
     ]
    },
    {
     "data": {
      "application/vnd.jupyter.widget-view+json": {
       "model_id": "ad1e3617bf734fe7b35ac0d6110e2069",
       "version_major": 2,
       "version_minor": 0
      },
      "text/plain": [
       "  0%|          | 0/4 [00:00<?, ?it/s]"
      ]
     },
     "metadata": {},
     "output_type": "display_data"
    },
    {
     "name": "stdout",
     "output_type": "stream",
     "text": [
      "1.8000000000000003, 1.7000000000000002 : mean chagne - -0.001967, score change - -0.000851\n",
      "after[6.683351264354444, 9.396543618398962], before[6.68531864424471, 9.397394941158815]\n"
     ]
    },
    {
     "data": {
      "application/vnd.jupyter.widget-view+json": {
       "model_id": "664e8cc0ce184c1bb06fb2cfb800eb5b",
       "version_major": 2,
       "version_minor": 0
      },
      "text/plain": [
       "  0%|          | 0/4 [00:00<?, ?it/s]"
      ]
     },
     "metadata": {},
     "output_type": "display_data"
    },
    {
     "name": "stdout",
     "output_type": "stream",
     "text": [
      "1.8000000000000003, 1.8000000000000003 : mean chagne - -0.000707, score change - -0.001822\n",
      "after[4.558489136835617, 6.996308552941641], before[4.559195649046213, 6.9981300963478335]\n"
     ]
    },
    {
     "data": {
      "application/vnd.jupyter.widget-view+json": {
       "model_id": "be649dd840524245bd257c76e1d33f88",
       "version_major": 2,
       "version_minor": 0
      },
      "text/plain": [
       "  0%|          | 0/4 [00:00<?, ?it/s]"
      ]
     },
     "metadata": {},
     "output_type": "display_data"
    },
    {
     "name": "stdout",
     "output_type": "stream",
     "text": [
      "1.8000000000000003, 1.9000000000000001 : mean chagne - -0.014478, score change - -0.007916\n",
      "after[6.426670513047413, 11.84833622666273], before[6.441148975132102, 11.856251748353966]\n"
     ]
    },
    {
     "data": {
      "application/vnd.jupyter.widget-view+json": {
       "model_id": "b86bb83c57be4137a34169fc35bd7eab",
       "version_major": 2,
       "version_minor": 0
      },
      "text/plain": [
       "  0%|          | 0/4 [00:00<?, ?it/s]"
      ]
     },
     "metadata": {},
     "output_type": "display_data"
    },
    {
     "name": "stdout",
     "output_type": "stream",
     "text": [
      "1.9000000000000001, 0.1 : mean chagne - -0.002013, score change - -0.001536\n",
      "after[2.9554113309508834, 4.936640108072638], before[2.9574246808049707, 4.938175962781956]\n"
     ]
    },
    {
     "data": {
      "application/vnd.jupyter.widget-view+json": {
       "model_id": "fae653fcc0f740ac82be39083e913a26",
       "version_major": 2,
       "version_minor": 0
      },
      "text/plain": [
       "  0%|          | 0/4 [00:00<?, ?it/s]"
      ]
     },
     "metadata": {},
     "output_type": "display_data"
    },
    {
     "name": "stdout",
     "output_type": "stream",
     "text": [
      "1.9000000000000001, 0.2 : mean chagne - 0.000039, score change - -0.003301\n",
      "after[3.5954914761324503, 6.016892109511423], before[3.5954528751529424, 6.020193277330062]\n"
     ]
    },
    {
     "data": {
      "application/vnd.jupyter.widget-view+json": {
       "model_id": "eb2e792ac3184e30974f55d36817a839",
       "version_major": 2,
       "version_minor": 0
      },
      "text/plain": [
       "  0%|          | 0/4 [00:00<?, ?it/s]"
      ]
     },
     "metadata": {},
     "output_type": "display_data"
    },
    {
     "name": "stdout",
     "output_type": "stream",
     "text": [
      "1.9000000000000001, 0.30000000000000004 : mean chagne - 0.003114, score change - 0.014040\n",
      "after[1.7504079861805593, 2.5654116036134322], before[1.7472936063132432, 2.551371343365999]\n"
     ]
    },
    {
     "data": {
      "application/vnd.jupyter.widget-view+json": {
       "model_id": "9ca52d78c6664918805714e7339982b2",
       "version_major": 2,
       "version_minor": 0
      },
      "text/plain": [
       "  0%|          | 0/4 [00:00<?, ?it/s]"
      ]
     },
     "metadata": {},
     "output_type": "display_data"
    },
    {
     "name": "stdout",
     "output_type": "stream",
     "text": [
      "1.9000000000000001, 0.4 : mean chagne - -0.001187, score change - -0.003498\n",
      "after[2.092792478309169, 3.196631343852931], before[2.0939792073223376, 3.200128878744118]\n"
     ]
    },
    {
     "data": {
      "application/vnd.jupyter.widget-view+json": {
       "model_id": "0a7879b0577349f58c8b50b957fc19ff",
       "version_major": 2,
       "version_minor": 0
      },
      "text/plain": [
       "  0%|          | 0/4 [00:00<?, ?it/s]"
      ]
     },
     "metadata": {},
     "output_type": "display_data"
    },
    {
     "name": "stdout",
     "output_type": "stream",
     "text": [
      "1.9000000000000001, 0.5 : mean chagne - -0.002260, score change - -0.004736\n",
      "after[2.8339280730591287, 3.759465184146592], before[2.8361885575906065, 3.7642008028216516]\n"
     ]
    },
    {
     "data": {
      "application/vnd.jupyter.widget-view+json": {
       "model_id": "e2ecd926b24249fea60c2dd10eb2f581",
       "version_major": 2,
       "version_minor": 0
      },
      "text/plain": [
       "  0%|          | 0/4 [00:00<?, ?it/s]"
      ]
     },
     "metadata": {},
     "output_type": "display_data"
    },
    {
     "name": "stdout",
     "output_type": "stream",
     "text": [
      "1.9000000000000001, 0.6 : mean chagne - -0.001220, score change - -0.002145\n",
      "after[2.338613019884383, 2.870228683241166], before[2.3398334824926086, 2.8723734339698725]\n"
     ]
    },
    {
     "data": {
      "application/vnd.jupyter.widget-view+json": {
       "model_id": "f39c155da6cd4210a492f8e46205f384",
       "version_major": 2,
       "version_minor": 0
      },
      "text/plain": [
       "  0%|          | 0/4 [00:00<?, ?it/s]"
      ]
     },
     "metadata": {},
     "output_type": "display_data"
    },
    {
     "name": "stdout",
     "output_type": "stream",
     "text": [
      "1.9000000000000001, 0.7000000000000001 : mean chagne - -0.001641, score change - 0.005146\n",
      "after[4.173377539614874, 6.892751735060804], before[4.175018711339609, 6.887605872979767]\n"
     ]
    },
    {
     "data": {
      "application/vnd.jupyter.widget-view+json": {
       "model_id": "e295de15a9584988836bebd99d6364f5",
       "version_major": 2,
       "version_minor": 0
      },
      "text/plain": [
       "  0%|          | 0/4 [00:00<?, ?it/s]"
      ]
     },
     "metadata": {},
     "output_type": "display_data"
    },
    {
     "name": "stdout",
     "output_type": "stream",
     "text": [
      "1.9000000000000001, 0.8 : mean chagne - 0.030326, score change - 0.085760\n",
      "after[3.7040374117090074, 7.001173323905832], before[3.6737110269403552, 6.915413578768761]\n"
     ]
    },
    {
     "data": {
      "application/vnd.jupyter.widget-view+json": {
       "model_id": "c09f86bfa18644e5abe2a67c1112ec66",
       "version_major": 2,
       "version_minor": 0
      },
      "text/plain": [
       "  0%|          | 0/4 [00:00<?, ?it/s]"
      ]
     },
     "metadata": {},
     "output_type": "display_data"
    },
    {
     "name": "stdout",
     "output_type": "stream",
     "text": [
      "1.9000000000000001, 0.9 : mean chagne - 0.000101, score change - -0.001313\n",
      "after[1.9770259644725026, 3.6543605323064794], before[1.9769249677464256, 3.6556731310798996]\n"
     ]
    },
    {
     "data": {
      "application/vnd.jupyter.widget-view+json": {
       "model_id": "2a488c69e86144b6beab9b8ded52bb9e",
       "version_major": 2,
       "version_minor": 0
      },
      "text/plain": [
       "  0%|          | 0/4 [00:00<?, ?it/s]"
      ]
     },
     "metadata": {},
     "output_type": "display_data"
    },
    {
     "name": "stdout",
     "output_type": "stream",
     "text": [
      "1.9000000000000001, 1.0 : mean chagne - -0.001053, score change - 0.000535\n",
      "after[2.0857394761248496, 3.084632489667174], before[2.0867920998215723, 3.0840974800815792]\n"
     ]
    },
    {
     "data": {
      "application/vnd.jupyter.widget-view+json": {
       "model_id": "a9b132a57bbf4bfeaa40ff7da6f934e2",
       "version_major": 2,
       "version_minor": 0
      },
      "text/plain": [
       "  0%|          | 0/4 [00:00<?, ?it/s]"
      ]
     },
     "metadata": {},
     "output_type": "display_data"
    },
    {
     "name": "stdout",
     "output_type": "stream",
     "text": [
      "1.9000000000000001, 1.1 : mean chagne - 0.989403, score change - 2.109321\n",
      "after[2.7817162690618917, 4.665883527303285], before[1.7923127772325884, 2.5565620362241295]\n"
     ]
    },
    {
     "data": {
      "application/vnd.jupyter.widget-view+json": {
       "model_id": "426d98682dd14ae38ca2a82d23147518",
       "version_major": 2,
       "version_minor": 0
      },
      "text/plain": [
       "  0%|          | 0/4 [00:00<?, ?it/s]"
      ]
     },
     "metadata": {},
     "output_type": "display_data"
    },
    {
     "name": "stdout",
     "output_type": "stream",
     "text": [
      "1.9000000000000001, 1.2000000000000002 : mean chagne - -0.001710, score change - -0.029790\n",
      "after[8.935269425998598, 14.033148901295412], before[8.936979513828934, 14.062938726525879]\n"
     ]
    },
    {
     "data": {
      "application/vnd.jupyter.widget-view+json": {
       "model_id": "7872b8b3255e43a4b44773a80ecaec6e",
       "version_major": 2,
       "version_minor": 0
      },
      "text/plain": [
       "  0%|          | 0/4 [00:00<?, ?it/s]"
      ]
     },
     "metadata": {},
     "output_type": "display_data"
    },
    {
     "name": "stdout",
     "output_type": "stream",
     "text": [
      "1.9000000000000001, 1.3000000000000003 : mean chagne - -0.003061, score change - -0.003592\n",
      "after[5.3370964451884015, 9.101633268907634], before[5.340157340606655, 9.10522554080264]\n"
     ]
    },
    {
     "data": {
      "application/vnd.jupyter.widget-view+json": {
       "model_id": "6e17e019cebe4cdfb36752aa198ae54c",
       "version_major": 2,
       "version_minor": 0
      },
      "text/plain": [
       "  0%|          | 0/4 [00:00<?, ?it/s]"
      ]
     },
     "metadata": {},
     "output_type": "display_data"
    },
    {
     "name": "stdout",
     "output_type": "stream",
     "text": [
      "1.9000000000000001, 1.4000000000000001 : mean chagne - -0.002575, score change - -0.010856\n",
      "after[4.938777504785465, 7.641825629811901], before[4.9413523491861175, 7.652682034371845]\n"
     ]
    },
    {
     "data": {
      "application/vnd.jupyter.widget-view+json": {
       "model_id": "eb84d92b5964497eb2a40a383e24d6b4",
       "version_major": 2,
       "version_minor": 0
      },
      "text/plain": [
       "  0%|          | 0/4 [00:00<?, ?it/s]"
      ]
     },
     "metadata": {},
     "output_type": "display_data"
    },
    {
     "name": "stdout",
     "output_type": "stream",
     "text": [
      "1.9000000000000001, 1.5000000000000002 : mean chagne - -0.002835, score change - -0.001446\n",
      "after[5.026680096247183, 8.367280516461495], before[5.029515553038027, 8.368726342047506]\n"
     ]
    },
    {
     "data": {
      "application/vnd.jupyter.widget-view+json": {
       "model_id": "f8c3fa61e35c441ab1e77048bfe295e2",
       "version_major": 2,
       "version_minor": 0
      },
      "text/plain": [
       "  0%|          | 0/4 [00:00<?, ?it/s]"
      ]
     },
     "metadata": {},
     "output_type": "display_data"
    },
    {
     "name": "stdout",
     "output_type": "stream",
     "text": [
      "1.9000000000000001, 1.6 : mean chagne - -0.003818, score change - -0.002291\n",
      "after[3.374976474903594, 5.432202799843138], before[3.378794467448985, 5.43449405197852]\n"
     ]
    },
    {
     "data": {
      "application/vnd.jupyter.widget-view+json": {
       "model_id": "a8009688783840cd83c4b0e4639a01f5",
       "version_major": 2,
       "version_minor": 0
      },
      "text/plain": [
       "  0%|          | 0/4 [00:00<?, ?it/s]"
      ]
     },
     "metadata": {},
     "output_type": "display_data"
    },
    {
     "name": "stdout",
     "output_type": "stream",
     "text": [
      "1.9000000000000001, 1.7000000000000002 : mean chagne - -0.000759, score change - -0.004224\n",
      "after[2.0274377573474673, 2.9838608923719177], before[2.028196357632725, 2.9880851996481788]\n"
     ]
    },
    {
     "data": {
      "application/vnd.jupyter.widget-view+json": {
       "model_id": "36e2e2803f2a40a7a9f4703515375c3b",
       "version_major": 2,
       "version_minor": 0
      },
      "text/plain": [
       "  0%|          | 0/4 [00:00<?, ?it/s]"
      ]
     },
     "metadata": {},
     "output_type": "display_data"
    },
    {
     "name": "stdout",
     "output_type": "stream",
     "text": [
      "1.9000000000000001, 1.8000000000000003 : mean chagne - -0.000945, score change - -0.002915\n",
      "after[9.22260317099375, 15.143117022383064], before[9.223547799432499, 15.146032000410067]\n"
     ]
    },
    {
     "data": {
      "application/vnd.jupyter.widget-view+json": {
       "model_id": "56371e29e02d4874baa4c73837fa3fa4",
       "version_major": 2,
       "version_minor": 0
      },
      "text/plain": [
       "  0%|          | 0/4 [00:00<?, ?it/s]"
      ]
     },
     "metadata": {},
     "output_type": "display_data"
    },
    {
     "name": "stdout",
     "output_type": "stream",
     "text": [
      "1.9000000000000001, 1.9000000000000001 : mean chagne - 0.052470, score change - 0.086364\n",
      "after[2.1803886014899563, 3.7364940936494313], before[2.1279182933810428, 3.650129841079167]\n"
     ]
    }
   ],
   "source": [
    "q_gain_list = np.arange(0.1, 2, 0.1)\n",
    "r_gain_list = np.arange(0.1, 2, 0.1)\n",
    "\n",
    "q_ = np.array([1,1,1,1,1])\n",
    "r_ = np.array([1,1,1,1])\n",
    "phones = df_train['phone'].unique()\n",
    "\n",
    "\n",
    "result_list = []\n",
    "iter_count = 0\n",
    "for q_gain in q_gain_list:\n",
    "    for r_gain in r_gain_list:\n",
    "        iter_count += 1\n",
    "        q = q_gain * q_\n",
    "        r = r_gain * r_\n",
    "#         sample_phone = np.random.choice(phones, 13, replace = False)\n",
    "#         sample_index = df_train['phone'].apply(lambda x: x in sample_phone)\n",
    "#         _, mean_before, score_before, mean_after, score_after = evaluate(df_train[sample_index], q, r)\n",
    "        _, mean_before, score_before, mean_after, score_after = evaluate(df_train, q, r)\n",
    "        result = [q, r, mean_after, mean_before, score_after, score_before]\n",
    "        print(f\"{q_gain}, {r_gain} : mean chagne - {mean_after - mean_before:.6f}, score change - {score_after - score_before:.6f}\")\n",
    "        print(f\"after[{mean_after}, {score_after}], before[{mean_before}, {score_before}]\")\n",
    "        result_list.append(result)"
   ]
  },
  {
   "cell_type": "code",
   "execution_count": 155,
   "metadata": {
    "ExecuteTime": {
     "end_time": "2021-07-06T01:25:41.150477Z",
     "start_time": "2021-07-06T01:25:41.133476Z"
    }
   },
   "outputs": [],
   "source": [
    "df = pd.DataFrame(result_list, columns = ['q', 'r', 'mean_after', 'mean_before', 'score_after', 'score_before'])\n"
   ]
  },
  {
   "cell_type": "code",
   "execution_count": 170,
   "metadata": {
    "ExecuteTime": {
     "end_time": "2021-07-06T01:29:59.154939Z",
     "start_time": "2021-07-06T01:29:59.131938Z"
    }
   },
   "outputs": [],
   "source": [
    "df['qgain'] = df['q'].apply(lambda x: x.mean())\n",
    "df['rgain'] = df['r'].apply(lambda x: x.mean())\n",
    "df['change_score'] = df['score_after'] - df['score_before']"
   ]
  },
  {
   "cell_type": "code",
   "execution_count": 171,
   "metadata": {
    "ExecuteTime": {
     "end_time": "2021-07-06T01:29:59.845385Z",
     "start_time": "2021-07-06T01:29:59.566385Z"
    }
   },
   "outputs": [
    {
     "data": {
      "text/plain": [
       "<AxesSubplot:xlabel='rgain', ylabel='qgain'>"
      ]
     },
     "execution_count": 171,
     "metadata": {},
     "output_type": "execute_result"
    },
    {
     "data": {
      "image/png": "[encoded data removed]",
      "text/plain": [
       "<Figure size 432x288 with 2 Axes>"
      ]
     },
     "metadata": {
      "needs_background": "light"
     },
     "output_type": "display_data"
    }
   ],
   "source": [
    "pt = df.pivot_table('change_score', 'qgain', 'rgain')\n",
    "sns.heatmap(pt)"
   ]
  },
  {
   "cell_type": "code",
   "execution_count": null,
   "metadata": {
    "ExecuteTime": {
     "end_time": "2021-07-06T01:39:44.597494Z",
     "start_time": "2021-07-06T01:38:55.282Z"
    },
    "scrolled": true
   },
   "outputs": [],
   "source": [
    "qgain = df.loc[df['change_score'].min() == df['change_score'], 'qgain'].values\n",
    "rgain = df.loc[df['change_score'].min() == df['change_score'], 'rgain'].values\n",
    "print(qgain, rgain)"
   ]
  },
  {
   "cell_type": "code",
   "execution_count": 190,
   "metadata": {
    "ExecuteTime": {
     "end_time": "2021-07-06T01:38:29.661911Z",
     "start_time": "2021-07-06T01:36:31.690765Z"
    }
   },
   "outputs": [
    {
     "data": {
      "application/vnd.jupyter.widget-view+json": {
       "model_id": "68aa178c926a4b26896a07fc5c6fa1bb",
       "version_major": 2,
       "version_minor": 0
      },
      "text/plain": [
       "  0%|          | 0/73 [00:00<?, ?it/s]"
      ]
     },
     "metadata": {},
     "output_type": "display_data"
    },
    {
     "name": "stdout",
     "output_type": "stream",
     "text": [
      "3.84684837499064 5.2879706490841585 3.8219053025769596 5.30726088250545\n",
      "mean change : -0.0249\n",
      "score change: 0.0193\n"
     ]
    }
   ],
   "source": [
    "_, mean_before, score_before, mean_after, score_after =  evaluate(df_train, qgain*q_, rgain*r_)\n",
    "print(mean_before, score_before, mean_after, score_after)\n",
    "print(f\"mean change : {mean_after - mean_before:.4f}\")\n",
    "print(f\"score change: {score_after - score_before:.4f}\")"
   ]
  },
  {
   "cell_type": "code",
   "execution_count": null,
   "metadata": {},
   "outputs": [],
   "source": []
  },
  {
   "cell_type": "code",
   "execution_count": 204,
   "metadata": {
    "ExecuteTime": {
     "end_time": "2021-07-06T01:49:05.282746Z",
     "start_time": "2021-07-06T01:49:05.208743Z"
    }
   },
   "outputs": [],
   "source": [
    "submission = pd.read_csv(\"../input/google-smartphone-decimeter-challenge/sample_submission.csv\")\n",
    "submission = submission[['phone', 'millisSinceGpsEpoch']]"
   ]
  },
  {
   "cell_type": "code",
   "execution_count": 198,
   "metadata": {
    "ExecuteTime": {
     "end_time": "2021-07-06T01:46:50.280133Z",
     "start_time": "2021-07-06T01:45:35.668091Z"
    }
   },
   "outputs": [
    {
     "data": {
      "application/vnd.jupyter.widget-view+json": {
       "model_id": "03fad6f6379e4f70bc084378a58959d6",
       "version_major": 2,
       "version_minor": 0
      },
      "text/plain": [
       "  0%|          | 0/48 [00:00<?, ?it/s]"
      ]
     },
     "metadata": {},
     "output_type": "display_data"
    }
   ],
   "source": [
    "result, _, _, _, _ =  evaluate(df_test, qgain*q_, rgain*r_, get_score=False)\n",
    "result = result[['phone', 'millisSinceGpsEpoch', 'latDeg', 'lngDeg']]\n",
    "submission = submission.merge(result, on = ['phone', 'millisSinceGpsEpoch'])"
   ]
  },
  {
   "cell_type": "code",
   "execution_count": 206,
   "metadata": {
    "ExecuteTime": {
     "end_time": "2021-07-06T01:49:11.727206Z",
     "start_time": "2021-07-06T01:49:11.328207Z"
    }
   },
   "outputs": [],
   "source": [
    "submission.to_csv(f\"./models/{'ComplexKalmanFilter1'}/result-{4}result.csv\", index = False)"
   ]
  }
 ],
 "metadata": {
  "hide_input": false,
  "kernelspec": {
   "display_name": "torch",
   "language": "python",
   "name": "torch"
  },
  "language_info": {
   "codemirror_mode": {
    "name": "ipython",
    "version": 3
   },
   "file_extension": ".py",
   "mimetype": "text/x-python",
   "name": "python",
   "nbconvert_exporter": "python",
   "pygments_lexer": "ipython3",
   "version": "3.6.12"
  },
  "latex_envs": {
   "LaTeX_envs_menu_present": true,
   "autoclose": false,
   "autocomplete": true,
   "bibliofile": "biblio.bib",
   "cite_by": "apalike",
   "current_citInitial": 1,
   "eqLabelWithNumbers": true,
   "eqNumInitial": 1,
   "hotkeys": {
    "equation": "Ctrl-E",
    "itemize": "Ctrl-I"
   },
   "labels_anchors": false,
   "latex_user_defs": false,
   "report_style_numbering": false,
   "user_envs_cfg": false
  },
  "toc": {
   "base_numbering": 1,
   "nav_menu": {},
   "number_sections": true,
   "sideBar": true,
   "skip_h1_title": false,
   "title_cell": "Table of Contents",
   "title_sidebar": "Contents",
   "toc_cell": false,
   "toc_position": {},
   "toc_section_display": true,
   "toc_window_display": false
  },
  "varInspector": {
   "cols": {
    "lenName": 16,
    "lenType": 16,
    "lenVar": 40
   },
   "kernels_config": {
    "python": {
     "delete_cmd_postfix": "",
     "delete_cmd_prefix": "del ",
     "library": "var_list.py",
     "varRefreshCmd": "print(var_dic_list())"
    },
    "r": {
     "delete_cmd_postfix": ") ",
     "delete_cmd_prefix": "rm(",
     "library": "var_list.r",
     "varRefreshCmd": "cat(var_dic_list()) "
    }
   },
   "types_to_exclude": [
    "module",
    "function",
    "builtin_function_or_method",
    "instance",
    "_Feature"
   ],
   "window_display": false
  }
 },
 "nbformat": 4,
 "nbformat_minor": 4
}
