{
 "cells": [
  {
   "cell_type": "markdown",
   "metadata": {},
   "source": [
    "# Libraries\n",
    "1. [filterpy](https://filterpy.readthedocs.io/en/latest/kalman/UnscentedKalmanFilter.html)"
   ]
  },
  {
   "cell_type": "code",
   "execution_count": 1,
   "metadata": {
    "ExecuteTime": {
     "end_time": "2021-07-06T07:18:08.628846Z",
     "start_time": "2021-07-06T07:18:05.254917Z"
    }
   },
   "outputs": [],
   "source": [
    "import numpy as np\n",
    "import pandas as pd\n",
    "import random\n",
    "from glob import glob\n",
    "import os\n",
    "import matplotlib.pyplot as plt\n",
    "from tqdm.notebook import tqdm\n",
    "from pathlib import Path\n",
    "import plotly.express as px\n",
    "import seaborn as sns\n",
    "\n",
    "import geopy\n",
    "import pymap3d as pm\n",
    "from filterpy.kalman import UnscentedKalmanFilter, MerweScaledSigmaPoints\n",
    "\n",
    "import torch\n",
    "import torch.nn as nn\n",
    "import torch.nn.functional as F\n",
    "import torch.optim as optim\n",
    "from torch.utils.data import TensorDataset, DataLoader\n",
    "import torchsummary\n",
    "from sklearn.model_selection import train_test_split\n",
    "from sklearn.preprocessing import StandardScaler, MinMaxScaler\n",
    "\n",
    "import warnings\n",
    "warnings.filterwarnings(action='ignore')"
   ]
  },
  {
   "cell_type": "markdown",
   "metadata": {},
   "source": [
    "# Hyper Parameters"
   ]
  },
  {
   "cell_type": "code",
   "execution_count": 2,
   "metadata": {
    "ExecuteTime": {
     "end_time": "2021-07-06T07:18:08.643847Z",
     "start_time": "2021-07-06T07:18:08.630849Z"
    }
   },
   "outputs": [],
   "source": [
    "SEED = 1990\n",
    "random.seed(SEED)\n",
    "np.random.seed(SEED)"
   ]
  },
  {
   "cell_type": "markdown",
   "metadata": {},
   "source": [
    "# Useful functions"
   ]
  },
  {
   "cell_type": "code",
   "execution_count": 3,
   "metadata": {
    "ExecuteTime": {
     "end_time": "2021-07-06T07:18:08.658846Z",
     "start_time": "2021-07-06T07:18:08.646849Z"
    }
   },
   "outputs": [],
   "source": [
    "def calc_haversine(lat1, lon1, lat2, lon2):\n",
    "    lat1, lon1, lat2, lon2 = map(np.radians, [lat1, lon1, lat2, lon2])\n",
    "    dlat = lat2 - lat1\n",
    "    dlon = lon2 - lon1\n",
    "    a = np.sin(dlat / 2.0)**2 + np.cos(lat1) * np.cos(lat2) * np.sin(dlon / 2.0)**2\n",
    "    \n",
    "    c = 2 * np.arcsin(a ** 0.5)\n",
    "    dist = 6_367_000 * c\n",
    "    return dist"
   ]
  },
  {
   "cell_type": "code",
   "execution_count": 4,
   "metadata": {
    "ExecuteTime": {
     "end_time": "2021-07-06T07:18:08.673846Z",
     "start_time": "2021-07-06T07:18:08.660846Z"
    }
   },
   "outputs": [],
   "source": [
    "def check_score(input_df: pd.DataFrame) -> pd.DataFrame:\n",
    "    output_df = input_df.copy()\n",
    "    \n",
    "    output_df['meter'] = input_df.apply(\n",
    "        lambda r: calc_haversine(\n",
    "            r.latDeg, r.lngDeg, r.t_latDeg, r.t_lngDeg\n",
    "        ),\n",
    "        axis=1\n",
    "    )\n",
    "\n",
    "    meter_score = output_df['meter'].mean()\n",
    "\n",
    "    scores = []\n",
    "    for phone in output_df['phone'].unique():\n",
    "        _index = output_df['phone']==phone\n",
    "        p_50 = np.percentile(output_df.loc[_index, 'meter'], 50)\n",
    "        p_95 = np.percentile(output_df.loc[_index, 'meter'], 95)\n",
    "        scores.append(p_50)\n",
    "        scores.append(p_95)\n",
    "\n",
    "    score = sum(scores) / len(scores)\n",
    "    \n",
    "    return output_df, meter_score , score"
   ]
  },
  {
   "cell_type": "code",
   "execution_count": 5,
   "metadata": {
    "ExecuteTime": {
     "end_time": "2021-07-06T07:18:08.688846Z",
     "start_time": "2021-07-06T07:18:08.675848Z"
    }
   },
   "outputs": [],
   "source": [
    "ell_wgs84 = pm.Ellipsoid()\n",
    "def calc_geo2enu(df:pd.DataFrame)->pd.DataFrame:\n",
    "    output = df.copy()\n",
    "    llh = np.array(df[['latDeg', 'lngDeg', 'heightAboveWgs84EllipsoidM']])\n",
    "    denu = pm.geodetic2enu(llh[:,0], llh[:,1], llh[:,2], llh[0,0], llh[0,1], llh[0,2], ell=ell_wgs84)\n",
    "    output['x'] = denu[0]\n",
    "    output['y'] = denu[1]\n",
    "    output['z'] = denu[2]\n",
    "    \n",
    "    return output\n",
    "\n",
    "def calc_enu2geo(df:pd.DataFrame)->pd.DataFrame:\n",
    "    output = df.copy()\n",
    "    enu = np.array(df[['x', 'y', 'z']])\n",
    "    llh = np.array(df[['latDeg', 'lngDeg', 'heightAboveWgs84EllipsoidM']])\n",
    "    geo = pm.enu2geodetic(enu[:,0], enu[:,1], enu[:,2], llh[0,0], llh[0,1], llh[0,2], ell=ell_wgs84, deg = True)\n",
    "    output['latDeg'] = geo[0]\n",
    "    output['lngDeg'] = geo[1]\n",
    "    output['heightAboveWgs84EllipsoidM'] = geo[2]\n",
    "    \n",
    "    return output"
   ]
  },
  {
   "cell_type": "markdown",
   "metadata": {},
   "source": [
    "# Data"
   ]
  },
  {
   "cell_type": "code",
   "execution_count": 6,
   "metadata": {
    "ExecuteTime": {
     "end_time": "2021-07-06T07:18:08.884269Z",
     "start_time": "2021-07-06T07:18:08.690851Z"
    }
   },
   "outputs": [],
   "source": [
    "data_dir = Path(\"../input/google-smartphone-decimeter-challenge\")\n",
    "df_train = pd.read_pickle(str(data_dir / \"gsdc_extract_train.pkl.gzip\"))\n",
    "df_test = pd.read_pickle(str(data_dir / \"gsdc_extract_test.pkl.gzip\"))"
   ]
  },
  {
   "cell_type": "code",
   "execution_count": 7,
   "metadata": {
    "ExecuteTime": {
     "end_time": "2021-07-06T07:18:08.944270Z",
     "start_time": "2021-07-06T07:18:08.886269Z"
    },
    "scrolled": false
   },
   "outputs": [
    {
     "name": "stdout",
     "output_type": "stream",
     "text": [
      "(1746, 148)\n"
     ]
    },
    {
     "data": {
      "text/html": [
       "<div>\n",
       "<style scoped>\n",
       "    .dataframe tbody tr th:only-of-type {\n",
       "        vertical-align: middle;\n",
       "    }\n",
       "\n",
       "    .dataframe tbody tr th {\n",
       "        vertical-align: top;\n",
       "    }\n",
       "\n",
       "    .dataframe thead th {\n",
       "        text-align: right;\n",
       "    }\n",
       "</style>\n",
       "<table border=\"1\" class=\"dataframe\">\n",
       "  <thead>\n",
       "    <tr style=\"text-align: right;\">\n",
       "      <th></th>\n",
       "      <th>collectionName</th>\n",
       "      <th>phoneName</th>\n",
       "      <th>millisSinceGpsEpoch</th>\n",
       "      <th>latDeg</th>\n",
       "      <th>lngDeg</th>\n",
       "      <th>heightAboveWgs84EllipsoidM</th>\n",
       "      <th>phone</th>\n",
       "      <th>timeSinceFirstFixSeconds</th>\n",
       "      <th>hDop</th>\n",
       "      <th>vDop</th>\n",
       "      <th>...</th>\n",
       "      <th>GPS_L1</th>\n",
       "      <th>GPS_L5</th>\n",
       "      <th>GAL_E1</th>\n",
       "      <th>GAL_E5A</th>\n",
       "      <th>GLO_G1</th>\n",
       "      <th>BDS_B1I</th>\n",
       "      <th>BDS_B1C</th>\n",
       "      <th>BDS_B2A</th>\n",
       "      <th>QZS_J1</th>\n",
       "      <th>QZS_J5</th>\n",
       "    </tr>\n",
       "  </thead>\n",
       "  <tbody>\n",
       "    <tr>\n",
       "      <th>0</th>\n",
       "      <td>2020-05-14-US-MTV-1</td>\n",
       "      <td>Pixel4XLModded</td>\n",
       "      <td>1273529466449</td>\n",
       "      <td>37.423574</td>\n",
       "      <td>-122.094137</td>\n",
       "      <td>-33.20</td>\n",
       "      <td>2020-05-14-US-MTV-1_Pixel4XLModded</td>\n",
       "      <td>554.45</td>\n",
       "      <td>1.2</td>\n",
       "      <td>0.0</td>\n",
       "      <td>...</td>\n",
       "      <td>0</td>\n",
       "      <td>0</td>\n",
       "      <td>0</td>\n",
       "      <td>0</td>\n",
       "      <td>0</td>\n",
       "      <td>0</td>\n",
       "      <td>0</td>\n",
       "      <td>0</td>\n",
       "      <td>0</td>\n",
       "      <td>0</td>\n",
       "    </tr>\n",
       "    <tr>\n",
       "      <th>1</th>\n",
       "      <td>2020-05-14-US-MTV-1</td>\n",
       "      <td>Pixel4XLModded</td>\n",
       "      <td>1273529467449</td>\n",
       "      <td>37.423573</td>\n",
       "      <td>-122.094153</td>\n",
       "      <td>-33.92</td>\n",
       "      <td>2020-05-14-US-MTV-1_Pixel4XLModded</td>\n",
       "      <td>555.45</td>\n",
       "      <td>1.2</td>\n",
       "      <td>0.0</td>\n",
       "      <td>...</td>\n",
       "      <td>0</td>\n",
       "      <td>0</td>\n",
       "      <td>0</td>\n",
       "      <td>0</td>\n",
       "      <td>0</td>\n",
       "      <td>0</td>\n",
       "      <td>0</td>\n",
       "      <td>0</td>\n",
       "      <td>0</td>\n",
       "      <td>0</td>\n",
       "    </tr>\n",
       "    <tr>\n",
       "      <th>2</th>\n",
       "      <td>2020-05-14-US-MTV-1</td>\n",
       "      <td>Pixel4XLModded</td>\n",
       "      <td>1273529468449</td>\n",
       "      <td>37.423578</td>\n",
       "      <td>-122.094148</td>\n",
       "      <td>-33.33</td>\n",
       "      <td>2020-05-14-US-MTV-1_Pixel4XLModded</td>\n",
       "      <td>556.45</td>\n",
       "      <td>1.2</td>\n",
       "      <td>0.0</td>\n",
       "      <td>...</td>\n",
       "      <td>0</td>\n",
       "      <td>0</td>\n",
       "      <td>0</td>\n",
       "      <td>0</td>\n",
       "      <td>0</td>\n",
       "      <td>0</td>\n",
       "      <td>0</td>\n",
       "      <td>0</td>\n",
       "      <td>0</td>\n",
       "      <td>0</td>\n",
       "    </tr>\n",
       "    <tr>\n",
       "      <th>3</th>\n",
       "      <td>2020-05-14-US-MTV-1</td>\n",
       "      <td>Pixel4XLModded</td>\n",
       "      <td>1273529469449</td>\n",
       "      <td>37.423573</td>\n",
       "      <td>-122.094150</td>\n",
       "      <td>-32.85</td>\n",
       "      <td>2020-05-14-US-MTV-1_Pixel4XLModded</td>\n",
       "      <td>557.45</td>\n",
       "      <td>1.2</td>\n",
       "      <td>0.0</td>\n",
       "      <td>...</td>\n",
       "      <td>0</td>\n",
       "      <td>0</td>\n",
       "      <td>0</td>\n",
       "      <td>0</td>\n",
       "      <td>0</td>\n",
       "      <td>0</td>\n",
       "      <td>0</td>\n",
       "      <td>0</td>\n",
       "      <td>0</td>\n",
       "      <td>0</td>\n",
       "    </tr>\n",
       "    <tr>\n",
       "      <th>4</th>\n",
       "      <td>2020-05-14-US-MTV-1</td>\n",
       "      <td>Pixel4XLModded</td>\n",
       "      <td>1273529470449</td>\n",
       "      <td>37.423573</td>\n",
       "      <td>-122.094147</td>\n",
       "      <td>-31.26</td>\n",
       "      <td>2020-05-14-US-MTV-1_Pixel4XLModded</td>\n",
       "      <td>558.45</td>\n",
       "      <td>1.2</td>\n",
       "      <td>0.0</td>\n",
       "      <td>...</td>\n",
       "      <td>0</td>\n",
       "      <td>0</td>\n",
       "      <td>0</td>\n",
       "      <td>0</td>\n",
       "      <td>0</td>\n",
       "      <td>0</td>\n",
       "      <td>0</td>\n",
       "      <td>0</td>\n",
       "      <td>0</td>\n",
       "      <td>0</td>\n",
       "    </tr>\n",
       "  </tbody>\n",
       "</table>\n",
       "<p>5 rows × 148 columns</p>\n",
       "</div>"
      ],
      "text/plain": [
       "        collectionName       phoneName  millisSinceGpsEpoch     latDeg  \\\n",
       "0  2020-05-14-US-MTV-1  Pixel4XLModded        1273529466449  37.423574   \n",
       "1  2020-05-14-US-MTV-1  Pixel4XLModded        1273529467449  37.423573   \n",
       "2  2020-05-14-US-MTV-1  Pixel4XLModded        1273529468449  37.423578   \n",
       "3  2020-05-14-US-MTV-1  Pixel4XLModded        1273529469449  37.423573   \n",
       "4  2020-05-14-US-MTV-1  Pixel4XLModded        1273529470449  37.423573   \n",
       "\n",
       "       lngDeg  heightAboveWgs84EllipsoidM                               phone  \\\n",
       "0 -122.094137                      -33.20  2020-05-14-US-MTV-1_Pixel4XLModded   \n",
       "1 -122.094153                      -33.92  2020-05-14-US-MTV-1_Pixel4XLModded   \n",
       "2 -122.094148                      -33.33  2020-05-14-US-MTV-1_Pixel4XLModded   \n",
       "3 -122.094150                      -32.85  2020-05-14-US-MTV-1_Pixel4XLModded   \n",
       "4 -122.094147                      -31.26  2020-05-14-US-MTV-1_Pixel4XLModded   \n",
       "\n",
       "   timeSinceFirstFixSeconds  hDop  vDop  ...  GPS_L1  GPS_L5  GAL_E1  GAL_E5A  \\\n",
       "0                    554.45   1.2   0.0  ...       0       0       0        0   \n",
       "1                    555.45   1.2   0.0  ...       0       0       0        0   \n",
       "2                    556.45   1.2   0.0  ...       0       0       0        0   \n",
       "3                    557.45   1.2   0.0  ...       0       0       0        0   \n",
       "4                    558.45   1.2   0.0  ...       0       0       0        0   \n",
       "\n",
       "   GLO_G1  BDS_B1I  BDS_B1C BDS_B2A  QZS_J1  QZS_J5  \n",
       "0       0        0        0       0       0       0  \n",
       "1       0        0        0       0       0       0  \n",
       "2       0        0        0       0       0       0  \n",
       "3       0        0        0       0       0       0  \n",
       "4       0        0        0       0       0       0  \n",
       "\n",
       "[5 rows x 148 columns]"
      ]
     },
     "execution_count": 7,
     "metadata": {},
     "output_type": "execute_result"
    }
   ],
   "source": [
    "phones = df_train['phone'].unique()\n",
    "phone = phones[random.randint(0, len(phones))]\n",
    "df_sample = df_train[df_train['phone'] == phone].copy().reset_index().drop(columns = ['index'])\n",
    "print(df_sample.shape)\n",
    "df_sample.head()"
   ]
  },
  {
   "cell_type": "code",
   "execution_count": 8,
   "metadata": {
    "ExecuteTime": {
     "end_time": "2021-07-06T07:18:09.109580Z",
     "start_time": "2021-07-06T07:18:08.946270Z"
    }
   },
   "outputs": [],
   "source": [
    "df_train.fillna(0, inplace = True)\n",
    "df_test.fillna(0, inplace = True)"
   ]
  },
  {
   "cell_type": "code",
   "execution_count": 9,
   "metadata": {
    "ExecuteTime": {
     "end_time": "2021-07-06T07:18:09.139581Z",
     "start_time": "2021-07-06T07:18:09.110582Z"
    },
    "scrolled": true
   },
   "outputs": [
    {
     "name": "stdout",
     "output_type": "stream",
     "text": [
      "collectionName\n",
      "phoneName\n",
      "millisSinceGpsEpoch\n",
      "latDeg\n",
      "lngDeg\n",
      "heightAboveWgs84EllipsoidM\n",
      "phone\n",
      "timeSinceFirstFixSeconds\n",
      "hDop\n",
      "vDop\n",
      "speedMps\n",
      "courseDegree\n",
      "t_latDeg\n",
      "t_lngDeg\n",
      "t_heightAboveWgs84EllipsoidM\n",
      "constellationType\n",
      "svid\n",
      "signalType\n",
      "receivedSvTimeInGpsNanos\n",
      "xSatPosM\n",
      "ySatPosM\n",
      "zSatPosM\n",
      "xSatVelMps\n",
      "ySatVelMps\n",
      "zSatVelMps\n",
      "satClkBiasM\n",
      "satClkDriftMps\n",
      "rawPrM\n",
      "rawPrUncM\n",
      "isrbM\n",
      "ionoDelayM\n",
      "tropoDelayM\n",
      "utcTimeMillis\n",
      "elapsedRealtimeNanos\n",
      "yawDeg\n",
      "rollDeg\n",
      "pitchDeg\n",
      "utcTimeMillis_Status\n",
      "SignalCount\n",
      "SignalIndex\n",
      "ConstellationType\n",
      "Svid\n",
      "CarrierFrequencyHz\n",
      "Cn0DbHz\n",
      "AzimuthDegrees\n",
      "ElevationDegrees\n",
      "UsedInFix\n",
      "HasAlmanacData\n",
      "HasEphemerisData\n",
      "BasebandCn0DbHz\n",
      "utcTimeMillis_UncalMag\n",
      "elapsedRealtimeNanos_UncalMag\n",
      "UncalMagXMicroT\n",
      "UncalMagYMicroT\n",
      "UncalMagZMicroT\n",
      "BiasXMicroT\n",
      "BiasYMicroT\n",
      "BiasZMicroT\n",
      "utcTimeMillis_UncalAccel\n",
      "elapsedRealtimeNanos_UncalAccel\n",
      "UncalAccelXMps2\n",
      "UncalAccelYMps2\n",
      "UncalAccelZMps2\n",
      "BiasXMps2\n",
      "BiasYMps2\n",
      "BiasZMps2\n",
      "utcTimeMillis_UncalGyro\n",
      "elapsedRealtimeNanos_UncalGyro\n",
      "UncalGyroXRadPerSec\n",
      "UncalGyroYRadPerSec\n",
      "UncalGyroZRadPerSec\n",
      "DriftXRadPerSec\n",
      "DriftYRadPerSec\n",
      "DriftZRadPerSec\n",
      "utcTimeMillis_Raw\n",
      "TimeNanos\n",
      "LeapSecond\n",
      "FullBiasNanos\n",
      "BiasNanos\n",
      "BiasUncertaintyNanos\n",
      "DriftNanosPerSecond\n",
      "DriftUncertaintyNanosPerSecond\n",
      "HardwareClockDiscontinuityCount\n",
      "Svid_Raw\n",
      "TimeOffsetNanos\n",
      "State\n",
      "ReceivedSvTimeNanos\n",
      "ReceivedSvTimeUncertaintyNanos\n",
      "Cn0DbHz_Raw\n",
      "PseudorangeRateMetersPerSecond\n",
      "PseudorangeRateUncertaintyMetersPerSecond\n",
      "AccumulatedDeltaRangeState\n",
      "AccumulatedDeltaRangeMeters\n",
      "AccumulatedDeltaRangeUncertaintyMeters\n",
      "CarrierFrequencyHz_Raw\n",
      "MultipathIndicator\n",
      "ConstellationType_Raw\n",
      "AgcDb\n",
      "BasebandCn0DbHz_Raw\n",
      "FullInterSignalBiasNanos\n",
      "FullInterSignalBiasUncertaintyNanos\n",
      "SatelliteInterSignalBiasNanos\n",
      "SatelliteInterSignalBiasUncertaintyNanos\n",
      "CodeType\n",
      "ChipsetElapsedRealtimeNanos\n",
      "dlatDeg\n",
      "dlngDeg\n",
      "dheight\n",
      "dlatDeg_Scaled\n",
      "dlngDeg_Scaled\n",
      "dheight_Scaled\n",
      "xSatPosM_Scaled\n",
      "ySatPosM_Scaled\n",
      "zSatPosM_Scaled\n",
      "xSatVelMps_Scaled\n",
      "ySatVelMps_Scaled\n",
      "zSatVelMps_Scaled\n",
      "UncalGyroXRadPerSec_Scaled\n",
      "UncalGyroYRadPerSec_Scaled\n",
      "UncalGyroZRadPerSec_Scaled\n",
      "DriftXRadPerSec_Scaled\n",
      "DriftYRadPerSec_Scaled\n",
      "DriftZRadPerSec_Scaled\n",
      "UncalAccelXMps2_Scaled\n",
      "UncalAccelYMps2_Scaled\n",
      "UncalAccelZMps2_Scaled\n",
      "BiasXMps2_Scaled\n",
      "BiasYMps2_Scaled\n",
      "BiasZMps2_Scaled\n",
      "UncalMagXMicroT_Scaled\n",
      "UncalMagYMicroT_Scaled\n",
      "UncalMagZMicroT_Scaled\n",
      "BiasXMicroT_Scaled\n",
      "BiasYMicroT_Scaled\n",
      "BiasZMicroT_Scaled\n",
      "yawDeg_Scaled\n",
      "rollDeg_Scaled\n",
      "pitchDeg_Scaled\n",
      "GPS_L1\n",
      "GPS_L5\n",
      "GAL_E1\n",
      "GAL_E5A\n",
      "GLO_G1\n",
      "BDS_B1I\n",
      "BDS_B1C\n",
      "BDS_B2A\n",
      "QZS_J1\n",
      "QZS_J5\n"
     ]
    }
   ],
   "source": [
    "for col in df_train.columns:\n",
    "    print(col)"
   ]
  },
  {
   "cell_type": "code",
   "execution_count": 10,
   "metadata": {
    "ExecuteTime": {
     "end_time": "2021-07-06T07:18:09.154581Z",
     "start_time": "2021-07-06T07:18:09.141584Z"
    }
   },
   "outputs": [],
   "source": [
    "features = ['latDeg',\n",
    "            'lngDeg',\n",
    "            'xSatPosM_Scaled',\n",
    "            'ySatPosM_Scaled',\n",
    "            'zSatPosM_Scaled',\n",
    "            'xSatVelMps_Scaled',\n",
    "            'ySatVelMps_Scaled',\n",
    "            'zSatVelMps_Scaled',\n",
    "            'GPS_L1', \n",
    "            'GPS_L5', \n",
    "            'GAL_E1', \n",
    "            'GAL_E5A', \n",
    "            'GLO_G1', \n",
    "            'BDS_B1I', \n",
    "            'BDS_B1C', \n",
    "            'BDS_B2A', \n",
    "            'QZS_J1', \n",
    "            'QZS_J5', \n",
    "           ]"
   ]
  },
  {
   "cell_type": "markdown",
   "metadata": {},
   "source": [
    "## Kalman Filter Define\n",
    "$$\n",
    "\\begin{matrix}\n",
    "x_t =& x_{t-1} + \\frac{v_{t-1}}{w_{t-1}}\\left({\\sin}\\left({\\omega}_{t-1}dt + {\\theta}_{t-1}\\right) - {\\sin}\\left({\\theta}\\right)\\right)\\\\\n",
    "y_t =& y_{t-1} + \\frac{v_{t-1}}{w_{t-1}}\\left({\\cos}\\left({\\theta}_{t-1}\\right) - {\\cos}\\left({\\omega}_{t-1}dt + {\\theta}_{t-1}\\right)\\right)\\\\\n",
    "v_t =& v_{t-1}\\\\\n",
    "{\\theta}_t =& {\\theta}_{t-1} + {\\omega}_{t-1}dt\\\\\n",
    "{\\omega}_t =& {\\omega}_{t-1}\n",
    "\\end{matrix}\n",
    "$$"
   ]
  },
  {
   "cell_type": "code",
   "execution_count": 11,
   "metadata": {
    "ExecuteTime": {
     "end_time": "2021-07-06T07:18:09.169580Z",
     "start_time": "2021-07-06T07:18:09.156582Z"
    }
   },
   "outputs": [],
   "source": [
    "def fx(x, dt):\n",
    "    xout = np.zeros_like(x)\n",
    "    if abs(x[4]) > 1e-3:\n",
    "        xout[0] = x[0] + x[2]/x[4] * (np.sin(x[4] * dt + x[3]) - np.sin(x[3]))\n",
    "        xout[1] = x[1] + x[2]/x[4] * (np.cos(x[3]) - np.cos(x[4] * dt + x[3]))\n",
    "        xout[2] = x[2]\n",
    "        xout[3] = x[3] + x[4] * dt\n",
    "        xout[4] = x[4]\n",
    "    else:\n",
    "        xout[0] = x[0] + x[2] * dt * (np.cos(x[3]))\n",
    "        xout[1] = x[1] + x[2] * dt * (np.sin(x[3]))\n",
    "        xout[2] = x[2]\n",
    "        xout[3] = x[3] + x[4] * dt\n",
    "        xout[4] = x[4]\n",
    "        \n",
    "    return xout\n",
    "\n",
    "def hx(x):\n",
    "    return x[[0,1,3,4]]"
   ]
  },
  {
   "cell_type": "code",
   "execution_count": 12,
   "metadata": {
    "ExecuteTime": {
     "end_time": "2021-07-06T07:18:09.184581Z",
     "start_time": "2021-07-06T07:18:09.171580Z"
    }
   },
   "outputs": [],
   "source": [
    "points = MerweScaledSigmaPoints(5, alpha = .1, beta = 2., kappa = -1)"
   ]
  },
  {
   "cell_type": "markdown",
   "metadata": {},
   "source": [
    "## ANN Define"
   ]
  },
  {
   "cell_type": "code",
   "execution_count": 93,
   "metadata": {
    "ExecuteTime": {
     "end_time": "2021-07-06T07:27:41.326085Z",
     "start_time": "2021-07-06T07:27:41.302086Z"
    },
    "scrolled": true
   },
   "outputs": [],
   "source": [
    "class NoiseNetwork(nn.Module):\n",
    "    def __init__(self, features):\n",
    "        super().__init__()\n",
    "        \n",
    "        self.fc1 = nn.Linear(features, 256)\n",
    "        self.fc2 = nn.Linear(256, 512)\n",
    "        self.fc3 = nn.Linear(512, 256)\n",
    "        self.fc_Q = nn.Linear(256, 25)\n",
    "        self.fc_R = nn.Linear(256, 16)\n",
    "        self.fc4 = nn.Linear(256, 41)\n",
    "        self.fc_err1 = nn.Linear(41, 16)\n",
    "        self.fc_err2 = nn.Linear(16, 1)\n",
    "        \n",
    "        self.drop03 = nn.Dropout(0.3)\n",
    "        self.drop05 = nn.Dropout(0.5)\n",
    "        self.drop06 = nn.Dropout(0.6)\n",
    "        self.drop09 = nn.Dropout(0.9)\n",
    "        \n",
    "    def forward(self, x):\n",
    "        x = self.drop09(x)\n",
    "        x = self.fc1(x)\n",
    "        x = F.relu(x)\n",
    "        \n",
    "        x = self.drop06(x)\n",
    "        x = self.fc2(x)\n",
    "        x = F.relu(x)\n",
    "        \n",
    "        x = self.drop05(x)\n",
    "        x = self.fc3(x)\n",
    "        x = F.relu(x)\n",
    "        \n",
    "        Q = self.drop03(x)\n",
    "        Q = self.fc_Q(Q)\n",
    "        \n",
    "        R = self.drop03(x)\n",
    "        R = self.fc_R(R)\n",
    "        \n",
    "        catQR = torch.cat([Q, R], axis = 1)\n",
    "        \n",
    "        x = self.drop03(x)\n",
    "        x = self.fc4(x)\n",
    "        x = F.relu(x)\n",
    "        x = x + catQR\n",
    "        \n",
    "        x = self.drop03(x)\n",
    "        x = self.fc_err1(x)\n",
    "        x = F.relu(x)\n",
    "        \n",
    "        x = self.drop03(x)\n",
    "        x = self.fc_err2(x)\n",
    "        err = F.relu(x)\n",
    "        \n",
    "        Q = Q.reshape(-1, 5,5)\n",
    "        Q = torch.matmul(Q.transpose(1,2), Q)\n",
    "        \n",
    "        R = R.reshape(-1, 4,4)\n",
    "        R = torch.matmul(R.transpose(1,2), R)\n",
    "        \n",
    "        return Q, R, err\n",
    "\n",
    "class KFLoss(nn.Module):\n",
    "    def __init__(self, lamb = 0.99):\n",
    "        super().__init__()\n",
    "        self.loss = nn.SmoothL1Loss()\n",
    "        self.lamb = lamb\n",
    "        pass\n",
    "    def forward(self, err_est, err):\n",
    "        loss = self.lamb * self.loss(err_est, err) + (1 - self.lamb) * torch.abs(err_est).mean()\n",
    "        return loss\n",
    "    \n",
    "model = NoiseNetwork(len(features))\n",
    "optimizer = optim.SGD(model.parameters(), lr = 0.001)\n",
    "loss_func = KFLoss()"
   ]
  },
  {
   "cell_type": "code",
   "execution_count": 119,
   "metadata": {
    "ExecuteTime": {
     "end_time": "2021-07-06T07:36:38.026367Z",
     "start_time": "2021-07-06T07:36:38.013370Z"
    }
   },
   "outputs": [],
   "source": [
    "def batch_forward(df:pd.DataFrame):\n",
    "    data = torch.Tensor(df[features].values)\n",
    "    Q, R, err_est = model(data)\n",
    "    \n",
    "    return Q, R, err_est\n",
    "\n",
    "def batch_filter(df_:pd.DataFrame, Q, R):\n",
    "    df = df_.copy()\n",
    "    df = calc_geo2enu(df)\n",
    "    features = ['x','y','yawRad','UncalGyroZRadPerSec']\n",
    "    df['yawRad'] = np.deg2rad(df['yawDeg'])\n",
    "    meas = df[features]\n",
    "    meas = meas.fillna(0)\n",
    "    \n",
    "    kf = UnscentedKalmanFilter(dim_x = 5, dim_z = 4, dt = 1, fx = fx, hx = hx, points = points)\n",
    "    mu, cov = kf.batch_filter(meas.values, R)\n",
    "    (xs, Ps, Ks) = kf.rts_smoother(mu, cov, Q)\n",
    "    \n",
    "    df['x'] = xs[:,0]\n",
    "    df['y'] = xs[:,1]\n",
    "    df['yawDeg'] = np.rad2deg(xs[:,2])\n",
    "    df['UncalGyroZRadPerSec'] = xs[:,3]\n",
    "    \n",
    "    df = calc_enu2geo(df)\n",
    "    return df\n",
    "    \n",
    "def batch_estim(df_:pd.DataFrame, train = True):\n",
    "    \n",
    "    Q, R, err_est = batch_forward(df_)\n",
    "    Q = Q.detach().numpy()\n",
    "    R = R.detach().numpy()\n",
    "    \n",
    "    df = batch_filter(df_, Q, R)\n",
    "        \n",
    "    return df, err_est, Q, R"
   ]
  },
  {
   "cell_type": "code",
   "execution_count": 120,
   "metadata": {
    "ExecuteTime": {
     "end_time": "2021-07-06T07:36:38.507920Z",
     "start_time": "2021-07-06T07:36:38.493923Z"
    }
   },
   "outputs": [],
   "source": [
    "def train(df_:pd.DataFrame):\n",
    "    model.train()  # 신경망을 학습 모드로 전환\n",
    "    phones = df_['phone'].unique()\n",
    "    output = df_[['phone', 'millisSinceGpsEpoch']].copy()\n",
    "    \n",
    "    df_list = []\n",
    "    for phone in tqdm(phones):\n",
    "        df_sample = df_[df_['phone'] == phone]\n",
    "        \n",
    "        optimizer.zero_grad()  # 경사를 0으로 초기화\n",
    "        \n",
    "        df_sample, err_est, _, _ = batch_estim(df_sample)\n",
    "        \n",
    "        df_sample, mean, score = check_score(df_sample)\n",
    "        loss = loss_func(err_est, torch.Tensor(df_sample['meter'].values).reshape(-1,1))\n",
    "        df_list.append(df_sample)\n",
    "        \n",
    "        \n",
    "        loss.backward()  # 오차를 역전파 계산\n",
    "        optimizer.step()  # 역전파 계산한 값으로 가중치를 수정\n",
    "    \n",
    "    df_list = pd.concat(df_list)\n",
    "    output = output.merge(df_list, on = ['phone', 'millisSinceGpsEpoch'])\n",
    "    \n",
    "    return output\n",
    "        "
   ]
  },
  {
   "cell_type": "code",
   "execution_count": 121,
   "metadata": {
    "ExecuteTime": {
     "end_time": "2021-07-06T07:36:38.973470Z",
     "start_time": "2021-07-06T07:36:38.959472Z"
    }
   },
   "outputs": [],
   "source": [
    "def valid(df_:pd.DataFrame):\n",
    "    model.eval()  # 신경망을 추론 모드로 전환\n",
    "    phones = df_['phone'].unique()\n",
    "    output = df_[['phone', 'millisSinceGpsEpoch']].copy()\n",
    "    \n",
    "    df_list = []\n",
    "    \n",
    "    with torch.no_grad():  # 추론 과정에는 미분이 필요없음\n",
    "        for phone in phones:\n",
    "            df_sample = df_[df_['phone'] == phone]\n",
    "\n",
    "            df_sample, err_est, _, _ = batch_estim(df_sample)\n",
    "            df_list.append(df_sample)\n",
    "        \n",
    "    df_list = pd.concat(df_list)\n",
    "    output = output.merge(df_list, on = ['phone', 'millisSinceGpsEpoch'])\n",
    "    \n",
    "    return output\n",
    "        "
   ]
  },
  {
   "cell_type": "code",
   "execution_count": 122,
   "metadata": {
    "ExecuteTime": {
     "end_time": "2021-07-06T07:36:39.455079Z",
     "start_time": "2021-07-06T07:36:39.440484Z"
    }
   },
   "outputs": [],
   "source": [
    "def test(df_:pd.DataFrame):\n",
    "    model.eval()  # 신경망을 추론 모드로 전환\n",
    "    phones = df_['phone'].unique()\n",
    "    output = df_[['phone', 'millisSinceGpsEpoch']].copy()\n",
    "    \n",
    "    df_list = []\n",
    "    \n",
    "    with torch.no_grad():  # 추론 과정에는 미분이 필요없음\n",
    "        for phone in phones:\n",
    "            df_sample = df_[df_['phone'] == phone]\n",
    "\n",
    "            df_sample, err_est, _, _ = batch_estim(df_sample, train = False)\n",
    "            df_list.append(df_sample)\n",
    "        \n",
    "    df_list = pd.concat(df_list)\n",
    "    output = output.merge(df_list, on = ['phone', 'millisSinceGpsEpoch'])\n",
    "    \n",
    "    return output\n",
    "        "
   ]
  },
  {
   "cell_type": "code",
   "execution_count": null,
   "metadata": {
    "ExecuteTime": {
     "start_time": "2021-07-06T07:42:32.249Z"
    },
    "scrolled": true
   },
   "outputs": [
    {
     "data": {
      "application/vnd.jupyter.widget-view+json": {
       "model_id": "d8df7a3670b448d6a50bd653d52d59ca",
       "version_major": 2,
       "version_minor": 0
      },
      "text/plain": [
       "  0%|          | 0/100 [00:00<?, ?it/s]"
      ]
     },
     "metadata": {},
     "output_type": "display_data"
    },
    {
     "data": {
      "application/vnd.jupyter.widget-view+json": {
       "model_id": "d1e66fb4b0894566b6496c9fd7b9c442",
       "version_major": 2,
       "version_minor": 0
      },
      "text/plain": [
       "  0%|          | 0/73 [00:00<?, ?it/s]"
      ]
     },
     "metadata": {},
     "output_type": "display_data"
    },
    {
     "name": "stdout",
     "output_type": "stream",
     "text": [
      "1: mean=4.306291803486609, score=6.330917207344696\n"
     ]
    },
    {
     "data": {
      "application/vnd.jupyter.widget-view+json": {
       "model_id": "ab45877ca59e4212808edfed128a8dfd",
       "version_major": 2,
       "version_minor": 0
      },
      "text/plain": [
       "  0%|          | 0/73 [00:00<?, ?it/s]"
      ]
     },
     "metadata": {},
     "output_type": "display_data"
    },
    {
     "name": "stdout",
     "output_type": "stream",
     "text": [
      "2: mean=4.320257621416633, score=6.299419636455145\n"
     ]
    },
    {
     "data": {
      "application/vnd.jupyter.widget-view+json": {
       "model_id": "a5b80969116142d797886ae91ef0a594",
       "version_major": 2,
       "version_minor": 0
      },
      "text/plain": [
       "  0%|          | 0/73 [00:00<?, ?it/s]"
      ]
     },
     "metadata": {},
     "output_type": "display_data"
    },
    {
     "name": "stdout",
     "output_type": "stream",
     "text": [
      "3: mean=4.368019906647943, score=6.322688310678513\n"
     ]
    },
    {
     "data": {
      "application/vnd.jupyter.widget-view+json": {
       "model_id": "d5d3aa43083647be8264e2ed6f68fabc",
       "version_major": 2,
       "version_minor": 0
      },
      "text/plain": [
       "  0%|          | 0/73 [00:00<?, ?it/s]"
      ]
     },
     "metadata": {},
     "output_type": "display_data"
    }
   ],
   "source": [
    "# sample_phone = np.random.choice(phones, 3, replace = False)\n",
    "# sample_index = df_train['phone'].apply(lambda x: x in sample_phone)\n",
    "# df_samples = df_train[sample_index]\n",
    "\n",
    "for epoch in tqdm(range(100)):\n",
    "    train_result = train(df_train)\n",
    "    train_result, train_mean, train_score = check_score(train_result)\n",
    "    \n",
    "    print(f\"{epoch + 1}: mean={train_mean}, score={train_score}\")"
   ]
  },
  {
   "cell_type": "code",
   "execution_count": null,
   "metadata": {
    "ExecuteTime": {
     "end_time": "2021-07-06T07:18:10.960504Z",
     "start_time": "2021-07-06T07:18:05.384Z"
    }
   },
   "outputs": [],
   "source": [
    "valid_result = valid(df_test)\n",
    "valid_result, valid_mean, valid_score = check_score(valid_result)\n",
    "print(valid_mean, valid_score)"
   ]
  },
  {
   "cell_type": "code",
   "execution_count": null,
   "metadata": {},
   "outputs": [],
   "source": []
  },
  {
   "cell_type": "code",
   "execution_count": null,
   "metadata": {
    "ExecuteTime": {
     "end_time": "2021-07-06T07:18:10.960504Z",
     "start_time": "2021-07-06T07:18:05.386Z"
    }
   },
   "outputs": [],
   "source": [
    "submission = pd.read_csv(\"../input/google-smartphone-decimeter-challenge/sample_submission.csv\")\n",
    "submission = submission[['phone', 'millisSinceGpsEpoch']]"
   ]
  },
  {
   "cell_type": "code",
   "execution_count": null,
   "metadata": {
    "ExecuteTime": {
     "end_time": "2021-07-06T07:18:10.961502Z",
     "start_time": "2021-07-06T07:18:05.387Z"
    }
   },
   "outputs": [],
   "source": [
    "result = test(df_test)\n",
    "result = result[['phone', 'millisSinceGpsEpoch', 'latDeg', 'lngDeg']]\n",
    "submission = submission.merge(result, on = ['phone', 'millisSinceGpsEpoch'])"
   ]
  },
  {
   "cell_type": "code",
   "execution_count": null,
   "metadata": {
    "ExecuteTime": {
     "end_time": "2021-07-06T07:18:10.962503Z",
     "start_time": "2021-07-06T07:18:05.388Z"
    }
   },
   "outputs": [],
   "source": [
    "submission.to_csv(f\"./models/{'ComplexKalmanFilter1'}/result-{4}result.csv\", index = False)"
   ]
  }
 ],
 "metadata": {
  "hide_input": false,
  "kernelspec": {
   "display_name": "torch",
   "language": "python",
   "name": "torch"
  },
  "language_info": {
   "codemirror_mode": {
    "name": "ipython",
    "version": 3
   },
   "file_extension": ".py",
   "mimetype": "text/x-python",
   "name": "python",
   "nbconvert_exporter": "python",
   "pygments_lexer": "ipython3",
   "version": "3.6.12"
  },
  "latex_envs": {
   "LaTeX_envs_menu_present": true,
   "autoclose": false,
   "autocomplete": true,
   "bibliofile": "biblio.bib",
   "cite_by": "apalike",
   "current_citInitial": 1,
   "eqLabelWithNumbers": true,
   "eqNumInitial": 1,
   "hotkeys": {
    "equation": "Ctrl-E",
    "itemize": "Ctrl-I"
   },
   "labels_anchors": false,
   "latex_user_defs": false,
   "report_style_numbering": false,
   "user_envs_cfg": false
  },
  "toc": {
   "base_numbering": 1,
   "nav_menu": {},
   "number_sections": true,
   "sideBar": true,
   "skip_h1_title": false,
   "title_cell": "Table of Contents",
   "title_sidebar": "Contents",
   "toc_cell": false,
   "toc_position": {},
   "toc_section_display": true,
   "toc_window_display": false
  },
  "varInspector": {
   "cols": {
    "lenName": 16,
    "lenType": 16,
    "lenVar": 40
   },
   "kernels_config": {
    "python": {
     "delete_cmd_postfix": "",
     "delete_cmd_prefix": "del ",
     "library": "var_list.py",
     "varRefreshCmd": "print(var_dic_list())"
    },
    "r": {
     "delete_cmd_postfix": ") ",
     "delete_cmd_prefix": "rm(",
     "library": "var_list.r",
     "varRefreshCmd": "cat(var_dic_list()) "
    }
   },
   "types_to_exclude": [
    "module",
    "function",
    "builtin_function_or_method",
    "instance",
    "_Feature"
   ],
   "window_display": false
  }
 },
 "nbformat": 4,
 "nbformat_minor": 4
}
