{
 "cells": [
  {
   "cell_type": "markdown",
   "metadata": {},
   "source": [
    "# Libraries\n",
    "1. [filterpy](https://filterpy.readthedocs.io/en/latest/kalman/UnscentedKalmanFilter.html)"
   ]
  },
  {
   "cell_type": "code",
   "execution_count": 1,
   "metadata": {
    "ExecuteTime": {
     "end_time": "2021-07-06T21:17:15.245297Z",
     "start_time": "2021-07-06T21:16:53.500422Z"
    }
   },
   "outputs": [],
   "source": [
    "import numpy as np\n",
    "import pandas as pd\n",
    "import random\n",
    "from glob import glob\n",
    "import os\n",
    "import matplotlib.pyplot as plt\n",
    "from tqdm.notebook import tqdm\n",
    "from pathlib import Path\n",
    "import plotly.express as px\n",
    "import seaborn as sns\n",
    "\n",
    "import geopy\n",
    "import pymap3d as pm\n",
    "from filterpy.kalman import UnscentedKalmanFilter, MerweScaledSigmaPoints\n",
    "\n",
    "import torch\n",
    "import torch.nn as nn\n",
    "import torch.nn.functional as F\n",
    "import torch.optim as optim\n",
    "from torch.utils.data import TensorDataset, DataLoader\n",
    "import torchsummary\n",
    "from sklearn.model_selection import train_test_split\n",
    "from sklearn.preprocessing import StandardScaler, MinMaxScaler\n",
    "\n",
    "import warnings\n",
    "warnings.filterwarnings(action='ignore')"
   ]
  },
  {
   "cell_type": "markdown",
   "metadata": {},
   "source": [
    "# Hyper Parameters"
   ]
  },
  {
   "cell_type": "code",
   "execution_count": 2,
   "metadata": {
    "ExecuteTime": {
     "end_time": "2021-07-06T21:17:15.260297Z",
     "start_time": "2021-07-06T21:17:15.246296Z"
    }
   },
   "outputs": [],
   "source": [
    "SEED = 1990\n",
    "random.seed(SEED)\n",
    "np.random.seed(SEED)"
   ]
  },
  {
   "cell_type": "code",
   "execution_count": 3,
   "metadata": {
    "ExecuteTime": {
     "end_time": "2021-07-06T21:17:15.275297Z",
     "start_time": "2021-07-06T21:17:15.262298Z"
    }
   },
   "outputs": [],
   "source": [
    "q = np.array([1,1,1,1,1])\n",
    "r = np.array([1,1,1,1])"
   ]
  },
  {
   "cell_type": "markdown",
   "metadata": {},
   "source": [
    "# Useful functions"
   ]
  },
  {
   "cell_type": "code",
   "execution_count": 4,
   "metadata": {
    "ExecuteTime": {
     "end_time": "2021-07-06T21:17:15.290297Z",
     "start_time": "2021-07-06T21:17:15.276297Z"
    }
   },
   "outputs": [],
   "source": [
    "def calc_haversine(lat1, lon1, lat2, lon2):\n",
    "    lat1, lon1, lat2, lon2 = map(np.radians, [lat1, lon1, lat2, lon2])\n",
    "    dlat = lat2 - lat1\n",
    "    dlon = lon2 - lon1\n",
    "    a = np.sin(dlat / 2.0)**2 + np.cos(lat1) * np.cos(lat2) * np.sin(dlon / 2.0)**2\n",
    "    \n",
    "    c = 2 * np.arcsin(a ** 0.5)\n",
    "    dist = 6_367_000 * c\n",
    "    return dist"
   ]
  },
  {
   "cell_type": "code",
   "execution_count": 5,
   "metadata": {
    "ExecuteTime": {
     "end_time": "2021-07-06T21:17:15.305636Z",
     "start_time": "2021-07-06T21:17:15.292297Z"
    }
   },
   "outputs": [],
   "source": [
    "def check_score(input_df: pd.DataFrame) -> pd.DataFrame:\n",
    "    output_df = input_df.copy()\n",
    "    \n",
    "    output_df['meter'] = input_df.apply(\n",
    "        lambda r: calc_haversine(\n",
    "            r.latDeg, r.lngDeg, r.t_latDeg, r.t_lngDeg\n",
    "        ),\n",
    "        axis=1\n",
    "    )\n",
    "\n",
    "    meter_score = output_df['meter'].mean()\n",
    "\n",
    "    scores = []\n",
    "    for phone in output_df['phone'].unique():\n",
    "        _index = output_df['phone']==phone\n",
    "        p_50 = np.percentile(output_df.loc[_index, 'meter'], 50)\n",
    "        p_95 = np.percentile(output_df.loc[_index, 'meter'], 95)\n",
    "        scores.append(p_50)\n",
    "        scores.append(p_95)\n",
    "\n",
    "    score = sum(scores) / len(scores)\n",
    "    \n",
    "    return output_df, meter_score , score"
   ]
  },
  {
   "cell_type": "code",
   "execution_count": 6,
   "metadata": {
    "ExecuteTime": {
     "end_time": "2021-07-06T21:17:15.320297Z",
     "start_time": "2021-07-06T21:17:15.307298Z"
    }
   },
   "outputs": [],
   "source": [
    "ell_wgs84 = pm.Ellipsoid()\n",
    "def calc_geo2enu(df:pd.DataFrame)->pd.DataFrame:\n",
    "    output = df.copy()\n",
    "    llh = np.array(df[['latDeg', 'lngDeg', 'heightAboveWgs84EllipsoidM']])\n",
    "    denu = pm.geodetic2enu(llh[:,0], llh[:,1], llh[:,2], llh[0,0], llh[0,1], llh[0,2], ell=ell_wgs84)\n",
    "    output['x'] = denu[0]\n",
    "    output['y'] = denu[1]\n",
    "    output['z'] = denu[2]\n",
    "    \n",
    "    return output\n",
    "\n",
    "def calc_enu2geo(df:pd.DataFrame)->pd.DataFrame:\n",
    "    output = df.copy()\n",
    "    enu = np.array(df[['x', 'y', 'z']])\n",
    "    llh = np.array(df[['latDeg', 'lngDeg', 'heightAboveWgs84EllipsoidM']])\n",
    "    geo = pm.enu2geodetic(enu[:,0], enu[:,1], enu[:,2], llh[0,0], llh[0,1], llh[0,2], ell=ell_wgs84, deg = True)\n",
    "    output['latDeg'] = geo[0]\n",
    "    output['lngDeg'] = geo[1]\n",
    "    output['heightAboveWgs84EllipsoidM'] = geo[2]\n",
    "    \n",
    "    return output"
   ]
  },
  {
   "cell_type": "markdown",
   "metadata": {},
   "source": [
    "# Data"
   ]
  },
  {
   "cell_type": "code",
   "execution_count": 7,
   "metadata": {
    "ExecuteTime": {
     "end_time": "2021-07-06T21:17:16.708251Z",
     "start_time": "2021-07-06T21:17:15.321297Z"
    }
   },
   "outputs": [],
   "source": [
    "data_dir = Path(\"../input/google-smartphone-decimeter-challenge\")\n",
    "df_train = pd.read_pickle(str(data_dir / \"gsdc_extract_train.pkl.gzip\"))\n",
    "df_test = pd.read_pickle(str(data_dir / \"gsdc_extract_test.pkl.gzip\"))"
   ]
  },
  {
   "cell_type": "code",
   "execution_count": 8,
   "metadata": {
    "ExecuteTime": {
     "end_time": "2021-07-06T21:17:16.858064Z",
     "start_time": "2021-07-06T21:17:16.710255Z"
    },
    "scrolled": true
   },
   "outputs": [
    {
     "name": "stdout",
     "output_type": "stream",
     "text": [
      "(1746, 148)\n"
     ]
    },
    {
     "data": {
      "text/html": [
       "<div>\n",
       "<style scoped>\n",
       "    .dataframe tbody tr th:only-of-type {\n",
       "        vertical-align: middle;\n",
       "    }\n",
       "\n",
       "    .dataframe tbody tr th {\n",
       "        vertical-align: top;\n",
       "    }\n",
       "\n",
       "    .dataframe thead th {\n",
       "        text-align: right;\n",
       "    }\n",
       "</style>\n",
       "<table border=\"1\" class=\"dataframe\">\n",
       "  <thead>\n",
       "    <tr style=\"text-align: right;\">\n",
       "      <th></th>\n",
       "      <th>collectionName</th>\n",
       "      <th>phoneName</th>\n",
       "      <th>millisSinceGpsEpoch</th>\n",
       "      <th>latDeg</th>\n",
       "      <th>lngDeg</th>\n",
       "      <th>heightAboveWgs84EllipsoidM</th>\n",
       "      <th>phone</th>\n",
       "      <th>timeSinceFirstFixSeconds</th>\n",
       "      <th>hDop</th>\n",
       "      <th>vDop</th>\n",
       "      <th>...</th>\n",
       "      <th>GPS_L1</th>\n",
       "      <th>GPS_L5</th>\n",
       "      <th>GAL_E1</th>\n",
       "      <th>GAL_E5A</th>\n",
       "      <th>GLO_G1</th>\n",
       "      <th>BDS_B1I</th>\n",
       "      <th>BDS_B1C</th>\n",
       "      <th>BDS_B2A</th>\n",
       "      <th>QZS_J1</th>\n",
       "      <th>QZS_J5</th>\n",
       "    </tr>\n",
       "  </thead>\n",
       "  <tbody>\n",
       "    <tr>\n",
       "      <th>0</th>\n",
       "      <td>2020-05-14-US-MTV-1</td>\n",
       "      <td>Pixel4XLModded</td>\n",
       "      <td>1273529466449</td>\n",
       "      <td>37.423574</td>\n",
       "      <td>-122.094137</td>\n",
       "      <td>-33.20</td>\n",
       "      <td>2020-05-14-US-MTV-1_Pixel4XLModded</td>\n",
       "      <td>554.45</td>\n",
       "      <td>1.2</td>\n",
       "      <td>0.0</td>\n",
       "      <td>...</td>\n",
       "      <td>0</td>\n",
       "      <td>0</td>\n",
       "      <td>0</td>\n",
       "      <td>0</td>\n",
       "      <td>0</td>\n",
       "      <td>0</td>\n",
       "      <td>0</td>\n",
       "      <td>0</td>\n",
       "      <td>0</td>\n",
       "      <td>0</td>\n",
       "    </tr>\n",
       "    <tr>\n",
       "      <th>1</th>\n",
       "      <td>2020-05-14-US-MTV-1</td>\n",
       "      <td>Pixel4XLModded</td>\n",
       "      <td>1273529467449</td>\n",
       "      <td>37.423573</td>\n",
       "      <td>-122.094153</td>\n",
       "      <td>-33.92</td>\n",
       "      <td>2020-05-14-US-MTV-1_Pixel4XLModded</td>\n",
       "      <td>555.45</td>\n",
       "      <td>1.2</td>\n",
       "      <td>0.0</td>\n",
       "      <td>...</td>\n",
       "      <td>0</td>\n",
       "      <td>0</td>\n",
       "      <td>0</td>\n",
       "      <td>0</td>\n",
       "      <td>0</td>\n",
       "      <td>0</td>\n",
       "      <td>0</td>\n",
       "      <td>0</td>\n",
       "      <td>0</td>\n",
       "      <td>0</td>\n",
       "    </tr>\n",
       "    <tr>\n",
       "      <th>2</th>\n",
       "      <td>2020-05-14-US-MTV-1</td>\n",
       "      <td>Pixel4XLModded</td>\n",
       "      <td>1273529468449</td>\n",
       "      <td>37.423578</td>\n",
       "      <td>-122.094148</td>\n",
       "      <td>-33.33</td>\n",
       "      <td>2020-05-14-US-MTV-1_Pixel4XLModded</td>\n",
       "      <td>556.45</td>\n",
       "      <td>1.2</td>\n",
       "      <td>0.0</td>\n",
       "      <td>...</td>\n",
       "      <td>0</td>\n",
       "      <td>0</td>\n",
       "      <td>0</td>\n",
       "      <td>0</td>\n",
       "      <td>0</td>\n",
       "      <td>0</td>\n",
       "      <td>0</td>\n",
       "      <td>0</td>\n",
       "      <td>0</td>\n",
       "      <td>0</td>\n",
       "    </tr>\n",
       "    <tr>\n",
       "      <th>3</th>\n",
       "      <td>2020-05-14-US-MTV-1</td>\n",
       "      <td>Pixel4XLModded</td>\n",
       "      <td>1273529469449</td>\n",
       "      <td>37.423573</td>\n",
       "      <td>-122.094150</td>\n",
       "      <td>-32.85</td>\n",
       "      <td>2020-05-14-US-MTV-1_Pixel4XLModded</td>\n",
       "      <td>557.45</td>\n",
       "      <td>1.2</td>\n",
       "      <td>0.0</td>\n",
       "      <td>...</td>\n",
       "      <td>0</td>\n",
       "      <td>0</td>\n",
       "      <td>0</td>\n",
       "      <td>0</td>\n",
       "      <td>0</td>\n",
       "      <td>0</td>\n",
       "      <td>0</td>\n",
       "      <td>0</td>\n",
       "      <td>0</td>\n",
       "      <td>0</td>\n",
       "    </tr>\n",
       "    <tr>\n",
       "      <th>4</th>\n",
       "      <td>2020-05-14-US-MTV-1</td>\n",
       "      <td>Pixel4XLModded</td>\n",
       "      <td>1273529470449</td>\n",
       "      <td>37.423573</td>\n",
       "      <td>-122.094147</td>\n",
       "      <td>-31.26</td>\n",
       "      <td>2020-05-14-US-MTV-1_Pixel4XLModded</td>\n",
       "      <td>558.45</td>\n",
       "      <td>1.2</td>\n",
       "      <td>0.0</td>\n",
       "      <td>...</td>\n",
       "      <td>0</td>\n",
       "      <td>0</td>\n",
       "      <td>0</td>\n",
       "      <td>0</td>\n",
       "      <td>0</td>\n",
       "      <td>0</td>\n",
       "      <td>0</td>\n",
       "      <td>0</td>\n",
       "      <td>0</td>\n",
       "      <td>0</td>\n",
       "    </tr>\n",
       "  </tbody>\n",
       "</table>\n",
       "<p>5 rows × 148 columns</p>\n",
       "</div>"
      ],
      "text/plain": [
       "        collectionName       phoneName  millisSinceGpsEpoch     latDeg  \\\n",
       "0  2020-05-14-US-MTV-1  Pixel4XLModded        1273529466449  37.423574   \n",
       "1  2020-05-14-US-MTV-1  Pixel4XLModded        1273529467449  37.423573   \n",
       "2  2020-05-14-US-MTV-1  Pixel4XLModded        1273529468449  37.423578   \n",
       "3  2020-05-14-US-MTV-1  Pixel4XLModded        1273529469449  37.423573   \n",
       "4  2020-05-14-US-MTV-1  Pixel4XLModded        1273529470449  37.423573   \n",
       "\n",
       "       lngDeg  heightAboveWgs84EllipsoidM                               phone  \\\n",
       "0 -122.094137                      -33.20  2020-05-14-US-MTV-1_Pixel4XLModded   \n",
       "1 -122.094153                      -33.92  2020-05-14-US-MTV-1_Pixel4XLModded   \n",
       "2 -122.094148                      -33.33  2020-05-14-US-MTV-1_Pixel4XLModded   \n",
       "3 -122.094150                      -32.85  2020-05-14-US-MTV-1_Pixel4XLModded   \n",
       "4 -122.094147                      -31.26  2020-05-14-US-MTV-1_Pixel4XLModded   \n",
       "\n",
       "   timeSinceFirstFixSeconds  hDop  vDop  ...  GPS_L1  GPS_L5  GAL_E1  GAL_E5A  \\\n",
       "0                    554.45   1.2   0.0  ...       0       0       0        0   \n",
       "1                    555.45   1.2   0.0  ...       0       0       0        0   \n",
       "2                    556.45   1.2   0.0  ...       0       0       0        0   \n",
       "3                    557.45   1.2   0.0  ...       0       0       0        0   \n",
       "4                    558.45   1.2   0.0  ...       0       0       0        0   \n",
       "\n",
       "   GLO_G1  BDS_B1I  BDS_B1C BDS_B2A  QZS_J1  QZS_J5  \n",
       "0       0        0        0       0       0       0  \n",
       "1       0        0        0       0       0       0  \n",
       "2       0        0        0       0       0       0  \n",
       "3       0        0        0       0       0       0  \n",
       "4       0        0        0       0       0       0  \n",
       "\n",
       "[5 rows x 148 columns]"
      ]
     },
     "execution_count": 8,
     "metadata": {},
     "output_type": "execute_result"
    }
   ],
   "source": [
    "phones = df_train['phone'].unique()\n",
    "phone = phones[random.randint(0, len(phones))]\n",
    "df_sample = df_train[df_train['phone'] == phone].copy().reset_index().drop(columns = ['index'])\n",
    "print(df_sample.shape)\n",
    "df_sample.head()"
   ]
  },
  {
   "cell_type": "code",
   "execution_count": 9,
   "metadata": {
    "ExecuteTime": {
     "end_time": "2021-07-06T21:17:16.888064Z",
     "start_time": "2021-07-06T21:17:16.860064Z"
    },
    "scrolled": true
   },
   "outputs": [
    {
     "name": "stdout",
     "output_type": "stream",
     "text": [
      "collectionName\n",
      "phoneName\n",
      "millisSinceGpsEpoch\n",
      "latDeg\n",
      "lngDeg\n",
      "heightAboveWgs84EllipsoidM\n",
      "phone\n",
      "timeSinceFirstFixSeconds\n",
      "hDop\n",
      "vDop\n",
      "speedMps\n",
      "courseDegree\n",
      "t_latDeg\n",
      "t_lngDeg\n",
      "t_heightAboveWgs84EllipsoidM\n",
      "constellationType\n",
      "svid\n",
      "signalType\n",
      "receivedSvTimeInGpsNanos\n",
      "xSatPosM\n",
      "ySatPosM\n",
      "zSatPosM\n",
      "xSatVelMps\n",
      "ySatVelMps\n",
      "zSatVelMps\n",
      "satClkBiasM\n",
      "satClkDriftMps\n",
      "rawPrM\n",
      "rawPrUncM\n",
      "isrbM\n",
      "ionoDelayM\n",
      "tropoDelayM\n",
      "utcTimeMillis\n",
      "elapsedRealtimeNanos\n",
      "yawDeg\n",
      "rollDeg\n",
      "pitchDeg\n",
      "utcTimeMillis_Status\n",
      "SignalCount\n",
      "SignalIndex\n",
      "ConstellationType\n",
      "Svid\n",
      "CarrierFrequencyHz\n",
      "Cn0DbHz\n",
      "AzimuthDegrees\n",
      "ElevationDegrees\n",
      "UsedInFix\n",
      "HasAlmanacData\n",
      "HasEphemerisData\n",
      "BasebandCn0DbHz\n",
      "utcTimeMillis_UncalMag\n",
      "elapsedRealtimeNanos_UncalMag\n",
      "UncalMagXMicroT\n",
      "UncalMagYMicroT\n",
      "UncalMagZMicroT\n",
      "BiasXMicroT\n",
      "BiasYMicroT\n",
      "BiasZMicroT\n",
      "utcTimeMillis_UncalAccel\n",
      "elapsedRealtimeNanos_UncalAccel\n",
      "UncalAccelXMps2\n",
      "UncalAccelYMps2\n",
      "UncalAccelZMps2\n",
      "BiasXMps2\n",
      "BiasYMps2\n",
      "BiasZMps2\n",
      "utcTimeMillis_UncalGyro\n",
      "elapsedRealtimeNanos_UncalGyro\n",
      "UncalGyroXRadPerSec\n",
      "UncalGyroYRadPerSec\n",
      "UncalGyroZRadPerSec\n",
      "DriftXRadPerSec\n",
      "DriftYRadPerSec\n",
      "DriftZRadPerSec\n",
      "utcTimeMillis_Raw\n",
      "TimeNanos\n",
      "LeapSecond\n",
      "FullBiasNanos\n",
      "BiasNanos\n",
      "BiasUncertaintyNanos\n",
      "DriftNanosPerSecond\n",
      "DriftUncertaintyNanosPerSecond\n",
      "HardwareClockDiscontinuityCount\n",
      "Svid_Raw\n",
      "TimeOffsetNanos\n",
      "State\n",
      "ReceivedSvTimeNanos\n",
      "ReceivedSvTimeUncertaintyNanos\n",
      "Cn0DbHz_Raw\n",
      "PseudorangeRateMetersPerSecond\n",
      "PseudorangeRateUncertaintyMetersPerSecond\n",
      "AccumulatedDeltaRangeState\n",
      "AccumulatedDeltaRangeMeters\n",
      "AccumulatedDeltaRangeUncertaintyMeters\n",
      "CarrierFrequencyHz_Raw\n",
      "MultipathIndicator\n",
      "ConstellationType_Raw\n",
      "AgcDb\n",
      "BasebandCn0DbHz_Raw\n",
      "FullInterSignalBiasNanos\n",
      "FullInterSignalBiasUncertaintyNanos\n",
      "SatelliteInterSignalBiasNanos\n",
      "SatelliteInterSignalBiasUncertaintyNanos\n",
      "CodeType\n",
      "ChipsetElapsedRealtimeNanos\n",
      "dlatDeg\n",
      "dlngDeg\n",
      "dheight\n",
      "dlatDeg_Scaled\n",
      "dlngDeg_Scaled\n",
      "dheight_Scaled\n",
      "xSatPosM_Scaled\n",
      "ySatPosM_Scaled\n",
      "zSatPosM_Scaled\n",
      "xSatVelMps_Scaled\n",
      "ySatVelMps_Scaled\n",
      "zSatVelMps_Scaled\n",
      "UncalGyroXRadPerSec_Scaled\n",
      "UncalGyroYRadPerSec_Scaled\n",
      "UncalGyroZRadPerSec_Scaled\n",
      "DriftXRadPerSec_Scaled\n",
      "DriftYRadPerSec_Scaled\n",
      "DriftZRadPerSec_Scaled\n",
      "UncalAccelXMps2_Scaled\n",
      "UncalAccelYMps2_Scaled\n",
      "UncalAccelZMps2_Scaled\n",
      "BiasXMps2_Scaled\n",
      "BiasYMps2_Scaled\n",
      "BiasZMps2_Scaled\n",
      "UncalMagXMicroT_Scaled\n",
      "UncalMagYMicroT_Scaled\n",
      "UncalMagZMicroT_Scaled\n",
      "BiasXMicroT_Scaled\n",
      "BiasYMicroT_Scaled\n",
      "BiasZMicroT_Scaled\n",
      "yawDeg_Scaled\n",
      "rollDeg_Scaled\n",
      "pitchDeg_Scaled\n",
      "GPS_L1\n",
      "GPS_L5\n",
      "GAL_E1\n",
      "GAL_E5A\n",
      "GLO_G1\n",
      "BDS_B1I\n",
      "BDS_B1C\n",
      "BDS_B2A\n",
      "QZS_J1\n",
      "QZS_J5\n"
     ]
    }
   ],
   "source": [
    "for col in df_train.columns:\n",
    "    print(col)"
   ]
  },
  {
   "cell_type": "markdown",
   "metadata": {},
   "source": [
    "## Model Define\n",
    "$$\n",
    "\\begin{matrix}\n",
    "x_t =& x_{t-1} + \\frac{v_{t-1}}{w_{t-1}}\\left({\\sin}\\left({\\omega}_{t-1}dt + {\\theta}_{t-1}\\right) - {\\sin}\\left({\\theta}\\right)\\right)\\\\\n",
    "y_t =& y_{t-1} + \\frac{v_{t-1}}{w_{t-1}}\\left({\\cos}\\left({\\theta}_{t-1}\\right) - {\\cos}\\left({\\omega}_{t-1}dt + {\\theta}_{t-1}\\right)\\right)\\\\\n",
    "v_t =& v_{t-1}\\\\\n",
    "{\\theta}_t =& {\\theta}_{t-1} + {\\omega}_{t-1}dt\\\\\n",
    "{\\omega}_t =& {\\omega}_{t-1}\n",
    "\\end{matrix}\n",
    "$$"
   ]
  },
  {
   "cell_type": "code",
   "execution_count": 10,
   "metadata": {
    "ExecuteTime": {
     "end_time": "2021-07-06T21:17:16.903062Z",
     "start_time": "2021-07-06T21:17:16.890064Z"
    }
   },
   "outputs": [],
   "source": [
    "def fx(x, dt):\n",
    "    xout = np.zeros_like(x)\n",
    "    if abs(x[4]) > 1e-3:\n",
    "        xout[0] = x[0] + x[2]/x[4] * (np.sin(x[4] * dt + x[3]) - np.sin(x[3]))\n",
    "        xout[1] = x[1] + x[2]/x[4] * (np.cos(x[3]) - np.cos(x[4] * dt + x[3]))\n",
    "        xout[2] = x[2]\n",
    "        xout[3] = x[3] + x[4] * dt\n",
    "        xout[4] = x[4]\n",
    "    else:\n",
    "        xout[0] = x[0] + x[2] * dt * (np.cos(x[3]))\n",
    "        xout[1] = x[1] + x[2] * dt * (np.sin(x[3]))\n",
    "        xout[2] = x[2]\n",
    "        xout[3] = x[3] + x[4] * dt\n",
    "        xout[4] = x[4]\n",
    "        \n",
    "    return xout"
   ]
  },
  {
   "cell_type": "code",
   "execution_count": 11,
   "metadata": {
    "ExecuteTime": {
     "end_time": "2021-07-06T21:17:16.918064Z",
     "start_time": "2021-07-06T21:17:16.904065Z"
    },
    "scrolled": true
   },
   "outputs": [],
   "source": [
    "def batch_filter(df, q_, r_):\n",
    "    df1 = calc_geo2enu(df)\n",
    "    df1['yawRad'] = np.deg2rad(df1['yawDeg'])\n",
    "    \n",
    "    \n",
    "    features = ['x', 'y']\n",
    "    index = [0, 1]\n",
    "    rindex = [0, 1]\n",
    "    if df1['yawDeg'].isna().mean() == 1 or df1['yawDeg'].mean() == 0:\n",
    "        pass\n",
    "    else:\n",
    "        features += ['yawRad']\n",
    "        index += [3]\n",
    "        rindex+= [2]\n",
    "    if df1['UncalGyroZRadPerSec'].isna().mean() == 1 or df1['UncalGyroZRadPerSec'].mean() == 0:\n",
    "        pass\n",
    "    else:\n",
    "        features += ['UncalGyroZRadPerSec']\n",
    "        index += [4]\n",
    "        rindex+= [3]\n",
    "    \n",
    "    q = q_\n",
    "    r = r_[rindex]\n",
    "    meas = df1[features]\n",
    "    meas = meas.fillna(0)\n",
    "    h = lambda x:x[index]\n",
    "    \n",
    "    points = MerweScaledSigmaPoints(5, alpha = .1, beta = 2., kappa = -1)\n",
    "    kf = UnscentedKalmanFilter(dim_x = 5, dim_z = len(features), dt = 1, fx = fx, hx = h, points = points)\n",
    "    kf.Q = np.diag(q)\n",
    "    kf.R = np.diag(r)\n",
    "    \n",
    "    mu, cov = kf.batch_filter(meas.values)\n",
    "    (xs, Ps, Ks) = kf.rts_smoother(mu, cov)\n",
    "    df2 = df1.copy()\n",
    "    df2['x'] = xs[:,0]\n",
    "    df2['y'] = xs[:,1]\n",
    "    df2['yawDeg'] = np.rad2deg(xs[:,2])\n",
    "    df2['UncalGyroZRadPerSec'] = xs[:,3]\n",
    "    df3 = calc_enu2geo(df2)\n",
    "    return df3"
   ]
  },
  {
   "cell_type": "code",
   "execution_count": 12,
   "metadata": {
    "ExecuteTime": {
     "end_time": "2021-07-06T21:17:16.933064Z",
     "start_time": "2021-07-06T21:17:16.919063Z"
    },
    "scrolled": true
   },
   "outputs": [],
   "source": [
    "def evaluate(df, q_, r_, get_score = True):\n",
    "    output = df.copy()\n",
    "    mean_before, score_before, mean_after, score_after =0, 0, 0, 0\n",
    "    output.drop(columns = ['latDeg', 'lngDeg'], inplace = True)\n",
    "    df_list = []\n",
    "    \n",
    "    for phone in tqdm(df['phone'].unique()):\n",
    "        df1 = df[df['phone'] == phone].copy()\n",
    "        df2 = batch_filter(df1, q_, r_)\n",
    "        df_list.append(df2[['phone', 'millisSinceGpsEpoch', 'latDeg', 'lngDeg']])\n",
    "    df3 = pd.concat(df_list)\n",
    "    output = output.merge(df3, on = ['phone', 'millisSinceGpsEpoch'])\n",
    "\n",
    "    if get_score:\n",
    "        _, mean_before, score_before = check_score(df)\n",
    "        _, mean_after, score_after = check_score(output)\n",
    "    \n",
    "    return output, mean_before, score_before, mean_after, score_after"
   ]
  },
  {
   "cell_type": "code",
   "execution_count": 17,
   "metadata": {
    "ExecuteTime": {
     "end_time": "2021-07-06T22:21:06.428644Z",
     "start_time": "2021-07-06T21:26:22.590953Z"
    }
   },
   "outputs": [
    {
     "data": {
      "application/vnd.jupyter.widget-view+json": {
       "model_id": "b2b48337a3724d98a2db48f82229d607",
       "version_major": 2,
       "version_minor": 0
      },
      "text/plain": [
       "  0%|          | 0/5 [00:00<?, ?it/s]"
      ]
     },
     "metadata": {},
     "output_type": "display_data"
    },
    {
     "name": "stdout",
     "output_type": "stream",
     "text": [
      "0.1, 0.1 : mean chagne - 0.047109, score change - 0.169391\n",
      "after[3.713826479249931, 7.203849090006893], before[3.666717828362788, 7.034457791343084]\n",
      "[1.00000000e-05 1.00000000e-05 2.50000000e-04 7.61543549e-06\n",
      " 1.90385887e-04]\n",
      "[1.00000000e-05 1.00000000e-05 7.61543549e-06 1.90385887e-04]\n"
     ]
    },
    {
     "data": {
      "application/vnd.jupyter.widget-view+json": {
       "model_id": "33e5f949c8814315b142a52948444531",
       "version_major": 2,
       "version_minor": 0
      },
      "text/plain": [
       "  0%|          | 0/5 [00:00<?, ?it/s]"
      ]
     },
     "metadata": {},
     "output_type": "display_data"
    },
    {
     "name": "stdout",
     "output_type": "stream",
     "text": [
      "0.2, 0.1 : mean chagne - 208.390893, score change - 840.194236\n",
      "after[212.05761130559156, 847.2286940331269], before[3.666717828362788, 7.034457791343084]\n",
      "[2.00000000e-05 2.00000000e-05 5.00000000e-04 1.52308710e-05\n",
      " 3.80771775e-04]\n",
      "[1.00000000e-05 1.00000000e-05 7.61543549e-06 1.90385887e-04]\n"
     ]
    },
    {
     "data": {
      "application/vnd.jupyter.widget-view+json": {
       "model_id": "b77c325a84044341803111f4a86d7f65",
       "version_major": 2,
       "version_minor": 0
      },
      "text/plain": [
       "  0%|          | 0/5 [00:00<?, ?it/s]"
      ]
     },
     "metadata": {},
     "output_type": "display_data"
    },
    {
     "name": "stdout",
     "output_type": "stream",
     "text": [
      "0.30000000000000004, 0.1 : mean chagne - 1.785773, score change - 4.003889\n",
      "after[5.45249054644232, 11.038346772245173], before[3.666717828362788, 7.034457791343084]\n",
      "[3.00000000e-05 3.00000000e-05 7.50000000e-04 2.28463065e-05\n",
      " 5.71157662e-04]\n",
      "[1.00000000e-05 1.00000000e-05 7.61543549e-06 1.90385887e-04]\n"
     ]
    },
    {
     "data": {
      "application/vnd.jupyter.widget-view+json": {
       "model_id": "75ae88e64fa44b1abac1cfb21fdaaea8",
       "version_major": 2,
       "version_minor": 0
      },
      "text/plain": [
       "  0%|          | 0/5 [00:00<?, ?it/s]"
      ]
     },
     "metadata": {},
     "output_type": "display_data"
    },
    {
     "name": "stdout",
     "output_type": "stream",
     "text": [
      "0.4, 0.1 : mean chagne - 1.316627, score change - 1.686886\n",
      "after[4.983344641706608, 8.721343729602347], before[3.666717828362788, 7.034457791343084]\n",
      "[4.00000000e-05 4.00000000e-05 1.00000000e-03 3.04617420e-05\n",
      " 7.61543549e-04]\n",
      "[1.00000000e-05 1.00000000e-05 7.61543549e-06 1.90385887e-04]\n"
     ]
    },
    {
     "data": {
      "application/vnd.jupyter.widget-view+json": {
       "model_id": "20c5462e613f41d48e421c7a7269bae8",
       "version_major": 2,
       "version_minor": 0
      },
      "text/plain": [
       "  0%|          | 0/5 [00:00<?, ?it/s]"
      ]
     },
     "metadata": {},
     "output_type": "display_data"
    },
    {
     "name": "stdout",
     "output_type": "stream",
     "text": [
      "0.5, 0.1 : mean chagne - 0.523213, score change - 0.926330\n",
      "after[4.189930987125106, 7.9607873738667845], before[3.666717828362788, 7.034457791343084]\n",
      "[5.00000000e-05 5.00000000e-05 1.25000000e-03 3.80771775e-05\n",
      " 9.51929437e-04]\n",
      "[1.00000000e-05 1.00000000e-05 7.61543549e-06 1.90385887e-04]\n"
     ]
    },
    {
     "data": {
      "application/vnd.jupyter.widget-view+json": {
       "model_id": "adc1567a922b494bb9af94e583dc00f4",
       "version_major": 2,
       "version_minor": 0
      },
      "text/plain": [
       "  0%|          | 0/5 [00:00<?, ?it/s]"
      ]
     },
     "metadata": {},
     "output_type": "display_data"
    },
    {
     "name": "stdout",
     "output_type": "stream",
     "text": [
      "0.6, 0.1 : mean chagne - 0.171472, score change - 0.197299\n",
      "after[3.838190169761205, 7.2317568272364126], before[3.666717828362788, 7.034457791343084]\n",
      "[6.00000000e-05 6.00000000e-05 1.50000000e-03 4.56926130e-05\n",
      " 1.14231532e-03]\n",
      "[1.00000000e-05 1.00000000e-05 7.61543549e-06 1.90385887e-04]\n"
     ]
    },
    {
     "data": {
      "application/vnd.jupyter.widget-view+json": {
       "model_id": "e239c22038ea4762b05d9325ad7ce3e1",
       "version_major": 2,
       "version_minor": 0
      },
      "text/plain": [
       "  0%|          | 0/5 [00:00<?, ?it/s]"
      ]
     },
     "metadata": {},
     "output_type": "display_data"
    },
    {
     "name": "stdout",
     "output_type": "stream",
     "text": [
      "0.7000000000000001, 0.1 : mean chagne - 0.106814, score change - 0.159959\n",
      "after[3.773531634947729, 7.19441718361008], before[3.666717828362788, 7.034457791343084]\n",
      "[7.00000000e-05 7.00000000e-05 1.75000000e-03 5.33080485e-05\n",
      " 1.33270121e-03]\n",
      "[1.00000000e-05 1.00000000e-05 7.61543549e-06 1.90385887e-04]\n"
     ]
    },
    {
     "data": {
      "application/vnd.jupyter.widget-view+json": {
       "model_id": "97b57d634f1e4de5a0eedd5e25113ccc",
       "version_major": 2,
       "version_minor": 0
      },
      "text/plain": [
       "  0%|          | 0/5 [00:00<?, ?it/s]"
      ]
     },
     "metadata": {},
     "output_type": "display_data"
    },
    {
     "name": "stdout",
     "output_type": "stream",
     "text": [
      "0.8, 0.1 : mean chagne - 0.106475, score change - 0.116619\n",
      "after[3.7731929770577493, 7.151076636095633], before[3.666717828362788, 7.034457791343084]\n",
      "[8.0000000e-05 8.0000000e-05 2.0000000e-03 6.0923484e-05 1.5230871e-03]\n",
      "[1.00000000e-05 1.00000000e-05 7.61543549e-06 1.90385887e-04]\n"
     ]
    },
    {
     "data": {
      "application/vnd.jupyter.widget-view+json": {
       "model_id": "b2501d2d272743c4ab10017252e05b8c",
       "version_major": 2,
       "version_minor": 0
      },
      "text/plain": [
       "  0%|          | 0/5 [00:00<?, ?it/s]"
      ]
     },
     "metadata": {},
     "output_type": "display_data"
    },
    {
     "name": "stdout",
     "output_type": "stream",
     "text": [
      "0.9, 0.1 : mean chagne - 2.118492, score change - 1.997120\n",
      "after[5.785209330561581, 9.031578010385678], before[3.666717828362788, 7.034457791343084]\n",
      "[9.00000000e-05 9.00000000e-05 2.25000000e-03 6.85389195e-05\n",
      " 1.71347299e-03]\n",
      "[1.00000000e-05 1.00000000e-05 7.61543549e-06 1.90385887e-04]\n"
     ]
    },
    {
     "data": {
      "application/vnd.jupyter.widget-view+json": {
       "model_id": "0db782a7c2614871b8d02d3bf89deb2f",
       "version_major": 2,
       "version_minor": 0
      },
      "text/plain": [
       "  0%|          | 0/5 [00:00<?, ?it/s]"
      ]
     },
     "metadata": {},
     "output_type": "display_data"
    },
    {
     "name": "stdout",
     "output_type": "stream",
     "text": [
      "1.0, 0.1 : mean chagne - 0.090351, score change - 0.140893\n",
      "after[3.7570683441411594, 7.175350292953809], before[3.666717828362788, 7.034457791343084]\n",
      "[1.00000000e-04 1.00000000e-04 2.50000000e-03 7.61543549e-05\n",
      " 1.90385887e-03]\n",
      "[1.00000000e-05 1.00000000e-05 7.61543549e-06 1.90385887e-04]\n"
     ]
    },
    {
     "data": {
      "application/vnd.jupyter.widget-view+json": {
       "model_id": "bc893ee77c424919aa3537a899fbfe41",
       "version_major": 2,
       "version_minor": 0
      },
      "text/plain": [
       "  0%|          | 0/5 [00:00<?, ?it/s]"
      ]
     },
     "metadata": {},
     "output_type": "display_data"
    },
    {
     "name": "stdout",
     "output_type": "stream",
     "text": [
      "1.1, 0.1 : mean chagne - 0.087878, score change - 0.077087\n",
      "after[3.754596008699195, 7.111544974766924], before[3.666717828362788, 7.034457791343084]\n",
      "[1.10000000e-04 1.10000000e-04 2.75000000e-03 8.37697904e-05\n",
      " 2.09424476e-03]\n",
      "[1.00000000e-05 1.00000000e-05 7.61543549e-06 1.90385887e-04]\n"
     ]
    },
    {
     "data": {
      "application/vnd.jupyter.widget-view+json": {
       "model_id": "c6a99cc85d6f409fb128fc37dc5ea44d",
       "version_major": 2,
       "version_minor": 0
      },
      "text/plain": [
       "  0%|          | 0/5 [00:00<?, ?it/s]"
      ]
     },
     "metadata": {},
     "output_type": "display_data"
    },
    {
     "name": "stdout",
     "output_type": "stream",
     "text": [
      "1.2000000000000002, 0.1 : mean chagne - 0.086150, score change - 0.087410\n",
      "after[3.75286797251349, 7.121868253583275], before[3.666717828362788, 7.034457791343084]\n",
      "[1.20000000e-04 1.20000000e-04 3.00000000e-03 9.13852259e-05\n",
      " 2.28463065e-03]\n",
      "[1.00000000e-05 1.00000000e-05 7.61543549e-06 1.90385887e-04]\n"
     ]
    },
    {
     "data": {
      "application/vnd.jupyter.widget-view+json": {
       "model_id": "c6c695eed32c4c789d57b0776a3c3662",
       "version_major": 2,
       "version_minor": 0
      },
      "text/plain": [
       "  0%|          | 0/5 [00:00<?, ?it/s]"
      ]
     },
     "metadata": {},
     "output_type": "display_data"
    },
    {
     "name": "stdout",
     "output_type": "stream",
     "text": [
      "1.3000000000000003, 0.1 : mean chagne - 0.068580, score change - 0.080006\n",
      "after[3.735298071682838, 7.114463716662587], before[3.666717828362788, 7.034457791343084]\n",
      "[1.30000000e-04 1.30000000e-04 3.25000000e-03 9.90006614e-05\n",
      " 2.47501654e-03]\n",
      "[1.00000000e-05 1.00000000e-05 7.61543549e-06 1.90385887e-04]\n"
     ]
    },
    {
     "data": {
      "application/vnd.jupyter.widget-view+json": {
       "model_id": "22a8275d1d0c42929a434f422fa846b2",
       "version_major": 2,
       "version_minor": 0
      },
      "text/plain": [
       "  0%|          | 0/5 [00:00<?, ?it/s]"
      ]
     },
     "metadata": {},
     "output_type": "display_data"
    },
    {
     "name": "stdout",
     "output_type": "stream",
     "text": [
      "1.4000000000000001, 0.1 : mean chagne - 0.083716, score change - 0.096813\n",
      "after[3.750433673422395, 7.131271244036728], before[3.666717828362788, 7.034457791343084]\n",
      "[0.00014    0.00014    0.0035     0.00010662 0.0026654 ]\n",
      "[1.00000000e-05 1.00000000e-05 7.61543549e-06 1.90385887e-04]\n"
     ]
    },
    {
     "data": {
      "application/vnd.jupyter.widget-view+json": {
       "model_id": "8637fa2fc9014137bb1b067cb2a00754",
       "version_major": 2,
       "version_minor": 0
      },
      "text/plain": [
       "  0%|          | 0/5 [00:00<?, ?it/s]"
      ]
     },
     "metadata": {},
     "output_type": "display_data"
    },
    {
     "name": "stdout",
     "output_type": "stream",
     "text": [
      "1.5000000000000002, 0.1 : mean chagne - 0.086041, score change - 0.075628\n",
      "after[3.752758572542591, 7.110085504309744], before[3.666717828362788, 7.034457791343084]\n",
      "[0.00015    0.00015    0.00375    0.00011423 0.00285579]\n",
      "[1.00000000e-05 1.00000000e-05 7.61543549e-06 1.90385887e-04]\n"
     ]
    },
    {
     "data": {
      "application/vnd.jupyter.widget-view+json": {
       "model_id": "187ca1d637094aea88a3aee0036af0a8",
       "version_major": 2,
       "version_minor": 0
      },
      "text/plain": [
       "  0%|          | 0/5 [00:00<?, ?it/s]"
      ]
     },
     "metadata": {},
     "output_type": "display_data"
    },
    {
     "name": "stdout",
     "output_type": "stream",
     "text": [
      "1.6, 0.1 : mean chagne - 0.077223, score change - 0.058968\n",
      "after[3.7439403443489367, 7.093426032341893], before[3.666717828362788, 7.034457791343084]\n",
      "[0.00016    0.00016    0.004      0.00012185 0.00304617]\n",
      "[1.00000000e-05 1.00000000e-05 7.61543549e-06 1.90385887e-04]\n"
     ]
    },
    {
     "data": {
      "application/vnd.jupyter.widget-view+json": {
       "model_id": "c1ea605e4b1d4974ad5d86ab1e48b1aa",
       "version_major": 2,
       "version_minor": 0
      },
      "text/plain": [
       "  0%|          | 0/5 [00:00<?, ?it/s]"
      ]
     },
     "metadata": {},
     "output_type": "display_data"
    },
    {
     "name": "stdout",
     "output_type": "stream",
     "text": [
      "1.7000000000000002, 0.1 : mean chagne - 0.075969, score change - 0.045384\n",
      "after[3.742686905882071, 7.0798419934457595], before[3.666717828362788, 7.034457791343084]\n",
      "[0.00017    0.00017    0.00425    0.00012946 0.00323656]\n",
      "[1.00000000e-05 1.00000000e-05 7.61543549e-06 1.90385887e-04]\n"
     ]
    },
    {
     "data": {
      "application/vnd.jupyter.widget-view+json": {
       "model_id": "150dc14dc73f4702b099b26f8b33a568",
       "version_major": 2,
       "version_minor": 0
      },
      "text/plain": [
       "  0%|          | 0/5 [00:00<?, ?it/s]"
      ]
     },
     "metadata": {},
     "output_type": "display_data"
    },
    {
     "name": "stdout",
     "output_type": "stream",
     "text": [
      "1.8000000000000003, 0.1 : mean chagne - 0.079760, score change - 0.098241\n",
      "after[3.7464776854907003, 7.132698484349897], before[3.666717828362788, 7.034457791343084]\n",
      "[0.00018    0.00018    0.0045     0.00013708 0.00342695]\n",
      "[1.00000000e-05 1.00000000e-05 7.61543549e-06 1.90385887e-04]\n"
     ]
    },
    {
     "data": {
      "application/vnd.jupyter.widget-view+json": {
       "model_id": "dae81dbee03748de919b8311ef3f1aaa",
       "version_major": 2,
       "version_minor": 0
      },
      "text/plain": [
       "  0%|          | 0/5 [00:00<?, ?it/s]"
      ]
     },
     "metadata": {},
     "output_type": "display_data"
    },
    {
     "name": "stdout",
     "output_type": "stream",
     "text": [
      "1.9000000000000001, 0.1 : mean chagne - 0.079914, score change - 0.077493\n",
      "after[3.746631781329734, 7.111951101505871], before[3.666717828362788, 7.034457791343084]\n",
      "[0.00019    0.00019    0.00475    0.00014469 0.00361733]\n",
      "[1.00000000e-05 1.00000000e-05 7.61543549e-06 1.90385887e-04]\n"
     ]
    },
    {
     "data": {
      "application/vnd.jupyter.widget-view+json": {
       "model_id": "99c7512afb1d477ba2919ff05f5a8515",
       "version_major": 2,
       "version_minor": 0
      },
      "text/plain": [
       "  0%|          | 0/5 [00:00<?, ?it/s]"
      ]
     },
     "metadata": {},
     "output_type": "display_data"
    },
    {
     "name": "stdout",
     "output_type": "stream",
     "text": [
      "0.1, 0.2 : mean chagne - 0.122447, score change - 0.272542\n",
      "after[3.7891645274142163, 7.306999893724887], before[3.666717828362788, 7.034457791343084]\n",
      "[1.00000000e-05 1.00000000e-05 2.50000000e-04 7.61543549e-06\n",
      " 1.90385887e-04]\n",
      "[2.00000000e-05 2.00000000e-05 1.52308710e-05 3.80771775e-04]\n"
     ]
    },
    {
     "data": {
      "application/vnd.jupyter.widget-view+json": {
       "model_id": "3d7dbcdd72bd40e68599c2cca312582d",
       "version_major": 2,
       "version_minor": 0
      },
      "text/plain": [
       "  0%|          | 0/5 [00:00<?, ?it/s]"
      ]
     },
     "metadata": {},
     "output_type": "display_data"
    },
    {
     "name": "stdout",
     "output_type": "stream",
     "text": [
      "0.2, 0.2 : mean chagne - 0.133420, score change - 0.244059\n",
      "after[3.8001374814723308, 7.2785168986521045], before[3.666717828362788, 7.034457791343084]\n",
      "[2.00000000e-05 2.00000000e-05 5.00000000e-04 1.52308710e-05\n",
      " 3.80771775e-04]\n",
      "[2.00000000e-05 2.00000000e-05 1.52308710e-05 3.80771775e-04]\n"
     ]
    },
    {
     "data": {
      "application/vnd.jupyter.widget-view+json": {
       "model_id": "04a66bfc5d9e413abbf0218c030dff0c",
       "version_major": 2,
       "version_minor": 0
      },
      "text/plain": [
       "  0%|          | 0/5 [00:00<?, ?it/s]"
      ]
     },
     "metadata": {},
     "output_type": "display_data"
    },
    {
     "name": "stdout",
     "output_type": "stream",
     "text": [
      "0.30000000000000004, 0.2 : mean chagne - 2.216933, score change - 2.359523\n",
      "after[5.883650882326935, 9.393981255297884], before[3.666717828362788, 7.034457791343084]\n",
      "[3.00000000e-05 3.00000000e-05 7.50000000e-04 2.28463065e-05\n",
      " 5.71157662e-04]\n",
      "[2.00000000e-05 2.00000000e-05 1.52308710e-05 3.80771775e-04]\n"
     ]
    },
    {
     "data": {
      "application/vnd.jupyter.widget-view+json": {
       "model_id": "3fe7bb2f7b7d4200bd7121edfa33afc5",
       "version_major": 2,
       "version_minor": 0
      },
      "text/plain": [
       "  0%|          | 0/5 [00:00<?, ?it/s]"
      ]
     },
     "metadata": {},
     "output_type": "display_data"
    },
    {
     "name": "stdout",
     "output_type": "stream",
     "text": [
      "0.4, 0.2 : mean chagne - 143.026032, score change - 506.646459\n",
      "after[146.69275031163258, 513.6809171704122], before[3.666717828362788, 7.034457791343084]\n",
      "[4.00000000e-05 4.00000000e-05 1.00000000e-03 3.04617420e-05\n",
      " 7.61543549e-04]\n",
      "[2.00000000e-05 2.00000000e-05 1.52308710e-05 3.80771775e-04]\n"
     ]
    },
    {
     "data": {
      "application/vnd.jupyter.widget-view+json": {
       "model_id": "a8708ed37e0541dd9cd2c9528c07d54f",
       "version_major": 2,
       "version_minor": 0
      },
      "text/plain": [
       "  0%|          | 0/5 [00:00<?, ?it/s]"
      ]
     },
     "metadata": {},
     "output_type": "display_data"
    },
    {
     "name": "stdout",
     "output_type": "stream",
     "text": [
      "0.5, 0.2 : mean chagne - 0.108418, score change - 0.288667\n",
      "after[3.775136102182492, 7.323125214677887], before[3.666717828362788, 7.034457791343084]\n",
      "[5.00000000e-05 5.00000000e-05 1.25000000e-03 3.80771775e-05\n",
      " 9.51929437e-04]\n",
      "[2.00000000e-05 2.00000000e-05 1.52308710e-05 3.80771775e-04]\n"
     ]
    },
    {
     "data": {
      "application/vnd.jupyter.widget-view+json": {
       "model_id": "e1b40d0e531e4ea9b9ac3e61287317ab",
       "version_major": 2,
       "version_minor": 0
      },
      "text/plain": [
       "  0%|          | 0/5 [00:00<?, ?it/s]"
      ]
     },
     "metadata": {},
     "output_type": "display_data"
    },
    {
     "name": "stdout",
     "output_type": "stream",
     "text": [
      "0.6, 0.2 : mean chagne - 0.136852, score change - 0.208583\n",
      "after[3.80356965047933, 7.243040441898745], before[3.666717828362788, 7.034457791343084]\n",
      "[6.00000000e-05 6.00000000e-05 1.50000000e-03 4.56926130e-05\n",
      " 1.14231532e-03]\n",
      "[2.00000000e-05 2.00000000e-05 1.52308710e-05 3.80771775e-04]\n"
     ]
    },
    {
     "data": {
      "application/vnd.jupyter.widget-view+json": {
       "model_id": "2dd08ec56e424bedaa50be38faa1b19c",
       "version_major": 2,
       "version_minor": 0
      },
      "text/plain": [
       "  0%|          | 0/5 [00:00<?, ?it/s]"
      ]
     },
     "metadata": {},
     "output_type": "display_data"
    },
    {
     "name": "stdout",
     "output_type": "stream",
     "text": [
      "0.7000000000000001, 0.2 : mean chagne - 0.141658, score change - 0.205459\n",
      "after[3.808376099648568, 7.239916928071294], before[3.666717828362788, 7.034457791343084]\n",
      "[7.00000000e-05 7.00000000e-05 1.75000000e-03 5.33080485e-05\n",
      " 1.33270121e-03]\n",
      "[2.00000000e-05 2.00000000e-05 1.52308710e-05 3.80771775e-04]\n"
     ]
    },
    {
     "data": {
      "application/vnd.jupyter.widget-view+json": {
       "model_id": "0549acae0bb44c368589dfd02e2354e4",
       "version_major": 2,
       "version_minor": 0
      },
      "text/plain": [
       "  0%|          | 0/5 [00:00<?, ?it/s]"
      ]
     },
     "metadata": {},
     "output_type": "display_data"
    },
    {
     "name": "stdout",
     "output_type": "stream",
     "text": [
      "0.8, 0.2 : mean chagne - 0.086943, score change - 0.058576\n",
      "after[3.753661125026214, 7.093033902569799], before[3.666717828362788, 7.034457791343084]\n",
      "[8.0000000e-05 8.0000000e-05 2.0000000e-03 6.0923484e-05 1.5230871e-03]\n",
      "[2.00000000e-05 2.00000000e-05 1.52308710e-05 3.80771775e-04]\n"
     ]
    },
    {
     "data": {
      "application/vnd.jupyter.widget-view+json": {
       "model_id": "314b134c76d04ec1939483246ecfec72",
       "version_major": 2,
       "version_minor": 0
      },
      "text/plain": [
       "  0%|          | 0/5 [00:00<?, ?it/s]"
      ]
     },
     "metadata": {},
     "output_type": "display_data"
    },
    {
     "name": "stdout",
     "output_type": "stream",
     "text": [
      "0.9, 0.2 : mean chagne - 0.292130, score change - 0.600606\n",
      "after[3.9588478124821735, 7.635063956311825], before[3.666717828362788, 7.034457791343084]\n",
      "[9.00000000e-05 9.00000000e-05 2.25000000e-03 6.85389195e-05\n",
      " 1.71347299e-03]\n",
      "[2.00000000e-05 2.00000000e-05 1.52308710e-05 3.80771775e-04]\n"
     ]
    },
    {
     "data": {
      "application/vnd.jupyter.widget-view+json": {
       "model_id": "20ef5f2225714403a5b612815cd960fd",
       "version_major": 2,
       "version_minor": 0
      },
      "text/plain": [
       "  0%|          | 0/5 [00:00<?, ?it/s]"
      ]
     },
     "metadata": {},
     "output_type": "display_data"
    },
    {
     "name": "stdout",
     "output_type": "stream",
     "text": [
      "1.0, 0.2 : mean chagne - 0.177692, score change - 0.242685\n",
      "after[3.844409427124258, 7.277142722360971], before[3.666717828362788, 7.034457791343084]\n",
      "[1.00000000e-04 1.00000000e-04 2.50000000e-03 7.61543549e-05\n",
      " 1.90385887e-03]\n",
      "[2.00000000e-05 2.00000000e-05 1.52308710e-05 3.80771775e-04]\n"
     ]
    },
    {
     "data": {
      "application/vnd.jupyter.widget-view+json": {
       "model_id": "fd661cd62e8b4e68a56ffd246b1e1d05",
       "version_major": 2,
       "version_minor": 0
      },
      "text/plain": [
       "  0%|          | 0/5 [00:00<?, ?it/s]"
      ]
     },
     "metadata": {},
     "output_type": "display_data"
    },
    {
     "name": "stdout",
     "output_type": "stream",
     "text": [
      "1.1, 0.2 : mean chagne - 0.144040, score change - 0.226497\n",
      "after[3.8107573592719266, 7.260954353555974], before[3.666717828362788, 7.034457791343084]\n",
      "[1.10000000e-04 1.10000000e-04 2.75000000e-03 8.37697904e-05\n",
      " 2.09424476e-03]\n",
      "[2.00000000e-05 2.00000000e-05 1.52308710e-05 3.80771775e-04]\n"
     ]
    },
    {
     "data": {
      "application/vnd.jupyter.widget-view+json": {
       "model_id": "465dfeb9efe74ca3a834ffb5fca7c293",
       "version_major": 2,
       "version_minor": 0
      },
      "text/plain": [
       "  0%|          | 0/5 [00:00<?, ?it/s]"
      ]
     },
     "metadata": {},
     "output_type": "display_data"
    },
    {
     "name": "stdout",
     "output_type": "stream",
     "text": [
      "1.2000000000000002, 0.2 : mean chagne - 0.101502, score change - 0.123174\n",
      "after[3.768219488692872, 7.157632258435017], before[3.666717828362788, 7.034457791343084]\n",
      "[1.20000000e-04 1.20000000e-04 3.00000000e-03 9.13852259e-05\n",
      " 2.28463065e-03]\n",
      "[2.00000000e-05 2.00000000e-05 1.52308710e-05 3.80771775e-04]\n"
     ]
    },
    {
     "data": {
      "application/vnd.jupyter.widget-view+json": {
       "model_id": "6d7c6e233b3d491f9aab448403922782",
       "version_major": 2,
       "version_minor": 0
      },
      "text/plain": [
       "  0%|          | 0/5 [00:00<?, ?it/s]"
      ]
     },
     "metadata": {},
     "output_type": "display_data"
    },
    {
     "name": "stdout",
     "output_type": "stream",
     "text": [
      "1.3000000000000003, 0.2 : mean chagne - 0.118657, score change - 0.185659\n",
      "after[3.7853745730590216, 7.22011631218277], before[3.666717828362788, 7.034457791343084]\n",
      "[1.30000000e-04 1.30000000e-04 3.25000000e-03 9.90006614e-05\n",
      " 2.47501654e-03]\n",
      "[2.00000000e-05 2.00000000e-05 1.52308710e-05 3.80771775e-04]\n"
     ]
    },
    {
     "data": {
      "application/vnd.jupyter.widget-view+json": {
       "model_id": "f3fd0d9ff21248d1b06a14b9b1e77dca",
       "version_major": 2,
       "version_minor": 0
      },
      "text/plain": [
       "  0%|          | 0/5 [00:00<?, ?it/s]"
      ]
     },
     "metadata": {},
     "output_type": "display_data"
    },
    {
     "name": "stdout",
     "output_type": "stream",
     "text": [
      "1.4000000000000001, 0.2 : mean chagne - 0.087194, score change - 0.092211\n",
      "after[3.7539113721283615, 7.12666925814303], before[3.666717828362788, 7.034457791343084]\n",
      "[0.00014    0.00014    0.0035     0.00010662 0.0026654 ]\n",
      "[2.00000000e-05 2.00000000e-05 1.52308710e-05 3.80771775e-04]\n"
     ]
    },
    {
     "data": {
      "application/vnd.jupyter.widget-view+json": {
       "model_id": "48ab128321054be4941e00b524506aed",
       "version_major": 2,
       "version_minor": 0
      },
      "text/plain": [
       "  0%|          | 0/5 [00:00<?, ?it/s]"
      ]
     },
     "metadata": {},
     "output_type": "display_data"
    },
    {
     "name": "stdout",
     "output_type": "stream",
     "text": [
      "1.5000000000000002, 0.2 : mean chagne - 0.116749, score change - 0.222715\n",
      "after[3.7834672423349085, 7.257172883134809], before[3.666717828362788, 7.034457791343084]\n",
      "[0.00015    0.00015    0.00375    0.00011423 0.00285579]\n",
      "[2.00000000e-05 2.00000000e-05 1.52308710e-05 3.80771775e-04]\n"
     ]
    },
    {
     "data": {
      "application/vnd.jupyter.widget-view+json": {
       "model_id": "5476f8354cab46b3af6e5dda3f8fc98c",
       "version_major": 2,
       "version_minor": 0
      },
      "text/plain": [
       "  0%|          | 0/5 [00:00<?, ?it/s]"
      ]
     },
     "metadata": {},
     "output_type": "display_data"
    },
    {
     "name": "stdout",
     "output_type": "stream",
     "text": [
      "1.6, 0.2 : mean chagne - 0.119708, score change - 0.207754\n",
      "after[3.7864256268340495, 7.242212260112282], before[3.666717828362788, 7.034457791343084]\n",
      "[0.00016    0.00016    0.004      0.00012185 0.00304617]\n",
      "[2.00000000e-05 2.00000000e-05 1.52308710e-05 3.80771775e-04]\n"
     ]
    },
    {
     "data": {
      "application/vnd.jupyter.widget-view+json": {
       "model_id": "029d341a31b640c5840028dd0dee9e8d",
       "version_major": 2,
       "version_minor": 0
      },
      "text/plain": [
       "  0%|          | 0/5 [00:00<?, ?it/s]"
      ]
     },
     "metadata": {},
     "output_type": "display_data"
    },
    {
     "name": "stdout",
     "output_type": "stream",
     "text": [
      "1.7000000000000002, 0.2 : mean chagne - 0.099204, score change - 0.080206\n",
      "after[3.7659220512388356, 7.114663886935359], before[3.666717828362788, 7.034457791343084]\n",
      "[0.00017    0.00017    0.00425    0.00012946 0.00323656]\n",
      "[2.00000000e-05 2.00000000e-05 1.52308710e-05 3.80771775e-04]\n"
     ]
    },
    {
     "data": {
      "application/vnd.jupyter.widget-view+json": {
       "model_id": "d996610da2fe4d34b587498f160314ef",
       "version_major": 2,
       "version_minor": 0
      },
      "text/plain": [
       "  0%|          | 0/5 [00:00<?, ?it/s]"
      ]
     },
     "metadata": {},
     "output_type": "display_data"
    },
    {
     "name": "stdout",
     "output_type": "stream",
     "text": [
      "1.8000000000000003, 0.2 : mean chagne - 0.098544, score change - 0.126879\n",
      "after[3.7652614057715192, 7.161337147862082], before[3.666717828362788, 7.034457791343084]\n",
      "[0.00018    0.00018    0.0045     0.00013708 0.00342695]\n",
      "[2.00000000e-05 2.00000000e-05 1.52308710e-05 3.80771775e-04]\n"
     ]
    },
    {
     "data": {
      "application/vnd.jupyter.widget-view+json": {
       "model_id": "eab979a5fe344a91a9efbef07dad7dce",
       "version_major": 2,
       "version_minor": 0
      },
      "text/plain": [
       "  0%|          | 0/5 [00:00<?, ?it/s]"
      ]
     },
     "metadata": {},
     "output_type": "display_data"
    },
    {
     "name": "stdout",
     "output_type": "stream",
     "text": [
      "1.9000000000000001, 0.2 : mean chagne - 0.086506, score change - 0.134571\n",
      "after[3.753223712414002, 7.169028469016706], before[3.666717828362788, 7.034457791343084]\n",
      "[0.00019    0.00019    0.00475    0.00014469 0.00361733]\n",
      "[2.00000000e-05 2.00000000e-05 1.52308710e-05 3.80771775e-04]\n"
     ]
    },
    {
     "data": {
      "application/vnd.jupyter.widget-view+json": {
       "model_id": "74d6ea87c6ae46218ce695bf14f3b3a0",
       "version_major": 2,
       "version_minor": 0
      },
      "text/plain": [
       "  0%|          | 0/5 [00:00<?, ?it/s]"
      ]
     },
     "metadata": {},
     "output_type": "display_data"
    },
    {
     "name": "stdout",
     "output_type": "stream",
     "text": [
      "0.1, 0.30000000000000004 : mean chagne - 0.481223, score change - 1.152495\n",
      "after[4.147940464143524, 8.18695271938381], before[3.666717828362788, 7.034457791343084]\n",
      "[1.00000000e-05 1.00000000e-05 2.50000000e-04 7.61543549e-06\n",
      " 1.90385887e-04]\n",
      "[3.00000000e-05 3.00000000e-05 2.28463065e-05 5.71157662e-04]\n"
     ]
    },
    {
     "data": {
      "application/vnd.jupyter.widget-view+json": {
       "model_id": "0b36b594629a4e358b75cedb81190f3f",
       "version_major": 2,
       "version_minor": 0
      },
      "text/plain": [
       "  0%|          | 0/5 [00:00<?, ?it/s]"
      ]
     },
     "metadata": {},
     "output_type": "display_data"
    },
    {
     "name": "stdout",
     "output_type": "stream",
     "text": [
      "0.2, 0.30000000000000004 : mean chagne - 0.198492, score change - 0.472367\n",
      "after[3.865209635095761, 7.506824699939353], before[3.666717828362788, 7.034457791343084]\n",
      "[2.00000000e-05 2.00000000e-05 5.00000000e-04 1.52308710e-05\n",
      " 3.80771775e-04]\n",
      "[3.00000000e-05 3.00000000e-05 2.28463065e-05 5.71157662e-04]\n"
     ]
    },
    {
     "data": {
      "application/vnd.jupyter.widget-view+json": {
       "model_id": "22b5eb34d6a84259ba05af4799de742c",
       "version_major": 2,
       "version_minor": 0
      },
      "text/plain": [
       "  0%|          | 0/5 [00:00<?, ?it/s]"
      ]
     },
     "metadata": {},
     "output_type": "display_data"
    },
    {
     "name": "stdout",
     "output_type": "stream",
     "text": [
      "0.30000000000000004, 0.30000000000000004 : mean chagne - 2.817462, score change - 5.504755\n",
      "after[6.484180044252388, 12.539212402544615], before[3.666717828362788, 7.034457791343084]\n",
      "[3.00000000e-05 3.00000000e-05 7.50000000e-04 2.28463065e-05\n",
      " 5.71157662e-04]\n",
      "[3.00000000e-05 3.00000000e-05 2.28463065e-05 5.71157662e-04]\n"
     ]
    },
    {
     "data": {
      "application/vnd.jupyter.widget-view+json": {
       "model_id": "2c8d6c7e919446fa9d18b4eb0370fae1",
       "version_major": 2,
       "version_minor": 0
      },
      "text/plain": [
       "  0%|          | 0/5 [00:00<?, ?it/s]"
      ]
     },
     "metadata": {},
     "output_type": "display_data"
    },
    {
     "name": "stdout",
     "output_type": "stream",
     "text": [
      "0.4, 0.30000000000000004 : mean chagne - 0.080187, score change - 0.095643\n",
      "after[3.746905090790539, 7.130101232904235], before[3.666717828362788, 7.034457791343084]\n",
      "[4.00000000e-05 4.00000000e-05 1.00000000e-03 3.04617420e-05\n",
      " 7.61543549e-04]\n",
      "[3.00000000e-05 3.00000000e-05 2.28463065e-05 5.71157662e-04]\n"
     ]
    },
    {
     "data": {
      "application/vnd.jupyter.widget-view+json": {
       "model_id": "4d55937ad52a447da6e83e401bc0f55d",
       "version_major": 2,
       "version_minor": 0
      },
      "text/plain": [
       "  0%|          | 0/5 [00:00<?, ?it/s]"
      ]
     },
     "metadata": {},
     "output_type": "display_data"
    },
    {
     "name": "stdout",
     "output_type": "stream",
     "text": [
      "0.5, 0.30000000000000004 : mean chagne - 0.174237, score change - 0.393919\n",
      "after[3.840954931189801, 7.428376749321361], before[3.666717828362788, 7.034457791343084]\n",
      "[5.00000000e-05 5.00000000e-05 1.25000000e-03 3.80771775e-05\n",
      " 9.51929437e-04]\n",
      "[3.00000000e-05 3.00000000e-05 2.28463065e-05 5.71157662e-04]\n"
     ]
    },
    {
     "data": {
      "application/vnd.jupyter.widget-view+json": {
       "model_id": "6dbb03a3fbc44ab28e62c288493fb65a",
       "version_major": 2,
       "version_minor": 0
      },
      "text/plain": [
       "  0%|          | 0/5 [00:00<?, ?it/s]"
      ]
     },
     "metadata": {},
     "output_type": "display_data"
    },
    {
     "name": "stdout",
     "output_type": "stream",
     "text": [
      "0.6, 0.30000000000000004 : mean chagne - 0.320731, score change - 0.695505\n",
      "after[3.9874490889639307, 7.72996274188902], before[3.666717828362788, 7.034457791343084]\n",
      "[6.00000000e-05 6.00000000e-05 1.50000000e-03 4.56926130e-05\n",
      " 1.14231532e-03]\n",
      "[3.00000000e-05 3.00000000e-05 2.28463065e-05 5.71157662e-04]\n"
     ]
    },
    {
     "data": {
      "application/vnd.jupyter.widget-view+json": {
       "model_id": "9d729b2e56944e6c8caed7ff790d9a88",
       "version_major": 2,
       "version_minor": 0
      },
      "text/plain": [
       "  0%|          | 0/5 [00:00<?, ?it/s]"
      ]
     },
     "metadata": {},
     "output_type": "display_data"
    },
    {
     "name": "stdout",
     "output_type": "stream",
     "text": [
      "0.7000000000000001, 0.30000000000000004 : mean chagne - 0.126892, score change - 0.271001\n",
      "after[3.7936098950707855, 7.305458662904654], before[3.666717828362788, 7.034457791343084]\n",
      "[7.00000000e-05 7.00000000e-05 1.75000000e-03 5.33080485e-05\n",
      " 1.33270121e-03]\n",
      "[3.00000000e-05 3.00000000e-05 2.28463065e-05 5.71157662e-04]\n"
     ]
    },
    {
     "data": {
      "application/vnd.jupyter.widget-view+json": {
       "model_id": "6d24759198e24ac89569b800fa26be78",
       "version_major": 2,
       "version_minor": 0
      },
      "text/plain": [
       "  0%|          | 0/5 [00:00<?, ?it/s]"
      ]
     },
     "metadata": {},
     "output_type": "display_data"
    },
    {
     "name": "stdout",
     "output_type": "stream",
     "text": [
      "0.8, 0.30000000000000004 : mean chagne - 0.113059, score change - 0.157978\n",
      "after[3.7797764632712694, 7.192435437209241], before[3.666717828362788, 7.034457791343084]\n",
      "[8.0000000e-05 8.0000000e-05 2.0000000e-03 6.0923484e-05 1.5230871e-03]\n",
      "[3.00000000e-05 3.00000000e-05 2.28463065e-05 5.71157662e-04]\n"
     ]
    },
    {
     "data": {
      "application/vnd.jupyter.widget-view+json": {
       "model_id": "758f995fe1e64084b00e22e1aca9bbbc",
       "version_major": 2,
       "version_minor": 0
      },
      "text/plain": [
       "  0%|          | 0/5 [00:00<?, ?it/s]"
      ]
     },
     "metadata": {},
     "output_type": "display_data"
    },
    {
     "name": "stdout",
     "output_type": "stream",
     "text": [
      "0.9, 0.30000000000000004 : mean chagne - 0.184742, score change - 0.321747\n",
      "after[3.8514593770512784, 7.356204986981713], before[3.666717828362788, 7.034457791343084]\n",
      "[9.00000000e-05 9.00000000e-05 2.25000000e-03 6.85389195e-05\n",
      " 1.71347299e-03]\n",
      "[3.00000000e-05 3.00000000e-05 2.28463065e-05 5.71157662e-04]\n"
     ]
    },
    {
     "data": {
      "application/vnd.jupyter.widget-view+json": {
       "model_id": "2a8b627c379e4902a4e9c3a4d94d3609",
       "version_major": 2,
       "version_minor": 0
      },
      "text/plain": [
       "  0%|          | 0/5 [00:00<?, ?it/s]"
      ]
     },
     "metadata": {},
     "output_type": "display_data"
    },
    {
     "name": "stdout",
     "output_type": "stream",
     "text": [
      "1.0, 0.30000000000000004 : mean chagne - 0.153539, score change - 0.221997\n",
      "after[3.820256633071932, 7.256455044219843], before[3.666717828362788, 7.034457791343084]\n",
      "[1.00000000e-04 1.00000000e-04 2.50000000e-03 7.61543549e-05\n",
      " 1.90385887e-03]\n",
      "[3.00000000e-05 3.00000000e-05 2.28463065e-05 5.71157662e-04]\n"
     ]
    },
    {
     "data": {
      "application/vnd.jupyter.widget-view+json": {
       "model_id": "1e0240f72c9f4f2da7917db7371ce0df",
       "version_major": 2,
       "version_minor": 0
      },
      "text/plain": [
       "  0%|          | 0/5 [00:00<?, ?it/s]"
      ]
     },
     "metadata": {},
     "output_type": "display_data"
    },
    {
     "name": "stdout",
     "output_type": "stream",
     "text": [
      "1.1, 0.30000000000000004 : mean chagne - 0.115716, score change - 0.140806\n",
      "after[3.782433836556235, 7.175264020168039], before[3.666717828362788, 7.034457791343084]\n",
      "[1.10000000e-04 1.10000000e-04 2.75000000e-03 8.37697904e-05\n",
      " 2.09424476e-03]\n",
      "[3.00000000e-05 3.00000000e-05 2.28463065e-05 5.71157662e-04]\n"
     ]
    },
    {
     "data": {
      "application/vnd.jupyter.widget-view+json": {
       "model_id": "fab40a5bfe48408183a4aba1004d5a8e",
       "version_major": 2,
       "version_minor": 0
      },
      "text/plain": [
       "  0%|          | 0/5 [00:00<?, ?it/s]"
      ]
     },
     "metadata": {},
     "output_type": "display_data"
    },
    {
     "name": "stdout",
     "output_type": "stream",
     "text": [
      "1.2000000000000002, 0.30000000000000004 : mean chagne - 0.093259, score change - 0.097146\n",
      "after[3.7599764806516744, 7.131603666557334], before[3.666717828362788, 7.034457791343084]\n",
      "[1.20000000e-04 1.20000000e-04 3.00000000e-03 9.13852259e-05\n",
      " 2.28463065e-03]\n",
      "[3.00000000e-05 3.00000000e-05 2.28463065e-05 5.71157662e-04]\n"
     ]
    },
    {
     "data": {
      "application/vnd.jupyter.widget-view+json": {
       "model_id": "e9d3c0ba1591470bb4b8f123c561770e",
       "version_major": 2,
       "version_minor": 0
      },
      "text/plain": [
       "  0%|          | 0/5 [00:00<?, ?it/s]"
      ]
     },
     "metadata": {},
     "output_type": "display_data"
    },
    {
     "name": "stdout",
     "output_type": "stream",
     "text": [
      "1.3000000000000003, 0.30000000000000004 : mean chagne - 0.166768, score change - 0.276734\n",
      "after[3.8334863125374525, 7.311191685661244], before[3.666717828362788, 7.034457791343084]\n",
      "[1.30000000e-04 1.30000000e-04 3.25000000e-03 9.90006614e-05\n",
      " 2.47501654e-03]\n",
      "[3.00000000e-05 3.00000000e-05 2.28463065e-05 5.71157662e-04]\n"
     ]
    },
    {
     "data": {
      "application/vnd.jupyter.widget-view+json": {
       "model_id": "ce8393cfc51145788e270028ca4207de",
       "version_major": 2,
       "version_minor": 0
      },
      "text/plain": [
       "  0%|          | 0/5 [00:00<?, ?it/s]"
      ]
     },
     "metadata": {},
     "output_type": "display_data"
    },
    {
     "name": "stdout",
     "output_type": "stream",
     "text": [
      "1.4000000000000001, 0.30000000000000004 : mean chagne - 0.190327, score change - 0.302379\n",
      "after[3.8570446671625755, 7.336837126123998], before[3.666717828362788, 7.034457791343084]\n",
      "[0.00014    0.00014    0.0035     0.00010662 0.0026654 ]\n",
      "[3.00000000e-05 3.00000000e-05 2.28463065e-05 5.71157662e-04]\n"
     ]
    },
    {
     "data": {
      "application/vnd.jupyter.widget-view+json": {
       "model_id": "7cf9d2a959ec4491841cc6225fd749c2",
       "version_major": 2,
       "version_minor": 0
      },
      "text/plain": [
       "  0%|          | 0/5 [00:00<?, ?it/s]"
      ]
     },
     "metadata": {},
     "output_type": "display_data"
    },
    {
     "name": "stdout",
     "output_type": "stream",
     "text": [
      "1.5000000000000002, 0.30000000000000004 : mean chagne - 0.154309, score change - 0.204352\n",
      "after[3.821026626397722, 7.238809400864843], before[3.666717828362788, 7.034457791343084]\n",
      "[0.00015    0.00015    0.00375    0.00011423 0.00285579]\n",
      "[3.00000000e-05 3.00000000e-05 2.28463065e-05 5.71157662e-04]\n"
     ]
    },
    {
     "data": {
      "application/vnd.jupyter.widget-view+json": {
       "model_id": "e5a99eac0461442bb0b6dde438073a31",
       "version_major": 2,
       "version_minor": 0
      },
      "text/plain": [
       "  0%|          | 0/5 [00:00<?, ?it/s]"
      ]
     },
     "metadata": {},
     "output_type": "display_data"
    },
    {
     "name": "stdout",
     "output_type": "stream",
     "text": [
      "1.6, 0.30000000000000004 : mean chagne - 0.135844, score change - 0.224385\n",
      "after[3.802561733280935, 7.258843198107667], before[3.666717828362788, 7.034457791343084]\n",
      "[0.00016    0.00016    0.004      0.00012185 0.00304617]\n",
      "[3.00000000e-05 3.00000000e-05 2.28463065e-05 5.71157662e-04]\n"
     ]
    },
    {
     "data": {
      "application/vnd.jupyter.widget-view+json": {
       "model_id": "97561011d821406fbe7781ef6932aa8d",
       "version_major": 2,
       "version_minor": 0
      },
      "text/plain": [
       "  0%|          | 0/5 [00:00<?, ?it/s]"
      ]
     },
     "metadata": {},
     "output_type": "display_data"
    },
    {
     "name": "stdout",
     "output_type": "stream",
     "text": [
      "1.7000000000000002, 0.30000000000000004 : mean chagne - 0.126395, score change - 0.210544\n",
      "after[3.793112557307468, 7.2450017896848475], before[3.666717828362788, 7.034457791343084]\n",
      "[0.00017    0.00017    0.00425    0.00012946 0.00323656]\n",
      "[3.00000000e-05 3.00000000e-05 2.28463065e-05 5.71157662e-04]\n"
     ]
    },
    {
     "data": {
      "application/vnd.jupyter.widget-view+json": {
       "model_id": "ab41fa37df1441a78f1d246d5f753724",
       "version_major": 2,
       "version_minor": 0
      },
      "text/plain": [
       "  0%|          | 0/5 [00:00<?, ?it/s]"
      ]
     },
     "metadata": {},
     "output_type": "display_data"
    },
    {
     "name": "stdout",
     "output_type": "stream",
     "text": [
      "1.8000000000000003, 0.30000000000000004 : mean chagne - 57.769559, score change - 161.377656\n",
      "after[61.43627712939744, 168.41211344592918], before[3.666717828362788, 7.034457791343084]\n",
      "[0.00018    0.00018    0.0045     0.00013708 0.00342695]\n",
      "[3.00000000e-05 3.00000000e-05 2.28463065e-05 5.71157662e-04]\n"
     ]
    },
    {
     "data": {
      "application/vnd.jupyter.widget-view+json": {
       "model_id": "d730012eadd147659044af2234457acd",
       "version_major": 2,
       "version_minor": 0
      },
      "text/plain": [
       "  0%|          | 0/5 [00:00<?, ?it/s]"
      ]
     },
     "metadata": {},
     "output_type": "display_data"
    },
    {
     "name": "stdout",
     "output_type": "stream",
     "text": [
      "1.9000000000000001, 0.30000000000000004 : mean chagne - 0.119088, score change - 0.145196\n",
      "after[3.785805511564821, 7.179653909857613], before[3.666717828362788, 7.034457791343084]\n",
      "[0.00019    0.00019    0.00475    0.00014469 0.00361733]\n",
      "[3.00000000e-05 3.00000000e-05 2.28463065e-05 5.71157662e-04]\n"
     ]
    },
    {
     "data": {
      "application/vnd.jupyter.widget-view+json": {
       "model_id": "a860df8ed864468ea341d812412fca33",
       "version_major": 2,
       "version_minor": 0
      },
      "text/plain": [
       "  0%|          | 0/5 [00:00<?, ?it/s]"
      ]
     },
     "metadata": {},
     "output_type": "display_data"
    },
    {
     "name": "stdout",
     "output_type": "stream",
     "text": [
      "0.1, 0.4 : mean chagne - 0.123361, score change - 0.261871\n",
      "after[3.7900791299886047, 7.296328410239193], before[3.666717828362788, 7.034457791343084]\n",
      "[1.00000000e-05 1.00000000e-05 2.50000000e-04 7.61543549e-06\n",
      " 1.90385887e-04]\n",
      "[4.00000000e-05 4.00000000e-05 3.04617420e-05 7.61543549e-04]\n"
     ]
    },
    {
     "data": {
      "application/vnd.jupyter.widget-view+json": {
       "model_id": "c8bf6fd6434c4eda965789bbeefa7ec4",
       "version_major": 2,
       "version_minor": 0
      },
      "text/plain": [
       "  0%|          | 0/5 [00:00<?, ?it/s]"
      ]
     },
     "metadata": {},
     "output_type": "display_data"
    },
    {
     "name": "stdout",
     "output_type": "stream",
     "text": [
      "0.2, 0.4 : mean chagne - 0.158195, score change - 0.280902\n",
      "after[3.8249124869592315, 7.315360241659789], before[3.666717828362788, 7.034457791343084]\n",
      "[2.00000000e-05 2.00000000e-05 5.00000000e-04 1.52308710e-05\n",
      " 3.80771775e-04]\n",
      "[4.00000000e-05 4.00000000e-05 3.04617420e-05 7.61543549e-04]\n"
     ]
    },
    {
     "data": {
      "application/vnd.jupyter.widget-view+json": {
       "model_id": "826aab391b934bb1a49f72ef1214ce70",
       "version_major": 2,
       "version_minor": 0
      },
      "text/plain": [
       "  0%|          | 0/5 [00:00<?, ?it/s]"
      ]
     },
     "metadata": {},
     "output_type": "display_data"
    },
    {
     "name": "stdout",
     "output_type": "stream",
     "text": [
      "0.30000000000000004, 0.4 : mean chagne - 31.591741, score change - 87.879535\n",
      "after[35.2584586053109, 94.91399288767944], before[3.666717828362788, 7.034457791343084]\n",
      "[3.00000000e-05 3.00000000e-05 7.50000000e-04 2.28463065e-05\n",
      " 5.71157662e-04]\n",
      "[4.00000000e-05 4.00000000e-05 3.04617420e-05 7.61543549e-04]\n"
     ]
    },
    {
     "data": {
      "application/vnd.jupyter.widget-view+json": {
       "model_id": "4c327444a8354f06a4937ab29f7f5d2a",
       "version_major": 2,
       "version_minor": 0
      },
      "text/plain": [
       "  0%|          | 0/5 [00:00<?, ?it/s]"
      ]
     },
     "metadata": {},
     "output_type": "display_data"
    },
    {
     "name": "stdout",
     "output_type": "stream",
     "text": [
      "0.4, 0.4 : mean chagne - 0.162474, score change - 0.411497\n",
      "after[3.829191947944708, 7.445955020113317], before[3.666717828362788, 7.034457791343084]\n",
      "[4.00000000e-05 4.00000000e-05 1.00000000e-03 3.04617420e-05\n",
      " 7.61543549e-04]\n",
      "[4.00000000e-05 4.00000000e-05 3.04617420e-05 7.61543549e-04]\n"
     ]
    },
    {
     "data": {
      "application/vnd.jupyter.widget-view+json": {
       "model_id": "596fe71c128942869537416fa35b38de",
       "version_major": 2,
       "version_minor": 0
      },
      "text/plain": [
       "  0%|          | 0/5 [00:00<?, ?it/s]"
      ]
     },
     "metadata": {},
     "output_type": "display_data"
    },
    {
     "name": "stdout",
     "output_type": "stream",
     "text": [
      "0.5, 0.4 : mean chagne - 0.161326, score change - 0.475316\n",
      "after[3.828043593373675, 7.509774124683588], before[3.666717828362788, 7.034457791343084]\n",
      "[5.00000000e-05 5.00000000e-05 1.25000000e-03 3.80771775e-05\n",
      " 9.51929437e-04]\n",
      "[4.00000000e-05 4.00000000e-05 3.04617420e-05 7.61543549e-04]\n"
     ]
    },
    {
     "data": {
      "application/vnd.jupyter.widget-view+json": {
       "model_id": "9bf7140c1d3b4ec19d9987c6e5ca8852",
       "version_major": 2,
       "version_minor": 0
      },
      "text/plain": [
       "  0%|          | 0/5 [00:00<?, ?it/s]"
      ]
     },
     "metadata": {},
     "output_type": "display_data"
    },
    {
     "name": "stdout",
     "output_type": "stream",
     "text": [
      "0.6, 0.4 : mean chagne - 87.096512, score change - 304.722076\n",
      "after[90.76322957904276, 311.75653392625475], before[3.666717828362788, 7.034457791343084]\n",
      "[6.00000000e-05 6.00000000e-05 1.50000000e-03 4.56926130e-05\n",
      " 1.14231532e-03]\n",
      "[4.00000000e-05 4.00000000e-05 3.04617420e-05 7.61543549e-04]\n"
     ]
    },
    {
     "data": {
      "application/vnd.jupyter.widget-view+json": {
       "model_id": "06c79039e3814462823b396e4dcb0e27",
       "version_major": 2,
       "version_minor": 0
      },
      "text/plain": [
       "  0%|          | 0/5 [00:00<?, ?it/s]"
      ]
     },
     "metadata": {},
     "output_type": "display_data"
    },
    {
     "name": "stdout",
     "output_type": "stream",
     "text": [
      "0.7000000000000001, 0.4 : mean chagne - 0.134280, score change - 0.451547\n",
      "after[3.8009979194161945, 7.486004458770196], before[3.666717828362788, 7.034457791343084]\n",
      "[7.00000000e-05 7.00000000e-05 1.75000000e-03 5.33080485e-05\n",
      " 1.33270121e-03]\n",
      "[4.00000000e-05 4.00000000e-05 3.04617420e-05 7.61543549e-04]\n"
     ]
    },
    {
     "data": {
      "application/vnd.jupyter.widget-view+json": {
       "model_id": "bb86399ecb5e41e8ad3eabb2fa82dd71",
       "version_major": 2,
       "version_minor": 0
      },
      "text/plain": [
       "  0%|          | 0/5 [00:00<?, ?it/s]"
      ]
     },
     "metadata": {},
     "output_type": "display_data"
    },
    {
     "name": "stdout",
     "output_type": "stream",
     "text": [
      "0.8, 0.4 : mean chagne - 0.212920, score change - 0.317721\n",
      "after[3.879637733289917, 7.352178763249517], before[3.666717828362788, 7.034457791343084]\n",
      "[8.0000000e-05 8.0000000e-05 2.0000000e-03 6.0923484e-05 1.5230871e-03]\n",
      "[4.00000000e-05 4.00000000e-05 3.04617420e-05 7.61543549e-04]\n"
     ]
    },
    {
     "data": {
      "application/vnd.jupyter.widget-view+json": {
       "model_id": "ab8ceb996a124c2a9e57c105cffc6133",
       "version_major": 2,
       "version_minor": 0
      },
      "text/plain": [
       "  0%|          | 0/5 [00:00<?, ?it/s]"
      ]
     },
     "metadata": {},
     "output_type": "display_data"
    },
    {
     "name": "stdout",
     "output_type": "stream",
     "text": [
      "0.9, 0.4 : mean chagne - 0.077758, score change - 0.110525\n",
      "after[3.7444754154584543, 7.144982847055258], before[3.666717828362788, 7.034457791343084]\n",
      "[9.00000000e-05 9.00000000e-05 2.25000000e-03 6.85389195e-05\n",
      " 1.71347299e-03]\n",
      "[4.00000000e-05 4.00000000e-05 3.04617420e-05 7.61543549e-04]\n"
     ]
    },
    {
     "data": {
      "application/vnd.jupyter.widget-view+json": {
       "model_id": "60873f94868543d6a5b1bb34b938ed64",
       "version_major": 2,
       "version_minor": 0
      },
      "text/plain": [
       "  0%|          | 0/5 [00:00<?, ?it/s]"
      ]
     },
     "metadata": {},
     "output_type": "display_data"
    },
    {
     "name": "stdout",
     "output_type": "stream",
     "text": [
      "1.0, 0.4 : mean chagne - 0.128789, score change - 0.262223\n",
      "after[3.795506665985311, 7.296681099785784], before[3.666717828362788, 7.034457791343084]\n",
      "[1.00000000e-04 1.00000000e-04 2.50000000e-03 7.61543549e-05\n",
      " 1.90385887e-03]\n",
      "[4.00000000e-05 4.00000000e-05 3.04617420e-05 7.61543549e-04]\n"
     ]
    },
    {
     "data": {
      "application/vnd.jupyter.widget-view+json": {
       "model_id": "6b454dd774da43b29facba3aa5ed4d66",
       "version_major": 2,
       "version_minor": 0
      },
      "text/plain": [
       "  0%|          | 0/5 [00:00<?, ?it/s]"
      ]
     },
     "metadata": {},
     "output_type": "display_data"
    },
    {
     "name": "stdout",
     "output_type": "stream",
     "text": [
      "1.1, 0.4 : mean chagne - 0.128277, score change - 0.214314\n",
      "after[3.7949950245385162, 7.248772123790791], before[3.666717828362788, 7.034457791343084]\n",
      "[1.10000000e-04 1.10000000e-04 2.75000000e-03 8.37697904e-05\n",
      " 2.09424476e-03]\n",
      "[4.00000000e-05 4.00000000e-05 3.04617420e-05 7.61543549e-04]\n"
     ]
    },
    {
     "data": {
      "application/vnd.jupyter.widget-view+json": {
       "model_id": "0ffe23c24a7f45efafb94ea12b8adaa5",
       "version_major": 2,
       "version_minor": 0
      },
      "text/plain": [
       "  0%|          | 0/5 [00:00<?, ?it/s]"
      ]
     },
     "metadata": {},
     "output_type": "display_data"
    },
    {
     "name": "stdout",
     "output_type": "stream",
     "text": [
      "1.2000000000000002, 0.4 : mean chagne - 0.061553, score change - 0.002247\n",
      "after[3.728271312134366, 7.036704623739146], before[3.666717828362788, 7.034457791343084]\n",
      "[1.20000000e-04 1.20000000e-04 3.00000000e-03 9.13852259e-05\n",
      " 2.28463065e-03]\n",
      "[4.00000000e-05 4.00000000e-05 3.04617420e-05 7.61543549e-04]\n"
     ]
    },
    {
     "data": {
      "application/vnd.jupyter.widget-view+json": {
       "model_id": "ece835277928409bb0b606d7270e4190",
       "version_major": 2,
       "version_minor": 0
      },
      "text/plain": [
       "  0%|          | 0/5 [00:00<?, ?it/s]"
      ]
     },
     "metadata": {},
     "output_type": "display_data"
    },
    {
     "name": "stdout",
     "output_type": "stream",
     "text": [
      "1.3000000000000003, 0.4 : mean chagne - 0.112520, score change - 0.187344\n",
      "after[3.779237358901297, 7.221802256544566], before[3.666717828362788, 7.034457791343084]\n",
      "[1.30000000e-04 1.30000000e-04 3.25000000e-03 9.90006614e-05\n",
      " 2.47501654e-03]\n",
      "[4.00000000e-05 4.00000000e-05 3.04617420e-05 7.61543549e-04]\n"
     ]
    },
    {
     "data": {
      "application/vnd.jupyter.widget-view+json": {
       "model_id": "439ced0147714d679eb1f49aacd67e62",
       "version_major": 2,
       "version_minor": 0
      },
      "text/plain": [
       "  0%|          | 0/5 [00:00<?, ?it/s]"
      ]
     },
     "metadata": {},
     "output_type": "display_data"
    },
    {
     "name": "stdout",
     "output_type": "stream",
     "text": [
      "1.4000000000000001, 0.4 : mean chagne - 0.082494, score change - 0.125830\n",
      "after[3.749212094011194, 7.160288137130666], before[3.666717828362788, 7.034457791343084]\n",
      "[0.00014    0.00014    0.0035     0.00010662 0.0026654 ]\n",
      "[4.00000000e-05 4.00000000e-05 3.04617420e-05 7.61543549e-04]\n"
     ]
    },
    {
     "data": {
      "application/vnd.jupyter.widget-view+json": {
       "model_id": "33aa834236284f1b9efbad014d08e058",
       "version_major": 2,
       "version_minor": 0
      },
      "text/plain": [
       "  0%|          | 0/5 [00:00<?, ?it/s]"
      ]
     },
     "metadata": {},
     "output_type": "display_data"
    },
    {
     "name": "stdout",
     "output_type": "stream",
     "text": [
      "1.5000000000000002, 0.4 : mean chagne - 0.092521, score change - 0.119307\n",
      "after[3.759239089329264, 7.153765002449816], before[3.666717828362788, 7.034457791343084]\n",
      "[0.00015    0.00015    0.00375    0.00011423 0.00285579]\n",
      "[4.00000000e-05 4.00000000e-05 3.04617420e-05 7.61543549e-04]\n"
     ]
    },
    {
     "data": {
      "application/vnd.jupyter.widget-view+json": {
       "model_id": "0c372c2e9b3443d4a1865b523e24701f",
       "version_major": 2,
       "version_minor": 0
      },
      "text/plain": [
       "  0%|          | 0/5 [00:00<?, ?it/s]"
      ]
     },
     "metadata": {},
     "output_type": "display_data"
    },
    {
     "name": "stdout",
     "output_type": "stream",
     "text": [
      "1.6, 0.4 : mean chagne - 0.184716, score change - 0.207824\n",
      "after[3.851434281070583, 7.242281762616969], before[3.666717828362788, 7.034457791343084]\n",
      "[0.00016    0.00016    0.004      0.00012185 0.00304617]\n",
      "[4.00000000e-05 4.00000000e-05 3.04617420e-05 7.61543549e-04]\n"
     ]
    },
    {
     "data": {
      "application/vnd.jupyter.widget-view+json": {
       "model_id": "5d7bfaab7592468c964aa942ecd5f17a",
       "version_major": 2,
       "version_minor": 0
      },
      "text/plain": [
       "  0%|          | 0/5 [00:00<?, ?it/s]"
      ]
     },
     "metadata": {},
     "output_type": "display_data"
    },
    {
     "name": "stdout",
     "output_type": "stream",
     "text": [
      "1.7000000000000002, 0.4 : mean chagne - 0.156527, score change - 0.228389\n",
      "after[3.823245302008494, 7.26284638897977], before[3.666717828362788, 7.034457791343084]\n",
      "[0.00017    0.00017    0.00425    0.00012946 0.00323656]\n",
      "[4.00000000e-05 4.00000000e-05 3.04617420e-05 7.61543549e-04]\n"
     ]
    },
    {
     "data": {
      "application/vnd.jupyter.widget-view+json": {
       "model_id": "97c0199726cf4577b21740b956ab4a1d",
       "version_major": 2,
       "version_minor": 0
      },
      "text/plain": [
       "  0%|          | 0/5 [00:00<?, ?it/s]"
      ]
     },
     "metadata": {},
     "output_type": "display_data"
    },
    {
     "name": "stdout",
     "output_type": "stream",
     "text": [
      "1.8000000000000003, 0.4 : mean chagne - 0.114871, score change - 0.107753\n",
      "after[3.7815889117625376, 7.142210779310136], before[3.666717828362788, 7.034457791343084]\n",
      "[0.00018    0.00018    0.0045     0.00013708 0.00342695]\n",
      "[4.00000000e-05 4.00000000e-05 3.04617420e-05 7.61543549e-04]\n"
     ]
    },
    {
     "data": {
      "application/vnd.jupyter.widget-view+json": {
       "model_id": "792ba4be17f2491ea4c66686ab3117e4",
       "version_major": 2,
       "version_minor": 0
      },
      "text/plain": [
       "  0%|          | 0/5 [00:00<?, ?it/s]"
      ]
     },
     "metadata": {},
     "output_type": "display_data"
    },
    {
     "name": "stdout",
     "output_type": "stream",
     "text": [
      "1.9000000000000001, 0.4 : mean chagne - 0.137475, score change - 0.202886\n",
      "after[3.804192684707604, 7.237343769301511], before[3.666717828362788, 7.034457791343084]\n",
      "[0.00019    0.00019    0.00475    0.00014469 0.00361733]\n",
      "[4.00000000e-05 4.00000000e-05 3.04617420e-05 7.61543549e-04]\n"
     ]
    },
    {
     "data": {
      "application/vnd.jupyter.widget-view+json": {
       "model_id": "068f359c951b4b7c9e6cb446fcf49b2f",
       "version_major": 2,
       "version_minor": 0
      },
      "text/plain": [
       "  0%|          | 0/5 [00:00<?, ?it/s]"
      ]
     },
     "metadata": {},
     "output_type": "display_data"
    },
    {
     "name": "stdout",
     "output_type": "stream",
     "text": [
      "0.1, 0.5 : mean chagne - 0.178277, score change - 0.300963\n",
      "after[3.844994552981496, 7.335420843195275], before[3.666717828362788, 7.034457791343084]\n",
      "[1.00000000e-05 1.00000000e-05 2.50000000e-04 7.61543549e-06\n",
      " 1.90385887e-04]\n",
      "[5.00000000e-05 5.00000000e-05 3.80771775e-05 9.51929437e-04]\n"
     ]
    },
    {
     "data": {
      "application/vnd.jupyter.widget-view+json": {
       "model_id": "4c590e53b42c4ee4aba381ee014129af",
       "version_major": 2,
       "version_minor": 0
      },
      "text/plain": [
       "  0%|          | 0/5 [00:00<?, ?it/s]"
      ]
     },
     "metadata": {},
     "output_type": "display_data"
    },
    {
     "name": "stdout",
     "output_type": "stream",
     "text": [
      "0.2, 0.5 : mean chagne - 0.160862, score change - 0.282449\n",
      "after[3.8275798045936966, 7.316906661654931], before[3.666717828362788, 7.034457791343084]\n",
      "[2.00000000e-05 2.00000000e-05 5.00000000e-04 1.52308710e-05\n",
      " 3.80771775e-04]\n",
      "[5.00000000e-05 5.00000000e-05 3.80771775e-05 9.51929437e-04]\n"
     ]
    },
    {
     "data": {
      "application/vnd.jupyter.widget-view+json": {
       "model_id": "9dfe520aa1d7463c921b45d6381de00e",
       "version_major": 2,
       "version_minor": 0
      },
      "text/plain": [
       "  0%|          | 0/5 [00:00<?, ?it/s]"
      ]
     },
     "metadata": {},
     "output_type": "display_data"
    },
    {
     "name": "stdout",
     "output_type": "stream",
     "text": [
      "0.30000000000000004, 0.5 : mean chagne - 1.633886, score change - 2.407638\n",
      "after[5.3006035477931785, 9.44209621501859], before[3.666717828362788, 7.034457791343084]\n",
      "[3.00000000e-05 3.00000000e-05 7.50000000e-04 2.28463065e-05\n",
      " 5.71157662e-04]\n",
      "[5.00000000e-05 5.00000000e-05 3.80771775e-05 9.51929437e-04]\n"
     ]
    },
    {
     "data": {
      "application/vnd.jupyter.widget-view+json": {
       "model_id": "8764a0ed88184cd49a22263a76988ef8",
       "version_major": 2,
       "version_minor": 0
      },
      "text/plain": [
       "  0%|          | 0/5 [00:00<?, ?it/s]"
      ]
     },
     "metadata": {},
     "output_type": "display_data"
    },
    {
     "name": "stdout",
     "output_type": "stream",
     "text": [
      "0.4, 0.5 : mean chagne - 0.374557, score change - 0.755596\n",
      "after[4.0412752576532425, 7.790054238745535], before[3.666717828362788, 7.034457791343084]\n",
      "[4.00000000e-05 4.00000000e-05 1.00000000e-03 3.04617420e-05\n",
      " 7.61543549e-04]\n",
      "[5.00000000e-05 5.00000000e-05 3.80771775e-05 9.51929437e-04]\n"
     ]
    },
    {
     "data": {
      "application/vnd.jupyter.widget-view+json": {
       "model_id": "3253578a61b54375b2f51813a354829f",
       "version_major": 2,
       "version_minor": 0
      },
      "text/plain": [
       "  0%|          | 0/5 [00:00<?, ?it/s]"
      ]
     },
     "metadata": {},
     "output_type": "display_data"
    },
    {
     "name": "stdout",
     "output_type": "stream",
     "text": [
      "0.5, 0.5 : mean chagne - 11.932765, score change - 27.810484\n",
      "after[15.599483081042273, 34.844942177932694], before[3.666717828362788, 7.034457791343084]\n",
      "[5.00000000e-05 5.00000000e-05 1.25000000e-03 3.80771775e-05\n",
      " 9.51929437e-04]\n",
      "[5.00000000e-05 5.00000000e-05 3.80771775e-05 9.51929437e-04]\n"
     ]
    },
    {
     "data": {
      "application/vnd.jupyter.widget-view+json": {
       "model_id": "1864fee0054f48e4b2116d29a47c94dd",
       "version_major": 2,
       "version_minor": 0
      },
      "text/plain": [
       "  0%|          | 0/5 [00:00<?, ?it/s]"
      ]
     },
     "metadata": {},
     "output_type": "display_data"
    },
    {
     "name": "stdout",
     "output_type": "stream",
     "text": [
      "0.6, 0.5 : mean chagne - 0.072391, score change - 0.082305\n",
      "after[3.7391092286865906, 7.1167632190588295], before[3.666717828362788, 7.034457791343084]\n",
      "[6.00000000e-05 6.00000000e-05 1.50000000e-03 4.56926130e-05\n",
      " 1.14231532e-03]\n",
      "[5.00000000e-05 5.00000000e-05 3.80771775e-05 9.51929437e-04]\n"
     ]
    },
    {
     "data": {
      "application/vnd.jupyter.widget-view+json": {
       "model_id": "22340cd9a5734af7b99afa72996a96fd",
       "version_major": 2,
       "version_minor": 0
      },
      "text/plain": [
       "  0%|          | 0/5 [00:00<?, ?it/s]"
      ]
     },
     "metadata": {},
     "output_type": "display_data"
    },
    {
     "name": "stdout",
     "output_type": "stream",
     "text": [
      "0.7000000000000001, 0.5 : mean chagne - 0.069443, score change - 0.096760\n",
      "after[3.7361610203422386, 7.131217541050648], before[3.666717828362788, 7.034457791343084]\n",
      "[7.00000000e-05 7.00000000e-05 1.75000000e-03 5.33080485e-05\n",
      " 1.33270121e-03]\n",
      "[5.00000000e-05 5.00000000e-05 3.80771775e-05 9.51929437e-04]\n"
     ]
    },
    {
     "data": {
      "application/vnd.jupyter.widget-view+json": {
       "model_id": "7fa3bff4af4e4550b7849d0cca5ac9a7",
       "version_major": 2,
       "version_minor": 0
      },
      "text/plain": [
       "  0%|          | 0/5 [00:00<?, ?it/s]"
      ]
     },
     "metadata": {},
     "output_type": "display_data"
    },
    {
     "name": "stdout",
     "output_type": "stream",
     "text": [
      "0.8, 0.5 : mean chagne - 86.538868, score change - 238.365184\n",
      "after[90.20558570158094, 245.39964175506944], before[3.666717828362788, 7.034457791343084]\n",
      "[8.0000000e-05 8.0000000e-05 2.0000000e-03 6.0923484e-05 1.5230871e-03]\n",
      "[5.00000000e-05 5.00000000e-05 3.80771775e-05 9.51929437e-04]\n"
     ]
    },
    {
     "data": {
      "application/vnd.jupyter.widget-view+json": {
       "model_id": "7e3f0d393268406aa2a7cc344f091fc9",
       "version_major": 2,
       "version_minor": 0
      },
      "text/plain": [
       "  0%|          | 0/5 [00:00<?, ?it/s]"
      ]
     },
     "metadata": {},
     "output_type": "display_data"
    },
    {
     "name": "stdout",
     "output_type": "stream",
     "text": [
      "0.9, 0.5 : mean chagne - 0.401502, score change - 0.775699\n",
      "after[4.0682197250848615, 7.810156368271057], before[3.666717828362788, 7.034457791343084]\n",
      "[9.00000000e-05 9.00000000e-05 2.25000000e-03 6.85389195e-05\n",
      " 1.71347299e-03]\n",
      "[5.00000000e-05 5.00000000e-05 3.80771775e-05 9.51929437e-04]\n"
     ]
    },
    {
     "data": {
      "application/vnd.jupyter.widget-view+json": {
       "model_id": "3e7441db939d4e95946dd4b2b3a0aa28",
       "version_major": 2,
       "version_minor": 0
      },
      "text/plain": [
       "  0%|          | 0/5 [00:00<?, ?it/s]"
      ]
     },
     "metadata": {},
     "output_type": "display_data"
    },
    {
     "name": "stdout",
     "output_type": "stream",
     "text": [
      "1.0, 0.5 : mean chagne - 1.566588, score change - 2.317397\n",
      "after[5.233305840177968, 9.351854789684428], before[3.666717828362788, 7.034457791343084]\n",
      "[1.00000000e-04 1.00000000e-04 2.50000000e-03 7.61543549e-05\n",
      " 1.90385887e-03]\n",
      "[5.00000000e-05 5.00000000e-05 3.80771775e-05 9.51929437e-04]\n"
     ]
    },
    {
     "data": {
      "application/vnd.jupyter.widget-view+json": {
       "model_id": "894e7eadac83462cb058bb15d0a56aef",
       "version_major": 2,
       "version_minor": 0
      },
      "text/plain": [
       "  0%|          | 0/5 [00:00<?, ?it/s]"
      ]
     },
     "metadata": {},
     "output_type": "display_data"
    },
    {
     "name": "stdout",
     "output_type": "stream",
     "text": [
      "1.1, 0.5 : mean chagne - 0.137888, score change - 0.261250\n",
      "after[3.8046055586475274, 7.29570816371955], before[3.666717828362788, 7.034457791343084]\n",
      "[1.10000000e-04 1.10000000e-04 2.75000000e-03 8.37697904e-05\n",
      " 2.09424476e-03]\n",
      "[5.00000000e-05 5.00000000e-05 3.80771775e-05 9.51929437e-04]\n"
     ]
    },
    {
     "data": {
      "application/vnd.jupyter.widget-view+json": {
       "model_id": "af2e49d888394e43b06dc9f477cd01d4",
       "version_major": 2,
       "version_minor": 0
      },
      "text/plain": [
       "  0%|          | 0/5 [00:00<?, ?it/s]"
      ]
     },
     "metadata": {},
     "output_type": "display_data"
    },
    {
     "name": "stdout",
     "output_type": "stream",
     "text": [
      "1.2000000000000002, 0.5 : mean chagne - 0.113429, score change - 0.189406\n",
      "after[3.7801464046642423, 7.22386394659029], before[3.666717828362788, 7.034457791343084]\n",
      "[1.20000000e-04 1.20000000e-04 3.00000000e-03 9.13852259e-05\n",
      " 2.28463065e-03]\n",
      "[5.00000000e-05 5.00000000e-05 3.80771775e-05 9.51929437e-04]\n"
     ]
    },
    {
     "data": {
      "application/vnd.jupyter.widget-view+json": {
       "model_id": "0dda7a69f57d490b97fe2b1994faed3d",
       "version_major": 2,
       "version_minor": 0
      },
      "text/plain": [
       "  0%|          | 0/5 [00:00<?, ?it/s]"
      ]
     },
     "metadata": {},
     "output_type": "display_data"
    },
    {
     "name": "stdout",
     "output_type": "stream",
     "text": [
      "1.3000000000000003, 0.5 : mean chagne - 1.987010, score change - 2.945527\n",
      "after[5.653727706037866, 9.979984328716773], before[3.666717828362788, 7.034457791343084]\n",
      "[1.30000000e-04 1.30000000e-04 3.25000000e-03 9.90006614e-05\n",
      " 2.47501654e-03]\n",
      "[5.00000000e-05 5.00000000e-05 3.80771775e-05 9.51929437e-04]\n"
     ]
    },
    {
     "data": {
      "application/vnd.jupyter.widget-view+json": {
       "model_id": "f9f85eb6a79d4259b54fd345cf96a77f",
       "version_major": 2,
       "version_minor": 0
      },
      "text/plain": [
       "  0%|          | 0/5 [00:00<?, ?it/s]"
      ]
     },
     "metadata": {},
     "output_type": "display_data"
    },
    {
     "name": "stdout",
     "output_type": "stream",
     "text": [
      "1.4000000000000001, 0.5 : mean chagne - 0.078333, score change - 0.138633\n",
      "after[3.74505055499002, 7.173091198018905], before[3.666717828362788, 7.034457791343084]\n",
      "[0.00014    0.00014    0.0035     0.00010662 0.0026654 ]\n",
      "[5.00000000e-05 5.00000000e-05 3.80771775e-05 9.51929437e-04]\n"
     ]
    },
    {
     "data": {
      "application/vnd.jupyter.widget-view+json": {
       "model_id": "69b1cb8b68ba409883d21e939d04d6ff",
       "version_major": 2,
       "version_minor": 0
      },
      "text/plain": [
       "  0%|          | 0/5 [00:00<?, ?it/s]"
      ]
     },
     "metadata": {},
     "output_type": "display_data"
    },
    {
     "name": "stdout",
     "output_type": "stream",
     "text": [
      "1.5000000000000002, 0.5 : mean chagne - 0.161336, score change - 0.262280\n",
      "after[3.828053841494035, 7.296737301334213], before[3.666717828362788, 7.034457791343084]\n",
      "[0.00015    0.00015    0.00375    0.00011423 0.00285579]\n",
      "[5.00000000e-05 5.00000000e-05 3.80771775e-05 9.51929437e-04]\n"
     ]
    },
    {
     "data": {
      "application/vnd.jupyter.widget-view+json": {
       "model_id": "13f531cd638b473684773a777fd3d83f",
       "version_major": 2,
       "version_minor": 0
      },
      "text/plain": [
       "  0%|          | 0/5 [00:00<?, ?it/s]"
      ]
     },
     "metadata": {},
     "output_type": "display_data"
    },
    {
     "name": "stdout",
     "output_type": "stream",
     "text": [
      "1.6, 0.5 : mean chagne - 0.113921, score change - 0.185277\n",
      "after[3.7806385103663347, 7.219734681775283], before[3.666717828362788, 7.034457791343084]\n",
      "[0.00016    0.00016    0.004      0.00012185 0.00304617]\n",
      "[5.00000000e-05 5.00000000e-05 3.80771775e-05 9.51929437e-04]\n"
     ]
    },
    {
     "data": {
      "application/vnd.jupyter.widget-view+json": {
       "model_id": "0207f90d0a2340a19ce0cfb51f7d1c6e",
       "version_major": 2,
       "version_minor": 0
      },
      "text/plain": [
       "  0%|          | 0/5 [00:00<?, ?it/s]"
      ]
     },
     "metadata": {},
     "output_type": "display_data"
    },
    {
     "name": "stdout",
     "output_type": "stream",
     "text": [
      "1.7000000000000002, 0.5 : mean chagne - 0.121172, score change - 0.163169\n",
      "after[3.7878901139934995, 7.197626759368591], before[3.666717828362788, 7.034457791343084]\n",
      "[0.00017    0.00017    0.00425    0.00012946 0.00323656]\n",
      "[5.00000000e-05 5.00000000e-05 3.80771775e-05 9.51929437e-04]\n"
     ]
    },
    {
     "data": {
      "application/vnd.jupyter.widget-view+json": {
       "model_id": "49c9292341004ec4993d2571f0d177c3",
       "version_major": 2,
       "version_minor": 0
      },
      "text/plain": [
       "  0%|          | 0/5 [00:00<?, ?it/s]"
      ]
     },
     "metadata": {},
     "output_type": "display_data"
    },
    {
     "name": "stdout",
     "output_type": "stream",
     "text": [
      "1.8000000000000003, 0.5 : mean chagne - 0.101971, score change - 0.153697\n",
      "after[3.768689311144505, 7.188154662379884], before[3.666717828362788, 7.034457791343084]\n",
      "[0.00018    0.00018    0.0045     0.00013708 0.00342695]\n",
      "[5.00000000e-05 5.00000000e-05 3.80771775e-05 9.51929437e-04]\n"
     ]
    },
    {
     "data": {
      "application/vnd.jupyter.widget-view+json": {
       "model_id": "44b78fcdda314777a425e0ff9b7fc749",
       "version_major": 2,
       "version_minor": 0
      },
      "text/plain": [
       "  0%|          | 0/5 [00:00<?, ?it/s]"
      ]
     },
     "metadata": {},
     "output_type": "display_data"
    },
    {
     "name": "stdout",
     "output_type": "stream",
     "text": [
      "1.9000000000000001, 0.5 : mean chagne - 0.126133, score change - 0.157384\n",
      "after[3.792851009266518, 7.191841781687503], before[3.666717828362788, 7.034457791343084]\n",
      "[0.00019    0.00019    0.00475    0.00014469 0.00361733]\n",
      "[5.00000000e-05 5.00000000e-05 3.80771775e-05 9.51929437e-04]\n"
     ]
    },
    {
     "data": {
      "application/vnd.jupyter.widget-view+json": {
       "model_id": "06a32bb31a0c4b3b8f41d06b00f0f0b6",
       "version_major": 2,
       "version_minor": 0
      },
      "text/plain": [
       "  0%|          | 0/5 [00:00<?, ?it/s]"
      ]
     },
     "metadata": {},
     "output_type": "display_data"
    },
    {
     "name": "stdout",
     "output_type": "stream",
     "text": [
      "0.1, 0.6 : mean chagne - 0.446263, score change - 1.008189\n",
      "after[4.11298052371618, 8.042646615460153], before[3.666717828362788, 7.034457791343084]\n",
      "[1.00000000e-05 1.00000000e-05 2.50000000e-04 7.61543549e-06\n",
      " 1.90385887e-04]\n",
      "[6.00000000e-05 6.00000000e-05 4.56926130e-05 1.14231532e-03]\n"
     ]
    },
    {
     "data": {
      "application/vnd.jupyter.widget-view+json": {
       "model_id": "a1ff467f8378471e983035327db13220",
       "version_major": 2,
       "version_minor": 0
      },
      "text/plain": [
       "  0%|          | 0/5 [00:00<?, ?it/s]"
      ]
     },
     "metadata": {},
     "output_type": "display_data"
    },
    {
     "name": "stdout",
     "output_type": "stream",
     "text": [
      "0.2, 0.6 : mean chagne - 0.467425, score change - 0.993179\n",
      "after[4.1341423707406255, 8.027636583157697], before[3.666717828362788, 7.034457791343084]\n",
      "[2.00000000e-05 2.00000000e-05 5.00000000e-04 1.52308710e-05\n",
      " 3.80771775e-04]\n",
      "[6.00000000e-05 6.00000000e-05 4.56926130e-05 1.14231532e-03]\n"
     ]
    },
    {
     "data": {
      "application/vnd.jupyter.widget-view+json": {
       "model_id": "a5ae949b75264b4a86ec7e7815571ab1",
       "version_major": 2,
       "version_minor": 0
      },
      "text/plain": [
       "  0%|          | 0/5 [00:00<?, ?it/s]"
      ]
     },
     "metadata": {},
     "output_type": "display_data"
    },
    {
     "name": "stdout",
     "output_type": "stream",
     "text": [
      "0.30000000000000004, 0.6 : mean chagne - 0.132409, score change - 0.280070\n",
      "after[3.7991270455646, 7.314527666915616], before[3.666717828362788, 7.034457791343084]\n",
      "[3.00000000e-05 3.00000000e-05 7.50000000e-04 2.28463065e-05\n",
      " 5.71157662e-04]\n",
      "[6.00000000e-05 6.00000000e-05 4.56926130e-05 1.14231532e-03]\n"
     ]
    },
    {
     "data": {
      "application/vnd.jupyter.widget-view+json": {
       "model_id": "44e7104a484d4f468a4d17ba1595d7b5",
       "version_major": 2,
       "version_minor": 0
      },
      "text/plain": [
       "  0%|          | 0/5 [00:00<?, ?it/s]"
      ]
     },
     "metadata": {},
     "output_type": "display_data"
    },
    {
     "name": "stdout",
     "output_type": "stream",
     "text": [
      "0.4, 0.6 : mean chagne - 23.669323, score change - 98.895145\n",
      "after[27.336040723787306, 105.92960306799209], before[3.666717828362788, 7.034457791343084]\n",
      "[4.00000000e-05 4.00000000e-05 1.00000000e-03 3.04617420e-05\n",
      " 7.61543549e-04]\n",
      "[6.00000000e-05 6.00000000e-05 4.56926130e-05 1.14231532e-03]\n"
     ]
    },
    {
     "data": {
      "application/vnd.jupyter.widget-view+json": {
       "model_id": "d4f00936212649c98e5728ac70e6631c",
       "version_major": 2,
       "version_minor": 0
      },
      "text/plain": [
       "  0%|          | 0/5 [00:00<?, ?it/s]"
      ]
     },
     "metadata": {},
     "output_type": "display_data"
    },
    {
     "name": "stdout",
     "output_type": "stream",
     "text": [
      "0.5, 0.6 : mean chagne - 255.561740, score change - 725.332241\n",
      "after[259.22845816779886, 732.3666990127219], before[3.666717828362788, 7.034457791343084]\n",
      "[5.00000000e-05 5.00000000e-05 1.25000000e-03 3.80771775e-05\n",
      " 9.51929437e-04]\n",
      "[6.00000000e-05 6.00000000e-05 4.56926130e-05 1.14231532e-03]\n"
     ]
    },
    {
     "data": {
      "application/vnd.jupyter.widget-view+json": {
       "model_id": "e2ff521f3e02494bbf912df70760697c",
       "version_major": 2,
       "version_minor": 0
      },
      "text/plain": [
       "  0%|          | 0/5 [00:00<?, ?it/s]"
      ]
     },
     "metadata": {},
     "output_type": "display_data"
    },
    {
     "name": "stdout",
     "output_type": "stream",
     "text": [
      "0.6, 0.6 : mean chagne - 0.085355, score change - 0.203064\n",
      "after[3.7520725616530397, 7.2375221853681895], before[3.666717828362788, 7.034457791343084]\n",
      "[6.00000000e-05 6.00000000e-05 1.50000000e-03 4.56926130e-05\n",
      " 1.14231532e-03]\n",
      "[6.00000000e-05 6.00000000e-05 4.56926130e-05 1.14231532e-03]\n"
     ]
    },
    {
     "data": {
      "application/vnd.jupyter.widget-view+json": {
       "model_id": "8cdaa60dd32e481a99382248b2f33096",
       "version_major": 2,
       "version_minor": 0
      },
      "text/plain": [
       "  0%|          | 0/5 [00:00<?, ?it/s]"
      ]
     },
     "metadata": {},
     "output_type": "display_data"
    },
    {
     "name": "stdout",
     "output_type": "stream",
     "text": [
      "0.7000000000000001, 0.6 : mean chagne - 0.183447, score change - 0.480259\n",
      "after[3.850164570795519, 7.514716966740474], before[3.666717828362788, 7.034457791343084]\n",
      "[7.00000000e-05 7.00000000e-05 1.75000000e-03 5.33080485e-05\n",
      " 1.33270121e-03]\n",
      "[6.00000000e-05 6.00000000e-05 4.56926130e-05 1.14231532e-03]\n"
     ]
    },
    {
     "data": {
      "application/vnd.jupyter.widget-view+json": {
       "model_id": "d3b36848ba71460f96c4f3b555fa9602",
       "version_major": 2,
       "version_minor": 0
      },
      "text/plain": [
       "  0%|          | 0/5 [00:00<?, ?it/s]"
      ]
     },
     "metadata": {},
     "output_type": "display_data"
    },
    {
     "name": "stdout",
     "output_type": "stream",
     "text": [
      "0.8, 0.6 : mean chagne - 0.092985, score change - 0.189136\n",
      "after[3.759702464625476, 7.223593788554592], before[3.666717828362788, 7.034457791343084]\n",
      "[8.0000000e-05 8.0000000e-05 2.0000000e-03 6.0923484e-05 1.5230871e-03]\n",
      "[6.00000000e-05 6.00000000e-05 4.56926130e-05 1.14231532e-03]\n"
     ]
    },
    {
     "data": {
      "application/vnd.jupyter.widget-view+json": {
       "model_id": "40b2a03a99934b74a57ff94b63e4684f",
       "version_major": 2,
       "version_minor": 0
      },
      "text/plain": [
       "  0%|          | 0/5 [00:00<?, ?it/s]"
      ]
     },
     "metadata": {},
     "output_type": "display_data"
    },
    {
     "name": "stdout",
     "output_type": "stream",
     "text": [
      "0.9, 0.6 : mean chagne - 0.048499, score change - 0.085339\n",
      "after[3.7152165007284688, 7.119796370115244], before[3.666717828362788, 7.034457791343084]\n",
      "[9.00000000e-05 9.00000000e-05 2.25000000e-03 6.85389195e-05\n",
      " 1.71347299e-03]\n",
      "[6.00000000e-05 6.00000000e-05 4.56926130e-05 1.14231532e-03]\n"
     ]
    },
    {
     "data": {
      "application/vnd.jupyter.widget-view+json": {
       "model_id": "23255edcb5324a008e1c7ecb09370eef",
       "version_major": 2,
       "version_minor": 0
      },
      "text/plain": [
       "  0%|          | 0/5 [00:00<?, ?it/s]"
      ]
     },
     "metadata": {},
     "output_type": "display_data"
    },
    {
     "name": "stdout",
     "output_type": "stream",
     "text": [
      "1.0, 0.6 : mean chagne - 0.169707, score change - 0.468057\n",
      "after[3.836424513218433, 7.502514951523532], before[3.666717828362788, 7.034457791343084]\n",
      "[1.00000000e-04 1.00000000e-04 2.50000000e-03 7.61543549e-05\n",
      " 1.90385887e-03]\n",
      "[6.00000000e-05 6.00000000e-05 4.56926130e-05 1.14231532e-03]\n"
     ]
    },
    {
     "data": {
      "application/vnd.jupyter.widget-view+json": {
       "model_id": "b20b8dd91f764c0ab9d5ec9a1364e95b",
       "version_major": 2,
       "version_minor": 0
      },
      "text/plain": [
       "  0%|          | 0/5 [00:00<?, ?it/s]"
      ]
     },
     "metadata": {},
     "output_type": "display_data"
    },
    {
     "name": "stdout",
     "output_type": "stream",
     "text": [
      "1.1, 0.6 : mean chagne - 0.075012, score change - 0.112783\n",
      "after[3.7417301431748453, 7.147240422927394], before[3.666717828362788, 7.034457791343084]\n",
      "[1.10000000e-04 1.10000000e-04 2.75000000e-03 8.37697904e-05\n",
      " 2.09424476e-03]\n",
      "[6.00000000e-05 6.00000000e-05 4.56926130e-05 1.14231532e-03]\n"
     ]
    },
    {
     "data": {
      "application/vnd.jupyter.widget-view+json": {
       "model_id": "bd01443fb56547f78ec7f193d553e3ba",
       "version_major": 2,
       "version_minor": 0
      },
      "text/plain": [
       "  0%|          | 0/5 [00:00<?, ?it/s]"
      ]
     },
     "metadata": {},
     "output_type": "display_data"
    },
    {
     "name": "stdout",
     "output_type": "stream",
     "text": [
      "1.2000000000000002, 0.6 : mean chagne - 0.116402, score change - 0.262892\n",
      "after[3.783119697995927, 7.297349836306063], before[3.666717828362788, 7.034457791343084]\n",
      "[1.20000000e-04 1.20000000e-04 3.00000000e-03 9.13852259e-05\n",
      " 2.28463065e-03]\n",
      "[6.00000000e-05 6.00000000e-05 4.56926130e-05 1.14231532e-03]\n"
     ]
    },
    {
     "data": {
      "application/vnd.jupyter.widget-view+json": {
       "model_id": "1ad2bb4bdc194687971e4fd5ba70d9e8",
       "version_major": 2,
       "version_minor": 0
      },
      "text/plain": [
       "  0%|          | 0/5 [00:00<?, ?it/s]"
      ]
     },
     "metadata": {},
     "output_type": "display_data"
    },
    {
     "name": "stdout",
     "output_type": "stream",
     "text": [
      "1.3000000000000003, 0.6 : mean chagne - 1.783672, score change - 1.749278\n",
      "after[5.4503900124129885, 8.783735625774462], before[3.666717828362788, 7.034457791343084]\n",
      "[1.30000000e-04 1.30000000e-04 3.25000000e-03 9.90006614e-05\n",
      " 2.47501654e-03]\n",
      "[6.00000000e-05 6.00000000e-05 4.56926130e-05 1.14231532e-03]\n"
     ]
    },
    {
     "data": {
      "application/vnd.jupyter.widget-view+json": {
       "model_id": "3b8ec0e9cdcf471a81c8fa4bb4bb9e1e",
       "version_major": 2,
       "version_minor": 0
      },
      "text/plain": [
       "  0%|          | 0/5 [00:00<?, ?it/s]"
      ]
     },
     "metadata": {},
     "output_type": "display_data"
    },
    {
     "name": "stdout",
     "output_type": "stream",
     "text": [
      "1.4000000000000001, 0.6 : mean chagne - 0.142021, score change - 0.247928\n",
      "after[3.808738946774894, 7.2823855864265825], before[3.666717828362788, 7.034457791343084]\n",
      "[0.00014    0.00014    0.0035     0.00010662 0.0026654 ]\n",
      "[6.00000000e-05 6.00000000e-05 4.56926130e-05 1.14231532e-03]\n"
     ]
    },
    {
     "data": {
      "application/vnd.jupyter.widget-view+json": {
       "model_id": "4d9d6e9650bd4edf810f2ebf230a6e9f",
       "version_major": 2,
       "version_minor": 0
      },
      "text/plain": [
       "  0%|          | 0/5 [00:00<?, ?it/s]"
      ]
     },
     "metadata": {},
     "output_type": "display_data"
    },
    {
     "name": "stdout",
     "output_type": "stream",
     "text": [
      "1.5000000000000002, 0.6 : mean chagne - 0.098981, score change - 0.223799\n",
      "after[3.7656986477283336, 7.258256966372914], before[3.666717828362788, 7.034457791343084]\n",
      "[0.00015    0.00015    0.00375    0.00011423 0.00285579]\n",
      "[6.00000000e-05 6.00000000e-05 4.56926130e-05 1.14231532e-03]\n"
     ]
    },
    {
     "data": {
      "application/vnd.jupyter.widget-view+json": {
       "model_id": "98f3d38715f04c6dbfcfbb0427a22346",
       "version_major": 2,
       "version_minor": 0
      },
      "text/plain": [
       "  0%|          | 0/5 [00:00<?, ?it/s]"
      ]
     },
     "metadata": {},
     "output_type": "display_data"
    },
    {
     "name": "stdout",
     "output_type": "stream",
     "text": [
      "1.6, 0.6 : mean chagne - 0.119642, score change - 0.186302\n",
      "after[3.786359735914386, 7.220760224874146], before[3.666717828362788, 7.034457791343084]\n",
      "[0.00016    0.00016    0.004      0.00012185 0.00304617]\n",
      "[6.00000000e-05 6.00000000e-05 4.56926130e-05 1.14231532e-03]\n"
     ]
    },
    {
     "data": {
      "application/vnd.jupyter.widget-view+json": {
       "model_id": "6b8b25c717bb4df69f1bf18a6794508a",
       "version_major": 2,
       "version_minor": 0
      },
      "text/plain": [
       "  0%|          | 0/5 [00:00<?, ?it/s]"
      ]
     },
     "metadata": {},
     "output_type": "display_data"
    },
    {
     "name": "stdout",
     "output_type": "stream",
     "text": [
      "1.7000000000000002, 0.6 : mean chagne - 0.133469, score change - 0.256107\n",
      "after[3.800186437666406, 7.2905645983476095], before[3.666717828362788, 7.034457791343084]\n",
      "[0.00017    0.00017    0.00425    0.00012946 0.00323656]\n",
      "[6.00000000e-05 6.00000000e-05 4.56926130e-05 1.14231532e-03]\n"
     ]
    },
    {
     "data": {
      "application/vnd.jupyter.widget-view+json": {
       "model_id": "87cc3e53768c454595b95a4700060ca1",
       "version_major": 2,
       "version_minor": 0
      },
      "text/plain": [
       "  0%|          | 0/5 [00:00<?, ?it/s]"
      ]
     },
     "metadata": {},
     "output_type": "display_data"
    },
    {
     "name": "stdout",
     "output_type": "stream",
     "text": [
      "1.8000000000000003, 0.6 : mean chagne - 0.078812, score change - 0.153315\n",
      "after[3.7455302709434006, 7.18777284010792], before[3.666717828362788, 7.034457791343084]\n",
      "[0.00018    0.00018    0.0045     0.00013708 0.00342695]\n",
      "[6.00000000e-05 6.00000000e-05 4.56926130e-05 1.14231532e-03]\n"
     ]
    },
    {
     "data": {
      "application/vnd.jupyter.widget-view+json": {
       "model_id": "add58d74c8cc4ef4b79768d8887fe238",
       "version_major": 2,
       "version_minor": 0
      },
      "text/plain": [
       "  0%|          | 0/5 [00:00<?, ?it/s]"
      ]
     },
     "metadata": {},
     "output_type": "display_data"
    },
    {
     "name": "stdout",
     "output_type": "stream",
     "text": [
      "1.9000000000000001, 0.6 : mean chagne - 0.111927, score change - 0.195321\n",
      "after[3.778645194666279, 7.229778526724684], before[3.666717828362788, 7.034457791343084]\n",
      "[0.00019    0.00019    0.00475    0.00014469 0.00361733]\n",
      "[6.00000000e-05 6.00000000e-05 4.56926130e-05 1.14231532e-03]\n"
     ]
    },
    {
     "data": {
      "application/vnd.jupyter.widget-view+json": {
       "model_id": "1f976badeab940868ffb96ef9da1d152",
       "version_major": 2,
       "version_minor": 0
      },
      "text/plain": [
       "  0%|          | 0/5 [00:00<?, ?it/s]"
      ]
     },
     "metadata": {},
     "output_type": "display_data"
    },
    {
     "name": "stdout",
     "output_type": "stream",
     "text": [
      "0.1, 0.7000000000000001 : mean chagne - 0.728811, score change - 1.763129\n",
      "after[4.395528439837971, 8.797587140140928], before[3.666717828362788, 7.034457791343084]\n",
      "[1.00000000e-05 1.00000000e-05 2.50000000e-04 7.61543549e-06\n",
      " 1.90385887e-04]\n",
      "[7.00000000e-05 7.00000000e-05 5.33080485e-05 1.33270121e-03]\n"
     ]
    },
    {
     "data": {
      "application/vnd.jupyter.widget-view+json": {
       "model_id": "7a0e805c34054144bf6240984d5365a6",
       "version_major": 2,
       "version_minor": 0
      },
      "text/plain": [
       "  0%|          | 0/5 [00:00<?, ?it/s]"
      ]
     },
     "metadata": {},
     "output_type": "display_data"
    },
    {
     "name": "stdout",
     "output_type": "stream",
     "text": [
      "0.2, 0.7000000000000001 : mean chagne - 0.546411, score change - 1.369028\n",
      "after[4.213128429695882, 8.40348603077878], before[3.666717828362788, 7.034457791343084]\n",
      "[2.00000000e-05 2.00000000e-05 5.00000000e-04 1.52308710e-05\n",
      " 3.80771775e-04]\n",
      "[7.00000000e-05 7.00000000e-05 5.33080485e-05 1.33270121e-03]\n"
     ]
    },
    {
     "data": {
      "application/vnd.jupyter.widget-view+json": {
       "model_id": "94b810270d0b49a892727bdacc52c314",
       "version_major": 2,
       "version_minor": 0
      },
      "text/plain": [
       "  0%|          | 0/5 [00:00<?, ?it/s]"
      ]
     },
     "metadata": {},
     "output_type": "display_data"
    },
    {
     "name": "stdout",
     "output_type": "stream",
     "text": [
      "0.30000000000000004, 0.7000000000000001 : mean chagne - 0.108497, score change - 0.192102\n",
      "after[3.775214744731517, 7.2265596367591085], before[3.666717828362788, 7.034457791343084]\n",
      "[3.00000000e-05 3.00000000e-05 7.50000000e-04 2.28463065e-05\n",
      " 5.71157662e-04]\n",
      "[7.00000000e-05 7.00000000e-05 5.33080485e-05 1.33270121e-03]\n"
     ]
    },
    {
     "data": {
      "application/vnd.jupyter.widget-view+json": {
       "model_id": "880a3ea1b24247dd9e79f41a6a0a08a0",
       "version_major": 2,
       "version_minor": 0
      },
      "text/plain": [
       "  0%|          | 0/5 [00:00<?, ?it/s]"
      ]
     },
     "metadata": {},
     "output_type": "display_data"
    },
    {
     "name": "stdout",
     "output_type": "stream",
     "text": [
      "0.4, 0.7000000000000001 : mean chagne - 0.230807, score change - 0.439448\n",
      "after[3.897525124658583, 7.473905815927512], before[3.666717828362788, 7.034457791343084]\n",
      "[4.00000000e-05 4.00000000e-05 1.00000000e-03 3.04617420e-05\n",
      " 7.61543549e-04]\n",
      "[7.00000000e-05 7.00000000e-05 5.33080485e-05 1.33270121e-03]\n"
     ]
    },
    {
     "data": {
      "application/vnd.jupyter.widget-view+json": {
       "model_id": "1b73ff46f7914fe188d7e381ec5e9818",
       "version_major": 2,
       "version_minor": 0
      },
      "text/plain": [
       "  0%|          | 0/5 [00:00<?, ?it/s]"
      ]
     },
     "metadata": {},
     "output_type": "display_data"
    },
    {
     "name": "stdout",
     "output_type": "stream",
     "text": [
      "0.5, 0.7000000000000001 : mean chagne - 0.196054, score change - 0.417480\n",
      "after[3.862771620417934, 7.451937570479669], before[3.666717828362788, 7.034457791343084]\n",
      "[5.00000000e-05 5.00000000e-05 1.25000000e-03 3.80771775e-05\n",
      " 9.51929437e-04]\n",
      "[7.00000000e-05 7.00000000e-05 5.33080485e-05 1.33270121e-03]\n"
     ]
    },
    {
     "data": {
      "application/vnd.jupyter.widget-view+json": {
       "model_id": "a2fffa49761947bea9c26b291421ab5a",
       "version_major": 2,
       "version_minor": 0
      },
      "text/plain": [
       "  0%|          | 0/5 [00:00<?, ?it/s]"
      ]
     },
     "metadata": {},
     "output_type": "display_data"
    },
    {
     "name": "stdout",
     "output_type": "stream",
     "text": [
      "0.6, 0.7000000000000001 : mean chagne - 0.066009, score change - 0.105580\n",
      "after[3.7327264259293016, 7.140038177051073], before[3.666717828362788, 7.034457791343084]\n",
      "[6.00000000e-05 6.00000000e-05 1.50000000e-03 4.56926130e-05\n",
      " 1.14231532e-03]\n",
      "[7.00000000e-05 7.00000000e-05 5.33080485e-05 1.33270121e-03]\n"
     ]
    },
    {
     "data": {
      "application/vnd.jupyter.widget-view+json": {
       "model_id": "102aa33c43844439b9891fa16b8bdf4d",
       "version_major": 2,
       "version_minor": 0
      },
      "text/plain": [
       "  0%|          | 0/5 [00:00<?, ?it/s]"
      ]
     },
     "metadata": {},
     "output_type": "display_data"
    },
    {
     "name": "stdout",
     "output_type": "stream",
     "text": [
      "0.7000000000000001, 0.7000000000000001 : mean chagne - 0.128467, score change - 0.268523\n",
      "after[3.795184967755879, 7.302980875838193], before[3.666717828362788, 7.034457791343084]\n",
      "[7.00000000e-05 7.00000000e-05 1.75000000e-03 5.33080485e-05\n",
      " 1.33270121e-03]\n",
      "[7.00000000e-05 7.00000000e-05 5.33080485e-05 1.33270121e-03]\n"
     ]
    },
    {
     "data": {
      "application/vnd.jupyter.widget-view+json": {
       "model_id": "5d6717e583a244c794e445e5643e4287",
       "version_major": 2,
       "version_minor": 0
      },
      "text/plain": [
       "  0%|          | 0/5 [00:00<?, ?it/s]"
      ]
     },
     "metadata": {},
     "output_type": "display_data"
    },
    {
     "name": "stdout",
     "output_type": "stream",
     "text": [
      "0.8, 0.7000000000000001 : mean chagne - 0.158326, score change - 0.330805\n",
      "after[3.825044093340946, 7.36526296346369], before[3.666717828362788, 7.034457791343084]\n",
      "[8.0000000e-05 8.0000000e-05 2.0000000e-03 6.0923484e-05 1.5230871e-03]\n",
      "[7.00000000e-05 7.00000000e-05 5.33080485e-05 1.33270121e-03]\n"
     ]
    },
    {
     "data": {
      "application/vnd.jupyter.widget-view+json": {
       "model_id": "f36e8628464444908c268b0d2e032e26",
       "version_major": 2,
       "version_minor": 0
      },
      "text/plain": [
       "  0%|          | 0/5 [00:00<?, ?it/s]"
      ]
     },
     "metadata": {},
     "output_type": "display_data"
    },
    {
     "name": "stdout",
     "output_type": "stream",
     "text": [
      "0.9, 0.7000000000000001 : mean chagne - 0.139975, score change - 0.294159\n",
      "after[3.806693283747857, 7.328617092099347], before[3.666717828362788, 7.034457791343084]\n",
      "[9.00000000e-05 9.00000000e-05 2.25000000e-03 6.85389195e-05\n",
      " 1.71347299e-03]\n",
      "[7.00000000e-05 7.00000000e-05 5.33080485e-05 1.33270121e-03]\n"
     ]
    },
    {
     "data": {
      "application/vnd.jupyter.widget-view+json": {
       "model_id": "abbe167039e644758e21ea5fae05389c",
       "version_major": 2,
       "version_minor": 0
      },
      "text/plain": [
       "  0%|          | 0/5 [00:00<?, ?it/s]"
      ]
     },
     "metadata": {},
     "output_type": "display_data"
    },
    {
     "name": "stdout",
     "output_type": "stream",
     "text": [
      "1.0, 0.7000000000000001 : mean chagne - 0.048028, score change - 0.045031\n",
      "after[3.7147459134285556, 7.079489126642824], before[3.666717828362788, 7.034457791343084]\n",
      "[1.00000000e-04 1.00000000e-04 2.50000000e-03 7.61543549e-05\n",
      " 1.90385887e-03]\n",
      "[7.00000000e-05 7.00000000e-05 5.33080485e-05 1.33270121e-03]\n"
     ]
    },
    {
     "data": {
      "application/vnd.jupyter.widget-view+json": {
       "model_id": "2afc9c5d42e54ab2a0bcc6f29967c78b",
       "version_major": 2,
       "version_minor": 0
      },
      "text/plain": [
       "  0%|          | 0/5 [00:00<?, ?it/s]"
      ]
     },
     "metadata": {},
     "output_type": "display_data"
    },
    {
     "name": "stdout",
     "output_type": "stream",
     "text": [
      "1.1, 0.7000000000000001 : mean chagne - 0.051075, score change - 0.085168\n",
      "after[3.7177928169399217, 7.119625319411865], before[3.666717828362788, 7.034457791343084]\n",
      "[1.10000000e-04 1.10000000e-04 2.75000000e-03 8.37697904e-05\n",
      " 2.09424476e-03]\n",
      "[7.00000000e-05 7.00000000e-05 5.33080485e-05 1.33270121e-03]\n"
     ]
    },
    {
     "data": {
      "application/vnd.jupyter.widget-view+json": {
       "model_id": "5efe0e1eec384a5a967f903ed8017b35",
       "version_major": 2,
       "version_minor": 0
      },
      "text/plain": [
       "  0%|          | 0/5 [00:00<?, ?it/s]"
      ]
     },
     "metadata": {},
     "output_type": "display_data"
    },
    {
     "name": "stdout",
     "output_type": "stream",
     "text": [
      "1.2000000000000002, 0.7000000000000001 : mean chagne - 0.058278, score change - 0.079700\n",
      "after[3.7249957079109826, 7.114157366925385], before[3.666717828362788, 7.034457791343084]\n",
      "[1.20000000e-04 1.20000000e-04 3.00000000e-03 9.13852259e-05\n",
      " 2.28463065e-03]\n",
      "[7.00000000e-05 7.00000000e-05 5.33080485e-05 1.33270121e-03]\n"
     ]
    },
    {
     "data": {
      "application/vnd.jupyter.widget-view+json": {
       "model_id": "bd4227e4ce9f40e6a7e6faf016228b58",
       "version_major": 2,
       "version_minor": 0
      },
      "text/plain": [
       "  0%|          | 0/5 [00:00<?, ?it/s]"
      ]
     },
     "metadata": {},
     "output_type": "display_data"
    },
    {
     "name": "stdout",
     "output_type": "stream",
     "text": [
      "1.3000000000000003, 0.7000000000000001 : mean chagne - 0.269778, score change - 0.654519\n",
      "after[3.9364954629316595, 7.688976447236698], before[3.666717828362788, 7.034457791343084]\n",
      "[1.30000000e-04 1.30000000e-04 3.25000000e-03 9.90006614e-05\n",
      " 2.47501654e-03]\n",
      "[7.00000000e-05 7.00000000e-05 5.33080485e-05 1.33270121e-03]\n"
     ]
    },
    {
     "data": {
      "application/vnd.jupyter.widget-view+json": {
       "model_id": "94edb4dda0bf4a14842d5f8af3bbf8d3",
       "version_major": 2,
       "version_minor": 0
      },
      "text/plain": [
       "  0%|          | 0/5 [00:00<?, ?it/s]"
      ]
     },
     "metadata": {},
     "output_type": "display_data"
    },
    {
     "name": "stdout",
     "output_type": "stream",
     "text": [
      "1.4000000000000001, 0.7000000000000001 : mean chagne - 0.077570, score change - 0.106573\n",
      "after[3.7442875485285487, 7.141031257737841], before[3.666717828362788, 7.034457791343084]\n",
      "[0.00014    0.00014    0.0035     0.00010662 0.0026654 ]\n",
      "[7.00000000e-05 7.00000000e-05 5.33080485e-05 1.33270121e-03]\n"
     ]
    },
    {
     "data": {
      "application/vnd.jupyter.widget-view+json": {
       "model_id": "e2cab300b3ae427b8022f53b8fabc4d2",
       "version_major": 2,
       "version_minor": 0
      },
      "text/plain": [
       "  0%|          | 0/5 [00:00<?, ?it/s]"
      ]
     },
     "metadata": {},
     "output_type": "display_data"
    },
    {
     "name": "stdout",
     "output_type": "stream",
     "text": [
      "1.5000000000000002, 0.7000000000000001 : mean chagne - 0.047693, score change - 0.132500\n",
      "after[3.714411119186695, 7.166957481222053], before[3.666717828362788, 7.034457791343084]\n",
      "[0.00015    0.00015    0.00375    0.00011423 0.00285579]\n",
      "[7.00000000e-05 7.00000000e-05 5.33080485e-05 1.33270121e-03]\n"
     ]
    },
    {
     "data": {
      "application/vnd.jupyter.widget-view+json": {
       "model_id": "55b4c7d85da74257b583cb2b0a5438b0",
       "version_major": 2,
       "version_minor": 0
      },
      "text/plain": [
       "  0%|          | 0/5 [00:00<?, ?it/s]"
      ]
     },
     "metadata": {},
     "output_type": "display_data"
    },
    {
     "name": "stdout",
     "output_type": "stream",
     "text": [
      "1.6, 0.7000000000000001 : mean chagne - 0.107259, score change - 0.201465\n",
      "after[3.773976846313564, 7.235922956212434], before[3.666717828362788, 7.034457791343084]\n",
      "[0.00016    0.00016    0.004      0.00012185 0.00304617]\n",
      "[7.00000000e-05 7.00000000e-05 5.33080485e-05 1.33270121e-03]\n"
     ]
    },
    {
     "data": {
      "application/vnd.jupyter.widget-view+json": {
       "model_id": "4596e91baa104148b165d56b3ffd2b8d",
       "version_major": 2,
       "version_minor": 0
      },
      "text/plain": [
       "  0%|          | 0/5 [00:00<?, ?it/s]"
      ]
     },
     "metadata": {},
     "output_type": "display_data"
    },
    {
     "name": "stdout",
     "output_type": "stream",
     "text": [
      "1.7000000000000002, 0.7000000000000001 : mean chagne - 0.101702, score change - 0.168826\n",
      "after[3.768420246881861, 7.203283708298587], before[3.666717828362788, 7.034457791343084]\n",
      "[0.00017    0.00017    0.00425    0.00012946 0.00323656]\n",
      "[7.00000000e-05 7.00000000e-05 5.33080485e-05 1.33270121e-03]\n"
     ]
    },
    {
     "data": {
      "application/vnd.jupyter.widget-view+json": {
       "model_id": "f690cd7a7ab94497a1b19b082fe2cf2e",
       "version_major": 2,
       "version_minor": 0
      },
      "text/plain": [
       "  0%|          | 0/5 [00:00<?, ?it/s]"
      ]
     },
     "metadata": {},
     "output_type": "display_data"
    },
    {
     "name": "stdout",
     "output_type": "stream",
     "text": [
      "1.8000000000000003, 0.7000000000000001 : mean chagne - 0.095886, score change - 0.124860\n",
      "after[3.7626038917044022, 7.159318219677706], before[3.666717828362788, 7.034457791343084]\n",
      "[0.00018    0.00018    0.0045     0.00013708 0.00342695]\n",
      "[7.00000000e-05 7.00000000e-05 5.33080485e-05 1.33270121e-03]\n"
     ]
    },
    {
     "data": {
      "application/vnd.jupyter.widget-view+json": {
       "model_id": "3d5e3130eb1345218f12e484f221911d",
       "version_major": 2,
       "version_minor": 0
      },
      "text/plain": [
       "  0%|          | 0/5 [00:00<?, ?it/s]"
      ]
     },
     "metadata": {},
     "output_type": "display_data"
    },
    {
     "name": "stdout",
     "output_type": "stream",
     "text": [
      "1.9000000000000001, 0.7000000000000001 : mean chagne - 0.397372, score change - 0.881509\n",
      "after[4.0640897273218854, 7.915966636495165], before[3.666717828362788, 7.034457791343084]\n",
      "[0.00019    0.00019    0.00475    0.00014469 0.00361733]\n",
      "[7.00000000e-05 7.00000000e-05 5.33080485e-05 1.33270121e-03]\n"
     ]
    },
    {
     "data": {
      "application/vnd.jupyter.widget-view+json": {
       "model_id": "f43447cecde44a2f8b28c2ba435d055e",
       "version_major": 2,
       "version_minor": 0
      },
      "text/plain": [
       "  0%|          | 0/5 [00:00<?, ?it/s]"
      ]
     },
     "metadata": {},
     "output_type": "display_data"
    },
    {
     "name": "stdout",
     "output_type": "stream",
     "text": [
      "0.1, 0.8 : mean chagne - 0.199999, score change - 0.296948\n",
      "after[3.866716576095574, 7.331405528255948], before[3.666717828362788, 7.034457791343084]\n",
      "[1.00000000e-05 1.00000000e-05 2.50000000e-04 7.61543549e-06\n",
      " 1.90385887e-04]\n",
      "[8.0000000e-05 8.0000000e-05 6.0923484e-05 1.5230871e-03]\n"
     ]
    },
    {
     "data": {
      "application/vnd.jupyter.widget-view+json": {
       "model_id": "4957e8da7d744a2a81164e9c0cf93857",
       "version_major": 2,
       "version_minor": 0
      },
      "text/plain": [
       "  0%|          | 0/5 [00:00<?, ?it/s]"
      ]
     },
     "metadata": {},
     "output_type": "display_data"
    },
    {
     "name": "stdout",
     "output_type": "stream",
     "text": [
      "0.2, 0.8 : mean chagne - 0.233008, score change - 0.436727\n",
      "after[3.8997259886218854, 7.4711848146028474], before[3.666717828362788, 7.034457791343084]\n",
      "[2.00000000e-05 2.00000000e-05 5.00000000e-04 1.52308710e-05\n",
      " 3.80771775e-04]\n",
      "[8.0000000e-05 8.0000000e-05 6.0923484e-05 1.5230871e-03]\n"
     ]
    },
    {
     "data": {
      "application/vnd.jupyter.widget-view+json": {
       "model_id": "3b15b1e5f9f34b8c9098f563f5947a3a",
       "version_major": 2,
       "version_minor": 0
      },
      "text/plain": [
       "  0%|          | 0/5 [00:00<?, ?it/s]"
      ]
     },
     "metadata": {},
     "output_type": "display_data"
    },
    {
     "name": "stdout",
     "output_type": "stream",
     "text": [
      "0.30000000000000004, 0.8 : mean chagne - 0.333581, score change - 0.708522\n",
      "after[4.000299077545382, 7.742979777365457], before[3.666717828362788, 7.034457791343084]\n",
      "[3.00000000e-05 3.00000000e-05 7.50000000e-04 2.28463065e-05\n",
      " 5.71157662e-04]\n",
      "[8.0000000e-05 8.0000000e-05 6.0923484e-05 1.5230871e-03]\n"
     ]
    },
    {
     "data": {
      "application/vnd.jupyter.widget-view+json": {
       "model_id": "1692cd5f43d54999ba1b3b30929912a3",
       "version_major": 2,
       "version_minor": 0
      },
      "text/plain": [
       "  0%|          | 0/5 [00:00<?, ?it/s]"
      ]
     },
     "metadata": {},
     "output_type": "display_data"
    },
    {
     "name": "stdout",
     "output_type": "stream",
     "text": [
      "0.4, 0.8 : mean chagne - 0.327981, score change - 0.844139\n",
      "after[3.9946983486622267, 7.878596535415491], before[3.666717828362788, 7.034457791343084]\n",
      "[4.00000000e-05 4.00000000e-05 1.00000000e-03 3.04617420e-05\n",
      " 7.61543549e-04]\n",
      "[8.0000000e-05 8.0000000e-05 6.0923484e-05 1.5230871e-03]\n"
     ]
    },
    {
     "data": {
      "application/vnd.jupyter.widget-view+json": {
       "model_id": "e8d9f8ff2b394194a581b5fd5f08921c",
       "version_major": 2,
       "version_minor": 0
      },
      "text/plain": [
       "  0%|          | 0/5 [00:00<?, ?it/s]"
      ]
     },
     "metadata": {},
     "output_type": "display_data"
    },
    {
     "name": "stdout",
     "output_type": "stream",
     "text": [
      "0.5, 0.8 : mean chagne - 0.175554, score change - 0.403950\n",
      "after[3.8422721754212352, 7.4384079860403345], before[3.666717828362788, 7.034457791343084]\n",
      "[5.00000000e-05 5.00000000e-05 1.25000000e-03 3.80771775e-05\n",
      " 9.51929437e-04]\n",
      "[8.0000000e-05 8.0000000e-05 6.0923484e-05 1.5230871e-03]\n"
     ]
    },
    {
     "data": {
      "application/vnd.jupyter.widget-view+json": {
       "model_id": "10f33268e8d14676999972cd74fcdc4e",
       "version_major": 2,
       "version_minor": 0
      },
      "text/plain": [
       "  0%|          | 0/5 [00:00<?, ?it/s]"
      ]
     },
     "metadata": {},
     "output_type": "display_data"
    },
    {
     "name": "stdout",
     "output_type": "stream",
     "text": [
      "0.6, 0.8 : mean chagne - 0.160811, score change - 0.349871\n",
      "after[3.8275292722571, 7.384329129348265], before[3.666717828362788, 7.034457791343084]\n",
      "[6.00000000e-05 6.00000000e-05 1.50000000e-03 4.56926130e-05\n",
      " 1.14231532e-03]\n",
      "[8.0000000e-05 8.0000000e-05 6.0923484e-05 1.5230871e-03]\n"
     ]
    },
    {
     "data": {
      "application/vnd.jupyter.widget-view+json": {
       "model_id": "291f933281d9454c8ac60a3a70a557b2",
       "version_major": 2,
       "version_minor": 0
      },
      "text/plain": [
       "  0%|          | 0/5 [00:00<?, ?it/s]"
      ]
     },
     "metadata": {},
     "output_type": "display_data"
    },
    {
     "name": "stdout",
     "output_type": "stream",
     "text": [
      "0.7000000000000001, 0.8 : mean chagne - 7.818200, score change - 23.549296\n",
      "after[11.484918113233569, 30.583753506681735], before[3.666717828362788, 7.034457791343084]\n",
      "[7.00000000e-05 7.00000000e-05 1.75000000e-03 5.33080485e-05\n",
      " 1.33270121e-03]\n",
      "[8.0000000e-05 8.0000000e-05 6.0923484e-05 1.5230871e-03]\n"
     ]
    },
    {
     "data": {
      "application/vnd.jupyter.widget-view+json": {
       "model_id": "0ebf82da0a8c446f863b4a9f56892743",
       "version_major": 2,
       "version_minor": 0
      },
      "text/plain": [
       "  0%|          | 0/5 [00:00<?, ?it/s]"
      ]
     },
     "metadata": {},
     "output_type": "display_data"
    },
    {
     "name": "stdout",
     "output_type": "stream",
     "text": [
      "0.8, 0.8 : mean chagne - 0.379833, score change - 0.453657\n",
      "after[4.046550926234664, 7.488115114021943], before[3.666717828362788, 7.034457791343084]\n",
      "[8.0000000e-05 8.0000000e-05 2.0000000e-03 6.0923484e-05 1.5230871e-03]\n",
      "[8.0000000e-05 8.0000000e-05 6.0923484e-05 1.5230871e-03]\n"
     ]
    },
    {
     "data": {
      "application/vnd.jupyter.widget-view+json": {
       "model_id": "58679e550ef04c1db4617dbeeb0bcbe9",
       "version_major": 2,
       "version_minor": 0
      },
      "text/plain": [
       "  0%|          | 0/5 [00:00<?, ?it/s]"
      ]
     },
     "metadata": {},
     "output_type": "display_data"
    },
    {
     "name": "stdout",
     "output_type": "stream",
     "text": [
      "0.9, 0.8 : mean chagne - 0.029583, score change - 0.042416\n",
      "after[3.6963011439738644, 7.076873332614918], before[3.666717828362788, 7.034457791343084]\n",
      "[9.00000000e-05 9.00000000e-05 2.25000000e-03 6.85389195e-05\n",
      " 1.71347299e-03]\n",
      "[8.0000000e-05 8.0000000e-05 6.0923484e-05 1.5230871e-03]\n"
     ]
    },
    {
     "data": {
      "application/vnd.jupyter.widget-view+json": {
       "model_id": "bbba8b27711042d4968f9948689a392d",
       "version_major": 2,
       "version_minor": 0
      },
      "text/plain": [
       "  0%|          | 0/5 [00:00<?, ?it/s]"
      ]
     },
     "metadata": {},
     "output_type": "display_data"
    },
    {
     "name": "stdout",
     "output_type": "stream",
     "text": [
      "1.0, 0.8 : mean chagne - 0.158388, score change - 0.329844\n",
      "after[3.825105380358786, 7.364301568772939], before[3.666717828362788, 7.034457791343084]\n",
      "[1.00000000e-04 1.00000000e-04 2.50000000e-03 7.61543549e-05\n",
      " 1.90385887e-03]\n",
      "[8.0000000e-05 8.0000000e-05 6.0923484e-05 1.5230871e-03]\n"
     ]
    },
    {
     "data": {
      "application/vnd.jupyter.widget-view+json": {
       "model_id": "70cdd63ef46a4f5e94d9de33cf2b4889",
       "version_major": 2,
       "version_minor": 0
      },
      "text/plain": [
       "  0%|          | 0/5 [00:00<?, ?it/s]"
      ]
     },
     "metadata": {},
     "output_type": "display_data"
    },
    {
     "name": "stdout",
     "output_type": "stream",
     "text": [
      "1.1, 0.8 : mean chagne - 0.011468, score change - -0.030360\n",
      "after[3.6781860026731583, 7.004097955708156], before[3.666717828362788, 7.034457791343084]\n",
      "[1.10000000e-04 1.10000000e-04 2.75000000e-03 8.37697904e-05\n",
      " 2.09424476e-03]\n",
      "[8.0000000e-05 8.0000000e-05 6.0923484e-05 1.5230871e-03]\n"
     ]
    },
    {
     "data": {
      "application/vnd.jupyter.widget-view+json": {
       "model_id": "a10885140b794d3fbfc3a55d5186d813",
       "version_major": 2,
       "version_minor": 0
      },
      "text/plain": [
       "  0%|          | 0/5 [00:00<?, ?it/s]"
      ]
     },
     "metadata": {},
     "output_type": "display_data"
    },
    {
     "name": "stdout",
     "output_type": "stream",
     "text": [
      "1.2000000000000002, 0.8 : mean chagne - 2.384512, score change - 2.967262\n",
      "after[6.051229769037339, 10.001719963973219], before[3.666717828362788, 7.034457791343084]\n",
      "[1.20000000e-04 1.20000000e-04 3.00000000e-03 9.13852259e-05\n",
      " 2.28463065e-03]\n",
      "[8.0000000e-05 8.0000000e-05 6.0923484e-05 1.5230871e-03]\n"
     ]
    },
    {
     "data": {
      "application/vnd.jupyter.widget-view+json": {
       "model_id": "29a6ba900f994b4db3d51f2c5a816e0b",
       "version_major": 2,
       "version_minor": 0
      },
      "text/plain": [
       "  0%|          | 0/5 [00:00<?, ?it/s]"
      ]
     },
     "metadata": {},
     "output_type": "display_data"
    },
    {
     "name": "stdout",
     "output_type": "stream",
     "text": [
      "1.3000000000000003, 0.8 : mean chagne - 1.889255, score change - 1.408901\n",
      "after[5.555973024545337, 8.44335882599561], before[3.666717828362788, 7.034457791343084]\n",
      "[1.30000000e-04 1.30000000e-04 3.25000000e-03 9.90006614e-05\n",
      " 2.47501654e-03]\n",
      "[8.0000000e-05 8.0000000e-05 6.0923484e-05 1.5230871e-03]\n"
     ]
    },
    {
     "data": {
      "application/vnd.jupyter.widget-view+json": {
       "model_id": "fe2b0c70c8b64354a98450001a03cb31",
       "version_major": 2,
       "version_minor": 0
      },
      "text/plain": [
       "  0%|          | 0/5 [00:00<?, ?it/s]"
      ]
     },
     "metadata": {},
     "output_type": "display_data"
    },
    {
     "name": "stdout",
     "output_type": "stream",
     "text": [
      "1.4000000000000001, 0.8 : mean chagne - 0.180093, score change - 0.374275\n",
      "after[3.846810975320633, 7.40873274169987], before[3.666717828362788, 7.034457791343084]\n",
      "[0.00014    0.00014    0.0035     0.00010662 0.0026654 ]\n",
      "[8.0000000e-05 8.0000000e-05 6.0923484e-05 1.5230871e-03]\n"
     ]
    },
    {
     "data": {
      "application/vnd.jupyter.widget-view+json": {
       "model_id": "c6291d0d0a824ab4ad54363ac6a1f4c8",
       "version_major": 2,
       "version_minor": 0
      },
      "text/plain": [
       "  0%|          | 0/5 [00:00<?, ?it/s]"
      ]
     },
     "metadata": {},
     "output_type": "display_data"
    },
    {
     "name": "stdout",
     "output_type": "stream",
     "text": [
      "1.5000000000000002, 0.8 : mean chagne - 0.134696, score change - 0.264962\n",
      "after[3.8014138647628886, 7.299420221129258], before[3.666717828362788, 7.034457791343084]\n",
      "[0.00015    0.00015    0.00375    0.00011423 0.00285579]\n",
      "[8.0000000e-05 8.0000000e-05 6.0923484e-05 1.5230871e-03]\n"
     ]
    },
    {
     "data": {
      "application/vnd.jupyter.widget-view+json": {
       "model_id": "48ea8bf0e0eb4648a6d8b637a42885dd",
       "version_major": 2,
       "version_minor": 0
      },
      "text/plain": [
       "  0%|          | 0/5 [00:00<?, ?it/s]"
      ]
     },
     "metadata": {},
     "output_type": "display_data"
    },
    {
     "name": "stdout",
     "output_type": "stream",
     "text": [
      "1.6, 0.8 : mean chagne - 0.097131, score change - 0.176938\n",
      "after[3.763848632727544, 7.21139553802171], before[3.666717828362788, 7.034457791343084]\n",
      "[0.00016    0.00016    0.004      0.00012185 0.00304617]\n",
      "[8.0000000e-05 8.0000000e-05 6.0923484e-05 1.5230871e-03]\n"
     ]
    },
    {
     "data": {
      "application/vnd.jupyter.widget-view+json": {
       "model_id": "d0f15778e9f445caa0353ffe32138c5f",
       "version_major": 2,
       "version_minor": 0
      },
      "text/plain": [
       "  0%|          | 0/5 [00:00<?, ?it/s]"
      ]
     },
     "metadata": {},
     "output_type": "display_data"
    },
    {
     "name": "stdout",
     "output_type": "stream",
     "text": [
      "1.7000000000000002, 0.8 : mean chagne - 0.093195, score change - 0.117703\n",
      "after[3.759912836056719, 7.152160887806491], before[3.666717828362788, 7.034457791343084]\n",
      "[0.00017    0.00017    0.00425    0.00012946 0.00323656]\n",
      "[8.0000000e-05 8.0000000e-05 6.0923484e-05 1.5230871e-03]\n"
     ]
    },
    {
     "data": {
      "application/vnd.jupyter.widget-view+json": {
       "model_id": "1443bce655564b0d9a49c5c9983969bd",
       "version_major": 2,
       "version_minor": 0
      },
      "text/plain": [
       "  0%|          | 0/5 [00:00<?, ?it/s]"
      ]
     },
     "metadata": {},
     "output_type": "display_data"
    },
    {
     "name": "stdout",
     "output_type": "stream",
     "text": [
      "1.8000000000000003, 0.8 : mean chagne - 0.039591, score change - 0.018222\n",
      "after[3.7063089231198663, 7.052679548951636], before[3.666717828362788, 7.034457791343084]\n",
      "[0.00018    0.00018    0.0045     0.00013708 0.00342695]\n",
      "[8.0000000e-05 8.0000000e-05 6.0923484e-05 1.5230871e-03]\n"
     ]
    },
    {
     "data": {
      "application/vnd.jupyter.widget-view+json": {
       "model_id": "879f72522ece489ba766f92e17208715",
       "version_major": 2,
       "version_minor": 0
      },
      "text/plain": [
       "  0%|          | 0/5 [00:00<?, ?it/s]"
      ]
     },
     "metadata": {},
     "output_type": "display_data"
    },
    {
     "name": "stdout",
     "output_type": "stream",
     "text": [
      "1.9000000000000001, 0.8 : mean chagne - 0.090702, score change - 0.214141\n",
      "after[3.7574193392366295, 7.24859839889019], before[3.666717828362788, 7.034457791343084]\n",
      "[0.00019    0.00019    0.00475    0.00014469 0.00361733]\n",
      "[8.0000000e-05 8.0000000e-05 6.0923484e-05 1.5230871e-03]\n"
     ]
    },
    {
     "data": {
      "application/vnd.jupyter.widget-view+json": {
       "model_id": "d7f04e5119924468853c6d1545cf3813",
       "version_major": 2,
       "version_minor": 0
      },
      "text/plain": [
       "  0%|          | 0/5 [00:00<?, ?it/s]"
      ]
     },
     "metadata": {},
     "output_type": "display_data"
    },
    {
     "name": "stdout",
     "output_type": "stream",
     "text": [
      "0.1, 0.9 : mean chagne - 0.682786, score change - 1.601744\n",
      "after[4.349503753993508, 8.636201468111935], before[3.666717828362788, 7.034457791343084]\n",
      "[1.00000000e-05 1.00000000e-05 2.50000000e-04 7.61543549e-06\n",
      " 1.90385887e-04]\n",
      "[9.00000000e-05 9.00000000e-05 6.85389195e-05 1.71347299e-03]\n"
     ]
    },
    {
     "data": {
      "application/vnd.jupyter.widget-view+json": {
       "model_id": "04bc62c31baa4d969d265c41faf72fb6",
       "version_major": 2,
       "version_minor": 0
      },
      "text/plain": [
       "  0%|          | 0/5 [00:00<?, ?it/s]"
      ]
     },
     "metadata": {},
     "output_type": "display_data"
    },
    {
     "name": "stdout",
     "output_type": "stream",
     "text": [
      "0.2, 0.9 : mean chagne - 0.542408, score change - 1.191931\n",
      "after[4.209125423218464, 8.226389258242076], before[3.666717828362788, 7.034457791343084]\n",
      "[2.00000000e-05 2.00000000e-05 5.00000000e-04 1.52308710e-05\n",
      " 3.80771775e-04]\n",
      "[9.00000000e-05 9.00000000e-05 6.85389195e-05 1.71347299e-03]\n"
     ]
    },
    {
     "data": {
      "application/vnd.jupyter.widget-view+json": {
       "model_id": "1e09870dc68a496cb3b807c7d6fd7a2f",
       "version_major": 2,
       "version_minor": 0
      },
      "text/plain": [
       "  0%|          | 0/5 [00:00<?, ?it/s]"
      ]
     },
     "metadata": {},
     "output_type": "display_data"
    },
    {
     "name": "stdout",
     "output_type": "stream",
     "text": [
      "0.30000000000000004, 0.9 : mean chagne - 0.575526, score change - 1.318285\n",
      "after[4.242244136233917, 8.352742461364098], before[3.666717828362788, 7.034457791343084]\n",
      "[3.00000000e-05 3.00000000e-05 7.50000000e-04 2.28463065e-05\n",
      " 5.71157662e-04]\n",
      "[9.00000000e-05 9.00000000e-05 6.85389195e-05 1.71347299e-03]\n"
     ]
    },
    {
     "data": {
      "application/vnd.jupyter.widget-view+json": {
       "model_id": "38a35cdef87a43c4baa861bff6a3fb8b",
       "version_major": 2,
       "version_minor": 0
      },
      "text/plain": [
       "  0%|          | 0/5 [00:00<?, ?it/s]"
      ]
     },
     "metadata": {},
     "output_type": "display_data"
    },
    {
     "name": "stdout",
     "output_type": "stream",
     "text": [
      "0.4, 0.9 : mean chagne - 0.108592, score change - 0.160575\n",
      "after[3.7753101652754495, 7.195033219827397], before[3.666717828362788, 7.034457791343084]\n",
      "[4.00000000e-05 4.00000000e-05 1.00000000e-03 3.04617420e-05\n",
      " 7.61543549e-04]\n",
      "[9.00000000e-05 9.00000000e-05 6.85389195e-05 1.71347299e-03]\n"
     ]
    },
    {
     "data": {
      "application/vnd.jupyter.widget-view+json": {
       "model_id": "f788d4197f8349c6bac00f5cc1df2dcd",
       "version_major": 2,
       "version_minor": 0
      },
      "text/plain": [
       "  0%|          | 0/5 [00:00<?, ?it/s]"
      ]
     },
     "metadata": {},
     "output_type": "display_data"
    },
    {
     "name": "stdout",
     "output_type": "stream",
     "text": [
      "0.5, 0.9 : mean chagne - 0.527088, score change - 1.121268\n",
      "after[4.193805952930063, 8.155726177140073], before[3.666717828362788, 7.034457791343084]\n",
      "[5.00000000e-05 5.00000000e-05 1.25000000e-03 3.80771775e-05\n",
      " 9.51929437e-04]\n",
      "[9.00000000e-05 9.00000000e-05 6.85389195e-05 1.71347299e-03]\n"
     ]
    },
    {
     "data": {
      "application/vnd.jupyter.widget-view+json": {
       "model_id": "cc02614887a744879b187a38fb332f55",
       "version_major": 2,
       "version_minor": 0
      },
      "text/plain": [
       "  0%|          | 0/5 [00:00<?, ?it/s]"
      ]
     },
     "metadata": {},
     "output_type": "display_data"
    },
    {
     "name": "stdout",
     "output_type": "stream",
     "text": [
      "0.6, 0.9 : mean chagne - 0.116824, score change - 0.258537\n",
      "after[3.783541652297507, 7.292995212738828], before[3.666717828362788, 7.034457791343084]\n",
      "[6.00000000e-05 6.00000000e-05 1.50000000e-03 4.56926130e-05\n",
      " 1.14231532e-03]\n",
      "[9.00000000e-05 9.00000000e-05 6.85389195e-05 1.71347299e-03]\n"
     ]
    },
    {
     "data": {
      "application/vnd.jupyter.widget-view+json": {
       "model_id": "da5eb693d18340e8ba7359889fbf7932",
       "version_major": 2,
       "version_minor": 0
      },
      "text/plain": [
       "  0%|          | 0/5 [00:00<?, ?it/s]"
      ]
     },
     "metadata": {},
     "output_type": "display_data"
    },
    {
     "name": "stdout",
     "output_type": "stream",
     "text": [
      "0.7000000000000001, 0.9 : mean chagne - 0.073533, score change - 0.169701\n",
      "after[3.74025036308156, 7.204159243614899], before[3.666717828362788, 7.034457791343084]\n",
      "[7.00000000e-05 7.00000000e-05 1.75000000e-03 5.33080485e-05\n",
      " 1.33270121e-03]\n",
      "[9.00000000e-05 9.00000000e-05 6.85389195e-05 1.71347299e-03]\n"
     ]
    },
    {
     "data": {
      "application/vnd.jupyter.widget-view+json": {
       "model_id": "19d932eacd5c4f4db709ff110290fd1e",
       "version_major": 2,
       "version_minor": 0
      },
      "text/plain": [
       "  0%|          | 0/5 [00:00<?, ?it/s]"
      ]
     },
     "metadata": {},
     "output_type": "display_data"
    },
    {
     "name": "stdout",
     "output_type": "stream",
     "text": [
      "0.8, 0.9 : mean chagne - 0.432507, score change - 1.124050\n",
      "after[4.099224599604739, 8.158508134486889], before[3.666717828362788, 7.034457791343084]\n",
      "[8.0000000e-05 8.0000000e-05 2.0000000e-03 6.0923484e-05 1.5230871e-03]\n",
      "[9.00000000e-05 9.00000000e-05 6.85389195e-05 1.71347299e-03]\n"
     ]
    },
    {
     "data": {
      "application/vnd.jupyter.widget-view+json": {
       "model_id": "9e0f6e70fb2741d7a548d4ffee390b23",
       "version_major": 2,
       "version_minor": 0
      },
      "text/plain": [
       "  0%|          | 0/5 [00:00<?, ?it/s]"
      ]
     },
     "metadata": {},
     "output_type": "display_data"
    },
    {
     "name": "stdout",
     "output_type": "stream",
     "text": [
      "0.9, 0.9 : mean chagne - 1.642182, score change - 4.360276\n",
      "after[5.308899537379372, 11.394734035871277], before[3.666717828362788, 7.034457791343084]\n",
      "[9.00000000e-05 9.00000000e-05 2.25000000e-03 6.85389195e-05\n",
      " 1.71347299e-03]\n",
      "[9.00000000e-05 9.00000000e-05 6.85389195e-05 1.71347299e-03]\n"
     ]
    },
    {
     "data": {
      "application/vnd.jupyter.widget-view+json": {
       "model_id": "fe2d5e9d288142489be403661f2e3192",
       "version_major": 2,
       "version_minor": 0
      },
      "text/plain": [
       "  0%|          | 0/5 [00:00<?, ?it/s]"
      ]
     },
     "metadata": {},
     "output_type": "display_data"
    },
    {
     "name": "stdout",
     "output_type": "stream",
     "text": [
      "1.0, 0.9 : mean chagne - 0.132487, score change - 0.254174\n",
      "after[3.7992051786484176, 7.288631842328224], before[3.666717828362788, 7.034457791343084]\n",
      "[1.00000000e-04 1.00000000e-04 2.50000000e-03 7.61543549e-05\n",
      " 1.90385887e-03]\n",
      "[9.00000000e-05 9.00000000e-05 6.85389195e-05 1.71347299e-03]\n"
     ]
    },
    {
     "data": {
      "application/vnd.jupyter.widget-view+json": {
       "model_id": "f8c8a8d2796a4da599ec116453b2d8ea",
       "version_major": 2,
       "version_minor": 0
      },
      "text/plain": [
       "  0%|          | 0/5 [00:00<?, ?it/s]"
      ]
     },
     "metadata": {},
     "output_type": "display_data"
    },
    {
     "name": "stdout",
     "output_type": "stream",
     "text": [
      "1.1, 0.9 : mean chagne - 0.200007, score change - 0.328654\n",
      "after[3.8667244054367584, 7.363112216800909], before[3.666717828362788, 7.034457791343084]\n",
      "[1.10000000e-04 1.10000000e-04 2.75000000e-03 8.37697904e-05\n",
      " 2.09424476e-03]\n",
      "[9.00000000e-05 9.00000000e-05 6.85389195e-05 1.71347299e-03]\n"
     ]
    },
    {
     "data": {
      "application/vnd.jupyter.widget-view+json": {
       "model_id": "1bb9fefa5f0b48a680f7449663eb535b",
       "version_major": 2,
       "version_minor": 0
      },
      "text/plain": [
       "  0%|          | 0/5 [00:00<?, ?it/s]"
      ]
     },
     "metadata": {},
     "output_type": "display_data"
    },
    {
     "name": "stdout",
     "output_type": "stream",
     "text": [
      "1.2000000000000002, 0.9 : mean chagne - 0.042764, score change - 0.043008\n",
      "after[3.709481604688698, 7.077466195275425], before[3.666717828362788, 7.034457791343084]\n",
      "[1.20000000e-04 1.20000000e-04 3.00000000e-03 9.13852259e-05\n",
      " 2.28463065e-03]\n",
      "[9.00000000e-05 9.00000000e-05 6.85389195e-05 1.71347299e-03]\n"
     ]
    },
    {
     "data": {
      "application/vnd.jupyter.widget-view+json": {
       "model_id": "5997de953e714c869c7f712bc10b4fb6",
       "version_major": 2,
       "version_minor": 0
      },
      "text/plain": [
       "  0%|          | 0/5 [00:00<?, ?it/s]"
      ]
     },
     "metadata": {},
     "output_type": "display_data"
    },
    {
     "name": "stdout",
     "output_type": "stream",
     "text": [
      "1.3000000000000003, 0.9 : mean chagne - 0.133054, score change - 0.254248\n",
      "after[3.7997715313227536, 7.288705747098911], before[3.666717828362788, 7.034457791343084]\n",
      "[1.30000000e-04 1.30000000e-04 3.25000000e-03 9.90006614e-05\n",
      " 2.47501654e-03]\n",
      "[9.00000000e-05 9.00000000e-05 6.85389195e-05 1.71347299e-03]\n"
     ]
    },
    {
     "data": {
      "application/vnd.jupyter.widget-view+json": {
       "model_id": "3883b1655ed145aea7c4f7fec591b318",
       "version_major": 2,
       "version_minor": 0
      },
      "text/plain": [
       "  0%|          | 0/5 [00:00<?, ?it/s]"
      ]
     },
     "metadata": {},
     "output_type": "display_data"
    },
    {
     "name": "stdout",
     "output_type": "stream",
     "text": [
      "1.4000000000000001, 0.9 : mean chagne - 0.085211, score change - 0.174216\n",
      "after[3.7519285489062604, 7.208674018794227], before[3.666717828362788, 7.034457791343084]\n",
      "[0.00014    0.00014    0.0035     0.00010662 0.0026654 ]\n",
      "[9.00000000e-05 9.00000000e-05 6.85389195e-05 1.71347299e-03]\n"
     ]
    },
    {
     "data": {
      "application/vnd.jupyter.widget-view+json": {
       "model_id": "b4809550121649aca71ca92b6e46d077",
       "version_major": 2,
       "version_minor": 0
      },
      "text/plain": [
       "  0%|          | 0/5 [00:00<?, ?it/s]"
      ]
     },
     "metadata": {},
     "output_type": "display_data"
    },
    {
     "name": "stdout",
     "output_type": "stream",
     "text": [
      "1.5000000000000002, 0.9 : mean chagne - 0.136939, score change - 0.293060\n",
      "after[3.8036565615907425, 7.327518124215646], before[3.666717828362788, 7.034457791343084]\n",
      "[0.00015    0.00015    0.00375    0.00011423 0.00285579]\n",
      "[9.00000000e-05 9.00000000e-05 6.85389195e-05 1.71347299e-03]\n"
     ]
    },
    {
     "data": {
      "application/vnd.jupyter.widget-view+json": {
       "model_id": "ef789d09e7e343429d50717bac5d9b76",
       "version_major": 2,
       "version_minor": 0
      },
      "text/plain": [
       "  0%|          | 0/5 [00:00<?, ?it/s]"
      ]
     },
     "metadata": {},
     "output_type": "display_data"
    },
    {
     "name": "stdout",
     "output_type": "stream",
     "text": [
      "1.6, 0.9 : mean chagne - 0.077847, score change - 0.158137\n",
      "after[3.7445644216061993, 7.192594976353439], before[3.666717828362788, 7.034457791343084]\n",
      "[0.00016    0.00016    0.004      0.00012185 0.00304617]\n",
      "[9.00000000e-05 9.00000000e-05 6.85389195e-05 1.71347299e-03]\n"
     ]
    },
    {
     "data": {
      "application/vnd.jupyter.widget-view+json": {
       "model_id": "11e297c5b43e4327967301a29bb7414a",
       "version_major": 2,
       "version_minor": 0
      },
      "text/plain": [
       "  0%|          | 0/5 [00:00<?, ?it/s]"
      ]
     },
     "metadata": {},
     "output_type": "display_data"
    },
    {
     "name": "stdout",
     "output_type": "stream",
     "text": [
      "1.7000000000000002, 0.9 : mean chagne - 0.169015, score change - 0.335381\n",
      "after[3.8357331198206124, 7.3698390980018305], before[3.666717828362788, 7.034457791343084]\n",
      "[0.00017    0.00017    0.00425    0.00012946 0.00323656]\n",
      "[9.00000000e-05 9.00000000e-05 6.85389195e-05 1.71347299e-03]\n"
     ]
    },
    {
     "data": {
      "application/vnd.jupyter.widget-view+json": {
       "model_id": "eb60f2d1e3b24f569eef8d36c423780f",
       "version_major": 2,
       "version_minor": 0
      },
      "text/plain": [
       "  0%|          | 0/5 [00:00<?, ?it/s]"
      ]
     },
     "metadata": {},
     "output_type": "display_data"
    },
    {
     "name": "stdout",
     "output_type": "stream",
     "text": [
      "1.8000000000000003, 0.9 : mean chagne - 0.202303, score change - 0.380229\n",
      "after[3.8690208914424815, 7.414686971172498], before[3.666717828362788, 7.034457791343084]\n",
      "[0.00018    0.00018    0.0045     0.00013708 0.00342695]\n",
      "[9.00000000e-05 9.00000000e-05 6.85389195e-05 1.71347299e-03]\n"
     ]
    },
    {
     "data": {
      "application/vnd.jupyter.widget-view+json": {
       "model_id": "92b8ff0e66e641dbbc5a106d77619a4e",
       "version_major": 2,
       "version_minor": 0
      },
      "text/plain": [
       "  0%|          | 0/5 [00:00<?, ?it/s]"
      ]
     },
     "metadata": {},
     "output_type": "display_data"
    },
    {
     "name": "stdout",
     "output_type": "stream",
     "text": [
      "1.9000000000000001, 0.9 : mean chagne - 0.063061, score change - 0.050630\n",
      "after[3.7297787319421305, 7.085087759447521], before[3.666717828362788, 7.034457791343084]\n",
      "[0.00019    0.00019    0.00475    0.00014469 0.00361733]\n",
      "[9.00000000e-05 9.00000000e-05 6.85389195e-05 1.71347299e-03]\n"
     ]
    },
    {
     "data": {
      "application/vnd.jupyter.widget-view+json": {
       "model_id": "0177644368a042eca59c0b964046a836",
       "version_major": 2,
       "version_minor": 0
      },
      "text/plain": [
       "  0%|          | 0/5 [00:00<?, ?it/s]"
      ]
     },
     "metadata": {},
     "output_type": "display_data"
    },
    {
     "name": "stdout",
     "output_type": "stream",
     "text": [
      "0.1, 1.0 : mean chagne - 0.617722, score change - 1.323852\n",
      "after[4.2844402180552, 8.358309565114382], before[3.666717828362788, 7.034457791343084]\n",
      "[1.00000000e-05 1.00000000e-05 2.50000000e-04 7.61543549e-06\n",
      " 1.90385887e-04]\n",
      "[1.00000000e-04 1.00000000e-04 7.61543549e-05 1.90385887e-03]\n"
     ]
    },
    {
     "data": {
      "application/vnd.jupyter.widget-view+json": {
       "model_id": "dd6fa90f5a204ce1b9585be4162c30e9",
       "version_major": 2,
       "version_minor": 0
      },
      "text/plain": [
       "  0%|          | 0/5 [00:00<?, ?it/s]"
      ]
     },
     "metadata": {},
     "output_type": "display_data"
    },
    {
     "name": "stdout",
     "output_type": "stream",
     "text": [
      "0.2, 1.0 : mean chagne - 0.381355, score change - 0.946788\n",
      "after[4.048072916798613, 7.9812462411039515], before[3.666717828362788, 7.034457791343084]\n",
      "[2.00000000e-05 2.00000000e-05 5.00000000e-04 1.52308710e-05\n",
      " 3.80771775e-04]\n",
      "[1.00000000e-04 1.00000000e-04 7.61543549e-05 1.90385887e-03]\n"
     ]
    },
    {
     "data": {
      "application/vnd.jupyter.widget-view+json": {
       "model_id": "ec8c3d3efd6147499ca6d0831ce84f85",
       "version_major": 2,
       "version_minor": 0
      },
      "text/plain": [
       "  0%|          | 0/5 [00:00<?, ?it/s]"
      ]
     },
     "metadata": {},
     "output_type": "display_data"
    },
    {
     "name": "stdout",
     "output_type": "stream",
     "text": [
      "0.30000000000000004, 1.0 : mean chagne - 0.446766, score change - 1.004282\n",
      "after[4.113483810636775, 8.038740278004374], before[3.666717828362788, 7.034457791343084]\n",
      "[3.00000000e-05 3.00000000e-05 7.50000000e-04 2.28463065e-05\n",
      " 5.71157662e-04]\n",
      "[1.00000000e-04 1.00000000e-04 7.61543549e-05 1.90385887e-03]\n"
     ]
    },
    {
     "data": {
      "application/vnd.jupyter.widget-view+json": {
       "model_id": "7076012c42134cd5a5ec72c34d6d0d5a",
       "version_major": 2,
       "version_minor": 0
      },
      "text/plain": [
       "  0%|          | 0/5 [00:00<?, ?it/s]"
      ]
     },
     "metadata": {},
     "output_type": "display_data"
    },
    {
     "name": "stdout",
     "output_type": "stream",
     "text": [
      "0.4, 1.0 : mean chagne - 0.105953, score change - 0.118443\n",
      "after[3.7726704135564857, 7.1529006828226], before[3.666717828362788, 7.034457791343084]\n",
      "[4.00000000e-05 4.00000000e-05 1.00000000e-03 3.04617420e-05\n",
      " 7.61543549e-04]\n",
      "[1.00000000e-04 1.00000000e-04 7.61543549e-05 1.90385887e-03]\n"
     ]
    },
    {
     "data": {
      "application/vnd.jupyter.widget-view+json": {
       "model_id": "04f49b35066e4f81b198b6ecea24ddff",
       "version_major": 2,
       "version_minor": 0
      },
      "text/plain": [
       "  0%|          | 0/5 [00:00<?, ?it/s]"
      ]
     },
     "metadata": {},
     "output_type": "display_data"
    },
    {
     "name": "stdout",
     "output_type": "stream",
     "text": [
      "0.5, 1.0 : mean chagne - 10.496330, score change - 38.441672\n",
      "after[14.163048187548144, 45.47613022883499], before[3.666717828362788, 7.034457791343084]\n",
      "[5.00000000e-05 5.00000000e-05 1.25000000e-03 3.80771775e-05\n",
      " 9.51929437e-04]\n",
      "[1.00000000e-04 1.00000000e-04 7.61543549e-05 1.90385887e-03]\n"
     ]
    },
    {
     "data": {
      "application/vnd.jupyter.widget-view+json": {
       "model_id": "7009ca2f5c2d437bb0c5a22da964fcbb",
       "version_major": 2,
       "version_minor": 0
      },
      "text/plain": [
       "  0%|          | 0/5 [00:00<?, ?it/s]"
      ]
     },
     "metadata": {},
     "output_type": "display_data"
    },
    {
     "name": "stdout",
     "output_type": "stream",
     "text": [
      "0.6, 1.0 : mean chagne - 0.337254, score change - 0.797002\n",
      "after[4.003971690176496, 7.831459999290026], before[3.666717828362788, 7.034457791343084]\n",
      "[6.00000000e-05 6.00000000e-05 1.50000000e-03 4.56926130e-05\n",
      " 1.14231532e-03]\n",
      "[1.00000000e-04 1.00000000e-04 7.61543549e-05 1.90385887e-03]\n"
     ]
    },
    {
     "data": {
      "application/vnd.jupyter.widget-view+json": {
       "model_id": "8fcd0b537d3d40bc88cfa074da84057f",
       "version_major": 2,
       "version_minor": 0
      },
      "text/plain": [
       "  0%|          | 0/5 [00:00<?, ?it/s]"
      ]
     },
     "metadata": {},
     "output_type": "display_data"
    },
    {
     "name": "stdout",
     "output_type": "stream",
     "text": [
      "0.7000000000000001, 1.0 : mean chagne - 0.119749, score change - 0.272472\n",
      "after[3.7864665052494924, 7.306929711503318], before[3.666717828362788, 7.034457791343084]\n",
      "[7.00000000e-05 7.00000000e-05 1.75000000e-03 5.33080485e-05\n",
      " 1.33270121e-03]\n",
      "[1.00000000e-04 1.00000000e-04 7.61543549e-05 1.90385887e-03]\n"
     ]
    },
    {
     "data": {
      "application/vnd.jupyter.widget-view+json": {
       "model_id": "8202bf0748fc468682664f771b1b9d72",
       "version_major": 2,
       "version_minor": 0
      },
      "text/plain": [
       "  0%|          | 0/5 [00:00<?, ?it/s]"
      ]
     },
     "metadata": {},
     "output_type": "display_data"
    },
    {
     "name": "stdout",
     "output_type": "stream",
     "text": [
      "0.8, 1.0 : mean chagne - 0.256411, score change - 0.346534\n",
      "after[3.923128378256373, 7.380992052478], before[3.666717828362788, 7.034457791343084]\n",
      "[8.0000000e-05 8.0000000e-05 2.0000000e-03 6.0923484e-05 1.5230871e-03]\n",
      "[1.00000000e-04 1.00000000e-04 7.61543549e-05 1.90385887e-03]\n"
     ]
    },
    {
     "data": {
      "application/vnd.jupyter.widget-view+json": {
       "model_id": "8400021878294e8d83d98c1cbd6f9da2",
       "version_major": 2,
       "version_minor": 0
      },
      "text/plain": [
       "  0%|          | 0/5 [00:00<?, ?it/s]"
      ]
     },
     "metadata": {},
     "output_type": "display_data"
    },
    {
     "name": "stdout",
     "output_type": "stream",
     "text": [
      "0.9, 1.0 : mean chagne - 0.133975, score change - 0.260760\n",
      "after[3.800692436535884, 7.295218201238571], before[3.666717828362788, 7.034457791343084]\n",
      "[9.00000000e-05 9.00000000e-05 2.25000000e-03 6.85389195e-05\n",
      " 1.71347299e-03]\n",
      "[1.00000000e-04 1.00000000e-04 7.61543549e-05 1.90385887e-03]\n"
     ]
    },
    {
     "data": {
      "application/vnd.jupyter.widget-view+json": {
       "model_id": "a064eba2759244baade6a0a8a86de69f",
       "version_major": 2,
       "version_minor": 0
      },
      "text/plain": [
       "  0%|          | 0/5 [00:00<?, ?it/s]"
      ]
     },
     "metadata": {},
     "output_type": "display_data"
    },
    {
     "name": "stdout",
     "output_type": "stream",
     "text": [
      "1.0, 1.0 : mean chagne - 0.158441, score change - 0.362299\n",
      "after[3.8251585304550835, 7.396757241331116], before[3.666717828362788, 7.034457791343084]\n",
      "[1.00000000e-04 1.00000000e-04 2.50000000e-03 7.61543549e-05\n",
      " 1.90385887e-03]\n",
      "[1.00000000e-04 1.00000000e-04 7.61543549e-05 1.90385887e-03]\n"
     ]
    },
    {
     "data": {
      "application/vnd.jupyter.widget-view+json": {
       "model_id": "dfbe5bdcef6a44d59e70ff80932f921f",
       "version_major": 2,
       "version_minor": 0
      },
      "text/plain": [
       "  0%|          | 0/5 [00:00<?, ?it/s]"
      ]
     },
     "metadata": {},
     "output_type": "display_data"
    },
    {
     "name": "stdout",
     "output_type": "stream",
     "text": [
      "1.1, 1.0 : mean chagne - 0.124598, score change - 0.237418\n",
      "after[3.7913161525518944, 7.271876069844933], before[3.666717828362788, 7.034457791343084]\n",
      "[1.10000000e-04 1.10000000e-04 2.75000000e-03 8.37697904e-05\n",
      " 2.09424476e-03]\n",
      "[1.00000000e-04 1.00000000e-04 7.61543549e-05 1.90385887e-03]\n"
     ]
    },
    {
     "data": {
      "application/vnd.jupyter.widget-view+json": {
       "model_id": "b6015c2f25d542f8a8f7bc7c5eb09836",
       "version_major": 2,
       "version_minor": 0
      },
      "text/plain": [
       "  0%|          | 0/5 [00:00<?, ?it/s]"
      ]
     },
     "metadata": {},
     "output_type": "display_data"
    },
    {
     "name": "stdout",
     "output_type": "stream",
     "text": [
      "1.2000000000000002, 1.0 : mean chagne - 0.029308, score change - 0.030851\n",
      "after[3.6960256325030225, 7.065308888302622], before[3.666717828362788, 7.034457791343084]\n",
      "[1.20000000e-04 1.20000000e-04 3.00000000e-03 9.13852259e-05\n",
      " 2.28463065e-03]\n",
      "[1.00000000e-04 1.00000000e-04 7.61543549e-05 1.90385887e-03]\n"
     ]
    },
    {
     "data": {
      "application/vnd.jupyter.widget-view+json": {
       "model_id": "4aac3d9f8c644138a955e90e781c9e2f",
       "version_major": 2,
       "version_minor": 0
      },
      "text/plain": [
       "  0%|          | 0/5 [00:00<?, ?it/s]"
      ]
     },
     "metadata": {},
     "output_type": "display_data"
    },
    {
     "name": "stdout",
     "output_type": "stream",
     "text": [
      "1.3000000000000003, 1.0 : mean chagne - 0.081178, score change - 0.173540\n",
      "after[3.747895506860388, 7.20799808851869], before[3.666717828362788, 7.034457791343084]\n",
      "[1.30000000e-04 1.30000000e-04 3.25000000e-03 9.90006614e-05\n",
      " 2.47501654e-03]\n",
      "[1.00000000e-04 1.00000000e-04 7.61543549e-05 1.90385887e-03]\n"
     ]
    },
    {
     "data": {
      "application/vnd.jupyter.widget-view+json": {
       "model_id": "ed32ec6c07184ebf81d50b3d822f7d20",
       "version_major": 2,
       "version_minor": 0
      },
      "text/plain": [
       "  0%|          | 0/5 [00:00<?, ?it/s]"
      ]
     },
     "metadata": {},
     "output_type": "display_data"
    },
    {
     "name": "stdout",
     "output_type": "stream",
     "text": [
      "1.4000000000000001, 1.0 : mean chagne - 0.093133, score change - 0.201516\n",
      "after[3.759850864269976, 7.235973687691853], before[3.666717828362788, 7.034457791343084]\n",
      "[0.00014    0.00014    0.0035     0.00010662 0.0026654 ]\n",
      "[1.00000000e-04 1.00000000e-04 7.61543549e-05 1.90385887e-03]\n"
     ]
    },
    {
     "data": {
      "application/vnd.jupyter.widget-view+json": {
       "model_id": "92995d418af944c9845e138d4c7e7c5e",
       "version_major": 2,
       "version_minor": 0
      },
      "text/plain": [
       "  0%|          | 0/5 [00:00<?, ?it/s]"
      ]
     },
     "metadata": {},
     "output_type": "display_data"
    },
    {
     "name": "stdout",
     "output_type": "stream",
     "text": [
      "1.5000000000000002, 1.0 : mean chagne - 0.128868, score change - 0.272013\n",
      "after[3.7955855201588546, 7.306470529801277], before[3.666717828362788, 7.034457791343084]\n",
      "[0.00015    0.00015    0.00375    0.00011423 0.00285579]\n",
      "[1.00000000e-04 1.00000000e-04 7.61543549e-05 1.90385887e-03]\n"
     ]
    },
    {
     "data": {
      "application/vnd.jupyter.widget-view+json": {
       "model_id": "b2508351f23b46818b9399f925fec919",
       "version_major": 2,
       "version_minor": 0
      },
      "text/plain": [
       "  0%|          | 0/5 [00:00<?, ?it/s]"
      ]
     },
     "metadata": {},
     "output_type": "display_data"
    },
    {
     "name": "stdout",
     "output_type": "stream",
     "text": [
      "1.6, 1.0 : mean chagne - 0.078805, score change - 0.130575\n",
      "after[3.7455229044219527, 7.165032485210612], before[3.666717828362788, 7.034457791343084]\n",
      "[0.00016    0.00016    0.004      0.00012185 0.00304617]\n",
      "[1.00000000e-04 1.00000000e-04 7.61543549e-05 1.90385887e-03]\n"
     ]
    },
    {
     "data": {
      "application/vnd.jupyter.widget-view+json": {
       "model_id": "fc0c9faba37b44eda1c096672eae22b8",
       "version_major": 2,
       "version_minor": 0
      },
      "text/plain": [
       "  0%|          | 0/5 [00:00<?, ?it/s]"
      ]
     },
     "metadata": {},
     "output_type": "display_data"
    },
    {
     "name": "stdout",
     "output_type": "stream",
     "text": [
      "1.7000000000000002, 1.0 : mean chagne - 0.109385, score change - 0.224827\n",
      "after[3.776102686534388, 7.2592851388026105], before[3.666717828362788, 7.034457791343084]\n",
      "[0.00017    0.00017    0.00425    0.00012946 0.00323656]\n",
      "[1.00000000e-04 1.00000000e-04 7.61543549e-05 1.90385887e-03]\n"
     ]
    },
    {
     "data": {
      "application/vnd.jupyter.widget-view+json": {
       "model_id": "591618726e7a45b99eed699a7a8ca92e",
       "version_major": 2,
       "version_minor": 0
      },
      "text/plain": [
       "  0%|          | 0/5 [00:00<?, ?it/s]"
      ]
     },
     "metadata": {},
     "output_type": "display_data"
    },
    {
     "name": "stdout",
     "output_type": "stream",
     "text": [
      "1.8000000000000003, 1.0 : mean chagne - 0.085331, score change - 0.174236\n",
      "after[3.7520491273715826, 7.208693508193176], before[3.666717828362788, 7.034457791343084]\n",
      "[0.00018    0.00018    0.0045     0.00013708 0.00342695]\n",
      "[1.00000000e-04 1.00000000e-04 7.61543549e-05 1.90385887e-03]\n"
     ]
    },
    {
     "data": {
      "application/vnd.jupyter.widget-view+json": {
       "model_id": "8be099977a354d879bcb6acf9f3d696f",
       "version_major": 2,
       "version_minor": 0
      },
      "text/plain": [
       "  0%|          | 0/5 [00:00<?, ?it/s]"
      ]
     },
     "metadata": {},
     "output_type": "display_data"
    },
    {
     "name": "stdout",
     "output_type": "stream",
     "text": [
      "1.9000000000000001, 1.0 : mean chagne - 0.044523, score change - 0.025231\n",
      "after[3.711241167741838, 7.059688594460793], before[3.666717828362788, 7.034457791343084]\n",
      "[0.00019    0.00019    0.00475    0.00014469 0.00361733]\n",
      "[1.00000000e-04 1.00000000e-04 7.61543549e-05 1.90385887e-03]\n"
     ]
    },
    {
     "data": {
      "application/vnd.jupyter.widget-view+json": {
       "model_id": "2c17606c9ba0405b81e3d32a55c1ede4",
       "version_major": 2,
       "version_minor": 0
      },
      "text/plain": [
       "  0%|          | 0/5 [00:00<?, ?it/s]"
      ]
     },
     "metadata": {},
     "output_type": "display_data"
    },
    {
     "name": "stdout",
     "output_type": "stream",
     "text": [
      "0.1, 1.1 : mean chagne - 0.713014, score change - 1.594284\n",
      "after[4.37973182110989, 8.628741351603626], before[3.666717828362788, 7.034457791343084]\n",
      "[1.00000000e-05 1.00000000e-05 2.50000000e-04 7.61543549e-06\n",
      " 1.90385887e-04]\n",
      "[1.10000000e-04 1.10000000e-04 8.37697904e-05 2.09424476e-03]\n"
     ]
    },
    {
     "data": {
      "application/vnd.jupyter.widget-view+json": {
       "model_id": "1f075d697f5e4c7f92658e0b8f55c973",
       "version_major": 2,
       "version_minor": 0
      },
      "text/plain": [
       "  0%|          | 0/5 [00:00<?, ?it/s]"
      ]
     },
     "metadata": {},
     "output_type": "display_data"
    },
    {
     "name": "stdout",
     "output_type": "stream",
     "text": [
      "0.2, 1.1 : mean chagne - 0.656075, score change - 1.738814\n",
      "after[4.322793052673353, 8.773271957133337], before[3.666717828362788, 7.034457791343084]\n",
      "[2.00000000e-05 2.00000000e-05 5.00000000e-04 1.52308710e-05\n",
      " 3.80771775e-04]\n",
      "[1.10000000e-04 1.10000000e-04 8.37697904e-05 2.09424476e-03]\n"
     ]
    },
    {
     "data": {
      "application/vnd.jupyter.widget-view+json": {
       "model_id": "3b0c81989a524d3e8f0e7ca1b4387b55",
       "version_major": 2,
       "version_minor": 0
      },
      "text/plain": [
       "  0%|          | 0/5 [00:00<?, ?it/s]"
      ]
     },
     "metadata": {},
     "output_type": "display_data"
    },
    {
     "name": "stdout",
     "output_type": "stream",
     "text": [
      "0.30000000000000004, 1.1 : mean chagne - 0.316902, score change - 0.716999\n",
      "after[3.9836195814965, 7.751456866091855], before[3.666717828362788, 7.034457791343084]\n",
      "[3.00000000e-05 3.00000000e-05 7.50000000e-04 2.28463065e-05\n",
      " 5.71157662e-04]\n",
      "[1.10000000e-04 1.10000000e-04 8.37697904e-05 2.09424476e-03]\n"
     ]
    },
    {
     "data": {
      "application/vnd.jupyter.widget-view+json": {
       "model_id": "d5a2c40ad67141e4a148a952bdd8d235",
       "version_major": 2,
       "version_minor": 0
      },
      "text/plain": [
       "  0%|          | 0/5 [00:00<?, ?it/s]"
      ]
     },
     "metadata": {},
     "output_type": "display_data"
    },
    {
     "name": "stdout",
     "output_type": "stream",
     "text": [
      "0.4, 1.1 : mean chagne - 0.266806, score change - 0.551756\n",
      "after[3.9335242342750125, 7.586213334591866], before[3.666717828362788, 7.034457791343084]\n",
      "[4.00000000e-05 4.00000000e-05 1.00000000e-03 3.04617420e-05\n",
      " 7.61543549e-04]\n",
      "[1.10000000e-04 1.10000000e-04 8.37697904e-05 2.09424476e-03]\n"
     ]
    },
    {
     "data": {
      "application/vnd.jupyter.widget-view+json": {
       "model_id": "538c2b347e78404abedabcd41a119737",
       "version_major": 2,
       "version_minor": 0
      },
      "text/plain": [
       "  0%|          | 0/5 [00:00<?, ?it/s]"
      ]
     },
     "metadata": {},
     "output_type": "display_data"
    },
    {
     "name": "stdout",
     "output_type": "stream",
     "text": [
      "0.5, 1.1 : mean chagne - 0.137904, score change - 0.262194\n",
      "after[3.8046213898299834, 7.2966518302543735], before[3.666717828362788, 7.034457791343084]\n",
      "[5.00000000e-05 5.00000000e-05 1.25000000e-03 3.80771775e-05\n",
      " 9.51929437e-04]\n",
      "[1.10000000e-04 1.10000000e-04 8.37697904e-05 2.09424476e-03]\n"
     ]
    },
    {
     "data": {
      "application/vnd.jupyter.widget-view+json": {
       "model_id": "9b0d403cb70f4ba5bfbaf9c56f63d91a",
       "version_major": 2,
       "version_minor": 0
      },
      "text/plain": [
       "  0%|          | 0/5 [00:00<?, ?it/s]"
      ]
     },
     "metadata": {},
     "output_type": "display_data"
    },
    {
     "name": "stdout",
     "output_type": "stream",
     "text": [
      "0.6, 1.1 : mean chagne - 0.286114, score change - 0.648882\n",
      "after[3.9528318638917623, 7.683339598793024], before[3.666717828362788, 7.034457791343084]\n",
      "[6.00000000e-05 6.00000000e-05 1.50000000e-03 4.56926130e-05\n",
      " 1.14231532e-03]\n",
      "[1.10000000e-04 1.10000000e-04 8.37697904e-05 2.09424476e-03]\n"
     ]
    },
    {
     "data": {
      "application/vnd.jupyter.widget-view+json": {
       "model_id": "e39782fa52014d4ca05901f2a8b19cac",
       "version_major": 2,
       "version_minor": 0
      },
      "text/plain": [
       "  0%|          | 0/5 [00:00<?, ?it/s]"
      ]
     },
     "metadata": {},
     "output_type": "display_data"
    },
    {
     "name": "stdout",
     "output_type": "stream",
     "text": [
      "0.7000000000000001, 1.1 : mean chagne - 0.082017, score change - 0.146134\n",
      "after[3.74873520105173, 7.180591390542484], before[3.666717828362788, 7.034457791343084]\n",
      "[7.00000000e-05 7.00000000e-05 1.75000000e-03 5.33080485e-05\n",
      " 1.33270121e-03]\n",
      "[1.10000000e-04 1.10000000e-04 8.37697904e-05 2.09424476e-03]\n"
     ]
    },
    {
     "data": {
      "application/vnd.jupyter.widget-view+json": {
       "model_id": "34137cf0ca124ccdada399c5d8ae323f",
       "version_major": 2,
       "version_minor": 0
      },
      "text/plain": [
       "  0%|          | 0/5 [00:00<?, ?it/s]"
      ]
     },
     "metadata": {},
     "output_type": "display_data"
    },
    {
     "name": "stdout",
     "output_type": "stream",
     "text": [
      "0.8, 1.1 : mean chagne - 0.138436, score change - 0.325071\n",
      "after[3.8051538832224354, 7.359528910331359], before[3.666717828362788, 7.034457791343084]\n",
      "[8.0000000e-05 8.0000000e-05 2.0000000e-03 6.0923484e-05 1.5230871e-03]\n",
      "[1.10000000e-04 1.10000000e-04 8.37697904e-05 2.09424476e-03]\n"
     ]
    },
    {
     "data": {
      "application/vnd.jupyter.widget-view+json": {
       "model_id": "add8830f3c184f57bfed5e4f0c86bc50",
       "version_major": 2,
       "version_minor": 0
      },
      "text/plain": [
       "  0%|          | 0/5 [00:00<?, ?it/s]"
      ]
     },
     "metadata": {},
     "output_type": "display_data"
    },
    {
     "name": "stdout",
     "output_type": "stream",
     "text": [
      "0.9, 1.1 : mean chagne - 0.058961, score change - 0.166689\n",
      "after[3.7256785780853696, 7.201146437240382], before[3.666717828362788, 7.034457791343084]\n",
      "[9.00000000e-05 9.00000000e-05 2.25000000e-03 6.85389195e-05\n",
      " 1.71347299e-03]\n",
      "[1.10000000e-04 1.10000000e-04 8.37697904e-05 2.09424476e-03]\n"
     ]
    },
    {
     "data": {
      "application/vnd.jupyter.widget-view+json": {
       "model_id": "113197ca55a340d082f63013ff7a6c0d",
       "version_major": 2,
       "version_minor": 0
      },
      "text/plain": [
       "  0%|          | 0/5 [00:00<?, ?it/s]"
      ]
     },
     "metadata": {},
     "output_type": "display_data"
    },
    {
     "name": "stdout",
     "output_type": "stream",
     "text": [
      "1.0, 1.1 : mean chagne - 0.384849, score change - 0.464834\n",
      "after[4.05156727228489, 7.499292226598532], before[3.666717828362788, 7.034457791343084]\n",
      "[1.00000000e-04 1.00000000e-04 2.50000000e-03 7.61543549e-05\n",
      " 1.90385887e-03]\n",
      "[1.10000000e-04 1.10000000e-04 8.37697904e-05 2.09424476e-03]\n"
     ]
    },
    {
     "data": {
      "application/vnd.jupyter.widget-view+json": {
       "model_id": "f65d49bf043543c2bfecc1c10bae8126",
       "version_major": 2,
       "version_minor": 0
      },
      "text/plain": [
       "  0%|          | 0/5 [00:00<?, ?it/s]"
      ]
     },
     "metadata": {},
     "output_type": "display_data"
    },
    {
     "name": "stdout",
     "output_type": "stream",
     "text": [
      "1.1, 1.1 : mean chagne - 0.095073, score change - 0.238352\n",
      "after[3.7617908702861733, 7.272809468765507], before[3.666717828362788, 7.034457791343084]\n",
      "[1.10000000e-04 1.10000000e-04 2.75000000e-03 8.37697904e-05\n",
      " 2.09424476e-03]\n",
      "[1.10000000e-04 1.10000000e-04 8.37697904e-05 2.09424476e-03]\n"
     ]
    },
    {
     "data": {
      "application/vnd.jupyter.widget-view+json": {
       "model_id": "f8f341ebdc5b4ee0a147fd0a1c81c3ad",
       "version_major": 2,
       "version_minor": 0
      },
      "text/plain": [
       "  0%|          | 0/5 [00:00<?, ?it/s]"
      ]
     },
     "metadata": {},
     "output_type": "display_data"
    },
    {
     "name": "stdout",
     "output_type": "stream",
     "text": [
      "1.2000000000000002, 1.1 : mean chagne - 0.260141, score change - 0.586615\n",
      "after[3.9268586749362857, 7.621072340469287], before[3.666717828362788, 7.034457791343084]\n",
      "[1.20000000e-04 1.20000000e-04 3.00000000e-03 9.13852259e-05\n",
      " 2.28463065e-03]\n",
      "[1.10000000e-04 1.10000000e-04 8.37697904e-05 2.09424476e-03]\n"
     ]
    },
    {
     "data": {
      "application/vnd.jupyter.widget-view+json": {
       "model_id": "d62fd4f05bd44636a65466aa75b6ae7e",
       "version_major": 2,
       "version_minor": 0
      },
      "text/plain": [
       "  0%|          | 0/5 [00:00<?, ?it/s]"
      ]
     },
     "metadata": {},
     "output_type": "display_data"
    },
    {
     "name": "stdout",
     "output_type": "stream",
     "text": [
      "1.3000000000000003, 1.1 : mean chagne - 2.350980, score change - 7.631605\n",
      "after[6.017698184377812, 14.66606290093869], before[3.666717828362788, 7.034457791343084]\n",
      "[1.30000000e-04 1.30000000e-04 3.25000000e-03 9.90006614e-05\n",
      " 2.47501654e-03]\n",
      "[1.10000000e-04 1.10000000e-04 8.37697904e-05 2.09424476e-03]\n"
     ]
    },
    {
     "data": {
      "application/vnd.jupyter.widget-view+json": {
       "model_id": "4e97f49f64074101bed22d30e2881afe",
       "version_major": 2,
       "version_minor": 0
      },
      "text/plain": [
       "  0%|          | 0/5 [00:00<?, ?it/s]"
      ]
     },
     "metadata": {},
     "output_type": "display_data"
    },
    {
     "name": "stdout",
     "output_type": "stream",
     "text": [
      "1.4000000000000001, 1.1 : mean chagne - 0.146753, score change - 0.367922\n",
      "after[3.8134711771390437, 7.4023800949961185], before[3.666717828362788, 7.034457791343084]\n",
      "[0.00014    0.00014    0.0035     0.00010662 0.0026654 ]\n",
      "[1.10000000e-04 1.10000000e-04 8.37697904e-05 2.09424476e-03]\n"
     ]
    },
    {
     "data": {
      "application/vnd.jupyter.widget-view+json": {
       "model_id": "0579d81dd5364cb88509ea246817750e",
       "version_major": 2,
       "version_minor": 0
      },
      "text/plain": [
       "  0%|          | 0/5 [00:00<?, ?it/s]"
      ]
     },
     "metadata": {},
     "output_type": "display_data"
    },
    {
     "name": "stdout",
     "output_type": "stream",
     "text": [
      "1.5000000000000002, 1.1 : mean chagne - 0.074640, score change - 0.128423\n",
      "after[3.741357841290919, 7.162880466322238], before[3.666717828362788, 7.034457791343084]\n",
      "[0.00015    0.00015    0.00375    0.00011423 0.00285579]\n",
      "[1.10000000e-04 1.10000000e-04 8.37697904e-05 2.09424476e-03]\n"
     ]
    },
    {
     "data": {
      "application/vnd.jupyter.widget-view+json": {
       "model_id": "7018af0f32954b209043b8d88170a2c9",
       "version_major": 2,
       "version_minor": 0
      },
      "text/plain": [
       "  0%|          | 0/5 [00:00<?, ?it/s]"
      ]
     },
     "metadata": {},
     "output_type": "display_data"
    },
    {
     "name": "stdout",
     "output_type": "stream",
     "text": [
      "1.6, 1.1 : mean chagne - 0.168945, score change - 0.420035\n",
      "after[3.835662956012787, 7.454492438449437], before[3.666717828362788, 7.034457791343084]\n",
      "[0.00016    0.00016    0.004      0.00012185 0.00304617]\n",
      "[1.10000000e-04 1.10000000e-04 8.37697904e-05 2.09424476e-03]\n"
     ]
    },
    {
     "data": {
      "application/vnd.jupyter.widget-view+json": {
       "model_id": "e0c1722bc217423286b0d70986f4cd59",
       "version_major": 2,
       "version_minor": 0
      },
      "text/plain": [
       "  0%|          | 0/5 [00:00<?, ?it/s]"
      ]
     },
     "metadata": {},
     "output_type": "display_data"
    },
    {
     "name": "stdout",
     "output_type": "stream",
     "text": [
      "1.7000000000000002, 1.1 : mean chagne - 0.123766, score change - 0.249082\n",
      "after[3.7904841485334666, 7.28353971064643], before[3.666717828362788, 7.034457791343084]\n",
      "[0.00017    0.00017    0.00425    0.00012946 0.00323656]\n",
      "[1.10000000e-04 1.10000000e-04 8.37697904e-05 2.09424476e-03]\n"
     ]
    },
    {
     "data": {
      "application/vnd.jupyter.widget-view+json": {
       "model_id": "c964a623071c425788f0fe9c73ba9ad9",
       "version_major": 2,
       "version_minor": 0
      },
      "text/plain": [
       "  0%|          | 0/5 [00:00<?, ?it/s]"
      ]
     },
     "metadata": {},
     "output_type": "display_data"
    },
    {
     "name": "stdout",
     "output_type": "stream",
     "text": [
      "1.8000000000000003, 1.1 : mean chagne - 0.088838, score change - 0.187777\n",
      "after[3.7555555912147494, 7.222234858261679], before[3.666717828362788, 7.034457791343084]\n",
      "[0.00018    0.00018    0.0045     0.00013708 0.00342695]\n",
      "[1.10000000e-04 1.10000000e-04 8.37697904e-05 2.09424476e-03]\n"
     ]
    },
    {
     "data": {
      "application/vnd.jupyter.widget-view+json": {
       "model_id": "4d113a0d2ae6489bb7c434c2b8bf0c9f",
       "version_major": 2,
       "version_minor": 0
      },
      "text/plain": [
       "  0%|          | 0/5 [00:00<?, ?it/s]"
      ]
     },
     "metadata": {},
     "output_type": "display_data"
    },
    {
     "name": "stdout",
     "output_type": "stream",
     "text": [
      "1.9000000000000001, 1.1 : mean chagne - 0.090197, score change - 0.194269\n",
      "after[3.7569147999775403, 7.228727168703779], before[3.666717828362788, 7.034457791343084]\n",
      "[0.00019    0.00019    0.00475    0.00014469 0.00361733]\n",
      "[1.10000000e-04 1.10000000e-04 8.37697904e-05 2.09424476e-03]\n"
     ]
    },
    {
     "data": {
      "application/vnd.jupyter.widget-view+json": {
       "model_id": "755b8807d793471db7b7d22e5ddffdef",
       "version_major": 2,
       "version_minor": 0
      },
      "text/plain": [
       "  0%|          | 0/5 [00:00<?, ?it/s]"
      ]
     },
     "metadata": {},
     "output_type": "display_data"
    },
    {
     "name": "stdout",
     "output_type": "stream",
     "text": [
      "0.1, 1.2000000000000002 : mean chagne - 0.548489, score change - 1.116998\n",
      "after[4.21520717652618, 8.151455603158002], before[3.666717828362788, 7.034457791343084]\n",
      "[1.00000000e-05 1.00000000e-05 2.50000000e-04 7.61543549e-06\n",
      " 1.90385887e-04]\n",
      "[1.20000000e-04 1.20000000e-04 9.13852259e-05 2.28463065e-03]\n"
     ]
    },
    {
     "data": {
      "application/vnd.jupyter.widget-view+json": {
       "model_id": "a819c5f5c24c43c2a05ed0d63717fb59",
       "version_major": 2,
       "version_minor": 0
      },
      "text/plain": [
       "  0%|          | 0/5 [00:00<?, ?it/s]"
      ]
     },
     "metadata": {},
     "output_type": "display_data"
    },
    {
     "name": "stdout",
     "output_type": "stream",
     "text": [
      "0.2, 1.2000000000000002 : mean chagne - 0.221760, score change - 0.460953\n",
      "after[3.888478036724081, 7.49541077619277], before[3.666717828362788, 7.034457791343084]\n",
      "[2.00000000e-05 2.00000000e-05 5.00000000e-04 1.52308710e-05\n",
      " 3.80771775e-04]\n",
      "[1.20000000e-04 1.20000000e-04 9.13852259e-05 2.28463065e-03]\n"
     ]
    },
    {
     "data": {
      "application/vnd.jupyter.widget-view+json": {
       "model_id": "d617f69ab56b4c3aaa9502fbfb1c9d9e",
       "version_major": 2,
       "version_minor": 0
      },
      "text/plain": [
       "  0%|          | 0/5 [00:00<?, ?it/s]"
      ]
     },
     "metadata": {},
     "output_type": "display_data"
    },
    {
     "name": "stdout",
     "output_type": "stream",
     "text": [
      "0.30000000000000004, 1.2000000000000002 : mean chagne - 0.342827, score change - 0.793242\n",
      "after[4.009544824359617, 7.8277002034963035], before[3.666717828362788, 7.034457791343084]\n",
      "[3.00000000e-05 3.00000000e-05 7.50000000e-04 2.28463065e-05\n",
      " 5.71157662e-04]\n",
      "[1.20000000e-04 1.20000000e-04 9.13852259e-05 2.28463065e-03]\n"
     ]
    },
    {
     "data": {
      "application/vnd.jupyter.widget-view+json": {
       "model_id": "9fbd476989cc41e8b6713013b2dbe262",
       "version_major": 2,
       "version_minor": 0
      },
      "text/plain": [
       "  0%|          | 0/5 [00:00<?, ?it/s]"
      ]
     },
     "metadata": {},
     "output_type": "display_data"
    },
    {
     "name": "stdout",
     "output_type": "stream",
     "text": [
      "0.4, 1.2000000000000002 : mean chagne - 0.406882, score change - 0.905421\n",
      "after[4.07359935975451, 7.939878947452167], before[3.666717828362788, 7.034457791343084]\n",
      "[4.00000000e-05 4.00000000e-05 1.00000000e-03 3.04617420e-05\n",
      " 7.61543549e-04]\n",
      "[1.20000000e-04 1.20000000e-04 9.13852259e-05 2.28463065e-03]\n"
     ]
    },
    {
     "data": {
      "application/vnd.jupyter.widget-view+json": {
       "model_id": "a83ceebedc77470ab7a519be9d66702b",
       "version_major": 2,
       "version_minor": 0
      },
      "text/plain": [
       "  0%|          | 0/5 [00:00<?, ?it/s]"
      ]
     },
     "metadata": {},
     "output_type": "display_data"
    },
    {
     "name": "stdout",
     "output_type": "stream",
     "text": [
      "0.5, 1.2000000000000002 : mean chagne - 0.320505, score change - 0.666046\n",
      "after[3.9872227103152325, 7.700503387063877], before[3.666717828362788, 7.034457791343084]\n",
      "[5.00000000e-05 5.00000000e-05 1.25000000e-03 3.80771775e-05\n",
      " 9.51929437e-04]\n",
      "[1.20000000e-04 1.20000000e-04 9.13852259e-05 2.28463065e-03]\n"
     ]
    },
    {
     "data": {
      "application/vnd.jupyter.widget-view+json": {
       "model_id": "a3a75aa3695c41fbb8860695a375d502",
       "version_major": 2,
       "version_minor": 0
      },
      "text/plain": [
       "  0%|          | 0/5 [00:00<?, ?it/s]"
      ]
     },
     "metadata": {},
     "output_type": "display_data"
    },
    {
     "name": "stdout",
     "output_type": "stream",
     "text": [
      "0.6, 1.2000000000000002 : mean chagne - 0.348029, score change - 0.838265\n",
      "after[4.014747235928716, 7.872722700579386], before[3.666717828362788, 7.034457791343084]\n",
      "[6.00000000e-05 6.00000000e-05 1.50000000e-03 4.56926130e-05\n",
      " 1.14231532e-03]\n",
      "[1.20000000e-04 1.20000000e-04 9.13852259e-05 2.28463065e-03]\n"
     ]
    },
    {
     "data": {
      "application/vnd.jupyter.widget-view+json": {
       "model_id": "633fac9fba6145eb92a826f8e1838bd7",
       "version_major": 2,
       "version_minor": 0
      },
      "text/plain": [
       "  0%|          | 0/5 [00:00<?, ?it/s]"
      ]
     },
     "metadata": {},
     "output_type": "display_data"
    },
    {
     "name": "stdout",
     "output_type": "stream",
     "text": [
      "0.7000000000000001, 1.2000000000000002 : mean chagne - 0.160692, score change - 0.413556\n",
      "after[3.8274094819937834, 7.448013893792014], before[3.666717828362788, 7.034457791343084]\n",
      "[7.00000000e-05 7.00000000e-05 1.75000000e-03 5.33080485e-05\n",
      " 1.33270121e-03]\n",
      "[1.20000000e-04 1.20000000e-04 9.13852259e-05 2.28463065e-03]\n"
     ]
    },
    {
     "data": {
      "application/vnd.jupyter.widget-view+json": {
       "model_id": "e86f6aa0595a44d4ada631272cc6cd97",
       "version_major": 2,
       "version_minor": 0
      },
      "text/plain": [
       "  0%|          | 0/5 [00:00<?, ?it/s]"
      ]
     },
     "metadata": {},
     "output_type": "display_data"
    },
    {
     "name": "stdout",
     "output_type": "stream",
     "text": [
      "0.8, 1.2000000000000002 : mean chagne - 0.224145, score change - 0.534292\n",
      "after[3.8908631313389703, 7.568749700742346], before[3.666717828362788, 7.034457791343084]\n",
      "[8.0000000e-05 8.0000000e-05 2.0000000e-03 6.0923484e-05 1.5230871e-03]\n",
      "[1.20000000e-04 1.20000000e-04 9.13852259e-05 2.28463065e-03]\n"
     ]
    },
    {
     "data": {
      "application/vnd.jupyter.widget-view+json": {
       "model_id": "0ce80609d30e469ca8d1f0de9e2e7c36",
       "version_major": 2,
       "version_minor": 0
      },
      "text/plain": [
       "  0%|          | 0/5 [00:00<?, ?it/s]"
      ]
     },
     "metadata": {},
     "output_type": "display_data"
    },
    {
     "name": "stdout",
     "output_type": "stream",
     "text": [
      "0.9, 1.2000000000000002 : mean chagne - 0.103790, score change - 0.190693\n",
      "after[3.770508040782661, 7.225150873071547], before[3.666717828362788, 7.034457791343084]\n",
      "[9.00000000e-05 9.00000000e-05 2.25000000e-03 6.85389195e-05\n",
      " 1.71347299e-03]\n",
      "[1.20000000e-04 1.20000000e-04 9.13852259e-05 2.28463065e-03]\n"
     ]
    },
    {
     "data": {
      "application/vnd.jupyter.widget-view+json": {
       "model_id": "5321f4a87cfc4e7a973d01680b46350d",
       "version_major": 2,
       "version_minor": 0
      },
      "text/plain": [
       "  0%|          | 0/5 [00:00<?, ?it/s]"
      ]
     },
     "metadata": {},
     "output_type": "display_data"
    },
    {
     "name": "stdout",
     "output_type": "stream",
     "text": [
      "1.0, 1.2000000000000002 : mean chagne - 0.129678, score change - 0.227586\n",
      "after[3.796396008067269, 7.262043739651861], before[3.666717828362788, 7.034457791343084]\n",
      "[1.00000000e-04 1.00000000e-04 2.50000000e-03 7.61543549e-05\n",
      " 1.90385887e-03]\n",
      "[1.20000000e-04 1.20000000e-04 9.13852259e-05 2.28463065e-03]\n"
     ]
    },
    {
     "data": {
      "application/vnd.jupyter.widget-view+json": {
       "model_id": "09cf5401d70b46b68d467b800f266062",
       "version_major": 2,
       "version_minor": 0
      },
      "text/plain": [
       "  0%|          | 0/5 [00:00<?, ?it/s]"
      ]
     },
     "metadata": {},
     "output_type": "display_data"
    },
    {
     "name": "stdout",
     "output_type": "stream",
     "text": [
      "1.1, 1.2000000000000002 : mean chagne - 0.078212, score change - 0.186922\n",
      "after[3.744929537468686, 7.221380173190944], before[3.666717828362788, 7.034457791343084]\n",
      "[1.10000000e-04 1.10000000e-04 2.75000000e-03 8.37697904e-05\n",
      " 2.09424476e-03]\n",
      "[1.20000000e-04 1.20000000e-04 9.13852259e-05 2.28463065e-03]\n"
     ]
    },
    {
     "data": {
      "application/vnd.jupyter.widget-view+json": {
       "model_id": "3c97741ad6f54061988a7a4d9bc69c72",
       "version_major": 2,
       "version_minor": 0
      },
      "text/plain": [
       "  0%|          | 0/5 [00:00<?, ?it/s]"
      ]
     },
     "metadata": {},
     "output_type": "display_data"
    },
    {
     "name": "stdout",
     "output_type": "stream",
     "text": [
      "1.2000000000000002, 1.2000000000000002 : mean chagne - 0.127390, score change - 0.308047\n",
      "after[3.7941079571294343, 7.34250516091276], before[3.666717828362788, 7.034457791343084]\n",
      "[1.20000000e-04 1.20000000e-04 3.00000000e-03 9.13852259e-05\n",
      " 2.28463065e-03]\n",
      "[1.20000000e-04 1.20000000e-04 9.13852259e-05 2.28463065e-03]\n"
     ]
    },
    {
     "data": {
      "application/vnd.jupyter.widget-view+json": {
       "model_id": "89fe4dbd2d134596943d432fa11ffbc5",
       "version_major": 2,
       "version_minor": 0
      },
      "text/plain": [
       "  0%|          | 0/5 [00:00<?, ?it/s]"
      ]
     },
     "metadata": {},
     "output_type": "display_data"
    },
    {
     "name": "stdout",
     "output_type": "stream",
     "text": [
      "1.3000000000000003, 1.2000000000000002 : mean chagne - 0.148002, score change - 0.353907\n",
      "after[3.8147194127732904, 7.388364456179451], before[3.666717828362788, 7.034457791343084]\n",
      "[1.30000000e-04 1.30000000e-04 3.25000000e-03 9.90006614e-05\n",
      " 2.47501654e-03]\n",
      "[1.20000000e-04 1.20000000e-04 9.13852259e-05 2.28463065e-03]\n"
     ]
    },
    {
     "data": {
      "application/vnd.jupyter.widget-view+json": {
       "model_id": "5ae4790db0cb4a79af578a91ba47d7da",
       "version_major": 2,
       "version_minor": 0
      },
      "text/plain": [
       "  0%|          | 0/5 [00:00<?, ?it/s]"
      ]
     },
     "metadata": {},
     "output_type": "display_data"
    },
    {
     "name": "stdout",
     "output_type": "stream",
     "text": [
      "1.4000000000000001, 1.2000000000000002 : mean chagne - 0.095811, score change - 0.230828\n",
      "after[3.7625285234888994, 7.265286287566994], before[3.666717828362788, 7.034457791343084]\n",
      "[0.00014    0.00014    0.0035     0.00010662 0.0026654 ]\n",
      "[1.20000000e-04 1.20000000e-04 9.13852259e-05 2.28463065e-03]\n"
     ]
    },
    {
     "data": {
      "application/vnd.jupyter.widget-view+json": {
       "model_id": "2058f85da9e04704bb628328bf247509",
       "version_major": 2,
       "version_minor": 0
      },
      "text/plain": [
       "  0%|          | 0/5 [00:00<?, ?it/s]"
      ]
     },
     "metadata": {},
     "output_type": "display_data"
    },
    {
     "name": "stdout",
     "output_type": "stream",
     "text": [
      "1.5000000000000002, 1.2000000000000002 : mean chagne - 0.162696, score change - 0.315348\n",
      "after[3.8294137766740683, 7.349806059977806], before[3.666717828362788, 7.034457791343084]\n",
      "[0.00015    0.00015    0.00375    0.00011423 0.00285579]\n",
      "[1.20000000e-04 1.20000000e-04 9.13852259e-05 2.28463065e-03]\n"
     ]
    },
    {
     "data": {
      "application/vnd.jupyter.widget-view+json": {
       "model_id": "0815442a0e8f49e493586c9859e95e8a",
       "version_major": 2,
       "version_minor": 0
      },
      "text/plain": [
       "  0%|          | 0/5 [00:00<?, ?it/s]"
      ]
     },
     "metadata": {},
     "output_type": "display_data"
    },
    {
     "name": "stdout",
     "output_type": "stream",
     "text": [
      "1.6, 1.2000000000000002 : mean chagne - 0.045429, score change - 0.088341\n",
      "after[3.712146718555336, 7.1227992515248015], before[3.666717828362788, 7.034457791343084]\n",
      "[0.00016    0.00016    0.004      0.00012185 0.00304617]\n",
      "[1.20000000e-04 1.20000000e-04 9.13852259e-05 2.28463065e-03]\n"
     ]
    },
    {
     "data": {
      "application/vnd.jupyter.widget-view+json": {
       "model_id": "43774d3f5a5e43b0b62ae341422fd85d",
       "version_major": 2,
       "version_minor": 0
      },
      "text/plain": [
       "  0%|          | 0/5 [00:00<?, ?it/s]"
      ]
     },
     "metadata": {},
     "output_type": "display_data"
    },
    {
     "name": "stdout",
     "output_type": "stream",
     "text": [
      "1.7000000000000002, 1.2000000000000002 : mean chagne - 0.067105, score change - 0.080284\n",
      "after[3.733823224247841, 7.114741857865442], before[3.666717828362788, 7.034457791343084]\n",
      "[0.00017    0.00017    0.00425    0.00012946 0.00323656]\n",
      "[1.20000000e-04 1.20000000e-04 9.13852259e-05 2.28463065e-03]\n"
     ]
    },
    {
     "data": {
      "application/vnd.jupyter.widget-view+json": {
       "model_id": "4f06275c54cb47f9b6efacbb16db6e51",
       "version_major": 2,
       "version_minor": 0
      },
      "text/plain": [
       "  0%|          | 0/5 [00:00<?, ?it/s]"
      ]
     },
     "metadata": {},
     "output_type": "display_data"
    },
    {
     "name": "stdout",
     "output_type": "stream",
     "text": [
      "1.8000000000000003, 1.2000000000000002 : mean chagne - 0.038452, score change - 0.063359\n",
      "after[3.705170182247931, 7.097816350492055], before[3.666717828362788, 7.034457791343084]\n",
      "[0.00018    0.00018    0.0045     0.00013708 0.00342695]\n",
      "[1.20000000e-04 1.20000000e-04 9.13852259e-05 2.28463065e-03]\n"
     ]
    },
    {
     "data": {
      "application/vnd.jupyter.widget-view+json": {
       "model_id": "833e058105694a00a28e8719fd01cb09",
       "version_major": 2,
       "version_minor": 0
      },
      "text/plain": [
       "  0%|          | 0/5 [00:00<?, ?it/s]"
      ]
     },
     "metadata": {},
     "output_type": "display_data"
    },
    {
     "name": "stdout",
     "output_type": "stream",
     "text": [
      "1.9000000000000001, 1.2000000000000002 : mean chagne - 0.071575, score change - 0.141608\n",
      "after[3.738293093612199, 7.176065526757133], before[3.666717828362788, 7.034457791343084]\n",
      "[0.00019    0.00019    0.00475    0.00014469 0.00361733]\n",
      "[1.20000000e-04 1.20000000e-04 9.13852259e-05 2.28463065e-03]\n"
     ]
    },
    {
     "data": {
      "application/vnd.jupyter.widget-view+json": {
       "model_id": "6ef02ab770224672a7b862247dead517",
       "version_major": 2,
       "version_minor": 0
      },
      "text/plain": [
       "  0%|          | 0/5 [00:00<?, ?it/s]"
      ]
     },
     "metadata": {},
     "output_type": "display_data"
    },
    {
     "name": "stdout",
     "output_type": "stream",
     "text": [
      "0.1, 1.3000000000000003 : mean chagne - 1.460719, score change - 3.698764\n",
      "after[5.127436405457502, 10.733221771192763], before[3.666717828362788, 7.034457791343084]\n",
      "[1.00000000e-05 1.00000000e-05 2.50000000e-04 7.61543549e-06\n",
      " 1.90385887e-04]\n",
      "[1.30000000e-04 1.30000000e-04 9.90006614e-05 2.47501654e-03]\n"
     ]
    },
    {
     "data": {
      "application/vnd.jupyter.widget-view+json": {
       "model_id": "a8796fcf1b91482b96ab45d7e22a6e34",
       "version_major": 2,
       "version_minor": 0
      },
      "text/plain": [
       "  0%|          | 0/5 [00:00<?, ?it/s]"
      ]
     },
     "metadata": {},
     "output_type": "display_data"
    },
    {
     "name": "stdout",
     "output_type": "stream",
     "text": [
      "0.2, 1.3000000000000003 : mean chagne - 0.834572, score change - 1.829478\n",
      "after[4.501289825322986, 8.8639353689164], before[3.666717828362788, 7.034457791343084]\n",
      "[2.00000000e-05 2.00000000e-05 5.00000000e-04 1.52308710e-05\n",
      " 3.80771775e-04]\n",
      "[1.30000000e-04 1.30000000e-04 9.90006614e-05 2.47501654e-03]\n"
     ]
    },
    {
     "data": {
      "application/vnd.jupyter.widget-view+json": {
       "model_id": "15e1ac3a6dc1457ba54adba69253836d",
       "version_major": 2,
       "version_minor": 0
      },
      "text/plain": [
       "  0%|          | 0/5 [00:00<?, ?it/s]"
      ]
     },
     "metadata": {},
     "output_type": "display_data"
    },
    {
     "name": "stdout",
     "output_type": "stream",
     "text": [
      "0.30000000000000004, 1.3000000000000003 : mean chagne - 0.564950, score change - 1.328396\n",
      "after[4.231668236127318, 8.362854228608617], before[3.666717828362788, 7.034457791343084]\n",
      "[3.00000000e-05 3.00000000e-05 7.50000000e-04 2.28463065e-05\n",
      " 5.71157662e-04]\n",
      "[1.30000000e-04 1.30000000e-04 9.90006614e-05 2.47501654e-03]\n"
     ]
    },
    {
     "data": {
      "application/vnd.jupyter.widget-view+json": {
       "model_id": "8f46bb1a4d774b48ac71de4a7408338e",
       "version_major": 2,
       "version_minor": 0
      },
      "text/plain": [
       "  0%|          | 0/5 [00:00<?, ?it/s]"
      ]
     },
     "metadata": {},
     "output_type": "display_data"
    },
    {
     "name": "stdout",
     "output_type": "stream",
     "text": [
      "0.4, 1.3000000000000003 : mean chagne - 0.244331, score change - 0.532251\n",
      "after[3.91104839717776, 7.56670872154484], before[3.666717828362788, 7.034457791343084]\n",
      "[4.00000000e-05 4.00000000e-05 1.00000000e-03 3.04617420e-05\n",
      " 7.61543549e-04]\n",
      "[1.30000000e-04 1.30000000e-04 9.90006614e-05 2.47501654e-03]\n"
     ]
    },
    {
     "data": {
      "application/vnd.jupyter.widget-view+json": {
       "model_id": "576ac740ce014cde9b383a72e3e16988",
       "version_major": 2,
       "version_minor": 0
      },
      "text/plain": [
       "  0%|          | 0/5 [00:00<?, ?it/s]"
      ]
     },
     "metadata": {},
     "output_type": "display_data"
    },
    {
     "name": "stdout",
     "output_type": "stream",
     "text": [
      "0.5, 1.3000000000000003 : mean chagne - 0.189160, score change - 0.378075\n",
      "after[3.8558778094260777, 7.412532355725039], before[3.666717828362788, 7.034457791343084]\n",
      "[5.00000000e-05 5.00000000e-05 1.25000000e-03 3.80771775e-05\n",
      " 9.51929437e-04]\n",
      "[1.30000000e-04 1.30000000e-04 9.90006614e-05 2.47501654e-03]\n"
     ]
    },
    {
     "data": {
      "application/vnd.jupyter.widget-view+json": {
       "model_id": "ae6de5a68bd64171bf0b20d41a07e104",
       "version_major": 2,
       "version_minor": 0
      },
      "text/plain": [
       "  0%|          | 0/5 [00:00<?, ?it/s]"
      ]
     },
     "metadata": {},
     "output_type": "display_data"
    },
    {
     "name": "stdout",
     "output_type": "stream",
     "text": [
      "0.6, 1.3000000000000003 : mean chagne - 0.240777, score change - 0.514860\n",
      "after[3.907494756566828, 7.549318154824638], before[3.666717828362788, 7.034457791343084]\n",
      "[6.00000000e-05 6.00000000e-05 1.50000000e-03 4.56926130e-05\n",
      " 1.14231532e-03]\n",
      "[1.30000000e-04 1.30000000e-04 9.90006614e-05 2.47501654e-03]\n"
     ]
    },
    {
     "data": {
      "application/vnd.jupyter.widget-view+json": {
       "model_id": "2621f718d5514ac8b997e7deaa8c11e1",
       "version_major": 2,
       "version_minor": 0
      },
      "text/plain": [
       "  0%|          | 0/5 [00:00<?, ?it/s]"
      ]
     },
     "metadata": {},
     "output_type": "display_data"
    },
    {
     "name": "stdout",
     "output_type": "stream",
     "text": [
      "0.7000000000000001, 1.3000000000000003 : mean chagne - 0.411962, score change - 0.928401\n",
      "after[4.078679409585177, 7.962858303175716], before[3.666717828362788, 7.034457791343084]\n",
      "[7.00000000e-05 7.00000000e-05 1.75000000e-03 5.33080485e-05\n",
      " 1.33270121e-03]\n",
      "[1.30000000e-04 1.30000000e-04 9.90006614e-05 2.47501654e-03]\n"
     ]
    },
    {
     "data": {
      "application/vnd.jupyter.widget-view+json": {
       "model_id": "1372ffc469184d9da90400038e84e63c",
       "version_major": 2,
       "version_minor": 0
      },
      "text/plain": [
       "  0%|          | 0/5 [00:00<?, ?it/s]"
      ]
     },
     "metadata": {},
     "output_type": "display_data"
    },
    {
     "name": "stdout",
     "output_type": "stream",
     "text": [
      "0.8, 1.3000000000000003 : mean chagne - 0.351387, score change - 0.772226\n",
      "after[4.018104332807437, 7.806684038403468], before[3.666717828362788, 7.034457791343084]\n",
      "[8.0000000e-05 8.0000000e-05 2.0000000e-03 6.0923484e-05 1.5230871e-03]\n",
      "[1.30000000e-04 1.30000000e-04 9.90006614e-05 2.47501654e-03]\n"
     ]
    },
    {
     "data": {
      "application/vnd.jupyter.widget-view+json": {
       "model_id": "a30764d289a347f890de014e87c9ff1b",
       "version_major": 2,
       "version_minor": 0
      },
      "text/plain": [
       "  0%|          | 0/5 [00:00<?, ?it/s]"
      ]
     },
     "metadata": {},
     "output_type": "display_data"
    },
    {
     "name": "stdout",
     "output_type": "stream",
     "text": [
      "0.9, 1.3000000000000003 : mean chagne - 0.071091, score change - 0.116474\n",
      "after[3.7378089399217926, 7.150932226643093], before[3.666717828362788, 7.034457791343084]\n",
      "[9.00000000e-05 9.00000000e-05 2.25000000e-03 6.85389195e-05\n",
      " 1.71347299e-03]\n",
      "[1.30000000e-04 1.30000000e-04 9.90006614e-05 2.47501654e-03]\n"
     ]
    },
    {
     "data": {
      "application/vnd.jupyter.widget-view+json": {
       "model_id": "9b47c76d883948b1bdecbc71305373b8",
       "version_major": 2,
       "version_minor": 0
      },
      "text/plain": [
       "  0%|          | 0/5 [00:00<?, ?it/s]"
      ]
     },
     "metadata": {},
     "output_type": "display_data"
    },
    {
     "name": "stdout",
     "output_type": "stream",
     "text": [
      "1.0, 1.3000000000000003 : mean chagne - 0.213843, score change - 0.423236\n",
      "after[3.8805608494067183, 7.457693347663346], before[3.666717828362788, 7.034457791343084]\n",
      "[1.00000000e-04 1.00000000e-04 2.50000000e-03 7.61543549e-05\n",
      " 1.90385887e-03]\n",
      "[1.30000000e-04 1.30000000e-04 9.90006614e-05 2.47501654e-03]\n"
     ]
    },
    {
     "data": {
      "application/vnd.jupyter.widget-view+json": {
       "model_id": "ef638cbc872c4ac7a48963eebe40f88a",
       "version_major": 2,
       "version_minor": 0
      },
      "text/plain": [
       "  0%|          | 0/5 [00:00<?, ?it/s]"
      ]
     },
     "metadata": {},
     "output_type": "display_data"
    },
    {
     "name": "stdout",
     "output_type": "stream",
     "text": [
      "1.1, 1.3000000000000003 : mean chagne - 0.109788, score change - 0.268864\n",
      "after[3.7765054408543355, 7.303322016260751], before[3.666717828362788, 7.034457791343084]\n",
      "[1.10000000e-04 1.10000000e-04 2.75000000e-03 8.37697904e-05\n",
      " 2.09424476e-03]\n",
      "[1.30000000e-04 1.30000000e-04 9.90006614e-05 2.47501654e-03]\n"
     ]
    },
    {
     "data": {
      "application/vnd.jupyter.widget-view+json": {
       "model_id": "3457c0d0a27645ad98eb01b061f1ef45",
       "version_major": 2,
       "version_minor": 0
      },
      "text/plain": [
       "  0%|          | 0/5 [00:00<?, ?it/s]"
      ]
     },
     "metadata": {},
     "output_type": "display_data"
    },
    {
     "name": "stdout",
     "output_type": "stream",
     "text": [
      "1.2000000000000002, 1.3000000000000003 : mean chagne - 1.996490, score change - 2.948745\n",
      "after[5.663207732431227, 9.983202727602125], before[3.666717828362788, 7.034457791343084]\n",
      "[1.20000000e-04 1.20000000e-04 3.00000000e-03 9.13852259e-05\n",
      " 2.28463065e-03]\n",
      "[1.30000000e-04 1.30000000e-04 9.90006614e-05 2.47501654e-03]\n"
     ]
    },
    {
     "data": {
      "application/vnd.jupyter.widget-view+json": {
       "model_id": "6d527d92336e48f283a0f8e624f8a024",
       "version_major": 2,
       "version_minor": 0
      },
      "text/plain": [
       "  0%|          | 0/5 [00:00<?, ?it/s]"
      ]
     },
     "metadata": {},
     "output_type": "display_data"
    },
    {
     "name": "stdout",
     "output_type": "stream",
     "text": [
      "1.3000000000000003, 1.3000000000000003 : mean chagne - 0.041258, score change - 0.110795\n",
      "after[3.707975711905489, 7.145252358178811], before[3.666717828362788, 7.034457791343084]\n",
      "[1.30000000e-04 1.30000000e-04 3.25000000e-03 9.90006614e-05\n",
      " 2.47501654e-03]\n",
      "[1.30000000e-04 1.30000000e-04 9.90006614e-05 2.47501654e-03]\n"
     ]
    },
    {
     "data": {
      "application/vnd.jupyter.widget-view+json": {
       "model_id": "0eca30a703cc432e8d7c5993343a5fd9",
       "version_major": 2,
       "version_minor": 0
      },
      "text/plain": [
       "  0%|          | 0/5 [00:00<?, ?it/s]"
      ]
     },
     "metadata": {},
     "output_type": "display_data"
    },
    {
     "name": "stdout",
     "output_type": "stream",
     "text": [
      "1.4000000000000001, 1.3000000000000003 : mean chagne - 0.024838, score change - 0.065630\n",
      "after[3.6915558724569872, 7.100087908064521], before[3.666717828362788, 7.034457791343084]\n",
      "[0.00014    0.00014    0.0035     0.00010662 0.0026654 ]\n",
      "[1.30000000e-04 1.30000000e-04 9.90006614e-05 2.47501654e-03]\n"
     ]
    },
    {
     "data": {
      "application/vnd.jupyter.widget-view+json": {
       "model_id": "77aec0eca0c94097b1ec8916e96af8d2",
       "version_major": 2,
       "version_minor": 0
      },
      "text/plain": [
       "  0%|          | 0/5 [00:00<?, ?it/s]"
      ]
     },
     "metadata": {},
     "output_type": "display_data"
    },
    {
     "name": "stdout",
     "output_type": "stream",
     "text": [
      "1.5000000000000002, 1.3000000000000003 : mean chagne - 0.127984, score change - 0.264054\n",
      "after[3.794701375100092, 7.298511946918555], before[3.666717828362788, 7.034457791343084]\n",
      "[0.00015    0.00015    0.00375    0.00011423 0.00285579]\n",
      "[1.30000000e-04 1.30000000e-04 9.90006614e-05 2.47501654e-03]\n"
     ]
    },
    {
     "data": {
      "application/vnd.jupyter.widget-view+json": {
       "model_id": "a699e3260a3a47ee817f0496310f422e",
       "version_major": 2,
       "version_minor": 0
      },
      "text/plain": [
       "  0%|          | 0/5 [00:00<?, ?it/s]"
      ]
     },
     "metadata": {},
     "output_type": "display_data"
    },
    {
     "name": "stdout",
     "output_type": "stream",
     "text": [
      "1.6, 1.3000000000000003 : mean chagne - 0.028116, score change - 0.048361\n",
      "after[3.6948343114917086, 7.082818719160758], before[3.666717828362788, 7.034457791343084]\n",
      "[0.00016    0.00016    0.004      0.00012185 0.00304617]\n",
      "[1.30000000e-04 1.30000000e-04 9.90006614e-05 2.47501654e-03]\n"
     ]
    },
    {
     "data": {
      "application/vnd.jupyter.widget-view+json": {
       "model_id": "97279d871d304af6949b1f40223350bf",
       "version_major": 2,
       "version_minor": 0
      },
      "text/plain": [
       "  0%|          | 0/5 [00:00<?, ?it/s]"
      ]
     },
     "metadata": {},
     "output_type": "display_data"
    },
    {
     "name": "stdout",
     "output_type": "stream",
     "text": [
      "1.7000000000000002, 1.3000000000000003 : mean chagne - 0.058070, score change - 0.135694\n",
      "after[3.7247883142936136, 7.170151695681781], before[3.666717828362788, 7.034457791343084]\n",
      "[0.00017    0.00017    0.00425    0.00012946 0.00323656]\n",
      "[1.30000000e-04 1.30000000e-04 9.90006614e-05 2.47501654e-03]\n"
     ]
    },
    {
     "data": {
      "application/vnd.jupyter.widget-view+json": {
       "model_id": "f62c1b75e3a64811a1e56cf01d617256",
       "version_major": 2,
       "version_minor": 0
      },
      "text/plain": [
       "  0%|          | 0/5 [00:00<?, ?it/s]"
      ]
     },
     "metadata": {},
     "output_type": "display_data"
    },
    {
     "name": "stdout",
     "output_type": "stream",
     "text": [
      "1.8000000000000003, 1.3000000000000003 : mean chagne - 0.047642, score change - 0.086080\n",
      "after[3.714359592200658, 7.120537867132375], before[3.666717828362788, 7.034457791343084]\n",
      "[0.00018    0.00018    0.0045     0.00013708 0.00342695]\n",
      "[1.30000000e-04 1.30000000e-04 9.90006614e-05 2.47501654e-03]\n"
     ]
    },
    {
     "data": {
      "application/vnd.jupyter.widget-view+json": {
       "model_id": "87908edc6a8b483fad26f3da1592326b",
       "version_major": 2,
       "version_minor": 0
      },
      "text/plain": [
       "  0%|          | 0/5 [00:00<?, ?it/s]"
      ]
     },
     "metadata": {},
     "output_type": "display_data"
    },
    {
     "name": "stdout",
     "output_type": "stream",
     "text": [
      "1.9000000000000001, 1.3000000000000003 : mean chagne - 2.484661, score change - 5.791399\n",
      "after[6.151379241089498, 12.825856825808476], before[3.666717828362788, 7.034457791343084]\n",
      "[0.00019    0.00019    0.00475    0.00014469 0.00361733]\n",
      "[1.30000000e-04 1.30000000e-04 9.90006614e-05 2.47501654e-03]\n"
     ]
    },
    {
     "data": {
      "application/vnd.jupyter.widget-view+json": {
       "model_id": "a6bcc9c3241e40c8a5531d2dacf8a0fe",
       "version_major": 2,
       "version_minor": 0
      },
      "text/plain": [
       "  0%|          | 0/5 [00:00<?, ?it/s]"
      ]
     },
     "metadata": {},
     "output_type": "display_data"
    },
    {
     "name": "stdout",
     "output_type": "stream",
     "text": [
      "0.1, 1.4000000000000001 : mean chagne - 0.522071, score change - 1.112390\n",
      "after[4.188788554774953, 8.146847400531401], before[3.666717828362788, 7.034457791343084]\n",
      "[1.00000000e-05 1.00000000e-05 2.50000000e-04 7.61543549e-06\n",
      " 1.90385887e-04]\n",
      "[0.00014    0.00014    0.00010662 0.0026654 ]\n"
     ]
    },
    {
     "data": {
      "application/vnd.jupyter.widget-view+json": {
       "model_id": "cab93a090a7843ebb090422257c5f12c",
       "version_major": 2,
       "version_minor": 0
      },
      "text/plain": [
       "  0%|          | 0/5 [00:00<?, ?it/s]"
      ]
     },
     "metadata": {},
     "output_type": "display_data"
    },
    {
     "name": "stdout",
     "output_type": "stream",
     "text": [
      "0.2, 1.4000000000000001 : mean chagne - 0.226052, score change - 0.426108\n",
      "after[3.892769936570705, 7.460565454876237], before[3.666717828362788, 7.034457791343084]\n",
      "[2.00000000e-05 2.00000000e-05 5.00000000e-04 1.52308710e-05\n",
      " 3.80771775e-04]\n",
      "[0.00014    0.00014    0.00010662 0.0026654 ]\n"
     ]
    },
    {
     "data": {
      "application/vnd.jupyter.widget-view+json": {
       "model_id": "0e2aefe67cdf4af190f06c1388280e49",
       "version_major": 2,
       "version_minor": 0
      },
      "text/plain": [
       "  0%|          | 0/5 [00:00<?, ?it/s]"
      ]
     },
     "metadata": {},
     "output_type": "display_data"
    },
    {
     "name": "stdout",
     "output_type": "stream",
     "text": [
      "0.30000000000000004, 1.4000000000000001 : mean chagne - 1.384916, score change - 3.080245\n",
      "after[5.051634294325851, 10.114702489062157], before[3.666717828362788, 7.034457791343084]\n",
      "[3.00000000e-05 3.00000000e-05 7.50000000e-04 2.28463065e-05\n",
      " 5.71157662e-04]\n",
      "[0.00014    0.00014    0.00010662 0.0026654 ]\n"
     ]
    },
    {
     "data": {
      "application/vnd.jupyter.widget-view+json": {
       "model_id": "195c09585930410ca251903d12ad98bc",
       "version_major": 2,
       "version_minor": 0
      },
      "text/plain": [
       "  0%|          | 0/5 [00:00<?, ?it/s]"
      ]
     },
     "metadata": {},
     "output_type": "display_data"
    },
    {
     "name": "stdout",
     "output_type": "stream",
     "text": [
      "0.4, 1.4000000000000001 : mean chagne - 0.508078, score change - 1.203333\n",
      "after[4.174796145837732, 8.237790471423825], before[3.666717828362788, 7.034457791343084]\n",
      "[4.00000000e-05 4.00000000e-05 1.00000000e-03 3.04617420e-05\n",
      " 7.61543549e-04]\n",
      "[0.00014    0.00014    0.00010662 0.0026654 ]\n"
     ]
    },
    {
     "data": {
      "application/vnd.jupyter.widget-view+json": {
       "model_id": "f60f5a5a3df74e4fbb247194d008bd76",
       "version_major": 2,
       "version_minor": 0
      },
      "text/plain": [
       "  0%|          | 0/5 [00:00<?, ?it/s]"
      ]
     },
     "metadata": {},
     "output_type": "display_data"
    },
    {
     "name": "stdout",
     "output_type": "stream",
     "text": [
      "0.5, 1.4000000000000001 : mean chagne - 0.218403, score change - 0.402720\n",
      "after[3.8851204227185403, 7.437178051572613], before[3.666717828362788, 7.034457791343084]\n",
      "[5.00000000e-05 5.00000000e-05 1.25000000e-03 3.80771775e-05\n",
      " 9.51929437e-04]\n",
      "[0.00014    0.00014    0.00010662 0.0026654 ]\n"
     ]
    },
    {
     "data": {
      "application/vnd.jupyter.widget-view+json": {
       "model_id": "c30c12e684ff4186938b247298950460",
       "version_major": 2,
       "version_minor": 0
      },
      "text/plain": [
       "  0%|          | 0/5 [00:00<?, ?it/s]"
      ]
     },
     "metadata": {},
     "output_type": "display_data"
    },
    {
     "name": "stdout",
     "output_type": "stream",
     "text": [
      "0.6, 1.4000000000000001 : mean chagne - 0.288515, score change - 0.627569\n",
      "after[3.9552328725071795, 7.6620268695378995], before[3.666717828362788, 7.034457791343084]\n",
      "[6.00000000e-05 6.00000000e-05 1.50000000e-03 4.56926130e-05\n",
      " 1.14231532e-03]\n",
      "[0.00014    0.00014    0.00010662 0.0026654 ]\n"
     ]
    },
    {
     "data": {
      "application/vnd.jupyter.widget-view+json": {
       "model_id": "1c36f3edaabd491890abc970a90ecb3f",
       "version_major": 2,
       "version_minor": 0
      },
      "text/plain": [
       "  0%|          | 0/5 [00:00<?, ?it/s]"
      ]
     },
     "metadata": {},
     "output_type": "display_data"
    },
    {
     "name": "stdout",
     "output_type": "stream",
     "text": [
      "0.7000000000000001, 1.4000000000000001 : mean chagne - 0.254360, score change - 0.597360\n",
      "after[3.921078085119488, 7.6318174383034405], before[3.666717828362788, 7.034457791343084]\n",
      "[7.00000000e-05 7.00000000e-05 1.75000000e-03 5.33080485e-05\n",
      " 1.33270121e-03]\n",
      "[0.00014    0.00014    0.00010662 0.0026654 ]\n"
     ]
    },
    {
     "data": {
      "application/vnd.jupyter.widget-view+json": {
       "model_id": "e0df47ea8af34a029dce102572d4f3d1",
       "version_major": 2,
       "version_minor": 0
      },
      "text/plain": [
       "  0%|          | 0/5 [00:00<?, ?it/s]"
      ]
     },
     "metadata": {},
     "output_type": "display_data"
    },
    {
     "name": "stdout",
     "output_type": "stream",
     "text": [
      "0.8, 1.4000000000000001 : mean chagne - 0.179752, score change - 0.458735\n",
      "after[3.846469584972546, 7.493192935342776], before[3.666717828362788, 7.034457791343084]\n",
      "[8.0000000e-05 8.0000000e-05 2.0000000e-03 6.0923484e-05 1.5230871e-03]\n",
      "[0.00014    0.00014    0.00010662 0.0026654 ]\n"
     ]
    },
    {
     "data": {
      "application/vnd.jupyter.widget-view+json": {
       "model_id": "99dee233f5e14bf3b27e32c20f25d67c",
       "version_major": 2,
       "version_minor": 0
      },
      "text/plain": [
       "  0%|          | 0/5 [00:00<?, ?it/s]"
      ]
     },
     "metadata": {},
     "output_type": "display_data"
    },
    {
     "name": "stdout",
     "output_type": "stream",
     "text": [
      "0.9, 1.4000000000000001 : mean chagne - 0.153117, score change - 0.393718\n",
      "after[3.8198344880998567, 7.428175594739739], before[3.666717828362788, 7.034457791343084]\n",
      "[9.00000000e-05 9.00000000e-05 2.25000000e-03 6.85389195e-05\n",
      " 1.71347299e-03]\n",
      "[0.00014    0.00014    0.00010662 0.0026654 ]\n"
     ]
    },
    {
     "data": {
      "application/vnd.jupyter.widget-view+json": {
       "model_id": "c3a61b357b614df483c61a3faac67246",
       "version_major": 2,
       "version_minor": 0
      },
      "text/plain": [
       "  0%|          | 0/5 [00:00<?, ?it/s]"
      ]
     },
     "metadata": {},
     "output_type": "display_data"
    },
    {
     "name": "stdout",
     "output_type": "stream",
     "text": [
      "1.0, 1.4000000000000001 : mean chagne - 0.198018, score change - 0.519245\n",
      "after[3.8647358036284065, 7.553702328927351], before[3.666717828362788, 7.034457791343084]\n",
      "[1.00000000e-04 1.00000000e-04 2.50000000e-03 7.61543549e-05\n",
      " 1.90385887e-03]\n",
      "[0.00014    0.00014    0.00010662 0.0026654 ]\n"
     ]
    },
    {
     "data": {
      "application/vnd.jupyter.widget-view+json": {
       "model_id": "85cfba3648e148fb8ff48770bb8b89e8",
       "version_major": 2,
       "version_minor": 0
      },
      "text/plain": [
       "  0%|          | 0/5 [00:00<?, ?it/s]"
      ]
     },
     "metadata": {},
     "output_type": "display_data"
    },
    {
     "name": "stdout",
     "output_type": "stream",
     "text": [
      "1.1, 1.4000000000000001 : mean chagne - 0.090379, score change - 0.197307\n",
      "after[3.7570963329795704, 7.231765265705844], before[3.666717828362788, 7.034457791343084]\n",
      "[1.10000000e-04 1.10000000e-04 2.75000000e-03 8.37697904e-05\n",
      " 2.09424476e-03]\n",
      "[0.00014    0.00014    0.00010662 0.0026654 ]\n"
     ]
    },
    {
     "data": {
      "application/vnd.jupyter.widget-view+json": {
       "model_id": "468c1d1289494f7fbcb67840b0430bf1",
       "version_major": 2,
       "version_minor": 0
      },
      "text/plain": [
       "  0%|          | 0/5 [00:00<?, ?it/s]"
      ]
     },
     "metadata": {},
     "output_type": "display_data"
    },
    {
     "name": "stdout",
     "output_type": "stream",
     "text": [
      "1.2000000000000002, 1.4000000000000001 : mean chagne - 0.126493, score change - 0.230735\n",
      "after[3.7932107784139006, 7.265193059851657], before[3.666717828362788, 7.034457791343084]\n",
      "[1.20000000e-04 1.20000000e-04 3.00000000e-03 9.13852259e-05\n",
      " 2.28463065e-03]\n",
      "[0.00014    0.00014    0.00010662 0.0026654 ]\n"
     ]
    },
    {
     "data": {
      "application/vnd.jupyter.widget-view+json": {
       "model_id": "4251f1bacfea4aefa3e07fbe4fb43c77",
       "version_major": 2,
       "version_minor": 0
      },
      "text/plain": [
       "  0%|          | 0/5 [00:00<?, ?it/s]"
      ]
     },
     "metadata": {},
     "output_type": "display_data"
    },
    {
     "name": "stdout",
     "output_type": "stream",
     "text": [
      "1.3000000000000003, 1.4000000000000001 : mean chagne - 2.204255, score change - 6.820542\n",
      "after[5.870972685473492, 13.85499951371816], before[3.666717828362788, 7.034457791343084]\n",
      "[1.30000000e-04 1.30000000e-04 3.25000000e-03 9.90006614e-05\n",
      " 2.47501654e-03]\n",
      "[0.00014    0.00014    0.00010662 0.0026654 ]\n"
     ]
    },
    {
     "data": {
      "application/vnd.jupyter.widget-view+json": {
       "model_id": "ffd79f9c9c0142f8ae68275b6ddc2b21",
       "version_major": 2,
       "version_minor": 0
      },
      "text/plain": [
       "  0%|          | 0/5 [00:00<?, ?it/s]"
      ]
     },
     "metadata": {},
     "output_type": "display_data"
    },
    {
     "name": "stdout",
     "output_type": "stream",
     "text": [
      "1.4000000000000001, 1.4000000000000001 : mean chagne - 0.093182, score change - 0.229768\n",
      "after[3.759899571126134, 7.264226287241735], before[3.666717828362788, 7.034457791343084]\n",
      "[0.00014    0.00014    0.0035     0.00010662 0.0026654 ]\n",
      "[0.00014    0.00014    0.00010662 0.0026654 ]\n"
     ]
    },
    {
     "data": {
      "application/vnd.jupyter.widget-view+json": {
       "model_id": "f30d0faf9af84437b4ecfba15d8c80f4",
       "version_major": 2,
       "version_minor": 0
      },
      "text/plain": [
       "  0%|          | 0/5 [00:00<?, ?it/s]"
      ]
     },
     "metadata": {},
     "output_type": "display_data"
    },
    {
     "name": "stdout",
     "output_type": "stream",
     "text": [
      "1.5000000000000002, 1.4000000000000001 : mean chagne - 0.060270, score change - 0.143345\n",
      "after[3.7269878600389035, 7.177802374543579], before[3.666717828362788, 7.034457791343084]\n",
      "[0.00015    0.00015    0.00375    0.00011423 0.00285579]\n",
      "[0.00014    0.00014    0.00010662 0.0026654 ]\n"
     ]
    },
    {
     "data": {
      "application/vnd.jupyter.widget-view+json": {
       "model_id": "e85098803dc04ee2bf0ae59dc2dd7cdc",
       "version_major": 2,
       "version_minor": 0
      },
      "text/plain": [
       "  0%|          | 0/5 [00:00<?, ?it/s]"
      ]
     },
     "metadata": {},
     "output_type": "display_data"
    },
    {
     "name": "stdout",
     "output_type": "stream",
     "text": [
      "1.6, 1.4000000000000001 : mean chagne - 0.100322, score change - 0.172233\n",
      "after[3.7670398419593063, 7.206690831292957], before[3.666717828362788, 7.034457791343084]\n",
      "[0.00016    0.00016    0.004      0.00012185 0.00304617]\n",
      "[0.00014    0.00014    0.00010662 0.0026654 ]\n"
     ]
    },
    {
     "data": {
      "application/vnd.jupyter.widget-view+json": {
       "model_id": "fb64b808ff234387981e22d69a137351",
       "version_major": 2,
       "version_minor": 0
      },
      "text/plain": [
       "  0%|          | 0/5 [00:00<?, ?it/s]"
      ]
     },
     "metadata": {},
     "output_type": "display_data"
    },
    {
     "name": "stdout",
     "output_type": "stream",
     "text": [
      "1.7000000000000002, 1.4000000000000001 : mean chagne - 0.224329, score change - 0.206207\n",
      "after[3.891046873687385, 7.240664340870214], before[3.666717828362788, 7.034457791343084]\n",
      "[0.00017    0.00017    0.00425    0.00012946 0.00323656]\n",
      "[0.00014    0.00014    0.00010662 0.0026654 ]\n"
     ]
    },
    {
     "data": {
      "application/vnd.jupyter.widget-view+json": {
       "model_id": "5938a7a0e2124e99acee2f8af39ec472",
       "version_major": 2,
       "version_minor": 0
      },
      "text/plain": [
       "  0%|          | 0/5 [00:00<?, ?it/s]"
      ]
     },
     "metadata": {},
     "output_type": "display_data"
    },
    {
     "name": "stdout",
     "output_type": "stream",
     "text": [
      "1.8000000000000003, 1.4000000000000001 : mean chagne - 0.061811, score change - 0.139302\n",
      "after[3.728528927570684, 7.173760055207413], before[3.666717828362788, 7.034457791343084]\n",
      "[0.00018    0.00018    0.0045     0.00013708 0.00342695]\n",
      "[0.00014    0.00014    0.00010662 0.0026654 ]\n"
     ]
    },
    {
     "data": {
      "application/vnd.jupyter.widget-view+json": {
       "model_id": "9c45572835f1441bb27c3c211833a4a5",
       "version_major": 2,
       "version_minor": 0
      },
      "text/plain": [
       "  0%|          | 0/5 [00:00<?, ?it/s]"
      ]
     },
     "metadata": {},
     "output_type": "display_data"
    },
    {
     "name": "stdout",
     "output_type": "stream",
     "text": [
      "1.9000000000000001, 1.4000000000000001 : mean chagne - 0.073424, score change - 0.106886\n",
      "after[3.7401417106445294, 7.141344281263036], before[3.666717828362788, 7.034457791343084]\n",
      "[0.00019    0.00019    0.00475    0.00014469 0.00361733]\n",
      "[0.00014    0.00014    0.00010662 0.0026654 ]\n"
     ]
    },
    {
     "data": {
      "application/vnd.jupyter.widget-view+json": {
       "model_id": "e6d7655b331448c19a2e345247ab7cab",
       "version_major": 2,
       "version_minor": 0
      },
      "text/plain": [
       "  0%|          | 0/5 [00:00<?, ?it/s]"
      ]
     },
     "metadata": {},
     "output_type": "display_data"
    },
    {
     "name": "stdout",
     "output_type": "stream",
     "text": [
      "0.1, 1.5000000000000002 : mean chagne - 0.584624, score change - 1.328543\n",
      "after[4.251342315244845, 8.363000899476612], before[3.666717828362788, 7.034457791343084]\n",
      "[1.00000000e-05 1.00000000e-05 2.50000000e-04 7.61543549e-06\n",
      " 1.90385887e-04]\n",
      "[0.00015    0.00015    0.00011423 0.00285579]\n"
     ]
    },
    {
     "data": {
      "application/vnd.jupyter.widget-view+json": {
       "model_id": "5af522874fae4a1284fd2dbcdcef4961",
       "version_major": 2,
       "version_minor": 0
      },
      "text/plain": [
       "  0%|          | 0/5 [00:00<?, ?it/s]"
      ]
     },
     "metadata": {},
     "output_type": "display_data"
    },
    {
     "name": "stdout",
     "output_type": "stream",
     "text": [
      "0.2, 1.5000000000000002 : mean chagne - 0.962724, score change - 2.046684\n",
      "after[4.6294418240335835, 9.081141492425658], before[3.666717828362788, 7.034457791343084]\n",
      "[2.00000000e-05 2.00000000e-05 5.00000000e-04 1.52308710e-05\n",
      " 3.80771775e-04]\n",
      "[0.00015    0.00015    0.00011423 0.00285579]\n"
     ]
    },
    {
     "data": {
      "application/vnd.jupyter.widget-view+json": {
       "model_id": "2d6909152f364964bf578a5420bfb158",
       "version_major": 2,
       "version_minor": 0
      },
      "text/plain": [
       "  0%|          | 0/5 [00:00<?, ?it/s]"
      ]
     },
     "metadata": {},
     "output_type": "display_data"
    },
    {
     "name": "stdout",
     "output_type": "stream",
     "text": [
      "0.30000000000000004, 1.5000000000000002 : mean chagne - 0.361717, score change - 0.737742\n",
      "after[4.02843471213126, 7.772200140028417], before[3.666717828362788, 7.034457791343084]\n",
      "[3.00000000e-05 3.00000000e-05 7.50000000e-04 2.28463065e-05\n",
      " 5.71157662e-04]\n",
      "[0.00015    0.00015    0.00011423 0.00285579]\n"
     ]
    },
    {
     "data": {
      "application/vnd.jupyter.widget-view+json": {
       "model_id": "dfb758cc166e4ae2b27b65707426eb34",
       "version_major": 2,
       "version_minor": 0
      },
      "text/plain": [
       "  0%|          | 0/5 [00:00<?, ?it/s]"
      ]
     },
     "metadata": {},
     "output_type": "display_data"
    },
    {
     "name": "stdout",
     "output_type": "stream",
     "text": [
      "0.4, 1.5000000000000002 : mean chagne - 0.512564, score change - 1.165671\n",
      "after[4.1792817414289445, 8.200128940129588], before[3.666717828362788, 7.034457791343084]\n",
      "[4.00000000e-05 4.00000000e-05 1.00000000e-03 3.04617420e-05\n",
      " 7.61543549e-04]\n",
      "[0.00015    0.00015    0.00011423 0.00285579]\n"
     ]
    },
    {
     "data": {
      "application/vnd.jupyter.widget-view+json": {
       "model_id": "c382bd487a1b491da4493c0e614b80a4",
       "version_major": 2,
       "version_minor": 0
      },
      "text/plain": [
       "  0%|          | 0/5 [00:00<?, ?it/s]"
      ]
     },
     "metadata": {},
     "output_type": "display_data"
    },
    {
     "name": "stdout",
     "output_type": "stream",
     "text": [
      "0.5, 1.5000000000000002 : mean chagne - 0.200048, score change - 0.305040\n",
      "after[3.866765658384798, 7.339498270535249], before[3.666717828362788, 7.034457791343084]\n",
      "[5.00000000e-05 5.00000000e-05 1.25000000e-03 3.80771775e-05\n",
      " 9.51929437e-04]\n",
      "[0.00015    0.00015    0.00011423 0.00285579]\n"
     ]
    },
    {
     "data": {
      "application/vnd.jupyter.widget-view+json": {
       "model_id": "5697f3425f964857abfa7d7a9a9c5d5c",
       "version_major": 2,
       "version_minor": 0
      },
      "text/plain": [
       "  0%|          | 0/5 [00:00<?, ?it/s]"
      ]
     },
     "metadata": {},
     "output_type": "display_data"
    },
    {
     "name": "stdout",
     "output_type": "stream",
     "text": [
      "0.6, 1.5000000000000002 : mean chagne - 0.139845, score change - 0.214277\n",
      "after[3.8065623893567664, 7.24873524585054], before[3.666717828362788, 7.034457791343084]\n",
      "[6.00000000e-05 6.00000000e-05 1.50000000e-03 4.56926130e-05\n",
      " 1.14231532e-03]\n",
      "[0.00015    0.00015    0.00011423 0.00285579]\n"
     ]
    },
    {
     "data": {
      "application/vnd.jupyter.widget-view+json": {
       "model_id": "8ca001a339ec48d780bfdc6f67421cb9",
       "version_major": 2,
       "version_minor": 0
      },
      "text/plain": [
       "  0%|          | 0/5 [00:00<?, ?it/s]"
      ]
     },
     "metadata": {},
     "output_type": "display_data"
    },
    {
     "name": "stdout",
     "output_type": "stream",
     "text": [
      "0.7000000000000001, 1.5000000000000002 : mean chagne - 0.184207, score change - 0.315255\n",
      "after[3.850924680509383, 7.349712360061889], before[3.666717828362788, 7.034457791343084]\n",
      "[7.00000000e-05 7.00000000e-05 1.75000000e-03 5.33080485e-05\n",
      " 1.33270121e-03]\n",
      "[0.00015    0.00015    0.00011423 0.00285579]\n"
     ]
    },
    {
     "data": {
      "application/vnd.jupyter.widget-view+json": {
       "model_id": "dd2173b4b2384b699e529ad993ad3847",
       "version_major": 2,
       "version_minor": 0
      },
      "text/plain": [
       "  0%|          | 0/5 [00:00<?, ?it/s]"
      ]
     },
     "metadata": {},
     "output_type": "display_data"
    },
    {
     "name": "stdout",
     "output_type": "stream",
     "text": [
      "0.8, 1.5000000000000002 : mean chagne - 22.161426, score change - 79.412309\n",
      "after[25.828143381739746, 86.44676678608224], before[3.666717828362788, 7.034457791343084]\n",
      "[8.0000000e-05 8.0000000e-05 2.0000000e-03 6.0923484e-05 1.5230871e-03]\n",
      "[0.00015    0.00015    0.00011423 0.00285579]\n"
     ]
    },
    {
     "data": {
      "application/vnd.jupyter.widget-view+json": {
       "model_id": "7f43bae213394514babd185d084c1824",
       "version_major": 2,
       "version_minor": 0
      },
      "text/plain": [
       "  0%|          | 0/5 [00:00<?, ?it/s]"
      ]
     },
     "metadata": {},
     "output_type": "display_data"
    },
    {
     "name": "stdout",
     "output_type": "stream",
     "text": [
      "0.9, 1.5000000000000002 : mean chagne - 0.200867, score change - 0.461682\n",
      "after[3.86758451163527, 7.496139514725163], before[3.666717828362788, 7.034457791343084]\n",
      "[9.00000000e-05 9.00000000e-05 2.25000000e-03 6.85389195e-05\n",
      " 1.71347299e-03]\n",
      "[0.00015    0.00015    0.00011423 0.00285579]\n"
     ]
    },
    {
     "data": {
      "application/vnd.jupyter.widget-view+json": {
       "model_id": "915e50d1a72446ea9fd0a8b5e4c58a6c",
       "version_major": 2,
       "version_minor": 0
      },
      "text/plain": [
       "  0%|          | 0/5 [00:00<?, ?it/s]"
      ]
     },
     "metadata": {},
     "output_type": "display_data"
    },
    {
     "name": "stdout",
     "output_type": "stream",
     "text": [
      "1.0, 1.5000000000000002 : mean chagne - 1.000721, score change - 1.152941\n",
      "after[4.66743854543374, 8.18739856869784], before[3.666717828362788, 7.034457791343084]\n",
      "[1.00000000e-04 1.00000000e-04 2.50000000e-03 7.61543549e-05\n",
      " 1.90385887e-03]\n",
      "[0.00015    0.00015    0.00011423 0.00285579]\n"
     ]
    },
    {
     "data": {
      "application/vnd.jupyter.widget-view+json": {
       "model_id": "5f7a1d13a99641c09855f5e0cfd783ef",
       "version_major": 2,
       "version_minor": 0
      },
      "text/plain": [
       "  0%|          | 0/5 [00:00<?, ?it/s]"
      ]
     },
     "metadata": {},
     "output_type": "display_data"
    },
    {
     "name": "stdout",
     "output_type": "stream",
     "text": [
      "1.1, 1.5000000000000002 : mean chagne - 0.195522, score change - 0.379113\n",
      "after[3.8622394048369095, 7.413570332234324], before[3.666717828362788, 7.034457791343084]\n",
      "[1.10000000e-04 1.10000000e-04 2.75000000e-03 8.37697904e-05\n",
      " 2.09424476e-03]\n",
      "[0.00015    0.00015    0.00011423 0.00285579]\n"
     ]
    },
    {
     "data": {
      "application/vnd.jupyter.widget-view+json": {
       "model_id": "f4c41032247a4829a75ec8fbb5fb8815",
       "version_major": 2,
       "version_minor": 0
      },
      "text/plain": [
       "  0%|          | 0/5 [00:00<?, ?it/s]"
      ]
     },
     "metadata": {},
     "output_type": "display_data"
    },
    {
     "name": "stdout",
     "output_type": "stream",
     "text": [
      "1.2000000000000002, 1.5000000000000002 : mean chagne - 0.183978, score change - 0.426570\n",
      "after[3.8506956819850786, 7.461027952385573], before[3.666717828362788, 7.034457791343084]\n",
      "[1.20000000e-04 1.20000000e-04 3.00000000e-03 9.13852259e-05\n",
      " 2.28463065e-03]\n",
      "[0.00015    0.00015    0.00011423 0.00285579]\n"
     ]
    },
    {
     "data": {
      "application/vnd.jupyter.widget-view+json": {
       "model_id": "5ca6b02d54f14ec1a96f27d07f1a1822",
       "version_major": 2,
       "version_minor": 0
      },
      "text/plain": [
       "  0%|          | 0/5 [00:00<?, ?it/s]"
      ]
     },
     "metadata": {},
     "output_type": "display_data"
    },
    {
     "name": "stdout",
     "output_type": "stream",
     "text": [
      "1.3000000000000003, 1.5000000000000002 : mean chagne - 0.077046, score change - 0.167334\n",
      "after[3.743764181760781, 7.2017916274321605], before[3.666717828362788, 7.034457791343084]\n",
      "[1.30000000e-04 1.30000000e-04 3.25000000e-03 9.90006614e-05\n",
      " 2.47501654e-03]\n",
      "[0.00015    0.00015    0.00011423 0.00285579]\n"
     ]
    },
    {
     "data": {
      "application/vnd.jupyter.widget-view+json": {
       "model_id": "20baa0826b554883a7d7f4dd4a8d0f4f",
       "version_major": 2,
       "version_minor": 0
      },
      "text/plain": [
       "  0%|          | 0/5 [00:00<?, ?it/s]"
      ]
     },
     "metadata": {},
     "output_type": "display_data"
    },
    {
     "name": "stdout",
     "output_type": "stream",
     "text": [
      "1.4000000000000001, 1.5000000000000002 : mean chagne - 0.144882, score change - 0.335136\n",
      "after[3.8115995665524562, 7.369593755313664], before[3.666717828362788, 7.034457791343084]\n",
      "[0.00014    0.00014    0.0035     0.00010662 0.0026654 ]\n",
      "[0.00015    0.00015    0.00011423 0.00285579]\n"
     ]
    },
    {
     "data": {
      "application/vnd.jupyter.widget-view+json": {
       "model_id": "f4cf72e49b004237bde2654665371688",
       "version_major": 2,
       "version_minor": 0
      },
      "text/plain": [
       "  0%|          | 0/5 [00:00<?, ?it/s]"
      ]
     },
     "metadata": {},
     "output_type": "display_data"
    },
    {
     "name": "stdout",
     "output_type": "stream",
     "text": [
      "1.5000000000000002, 1.5000000000000002 : mean chagne - 0.410780, score change - 0.928407\n",
      "after[4.077497495236941, 7.962864915852609], before[3.666717828362788, 7.034457791343084]\n",
      "[0.00015    0.00015    0.00375    0.00011423 0.00285579]\n",
      "[0.00015    0.00015    0.00011423 0.00285579]\n"
     ]
    },
    {
     "data": {
      "application/vnd.jupyter.widget-view+json": {
       "model_id": "b0629d3d41de4a6a8a5bd8af9bc2ab3f",
       "version_major": 2,
       "version_minor": 0
      },
      "text/plain": [
       "  0%|          | 0/5 [00:00<?, ?it/s]"
      ]
     },
     "metadata": {},
     "output_type": "display_data"
    },
    {
     "name": "stdout",
     "output_type": "stream",
     "text": [
      "1.6, 1.5000000000000002 : mean chagne - 0.031414, score change - 0.052960\n",
      "after[3.6981317421910362, 7.087417496036267], before[3.666717828362788, 7.034457791343084]\n",
      "[0.00016    0.00016    0.004      0.00012185 0.00304617]\n",
      "[0.00015    0.00015    0.00011423 0.00285579]\n"
     ]
    },
    {
     "data": {
      "application/vnd.jupyter.widget-view+json": {
       "model_id": "bd1715f50e3e465180a2b814c990c9c8",
       "version_major": 2,
       "version_minor": 0
      },
      "text/plain": [
       "  0%|          | 0/5 [00:00<?, ?it/s]"
      ]
     },
     "metadata": {},
     "output_type": "display_data"
    },
    {
     "name": "stdout",
     "output_type": "stream",
     "text": [
      "1.7000000000000002, 1.5000000000000002 : mean chagne - 0.033683, score change - 0.059135\n",
      "after[3.700400389192703, 7.093592686311121], before[3.666717828362788, 7.034457791343084]\n",
      "[0.00017    0.00017    0.00425    0.00012946 0.00323656]\n",
      "[0.00015    0.00015    0.00011423 0.00285579]\n"
     ]
    },
    {
     "data": {
      "application/vnd.jupyter.widget-view+json": {
       "model_id": "8fad233711304122abfbb64726ddaf42",
       "version_major": 2,
       "version_minor": 0
      },
      "text/plain": [
       "  0%|          | 0/5 [00:00<?, ?it/s]"
      ]
     },
     "metadata": {},
     "output_type": "display_data"
    },
    {
     "name": "stdout",
     "output_type": "stream",
     "text": [
      "1.8000000000000003, 1.5000000000000002 : mean chagne - 0.014182, score change - 0.046872\n",
      "after[3.6809001412679474, 7.081329950716459], before[3.666717828362788, 7.034457791343084]\n",
      "[0.00018    0.00018    0.0045     0.00013708 0.00342695]\n",
      "[0.00015    0.00015    0.00011423 0.00285579]\n"
     ]
    },
    {
     "data": {
      "application/vnd.jupyter.widget-view+json": {
       "model_id": "2baeee22d9aa4c868e284bd9fdd31d52",
       "version_major": 2,
       "version_minor": 0
      },
      "text/plain": [
       "  0%|          | 0/5 [00:00<?, ?it/s]"
      ]
     },
     "metadata": {},
     "output_type": "display_data"
    },
    {
     "name": "stdout",
     "output_type": "stream",
     "text": [
      "1.9000000000000001, 1.5000000000000002 : mean chagne - 0.066890, score change - 0.117166\n",
      "after[3.73360793510377, 7.151623531385743], before[3.666717828362788, 7.034457791343084]\n",
      "[0.00019    0.00019    0.00475    0.00014469 0.00361733]\n",
      "[0.00015    0.00015    0.00011423 0.00285579]\n"
     ]
    },
    {
     "data": {
      "application/vnd.jupyter.widget-view+json": {
       "model_id": "907056a4841e401ba75ca5a6d3b20f84",
       "version_major": 2,
       "version_minor": 0
      },
      "text/plain": [
       "  0%|          | 0/5 [00:00<?, ?it/s]"
      ]
     },
     "metadata": {},
     "output_type": "display_data"
    },
    {
     "name": "stdout",
     "output_type": "stream",
     "text": [
      "0.1, 1.6 : mean chagne - 1.289275, score change - 2.961400\n",
      "after[4.955992651707892, 9.995857375833971], before[3.666717828362788, 7.034457791343084]\n",
      "[1.00000000e-05 1.00000000e-05 2.50000000e-04 7.61543549e-06\n",
      " 1.90385887e-04]\n",
      "[0.00016    0.00016    0.00012185 0.00304617]\n"
     ]
    },
    {
     "data": {
      "application/vnd.jupyter.widget-view+json": {
       "model_id": "3a8140a20cd545a0a9813e49730a864c",
       "version_major": 2,
       "version_minor": 0
      },
      "text/plain": [
       "  0%|          | 0/5 [00:00<?, ?it/s]"
      ]
     },
     "metadata": {},
     "output_type": "display_data"
    },
    {
     "name": "stdout",
     "output_type": "stream",
     "text": [
      "0.2, 1.6 : mean chagne - 0.734352, score change - 1.475326\n",
      "after[4.401069338489303, 8.509784260085121], before[3.666717828362788, 7.034457791343084]\n",
      "[2.00000000e-05 2.00000000e-05 5.00000000e-04 1.52308710e-05\n",
      " 3.80771775e-04]\n",
      "[0.00016    0.00016    0.00012185 0.00304617]\n"
     ]
    },
    {
     "data": {
      "application/vnd.jupyter.widget-view+json": {
       "model_id": "aa89d3c2bc934a2e81c58da490d742ef",
       "version_major": 2,
       "version_minor": 0
      },
      "text/plain": [
       "  0%|          | 0/5 [00:00<?, ?it/s]"
      ]
     },
     "metadata": {},
     "output_type": "display_data"
    },
    {
     "name": "stdout",
     "output_type": "stream",
     "text": [
      "0.30000000000000004, 1.6 : mean chagne - 0.424970, score change - 0.988018\n",
      "after[4.091687821713883, 8.022475493823626], before[3.666717828362788, 7.034457791343084]\n",
      "[3.00000000e-05 3.00000000e-05 7.50000000e-04 2.28463065e-05\n",
      " 5.71157662e-04]\n",
      "[0.00016    0.00016    0.00012185 0.00304617]\n"
     ]
    },
    {
     "data": {
      "application/vnd.jupyter.widget-view+json": {
       "model_id": "657d627af4204fd5bff5bb4d9f09eb95",
       "version_major": 2,
       "version_minor": 0
      },
      "text/plain": [
       "  0%|          | 0/5 [00:00<?, ?it/s]"
      ]
     },
     "metadata": {},
     "output_type": "display_data"
    },
    {
     "name": "stdout",
     "output_type": "stream",
     "text": [
      "0.4, 1.6 : mean chagne - 0.250100, score change - 0.536304\n",
      "after[3.9168173313897956, 7.570761899025074], before[3.666717828362788, 7.034457791343084]\n",
      "[4.00000000e-05 4.00000000e-05 1.00000000e-03 3.04617420e-05\n",
      " 7.61543549e-04]\n",
      "[0.00016    0.00016    0.00012185 0.00304617]\n"
     ]
    },
    {
     "data": {
      "application/vnd.jupyter.widget-view+json": {
       "model_id": "c42f83da326a4ec1a0e8b26c0194732a",
       "version_major": 2,
       "version_minor": 0
      },
      "text/plain": [
       "  0%|          | 0/5 [00:00<?, ?it/s]"
      ]
     },
     "metadata": {},
     "output_type": "display_data"
    },
    {
     "name": "stdout",
     "output_type": "stream",
     "text": [
      "0.5, 1.6 : mean chagne - 0.197437, score change - 0.341240\n",
      "after[3.8641553126616373, 7.375697412650777], before[3.666717828362788, 7.034457791343084]\n",
      "[5.00000000e-05 5.00000000e-05 1.25000000e-03 3.80771775e-05\n",
      " 9.51929437e-04]\n",
      "[0.00016    0.00016    0.00012185 0.00304617]\n"
     ]
    },
    {
     "data": {
      "application/vnd.jupyter.widget-view+json": {
       "model_id": "521fa62b93c044e9b9a5e59083452e28",
       "version_major": 2,
       "version_minor": 0
      },
      "text/plain": [
       "  0%|          | 0/5 [00:00<?, ?it/s]"
      ]
     },
     "metadata": {},
     "output_type": "display_data"
    },
    {
     "name": "stdout",
     "output_type": "stream",
     "text": [
      "0.6, 1.6 : mean chagne - 0.252693, score change - 0.628037\n",
      "after[3.9194107684827157, 7.662494506338187], before[3.666717828362788, 7.034457791343084]\n",
      "[6.00000000e-05 6.00000000e-05 1.50000000e-03 4.56926130e-05\n",
      " 1.14231532e-03]\n",
      "[0.00016    0.00016    0.00012185 0.00304617]\n"
     ]
    },
    {
     "data": {
      "application/vnd.jupyter.widget-view+json": {
       "model_id": "952f7c52357c49b18adf7408b514a8a3",
       "version_major": 2,
       "version_minor": 0
      },
      "text/plain": [
       "  0%|          | 0/5 [00:00<?, ?it/s]"
      ]
     },
     "metadata": {},
     "output_type": "display_data"
    },
    {
     "name": "stdout",
     "output_type": "stream",
     "text": [
      "0.7000000000000001, 1.6 : mean chagne - 0.324470, score change - 0.846924\n",
      "after[3.991188084382869, 7.881381380572966], before[3.666717828362788, 7.034457791343084]\n",
      "[7.00000000e-05 7.00000000e-05 1.75000000e-03 5.33080485e-05\n",
      " 1.33270121e-03]\n",
      "[0.00016    0.00016    0.00012185 0.00304617]\n"
     ]
    },
    {
     "data": {
      "application/vnd.jupyter.widget-view+json": {
       "model_id": "7858551195cc4ec7bafc610e46eda14a",
       "version_major": 2,
       "version_minor": 0
      },
      "text/plain": [
       "  0%|          | 0/5 [00:00<?, ?it/s]"
      ]
     },
     "metadata": {},
     "output_type": "display_data"
    },
    {
     "name": "stdout",
     "output_type": "stream",
     "text": [
      "0.8, 1.6 : mean chagne - 0.597424, score change - 1.321206\n",
      "after[4.2641419751669, 8.355663976946868], before[3.666717828362788, 7.034457791343084]\n",
      "[8.0000000e-05 8.0000000e-05 2.0000000e-03 6.0923484e-05 1.5230871e-03]\n",
      "[0.00016    0.00016    0.00012185 0.00304617]\n"
     ]
    },
    {
     "data": {
      "application/vnd.jupyter.widget-view+json": {
       "model_id": "3933ea0b90cb4669b6d7ad9fe8e68edb",
       "version_major": 2,
       "version_minor": 0
      },
      "text/plain": [
       "  0%|          | 0/5 [00:00<?, ?it/s]"
      ]
     },
     "metadata": {},
     "output_type": "display_data"
    },
    {
     "name": "stdout",
     "output_type": "stream",
     "text": [
      "0.9, 1.6 : mean chagne - 1.240864, score change - 1.837092\n",
      "after[4.907581957385019, 8.871549813234049], before[3.666717828362788, 7.034457791343084]\n",
      "[9.00000000e-05 9.00000000e-05 2.25000000e-03 6.85389195e-05\n",
      " 1.71347299e-03]\n",
      "[0.00016    0.00016    0.00012185 0.00304617]\n"
     ]
    },
    {
     "data": {
      "application/vnd.jupyter.widget-view+json": {
       "model_id": "e680c1352f4046409d0f79214562d04f",
       "version_major": 2,
       "version_minor": 0
      },
      "text/plain": [
       "  0%|          | 0/5 [00:00<?, ?it/s]"
      ]
     },
     "metadata": {},
     "output_type": "display_data"
    },
    {
     "name": "stdout",
     "output_type": "stream",
     "text": [
      "1.0, 1.6 : mean chagne - 0.220863, score change - 0.515633\n",
      "after[3.887580661141775, 7.550090576791746], before[3.666717828362788, 7.034457791343084]\n",
      "[1.00000000e-04 1.00000000e-04 2.50000000e-03 7.61543549e-05\n",
      " 1.90385887e-03]\n",
      "[0.00016    0.00016    0.00012185 0.00304617]\n"
     ]
    },
    {
     "data": {
      "application/vnd.jupyter.widget-view+json": {
       "model_id": "439e7f2e876244919a29ffed49de8bc8",
       "version_major": 2,
       "version_minor": 0
      },
      "text/plain": [
       "  0%|          | 0/5 [00:00<?, ?it/s]"
      ]
     },
     "metadata": {},
     "output_type": "display_data"
    },
    {
     "name": "stdout",
     "output_type": "stream",
     "text": [
      "1.1, 1.6 : mean chagne - 0.765545, score change - 1.203847\n",
      "after[4.432262907542585, 8.238304348582464], before[3.666717828362788, 7.034457791343084]\n",
      "[1.10000000e-04 1.10000000e-04 2.75000000e-03 8.37697904e-05\n",
      " 2.09424476e-03]\n",
      "[0.00016    0.00016    0.00012185 0.00304617]\n"
     ]
    },
    {
     "data": {
      "application/vnd.jupyter.widget-view+json": {
       "model_id": "5177b53e94a642d7be1a757c5ce357bf",
       "version_major": 2,
       "version_minor": 0
      },
      "text/plain": [
       "  0%|          | 0/5 [00:00<?, ?it/s]"
      ]
     },
     "metadata": {},
     "output_type": "display_data"
    },
    {
     "name": "stdout",
     "output_type": "stream",
     "text": [
      "1.2000000000000002, 1.6 : mean chagne - 0.095025, score change - 0.220098\n",
      "after[3.7617431973360547, 7.254555724242957], before[3.666717828362788, 7.034457791343084]\n",
      "[1.20000000e-04 1.20000000e-04 3.00000000e-03 9.13852259e-05\n",
      " 2.28463065e-03]\n",
      "[0.00016    0.00016    0.00012185 0.00304617]\n"
     ]
    },
    {
     "data": {
      "application/vnd.jupyter.widget-view+json": {
       "model_id": "89705dbcb08c40fea3084e230fd7fd38",
       "version_major": 2,
       "version_minor": 0
      },
      "text/plain": [
       "  0%|          | 0/5 [00:00<?, ?it/s]"
      ]
     },
     "metadata": {},
     "output_type": "display_data"
    },
    {
     "name": "stdout",
     "output_type": "stream",
     "text": [
      "1.3000000000000003, 1.6 : mean chagne - 0.061374, score change - 0.152805\n",
      "after[3.7280919598778692, 7.187262733888727], before[3.666717828362788, 7.034457791343084]\n",
      "[1.30000000e-04 1.30000000e-04 3.25000000e-03 9.90006614e-05\n",
      " 2.47501654e-03]\n",
      "[0.00016    0.00016    0.00012185 0.00304617]\n"
     ]
    },
    {
     "data": {
      "application/vnd.jupyter.widget-view+json": {
       "model_id": "dbcde679cc594896b7c6e622432e7e18",
       "version_major": 2,
       "version_minor": 0
      },
      "text/plain": [
       "  0%|          | 0/5 [00:00<?, ?it/s]"
      ]
     },
     "metadata": {},
     "output_type": "display_data"
    },
    {
     "name": "stdout",
     "output_type": "stream",
     "text": [
      "1.4000000000000001, 1.6 : mean chagne - 0.115438, score change - 0.341193\n",
      "after[3.782155808331536, 7.375651233300514], before[3.666717828362788, 7.034457791343084]\n",
      "[0.00014    0.00014    0.0035     0.00010662 0.0026654 ]\n",
      "[0.00016    0.00016    0.00012185 0.00304617]\n"
     ]
    },
    {
     "data": {
      "application/vnd.jupyter.widget-view+json": {
       "model_id": "6a1b464f654442fe93a8103a9a09581b",
       "version_major": 2,
       "version_minor": 0
      },
      "text/plain": [
       "  0%|          | 0/5 [00:00<?, ?it/s]"
      ]
     },
     "metadata": {},
     "output_type": "display_data"
    },
    {
     "name": "stdout",
     "output_type": "stream",
     "text": [
      "1.5000000000000002, 1.6 : mean chagne - 0.127245, score change - 0.376806\n",
      "after[3.7939624337672817, 7.411264128574208], before[3.666717828362788, 7.034457791343084]\n",
      "[0.00015    0.00015    0.00375    0.00011423 0.00285579]\n",
      "[0.00016    0.00016    0.00012185 0.00304617]\n"
     ]
    },
    {
     "data": {
      "application/vnd.jupyter.widget-view+json": {
       "model_id": "907859811df547e78ab13145a07da4e2",
       "version_major": 2,
       "version_minor": 0
      },
      "text/plain": [
       "  0%|          | 0/5 [00:00<?, ?it/s]"
      ]
     },
     "metadata": {},
     "output_type": "display_data"
    },
    {
     "name": "stdout",
     "output_type": "stream",
     "text": [
      "1.6, 1.6 : mean chagne - 0.064343, score change - 0.146906\n",
      "after[3.7310608782064425, 7.18136415976271], before[3.666717828362788, 7.034457791343084]\n",
      "[0.00016    0.00016    0.004      0.00012185 0.00304617]\n",
      "[0.00016    0.00016    0.00012185 0.00304617]\n"
     ]
    },
    {
     "data": {
      "application/vnd.jupyter.widget-view+json": {
       "model_id": "3639a32663f445eba2b33ce3d8141073",
       "version_major": 2,
       "version_minor": 0
      },
      "text/plain": [
       "  0%|          | 0/5 [00:00<?, ?it/s]"
      ]
     },
     "metadata": {},
     "output_type": "display_data"
    },
    {
     "name": "stdout",
     "output_type": "stream",
     "text": [
      "1.7000000000000002, 1.6 : mean chagne - 0.133326, score change - 0.346295\n",
      "after[3.800044016056297, 7.380752614977436], before[3.666717828362788, 7.034457791343084]\n",
      "[0.00017    0.00017    0.00425    0.00012946 0.00323656]\n",
      "[0.00016    0.00016    0.00012185 0.00304617]\n"
     ]
    },
    {
     "data": {
      "application/vnd.jupyter.widget-view+json": {
       "model_id": "2fef4d27106e433491f290499800fc5a",
       "version_major": 2,
       "version_minor": 0
      },
      "text/plain": [
       "  0%|          | 0/5 [00:00<?, ?it/s]"
      ]
     },
     "metadata": {},
     "output_type": "display_data"
    },
    {
     "name": "stdout",
     "output_type": "stream",
     "text": [
      "1.8000000000000003, 1.6 : mean chagne - 0.033086, score change - 0.055709\n",
      "after[3.6998036696198597, 7.090167141922509], before[3.666717828362788, 7.034457791343084]\n",
      "[0.00018    0.00018    0.0045     0.00013708 0.00342695]\n",
      "[0.00016    0.00016    0.00012185 0.00304617]\n"
     ]
    },
    {
     "data": {
      "application/vnd.jupyter.widget-view+json": {
       "model_id": "17789e0515054b8a87c8a1d8d45c2406",
       "version_major": 2,
       "version_minor": 0
      },
      "text/plain": [
       "  0%|          | 0/5 [00:00<?, ?it/s]"
      ]
     },
     "metadata": {},
     "output_type": "display_data"
    },
    {
     "name": "stdout",
     "output_type": "stream",
     "text": [
      "1.9000000000000001, 1.6 : mean chagne - 0.106230, score change - 0.265029\n",
      "after[3.772948275522225, 7.299486614995956], before[3.666717828362788, 7.034457791343084]\n",
      "[0.00019    0.00019    0.00475    0.00014469 0.00361733]\n",
      "[0.00016    0.00016    0.00012185 0.00304617]\n"
     ]
    },
    {
     "data": {
      "application/vnd.jupyter.widget-view+json": {
       "model_id": "0f88bfa7e752457b89d232bedec7e8f8",
       "version_major": 2,
       "version_minor": 0
      },
      "text/plain": [
       "  0%|          | 0/5 [00:00<?, ?it/s]"
      ]
     },
     "metadata": {},
     "output_type": "display_data"
    },
    {
     "name": "stdout",
     "output_type": "stream",
     "text": [
      "0.1, 1.7000000000000002 : mean chagne - 1.238163, score change - 2.579703\n",
      "after[4.90488058781502, 9.614161056205825], before[3.666717828362788, 7.034457791343084]\n",
      "[1.00000000e-05 1.00000000e-05 2.50000000e-04 7.61543549e-06\n",
      " 1.90385887e-04]\n",
      "[0.00017    0.00017    0.00012946 0.00323656]\n"
     ]
    },
    {
     "data": {
      "application/vnd.jupyter.widget-view+json": {
       "model_id": "0dcae07794ae461682976fc7b50d77d8",
       "version_major": 2,
       "version_minor": 0
      },
      "text/plain": [
       "  0%|          | 0/5 [00:00<?, ?it/s]"
      ]
     },
     "metadata": {},
     "output_type": "display_data"
    },
    {
     "name": "stdout",
     "output_type": "stream",
     "text": [
      "0.2, 1.7000000000000002 : mean chagne - 0.290311, score change - 0.455461\n",
      "after[3.95702895519889, 7.48991857426158], before[3.666717828362788, 7.034457791343084]\n",
      "[2.00000000e-05 2.00000000e-05 5.00000000e-04 1.52308710e-05\n",
      " 3.80771775e-04]\n",
      "[0.00017    0.00017    0.00012946 0.00323656]\n"
     ]
    },
    {
     "data": {
      "application/vnd.jupyter.widget-view+json": {
       "model_id": "dc01346ba57f4ee3837ee27d29340702",
       "version_major": 2,
       "version_minor": 0
      },
      "text/plain": [
       "  0%|          | 0/5 [00:00<?, ?it/s]"
      ]
     },
     "metadata": {},
     "output_type": "display_data"
    },
    {
     "name": "stdout",
     "output_type": "stream",
     "text": [
      "0.30000000000000004, 1.7000000000000002 : mean chagne - 0.292267, score change - 0.449010\n",
      "after[3.9589846118740275, 7.483467846381052], before[3.666717828362788, 7.034457791343084]\n",
      "[3.00000000e-05 3.00000000e-05 7.50000000e-04 2.28463065e-05\n",
      " 5.71157662e-04]\n",
      "[0.00017    0.00017    0.00012946 0.00323656]\n"
     ]
    },
    {
     "data": {
      "application/vnd.jupyter.widget-view+json": {
       "model_id": "de3f121e99794519a5137618170a14f7",
       "version_major": 2,
       "version_minor": 0
      },
      "text/plain": [
       "  0%|          | 0/5 [00:00<?, ?it/s]"
      ]
     },
     "metadata": {},
     "output_type": "display_data"
    },
    {
     "name": "stdout",
     "output_type": "stream",
     "text": [
      "0.4, 1.7000000000000002 : mean chagne - 0.790640, score change - 1.655742\n",
      "after[4.45735778715467, 8.690199339282675], before[3.666717828362788, 7.034457791343084]\n",
      "[4.00000000e-05 4.00000000e-05 1.00000000e-03 3.04617420e-05\n",
      " 7.61543549e-04]\n",
      "[0.00017    0.00017    0.00012946 0.00323656]\n"
     ]
    },
    {
     "data": {
      "application/vnd.jupyter.widget-view+json": {
       "model_id": "879ffd05b6c941c0b1f2bdb568f246ea",
       "version_major": 2,
       "version_minor": 0
      },
      "text/plain": [
       "  0%|          | 0/5 [00:00<?, ?it/s]"
      ]
     },
     "metadata": {},
     "output_type": "display_data"
    },
    {
     "name": "stdout",
     "output_type": "stream",
     "text": [
      "0.5, 1.7000000000000002 : mean chagne - 0.238579, score change - 0.523998\n",
      "after[3.905296524507869, 7.558455408710046], before[3.666717828362788, 7.034457791343084]\n",
      "[5.00000000e-05 5.00000000e-05 1.25000000e-03 3.80771775e-05\n",
      " 9.51929437e-04]\n",
      "[0.00017    0.00017    0.00012946 0.00323656]\n"
     ]
    },
    {
     "data": {
      "application/vnd.jupyter.widget-view+json": {
       "model_id": "ecd636463a3c4f15af5d9f2637f0bbdc",
       "version_major": 2,
       "version_minor": 0
      },
      "text/plain": [
       "  0%|          | 0/5 [00:00<?, ?it/s]"
      ]
     },
     "metadata": {},
     "output_type": "display_data"
    },
    {
     "name": "stdout",
     "output_type": "stream",
     "text": [
      "0.6, 1.7000000000000002 : mean chagne - 0.654728, score change - 1.574678\n",
      "after[4.321445985913813, 8.609135522175], before[3.666717828362788, 7.034457791343084]\n",
      "[6.00000000e-05 6.00000000e-05 1.50000000e-03 4.56926130e-05\n",
      " 1.14231532e-03]\n",
      "[0.00017    0.00017    0.00012946 0.00323656]\n"
     ]
    },
    {
     "data": {
      "application/vnd.jupyter.widget-view+json": {
       "model_id": "6684c0680aa34355be9decc386eac665",
       "version_major": 2,
       "version_minor": 0
      },
      "text/plain": [
       "  0%|          | 0/5 [00:00<?, ?it/s]"
      ]
     },
     "metadata": {},
     "output_type": "display_data"
    },
    {
     "name": "stdout",
     "output_type": "stream",
     "text": [
      "0.7000000000000001, 1.7000000000000002 : mean chagne - 0.175041, score change - 0.342504\n",
      "after[3.8417585973592008, 7.37696141518561], before[3.666717828362788, 7.034457791343084]\n",
      "[7.00000000e-05 7.00000000e-05 1.75000000e-03 5.33080485e-05\n",
      " 1.33270121e-03]\n",
      "[0.00017    0.00017    0.00012946 0.00323656]\n"
     ]
    },
    {
     "data": {
      "application/vnd.jupyter.widget-view+json": {
       "model_id": "3accca9157044426a321d09ee1ca02b8",
       "version_major": 2,
       "version_minor": 0
      },
      "text/plain": [
       "  0%|          | 0/5 [00:00<?, ?it/s]"
      ]
     },
     "metadata": {},
     "output_type": "display_data"
    },
    {
     "name": "stdout",
     "output_type": "stream",
     "text": [
      "0.8, 1.7000000000000002 : mean chagne - 0.133391, score change - 0.299825\n",
      "after[3.8001087275587055, 7.334283051037207], before[3.666717828362788, 7.034457791343084]\n",
      "[8.0000000e-05 8.0000000e-05 2.0000000e-03 6.0923484e-05 1.5230871e-03]\n",
      "[0.00017    0.00017    0.00012946 0.00323656]\n"
     ]
    },
    {
     "data": {
      "application/vnd.jupyter.widget-view+json": {
       "model_id": "5ecf6993087c46e6808899b92a40c695",
       "version_major": 2,
       "version_minor": 0
      },
      "text/plain": [
       "  0%|          | 0/5 [00:00<?, ?it/s]"
      ]
     },
     "metadata": {},
     "output_type": "display_data"
    },
    {
     "name": "stdout",
     "output_type": "stream",
     "text": [
      "0.9, 1.7000000000000002 : mean chagne - 0.188655, score change - 0.343217\n",
      "after[3.855372901316018, 7.377675081904231], before[3.666717828362788, 7.034457791343084]\n",
      "[9.00000000e-05 9.00000000e-05 2.25000000e-03 6.85389195e-05\n",
      " 1.71347299e-03]\n",
      "[0.00017    0.00017    0.00012946 0.00323656]\n"
     ]
    },
    {
     "data": {
      "application/vnd.jupyter.widget-view+json": {
       "model_id": "0db5db5dca0a49f78bb33911265f626e",
       "version_major": 2,
       "version_minor": 0
      },
      "text/plain": [
       "  0%|          | 0/5 [00:00<?, ?it/s]"
      ]
     },
     "metadata": {},
     "output_type": "display_data"
    },
    {
     "name": "stdout",
     "output_type": "stream",
     "text": [
      "1.0, 1.7000000000000002 : mean chagne - 0.049554, score change - 0.059107\n",
      "after[3.7162720240947156, 7.093565185306676], before[3.666717828362788, 7.034457791343084]\n",
      "[1.00000000e-04 1.00000000e-04 2.50000000e-03 7.61543549e-05\n",
      " 1.90385887e-03]\n",
      "[0.00017    0.00017    0.00012946 0.00323656]\n"
     ]
    },
    {
     "data": {
      "application/vnd.jupyter.widget-view+json": {
       "model_id": "56b89214ff9449b49c51587eb1fc5b18",
       "version_major": 2,
       "version_minor": 0
      },
      "text/plain": [
       "  0%|          | 0/5 [00:00<?, ?it/s]"
      ]
     },
     "metadata": {},
     "output_type": "display_data"
    },
    {
     "name": "stdout",
     "output_type": "stream",
     "text": [
      "1.1, 1.7000000000000002 : mean chagne - 0.070251, score change - 0.127087\n",
      "after[3.7369684607055405, 7.161544388570755], before[3.666717828362788, 7.034457791343084]\n",
      "[1.10000000e-04 1.10000000e-04 2.75000000e-03 8.37697904e-05\n",
      " 2.09424476e-03]\n",
      "[0.00017    0.00017    0.00012946 0.00323656]\n"
     ]
    },
    {
     "data": {
      "application/vnd.jupyter.widget-view+json": {
       "model_id": "9a92d39ce0cf4b98a3eb22979335b5be",
       "version_major": 2,
       "version_minor": 0
      },
      "text/plain": [
       "  0%|          | 0/5 [00:00<?, ?it/s]"
      ]
     },
     "metadata": {},
     "output_type": "display_data"
    },
    {
     "name": "stdout",
     "output_type": "stream",
     "text": [
      "1.2000000000000002, 1.7000000000000002 : mean chagne - 0.234007, score change - 0.584468\n",
      "after[3.9007243632568596, 7.6189262106051245], before[3.666717828362788, 7.034457791343084]\n",
      "[1.20000000e-04 1.20000000e-04 3.00000000e-03 9.13852259e-05\n",
      " 2.28463065e-03]\n",
      "[0.00017    0.00017    0.00012946 0.00323656]\n"
     ]
    },
    {
     "data": {
      "application/vnd.jupyter.widget-view+json": {
       "model_id": "18d5b9c94f0f4ab9927a01fd74134c2b",
       "version_major": 2,
       "version_minor": 0
      },
      "text/plain": [
       "  0%|          | 0/5 [00:00<?, ?it/s]"
      ]
     },
     "metadata": {},
     "output_type": "display_data"
    },
    {
     "name": "stdout",
     "output_type": "stream",
     "text": [
      "1.3000000000000003, 1.7000000000000002 : mean chagne - 0.158207, score change - 0.361882\n",
      "after[3.8249244865051386, 7.396339742248759], before[3.666717828362788, 7.034457791343084]\n",
      "[1.30000000e-04 1.30000000e-04 3.25000000e-03 9.90006614e-05\n",
      " 2.47501654e-03]\n",
      "[0.00017    0.00017    0.00012946 0.00323656]\n"
     ]
    },
    {
     "data": {
      "application/vnd.jupyter.widget-view+json": {
       "model_id": "f29ace6d9dd6455180b503d2425d71fa",
       "version_major": 2,
       "version_minor": 0
      },
      "text/plain": [
       "  0%|          | 0/5 [00:00<?, ?it/s]"
      ]
     },
     "metadata": {},
     "output_type": "display_data"
    },
    {
     "name": "stdout",
     "output_type": "stream",
     "text": [
      "1.4000000000000001, 1.7000000000000002 : mean chagne - 0.074342, score change - 0.169549\n",
      "after[3.7410603105352878, 7.204006403534652], before[3.666717828362788, 7.034457791343084]\n",
      "[0.00014    0.00014    0.0035     0.00010662 0.0026654 ]\n",
      "[0.00017    0.00017    0.00012946 0.00323656]\n"
     ]
    },
    {
     "data": {
      "application/vnd.jupyter.widget-view+json": {
       "model_id": "fdea657a679344268458a58239711a7f",
       "version_major": 2,
       "version_minor": 0
      },
      "text/plain": [
       "  0%|          | 0/5 [00:00<?, ?it/s]"
      ]
     },
     "metadata": {},
     "output_type": "display_data"
    },
    {
     "name": "stdout",
     "output_type": "stream",
     "text": [
      "1.5000000000000002, 1.7000000000000002 : mean chagne - 0.247212, score change - 0.730355\n",
      "after[3.9139302619927796, 7.764812635662025], before[3.666717828362788, 7.034457791343084]\n",
      "[0.00015    0.00015    0.00375    0.00011423 0.00285579]\n",
      "[0.00017    0.00017    0.00012946 0.00323656]\n"
     ]
    },
    {
     "data": {
      "application/vnd.jupyter.widget-view+json": {
       "model_id": "bd75504d39744e99af148478ce657a1a",
       "version_major": 2,
       "version_minor": 0
      },
      "text/plain": [
       "  0%|          | 0/5 [00:00<?, ?it/s]"
      ]
     },
     "metadata": {},
     "output_type": "display_data"
    },
    {
     "name": "stdout",
     "output_type": "stream",
     "text": [
      "1.6, 1.7000000000000002 : mean chagne - 0.088712, score change - 0.185142\n",
      "after[3.7554295628673637, 7.219600258604251], before[3.666717828362788, 7.034457791343084]\n",
      "[0.00016    0.00016    0.004      0.00012185 0.00304617]\n",
      "[0.00017    0.00017    0.00012946 0.00323656]\n"
     ]
    },
    {
     "data": {
      "application/vnd.jupyter.widget-view+json": {
       "model_id": "5033fe8018a54d79a3cb431ee168f6c2",
       "version_major": 2,
       "version_minor": 0
      },
      "text/plain": [
       "  0%|          | 0/5 [00:00<?, ?it/s]"
      ]
     },
     "metadata": {},
     "output_type": "display_data"
    },
    {
     "name": "stdout",
     "output_type": "stream",
     "text": [
      "1.7000000000000002, 1.7000000000000002 : mean chagne - 0.141616, score change - 0.375691\n",
      "after[3.8083341449946584, 7.410148662218478], before[3.666717828362788, 7.034457791343084]\n",
      "[0.00017    0.00017    0.00425    0.00012946 0.00323656]\n",
      "[0.00017    0.00017    0.00012946 0.00323656]\n"
     ]
    },
    {
     "data": {
      "application/vnd.jupyter.widget-view+json": {
       "model_id": "97897f66221644ba9b8a61958a7b7058",
       "version_major": 2,
       "version_minor": 0
      },
      "text/plain": [
       "  0%|          | 0/5 [00:00<?, ?it/s]"
      ]
     },
     "metadata": {},
     "output_type": "display_data"
    },
    {
     "name": "stdout",
     "output_type": "stream",
     "text": [
      "1.8000000000000003, 1.7000000000000002 : mean chagne - 0.090839, score change - 0.189069\n",
      "after[3.7575563689848597, 7.22352721417756], before[3.666717828362788, 7.034457791343084]\n",
      "[0.00018    0.00018    0.0045     0.00013708 0.00342695]\n",
      "[0.00017    0.00017    0.00012946 0.00323656]\n"
     ]
    },
    {
     "data": {
      "application/vnd.jupyter.widget-view+json": {
       "model_id": "c391f3bda40942e2b2b3bb16e0fff1e4",
       "version_major": 2,
       "version_minor": 0
      },
      "text/plain": [
       "  0%|          | 0/5 [00:00<?, ?it/s]"
      ]
     },
     "metadata": {},
     "output_type": "display_data"
    },
    {
     "name": "stdout",
     "output_type": "stream",
     "text": [
      "1.9000000000000001, 1.7000000000000002 : mean chagne - 0.026537, score change - 0.079663\n",
      "after[3.6932547062198435, 7.114120643599056], before[3.666717828362788, 7.034457791343084]\n",
      "[0.00019    0.00019    0.00475    0.00014469 0.00361733]\n",
      "[0.00017    0.00017    0.00012946 0.00323656]\n"
     ]
    },
    {
     "data": {
      "application/vnd.jupyter.widget-view+json": {
       "model_id": "dc66abc8013c4b23a9aef2774e38ec02",
       "version_major": 2,
       "version_minor": 0
      },
      "text/plain": [
       "  0%|          | 0/5 [00:00<?, ?it/s]"
      ]
     },
     "metadata": {},
     "output_type": "display_data"
    },
    {
     "name": "stdout",
     "output_type": "stream",
     "text": [
      "0.1, 1.8000000000000003 : mean chagne - 1.346234, score change - 3.178064\n",
      "after[5.012951613525037, 10.212521530871513], before[3.666717828362788, 7.034457791343084]\n",
      "[1.00000000e-05 1.00000000e-05 2.50000000e-04 7.61543549e-06\n",
      " 1.90385887e-04]\n",
      "[0.00018    0.00018    0.00013708 0.00342695]\n"
     ]
    },
    {
     "data": {
      "application/vnd.jupyter.widget-view+json": {
       "model_id": "70039c6882b84a168c66082c30c6ad0c",
       "version_major": 2,
       "version_minor": 0
      },
      "text/plain": [
       "  0%|          | 0/5 [00:00<?, ?it/s]"
      ]
     },
     "metadata": {},
     "output_type": "display_data"
    },
    {
     "name": "stdout",
     "output_type": "stream",
     "text": [
      "0.2, 1.8000000000000003 : mean chagne - 0.996740, score change - 2.540305\n",
      "after[4.663457352438848, 9.574762424232121], before[3.666717828362788, 7.034457791343084]\n",
      "[2.00000000e-05 2.00000000e-05 5.00000000e-04 1.52308710e-05\n",
      " 3.80771775e-04]\n",
      "[0.00018    0.00018    0.00013708 0.00342695]\n"
     ]
    },
    {
     "data": {
      "application/vnd.jupyter.widget-view+json": {
       "model_id": "c9c8dad5015c4d0693db6fa997a3cc15",
       "version_major": 2,
       "version_minor": 0
      },
      "text/plain": [
       "  0%|          | 0/5 [00:00<?, ?it/s]"
      ]
     },
     "metadata": {},
     "output_type": "display_data"
    },
    {
     "name": "stdout",
     "output_type": "stream",
     "text": [
      "0.30000000000000004, 1.8000000000000003 : mean chagne - 0.574908, score change - 1.502905\n",
      "after[4.241625836979849, 8.53736238613151], before[3.666717828362788, 7.034457791343084]\n",
      "[3.00000000e-05 3.00000000e-05 7.50000000e-04 2.28463065e-05\n",
      " 5.71157662e-04]\n",
      "[0.00018    0.00018    0.00013708 0.00342695]\n"
     ]
    },
    {
     "data": {
      "application/vnd.jupyter.widget-view+json": {
       "model_id": "d3fdbc3743c24105b627d05f34ee4641",
       "version_major": 2,
       "version_minor": 0
      },
      "text/plain": [
       "  0%|          | 0/5 [00:00<?, ?it/s]"
      ]
     },
     "metadata": {},
     "output_type": "display_data"
    },
    {
     "name": "stdout",
     "output_type": "stream",
     "text": [
      "0.4, 1.8000000000000003 : mean chagne - 0.671475, score change - 1.498172\n",
      "after[4.338192346266437, 8.532629489732344], before[3.666717828362788, 7.034457791343084]\n",
      "[4.00000000e-05 4.00000000e-05 1.00000000e-03 3.04617420e-05\n",
      " 7.61543549e-04]\n",
      "[0.00018    0.00018    0.00013708 0.00342695]\n"
     ]
    },
    {
     "data": {
      "application/vnd.jupyter.widget-view+json": {
       "model_id": "c845ea2afe004a7e9c1c065024306813",
       "version_major": 2,
       "version_minor": 0
      },
      "text/plain": [
       "  0%|          | 0/5 [00:00<?, ?it/s]"
      ]
     },
     "metadata": {},
     "output_type": "display_data"
    },
    {
     "name": "stdout",
     "output_type": "stream",
     "text": [
      "0.5, 1.8000000000000003 : mean chagne - 0.344886, score change - 0.833170\n",
      "after[4.011603432269742, 7.867628112351026], before[3.666717828362788, 7.034457791343084]\n",
      "[5.00000000e-05 5.00000000e-05 1.25000000e-03 3.80771775e-05\n",
      " 9.51929437e-04]\n",
      "[0.00018    0.00018    0.00013708 0.00342695]\n"
     ]
    },
    {
     "data": {
      "application/vnd.jupyter.widget-view+json": {
       "model_id": "f8baf5c27d4f4c70abf282c42ed4235c",
       "version_major": 2,
       "version_minor": 0
      },
      "text/plain": [
       "  0%|          | 0/5 [00:00<?, ?it/s]"
      ]
     },
     "metadata": {},
     "output_type": "display_data"
    },
    {
     "name": "stdout",
     "output_type": "stream",
     "text": [
      "0.6, 1.8000000000000003 : mean chagne - 0.133504, score change - 0.259585\n",
      "after[3.8002220131313553, 7.294042870141337], before[3.666717828362788, 7.034457791343084]\n",
      "[6.00000000e-05 6.00000000e-05 1.50000000e-03 4.56926130e-05\n",
      " 1.14231532e-03]\n",
      "[0.00018    0.00018    0.00013708 0.00342695]\n"
     ]
    },
    {
     "data": {
      "application/vnd.jupyter.widget-view+json": {
       "model_id": "6a1470816f90451ba02cf8d783a9dc6e",
       "version_major": 2,
       "version_minor": 0
      },
      "text/plain": [
       "  0%|          | 0/5 [00:00<?, ?it/s]"
      ]
     },
     "metadata": {},
     "output_type": "display_data"
    },
    {
     "name": "stdout",
     "output_type": "stream",
     "text": [
      "0.7000000000000001, 1.8000000000000003 : mean chagne - 0.164733, score change - 0.208072\n",
      "after[3.831450627895702, 7.242529555772407], before[3.666717828362788, 7.034457791343084]\n",
      "[7.00000000e-05 7.00000000e-05 1.75000000e-03 5.33080485e-05\n",
      " 1.33270121e-03]\n",
      "[0.00018    0.00018    0.00013708 0.00342695]\n"
     ]
    },
    {
     "data": {
      "application/vnd.jupyter.widget-view+json": {
       "model_id": "96022663f12c4e648de4b7135922aa46",
       "version_major": 2,
       "version_minor": 0
      },
      "text/plain": [
       "  0%|          | 0/5 [00:00<?, ?it/s]"
      ]
     },
     "metadata": {},
     "output_type": "display_data"
    },
    {
     "name": "stdout",
     "output_type": "stream",
     "text": [
      "0.8, 1.8000000000000003 : mean chagne - 0.158457, score change - 0.297262\n",
      "after[3.8251750346792255, 7.331719695493254], before[3.666717828362788, 7.034457791343084]\n",
      "[8.0000000e-05 8.0000000e-05 2.0000000e-03 6.0923484e-05 1.5230871e-03]\n",
      "[0.00018    0.00018    0.00013708 0.00342695]\n"
     ]
    },
    {
     "data": {
      "application/vnd.jupyter.widget-view+json": {
       "model_id": "f96e38b049a243d4a6e983a56b54a670",
       "version_major": 2,
       "version_minor": 0
      },
      "text/plain": [
       "  0%|          | 0/5 [00:00<?, ?it/s]"
      ]
     },
     "metadata": {},
     "output_type": "display_data"
    },
    {
     "name": "stdout",
     "output_type": "stream",
     "text": [
      "0.9, 1.8000000000000003 : mean chagne - 0.375213, score change - 0.905714\n",
      "after[4.041931056058864, 7.940171335234988], before[3.666717828362788, 7.034457791343084]\n",
      "[9.00000000e-05 9.00000000e-05 2.25000000e-03 6.85389195e-05\n",
      " 1.71347299e-03]\n",
      "[0.00018    0.00018    0.00013708 0.00342695]\n"
     ]
    },
    {
     "data": {
      "application/vnd.jupyter.widget-view+json": {
       "model_id": "59a3fe66979e4f6db9293ebce1b3ceca",
       "version_major": 2,
       "version_minor": 0
      },
      "text/plain": [
       "  0%|          | 0/5 [00:00<?, ?it/s]"
      ]
     },
     "metadata": {},
     "output_type": "display_data"
    },
    {
     "name": "stdout",
     "output_type": "stream",
     "text": [
      "1.0, 1.8000000000000003 : mean chagne - 0.173261, score change - 0.370335\n",
      "after[3.839979172243522, 7.404792767606577], before[3.666717828362788, 7.034457791343084]\n",
      "[1.00000000e-04 1.00000000e-04 2.50000000e-03 7.61543549e-05\n",
      " 1.90385887e-03]\n",
      "[0.00018    0.00018    0.00013708 0.00342695]\n"
     ]
    },
    {
     "data": {
      "application/vnd.jupyter.widget-view+json": {
       "model_id": "184b1e8e2a0f45758d7659d0bf61d8ad",
       "version_major": 2,
       "version_minor": 0
      },
      "text/plain": [
       "  0%|          | 0/5 [00:00<?, ?it/s]"
      ]
     },
     "metadata": {},
     "output_type": "display_data"
    },
    {
     "name": "stdout",
     "output_type": "stream",
     "text": [
      "1.1, 1.8000000000000003 : mean chagne - 0.112311, score change - 0.198987\n",
      "after[3.779028344502203, 7.233444699254075], before[3.666717828362788, 7.034457791343084]\n",
      "[1.10000000e-04 1.10000000e-04 2.75000000e-03 8.37697904e-05\n",
      " 2.09424476e-03]\n",
      "[0.00018    0.00018    0.00013708 0.00342695]\n"
     ]
    },
    {
     "data": {
      "application/vnd.jupyter.widget-view+json": {
       "model_id": "e53e2d6572f04453be566e7d0c9801e3",
       "version_major": 2,
       "version_minor": 0
      },
      "text/plain": [
       "  0%|          | 0/5 [00:00<?, ?it/s]"
      ]
     },
     "metadata": {},
     "output_type": "display_data"
    },
    {
     "name": "stdout",
     "output_type": "stream",
     "text": [
      "1.2000000000000002, 1.8000000000000003 : mean chagne - 0.106671, score change - 0.265678\n",
      "after[3.7733888346347095, 7.300135879730563], before[3.666717828362788, 7.034457791343084]\n",
      "[1.20000000e-04 1.20000000e-04 3.00000000e-03 9.13852259e-05\n",
      " 2.28463065e-03]\n",
      "[0.00018    0.00018    0.00013708 0.00342695]\n"
     ]
    },
    {
     "data": {
      "application/vnd.jupyter.widget-view+json": {
       "model_id": "21b8eb81bb0d4426bd10a4c395ff0e1c",
       "version_major": 2,
       "version_minor": 0
      },
      "text/plain": [
       "  0%|          | 0/5 [00:00<?, ?it/s]"
      ]
     },
     "metadata": {},
     "output_type": "display_data"
    },
    {
     "name": "stdout",
     "output_type": "stream",
     "text": [
      "1.3000000000000003, 1.8000000000000003 : mean chagne - 0.162758, score change - 0.385774\n",
      "after[3.829476025394882, 7.420232100948809], before[3.666717828362788, 7.034457791343084]\n",
      "[1.30000000e-04 1.30000000e-04 3.25000000e-03 9.90006614e-05\n",
      " 2.47501654e-03]\n",
      "[0.00018    0.00018    0.00013708 0.00342695]\n"
     ]
    },
    {
     "data": {
      "application/vnd.jupyter.widget-view+json": {
       "model_id": "5030e868442546619325e594f9e48691",
       "version_major": 2,
       "version_minor": 0
      },
      "text/plain": [
       "  0%|          | 0/5 [00:00<?, ?it/s]"
      ]
     },
     "metadata": {},
     "output_type": "display_data"
    },
    {
     "name": "stdout",
     "output_type": "stream",
     "text": [
      "1.4000000000000001, 1.8000000000000003 : mean chagne - 0.116959, score change - 0.245176\n",
      "after[3.7836768652774135, 7.279633831505857], before[3.666717828362788, 7.034457791343084]\n",
      "[0.00014    0.00014    0.0035     0.00010662 0.0026654 ]\n",
      "[0.00018    0.00018    0.00013708 0.00342695]\n"
     ]
    },
    {
     "data": {
      "application/vnd.jupyter.widget-view+json": {
       "model_id": "9f126a358d23452a89fb4febe08b04a0",
       "version_major": 2,
       "version_minor": 0
      },
      "text/plain": [
       "  0%|          | 0/5 [00:00<?, ?it/s]"
      ]
     },
     "metadata": {},
     "output_type": "display_data"
    },
    {
     "name": "stdout",
     "output_type": "stream",
     "text": [
      "1.5000000000000002, 1.8000000000000003 : mean chagne - 0.197045, score change - 0.458293\n",
      "after[3.8637632920287244, 7.492751181543488], before[3.666717828362788, 7.034457791343084]\n",
      "[0.00015    0.00015    0.00375    0.00011423 0.00285579]\n",
      "[0.00018    0.00018    0.00013708 0.00342695]\n"
     ]
    },
    {
     "data": {
      "application/vnd.jupyter.widget-view+json": {
       "model_id": "78fcf4dfce2a4533b2111368d5e05508",
       "version_major": 2,
       "version_minor": 0
      },
      "text/plain": [
       "  0%|          | 0/5 [00:00<?, ?it/s]"
      ]
     },
     "metadata": {},
     "output_type": "display_data"
    },
    {
     "name": "stdout",
     "output_type": "stream",
     "text": [
      "1.6, 1.8000000000000003 : mean chagne - 0.154416, score change - 0.389914\n",
      "after[3.8211336227643873, 7.424372230609942], before[3.666717828362788, 7.034457791343084]\n",
      "[0.00016    0.00016    0.004      0.00012185 0.00304617]\n",
      "[0.00018    0.00018    0.00013708 0.00342695]\n"
     ]
    },
    {
     "data": {
      "application/vnd.jupyter.widget-view+json": {
       "model_id": "66a7f56a4e41486e94586f3d4cce0f87",
       "version_major": 2,
       "version_minor": 0
      },
      "text/plain": [
       "  0%|          | 0/5 [00:00<?, ?it/s]"
      ]
     },
     "metadata": {},
     "output_type": "display_data"
    },
    {
     "name": "stdout",
     "output_type": "stream",
     "text": [
      "1.7000000000000002, 1.8000000000000003 : mean chagne - 0.200467, score change - 0.446104\n",
      "after[3.8671844032211435, 7.480562261345011], before[3.666717828362788, 7.034457791343084]\n",
      "[0.00017    0.00017    0.00425    0.00012946 0.00323656]\n",
      "[0.00018    0.00018    0.00013708 0.00342695]\n"
     ]
    },
    {
     "data": {
      "application/vnd.jupyter.widget-view+json": {
       "model_id": "baabb88c05f6402bbfcf7933f11eb667",
       "version_major": 2,
       "version_minor": 0
      },
      "text/plain": [
       "  0%|          | 0/5 [00:00<?, ?it/s]"
      ]
     },
     "metadata": {},
     "output_type": "display_data"
    },
    {
     "name": "stdout",
     "output_type": "stream",
     "text": [
      "1.8000000000000003, 1.8000000000000003 : mean chagne - 0.050051, score change - 0.112532\n",
      "after[3.716769093770351, 7.146989513924396], before[3.666717828362788, 7.034457791343084]\n",
      "[0.00018    0.00018    0.0045     0.00013708 0.00342695]\n",
      "[0.00018    0.00018    0.00013708 0.00342695]\n"
     ]
    },
    {
     "data": {
      "application/vnd.jupyter.widget-view+json": {
       "model_id": "f64c876abd034d94ae3c0f26f42e7d1c",
       "version_major": 2,
       "version_minor": 0
      },
      "text/plain": [
       "  0%|          | 0/5 [00:00<?, ?it/s]"
      ]
     },
     "metadata": {},
     "output_type": "display_data"
    },
    {
     "name": "stdout",
     "output_type": "stream",
     "text": [
      "1.9000000000000001, 1.8000000000000003 : mean chagne - 0.100382, score change - 0.208027\n",
      "after[3.767099472876205, 7.24248487778662], before[3.666717828362788, 7.034457791343084]\n",
      "[0.00019    0.00019    0.00475    0.00014469 0.00361733]\n",
      "[0.00018    0.00018    0.00013708 0.00342695]\n"
     ]
    },
    {
     "data": {
      "application/vnd.jupyter.widget-view+json": {
       "model_id": "3021654d19e54e769350a78f71bb4ad3",
       "version_major": 2,
       "version_minor": 0
      },
      "text/plain": [
       "  0%|          | 0/5 [00:00<?, ?it/s]"
      ]
     },
     "metadata": {},
     "output_type": "display_data"
    },
    {
     "name": "stdout",
     "output_type": "stream",
     "text": [
      "0.1, 1.9000000000000001 : mean chagne - 1.722417, score change - 4.501606\n",
      "after[5.389134364050316, 11.536064149087876], before[3.666717828362788, 7.034457791343084]\n",
      "[1.00000000e-05 1.00000000e-05 2.50000000e-04 7.61543549e-06\n",
      " 1.90385887e-04]\n",
      "[0.00019    0.00019    0.00014469 0.00361733]\n"
     ]
    },
    {
     "data": {
      "application/vnd.jupyter.widget-view+json": {
       "model_id": "0988de514152480f853ce42ffb1922d8",
       "version_major": 2,
       "version_minor": 0
      },
      "text/plain": [
       "  0%|          | 0/5 [00:00<?, ?it/s]"
      ]
     },
     "metadata": {},
     "output_type": "display_data"
    },
    {
     "name": "stdout",
     "output_type": "stream",
     "text": [
      "0.2, 1.9000000000000001 : mean chagne - 1.190259, score change - 2.726625\n",
      "after[4.856977262939314, 9.761082787344545], before[3.666717828362788, 7.034457791343084]\n",
      "[2.00000000e-05 2.00000000e-05 5.00000000e-04 1.52308710e-05\n",
      " 3.80771775e-04]\n",
      "[0.00019    0.00019    0.00014469 0.00361733]\n"
     ]
    },
    {
     "data": {
      "application/vnd.jupyter.widget-view+json": {
       "model_id": "4576ad4fcc52472a835052033a8db334",
       "version_major": 2,
       "version_minor": 0
      },
      "text/plain": [
       "  0%|          | 0/5 [00:00<?, ?it/s]"
      ]
     },
     "metadata": {},
     "output_type": "display_data"
    },
    {
     "name": "stdout",
     "output_type": "stream",
     "text": [
      "0.30000000000000004, 1.9000000000000001 : mean chagne - 0.129450, score change - 0.219514\n",
      "after[3.7961680897964074, 7.253971954363005], before[3.666717828362788, 7.034457791343084]\n",
      "[3.00000000e-05 3.00000000e-05 7.50000000e-04 2.28463065e-05\n",
      " 5.71157662e-04]\n",
      "[0.00019    0.00019    0.00014469 0.00361733]\n"
     ]
    },
    {
     "data": {
      "application/vnd.jupyter.widget-view+json": {
       "model_id": "763ec3f58db247798ea26ef00432b1f7",
       "version_major": 2,
       "version_minor": 0
      },
      "text/plain": [
       "  0%|          | 0/5 [00:00<?, ?it/s]"
      ]
     },
     "metadata": {},
     "output_type": "display_data"
    },
    {
     "name": "stdout",
     "output_type": "stream",
     "text": [
      "0.4, 1.9000000000000001 : mean chagne - 0.821259, score change - 1.822015\n",
      "after[4.487977082862606, 8.856472387380695], before[3.666717828362788, 7.034457791343084]\n",
      "[4.00000000e-05 4.00000000e-05 1.00000000e-03 3.04617420e-05\n",
      " 7.61543549e-04]\n",
      "[0.00019    0.00019    0.00014469 0.00361733]\n"
     ]
    },
    {
     "data": {
      "application/vnd.jupyter.widget-view+json": {
       "model_id": "996e720b45ce4826b928e18cce1c5709",
       "version_major": 2,
       "version_minor": 0
      },
      "text/plain": [
       "  0%|          | 0/5 [00:00<?, ?it/s]"
      ]
     },
     "metadata": {},
     "output_type": "display_data"
    },
    {
     "name": "stdout",
     "output_type": "stream",
     "text": [
      "0.5, 1.9000000000000001 : mean chagne - 0.505724, score change - 0.983204\n",
      "after[4.172442152207773, 8.017661743071736], before[3.666717828362788, 7.034457791343084]\n",
      "[5.00000000e-05 5.00000000e-05 1.25000000e-03 3.80771775e-05\n",
      " 9.51929437e-04]\n",
      "[0.00019    0.00019    0.00014469 0.00361733]\n"
     ]
    },
    {
     "data": {
      "application/vnd.jupyter.widget-view+json": {
       "model_id": "9854f5eb2bb3420989ceb63b7f5e5e74",
       "version_major": 2,
       "version_minor": 0
      },
      "text/plain": [
       "  0%|          | 0/5 [00:00<?, ?it/s]"
      ]
     },
     "metadata": {},
     "output_type": "display_data"
    },
    {
     "name": "stdout",
     "output_type": "stream",
     "text": [
      "0.6, 1.9000000000000001 : mean chagne - 0.130072, score change - 0.214616\n",
      "after[3.7967899430794922, 7.2490739696650035], before[3.666717828362788, 7.034457791343084]\n",
      "[6.00000000e-05 6.00000000e-05 1.50000000e-03 4.56926130e-05\n",
      " 1.14231532e-03]\n",
      "[0.00019    0.00019    0.00014469 0.00361733]\n"
     ]
    },
    {
     "data": {
      "application/vnd.jupyter.widget-view+json": {
       "model_id": "7de57f432e2f4f8b8985a9baede85753",
       "version_major": 2,
       "version_minor": 0
      },
      "text/plain": [
       "  0%|          | 0/5 [00:00<?, ?it/s]"
      ]
     },
     "metadata": {},
     "output_type": "display_data"
    },
    {
     "name": "stdout",
     "output_type": "stream",
     "text": [
      "0.7000000000000001, 1.9000000000000001 : mean chagne - 0.307481, score change - 0.702136\n",
      "after[3.9741986793925816, 7.736594241190426], before[3.666717828362788, 7.034457791343084]\n",
      "[7.00000000e-05 7.00000000e-05 1.75000000e-03 5.33080485e-05\n",
      " 1.33270121e-03]\n",
      "[0.00019    0.00019    0.00014469 0.00361733]\n"
     ]
    },
    {
     "data": {
      "application/vnd.jupyter.widget-view+json": {
       "model_id": "15e3c393611a4f6ba1d6a86c7e432e4e",
       "version_major": 2,
       "version_minor": 0
      },
      "text/plain": [
       "  0%|          | 0/5 [00:00<?, ?it/s]"
      ]
     },
     "metadata": {},
     "output_type": "display_data"
    },
    {
     "name": "stdout",
     "output_type": "stream",
     "text": [
      "0.8, 1.9000000000000001 : mean chagne - 0.219726, score change - 0.515380\n",
      "after[3.88644375962124, 7.5498377950927305], before[3.666717828362788, 7.034457791343084]\n",
      "[8.0000000e-05 8.0000000e-05 2.0000000e-03 6.0923484e-05 1.5230871e-03]\n",
      "[0.00019    0.00019    0.00014469 0.00361733]\n"
     ]
    },
    {
     "data": {
      "application/vnd.jupyter.widget-view+json": {
       "model_id": "23f76484242e43e2b21ff05c02093858",
       "version_major": 2,
       "version_minor": 0
      },
      "text/plain": [
       "  0%|          | 0/5 [00:00<?, ?it/s]"
      ]
     },
     "metadata": {},
     "output_type": "display_data"
    },
    {
     "name": "stdout",
     "output_type": "stream",
     "text": [
      "0.9, 1.9000000000000001 : mean chagne - 0.302911, score change - 0.666793\n",
      "after[3.9696290376470156, 7.7012504291932915], before[3.666717828362788, 7.034457791343084]\n",
      "[9.00000000e-05 9.00000000e-05 2.25000000e-03 6.85389195e-05\n",
      " 1.71347299e-03]\n",
      "[0.00019    0.00019    0.00014469 0.00361733]\n"
     ]
    },
    {
     "data": {
      "application/vnd.jupyter.widget-view+json": {
       "model_id": "4288fab58ec940099bd7bee0b3f5f38f",
       "version_major": 2,
       "version_minor": 0
      },
      "text/plain": [
       "  0%|          | 0/5 [00:00<?, ?it/s]"
      ]
     },
     "metadata": {},
     "output_type": "display_data"
    },
    {
     "name": "stdout",
     "output_type": "stream",
     "text": [
      "1.0, 1.9000000000000001 : mean chagne - 0.277256, score change - 0.643727\n",
      "after[3.943973805190534, 7.678184481567749], before[3.666717828362788, 7.034457791343084]\n",
      "[1.00000000e-04 1.00000000e-04 2.50000000e-03 7.61543549e-05\n",
      " 1.90385887e-03]\n",
      "[0.00019    0.00019    0.00014469 0.00361733]\n"
     ]
    },
    {
     "data": {
      "application/vnd.jupyter.widget-view+json": {
       "model_id": "9d05e8df4ebe44699b071b31feb1a709",
       "version_major": 2,
       "version_minor": 0
      },
      "text/plain": [
       "  0%|          | 0/5 [00:00<?, ?it/s]"
      ]
     },
     "metadata": {},
     "output_type": "display_data"
    },
    {
     "name": "stdout",
     "output_type": "stream",
     "text": [
      "1.1, 1.9000000000000001 : mean chagne - 0.102897, score change - 0.213921\n",
      "after[3.7696151599620737, 7.248379150903017], before[3.666717828362788, 7.034457791343084]\n",
      "[1.10000000e-04 1.10000000e-04 2.75000000e-03 8.37697904e-05\n",
      " 2.09424476e-03]\n",
      "[0.00019    0.00019    0.00014469 0.00361733]\n"
     ]
    },
    {
     "data": {
      "application/vnd.jupyter.widget-view+json": {
       "model_id": "b0c9c80ce2d647d6a851ee23d3b61cc5",
       "version_major": 2,
       "version_minor": 0
      },
      "text/plain": [
       "  0%|          | 0/5 [00:00<?, ?it/s]"
      ]
     },
     "metadata": {},
     "output_type": "display_data"
    },
    {
     "name": "stdout",
     "output_type": "stream",
     "text": [
      "1.2000000000000002, 1.9000000000000001 : mean chagne - 1.369879, score change - 2.342078\n",
      "after[5.036596399252316, 9.376535478510544], before[3.666717828362788, 7.034457791343084]\n",
      "[1.20000000e-04 1.20000000e-04 3.00000000e-03 9.13852259e-05\n",
      " 2.28463065e-03]\n",
      "[0.00019    0.00019    0.00014469 0.00361733]\n"
     ]
    },
    {
     "data": {
      "application/vnd.jupyter.widget-view+json": {
       "model_id": "1f046def85c34f5f897552ce4829ad0f",
       "version_major": 2,
       "version_minor": 0
      },
      "text/plain": [
       "  0%|          | 0/5 [00:00<?, ?it/s]"
      ]
     },
     "metadata": {},
     "output_type": "display_data"
    },
    {
     "name": "stdout",
     "output_type": "stream",
     "text": [
      "1.3000000000000003, 1.9000000000000001 : mean chagne - 0.087654, score change - 0.175083\n",
      "after[3.7543716156681253, 7.209540766611612], before[3.666717828362788, 7.034457791343084]\n",
      "[1.30000000e-04 1.30000000e-04 3.25000000e-03 9.90006614e-05\n",
      " 2.47501654e-03]\n",
      "[0.00019    0.00019    0.00014469 0.00361733]\n"
     ]
    },
    {
     "data": {
      "application/vnd.jupyter.widget-view+json": {
       "model_id": "7a8bae3ba7c6428ab3dea438b44d59c0",
       "version_major": 2,
       "version_minor": 0
      },
      "text/plain": [
       "  0%|          | 0/5 [00:00<?, ?it/s]"
      ]
     },
     "metadata": {},
     "output_type": "display_data"
    },
    {
     "name": "stdout",
     "output_type": "stream",
     "text": [
      "1.4000000000000001, 1.9000000000000001 : mean chagne - 1.373329, score change - 2.447985\n",
      "after[5.040046897791071, 9.482442890511606], before[3.666717828362788, 7.034457791343084]\n",
      "[0.00014    0.00014    0.0035     0.00010662 0.0026654 ]\n",
      "[0.00019    0.00019    0.00014469 0.00361733]\n"
     ]
    },
    {
     "data": {
      "application/vnd.jupyter.widget-view+json": {
       "model_id": "90476d90a87843f0960eca9842c2748c",
       "version_major": 2,
       "version_minor": 0
      },
      "text/plain": [
       "  0%|          | 0/5 [00:00<?, ?it/s]"
      ]
     },
     "metadata": {},
     "output_type": "display_data"
    },
    {
     "name": "stdout",
     "output_type": "stream",
     "text": [
      "1.5000000000000002, 1.9000000000000001 : mean chagne - 0.245942, score change - 0.710510\n",
      "after[3.9126594274840474, 7.744968047041008], before[3.666717828362788, 7.034457791343084]\n",
      "[0.00015    0.00015    0.00375    0.00011423 0.00285579]\n",
      "[0.00019    0.00019    0.00014469 0.00361733]\n"
     ]
    },
    {
     "data": {
      "application/vnd.jupyter.widget-view+json": {
       "model_id": "7f746b65ed704286930bf7165715aba3",
       "version_major": 2,
       "version_minor": 0
      },
      "text/plain": [
       "  0%|          | 0/5 [00:00<?, ?it/s]"
      ]
     },
     "metadata": {},
     "output_type": "display_data"
    },
    {
     "name": "stdout",
     "output_type": "stream",
     "text": [
      "1.6, 1.9000000000000001 : mean chagne - 0.181949, score change - 0.391768\n",
      "after[3.8486665440933367, 7.426225720875263], before[3.666717828362788, 7.034457791343084]\n",
      "[0.00016    0.00016    0.004      0.00012185 0.00304617]\n",
      "[0.00019    0.00019    0.00014469 0.00361733]\n"
     ]
    },
    {
     "data": {
      "application/vnd.jupyter.widget-view+json": {
       "model_id": "3112b385a0e84accb84e69389769b58d",
       "version_major": 2,
       "version_minor": 0
      },
      "text/plain": [
       "  0%|          | 0/5 [00:00<?, ?it/s]"
      ]
     },
     "metadata": {},
     "output_type": "display_data"
    },
    {
     "name": "stdout",
     "output_type": "stream",
     "text": [
      "1.7000000000000002, 1.9000000000000001 : mean chagne - 6.141247, score change - 23.398965\n",
      "after[9.807964428854811, 30.433422800784076], before[3.666717828362788, 7.034457791343084]\n",
      "[0.00017    0.00017    0.00425    0.00012946 0.00323656]\n",
      "[0.00019    0.00019    0.00014469 0.00361733]\n"
     ]
    },
    {
     "data": {
      "application/vnd.jupyter.widget-view+json": {
       "model_id": "c5f64e0d232747268022f729f46f166a",
       "version_major": 2,
       "version_minor": 0
      },
      "text/plain": [
       "  0%|          | 0/5 [00:00<?, ?it/s]"
      ]
     },
     "metadata": {},
     "output_type": "display_data"
    },
    {
     "name": "stdout",
     "output_type": "stream",
     "text": [
      "1.8000000000000003, 1.9000000000000001 : mean chagne - 0.223450, score change - 0.489419\n",
      "after[3.890167834955804, 7.523877015088426], before[3.666717828362788, 7.034457791343084]\n",
      "[0.00018    0.00018    0.0045     0.00013708 0.00342695]\n",
      "[0.00019    0.00019    0.00014469 0.00361733]\n"
     ]
    },
    {
     "data": {
      "application/vnd.jupyter.widget-view+json": {
       "model_id": "8192c77fad7f4e569a45b77d9f6d6f0e",
       "version_major": 2,
       "version_minor": 0
      },
      "text/plain": [
       "  0%|          | 0/5 [00:00<?, ?it/s]"
      ]
     },
     "metadata": {},
     "output_type": "display_data"
    },
    {
     "name": "stdout",
     "output_type": "stream",
     "text": [
      "1.9000000000000001, 1.9000000000000001 : mean chagne - 0.088139, score change - 0.212766\n",
      "after[3.7548566268145462, 7.2472239028377174], before[3.666717828362788, 7.034457791343084]\n",
      "[0.00019    0.00019    0.00475    0.00014469 0.00361733]\n",
      "[0.00019    0.00019    0.00014469 0.00361733]\n"
     ]
    }
   ],
   "source": [
    "q_gain_list = np.arange(0.1, 2, 0.1)\n",
    "r_gain_list = np.arange(0.1, 2, 0.1)\n",
    "\n",
    "q_ = np.array([0.01, 0.01, 0.05, 0.5*np.pi/180, 2.5*np.pi/180])**2\n",
    "r_ = np.array([0.01, 0.01, 0.5*np.pi/180, 2.5*np.pi/180])**2\n",
    "phones = df_train['phone'].unique()\n",
    "sample_phone = np.random.choice(phones, 5, replace = False)\n",
    "sample_index = df_train['phone'].apply(lambda x: x in sample_phone)\n",
    "\n",
    "\n",
    "result_list = []\n",
    "iter_count = 0\n",
    "for r_gain in r_gain_list:\n",
    "    for q_gain in q_gain_list:\n",
    "        iter_count += 1\n",
    "        q = q_gain * q_\n",
    "        r = r_gain * r_\n",
    "        _, mean_before, score_before, mean_after, score_after = evaluate(df_train[sample_index], q, r)\n",
    "        result = [q, r, mean_after, mean_before, score_after, score_before]\n",
    "        print(f\"{q_gain}, {r_gain} : mean chagne - {mean_after - mean_before:.6f}, score change - {score_after - score_before:.6f}\")\n",
    "        print(f\"after[{mean_after}, {score_after}], before[{mean_before}, {score_before}]\")\n",
    "        print(q_gain * q_)\n",
    "        print(r_gain * r_)\n",
    "        result_list.append(result)"
   ]
  },
  {
   "cell_type": "code",
   "execution_count": 13,
   "metadata": {
    "ExecuteTime": {
     "end_time": "2021-07-06T21:21:47.600814Z",
     "start_time": "2021-07-06T21:17:16.935067Z"
    },
    "scrolled": true
   },
   "outputs": [
    {
     "data": {
      "application/vnd.jupyter.widget-view+json": {
       "model_id": "6f668a0e05f241d0a552e9ef04b4b585",
       "version_major": 2,
       "version_minor": 0
      },
      "text/plain": [
       "  0%|          | 0/73 [00:00<?, ?it/s]"
      ]
     },
     "metadata": {},
     "output_type": "display_data"
    },
    {
     "name": "stdout",
     "output_type": "stream",
     "text": [
      "0.1, 0.1 : mean chagne - 3.175018, score change - 7.199920\n",
      "after[7.021866761818569, 12.487890582667237], before[3.84684837499064, 5.2879706490841585]\n"
     ]
    },
    {
     "data": {
      "application/vnd.jupyter.widget-view+json": {
       "model_id": "8f04e2cb8da649e0bb91e3f2f74c3302",
       "version_major": 2,
       "version_minor": 0
      },
      "text/plain": [
       "  0%|          | 0/73 [00:00<?, ?it/s]"
      ]
     },
     "metadata": {},
     "output_type": "display_data"
    },
    {
     "name": "stdout",
     "output_type": "stream",
     "text": [
      "0.1, 0.2 : mean chagne - 3.786547, score change - 9.053881\n",
      "after[7.6333954147533705, 14.34185213488532], before[3.84684837499064, 5.2879706490841585]\n"
     ]
    },
    {
     "data": {
      "application/vnd.jupyter.widget-view+json": {
       "model_id": "7173af77d9a740ae8371b0b949a5a763",
       "version_major": 2,
       "version_minor": 0
      },
      "text/plain": [
       "  0%|          | 0/73 [00:00<?, ?it/s]"
      ]
     },
     "metadata": {},
     "output_type": "display_data"
    },
    {
     "ename": "KeyboardInterrupt",
     "evalue": "",
     "output_type": "error",
     "traceback": [
      "\u001b[1;31m---------------------------------------------------------------------------\u001b[0m",
      "\u001b[1;31mKeyboardInterrupt\u001b[0m                         Traceback (most recent call last)",
      "\u001b[1;32m<ipython-input-13-51eef7da9c71>\u001b[0m in \u001b[0;36m<module>\u001b[1;34m\u001b[0m\n\u001b[0;32m     17\u001b[0m \u001b[1;31m#         sample_index = df_train['phone'].apply(lambda x: x in sample_phone)\u001b[0m\u001b[1;33m\u001b[0m\u001b[1;33m\u001b[0m\u001b[1;33m\u001b[0m\u001b[0m\n\u001b[0;32m     18\u001b[0m \u001b[1;31m#         _, mean_before, score_before, mean_after, score_after = evaluate(df_train[sample_index], q, r)\u001b[0m\u001b[1;33m\u001b[0m\u001b[1;33m\u001b[0m\u001b[1;33m\u001b[0m\u001b[0m\n\u001b[1;32m---> 19\u001b[1;33m         \u001b[0m_\u001b[0m\u001b[1;33m,\u001b[0m \u001b[0mmean_before\u001b[0m\u001b[1;33m,\u001b[0m \u001b[0mscore_before\u001b[0m\u001b[1;33m,\u001b[0m \u001b[0mmean_after\u001b[0m\u001b[1;33m,\u001b[0m \u001b[0mscore_after\u001b[0m \u001b[1;33m=\u001b[0m \u001b[0mevaluate\u001b[0m\u001b[1;33m(\u001b[0m\u001b[0mdf_train\u001b[0m\u001b[1;33m,\u001b[0m \u001b[0mq\u001b[0m\u001b[1;33m,\u001b[0m \u001b[0mr\u001b[0m\u001b[1;33m)\u001b[0m\u001b[1;33m\u001b[0m\u001b[1;33m\u001b[0m\u001b[0m\n\u001b[0m\u001b[0;32m     20\u001b[0m         \u001b[0mresult\u001b[0m \u001b[1;33m=\u001b[0m \u001b[1;33m[\u001b[0m\u001b[0mq\u001b[0m\u001b[1;33m,\u001b[0m \u001b[0mr\u001b[0m\u001b[1;33m,\u001b[0m \u001b[0mmean_after\u001b[0m\u001b[1;33m,\u001b[0m \u001b[0mmean_before\u001b[0m\u001b[1;33m,\u001b[0m \u001b[0mscore_after\u001b[0m\u001b[1;33m,\u001b[0m \u001b[0mscore_before\u001b[0m\u001b[1;33m]\u001b[0m\u001b[1;33m\u001b[0m\u001b[1;33m\u001b[0m\u001b[0m\n\u001b[0;32m     21\u001b[0m         \u001b[0mprint\u001b[0m\u001b[1;33m(\u001b[0m\u001b[1;34mf\"{q_gain}, {r_gain} : mean chagne - {mean_after - mean_before:.6f}, score change - {score_after - score_before:.6f}\"\u001b[0m\u001b[1;33m)\u001b[0m\u001b[1;33m\u001b[0m\u001b[1;33m\u001b[0m\u001b[0m\n",
      "\u001b[1;32m<ipython-input-12-4842381d62b8>\u001b[0m in \u001b[0;36mevaluate\u001b[1;34m(df, q_, r_, get_score)\u001b[0m\n\u001b[0;32m      7\u001b[0m     \u001b[1;32mfor\u001b[0m \u001b[0mphone\u001b[0m \u001b[1;32min\u001b[0m \u001b[0mtqdm\u001b[0m\u001b[1;33m(\u001b[0m\u001b[0mdf\u001b[0m\u001b[1;33m[\u001b[0m\u001b[1;34m'phone'\u001b[0m\u001b[1;33m]\u001b[0m\u001b[1;33m.\u001b[0m\u001b[0munique\u001b[0m\u001b[1;33m(\u001b[0m\u001b[1;33m)\u001b[0m\u001b[1;33m)\u001b[0m\u001b[1;33m:\u001b[0m\u001b[1;33m\u001b[0m\u001b[1;33m\u001b[0m\u001b[0m\n\u001b[0;32m      8\u001b[0m         \u001b[0mdf1\u001b[0m \u001b[1;33m=\u001b[0m \u001b[0mdf\u001b[0m\u001b[1;33m[\u001b[0m\u001b[0mdf\u001b[0m\u001b[1;33m[\u001b[0m\u001b[1;34m'phone'\u001b[0m\u001b[1;33m]\u001b[0m \u001b[1;33m==\u001b[0m \u001b[0mphone\u001b[0m\u001b[1;33m]\u001b[0m\u001b[1;33m.\u001b[0m\u001b[0mcopy\u001b[0m\u001b[1;33m(\u001b[0m\u001b[1;33m)\u001b[0m\u001b[1;33m\u001b[0m\u001b[1;33m\u001b[0m\u001b[0m\n\u001b[1;32m----> 9\u001b[1;33m         \u001b[0mdf2\u001b[0m \u001b[1;33m=\u001b[0m \u001b[0mbatch_filter\u001b[0m\u001b[1;33m(\u001b[0m\u001b[0mdf1\u001b[0m\u001b[1;33m,\u001b[0m \u001b[0mq_\u001b[0m\u001b[1;33m,\u001b[0m \u001b[0mr_\u001b[0m\u001b[1;33m)\u001b[0m\u001b[1;33m\u001b[0m\u001b[1;33m\u001b[0m\u001b[0m\n\u001b[0m\u001b[0;32m     10\u001b[0m         \u001b[0mdf_list\u001b[0m\u001b[1;33m.\u001b[0m\u001b[0mappend\u001b[0m\u001b[1;33m(\u001b[0m\u001b[0mdf2\u001b[0m\u001b[1;33m[\u001b[0m\u001b[1;33m[\u001b[0m\u001b[1;34m'phone'\u001b[0m\u001b[1;33m,\u001b[0m \u001b[1;34m'millisSinceGpsEpoch'\u001b[0m\u001b[1;33m,\u001b[0m \u001b[1;34m'latDeg'\u001b[0m\u001b[1;33m,\u001b[0m \u001b[1;34m'lngDeg'\u001b[0m\u001b[1;33m]\u001b[0m\u001b[1;33m]\u001b[0m\u001b[1;33m)\u001b[0m\u001b[1;33m\u001b[0m\u001b[1;33m\u001b[0m\u001b[0m\n\u001b[0;32m     11\u001b[0m     \u001b[0mdf3\u001b[0m \u001b[1;33m=\u001b[0m \u001b[0mpd\u001b[0m\u001b[1;33m.\u001b[0m\u001b[0mconcat\u001b[0m\u001b[1;33m(\u001b[0m\u001b[0mdf_list\u001b[0m\u001b[1;33m)\u001b[0m\u001b[1;33m\u001b[0m\u001b[1;33m\u001b[0m\u001b[0m\n",
      "\u001b[1;32m<ipython-input-11-cd272c751283>\u001b[0m in \u001b[0;36mbatch_filter\u001b[1;34m(df, q_, r_)\u001b[0m\n\u001b[0;32m     31\u001b[0m     \u001b[0mkf\u001b[0m\u001b[1;33m.\u001b[0m\u001b[0mR\u001b[0m \u001b[1;33m=\u001b[0m \u001b[0mnp\u001b[0m\u001b[1;33m.\u001b[0m\u001b[0mdiag\u001b[0m\u001b[1;33m(\u001b[0m\u001b[0mr\u001b[0m\u001b[1;33m)\u001b[0m\u001b[1;33m\u001b[0m\u001b[1;33m\u001b[0m\u001b[0m\n\u001b[0;32m     32\u001b[0m \u001b[1;33m\u001b[0m\u001b[0m\n\u001b[1;32m---> 33\u001b[1;33m     \u001b[0mmu\u001b[0m\u001b[1;33m,\u001b[0m \u001b[0mcov\u001b[0m \u001b[1;33m=\u001b[0m \u001b[0mkf\u001b[0m\u001b[1;33m.\u001b[0m\u001b[0mbatch_filter\u001b[0m\u001b[1;33m(\u001b[0m\u001b[0mmeas\u001b[0m\u001b[1;33m.\u001b[0m\u001b[0mvalues\u001b[0m\u001b[1;33m)\u001b[0m\u001b[1;33m\u001b[0m\u001b[1;33m\u001b[0m\u001b[0m\n\u001b[0m\u001b[0;32m     34\u001b[0m     \u001b[1;33m(\u001b[0m\u001b[0mxs\u001b[0m\u001b[1;33m,\u001b[0m \u001b[0mPs\u001b[0m\u001b[1;33m,\u001b[0m \u001b[0mKs\u001b[0m\u001b[1;33m)\u001b[0m \u001b[1;33m=\u001b[0m \u001b[0mkf\u001b[0m\u001b[1;33m.\u001b[0m\u001b[0mrts_smoother\u001b[0m\u001b[1;33m(\u001b[0m\u001b[0mmu\u001b[0m\u001b[1;33m,\u001b[0m \u001b[0mcov\u001b[0m\u001b[1;33m)\u001b[0m\u001b[1;33m\u001b[0m\u001b[1;33m\u001b[0m\u001b[0m\n\u001b[0;32m     35\u001b[0m     \u001b[0mdf2\u001b[0m \u001b[1;33m=\u001b[0m \u001b[0mdf1\u001b[0m\u001b[1;33m.\u001b[0m\u001b[0mcopy\u001b[0m\u001b[1;33m(\u001b[0m\u001b[1;33m)\u001b[0m\u001b[1;33m\u001b[0m\u001b[1;33m\u001b[0m\u001b[0m\n",
      "\u001b[1;32mD:\\Sangwons_Room\\00_SoftWares\\Anaconda\\envs\\torch\\lib\\site-packages\\filterpy\\kalman\\UKF.py\u001b[0m in \u001b[0;36mbatch_filter\u001b[1;34m(self, zs, Rs, dts, UT, saver)\u001b[0m\n\u001b[0;32m    602\u001b[0m \u001b[1;33m\u001b[0m\u001b[0m\n\u001b[0;32m    603\u001b[0m         \u001b[1;32mfor\u001b[0m \u001b[0mi\u001b[0m\u001b[1;33m,\u001b[0m \u001b[1;33m(\u001b[0m\u001b[0mz\u001b[0m\u001b[1;33m,\u001b[0m \u001b[0mr\u001b[0m\u001b[1;33m,\u001b[0m \u001b[0mdt\u001b[0m\u001b[1;33m)\u001b[0m \u001b[1;32min\u001b[0m \u001b[0menumerate\u001b[0m\u001b[1;33m(\u001b[0m\u001b[0mzip\u001b[0m\u001b[1;33m(\u001b[0m\u001b[0mzs\u001b[0m\u001b[1;33m,\u001b[0m \u001b[0mRs\u001b[0m\u001b[1;33m,\u001b[0m \u001b[0mdts\u001b[0m\u001b[1;33m)\u001b[0m\u001b[1;33m)\u001b[0m\u001b[1;33m:\u001b[0m\u001b[1;33m\u001b[0m\u001b[1;33m\u001b[0m\u001b[0m\n\u001b[1;32m--> 604\u001b[1;33m             \u001b[0mself\u001b[0m\u001b[1;33m.\u001b[0m\u001b[0mpredict\u001b[0m\u001b[1;33m(\u001b[0m\u001b[0mdt\u001b[0m\u001b[1;33m=\u001b[0m\u001b[0mdt\u001b[0m\u001b[1;33m,\u001b[0m \u001b[0mUT\u001b[0m\u001b[1;33m=\u001b[0m\u001b[0mUT\u001b[0m\u001b[1;33m)\u001b[0m\u001b[1;33m\u001b[0m\u001b[1;33m\u001b[0m\u001b[0m\n\u001b[0m\u001b[0;32m    605\u001b[0m             \u001b[0mself\u001b[0m\u001b[1;33m.\u001b[0m\u001b[0mupdate\u001b[0m\u001b[1;33m(\u001b[0m\u001b[0mz\u001b[0m\u001b[1;33m,\u001b[0m \u001b[0mr\u001b[0m\u001b[1;33m,\u001b[0m \u001b[0mUT\u001b[0m\u001b[1;33m=\u001b[0m\u001b[0mUT\u001b[0m\u001b[1;33m)\u001b[0m\u001b[1;33m\u001b[0m\u001b[1;33m\u001b[0m\u001b[0m\n\u001b[0;32m    606\u001b[0m             \u001b[0mmeans\u001b[0m\u001b[1;33m[\u001b[0m\u001b[0mi\u001b[0m\u001b[1;33m,\u001b[0m \u001b[1;33m:\u001b[0m\u001b[1;33m]\u001b[0m \u001b[1;33m=\u001b[0m \u001b[0mself\u001b[0m\u001b[1;33m.\u001b[0m\u001b[0mx\u001b[0m\u001b[1;33m\u001b[0m\u001b[1;33m\u001b[0m\u001b[0m\n",
      "\u001b[1;32mD:\\Sangwons_Room\\00_SoftWares\\Anaconda\\envs\\torch\\lib\\site-packages\\filterpy\\kalman\\UKF.py\u001b[0m in \u001b[0;36mpredict\u001b[1;34m(self, dt, UT, fx, **fx_args)\u001b[0m\n\u001b[0;32m    390\u001b[0m         \u001b[1;31m#and pass sigmas through the unscented transform to compute prior\u001b[0m\u001b[1;33m\u001b[0m\u001b[1;33m\u001b[0m\u001b[1;33m\u001b[0m\u001b[0m\n\u001b[0;32m    391\u001b[0m         self.x, self.P = UT(self.sigmas_f, self.Wm, self.Wc, self.Q,\n\u001b[1;32m--> 392\u001b[1;33m                             self.x_mean, self.residual_x)\n\u001b[0m\u001b[0;32m    393\u001b[0m \u001b[1;33m\u001b[0m\u001b[0m\n\u001b[0;32m    394\u001b[0m         \u001b[1;31m# save prior\u001b[0m\u001b[1;33m\u001b[0m\u001b[1;33m\u001b[0m\u001b[1;33m\u001b[0m\u001b[0m\n",
      "\u001b[1;32mD:\\Sangwons_Room\\00_SoftWares\\Anaconda\\envs\\torch\\lib\\site-packages\\filterpy\\kalman\\unscented_transform.py\u001b[0m in \u001b[0;36munscented_transform\u001b[1;34m(sigmas, Wm, Wc, noise_cov, mean_fn, residual_fn)\u001b[0m\n\u001b[0;32m    116\u001b[0m     \u001b[1;32mif\u001b[0m \u001b[0mresidual_fn\u001b[0m \u001b[1;32mis\u001b[0m \u001b[0mnp\u001b[0m\u001b[1;33m.\u001b[0m\u001b[0msubtract\u001b[0m \u001b[1;32mor\u001b[0m \u001b[0mresidual_fn\u001b[0m \u001b[1;32mis\u001b[0m \u001b[1;32mNone\u001b[0m\u001b[1;33m:\u001b[0m\u001b[1;33m\u001b[0m\u001b[1;33m\u001b[0m\u001b[0m\n\u001b[0;32m    117\u001b[0m         \u001b[0my\u001b[0m \u001b[1;33m=\u001b[0m \u001b[0msigmas\u001b[0m \u001b[1;33m-\u001b[0m \u001b[0mx\u001b[0m\u001b[1;33m[\u001b[0m\u001b[0mnp\u001b[0m\u001b[1;33m.\u001b[0m\u001b[0mnewaxis\u001b[0m\u001b[1;33m,\u001b[0m \u001b[1;33m:\u001b[0m\u001b[1;33m]\u001b[0m\u001b[1;33m\u001b[0m\u001b[1;33m\u001b[0m\u001b[0m\n\u001b[1;32m--> 118\u001b[1;33m         \u001b[0mP\u001b[0m \u001b[1;33m=\u001b[0m \u001b[0mnp\u001b[0m\u001b[1;33m.\u001b[0m\u001b[0mdot\u001b[0m\u001b[1;33m(\u001b[0m\u001b[0my\u001b[0m\u001b[1;33m.\u001b[0m\u001b[0mT\u001b[0m\u001b[1;33m,\u001b[0m \u001b[0mnp\u001b[0m\u001b[1;33m.\u001b[0m\u001b[0mdot\u001b[0m\u001b[1;33m(\u001b[0m\u001b[0mnp\u001b[0m\u001b[1;33m.\u001b[0m\u001b[0mdiag\u001b[0m\u001b[1;33m(\u001b[0m\u001b[0mWc\u001b[0m\u001b[1;33m)\u001b[0m\u001b[1;33m,\u001b[0m \u001b[0my\u001b[0m\u001b[1;33m)\u001b[0m\u001b[1;33m)\u001b[0m\u001b[1;33m\u001b[0m\u001b[1;33m\u001b[0m\u001b[0m\n\u001b[0m\u001b[0;32m    119\u001b[0m     \u001b[1;32melse\u001b[0m\u001b[1;33m:\u001b[0m\u001b[1;33m\u001b[0m\u001b[1;33m\u001b[0m\u001b[0m\n\u001b[0;32m    120\u001b[0m         \u001b[0mP\u001b[0m \u001b[1;33m=\u001b[0m \u001b[0mnp\u001b[0m\u001b[1;33m.\u001b[0m\u001b[0mzeros\u001b[0m\u001b[1;33m(\u001b[0m\u001b[1;33m(\u001b[0m\u001b[0mn\u001b[0m\u001b[1;33m,\u001b[0m \u001b[0mn\u001b[0m\u001b[1;33m)\u001b[0m\u001b[1;33m)\u001b[0m\u001b[1;33m\u001b[0m\u001b[1;33m\u001b[0m\u001b[0m\n",
      "\u001b[1;32m<__array_function__ internals>\u001b[0m in \u001b[0;36mdot\u001b[1;34m(*args, **kwargs)\u001b[0m\n",
      "\u001b[1;31mKeyboardInterrupt\u001b[0m: "
     ]
    }
   ],
   "source": [
    "q_gain_list = np.arange(0.1, 2, 0.1)\n",
    "r_gain_list = np.arange(0.1, 2, 0.1)\n",
    "\n",
    "q_ = np.array([0.01, 0.01, 0.1, 1*np.pi/180, 10*np.pi/180])**2\n",
    "r_ = np.array([0.1, 0.1, 5 * np.pi/180, 20 * np.pi/180])**2\n",
    "phones = df_train['phone'].unique()\n",
    "\n",
    "\n",
    "result_list = []\n",
    "iter_count = 0\n",
    "for q_gain in q_gain_list:\n",
    "    for r_gain in r_gain_list:\n",
    "        iter_count += 1\n",
    "        q = q_gain * q_\n",
    "        r = r_gain * r_\n",
    "#         sample_phone = np.random.choice(phones, 13, replace = False)\n",
    "#         sample_index = df_train['phone'].apply(lambda x: x in sample_phone)\n",
    "#         _, mean_before, score_before, mean_after, score_after = evaluate(df_train[sample_index], q, r)\n",
    "        _, mean_before, score_before, mean_after, score_after = evaluate(df_train, q, r)\n",
    "        result = [q, r, mean_after, mean_before, score_after, score_before]\n",
    "        print(f\"{q_gain}, {r_gain} : mean chagne - {mean_after - mean_before:.6f}, score change - {score_after - score_before:.6f}\")\n",
    "        print(f\"after[{mean_after}, {score_after}], before[{mean_before}, {score_before}]\")\n",
    "        result_list.append(result)"
   ]
  },
  {
   "cell_type": "code",
   "execution_count": 18,
   "metadata": {
    "ExecuteTime": {
     "end_time": "2021-07-06T22:47:19.912102Z",
     "start_time": "2021-07-06T22:47:19.867103Z"
    }
   },
   "outputs": [],
   "source": [
    "df = pd.DataFrame(result_list, columns = ['q', 'r', 'mean_after', 'mean_before', 'score_after', 'score_before'])\n"
   ]
  },
  {
   "cell_type": "code",
   "execution_count": 21,
   "metadata": {
    "ExecuteTime": {
     "end_time": "2021-07-06T22:47:46.634521Z",
     "start_time": "2021-07-06T22:47:46.618795Z"
    }
   },
   "outputs": [],
   "source": [
    "df['qgain'] = df['q'].apply(lambda x: x.mean())\n",
    "df['rgain'] = df['r'].apply(lambda x: x.mean())\n",
    "df['change_score'] = df['score_after'] - df['score_before']"
   ]
  },
  {
   "cell_type": "code",
   "execution_count": null,
   "metadata": {
    "ExecuteTime": {
     "end_time": "2021-07-06T21:21:47.604816Z",
     "start_time": "2021-07-06T21:16:53.572Z"
    }
   },
   "outputs": [],
   "source": [
    "pt = df.pivot_table('change_score', 'qgain', 'rgain')\n",
    "sns.heatmap(pt)"
   ]
  },
  {
   "cell_type": "code",
   "execution_count": 24,
   "metadata": {
    "ExecuteTime": {
     "end_time": "2021-07-06T22:48:01.116844Z",
     "start_time": "2021-07-06T22:48:01.098845Z"
    },
    "scrolled": true
   },
   "outputs": [
    {
     "name": "stdout",
     "output_type": "stream",
     "text": [
      "[1.10000000e-04 1.10000000e-04 2.75000000e-03 8.37697904e-05\n",
      " 2.09424476e-03] [8.0000000e-05 8.0000000e-05 6.0923484e-05 1.5230871e-03]\n"
     ]
    }
   ],
   "source": [
    "q = df.loc[df['change_score'].min() == df['change_score'], 'q'].values[0]\n",
    "r = df.loc[df['change_score'].min() == df['change_score'], 'r'].values[0]\n",
    "print(q, r)"
   ]
  },
  {
   "cell_type": "code",
   "execution_count": null,
   "metadata": {
    "ExecuteTime": {
     "start_time": "2021-07-06T22:48:01.929Z"
    }
   },
   "outputs": [
    {
     "data": {
      "application/vnd.jupyter.widget-view+json": {
       "model_id": "01070001d92140bc852f36d3be36099f",
       "version_major": 2,
       "version_minor": 0
      },
      "text/plain": [
       "  0%|          | 0/73 [00:00<?, ?it/s]"
      ]
     },
     "metadata": {},
     "output_type": "display_data"
    }
   ],
   "source": [
    "_, mean_before, score_before, mean_after, score_after =  evaluate(df_train, q, r)\n",
    "print(mean_before, score_before, mean_after, score_after)\n",
    "print(f\"mean change : {mean_after - mean_before:.4f}\")\n",
    "print(f\"score change: {score_after - score_before:.4f}\")"
   ]
  },
  {
   "cell_type": "code",
   "execution_count": null,
   "metadata": {},
   "outputs": [],
   "source": []
  },
  {
   "cell_type": "code",
   "execution_count": null,
   "metadata": {
    "ExecuteTime": {
     "end_time": "2021-07-06T21:21:47.606815Z",
     "start_time": "2021-07-06T21:16:53.575Z"
    }
   },
   "outputs": [],
   "source": [
    "submission = pd.read_csv(\"../input/google-smartphone-decimeter-challenge/sample_submission.csv\")\n",
    "submission = submission[['phone', 'millisSinceGpsEpoch']]"
   ]
  },
  {
   "cell_type": "code",
   "execution_count": null,
   "metadata": {
    "ExecuteTime": {
     "end_time": "2021-07-06T21:21:47.607815Z",
     "start_time": "2021-07-06T21:16:53.576Z"
    }
   },
   "outputs": [],
   "source": [
    "result, _, _, _, _ =  evaluate(df_test, q, r, get_score=False)\n",
    "result = result[['phone', 'millisSinceGpsEpoch', 'latDeg', 'lngDeg']]\n",
    "submission = submission.merge(result, on = ['phone', 'millisSinceGpsEpoch'])"
   ]
  },
  {
   "cell_type": "code",
   "execution_count": null,
   "metadata": {
    "ExecuteTime": {
     "end_time": "2021-07-06T21:21:47.607815Z",
     "start_time": "2021-07-06T21:16:53.577Z"
    }
   },
   "outputs": [],
   "source": [
    "submission.to_csv(f\"./models/{'ComplexKalmanFilter1'}/result-{4}result.csv\", index = False)"
   ]
  }
 ],
 "metadata": {
  "hide_input": false,
  "kernelspec": {
   "display_name": "torch",
   "language": "python",
   "name": "torch"
  },
  "language_info": {
   "codemirror_mode": {
    "name": "ipython",
    "version": 3
   },
   "file_extension": ".py",
   "mimetype": "text/x-python",
   "name": "python",
   "nbconvert_exporter": "python",
   "pygments_lexer": "ipython3",
   "version": "3.6.12"
  },
  "latex_envs": {
   "LaTeX_envs_menu_present": true,
   "autoclose": false,
   "autocomplete": true,
   "bibliofile": "biblio.bib",
   "cite_by": "apalike",
   "current_citInitial": 1,
   "eqLabelWithNumbers": true,
   "eqNumInitial": 1,
   "hotkeys": {
    "equation": "Ctrl-E",
    "itemize": "Ctrl-I"
   },
   "labels_anchors": false,
   "latex_user_defs": false,
   "report_style_numbering": false,
   "user_envs_cfg": false
  },
  "toc": {
   "base_numbering": 1,
   "nav_menu": {},
   "number_sections": true,
   "sideBar": true,
   "skip_h1_title": false,
   "title_cell": "Table of Contents",
   "title_sidebar": "Contents",
   "toc_cell": false,
   "toc_position": {},
   "toc_section_display": true,
   "toc_window_display": false
  },
  "varInspector": {
   "cols": {
    "lenName": 16,
    "lenType": 16,
    "lenVar": 40
   },
   "kernels_config": {
    "python": {
     "delete_cmd_postfix": "",
     "delete_cmd_prefix": "del ",
     "library": "var_list.py",
     "varRefreshCmd": "print(var_dic_list())"
    },
    "r": {
     "delete_cmd_postfix": ") ",
     "delete_cmd_prefix": "rm(",
     "library": "var_list.r",
     "varRefreshCmd": "cat(var_dic_list()) "
    }
   },
   "types_to_exclude": [
    "module",
    "function",
    "builtin_function_or_method",
    "instance",
    "_Feature"
   ],
   "window_display": false
  }
 },
 "nbformat": 4,
 "nbformat_minor": 4
}
