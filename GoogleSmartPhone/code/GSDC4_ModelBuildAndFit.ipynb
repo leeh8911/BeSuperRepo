{
 "cells": [
  {
   "cell_type": "markdown",
   "metadata": {},
   "source": [
    "# Load Libraries"
   ]
  },
  {
   "cell_type": "code",
   "execution_count": 1,
   "metadata": {
    "ExecuteTime": {
     "end_time": "2021-07-02T09:19:28.515254Z",
     "start_time": "2021-07-02T09:19:25.780255Z"
    }
   },
   "outputs": [],
   "source": [
    "import numpy as np\n",
    "import pandas as pd\n",
    "from glob import glob\n",
    "import os\n",
    "import matplotlib.pyplot as plt\n",
    "from tqdm.notebook import tqdm\n",
    "from pathlib import Path\n",
    "import plotly.express as px\n",
    "\n",
    "import torch\n",
    "import torch.nn as nn\n",
    "import torch.nn.functional as F\n",
    "import torch.optim as optim\n",
    "from torch.utils.data import TensorDataset, DataLoader\n",
    "from sklearn.model_selection import train_test_split\n",
    "from sklearn.preprocessing import StandardScaler, MinMaxScaler\n",
    "\n",
    "import warnings\n",
    "warnings.filterwarnings(action='ignore')"
   ]
  },
  {
   "cell_type": "code",
   "execution_count": 2,
   "metadata": {
    "ExecuteTime": {
     "end_time": "2021-07-02T09:19:28.575558Z",
     "start_time": "2021-07-02T09:19:28.516256Z"
    }
   },
   "outputs": [
    {
     "name": "stdout",
     "output_type": "stream",
     "text": [
      "cuda:0\n"
     ]
    }
   ],
   "source": [
    "device = torch.device('cuda:0' if torch.cuda.is_available() else \"cpu\")\n",
    "print(device)"
   ]
  },
  {
   "cell_type": "markdown",
   "metadata": {},
   "source": [
    "# Set Hyper Parameters"
   ]
  },
  {
   "cell_type": "code",
   "execution_count": 3,
   "metadata": {
    "ExecuteTime": {
     "end_time": "2021-07-02T09:19:28.590558Z",
     "start_time": "2021-07-02T09:19:28.576561Z"
    }
   },
   "outputs": [],
   "source": [
    "nepochs = 100\n",
    "batch_size = 1024\n",
    "learning_rate = 0.01\n",
    "\n",
    "window_size = 100"
   ]
  },
  {
   "cell_type": "markdown",
   "metadata": {},
   "source": [
    "# Set Path"
   ]
  },
  {
   "cell_type": "code",
   "execution_count": 4,
   "metadata": {
    "ExecuteTime": {
     "end_time": "2021-07-02T09:19:28.606147Z",
     "start_time": "2021-07-02T09:19:28.592561Z"
    }
   },
   "outputs": [],
   "source": [
    "data_dir = Path(\"../input/google-smartphone-decimeter-challenge\")"
   ]
  },
  {
   "cell_type": "markdown",
   "metadata": {},
   "source": [
    "# Help Functions"
   ]
  },
  {
   "cell_type": "code",
   "execution_count": 5,
   "metadata": {
    "ExecuteTime": {
     "end_time": "2021-07-02T09:19:28.621178Z",
     "start_time": "2021-07-02T09:19:28.607146Z"
    }
   },
   "outputs": [],
   "source": [
    "def calc_haversine(lat1, lon1, lat2, lon2):\n",
    "    dlat = (lat2 - lat1) % 360\n",
    "    dlon = (lon2 - lon1) % 360 \n",
    "    \n",
    "    dlat, dlon = map(np.radians, [dlat, dlon])\n",
    "    a = np.sin(dlat / 2.0)**2 + np.cos(lat1) * np.cos(lat2) * np.sin(dlon / 2.0)**2\n",
    "    c = 2 * np.arcsin(a ** 0.5)\n",
    "        \n",
    "    dist = 6_367_000 * c\n",
    "    return dist"
   ]
  },
  {
   "cell_type": "code",
   "execution_count": 6,
   "metadata": {
    "ExecuteTime": {
     "end_time": "2021-07-02T09:19:28.635915Z",
     "start_time": "2021-07-02T09:19:28.622175Z"
    }
   },
   "outputs": [],
   "source": [
    "def check_score_np(predict:torch.Tensor, target:torch.Tensor):\n",
    "    m = []\n",
    "    predict = predict.detach().numpy()\n",
    "    target = target.detach().numpy()\n",
    "    for i in range(predict.shape[0]):\n",
    "        temp = calc_haversine(predict[i,0], predict[i,1], target[i,0], target[i,1])\n",
    "        m.append(temp)\n",
    "    \n",
    "    m = np.array(m)\n",
    "    m = m[np.invert(np.isnan(m))]\n",
    "    if m.shape[0] == 0:\n",
    "        score = np.inf\n",
    "    else:\n",
    "        score = (np.percentile(m, 50) + np.percentile(m, 95))/2\n",
    "    \n",
    "    return score"
   ]
  },
  {
   "cell_type": "markdown",
   "metadata": {},
   "source": [
    "# Load Data"
   ]
  },
  {
   "cell_type": "code",
   "execution_count": 7,
   "metadata": {
    "ExecuteTime": {
     "end_time": "2021-07-02T09:19:28.725915Z",
     "start_time": "2021-07-02T09:19:28.636916Z"
    }
   },
   "outputs": [],
   "source": [
    "df_train_default = pd.read_pickle(str(data_dir / \"gsdc_extract_train.pkl.gzip\"))"
   ]
  },
  {
   "cell_type": "code",
   "execution_count": 8,
   "metadata": {
    "ExecuteTime": {
     "end_time": "2021-07-02T09:19:28.785918Z",
     "start_time": "2021-07-02T09:19:28.727918Z"
    }
   },
   "outputs": [],
   "source": [
    "df_test = pd.read_pickle(str(data_dir / \"gsdc_extract_test.pkl.gzip\"))"
   ]
  },
  {
   "cell_type": "code",
   "execution_count": 9,
   "metadata": {
    "ExecuteTime": {
     "end_time": "2021-07-02T09:19:28.800917Z",
     "start_time": "2021-07-02T09:19:28.786915Z"
    },
    "scrolled": true
   },
   "outputs": [
    {
     "name": "stdout",
     "output_type": "stream",
     "text": [
      "collectionName\n",
      "phoneName\n",
      "millisSinceGpsEpoch\n",
      "latDeg\n",
      "lngDeg\n",
      "heightAboveWgs84EllipsoidM\n",
      "phone\n",
      "timeSinceFirstFixSeconds\n",
      "hDop\n",
      "vDop\n",
      "speedMps\n",
      "courseDegree\n",
      "t_latDeg\n",
      "t_lngDeg\n",
      "t_heightAboveWgs84EllipsoidM\n",
      "constellationType\n",
      "svid\n",
      "signalType\n",
      "receivedSvTimeInGpsNanos\n",
      "xSatPosM\n",
      "ySatPosM\n",
      "zSatPosM\n",
      "xSatVelMps\n",
      "ySatVelMps\n",
      "zSatVelMps\n",
      "satClkBiasM\n",
      "satClkDriftMps\n",
      "rawPrM\n",
      "rawPrUncM\n",
      "isrbM\n",
      "ionoDelayM\n",
      "tropoDelayM\n",
      "utcTimeMillis\n",
      "TimeNanos\n",
      "LeapSecond\n",
      "FullBiasNanos\n",
      "BiasNanos\n",
      "BiasUncertaintyNanos\n",
      "DriftNanosPerSecond\n",
      "DriftUncertaintyNanosPerSecond\n",
      "HardwareClockDiscontinuityCount\n",
      "Svid\n",
      "TimeOffsetNanos\n",
      "State\n",
      "ReceivedSvTimeNanos\n",
      "ReceivedSvTimeUncertaintyNanos\n",
      "Cn0DbHz\n",
      "PseudorangeRateMetersPerSecond\n",
      "PseudorangeRateUncertaintyMetersPerSecond\n",
      "AccumulatedDeltaRangeState\n",
      "AccumulatedDeltaRangeMeters\n",
      "AccumulatedDeltaRangeUncertaintyMeters\n",
      "CarrierFrequencyHz\n",
      "MultipathIndicator\n",
      "ConstellationType\n",
      "AgcDb\n",
      "BasebandCn0DbHz\n",
      "FullInterSignalBiasNanos\n",
      "FullInterSignalBiasUncertaintyNanos\n",
      "SatelliteInterSignalBiasNanos\n",
      "SatelliteInterSignalBiasUncertaintyNanos\n",
      "CodeType\n",
      "ChipsetElapsedRealtimeNanos\n",
      "utcTimeMillis_UncalGyro\n",
      "elapsedRealtimeNanos\n",
      "UncalGyroXRadPerSec\n",
      "UncalGyroYRadPerSec\n",
      "UncalGyroZRadPerSec\n",
      "DriftXRadPerSec\n",
      "DriftYRadPerSec\n",
      "DriftZRadPerSec\n",
      "utcTimeMillis_Status\n",
      "SignalCount\n",
      "SignalIndex\n",
      "ConstellationType_Status\n",
      "Svid_Status\n",
      "CarrierFrequencyHz_Status\n",
      "Cn0DbHz_Status\n",
      "AzimuthDegrees\n",
      "ElevationDegrees\n",
      "UsedInFix\n",
      "HasAlmanacData\n",
      "HasEphemerisData\n",
      "BasebandCn0DbHz_Status\n",
      "utcTimeMillis_UncalAccel\n",
      "elapsedRealtimeNanos_UncalAccel\n",
      "UncalAccelXMps2\n",
      "UncalAccelYMps2\n",
      "UncalAccelZMps2\n",
      "BiasXMps2\n",
      "BiasYMps2\n",
      "BiasZMps2\n",
      "utcTimeMillis_UncalMag\n",
      "elapsedRealtimeNanos_UncalMag\n",
      "UncalMagXMicroT\n",
      "UncalMagYMicroT\n",
      "UncalMagZMicroT\n",
      "BiasXMicroT\n",
      "BiasYMicroT\n",
      "BiasZMicroT\n",
      "utcTimeMillis_OrientationDeg\n",
      "elapsedRealtimeNanos_OrientationDeg\n",
      "yawDeg\n",
      "rollDeg\n",
      "pitchDeg\n",
      "dlatDeg\n",
      "dlngDeg\n",
      "dheight\n"
     ]
    }
   ],
   "source": [
    "for col in df_train_default.columns:\n",
    "    print(col)"
   ]
  },
  {
   "cell_type": "markdown",
   "metadata": {},
   "source": [
    "# Dataloader"
   ]
  },
  {
   "cell_type": "code",
   "execution_count": 10,
   "metadata": {
    "ExecuteTime": {
     "end_time": "2021-07-02T09:19:28.830916Z",
     "start_time": "2021-07-02T09:19:28.801916Z"
    }
   },
   "outputs": [
    {
     "data": {
      "text/plain": [
       "2021-04-22-US-SJC-1_Pixel4             2890\n",
       "2021-04-22-US-SJC-1_SamsungS20Ultra    2826\n",
       "2020-09-04-US-SF-2_Mi8                 2500\n",
       "2021-04-29-US-SJC-2_SamsungS20Ultra    2370\n",
       "2020-09-04-US-SF-2_Pixel4              2349\n",
       "                                       ... \n",
       "2021-01-05-US-SVL-2_Pixel4XL           1193\n",
       "2020-06-05-US-MTV-1_Pixel4XLModded     1123\n",
       "2021-04-26-US-SVL-1_Mi8                1036\n",
       "2021-04-26-US-SVL-1_Pixel5             1034\n",
       "2020-05-14-US-MTV-2_Pixel4XLModded      577\n",
       "Name: phone, Length: 73, dtype: int64"
      ]
     },
     "execution_count": 10,
     "metadata": {},
     "output_type": "execute_result"
    }
   ],
   "source": [
    "df_train_default['phone'].value_counts()"
   ]
  },
  {
   "cell_type": "code",
   "execution_count": 11,
   "metadata": {
    "ExecuteTime": {
     "end_time": "2021-07-02T09:19:29.460945Z",
     "start_time": "2021-07-02T09:19:28.831916Z"
    }
   },
   "outputs": [
    {
     "name": "stdout",
     "output_type": "stream",
     "text": [
      "(121609, 108) (11231, 108)\n"
     ]
    }
   ],
   "source": [
    "def CustomTrainValidSplit(df:pd.DataFrame, valid_size):\n",
    "    phones = df['phone'].unique()\n",
    "    \n",
    "    valid_num = int(len(phones) * valid_size)\n",
    "    train_num = len(phones) - valid_num\n",
    "    \n",
    "    indexes = np.array(range(len(phones)))\n",
    "    indexes = np.random.choice(indexes, len(indexes))\n",
    "    \n",
    "    df_train = []\n",
    "    for phone in phones[indexes[:train_num]]:\n",
    "        df_train.append(df[df['phone'] == phone])\n",
    "    df_train = pd.concat(df_train)\n",
    "    \n",
    "    df_valid = []\n",
    "    for phone in phones[indexes[train_num:-1]]:\n",
    "        df_valid.append(df[df['phone'] == phone])\n",
    "    df_valid = pd.concat(df_valid)\n",
    "    \n",
    "    return df_train, df_valid\n",
    "    \n",
    "df_train, df_valid = CustomTrainValidSplit(df_train_default, valid_size = 0.1)\n",
    "print(df_train.shape, df_valid.shape)\n",
    "    "
   ]
  },
  {
   "cell_type": "code",
   "execution_count": 12,
   "metadata": {
    "ExecuteTime": {
     "end_time": "2021-07-02T09:19:29.535946Z",
     "start_time": "2021-07-02T09:19:29.461943Z"
    }
   },
   "outputs": [
    {
     "data": {
      "text/html": [
       "<div>\n",
       "<style scoped>\n",
       "    .dataframe tbody tr th:only-of-type {\n",
       "        vertical-align: middle;\n",
       "    }\n",
       "\n",
       "    .dataframe tbody tr th {\n",
       "        vertical-align: top;\n",
       "    }\n",
       "\n",
       "    .dataframe thead th {\n",
       "        text-align: right;\n",
       "    }\n",
       "</style>\n",
       "<table border=\"1\" class=\"dataframe\">\n",
       "  <thead>\n",
       "    <tr style=\"text-align: right;\">\n",
       "      <th></th>\n",
       "      <th>collectionName</th>\n",
       "      <th>phoneName</th>\n",
       "      <th>millisSinceGpsEpoch</th>\n",
       "      <th>latDeg</th>\n",
       "      <th>lngDeg</th>\n",
       "      <th>heightAboveWgs84EllipsoidM</th>\n",
       "      <th>phone</th>\n",
       "      <th>timeSinceFirstFixSeconds</th>\n",
       "      <th>hDop</th>\n",
       "      <th>vDop</th>\n",
       "      <th>...</th>\n",
       "      <th>BiasYMicroT</th>\n",
       "      <th>BiasZMicroT</th>\n",
       "      <th>utcTimeMillis_OrientationDeg</th>\n",
       "      <th>elapsedRealtimeNanos_OrientationDeg</th>\n",
       "      <th>yawDeg</th>\n",
       "      <th>rollDeg</th>\n",
       "      <th>pitchDeg</th>\n",
       "      <th>dlatDeg</th>\n",
       "      <th>dlngDeg</th>\n",
       "      <th>dheight</th>\n",
       "    </tr>\n",
       "  </thead>\n",
       "  <tbody>\n",
       "    <tr>\n",
       "      <th>46498</th>\n",
       "      <td>2020-07-17-US-MTV-2</td>\n",
       "      <td>Mi8</td>\n",
       "      <td>1279062813000</td>\n",
       "      <td>37.525048</td>\n",
       "      <td>-122.353157</td>\n",
       "      <td>139.18</td>\n",
       "      <td>2020-07-17-US-MTV-2_Mi8</td>\n",
       "      <td>284.00</td>\n",
       "      <td>0.8</td>\n",
       "      <td>0.0</td>\n",
       "      <td>...</td>\n",
       "      <td>0.0</td>\n",
       "      <td>0.0</td>\n",
       "      <td>NaN</td>\n",
       "      <td>NaN</td>\n",
       "      <td>NaN</td>\n",
       "      <td>NaN</td>\n",
       "      <td>NaN</td>\n",
       "      <td>0.000000</td>\n",
       "      <td>0.000000</td>\n",
       "      <td>0.00</td>\n",
       "    </tr>\n",
       "    <tr>\n",
       "      <th>46499</th>\n",
       "      <td>2020-07-17-US-MTV-2</td>\n",
       "      <td>Mi8</td>\n",
       "      <td>1279062814000</td>\n",
       "      <td>37.525044</td>\n",
       "      <td>-122.353170</td>\n",
       "      <td>135.99</td>\n",
       "      <td>2020-07-17-US-MTV-2_Mi8</td>\n",
       "      <td>285.00</td>\n",
       "      <td>0.8</td>\n",
       "      <td>0.0</td>\n",
       "      <td>...</td>\n",
       "      <td>0.0</td>\n",
       "      <td>0.0</td>\n",
       "      <td>NaN</td>\n",
       "      <td>NaN</td>\n",
       "      <td>NaN</td>\n",
       "      <td>NaN</td>\n",
       "      <td>NaN</td>\n",
       "      <td>-0.000005</td>\n",
       "      <td>-0.000013</td>\n",
       "      <td>-3.19</td>\n",
       "    </tr>\n",
       "    <tr>\n",
       "      <th>46500</th>\n",
       "      <td>2020-07-17-US-MTV-2</td>\n",
       "      <td>Mi8</td>\n",
       "      <td>1279062815000</td>\n",
       "      <td>37.525030</td>\n",
       "      <td>-122.353164</td>\n",
       "      <td>136.70</td>\n",
       "      <td>2020-07-17-US-MTV-2_Mi8</td>\n",
       "      <td>286.00</td>\n",
       "      <td>0.8</td>\n",
       "      <td>0.0</td>\n",
       "      <td>...</td>\n",
       "      <td>0.0</td>\n",
       "      <td>0.0</td>\n",
       "      <td>NaN</td>\n",
       "      <td>NaN</td>\n",
       "      <td>NaN</td>\n",
       "      <td>NaN</td>\n",
       "      <td>NaN</td>\n",
       "      <td>-0.000018</td>\n",
       "      <td>-0.000006</td>\n",
       "      <td>-2.48</td>\n",
       "    </tr>\n",
       "    <tr>\n",
       "      <th>46501</th>\n",
       "      <td>2020-07-17-US-MTV-2</td>\n",
       "      <td>Mi8</td>\n",
       "      <td>1279062816000</td>\n",
       "      <td>37.525055</td>\n",
       "      <td>-122.353148</td>\n",
       "      <td>138.01</td>\n",
       "      <td>2020-07-17-US-MTV-2_Mi8</td>\n",
       "      <td>287.00</td>\n",
       "      <td>0.8</td>\n",
       "      <td>0.0</td>\n",
       "      <td>...</td>\n",
       "      <td>0.0</td>\n",
       "      <td>0.0</td>\n",
       "      <td>NaN</td>\n",
       "      <td>NaN</td>\n",
       "      <td>NaN</td>\n",
       "      <td>NaN</td>\n",
       "      <td>NaN</td>\n",
       "      <td>0.000007</td>\n",
       "      <td>0.000009</td>\n",
       "      <td>-1.17</td>\n",
       "    </tr>\n",
       "    <tr>\n",
       "      <th>46502</th>\n",
       "      <td>2020-07-17-US-MTV-2</td>\n",
       "      <td>Mi8</td>\n",
       "      <td>1279062817000</td>\n",
       "      <td>37.525053</td>\n",
       "      <td>-122.353161</td>\n",
       "      <td>137.78</td>\n",
       "      <td>2020-07-17-US-MTV-2_Mi8</td>\n",
       "      <td>288.00</td>\n",
       "      <td>0.8</td>\n",
       "      <td>0.0</td>\n",
       "      <td>...</td>\n",
       "      <td>0.0</td>\n",
       "      <td>0.0</td>\n",
       "      <td>NaN</td>\n",
       "      <td>NaN</td>\n",
       "      <td>NaN</td>\n",
       "      <td>NaN</td>\n",
       "      <td>NaN</td>\n",
       "      <td>0.000005</td>\n",
       "      <td>-0.000003</td>\n",
       "      <td>-1.40</td>\n",
       "    </tr>\n",
       "    <tr>\n",
       "      <th>...</th>\n",
       "      <td>...</td>\n",
       "      <td>...</td>\n",
       "      <td>...</td>\n",
       "      <td>...</td>\n",
       "      <td>...</td>\n",
       "      <td>...</td>\n",
       "      <td>...</td>\n",
       "      <td>...</td>\n",
       "      <td>...</td>\n",
       "      <td>...</td>\n",
       "      <td>...</td>\n",
       "      <td>...</td>\n",
       "      <td>...</td>\n",
       "      <td>...</td>\n",
       "      <td>...</td>\n",
       "      <td>...</td>\n",
       "      <td>...</td>\n",
       "      <td>...</td>\n",
       "      <td>...</td>\n",
       "      <td>...</td>\n",
       "      <td>...</td>\n",
       "    </tr>\n",
       "    <tr>\n",
       "      <th>38816</th>\n",
       "      <td>2020-06-11-US-MTV-1</td>\n",
       "      <td>Pixel4XL</td>\n",
       "      <td>1275935699431</td>\n",
       "      <td>37.509482</td>\n",
       "      <td>-122.342255</td>\n",
       "      <td>100.65</td>\n",
       "      <td>2020-06-11-US-MTV-1_Pixel4XL</td>\n",
       "      <td>1816.43</td>\n",
       "      <td>1.0</td>\n",
       "      <td>0.0</td>\n",
       "      <td>...</td>\n",
       "      <td>NaN</td>\n",
       "      <td>NaN</td>\n",
       "      <td>NaN</td>\n",
       "      <td>NaN</td>\n",
       "      <td>NaN</td>\n",
       "      <td>NaN</td>\n",
       "      <td>NaN</td>\n",
       "      <td>0.084896</td>\n",
       "      <td>-0.249993</td>\n",
       "      <td>132.08</td>\n",
       "    </tr>\n",
       "    <tr>\n",
       "      <th>38818</th>\n",
       "      <td>2020-06-11-US-MTV-1</td>\n",
       "      <td>Pixel4XL</td>\n",
       "      <td>1275935700431</td>\n",
       "      <td>37.509650</td>\n",
       "      <td>-122.342534</td>\n",
       "      <td>101.63</td>\n",
       "      <td>2020-06-11-US-MTV-1_Pixel4XL</td>\n",
       "      <td>1817.43</td>\n",
       "      <td>1.3</td>\n",
       "      <td>0.0</td>\n",
       "      <td>...</td>\n",
       "      <td>NaN</td>\n",
       "      <td>NaN</td>\n",
       "      <td>NaN</td>\n",
       "      <td>NaN</td>\n",
       "      <td>NaN</td>\n",
       "      <td>NaN</td>\n",
       "      <td>NaN</td>\n",
       "      <td>0.085064</td>\n",
       "      <td>-0.250272</td>\n",
       "      <td>133.06</td>\n",
       "    </tr>\n",
       "    <tr>\n",
       "      <th>38820</th>\n",
       "      <td>2020-06-11-US-MTV-1</td>\n",
       "      <td>Pixel4XL</td>\n",
       "      <td>1275935701431</td>\n",
       "      <td>37.509840</td>\n",
       "      <td>-122.342802</td>\n",
       "      <td>101.05</td>\n",
       "      <td>2020-06-11-US-MTV-1_Pixel4XL</td>\n",
       "      <td>1818.43</td>\n",
       "      <td>1.6</td>\n",
       "      <td>0.0</td>\n",
       "      <td>...</td>\n",
       "      <td>NaN</td>\n",
       "      <td>NaN</td>\n",
       "      <td>NaN</td>\n",
       "      <td>NaN</td>\n",
       "      <td>NaN</td>\n",
       "      <td>NaN</td>\n",
       "      <td>NaN</td>\n",
       "      <td>0.085254</td>\n",
       "      <td>-0.250540</td>\n",
       "      <td>132.48</td>\n",
       "    </tr>\n",
       "    <tr>\n",
       "      <th>38822</th>\n",
       "      <td>2020-06-11-US-MTV-1</td>\n",
       "      <td>Pixel4XL</td>\n",
       "      <td>1275935702431</td>\n",
       "      <td>37.510031</td>\n",
       "      <td>-122.343060</td>\n",
       "      <td>101.56</td>\n",
       "      <td>2020-06-11-US-MTV-1_Pixel4XL</td>\n",
       "      <td>1819.43</td>\n",
       "      <td>1.6</td>\n",
       "      <td>0.0</td>\n",
       "      <td>...</td>\n",
       "      <td>NaN</td>\n",
       "      <td>NaN</td>\n",
       "      <td>NaN</td>\n",
       "      <td>NaN</td>\n",
       "      <td>NaN</td>\n",
       "      <td>NaN</td>\n",
       "      <td>NaN</td>\n",
       "      <td>0.085445</td>\n",
       "      <td>-0.250798</td>\n",
       "      <td>132.99</td>\n",
       "    </tr>\n",
       "    <tr>\n",
       "      <th>38824</th>\n",
       "      <td>2020-06-11-US-MTV-1</td>\n",
       "      <td>Pixel4XL</td>\n",
       "      <td>1275935703431</td>\n",
       "      <td>37.510221</td>\n",
       "      <td>-122.343323</td>\n",
       "      <td>103.99</td>\n",
       "      <td>2020-06-11-US-MTV-1_Pixel4XL</td>\n",
       "      <td>1820.43</td>\n",
       "      <td>1.6</td>\n",
       "      <td>0.0</td>\n",
       "      <td>...</td>\n",
       "      <td>NaN</td>\n",
       "      <td>NaN</td>\n",
       "      <td>NaN</td>\n",
       "      <td>NaN</td>\n",
       "      <td>NaN</td>\n",
       "      <td>NaN</td>\n",
       "      <td>NaN</td>\n",
       "      <td>0.085636</td>\n",
       "      <td>-0.251061</td>\n",
       "      <td>135.42</td>\n",
       "    </tr>\n",
       "  </tbody>\n",
       "</table>\n",
       "<p>121609 rows × 108 columns</p>\n",
       "</div>"
      ],
      "text/plain": [
       "            collectionName phoneName  millisSinceGpsEpoch     latDeg  \\\n",
       "46498  2020-07-17-US-MTV-2       Mi8        1279062813000  37.525048   \n",
       "46499  2020-07-17-US-MTV-2       Mi8        1279062814000  37.525044   \n",
       "46500  2020-07-17-US-MTV-2       Mi8        1279062815000  37.525030   \n",
       "46501  2020-07-17-US-MTV-2       Mi8        1279062816000  37.525055   \n",
       "46502  2020-07-17-US-MTV-2       Mi8        1279062817000  37.525053   \n",
       "...                    ...       ...                  ...        ...   \n",
       "38816  2020-06-11-US-MTV-1  Pixel4XL        1275935699431  37.509482   \n",
       "38818  2020-06-11-US-MTV-1  Pixel4XL        1275935700431  37.509650   \n",
       "38820  2020-06-11-US-MTV-1  Pixel4XL        1275935701431  37.509840   \n",
       "38822  2020-06-11-US-MTV-1  Pixel4XL        1275935702431  37.510031   \n",
       "38824  2020-06-11-US-MTV-1  Pixel4XL        1275935703431  37.510221   \n",
       "\n",
       "           lngDeg  heightAboveWgs84EllipsoidM                         phone  \\\n",
       "46498 -122.353157                      139.18       2020-07-17-US-MTV-2_Mi8   \n",
       "46499 -122.353170                      135.99       2020-07-17-US-MTV-2_Mi8   \n",
       "46500 -122.353164                      136.70       2020-07-17-US-MTV-2_Mi8   \n",
       "46501 -122.353148                      138.01       2020-07-17-US-MTV-2_Mi8   \n",
       "46502 -122.353161                      137.78       2020-07-17-US-MTV-2_Mi8   \n",
       "...           ...                         ...                           ...   \n",
       "38816 -122.342255                      100.65  2020-06-11-US-MTV-1_Pixel4XL   \n",
       "38818 -122.342534                      101.63  2020-06-11-US-MTV-1_Pixel4XL   \n",
       "38820 -122.342802                      101.05  2020-06-11-US-MTV-1_Pixel4XL   \n",
       "38822 -122.343060                      101.56  2020-06-11-US-MTV-1_Pixel4XL   \n",
       "38824 -122.343323                      103.99  2020-06-11-US-MTV-1_Pixel4XL   \n",
       "\n",
       "       timeSinceFirstFixSeconds  hDop  vDop  ...  BiasYMicroT  BiasZMicroT  \\\n",
       "46498                    284.00   0.8   0.0  ...          0.0          0.0   \n",
       "46499                    285.00   0.8   0.0  ...          0.0          0.0   \n",
       "46500                    286.00   0.8   0.0  ...          0.0          0.0   \n",
       "46501                    287.00   0.8   0.0  ...          0.0          0.0   \n",
       "46502                    288.00   0.8   0.0  ...          0.0          0.0   \n",
       "...                         ...   ...   ...  ...          ...          ...   \n",
       "38816                   1816.43   1.0   0.0  ...          NaN          NaN   \n",
       "38818                   1817.43   1.3   0.0  ...          NaN          NaN   \n",
       "38820                   1818.43   1.6   0.0  ...          NaN          NaN   \n",
       "38822                   1819.43   1.6   0.0  ...          NaN          NaN   \n",
       "38824                   1820.43   1.6   0.0  ...          NaN          NaN   \n",
       "\n",
       "       utcTimeMillis_OrientationDeg  elapsedRealtimeNanos_OrientationDeg  \\\n",
       "46498                           NaN                                  NaN   \n",
       "46499                           NaN                                  NaN   \n",
       "46500                           NaN                                  NaN   \n",
       "46501                           NaN                                  NaN   \n",
       "46502                           NaN                                  NaN   \n",
       "...                             ...                                  ...   \n",
       "38816                           NaN                                  NaN   \n",
       "38818                           NaN                                  NaN   \n",
       "38820                           NaN                                  NaN   \n",
       "38822                           NaN                                  NaN   \n",
       "38824                           NaN                                  NaN   \n",
       "\n",
       "       yawDeg  rollDeg  pitchDeg   dlatDeg   dlngDeg  dheight  \n",
       "46498     NaN      NaN       NaN  0.000000  0.000000     0.00  \n",
       "46499     NaN      NaN       NaN -0.000005 -0.000013    -3.19  \n",
       "46500     NaN      NaN       NaN -0.000018 -0.000006    -2.48  \n",
       "46501     NaN      NaN       NaN  0.000007  0.000009    -1.17  \n",
       "46502     NaN      NaN       NaN  0.000005 -0.000003    -1.40  \n",
       "...       ...      ...       ...       ...       ...      ...  \n",
       "38816     NaN      NaN       NaN  0.084896 -0.249993   132.08  \n",
       "38818     NaN      NaN       NaN  0.085064 -0.250272   133.06  \n",
       "38820     NaN      NaN       NaN  0.085254 -0.250540   132.48  \n",
       "38822     NaN      NaN       NaN  0.085445 -0.250798   132.99  \n",
       "38824     NaN      NaN       NaN  0.085636 -0.251061   135.42  \n",
       "\n",
       "[121609 rows x 108 columns]"
      ]
     },
     "execution_count": 12,
     "metadata": {},
     "output_type": "execute_result"
    }
   ],
   "source": [
    "df_train"
   ]
  },
  {
   "cell_type": "code",
   "execution_count": 13,
   "metadata": {
    "ExecuteTime": {
     "end_time": "2021-07-02T09:19:29.550946Z",
     "start_time": "2021-07-02T09:19:29.536944Z"
    }
   },
   "outputs": [],
   "source": [
    "def GetWindows(idx, window_size):\n",
    "    index = np.array([])\n",
    "    if idx < window_size:\n",
    "        index = np.concatenate([np.zeros(window_size - idx-1), np.array(range(idx+1))])\n",
    "        pass\n",
    "    else:\n",
    "        index = np.array(range(idx-window_size+1, idx+1))\n",
    "    return index.astype(int)\n",
    "\n",
    "\n",
    "class CustomDataset(torch.utils.data.Dataset):\n",
    "    def __init__(self, df:pd.DataFrame, \n",
    "                 features = ['latDeg', 'lngDeg', 'heightAboveWgs84EllipsoidM'], \n",
    "                 labels = ['t_latDeg', 't_lngDeg', 't_heightAboveWgs84EllipsoidM'],\n",
    "                 window_size = 100,\n",
    "                 train = True,\n",
    "                device = 'cpu'):\n",
    "        self.df = df\n",
    "        self.features = features\n",
    "        self.labels = labels\n",
    "        self.len = df.shape[0]\n",
    "        self.window_size = window_size\n",
    "        self.train = train\n",
    "        self.device = device\n",
    "        \n",
    "        self.data = self.df[features].astype(float).values\n",
    "        if train == True:\n",
    "            self.true = self.df[labels].astype(float).values\n",
    "        else:\n",
    "            self.true = []\n",
    "        self.phone = self.df['phone'].values\n",
    "        self.millisSinceGpsEpoch = self.df['millisSinceGpsEpoch'].values\n",
    "        \n",
    "        self.start_index_by_phone = dict()\n",
    "        \n",
    "        for phone in set(self.phone):\n",
    "            start_index = np.where(self.phone == phone)[0][0]\n",
    "            self.start_index_by_phone[phone] = start_index\n",
    "        \n",
    "    \n",
    "    def __len__(self):\n",
    "        return self.len\n",
    "    \n",
    "    def __getitem__(self, idx):\n",
    "        phone = self.phone[idx]\n",
    "        start_index = self.start_index_by_phone[phone]\n",
    "        \n",
    "        \n",
    "        window_index = GetWindows(idx - start_index, self.window_size) + start_index\n",
    "        data = self.data[window_index, :]\n",
    "        \n",
    "        if self.train is False:\n",
    "            true = []\n",
    "        else:\n",
    "            true = self.true[idx]\n",
    "            \n",
    "        indx = [self.phone[idx], self.millisSinceGpsEpoch[idx]]\n",
    "        \n",
    "        # data shape : window_size X num_of_features\n",
    "        # true shape : num_of_labels X 1\n",
    "        data = torch.Tensor(data)\n",
    "        true = torch.Tensor(true.astype(float))\n",
    "        \n",
    "        return data, true, idx\n",
    "    \n"
   ]
  },
  {
   "cell_type": "code",
   "execution_count": 14,
   "metadata": {
    "ExecuteTime": {
     "end_time": "2021-07-02T09:19:29.745943Z",
     "start_time": "2021-07-02T09:19:29.551944Z"
    },
    "scrolled": true
   },
   "outputs": [],
   "source": [
    "features = ['latDeg', 'lngDeg', 'heightAboveWgs84EllipsoidM',\n",
    "           'dlatDeg', 'dlngDeg', 'dheight']\n",
    "labels = ['t_latDeg', 't_lngDeg', 't_heightAboveWgs84EllipsoidM']\n",
    "\n",
    "train_data = CustomDataset(df_train, features = features, labels = labels, window_size = window_size, device = device)\n",
    "valid_data = CustomDataset(df_valid, features = features, labels = labels, window_size = window_size, device = device)\n",
    "test_data = CustomDataset(df_test, features = features, labels = labels, window_size = window_size, train = False, device = device)"
   ]
  },
  {
   "cell_type": "code",
   "execution_count": 15,
   "metadata": {
    "ExecuteTime": {
     "end_time": "2021-07-02T09:19:29.760944Z",
     "start_time": "2021-07-02T09:19:29.746945Z"
    }
   },
   "outputs": [],
   "source": [
    "train_loader = DataLoader(train_data, batch_size = batch_size, shuffle = True)\n",
    "valid_loader = DataLoader(valid_data, batch_size = batch_size, shuffle = False)\n",
    "test_loader = DataLoader(test_data, batch_size = batch_size, shuffle = False)"
   ]
  },
  {
   "cell_type": "markdown",
   "metadata": {},
   "source": [
    "# Build Model"
   ]
  },
  {
   "cell_type": "code",
   "execution_count": 16,
   "metadata": {
    "ExecuteTime": {
     "end_time": "2021-07-02T09:19:29.775944Z",
     "start_time": "2021-07-02T09:19:29.761943Z"
    }
   },
   "outputs": [],
   "source": [
    "class BaseModel(nn.Module):\n",
    "    def __init__(self, input_size = (100, 3), output_size = 3):\n",
    "        super().__init__()\n",
    "        self.input_size = input_size\n",
    "        self.output_size = output_size\n",
    "        self.fc1 = nn.Linear(input_size[0]*input_size[1], 1024)\n",
    "        self.fc2 = nn.Linear(1024, 512)\n",
    "        self.fc3 = nn.Linear(512, 3)\n",
    "        \n",
    "    def forward(self, x):\n",
    "        input_size = self.input_size\n",
    "        x = x.view(-1, input_size[0]*input_size[1])\n",
    "        \n",
    "        x = F.relu(self.fc1(x))\n",
    "        x = F.relu(self.fc2(x))\n",
    "        x = self.fc3(x)\n",
    "        \n",
    "        return x"
   ]
  },
  {
   "cell_type": "code",
   "execution_count": 17,
   "metadata": {
    "ExecuteTime": {
     "end_time": "2021-07-02T09:19:30.872175Z",
     "start_time": "2021-07-02T09:19:29.776944Z"
    }
   },
   "outputs": [
    {
     "name": "stdout",
     "output_type": "stream",
     "text": [
      "Adjusting learning rate of group 0 to 1.0000e-02.\n"
     ]
    }
   ],
   "source": [
    "model = BaseModel((window_size, len(features)), len(labels))\n",
    "model.to(device)\n",
    "\n",
    "# loss_func = nn.SmoothL1Loss()\n",
    "loss_func = nn.MSELoss()\n",
    "optimizer = optim.Adam(model.parameters(), lr = learning_rate)\n",
    "scheduler = optim.lr_scheduler.LambdaLR(optimizer=optimizer,\n",
    "                                lr_lambda=lambda epoch: 0.995 ** epoch,\n",
    "                                last_epoch=-1,\n",
    "                                verbose=True)"
   ]
  },
  {
   "cell_type": "markdown",
   "metadata": {},
   "source": [
    "# Fit and Validate"
   ]
  },
  {
   "cell_type": "code",
   "execution_count": 18,
   "metadata": {
    "ExecuteTime": {
     "end_time": "2021-07-02T09:19:30.887177Z",
     "start_time": "2021-07-02T09:19:30.873176Z"
    }
   },
   "outputs": [],
   "source": [
    "def train(epoch, dataloader):\n",
    "    model.train()  # 신경망을 학습 모드로 전환\n",
    "\n",
    "    # 데이터로더에서 미니배치를 하나씩 꺼내 학습을 수행\n",
    "    predict = []\n",
    "    ground = []\n",
    "    \n",
    "    prog_bar = tqdm(dataloader, position = 1, desc = 'Train')\n",
    "    status_log = tqdm(total=0, position = 2, bar_format='{desc}')\n",
    "    for data, targets, _ in prog_bar:\n",
    "        \n",
    "        data = data.to(device)\n",
    "        targets = targets.to(device)\n",
    "        \n",
    "        optimizer.zero_grad()  # 경사를 0으로 초기화\n",
    "        outputs = model(data)  # 데이터를 입력하고 출력을 계산\n",
    "        loss = loss_func(outputs, targets)  # 출력과 훈련 데이터 정답 간의 오차를 계산\n",
    "        loss.backward()  # 오차를 역전파 계산\n",
    "        optimizer.step()  # 역전파 계산한 값으로 가중치를 수정\n",
    "        \n",
    "        predict.append(outputs)\n",
    "        ground.append(targets)\n",
    "        \n",
    "        status_log.set_description_str(f\"training status: [{loss}/{check_score_np(outputs.to('cpu'), targets.to('cpu'))}]\")\n",
    "    scheduler.step()\n",
    "\n",
    "    # 정확도 출력\n",
    "    predict = torch.cat(predict,axis = 0)\n",
    "    ground = torch.cat(ground,axis = 0)\n",
    "    \n",
    "    loss = loss_func(predict, ground)\n",
    "    meas = check_score_np(predict.to('cpu'), ground.to('cpu'))\n",
    "    return loss, meas"
   ]
  },
  {
   "cell_type": "code",
   "execution_count": 19,
   "metadata": {
    "ExecuteTime": {
     "end_time": "2021-07-02T09:19:30.902175Z",
     "start_time": "2021-07-02T09:19:30.888176Z"
    }
   },
   "outputs": [],
   "source": [
    "def valid(dataloader):\n",
    "    model.eval()  # 신경망을 추론 모드로 전환\n",
    "\n",
    "    # 데이터로더에서 미니배치를 하나씩 꺼내 추론을 수행\n",
    "    predict = []\n",
    "    ground = []\n",
    "    prog_bar = tqdm(dataloader, position = 1, desc = 'Valid')\n",
    "    status_log = tqdm(total=0, position = 2, bar_format='{desc}')\n",
    "    \n",
    "    with torch.no_grad():  # 추론 과정에는 미분이 필요없음\n",
    "        for data, targets, _ in prog_bar:\n",
    "            \n",
    "            data = data.to(device)\n",
    "            targets = targets.to(device)\n",
    "            \n",
    "            outputs = model(data)  # 데이터를 입력하고 출력을 계산\n",
    "            loss = loss_func(outputs, targets)  # 출력과 훈련 데이터 정답 간의 오차를 계산\n",
    "            \n",
    "            predict.append(outputs)\n",
    "            ground.append(targets)\n",
    "            \n",
    "            status_log.set_description_str(f\"valid status: [{loss}/{check_score_np(outputs.to('cpu'), targets.to('cpu'))}]\")\n",
    "\n",
    "    # 정확도 출력\n",
    "    predict = torch.cat(predict,axis = 0)\n",
    "    ground = torch.cat(ground,axis = 0)\n",
    "    \n",
    "    loss = loss_func(predict, ground)\n",
    "    meas = check_score_np(predict.to('cpu'), ground.to('cpu'))\n",
    "    return loss, meas"
   ]
  },
  {
   "cell_type": "code",
   "execution_count": 20,
   "metadata": {
    "ExecuteTime": {
     "end_time": "2021-07-02T09:19:30.917175Z",
     "start_time": "2021-07-02T09:19:30.903176Z"
    }
   },
   "outputs": [],
   "source": [
    "def test(dataloader):\n",
    "    model.eval()  # 신경망을 추론 모드로 전환\n",
    "    \n",
    "    output_list = []\n",
    "    with torch.no_grad():  # 추론 과정에는 미분이 필요없음\n",
    "        for data, _, index in tqdm(dataloader):\n",
    "            data = data.to(device)\n",
    "            outputs = model(data)  # 데이터를 입력하고 출력을 계산\n",
    "            output_list.append(outputs)\n",
    "    \n",
    "    predicts = torch.cat(output_list)\n",
    "    predicts = pd.DataFrame(predicts.to('cpu'), columns = ['latDeg', 'lngDeg', 'heightAboveWgs84EllipsoidM'])\n",
    "    return predicts\n",
    "            "
   ]
  },
  {
   "cell_type": "code",
   "execution_count": null,
   "metadata": {
    "ExecuteTime": {
     "start_time": "2021-07-02T09:19:25.914Z"
    },
    "scrolled": false
   },
   "outputs": [
    {
     "data": {
      "application/vnd.jupyter.widget-view+json": {
       "model_id": "b7d587de69964bf6a780e1623caa54fb",
       "version_major": 2,
       "version_minor": 0
      },
      "text/plain": [
       "Train:   0%|          | 0/119 [00:00<?, ?it/s]"
      ]
     },
     "metadata": {},
     "output_type": "display_data"
    },
    {
     "data": {
      "application/vnd.jupyter.widget-view+json": {
       "model_id": "5b3fc81604984d9ba60b7e053b274ccd",
       "version_major": 2,
       "version_minor": 0
      },
      "text/plain": []
     },
     "metadata": {},
     "output_type": "display_data"
    },
    {
     "name": "stdout",
     "output_type": "stream",
     "text": [
      "Adjusting learning rate of group 0 to 9.9500e-03.\n"
     ]
    },
    {
     "data": {
      "application/vnd.jupyter.widget-view+json": {
       "model_id": "1a583bd691d5441bbb659e35ede530c6",
       "version_major": 2,
       "version_minor": 0
      },
      "text/plain": [
       "Valid:   0%|          | 0/11 [00:00<?, ?it/s]"
      ]
     },
     "metadata": {},
     "output_type": "display_data"
    },
    {
     "data": {
      "application/vnd.jupyter.widget-view+json": {
       "model_id": "3cc9ba6077de4755a133b55aa383b7d2",
       "version_major": 2,
       "version_minor": 0
      },
      "text/plain": []
     },
     "metadata": {},
     "output_type": "display_data"
    },
    {
     "name": "stdout",
     "output_type": "stream",
     "text": [
      "0/100: train[180248.406250/1950224.4977367206], valid[100.58019256591797/146960.2498234245]\n"
     ]
    },
    {
     "data": {
      "application/vnd.jupyter.widget-view+json": {
       "model_id": "8ab722283c3849fe9bde4bd52f032534",
       "version_major": 2,
       "version_minor": 0
      },
      "text/plain": [
       "Train:   0%|          | 0/119 [00:00<?, ?it/s]"
      ]
     },
     "metadata": {},
     "output_type": "display_data"
    },
    {
     "data": {
      "application/vnd.jupyter.widget-view+json": {
       "model_id": "1351d565a87241d58c871ba6affa666d",
       "version_major": 2,
       "version_minor": 0
      },
      "text/plain": []
     },
     "metadata": {},
     "output_type": "display_data"
    },
    {
     "name": "stdout",
     "output_type": "stream",
     "text": [
      "Adjusting learning rate of group 0 to 9.9003e-03.\n"
     ]
    },
    {
     "data": {
      "application/vnd.jupyter.widget-view+json": {
       "model_id": "b8db4be97ace47de8473a44baef84dc1",
       "version_major": 2,
       "version_minor": 0
      },
      "text/plain": [
       "Valid:   0%|          | 0/11 [00:00<?, ?it/s]"
      ]
     },
     "metadata": {},
     "output_type": "display_data"
    },
    {
     "data": {
      "application/vnd.jupyter.widget-view+json": {
       "model_id": "58bd0c83234f45f580189cfdfadb0ca4",
       "version_major": 2,
       "version_minor": 0
      },
      "text/plain": []
     },
     "metadata": {},
     "output_type": "display_data"
    },
    {
     "name": "stdout",
     "output_type": "stream",
     "text": [
      "1/100: train[66.415108/277248.5002910093], valid[106.01396179199219/196699.67789943103]\n"
     ]
    },
    {
     "data": {
      "application/vnd.jupyter.widget-view+json": {
       "model_id": "a270823d5b374e81bb684abe4b130471",
       "version_major": 2,
       "version_minor": 0
      },
      "text/plain": [
       "Train:   0%|          | 0/119 [00:00<?, ?it/s]"
      ]
     },
     "metadata": {},
     "output_type": "display_data"
    },
    {
     "data": {
      "application/vnd.jupyter.widget-view+json": {
       "model_id": "b1c29af304d14dd4969d9ab5aaddff6c",
       "version_major": 2,
       "version_minor": 0
      },
      "text/plain": []
     },
     "metadata": {},
     "output_type": "display_data"
    },
    {
     "name": "stdout",
     "output_type": "stream",
     "text": [
      "Adjusting learning rate of group 0 to 9.8507e-03.\n"
     ]
    },
    {
     "data": {
      "application/vnd.jupyter.widget-view+json": {
       "model_id": "c74945aa18c64d48920867ce4e7b7c73",
       "version_major": 2,
       "version_minor": 0
      },
      "text/plain": [
       "Valid:   0%|          | 0/11 [00:00<?, ?it/s]"
      ]
     },
     "metadata": {},
     "output_type": "display_data"
    },
    {
     "data": {
      "application/vnd.jupyter.widget-view+json": {
       "model_id": "603cfcd4ecf94ad7a379f010b3774302",
       "version_major": 2,
       "version_minor": 0
      },
      "text/plain": []
     },
     "metadata": {},
     "output_type": "display_data"
    },
    {
     "name": "stdout",
     "output_type": "stream",
     "text": [
      "2/100: train[54.618950/287863.4902694115], valid[90.76506042480469/135008.3699224654]\n"
     ]
    },
    {
     "data": {
      "application/vnd.jupyter.widget-view+json": {
       "model_id": "6ef085125e4e4fc497a9597dd6fe2859",
       "version_major": 2,
       "version_minor": 0
      },
      "text/plain": [
       "Train:   0%|          | 0/119 [00:00<?, ?it/s]"
      ]
     },
     "metadata": {},
     "output_type": "display_data"
    },
    {
     "data": {
      "application/vnd.jupyter.widget-view+json": {
       "model_id": "ed1ba29f0791444dbe0f25e65ac62fb8",
       "version_major": 2,
       "version_minor": 0
      },
      "text/plain": []
     },
     "metadata": {},
     "output_type": "display_data"
    }
   ],
   "source": [
    "for epoch in range(nepochs):\n",
    "    train_loss, train_meas = train(epoch, train_loader)\n",
    "    valid_loss, valid_meas = valid(valid_loader)\n",
    "    \n",
    "    print(f\"{epoch}/{nepochs}: train[{train_loss:.6f}/{train_meas}], valid[{valid_loss}/{valid_meas}]\")"
   ]
  },
  {
   "cell_type": "markdown",
   "metadata": {},
   "source": [
    "#  Output"
   ]
  },
  {
   "cell_type": "code",
   "execution_count": null,
   "metadata": {
    "ExecuteTime": {
     "start_time": "2021-07-02T09:19:25.931Z"
    }
   },
   "outputs": [],
   "source": [
    "# Load submission sample\n",
    "submission = pd.read_csv(str(data_dir / \"sample_submission.csv\"))\n",
    "print(submission.shape)"
   ]
  },
  {
   "cell_type": "code",
   "execution_count": null,
   "metadata": {},
   "outputs": [],
   "source": []
  },
  {
   "cell_type": "code",
   "execution_count": null,
   "metadata": {
    "ExecuteTime": {
     "start_time": "2021-07-02T09:19:25.933Z"
    }
   },
   "outputs": [],
   "source": [
    "submission.to_csv(f\"./models/{notebookName}/{num_files} - result.csv\", index = False)\n",
    "pd.DataFrame([]).to_csv(dummy_path)"
   ]
  }
 ],
 "metadata": {
  "hide_input": false,
  "kernelspec": {
   "display_name": "torch",
   "language": "python",
   "name": "torch"
  },
  "language_info": {
   "codemirror_mode": {
    "name": "ipython",
    "version": 3
   },
   "file_extension": ".py",
   "mimetype": "text/x-python",
   "name": "python",
   "nbconvert_exporter": "python",
   "pygments_lexer": "ipython3",
   "version": "3.6.12"
  },
  "latex_envs": {
   "LaTeX_envs_menu_present": true,
   "autoclose": false,
   "autocomplete": true,
   "bibliofile": "biblio.bib",
   "cite_by": "apalike",
   "current_citInitial": 1,
   "eqLabelWithNumbers": true,
   "eqNumInitial": 1,
   "hotkeys": {
    "equation": "Ctrl-E",
    "itemize": "Ctrl-I"
   },
   "labels_anchors": false,
   "latex_user_defs": false,
   "report_style_numbering": false,
   "user_envs_cfg": false
  },
  "toc": {
   "base_numbering": 1,
   "nav_menu": {},
   "number_sections": true,
   "sideBar": true,
   "skip_h1_title": false,
   "title_cell": "Table of Contents",
   "title_sidebar": "Contents",
   "toc_cell": false,
   "toc_position": {},
   "toc_section_display": true,
   "toc_window_display": false
  },
  "varInspector": {
   "cols": {
    "lenName": 16,
    "lenType": 16,
    "lenVar": 40
   },
   "kernels_config": {
    "python": {
     "delete_cmd_postfix": "",
     "delete_cmd_prefix": "del ",
     "library": "var_list.py",
     "varRefreshCmd": "print(var_dic_list())"
    },
    "r": {
     "delete_cmd_postfix": ") ",
     "delete_cmd_prefix": "rm(",
     "library": "var_list.r",
     "varRefreshCmd": "cat(var_dic_list()) "
    }
   },
   "types_to_exclude": [
    "module",
    "function",
    "builtin_function_or_method",
    "instance",
    "_Feature"
   ],
   "window_display": false
  }
 },
 "nbformat": 4,
 "nbformat_minor": 4
}
