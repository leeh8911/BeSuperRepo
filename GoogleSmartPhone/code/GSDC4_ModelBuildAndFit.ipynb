{
 "cells": [
  {
   "cell_type": "markdown",
   "metadata": {},
   "source": [
    "# Load Libraries"
   ]
  },
  {
   "cell_type": "code",
   "execution_count": 1,
   "metadata": {
    "ExecuteTime": {
     "end_time": "2021-07-03T03:49:43.752970Z",
     "start_time": "2021-07-03T03:49:40.953971Z"
    }
   },
   "outputs": [],
   "source": [
    "import numpy as np\n",
    "import pandas as pd\n",
    "from glob import glob\n",
    "import os\n",
    "import matplotlib.pyplot as plt\n",
    "from tqdm.notebook import tqdm\n",
    "from pathlib import Path\n",
    "import plotly.express as px\n",
    "\n",
    "import torch\n",
    "import torch.nn as nn\n",
    "import torch.nn.functional as F\n",
    "import torch.optim as optim\n",
    "from torch.utils.data import TensorDataset, DataLoader\n",
    "import torchsummary\n",
    "from sklearn.model_selection import train_test_split\n",
    "from sklearn.preprocessing import StandardScaler, MinMaxScaler\n",
    "\n",
    "import warnings\n",
    "warnings.filterwarnings(action='ignore')"
   ]
  },
  {
   "cell_type": "code",
   "execution_count": 2,
   "metadata": {
    "ExecuteTime": {
     "end_time": "2021-07-03T03:49:43.797971Z",
     "start_time": "2021-07-03T03:49:43.753971Z"
    }
   },
   "outputs": [
    {
     "name": "stdout",
     "output_type": "stream",
     "text": [
      "cuda:0\n"
     ]
    }
   ],
   "source": [
    "device = torch.device('cuda:0' if torch.cuda.is_available() else \"cpu\")\n",
    "print(device)"
   ]
  },
  {
   "cell_type": "markdown",
   "metadata": {},
   "source": [
    "# Set Hyper Parameters"
   ]
  },
  {
   "cell_type": "code",
   "execution_count": 3,
   "metadata": {
    "ExecuteTime": {
     "end_time": "2021-07-03T03:49:43.812970Z",
     "start_time": "2021-07-03T03:49:43.799971Z"
    }
   },
   "outputs": [],
   "source": [
    "hyper_parameters = {\n",
    "    \"SEED\":1990,\n",
    "    \"notebookName\":\"Baseline3\",\n",
    "    \"nepochs\":10000,\n",
    "    \"batch_size\":1025,\n",
    "    \"learning_rate\":0.1,\n",
    "    \"window_size\":500,\n",
    "    \"max_patience_count\":25\n",
    "}"
   ]
  },
  {
   "cell_type": "code",
   "execution_count": 4,
   "metadata": {
    "ExecuteTime": {
     "end_time": "2021-07-03T03:49:43.827971Z",
     "start_time": "2021-07-03T03:49:43.814971Z"
    }
   },
   "outputs": [
    {
     "data": {
      "text/plain": [
       "<torch._C.Generator at 0x2b68ac59dc8>"
      ]
     },
     "execution_count": 4,
     "metadata": {},
     "output_type": "execute_result"
    }
   ],
   "source": [
    "torch.manual_seed(hyper_parameters[\"SEED\"])"
   ]
  },
  {
   "cell_type": "code",
   "execution_count": 5,
   "metadata": {
    "ExecuteTime": {
     "end_time": "2021-07-03T03:49:43.842971Z",
     "start_time": "2021-07-03T03:49:43.829971Z"
    }
   },
   "outputs": [
    {
     "data": {
      "text/plain": [
       "'./models/Baseline3'"
      ]
     },
     "execution_count": 5,
     "metadata": {},
     "output_type": "execute_result"
    }
   ],
   "source": [
    "f\"./models/{hyper_parameters['notebookName']}\""
   ]
  },
  {
   "cell_type": "code",
   "execution_count": 6,
   "metadata": {
    "ExecuteTime": {
     "end_time": "2021-07-03T03:49:43.857971Z",
     "start_time": "2021-07-03T03:49:43.844971Z"
    }
   },
   "outputs": [
    {
     "name": "stdout",
     "output_type": "stream",
     "text": [
      "0\n",
      "1\n",
      "2\n",
      "3\n"
     ]
    },
    {
     "data": {
      "text/plain": [
       "4"
      ]
     },
     "execution_count": 6,
     "metadata": {},
     "output_type": "execute_result"
    }
   ],
   "source": [
    "\n",
    "PATH = Path(f\"./models/{hyper_parameters['notebookName']}\")\n",
    "if os.path.isdir(PATH):\n",
    "    dir_list = os.listdir(PATH)\n",
    "    num_files = 0\n",
    "    while True:\n",
    "        if os.path.isfile(str(PATH / f\"{num_files}\")):\n",
    "            print(num_files)\n",
    "            num_files += 1\n",
    "        else:\n",
    "            break\n",
    "else:\n",
    "    os.mkdir(PATH)\n",
    "    num_files = 0\n",
    "num_files"
   ]
  },
  {
   "cell_type": "markdown",
   "metadata": {},
   "source": [
    "# Set Path"
   ]
  },
  {
   "cell_type": "code",
   "execution_count": 7,
   "metadata": {
    "ExecuteTime": {
     "end_time": "2021-07-03T03:49:43.872971Z",
     "start_time": "2021-07-03T03:49:43.858971Z"
    }
   },
   "outputs": [],
   "source": [
    "data_dir = Path(\"../input/google-smartphone-decimeter-challenge\")"
   ]
  },
  {
   "cell_type": "markdown",
   "metadata": {},
   "source": [
    "# Help Functions"
   ]
  },
  {
   "cell_type": "code",
   "execution_count": 8,
   "metadata": {
    "ExecuteTime": {
     "end_time": "2021-07-03T03:49:43.887971Z",
     "start_time": "2021-07-03T03:49:43.874971Z"
    }
   },
   "outputs": [],
   "source": [
    "def calc_haversine(lat1, lon1, lat2, lon2):\n",
    "    \n",
    "    lat1=lat1 % 360\n",
    "    lon1=lon1 % 360\n",
    "    lat2=lat2 % 360\n",
    "    lon2=lon2 % 360\n",
    "    \n",
    "    lat1, lat2, lon1, lon2 = map(np.radians, [lat1, lat2, lon1, lon2])\n",
    "    \n",
    "    dlat = (lat2 - lat1)\n",
    "    dlon = (lon2 - lon1)\n",
    "    \n",
    "    a = np.sin(dlat / 2.0)**2 + np.cos(lat1) * np.cos(lat2) * np.sin(dlon / 2.0)**2\n",
    "    c = 2 * np.arcsin(a ** 0.5)\n",
    "        \n",
    "    dist = 6_367_000 * c\n",
    "    return dist"
   ]
  },
  {
   "cell_type": "code",
   "execution_count": 9,
   "metadata": {
    "ExecuteTime": {
     "end_time": "2021-07-03T03:49:43.902971Z",
     "start_time": "2021-07-03T03:49:43.889972Z"
    }
   },
   "outputs": [],
   "source": [
    "def check_score_np(predict:torch.Tensor, target:torch.Tensor):\n",
    "    m = []\n",
    "    predict = predict.detach().numpy()\n",
    "    target = target.detach().numpy()\n",
    "    for i in range(predict.shape[0]):\n",
    "        temp = calc_haversine(predict[i,0], predict[i,1], target[i,0], target[i,1])\n",
    "        m.append(temp)\n",
    "    \n",
    "    m = np.array(m)\n",
    "    score = (np.percentile(m, 50) + np.percentile(m, 95))/2\n",
    "    \n",
    "    return score"
   ]
  },
  {
   "cell_type": "markdown",
   "metadata": {},
   "source": [
    "# Load Data"
   ]
  },
  {
   "cell_type": "code",
   "execution_count": 10,
   "metadata": {
    "ExecuteTime": {
     "end_time": "2021-07-03T03:49:44.007971Z",
     "start_time": "2021-07-03T03:49:43.904971Z"
    }
   },
   "outputs": [],
   "source": [
    "df_train_default = pd.read_pickle(str(data_dir / \"gsdc_extract_train.pkl.gzip\"))"
   ]
  },
  {
   "cell_type": "code",
   "execution_count": 11,
   "metadata": {
    "ExecuteTime": {
     "end_time": "2021-07-03T03:49:44.082971Z",
     "start_time": "2021-07-03T03:49:44.008972Z"
    }
   },
   "outputs": [],
   "source": [
    "df_test = pd.read_pickle(str(data_dir / \"gsdc_extract_test.pkl.gzip\"))"
   ]
  },
  {
   "cell_type": "code",
   "execution_count": 12,
   "metadata": {
    "ExecuteTime": {
     "end_time": "2021-07-03T03:49:44.097972Z",
     "start_time": "2021-07-03T03:49:44.083972Z"
    },
    "scrolled": true
   },
   "outputs": [
    {
     "name": "stdout",
     "output_type": "stream",
     "text": [
      "collectionName\n",
      "phoneName\n",
      "millisSinceGpsEpoch\n",
      "latDeg\n",
      "lngDeg\n",
      "heightAboveWgs84EllipsoidM\n",
      "phone\n",
      "timeSinceFirstFixSeconds\n",
      "hDop\n",
      "vDop\n",
      "speedMps\n",
      "courseDegree\n",
      "t_latDeg\n",
      "t_lngDeg\n",
      "t_heightAboveWgs84EllipsoidM\n",
      "constellationType\n",
      "svid\n",
      "signalType\n",
      "receivedSvTimeInGpsNanos\n",
      "xSatPosM\n",
      "ySatPosM\n",
      "zSatPosM\n",
      "xSatVelMps\n",
      "ySatVelMps\n",
      "zSatVelMps\n",
      "satClkBiasM\n",
      "satClkDriftMps\n",
      "rawPrM\n",
      "rawPrUncM\n",
      "isrbM\n",
      "ionoDelayM\n",
      "tropoDelayM\n",
      "utcTimeMillis\n",
      "TimeNanos\n",
      "LeapSecond\n",
      "FullBiasNanos\n",
      "BiasNanos\n",
      "BiasUncertaintyNanos\n",
      "DriftNanosPerSecond\n",
      "DriftUncertaintyNanosPerSecond\n",
      "HardwareClockDiscontinuityCount\n",
      "Svid\n",
      "TimeOffsetNanos\n",
      "State\n",
      "ReceivedSvTimeNanos\n",
      "ReceivedSvTimeUncertaintyNanos\n",
      "Cn0DbHz\n",
      "PseudorangeRateMetersPerSecond\n",
      "PseudorangeRateUncertaintyMetersPerSecond\n",
      "AccumulatedDeltaRangeState\n",
      "AccumulatedDeltaRangeMeters\n",
      "AccumulatedDeltaRangeUncertaintyMeters\n",
      "CarrierFrequencyHz\n",
      "MultipathIndicator\n",
      "ConstellationType\n",
      "AgcDb\n",
      "BasebandCn0DbHz\n",
      "FullInterSignalBiasNanos\n",
      "FullInterSignalBiasUncertaintyNanos\n",
      "SatelliteInterSignalBiasNanos\n",
      "SatelliteInterSignalBiasUncertaintyNanos\n",
      "CodeType\n",
      "ChipsetElapsedRealtimeNanos\n",
      "utcTimeMillis_UncalGyro\n",
      "elapsedRealtimeNanos\n",
      "UncalGyroXRadPerSec\n",
      "UncalGyroYRadPerSec\n",
      "UncalGyroZRadPerSec\n",
      "DriftXRadPerSec\n",
      "DriftYRadPerSec\n",
      "DriftZRadPerSec\n",
      "utcTimeMillis_Status\n",
      "SignalCount\n",
      "SignalIndex\n",
      "ConstellationType_Status\n",
      "Svid_Status\n",
      "CarrierFrequencyHz_Status\n",
      "Cn0DbHz_Status\n",
      "AzimuthDegrees\n",
      "ElevationDegrees\n",
      "UsedInFix\n",
      "HasAlmanacData\n",
      "HasEphemerisData\n",
      "BasebandCn0DbHz_Status\n",
      "utcTimeMillis_UncalAccel\n",
      "elapsedRealtimeNanos_UncalAccel\n",
      "UncalAccelXMps2\n",
      "UncalAccelYMps2\n",
      "UncalAccelZMps2\n",
      "BiasXMps2\n",
      "BiasYMps2\n",
      "BiasZMps2\n",
      "utcTimeMillis_UncalMag\n",
      "elapsedRealtimeNanos_UncalMag\n",
      "UncalMagXMicroT\n",
      "UncalMagYMicroT\n",
      "UncalMagZMicroT\n",
      "BiasXMicroT\n",
      "BiasYMicroT\n",
      "BiasZMicroT\n",
      "utcTimeMillis_OrientationDeg\n",
      "elapsedRealtimeNanos_OrientationDeg\n",
      "yawDeg\n",
      "rollDeg\n",
      "pitchDeg\n",
      "dlatDeg\n",
      "dlngDeg\n",
      "dheight\n",
      "dlatDeg_Scaled\n",
      "dlngDeg_Scaled\n",
      "dheight_Scaled\n",
      "xSatPosM_Scaled\n",
      "ySatPosM_Scaled\n",
      "zSatPosM_Scaled\n",
      "xSatVelMps_Scaled\n",
      "ySatVelMps_Scaled\n",
      "zSatVelMps_Scaled\n",
      "UncalGyroXRadPerSec_Scaled\n",
      "UncalGyroYRadPerSec_Scaled\n",
      "UncalGyroZRadPerSec_Scaled\n",
      "DriftXRadPerSec_Scaled\n",
      "DriftYRadPerSec_Scaled\n",
      "DriftZRadPerSec_Scaled\n",
      "UncalAccelXMps2_Scaled\n",
      "UncalAccelYMps2_Scaled\n",
      "UncalAccelZMps2_Scaled\n",
      "BiasXMps2_Scaled\n",
      "BiasYMps2_Scaled\n",
      "BiasZMps2_Scaled\n",
      "UncalMagXMicroT_Scaled\n",
      "UncalMagYMicroT_Scaled\n",
      "UncalMagZMicroT_Scaled\n",
      "BiasXMicroT_Scaled\n",
      "BiasYMicroT_Scaled\n",
      "BiasZMicroT_Scaled\n",
      "yawDeg_Scaled\n",
      "rollDeg_Scaled\n",
      "pitchDeg_Scaled\n"
     ]
    }
   ],
   "source": [
    "for col in df_train_default.columns:\n",
    "    print(col)"
   ]
  },
  {
   "cell_type": "markdown",
   "metadata": {},
   "source": [
    "# Dataloader"
   ]
  },
  {
   "cell_type": "code",
   "execution_count": 13,
   "metadata": {
    "ExecuteTime": {
     "end_time": "2021-07-03T03:49:44.112971Z",
     "start_time": "2021-07-03T03:49:44.098972Z"
    }
   },
   "outputs": [
    {
     "data": {
      "text/plain": [
       "2021-04-22-US-SJC-1_Pixel4             2890\n",
       "2021-04-22-US-SJC-1_SamsungS20Ultra    2826\n",
       "2020-09-04-US-SF-2_Mi8                 2500\n",
       "2021-04-29-US-SJC-2_SamsungS20Ultra    2370\n",
       "2020-09-04-US-SF-2_Pixel4              2349\n",
       "                                       ... \n",
       "2021-01-05-US-SVL-2_Pixel4XL           1193\n",
       "2020-06-05-US-MTV-1_Pixel4XLModded     1123\n",
       "2021-04-26-US-SVL-1_Mi8                1036\n",
       "2021-04-26-US-SVL-1_Pixel5             1034\n",
       "2020-05-14-US-MTV-2_Pixel4XLModded      577\n",
       "Name: phone, Length: 73, dtype: int64"
      ]
     },
     "execution_count": 13,
     "metadata": {},
     "output_type": "execute_result"
    }
   ],
   "source": [
    "df_train_default['phone'].value_counts()"
   ]
  },
  {
   "cell_type": "code",
   "execution_count": 14,
   "metadata": {
    "ExecuteTime": {
     "end_time": "2021-07-03T03:49:44.937971Z",
     "start_time": "2021-07-03T03:49:44.113972Z"
    },
    "scrolled": true
   },
   "outputs": [
    {
     "name": "stdout",
     "output_type": "stream",
     "text": [
      "(120642, 138) (10779, 138)\n"
     ]
    }
   ],
   "source": [
    "def CustomTrainValidSplit(df:pd.DataFrame, valid_size):\n",
    "    phones = df['phone'].unique()\n",
    "    \n",
    "    valid_num = int(len(phones) * valid_size)\n",
    "    train_num = len(phones) - valid_num\n",
    "    \n",
    "    indexes = np.array(range(len(phones)))\n",
    "    indexes = np.random.choice(indexes, len(indexes))\n",
    "    \n",
    "    df_train = []\n",
    "    for phone in phones[indexes[:train_num]]:\n",
    "        df_train.append(df[df['phone'] == phone])\n",
    "    df_train = pd.concat(df_train)\n",
    "    \n",
    "    df_valid = []\n",
    "    for phone in phones[indexes[train_num:-1]]:\n",
    "        df_valid.append(df[df['phone'] == phone])\n",
    "    df_valid = pd.concat(df_valid)\n",
    "    \n",
    "    return df_train.reset_index().drop(columns = 'index'), df_valid.reset_index().drop(columns = 'index')\n",
    "    \n",
    "df_train, df_valid = CustomTrainValidSplit(df_train_default, valid_size = 0.1)\n",
    "print(df_train.shape, df_valid.shape)\n",
    "    "
   ]
  },
  {
   "cell_type": "code",
   "execution_count": 15,
   "metadata": {
    "ExecuteTime": {
     "end_time": "2021-07-03T03:49:44.997974Z",
     "start_time": "2021-07-03T03:49:44.938971Z"
    }
   },
   "outputs": [
    {
     "data": {
      "text/html": [
       "<div>\n",
       "<style scoped>\n",
       "    .dataframe tbody tr th:only-of-type {\n",
       "        vertical-align: middle;\n",
       "    }\n",
       "\n",
       "    .dataframe tbody tr th {\n",
       "        vertical-align: top;\n",
       "    }\n",
       "\n",
       "    .dataframe thead th {\n",
       "        text-align: right;\n",
       "    }\n",
       "</style>\n",
       "<table border=\"1\" class=\"dataframe\">\n",
       "  <thead>\n",
       "    <tr style=\"text-align: right;\">\n",
       "      <th></th>\n",
       "      <th>collectionName</th>\n",
       "      <th>phoneName</th>\n",
       "      <th>millisSinceGpsEpoch</th>\n",
       "      <th>latDeg</th>\n",
       "      <th>lngDeg</th>\n",
       "      <th>heightAboveWgs84EllipsoidM</th>\n",
       "      <th>phone</th>\n",
       "      <th>timeSinceFirstFixSeconds</th>\n",
       "      <th>hDop</th>\n",
       "      <th>vDop</th>\n",
       "      <th>...</th>\n",
       "      <th>BiasZMps2_Scaled</th>\n",
       "      <th>UncalMagXMicroT_Scaled</th>\n",
       "      <th>UncalMagYMicroT_Scaled</th>\n",
       "      <th>UncalMagZMicroT_Scaled</th>\n",
       "      <th>BiasXMicroT_Scaled</th>\n",
       "      <th>BiasYMicroT_Scaled</th>\n",
       "      <th>BiasZMicroT_Scaled</th>\n",
       "      <th>yawDeg_Scaled</th>\n",
       "      <th>rollDeg_Scaled</th>\n",
       "      <th>pitchDeg_Scaled</th>\n",
       "    </tr>\n",
       "  </thead>\n",
       "  <tbody>\n",
       "    <tr>\n",
       "      <th>0</th>\n",
       "      <td>2021-04-22-US-SJC-1</td>\n",
       "      <td>SamsungS20Ultra</td>\n",
       "      <td>1303160577000</td>\n",
       "      <td>37.334587</td>\n",
       "      <td>-121.899431</td>\n",
       "      <td>-4.10</td>\n",
       "      <td>2021-04-22-US-SJC-1_SamsungS20Ultra</td>\n",
       "      <td>327.00</td>\n",
       "      <td>1.8</td>\n",
       "      <td>0.0</td>\n",
       "      <td>...</td>\n",
       "      <td>-2.065078</td>\n",
       "      <td>-0.684273</td>\n",
       "      <td>-0.433202</td>\n",
       "      <td>-0.308914</td>\n",
       "      <td>-0.942276</td>\n",
       "      <td>-0.096116</td>\n",
       "      <td>-0.448045</td>\n",
       "      <td>-0.976377</td>\n",
       "      <td>0.600596</td>\n",
       "      <td>-0.508054</td>\n",
       "    </tr>\n",
       "    <tr>\n",
       "      <th>1</th>\n",
       "      <td>2021-04-22-US-SJC-1</td>\n",
       "      <td>SamsungS20Ultra</td>\n",
       "      <td>1303160578000</td>\n",
       "      <td>37.334564</td>\n",
       "      <td>-121.899395</td>\n",
       "      <td>-5.95</td>\n",
       "      <td>2021-04-22-US-SJC-1_SamsungS20Ultra</td>\n",
       "      <td>328.00</td>\n",
       "      <td>1.8</td>\n",
       "      <td>0.0</td>\n",
       "      <td>...</td>\n",
       "      <td>-2.065078</td>\n",
       "      <td>-0.675184</td>\n",
       "      <td>-0.408991</td>\n",
       "      <td>-0.313342</td>\n",
       "      <td>-0.942276</td>\n",
       "      <td>-0.096116</td>\n",
       "      <td>-0.448045</td>\n",
       "      <td>-0.976377</td>\n",
       "      <td>0.600596</td>\n",
       "      <td>-0.508054</td>\n",
       "    </tr>\n",
       "    <tr>\n",
       "      <th>2</th>\n",
       "      <td>2021-04-22-US-SJC-1</td>\n",
       "      <td>SamsungS20Ultra</td>\n",
       "      <td>1303160579000</td>\n",
       "      <td>37.334579</td>\n",
       "      <td>-121.899414</td>\n",
       "      <td>-5.03</td>\n",
       "      <td>2021-04-22-US-SJC-1_SamsungS20Ultra</td>\n",
       "      <td>329.00</td>\n",
       "      <td>1.8</td>\n",
       "      <td>0.0</td>\n",
       "      <td>...</td>\n",
       "      <td>-2.065078</td>\n",
       "      <td>-0.678214</td>\n",
       "      <td>-0.442886</td>\n",
       "      <td>-0.306257</td>\n",
       "      <td>-0.942276</td>\n",
       "      <td>-0.096116</td>\n",
       "      <td>-0.448045</td>\n",
       "      <td>-0.976377</td>\n",
       "      <td>0.600596</td>\n",
       "      <td>-0.508054</td>\n",
       "    </tr>\n",
       "    <tr>\n",
       "      <th>3</th>\n",
       "      <td>2021-04-22-US-SJC-1</td>\n",
       "      <td>SamsungS20Ultra</td>\n",
       "      <td>1303160580000</td>\n",
       "      <td>37.334573</td>\n",
       "      <td>-121.899406</td>\n",
       "      <td>-4.78</td>\n",
       "      <td>2021-04-22-US-SJC-1_SamsungS20Ultra</td>\n",
       "      <td>330.00</td>\n",
       "      <td>1.8</td>\n",
       "      <td>0.0</td>\n",
       "      <td>...</td>\n",
       "      <td>-2.065078</td>\n",
       "      <td>-0.678214</td>\n",
       "      <td>-0.431588</td>\n",
       "      <td>-0.300057</td>\n",
       "      <td>-0.942276</td>\n",
       "      <td>-0.096116</td>\n",
       "      <td>-0.448045</td>\n",
       "      <td>-0.976377</td>\n",
       "      <td>0.600596</td>\n",
       "      <td>-0.508054</td>\n",
       "    </tr>\n",
       "    <tr>\n",
       "      <th>4</th>\n",
       "      <td>2021-04-22-US-SJC-1</td>\n",
       "      <td>SamsungS20Ultra</td>\n",
       "      <td>1303160581000</td>\n",
       "      <td>37.334588</td>\n",
       "      <td>-121.899438</td>\n",
       "      <td>-9.13</td>\n",
       "      <td>2021-04-22-US-SJC-1_SamsungS20Ultra</td>\n",
       "      <td>331.00</td>\n",
       "      <td>1.8</td>\n",
       "      <td>0.0</td>\n",
       "      <td>...</td>\n",
       "      <td>-2.065078</td>\n",
       "      <td>-0.679729</td>\n",
       "      <td>-0.410605</td>\n",
       "      <td>-0.308028</td>\n",
       "      <td>-0.942276</td>\n",
       "      <td>-0.096116</td>\n",
       "      <td>-0.448045</td>\n",
       "      <td>-0.976377</td>\n",
       "      <td>0.600596</td>\n",
       "      <td>-0.508054</td>\n",
       "    </tr>\n",
       "    <tr>\n",
       "      <th>...</th>\n",
       "      <td>...</td>\n",
       "      <td>...</td>\n",
       "      <td>...</td>\n",
       "      <td>...</td>\n",
       "      <td>...</td>\n",
       "      <td>...</td>\n",
       "      <td>...</td>\n",
       "      <td>...</td>\n",
       "      <td>...</td>\n",
       "      <td>...</td>\n",
       "      <td>...</td>\n",
       "      <td>...</td>\n",
       "      <td>...</td>\n",
       "      <td>...</td>\n",
       "      <td>...</td>\n",
       "      <td>...</td>\n",
       "      <td>...</td>\n",
       "      <td>...</td>\n",
       "      <td>...</td>\n",
       "      <td>...</td>\n",
       "      <td>...</td>\n",
       "    </tr>\n",
       "    <tr>\n",
       "      <th>120637</th>\n",
       "      <td>2021-04-22-US-SJC-1</td>\n",
       "      <td>Pixel4</td>\n",
       "      <td>1303163462446</td>\n",
       "      <td>37.334590</td>\n",
       "      <td>-121.899411</td>\n",
       "      <td>-15.98</td>\n",
       "      <td>2021-04-22-US-SJC-1_Pixel4</td>\n",
       "      <td>3212.45</td>\n",
       "      <td>2.9</td>\n",
       "      <td>0.0</td>\n",
       "      <td>...</td>\n",
       "      <td>0.484243</td>\n",
       "      <td>0.077927</td>\n",
       "      <td>-0.559201</td>\n",
       "      <td>-1.163001</td>\n",
       "      <td>-0.246170</td>\n",
       "      <td>-0.066593</td>\n",
       "      <td>-0.661824</td>\n",
       "      <td>-0.498000</td>\n",
       "      <td>0.561373</td>\n",
       "      <td>-0.565837</td>\n",
       "    </tr>\n",
       "    <tr>\n",
       "      <th>120638</th>\n",
       "      <td>2021-04-22-US-SJC-1</td>\n",
       "      <td>Pixel4</td>\n",
       "      <td>1303163463446</td>\n",
       "      <td>37.334579</td>\n",
       "      <td>-121.899403</td>\n",
       "      <td>-17.10</td>\n",
       "      <td>2021-04-22-US-SJC-1_Pixel4</td>\n",
       "      <td>3213.45</td>\n",
       "      <td>2.9</td>\n",
       "      <td>0.0</td>\n",
       "      <td>...</td>\n",
       "      <td>0.484243</td>\n",
       "      <td>0.077927</td>\n",
       "      <td>-0.559201</td>\n",
       "      <td>-1.163001</td>\n",
       "      <td>-0.246170</td>\n",
       "      <td>-0.066593</td>\n",
       "      <td>-0.661824</td>\n",
       "      <td>-0.498000</td>\n",
       "      <td>0.561373</td>\n",
       "      <td>-0.565837</td>\n",
       "    </tr>\n",
       "    <tr>\n",
       "      <th>120639</th>\n",
       "      <td>2021-04-22-US-SJC-1</td>\n",
       "      <td>Pixel4</td>\n",
       "      <td>1303163464446</td>\n",
       "      <td>37.334589</td>\n",
       "      <td>-121.899423</td>\n",
       "      <td>-17.23</td>\n",
       "      <td>2021-04-22-US-SJC-1_Pixel4</td>\n",
       "      <td>3214.45</td>\n",
       "      <td>2.9</td>\n",
       "      <td>0.0</td>\n",
       "      <td>...</td>\n",
       "      <td>0.484243</td>\n",
       "      <td>0.077927</td>\n",
       "      <td>-0.559201</td>\n",
       "      <td>-1.163001</td>\n",
       "      <td>-0.246170</td>\n",
       "      <td>-0.066593</td>\n",
       "      <td>-0.661824</td>\n",
       "      <td>-0.498000</td>\n",
       "      <td>0.561373</td>\n",
       "      <td>-0.565837</td>\n",
       "    </tr>\n",
       "    <tr>\n",
       "      <th>120640</th>\n",
       "      <td>2021-04-22-US-SJC-1</td>\n",
       "      <td>Pixel4</td>\n",
       "      <td>1303163465446</td>\n",
       "      <td>37.334621</td>\n",
       "      <td>-121.899401</td>\n",
       "      <td>-16.86</td>\n",
       "      <td>2021-04-22-US-SJC-1_Pixel4</td>\n",
       "      <td>3215.45</td>\n",
       "      <td>2.9</td>\n",
       "      <td>0.0</td>\n",
       "      <td>...</td>\n",
       "      <td>0.484243</td>\n",
       "      <td>0.077927</td>\n",
       "      <td>-0.559201</td>\n",
       "      <td>-1.163001</td>\n",
       "      <td>-0.246170</td>\n",
       "      <td>-0.066593</td>\n",
       "      <td>-0.661824</td>\n",
       "      <td>-0.498000</td>\n",
       "      <td>0.561373</td>\n",
       "      <td>-0.565837</td>\n",
       "    </tr>\n",
       "    <tr>\n",
       "      <th>120641</th>\n",
       "      <td>2021-04-22-US-SJC-1</td>\n",
       "      <td>Pixel4</td>\n",
       "      <td>1303163466446</td>\n",
       "      <td>37.334608</td>\n",
       "      <td>-121.899407</td>\n",
       "      <td>-11.81</td>\n",
       "      <td>2021-04-22-US-SJC-1_Pixel4</td>\n",
       "      <td>3216.45</td>\n",
       "      <td>2.9</td>\n",
       "      <td>0.0</td>\n",
       "      <td>...</td>\n",
       "      <td>0.484243</td>\n",
       "      <td>0.077927</td>\n",
       "      <td>-0.559201</td>\n",
       "      <td>-1.163001</td>\n",
       "      <td>-0.246170</td>\n",
       "      <td>-0.066593</td>\n",
       "      <td>-0.661824</td>\n",
       "      <td>-0.498000</td>\n",
       "      <td>0.561373</td>\n",
       "      <td>-0.565837</td>\n",
       "    </tr>\n",
       "  </tbody>\n",
       "</table>\n",
       "<p>120642 rows × 138 columns</p>\n",
       "</div>"
      ],
      "text/plain": [
       "             collectionName        phoneName  millisSinceGpsEpoch     latDeg  \\\n",
       "0       2021-04-22-US-SJC-1  SamsungS20Ultra        1303160577000  37.334587   \n",
       "1       2021-04-22-US-SJC-1  SamsungS20Ultra        1303160578000  37.334564   \n",
       "2       2021-04-22-US-SJC-1  SamsungS20Ultra        1303160579000  37.334579   \n",
       "3       2021-04-22-US-SJC-1  SamsungS20Ultra        1303160580000  37.334573   \n",
       "4       2021-04-22-US-SJC-1  SamsungS20Ultra        1303160581000  37.334588   \n",
       "...                     ...              ...                  ...        ...   \n",
       "120637  2021-04-22-US-SJC-1           Pixel4        1303163462446  37.334590   \n",
       "120638  2021-04-22-US-SJC-1           Pixel4        1303163463446  37.334579   \n",
       "120639  2021-04-22-US-SJC-1           Pixel4        1303163464446  37.334589   \n",
       "120640  2021-04-22-US-SJC-1           Pixel4        1303163465446  37.334621   \n",
       "120641  2021-04-22-US-SJC-1           Pixel4        1303163466446  37.334608   \n",
       "\n",
       "            lngDeg  heightAboveWgs84EllipsoidM  \\\n",
       "0      -121.899431                       -4.10   \n",
       "1      -121.899395                       -5.95   \n",
       "2      -121.899414                       -5.03   \n",
       "3      -121.899406                       -4.78   \n",
       "4      -121.899438                       -9.13   \n",
       "...            ...                         ...   \n",
       "120637 -121.899411                      -15.98   \n",
       "120638 -121.899403                      -17.10   \n",
       "120639 -121.899423                      -17.23   \n",
       "120640 -121.899401                      -16.86   \n",
       "120641 -121.899407                      -11.81   \n",
       "\n",
       "                                      phone  timeSinceFirstFixSeconds  hDop  \\\n",
       "0       2021-04-22-US-SJC-1_SamsungS20Ultra                    327.00   1.8   \n",
       "1       2021-04-22-US-SJC-1_SamsungS20Ultra                    328.00   1.8   \n",
       "2       2021-04-22-US-SJC-1_SamsungS20Ultra                    329.00   1.8   \n",
       "3       2021-04-22-US-SJC-1_SamsungS20Ultra                    330.00   1.8   \n",
       "4       2021-04-22-US-SJC-1_SamsungS20Ultra                    331.00   1.8   \n",
       "...                                     ...                       ...   ...   \n",
       "120637           2021-04-22-US-SJC-1_Pixel4                   3212.45   2.9   \n",
       "120638           2021-04-22-US-SJC-1_Pixel4                   3213.45   2.9   \n",
       "120639           2021-04-22-US-SJC-1_Pixel4                   3214.45   2.9   \n",
       "120640           2021-04-22-US-SJC-1_Pixel4                   3215.45   2.9   \n",
       "120641           2021-04-22-US-SJC-1_Pixel4                   3216.45   2.9   \n",
       "\n",
       "        vDop  ...  BiasZMps2_Scaled  UncalMagXMicroT_Scaled  \\\n",
       "0        0.0  ...         -2.065078               -0.684273   \n",
       "1        0.0  ...         -2.065078               -0.675184   \n",
       "2        0.0  ...         -2.065078               -0.678214   \n",
       "3        0.0  ...         -2.065078               -0.678214   \n",
       "4        0.0  ...         -2.065078               -0.679729   \n",
       "...      ...  ...               ...                     ...   \n",
       "120637   0.0  ...          0.484243                0.077927   \n",
       "120638   0.0  ...          0.484243                0.077927   \n",
       "120639   0.0  ...          0.484243                0.077927   \n",
       "120640   0.0  ...          0.484243                0.077927   \n",
       "120641   0.0  ...          0.484243                0.077927   \n",
       "\n",
       "        UncalMagYMicroT_Scaled  UncalMagZMicroT_Scaled  BiasXMicroT_Scaled  \\\n",
       "0                    -0.433202               -0.308914           -0.942276   \n",
       "1                    -0.408991               -0.313342           -0.942276   \n",
       "2                    -0.442886               -0.306257           -0.942276   \n",
       "3                    -0.431588               -0.300057           -0.942276   \n",
       "4                    -0.410605               -0.308028           -0.942276   \n",
       "...                        ...                     ...                 ...   \n",
       "120637               -0.559201               -1.163001           -0.246170   \n",
       "120638               -0.559201               -1.163001           -0.246170   \n",
       "120639               -0.559201               -1.163001           -0.246170   \n",
       "120640               -0.559201               -1.163001           -0.246170   \n",
       "120641               -0.559201               -1.163001           -0.246170   \n",
       "\n",
       "        BiasYMicroT_Scaled  BiasZMicroT_Scaled yawDeg_Scaled  rollDeg_Scaled  \\\n",
       "0                -0.096116           -0.448045     -0.976377        0.600596   \n",
       "1                -0.096116           -0.448045     -0.976377        0.600596   \n",
       "2                -0.096116           -0.448045     -0.976377        0.600596   \n",
       "3                -0.096116           -0.448045     -0.976377        0.600596   \n",
       "4                -0.096116           -0.448045     -0.976377        0.600596   \n",
       "...                    ...                 ...           ...             ...   \n",
       "120637           -0.066593           -0.661824     -0.498000        0.561373   \n",
       "120638           -0.066593           -0.661824     -0.498000        0.561373   \n",
       "120639           -0.066593           -0.661824     -0.498000        0.561373   \n",
       "120640           -0.066593           -0.661824     -0.498000        0.561373   \n",
       "120641           -0.066593           -0.661824     -0.498000        0.561373   \n",
       "\n",
       "        pitchDeg_Scaled  \n",
       "0             -0.508054  \n",
       "1             -0.508054  \n",
       "2             -0.508054  \n",
       "3             -0.508054  \n",
       "4             -0.508054  \n",
       "...                 ...  \n",
       "120637        -0.565837  \n",
       "120638        -0.565837  \n",
       "120639        -0.565837  \n",
       "120640        -0.565837  \n",
       "120641        -0.565837  \n",
       "\n",
       "[120642 rows x 138 columns]"
      ]
     },
     "execution_count": 15,
     "metadata": {},
     "output_type": "execute_result"
    }
   ],
   "source": [
    "df_train"
   ]
  },
  {
   "cell_type": "code",
   "execution_count": 16,
   "metadata": {
    "ExecuteTime": {
     "end_time": "2021-07-03T03:49:45.012971Z",
     "start_time": "2021-07-03T03:49:44.998972Z"
    }
   },
   "outputs": [],
   "source": [
    "def GetWindows(idx, window_size):\n",
    "    index = np.array([])\n",
    "    if idx < window_size:\n",
    "        index = np.concatenate([np.zeros(window_size - idx-1), np.array(range(idx+1))])\n",
    "        pass\n",
    "    else:\n",
    "        index = np.array(range(idx-window_size+1, idx+1))\n",
    "    return index.astype(int)\n",
    "\n",
    "def GetWindowsWithRatio(idx, max_idx, window_size, window_ratio = 1.):\n",
    "    left_index = np.array([])\n",
    "    right_index = np.array([])\n",
    "    \n",
    "    left_size = int(round(window_size * window_ratio))\n",
    "    right_size = window_size - left_size\n",
    "    if idx - left_size< 0:\n",
    "        left_index = np.concatenate([np.zeros(left_size - idx-1), np.array(range(idx+1))])\n",
    "    else:\n",
    "        left_index = np.array(range(idx-left_size, idx+1))\n",
    "    \n",
    "    if idx + right_size> max_idx:\n",
    "        right_index = np.concatenate([np.array(range(idx+1, max_idx+1)), (max_idx)*np.ones(right_size - idx - 1)])\n",
    "    else:\n",
    "        right_index = np.array(range(idx+1, idx + right_size))\n",
    "    \n",
    "    index = np.concatenate([left_index, right_index])\n",
    "    \n",
    "    if index.shape[0] < window_size:\n",
    "        if idx > np.percentile(index, window_ratio * 100):\n",
    "            if index[-1] == max_idx:\n",
    "                addtional_index = index[-1]\n",
    "            else:\n",
    "                addtional_index = index[-1] + 1\n",
    "            index = np.concatenate([index, np.array([addtional_index])])\n",
    "        \n",
    "    return index.astype(int)\n",
    "\n",
    "\n",
    "class CustomDataset(torch.utils.data.Dataset):\n",
    "    def __init__(self, df:pd.DataFrame, \n",
    "                 features = ['latDeg', 'lngDeg', 'heightAboveWgs84EllipsoidM'], \n",
    "                 labels = ['t_latDeg', 't_lngDeg', 't_heightAboveWgs84EllipsoidM'],\n",
    "                 window_size = 100,\n",
    "                 train = True,\n",
    "                device = 'cpu'):\n",
    "        self.df = df\n",
    "        self.features = features\n",
    "        self.labels = labels\n",
    "        self.len = df.shape[0]\n",
    "        self.window_size = window_size\n",
    "        self.train = train\n",
    "        self.device = device\n",
    "        \n",
    "        self.data = self.df[features].astype(float).values\n",
    "        if train == True:\n",
    "            self.true = self.df[labels].astype(float).values\n",
    "        else:\n",
    "            self.true = []\n",
    "        self.phone = self.df['phone'].values\n",
    "        self.millisSinceGpsEpoch = self.df['millisSinceGpsEpoch'].values\n",
    "        \n",
    "        self.start_index_by_phone = dict()\n",
    "        self.length_by_phone = dict()\n",
    "        \n",
    "        for phone in set(self.phone):\n",
    "            start_index = np.where(self.phone == phone)[0][0]\n",
    "            self.start_index_by_phone[phone] = start_index\n",
    "            self.length_by_phone[phone] = (self.phone == phone).sum().astype('int64')\n",
    "            \n",
    "        \n",
    "    \n",
    "    def __len__(self):\n",
    "        return self.len\n",
    "    \n",
    "    def __getitem__(self, idx):\n",
    "        # 필요하다면 random crop 코드도 추가(랜덤한 위치에서 일정 비율의 데이터를 0으로 초기화)\n",
    "        phone = self.phone[idx]\n",
    "        start_index = self.start_index_by_phone[phone]\n",
    "        \n",
    "#         window_index = GetWindowsWithRatio(idx - start_index, self.length_by_phone[phone], self.window_size, 1) + start_index\n",
    "        window_index = GetWindows(idx - start_index, self.window_size) + start_index\n",
    "        data = self.data[window_index, :].transpose(1, 0)\n",
    "        \n",
    "            \n",
    "        indx = [self.phone[idx], self.millisSinceGpsEpoch[idx]]\n",
    "        \n",
    "        # data shape : num_of_features X window_size\n",
    "        # true shape : num_of_labels X 1\n",
    "        data = torch.Tensor(data)\n",
    "        \n",
    "        if self.train is False:\n",
    "            true = []\n",
    "        else:\n",
    "            true = self.true[idx]\n",
    "            true = torch.Tensor(true.astype(float))\n",
    "        \n",
    "        return data, true, indx\n",
    "    \n"
   ]
  },
  {
   "cell_type": "code",
   "execution_count": 17,
   "metadata": {
    "ExecuteTime": {
     "end_time": "2021-07-03T03:49:45.312970Z",
     "start_time": "2021-07-03T03:49:45.013972Z"
    },
    "scrolled": true
   },
   "outputs": [],
   "source": [
    "features = ['latDeg', 'lngDeg', 'heightAboveWgs84EllipsoidM',\n",
    "           'dlatDeg', 'dlngDeg', 'dheight', \n",
    "            'dlatDeg_Scaled',\n",
    "            'dlngDeg_Scaled',\n",
    "            'dheight_Scaled',\n",
    "            'xSatPosM_Scaled',\n",
    "            'ySatPosM_Scaled',\n",
    "            'zSatPosM_Scaled',\n",
    "            'xSatVelMps_Scaled',\n",
    "            'ySatVelMps_Scaled',\n",
    "            'zSatVelMps_Scaled',\n",
    "            'UncalGyroXRadPerSec_Scaled',\n",
    "            'UncalGyroYRadPerSec_Scaled',\n",
    "            'UncalGyroZRadPerSec_Scaled',\n",
    "            'DriftXRadPerSec_Scaled',\n",
    "            'DriftYRadPerSec_Scaled',\n",
    "            'DriftZRadPerSec_Scaled',\n",
    "            'UncalAccelXMps2_Scaled',\n",
    "            'UncalAccelYMps2_Scaled',\n",
    "            'UncalAccelZMps2_Scaled',\n",
    "            'BiasXMps2_Scaled',\n",
    "            'BiasYMps2_Scaled',\n",
    "            'BiasZMps2_Scaled',\n",
    "            'UncalMagXMicroT_Scaled',\n",
    "            'UncalMagYMicroT_Scaled',\n",
    "            'UncalMagZMicroT_Scaled',\n",
    "            'BiasXMicroT_Scaled',\n",
    "            'BiasYMicroT_Scaled',\n",
    "            'BiasZMicroT_Scaled',\n",
    "            'yawDeg_Scaled',\n",
    "            'rollDeg_Scaled',\n",
    "            'pitchDeg_Scaled']\n",
    "labels = ['t_latDeg', 't_lngDeg', 't_heightAboveWgs84EllipsoidM']\n",
    "\n",
    "train_data = CustomDataset(df_train, features = features, labels = labels, window_size = hyper_parameters['window_size'], device = device)\n",
    "valid_data = CustomDataset(df_valid, features = features, labels = labels, window_size = hyper_parameters['window_size'], device = device)\n",
    "test_data = CustomDataset(df_test, features = features, labels = labels, window_size = hyper_parameters['window_size'], train = False, device = device)"
   ]
  },
  {
   "cell_type": "code",
   "execution_count": 18,
   "metadata": {
    "ExecuteTime": {
     "end_time": "2021-07-03T03:49:45.327970Z",
     "start_time": "2021-07-03T03:49:45.313972Z"
    }
   },
   "outputs": [],
   "source": [
    "train_loader = DataLoader(train_data, batch_size = hyper_parameters['batch_size'], shuffle = True)\n",
    "valid_loader = DataLoader(valid_data, batch_size = hyper_parameters['batch_size'], shuffle = False)\n",
    "test_loader = DataLoader(test_data, batch_size = hyper_parameters['batch_size'], shuffle = False)"
   ]
  },
  {
   "cell_type": "markdown",
   "metadata": {},
   "source": [
    "# Build Model"
   ]
  },
  {
   "cell_type": "code",
   "execution_count": 19,
   "metadata": {
    "ExecuteTime": {
     "end_time": "2021-07-03T03:49:45.342970Z",
     "start_time": "2021-07-03T03:49:45.328971Z"
    }
   },
   "outputs": [],
   "source": [
    "class GPSLossScore(nn.Module):\n",
    "    def __init__(self):\n",
    "        super().__init__()\n",
    "        self.EARTH_RADIUS = 6_367_000\n",
    "        self.mse = nn.MSELoss()\n",
    "        pass\n",
    "    \n",
    "    def forward(self, predict:torch.Tensor, target:torch.Tensor):\n",
    "        \n",
    "        loss = (0.5) * self.gps_loss(predict, target) + (0.5) * self.EARTH_RADIUS * self.mse(predict, target)\n",
    "        return loss\n",
    "    \n",
    "    def torch_haversine(self,lat1, lon1, lat2, lon2):\n",
    "    \n",
    "        lat1=lat1 % 360\n",
    "        lon1=lon1 % 360\n",
    "        lat2=lat2 % 360\n",
    "        lon2=lon2 % 360\n",
    "\n",
    "        lat1, lat2, lon1, lon2 = map(torch.deg2rad, [lat1, lat2, lon1, lon2])\n",
    "\n",
    "        dlat = (lat2 - lat1)\n",
    "        dlon = (lon2 - lon1)\n",
    "\n",
    "        a = torch.sin(dlat / 2.0)**2 + torch.cos(lat1) * torch.cos(lat2) * (torch.sin(dlon / 2.0)**2)\n",
    "        c = 2 * torch.arcsin(a ** 0.5)\n",
    "\n",
    "        dist = self.EARTH_RADIUS * c\n",
    "\n",
    "        return dist\n",
    "\n",
    "    def gps_loss(self, predict:torch.Tensor, target:torch.Tensor):\n",
    "        dist = self.torch_haversine(predict[:,0], predict[:,1], target[:,0], target[:,1])\n",
    "\n",
    "        loss = dist.mean()\n",
    "\n",
    "        return loss\n",
    "\n",
    "    def gps_score(self, predict:torch.Tensor, target:torch.Tensor):\n",
    "        dist = self.torch_haversine(predict[:,0], predict[:,1], target[:,0], target[:,1])\n",
    "\n",
    "        score = (torch.quantile(dist, 0.5) + torch.quantile(dist, 0.95))/2\n",
    "\n",
    "        return score\n",
    "    "
   ]
  },
  {
   "cell_type": "code",
   "execution_count": 20,
   "metadata": {
    "ExecuteTime": {
     "end_time": "2021-07-03T03:49:45.357971Z",
     "start_time": "2021-07-03T03:49:45.343971Z"
    }
   },
   "outputs": [],
   "source": [
    "class OneConv(nn.Module):\n",
    "    def __init__(self, input_size = 3, output_size = 3, filter_size = 3):\n",
    "        super().__init__()\n",
    "        \n",
    "        self.filter = nn.Conv1d(input_size, output_size, filter_size, padding = filter_size//2)\n",
    "        self.skip_filter = nn.Conv1d(input_size, output_size, 1, padding = 0)\n",
    "        self.batch_norm = nn.BatchNorm1d(output_size)\n",
    "        \n",
    "    def forward(self, x):\n",
    "        skip = self.skip_filter(x)\n",
    "        filt = F.relu(self.filter(x))\n",
    "        x = filt + skip\n",
    "        x = self.batch_norm(x)\n",
    "        return x\n",
    "    \n",
    "class StackWidth(nn.Module):\n",
    "    def __init__(self, input_size = 3, output_size = 3, filter_size_list = [1,3,5]):\n",
    "        super().__init__()\n",
    "        self.skip = nn.Conv1d(input_size, output_size * len(filter_size_list), 1, padding = 0)\n",
    "        \n",
    "        self.conv1 = OneConv(input_size, output_size, filter_size_list[0])\n",
    "        self.conv3 = OneConv(input_size, output_size, filter_size_list[1])\n",
    "        self.conv5 = OneConv(input_size, output_size, filter_size_list[2])\n",
    "        \n",
    "        self.conv_cat = OneConv(output_size  * len(filter_size_list), output_size, 1)\n",
    "        \n",
    "    def forward(self, x):\n",
    "        x0 = self.skip(x)\n",
    "        \n",
    "        x1 = self.conv1(x)\n",
    "        x3 = self.conv3(x)\n",
    "        x5 = self.conv5(x)\n",
    "        \n",
    "        x = torch.cat([x1,x3,x5], axis = 1)\n",
    "        x = x + x0\n",
    "        x = self.conv_cat(x)\n",
    "        \n",
    "        return x\n",
    "    \n",
    "class StackHeight(nn.Module):\n",
    "    def __init__(self, _input_size = 3, output_size_list = [3, 5, 7]):\n",
    "        super().__init__()\n",
    "        input_size = _input_size\n",
    "        self.skip = nn.Conv1d(input_size, output_size_list[-1], 1, padding = 0)\n",
    "        \n",
    "        self.conv3 = StackWidth(input_size, output_size_list[0], [1,3,5])\n",
    "        self.conv5 = StackWidth(output_size_list[0], output_size_list[1], [1,3,5])\n",
    "        self.conv7 = StackWidth(output_size_list[1], output_size_list[2], [1,3,5])\n",
    "        \n",
    "    def forward(self, x):\n",
    "        x0 = self.skip(x)\n",
    "        \n",
    "        x = self.conv3(x)\n",
    "        x = self.conv5(x)\n",
    "        x = self.conv7(x)\n",
    "        \n",
    "        x = x + x0\n",
    "        x = F.relu(x)\n",
    "        \n",
    "        return x\n",
    "    "
   ]
  },
  {
   "cell_type": "code",
   "execution_count": 21,
   "metadata": {
    "ExecuteTime": {
     "end_time": "2021-07-03T03:49:45.372972Z",
     "start_time": "2021-07-03T03:49:45.358971Z"
    }
   },
   "outputs": [],
   "source": [
    "\n",
    "class BaseModel(nn.Module):\n",
    "    def __init__(self, input_size = (100, 3), output_size = 3):\n",
    "        super().__init__()\n",
    "        self.input_size = input_size\n",
    "        self.output_size = output_size\n",
    "        \n",
    "        self.conv1 = StackHeight(input_size[1], [36, 64, 64])\n",
    "        self.maxpool1 = nn.MaxPool1d(2, 2)\n",
    "        self.batch1 = nn.BatchNorm1d(64)\n",
    "        \n",
    "        self.conv2 = StackHeight(64, [32, 16, 8])\n",
    "        self.maxpool2 = nn.MaxPool1d(2, 2)\n",
    "        self.batch2 = nn.BatchNorm1d(8)\n",
    "        \n",
    "        self.conv3 = StackHeight(8, [8, 8, 8])\n",
    "        self.maxpool3 = nn.MaxPool1d(2, 2)\n",
    "        self.batch3 = nn.BatchNorm1d(8)\n",
    "        \n",
    "        self.fc1 = nn.Linear((input_size[0]//8)*8, 1024)\n",
    "        self.fc2 = nn.Linear(1024, 512)\n",
    "        self.fc3 = nn.Linear(512, 256)\n",
    "        self.fc4 = nn.Linear(256, 128)\n",
    "        self.fc5 = nn.Linear(128, 3)\n",
    "        \n",
    "        self.drop03 = nn.Dropout(0.3)\n",
    "        self.drop05 = nn.Dropout(0.5)\n",
    "        self.drop06 = nn.Dropout(0.6)\n",
    "        \n",
    "    def forward(self, x):\n",
    "        input_size = self.input_size\n",
    "        \n",
    "        x = self.conv1(x)\n",
    "        x = self.maxpool1(x)\n",
    "        x = self.batch1(x)\n",
    "        \n",
    "        x = self.conv2(x)\n",
    "        x = self.maxpool2(x)\n",
    "        x = self.batch2(x)\n",
    "        \n",
    "        x = self.conv3(x)\n",
    "        x = self.maxpool3(x)\n",
    "        x = self.batch3(x)\n",
    "        \n",
    "        x = x.view(-1, (input_size[0]//8)*8)\n",
    "        \n",
    "        x = self.drop06(x)\n",
    "        x = F.relu(self.fc1(x))\n",
    "        x = self.drop05(x)\n",
    "        x = F.relu(self.fc2(x))\n",
    "        x = self.drop05(x)\n",
    "        x = F.relu(self.fc3(x))\n",
    "        x = self.drop05(x)\n",
    "        x = F.relu(self.fc4(x))\n",
    "        x = self.drop03(x)\n",
    "        x = self.fc5(x)\n",
    "        \n",
    "        return x"
   ]
  },
  {
   "cell_type": "code",
   "execution_count": 22,
   "metadata": {
    "ExecuteTime": {
     "end_time": "2021-07-03T03:49:46.497971Z",
     "start_time": "2021-07-03T03:49:45.373977Z"
    }
   },
   "outputs": [],
   "source": [
    "model = BaseModel((hyper_parameters['window_size'], len(features)), len(labels))\n",
    "model.to(device)\n",
    "\n",
    "# loss_func = nn.SmoothL1Loss()\n",
    "loss_func = GPSLossScore()\n",
    "optimizer = optim.Adam(model.parameters(), lr = hyper_parameters['learning_rate'])\n",
    "scheduler = optim.lr_scheduler.ReduceLROnPlateau(optimizer=optimizer,\n",
    "                                                mode = 'min',\n",
    "                                                factor = 0.9,\n",
    "                                                patience = 10)"
   ]
  },
  {
   "cell_type": "markdown",
   "metadata": {},
   "source": [
    "# Fit and Validate"
   ]
  },
  {
   "cell_type": "code",
   "execution_count": 23,
   "metadata": {
    "ExecuteTime": {
     "end_time": "2021-07-03T03:49:46.512971Z",
     "start_time": "2021-07-03T03:49:46.500971Z"
    }
   },
   "outputs": [],
   "source": [
    "def train(epoch, dataloader):\n",
    "    model.train()  # 신경망을 학습 모드로 전환\n",
    "\n",
    "    # 데이터로더에서 미니배치를 하나씩 꺼내 학습을 수행\n",
    "    predict = []\n",
    "    ground = []\n",
    "    \n",
    "    prog_bar = tqdm(dataloader, position = 1, desc = 'Train')\n",
    "    status_log = tqdm(total=0, position = 2, bar_format='{desc}')\n",
    "    for data, targets, _ in prog_bar:\n",
    "        \n",
    "        data = data.to(device)\n",
    "        targets = targets.to(device)\n",
    "        \n",
    "        optimizer.zero_grad()  # 경사를 0으로 초기화\n",
    "        outputs = model(data)  # 데이터를 입력하고 출력을 계산\n",
    "        loss = loss_func(outputs, targets)  # 출력과 훈련 데이터 정답 간의 오차를 계산\n",
    "        \n",
    "        loss.backward()  # 오차를 역전파 계산\n",
    "        optimizer.step()  # 역전파 계산한 값으로 가중치를 수정\n",
    "        \n",
    "        predict.append(outputs)\n",
    "        ground.append(targets)\n",
    "        \n",
    "        status_log.set_description_str(f\"training status: [{loss_func(outputs, targets)}/{loss_func.gps_score(outputs, targets)}]\")\n",
    "\n",
    "    # 정확도 출력\n",
    "    predict = torch.cat(predict,axis = 0)\n",
    "    ground = torch.cat(ground,axis = 0)\n",
    "    \n",
    "    loss = loss_func(predict, ground)\n",
    "    meas = loss_func.gps_score(predict, ground)\n",
    "    \n",
    "    scheduler.step(loss)\n",
    "    \n",
    "    return loss, meas"
   ]
  },
  {
   "cell_type": "code",
   "execution_count": 24,
   "metadata": {
    "ExecuteTime": {
     "end_time": "2021-07-03T03:49:46.527971Z",
     "start_time": "2021-07-03T03:49:46.514971Z"
    }
   },
   "outputs": [],
   "source": [
    "def valid(dataloader):\n",
    "    model.eval()  # 신경망을 추론 모드로 전환\n",
    "\n",
    "    # 데이터로더에서 미니배치를 하나씩 꺼내 추론을 수행\n",
    "    predict = []\n",
    "    ground = []\n",
    "    prog_bar = tqdm(dataloader, position = 1, desc = 'Valid')\n",
    "    status_log = tqdm(total=0, position = 2, bar_format='{desc}')\n",
    "    \n",
    "    with torch.no_grad():  # 추론 과정에는 미분이 필요없음\n",
    "        for data, targets, _ in prog_bar:\n",
    "            \n",
    "            data = data.to(device)\n",
    "            targets = targets.to(device)\n",
    "            \n",
    "            outputs = model(data)  # 데이터를 입력하고 출력을 계산\n",
    "            loss = loss_func(outputs, targets)  # 출력과 훈련 데이터 정답 간의 오차를 계산\n",
    "            \n",
    "            predict.append(outputs)\n",
    "            ground.append(targets)\n",
    "            \n",
    "            status_log.set_description_str(f\"valid status: [{loss_func(outputs, targets)}/{loss_func.gps_score(outputs, targets)}]\")\n",
    "            \n",
    "    # 정확도 출력\n",
    "    predict = torch.cat(predict,axis = 0)\n",
    "    ground = torch.cat(ground,axis = 0)\n",
    "    \n",
    "    loss = loss_func(predict, ground)\n",
    "    meas = loss_func.gps_score(predict, ground)\n",
    "    return loss, meas"
   ]
  },
  {
   "cell_type": "code",
   "execution_count": 25,
   "metadata": {
    "ExecuteTime": {
     "end_time": "2021-07-03T03:49:46.542972Z",
     "start_time": "2021-07-03T03:49:46.528971Z"
    }
   },
   "outputs": [],
   "source": [
    "def test(dataloader):\n",
    "    model.eval()  # 신경망을 추론 모드로 전환\n",
    "    \n",
    "    output_list = []\n",
    "    with torch.no_grad():  # 추론 과정에는 미분이 필요없음\n",
    "        for data, _, index in tqdm(dataloader):\n",
    "            data = data.to(device)\n",
    "            outputs = model(data)  # 데이터를 입력하고 출력을 계산\n",
    "            \n",
    "            df_temp = pd.DataFrame()\n",
    "            df_temp['phone'] = index[0]\n",
    "            df_temp['millisSinceGpsEpoch'] = index[1]\n",
    "            df_temp[['latDeg', 'lngDeg', 'heightAboveWgs84EllipsoidM']] = outputs.to('cpu').numpy()\n",
    "            output_list.append(df_temp)\n",
    "    \n",
    "    predicts = pd.concat(output_list)\n",
    "    return predicts\n",
    "            "
   ]
  },
  {
   "cell_type": "code",
   "execution_count": null,
   "metadata": {
    "ExecuteTime": {
     "start_time": "2021-07-03T03:49:41.237Z"
    },
    "scrolled": true
   },
   "outputs": [
    {
     "data": {
      "application/vnd.jupyter.widget-view+json": {
       "model_id": "9f31ab725e1843ab9e1336be3ac7be7b",
       "version_major": 2,
       "version_minor": 0
      },
      "text/plain": [
       "Train:   0%|          | 0/118 [00:00<?, ?it/s]"
      ]
     },
     "metadata": {},
     "output_type": "display_data"
    },
    {
     "data": {
      "application/vnd.jupyter.widget-view+json": {
       "model_id": "2f1b1147881c447a888ebb89b67aaa30",
       "version_major": 2,
       "version_minor": 0
      },
      "text/plain": []
     },
     "metadata": {},
     "output_type": "display_data"
    },
    {
     "data": {
      "application/vnd.jupyter.widget-view+json": {
       "model_id": "4c68c8400d23414882fa56fe72743272",
       "version_major": 2,
       "version_minor": 0
      },
      "text/plain": [
       "Valid:   0%|          | 0/11 [00:00<?, ?it/s]"
      ]
     },
     "metadata": {},
     "output_type": "display_data"
    },
    {
     "data": {
      "application/vnd.jupyter.widget-view+json": {
       "model_id": "999d624b7659466da743206ca916a438",
       "version_major": 2,
       "version_minor": 0
      },
      "text/plain": []
     },
     "metadata": {},
     "output_type": "display_data"
    },
    {
     "name": "stdout",
     "output_type": "stream",
     "text": [
      "1/10000: train[1296775046496256.000000/12844692.0], valid[35449081856.0/12846848.0]\n"
     ]
    },
    {
     "data": {
      "application/vnd.jupyter.widget-view+json": {
       "model_id": "dd71615bb0aa4fa29005fb1d24deab1b",
       "version_major": 2,
       "version_minor": 0
      },
      "text/plain": [
       "Train:   0%|          | 0/118 [00:00<?, ?it/s]"
      ]
     },
     "metadata": {},
     "output_type": "display_data"
    },
    {
     "data": {
      "application/vnd.jupyter.widget-view+json": {
       "model_id": "9d35ce91f0204b29ba7b88d0ab0fbe28",
       "version_major": 2,
       "version_minor": 0
      },
      "text/plain": []
     },
     "metadata": {},
     "output_type": "display_data"
    },
    {
     "data": {
      "application/vnd.jupyter.widget-view+json": {
       "model_id": "9d68107257364da799b1ef1a173a1d96",
       "version_major": 2,
       "version_minor": 0
      },
      "text/plain": [
       "Valid:   0%|          | 0/11 [00:00<?, ?it/s]"
      ]
     },
     "metadata": {},
     "output_type": "display_data"
    },
    {
     "data": {
      "application/vnd.jupyter.widget-view+json": {
       "model_id": "77e1ddd7325e4bb6a42098bfa9e1b4d7",
       "version_major": 2,
       "version_minor": 0
      },
      "text/plain": []
     },
     "metadata": {},
     "output_type": "display_data"
    },
    {
     "name": "stdout",
     "output_type": "stream",
     "text": [
      "2/10000: train[29908004864.000000/12836947.0], valid[35378311168.0/12830710.0]\n"
     ]
    },
    {
     "data": {
      "application/vnd.jupyter.widget-view+json": {
       "model_id": "e5429be281b140d2b23b870b6f58ced0",
       "version_major": 2,
       "version_minor": 0
      },
      "text/plain": [
       "Train:   0%|          | 0/118 [00:00<?, ?it/s]"
      ]
     },
     "metadata": {},
     "output_type": "display_data"
    },
    {
     "data": {
      "application/vnd.jupyter.widget-view+json": {
       "model_id": "4d2e8c8b9a804acc8efb5ace5098fa54",
       "version_major": 2,
       "version_minor": 0
      },
      "text/plain": []
     },
     "metadata": {},
     "output_type": "display_data"
    }
   ],
   "source": [
    "train_loss_list = []\n",
    "train_meas_list = []\n",
    "valid_loss_list = []\n",
    "valid_meas_list = []\n",
    "\n",
    "patience_count = 0\n",
    "min_valid_meas = np.inf\n",
    "checkpoint_name = \"\"\n",
    "\n",
    "for epoch in range(hyper_parameters['nepochs']):\n",
    "    train_loss, train_meas = train(epoch, train_loader)\n",
    "    valid_loss, valid_meas = valid(valid_loader)\n",
    "    \n",
    "    if valid_meas < min_valid_meas:\n",
    "        min_valid_meas = valid_meas\n",
    "        checkpoint_name = f\"./models/{hyper_parameters['notebookName']}/model-{num_files}_checkpoint-{min_valid_meas}.pth\"\n",
    "        torch.save(model.state_dict(), checkpoint_name)\n",
    "    else:\n",
    "        patience_count+=1\n",
    "        if(patience_count > hyper_parameters['max_patience_count']):\n",
    "            break\n",
    "    \n",
    "    train_loss_list.append(train_loss)\n",
    "    train_meas_list.append(train_meas)\n",
    "    valid_loss_list.append(valid_loss)\n",
    "    valid_meas_list.append(valid_meas)\n",
    "   \n",
    "    \n",
    "    print(f\"{epoch+1}/{hyper_parameters['nepochs']}: train[{train_loss:.6f}/{train_meas}], valid[{valid_loss}/{valid_meas}]\")\n",
    "\n",
    "history = dict()\n",
    "history['train_loss'] = train_loss_list\n",
    "history['train_meas'] = train_meas_list\n",
    "history['valid_loss'] = valid_loss_list\n",
    "history['valid_meas'] = valid_meas_list\n"
   ]
  },
  {
   "cell_type": "code",
   "execution_count": null,
   "metadata": {
    "ExecuteTime": {
     "start_time": "2021-07-03T03:49:41.240Z"
    }
   },
   "outputs": [],
   "source": [
    "plt.figure(figsize = (16,6))\n",
    "plt.subplot(2,1,1)\n",
    "plt.plot(history['train_loss'], label = 'train')\n",
    "plt.plot(history['valid_loss'], label = 'valid')\n",
    "plt.ylabel('loss')\n",
    "plt.yscale('log')\n",
    "\n",
    "plt.subplot(2,1,2)\n",
    "plt.plot(history['train_meas'], label = 'train')\n",
    "plt.plot(history['valid_meas'], label = 'valid')\n",
    "plt.ylabel('meas')\n",
    "plt.yscale('log')"
   ]
  },
  {
   "cell_type": "markdown",
   "metadata": {},
   "source": [
    "#  Output"
   ]
  },
  {
   "cell_type": "code",
   "execution_count": null,
   "metadata": {
    "ExecuteTime": {
     "start_time": "2021-07-03T03:49:41.276Z"
    }
   },
   "outputs": [],
   "source": [
    "# Load submission sample\n",
    "submission = pd.read_csv(str(data_dir / \"sample_submission.csv\"))\n",
    "print(submission.shape)\n",
    "submission.head()"
   ]
  },
  {
   "cell_type": "code",
   "execution_count": null,
   "metadata": {
    "ExecuteTime": {
     "start_time": "2021-07-03T03:49:41.279Z"
    }
   },
   "outputs": [],
   "source": [
    "model.load_state_dict(torch.load(checkpoint_name))\n",
    "torch.save(model.state_dict(), f\"./models/{hyper_parameters['notebookName']}/model-{num_files}.pth\")"
   ]
  },
  {
   "cell_type": "code",
   "execution_count": null,
   "metadata": {
    "ExecuteTime": {
     "start_time": "2021-07-03T03:49:41.282Z"
    }
   },
   "outputs": [],
   "source": [
    "predict = test(test_loader)\n",
    "print(predict.shape)\n",
    "predict.head()"
   ]
  },
  {
   "cell_type": "code",
   "execution_count": null,
   "metadata": {
    "ExecuteTime": {
     "start_time": "2021-07-03T03:49:41.284Z"
    }
   },
   "outputs": [],
   "source": [
    "submission = submission[['phone', 'millisSinceGpsEpoch']].merge(predict[['phone', 'millisSinceGpsEpoch', 'latDeg', 'lngDeg']]\n",
    "                                                                , on = ['phone', 'millisSinceGpsEpoch'])\n",
    "print(submission.shape)\n",
    "submission.head()"
   ]
  },
  {
   "cell_type": "code",
   "execution_count": null,
   "metadata": {
    "ExecuteTime": {
     "start_time": "2021-07-03T03:49:41.286Z"
    }
   },
   "outputs": [],
   "source": [
    "submission.to_csv(f\"./models/{hyper_parameters['notebookName']}/result-{num_files}esult.csv\", index = False)\n",
    "pd.DataFrame([]).to_csv(PATH / f\"{num_files}\")"
   ]
  },
  {
   "cell_type": "code",
   "execution_count": null,
   "metadata": {},
   "outputs": [],
   "source": []
  }
 ],
 "metadata": {
  "hide_input": false,
  "kernelspec": {
   "display_name": "torch",
   "language": "python",
   "name": "torch"
  },
  "language_info": {
   "codemirror_mode": {
    "name": "ipython",
    "version": 3
   },
   "file_extension": ".py",
   "mimetype": "text/x-python",
   "name": "python",
   "nbconvert_exporter": "python",
   "pygments_lexer": "ipython3",
   "version": "3.6.12"
  },
  "latex_envs": {
   "LaTeX_envs_menu_present": true,
   "autoclose": false,
   "autocomplete": true,
   "bibliofile": "biblio.bib",
   "cite_by": "apalike",
   "current_citInitial": 1,
   "eqLabelWithNumbers": true,
   "eqNumInitial": 1,
   "hotkeys": {
    "equation": "Ctrl-E",
    "itemize": "Ctrl-I"
   },
   "labels_anchors": false,
   "latex_user_defs": false,
   "report_style_numbering": false,
   "user_envs_cfg": false
  },
  "toc": {
   "base_numbering": 1,
   "nav_menu": {},
   "number_sections": true,
   "sideBar": true,
   "skip_h1_title": false,
   "title_cell": "Table of Contents",
   "title_sidebar": "Contents",
   "toc_cell": false,
   "toc_position": {},
   "toc_section_display": true,
   "toc_window_display": false
  },
  "varInspector": {
   "cols": {
    "lenName": 16,
    "lenType": 16,
    "lenVar": 40
   },
   "kernels_config": {
    "python": {
     "delete_cmd_postfix": "",
     "delete_cmd_prefix": "del ",
     "library": "var_list.py",
     "varRefreshCmd": "print(var_dic_list())"
    },
    "r": {
     "delete_cmd_postfix": ") ",
     "delete_cmd_prefix": "rm(",
     "library": "var_list.r",
     "varRefreshCmd": "cat(var_dic_list()) "
    }
   },
   "types_to_exclude": [
    "module",
    "function",
    "builtin_function_or_method",
    "instance",
    "_Feature"
   ],
   "window_display": false
  }
 },
 "nbformat": 4,
 "nbformat_minor": 4
}
