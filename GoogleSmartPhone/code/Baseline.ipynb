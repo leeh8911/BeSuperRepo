{
 "cells": [
  {
   "cell_type": "markdown",
   "metadata": {},
   "source": [
    "# references\n",
    "1. https://www.kaggle.com/columbia2131/device-eda-interpolate-by-removing-device-en-ja"
   ]
  },
  {
   "cell_type": "markdown",
   "metadata": {},
   "source": [
    "# Load Libraries"
   ]
  },
  {
   "cell_type": "code",
   "execution_count": 85,
   "metadata": {
    "ExecuteTime": {
     "end_time": "2021-06-17T20:42:50.169154Z",
     "start_time": "2021-06-17T20:42:50.155147Z"
    }
   },
   "outputs": [],
   "source": [
    "import numpy as np\n",
    "import pandas as pd\n",
    "from glob import glob\n",
    "import os\n",
    "import matplotlib.pyplot as plt\n",
    "from tqdm.notebook import tqdm\n",
    "from pathlib import Path\n",
    "import plotly.express as px\n",
    "\n",
    "import torch\n",
    "import torch.nn as nn\n",
    "import torch.nn.functional as F\n",
    "import torch.optim as optim\n",
    "from torch.utils.data import TensorDataset, DataLoader\n",
    "from sklearn.model_selection import train_test_split"
   ]
  },
  {
   "cell_type": "code",
   "execution_count": 91,
   "metadata": {
    "ExecuteTime": {
     "end_time": "2021-06-17T20:42:57.259356Z",
     "start_time": "2021-06-17T20:42:57.250366Z"
    }
   },
   "outputs": [
    {
     "data": {
      "text/plain": [
       "<torch._C.Generator at 0x23d476aaab0>"
      ]
     },
     "execution_count": 91,
     "metadata": {},
     "output_type": "execute_result"
    }
   ],
   "source": [
    "RANDOM_STATE = 1990\n",
    "lr = 0.01\n",
    "batch_size = 64\n",
    "EPOCH_NUM = 1000\n",
    "\n",
    "torch.manual_seed(RANDOM_STATE)"
   ]
  },
  {
   "cell_type": "markdown",
   "metadata": {},
   "source": [
    "# Useful Functions"
   ]
  },
  {
   "cell_type": "code",
   "execution_count": 87,
   "metadata": {
    "ExecuteTime": {
     "end_time": "2021-06-17T20:42:50.710029Z",
     "start_time": "2021-06-17T20:42:50.692034Z"
    }
   },
   "outputs": [],
   "source": [
    "def get_groundtruth(path: Path) -> pd.DataFrame:\n",
    "    output_df = pd.DataFrame()\n",
    "    \n",
    "    for path in glob(str(path / 'train/*/*/ground_truth.csv')):\n",
    "        _df = pd.read_csv(path)\n",
    "        output_df = pd.concat([output_df, _df])\n",
    "    output_df = output_df.reset_index(drop=True)\n",
    "    \n",
    "    _columns = ['latDeg', 'lngDeg', 'heightAboveWgs84EllipsoidM']\n",
    "    output_df[['t_'+col for col in _columns]] = output_df[_columns]\n",
    "    output_df = output_df.drop(columns=_columns, axis=1)\n",
    "    return output_df"
   ]
  },
  {
   "cell_type": "code",
   "execution_count": 88,
   "metadata": {
    "ExecuteTime": {
     "end_time": "2021-06-17T20:42:51.281194Z",
     "start_time": "2021-06-17T20:42:51.274194Z"
    }
   },
   "outputs": [],
   "source": [
    "def calc_haversine(lat1, lon1, lat2, lon2):\n",
    "    lat1, lon1, lat2, lon2 = map(np.radians, [lat1, lon1, lat2, lon2])\n",
    "    dlat = lat2 - lat1\n",
    "    dlon = lon2 - lon1\n",
    "    a = np.sin(dlat / 2.0)**2 + np.cos(lat1) * np.cos(lat2) * np.sin(dlon / 2.0)**2\n",
    "    \n",
    "    c = 2 * np.arcsin(a ** 0.5)\n",
    "    dist = 6_367_000 * c\n",
    "    return dist"
   ]
  },
  {
   "cell_type": "code",
   "execution_count": 89,
   "metadata": {
    "ExecuteTime": {
     "end_time": "2021-06-17T20:42:51.732918Z",
     "start_time": "2021-06-17T20:42:51.722919Z"
    }
   },
   "outputs": [],
   "source": [
    "def check_score(input_df: pd.DataFrame) -> pd.DataFrame:\n",
    "    output_df = input_df.copy()\n",
    "    \n",
    "    output_df['meter'] = input_df.apply(\n",
    "        lambda r: calc_haversine(\n",
    "            r.latDeg, r.lngDeg, r.t_latDeg, r.t_lngDeg\n",
    "        ),\n",
    "        axis=1\n",
    "    )\n",
    "\n",
    "    meter_score = output_df['meter'].mean()\n",
    "    print(f'error meter: {meter_score}')\n",
    "\n",
    "    scores = []\n",
    "    for phone in output_df['phone'].unique():\n",
    "        _index = output_df['phone']==phone\n",
    "        p_50 = np.percentile(output_df.loc[_index, 'meter'], 50)\n",
    "        p_95 = np.percentile(output_df.loc[_index, 'meter'], 95)\n",
    "        scores.append(p_50)\n",
    "        scores.append(p_95)\n",
    "\n",
    "    score = sum(scores) / len(scores)\n",
    "    print(f'score: {score}')\n",
    "    \n",
    "    return output_df"
   ]
  },
  {
   "cell_type": "code",
   "execution_count": 90,
   "metadata": {
    "ExecuteTime": {
     "end_time": "2021-06-17T20:42:52.094190Z",
     "start_time": "2021-06-17T20:42:52.082186Z"
    }
   },
   "outputs": [],
   "source": [
    "def check_score_np(predict:np.array, target:np.array):\n",
    "    m = []\n",
    "    for i in range(predict.shape[0]):\n",
    "        temp = calc_haversine(predict[i,0], predict[i,1], target[i,0], target[i,1])\n",
    "        m.append(temp)\n",
    "    \n",
    "    m = np.array(m)\n",
    "    score = (np.percentile(m, 50) + np.percentile(m, 95))/2\n",
    "    \n",
    "    return score"
   ]
  },
  {
   "cell_type": "markdown",
   "metadata": {},
   "source": [
    "# Load Datasets"
   ]
  },
  {
   "cell_type": "code",
   "execution_count": 15,
   "metadata": {
    "ExecuteTime": {
     "end_time": "2021-06-17T20:01:57.762050Z",
     "start_time": "2021-06-17T20:01:56.468461Z"
    }
   },
   "outputs": [],
   "source": [
    "data_dir = Path(\"../input/google-smartphone-decimeter-challenge\")\n",
    "train_df = pd.read_csv(data_dir / \"baseline_locations_train.csv\")\n",
    "test_df = pd.read_csv(data_dir / \"baseline_locations_test.csv\")\n",
    "\n",
    "# merge graoundtruth\n",
    "train_df = train_df.merge(\n",
    "    get_groundtruth(data_dir),\n",
    "    on=['collectionName', 'phoneName', 'millisSinceGpsEpoch']\n",
    ")"
   ]
  },
  {
   "cell_type": "code",
   "execution_count": null,
   "metadata": {},
   "outputs": [],
   "source": []
  },
  {
   "cell_type": "code",
   "execution_count": 18,
   "metadata": {
    "ExecuteTime": {
     "end_time": "2021-06-17T20:03:52.591832Z",
     "start_time": "2021-06-17T20:03:47.309265Z"
    }
   },
   "outputs": [
    {
     "name": "stdout",
     "output_type": "stream",
     "text": [
      "error meter: 3.846848374990639\n",
      "score: 5.287970649084159\n"
     ]
    }
   ],
   "source": [
    "# check score\n",
    "train_df = check_score(train_df)"
   ]
  },
  {
   "cell_type": "markdown",
   "metadata": {},
   "source": [
    "# Feature Engineering"
   ]
  },
  {
   "cell_type": "code",
   "execution_count": 20,
   "metadata": {
    "ExecuteTime": {
     "end_time": "2021-06-17T20:06:53.289925Z",
     "start_time": "2021-06-17T20:06:53.276925Z"
    }
   },
   "outputs": [
    {
     "data": {
      "text/html": [
       "<div>\n",
       "<style scoped>\n",
       "    .dataframe tbody tr th:only-of-type {\n",
       "        vertical-align: middle;\n",
       "    }\n",
       "\n",
       "    .dataframe tbody tr th {\n",
       "        vertical-align: top;\n",
       "    }\n",
       "\n",
       "    .dataframe thead th {\n",
       "        text-align: right;\n",
       "    }\n",
       "</style>\n",
       "<table border=\"1\" class=\"dataframe\">\n",
       "  <thead>\n",
       "    <tr style=\"text-align: right;\">\n",
       "      <th></th>\n",
       "      <th>collectionName</th>\n",
       "      <th>phoneName</th>\n",
       "      <th>millisSinceGpsEpoch</th>\n",
       "      <th>latDeg</th>\n",
       "      <th>lngDeg</th>\n",
       "      <th>heightAboveWgs84EllipsoidM</th>\n",
       "      <th>phone</th>\n",
       "      <th>timeSinceFirstFixSeconds</th>\n",
       "      <th>hDop</th>\n",
       "      <th>vDop</th>\n",
       "      <th>speedMps</th>\n",
       "      <th>courseDegree</th>\n",
       "      <th>t_latDeg</th>\n",
       "      <th>t_lngDeg</th>\n",
       "      <th>t_heightAboveWgs84EllipsoidM</th>\n",
       "      <th>meter</th>\n",
       "    </tr>\n",
       "  </thead>\n",
       "  <tbody>\n",
       "    <tr>\n",
       "      <th>0</th>\n",
       "      <td>2020-05-14-US-MTV-1</td>\n",
       "      <td>Pixel4</td>\n",
       "      <td>1273529463442</td>\n",
       "      <td>37.423575</td>\n",
       "      <td>-122.094091</td>\n",
       "      <td>-34.06</td>\n",
       "      <td>2020-05-14-US-MTV-1_Pixel4</td>\n",
       "      <td>551.44</td>\n",
       "      <td>1.1</td>\n",
       "      <td>0.0</td>\n",
       "      <td>0.0</td>\n",
       "      <td>12.7</td>\n",
       "      <td>37.423576</td>\n",
       "      <td>-122.094132</td>\n",
       "      <td>33.21</td>\n",
       "      <td>3.586842</td>\n",
       "    </tr>\n",
       "    <tr>\n",
       "      <th>1</th>\n",
       "      <td>2020-05-14-US-MTV-1</td>\n",
       "      <td>Pixel4</td>\n",
       "      <td>1273529464442</td>\n",
       "      <td>37.423578</td>\n",
       "      <td>-122.094101</td>\n",
       "      <td>-33.29</td>\n",
       "      <td>2020-05-14-US-MTV-1_Pixel4</td>\n",
       "      <td>552.44</td>\n",
       "      <td>1.1</td>\n",
       "      <td>0.0</td>\n",
       "      <td>0.0</td>\n",
       "      <td>12.7</td>\n",
       "      <td>37.423576</td>\n",
       "      <td>-122.094132</td>\n",
       "      <td>33.21</td>\n",
       "      <td>2.745901</td>\n",
       "    </tr>\n",
       "    <tr>\n",
       "      <th>2</th>\n",
       "      <td>2020-05-14-US-MTV-1</td>\n",
       "      <td>Pixel4</td>\n",
       "      <td>1273529465442</td>\n",
       "      <td>37.423573</td>\n",
       "      <td>-122.094111</td>\n",
       "      <td>-30.99</td>\n",
       "      <td>2020-05-14-US-MTV-1_Pixel4</td>\n",
       "      <td>553.44</td>\n",
       "      <td>1.1</td>\n",
       "      <td>0.0</td>\n",
       "      <td>0.0</td>\n",
       "      <td>12.7</td>\n",
       "      <td>37.423576</td>\n",
       "      <td>-122.094132</td>\n",
       "      <td>33.21</td>\n",
       "      <td>1.888409</td>\n",
       "    </tr>\n",
       "    <tr>\n",
       "      <th>3</th>\n",
       "      <td>2020-05-14-US-MTV-1</td>\n",
       "      <td>Pixel4</td>\n",
       "      <td>1273529466442</td>\n",
       "      <td>37.423583</td>\n",
       "      <td>-122.094121</td>\n",
       "      <td>-32.83</td>\n",
       "      <td>2020-05-14-US-MTV-1_Pixel4</td>\n",
       "      <td>554.44</td>\n",
       "      <td>1.1</td>\n",
       "      <td>0.0</td>\n",
       "      <td>0.0</td>\n",
       "      <td>12.7</td>\n",
       "      <td>37.423576</td>\n",
       "      <td>-122.094132</td>\n",
       "      <td>33.20</td>\n",
       "      <td>1.213483</td>\n",
       "    </tr>\n",
       "    <tr>\n",
       "      <th>4</th>\n",
       "      <td>2020-05-14-US-MTV-1</td>\n",
       "      <td>Pixel4</td>\n",
       "      <td>1273529467442</td>\n",
       "      <td>37.423579</td>\n",
       "      <td>-122.094114</td>\n",
       "      <td>-34.49</td>\n",
       "      <td>2020-05-14-US-MTV-1_Pixel4</td>\n",
       "      <td>555.44</td>\n",
       "      <td>1.1</td>\n",
       "      <td>0.0</td>\n",
       "      <td>0.0</td>\n",
       "      <td>12.7</td>\n",
       "      <td>37.423576</td>\n",
       "      <td>-122.094132</td>\n",
       "      <td>33.20</td>\n",
       "      <td>1.650722</td>\n",
       "    </tr>\n",
       "  </tbody>\n",
       "</table>\n",
       "</div>"
      ],
      "text/plain": [
       "        collectionName phoneName  millisSinceGpsEpoch     latDeg      lngDeg  \\\n",
       "0  2020-05-14-US-MTV-1    Pixel4        1273529463442  37.423575 -122.094091   \n",
       "1  2020-05-14-US-MTV-1    Pixel4        1273529464442  37.423578 -122.094101   \n",
       "2  2020-05-14-US-MTV-1    Pixel4        1273529465442  37.423573 -122.094111   \n",
       "3  2020-05-14-US-MTV-1    Pixel4        1273529466442  37.423583 -122.094121   \n",
       "4  2020-05-14-US-MTV-1    Pixel4        1273529467442  37.423579 -122.094114   \n",
       "\n",
       "   heightAboveWgs84EllipsoidM                       phone  \\\n",
       "0                      -34.06  2020-05-14-US-MTV-1_Pixel4   \n",
       "1                      -33.29  2020-05-14-US-MTV-1_Pixel4   \n",
       "2                      -30.99  2020-05-14-US-MTV-1_Pixel4   \n",
       "3                      -32.83  2020-05-14-US-MTV-1_Pixel4   \n",
       "4                      -34.49  2020-05-14-US-MTV-1_Pixel4   \n",
       "\n",
       "   timeSinceFirstFixSeconds  hDop  vDop  speedMps  courseDegree   t_latDeg  \\\n",
       "0                    551.44   1.1   0.0       0.0          12.7  37.423576   \n",
       "1                    552.44   1.1   0.0       0.0          12.7  37.423576   \n",
       "2                    553.44   1.1   0.0       0.0          12.7  37.423576   \n",
       "3                    554.44   1.1   0.0       0.0          12.7  37.423576   \n",
       "4                    555.44   1.1   0.0       0.0          12.7  37.423576   \n",
       "\n",
       "     t_lngDeg  t_heightAboveWgs84EllipsoidM     meter  \n",
       "0 -122.094132                         33.21  3.586842  \n",
       "1 -122.094132                         33.21  2.745901  \n",
       "2 -122.094132                         33.21  1.888409  \n",
       "3 -122.094132                         33.20  1.213483  \n",
       "4 -122.094132                         33.20  1.650722  "
      ]
     },
     "execution_count": 20,
     "metadata": {},
     "output_type": "execute_result"
    }
   ],
   "source": [
    "train_df.head()"
   ]
  },
  {
   "cell_type": "code",
   "execution_count": 26,
   "metadata": {
    "ExecuteTime": {
     "end_time": "2021-06-17T20:12:40.798705Z",
     "start_time": "2021-06-17T20:12:40.777716Z"
    }
   },
   "outputs": [
    {
     "data": {
      "text/html": [
       "<div>\n",
       "<style scoped>\n",
       "    .dataframe tbody tr th:only-of-type {\n",
       "        vertical-align: middle;\n",
       "    }\n",
       "\n",
       "    .dataframe tbody tr th {\n",
       "        vertical-align: top;\n",
       "    }\n",
       "\n",
       "    .dataframe thead th {\n",
       "        text-align: right;\n",
       "    }\n",
       "</style>\n",
       "<table border=\"1\" class=\"dataframe\">\n",
       "  <thead>\n",
       "    <tr style=\"text-align: right;\">\n",
       "      <th></th>\n",
       "      <th>collectionName</th>\n",
       "      <th>phoneName</th>\n",
       "      <th>millisSinceGpsEpoch</th>\n",
       "      <th>latDeg</th>\n",
       "      <th>lngDeg</th>\n",
       "      <th>heightAboveWgs84EllipsoidM</th>\n",
       "      <th>phone</th>\n",
       "    </tr>\n",
       "  </thead>\n",
       "  <tbody>\n",
       "    <tr>\n",
       "      <th>0</th>\n",
       "      <td>2020-05-15-US-MTV-1</td>\n",
       "      <td>Pixel4</td>\n",
       "      <td>1273608785432</td>\n",
       "      <td>37.416628</td>\n",
       "      <td>-122.082053</td>\n",
       "      <td>-30.69</td>\n",
       "      <td>2020-05-15-US-MTV-1_Pixel4</td>\n",
       "    </tr>\n",
       "    <tr>\n",
       "      <th>1</th>\n",
       "      <td>2020-05-15-US-MTV-1</td>\n",
       "      <td>Pixel4</td>\n",
       "      <td>1273608786432</td>\n",
       "      <td>37.416646</td>\n",
       "      <td>-122.082040</td>\n",
       "      <td>-31.76</td>\n",
       "      <td>2020-05-15-US-MTV-1_Pixel4</td>\n",
       "    </tr>\n",
       "    <tr>\n",
       "      <th>2</th>\n",
       "      <td>2020-05-15-US-MTV-1</td>\n",
       "      <td>Pixel4</td>\n",
       "      <td>1273608787432</td>\n",
       "      <td>37.416653</td>\n",
       "      <td>-122.082039</td>\n",
       "      <td>-31.65</td>\n",
       "      <td>2020-05-15-US-MTV-1_Pixel4</td>\n",
       "    </tr>\n",
       "    <tr>\n",
       "      <th>3</th>\n",
       "      <td>2020-05-15-US-MTV-1</td>\n",
       "      <td>Pixel4</td>\n",
       "      <td>1273608788432</td>\n",
       "      <td>37.416607</td>\n",
       "      <td>-122.082063</td>\n",
       "      <td>-31.52</td>\n",
       "      <td>2020-05-15-US-MTV-1_Pixel4</td>\n",
       "    </tr>\n",
       "    <tr>\n",
       "      <th>4</th>\n",
       "      <td>2020-05-15-US-MTV-1</td>\n",
       "      <td>Pixel4</td>\n",
       "      <td>1273608789432</td>\n",
       "      <td>37.416609</td>\n",
       "      <td>-122.082073</td>\n",
       "      <td>-28.95</td>\n",
       "      <td>2020-05-15-US-MTV-1_Pixel4</td>\n",
       "    </tr>\n",
       "  </tbody>\n",
       "</table>\n",
       "</div>"
      ],
      "text/plain": [
       "        collectionName phoneName  millisSinceGpsEpoch     latDeg      lngDeg  \\\n",
       "0  2020-05-15-US-MTV-1    Pixel4        1273608785432  37.416628 -122.082053   \n",
       "1  2020-05-15-US-MTV-1    Pixel4        1273608786432  37.416646 -122.082040   \n",
       "2  2020-05-15-US-MTV-1    Pixel4        1273608787432  37.416653 -122.082039   \n",
       "3  2020-05-15-US-MTV-1    Pixel4        1273608788432  37.416607 -122.082063   \n",
       "4  2020-05-15-US-MTV-1    Pixel4        1273608789432  37.416609 -122.082073   \n",
       "\n",
       "   heightAboveWgs84EllipsoidM                       phone  \n",
       "0                      -30.69  2020-05-15-US-MTV-1_Pixel4  \n",
       "1                      -31.76  2020-05-15-US-MTV-1_Pixel4  \n",
       "2                      -31.65  2020-05-15-US-MTV-1_Pixel4  \n",
       "3                      -31.52  2020-05-15-US-MTV-1_Pixel4  \n",
       "4                      -28.95  2020-05-15-US-MTV-1_Pixel4  "
      ]
     },
     "execution_count": 26,
     "metadata": {},
     "output_type": "execute_result"
    }
   ],
   "source": [
    "test_df.head()"
   ]
  },
  {
   "cell_type": "code",
   "execution_count": 53,
   "metadata": {
    "ExecuteTime": {
     "end_time": "2021-06-17T20:28:48.043283Z",
     "start_time": "2021-06-17T20:28:48.022283Z"
    }
   },
   "outputs": [
    {
     "name": "stdout",
     "output_type": "stream",
     "text": [
      "(131342, 3) (131342, 3)\n"
     ]
    }
   ],
   "source": [
    "def extract_features(df, train = True):\n",
    "    Xcols = ['latDeg', 'lngDeg', 'heightAboveWgs84EllipsoidM']\n",
    "    Ycols = ['t_latDeg', 't_lngDeg', 't_heightAboveWgs84EllipsoidM']\n",
    "    \n",
    "    X = df[Xcols]\n",
    "    if train:\n",
    "        y = df[Ycols]\n",
    "    else:\n",
    "        y = None\n",
    "    \n",
    "    return np.array(X), np.array(y)\n",
    "\n",
    "X, y = extract_features(train_df)\n",
    "# Xtest, _ = extract_features(test_df, False)\n",
    "\n",
    "print(X.shape, y.shape)"
   ]
  },
  {
   "cell_type": "code",
   "execution_count": null,
   "metadata": {},
   "outputs": [],
   "source": []
  },
  {
   "cell_type": "markdown",
   "metadata": {},
   "source": [
    "# Modeling"
   ]
  },
  {
   "cell_type": "code",
   "execution_count": 54,
   "metadata": {
    "ExecuteTime": {
     "end_time": "2021-06-17T20:28:50.303722Z",
     "start_time": "2021-06-17T20:28:50.286722Z"
    }
   },
   "outputs": [],
   "source": [
    "# build model\n",
    "class SimpleNetwork(nn.Module):\n",
    "    def __init__(self, input_size, output_size):\n",
    "        super().__init__()\n",
    "        \n",
    "        self.fc1 = nn.Linear(input_size, 10)\n",
    "        self.fc2 = nn.Linear(10, output_size)\n",
    "    \n",
    "    def forward(self, x):\n",
    "        x = self.fc1(x)\n",
    "        x = F.relu(x)\n",
    "        x = self.fc2(x)\n",
    "        \n",
    "        return x\n",
    "    \n",
    "model = SimpleNetwork(X.shape[1], y.shape[1])\n",
    "loss_func = nn.MSELoss()\n",
    "optimizer = optim.Adam(model.parameters(), lr = lr)"
   ]
  },
  {
   "cell_type": "code",
   "execution_count": 56,
   "metadata": {
    "ExecuteTime": {
     "end_time": "2021-06-17T20:28:58.500540Z",
     "start_time": "2021-06-17T20:28:58.477544Z"
    }
   },
   "outputs": [],
   "source": [
    "# Create DataLoader\n",
    "X_train, X_test, y_train, y_test = train_test_split(X, y, test_size = 1/7, random_state = 1990)\n",
    "\n",
    "X_train = torch.Tensor(X_train)\n",
    "X_test = torch.Tensor(X_test)\n",
    "y_train = torch.Tensor(y_train)\n",
    "y_test = torch.Tensor(y_test)\n",
    "\n",
    "ds_train = TensorDataset(X_train, y_train)\n",
    "ds_test = TensorDataset(X_test, y_test)\n",
    "\n",
    "loader_train = DataLoader(ds_train, batch_size = batch_size, shuffle = True)\n",
    "loader_test = DataLoader(ds_test, batch_size = batch_size, shuffle = False)"
   ]
  },
  {
   "cell_type": "code",
   "execution_count": 62,
   "metadata": {
    "ExecuteTime": {
     "end_time": "2021-06-17T20:31:46.934439Z",
     "start_time": "2021-06-17T20:31:46.925439Z"
    }
   },
   "outputs": [],
   "source": [
    "def train(epoch):\n",
    "    model.train()  # 신경망을 학습 모드로 전환\n",
    "\n",
    "    # 데이터로더에서 미니배치를 하나씩 꺼내 학습을 수행\n",
    "    for data, targets in loader_train:\n",
    "\n",
    "        optimizer.zero_grad()  # 경사를 0으로 초기화\n",
    "        outputs = model(data)  # 데이터를 입력하고 출력을 계산\n",
    "        loss = loss_func(outputs, targets)  # 출력과 훈련 데이터 정답 간의 오차를 계산\n",
    "        loss.backward()  # 오차를 역전파 계산\n",
    "        optimizer.step()  # 역전파 계산한 값으로 가중치를 수정\n",
    "\n",
    "    print(\"epoch{}：완료\\n\".format(epoch))"
   ]
  },
  {
   "cell_type": "code",
   "execution_count": 92,
   "metadata": {
    "ExecuteTime": {
     "end_time": "2021-06-17T20:43:01.427562Z",
     "start_time": "2021-06-17T20:43:01.419562Z"
    }
   },
   "outputs": [],
   "source": [
    "def test():\n",
    "    model.eval()  # 신경망을 추론 모드로 전환\n",
    "    correct = 0\n",
    "\n",
    "    # 데이터로더에서 미니배치를 하나씩 꺼내 추론을 수행\n",
    "    predict = []\n",
    "    ground = []\n",
    "    with torch.no_grad():  # 추론 과정에는 미분이 필요없음\n",
    "        for data, targets in loader_test:\n",
    "\n",
    "            outputs = model(data)  # 데이터를 입력하고 출력을 계산\n",
    "            predict.append(outputs)\n",
    "            ground.append(targets)\n",
    "\n",
    "    # 정확도 출력\n",
    "    predict = np.concatenate(predict,axis = 0)\n",
    "    ground = np.concatenate(ground,axis = 0)\n",
    "    \n",
    "    print(predict.shape, ground.shape)\n",
    "    \n",
    "    loss = loss_func(outputs, targets)\n",
    "    meas = check_score_np(outputs, targets)\n",
    "    print('\\n테스트 데이터에서 예측 정확도: {}, {}\\n'.format(loss, meas))"
   ]
  },
  {
   "cell_type": "code",
   "execution_count": 93,
   "metadata": {
    "ExecuteTime": {
     "end_time": "2021-06-17T20:43:01.922654Z",
     "start_time": "2021-06-17T20:43:01.666654Z"
    }
   },
   "outputs": [
    {
     "name": "stdout",
     "output_type": "stream",
     "text": [
      "(18764, 3) (18764, 3)\n",
      "\n",
      "테스트 데이터에서 예측 정확도: 13.305831909179688, 460101.300390625\n",
      "\n"
     ]
    }
   ],
   "source": [
    "test()"
   ]
  },
  {
   "cell_type": "code",
   "execution_count": null,
   "metadata": {
    "ExecuteTime": {
     "start_time": "2021-06-17T20:43:21.130Z"
    }
   },
   "outputs": [
    {
     "name": "stdout",
     "output_type": "stream",
     "text": [
      "epoch0：완료\n",
      "\n",
      "(18764, 3) (18764, 3)\n",
      "\n",
      "테스트 데이터에서 예측 정확도: 7.282623291015625, 62519.51787109375\n",
      "\n",
      "epoch1：완료\n",
      "\n",
      "(18764, 3) (18764, 3)\n",
      "\n",
      "테스트 데이터에서 예측 정확도: 20.24148178100586, 28313.8607421875\n",
      "\n",
      "epoch2：완료\n",
      "\n",
      "(18764, 3) (18764, 3)\n",
      "\n",
      "테스트 데이터에서 예측 정확도: 12.859976768493652, 104701.8046875\n",
      "\n",
      "epoch3：완료\n",
      "\n",
      "(18764, 3) (18764, 3)\n",
      "\n",
      "테스트 데이터에서 예측 정확도: 16.339576721191406, 88519.0908203125\n",
      "\n",
      "epoch4：완료\n",
      "\n",
      "(18764, 3) (18764, 3)\n",
      "\n",
      "테스트 데이터에서 예측 정확도: 6.906274795532227, 83880.9701171875\n",
      "\n",
      "epoch5：완료\n",
      "\n",
      "(18764, 3) (18764, 3)\n",
      "\n",
      "테스트 데이터에서 예측 정확도: 24.31685447692871, 19932.20341796875\n",
      "\n",
      "epoch6：완료\n",
      "\n",
      "(18764, 3) (18764, 3)\n",
      "\n",
      "테스트 데이터에서 예측 정확도: 5.772268295288086, 182089.398828125\n",
      "\n",
      "epoch7：완료\n",
      "\n",
      "(18764, 3) (18764, 3)\n",
      "\n",
      "테스트 데이터에서 예측 정확도: 60.89895248413086, 134938.24453125\n",
      "\n",
      "epoch8：완료\n",
      "\n",
      "(18764, 3) (18764, 3)\n",
      "\n",
      "테스트 데이터에서 예측 정확도: 5.003030776977539, 28778.380957031248\n",
      "\n",
      "epoch9：완료\n",
      "\n",
      "(18764, 3) (18764, 3)\n",
      "\n",
      "테스트 데이터에서 예측 정확도: 6.198967456817627, 60241.63056640625\n",
      "\n",
      "epoch10：완료\n",
      "\n",
      "(18764, 3) (18764, 3)\n",
      "\n",
      "테스트 데이터에서 예측 정확도: 9.774504661560059, 53451.8244140625\n",
      "\n",
      "epoch11：완료\n",
      "\n",
      "(18764, 3) (18764, 3)\n",
      "\n",
      "테스트 데이터에서 예측 정확도: 4.194391250610352, 84337.6064453125\n",
      "\n",
      "epoch12：완료\n",
      "\n",
      "(18764, 3) (18764, 3)\n",
      "\n",
      "테스트 데이터에서 예측 정확도: 18.462467193603516, 30624.37861328125\n",
      "\n",
      "epoch13：완료\n",
      "\n",
      "(18764, 3) (18764, 3)\n",
      "\n",
      "테스트 데이터에서 예측 정확도: 3.9105920791625977, 32527.191796875\n",
      "\n",
      "epoch14：완료\n",
      "\n",
      "(18764, 3) (18764, 3)\n",
      "\n",
      "테스트 데이터에서 예측 정확도: 15.17336368560791, 72645.49824218749\n",
      "\n",
      "epoch15：완료\n",
      "\n",
      "(18764, 3) (18764, 3)\n",
      "\n",
      "테스트 데이터에서 예측 정확도: 6.104786396026611, 40829.1154296875\n",
      "\n",
      "epoch16：완료\n",
      "\n",
      "(18764, 3) (18764, 3)\n",
      "\n",
      "테스트 데이터에서 예측 정확도: 5.790935039520264, 138590.08046875\n",
      "\n",
      "epoch17：완료\n",
      "\n",
      "(18764, 3) (18764, 3)\n",
      "\n",
      "테스트 데이터에서 예측 정확도: 16.520179748535156, 69567.1095703125\n",
      "\n",
      "epoch18：완료\n",
      "\n",
      "(18764, 3) (18764, 3)\n",
      "\n",
      "테스트 데이터에서 예측 정확도: 5.028831481933594, 66687.5841796875\n",
      "\n",
      "epoch19：완료\n",
      "\n",
      "(18764, 3) (18764, 3)\n",
      "\n",
      "테스트 데이터에서 예측 정확도: 17.578290939331055, 57485.85986328125\n",
      "\n",
      "epoch20：완료\n",
      "\n",
      "(18764, 3) (18764, 3)\n",
      "\n",
      "테스트 데이터에서 예측 정확도: 6.717168807983398, 63732.262109375\n",
      "\n",
      "epoch21：완료\n",
      "\n",
      "(18764, 3) (18764, 3)\n",
      "\n",
      "테스트 데이터에서 예측 정확도: 8.231273651123047, 73321.1453125\n",
      "\n",
      "epoch22：완료\n",
      "\n",
      "(18764, 3) (18764, 3)\n",
      "\n",
      "테스트 데이터에서 예측 정확도: 40.24828338623047, 435336.246875\n",
      "\n",
      "epoch23：완료\n",
      "\n",
      "(18764, 3) (18764, 3)\n",
      "\n",
      "테스트 데이터에서 예측 정확도: 6.076873302459717, 16495.32314453125\n",
      "\n",
      "epoch24：완료\n",
      "\n",
      "(18764, 3) (18764, 3)\n",
      "\n",
      "테스트 데이터에서 예측 정확도: 12.255927085876465, 27963.950927734375\n",
      "\n",
      "epoch25：완료\n",
      "\n",
      "(18764, 3) (18764, 3)\n",
      "\n",
      "테스트 데이터에서 예측 정확도: 11.32645034790039, 36145.30390625\n",
      "\n",
      "epoch26：완료\n",
      "\n",
      "(18764, 3) (18764, 3)\n",
      "\n",
      "테스트 데이터에서 예측 정확도: 6.785510540008545, 45256.93681640625\n",
      "\n",
      "epoch27：완료\n",
      "\n",
      "(18764, 3) (18764, 3)\n",
      "\n",
      "테스트 데이터에서 예측 정확도: 5.624317646026611, 63715.82421875\n",
      "\n",
      "epoch28：완료\n",
      "\n",
      "(18764, 3) (18764, 3)\n",
      "\n",
      "테스트 데이터에서 예측 정확도: 9.385886192321777, 101589.23261718749\n",
      "\n",
      "epoch29：완료\n",
      "\n",
      "(18764, 3) (18764, 3)\n",
      "\n",
      "테스트 데이터에서 예측 정확도: 4.031904220581055, 40982.6267578125\n",
      "\n",
      "epoch30：완료\n",
      "\n",
      "(18764, 3) (18764, 3)\n",
      "\n",
      "테스트 데이터에서 예측 정확도: 15.38489818572998, 70326.1462890625\n",
      "\n",
      "epoch31：완료\n",
      "\n",
      "(18764, 3) (18764, 3)\n",
      "\n",
      "테스트 데이터에서 예측 정확도: 9.13107681274414, 75150.6412109375\n",
      "\n",
      "epoch32：완료\n",
      "\n",
      "(18764, 3) (18764, 3)\n",
      "\n",
      "테스트 데이터에서 예측 정확도: 12.961980819702148, 64821.5595703125\n",
      "\n",
      "epoch33：완료\n",
      "\n",
      "(18764, 3) (18764, 3)\n",
      "\n",
      "테스트 데이터에서 예측 정확도: 8.91202449798584, 21111.324755859376\n",
      "\n",
      "epoch34：완료\n",
      "\n",
      "(18764, 3) (18764, 3)\n",
      "\n",
      "테스트 데이터에서 예측 정확도: 9.20724105834961, 46487.1583984375\n",
      "\n",
      "epoch35：완료\n",
      "\n",
      "(18764, 3) (18764, 3)\n",
      "\n",
      "테스트 데이터에서 예측 정확도: 4.267174243927002, 43114.58798828125\n",
      "\n",
      "epoch36：완료\n",
      "\n",
      "(18764, 3) (18764, 3)\n",
      "\n",
      "테스트 데이터에서 예측 정확도: 31.70923614501953, 146709.097265625\n",
      "\n",
      "epoch37：완료\n",
      "\n",
      "(18764, 3) (18764, 3)\n",
      "\n",
      "테스트 데이터에서 예측 정확도: 23.40789794921875, 38349.84169921875\n",
      "\n",
      "epoch38：완료\n",
      "\n",
      "(18764, 3) (18764, 3)\n",
      "\n",
      "테스트 데이터에서 예측 정확도: 9.373821258544922, 94040.2306640625\n",
      "\n",
      "epoch39：완료\n",
      "\n",
      "(18764, 3) (18764, 3)\n",
      "\n",
      "테스트 데이터에서 예측 정확도: 5.140291690826416, 18331.042578125\n",
      "\n",
      "epoch40：완료\n",
      "\n",
      "(18764, 3) (18764, 3)\n",
      "\n",
      "테스트 데이터에서 예측 정확도: 4.730157852172852, 89819.0419921875\n",
      "\n",
      "epoch41：완료\n",
      "\n",
      "(18764, 3) (18764, 3)\n",
      "\n",
      "테스트 데이터에서 예측 정확도: 14.530949592590332, 108067.22148437498\n",
      "\n",
      "epoch42：완료\n",
      "\n",
      "(18764, 3) (18764, 3)\n",
      "\n",
      "테스트 데이터에서 예측 정확도: 5.518564224243164, 46382.98037109375\n",
      "\n",
      "epoch43：완료\n",
      "\n",
      "(18764, 3) (18764, 3)\n",
      "\n",
      "테스트 데이터에서 예측 정확도: 12.480287551879883, 79340.10976562499\n",
      "\n",
      "epoch44：완료\n",
      "\n",
      "(18764, 3) (18764, 3)\n",
      "\n",
      "테스트 데이터에서 예측 정확도: 10.151667594909668, 43818.54443359375\n",
      "\n",
      "epoch45：완료\n",
      "\n",
      "(18764, 3) (18764, 3)\n",
      "\n",
      "테스트 데이터에서 예측 정확도: 4.250288486480713, 74941.729296875\n",
      "\n",
      "epoch46：완료\n",
      "\n",
      "(18764, 3) (18764, 3)\n",
      "\n",
      "테스트 데이터에서 예측 정확도: 9.255879402160645, 47859.05\n",
      "\n",
      "epoch47：완료\n",
      "\n",
      "(18764, 3) (18764, 3)\n",
      "\n",
      "테스트 데이터에서 예측 정확도: 8.711504936218262, 403719.566796875\n",
      "\n",
      "epoch48：완료\n",
      "\n",
      "(18764, 3) (18764, 3)\n",
      "\n",
      "테스트 데이터에서 예측 정확도: 22.114879608154297, 492879.721875\n",
      "\n",
      "epoch49：완료\n",
      "\n",
      "(18764, 3) (18764, 3)\n",
      "\n",
      "테스트 데이터에서 예측 정확도: 10.217497825622559, 16323.10439453125\n",
      "\n",
      "epoch50：완료\n",
      "\n",
      "(18764, 3) (18764, 3)\n",
      "\n",
      "테스트 데이터에서 예측 정확도: 9.096441268920898, 72999.4751953125\n",
      "\n",
      "epoch51：완료\n",
      "\n",
      "(18764, 3) (18764, 3)\n",
      "\n",
      "테스트 데이터에서 예측 정확도: 9.70114803314209, 26679.857421875\n",
      "\n",
      "epoch52：완료\n",
      "\n",
      "(18764, 3) (18764, 3)\n",
      "\n",
      "테스트 데이터에서 예측 정확도: 8.242170333862305, 34104.821875\n",
      "\n",
      "epoch53：완료\n",
      "\n",
      "(18764, 3) (18764, 3)\n",
      "\n",
      "테스트 데이터에서 예측 정확도: 4.485227108001709, 62813.331640624994\n",
      "\n",
      "epoch54：완료\n",
      "\n",
      "(18764, 3) (18764, 3)\n",
      "\n",
      "테스트 데이터에서 예측 정확도: 4.001827239990234, 39554.442578125\n",
      "\n",
      "epoch55：완료\n",
      "\n",
      "(18764, 3) (18764, 3)\n",
      "\n",
      "테스트 데이터에서 예측 정확도: 17.140926361083984, 32756.12392578125\n",
      "\n",
      "epoch56：완료\n",
      "\n",
      "(18764, 3) (18764, 3)\n",
      "\n",
      "테스트 데이터에서 예측 정확도: 5.089866638183594, 52991.9515625\n",
      "\n",
      "epoch57：완료\n",
      "\n",
      "(18764, 3) (18764, 3)\n",
      "\n",
      "테스트 데이터에서 예측 정확도: 6.79276704788208, 19055.376708984375\n",
      "\n",
      "epoch58：완료\n",
      "\n",
      "(18764, 3) (18764, 3)\n",
      "\n",
      "테스트 데이터에서 예측 정확도: 11.719625473022461, 31879.6759765625\n",
      "\n",
      "epoch59：완료\n",
      "\n",
      "(18764, 3) (18764, 3)\n",
      "\n",
      "테스트 데이터에서 예측 정확도: 7.121028423309326, 23119.18154296875\n",
      "\n",
      "epoch60：완료\n",
      "\n",
      "(18764, 3) (18764, 3)\n",
      "\n",
      "테스트 데이터에서 예측 정확도: 5.191888809204102, 95274.240234375\n",
      "\n",
      "epoch61：완료\n",
      "\n",
      "(18764, 3) (18764, 3)\n",
      "\n",
      "테스트 데이터에서 예측 정확도: 10.51223373413086, 21782.947265625\n",
      "\n",
      "epoch62：완료\n",
      "\n",
      "(18764, 3) (18764, 3)\n",
      "\n",
      "테스트 데이터에서 예측 정확도: 5.873215675354004, 14506.324658203124\n",
      "\n"
     ]
    }
   ],
   "source": [
    "for epoch in range(EPOCH_NUM):\n",
    "    train(epoch)\n",
    "    test()\n"
   ]
  },
  {
   "cell_type": "code",
   "execution_count": null,
   "metadata": {},
   "outputs": [],
   "source": []
  },
  {
   "cell_type": "markdown",
   "metadata": {},
   "source": [
    "# Submission"
   ]
  },
  {
   "cell_type": "code",
   "execution_count": null,
   "metadata": {},
   "outputs": [],
   "source": []
  },
  {
   "cell_type": "code",
   "execution_count": null,
   "metadata": {},
   "outputs": [],
   "source": []
  }
 ],
 "metadata": {
  "hide_input": false,
  "kernelspec": {
   "display_name": "torch",
   "language": "python",
   "name": "torch"
  },
  "language_info": {
   "codemirror_mode": {
    "name": "ipython",
    "version": 3
   },
   "file_extension": ".py",
   "mimetype": "text/x-python",
   "name": "python",
   "nbconvert_exporter": "python",
   "pygments_lexer": "ipython3",
   "version": "3.6.12"
  },
  "latex_envs": {
   "LaTeX_envs_menu_present": true,
   "autoclose": false,
   "autocomplete": true,
   "bibliofile": "biblio.bib",
   "cite_by": "apalike",
   "current_citInitial": 1,
   "eqLabelWithNumbers": true,
   "eqNumInitial": 1,
   "hotkeys": {
    "equation": "Ctrl-E",
    "itemize": "Ctrl-I"
   },
   "labels_anchors": false,
   "latex_user_defs": false,
   "report_style_numbering": false,
   "user_envs_cfg": false
  },
  "toc": {
   "base_numbering": 1,
   "nav_menu": {},
   "number_sections": true,
   "sideBar": true,
   "skip_h1_title": false,
   "title_cell": "Table of Contents",
   "title_sidebar": "Contents",
   "toc_cell": false,
   "toc_position": {},
   "toc_section_display": true,
   "toc_window_display": true
  },
  "varInspector": {
   "cols": {
    "lenName": 16,
    "lenType": 16,
    "lenVar": 40
   },
   "kernels_config": {
    "python": {
     "delete_cmd_postfix": "",
     "delete_cmd_prefix": "del ",
     "library": "var_list.py",
     "varRefreshCmd": "print(var_dic_list())"
    },
    "r": {
     "delete_cmd_postfix": ") ",
     "delete_cmd_prefix": "rm(",
     "library": "var_list.r",
     "varRefreshCmd": "cat(var_dic_list()) "
    }
   },
   "types_to_exclude": [
    "module",
    "function",
    "builtin_function_or_method",
    "instance",
    "_Feature"
   ],
   "window_display": false
  }
 },
 "nbformat": 4,
 "nbformat_minor": 4
}
