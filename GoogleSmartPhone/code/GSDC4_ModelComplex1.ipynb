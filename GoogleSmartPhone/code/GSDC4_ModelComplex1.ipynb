{
 "cells": [
  {
   "cell_type": "markdown",
   "metadata": {},
   "source": [
    "# Load Libraries"
   ]
  },
  {
   "cell_type": "code",
   "execution_count": 1,
   "metadata": {
    "ExecuteTime": {
     "end_time": "2021-07-03T09:48:56.305674Z",
     "start_time": "2021-07-03T09:48:53.279675Z"
    }
   },
   "outputs": [],
   "source": [
    "import numpy as np\n",
    "import pandas as pd\n",
    "from glob import glob\n",
    "import os\n",
    "import matplotlib.pyplot as plt\n",
    "from tqdm.notebook import tqdm\n",
    "from pathlib import Path\n",
    "import plotly.express as px\n",
    "\n",
    "import torch\n",
    "import torch.nn as nn\n",
    "import torch.nn.functional as F\n",
    "import torch.optim as optim\n",
    "from torch.utils.data import TensorDataset, DataLoader\n",
    "import torchsummary\n",
    "from sklearn.model_selection import train_test_split\n",
    "from sklearn.preprocessing import StandardScaler, MinMaxScaler\n",
    "\n",
    "import warnings\n",
    "warnings.filterwarnings(action='ignore')"
   ]
  },
  {
   "cell_type": "code",
   "execution_count": 2,
   "metadata": {
    "ExecuteTime": {
     "end_time": "2021-07-03T09:48:56.365713Z",
     "start_time": "2021-07-03T09:48:56.306677Z"
    }
   },
   "outputs": [
    {
     "name": "stdout",
     "output_type": "stream",
     "text": [
      "cuda:0\n"
     ]
    }
   ],
   "source": [
    "device = torch.device('cuda:0' if torch.cuda.is_available() else \"cpu\")\n",
    "print(device)"
   ]
  },
  {
   "cell_type": "markdown",
   "metadata": {},
   "source": [
    "# Set Hyper Parameters"
   ]
  },
  {
   "cell_type": "code",
   "execution_count": 3,
   "metadata": {
    "ExecuteTime": {
     "end_time": "2021-07-03T09:48:56.380710Z",
     "start_time": "2021-07-03T09:48:56.367710Z"
    }
   },
   "outputs": [],
   "source": [
    "hyper_parameters = {\n",
    "    \"SEED\":1990,\n",
    "    \"notebookName\":\"ComplexModel1\",\n",
    "    \"nepochs\":10000,\n",
    "    \"batch_size\":256,\n",
    "    \"learning_rate\":0.1,\n",
    "    \"window_size\":128,\n",
    "    \"max_patience_count\":50\n",
    "}"
   ]
  },
  {
   "cell_type": "code",
   "execution_count": 4,
   "metadata": {
    "ExecuteTime": {
     "end_time": "2021-07-03T09:48:56.395714Z",
     "start_time": "2021-07-03T09:48:56.382714Z"
    }
   },
   "outputs": [
    {
     "data": {
      "text/plain": [
       "<torch._C.Generator at 0x21790f5bdc8>"
      ]
     },
     "execution_count": 4,
     "metadata": {},
     "output_type": "execute_result"
    }
   ],
   "source": [
    "torch.manual_seed(hyper_parameters[\"SEED\"])"
   ]
  },
  {
   "cell_type": "code",
   "execution_count": 5,
   "metadata": {
    "ExecuteTime": {
     "end_time": "2021-07-03T09:48:56.410712Z",
     "start_time": "2021-07-03T09:48:56.396712Z"
    }
   },
   "outputs": [
    {
     "data": {
      "text/plain": [
       "'./models/ComplexModel1'"
      ]
     },
     "execution_count": 5,
     "metadata": {},
     "output_type": "execute_result"
    }
   ],
   "source": [
    "f\"./models/{hyper_parameters['notebookName']}\""
   ]
  },
  {
   "cell_type": "code",
   "execution_count": 6,
   "metadata": {
    "ExecuteTime": {
     "end_time": "2021-07-03T09:48:56.425712Z",
     "start_time": "2021-07-03T09:48:56.411711Z"
    }
   },
   "outputs": [
    {
     "data": {
      "text/plain": [
       "0"
      ]
     },
     "execution_count": 6,
     "metadata": {},
     "output_type": "execute_result"
    }
   ],
   "source": [
    "\n",
    "PATH = Path(f\"./models/{hyper_parameters['notebookName']}\")\n",
    "if os.path.isdir(PATH):\n",
    "    dir_list = os.listdir(PATH)\n",
    "    num_files = 0\n",
    "    while True:\n",
    "        if os.path.isfile(str(PATH / f\"{num_files}\")):\n",
    "            print(num_files)\n",
    "            num_files += 1\n",
    "        else:\n",
    "            break\n",
    "else:\n",
    "    os.mkdir(PATH)\n",
    "    num_files = 0\n",
    "num_files"
   ]
  },
  {
   "cell_type": "markdown",
   "metadata": {},
   "source": [
    "# Set Path"
   ]
  },
  {
   "cell_type": "code",
   "execution_count": 7,
   "metadata": {
    "ExecuteTime": {
     "end_time": "2021-07-03T09:48:56.440713Z",
     "start_time": "2021-07-03T09:48:56.426711Z"
    }
   },
   "outputs": [],
   "source": [
    "data_dir = Path(\"../input/google-smartphone-decimeter-challenge\")"
   ]
  },
  {
   "cell_type": "markdown",
   "metadata": {},
   "source": [
    "# Help Functions"
   ]
  },
  {
   "cell_type": "markdown",
   "metadata": {},
   "source": [
    "# Load Data"
   ]
  },
  {
   "cell_type": "code",
   "execution_count": 8,
   "metadata": {
    "ExecuteTime": {
     "end_time": "2021-07-03T09:48:56.545711Z",
     "start_time": "2021-07-03T09:48:56.442715Z"
    }
   },
   "outputs": [],
   "source": [
    "df_train_default = pd.read_pickle(str(data_dir / \"gsdc_extract_train.pkl.gzip\"))"
   ]
  },
  {
   "cell_type": "code",
   "execution_count": 9,
   "metadata": {
    "ExecuteTime": {
     "end_time": "2021-07-03T09:48:56.620711Z",
     "start_time": "2021-07-03T09:48:56.547712Z"
    }
   },
   "outputs": [],
   "source": [
    "df_test = pd.read_pickle(str(data_dir / \"gsdc_extract_test.pkl.gzip\"))"
   ]
  },
  {
   "cell_type": "code",
   "execution_count": 10,
   "metadata": {
    "ExecuteTime": {
     "end_time": "2021-07-03T09:48:56.635712Z",
     "start_time": "2021-07-03T09:48:56.622713Z"
    },
    "scrolled": true
   },
   "outputs": [
    {
     "name": "stdout",
     "output_type": "stream",
     "text": [
      "collectionName\n",
      "phoneName\n",
      "millisSinceGpsEpoch\n",
      "latDeg\n",
      "lngDeg\n",
      "heightAboveWgs84EllipsoidM\n",
      "phone\n",
      "timeSinceFirstFixSeconds\n",
      "hDop\n",
      "vDop\n",
      "speedMps\n",
      "courseDegree\n",
      "t_latDeg\n",
      "t_lngDeg\n",
      "t_heightAboveWgs84EllipsoidM\n",
      "constellationType\n",
      "svid\n",
      "signalType\n",
      "receivedSvTimeInGpsNanos\n",
      "xSatPosM\n",
      "ySatPosM\n",
      "zSatPosM\n",
      "xSatVelMps\n",
      "ySatVelMps\n",
      "zSatVelMps\n",
      "satClkBiasM\n",
      "satClkDriftMps\n",
      "rawPrM\n",
      "rawPrUncM\n",
      "isrbM\n",
      "ionoDelayM\n",
      "tropoDelayM\n",
      "utcTimeMillis\n",
      "TimeNanos\n",
      "LeapSecond\n",
      "FullBiasNanos\n",
      "BiasNanos\n",
      "BiasUncertaintyNanos\n",
      "DriftNanosPerSecond\n",
      "DriftUncertaintyNanosPerSecond\n",
      "HardwareClockDiscontinuityCount\n",
      "Svid\n",
      "TimeOffsetNanos\n",
      "State\n",
      "ReceivedSvTimeNanos\n",
      "ReceivedSvTimeUncertaintyNanos\n",
      "Cn0DbHz\n",
      "PseudorangeRateMetersPerSecond\n",
      "PseudorangeRateUncertaintyMetersPerSecond\n",
      "AccumulatedDeltaRangeState\n",
      "AccumulatedDeltaRangeMeters\n",
      "AccumulatedDeltaRangeUncertaintyMeters\n",
      "CarrierFrequencyHz\n",
      "MultipathIndicator\n",
      "ConstellationType\n",
      "AgcDb\n",
      "BasebandCn0DbHz\n",
      "FullInterSignalBiasNanos\n",
      "FullInterSignalBiasUncertaintyNanos\n",
      "SatelliteInterSignalBiasNanos\n",
      "SatelliteInterSignalBiasUncertaintyNanos\n",
      "CodeType\n",
      "ChipsetElapsedRealtimeNanos\n",
      "utcTimeMillis_UncalGyro\n",
      "elapsedRealtimeNanos\n",
      "UncalGyroXRadPerSec\n",
      "UncalGyroYRadPerSec\n",
      "UncalGyroZRadPerSec\n",
      "DriftXRadPerSec\n",
      "DriftYRadPerSec\n",
      "DriftZRadPerSec\n",
      "utcTimeMillis_Status\n",
      "SignalCount\n",
      "SignalIndex\n",
      "ConstellationType_Status\n",
      "Svid_Status\n",
      "CarrierFrequencyHz_Status\n",
      "Cn0DbHz_Status\n",
      "AzimuthDegrees\n",
      "ElevationDegrees\n",
      "UsedInFix\n",
      "HasAlmanacData\n",
      "HasEphemerisData\n",
      "BasebandCn0DbHz_Status\n",
      "utcTimeMillis_UncalAccel\n",
      "elapsedRealtimeNanos_UncalAccel\n",
      "UncalAccelXMps2\n",
      "UncalAccelYMps2\n",
      "UncalAccelZMps2\n",
      "BiasXMps2\n",
      "BiasYMps2\n",
      "BiasZMps2\n",
      "utcTimeMillis_UncalMag\n",
      "elapsedRealtimeNanos_UncalMag\n",
      "UncalMagXMicroT\n",
      "UncalMagYMicroT\n",
      "UncalMagZMicroT\n",
      "BiasXMicroT\n",
      "BiasYMicroT\n",
      "BiasZMicroT\n",
      "utcTimeMillis_OrientationDeg\n",
      "elapsedRealtimeNanos_OrientationDeg\n",
      "yawDeg\n",
      "rollDeg\n",
      "pitchDeg\n",
      "dlatDeg\n",
      "dlngDeg\n",
      "dheight\n",
      "dlatDeg_Scaled\n",
      "dlngDeg_Scaled\n",
      "dheight_Scaled\n",
      "xSatPosM_Scaled\n",
      "ySatPosM_Scaled\n",
      "zSatPosM_Scaled\n",
      "xSatVelMps_Scaled\n",
      "ySatVelMps_Scaled\n",
      "zSatVelMps_Scaled\n",
      "UncalGyroXRadPerSec_Scaled\n",
      "UncalGyroYRadPerSec_Scaled\n",
      "UncalGyroZRadPerSec_Scaled\n",
      "DriftXRadPerSec_Scaled\n",
      "DriftYRadPerSec_Scaled\n",
      "DriftZRadPerSec_Scaled\n",
      "UncalAccelXMps2_Scaled\n",
      "UncalAccelYMps2_Scaled\n",
      "UncalAccelZMps2_Scaled\n",
      "BiasXMps2_Scaled\n",
      "BiasYMps2_Scaled\n",
      "BiasZMps2_Scaled\n",
      "UncalMagXMicroT_Scaled\n",
      "UncalMagYMicroT_Scaled\n",
      "UncalMagZMicroT_Scaled\n",
      "BiasXMicroT_Scaled\n",
      "BiasYMicroT_Scaled\n",
      "BiasZMicroT_Scaled\n",
      "yawDeg_Scaled\n",
      "rollDeg_Scaled\n",
      "pitchDeg_Scaled\n"
     ]
    }
   ],
   "source": [
    "for col in df_train_default.columns:\n",
    "    print(col)"
   ]
  },
  {
   "cell_type": "markdown",
   "metadata": {},
   "source": [
    "# Dataloader"
   ]
  },
  {
   "cell_type": "code",
   "execution_count": 11,
   "metadata": {
    "ExecuteTime": {
     "end_time": "2021-07-03T09:48:56.665712Z",
     "start_time": "2021-07-03T09:48:56.636711Z"
    }
   },
   "outputs": [
    {
     "data": {
      "text/plain": [
       "2021-04-22-US-SJC-1_Pixel4             2890\n",
       "2021-04-22-US-SJC-1_SamsungS20Ultra    2826\n",
       "2020-09-04-US-SF-2_Mi8                 2500\n",
       "2021-04-29-US-SJC-2_SamsungS20Ultra    2370\n",
       "2020-09-04-US-SF-2_Pixel4              2349\n",
       "                                       ... \n",
       "2021-01-05-US-SVL-2_Pixel4XL           1193\n",
       "2020-06-05-US-MTV-1_Pixel4XLModded     1123\n",
       "2021-04-26-US-SVL-1_Mi8                1036\n",
       "2021-04-26-US-SVL-1_Pixel5             1034\n",
       "2020-05-14-US-MTV-2_Pixel4XLModded      577\n",
       "Name: phone, Length: 73, dtype: int64"
      ]
     },
     "execution_count": 11,
     "metadata": {},
     "output_type": "execute_result"
    }
   ],
   "source": [
    "df_train_default['phone'].value_counts()"
   ]
  },
  {
   "cell_type": "code",
   "execution_count": 12,
   "metadata": {
    "ExecuteTime": {
     "end_time": "2021-07-03T09:48:57.505709Z",
     "start_time": "2021-07-03T09:48:56.666712Z"
    },
    "scrolled": true
   },
   "outputs": [
    {
     "name": "stdout",
     "output_type": "stream",
     "text": [
      "(123083, 138) (11851, 138)\n"
     ]
    }
   ],
   "source": [
    "def CustomTrainValidSplit(df:pd.DataFrame, valid_size):\n",
    "    phones = df['phone'].unique()\n",
    "    \n",
    "    valid_num = int(len(phones) * valid_size)\n",
    "    train_num = len(phones) - valid_num\n",
    "    \n",
    "    indexes = np.array(range(len(phones)))\n",
    "    indexes = np.random.choice(indexes, len(indexes))\n",
    "    \n",
    "    df_train = []\n",
    "    for phone in phones[indexes[:train_num]]:\n",
    "        df_train.append(df[df['phone'] == phone])\n",
    "    df_train = pd.concat(df_train)\n",
    "    \n",
    "    df_valid = []\n",
    "    for phone in phones[indexes[train_num:-1]]:\n",
    "        df_valid.append(df[df['phone'] == phone])\n",
    "    df_valid = pd.concat(df_valid)\n",
    "    \n",
    "    return df_train.reset_index().drop(columns = 'index'), df_valid.reset_index().drop(columns = 'index')\n",
    "    \n",
    "df_train, df_valid = CustomTrainValidSplit(df_train_default, valid_size = 0.1)\n",
    "print(df_train.shape, df_valid.shape)\n",
    "    "
   ]
  },
  {
   "cell_type": "code",
   "execution_count": 13,
   "metadata": {
    "ExecuteTime": {
     "end_time": "2021-07-03T09:48:57.566104Z",
     "start_time": "2021-07-03T09:48:57.506711Z"
    }
   },
   "outputs": [
    {
     "data": {
      "text/html": [
       "<div>\n",
       "<style scoped>\n",
       "    .dataframe tbody tr th:only-of-type {\n",
       "        vertical-align: middle;\n",
       "    }\n",
       "\n",
       "    .dataframe tbody tr th {\n",
       "        vertical-align: top;\n",
       "    }\n",
       "\n",
       "    .dataframe thead th {\n",
       "        text-align: right;\n",
       "    }\n",
       "</style>\n",
       "<table border=\"1\" class=\"dataframe\">\n",
       "  <thead>\n",
       "    <tr style=\"text-align: right;\">\n",
       "      <th></th>\n",
       "      <th>collectionName</th>\n",
       "      <th>phoneName</th>\n",
       "      <th>millisSinceGpsEpoch</th>\n",
       "      <th>latDeg</th>\n",
       "      <th>lngDeg</th>\n",
       "      <th>heightAboveWgs84EllipsoidM</th>\n",
       "      <th>phone</th>\n",
       "      <th>timeSinceFirstFixSeconds</th>\n",
       "      <th>hDop</th>\n",
       "      <th>vDop</th>\n",
       "      <th>...</th>\n",
       "      <th>BiasZMps2_Scaled</th>\n",
       "      <th>UncalMagXMicroT_Scaled</th>\n",
       "      <th>UncalMagYMicroT_Scaled</th>\n",
       "      <th>UncalMagZMicroT_Scaled</th>\n",
       "      <th>BiasXMicroT_Scaled</th>\n",
       "      <th>BiasYMicroT_Scaled</th>\n",
       "      <th>BiasZMicroT_Scaled</th>\n",
       "      <th>yawDeg_Scaled</th>\n",
       "      <th>rollDeg_Scaled</th>\n",
       "      <th>pitchDeg_Scaled</th>\n",
       "    </tr>\n",
       "  </thead>\n",
       "  <tbody>\n",
       "    <tr>\n",
       "      <th>0</th>\n",
       "      <td>2021-04-29-US-MTV-1</td>\n",
       "      <td>Pixel4</td>\n",
       "      <td>1303768903433</td>\n",
       "      <td>37.395793</td>\n",
       "      <td>-122.102930</td>\n",
       "      <td>11.67</td>\n",
       "      <td>2021-04-29-US-MTV-1_Pixel4</td>\n",
       "      <td>102.43</td>\n",
       "      <td>1.90</td>\n",
       "      <td>0.0</td>\n",
       "      <td>...</td>\n",
       "      <td>0.484243</td>\n",
       "      <td>0.544243</td>\n",
       "      <td>-0.334239</td>\n",
       "      <td>-0.455552</td>\n",
       "      <td>-0.066769</td>\n",
       "      <td>-0.050964</td>\n",
       "      <td>-0.888690</td>\n",
       "      <td>-1.098752</td>\n",
       "      <td>0.790174</td>\n",
       "      <td>-0.623619</td>\n",
       "    </tr>\n",
       "    <tr>\n",
       "      <th>1</th>\n",
       "      <td>2021-04-29-US-MTV-1</td>\n",
       "      <td>Pixel4</td>\n",
       "      <td>1303768904433</td>\n",
       "      <td>37.395779</td>\n",
       "      <td>-122.102918</td>\n",
       "      <td>21.31</td>\n",
       "      <td>2021-04-29-US-MTV-1_Pixel4</td>\n",
       "      <td>103.43</td>\n",
       "      <td>1.90</td>\n",
       "      <td>0.0</td>\n",
       "      <td>...</td>\n",
       "      <td>0.484243</td>\n",
       "      <td>0.553238</td>\n",
       "      <td>-0.350380</td>\n",
       "      <td>-0.461641</td>\n",
       "      <td>-0.066769</td>\n",
       "      <td>-0.050964</td>\n",
       "      <td>-0.888690</td>\n",
       "      <td>-1.098752</td>\n",
       "      <td>0.790174</td>\n",
       "      <td>-0.623619</td>\n",
       "    </tr>\n",
       "    <tr>\n",
       "      <th>2</th>\n",
       "      <td>2021-04-29-US-MTV-1</td>\n",
       "      <td>Pixel4</td>\n",
       "      <td>1303768905433</td>\n",
       "      <td>37.395798</td>\n",
       "      <td>-122.102930</td>\n",
       "      <td>7.89</td>\n",
       "      <td>2021-04-29-US-MTV-1_Pixel4</td>\n",
       "      <td>104.43</td>\n",
       "      <td>1.90</td>\n",
       "      <td>0.0</td>\n",
       "      <td>...</td>\n",
       "      <td>0.484243</td>\n",
       "      <td>0.536668</td>\n",
       "      <td>-0.339787</td>\n",
       "      <td>-0.445311</td>\n",
       "      <td>-0.066769</td>\n",
       "      <td>-0.050964</td>\n",
       "      <td>-0.888690</td>\n",
       "      <td>-1.098752</td>\n",
       "      <td>0.790174</td>\n",
       "      <td>-0.623619</td>\n",
       "    </tr>\n",
       "    <tr>\n",
       "      <th>3</th>\n",
       "      <td>2021-04-29-US-MTV-1</td>\n",
       "      <td>Pixel4</td>\n",
       "      <td>1303768906433</td>\n",
       "      <td>37.395807</td>\n",
       "      <td>-122.102944</td>\n",
       "      <td>8.55</td>\n",
       "      <td>2021-04-29-US-MTV-1_Pixel4</td>\n",
       "      <td>105.43</td>\n",
       "      <td>1.90</td>\n",
       "      <td>0.0</td>\n",
       "      <td>...</td>\n",
       "      <td>0.484243</td>\n",
       "      <td>0.545663</td>\n",
       "      <td>-0.328186</td>\n",
       "      <td>-0.454998</td>\n",
       "      <td>-0.066769</td>\n",
       "      <td>-0.050964</td>\n",
       "      <td>-0.888690</td>\n",
       "      <td>-1.098752</td>\n",
       "      <td>0.790174</td>\n",
       "      <td>-0.623619</td>\n",
       "    </tr>\n",
       "    <tr>\n",
       "      <th>4</th>\n",
       "      <td>2021-04-29-US-MTV-1</td>\n",
       "      <td>Pixel4</td>\n",
       "      <td>1303768907433</td>\n",
       "      <td>37.395813</td>\n",
       "      <td>-122.102928</td>\n",
       "      <td>-4.79</td>\n",
       "      <td>2021-04-29-US-MTV-1_Pixel4</td>\n",
       "      <td>106.43</td>\n",
       "      <td>1.90</td>\n",
       "      <td>0.0</td>\n",
       "      <td>...</td>\n",
       "      <td>0.484243</td>\n",
       "      <td>0.557498</td>\n",
       "      <td>-0.318098</td>\n",
       "      <td>-0.488212</td>\n",
       "      <td>-0.066769</td>\n",
       "      <td>-0.050964</td>\n",
       "      <td>-0.888690</td>\n",
       "      <td>-1.098752</td>\n",
       "      <td>0.790174</td>\n",
       "      <td>-0.623619</td>\n",
       "    </tr>\n",
       "    <tr>\n",
       "      <th>...</th>\n",
       "      <td>...</td>\n",
       "      <td>...</td>\n",
       "      <td>...</td>\n",
       "      <td>...</td>\n",
       "      <td>...</td>\n",
       "      <td>...</td>\n",
       "      <td>...</td>\n",
       "      <td>...</td>\n",
       "      <td>...</td>\n",
       "      <td>...</td>\n",
       "      <td>...</td>\n",
       "      <td>...</td>\n",
       "      <td>...</td>\n",
       "      <td>...</td>\n",
       "      <td>...</td>\n",
       "      <td>...</td>\n",
       "      <td>...</td>\n",
       "      <td>...</td>\n",
       "      <td>...</td>\n",
       "      <td>...</td>\n",
       "      <td>...</td>\n",
       "    </tr>\n",
       "    <tr>\n",
       "      <th>123078</th>\n",
       "      <td>2021-01-04-US-RWC-1</td>\n",
       "      <td>Pixel4Modded</td>\n",
       "      <td>1293834278740</td>\n",
       "      <td>37.444414</td>\n",
       "      <td>-122.232552</td>\n",
       "      <td>19.22</td>\n",
       "      <td>2021-01-04-US-RWC-1_Pixel4Modded</td>\n",
       "      <td>2351.74</td>\n",
       "      <td>0.80</td>\n",
       "      <td>0.0</td>\n",
       "      <td>...</td>\n",
       "      <td>0.484243</td>\n",
       "      <td>0.392276</td>\n",
       "      <td>0.087439</td>\n",
       "      <td>-0.263744</td>\n",
       "      <td>0.194069</td>\n",
       "      <td>0.190609</td>\n",
       "      <td>-0.070386</td>\n",
       "      <td>0.000000</td>\n",
       "      <td>0.000000</td>\n",
       "      <td>0.000000</td>\n",
       "    </tr>\n",
       "    <tr>\n",
       "      <th>123079</th>\n",
       "      <td>2021-01-04-US-RWC-1</td>\n",
       "      <td>Pixel4Modded</td>\n",
       "      <td>1293834279731</td>\n",
       "      <td>37.444418</td>\n",
       "      <td>-122.232591</td>\n",
       "      <td>21.17</td>\n",
       "      <td>2021-01-04-US-RWC-1_Pixel4Modded</td>\n",
       "      <td>2352.73</td>\n",
       "      <td>0.80</td>\n",
       "      <td>0.0</td>\n",
       "      <td>...</td>\n",
       "      <td>0.484243</td>\n",
       "      <td>0.392276</td>\n",
       "      <td>0.087439</td>\n",
       "      <td>-0.263744</td>\n",
       "      <td>0.194069</td>\n",
       "      <td>0.190609</td>\n",
       "      <td>-0.070386</td>\n",
       "      <td>0.000000</td>\n",
       "      <td>0.000000</td>\n",
       "      <td>0.000000</td>\n",
       "    </tr>\n",
       "    <tr>\n",
       "      <th>123080</th>\n",
       "      <td>2021-01-04-US-RWC-1</td>\n",
       "      <td>Pixel4Modded</td>\n",
       "      <td>1293834280723</td>\n",
       "      <td>37.444390</td>\n",
       "      <td>-122.232551</td>\n",
       "      <td>17.58</td>\n",
       "      <td>2021-01-04-US-RWC-1_Pixel4Modded</td>\n",
       "      <td>2353.72</td>\n",
       "      <td>0.78</td>\n",
       "      <td>0.0</td>\n",
       "      <td>...</td>\n",
       "      <td>0.484243</td>\n",
       "      <td>0.392276</td>\n",
       "      <td>0.087439</td>\n",
       "      <td>-0.263744</td>\n",
       "      <td>0.194069</td>\n",
       "      <td>0.190609</td>\n",
       "      <td>-0.070386</td>\n",
       "      <td>0.000000</td>\n",
       "      <td>0.000000</td>\n",
       "      <td>0.000000</td>\n",
       "    </tr>\n",
       "    <tr>\n",
       "      <th>123081</th>\n",
       "      <td>2021-01-04-US-RWC-1</td>\n",
       "      <td>Pixel4Modded</td>\n",
       "      <td>1293834281737</td>\n",
       "      <td>37.444432</td>\n",
       "      <td>-122.232634</td>\n",
       "      <td>12.61</td>\n",
       "      <td>2021-01-04-US-RWC-1_Pixel4Modded</td>\n",
       "      <td>2354.74</td>\n",
       "      <td>0.70</td>\n",
       "      <td>0.0</td>\n",
       "      <td>...</td>\n",
       "      <td>0.484243</td>\n",
       "      <td>0.392276</td>\n",
       "      <td>0.087439</td>\n",
       "      <td>-0.263744</td>\n",
       "      <td>0.194069</td>\n",
       "      <td>0.190609</td>\n",
       "      <td>-0.070386</td>\n",
       "      <td>0.000000</td>\n",
       "      <td>0.000000</td>\n",
       "      <td>0.000000</td>\n",
       "    </tr>\n",
       "    <tr>\n",
       "      <th>123082</th>\n",
       "      <td>2021-01-04-US-RWC-1</td>\n",
       "      <td>Pixel4Modded</td>\n",
       "      <td>1293834282729</td>\n",
       "      <td>37.444340</td>\n",
       "      <td>-122.232647</td>\n",
       "      <td>23.56</td>\n",
       "      <td>2021-01-04-US-RWC-1_Pixel4Modded</td>\n",
       "      <td>2355.73</td>\n",
       "      <td>0.70</td>\n",
       "      <td>0.0</td>\n",
       "      <td>...</td>\n",
       "      <td>0.484243</td>\n",
       "      <td>0.392276</td>\n",
       "      <td>0.087439</td>\n",
       "      <td>-0.263744</td>\n",
       "      <td>0.194069</td>\n",
       "      <td>0.190609</td>\n",
       "      <td>-0.070386</td>\n",
       "      <td>0.000000</td>\n",
       "      <td>0.000000</td>\n",
       "      <td>0.000000</td>\n",
       "    </tr>\n",
       "  </tbody>\n",
       "</table>\n",
       "<p>123083 rows × 138 columns</p>\n",
       "</div>"
      ],
      "text/plain": [
       "             collectionName     phoneName  millisSinceGpsEpoch     latDeg  \\\n",
       "0       2021-04-29-US-MTV-1        Pixel4        1303768903433  37.395793   \n",
       "1       2021-04-29-US-MTV-1        Pixel4        1303768904433  37.395779   \n",
       "2       2021-04-29-US-MTV-1        Pixel4        1303768905433  37.395798   \n",
       "3       2021-04-29-US-MTV-1        Pixel4        1303768906433  37.395807   \n",
       "4       2021-04-29-US-MTV-1        Pixel4        1303768907433  37.395813   \n",
       "...                     ...           ...                  ...        ...   \n",
       "123078  2021-01-04-US-RWC-1  Pixel4Modded        1293834278740  37.444414   \n",
       "123079  2021-01-04-US-RWC-1  Pixel4Modded        1293834279731  37.444418   \n",
       "123080  2021-01-04-US-RWC-1  Pixel4Modded        1293834280723  37.444390   \n",
       "123081  2021-01-04-US-RWC-1  Pixel4Modded        1293834281737  37.444432   \n",
       "123082  2021-01-04-US-RWC-1  Pixel4Modded        1293834282729  37.444340   \n",
       "\n",
       "            lngDeg  heightAboveWgs84EllipsoidM  \\\n",
       "0      -122.102930                       11.67   \n",
       "1      -122.102918                       21.31   \n",
       "2      -122.102930                        7.89   \n",
       "3      -122.102944                        8.55   \n",
       "4      -122.102928                       -4.79   \n",
       "...            ...                         ...   \n",
       "123078 -122.232552                       19.22   \n",
       "123079 -122.232591                       21.17   \n",
       "123080 -122.232551                       17.58   \n",
       "123081 -122.232634                       12.61   \n",
       "123082 -122.232647                       23.56   \n",
       "\n",
       "                                   phone  timeSinceFirstFixSeconds  hDop  \\\n",
       "0             2021-04-29-US-MTV-1_Pixel4                    102.43  1.90   \n",
       "1             2021-04-29-US-MTV-1_Pixel4                    103.43  1.90   \n",
       "2             2021-04-29-US-MTV-1_Pixel4                    104.43  1.90   \n",
       "3             2021-04-29-US-MTV-1_Pixel4                    105.43  1.90   \n",
       "4             2021-04-29-US-MTV-1_Pixel4                    106.43  1.90   \n",
       "...                                  ...                       ...   ...   \n",
       "123078  2021-01-04-US-RWC-1_Pixel4Modded                   2351.74  0.80   \n",
       "123079  2021-01-04-US-RWC-1_Pixel4Modded                   2352.73  0.80   \n",
       "123080  2021-01-04-US-RWC-1_Pixel4Modded                   2353.72  0.78   \n",
       "123081  2021-01-04-US-RWC-1_Pixel4Modded                   2354.74  0.70   \n",
       "123082  2021-01-04-US-RWC-1_Pixel4Modded                   2355.73  0.70   \n",
       "\n",
       "        vDop  ...  BiasZMps2_Scaled  UncalMagXMicroT_Scaled  \\\n",
       "0        0.0  ...          0.484243                0.544243   \n",
       "1        0.0  ...          0.484243                0.553238   \n",
       "2        0.0  ...          0.484243                0.536668   \n",
       "3        0.0  ...          0.484243                0.545663   \n",
       "4        0.0  ...          0.484243                0.557498   \n",
       "...      ...  ...               ...                     ...   \n",
       "123078   0.0  ...          0.484243                0.392276   \n",
       "123079   0.0  ...          0.484243                0.392276   \n",
       "123080   0.0  ...          0.484243                0.392276   \n",
       "123081   0.0  ...          0.484243                0.392276   \n",
       "123082   0.0  ...          0.484243                0.392276   \n",
       "\n",
       "        UncalMagYMicroT_Scaled  UncalMagZMicroT_Scaled  BiasXMicroT_Scaled  \\\n",
       "0                    -0.334239               -0.455552           -0.066769   \n",
       "1                    -0.350380               -0.461641           -0.066769   \n",
       "2                    -0.339787               -0.445311           -0.066769   \n",
       "3                    -0.328186               -0.454998           -0.066769   \n",
       "4                    -0.318098               -0.488212           -0.066769   \n",
       "...                        ...                     ...                 ...   \n",
       "123078                0.087439               -0.263744            0.194069   \n",
       "123079                0.087439               -0.263744            0.194069   \n",
       "123080                0.087439               -0.263744            0.194069   \n",
       "123081                0.087439               -0.263744            0.194069   \n",
       "123082                0.087439               -0.263744            0.194069   \n",
       "\n",
       "        BiasYMicroT_Scaled  BiasZMicroT_Scaled yawDeg_Scaled  rollDeg_Scaled  \\\n",
       "0                -0.050964           -0.888690     -1.098752        0.790174   \n",
       "1                -0.050964           -0.888690     -1.098752        0.790174   \n",
       "2                -0.050964           -0.888690     -1.098752        0.790174   \n",
       "3                -0.050964           -0.888690     -1.098752        0.790174   \n",
       "4                -0.050964           -0.888690     -1.098752        0.790174   \n",
       "...                    ...                 ...           ...             ...   \n",
       "123078            0.190609           -0.070386      0.000000        0.000000   \n",
       "123079            0.190609           -0.070386      0.000000        0.000000   \n",
       "123080            0.190609           -0.070386      0.000000        0.000000   \n",
       "123081            0.190609           -0.070386      0.000000        0.000000   \n",
       "123082            0.190609           -0.070386      0.000000        0.000000   \n",
       "\n",
       "        pitchDeg_Scaled  \n",
       "0             -0.623619  \n",
       "1             -0.623619  \n",
       "2             -0.623619  \n",
       "3             -0.623619  \n",
       "4             -0.623619  \n",
       "...                 ...  \n",
       "123078         0.000000  \n",
       "123079         0.000000  \n",
       "123080         0.000000  \n",
       "123081         0.000000  \n",
       "123082         0.000000  \n",
       "\n",
       "[123083 rows x 138 columns]"
      ]
     },
     "execution_count": 13,
     "metadata": {},
     "output_type": "execute_result"
    }
   ],
   "source": [
    "df_train"
   ]
  },
  {
   "cell_type": "code",
   "execution_count": 14,
   "metadata": {
    "ExecuteTime": {
     "end_time": "2021-07-03T09:48:57.596100Z",
     "start_time": "2021-07-03T09:48:57.567102Z"
    }
   },
   "outputs": [],
   "source": [
    "def GetWindows(idx, window_size):\n",
    "    index = np.array([])\n",
    "    if idx < window_size:\n",
    "        index = np.concatenate([np.zeros(window_size - idx-1), np.array(range(idx+1))])\n",
    "        pass\n",
    "    else:\n",
    "        index = np.array(range(idx-window_size+1, idx+1))\n",
    "    return index.astype(int)\n",
    "\n",
    "def GetWindowsWithRatio(idx, max_idx, window_size, window_ratio = 1.):\n",
    "    left_index = np.array([])\n",
    "    right_index = np.array([])\n",
    "    \n",
    "    left_size = int(round(window_size * window_ratio))\n",
    "    right_size = window_size - left_size\n",
    "    if idx - left_size< 0:\n",
    "        left_index = np.concatenate([np.zeros(left_size - idx-1), np.array(range(idx+1))])\n",
    "    else:\n",
    "        left_index = np.array(range(idx-left_size, idx+1))\n",
    "    \n",
    "    if idx + right_size> max_idx:\n",
    "        right_index = np.concatenate([np.array(range(idx+1, max_idx+1)), (max_idx)*np.ones(right_size - idx - 1)])\n",
    "    else:\n",
    "        right_index = np.array(range(idx+1, idx + right_size))\n",
    "    \n",
    "    index = np.concatenate([left_index, right_index])\n",
    "    \n",
    "    if index.shape[0] < window_size:\n",
    "        if idx > np.percentile(index, window_ratio * 100):\n",
    "            if index[-1] == max_idx:\n",
    "                addtional_index = index[-1]\n",
    "            else:\n",
    "                addtional_index = index[-1] + 1\n",
    "            index = np.concatenate([index, np.array([addtional_index])])\n",
    "        \n",
    "    return index.astype(int)\n",
    "\n",
    "\n",
    "class CustomDataset(torch.utils.data.Dataset):\n",
    "    def __init__(self, df:pd.DataFrame, \n",
    "                 features = ['latDeg', 'lngDeg', 'heightAboveWgs84EllipsoidM'], \n",
    "                 labels = ['t_latDeg', 't_lngDeg', 't_heightAboveWgs84EllipsoidM'],\n",
    "                 window_size = 100,\n",
    "                 train = False,\n",
    "                 augment = False,\n",
    "                 crop_ratio = 0.0,\n",
    "                device = 'cpu'):\n",
    "        self.df = df\n",
    "        self.features = features\n",
    "        self.labels = labels\n",
    "        self.len = df.shape[0]\n",
    "        self.window_size = window_size\n",
    "        self.train = train\n",
    "        self.augment = augment\n",
    "        self.crop_ratio = crop_ratio\n",
    "        self.device = device\n",
    "        \n",
    "        self.data = self.df[features].astype(float).values\n",
    "        if train == True:\n",
    "            self.true = self.df[labels].astype(float).values\n",
    "        else:\n",
    "            self.true = []\n",
    "        self.phone = self.df['phone'].values\n",
    "        self.millisSinceGpsEpoch = self.df['millisSinceGpsEpoch'].values\n",
    "        \n",
    "        self.start_index_by_phone = dict()\n",
    "        self.length_by_phone = dict()\n",
    "        \n",
    "        for phone in set(self.phone):\n",
    "            start_index = np.where(self.phone == phone)[0][0]\n",
    "            self.start_index_by_phone[phone] = start_index\n",
    "            self.length_by_phone[phone] = (self.phone == phone).sum().astype('int64')\n",
    "            \n",
    "        \n",
    "    \n",
    "    def __len__(self):\n",
    "        return self.len\n",
    "    \n",
    "    def __getitem__(self, idx):\n",
    "        # 필요하다면 random crop 코드도 추가(랜덤한 위치에서 일정 비율의 데이터를 0으로 초기화)\n",
    "        phone = self.phone[idx]\n",
    "        start_index = self.start_index_by_phone[phone]\n",
    "        \n",
    "#         window_index = GetWindowsWithRatio(idx - start_index, self.length_by_phone[phone], self.window_size, 1) + start_index\n",
    "        window_index = GetWindows(idx - start_index, self.window_size) + start_index\n",
    "#         data = self.data[window_index, :].transpose(1, 0)\n",
    "        data = self.data[window_index, :]\n",
    "        \n",
    "            \n",
    "        indx = [self.phone[idx], self.millisSinceGpsEpoch[idx]]\n",
    "        \n",
    "        # data shape : num_of_features X window_size\n",
    "        # true shape : num_of_labels X 1\n",
    "        data = torch.Tensor(data)\n",
    "        if self.augment:\n",
    "            crop_size = int(self.crop_ratio * self.window_size * np.random.rand(1))\n",
    "            crop_start_index = np.random.randint(0, self.window_size - crop_size)\n",
    "            data[crop_start_index:crop_size] = 0\n",
    "        \n",
    "        if self.train is False:\n",
    "            true = []\n",
    "        else:\n",
    "            true = self.true[idx]\n",
    "            true = torch.Tensor(true.astype(float))\n",
    "        \n",
    "        return data, true, indx\n",
    "    \n"
   ]
  },
  {
   "cell_type": "code",
   "execution_count": 15,
   "metadata": {
    "ExecuteTime": {
     "end_time": "2021-07-03T09:48:57.896101Z",
     "start_time": "2021-07-03T09:48:57.598101Z"
    },
    "scrolled": true
   },
   "outputs": [],
   "source": [
    "features = ['latDeg', 'lngDeg', 'heightAboveWgs84EllipsoidM',\n",
    "           'dlatDeg', 'dlngDeg', 'dheight', \n",
    "            'dlatDeg_Scaled',\n",
    "            'dlngDeg_Scaled',\n",
    "            'dheight_Scaled',\n",
    "            'xSatPosM_Scaled',\n",
    "            'ySatPosM_Scaled',\n",
    "            'zSatPosM_Scaled',\n",
    "            'xSatVelMps_Scaled',\n",
    "            'ySatVelMps_Scaled',\n",
    "            'zSatVelMps_Scaled',\n",
    "            'UncalGyroXRadPerSec_Scaled',\n",
    "            'UncalGyroYRadPerSec_Scaled',\n",
    "            'UncalGyroZRadPerSec_Scaled',\n",
    "            'DriftXRadPerSec_Scaled',\n",
    "            'DriftYRadPerSec_Scaled',\n",
    "            'DriftZRadPerSec_Scaled',\n",
    "            'UncalAccelXMps2_Scaled',\n",
    "            'UncalAccelYMps2_Scaled',\n",
    "            'UncalAccelZMps2_Scaled',\n",
    "            'BiasXMps2_Scaled',\n",
    "            'BiasYMps2_Scaled',\n",
    "            'BiasZMps2_Scaled',\n",
    "            'UncalMagXMicroT_Scaled',\n",
    "            'UncalMagYMicroT_Scaled',\n",
    "            'UncalMagZMicroT_Scaled',\n",
    "            'BiasXMicroT_Scaled',\n",
    "            'BiasYMicroT_Scaled',\n",
    "            'BiasZMicroT_Scaled',\n",
    "            'yawDeg_Scaled',\n",
    "            'rollDeg_Scaled',\n",
    "            'pitchDeg_Scaled']\n",
    "labels = ['t_latDeg', 't_lngDeg', 't_heightAboveWgs84EllipsoidM']\n",
    "\n",
    "train_data = CustomDataset(df_train, \n",
    "                           features = features, labels = labels, \n",
    "                           window_size = hyper_parameters['window_size'], \n",
    "                           train = True, \n",
    "                           augment = True,\n",
    "                           crop_ratio = 0.1,\n",
    "                           device = device)\n",
    "valid_data = CustomDataset(df_valid, \n",
    "                           features = features, labels = labels, \n",
    "                           window_size = hyper_parameters['window_size'], \n",
    "                           train = True, \n",
    "                           augment = False,\n",
    "                           crop_ratio = 0.0,\n",
    "                           device = device)\n",
    "test_data = CustomDataset(df_test, \n",
    "                        features = features, labels = labels, \n",
    "                        window_size = hyper_parameters['window_size'], \n",
    "                        train = False, \n",
    "                        augment = False,\n",
    "                        crop_ratio = 0.0,\n",
    "                        device = device)"
   ]
  },
  {
   "cell_type": "code",
   "execution_count": 16,
   "metadata": {
    "ExecuteTime": {
     "end_time": "2021-07-03T09:48:57.911105Z",
     "start_time": "2021-07-03T09:48:57.897104Z"
    }
   },
   "outputs": [],
   "source": [
    "train_loader = DataLoader(train_data, batch_size = hyper_parameters['batch_size'], shuffle = True)\n",
    "valid_loader = DataLoader(valid_data, batch_size = hyper_parameters['batch_size'], shuffle = False)\n",
    "test_loader = DataLoader(test_data, batch_size = hyper_parameters['batch_size'], shuffle = False)"
   ]
  },
  {
   "cell_type": "markdown",
   "metadata": {},
   "source": [
    "# Build Model"
   ]
  },
  {
   "cell_type": "code",
   "execution_count": 17,
   "metadata": {
    "ExecuteTime": {
     "end_time": "2021-07-03T09:48:57.926101Z",
     "start_time": "2021-07-03T09:48:57.912102Z"
    }
   },
   "outputs": [],
   "source": [
    "class GPSLossScore(nn.Module):\n",
    "    def __init__(self):\n",
    "        super().__init__()\n",
    "        self.EARTH_RADIUS = 6_367_000\n",
    "        self.mse = nn.MSELoss()\n",
    "        pass\n",
    "    \n",
    "    def forward(self, predict:torch.Tensor, target:torch.Tensor):\n",
    "        \n",
    "#         loss = (0.5) * self.gps_loss(predict, target) + (0.5) * self.EARTH_RADIUS * self.mse(predict, target)\n",
    "        loss = self.gps_loss(predict, target)\n",
    "        return loss\n",
    "    \n",
    "    def torch_haversine(self,lat1, lon1, lat2, lon2):\n",
    "    \n",
    "        lat1=lat1 % 360\n",
    "        lon1=lon1 % 360\n",
    "        lat2=lat2 % 360\n",
    "        lon2=lon2 % 360\n",
    "\n",
    "        lat1, lat2, lon1, lon2 = map(torch.deg2rad, [lat1, lat2, lon1, lon2])\n",
    "\n",
    "        dlat = (lat2 - lat1)\n",
    "        dlon = (lon2 - lon1)\n",
    "\n",
    "        a = torch.sin(dlat / 2.0)**2 + torch.cos(lat1) * torch.cos(lat2) * (torch.sin(dlon / 2.0)**2)\n",
    "        c = 2 * torch.arcsin(a ** 0.5)\n",
    "\n",
    "        dist = self.EARTH_RADIUS * c\n",
    "\n",
    "        return dist\n",
    "\n",
    "    def gps_loss(self, predict:torch.Tensor, target:torch.Tensor):\n",
    "        dist = self.torch_haversine(predict[:,0], predict[:,1], target[:,0], target[:,1])\n",
    "\n",
    "        loss = dist.mean()\n",
    "\n",
    "        return loss\n",
    "\n",
    "    def gps_score(self, predict:torch.Tensor, target:torch.Tensor):\n",
    "        dist = self.torch_haversine(predict[:,0], predict[:,1], target[:,0], target[:,1])\n",
    "\n",
    "        score = (torch.quantile(dist, 0.5) + torch.quantile(dist, 0.95))/2\n",
    "\n",
    "        return score\n",
    "    "
   ]
  },
  {
   "cell_type": "code",
   "execution_count": null,
   "metadata": {
    "ExecuteTime": {
     "end_time": "2021-07-03T07:41:19.233842Z",
     "start_time": "2021-07-03T07:41:19.219841Z"
    }
   },
   "outputs": [],
   "source": []
  },
  {
   "cell_type": "code",
   "execution_count": 18,
   "metadata": {
    "ExecuteTime": {
     "end_time": "2021-07-03T09:48:57.941104Z",
     "start_time": "2021-07-03T09:48:57.927102Z"
    }
   },
   "outputs": [],
   "source": [
    "\n",
    "class BaseModel(nn.Module):\n",
    "    def __init__(self, input_size = (100, 3), output_size = 3):\n",
    "        super().__init__()\n",
    "        self.input_size = input_size\n",
    "        self.output_size = output_size\n",
    "        \n",
    "        self.tf = nn.Transformer(d_model = input_size[1], nhead = 4, num_encoder_layers  = 1, num_decoder_layers   = 1, dim_feedforward = 64)\n",
    "        \n",
    "        self.fc1 = nn.Linear( input_size[0] * input_size[1], 256)\n",
    "        self.fc2 = nn.Linear(256, 64)\n",
    "        self.fc3 = nn.Linear(64, output_size)\n",
    "        \n",
    "    def forward(self, x):\n",
    "        input_size = self.input_size \n",
    "        output_size = self.output_size\n",
    "        \n",
    "        x = self.tf(x, x)\n",
    "        \n",
    "        x = x.reshape(-1, input_size[0] * input_size[1])\n",
    "        x = self.fc1(x)\n",
    "        x = F.relu(x)\n",
    "        \n",
    "        x = self.fc2(x)\n",
    "        x = F.relu(x)\n",
    "        \n",
    "        x = self.fc3(x)\n",
    "        \n",
    "        return x"
   ]
  },
  {
   "cell_type": "code",
   "execution_count": 19,
   "metadata": {
    "ExecuteTime": {
     "end_time": "2021-07-03T09:48:59.036101Z",
     "start_time": "2021-07-03T09:48:57.942102Z"
    }
   },
   "outputs": [],
   "source": [
    "model = BaseModel((hyper_parameters['window_size'], len(features)), len(labels))\n",
    "model.to(device)\n",
    "# model.load_state_dict(torch.load(\"./models/Baseline3/model-4.pth\"))\n",
    "\n",
    "# loss_func = nn.SmoothL1Loss()\n",
    "loss_func = GPSLossScore()\n",
    "optimizer = optim.Adam(model.parameters(), lr = hyper_parameters['learning_rate'])\n",
    "scheduler = optim.lr_scheduler.ReduceLROnPlateau(optimizer=optimizer,\n",
    "                                                mode = 'min',\n",
    "                                                factor = 0.1,\n",
    "                                                patience = 5,\n",
    "                                                verbose = True)"
   ]
  },
  {
   "cell_type": "markdown",
   "metadata": {},
   "source": [
    "# Fit and Validate"
   ]
  },
  {
   "cell_type": "code",
   "execution_count": 20,
   "metadata": {
    "ExecuteTime": {
     "end_time": "2021-07-03T09:48:59.051101Z",
     "start_time": "2021-07-03T09:48:59.037105Z"
    }
   },
   "outputs": [],
   "source": [
    "def train(epoch, progress_log, status_log):\n",
    "    model.train()  # 신경망을 학습 모드로 전환\n",
    "\n",
    "    # 데이터로더에서 미니배치를 하나씩 꺼내 학습을 수행\n",
    "    predict = []\n",
    "    ground = []\n",
    "    \n",
    "    for data, targets, _ in progress_log:\n",
    "        \n",
    "        data = data.to(device)\n",
    "        targets = targets.to(device)\n",
    "        \n",
    "        optimizer.zero_grad()  # 경사를 0으로 초기화\n",
    "        outputs = model(data)  # 데이터를 입력하고 출력을 계산\n",
    "        loss = loss_func(outputs, targets)  # 출력과 훈련 데이터 정답 간의 오차를 계산\n",
    "        \n",
    "        loss.backward()  # 오차를 역전파 계산\n",
    "        optimizer.step()  # 역전파 계산한 값으로 가중치를 수정\n",
    "        \n",
    "        predict.append(outputs)\n",
    "        ground.append(targets)\n",
    "        \n",
    "        status_log.set_description_str(f\"train status: loss - {loss_func(outputs, targets)} | {loss_func.gps_loss(outputs, targets)}, score - {loss_func.gps_score(outputs, targets)}\")\n",
    "\n",
    "    # 정확도 출력\n",
    "    predict = torch.cat(predict,axis = 0)\n",
    "    ground = torch.cat(ground,axis = 0)\n",
    "    \n",
    "    loss = loss_func(predict, ground)\n",
    "    meas = loss_func.gps_score(predict, ground)\n",
    "    \n",
    "    scheduler.step(loss)\n",
    "    return loss, meas"
   ]
  },
  {
   "cell_type": "code",
   "execution_count": 21,
   "metadata": {
    "ExecuteTime": {
     "end_time": "2021-07-03T09:48:59.066101Z",
     "start_time": "2021-07-03T09:48:59.053102Z"
    }
   },
   "outputs": [],
   "source": [
    "def valid(progress_log, status_log):\n",
    "    model.eval()  # 신경망을 추론 모드로 전환\n",
    "\n",
    "    # 데이터로더에서 미니배치를 하나씩 꺼내 추론을 수행\n",
    "    predict = []\n",
    "    ground = []\n",
    "    \n",
    "    with torch.no_grad():  # 추론 과정에는 미분이 필요없음\n",
    "        for data, targets, _ in progress_log:\n",
    "            \n",
    "            data = data.to(device)\n",
    "            targets = targets.to(device)\n",
    "            \n",
    "            outputs = model(data)  # 데이터를 입력하고 출력을 계산\n",
    "            loss = loss_func(outputs, targets)  # 출력과 훈련 데이터 정답 간의 오차를 계산\n",
    "            \n",
    "            predict.append(outputs)\n",
    "            ground.append(targets)\n",
    "            \n",
    "        status_log.set_description_str(f\"valid status: loss - {loss_func(outputs, targets)} | {loss_func.gps_loss(outputs, targets)}, score - {loss_func.gps_score(outputs, targets)}\")\n",
    "    # 정확도 출력\n",
    "    predict = torch.cat(predict,axis = 0)\n",
    "    ground = torch.cat(ground,axis = 0)\n",
    "    \n",
    "    loss = loss_func(predict, ground)\n",
    "    meas = loss_func.gps_score(predict, ground)\n",
    "    return loss, meas"
   ]
  },
  {
   "cell_type": "code",
   "execution_count": 22,
   "metadata": {
    "ExecuteTime": {
     "end_time": "2021-07-03T09:48:59.081104Z",
     "start_time": "2021-07-03T09:48:59.067103Z"
    }
   },
   "outputs": [],
   "source": [
    "def test(dataloader):\n",
    "    model.eval()  # 신경망을 추론 모드로 전환\n",
    "    \n",
    "    output_list = []\n",
    "    with torch.no_grad():  # 추론 과정에는 미분이 필요없음\n",
    "        for data, _, index in tqdm(dataloader):\n",
    "            data = data.to(device)\n",
    "            outputs = model(data)  # 데이터를 입력하고 출력을 계산\n",
    "            \n",
    "            df_temp = pd.DataFrame()\n",
    "            df_temp['phone'] = index[0]\n",
    "            df_temp['millisSinceGpsEpoch'] = index[1]\n",
    "            df_temp[['latDeg', 'lngDeg', 'heightAboveWgs84EllipsoidM']] = outputs.to('cpu').numpy()\n",
    "            output_list.append(df_temp)\n",
    "    \n",
    "    predicts = pd.concat(output_list)\n",
    "    return predicts\n",
    "            "
   ]
  },
  {
   "cell_type": "code",
   "execution_count": null,
   "metadata": {
    "ExecuteTime": {
     "start_time": "2021-07-03T09:48:53.661Z"
    },
    "scrolled": false
   },
   "outputs": [
    {
     "data": {
      "application/vnd.jupyter.widget-view+json": {
       "model_id": "94793512a67949889752ce3c35f9f170",
       "version_major": 2,
       "version_minor": 0
      },
      "text/plain": [
       "EPOCH:   0%|          | 0/10000 [00:00<?, ?it/s]"
      ]
     },
     "metadata": {},
     "output_type": "display_data"
    },
    {
     "data": {
      "application/vnd.jupyter.widget-view+json": {
       "model_id": "5d329a7b020847c7b4d206ab7f0c3b34",
       "version_major": 2,
       "version_minor": 0
      },
      "text/plain": []
     },
     "metadata": {},
     "output_type": "display_data"
    },
    {
     "data": {
      "application/vnd.jupyter.widget-view+json": {
       "model_id": "507d6023f710434e8a892de10888352c",
       "version_major": 2,
       "version_minor": 0
      },
      "text/plain": []
     },
     "metadata": {},
     "output_type": "display_data"
    },
    {
     "data": {
      "application/vnd.jupyter.widget-view+json": {
       "model_id": "34098b24a2544cebad68174758ba0138",
       "version_major": 2,
       "version_minor": 0
      },
      "text/plain": []
     },
     "metadata": {},
     "output_type": "display_data"
    },
    {
     "data": {
      "application/vnd.jupyter.widget-view+json": {
       "model_id": "",
       "version_major": 2,
       "version_minor": 0
      },
      "text/plain": [
       "Train:   0%|          | 0/481 [00:00<?, ?it/s]"
      ]
     },
     "metadata": {},
     "output_type": "display_data"
    },
    {
     "data": {
      "application/vnd.jupyter.widget-view+json": {
       "model_id": "",
       "version_major": 2,
       "version_minor": 0
      },
      "text/plain": [
       "Valid:   0%|          | 0/47 [00:00<?, ?it/s]"
      ]
     },
     "metadata": {},
     "output_type": "display_data"
    },
    {
     "name": "stdout",
     "output_type": "stream",
     "text": [
      "train status: loss - 10028632.0, score - 13478128.0,          valid status: loss - 5137230.0, score - 5141440.0\n"
     ]
    },
    {
     "data": {
      "application/vnd.jupyter.widget-view+json": {
       "model_id": "",
       "version_major": 2,
       "version_minor": 0
      },
      "text/plain": [
       "Train:   0%|          | 0/481 [00:00<?, ?it/s]"
      ]
     },
     "metadata": {},
     "output_type": "display_data"
    },
    {
     "data": {
      "application/vnd.jupyter.widget-view+json": {
       "model_id": "",
       "version_major": 2,
       "version_minor": 0
      },
      "text/plain": [
       "Valid:   0%|          | 0/47 [00:00<?, ?it/s]"
      ]
     },
     "metadata": {},
     "output_type": "display_data"
    },
    {
     "name": "stdout",
     "output_type": "stream",
     "text": [
      "train status: loss - 9986337.0, score - 13420101.0,          valid status: loss - 3506903.75, score - 3509914.0\n"
     ]
    },
    {
     "data": {
      "application/vnd.jupyter.widget-view+json": {
       "model_id": "",
       "version_major": 2,
       "version_minor": 0
      },
      "text/plain": [
       "Train:   0%|          | 0/481 [00:00<?, ?it/s]"
      ]
     },
     "metadata": {},
     "output_type": "display_data"
    },
    {
     "data": {
      "application/vnd.jupyter.widget-view+json": {
       "model_id": "",
       "version_major": 2,
       "version_minor": 0
      },
      "text/plain": [
       "Valid:   0%|          | 0/47 [00:00<?, ?it/s]"
      ]
     },
     "metadata": {},
     "output_type": "display_data"
    },
    {
     "name": "stdout",
     "output_type": "stream",
     "text": [
      "train status: loss - 10008441.0, score - 13438660.0,          valid status: loss - 6711138.5, score - 6717090.0\n"
     ]
    },
    {
     "data": {
      "application/vnd.jupyter.widget-view+json": {
       "model_id": "",
       "version_major": 2,
       "version_minor": 0
      },
      "text/plain": [
       "Train:   0%|          | 0/481 [00:00<?, ?it/s]"
      ]
     },
     "metadata": {},
     "output_type": "display_data"
    },
    {
     "data": {
      "application/vnd.jupyter.widget-view+json": {
       "model_id": "",
       "version_major": 2,
       "version_minor": 0
      },
      "text/plain": [
       "Valid:   0%|          | 0/47 [00:00<?, ?it/s]"
      ]
     },
     "metadata": {},
     "output_type": "display_data"
    },
    {
     "name": "stdout",
     "output_type": "stream",
     "text": [
      "train status: loss - 9068608.0, score - 12098328.0,          valid status: loss - 5156057.0, score - 5160302.0\n"
     ]
    },
    {
     "data": {
      "application/vnd.jupyter.widget-view+json": {
       "model_id": "",
       "version_major": 2,
       "version_minor": 0
      },
      "text/plain": [
       "Train:   0%|          | 0/481 [00:00<?, ?it/s]"
      ]
     },
     "metadata": {},
     "output_type": "display_data"
    },
    {
     "data": {
      "application/vnd.jupyter.widget-view+json": {
       "model_id": "",
       "version_major": 2,
       "version_minor": 0
      },
      "text/plain": [
       "Valid:   0%|          | 0/47 [00:00<?, ?it/s]"
      ]
     },
     "metadata": {},
     "output_type": "display_data"
    },
    {
     "name": "stdout",
     "output_type": "stream",
     "text": [
      "train status: loss - 2206619.75, score - 3532056.0,          valid status: loss - 16880.751953125, score - 26490.232421875\n"
     ]
    },
    {
     "data": {
      "application/vnd.jupyter.widget-view+json": {
       "model_id": "",
       "version_major": 2,
       "version_minor": 0
      },
      "text/plain": [
       "Train:   0%|          | 0/481 [00:00<?, ?it/s]"
      ]
     },
     "metadata": {},
     "output_type": "display_data"
    },
    {
     "data": {
      "application/vnd.jupyter.widget-view+json": {
       "model_id": "",
       "version_major": 2,
       "version_minor": 0
      },
      "text/plain": [
       "Valid:   0%|          | 0/47 [00:00<?, ?it/s]"
      ]
     },
     "metadata": {},
     "output_type": "display_data"
    },
    {
     "name": "stdout",
     "output_type": "stream",
     "text": [
      "train status: loss - 12932.69140625, score - 21835.375,          valid status: loss - 17361.0546875, score - 27813.443359375\n"
     ]
    },
    {
     "data": {
      "application/vnd.jupyter.widget-view+json": {
       "model_id": "",
       "version_major": 2,
       "version_minor": 0
      },
      "text/plain": [
       "Train:   0%|          | 0/481 [00:00<?, ?it/s]"
      ]
     },
     "metadata": {},
     "output_type": "display_data"
    },
    {
     "data": {
      "application/vnd.jupyter.widget-view+json": {
       "model_id": "",
       "version_major": 2,
       "version_minor": 0
      },
      "text/plain": [
       "Valid:   0%|          | 0/47 [00:00<?, ?it/s]"
      ]
     },
     "metadata": {},
     "output_type": "display_data"
    },
    {
     "name": "stdout",
     "output_type": "stream",
     "text": [
      "train status: loss - 12940.0751953125, score - 21784.7890625,          valid status: loss - 16891.7890625, score - 26432.130859375\n"
     ]
    },
    {
     "data": {
      "application/vnd.jupyter.widget-view+json": {
       "model_id": "",
       "version_major": 2,
       "version_minor": 0
      },
      "text/plain": [
       "Train:   0%|          | 0/481 [00:00<?, ?it/s]"
      ]
     },
     "metadata": {},
     "output_type": "display_data"
    },
    {
     "data": {
      "application/vnd.jupyter.widget-view+json": {
       "model_id": "",
       "version_major": 2,
       "version_minor": 0
      },
      "text/plain": [
       "Valid:   0%|          | 0/47 [00:00<?, ?it/s]"
      ]
     },
     "metadata": {},
     "output_type": "display_data"
    },
    {
     "name": "stdout",
     "output_type": "stream",
     "text": [
      "train status: loss - 12959.2294921875, score - 21783.681640625,          valid status: loss - 17323.1484375, score - 27773.703125\n"
     ]
    },
    {
     "data": {
      "application/vnd.jupyter.widget-view+json": {
       "model_id": "",
       "version_major": 2,
       "version_minor": 0
      },
      "text/plain": [
       "Train:   0%|          | 0/481 [00:00<?, ?it/s]"
      ]
     },
     "metadata": {},
     "output_type": "display_data"
    },
    {
     "data": {
      "application/vnd.jupyter.widget-view+json": {
       "model_id": "",
       "version_major": 2,
       "version_minor": 0
      },
      "text/plain": [
       "Valid:   0%|          | 0/47 [00:00<?, ?it/s]"
      ]
     },
     "metadata": {},
     "output_type": "display_data"
    },
    {
     "name": "stdout",
     "output_type": "stream",
     "text": [
      "train status: loss - 12989.669921875, score - 21681.359375,          valid status: loss - 17115.271484375, score - 27413.93359375\n"
     ]
    },
    {
     "data": {
      "application/vnd.jupyter.widget-view+json": {
       "model_id": "",
       "version_major": 2,
       "version_minor": 0
      },
      "text/plain": [
       "Train:   0%|          | 0/481 [00:00<?, ?it/s]"
      ]
     },
     "metadata": {},
     "output_type": "display_data"
    },
    {
     "data": {
      "application/vnd.jupyter.widget-view+json": {
       "model_id": "",
       "version_major": 2,
       "version_minor": 0
      },
      "text/plain": [
       "Valid:   0%|          | 0/47 [00:00<?, ?it/s]"
      ]
     },
     "metadata": {},
     "output_type": "display_data"
    },
    {
     "name": "stdout",
     "output_type": "stream",
     "text": [
      "train status: loss - 12992.298828125, score - 21669.66015625,          valid status: loss - 16799.505859375, score - 22181.76171875\n"
     ]
    },
    {
     "data": {
      "application/vnd.jupyter.widget-view+json": {
       "model_id": "f8c985379dc8455699fbfecde3b04a05",
       "version_major": 2,
       "version_minor": 0
      },
      "text/plain": [
       "Train:   0%|          | 0/481 [00:00<?, ?it/s]"
      ]
     },
     "metadata": {},
     "output_type": "display_data"
    },
    {
     "data": {
      "application/vnd.jupyter.widget-view+json": {
       "model_id": "5bdee9c82e354e3d82a71c2651a50202",
       "version_major": 2,
       "version_minor": 0
      },
      "text/plain": [
       "Valid:   0%|          | 0/47 [00:00<?, ?it/s]"
      ]
     },
     "metadata": {},
     "output_type": "display_data"
    }
   ],
   "source": [
    "train_loss_list = []\n",
    "train_meas_list = []\n",
    "valid_loss_list = []\n",
    "valid_meas_list = []\n",
    "\n",
    "patience_count = 0\n",
    "min_valid_meas = np.inf\n",
    "checkpoint_name = \"\"\n",
    "\n",
    "epoch_prog = tqdm(range(hyper_parameters['nepochs']), position = 0, desc = \"EPOCH\")\n",
    "epoch_status_log = tqdm(total=0, position = 2, bar_format='{desc}')\n",
    "train_status_log = tqdm(total=0, position = 3, bar_format='{desc}')\n",
    "valid_status_log = tqdm(total=0, position = 4, bar_format='{desc}')\n",
    "\n",
    "if not os.path.isdir(f\"./models/{hyper_parameters['notebookName']}/model-{num_files}_checkpoint/\"):\n",
    "    os.mkdir(f\"./models/{hyper_parameters['notebookName']}/model-{num_files}_checkpoint/\")\n",
    "    \n",
    "for epoch in epoch_prog:\n",
    "    train_prog = tqdm(train_loader, position = 5, desc = 'Train', leave = False)\n",
    "    valid_prog = tqdm(valid_loader, position = 6, desc = 'Valid', leave = False)\n",
    "\n",
    "    train_loss, train_meas = train(epoch, train_prog, train_status_log)\n",
    "    valid_loss, valid_meas = valid(valid_prog, valid_status_log)\n",
    "    \n",
    "    if valid_meas < min_valid_meas:\n",
    "        min_valid_meas = valid_meas\n",
    "        checkpoint_name = f\"./models/{hyper_parameters['notebookName']}/model-{num_files}_checkpoint/model-{epoch}-{min_valid_meas}.pth\"\n",
    "        torch.save(model.state_dict(), checkpoint_name)\n",
    "    else:\n",
    "        patience_count+=1\n",
    "        if(patience_count > hyper_parameters['max_patience_count']):\n",
    "            break\n",
    "    \n",
    "    train_loss_list.append(train_loss)\n",
    "    train_meas_list.append(train_meas)\n",
    "    valid_loss_list.append(valid_loss)\n",
    "    valid_meas_list.append(valid_meas)\n",
    "    \n",
    "    status = f\"train status: loss - {train_loss}, score - {train_meas},  \\\n",
    "        valid status: loss - {valid_loss}, score - {valid_meas}\"\n",
    "    epoch_status_log.set_description_str(status)\n",
    "\n",
    "    print(status)\n",
    "\n",
    "history = dict()\n",
    "history['train_loss'] = train_loss_list\n",
    "history['train_meas'] = train_meas_list\n",
    "history['valid_loss'] = valid_loss_list\n",
    "history['valid_meas'] = valid_meas_list\n"
   ]
  },
  {
   "cell_type": "code",
   "execution_count": null,
   "metadata": {
    "ExecuteTime": {
     "start_time": "2021-07-03T09:48:53.666Z"
    }
   },
   "outputs": [],
   "source": [
    "plt.figure(figsize = (16,6))\n",
    "plt.subplot(2,1,1)\n",
    "plt.plot(history['train_loss'], label = 'train')\n",
    "plt.plot(history['valid_loss'], label = 'valid')\n",
    "plt.ylabel('loss')\n",
    "plt.yscale('log')\n",
    "\n",
    "plt.subplot(2,1,2)\n",
    "plt.plot(history['train_meas'], label = 'train')\n",
    "plt.plot(history['valid_meas'], label = 'valid')\n",
    "plt.ylabel('meas')\n",
    "plt.yscale('log')"
   ]
  },
  {
   "cell_type": "markdown",
   "metadata": {},
   "source": [
    "#  Output"
   ]
  },
  {
   "cell_type": "code",
   "execution_count": null,
   "metadata": {
    "ExecuteTime": {
     "start_time": "2021-07-03T09:48:53.714Z"
    }
   },
   "outputs": [],
   "source": [
    "# Load submission sample\n",
    "submission = pd.read_csv(str(data_dir / \"sample_submission.csv\"))\n",
    "print(submission.shape)\n",
    "submission.head()"
   ]
  },
  {
   "cell_type": "code",
   "execution_count": null,
   "metadata": {
    "ExecuteTime": {
     "start_time": "2021-07-03T09:48:53.719Z"
    }
   },
   "outputs": [],
   "source": [
    "model.load_state_dict(torch.load(checkpoint_name))\n",
    "torch.save(model.state_dict(), f\"./models/{hyper_parameters['notebookName']}/model-{num_files}_checkpoint/model-{epoch}-{min_valid_meas}.pth\")"
   ]
  },
  {
   "cell_type": "code",
   "execution_count": null,
   "metadata": {
    "ExecuteTime": {
     "start_time": "2021-07-03T09:48:53.724Z"
    }
   },
   "outputs": [],
   "source": [
    "predict = test(test_loader)\n",
    "print(predict.shape)\n",
    "predict.head()"
   ]
  },
  {
   "cell_type": "code",
   "execution_count": null,
   "metadata": {
    "ExecuteTime": {
     "start_time": "2021-07-03T09:48:53.728Z"
    }
   },
   "outputs": [],
   "source": [
    "submission = submission[['phone', 'millisSinceGpsEpoch']].merge(predict[['phone', 'millisSinceGpsEpoch', 'latDeg', 'lngDeg']]\n",
    "                                                                , on = ['phone', 'millisSinceGpsEpoch'])\n",
    "print(submission.shape)\n",
    "submission.head()"
   ]
  },
  {
   "cell_type": "code",
   "execution_count": null,
   "metadata": {
    "ExecuteTime": {
     "start_time": "2021-07-03T09:48:53.732Z"
    }
   },
   "outputs": [],
   "source": [
    "submission.to_csv(f\"./models/{hyper_parameters['notebookName']}/result-{num_files}esult.csv\", index = False)\n",
    "pd.DataFrame([]).to_csv(PATH / f\"{num_files}\")"
   ]
  },
  {
   "cell_type": "code",
   "execution_count": null,
   "metadata": {},
   "outputs": [],
   "source": []
  }
 ],
 "metadata": {
  "hide_input": false,
  "kernelspec": {
   "display_name": "torch",
   "language": "python",
   "name": "torch"
  },
  "language_info": {
   "codemirror_mode": {
    "name": "ipython",
    "version": 3
   },
   "file_extension": ".py",
   "mimetype": "text/x-python",
   "name": "python",
   "nbconvert_exporter": "python",
   "pygments_lexer": "ipython3",
   "version": "3.6.12"
  },
  "latex_envs": {
   "LaTeX_envs_menu_present": true,
   "autoclose": false,
   "autocomplete": true,
   "bibliofile": "biblio.bib",
   "cite_by": "apalike",
   "current_citInitial": 1,
   "eqLabelWithNumbers": true,
   "eqNumInitial": 1,
   "hotkeys": {
    "equation": "Ctrl-E",
    "itemize": "Ctrl-I"
   },
   "labels_anchors": false,
   "latex_user_defs": false,
   "report_style_numbering": false,
   "user_envs_cfg": false
  },
  "toc": {
   "base_numbering": 1,
   "nav_menu": {},
   "number_sections": true,
   "sideBar": true,
   "skip_h1_title": false,
   "title_cell": "Table of Contents",
   "title_sidebar": "Contents",
   "toc_cell": false,
   "toc_position": {},
   "toc_section_display": true,
   "toc_window_display": false
  },
  "varInspector": {
   "cols": {
    "lenName": 16,
    "lenType": 16,
    "lenVar": 40
   },
   "kernels_config": {
    "python": {
     "delete_cmd_postfix": "",
     "delete_cmd_prefix": "del ",
     "library": "var_list.py",
     "varRefreshCmd": "print(var_dic_list())"
    },
    "r": {
     "delete_cmd_postfix": ") ",
     "delete_cmd_prefix": "rm(",
     "library": "var_list.r",
     "varRefreshCmd": "cat(var_dic_list()) "
    }
   },
   "types_to_exclude": [
    "module",
    "function",
    "builtin_function_or_method",
    "instance",
    "_Feature"
   ],
   "window_display": false
  }
 },
 "nbformat": 4,
 "nbformat_minor": 4
}
