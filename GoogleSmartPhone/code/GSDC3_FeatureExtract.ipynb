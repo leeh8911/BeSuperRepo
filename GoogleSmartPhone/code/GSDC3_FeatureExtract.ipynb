{
 "cells": [
  {
   "cell_type": "markdown",
   "metadata": {},
   "source": [
    "# Load Libraries"
   ]
  },
  {
   "cell_type": "code",
   "execution_count": 1,
   "metadata": {
    "ExecuteTime": {
     "end_time": "2021-07-03T02:09:04.343497Z",
     "start_time": "2021-07-03T02:09:01.585501Z"
    }
   },
   "outputs": [],
   "source": [
    "import numpy as np\n",
    "import pandas as pd\n",
    "from glob import glob\n",
    "import os\n",
    "import matplotlib.pyplot as plt\n",
    "from tqdm.notebook import tqdm\n",
    "from pathlib import Path\n",
    "import plotly.express as px\n",
    "\n",
    "import torch\n",
    "import torch.nn as nn\n",
    "import torch.nn.functional as F\n",
    "import torch.optim as optim\n",
    "from torch.utils.data import TensorDataset, DataLoader\n",
    "from sklearn.model_selection import train_test_split\n",
    "from sklearn.preprocessing import StandardScaler, MinMaxScaler"
   ]
  },
  {
   "cell_type": "markdown",
   "metadata": {},
   "source": [
    "# Set Path"
   ]
  },
  {
   "cell_type": "code",
   "execution_count": 2,
   "metadata": {
    "ExecuteTime": {
     "end_time": "2021-07-03T02:09:04.358498Z",
     "start_time": "2021-07-03T02:09:04.344500Z"
    }
   },
   "outputs": [],
   "source": [
    "data_dir = Path(\"../input/google-smartphone-decimeter-challenge\")"
   ]
  },
  {
   "cell_type": "markdown",
   "metadata": {},
   "source": [
    "# Load Data"
   ]
  },
  {
   "cell_type": "code",
   "execution_count": 3,
   "metadata": {
    "ExecuteTime": {
     "end_time": "2021-07-03T02:09:04.448498Z",
     "start_time": "2021-07-03T02:09:04.360499Z"
    }
   },
   "outputs": [],
   "source": [
    "df_train = pd.read_pickle(str(data_dir / \"gsdc_cleaned_train.pkl.gzip\"))"
   ]
  },
  {
   "cell_type": "code",
   "execution_count": 4,
   "metadata": {
    "ExecuteTime": {
     "end_time": "2021-07-03T02:09:04.509047Z",
     "start_time": "2021-07-03T02:09:04.449499Z"
    }
   },
   "outputs": [],
   "source": [
    "df_test = pd.read_pickle(str(data_dir / \"gsdc_cleaned_test.pkl.gzip\"))"
   ]
  },
  {
   "cell_type": "code",
   "execution_count": 5,
   "metadata": {
    "ExecuteTime": {
     "end_time": "2021-07-03T02:09:04.524050Z",
     "start_time": "2021-07-03T02:09:04.510049Z"
    },
    "scrolled": true
   },
   "outputs": [
    {
     "name": "stdout",
     "output_type": "stream",
     "text": [
      "collectionName\n",
      "phoneName\n",
      "millisSinceGpsEpoch\n",
      "latDeg\n",
      "lngDeg\n",
      "heightAboveWgs84EllipsoidM\n",
      "phone\n",
      "timeSinceFirstFixSeconds\n",
      "hDop\n",
      "vDop\n",
      "speedMps\n",
      "courseDegree\n",
      "t_latDeg\n",
      "t_lngDeg\n",
      "t_heightAboveWgs84EllipsoidM\n",
      "constellationType\n",
      "svid\n",
      "signalType\n",
      "receivedSvTimeInGpsNanos\n",
      "xSatPosM\n",
      "ySatPosM\n",
      "zSatPosM\n",
      "xSatVelMps\n",
      "ySatVelMps\n",
      "zSatVelMps\n",
      "satClkBiasM\n",
      "satClkDriftMps\n",
      "rawPrM\n",
      "rawPrUncM\n",
      "isrbM\n",
      "ionoDelayM\n",
      "tropoDelayM\n",
      "utcTimeMillis\n",
      "TimeNanos\n",
      "LeapSecond\n",
      "FullBiasNanos\n",
      "BiasNanos\n",
      "BiasUncertaintyNanos\n",
      "DriftNanosPerSecond\n",
      "DriftUncertaintyNanosPerSecond\n",
      "HardwareClockDiscontinuityCount\n",
      "Svid\n",
      "TimeOffsetNanos\n",
      "State\n",
      "ReceivedSvTimeNanos\n",
      "ReceivedSvTimeUncertaintyNanos\n",
      "Cn0DbHz\n",
      "PseudorangeRateMetersPerSecond\n",
      "PseudorangeRateUncertaintyMetersPerSecond\n",
      "AccumulatedDeltaRangeState\n",
      "AccumulatedDeltaRangeMeters\n",
      "AccumulatedDeltaRangeUncertaintyMeters\n",
      "CarrierFrequencyHz\n",
      "MultipathIndicator\n",
      "ConstellationType\n",
      "AgcDb\n",
      "BasebandCn0DbHz\n",
      "FullInterSignalBiasNanos\n",
      "FullInterSignalBiasUncertaintyNanos\n",
      "SatelliteInterSignalBiasNanos\n",
      "SatelliteInterSignalBiasUncertaintyNanos\n",
      "CodeType\n",
      "ChipsetElapsedRealtimeNanos\n",
      "utcTimeMillis_UncalGyro\n",
      "elapsedRealtimeNanos\n",
      "UncalGyroXRadPerSec\n",
      "UncalGyroYRadPerSec\n",
      "UncalGyroZRadPerSec\n",
      "DriftXRadPerSec\n",
      "DriftYRadPerSec\n",
      "DriftZRadPerSec\n",
      "utcTimeMillis_Status\n",
      "SignalCount\n",
      "SignalIndex\n",
      "ConstellationType_Status\n",
      "Svid_Status\n",
      "CarrierFrequencyHz_Status\n",
      "Cn0DbHz_Status\n",
      "AzimuthDegrees\n",
      "ElevationDegrees\n",
      "UsedInFix\n",
      "HasAlmanacData\n",
      "HasEphemerisData\n",
      "BasebandCn0DbHz_Status\n",
      "utcTimeMillis_UncalAccel\n",
      "elapsedRealtimeNanos_UncalAccel\n",
      "UncalAccelXMps2\n",
      "UncalAccelYMps2\n",
      "UncalAccelZMps2\n",
      "BiasXMps2\n",
      "BiasYMps2\n",
      "BiasZMps2\n",
      "utcTimeMillis_UncalMag\n",
      "elapsedRealtimeNanos_UncalMag\n",
      "UncalMagXMicroT\n",
      "UncalMagYMicroT\n",
      "UncalMagZMicroT\n",
      "BiasXMicroT\n",
      "BiasYMicroT\n",
      "BiasZMicroT\n",
      "utcTimeMillis_OrientationDeg\n",
      "elapsedRealtimeNanos_OrientationDeg\n",
      "yawDeg\n",
      "rollDeg\n",
      "pitchDeg\n"
     ]
    }
   ],
   "source": [
    "for col in df_train.columns:\n",
    "    print(col)"
   ]
  },
  {
   "cell_type": "markdown",
   "metadata": {},
   "source": [
    "# Extract Data"
   ]
  },
  {
   "cell_type": "markdown",
   "metadata": {},
   "source": [
    "## Get dlatDeg, dlngDeg, dheightAboveWgs84EllipsoidM"
   ]
  },
  {
   "cell_type": "code",
   "execution_count": 6,
   "metadata": {
    "ExecuteTime": {
     "end_time": "2021-07-03T02:09:04.539059Z",
     "start_time": "2021-07-03T02:09:04.525049Z"
    }
   },
   "outputs": [],
   "source": [
    "def getDeltaPositions(df:pd.DataFrame)->pd.DataFrame:\n",
    "    output = df.copy()\n",
    "    phones = output['phone'].unique()\n",
    "    output[['dlatDeg', 'dlngDeg', 'dheight']] = 0\n",
    "    for phone in phones:\n",
    "        latDeg = output.loc[output['phone'] == phone, 'latDeg']\n",
    "        output.loc[output['phone'] == phone, 'dlatDeg'] = latDeg - latDeg.iloc[0]\n",
    "        \n",
    "        lngDeg = output.loc[output['phone'] == phone, 'lngDeg']\n",
    "        output.loc[output['phone'] == phone, 'dlngDeg'] = lngDeg - lngDeg.iloc[0]\n",
    "        \n",
    "        heightAboveWgs84EllipsoidM = output.loc[output['phone'] == phone, 'heightAboveWgs84EllipsoidM']\n",
    "        output.loc[output['phone'] == phone, 'dheight'] = heightAboveWgs84EllipsoidM - heightAboveWgs84EllipsoidM.iloc[0]\n",
    "        \n",
    "    return output"
   ]
  },
  {
   "cell_type": "code",
   "execution_count": 7,
   "metadata": {
    "ExecuteTime": {
     "end_time": "2021-07-03T02:09:08.486066Z",
     "start_time": "2021-07-03T02:09:04.540056Z"
    }
   },
   "outputs": [],
   "source": [
    "df_train = getDeltaPositions(df_train)\n",
    "df_test = getDeltaPositions(df_test)"
   ]
  },
  {
   "cell_type": "markdown",
   "metadata": {},
   "source": [
    "## Scaler"
   ]
  },
  {
   "cell_type": "code",
   "execution_count": 8,
   "metadata": {
    "ExecuteTime": {
     "end_time": "2021-07-03T02:09:08.501066Z",
     "start_time": "2021-07-03T02:09:08.488058Z"
    }
   },
   "outputs": [],
   "source": [
    "class Scaler():\n",
    "    def __init__(self, target_columns):\n",
    "        self.target_columns = target_columns\n",
    "        self.renames_columns = [name + \"_Scaled\" for name in target_columns]\n",
    "        self.scaler = dict()\n",
    "        for name in target_columns:\n",
    "            self.scaler[name] = StandardScaler()\n",
    "            \n",
    "    def fit(self, df:pd.DataFrame):\n",
    "        for col in self.target_columns:\n",
    "            self.scaler[col].fit(df[col].values.reshape(-1, 1))\n",
    "            \n",
    "    def transform(self, df:pd.DataFrame):\n",
    "        output = df.copy()\n",
    "        for col,recol in zip(self.target_columns, self.renames_columns):\n",
    "            output[recol] = self.scaler[col].transform(df[col].values.reshape(-1, 1))\n",
    "            output[recol].fillna(0, inplace = True)\n",
    "        return output\n",
    "        \n",
    "    "
   ]
  },
  {
   "cell_type": "code",
   "execution_count": 9,
   "metadata": {
    "ExecuteTime": {
     "end_time": "2021-07-03T02:09:08.516056Z",
     "start_time": "2021-07-03T02:09:08.502066Z"
    }
   },
   "outputs": [],
   "source": [
    "target_columns = ['dlatDeg', 'dlngDeg', 'dheight',\n",
    "                 'xSatPosM', 'ySatPosM', 'zSatPosM', 'xSatVelMps', 'ySatVelMps', 'zSatVelMps',\n",
    "                  'UncalGyroXRadPerSec', 'UncalGyroYRadPerSec', 'UncalGyroZRadPerSec', \n",
    "                  'DriftXRadPerSec', 'DriftYRadPerSec', 'DriftZRadPerSec', \n",
    "                  'UncalAccelXMps2', 'UncalAccelYMps2', 'UncalAccelZMps2', 'BiasXMps2', 'BiasYMps2', 'BiasZMps2',\n",
    "                  'UncalMagXMicroT', 'UncalMagYMicroT', 'UncalMagZMicroT', 'BiasXMicroT', 'BiasYMicroT', 'BiasZMicroT',\n",
    "                  'yawDeg', 'rollDeg', 'pitchDeg'\n",
    "                 ]"
   ]
  },
  {
   "cell_type": "code",
   "execution_count": 10,
   "metadata": {
    "ExecuteTime": {
     "end_time": "2021-07-03T02:09:08.696055Z",
     "start_time": "2021-07-03T02:09:08.517056Z"
    }
   },
   "outputs": [],
   "source": [
    "scaler = Scaler(target_columns)\n",
    "scaler.fit(df_train)\n",
    "\n",
    "df_train = scaler.transform(df_train)\n",
    "df_test = scaler.transform(df_test)"
   ]
  },
  {
   "cell_type": "code",
   "execution_count": 11,
   "metadata": {
    "ExecuteTime": {
     "end_time": "2021-07-03T02:09:08.996058Z",
     "start_time": "2021-07-03T02:09:08.697056Z"
    }
   },
   "outputs": [
    {
     "data": {
      "text/html": [
       "<div>\n",
       "<style scoped>\n",
       "    .dataframe tbody tr th:only-of-type {\n",
       "        vertical-align: middle;\n",
       "    }\n",
       "\n",
       "    .dataframe tbody tr th {\n",
       "        vertical-align: top;\n",
       "    }\n",
       "\n",
       "    .dataframe thead th {\n",
       "        text-align: right;\n",
       "    }\n",
       "</style>\n",
       "<table border=\"1\" class=\"dataframe\">\n",
       "  <thead>\n",
       "    <tr style=\"text-align: right;\">\n",
       "      <th></th>\n",
       "      <th>dlatDeg_Scaled</th>\n",
       "      <th>dlngDeg_Scaled</th>\n",
       "      <th>dheight_Scaled</th>\n",
       "      <th>xSatPosM_Scaled</th>\n",
       "      <th>ySatPosM_Scaled</th>\n",
       "      <th>zSatPosM_Scaled</th>\n",
       "      <th>xSatVelMps_Scaled</th>\n",
       "      <th>ySatVelMps_Scaled</th>\n",
       "      <th>zSatVelMps_Scaled</th>\n",
       "      <th>UncalGyroXRadPerSec_Scaled</th>\n",
       "      <th>...</th>\n",
       "      <th>BiasZMps2_Scaled</th>\n",
       "      <th>UncalMagXMicroT_Scaled</th>\n",
       "      <th>UncalMagYMicroT_Scaled</th>\n",
       "      <th>UncalMagZMicroT_Scaled</th>\n",
       "      <th>BiasXMicroT_Scaled</th>\n",
       "      <th>BiasYMicroT_Scaled</th>\n",
       "      <th>BiasZMicroT_Scaled</th>\n",
       "      <th>yawDeg_Scaled</th>\n",
       "      <th>rollDeg_Scaled</th>\n",
       "      <th>pitchDeg_Scaled</th>\n",
       "    </tr>\n",
       "  </thead>\n",
       "  <tbody>\n",
       "    <tr>\n",
       "      <th>count</th>\n",
       "      <td>1.313420e+05</td>\n",
       "      <td>1.313420e+05</td>\n",
       "      <td>1.313420e+05</td>\n",
       "      <td>1.313420e+05</td>\n",
       "      <td>1.313420e+05</td>\n",
       "      <td>1.313420e+05</td>\n",
       "      <td>1.313420e+05</td>\n",
       "      <td>1.313420e+05</td>\n",
       "      <td>1.313420e+05</td>\n",
       "      <td>1.313420e+05</td>\n",
       "      <td>...</td>\n",
       "      <td>1.313420e+05</td>\n",
       "      <td>1.313420e+05</td>\n",
       "      <td>1.313420e+05</td>\n",
       "      <td>1.313420e+05</td>\n",
       "      <td>1.313420e+05</td>\n",
       "      <td>1.313420e+05</td>\n",
       "      <td>1.313420e+05</td>\n",
       "      <td>1.313420e+05</td>\n",
       "      <td>1.313420e+05</td>\n",
       "      <td>1.313420e+05</td>\n",
       "    </tr>\n",
       "    <tr>\n",
       "      <th>mean</th>\n",
       "      <td>5.390932e-17</td>\n",
       "      <td>-7.898406e-18</td>\n",
       "      <td>5.193472e-17</td>\n",
       "      <td>-3.786907e-17</td>\n",
       "      <td>-8.926280e-17</td>\n",
       "      <td>-1.276729e-17</td>\n",
       "      <td>7.487256e-17</td>\n",
       "      <td>1.244269e-17</td>\n",
       "      <td>1.890748e-17</td>\n",
       "      <td>-4.091212e-18</td>\n",
       "      <td>...</td>\n",
       "      <td>-8.461032e-17</td>\n",
       "      <td>1.765240e-16</td>\n",
       "      <td>-8.222998e-18</td>\n",
       "      <td>1.493123e-17</td>\n",
       "      <td>-8.114800e-18</td>\n",
       "      <td>-6.491840e-19</td>\n",
       "      <td>3.949203e-18</td>\n",
       "      <td>-4.744453e-17</td>\n",
       "      <td>-1.666239e-17</td>\n",
       "      <td>2.185586e-17</td>\n",
       "    </tr>\n",
       "    <tr>\n",
       "      <th>std</th>\n",
       "      <td>1.000004e+00</td>\n",
       "      <td>1.000004e+00</td>\n",
       "      <td>1.000004e+00</td>\n",
       "      <td>1.000004e+00</td>\n",
       "      <td>1.000004e+00</td>\n",
       "      <td>1.000004e+00</td>\n",
       "      <td>1.000004e+00</td>\n",
       "      <td>1.000004e+00</td>\n",
       "      <td>1.000004e+00</td>\n",
       "      <td>9.308231e-01</td>\n",
       "      <td>...</td>\n",
       "      <td>7.542804e-01</td>\n",
       "      <td>9.307495e-01</td>\n",
       "      <td>9.307495e-01</td>\n",
       "      <td>9.306759e-01</td>\n",
       "      <td>7.541188e-01</td>\n",
       "      <td>7.541188e-01</td>\n",
       "      <td>7.540280e-01</td>\n",
       "      <td>5.278070e-01</td>\n",
       "      <td>5.276843e-01</td>\n",
       "      <td>5.276843e-01</td>\n",
       "    </tr>\n",
       "    <tr>\n",
       "      <th>min</th>\n",
       "      <td>-3.367212e+00</td>\n",
       "      <td>-2.837517e+00</td>\n",
       "      <td>-8.485201e+01</td>\n",
       "      <td>-1.824201e+00</td>\n",
       "      <td>-1.533469e+00</td>\n",
       "      <td>-2.896326e+00</td>\n",
       "      <td>-2.966502e+00</td>\n",
       "      <td>-2.135619e+00</td>\n",
       "      <td>-1.592272e+00</td>\n",
       "      <td>-2.147876e+01</td>\n",
       "      <td>...</td>\n",
       "      <td>-2.065078e+00</td>\n",
       "      <td>-3.683841e+00</td>\n",
       "      <td>-3.661762e+00</td>\n",
       "      <td>-3.285377e+00</td>\n",
       "      <td>-3.146779e+00</td>\n",
       "      <td>-1.970667e+00</td>\n",
       "      <td>-2.886818e+00</td>\n",
       "      <td>-1.577129e+00</td>\n",
       "      <td>-1.465147e+00</td>\n",
       "      <td>-7.969673e-01</td>\n",
       "    </tr>\n",
       "    <tr>\n",
       "      <th>25%</th>\n",
       "      <td>-1.426406e-01</td>\n",
       "      <td>-2.570525e-01</td>\n",
       "      <td>-3.623789e-01</td>\n",
       "      <td>-7.641287e-01</td>\n",
       "      <td>-7.586592e-01</td>\n",
       "      <td>-7.307094e-01</td>\n",
       "      <td>-6.466295e-01</td>\n",
       "      <td>-7.540929e-01</td>\n",
       "      <td>-1.008162e+00</td>\n",
       "      <td>-2.254101e-01</td>\n",
       "      <td>...</td>\n",
       "      <td>0.000000e+00</td>\n",
       "      <td>-4.797574e-01</td>\n",
       "      <td>-5.900799e-02</td>\n",
       "      <td>-3.370902e-01</td>\n",
       "      <td>-2.461699e-01</td>\n",
       "      <td>0.000000e+00</td>\n",
       "      <td>-3.088827e-01</td>\n",
       "      <td>0.000000e+00</td>\n",
       "      <td>0.000000e+00</td>\n",
       "      <td>0.000000e+00</td>\n",
       "    </tr>\n",
       "    <tr>\n",
       "      <th>50%</th>\n",
       "      <td>6.784625e-02</td>\n",
       "      <td>8.844239e-02</td>\n",
       "      <td>-2.357607e-01</td>\n",
       "      <td>-2.086152e-01</td>\n",
       "      <td>-1.548048e-01</td>\n",
       "      <td>3.174404e-01</td>\n",
       "      <td>-1.229942e-01</td>\n",
       "      <td>5.439754e-02</td>\n",
       "      <td>-1.034868e-03</td>\n",
       "      <td>0.000000e+00</td>\n",
       "      <td>...</td>\n",
       "      <td>0.000000e+00</td>\n",
       "      <td>0.000000e+00</td>\n",
       "      <td>1.489335e-01</td>\n",
       "      <td>0.000000e+00</td>\n",
       "      <td>0.000000e+00</td>\n",
       "      <td>0.000000e+00</td>\n",
       "      <td>0.000000e+00</td>\n",
       "      <td>0.000000e+00</td>\n",
       "      <td>0.000000e+00</td>\n",
       "      <td>0.000000e+00</td>\n",
       "    </tr>\n",
       "    <tr>\n",
       "      <th>75%</th>\n",
       "      <td>1.870814e-01</td>\n",
       "      <td>2.033670e-01</td>\n",
       "      <td>2.792265e-01</td>\n",
       "      <td>7.479192e-01</td>\n",
       "      <td>5.701537e-01</td>\n",
       "      <td>8.245646e-01</td>\n",
       "      <td>7.530651e-01</td>\n",
       "      <td>6.654773e-01</td>\n",
       "      <td>9.952601e-01</td>\n",
       "      <td>2.263081e-01</td>\n",
       "      <td>...</td>\n",
       "      <td>4.842431e-01</td>\n",
       "      <td>4.070920e-01</td>\n",
       "      <td>4.331973e-01</td>\n",
       "      <td>1.884584e-01</td>\n",
       "      <td>8.105131e-02</td>\n",
       "      <td>1.906092e-01</td>\n",
       "      <td>0.000000e+00</td>\n",
       "      <td>0.000000e+00</td>\n",
       "      <td>0.000000e+00</td>\n",
       "      <td>0.000000e+00</td>\n",
       "    </tr>\n",
       "    <tr>\n",
       "      <th>max</th>\n",
       "      <td>2.689582e+00</td>\n",
       "      <td>2.871625e+00</td>\n",
       "      <td>1.882394e+02</td>\n",
       "      <td>2.505145e+00</td>\n",
       "      <td>3.481311e+00</td>\n",
       "      <td>2.111477e+00</td>\n",
       "      <td>2.183880e+00</td>\n",
       "      <td>2.622603e+00</td>\n",
       "      <td>1.575673e+00</td>\n",
       "      <td>2.081124e+01</td>\n",
       "      <td>...</td>\n",
       "      <td>4.842431e-01</td>\n",
       "      <td>3.249819e+00</td>\n",
       "      <td>4.818309e+00</td>\n",
       "      <td>3.778347e+00</td>\n",
       "      <td>2.810664e+00</td>\n",
       "      <td>3.914161e+00</td>\n",
       "      <td>2.720061e+00</td>\n",
       "      <td>2.416760e+00</td>\n",
       "      <td>8.816943e-01</td>\n",
       "      <td>2.381081e+00</td>\n",
       "    </tr>\n",
       "  </tbody>\n",
       "</table>\n",
       "<p>8 rows × 30 columns</p>\n",
       "</div>"
      ],
      "text/plain": [
       "       dlatDeg_Scaled  dlngDeg_Scaled  dheight_Scaled  xSatPosM_Scaled  \\\n",
       "count    1.313420e+05    1.313420e+05    1.313420e+05     1.313420e+05   \n",
       "mean     5.390932e-17   -7.898406e-18    5.193472e-17    -3.786907e-17   \n",
       "std      1.000004e+00    1.000004e+00    1.000004e+00     1.000004e+00   \n",
       "min     -3.367212e+00   -2.837517e+00   -8.485201e+01    -1.824201e+00   \n",
       "25%     -1.426406e-01   -2.570525e-01   -3.623789e-01    -7.641287e-01   \n",
       "50%      6.784625e-02    8.844239e-02   -2.357607e-01    -2.086152e-01   \n",
       "75%      1.870814e-01    2.033670e-01    2.792265e-01     7.479192e-01   \n",
       "max      2.689582e+00    2.871625e+00    1.882394e+02     2.505145e+00   \n",
       "\n",
       "       ySatPosM_Scaled  zSatPosM_Scaled  xSatVelMps_Scaled  ySatVelMps_Scaled  \\\n",
       "count     1.313420e+05     1.313420e+05       1.313420e+05       1.313420e+05   \n",
       "mean     -8.926280e-17    -1.276729e-17       7.487256e-17       1.244269e-17   \n",
       "std       1.000004e+00     1.000004e+00       1.000004e+00       1.000004e+00   \n",
       "min      -1.533469e+00    -2.896326e+00      -2.966502e+00      -2.135619e+00   \n",
       "25%      -7.586592e-01    -7.307094e-01      -6.466295e-01      -7.540929e-01   \n",
       "50%      -1.548048e-01     3.174404e-01      -1.229942e-01       5.439754e-02   \n",
       "75%       5.701537e-01     8.245646e-01       7.530651e-01       6.654773e-01   \n",
       "max       3.481311e+00     2.111477e+00       2.183880e+00       2.622603e+00   \n",
       "\n",
       "       zSatVelMps_Scaled  UncalGyroXRadPerSec_Scaled  ...  BiasZMps2_Scaled  \\\n",
       "count       1.313420e+05                1.313420e+05  ...      1.313420e+05   \n",
       "mean        1.890748e-17               -4.091212e-18  ...     -8.461032e-17   \n",
       "std         1.000004e+00                9.308231e-01  ...      7.542804e-01   \n",
       "min        -1.592272e+00               -2.147876e+01  ...     -2.065078e+00   \n",
       "25%        -1.008162e+00               -2.254101e-01  ...      0.000000e+00   \n",
       "50%        -1.034868e-03                0.000000e+00  ...      0.000000e+00   \n",
       "75%         9.952601e-01                2.263081e-01  ...      4.842431e-01   \n",
       "max         1.575673e+00                2.081124e+01  ...      4.842431e-01   \n",
       "\n",
       "       UncalMagXMicroT_Scaled  UncalMagYMicroT_Scaled  UncalMagZMicroT_Scaled  \\\n",
       "count            1.313420e+05            1.313420e+05            1.313420e+05   \n",
       "mean             1.765240e-16           -8.222998e-18            1.493123e-17   \n",
       "std              9.307495e-01            9.307495e-01            9.306759e-01   \n",
       "min             -3.683841e+00           -3.661762e+00           -3.285377e+00   \n",
       "25%             -4.797574e-01           -5.900799e-02           -3.370902e-01   \n",
       "50%              0.000000e+00            1.489335e-01            0.000000e+00   \n",
       "75%              4.070920e-01            4.331973e-01            1.884584e-01   \n",
       "max              3.249819e+00            4.818309e+00            3.778347e+00   \n",
       "\n",
       "       BiasXMicroT_Scaled  BiasYMicroT_Scaled  BiasZMicroT_Scaled  \\\n",
       "count        1.313420e+05        1.313420e+05        1.313420e+05   \n",
       "mean        -8.114800e-18       -6.491840e-19        3.949203e-18   \n",
       "std          7.541188e-01        7.541188e-01        7.540280e-01   \n",
       "min         -3.146779e+00       -1.970667e+00       -2.886818e+00   \n",
       "25%         -2.461699e-01        0.000000e+00       -3.088827e-01   \n",
       "50%          0.000000e+00        0.000000e+00        0.000000e+00   \n",
       "75%          8.105131e-02        1.906092e-01        0.000000e+00   \n",
       "max          2.810664e+00        3.914161e+00        2.720061e+00   \n",
       "\n",
       "       yawDeg_Scaled  rollDeg_Scaled  pitchDeg_Scaled  \n",
       "count   1.313420e+05    1.313420e+05     1.313420e+05  \n",
       "mean   -4.744453e-17   -1.666239e-17     2.185586e-17  \n",
       "std     5.278070e-01    5.276843e-01     5.276843e-01  \n",
       "min    -1.577129e+00   -1.465147e+00    -7.969673e-01  \n",
       "25%     0.000000e+00    0.000000e+00     0.000000e+00  \n",
       "50%     0.000000e+00    0.000000e+00     0.000000e+00  \n",
       "75%     0.000000e+00    0.000000e+00     0.000000e+00  \n",
       "max     2.416760e+00    8.816943e-01     2.381081e+00  \n",
       "\n",
       "[8 rows x 30 columns]"
      ]
     },
     "execution_count": 11,
     "metadata": {},
     "output_type": "execute_result"
    }
   ],
   "source": [
    "df_train[scaler.renames_columns].describe()"
   ]
  },
  {
   "cell_type": "markdown",
   "metadata": {},
   "source": [
    "#  Output"
   ]
  },
  {
   "cell_type": "code",
   "execution_count": 12,
   "metadata": {
    "ExecuteTime": {
     "end_time": "2021-07-03T02:09:10.304627Z",
     "start_time": "2021-07-03T02:09:08.997057Z"
    }
   },
   "outputs": [],
   "source": [
    "df_train.to_pickle(str(data_dir / \"gsdc_extract_train.pkl.gzip\"))\n",
    "df_test.to_pickle(str(data_dir / \"gsdc_extract_test.pkl.gzip\"))"
   ]
  },
  {
   "cell_type": "code",
   "execution_count": null,
   "metadata": {},
   "outputs": [],
   "source": []
  }
 ],
 "metadata": {
  "hide_input": false,
  "kernelspec": {
   "display_name": "torch",
   "language": "python",
   "name": "torch"
  },
  "language_info": {
   "codemirror_mode": {
    "name": "ipython",
    "version": 3
   },
   "file_extension": ".py",
   "mimetype": "text/x-python",
   "name": "python",
   "nbconvert_exporter": "python",
   "pygments_lexer": "ipython3",
   "version": "3.6.12"
  },
  "latex_envs": {
   "LaTeX_envs_menu_present": true,
   "autoclose": false,
   "autocomplete": true,
   "bibliofile": "biblio.bib",
   "cite_by": "apalike",
   "current_citInitial": 1,
   "eqLabelWithNumbers": true,
   "eqNumInitial": 1,
   "hotkeys": {
    "equation": "Ctrl-E",
    "itemize": "Ctrl-I"
   },
   "labels_anchors": false,
   "latex_user_defs": false,
   "report_style_numbering": false,
   "user_envs_cfg": false
  },
  "toc": {
   "base_numbering": 1,
   "nav_menu": {},
   "number_sections": true,
   "sideBar": true,
   "skip_h1_title": false,
   "title_cell": "Table of Contents",
   "title_sidebar": "Contents",
   "toc_cell": false,
   "toc_position": {},
   "toc_section_display": true,
   "toc_window_display": false
  },
  "varInspector": {
   "cols": {
    "lenName": 16,
    "lenType": 16,
    "lenVar": 40
   },
   "kernels_config": {
    "python": {
     "delete_cmd_postfix": "",
     "delete_cmd_prefix": "del ",
     "library": "var_list.py",
     "varRefreshCmd": "print(var_dic_list())"
    },
    "r": {
     "delete_cmd_postfix": ") ",
     "delete_cmd_prefix": "rm(",
     "library": "var_list.r",
     "varRefreshCmd": "cat(var_dic_list()) "
    }
   },
   "types_to_exclude": [
    "module",
    "function",
    "builtin_function_or_method",
    "instance",
    "_Feature"
   ],
   "window_display": false
  }
 },
 "nbformat": 4,
 "nbformat_minor": 4
}
