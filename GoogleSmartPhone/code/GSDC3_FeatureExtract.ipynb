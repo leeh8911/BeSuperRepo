{
 "cells": [
  {
   "cell_type": "markdown",
   "metadata": {},
   "source": [
    "# Load Libraries"
   ]
  },
  {
   "cell_type": "code",
   "execution_count": 1,
   "metadata": {
    "ExecuteTime": {
     "end_time": "2021-07-02T07:01:59.018723Z",
     "start_time": "2021-07-02T07:01:56.032244Z"
    }
   },
   "outputs": [],
   "source": [
    "import numpy as np\n",
    "import pandas as pd\n",
    "from glob import glob\n",
    "import os\n",
    "import matplotlib.pyplot as plt\n",
    "from tqdm.notebook import tqdm\n",
    "from pathlib import Path\n",
    "import plotly.express as px\n",
    "\n",
    "import torch\n",
    "import torch.nn as nn\n",
    "import torch.nn.functional as F\n",
    "import torch.optim as optim\n",
    "from torch.utils.data import TensorDataset, DataLoader\n",
    "from sklearn.model_selection import train_test_split\n",
    "from sklearn.preprocessing import StandardScaler, MinMaxScaler"
   ]
  },
  {
   "cell_type": "markdown",
   "metadata": {},
   "source": [
    "# Set Path"
   ]
  },
  {
   "cell_type": "code",
   "execution_count": 2,
   "metadata": {
    "ExecuteTime": {
     "end_time": "2021-07-02T07:01:59.048724Z",
     "start_time": "2021-07-02T07:01:59.034723Z"
    }
   },
   "outputs": [],
   "source": [
    "data_dir = Path(\"../input/google-smartphone-decimeter-challenge\")"
   ]
  },
  {
   "cell_type": "markdown",
   "metadata": {},
   "source": [
    "# Load Data"
   ]
  },
  {
   "cell_type": "code",
   "execution_count": 3,
   "metadata": {
    "ExecuteTime": {
     "end_time": "2021-07-02T07:01:59.920159Z",
     "start_time": "2021-07-02T07:01:59.064727Z"
    }
   },
   "outputs": [],
   "source": [
    "df_train = pd.read_pickle(str(data_dir / \"gsdc_cleaned_train.pkl.gzip\"))"
   ]
  },
  {
   "cell_type": "code",
   "execution_count": 5,
   "metadata": {
    "ExecuteTime": {
     "end_time": "2021-07-02T07:02:00.866107Z",
     "start_time": "2021-07-02T07:02:00.780107Z"
    }
   },
   "outputs": [],
   "source": [
    "df_test = pd.read_pickle(str(data_dir / \"gsdc_cleaned_test.pkl.gzip\"))"
   ]
  },
  {
   "cell_type": "code",
   "execution_count": 6,
   "metadata": {
    "ExecuteTime": {
     "end_time": "2021-07-02T07:02:11.257087Z",
     "start_time": "2021-07-02T07:02:11.239088Z"
    },
    "scrolled": true
   },
   "outputs": [
    {
     "name": "stdout",
     "output_type": "stream",
     "text": [
      "collectionName\n",
      "phoneName\n",
      "millisSinceGpsEpoch\n",
      "latDeg\n",
      "lngDeg\n",
      "heightAboveWgs84EllipsoidM\n",
      "phone\n",
      "timeSinceFirstFixSeconds\n",
      "hDop\n",
      "vDop\n",
      "speedMps\n",
      "courseDegree\n",
      "t_latDeg\n",
      "t_lngDeg\n",
      "t_heightAboveWgs84EllipsoidM\n",
      "constellationType\n",
      "svid\n",
      "signalType\n",
      "receivedSvTimeInGpsNanos\n",
      "xSatPosM\n",
      "ySatPosM\n",
      "zSatPosM\n",
      "xSatVelMps\n",
      "ySatVelMps\n",
      "zSatVelMps\n",
      "satClkBiasM\n",
      "satClkDriftMps\n",
      "rawPrM\n",
      "rawPrUncM\n",
      "isrbM\n",
      "ionoDelayM\n",
      "tropoDelayM\n",
      "utcTimeMillis\n",
      "TimeNanos\n",
      "LeapSecond\n",
      "FullBiasNanos\n",
      "BiasNanos\n",
      "BiasUncertaintyNanos\n",
      "DriftNanosPerSecond\n",
      "DriftUncertaintyNanosPerSecond\n",
      "HardwareClockDiscontinuityCount\n",
      "Svid\n",
      "TimeOffsetNanos\n",
      "State\n",
      "ReceivedSvTimeNanos\n",
      "ReceivedSvTimeUncertaintyNanos\n",
      "Cn0DbHz\n",
      "PseudorangeRateMetersPerSecond\n",
      "PseudorangeRateUncertaintyMetersPerSecond\n",
      "AccumulatedDeltaRangeState\n",
      "AccumulatedDeltaRangeMeters\n",
      "AccumulatedDeltaRangeUncertaintyMeters\n",
      "CarrierFrequencyHz\n",
      "MultipathIndicator\n",
      "ConstellationType\n",
      "AgcDb\n",
      "BasebandCn0DbHz\n",
      "FullInterSignalBiasNanos\n",
      "FullInterSignalBiasUncertaintyNanos\n",
      "SatelliteInterSignalBiasNanos\n",
      "SatelliteInterSignalBiasUncertaintyNanos\n",
      "CodeType\n",
      "ChipsetElapsedRealtimeNanos\n",
      "utcTimeMillis_UncalGyro\n",
      "elapsedRealtimeNanos\n",
      "UncalGyroXRadPerSec\n",
      "UncalGyroYRadPerSec\n",
      "UncalGyroZRadPerSec\n",
      "DriftXRadPerSec\n",
      "DriftYRadPerSec\n",
      "DriftZRadPerSec\n",
      "utcTimeMillis_Status\n",
      "SignalCount\n",
      "SignalIndex\n",
      "ConstellationType_Status\n",
      "Svid_Status\n",
      "CarrierFrequencyHz_Status\n",
      "Cn0DbHz_Status\n",
      "AzimuthDegrees\n",
      "ElevationDegrees\n",
      "UsedInFix\n",
      "HasAlmanacData\n",
      "HasEphemerisData\n",
      "BasebandCn0DbHz_Status\n",
      "utcTimeMillis_UncalAccel\n",
      "elapsedRealtimeNanos_UncalAccel\n",
      "UncalAccelXMps2\n",
      "UncalAccelYMps2\n",
      "UncalAccelZMps2\n",
      "BiasXMps2\n",
      "BiasYMps2\n",
      "BiasZMps2\n",
      "utcTimeMillis_UncalMag\n",
      "elapsedRealtimeNanos_UncalMag\n",
      "UncalMagXMicroT\n",
      "UncalMagYMicroT\n",
      "UncalMagZMicroT\n",
      "BiasXMicroT\n",
      "BiasYMicroT\n",
      "BiasZMicroT\n",
      "utcTimeMillis_OrientationDeg\n",
      "elapsedRealtimeNanos_OrientationDeg\n",
      "yawDeg\n",
      "rollDeg\n",
      "pitchDeg\n"
     ]
    }
   ],
   "source": [
    "for col in df_train.columns:\n",
    "    print(col)"
   ]
  },
  {
   "cell_type": "markdown",
   "metadata": {},
   "source": [
    "# Extract Data"
   ]
  },
  {
   "cell_type": "markdown",
   "metadata": {},
   "source": [
    "## Get dlatDeg, dlngDeg, dheightAboveWgs84EllipsoidM"
   ]
  },
  {
   "cell_type": "code",
   "execution_count": 64,
   "metadata": {
    "ExecuteTime": {
     "end_time": "2021-07-02T07:25:26.312296Z",
     "start_time": "2021-07-02T07:25:26.301297Z"
    }
   },
   "outputs": [],
   "source": [
    "def getDeltaPositions(df:pd.DataFrame)->pd.DataFrame:\n",
    "    output = df.copy()\n",
    "    phones = output['phone'].unique()\n",
    "    output[['dlatDeg', 'dlngDeg', 'dheight']] = 0\n",
    "    for phone in phones:\n",
    "        latDeg = output.loc[output['phone'] == phone, 'latDeg']\n",
    "        output.loc[output['phone'] == phone, 'dlatDeg'] = latDeg - latDeg.iloc[0]\n",
    "        \n",
    "        lngDeg = output.loc[output['phone'] == phone, 'lngDeg']\n",
    "        output.loc[output['phone'] == phone, 'dlngDeg'] = lngDeg - lngDeg.iloc[0]\n",
    "        \n",
    "        heightAboveWgs84EllipsoidM = output.loc[output['phone'] == phone, 'heightAboveWgs84EllipsoidM']\n",
    "        output.loc[output['phone'] == phone, 'dheight'] = heightAboveWgs84EllipsoidM - heightAboveWgs84EllipsoidM.iloc[0]\n",
    "        \n",
    "    return output"
   ]
  },
  {
   "cell_type": "code",
   "execution_count": 65,
   "metadata": {
    "ExecuteTime": {
     "end_time": "2021-07-02T07:25:30.489040Z",
     "start_time": "2021-07-02T07:25:26.493343Z"
    }
   },
   "outputs": [],
   "source": [
    "df_train = getDeltaPositions(df_train)\n",
    "df_test = getDeltaPositions(df_test)"
   ]
  },
  {
   "cell_type": "markdown",
   "metadata": {},
   "source": [
    "#  Output"
   ]
  },
  {
   "cell_type": "code",
   "execution_count": 66,
   "metadata": {
    "ExecuteTime": {
     "end_time": "2021-07-02T07:25:35.837160Z",
     "start_time": "2021-07-02T07:25:34.830246Z"
    }
   },
   "outputs": [],
   "source": [
    "df_train.to_pickle(str(data_dir / \"gsdc_extract_train.pkl.gzip\"))\n",
    "df_test.to_pickle(str(data_dir / \"gsdc_extract_test.pkl.gzip\"))"
   ]
  },
  {
   "cell_type": "code",
   "execution_count": null,
   "metadata": {},
   "outputs": [],
   "source": []
  }
 ],
 "metadata": {
  "hide_input": false,
  "kernelspec": {
   "display_name": "torch",
   "language": "python",
   "name": "torch"
  },
  "language_info": {
   "codemirror_mode": {
    "name": "ipython",
    "version": 3
   },
   "file_extension": ".py",
   "mimetype": "text/x-python",
   "name": "python",
   "nbconvert_exporter": "python",
   "pygments_lexer": "ipython3",
   "version": "3.6.12"
  },
  "latex_envs": {
   "LaTeX_envs_menu_present": true,
   "autoclose": false,
   "autocomplete": true,
   "bibliofile": "biblio.bib",
   "cite_by": "apalike",
   "current_citInitial": 1,
   "eqLabelWithNumbers": true,
   "eqNumInitial": 1,
   "hotkeys": {
    "equation": "Ctrl-E",
    "itemize": "Ctrl-I"
   },
   "labels_anchors": false,
   "latex_user_defs": false,
   "report_style_numbering": false,
   "user_envs_cfg": false
  },
  "toc": {
   "base_numbering": 1,
   "nav_menu": {},
   "number_sections": true,
   "sideBar": true,
   "skip_h1_title": false,
   "title_cell": "Table of Contents",
   "title_sidebar": "Contents",
   "toc_cell": false,
   "toc_position": {},
   "toc_section_display": true,
   "toc_window_display": false
  },
  "varInspector": {
   "cols": {
    "lenName": 16,
    "lenType": 16,
    "lenVar": 40
   },
   "kernels_config": {
    "python": {
     "delete_cmd_postfix": "",
     "delete_cmd_prefix": "del ",
     "library": "var_list.py",
     "varRefreshCmd": "print(var_dic_list())"
    },
    "r": {
     "delete_cmd_postfix": ") ",
     "delete_cmd_prefix": "rm(",
     "library": "var_list.r",
     "varRefreshCmd": "cat(var_dic_list()) "
    }
   },
   "types_to_exclude": [
    "module",
    "function",
    "builtin_function_or_method",
    "instance",
    "_Feature"
   ],
   "window_display": false
  }
 },
 "nbformat": 4,
 "nbformat_minor": 4
}
