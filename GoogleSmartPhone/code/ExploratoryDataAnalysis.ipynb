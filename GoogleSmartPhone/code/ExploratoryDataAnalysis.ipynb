{
 "cells": [
  {
   "cell_type": "markdown",
   "metadata": {},
   "source": [
    "# references\n",
    "1. https://www.kaggle.com/columbia2131/device-eda-interpolate-by-removing-device-en-ja"
   ]
  },
  {
   "cell_type": "markdown",
   "metadata": {},
   "source": [
    "# Load Libraries"
   ]
  },
  {
   "cell_type": "code",
   "execution_count": 1,
   "metadata": {
    "ExecuteTime": {
     "end_time": "2021-06-19T03:37:42.320397Z",
     "start_time": "2021-06-19T03:37:39.309521Z"
    }
   },
   "outputs": [],
   "source": [
    "import numpy as np\n",
    "import pandas as pd\n",
    "from glob import glob\n",
    "import os\n",
    "import matplotlib.pyplot as plt\n",
    "from tqdm.notebook import tqdm\n",
    "from pathlib import Path\n",
    "import plotly.express as px\n",
    "\n",
    "import torch\n",
    "import torch.nn as nn\n",
    "import torch.nn.functional as F\n",
    "import torch.optim as optim\n",
    "from torch.utils.data import TensorDataset, DataLoader\n",
    "from sklearn.model_selection import train_test_split"
   ]
  },
  {
   "cell_type": "code",
   "execution_count": 2,
   "metadata": {
    "ExecuteTime": {
     "end_time": "2021-06-19T03:37:42.335397Z",
     "start_time": "2021-06-19T03:37:42.321399Z"
    }
   },
   "outputs": [
    {
     "data": {
      "application/javascript": [
       "IPython.notebook.kernel.execute(`notebookName = '${window.document.getElementById(\"notebook_name\").innerHTML}'`);\n"
      ],
      "text/plain": [
       "<IPython.core.display.Javascript object>"
      ]
     },
     "metadata": {},
     "output_type": "display_data"
    }
   ],
   "source": [
    "%%javascript\n",
    "IPython.notebook.kernel.execute(`notebookName = '${window.document.getElementById(\"notebook_name\").innerHTML}'`);"
   ]
  },
  {
   "cell_type": "code",
   "execution_count": 3,
   "metadata": {
    "ExecuteTime": {
     "end_time": "2021-06-19T03:37:42.350397Z",
     "start_time": "2021-06-19T03:37:42.336398Z"
    }
   },
   "outputs": [
    {
     "data": {
      "application/javascript": [
       "IPython.notebook.kernel.execute(`notebookName = '${window.document.getElementById(\"notebook_name\").innerHTML}'`);\n"
      ],
      "text/plain": [
       "<IPython.core.display.Javascript object>"
      ]
     },
     "metadata": {},
     "output_type": "display_data"
    }
   ],
   "source": [
    "%%javascript\n",
    "IPython.notebook.kernel.execute(`notebookName = '${window.document.getElementById(\"notebook_name\").innerHTML}'`);"
   ]
  },
  {
   "cell_type": "code",
   "execution_count": 7,
   "metadata": {
    "ExecuteTime": {
     "end_time": "2021-06-19T03:37:54.286939Z",
     "start_time": "2021-06-19T03:37:54.278938Z"
    }
   },
   "outputs": [
    {
     "data": {
      "application/javascript": [
       "IPython.notebook.kernel.execute(`notebookName = '${window.document.getElementById(\"notebook_name\").innerHTML}'`);\n"
      ],
      "text/plain": [
       "<IPython.core.display.Javascript object>"
      ]
     },
     "metadata": {},
     "output_type": "display_data"
    }
   ],
   "source": [
    "%%javascript\n",
    "IPython.notebook.kernel.execute(`notebookName = '${window.document.getElementById(\"notebook_name\").innerHTML}'`);"
   ]
  },
  {
   "cell_type": "code",
   "execution_count": 8,
   "metadata": {
    "ExecuteTime": {
     "end_time": "2021-06-19T03:37:54.736950Z",
     "start_time": "2021-06-19T03:37:54.722802Z"
    }
   },
   "outputs": [
    {
     "name": "stdout",
     "output_type": "stream",
     "text": [
      "Baseline\n"
     ]
    }
   ],
   "source": [
    "print(notebookName)\n",
    "PATH = Path(f\"./models/{notebookName}\")"
   ]
  },
  {
   "cell_type": "code",
   "execution_count": 9,
   "metadata": {
    "ExecuteTime": {
     "end_time": "2021-06-19T03:37:55.835089Z",
     "start_time": "2021-06-19T03:37:55.824090Z"
    }
   },
   "outputs": [
    {
     "name": "stdout",
     "output_type": "stream",
     "text": [
      "0\n"
     ]
    }
   ],
   "source": [
    "if os.path.isdir(PATH):\n",
    "    dir_list = os.listdir(PATH)\n",
    "    num_files = 0\n",
    "    while True:\n",
    "        if os.path.isfile(str(PATH / f\"{num_files}\")):\n",
    "            print(num_files)\n",
    "            num_files += 1\n",
    "        else:\n",
    "            break\n",
    "else:\n",
    "    os.mkdir(PATH)\n",
    "    num_files = 0"
   ]
  },
  {
   "cell_type": "code",
   "execution_count": 10,
   "metadata": {
    "ExecuteTime": {
     "end_time": "2021-06-19T03:37:56.255280Z",
     "start_time": "2021-06-19T03:37:56.242280Z"
    }
   },
   "outputs": [
    {
     "data": {
      "text/plain": [
       "1"
      ]
     },
     "execution_count": 10,
     "metadata": {},
     "output_type": "execute_result"
    }
   ],
   "source": [
    "num_files"
   ]
  },
  {
   "cell_type": "code",
   "execution_count": 11,
   "metadata": {
    "ExecuteTime": {
     "end_time": "2021-06-19T03:37:56.675586Z",
     "start_time": "2021-06-19T03:37:56.661585Z"
    }
   },
   "outputs": [
    {
     "data": {
      "text/plain": [
       "('models\\\\Baseline\\\\model - 1.pth',\n",
       " 'models\\\\Baseline\\\\param - 1.pth',\n",
       " 'models\\\\Baseline\\\\result - 1.csv')"
      ]
     },
     "execution_count": 11,
     "metadata": {},
     "output_type": "execute_result"
    }
   ],
   "source": [
    "RANDOM_STATE = 1990\n",
    "lr = 0.001\n",
    "batch_size = 64\n",
    "EPOCH_NUM = 100\n",
    "\n",
    "torch.manual_seed(RANDOM_STATE)\n",
    "\n",
    "experience_name = f\"{num_files}\"\n",
    "checkpoint_name = \"check_point\"\n",
    "model_name = str(\"model - \" + experience_name)\n",
    "param_name = str(\"param - \" + experience_name)\n",
    "result_name = str(\"result - \" + experience_name)\n",
    "\n",
    "dummy_path = str(PATH / f\"{num_files}\")\n",
    "checkpoint_path = str(PATH / f\"{checkpoint_name}.pth\")\n",
    "model_path = str(PATH / f\"{model_name}.pth\")\n",
    "param_path = str(PATH / f\"{param_name}.pth\")\n",
    "result_path = str(PATH / f\"{result_name}.csv\")\n",
    "model_path, param_path, result_path"
   ]
  },
  {
   "cell_type": "markdown",
   "metadata": {},
   "source": [
    "# Useful Functions"
   ]
  },
  {
   "cell_type": "code",
   "execution_count": 12,
   "metadata": {
    "ExecuteTime": {
     "end_time": "2021-06-19T03:37:57.095588Z",
     "start_time": "2021-06-19T03:37:57.081586Z"
    }
   },
   "outputs": [],
   "source": [
    "def get_groundtruth(path: Path) -> pd.DataFrame:\n",
    "    output_df = pd.DataFrame()\n",
    "    \n",
    "    for path in glob(str(path / 'train/*/*/ground_truth.csv')):\n",
    "        _df = pd.read_csv(path)\n",
    "        output_df = pd.concat([output_df, _df])\n",
    "    output_df = output_df.reset_index(drop=True)\n",
    "    \n",
    "    _columns = ['latDeg', 'lngDeg', 'heightAboveWgs84EllipsoidM']\n",
    "    output_df[['t_'+col for col in _columns]] = output_df[_columns]\n",
    "    output_df = output_df.drop(columns=_columns, axis=1)\n",
    "    return output_df"
   ]
  },
  {
   "cell_type": "code",
   "execution_count": 42,
   "metadata": {
    "ExecuteTime": {
     "end_time": "2021-06-19T04:42:09.587407Z",
     "start_time": "2021-06-19T04:42:09.577398Z"
    }
   },
   "outputs": [],
   "source": [
    "def get_addtional_data(path: Path, train = True) ->pd.DataFrame:\n",
    "    output_df = pd.DataFrame()\n",
    "    \n",
    "    if train:\n",
    "        add_path = 'train/*/*/*derived.csv'\n",
    "    else:\n",
    "        add_path = 'test/*/*/*derived.csv'\n",
    "            \n",
    "    for path in glob(str(path / add_path)):\n",
    "        _df = pd.read_csv(path)\n",
    "        output_df = pd.concat([output_df, _df])\n",
    "    output_df = output_df.reset_index(drop = True)\n",
    "    \n",
    "    return output_df"
   ]
  },
  {
   "cell_type": "code",
   "execution_count": 13,
   "metadata": {
    "ExecuteTime": {
     "end_time": "2021-06-19T03:37:57.110585Z",
     "start_time": "2021-06-19T03:37:57.096589Z"
    }
   },
   "outputs": [],
   "source": [
    "def calc_haversine(lat1, lon1, lat2, lon2):\n",
    "    lat1, lon1, lat2, lon2 = map(np.radians, [lat1, lon1, lat2, lon2])\n",
    "    dlat = lat2 - lat1\n",
    "    dlon = lon2 - lon1\n",
    "    a = np.sin(dlat / 2.0)**2 + np.cos(lat1) * np.cos(lat2) * np.sin(dlon / 2.0)**2\n",
    "    \n",
    "    c = 2 * np.arcsin(a ** 0.5)\n",
    "    dist = 6_367_000 * c\n",
    "    return dist"
   ]
  },
  {
   "cell_type": "code",
   "execution_count": 14,
   "metadata": {
    "ExecuteTime": {
     "end_time": "2021-06-19T03:37:57.125587Z",
     "start_time": "2021-06-19T03:37:57.111589Z"
    }
   },
   "outputs": [],
   "source": [
    "def check_score(input_df: pd.DataFrame) -> pd.DataFrame:\n",
    "    output_df = input_df.copy()\n",
    "    \n",
    "    output_df['meter'] = input_df.apply(\n",
    "        lambda r: calc_haversine(\n",
    "            r.latDeg, r.lngDeg, r.t_latDeg, r.t_lngDeg\n",
    "        ),\n",
    "        axis=1\n",
    "    )\n",
    "\n",
    "    meter_score = output_df['meter'].mean()\n",
    "    print(f'error meter: {meter_score}')\n",
    "\n",
    "    scores = []\n",
    "    for phone in output_df['phone'].unique():\n",
    "        _index = output_df['phone']==phone\n",
    "        p_50 = np.percentile(output_df.loc[_index, 'meter'], 50)\n",
    "        p_95 = np.percentile(output_df.loc[_index, 'meter'], 95)\n",
    "        scores.append(p_50)\n",
    "        scores.append(p_95)\n",
    "\n",
    "    score = sum(scores) / len(scores)\n",
    "    print(f'score: {score}')\n",
    "    \n",
    "    return output_df, meter_score , score"
   ]
  },
  {
   "cell_type": "code",
   "execution_count": 15,
   "metadata": {
    "ExecuteTime": {
     "end_time": "2021-06-19T03:37:57.140587Z",
     "start_time": "2021-06-19T03:37:57.126586Z"
    }
   },
   "outputs": [],
   "source": [
    "def check_score_np(predict:torch.Tensor, target:torch.Tensor):\n",
    "    m = []\n",
    "    predict = predict.detach().numpy()\n",
    "    target = target.detach().numpy()\n",
    "    for i in range(predict.shape[0]):\n",
    "        temp = calc_haversine(predict[i,0], predict[i,1], target[i,0], target[i,1])\n",
    "        m.append(temp)\n",
    "    \n",
    "    m = np.array(m)\n",
    "    score = (np.percentile(m, 50) + np.percentile(m, 95))/2\n",
    "    \n",
    "    return score"
   ]
  },
  {
   "cell_type": "markdown",
   "metadata": {},
   "source": [
    "# Load Datasets"
   ]
  },
  {
   "cell_type": "code",
   "execution_count": 44,
   "metadata": {
    "ExecuteTime": {
     "end_time": "2021-06-19T04:44:43.356593Z",
     "start_time": "2021-06-19T04:43:58.380239Z"
    }
   },
   "outputs": [
    {
     "data": {
      "text/html": [
       "<div>\n",
       "<style scoped>\n",
       "    .dataframe tbody tr th:only-of-type {\n",
       "        vertical-align: middle;\n",
       "    }\n",
       "\n",
       "    .dataframe tbody tr th {\n",
       "        vertical-align: top;\n",
       "    }\n",
       "\n",
       "    .dataframe thead th {\n",
       "        text-align: right;\n",
       "    }\n",
       "</style>\n",
       "<table border=\"1\" class=\"dataframe\">\n",
       "  <thead>\n",
       "    <tr style=\"text-align: right;\">\n",
       "      <th></th>\n",
       "      <th>collectionName</th>\n",
       "      <th>phoneName</th>\n",
       "      <th>millisSinceGpsEpoch</th>\n",
       "      <th>constellationType</th>\n",
       "      <th>svid</th>\n",
       "      <th>signalType</th>\n",
       "      <th>receivedSvTimeInGpsNanos</th>\n",
       "      <th>xSatPosM</th>\n",
       "      <th>ySatPosM</th>\n",
       "      <th>zSatPosM</th>\n",
       "      <th>xSatVelMps</th>\n",
       "      <th>ySatVelMps</th>\n",
       "      <th>zSatVelMps</th>\n",
       "      <th>satClkBiasM</th>\n",
       "      <th>satClkDriftMps</th>\n",
       "      <th>rawPrM</th>\n",
       "      <th>rawPrUncM</th>\n",
       "      <th>isrbM</th>\n",
       "      <th>ionoDelayM</th>\n",
       "      <th>tropoDelayM</th>\n",
       "    </tr>\n",
       "  </thead>\n",
       "  <tbody>\n",
       "    <tr>\n",
       "      <th>0</th>\n",
       "      <td>2020-05-14-US-MTV-1</td>\n",
       "      <td>Pixel4</td>\n",
       "      <td>1273529464442</td>\n",
       "      <td>3</td>\n",
       "      <td>24</td>\n",
       "      <td>GLO_G1</td>\n",
       "      <td>1273529463363061857</td>\n",
       "      <td>-2.539901e+07</td>\n",
       "      <td>-6.925122e+05</td>\n",
       "      <td>-2.280430e+06</td>\n",
       "      <td>-325.826</td>\n",
       "      <td>156.040</td>\n",
       "      <td>3559.757</td>\n",
       "      <td>-468.084</td>\n",
       "      <td>0.001</td>\n",
       "      <td>2.379498e+07</td>\n",
       "      <td>11.992</td>\n",
       "      <td>1134.758</td>\n",
       "      <td>10.866</td>\n",
       "      <td>16.647</td>\n",
       "    </tr>\n",
       "    <tr>\n",
       "      <th>1</th>\n",
       "      <td>2020-05-14-US-MTV-1</td>\n",
       "      <td>Pixel4</td>\n",
       "      <td>1273529464442</td>\n",
       "      <td>6</td>\n",
       "      <td>13</td>\n",
       "      <td>GAL_E1</td>\n",
       "      <td>1273529463363970742</td>\n",
       "      <td>-5.199894e+06</td>\n",
       "      <td>-1.741927e+07</td>\n",
       "      <td>2.336128e+07</td>\n",
       "      <td>2239.305</td>\n",
       "      <td>700.815</td>\n",
       "      <td>1022.014</td>\n",
       "      <td>120171.076</td>\n",
       "      <td>0.000</td>\n",
       "      <td>2.352251e+07</td>\n",
       "      <td>1.799</td>\n",
       "      <td>-222.675</td>\n",
       "      <td>3.946</td>\n",
       "      <td>2.717</td>\n",
       "    </tr>\n",
       "    <tr>\n",
       "      <th>2</th>\n",
       "      <td>2020-05-14-US-MTV-1</td>\n",
       "      <td>Pixel4</td>\n",
       "      <td>1273529464442</td>\n",
       "      <td>1</td>\n",
       "      <td>5</td>\n",
       "      <td>GPS_L1</td>\n",
       "      <td>1273529463365539137</td>\n",
       "      <td>-2.179863e+06</td>\n",
       "      <td>-2.615488e+07</td>\n",
       "      <td>-3.437694e+06</td>\n",
       "      <td>325.541</td>\n",
       "      <td>-419.725</td>\n",
       "      <td>3129.012</td>\n",
       "      <td>-3793.067</td>\n",
       "      <td>-0.001</td>\n",
       "      <td>2.305231e+07</td>\n",
       "      <td>4.197</td>\n",
       "      <td>0.000</td>\n",
       "      <td>7.554</td>\n",
       "      <td>5.704</td>\n",
       "    </tr>\n",
       "    <tr>\n",
       "      <th>3</th>\n",
       "      <td>2020-05-14-US-MTV-1</td>\n",
       "      <td>Pixel4</td>\n",
       "      <td>1273529464442</td>\n",
       "      <td>6</td>\n",
       "      <td>15</td>\n",
       "      <td>GAL_E1</td>\n",
       "      <td>1273529463352380595</td>\n",
       "      <td>1.635469e+07</td>\n",
       "      <td>-1.047833e+07</td>\n",
       "      <td>2.234460e+07</td>\n",
       "      <td>2172.409</td>\n",
       "      <td>561.971</td>\n",
       "      <td>-1326.001</td>\n",
       "      <td>259937.286</td>\n",
       "      <td>-0.000</td>\n",
       "      <td>2.699715e+07</td>\n",
       "      <td>8.094</td>\n",
       "      <td>-222.675</td>\n",
       "      <td>7.968</td>\n",
       "      <td>9.151</td>\n",
       "    </tr>\n",
       "    <tr>\n",
       "      <th>4</th>\n",
       "      <td>2020-05-14-US-MTV-1</td>\n",
       "      <td>Pixel4</td>\n",
       "      <td>1273529464442</td>\n",
       "      <td>6</td>\n",
       "      <td>21</td>\n",
       "      <td>GAL_E1</td>\n",
       "      <td>1273529463364075083</td>\n",
       "      <td>-1.484042e+07</td>\n",
       "      <td>-2.110960e+07</td>\n",
       "      <td>1.449632e+07</td>\n",
       "      <td>-426.094</td>\n",
       "      <td>-1395.675</td>\n",
       "      <td>-2467.793</td>\n",
       "      <td>-179555.991</td>\n",
       "      <td>-0.001</td>\n",
       "      <td>2.349123e+07</td>\n",
       "      <td>2.698</td>\n",
       "      <td>-222.675</td>\n",
       "      <td>3.834</td>\n",
       "      <td>2.544</td>\n",
       "    </tr>\n",
       "  </tbody>\n",
       "</table>\n",
       "</div>"
      ],
      "text/plain": [
       "        collectionName phoneName  millisSinceGpsEpoch  constellationType  \\\n",
       "0  2020-05-14-US-MTV-1    Pixel4        1273529464442                  3   \n",
       "1  2020-05-14-US-MTV-1    Pixel4        1273529464442                  6   \n",
       "2  2020-05-14-US-MTV-1    Pixel4        1273529464442                  1   \n",
       "3  2020-05-14-US-MTV-1    Pixel4        1273529464442                  6   \n",
       "4  2020-05-14-US-MTV-1    Pixel4        1273529464442                  6   \n",
       "\n",
       "   svid signalType  receivedSvTimeInGpsNanos      xSatPosM      ySatPosM  \\\n",
       "0    24     GLO_G1       1273529463363061857 -2.539901e+07 -6.925122e+05   \n",
       "1    13     GAL_E1       1273529463363970742 -5.199894e+06 -1.741927e+07   \n",
       "2     5     GPS_L1       1273529463365539137 -2.179863e+06 -2.615488e+07   \n",
       "3    15     GAL_E1       1273529463352380595  1.635469e+07 -1.047833e+07   \n",
       "4    21     GAL_E1       1273529463364075083 -1.484042e+07 -2.110960e+07   \n",
       "\n",
       "       zSatPosM  xSatVelMps  ySatVelMps  zSatVelMps  satClkBiasM  \\\n",
       "0 -2.280430e+06    -325.826     156.040    3559.757     -468.084   \n",
       "1  2.336128e+07    2239.305     700.815    1022.014   120171.076   \n",
       "2 -3.437694e+06     325.541    -419.725    3129.012    -3793.067   \n",
       "3  2.234460e+07    2172.409     561.971   -1326.001   259937.286   \n",
       "4  1.449632e+07    -426.094   -1395.675   -2467.793  -179555.991   \n",
       "\n",
       "   satClkDriftMps        rawPrM  rawPrUncM     isrbM  ionoDelayM  tropoDelayM  \n",
       "0           0.001  2.379498e+07     11.992  1134.758      10.866       16.647  \n",
       "1           0.000  2.352251e+07      1.799  -222.675       3.946        2.717  \n",
       "2          -0.001  2.305231e+07      4.197     0.000       7.554        5.704  \n",
       "3          -0.000  2.699715e+07      8.094  -222.675       7.968        9.151  \n",
       "4          -0.001  2.349123e+07      2.698  -222.675       3.834        2.544  "
      ]
     },
     "execution_count": 44,
     "metadata": {},
     "output_type": "execute_result"
    }
   ],
   "source": [
    "data_dir = Path(\"../input/google-smartphone-decimeter-challenge\")\n",
    "train_df = pd.read_csv(data_dir / \"baseline_locations_train.csv\")\n",
    "train_add_df = get_addtional_data(data_dir, train = True)\n",
    "test_df = pd.read_csv(data_dir / \"baseline_locations_test.csv\")\n",
    "test_add_df = get_addtional_data(data_dir, train = False)\n",
    "\n",
    "# merge graoundtruth\n",
    "train_df = train_df.merge(\n",
    "    get_groundtruth(data_dir),\n",
    "    on=['collectionName', 'phoneName', 'millisSinceGpsEpoch']\n",
    ")\n",
    "train_df = train_df.merge(\n",
    "    train_add_df,\n",
    "    on=['collectionName', 'phoneName', 'millisSinceGpsEpoch']\n",
    ")\n",
    "test_df = test_df.merge(\n",
    "    test_add_df,\n",
    "    on=['collectionName', 'phoneName', 'millisSinceGpsEpoch']\n",
    ")"
   ]
  },
  {
   "cell_type": "code",
   "execution_count": null,
   "metadata": {},
   "outputs": [],
   "source": []
  },
  {
   "cell_type": "code",
   "execution_count": 17,
   "metadata": {
    "ExecuteTime": {
     "end_time": "2021-06-19T03:38:03.429585Z",
     "start_time": "2021-06-19T03:37:58.386587Z"
    }
   },
   "outputs": [
    {
     "name": "stdout",
     "output_type": "stream",
     "text": [
      "error meter: 3.846848374990639\n",
      "score: 5.287970649084159\n"
     ]
    }
   ],
   "source": [
    "# check score\n",
    "train_df, default_loss, default_meas = check_score(train_df)"
   ]
  },
  {
   "cell_type": "markdown",
   "metadata": {},
   "source": [
    "# Feature Engineering\n",
    "## Simple view, what is in data frame."
   ]
  },
  {
   "cell_type": "code",
   "execution_count": 45,
   "metadata": {
    "ExecuteTime": {
     "end_time": "2021-06-19T06:40:51.952681Z",
     "start_time": "2021-06-19T06:40:51.919691Z"
    }
   },
   "outputs": [
    {
     "name": "stdout",
     "output_type": "stream",
     "text": [
      "(2207029, 32)\n"
     ]
    },
    {
     "data": {
      "text/html": [
       "<div>\n",
       "<style scoped>\n",
       "    .dataframe tbody tr th:only-of-type {\n",
       "        vertical-align: middle;\n",
       "    }\n",
       "\n",
       "    .dataframe tbody tr th {\n",
       "        vertical-align: top;\n",
       "    }\n",
       "\n",
       "    .dataframe thead th {\n",
       "        text-align: right;\n",
       "    }\n",
       "</style>\n",
       "<table border=\"1\" class=\"dataframe\">\n",
       "  <thead>\n",
       "    <tr style=\"text-align: right;\">\n",
       "      <th></th>\n",
       "      <th>collectionName</th>\n",
       "      <th>phoneName</th>\n",
       "      <th>millisSinceGpsEpoch</th>\n",
       "      <th>latDeg</th>\n",
       "      <th>lngDeg</th>\n",
       "      <th>heightAboveWgs84EllipsoidM</th>\n",
       "      <th>phone</th>\n",
       "      <th>timeSinceFirstFixSeconds</th>\n",
       "      <th>hDop</th>\n",
       "      <th>vDop</th>\n",
       "      <th>...</th>\n",
       "      <th>xSatVelMps</th>\n",
       "      <th>ySatVelMps</th>\n",
       "      <th>zSatVelMps</th>\n",
       "      <th>satClkBiasM</th>\n",
       "      <th>satClkDriftMps</th>\n",
       "      <th>rawPrM</th>\n",
       "      <th>rawPrUncM</th>\n",
       "      <th>isrbM</th>\n",
       "      <th>ionoDelayM</th>\n",
       "      <th>tropoDelayM</th>\n",
       "    </tr>\n",
       "  </thead>\n",
       "  <tbody>\n",
       "    <tr>\n",
       "      <th>0</th>\n",
       "      <td>2020-05-14-US-MTV-1</td>\n",
       "      <td>Pixel4</td>\n",
       "      <td>1273529464442</td>\n",
       "      <td>37.423578</td>\n",
       "      <td>-122.094101</td>\n",
       "      <td>-33.29</td>\n",
       "      <td>2020-05-14-US-MTV-1_Pixel4</td>\n",
       "      <td>552.44</td>\n",
       "      <td>1.1</td>\n",
       "      <td>0.0</td>\n",
       "      <td>...</td>\n",
       "      <td>-325.826</td>\n",
       "      <td>156.040</td>\n",
       "      <td>3559.757</td>\n",
       "      <td>-468.084</td>\n",
       "      <td>0.001</td>\n",
       "      <td>2.379498e+07</td>\n",
       "      <td>11.992</td>\n",
       "      <td>1134.758</td>\n",
       "      <td>10.866</td>\n",
       "      <td>16.647</td>\n",
       "    </tr>\n",
       "    <tr>\n",
       "      <th>1</th>\n",
       "      <td>2020-05-14-US-MTV-1</td>\n",
       "      <td>Pixel4</td>\n",
       "      <td>1273529464442</td>\n",
       "      <td>37.423578</td>\n",
       "      <td>-122.094101</td>\n",
       "      <td>-33.29</td>\n",
       "      <td>2020-05-14-US-MTV-1_Pixel4</td>\n",
       "      <td>552.44</td>\n",
       "      <td>1.1</td>\n",
       "      <td>0.0</td>\n",
       "      <td>...</td>\n",
       "      <td>2239.305</td>\n",
       "      <td>700.815</td>\n",
       "      <td>1022.014</td>\n",
       "      <td>120171.076</td>\n",
       "      <td>0.000</td>\n",
       "      <td>2.352251e+07</td>\n",
       "      <td>1.799</td>\n",
       "      <td>-222.675</td>\n",
       "      <td>3.946</td>\n",
       "      <td>2.717</td>\n",
       "    </tr>\n",
       "    <tr>\n",
       "      <th>2</th>\n",
       "      <td>2020-05-14-US-MTV-1</td>\n",
       "      <td>Pixel4</td>\n",
       "      <td>1273529464442</td>\n",
       "      <td>37.423578</td>\n",
       "      <td>-122.094101</td>\n",
       "      <td>-33.29</td>\n",
       "      <td>2020-05-14-US-MTV-1_Pixel4</td>\n",
       "      <td>552.44</td>\n",
       "      <td>1.1</td>\n",
       "      <td>0.0</td>\n",
       "      <td>...</td>\n",
       "      <td>325.541</td>\n",
       "      <td>-419.725</td>\n",
       "      <td>3129.012</td>\n",
       "      <td>-3793.067</td>\n",
       "      <td>-0.001</td>\n",
       "      <td>2.305231e+07</td>\n",
       "      <td>4.197</td>\n",
       "      <td>0.000</td>\n",
       "      <td>7.554</td>\n",
       "      <td>5.704</td>\n",
       "    </tr>\n",
       "    <tr>\n",
       "      <th>3</th>\n",
       "      <td>2020-05-14-US-MTV-1</td>\n",
       "      <td>Pixel4</td>\n",
       "      <td>1273529464442</td>\n",
       "      <td>37.423578</td>\n",
       "      <td>-122.094101</td>\n",
       "      <td>-33.29</td>\n",
       "      <td>2020-05-14-US-MTV-1_Pixel4</td>\n",
       "      <td>552.44</td>\n",
       "      <td>1.1</td>\n",
       "      <td>0.0</td>\n",
       "      <td>...</td>\n",
       "      <td>2172.409</td>\n",
       "      <td>561.971</td>\n",
       "      <td>-1326.001</td>\n",
       "      <td>259937.286</td>\n",
       "      <td>-0.000</td>\n",
       "      <td>2.699715e+07</td>\n",
       "      <td>8.094</td>\n",
       "      <td>-222.675</td>\n",
       "      <td>7.968</td>\n",
       "      <td>9.151</td>\n",
       "    </tr>\n",
       "    <tr>\n",
       "      <th>4</th>\n",
       "      <td>2020-05-14-US-MTV-1</td>\n",
       "      <td>Pixel4</td>\n",
       "      <td>1273529464442</td>\n",
       "      <td>37.423578</td>\n",
       "      <td>-122.094101</td>\n",
       "      <td>-33.29</td>\n",
       "      <td>2020-05-14-US-MTV-1_Pixel4</td>\n",
       "      <td>552.44</td>\n",
       "      <td>1.1</td>\n",
       "      <td>0.0</td>\n",
       "      <td>...</td>\n",
       "      <td>-426.094</td>\n",
       "      <td>-1395.675</td>\n",
       "      <td>-2467.793</td>\n",
       "      <td>-179555.991</td>\n",
       "      <td>-0.001</td>\n",
       "      <td>2.349123e+07</td>\n",
       "      <td>2.698</td>\n",
       "      <td>-222.675</td>\n",
       "      <td>3.834</td>\n",
       "      <td>2.544</td>\n",
       "    </tr>\n",
       "  </tbody>\n",
       "</table>\n",
       "<p>5 rows × 32 columns</p>\n",
       "</div>"
      ],
      "text/plain": [
       "        collectionName phoneName  millisSinceGpsEpoch     latDeg      lngDeg  \\\n",
       "0  2020-05-14-US-MTV-1    Pixel4        1273529464442  37.423578 -122.094101   \n",
       "1  2020-05-14-US-MTV-1    Pixel4        1273529464442  37.423578 -122.094101   \n",
       "2  2020-05-14-US-MTV-1    Pixel4        1273529464442  37.423578 -122.094101   \n",
       "3  2020-05-14-US-MTV-1    Pixel4        1273529464442  37.423578 -122.094101   \n",
       "4  2020-05-14-US-MTV-1    Pixel4        1273529464442  37.423578 -122.094101   \n",
       "\n",
       "   heightAboveWgs84EllipsoidM                       phone  \\\n",
       "0                      -33.29  2020-05-14-US-MTV-1_Pixel4   \n",
       "1                      -33.29  2020-05-14-US-MTV-1_Pixel4   \n",
       "2                      -33.29  2020-05-14-US-MTV-1_Pixel4   \n",
       "3                      -33.29  2020-05-14-US-MTV-1_Pixel4   \n",
       "4                      -33.29  2020-05-14-US-MTV-1_Pixel4   \n",
       "\n",
       "   timeSinceFirstFixSeconds  hDop  vDop  ...  xSatVelMps  ySatVelMps  \\\n",
       "0                    552.44   1.1   0.0  ...    -325.826     156.040   \n",
       "1                    552.44   1.1   0.0  ...    2239.305     700.815   \n",
       "2                    552.44   1.1   0.0  ...     325.541    -419.725   \n",
       "3                    552.44   1.1   0.0  ...    2172.409     561.971   \n",
       "4                    552.44   1.1   0.0  ...    -426.094   -1395.675   \n",
       "\n",
       "   zSatVelMps  satClkBiasM  satClkDriftMps        rawPrM  rawPrUncM     isrbM  \\\n",
       "0    3559.757     -468.084           0.001  2.379498e+07     11.992  1134.758   \n",
       "1    1022.014   120171.076           0.000  2.352251e+07      1.799  -222.675   \n",
       "2    3129.012    -3793.067          -0.001  2.305231e+07      4.197     0.000   \n",
       "3   -1326.001   259937.286          -0.000  2.699715e+07      8.094  -222.675   \n",
       "4   -2467.793  -179555.991          -0.001  2.349123e+07      2.698  -222.675   \n",
       "\n",
       "   ionoDelayM  tropoDelayM  \n",
       "0      10.866       16.647  \n",
       "1       3.946        2.717  \n",
       "2       7.554        5.704  \n",
       "3       7.968        9.151  \n",
       "4       3.834        2.544  \n",
       "\n",
       "[5 rows x 32 columns]"
      ]
     },
     "execution_count": 45,
     "metadata": {},
     "output_type": "execute_result"
    }
   ],
   "source": [
    "print(train_df.shape)\n",
    "train_df.head()"
   ]
  },
  {
   "cell_type": "code",
   "execution_count": 46,
   "metadata": {
    "ExecuteTime": {
     "end_time": "2021-06-19T06:41:14.861721Z",
     "start_time": "2021-06-19T06:41:14.832722Z"
    },
    "scrolled": true
   },
   "outputs": [
    {
     "name": "stdout",
     "output_type": "stream",
     "text": [
      "(1398289, 24)\n"
     ]
    },
    {
     "data": {
      "text/html": [
       "<div>\n",
       "<style scoped>\n",
       "    .dataframe tbody tr th:only-of-type {\n",
       "        vertical-align: middle;\n",
       "    }\n",
       "\n",
       "    .dataframe tbody tr th {\n",
       "        vertical-align: top;\n",
       "    }\n",
       "\n",
       "    .dataframe thead th {\n",
       "        text-align: right;\n",
       "    }\n",
       "</style>\n",
       "<table border=\"1\" class=\"dataframe\">\n",
       "  <thead>\n",
       "    <tr style=\"text-align: right;\">\n",
       "      <th></th>\n",
       "      <th>collectionName</th>\n",
       "      <th>phoneName</th>\n",
       "      <th>millisSinceGpsEpoch</th>\n",
       "      <th>latDeg</th>\n",
       "      <th>lngDeg</th>\n",
       "      <th>heightAboveWgs84EllipsoidM</th>\n",
       "      <th>phone</th>\n",
       "      <th>constellationType</th>\n",
       "      <th>svid</th>\n",
       "      <th>signalType</th>\n",
       "      <th>...</th>\n",
       "      <th>xSatVelMps</th>\n",
       "      <th>ySatVelMps</th>\n",
       "      <th>zSatVelMps</th>\n",
       "      <th>satClkBiasM</th>\n",
       "      <th>satClkDriftMps</th>\n",
       "      <th>rawPrM</th>\n",
       "      <th>rawPrUncM</th>\n",
       "      <th>isrbM</th>\n",
       "      <th>ionoDelayM</th>\n",
       "      <th>tropoDelayM</th>\n",
       "    </tr>\n",
       "  </thead>\n",
       "  <tbody>\n",
       "    <tr>\n",
       "      <th>0</th>\n",
       "      <td>2020-05-15-US-MTV-1</td>\n",
       "      <td>Pixel4</td>\n",
       "      <td>1273608801654</td>\n",
       "      <td>37.416566</td>\n",
       "      <td>-122.082111</td>\n",
       "      <td>-27.75</td>\n",
       "      <td>2020-05-15-US-MTV-1_Pixel4</td>\n",
       "      <td>1</td>\n",
       "      <td>2</td>\n",
       "      <td>GPS_L1</td>\n",
       "      <td>...</td>\n",
       "      <td>302.889</td>\n",
       "      <td>-47.613</td>\n",
       "      <td>3160.562</td>\n",
       "      <td>-136834.396</td>\n",
       "      <td>-0.002</td>\n",
       "      <td>2.175749e+07</td>\n",
       "      <td>3.598</td>\n",
       "      <td>0.000</td>\n",
       "      <td>4.784</td>\n",
       "      <td>3.446</td>\n",
       "    </tr>\n",
       "    <tr>\n",
       "      <th>1</th>\n",
       "      <td>2020-05-15-US-MTV-1</td>\n",
       "      <td>Pixel4</td>\n",
       "      <td>1273608801654</td>\n",
       "      <td>37.416566</td>\n",
       "      <td>-122.082111</td>\n",
       "      <td>-27.75</td>\n",
       "      <td>2020-05-15-US-MTV-1_Pixel4</td>\n",
       "      <td>1</td>\n",
       "      <td>6</td>\n",
       "      <td>GPS_L1</td>\n",
       "      <td>...</td>\n",
       "      <td>823.829</td>\n",
       "      <td>1072.241</td>\n",
       "      <td>2823.713</td>\n",
       "      <td>-81575.055</td>\n",
       "      <td>-0.002</td>\n",
       "      <td>2.086392e+07</td>\n",
       "      <td>2.998</td>\n",
       "      <td>0.000</td>\n",
       "      <td>3.944</td>\n",
       "      <td>2.849</td>\n",
       "    </tr>\n",
       "    <tr>\n",
       "      <th>2</th>\n",
       "      <td>2020-05-15-US-MTV-1</td>\n",
       "      <td>Pixel4</td>\n",
       "      <td>1273608801654</td>\n",
       "      <td>37.416566</td>\n",
       "      <td>-122.082111</td>\n",
       "      <td>-27.75</td>\n",
       "      <td>2020-05-15-US-MTV-1_Pixel4</td>\n",
       "      <td>6</td>\n",
       "      <td>25</td>\n",
       "      <td>GAL_E1</td>\n",
       "      <td>...</td>\n",
       "      <td>23.951</td>\n",
       "      <td>-536.768</td>\n",
       "      <td>-2983.575</td>\n",
       "      <td>-153084.743</td>\n",
       "      <td>-0.000</td>\n",
       "      <td>2.569017e+07</td>\n",
       "      <td>2.398</td>\n",
       "      <td>-216.118</td>\n",
       "      <td>5.918</td>\n",
       "      <td>4.439</td>\n",
       "    </tr>\n",
       "    <tr>\n",
       "      <th>3</th>\n",
       "      <td>2020-05-15-US-MTV-1</td>\n",
       "      <td>Pixel4</td>\n",
       "      <td>1273608801654</td>\n",
       "      <td>37.416566</td>\n",
       "      <td>-122.082111</td>\n",
       "      <td>-27.75</td>\n",
       "      <td>2020-05-15-US-MTV-1_Pixel4</td>\n",
       "      <td>1</td>\n",
       "      <td>17</td>\n",
       "      <td>GPS_L1</td>\n",
       "      <td>...</td>\n",
       "      <td>2640.705</td>\n",
       "      <td>239.526</td>\n",
       "      <td>-798.715</td>\n",
       "      <td>79526.801</td>\n",
       "      <td>0.003</td>\n",
       "      <td>2.268504e+07</td>\n",
       "      <td>1.799</td>\n",
       "      <td>0.000</td>\n",
       "      <td>5.496</td>\n",
       "      <td>4.392</td>\n",
       "    </tr>\n",
       "    <tr>\n",
       "      <th>4</th>\n",
       "      <td>2020-05-15-US-MTV-1</td>\n",
       "      <td>Pixel4</td>\n",
       "      <td>1273608801654</td>\n",
       "      <td>37.416566</td>\n",
       "      <td>-122.082111</td>\n",
       "      <td>-27.75</td>\n",
       "      <td>2020-05-15-US-MTV-1_Pixel4</td>\n",
       "      <td>3</td>\n",
       "      <td>22</td>\n",
       "      <td>GLO_G1</td>\n",
       "      <td>...</td>\n",
       "      <td>2429.314</td>\n",
       "      <td>1613.344</td>\n",
       "      <td>1483.924</td>\n",
       "      <td>-418.462</td>\n",
       "      <td>-0.001</td>\n",
       "      <td>1.972285e+07</td>\n",
       "      <td>4.797</td>\n",
       "      <td>1144.294</td>\n",
       "      <td>3.714</td>\n",
       "      <td>2.857</td>\n",
       "    </tr>\n",
       "  </tbody>\n",
       "</table>\n",
       "<p>5 rows × 24 columns</p>\n",
       "</div>"
      ],
      "text/plain": [
       "        collectionName phoneName  millisSinceGpsEpoch     latDeg      lngDeg  \\\n",
       "0  2020-05-15-US-MTV-1    Pixel4        1273608801654  37.416566 -122.082111   \n",
       "1  2020-05-15-US-MTV-1    Pixel4        1273608801654  37.416566 -122.082111   \n",
       "2  2020-05-15-US-MTV-1    Pixel4        1273608801654  37.416566 -122.082111   \n",
       "3  2020-05-15-US-MTV-1    Pixel4        1273608801654  37.416566 -122.082111   \n",
       "4  2020-05-15-US-MTV-1    Pixel4        1273608801654  37.416566 -122.082111   \n",
       "\n",
       "   heightAboveWgs84EllipsoidM                       phone  constellationType  \\\n",
       "0                      -27.75  2020-05-15-US-MTV-1_Pixel4                  1   \n",
       "1                      -27.75  2020-05-15-US-MTV-1_Pixel4                  1   \n",
       "2                      -27.75  2020-05-15-US-MTV-1_Pixel4                  6   \n",
       "3                      -27.75  2020-05-15-US-MTV-1_Pixel4                  1   \n",
       "4                      -27.75  2020-05-15-US-MTV-1_Pixel4                  3   \n",
       "\n",
       "   svid signalType  ...  xSatVelMps  ySatVelMps  zSatVelMps  satClkBiasM  \\\n",
       "0     2     GPS_L1  ...     302.889     -47.613    3160.562  -136834.396   \n",
       "1     6     GPS_L1  ...     823.829    1072.241    2823.713   -81575.055   \n",
       "2    25     GAL_E1  ...      23.951    -536.768   -2983.575  -153084.743   \n",
       "3    17     GPS_L1  ...    2640.705     239.526    -798.715    79526.801   \n",
       "4    22     GLO_G1  ...    2429.314    1613.344    1483.924     -418.462   \n",
       "\n",
       "   satClkDriftMps        rawPrM  rawPrUncM     isrbM  ionoDelayM  tropoDelayM  \n",
       "0          -0.002  2.175749e+07      3.598     0.000       4.784        3.446  \n",
       "1          -0.002  2.086392e+07      2.998     0.000       3.944        2.849  \n",
       "2          -0.000  2.569017e+07      2.398  -216.118       5.918        4.439  \n",
       "3           0.003  2.268504e+07      1.799     0.000       5.496        4.392  \n",
       "4          -0.001  1.972285e+07      4.797  1144.294       3.714        2.857  \n",
       "\n",
       "[5 rows x 24 columns]"
      ]
     },
     "execution_count": 46,
     "metadata": {},
     "output_type": "execute_result"
    }
   ],
   "source": [
    "print(test_df.shape)\n",
    "test_df.head()"
   ]
  },
  {
   "cell_type": "code",
   "execution_count": 49,
   "metadata": {
    "ExecuteTime": {
     "end_time": "2021-06-19T06:45:04.825591Z",
     "start_time": "2021-06-19T06:45:04.814585Z"
    }
   },
   "outputs": [
    {
     "name": "stdout",
     "output_type": "stream",
     "text": [
      "Index(['collectionName', 'phoneName', 'millisSinceGpsEpoch', 'latDeg',\n",
      "       'lngDeg', 'heightAboveWgs84EllipsoidM', 'phone',\n",
      "       'timeSinceFirstFixSeconds', 'hDop', 'vDop', 'speedMps', 'courseDegree',\n",
      "       't_latDeg', 't_lngDeg', 't_heightAboveWgs84EllipsoidM',\n",
      "       'constellationType', 'svid', 'signalType', 'receivedSvTimeInGpsNanos',\n",
      "       'xSatPosM', 'ySatPosM', 'zSatPosM', 'xSatVelMps', 'ySatVelMps',\n",
      "       'zSatVelMps', 'satClkBiasM', 'satClkDriftMps', 'rawPrM', 'rawPrUncM',\n",
      "       'isrbM', 'ionoDelayM', 'tropoDelayM'],\n",
      "      dtype='object')\n",
      "Index(['collectionName', 'phoneName', 'millisSinceGpsEpoch', 'latDeg',\n",
      "       'lngDeg', 'heightAboveWgs84EllipsoidM', 'phone', 'constellationType',\n",
      "       'svid', 'signalType', 'receivedSvTimeInGpsNanos', 'xSatPosM',\n",
      "       'ySatPosM', 'zSatPosM', 'xSatVelMps', 'ySatVelMps', 'zSatVelMps',\n",
      "       'satClkBiasM', 'satClkDriftMps', 'rawPrM', 'rawPrUncM', 'isrbM',\n",
      "       'ionoDelayM', 'tropoDelayM'],\n",
      "      dtype='object')\n",
      "{'speedMps', 'courseDegree', 'vDop', 't_heightAboveWgs84EllipsoidM', 'hDop', 't_latDeg', 'timeSinceFirstFixSeconds', 't_lngDeg'}\n",
      "{'ySatPosM', 'signalType', 'millisSinceGpsEpoch', 'xSatVelMps', 'ySatVelMps', 'latDeg', 'satClkBiasM', 'constellationType', 'phone', 'heightAboveWgs84EllipsoidM', 'collectionName', 'tropoDelayM', 'zSatPosM', 'isrbM', 'phoneName', 'rawPrM', 'ionoDelayM', 'rawPrUncM', 'lngDeg', 'svid', 'receivedSvTimeInGpsNanos', 'zSatVelMps', 'xSatPosM', 'satClkDriftMps'}\n"
     ]
    }
   ],
   "source": [
    "print(train_df.columns)\n",
    "print(test_df.columns)\n",
    "print(set(train_df.columns) - set(test_df.columns))\n",
    "print(set(train_df.columns) and set(test_df.columns))"
   ]
  },
  {
   "cell_type": "markdown",
   "metadata": {},
   "source": [
    "## signalType"
   ]
  },
  {
   "cell_type": "code",
   "execution_count": 51,
   "metadata": {
    "ExecuteTime": {
     "end_time": "2021-06-19T06:46:55.609053Z",
     "start_time": "2021-06-19T06:46:55.431065Z"
    }
   },
   "outputs": [
    {
     "data": {
      "text/plain": [
       "GPS_L1     666959\n",
       "GAL_E1     417448\n",
       "GLO_G1     392574\n",
       "GAL_E5A    290413\n",
       "BDS_B1I    227752\n",
       "GPS_L5     185206\n",
       "QZS_J1      17237\n",
       "QZS_J5       9440\n",
       "Name: signalType, dtype: int64"
      ]
     },
     "execution_count": 51,
     "metadata": {},
     "output_type": "execute_result"
    }
   ],
   "source": [
    "train_df['signalType'].value_counts()"
   ]
  },
  {
   "cell_type": "code",
   "execution_count": null,
   "metadata": {},
   "outputs": [],
   "source": []
  },
  {
   "cell_type": "code",
   "execution_count": null,
   "metadata": {},
   "outputs": [],
   "source": []
  },
  {
   "cell_type": "code",
   "execution_count": null,
   "metadata": {},
   "outputs": [],
   "source": []
  },
  {
   "cell_type": "code",
   "execution_count": 20,
   "metadata": {
    "ExecuteTime": {
     "end_time": "2021-06-19T03:38:03.504586Z",
     "start_time": "2021-06-19T03:38:03.478587Z"
    }
   },
   "outputs": [
    {
     "name": "stdout",
     "output_type": "stream",
     "text": [
      "(131342, 3) (131342, 3)\n"
     ]
    }
   ],
   "source": [
    "def extract_features(df, train = True):\n",
    "    Xcols = ['latDeg', 'lngDeg', 'heightAboveWgs84EllipsoidM']\n",
    "    Ycols = ['t_latDeg', 't_lngDeg', 't_heightAboveWgs84EllipsoidM']\n",
    "    \n",
    "    X = df[Xcols]\n",
    "    if train:\n",
    "        y = df[Ycols]\n",
    "    else:\n",
    "        y = None\n",
    "    \n",
    "    return np.array(X), np.array(y)\n",
    "\n",
    "X, y = extract_features(train_df)\n",
    "\n",
    "print(X.shape, y.shape)"
   ]
  },
  {
   "cell_type": "markdown",
   "metadata": {},
   "source": [
    "# Modeling"
   ]
  },
  {
   "cell_type": "code",
   "execution_count": 21,
   "metadata": {
    "ExecuteTime": {
     "end_time": "2021-06-19T03:38:05.320475Z",
     "start_time": "2021-06-19T03:38:05.306475Z"
    }
   },
   "outputs": [],
   "source": [
    "# build model\n",
    "class SimpleNetwork(nn.Module):\n",
    "    def __init__(self, input_size, output_size):\n",
    "        super().__init__()\n",
    "        \n",
    "        self.fc1 = nn.Linear(input_size, 256)\n",
    "        self.fc2 = nn.Linear(256, 256)\n",
    "        self.fc3 = nn.Linear(256, 256)\n",
    "        self.fc4 = nn.Linear(256, 256)\n",
    "        self.fc5 = nn.Linear(256, output_size)\n",
    "        \n",
    "        self.dropout_30 = nn.Dropout(p = 0.3)\n",
    "        self.dropout_60 = nn.Dropout(p = 0.6)\n",
    "    \n",
    "    def forward(self, x):\n",
    "        x =  F.relu(self.fc1(x))\n",
    "        x = self.dropout_60(x)\n",
    "        x =  F.relu(self.fc2(x))\n",
    "        x = self.dropout_60(x)\n",
    "        x =  F.relu(self.fc3(x))\n",
    "        x = self.dropout_30(x)\n",
    "        x =  F.relu(self.fc4(x))\n",
    "        x = self.dropout_30(x)\n",
    "        x = self.fc5(x)\n",
    "        \n",
    "        return x\n",
    "    \n",
    "model = SimpleNetwork(len(colNames[0]), len(colNames[1]))\n",
    "loss_func = nn.MSELoss()\n",
    "optimizer = optim.Adam(model.parameters(), lr = lr)"
   ]
  },
  {
   "cell_type": "code",
   "execution_count": 22,
   "metadata": {
    "ExecuteTime": {
     "end_time": "2021-06-19T03:38:05.350473Z",
     "start_time": "2021-06-19T03:38:05.321477Z"
    }
   },
   "outputs": [],
   "source": [
    "# Create DataLoader\n",
    "X_train, X_test, y_train, y_test = train_test_split(X, y, test_size = 1/7, random_state = 1990)\n",
    "\n",
    "X_train = torch.Tensor(X_train)\n",
    "X_test = torch.Tensor(X_test)\n",
    "y_train = torch.Tensor(y_train)\n",
    "y_test = torch.Tensor(y_test)\n",
    "\n",
    "ds_train = TensorDataset(X_train, y_train)\n",
    "ds_test = TensorDataset(X_test, y_test)\n",
    "\n",
    "loader_train = DataLoader(ds_train, batch_size = batch_size, shuffle = True)\n",
    "loader_test = DataLoader(ds_test, batch_size = batch_size, shuffle = False)"
   ]
  },
  {
   "cell_type": "code",
   "execution_count": 23,
   "metadata": {
    "ExecuteTime": {
     "end_time": "2021-06-19T03:38:05.365476Z",
     "start_time": "2021-06-19T03:38:05.351478Z"
    }
   },
   "outputs": [],
   "source": [
    "def train(epoch):\n",
    "    model.train()  # 신경망을 학습 모드로 전환\n",
    "\n",
    "    # 데이터로더에서 미니배치를 하나씩 꺼내 학습을 수행\n",
    "    predict = []\n",
    "    ground = []\n",
    "    for data, targets in loader_train:\n",
    "\n",
    "        optimizer.zero_grad()  # 경사를 0으로 초기화\n",
    "        outputs = model(data)  # 데이터를 입력하고 출력을 계산\n",
    "        loss = loss_func(outputs, targets)  # 출력과 훈련 데이터 정답 간의 오차를 계산\n",
    "        loss.backward()  # 오차를 역전파 계산\n",
    "        optimizer.step()  # 역전파 계산한 값으로 가중치를 수정\n",
    "        \n",
    "        predict.append(outputs)\n",
    "        ground.append(targets)\n",
    "\n",
    "    # 정확도 출력\n",
    "    predict = torch.cat(predict,axis = 0)\n",
    "    ground = torch.cat(ground,axis = 0)\n",
    "    \n",
    "    loss = loss_func(outputs, targets)\n",
    "    meas = check_score_np(outputs, targets)\n",
    "    return loss, meas"
   ]
  },
  {
   "cell_type": "code",
   "execution_count": 24,
   "metadata": {
    "ExecuteTime": {
     "end_time": "2021-06-19T03:38:05.380473Z",
     "start_time": "2021-06-19T03:38:05.366474Z"
    }
   },
   "outputs": [],
   "source": [
    "def test():\n",
    "    model.eval()  # 신경망을 추론 모드로 전환\n",
    "\n",
    "    # 데이터로더에서 미니배치를 하나씩 꺼내 추론을 수행\n",
    "    predict = []\n",
    "    ground = []\n",
    "    with torch.no_grad():  # 추론 과정에는 미분이 필요없음\n",
    "        for data, targets in loader_test:\n",
    "\n",
    "            outputs = model(data)  # 데이터를 입력하고 출력을 계산\n",
    "            predict.append(outputs)\n",
    "            ground.append(targets)\n",
    "\n",
    "    # 정확도 출력\n",
    "    predict = torch.cat(predict,axis = 0)\n",
    "    ground = torch.cat(ground,axis = 0)\n",
    "    \n",
    "    loss = loss_func(outputs, targets)\n",
    "    meas = check_score_np(outputs, targets)\n",
    "    return loss, meas"
   ]
  },
  {
   "cell_type": "code",
   "execution_count": 25,
   "metadata": {
    "ExecuteTime": {
     "end_time": "2021-06-19T03:38:05.815474Z",
     "start_time": "2021-06-19T03:38:05.381475Z"
    }
   },
   "outputs": [
    {
     "data": {
      "text/plain": [
       "(tensor(9001.0146), 12871694.734990098)"
      ]
     },
     "execution_count": 25,
     "metadata": {},
     "output_type": "execute_result"
    }
   ],
   "source": [
    "test()"
   ]
  },
  {
   "cell_type": "code",
   "execution_count": 26,
   "metadata": {
    "ExecuteTime": {
     "end_time": "2021-06-19T03:55:15.356951Z",
     "start_time": "2021-06-19T03:38:05.816475Z"
    },
    "scrolled": true
   },
   "outputs": [
    {
     "name": "stdout",
     "output_type": "stream",
     "text": [
      "\n",
      "/***CHECK_POINT***/ \n",
      "TRAIN - 908.495849609375, 3790829.7525941497\n",
      "TEST - 2907.022705078125, 7477130.127365131\n",
      "\n",
      "/*** EPOCH : 1/100 ***/\n",
      "TRAIN - 908.495849609375, 3790829.7525941497\n",
      "TEST - 2907.022705078125, 7477130.127365131\n",
      "\n",
      "\n",
      "/***CHECK_POINT***/ \n",
      "TRAIN - 693.81005859375, 3238748.508471665\n",
      "TEST - 2755.439208984375, 7395842.029175227\n",
      "\n",
      "/*** EPOCH : 2/100 ***/\n",
      "TRAIN - 693.81005859375, 3238748.508471665\n",
      "TEST - 2755.439208984375, 7395842.029175227\n",
      "\n",
      "\n",
      "/***CHECK_POINT***/ \n",
      "TRAIN - 310.2518005371094, 2701410.3942269846\n",
      "TEST - 2951.06005859375, 7340503.930602292\n",
      "\n",
      "/*** EPOCH : 3/100 ***/\n",
      "TRAIN - 310.2518005371094, 2701410.3942269846\n",
      "TEST - 2951.06005859375, 7340503.930602292\n",
      "\n",
      "/*** EPOCH : 4/100 ***/\n",
      "TRAIN - 142.86158752441406, 2008669.3828915646\n",
      "TEST - 3125.209716796875, 7444513.41396263\n",
      "\n",
      "/*** EPOCH : 5/100 ***/\n",
      "TRAIN - 957.2861938476562, 1127488.3356089848\n",
      "TEST - 3347.560302734375, 7765341.687877843\n",
      "\n",
      "/*** EPOCH : 6/100 ***/\n",
      "TRAIN - 216.255126953125, 1411243.3052726034\n",
      "TEST - 3127.7919921875, 7561248.112806318\n",
      "\n",
      "/*** EPOCH : 7/100 ***/\n",
      "TRAIN - 455.1038513183594, 3710923.2856435273\n",
      "TEST - 3288.275390625, 7612595.472118242\n",
      "\n",
      "/*** EPOCH : 8/100 ***/\n",
      "TRAIN - 578.0300903320312, 3429196.2877667397\n",
      "TEST - 3216.94873046875, 7701083.32478393\n",
      "\n",
      "\n",
      "/***CHECK_POINT***/ \n",
      "TRAIN - 374.610595703125, 1911364.5745839395\n",
      "TEST - 3018.094970703125, 7262931.888900109\n",
      "\n",
      "/*** EPOCH : 9/100 ***/\n",
      "TRAIN - 374.610595703125, 1911364.5745839395\n",
      "TEST - 3018.094970703125, 7262931.888900109\n",
      "\n",
      "\n",
      "/***CHECK_POINT***/ \n",
      "TRAIN - 978.6741333007812, 3854621.124424033\n",
      "TEST - 3008.795654296875, 7229792.406961056\n",
      "\n",
      "/*** EPOCH : 10/100 ***/\n",
      "TRAIN - 978.6741333007812, 3854621.124424033\n",
      "TEST - 3008.795654296875, 7229792.406961056\n",
      "\n",
      "\n",
      "/***CHECK_POINT***/ \n",
      "TRAIN - 676.5145874023438, 4086348.0383130563\n",
      "TEST - 2941.046142578125, 7060399.368440714\n",
      "\n",
      "/*** EPOCH : 11/100 ***/\n",
      "TRAIN - 676.5145874023438, 4086348.0383130563\n",
      "TEST - 2941.046142578125, 7060399.368440714\n",
      "\n",
      "\n",
      "/***CHECK_POINT***/ \n",
      "TRAIN - 229.2863006591797, 2629650.437361045\n",
      "TEST - 2842.875244140625, 6872102.8812833605\n",
      "\n",
      "/*** EPOCH : 12/100 ***/\n",
      "TRAIN - 229.2863006591797, 2629650.437361045\n",
      "TEST - 2842.875244140625, 6872102.8812833605\n",
      "\n",
      "\n",
      "/***CHECK_POINT***/ \n",
      "TRAIN - 309.5191955566406, 2657269.593541326\n",
      "TEST - 2545.441650390625, 6546600.561322536\n",
      "\n",
      "/*** EPOCH : 13/100 ***/\n",
      "TRAIN - 309.5191955566406, 2657269.593541326\n",
      "TEST - 2545.441650390625, 6546600.561322536\n",
      "\n",
      "\n",
      "/***CHECK_POINT***/ \n",
      "TRAIN - 179.6145477294922, 223044.5745141803\n",
      "TEST - 2478.845947265625, 6219961.316579391\n",
      "\n",
      "/*** EPOCH : 14/100 ***/\n",
      "TRAIN - 179.6145477294922, 223044.5745141803\n",
      "TEST - 2478.845947265625, 6219961.316579391\n",
      "\n",
      "/*** EPOCH : 15/100 ***/\n",
      "TRAIN - 364.4889221191406, 2615898.880720804\n",
      "TEST - 2506.85546875, 6540411.411995117\n",
      "\n",
      "\n",
      "/***CHECK_POINT***/ \n",
      "TRAIN - 106.2757568359375, 363538.88407085394\n",
      "TEST - 2342.609130859375, 6182534.428527961\n",
      "\n",
      "/*** EPOCH : 16/100 ***/\n",
      "TRAIN - 106.2757568359375, 363538.88407085394\n",
      "TEST - 2342.609130859375, 6182534.428527961\n",
      "\n",
      "/*** EPOCH : 17/100 ***/\n",
      "TRAIN - 178.52879333496094, 2104518.7249081\n",
      "TEST - 2306.312255859375, 6185322.423868905\n",
      "\n",
      "\n",
      "/***CHECK_POINT***/ \n",
      "TRAIN - 140.01634216308594, 778207.3939922259\n",
      "TEST - 2091.705810546875, 5769036.226314792\n",
      "\n",
      "/*** EPOCH : 18/100 ***/\n",
      "TRAIN - 140.01634216308594, 778207.3939922259\n",
      "TEST - 2091.705810546875, 5769036.226314792\n",
      "\n",
      "/*** EPOCH : 19/100 ***/\n",
      "TRAIN - 312.51116943359375, 2424405.4190670364\n",
      "TEST - 2202.3662109375, 5911683.31308249\n",
      "\n",
      "\n",
      "/***CHECK_POINT***/ \n",
      "TRAIN - 165.5481719970703, 2099657.3864587275\n",
      "TEST - 1975.6143798828125, 5614319.1694327695\n",
      "\n",
      "/*** EPOCH : 20/100 ***/\n",
      "TRAIN - 165.5481719970703, 2099657.3864587275\n",
      "TEST - 1975.6143798828125, 5614319.1694327695\n",
      "\n",
      "\n",
      "/***CHECK_POINT***/ \n",
      "TRAIN - 242.47023010253906, 1599900.8313656938\n",
      "TEST - 2011.3663330078125, 5518104.889534233\n",
      "\n",
      "/*** EPOCH : 21/100 ***/\n",
      "TRAIN - 242.47023010253906, 1599900.8313656938\n",
      "TEST - 2011.3663330078125, 5518104.889534233\n",
      "\n",
      "\n",
      "/***CHECK_POINT***/ \n",
      "TRAIN - 17.303102493286133, 529435.2590764555\n",
      "TEST - 1892.3446044921875, 5248500.396886478\n",
      "\n",
      "/*** EPOCH : 22/100 ***/\n",
      "TRAIN - 17.303102493286133, 529435.2590764555\n",
      "TEST - 1892.3446044921875, 5248500.396886478\n",
      "\n",
      "\n",
      "/***CHECK_POINT***/ \n",
      "TRAIN - 1865.9888916015625, 2211927.1809048206\n",
      "TEST - 1755.125732421875, 4992241.322998942\n",
      "\n",
      "/*** EPOCH : 23/100 ***/\n",
      "TRAIN - 1865.9888916015625, 2211927.1809048206\n",
      "TEST - 1755.125732421875, 4992241.322998942\n",
      "\n",
      "/*** EPOCH : 24/100 ***/\n",
      "TRAIN - 88.30841827392578, 1479628.6767180518\n",
      "TEST - 1875.883056640625, 5273548.148702909\n",
      "\n",
      "\n",
      "/***CHECK_POINT***/ \n",
      "TRAIN - 352.4784851074219, 1994265.7827522045\n",
      "TEST - 1713.337890625, 4876598.576179508\n",
      "\n",
      "/*** EPOCH : 25/100 ***/\n",
      "TRAIN - 352.4784851074219, 1994265.7827522045\n",
      "TEST - 1713.337890625, 4876598.576179508\n",
      "\n",
      "\n",
      "/***CHECK_POINT***/ \n",
      "TRAIN - 92.10013580322266, 1468426.828714009\n",
      "TEST - 1530.0443115234375, 4637938.554682797\n",
      "\n",
      "/*** EPOCH : 26/100 ***/\n",
      "TRAIN - 92.10013580322266, 1468426.828714009\n",
      "TEST - 1530.0443115234375, 4637938.554682797\n",
      "\n",
      "\n",
      "/***CHECK_POINT***/ \n",
      "TRAIN - 101.98540496826172, 1111182.5169098633\n",
      "TEST - 1496.9981689453125, 4534924.189754041\n",
      "\n",
      "/*** EPOCH : 27/100 ***/\n",
      "TRAIN - 101.98540496826172, 1111182.5169098633\n",
      "TEST - 1496.9981689453125, 4534924.189754041\n",
      "\n",
      "/*** EPOCH : 28/100 ***/\n",
      "TRAIN - 151.01454162597656, 1904475.4194184048\n",
      "TEST - 1676.2845458984375, 4779135.20149496\n",
      "\n",
      "\n",
      "/***CHECK_POINT***/ \n",
      "TRAIN - 28.811189651489258, 356114.2889947099\n",
      "TEST - 1401.15673828125, 4286858.167593538\n",
      "\n",
      "/*** EPOCH : 29/100 ***/\n",
      "TRAIN - 28.811189651489258, 356114.2889947099\n",
      "TEST - 1401.15673828125, 4286858.167593538\n",
      "\n",
      "\n",
      "/***CHECK_POINT***/ \n",
      "TRAIN - 3292.353515625, 4560060.535745494\n",
      "TEST - 1300.7581787109375, 4155159.4802352805\n",
      "\n",
      "/*** EPOCH : 30/100 ***/\n",
      "TRAIN - 3292.353515625, 4560060.535745494\n",
      "TEST - 1300.7581787109375, 4155159.4802352805\n",
      "\n",
      "/*** EPOCH : 31/100 ***/\n",
      "TRAIN - 284.22528076171875, 1735582.45937919\n",
      "TEST - 1385.6790771484375, 4180158.9810684514\n",
      "\n",
      "\n",
      "/***CHECK_POINT***/ \n",
      "TRAIN - 345.2818603515625, 2081174.9939850713\n",
      "TEST - 1255.135986328125, 3749568.845247044\n",
      "\n",
      "/*** EPOCH : 32/100 ***/\n",
      "TRAIN - 345.2818603515625, 2081174.9939850713\n",
      "TEST - 1255.135986328125, 3749568.845247044\n",
      "\n",
      "/*** EPOCH : 33/100 ***/\n",
      "TRAIN - 952.2033081054688, 1653759.5938275377\n",
      "TEST - 1304.87939453125, 3825717.940300947\n",
      "\n",
      "\n",
      "/***CHECK_POINT***/ \n",
      "TRAIN - 708.6455688476562, 2401156.7261821968\n",
      "TEST - 986.3451538085938, 3243628.6258263765\n",
      "\n",
      "/*** EPOCH : 34/100 ***/\n",
      "TRAIN - 708.6455688476562, 2401156.7261821968\n",
      "TEST - 986.3451538085938, 3243628.6258263765\n",
      "\n",
      "\n",
      "/***CHECK_POINT***/ \n",
      "TRAIN - 1164.0274658203125, 3219702.4790086695\n",
      "TEST - 869.15283203125, 2880525.62969078\n",
      "\n",
      "/*** EPOCH : 35/100 ***/\n",
      "TRAIN - 1164.0274658203125, 3219702.4790086695\n",
      "TEST - 869.15283203125, 2880525.62969078\n",
      "\n",
      "\n",
      "/***CHECK_POINT***/ \n",
      "TRAIN - 1057.7410888671875, 4733673.510424642\n",
      "TEST - 877.8472900390625, 2675840.0262779435\n",
      "\n",
      "/*** EPOCH : 36/100 ***/\n",
      "TRAIN - 1057.7410888671875, 4733673.510424642\n",
      "TEST - 877.8472900390625, 2675840.0262779435\n",
      "\n",
      "\n",
      "/***CHECK_POINT***/ \n",
      "TRAIN - 54.534027099609375, 1043390.1586512959\n",
      "TEST - 596.3887939453125, 2215585.156437791\n",
      "\n",
      "/*** EPOCH : 37/100 ***/\n",
      "TRAIN - 54.534027099609375, 1043390.1586512959\n",
      "TEST - 596.3887939453125, 2215585.156437791\n",
      "\n",
      "\n",
      "/***CHECK_POINT***/ \n",
      "TRAIN - 1683.6083984375, 1332449.8376431144\n",
      "TEST - 508.9255676269531, 1856828.0541718511\n",
      "\n",
      "/*** EPOCH : 38/100 ***/\n",
      "TRAIN - 1683.6083984375, 1332449.8376431144\n",
      "TEST - 508.9255676269531, 1856828.0541718511\n",
      "\n",
      "/*** EPOCH : 39/100 ***/\n",
      "TRAIN - 323.2577209472656, 2749939.8211397836\n",
      "TEST - 555.4571533203125, 1893414.065869145\n",
      "\n",
      "\n",
      "/***CHECK_POINT***/ \n",
      "TRAIN - 369.9319152832031, 1960592.949020964\n",
      "TEST - 435.499267578125, 1388267.6510082642\n",
      "\n",
      "/*** EPOCH : 40/100 ***/\n",
      "TRAIN - 369.9319152832031, 1960592.949020964\n",
      "TEST - 435.499267578125, 1388267.6510082642\n",
      "\n",
      "\n",
      "/***CHECK_POINT***/ \n",
      "TRAIN - 211.76983642578125, 2127744.0439652717\n",
      "TEST - 400.49884033203125, 1320595.7370525475\n",
      "\n",
      "/*** EPOCH : 41/100 ***/\n",
      "TRAIN - 211.76983642578125, 2127744.0439652717\n",
      "TEST - 400.49884033203125, 1320595.7370525475\n",
      "\n",
      "\n",
      "/***CHECK_POINT***/ \n",
      "TRAIN - 344.3710021972656, 816640.1931992525\n",
      "TEST - 256.6458435058594, 1053939.2794218087\n",
      "\n",
      "/*** EPOCH : 42/100 ***/\n",
      "TRAIN - 344.3710021972656, 816640.1931992525\n",
      "TEST - 256.6458435058594, 1053939.2794218087\n",
      "\n",
      "/*** EPOCH : 43/100 ***/\n",
      "TRAIN - 90.78009033203125, 1249921.0538733024\n",
      "TEST - 283.7308349609375, 1099534.375612203\n",
      "\n"
     ]
    },
    {
     "name": "stdout",
     "output_type": "stream",
     "text": [
      "/*** EPOCH : 44/100 ***/\n",
      "TRAIN - 55.29536056518555, 1073275.9732029443\n",
      "TEST - 295.140869140625, 1299700.3348957815\n",
      "\n",
      "\n",
      "/***CHECK_POINT***/ \n",
      "TRAIN - 65.12344360351562, 1088512.8541948968\n",
      "TEST - 205.8097686767578, 916552.799187234\n",
      "\n",
      "/*** EPOCH : 45/100 ***/\n",
      "TRAIN - 65.12344360351562, 1088512.8541948968\n",
      "TEST - 205.8097686767578, 916552.799187234\n",
      "\n",
      "/*** EPOCH : 46/100 ***/\n",
      "TRAIN - 597.55078125, 2395249.0530093526\n",
      "TEST - 254.14813232421875, 1051841.257444839\n",
      "\n",
      "\n",
      "/***CHECK_POINT***/ \n",
      "TRAIN - 84.10248565673828, 1407221.9802313512\n",
      "TEST - 203.83314514160156, 712203.7799850162\n",
      "\n",
      "/*** EPOCH : 47/100 ***/\n",
      "TRAIN - 84.10248565673828, 1407221.9802313512\n",
      "TEST - 203.83314514160156, 712203.7799850162\n",
      "\n",
      "\n",
      "/***CHECK_POINT***/ \n",
      "TRAIN - 128.2888946533203, 1298654.7742978076\n",
      "TEST - 120.48467254638672, 432099.625743025\n",
      "\n",
      "/*** EPOCH : 48/100 ***/\n",
      "TRAIN - 128.2888946533203, 1298654.7742978076\n",
      "TEST - 120.48467254638672, 432099.625743025\n",
      "\n",
      "/*** EPOCH : 49/100 ***/\n",
      "TRAIN - 78.21881103515625, 1147080.0935185032\n",
      "TEST - 187.64601135253906, 809666.7667046962\n",
      "\n",
      "/*** EPOCH : 50/100 ***/\n",
      "TRAIN - 50.03437423706055, 937625.7048545035\n",
      "TEST - 157.27780151367188, 762401.5539746553\n",
      "\n",
      "/*** EPOCH : 51/100 ***/\n",
      "TRAIN - 47.610843658447266, 958231.4494146062\n",
      "TEST - 131.6890411376953, 637303.6949019069\n",
      "\n",
      "/*** EPOCH : 52/100 ***/\n",
      "TRAIN - 252.15419006347656, 1632072.472113037\n",
      "TEST - 156.03091430664062, 717115.6130722885\n",
      "\n",
      "/*** EPOCH : 53/100 ***/\n",
      "TRAIN - 54.679622650146484, 831881.1072084862\n",
      "TEST - 109.92694854736328, 432568.2976668299\n",
      "\n",
      "/*** EPOCH : 54/100 ***/\n",
      "TRAIN - 27.487077713012695, 443075.6744109602\n",
      "TEST - 164.1146240234375, 636204.8363577613\n",
      "\n",
      "/*** EPOCH : 55/100 ***/\n",
      "TRAIN - 54.59685134887695, 1220731.8902690702\n",
      "TEST - 129.9264678955078, 517733.0592942778\n",
      "\n",
      "/*** EPOCH : 56/100 ***/\n",
      "TRAIN - 253.52667236328125, 839494.9977829545\n",
      "TEST - 140.86988830566406, 503166.5801743049\n",
      "\n",
      "/*** EPOCH : 57/100 ***/\n",
      "TRAIN - 394.5966491699219, 771541.7321042395\n",
      "TEST - 119.29971313476562, 712462.8035550159\n",
      "\n",
      "\n",
      "/***CHECK_POINT***/ \n",
      "TRAIN - 70.53194427490234, 916461.0782403161\n",
      "TEST - 91.69544982910156, 333930.38256513147\n",
      "\n",
      "/*** EPOCH : 58/100 ***/\n",
      "TRAIN - 70.53194427490234, 916461.0782403161\n",
      "TEST - 91.69544982910156, 333930.38256513147\n",
      "\n",
      "/*** EPOCH : 59/100 ***/\n",
      "TRAIN - 85.95536041259766, 891309.6629057014\n",
      "TEST - 89.03389739990234, 465447.25459441316\n",
      "\n",
      "/*** EPOCH : 60/100 ***/\n",
      "TRAIN - 33.11550521850586, 361001.51639551757\n",
      "TEST - 74.17161560058594, 430741.74046878924\n",
      "\n",
      "/*** EPOCH : 61/100 ***/\n",
      "TRAIN - 33.67900466918945, 494294.425092058\n",
      "TEST - 105.60808563232422, 565181.3639754044\n",
      "\n",
      "/*** EPOCH : 62/100 ***/\n",
      "TRAIN - 6.1772332191467285, 156397.69492679284\n",
      "TEST - 96.9079360961914, 371894.58521675493\n",
      "\n",
      "\n",
      "/***CHECK_POINT***/ \n",
      "TRAIN - 34.168827056884766, 704652.0655126007\n",
      "TEST - 65.71373748779297, 304418.70659849775\n",
      "\n",
      "/*** EPOCH : 63/100 ***/\n",
      "TRAIN - 34.168827056884766, 704652.0655126007\n",
      "TEST - 65.71373748779297, 304418.70659849775\n",
      "\n",
      "/*** EPOCH : 64/100 ***/\n",
      "TRAIN - 105.09832763671875, 621391.9552037553\n",
      "TEST - 79.92379760742188, 343998.6568711222\n",
      "\n",
      "\n",
      "/***CHECK_POINT***/ \n",
      "TRAIN - 8.06846809387207, 342682.53760225466\n",
      "TEST - 80.32665252685547, 259609.7662947902\n",
      "\n",
      "/*** EPOCH : 65/100 ***/\n",
      "TRAIN - 8.06846809387207, 342682.53760225466\n",
      "TEST - 80.32665252685547, 259609.7662947902\n",
      "\n",
      "/*** EPOCH : 66/100 ***/\n",
      "TRAIN - 37.92281723022461, 978346.354730315\n",
      "TEST - 78.13821411132812, 348956.0540102443\n",
      "\n",
      "/*** EPOCH : 67/100 ***/\n",
      "TRAIN - 106.55753326416016, 1399964.7079705298\n",
      "TEST - 72.62744903564453, 301444.04035460914\n",
      "\n",
      "/*** EPOCH : 68/100 ***/\n",
      "TRAIN - 37.370052337646484, 794419.6603548583\n",
      "TEST - 62.42877197265625, 280223.7591086555\n",
      "\n",
      "\n",
      "/***CHECK_POINT***/ \n",
      "TRAIN - 11.483444213867188, 115599.72970580487\n",
      "TEST - 67.06072998046875, 211827.4096651499\n",
      "\n",
      "/*** EPOCH : 69/100 ***/\n",
      "TRAIN - 11.483444213867188, 115599.72970580487\n",
      "TEST - 67.06072998046875, 211827.4096651499\n",
      "\n",
      "\n",
      "/***CHECK_POINT***/ \n",
      "TRAIN - 259.1504821777344, 131617.25095215018\n",
      "TEST - 82.53890991210938, 199709.88084746344\n",
      "\n",
      "/*** EPOCH : 70/100 ***/\n",
      "TRAIN - 259.1504821777344, 131617.25095215018\n",
      "TEST - 82.53890991210938, 199709.88084746344\n",
      "\n",
      "/*** EPOCH : 71/100 ***/\n",
      "TRAIN - 13.619521141052246, 443341.8326395027\n",
      "TEST - 90.19039916992188, 351726.1909149268\n",
      "\n",
      "/*** EPOCH : 72/100 ***/\n",
      "TRAIN - 24.588056564331055, 726802.8464026692\n",
      "TEST - 84.69381713867188, 394909.73570181703\n",
      "\n",
      "/*** EPOCH : 73/100 ***/\n",
      "TRAIN - 70.90568542480469, 905708.1931884161\n",
      "TEST - 61.35003662109375, 200135.61693348328\n",
      "\n",
      "\n",
      "/***CHECK_POINT***/ \n",
      "TRAIN - 23.06793212890625, 645778.065439167\n",
      "TEST - 65.00173950195312, 100741.83463206637\n",
      "\n",
      "/*** EPOCH : 74/100 ***/\n",
      "TRAIN - 23.06793212890625, 645778.065439167\n",
      "TEST - 65.00173950195312, 100741.83463206637\n",
      "\n",
      "/*** EPOCH : 75/100 ***/\n",
      "TRAIN - 71.07463836669922, 149994.64840512176\n",
      "TEST - 75.79183959960938, 169003.07858725678\n",
      "\n",
      "/*** EPOCH : 76/100 ***/\n",
      "TRAIN - 76.87468719482422, 57409.15516833415\n",
      "TEST - 54.945350646972656, 146981.86810048245\n",
      "\n",
      "/*** EPOCH : 77/100 ***/\n",
      "TRAIN - 14.230647087097168, 423972.7805202347\n",
      "TEST - 59.12792205810547, 144321.14814013723\n",
      "\n",
      "/*** EPOCH : 78/100 ***/\n",
      "TRAIN - 5.047550201416016, 322860.2171376743\n",
      "TEST - 62.85280990600586, 125475.99966224235\n",
      "\n",
      "/*** EPOCH : 79/100 ***/\n",
      "TRAIN - 20.254894256591797, 303651.2675079879\n",
      "TEST - 38.82626724243164, 112720.77915390837\n",
      "\n",
      "/*** EPOCH : 80/100 ***/\n",
      "TRAIN - 62.06669616699219, 151479.31610080774\n",
      "TEST - 36.87540817260742, 195860.41538824543\n",
      "\n",
      "/*** EPOCH : 81/100 ***/\n",
      "TRAIN - 85.33330535888672, 240539.2646211614\n",
      "TEST - 71.8244857788086, 212553.24530108934\n",
      "\n",
      "/*** EPOCH : 82/100 ***/\n",
      "TRAIN - 11.628471374511719, 104748.34967418811\n",
      "TEST - 40.05070114135742, 130815.97104195999\n",
      "\n",
      "\n",
      "/***CHECK_POINT***/ \n",
      "TRAIN - 20.496028900146484, 105662.03633756847\n",
      "TEST - 63.43160629272461, 97264.41893418762\n",
      "\n",
      "/*** EPOCH : 83/100 ***/\n",
      "TRAIN - 20.496028900146484, 105662.03633756847\n",
      "TEST - 63.43160629272461, 97264.41893418762\n",
      "\n",
      "/*** EPOCH : 84/100 ***/\n",
      "TRAIN - 9.552103996276855, 97903.47331803446\n",
      "TEST - 41.88404846191406, 206189.30171240278\n",
      "\n",
      "/*** EPOCH : 85/100 ***/\n",
      "TRAIN - 1.115031361579895, 114510.92577696695\n",
      "TEST - 35.34653854370117, 160957.24202473328\n",
      "\n",
      "\n",
      "/***CHECK_POINT***/ \n",
      "TRAIN - 26.51143455505371, 106969.08312532771\n",
      "TEST - 75.34971618652344, 89531.35955116847\n",
      "\n",
      "/*** EPOCH : 86/100 ***/\n",
      "TRAIN - 26.51143455505371, 106969.08312532771\n",
      "TEST - 75.34971618652344, 89531.35955116847\n",
      "\n",
      "\n",
      "/***CHECK_POINT***/ \n",
      "TRAIN - 8.537216186523438, 74214.93252445097\n",
      "TEST - 49.34421920776367, 66318.911199053\n",
      "\n",
      "/*** EPOCH : 87/100 ***/\n",
      "TRAIN - 8.537216186523438, 74214.93252445097\n",
      "TEST - 49.34421920776367, 66318.911199053\n",
      "\n",
      "/*** EPOCH : 88/100 ***/\n",
      "TRAIN - 1.7603631019592285, 67340.89318330935\n",
      "TEST - 46.09736633300781, 90252.25518330379\n",
      "\n",
      "/*** EPOCH : 89/100 ***/\n",
      "TRAIN - 1.252144455909729, 101794.39264733173\n",
      "TEST - 24.82124900817871, 112977.11986211884\n",
      "\n",
      "/*** EPOCH : 90/100 ***/\n",
      "TRAIN - 4.677443981170654, 77055.8906359101\n",
      "TEST - 33.94379806518555, 135992.282799114\n",
      "\n",
      "/*** EPOCH : 91/100 ***/\n",
      "TRAIN - 116.00711059570312, 79090.97557066291\n",
      "TEST - 24.438640594482422, 124773.99226116393\n",
      "\n",
      "/*** EPOCH : 92/100 ***/\n",
      "TRAIN - 77.06444549560547, 46074.771374957745\n",
      "TEST - 31.98612403869629, 70973.8484697747\n",
      "\n",
      "/*** EPOCH : 93/100 ***/\n",
      "TRAIN - 96.8733901977539, 24544.731413231555\n",
      "TEST - 56.52513885498047, 66972.38484309244\n",
      "\n",
      "\n",
      "/***CHECK_POINT***/ \n",
      "TRAIN - 1.7892764806747437, 48601.18296985535\n",
      "TEST - 34.12734603881836, 37408.889748664944\n",
      "\n",
      "/*** EPOCH : 94/100 ***/\n",
      "TRAIN - 1.7892764806747437, 48601.18296985535\n",
      "TEST - 34.12734603881836, 37408.889748664944\n",
      "\n",
      "/*** EPOCH : 95/100 ***/\n",
      "TRAIN - 934.7323608398438, 30766.8141069716\n",
      "TEST - 72.7108154296875, 55095.77473279726\n",
      "\n",
      "\n",
      "/***CHECK_POINT***/ \n",
      "TRAIN - 23.07893180847168, 14069.4193258144\n",
      "TEST - 43.43952941894531, 14344.742999128564\n",
      "\n",
      "/*** EPOCH : 96/100 ***/\n",
      "TRAIN - 23.07893180847168, 14069.4193258144\n",
      "TEST - 43.43952941894531, 14344.742999128564\n",
      "\n",
      "/*** EPOCH : 97/100 ***/\n",
      "TRAIN - 16.321016311645508, 11177.717742869507\n",
      "TEST - 23.851171493530273, 45995.00929990899\n",
      "\n",
      "/*** EPOCH : 98/100 ***/\n",
      "TRAIN - 3.7996318340301514, 15467.274550660879\n",
      "TEST - 28.054412841796875, 23603.57616817404\n",
      "\n",
      "/*** EPOCH : 99/100 ***/\n",
      "TRAIN - 7.882350444793701, 42531.332502326244\n",
      "TEST - 26.253772735595703, 38056.11230667972\n",
      "\n",
      "/*** EPOCH : 100/100 ***/\n",
      "TRAIN - 5.733308792114258, 17643.60081303444\n",
      "TEST - 42.66607666015625, 20722.679577670548\n",
      "\n"
     ]
    }
   ],
   "source": [
    "history = []\n",
    "\n",
    "check_meas = np.inf\n",
    "check_loss = np.inf\n",
    "check_epoch = 0\n",
    "\n",
    "for epoch in range(EPOCH_NUM):\n",
    "    train_loss, train_meas = train(epoch)\n",
    "    test_loss, test_meas = test()\n",
    "    \n",
    "    history.append({'epoch':epoch, 'train_loss':train_loss, 'train_meas':train_meas, 'test_loss':test_loss, 'test_meas':test_meas})\n",
    "    \n",
    "    if (test_meas < check_meas):\n",
    "        print(\"\")\n",
    "        print(f\"/***CHECK_POINT***/ \")\n",
    "        print(f\"TRAIN - {train_loss}, {train_meas}\")\n",
    "        print(f\"TEST - {test_loss}, {test_meas}\")\n",
    "        print(\"\")\n",
    "        check_meas = test_meas\n",
    "        check_loss = test_loss\n",
    "        check_epoch = epoch\n",
    "        torch.save(model.state_dict(), checkpoint_path)\n",
    "    \n",
    "    print(f\"/*** EPOCH : {epoch+1}/{EPOCH_NUM} ***/\")\n",
    "    print(f\"TRAIN - {train_loss}, {train_meas}\")\n",
    "    print(f\"TEST - {test_loss}, {test_meas}\")\n",
    "    print(\"\")\n",
    "    \n",
    "df_history = pd.DataFrame(history)"
   ]
  },
  {
   "cell_type": "code",
   "execution_count": 27,
   "metadata": {
    "ExecuteTime": {
     "end_time": "2021-06-19T03:55:16.871951Z",
     "start_time": "2021-06-19T03:55:16.677952Z"
    }
   },
   "outputs": [
    {
     "data": {
      "text/plain": [
       "<matplotlib.lines.Line2D at 0x2c38d334470>"
      ]
     },
     "execution_count": 27,
     "metadata": {},
     "output_type": "execute_result"
    },
    {
     "data": {
      "image/png": "[encoded data removed]",
      "text/plain": [
       "<Figure size 576x864 with 2 Axes>"
      ]
     },
     "metadata": {
      "needs_background": "light"
     },
     "output_type": "display_data"
    }
   ],
   "source": [
    "fig, axes = plt.subplots(2,1,figsize = (8,12))\n",
    "\n",
    "axes[0].plot(df_history['epoch'], df_history['train_loss'])\n",
    "axes[0].plot(df_history['epoch'], df_history['test_loss'])\n",
    "axes[0].axvline(x = check_epoch, ymin = 0, ymax = df_history['test_loss'].max(), color = 'r')\n",
    "axes[0].axhline(y = default_loss, xmin = 0, xmax = df_history['epoch'].max(), color = 'k')\n",
    "\n",
    "axes[1].plot(df_history['epoch'], df_history['train_meas'])\n",
    "axes[1].plot(df_history['epoch'], df_history['test_meas'])\n",
    "axes[1].axvline(x = check_epoch, ymin = 0, ymax = df_history['test_meas'].max(), color = 'r')\n",
    "axes[1].axhline(y = default_meas, xmin = 0, xmax = df_history['epoch'].max(), color = 'k')"
   ]
  },
  {
   "cell_type": "code",
   "execution_count": 28,
   "metadata": {
    "ExecuteTime": {
     "end_time": "2021-06-19T03:55:16.886951Z",
     "start_time": "2021-06-19T03:55:16.872952Z"
    }
   },
   "outputs": [],
   "source": [
    "model.load_state_dict(torch.load(checkpoint_path))\n",
    "torch.save(model.state_dict(), model_path)"
   ]
  },
  {
   "cell_type": "markdown",
   "metadata": {},
   "source": [
    "# Submission"
   ]
  },
  {
   "cell_type": "code",
   "execution_count": 29,
   "metadata": {
    "ExecuteTime": {
     "end_time": "2021-06-19T03:55:16.961953Z",
     "start_time": "2021-06-19T03:55:16.888952Z"
    }
   },
   "outputs": [],
   "source": [
    "# Load submission sample\n",
    "submission = pd.read_csv(\"../input/google-smartphone-decimeter-challenge/sample_submission.csv\")"
   ]
  },
  {
   "cell_type": "code",
   "execution_count": 30,
   "metadata": {
    "ExecuteTime": {
     "end_time": "2021-06-19T03:55:19.646989Z",
     "start_time": "2021-06-19T03:55:19.632990Z"
    }
   },
   "outputs": [
    {
     "data": {
      "text/plain": [
       "<All keys matched successfully>"
      ]
     },
     "execution_count": 30,
     "metadata": {},
     "output_type": "execute_result"
    }
   ],
   "source": [
    "model = SimpleNetwork(X.shape[1], y.shape[1])\n",
    "\n",
    "model.load_state_dict(torch.load(model_path))"
   ]
  },
  {
   "cell_type": "code",
   "execution_count": 31,
   "metadata": {
    "ExecuteTime": {
     "end_time": "2021-06-19T03:55:22.226716Z",
     "start_time": "2021-06-19T03:55:20.667716Z"
    }
   },
   "outputs": [],
   "source": [
    "X, _ = extract_features(test_df, train = False)\n",
    "\n",
    "X = torch.Tensor(X)\n",
    "\n",
    "loader_test = DataLoader(X, batch_size = batch_size, shuffle = False)\n",
    "\n",
    "model.eval()  # 신경망을 추론 모드로 전환\n",
    "\n",
    "# 데이터로더에서 미니배치를 하나씩 꺼내 추론을 수행\n",
    "predict = []\n",
    "with torch.no_grad():  # 추론 과정에는 미분이 필요없음\n",
    "    for data in loader_test:\n",
    "\n",
    "        outputs = model(data)  # 데이터를 입력하고 출력을 계산\n",
    "        predict.append(outputs)\n",
    "predict = torch.cat(predict, axis = 0)"
   ]
  },
  {
   "cell_type": "code",
   "execution_count": 32,
   "metadata": {
    "ExecuteTime": {
     "end_time": "2021-06-19T03:55:50.668097Z",
     "start_time": "2021-06-19T03:55:50.654098Z"
    }
   },
   "outputs": [
    {
     "data": {
      "text/plain": [
       "torch.Size([91486, 3])"
      ]
     },
     "execution_count": 32,
     "metadata": {},
     "output_type": "execute_result"
    }
   ],
   "source": [
    "predict.shape"
   ]
  },
  {
   "cell_type": "code",
   "execution_count": 33,
   "metadata": {
    "ExecuteTime": {
     "end_time": "2021-06-19T03:55:52.708097Z",
     "start_time": "2021-06-19T03:55:52.694100Z"
    }
   },
   "outputs": [
    {
     "data": {
      "text/plain": [
       "Index(['phone', 'millisSinceGpsEpoch', 'latDeg', 'lngDeg'], dtype='object')"
      ]
     },
     "execution_count": 33,
     "metadata": {},
     "output_type": "execute_result"
    }
   ],
   "source": [
    "submission.shape\n",
    "submission.columns"
   ]
  },
  {
   "cell_type": "code",
   "execution_count": 34,
   "metadata": {
    "ExecuteTime": {
     "end_time": "2021-06-19T03:55:55.348281Z",
     "start_time": "2021-06-19T03:55:54.734282Z"
    }
   },
   "outputs": [],
   "source": [
    "submission['latDeg'] = predict[:,1]\n",
    "submission['lngDeg'] = predict[:,2]"
   ]
  },
  {
   "cell_type": "code",
   "execution_count": 35,
   "metadata": {
    "ExecuteTime": {
     "end_time": "2021-06-19T03:55:57.688372Z",
     "start_time": "2021-06-19T03:55:57.374373Z"
    }
   },
   "outputs": [],
   "source": [
    "submission.to_csv(f\"./models/{notebookName}/{num_files} - result.csv\", index = False)\n",
    "pd.DataFrame([]).to_csv(dummy_path)"
   ]
  },
  {
   "cell_type": "code",
   "execution_count": null,
   "metadata": {
    "ExecuteTime": {
     "end_time": "2021-06-19T01:57:01.692286Z",
     "start_time": "2021-06-19T01:56:30.624Z"
    }
   },
   "outputs": [],
   "source": []
  },
  {
   "cell_type": "code",
   "execution_count": null,
   "metadata": {},
   "outputs": [],
   "source": []
  }
 ],
 "metadata": {
  "hide_input": false,
  "kernelspec": {
   "display_name": "torch",
   "language": "python",
   "name": "torch"
  },
  "language_info": {
   "codemirror_mode": {
    "name": "ipython",
    "version": 3
   },
   "file_extension": ".py",
   "mimetype": "text/x-python",
   "name": "python",
   "nbconvert_exporter": "python",
   "pygments_lexer": "ipython3",
   "version": "3.6.12"
  },
  "latex_envs": {
   "LaTeX_envs_menu_present": true,
   "autoclose": false,
   "autocomplete": true,
   "bibliofile": "biblio.bib",
   "cite_by": "apalike",
   "current_citInitial": 1,
   "eqLabelWithNumbers": true,
   "eqNumInitial": 1,
   "hotkeys": {
    "equation": "Ctrl-E",
    "itemize": "Ctrl-I"
   },
   "labels_anchors": false,
   "latex_user_defs": false,
   "report_style_numbering": false,
   "user_envs_cfg": false
  },
  "toc": {
   "base_numbering": 1,
   "nav_menu": {},
   "number_sections": true,
   "sideBar": true,
   "skip_h1_title": false,
   "title_cell": "Table of Contents",
   "title_sidebar": "Contents",
   "toc_cell": false,
   "toc_position": {},
   "toc_section_display": true,
   "toc_window_display": true
  },
  "varInspector": {
   "cols": {
    "lenName": 16,
    "lenType": 16,
    "lenVar": 40
   },
   "kernels_config": {
    "python": {
     "delete_cmd_postfix": "",
     "delete_cmd_prefix": "del ",
     "library": "var_list.py",
     "varRefreshCmd": "print(var_dic_list())"
    },
    "r": {
     "delete_cmd_postfix": ") ",
     "delete_cmd_prefix": "rm(",
     "library": "var_list.r",
     "varRefreshCmd": "cat(var_dic_list()) "
    }
   },
   "types_to_exclude": [
    "module",
    "function",
    "builtin_function_or_method",
    "instance",
    "_Feature"
   ],
   "window_display": false
  }
 },
 "nbformat": 4,
 "nbformat_minor": 4
}
