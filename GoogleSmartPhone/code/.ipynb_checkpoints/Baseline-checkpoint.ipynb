{
 "cells": [
  {
   "cell_type": "markdown",
   "metadata": {},
   "source": [
    "# references\n",
    "1. https://www.kaggle.com/columbia2131/device-eda-interpolate-by-removing-device-en-ja"
   ]
  },
  {
   "cell_type": "markdown",
   "metadata": {},
   "source": [
    "# Load Libraries"
   ]
  },
  {
   "cell_type": "code",
   "execution_count": 1,
   "metadata": {
    "ExecuteTime": {
     "end_time": "2021-06-19T07:57:56.902705Z",
     "start_time": "2021-06-19T07:57:45.497483Z"
    }
   },
   "outputs": [],
   "source": [
    "import numpy as np\n",
    "import pandas as pd\n",
    "from glob import glob\n",
    "import os\n",
    "import matplotlib.pyplot as plt\n",
    "from tqdm.notebook import tqdm\n",
    "from pathlib import Path\n",
    "import plotly.express as px\n",
    "\n",
    "import torch\n",
    "import torch.nn as nn\n",
    "import torch.nn.functional as F\n",
    "import torch.optim as optim\n",
    "from torch.utils.data import TensorDataset, DataLoader\n",
    "from sklearn.model_selection import train_test_split"
   ]
  },
  {
   "cell_type": "code",
   "execution_count": 2,
   "metadata": {
    "ExecuteTime": {
     "end_time": "2021-06-19T07:57:56.978153Z",
     "start_time": "2021-06-19T07:57:56.903696Z"
    }
   },
   "outputs": [
    {
     "name": "stdout",
     "output_type": "stream",
     "text": [
      "cuda:0\n"
     ]
    }
   ],
   "source": [
    "device = torch.device('cuda:0' if torch.cuda.is_available() else \"cpu\")\n",
    "print(device)"
   ]
  },
  {
   "cell_type": "code",
   "execution_count": 9,
   "metadata": {
    "ExecuteTime": {
     "end_time": "2021-06-19T07:58:01.514478Z",
     "start_time": "2021-06-19T07:58:01.506477Z"
    }
   },
   "outputs": [
    {
     "name": "stdout",
     "output_type": "stream",
     "text": [
      "Baseline\n"
     ]
    }
   ],
   "source": [
    "notebookName = 'Baseline'\n",
    "PATH = Path(f\"./models/{notebookName}\")"
   ]
  },
  {
   "cell_type": "code",
   "execution_count": 10,
   "metadata": {
    "ExecuteTime": {
     "end_time": "2021-06-19T07:58:02.010017Z",
     "start_time": "2021-06-19T07:58:01.995020Z"
    }
   },
   "outputs": [
    {
     "name": "stdout",
     "output_type": "stream",
     "text": [
      "0\n",
      "1\n",
      "2\n"
     ]
    }
   ],
   "source": [
    "if os.path.isdir(PATH):\n",
    "    dir_list = os.listdir(PATH)\n",
    "    num_files = 0\n",
    "    while True:\n",
    "        if os.path.isfile(str(PATH / f\"{num_files}\")):\n",
    "            print(num_files)\n",
    "            num_files += 1\n",
    "        else:\n",
    "            break\n",
    "else:\n",
    "    os.mkdir(PATH)\n",
    "    num_files = 0"
   ]
  },
  {
   "cell_type": "code",
   "execution_count": 11,
   "metadata": {
    "ExecuteTime": {
     "end_time": "2021-06-19T07:58:02.190548Z",
     "start_time": "2021-06-19T07:58:02.180022Z"
    }
   },
   "outputs": [
    {
     "data": {
      "text/plain": [
       "3"
      ]
     },
     "execution_count": 11,
     "metadata": {},
     "output_type": "execute_result"
    }
   ],
   "source": [
    "num_files"
   ]
  },
  {
   "cell_type": "code",
   "execution_count": 12,
   "metadata": {
    "ExecuteTime": {
     "end_time": "2021-06-19T07:58:02.400562Z",
     "start_time": "2021-06-19T07:58:02.362549Z"
    }
   },
   "outputs": [
    {
     "data": {
      "text/plain": [
       "('models\\\\Baseline\\\\model - 3.pth',\n",
       " 'models\\\\Baseline\\\\param - 3.pth',\n",
       " 'models\\\\Baseline\\\\result - 3.csv')"
      ]
     },
     "execution_count": 12,
     "metadata": {},
     "output_type": "execute_result"
    }
   ],
   "source": [
    "RANDOM_STATE = 1990\n",
    "lr = 0.001\n",
    "batch_size = 128\n",
    "EPOCH_NUM = 1\n",
    "\n",
    "torch.manual_seed(RANDOM_STATE)\n",
    "\n",
    "experience_name = f\"{num_files}\"\n",
    "checkpoint_name = \"check_point\"\n",
    "model_name = str(\"model - \" + experience_name)\n",
    "param_name = str(\"param - \" + experience_name)\n",
    "result_name = str(\"result - \" + experience_name)\n",
    "\n",
    "dummy_path = str(PATH / f\"{num_files}\")\n",
    "checkpoint_path = str(PATH / f\"{checkpoint_name}.pth\")\n",
    "model_path = str(PATH / f\"{model_name}.pth\")\n",
    "param_path = str(PATH / f\"{param_name}.pth\")\n",
    "result_path = str(PATH / f\"{result_name}.csv\")\n",
    "model_path, param_path, result_path"
   ]
  },
  {
   "cell_type": "markdown",
   "metadata": {},
   "source": [
    "# Useful Functions"
   ]
  },
  {
   "cell_type": "code",
   "execution_count": 15,
   "metadata": {
    "ExecuteTime": {
     "end_time": "2021-06-19T07:58:03.105621Z",
     "start_time": "2021-06-19T07:58:03.091618Z"
    }
   },
   "outputs": [],
   "source": [
    "def calc_haversine(lat1, lon1, lat2, lon2):\n",
    "    lat1, lon1, lat2, lon2 = map(np.radians, [lat1, lon1, lat2, lon2])\n",
    "    dlat = lat2 - lat1\n",
    "    dlon = lon2 - lon1\n",
    "    a = np.sin(dlat / 2.0)**2 + np.cos(lat1) * np.cos(lat2) * np.sin(dlon / 2.0)**2\n",
    "    \n",
    "    c = 2 * np.arcsin(a ** 0.5)\n",
    "    dist = 6_367_000 * c\n",
    "    return dist"
   ]
  },
  {
   "cell_type": "code",
   "execution_count": 16,
   "metadata": {
    "ExecuteTime": {
     "end_time": "2021-06-19T07:58:03.300636Z",
     "start_time": "2021-06-19T07:58:03.290636Z"
    }
   },
   "outputs": [],
   "source": [
    "def check_score(input_df: pd.DataFrame) -> pd.DataFrame:\n",
    "    output_df = input_df.copy()\n",
    "    \n",
    "    output_df['meter'] = input_df.apply(\n",
    "        lambda r: calc_haversine(\n",
    "            r.latDeg, r.lngDeg, r.t_latDeg, r.t_lngDeg\n",
    "        ),\n",
    "        axis=1\n",
    "    )\n",
    "\n",
    "    meter_score = output_df['meter'].mean()\n",
    "    print(f'error meter: {meter_score}')\n",
    "\n",
    "    scores = []\n",
    "    for phone in output_df['phone'].unique():\n",
    "        _index = output_df['phone']==phone\n",
    "        p_50 = np.percentile(output_df.loc[_index, 'meter'], 50)\n",
    "        p_95 = np.percentile(output_df.loc[_index, 'meter'], 95)\n",
    "        scores.append(p_50)\n",
    "        scores.append(p_95)\n",
    "\n",
    "    score = sum(scores) / len(scores)\n",
    "    print(f'score: {score}')\n",
    "    \n",
    "    return output_df, meter_score , score"
   ]
  },
  {
   "cell_type": "code",
   "execution_count": 17,
   "metadata": {
    "ExecuteTime": {
     "end_time": "2021-06-19T07:58:03.495652Z",
     "start_time": "2021-06-19T07:58:03.484651Z"
    }
   },
   "outputs": [],
   "source": [
    "def check_score_np(predict:torch.Tensor, target:torch.Tensor):\n",
    "    m = []\n",
    "    predict = predict.detach().numpy()\n",
    "    target = target.detach().numpy()\n",
    "    for i in range(predict.shape[0]):\n",
    "        temp = calc_haversine(predict[i,0], predict[i,1], target[i,0], target[i,1])\n",
    "        m.append(temp)\n",
    "    \n",
    "    m = np.array(m)\n",
    "    score = (np.percentile(m, 50) + np.percentile(m, 95))/2\n",
    "    \n",
    "    return score"
   ]
  },
  {
   "cell_type": "markdown",
   "metadata": {},
   "source": [
    "# Load Datasets"
   ]
  },
  {
   "cell_type": "code",
   "execution_count": 18,
   "metadata": {
    "ExecuteTime": {
     "end_time": "2021-06-19T07:58:47.571677Z",
     "start_time": "2021-06-19T07:58:03.842675Z"
    }
   },
   "outputs": [],
   "source": [
    "data_dir = Path(\"../input/google-smartphone-decimeter-challenge\")\n",
    "train_df = pd.read_pickle(str(PATH / \"gsdc_train.pkl.gzip\"))"
   ]
  },
  {
   "cell_type": "code",
   "execution_count": 19,
   "metadata": {
    "ExecuteTime": {
     "end_time": "2021-06-19T08:00:15.994079Z",
     "start_time": "2021-06-19T07:58:50.527677Z"
    }
   },
   "outputs": [
    {
     "name": "stdout",
     "output_type": "stream",
     "text": [
      "error meter: 3.6218629511154146\n",
      "score: 5.934988483773653\n"
     ]
    }
   ],
   "source": [
    "# check score\n",
    "train_df, default_loss, default_meas = check_score(train_df)"
   ]
  },
  {
   "cell_type": "markdown",
   "metadata": {},
   "source": [
    "# Feature Engineering\n",
    "## Simple view, what is in data frame."
   ]
  },
  {
   "cell_type": "code",
   "execution_count": 20,
   "metadata": {
    "ExecuteTime": {
     "end_time": "2021-06-19T08:00:19.342540Z",
     "start_time": "2021-06-19T08:00:19.298552Z"
    }
   },
   "outputs": [
    {
     "name": "stdout",
     "output_type": "stream",
     "text": [
      "(2207029, 33)\n"
     ]
    },
    {
     "data": {
      "text/html": [
       "<div>\n",
       "<style scoped>\n",
       "    .dataframe tbody tr th:only-of-type {\n",
       "        vertical-align: middle;\n",
       "    }\n",
       "\n",
       "    .dataframe tbody tr th {\n",
       "        vertical-align: top;\n",
       "    }\n",
       "\n",
       "    .dataframe thead th {\n",
       "        text-align: right;\n",
       "    }\n",
       "</style>\n",
       "<table border=\"1\" class=\"dataframe\">\n",
       "  <thead>\n",
       "    <tr style=\"text-align: right;\">\n",
       "      <th></th>\n",
       "      <th>collectionName</th>\n",
       "      <th>phoneName</th>\n",
       "      <th>millisSinceGpsEpoch</th>\n",
       "      <th>latDeg</th>\n",
       "      <th>lngDeg</th>\n",
       "      <th>heightAboveWgs84EllipsoidM</th>\n",
       "      <th>phone</th>\n",
       "      <th>timeSinceFirstFixSeconds</th>\n",
       "      <th>hDop</th>\n",
       "      <th>vDop</th>\n",
       "      <th>...</th>\n",
       "      <th>ySatVelMps</th>\n",
       "      <th>zSatVelMps</th>\n",
       "      <th>satClkBiasM</th>\n",
       "      <th>satClkDriftMps</th>\n",
       "      <th>rawPrM</th>\n",
       "      <th>rawPrUncM</th>\n",
       "      <th>isrbM</th>\n",
       "      <th>ionoDelayM</th>\n",
       "      <th>tropoDelayM</th>\n",
       "      <th>meter</th>\n",
       "    </tr>\n",
       "  </thead>\n",
       "  <tbody>\n",
       "    <tr>\n",
       "      <th>0</th>\n",
       "      <td>2020-05-14-US-MTV-1</td>\n",
       "      <td>Pixel4</td>\n",
       "      <td>1273529464442</td>\n",
       "      <td>37.423578</td>\n",
       "      <td>-122.094101</td>\n",
       "      <td>-33.29</td>\n",
       "      <td>2020-05-14-US-MTV-1_Pixel4</td>\n",
       "      <td>552.44</td>\n",
       "      <td>1.1</td>\n",
       "      <td>0.0</td>\n",
       "      <td>...</td>\n",
       "      <td>156.040</td>\n",
       "      <td>3559.757</td>\n",
       "      <td>-468.084</td>\n",
       "      <td>0.001</td>\n",
       "      <td>2.379498e+07</td>\n",
       "      <td>11.992</td>\n",
       "      <td>1134.758</td>\n",
       "      <td>10.866</td>\n",
       "      <td>16.647</td>\n",
       "      <td>2.745901</td>\n",
       "    </tr>\n",
       "    <tr>\n",
       "      <th>1</th>\n",
       "      <td>2020-05-14-US-MTV-1</td>\n",
       "      <td>Pixel4</td>\n",
       "      <td>1273529464442</td>\n",
       "      <td>37.423578</td>\n",
       "      <td>-122.094101</td>\n",
       "      <td>-33.29</td>\n",
       "      <td>2020-05-14-US-MTV-1_Pixel4</td>\n",
       "      <td>552.44</td>\n",
       "      <td>1.1</td>\n",
       "      <td>0.0</td>\n",
       "      <td>...</td>\n",
       "      <td>700.815</td>\n",
       "      <td>1022.014</td>\n",
       "      <td>120171.076</td>\n",
       "      <td>0.000</td>\n",
       "      <td>2.352251e+07</td>\n",
       "      <td>1.799</td>\n",
       "      <td>-222.675</td>\n",
       "      <td>3.946</td>\n",
       "      <td>2.717</td>\n",
       "      <td>2.745901</td>\n",
       "    </tr>\n",
       "    <tr>\n",
       "      <th>2</th>\n",
       "      <td>2020-05-14-US-MTV-1</td>\n",
       "      <td>Pixel4</td>\n",
       "      <td>1273529464442</td>\n",
       "      <td>37.423578</td>\n",
       "      <td>-122.094101</td>\n",
       "      <td>-33.29</td>\n",
       "      <td>2020-05-14-US-MTV-1_Pixel4</td>\n",
       "      <td>552.44</td>\n",
       "      <td>1.1</td>\n",
       "      <td>0.0</td>\n",
       "      <td>...</td>\n",
       "      <td>-419.725</td>\n",
       "      <td>3129.012</td>\n",
       "      <td>-3793.067</td>\n",
       "      <td>-0.001</td>\n",
       "      <td>2.305231e+07</td>\n",
       "      <td>4.197</td>\n",
       "      <td>0.000</td>\n",
       "      <td>7.554</td>\n",
       "      <td>5.704</td>\n",
       "      <td>2.745901</td>\n",
       "    </tr>\n",
       "    <tr>\n",
       "      <th>3</th>\n",
       "      <td>2020-05-14-US-MTV-1</td>\n",
       "      <td>Pixel4</td>\n",
       "      <td>1273529464442</td>\n",
       "      <td>37.423578</td>\n",
       "      <td>-122.094101</td>\n",
       "      <td>-33.29</td>\n",
       "      <td>2020-05-14-US-MTV-1_Pixel4</td>\n",
       "      <td>552.44</td>\n",
       "      <td>1.1</td>\n",
       "      <td>0.0</td>\n",
       "      <td>...</td>\n",
       "      <td>561.971</td>\n",
       "      <td>-1326.001</td>\n",
       "      <td>259937.286</td>\n",
       "      <td>-0.000</td>\n",
       "      <td>2.699715e+07</td>\n",
       "      <td>8.094</td>\n",
       "      <td>-222.675</td>\n",
       "      <td>7.968</td>\n",
       "      <td>9.151</td>\n",
       "      <td>2.745901</td>\n",
       "    </tr>\n",
       "    <tr>\n",
       "      <th>4</th>\n",
       "      <td>2020-05-14-US-MTV-1</td>\n",
       "      <td>Pixel4</td>\n",
       "      <td>1273529464442</td>\n",
       "      <td>37.423578</td>\n",
       "      <td>-122.094101</td>\n",
       "      <td>-33.29</td>\n",
       "      <td>2020-05-14-US-MTV-1_Pixel4</td>\n",
       "      <td>552.44</td>\n",
       "      <td>1.1</td>\n",
       "      <td>0.0</td>\n",
       "      <td>...</td>\n",
       "      <td>-1395.675</td>\n",
       "      <td>-2467.793</td>\n",
       "      <td>-179555.991</td>\n",
       "      <td>-0.001</td>\n",
       "      <td>2.349123e+07</td>\n",
       "      <td>2.698</td>\n",
       "      <td>-222.675</td>\n",
       "      <td>3.834</td>\n",
       "      <td>2.544</td>\n",
       "      <td>2.745901</td>\n",
       "    </tr>\n",
       "  </tbody>\n",
       "</table>\n",
       "<p>5 rows × 33 columns</p>\n",
       "</div>"
      ],
      "text/plain": [
       "        collectionName phoneName  millisSinceGpsEpoch     latDeg      lngDeg  \\\n",
       "0  2020-05-14-US-MTV-1    Pixel4        1273529464442  37.423578 -122.094101   \n",
       "1  2020-05-14-US-MTV-1    Pixel4        1273529464442  37.423578 -122.094101   \n",
       "2  2020-05-14-US-MTV-1    Pixel4        1273529464442  37.423578 -122.094101   \n",
       "3  2020-05-14-US-MTV-1    Pixel4        1273529464442  37.423578 -122.094101   \n",
       "4  2020-05-14-US-MTV-1    Pixel4        1273529464442  37.423578 -122.094101   \n",
       "\n",
       "   heightAboveWgs84EllipsoidM                       phone  \\\n",
       "0                      -33.29  2020-05-14-US-MTV-1_Pixel4   \n",
       "1                      -33.29  2020-05-14-US-MTV-1_Pixel4   \n",
       "2                      -33.29  2020-05-14-US-MTV-1_Pixel4   \n",
       "3                      -33.29  2020-05-14-US-MTV-1_Pixel4   \n",
       "4                      -33.29  2020-05-14-US-MTV-1_Pixel4   \n",
       "\n",
       "   timeSinceFirstFixSeconds  hDop  vDop  ...  ySatVelMps  zSatVelMps  \\\n",
       "0                    552.44   1.1   0.0  ...     156.040    3559.757   \n",
       "1                    552.44   1.1   0.0  ...     700.815    1022.014   \n",
       "2                    552.44   1.1   0.0  ...    -419.725    3129.012   \n",
       "3                    552.44   1.1   0.0  ...     561.971   -1326.001   \n",
       "4                    552.44   1.1   0.0  ...   -1395.675   -2467.793   \n",
       "\n",
       "   satClkBiasM  satClkDriftMps        rawPrM  rawPrUncM     isrbM ionoDelayM  \\\n",
       "0     -468.084           0.001  2.379498e+07     11.992  1134.758     10.866   \n",
       "1   120171.076           0.000  2.352251e+07      1.799  -222.675      3.946   \n",
       "2    -3793.067          -0.001  2.305231e+07      4.197     0.000      7.554   \n",
       "3   259937.286          -0.000  2.699715e+07      8.094  -222.675      7.968   \n",
       "4  -179555.991          -0.001  2.349123e+07      2.698  -222.675      3.834   \n",
       "\n",
       "   tropoDelayM     meter  \n",
       "0       16.647  2.745901  \n",
       "1        2.717  2.745901  \n",
       "2        5.704  2.745901  \n",
       "3        9.151  2.745901  \n",
       "4        2.544  2.745901  \n",
       "\n",
       "[5 rows x 33 columns]"
      ]
     },
     "execution_count": 20,
     "metadata": {},
     "output_type": "execute_result"
    }
   ],
   "source": [
    "print(train_df.shape)\n",
    "train_df.head()"
   ]
  },
  {
   "cell_type": "code",
   "execution_count": 22,
   "metadata": {
    "ExecuteTime": {
     "end_time": "2021-06-19T08:00:26.005530Z",
     "start_time": "2021-06-19T08:00:25.991531Z"
    }
   },
   "outputs": [
    {
     "name": "stdout",
     "output_type": "stream",
     "text": [
      "Index(['collectionName', 'phoneName', 'millisSinceGpsEpoch', 'latDeg',\n",
      "       'lngDeg', 'heightAboveWgs84EllipsoidM', 'phone',\n",
      "       'timeSinceFirstFixSeconds', 'hDop', 'vDop', 'speedMps', 'courseDegree',\n",
      "       't_latDeg', 't_lngDeg', 't_heightAboveWgs84EllipsoidM',\n",
      "       'constellationType', 'svid', 'signalType', 'receivedSvTimeInGpsNanos',\n",
      "       'xSatPosM', 'ySatPosM', 'zSatPosM', 'xSatVelMps', 'ySatVelMps',\n",
      "       'zSatVelMps', 'satClkBiasM', 'satClkDriftMps', 'rawPrM', 'rawPrUncM',\n",
      "       'isrbM', 'ionoDelayM', 'tropoDelayM', 'meter'],\n",
      "      dtype='object')\n",
      "Index(['collectionName', 'phoneName', 'millisSinceGpsEpoch', 'latDeg',\n",
      "       'lngDeg', 'heightAboveWgs84EllipsoidM', 'phone', 'constellationType',\n",
      "       'svid', 'signalType', 'receivedSvTimeInGpsNanos', 'xSatPosM',\n",
      "       'ySatPosM', 'zSatPosM', 'xSatVelMps', 'ySatVelMps', 'zSatVelMps',\n",
      "       'satClkBiasM', 'satClkDriftMps', 'rawPrM', 'rawPrUncM', 'isrbM',\n",
      "       'ionoDelayM', 'tropoDelayM'],\n",
      "      dtype='object')\n",
      "{'speedMps', 'meter', 'timeSinceFirstFixSeconds', 'hDop', 't_latDeg', 'vDop', 't_heightAboveWgs84EllipsoidM', 't_lngDeg', 'courseDegree'}\n",
      "{'ionoDelayM', 'phoneName', 'receivedSvTimeInGpsNanos', 'xSatVelMps', 'rawPrM', 'satClkDriftMps', 'signalType', 'satClkBiasM', 'tropoDelayM', 'heightAboveWgs84EllipsoidM', 'zSatPosM', 'rawPrUncM', 'zSatVelMps', 'constellationType', 'millisSinceGpsEpoch', 'phone', 'ySatPosM', 'collectionName', 'ySatVelMps', 'svid', 'lngDeg', 'xSatPosM', 'latDeg', 'isrbM'}\n"
     ]
    }
   ],
   "source": [
    "print(train_df.columns)"
   ]
  },
  {
   "cell_type": "code",
   "execution_count": 23,
   "metadata": {
    "ExecuteTime": {
     "end_time": "2021-06-19T08:00:49.288886Z",
     "start_time": "2021-06-19T08:00:29.325720Z"
    }
   },
   "outputs": [
    {
     "name": "stdout",
     "output_type": "stream",
     "text": [
      "(2207029, 16, 9) (2207029, 5)\n"
     ]
    }
   ],
   "source": [
    "# ref: https://towardsdatascience.com/fast-and-robust-sliding-window-vectorization-with-numpy-3ad950ed62f5\n",
    "def extract_window(src:np.array, sequence_length = 16)->np.array:\n",
    "    output = []\n",
    "    for i in range(src.shape[0]):\n",
    "        index = np.arange(i-sequence_length, i, 1)\n",
    "        index[index < 0] = 0\n",
    "        \n",
    "        output.append(np.expand_dims(src[index,:], 0))\n",
    "            \n",
    "    output = np.concatenate(output, axis = 0)\n",
    "    return output\n",
    "    \n",
    "\n",
    "def extract_features(df, sequence_length = 16, train = True):\n",
    "    Xcols = ['latDeg', 'lngDeg', 'heightAboveWgs84EllipsoidM',\n",
    "             'xSatVelMps', 'ySatVelMps', 'zSatVelMps', \n",
    "             'xSatPosM', 'ySatPosM', 'zSatPosM']\n",
    "    Ycols = ['t_latDeg', 't_lngDeg', 't_heightAboveWgs84EllipsoidM', 'speedMps', 'courseDegree']\n",
    "    \n",
    "    X = df[Xcols]\n",
    "    if train:\n",
    "        y = df[Ycols]\n",
    "    else:\n",
    "        y = None\n",
    "        \n",
    "    X = extract_window(np.array(X), sequence_length = sequence_length)\n",
    "    y = np.array(y)\n",
    "    \n",
    "    return X, y\n",
    "\n",
    "X, y = extract_features(train_df)\n",
    "\n",
    "print(X.shape, y.shape)"
   ]
  },
  {
   "cell_type": "markdown",
   "metadata": {},
   "source": [
    "# Modeling"
   ]
  },
  {
   "cell_type": "code",
   "execution_count": 24,
   "metadata": {
    "ExecuteTime": {
     "end_time": "2021-06-19T08:00:56.414136Z",
     "start_time": "2021-06-19T08:00:51.839888Z"
    }
   },
   "outputs": [],
   "source": [
    "# build model\n",
    "class SimpleNetwork(nn.Module):\n",
    "    def __init__(self, input_size, output_size):\n",
    "        super().__init__()\n",
    "        \n",
    "        self.fc1 = nn.Linear(input_size, 256)\n",
    "        self.fc2 = nn.Linear(256, 256)\n",
    "        self.fc3 = nn.Linear(256, 256)\n",
    "        self.fc4 = nn.Linear(256, 256)\n",
    "        self.fc5 = nn.Linear(256, output_size)\n",
    "        \n",
    "        self.dropout_30 = nn.Dropout(p = 0.3)\n",
    "        self.dropout_60 = nn.Dropout(p = 0.6)\n",
    "    \n",
    "    def forward(self, x):\n",
    "        x = torch.flatten(x, start_dim = 1)\n",
    "        \n",
    "        x =  F.relu(self.fc1(x))\n",
    "        x = self.dropout_60(x)\n",
    "        x =  F.relu(self.fc2(x))\n",
    "        x = self.dropout_60(x)\n",
    "        x =  F.relu(self.fc3(x))\n",
    "        x = self.dropout_30(x)\n",
    "        x =  F.relu(self.fc4(x))\n",
    "        x = self.dropout_30(x)\n",
    "        x = self.fc5(x)\n",
    "        \n",
    "        return x\n",
    "    \n",
    "model = SimpleNetwork(X.shape[1] * X.shape[2], y.shape[1])\n",
    "model.to(device)\n",
    "loss_func = nn.MSELoss()\n",
    "optimizer = optim.Adam(model.parameters(), lr = lr)"
   ]
  },
  {
   "cell_type": "code",
   "execution_count": 25,
   "metadata": {
    "ExecuteTime": {
     "end_time": "2021-06-19T08:01:00.794145Z",
     "start_time": "2021-06-19T08:00:58.950141Z"
    }
   },
   "outputs": [],
   "source": [
    "# Create DataLoader\n",
    "X_train, X_test, y_train, y_test = train_test_split(X, y, test_size = 1/7, random_state = 1990)\n",
    "\n",
    "X_train = torch.Tensor(X_train)\n",
    "X_test = torch.Tensor(X_test)\n",
    "y_train = torch.Tensor(y_train)\n",
    "y_test = torch.Tensor(y_test)\n",
    "\n",
    "ds_train = TensorDataset(X_train, y_train)\n",
    "ds_test = TensorDataset(X_test, y_test)\n",
    "\n",
    "loader_train = DataLoader(ds_train, batch_size = batch_size, shuffle = True)\n",
    "loader_test = DataLoader(ds_test, batch_size = batch_size, shuffle = False)"
   ]
  },
  {
   "cell_type": "code",
   "execution_count": 26,
   "metadata": {
    "ExecuteTime": {
     "end_time": "2021-06-19T08:01:03.407157Z",
     "start_time": "2021-06-19T08:01:03.393159Z"
    }
   },
   "outputs": [],
   "source": [
    "def train(epoch):\n",
    "    model.train()  # 신경망을 학습 모드로 전환\n",
    "\n",
    "    # 데이터로더에서 미니배치를 하나씩 꺼내 학습을 수행\n",
    "    predict = []\n",
    "    ground = []\n",
    "    for data, targets in loader_train:\n",
    "        data = data.to(device)\n",
    "        targets = targets.to(device)\n",
    "\n",
    "        optimizer.zero_grad()  # 경사를 0으로 초기화\n",
    "        outputs = model(data)  # 데이터를 입력하고 출력을 계산\n",
    "        loss = loss_func(outputs, targets)  # 출력과 훈련 데이터 정답 간의 오차를 계산\n",
    "        loss.backward()  # 오차를 역전파 계산\n",
    "        optimizer.step()  # 역전파 계산한 값으로 가중치를 수정\n",
    "        \n",
    "        predict.append(outputs)\n",
    "        ground.append(targets)\n",
    "\n",
    "    # 정확도 출력\n",
    "    predict = torch.cat(predict,axis = 0)\n",
    "    ground = torch.cat(ground,axis = 0)\n",
    "    \n",
    "    loss = loss_func(predict, ground)\n",
    "    meas = check_score_np(predict.to('cpu'), ground.to('cpu'))\n",
    "    return loss, meas"
   ]
  },
  {
   "cell_type": "code",
   "execution_count": 27,
   "metadata": {
    "ExecuteTime": {
     "end_time": "2021-06-19T08:01:05.972804Z",
     "start_time": "2021-06-19T08:01:05.959804Z"
    }
   },
   "outputs": [],
   "source": [
    "def test():\n",
    "    model.eval()  # 신경망을 추론 모드로 전환\n",
    "\n",
    "    # 데이터로더에서 미니배치를 하나씩 꺼내 추론을 수행\n",
    "    predict = []\n",
    "    ground = []\n",
    "    with torch.no_grad():  # 추론 과정에는 미분이 필요없음\n",
    "        for data, targets in loader_test:\n",
    "            data = data.to(device)\n",
    "            targets = targets.to(device)\n",
    "\n",
    "            outputs = model(data)  # 데이터를 입력하고 출력을 계산\n",
    "            predict.append(outputs)\n",
    "            ground.append(targets)\n",
    "\n",
    "    # 정확도 출력\n",
    "    predict = torch.cat(predict,axis = 0)\n",
    "    ground = torch.cat(ground,axis = 0)\n",
    "    \n",
    "    loss = loss_func(predict, ground)\n",
    "    meas = check_score_np(predict.to('cpu'), ground.to('cpu'))\n",
    "    return loss, meas"
   ]
  },
  {
   "cell_type": "code",
   "execution_count": 28,
   "metadata": {
    "ExecuteTime": {
     "end_time": "2021-06-19T08:01:19.003366Z",
     "start_time": "2021-06-19T08:01:08.509175Z"
    }
   },
   "outputs": [
    {
     "data": {
      "text/plain": [
       "(tensor(1.7145e+10, device='cuda:0'), 13443265.746232318)"
      ]
     },
     "execution_count": 28,
     "metadata": {},
     "output_type": "execute_result"
    }
   ],
   "source": [
    "test()"
   ]
  },
  {
   "cell_type": "code",
   "execution_count": 29,
   "metadata": {
    "ExecuteTime": {
     "end_time": "2021-06-19T08:43:02.739077Z",
     "start_time": "2021-06-19T08:01:21.599544Z"
    },
    "scrolled": true
   },
   "outputs": [
    {
     "name": "stdout",
     "output_type": "stream",
     "text": [
      "\n",
      "/***CHECK_POINT***/ \n",
      "TRAIN - 61737488.0, 12724391.713478534\n",
      "TEST - 14507.1982421875, 11673890.285810193\n",
      "\n",
      "/*** EPOCH : 1/100 ***/\n",
      "TRAIN - 61737488.0, 12724391.713478534\n",
      "TEST - 14507.1982421875, 11673890.285810193\n",
      "\n",
      "\n",
      "/***CHECK_POINT***/ \n",
      "TRAIN - 292514.46875, 11148797.446707387\n",
      "TEST - 3069.068115234375, 222660.6629917346\n",
      "\n",
      "/*** EPOCH : 2/100 ***/\n",
      "TRAIN - 292514.46875, 11148797.446707387\n",
      "TEST - 3069.068115234375, 222660.6629917346\n",
      "\n",
      "/*** EPOCH : 3/100 ***/\n",
      "TRAIN - 193956.453125, 9225335.505457079\n",
      "TEST - 3495.558349609375, 4173887.8758745636\n",
      "\n",
      "/*** EPOCH : 4/100 ***/\n",
      "TRAIN - 17907006.0, 8021335.087409746\n",
      "TEST - 2766.853271484375, 365792.90943604277\n",
      "\n",
      "\n",
      "/***CHECK_POINT***/ \n",
      "TRAIN - 801712.1875, 7518386.817482944\n",
      "TEST - 2761.24755859375, 112186.6951269952\n",
      "\n",
      "/*** EPOCH : 5/100 ***/\n",
      "TRAIN - 801712.1875, 7518386.817482944\n",
      "TEST - 2761.24755859375, 112186.6951269952\n",
      "\n",
      "\n",
      "/***CHECK_POINT***/ \n",
      "TRAIN - 133674.359375, 4116766.523793249\n",
      "TEST - 2762.9921875, 91303.52819802253\n",
      "\n",
      "/*** EPOCH : 6/100 ***/\n",
      "TRAIN - 133674.359375, 4116766.523793249\n",
      "TEST - 2762.9921875, 91303.52819802253\n",
      "\n",
      "\n",
      "/***CHECK_POINT***/ \n",
      "TRAIN - 310050.53125, 3152552.074727317\n",
      "TEST - 2761.713134765625, 66247.37826984999\n",
      "\n",
      "/*** EPOCH : 7/100 ***/\n",
      "TRAIN - 310050.53125, 3152552.074727317\n",
      "TEST - 2761.713134765625, 66247.37826984999\n",
      "\n",
      "/*** EPOCH : 8/100 ***/\n",
      "TRAIN - 368256.3125, 635299.2788069515\n",
      "TEST - 2762.066650390625, 68818.7117108232\n",
      "\n",
      "\n",
      "/***CHECK_POINT***/ \n",
      "TRAIN - 76009.046875, 567356.9703762607\n",
      "TEST - 2762.22900390625, 31278.85270454029\n",
      "\n",
      "/*** EPOCH : 9/100 ***/\n",
      "TRAIN - 76009.046875, 567356.9703762607\n",
      "TEST - 2762.22900390625, 31278.85270454029\n",
      "\n",
      "/*** EPOCH : 10/100 ***/\n",
      "TRAIN - 557640.875, 546358.3987075149\n",
      "TEST - 2760.780029296875, 72736.07357468453\n",
      "\n",
      "/*** EPOCH : 11/100 ***/\n",
      "TRAIN - 2188248.5, 575272.7649253645\n",
      "TEST - 2763.020751953125, 40616.543085171834\n",
      "\n",
      "/*** EPOCH : 12/100 ***/\n",
      "TRAIN - 1098373.25, 631439.097623202\n",
      "TEST - 2762.084228515625, 111003.73189151243\n",
      "\n",
      "/*** EPOCH : 13/100 ***/\n",
      "TRAIN - 6509339.5, 612805.6101458991\n",
      "TEST - 2763.896484375, 64934.79698816998\n",
      "\n",
      "/*** EPOCH : 14/100 ***/\n",
      "TRAIN - 854726.8125, 507940.1446062338\n",
      "TEST - 2769.535888671875, 49942.49921982655\n",
      "\n",
      "/*** EPOCH : 15/100 ***/\n",
      "TRAIN - 5439.14208984375, 479009.28936054074\n",
      "TEST - 2760.945556640625, 61015.79637712724\n",
      "\n",
      "/*** EPOCH : 16/100 ***/\n",
      "TRAIN - 6006.19921875, 410451.5284637842\n",
      "TEST - 2762.78076171875, 94409.12938195487\n",
      "\n",
      "/*** EPOCH : 17/100 ***/\n",
      "TRAIN - 2778.05517578125, 377763.25827646593\n",
      "TEST - 2765.9677734375, 48635.75803690389\n",
      "\n",
      "/*** EPOCH : 18/100 ***/\n",
      "TRAIN - 2777.2841796875, 332795.0896168564\n",
      "TEST - 2760.84423828125, 41404.344113659536\n",
      "\n",
      "\n",
      "/***CHECK_POINT***/ \n",
      "TRAIN - 2776.153564453125, 294876.3389647889\n",
      "TEST - 2761.395263671875, 31057.03657129941\n",
      "\n",
      "/*** EPOCH : 19/100 ***/\n",
      "TRAIN - 2776.153564453125, 294876.3389647889\n",
      "TEST - 2761.395263671875, 31057.03657129941\n",
      "\n",
      "\n",
      "/***CHECK_POINT***/ \n",
      "TRAIN - 2775.40625, 261184.59527314338\n",
      "TEST - 2762.51025390625, 25967.354146290065\n",
      "\n",
      "/*** EPOCH : 20/100 ***/\n",
      "TRAIN - 2775.40625, 261184.59527314338\n",
      "TEST - 2762.51025390625, 25967.354146290065\n",
      "\n",
      "/*** EPOCH : 21/100 ***/\n",
      "TRAIN - 3781381.25, 288280.8014432933\n",
      "TEST - 2761.216552734375, 46966.758804434125\n",
      "\n",
      "/*** EPOCH : 22/100 ***/\n",
      "TRAIN - 2775.188232421875, 247464.29199676163\n",
      "TEST - 2761.27099609375, 32205.86484121144\n",
      "\n",
      "/*** EPOCH : 23/100 ***/\n",
      "TRAIN - 2774.705322265625, 189839.13183845681\n",
      "TEST - 2761.476806640625, 26341.773617264767\n",
      "\n",
      "\n",
      "/***CHECK_POINT***/ \n",
      "TRAIN - 2773.995361328125, 158208.66749230522\n",
      "TEST - 2761.074462890625, 22209.308168842617\n",
      "\n",
      "/*** EPOCH : 24/100 ***/\n",
      "TRAIN - 2773.995361328125, 158208.66749230522\n",
      "TEST - 2761.074462890625, 22209.308168842617\n",
      "\n",
      "/*** EPOCH : 25/100 ***/\n",
      "TRAIN - 2773.551025390625, 130664.65101680128\n",
      "TEST - 2761.26513671875, 26582.66422985584\n",
      "\n",
      "/*** EPOCH : 26/100 ***/\n",
      "TRAIN - 2773.82666015625, 104893.94837855379\n",
      "TEST - 2765.31884765625, 48776.164355308254\n",
      "\n"
     ]
    },
    {
     "ename": "KeyboardInterrupt",
     "evalue": "",
     "output_type": "error",
     "traceback": [
      "\u001b[1;31m---------------------------------------------------------------------------\u001b[0m",
      "\u001b[1;31mKeyboardInterrupt\u001b[0m                         Traceback (most recent call last)",
      "\u001b[1;32m<ipython-input-29-09193749187c>\u001b[0m in \u001b[0;36m<module>\u001b[1;34m\u001b[0m\n\u001b[0;32m      6\u001b[0m \u001b[1;33m\u001b[0m\u001b[0m\n\u001b[0;32m      7\u001b[0m \u001b[1;32mfor\u001b[0m \u001b[0mepoch\u001b[0m \u001b[1;32min\u001b[0m \u001b[0mrange\u001b[0m\u001b[1;33m(\u001b[0m\u001b[0mEPOCH_NUM\u001b[0m\u001b[1;33m)\u001b[0m\u001b[1;33m:\u001b[0m\u001b[1;33m\u001b[0m\u001b[1;33m\u001b[0m\u001b[0m\n\u001b[1;32m----> 8\u001b[1;33m     \u001b[0mtrain_loss\u001b[0m\u001b[1;33m,\u001b[0m \u001b[0mtrain_meas\u001b[0m \u001b[1;33m=\u001b[0m \u001b[0mtrain\u001b[0m\u001b[1;33m(\u001b[0m\u001b[0mepoch\u001b[0m\u001b[1;33m)\u001b[0m\u001b[1;33m\u001b[0m\u001b[1;33m\u001b[0m\u001b[0m\n\u001b[0m\u001b[0;32m      9\u001b[0m     \u001b[0mtest_loss\u001b[0m\u001b[1;33m,\u001b[0m \u001b[0mtest_meas\u001b[0m \u001b[1;33m=\u001b[0m \u001b[0mtest\u001b[0m\u001b[1;33m(\u001b[0m\u001b[1;33m)\u001b[0m\u001b[1;33m\u001b[0m\u001b[1;33m\u001b[0m\u001b[0m\n\u001b[0;32m     10\u001b[0m \u001b[1;33m\u001b[0m\u001b[0m\n",
      "\u001b[1;32m<ipython-input-26-bdbbcb91944a>\u001b[0m in \u001b[0;36mtrain\u001b[1;34m(epoch)\u001b[0m\n\u001b[0;32m     23\u001b[0m \u001b[1;33m\u001b[0m\u001b[0m\n\u001b[0;32m     24\u001b[0m     \u001b[0mloss\u001b[0m \u001b[1;33m=\u001b[0m \u001b[0mloss_func\u001b[0m\u001b[1;33m(\u001b[0m\u001b[0mpredict\u001b[0m\u001b[1;33m,\u001b[0m \u001b[0mground\u001b[0m\u001b[1;33m)\u001b[0m\u001b[1;33m\u001b[0m\u001b[1;33m\u001b[0m\u001b[0m\n\u001b[1;32m---> 25\u001b[1;33m     \u001b[0mmeas\u001b[0m \u001b[1;33m=\u001b[0m \u001b[0mcheck_score_np\u001b[0m\u001b[1;33m(\u001b[0m\u001b[0mpredict\u001b[0m\u001b[1;33m.\u001b[0m\u001b[0mto\u001b[0m\u001b[1;33m(\u001b[0m\u001b[1;34m'cpu'\u001b[0m\u001b[1;33m)\u001b[0m\u001b[1;33m,\u001b[0m \u001b[0mground\u001b[0m\u001b[1;33m.\u001b[0m\u001b[0mto\u001b[0m\u001b[1;33m(\u001b[0m\u001b[1;34m'cpu'\u001b[0m\u001b[1;33m)\u001b[0m\u001b[1;33m)\u001b[0m\u001b[1;33m\u001b[0m\u001b[1;33m\u001b[0m\u001b[0m\n\u001b[0m\u001b[0;32m     26\u001b[0m     \u001b[1;32mreturn\u001b[0m \u001b[0mloss\u001b[0m\u001b[1;33m,\u001b[0m \u001b[0mmeas\u001b[0m\u001b[1;33m\u001b[0m\u001b[1;33m\u001b[0m\u001b[0m\n",
      "\u001b[1;32m<ipython-input-17-25b08aae8992>\u001b[0m in \u001b[0;36mcheck_score_np\u001b[1;34m(predict, target)\u001b[0m\n\u001b[0;32m      4\u001b[0m     \u001b[0mtarget\u001b[0m \u001b[1;33m=\u001b[0m \u001b[0mtarget\u001b[0m\u001b[1;33m.\u001b[0m\u001b[0mdetach\u001b[0m\u001b[1;33m(\u001b[0m\u001b[1;33m)\u001b[0m\u001b[1;33m.\u001b[0m\u001b[0mnumpy\u001b[0m\u001b[1;33m(\u001b[0m\u001b[1;33m)\u001b[0m\u001b[1;33m\u001b[0m\u001b[1;33m\u001b[0m\u001b[0m\n\u001b[0;32m      5\u001b[0m     \u001b[1;32mfor\u001b[0m \u001b[0mi\u001b[0m \u001b[1;32min\u001b[0m \u001b[0mrange\u001b[0m\u001b[1;33m(\u001b[0m\u001b[0mpredict\u001b[0m\u001b[1;33m.\u001b[0m\u001b[0mshape\u001b[0m\u001b[1;33m[\u001b[0m\u001b[1;36m0\u001b[0m\u001b[1;33m]\u001b[0m\u001b[1;33m)\u001b[0m\u001b[1;33m:\u001b[0m\u001b[1;33m\u001b[0m\u001b[1;33m\u001b[0m\u001b[0m\n\u001b[1;32m----> 6\u001b[1;33m         \u001b[0mtemp\u001b[0m \u001b[1;33m=\u001b[0m \u001b[0mcalc_haversine\u001b[0m\u001b[1;33m(\u001b[0m\u001b[0mpredict\u001b[0m\u001b[1;33m[\u001b[0m\u001b[0mi\u001b[0m\u001b[1;33m,\u001b[0m\u001b[1;36m0\u001b[0m\u001b[1;33m]\u001b[0m\u001b[1;33m,\u001b[0m \u001b[0mpredict\u001b[0m\u001b[1;33m[\u001b[0m\u001b[0mi\u001b[0m\u001b[1;33m,\u001b[0m\u001b[1;36m1\u001b[0m\u001b[1;33m]\u001b[0m\u001b[1;33m,\u001b[0m \u001b[0mtarget\u001b[0m\u001b[1;33m[\u001b[0m\u001b[0mi\u001b[0m\u001b[1;33m,\u001b[0m\u001b[1;36m0\u001b[0m\u001b[1;33m]\u001b[0m\u001b[1;33m,\u001b[0m \u001b[0mtarget\u001b[0m\u001b[1;33m[\u001b[0m\u001b[0mi\u001b[0m\u001b[1;33m,\u001b[0m\u001b[1;36m1\u001b[0m\u001b[1;33m]\u001b[0m\u001b[1;33m)\u001b[0m\u001b[1;33m\u001b[0m\u001b[1;33m\u001b[0m\u001b[0m\n\u001b[0m\u001b[0;32m      7\u001b[0m         \u001b[0mm\u001b[0m\u001b[1;33m.\u001b[0m\u001b[0mappend\u001b[0m\u001b[1;33m(\u001b[0m\u001b[0mtemp\u001b[0m\u001b[1;33m)\u001b[0m\u001b[1;33m\u001b[0m\u001b[1;33m\u001b[0m\u001b[0m\n\u001b[0;32m      8\u001b[0m \u001b[1;33m\u001b[0m\u001b[0m\n",
      "\u001b[1;32m<ipython-input-15-f4f388c70693>\u001b[0m in \u001b[0;36mcalc_haversine\u001b[1;34m(lat1, lon1, lat2, lon2)\u001b[0m\n\u001b[0;32m      1\u001b[0m \u001b[1;32mdef\u001b[0m \u001b[0mcalc_haversine\u001b[0m\u001b[1;33m(\u001b[0m\u001b[0mlat1\u001b[0m\u001b[1;33m,\u001b[0m \u001b[0mlon1\u001b[0m\u001b[1;33m,\u001b[0m \u001b[0mlat2\u001b[0m\u001b[1;33m,\u001b[0m \u001b[0mlon2\u001b[0m\u001b[1;33m)\u001b[0m\u001b[1;33m:\u001b[0m\u001b[1;33m\u001b[0m\u001b[1;33m\u001b[0m\u001b[0m\n\u001b[0;32m      2\u001b[0m     \u001b[0mlat1\u001b[0m\u001b[1;33m,\u001b[0m \u001b[0mlon1\u001b[0m\u001b[1;33m,\u001b[0m \u001b[0mlat2\u001b[0m\u001b[1;33m,\u001b[0m \u001b[0mlon2\u001b[0m \u001b[1;33m=\u001b[0m \u001b[0mmap\u001b[0m\u001b[1;33m(\u001b[0m\u001b[0mnp\u001b[0m\u001b[1;33m.\u001b[0m\u001b[0mradians\u001b[0m\u001b[1;33m,\u001b[0m \u001b[1;33m[\u001b[0m\u001b[0mlat1\u001b[0m\u001b[1;33m,\u001b[0m \u001b[0mlon1\u001b[0m\u001b[1;33m,\u001b[0m \u001b[0mlat2\u001b[0m\u001b[1;33m,\u001b[0m \u001b[0mlon2\u001b[0m\u001b[1;33m]\u001b[0m\u001b[1;33m)\u001b[0m\u001b[1;33m\u001b[0m\u001b[1;33m\u001b[0m\u001b[0m\n\u001b[1;32m----> 3\u001b[1;33m     \u001b[0mdlat\u001b[0m \u001b[1;33m=\u001b[0m \u001b[0mlat2\u001b[0m \u001b[1;33m-\u001b[0m \u001b[0mlat1\u001b[0m\u001b[1;33m\u001b[0m\u001b[1;33m\u001b[0m\u001b[0m\n\u001b[0m\u001b[0;32m      4\u001b[0m     \u001b[0mdlon\u001b[0m \u001b[1;33m=\u001b[0m \u001b[0mlon2\u001b[0m \u001b[1;33m-\u001b[0m \u001b[0mlon1\u001b[0m\u001b[1;33m\u001b[0m\u001b[1;33m\u001b[0m\u001b[0m\n\u001b[0;32m      5\u001b[0m     \u001b[0ma\u001b[0m \u001b[1;33m=\u001b[0m \u001b[0mnp\u001b[0m\u001b[1;33m.\u001b[0m\u001b[0msin\u001b[0m\u001b[1;33m(\u001b[0m\u001b[0mdlat\u001b[0m \u001b[1;33m/\u001b[0m \u001b[1;36m2.0\u001b[0m\u001b[1;33m)\u001b[0m\u001b[1;33m**\u001b[0m\u001b[1;36m2\u001b[0m \u001b[1;33m+\u001b[0m \u001b[0mnp\u001b[0m\u001b[1;33m.\u001b[0m\u001b[0mcos\u001b[0m\u001b[1;33m(\u001b[0m\u001b[0mlat1\u001b[0m\u001b[1;33m)\u001b[0m \u001b[1;33m*\u001b[0m \u001b[0mnp\u001b[0m\u001b[1;33m.\u001b[0m\u001b[0mcos\u001b[0m\u001b[1;33m(\u001b[0m\u001b[0mlat2\u001b[0m\u001b[1;33m)\u001b[0m \u001b[1;33m*\u001b[0m \u001b[0mnp\u001b[0m\u001b[1;33m.\u001b[0m\u001b[0msin\u001b[0m\u001b[1;33m(\u001b[0m\u001b[0mdlon\u001b[0m \u001b[1;33m/\u001b[0m \u001b[1;36m2.0\u001b[0m\u001b[1;33m)\u001b[0m\u001b[1;33m**\u001b[0m\u001b[1;36m2\u001b[0m\u001b[1;33m\u001b[0m\u001b[1;33m\u001b[0m\u001b[0m\n",
      "\u001b[1;31mKeyboardInterrupt\u001b[0m: "
     ]
    }
   ],
   "source": [
    "history = []\n",
    "\n",
    "check_meas = np.inf\n",
    "check_loss = np.inf\n",
    "check_epoch = 0\n",
    "\n",
    "for epoch in range(EPOCH_NUM):\n",
    "    train_loss, train_meas = train(epoch)\n",
    "    test_loss, test_meas = test()\n",
    "    \n",
    "    history.append({'epoch':epoch, 'train_loss':train_loss, 'train_meas':train_meas, 'test_loss':test_loss, 'test_meas':test_meas})\n",
    "    \n",
    "    if (test_meas < check_meas):\n",
    "        print(\"\")\n",
    "        print(f\"/***CHECK_POINT***/ \")\n",
    "        print(f\"TRAIN - {train_loss}, {train_meas}\")\n",
    "        print(f\"TEST - {test_loss}, {test_meas}\")\n",
    "        print(\"\")\n",
    "        check_meas = test_meas\n",
    "        check_loss = test_loss\n",
    "        check_epoch = epoch\n",
    "        torch.save(model.state_dict(), checkpoint_path)\n",
    "    \n",
    "    print(f\"/*** EPOCH : {epoch+1}/{EPOCH_NUM} ***/\")\n",
    "    print(f\"TRAIN - {train_loss}, {train_meas}\")\n",
    "    print(f\"TEST - {test_loss}, {test_meas}\")\n",
    "    print(\"\")\n",
    "    \n",
    "df_history = pd.DataFrame(history)"
   ]
  },
  {
   "cell_type": "code",
   "execution_count": 31,
   "metadata": {
    "ExecuteTime": {
     "end_time": "2021-06-19T08:43:16.600848Z",
     "start_time": "2021-06-19T08:43:16.295722Z"
    }
   },
   "outputs": [
    {
     "data": {
      "text/plain": [
       "<matplotlib.lines.Line2D at 0x1ee700dff98>"
      ]
     },
     "execution_count": 31,
     "metadata": {},
     "output_type": "execute_result"
    },
    {
     "data": {
      "image/png": "[encoded data removed]",
      "text/plain": [
       "<Figure size 576x864 with 2 Axes>"
      ]
     },
     "metadata": {
      "needs_background": "light"
     },
     "output_type": "display_data"
    }
   ],
   "source": [
    "df_history = pd.DataFrame(history)\n",
    "\n",
    "fig, axes = plt.subplots(2,1,figsize = (8,12))\n",
    "\n",
    "axes[0].plot(df_history['epoch'], df_history['train_loss'])\n",
    "axes[0].plot(df_history['epoch'], df_history['test_loss'])\n",
    "axes[0].axvline(x = check_epoch, ymin = 0, ymax = df_history['test_loss'].max(), color = 'r')\n",
    "axes[0].axhline(y = default_loss, xmin = 0, xmax = df_history['epoch'].max(), color = 'k')\n",
    "\n",
    "axes[1].plot(df_history['epoch'], df_history['train_meas'])\n",
    "axes[1].plot(df_history['epoch'], df_history['test_meas'])\n",
    "axes[1].axvline(x = check_epoch, ymin = 0, ymax = df_history['test_meas'].max(), color = 'r')\n",
    "axes[1].axhline(y = default_meas, xmin = 0, xmax = df_history['epoch'].max(), color = 'k')"
   ]
  },
  {
   "cell_type": "code",
   "execution_count": null,
   "metadata": {
    "ExecuteTime": {
     "end_time": "2021-06-19T08:55:39.537347Z",
     "start_time": "2021-06-19T08:51:45.724Z"
    }
   },
   "outputs": [],
   "source": [
    "del X_train, X_test, y_train, y_test"
   ]
  },
  {
   "cell_type": "markdown",
   "metadata": {},
   "source": [
    "# Submission"
   ]
  },
  {
   "cell_type": "code",
   "execution_count": 1,
   "metadata": {
    "ExecuteTime": {
     "end_time": "2021-06-20T04:17:26.542645Z",
     "start_time": "2021-06-20T04:17:26.440657Z"
    }
   },
   "outputs": [
    {
     "ename": "NameError",
     "evalue": "name 'pd' is not defined",
     "output_type": "error",
     "traceback": [
      "\u001b[1;31m---------------------------------------------------------------------------\u001b[0m",
      "\u001b[1;31mNameError\u001b[0m                                 Traceback (most recent call last)",
      "\u001b[1;32m<ipython-input-1-feb494d99d94>\u001b[0m in \u001b[0;36m<module>\u001b[1;34m\u001b[0m\n\u001b[1;32m----> 1\u001b[1;33m \u001b[0mdf_test\u001b[0m \u001b[1;33m=\u001b[0m \u001b[0mpd\u001b[0m\u001b[1;33m.\u001b[0m\u001b[0mread_pickle\u001b[0m\u001b[1;33m(\u001b[0m\u001b[0mstr\u001b[0m\u001b[1;33m(\u001b[0m\u001b[0mPATH\u001b[0m \u001b[1;33m/\u001b[0m \u001b[1;34m\"gsdc_test.pkl.gzip\"\u001b[0m\u001b[1;33m)\u001b[0m\u001b[1;33m)\u001b[0m\u001b[1;33m\u001b[0m\u001b[1;33m\u001b[0m\u001b[0m\n\u001b[0m\u001b[0;32m      2\u001b[0m \u001b[1;33m\u001b[0m\u001b[0m\n\u001b[0;32m      3\u001b[0m \u001b[0mprint\u001b[0m\u001b[1;33m(\u001b[0m\u001b[0mdf_test\u001b[0m\u001b[1;33m.\u001b[0m\u001b[0mshape\u001b[0m\u001b[1;33m)\u001b[0m\u001b[1;33m\u001b[0m\u001b[1;33m\u001b[0m\u001b[0m\n\u001b[0;32m      4\u001b[0m \u001b[0mdf_test\u001b[0m\u001b[1;33m.\u001b[0m\u001b[0mhead\u001b[0m\u001b[1;33m(\u001b[0m\u001b[1;33m)\u001b[0m\u001b[1;33m\u001b[0m\u001b[1;33m\u001b[0m\u001b[0m\n",
      "\u001b[1;31mNameError\u001b[0m: name 'pd' is not defined"
     ]
    }
   ],
   "source": [
    "df_test = pd.read_pickle(str(PATH / \"gsdc_test.pkl.gzip\"))\n",
    "\n",
    "print(df_test.shape)\n",
    "df_test.head()"
   ]
  },
  {
   "cell_type": "code",
   "execution_count": null,
   "metadata": {
    "ExecuteTime": {
     "end_time": "2021-06-19T08:56:17.997604Z",
     "start_time": "2021-06-19T08:56:03.820Z"
    }
   },
   "outputs": [],
   "source": [
    "model.load_state_dict(torch.load(checkpoint_path))\n",
    "torch.save(model.state_dict(), model_path)"
   ]
  },
  {
   "cell_type": "code",
   "execution_count": null,
   "metadata": {
    "ExecuteTime": {
     "end_time": "2021-06-19T08:56:18.004604Z",
     "start_time": "2021-06-19T08:56:04.998Z"
    }
   },
   "outputs": [],
   "source": [
    "# Load submission sample\n",
    "submission = pd.read_csv(\"../input/google-smartphone-decimeter-challenge/sample_submission.csv\")\n",
    "print(submission.shape)"
   ]
  },
  {
   "cell_type": "code",
   "execution_count": null,
   "metadata": {
    "ExecuteTime": {
     "end_time": "2021-06-19T08:56:18.015603Z",
     "start_time": "2021-06-19T08:56:05.756Z"
    }
   },
   "outputs": [],
   "source": [
    "model = SimpleNetwork(X.shape[1] * X.shape[2], y.shape[1])\n",
    "model = model.to(device)\n",
    "model.load_state_dict(torch.load(model_path))"
   ]
  },
  {
   "cell_type": "code",
   "execution_count": null,
   "metadata": {
    "ExecuteTime": {
     "end_time": "2021-06-19T08:56:18.028604Z",
     "start_time": "2021-06-19T08:56:06.347Z"
    }
   },
   "outputs": [],
   "source": [
    "X, _ = extract_features(test_df, train = False)\n",
    "\n",
    "X = torch.Tensor(X)\n",
    "\n",
    "loader_test = DataLoader(X, batch_size = batch_size, shuffle = False)"
   ]
  },
  {
   "cell_type": "code",
   "execution_count": null,
   "metadata": {
    "ExecuteTime": {
     "end_time": "2021-06-19T08:56:18.034606Z",
     "start_time": "2021-06-19T08:56:06.996Z"
    }
   },
   "outputs": [],
   "source": [
    "model.eval()  # 신경망을 추론 모드로 전환\n",
    "\n",
    "# 데이터로더에서 미니배치를 하나씩 꺼내 추론을 수행\n",
    "predict = []\n",
    "with torch.no_grad():  # 추론 과정에는 미분이 필요없음\n",
    "    for data in loader_test:\n",
    "        data = data.to(device)\n",
    "\n",
    "        outputs = model(data)  # 데이터를 입력하고 출력을 계산\n",
    "        predict.append(outputs)\n",
    "predict = torch.cat(predict, axis = 0).to('cpu')"
   ]
  },
  {
   "cell_type": "code",
   "execution_count": null,
   "metadata": {
    "ExecuteTime": {
     "end_time": "2021-06-19T08:56:18.044603Z",
     "start_time": "2021-06-19T08:56:07.636Z"
    }
   },
   "outputs": [],
   "source": [
    "predict.shape"
   ]
  },
  {
   "cell_type": "code",
   "execution_count": null,
   "metadata": {
    "ExecuteTime": {
     "end_time": "2021-06-19T08:56:18.052602Z",
     "start_time": "2021-06-19T08:56:08.067Z"
    }
   },
   "outputs": [],
   "source": [
    "print(submission.shape)\n",
    "submission.columns"
   ]
  },
  {
   "cell_type": "code",
   "execution_count": null,
   "metadata": {
    "ExecuteTime": {
     "end_time": "2021-06-19T08:56:18.060603Z",
     "start_time": "2021-06-19T08:56:08.597Z"
    }
   },
   "outputs": [],
   "source": [
    "submission['latDeg'] = predict[:,1]\n",
    "submission['lngDeg'] = predict[:,2]"
   ]
  },
  {
   "cell_type": "code",
   "execution_count": null,
   "metadata": {
    "ExecuteTime": {
     "end_time": "2021-06-19T08:56:18.070607Z",
     "start_time": "2021-06-19T08:56:10.499Z"
    }
   },
   "outputs": [],
   "source": [
    "submission.to_csv(f\"./models/{notebookName}/{num_files} - result.csv\", index = False)\n",
    "pd.DataFrame([]).to_csv(dummy_path)"
   ]
  },
  {
   "cell_type": "code",
   "execution_count": null,
   "metadata": {
    "ExecuteTime": {
     "end_time": "2021-06-19T01:57:01.692286Z",
     "start_time": "2021-06-19T01:56:30.624Z"
    }
   },
   "outputs": [],
   "source": []
  },
  {
   "cell_type": "code",
   "execution_count": null,
   "metadata": {},
   "outputs": [],
   "source": []
  }
 ],
 "metadata": {
  "hide_input": false,
  "kernelspec": {
   "display_name": "torch",
   "language": "python",
   "name": "torch"
  },
  "language_info": {
   "codemirror_mode": {
    "name": "ipython",
    "version": 3
   },
   "file_extension": ".py",
   "mimetype": "text/x-python",
   "name": "python",
   "nbconvert_exporter": "python",
   "pygments_lexer": "ipython3",
   "version": "3.6.12"
  },
  "latex_envs": {
   "LaTeX_envs_menu_present": true,
   "autoclose": false,
   "autocomplete": true,
   "bibliofile": "biblio.bib",
   "cite_by": "apalike",
   "current_citInitial": 1,
   "eqLabelWithNumbers": true,
   "eqNumInitial": 1,
   "hotkeys": {
    "equation": "Ctrl-E",
    "itemize": "Ctrl-I"
   },
   "labels_anchors": false,
   "latex_user_defs": false,
   "report_style_numbering": false,
   "user_envs_cfg": false
  },
  "toc": {
   "base_numbering": 1,
   "nav_menu": {},
   "number_sections": true,
   "sideBar": true,
   "skip_h1_title": false,
   "title_cell": "Table of Contents",
   "title_sidebar": "Contents",
   "toc_cell": false,
   "toc_position": {
    "height": "calc(100% - 180px)",
    "left": "10px",
    "top": "150px",
    "width": "349.091px"
   },
   "toc_section_display": true,
   "toc_window_display": true
  },
  "varInspector": {
   "cols": {
    "lenName": 16,
    "lenType": 16,
    "lenVar": 40
   },
   "kernels_config": {
    "python": {
     "delete_cmd_postfix": "",
     "delete_cmd_prefix": "del ",
     "library": "var_list.py",
     "varRefreshCmd": "print(var_dic_list())"
    },
    "r": {
     "delete_cmd_postfix": ") ",
     "delete_cmd_prefix": "rm(",
     "library": "var_list.r",
     "varRefreshCmd": "cat(var_dic_list()) "
    }
   },
   "types_to_exclude": [
    "module",
    "function",
    "builtin_function_or_method",
    "instance",
    "_Feature"
   ],
   "window_display": false
  }
 },
 "nbformat": 4,
 "nbformat_minor": 4
}
