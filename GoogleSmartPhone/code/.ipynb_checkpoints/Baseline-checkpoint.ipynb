{
 "cells": [
  {
   "cell_type": "markdown",
   "metadata": {},
   "source": [
    "# references\n",
    "1. https://www.kaggle.com/columbia2131/device-eda-interpolate-by-removing-device-en-ja"
   ]
  },
  {
   "cell_type": "markdown",
   "metadata": {},
   "source": [
    "# Load Libraries"
   ]
  },
  {
   "cell_type": "code",
   "execution_count": 44,
   "metadata": {
    "ExecuteTime": {
     "end_time": "2021-06-17T20:26:45.768181Z",
     "start_time": "2021-06-17T20:26:40.502463Z"
    }
   },
   "outputs": [],
   "source": [
    "import numpy as np\n",
    "import pandas as pd\n",
    "from glob import glob\n",
    "import os\n",
    "import matplotlib.pyplot as plt\n",
    "from tqdm.notebook import tqdm\n",
    "from pathlib import Path\n",
    "import plotly.express as px\n",
    "\n",
    "import torch\n",
    "import torch.nn as nn\n",
    "import torch.nn.functional as F\n",
    "import torch.optim as optim\n",
    "from torch.utils.data import TensorDataset, DataLoader\n",
    "from sklearn.model_selection import train_test_split"
   ]
  },
  {
   "cell_type": "code",
   "execution_count": 66,
   "metadata": {
    "ExecuteTime": {
     "end_time": "2021-06-17T20:32:19.329275Z",
     "start_time": "2021-06-17T20:32:19.318275Z"
    }
   },
   "outputs": [
    {
     "data": {
      "text/plain": [
       "<torch._C.Generator at 0x23d476aaab0>"
      ]
     },
     "execution_count": 66,
     "metadata": {},
     "output_type": "execute_result"
    }
   ],
   "source": [
    "RANDOM_STATE = 1990\n",
    "lr = 0.01\n",
    "batch_size = 64\n",
    "EPOCH_NUM = 3\n",
    "\n",
    "torch.manual_seed(RANDOM_STATE)"
   ]
  },
  {
   "cell_type": "markdown",
   "metadata": {},
   "source": [
    "# Useful Functions"
   ]
  },
  {
   "cell_type": "code",
   "execution_count": 2,
   "metadata": {
    "ExecuteTime": {
     "end_time": "2021-06-17T19:58:24.979960Z",
     "start_time": "2021-06-17T19:58:24.965959Z"
    }
   },
   "outputs": [],
   "source": [
    "def get_groundtruth(path: Path) -> pd.DataFrame:\n",
    "    output_df = pd.DataFrame()\n",
    "    \n",
    "    for path in glob(str(path / 'train/*/*/ground_truth.csv')):\n",
    "        _df = pd.read_csv(path)\n",
    "        output_df = pd.concat([output_df, _df])\n",
    "    output_df = output_df.reset_index(drop=True)\n",
    "    \n",
    "    _columns = ['latDeg', 'lngDeg', 'heightAboveWgs84EllipsoidM']\n",
    "    output_df[['t_'+col for col in _columns]] = output_df[_columns]\n",
    "    output_df = output_df.drop(columns=_columns, axis=1)\n",
    "    return output_df"
   ]
  },
  {
   "cell_type": "code",
   "execution_count": 3,
   "metadata": {
    "ExecuteTime": {
     "end_time": "2021-06-17T19:58:24.995371Z",
     "start_time": "2021-06-17T19:58:24.981949Z"
    }
   },
   "outputs": [],
   "source": [
    "def calc_haversine(lat1, lon1, lat2, lon2):\n",
    "    lat1, lon1, lat2, lon2 = map(np.radians, [lat1, lon1, lat2, lon2])\n",
    "    dlat = lat2 - lat1\n",
    "    dlon = lon2 - lon1\n",
    "    a = np.sin(dlat / 2.0)**2 + np.cos(lat1) * np.cos(lat2) * np.sin(dlon / 2.0)**2\n",
    "    \n",
    "    c = 2 * np.arcsin(a ** 0.5)\n",
    "    dist = 6_367_000 * c\n",
    "    return dist"
   ]
  },
  {
   "cell_type": "code",
   "execution_count": 4,
   "metadata": {
    "ExecuteTime": {
     "end_time": "2021-06-17T19:58:25.010411Z",
     "start_time": "2021-06-17T19:58:24.996371Z"
    }
   },
   "outputs": [],
   "source": [
    "\n",
    "def check_score(input_df: pd.DataFrame) -> pd.DataFrame:\n",
    "    output_df = input_df.copy()\n",
    "    \n",
    "    output_df['meter'] = input_df.apply(\n",
    "        lambda r: calc_haversine(\n",
    "            r.latDeg, r.lngDeg, r.t_latDeg, r.t_lngDeg\n",
    "        ),\n",
    "        axis=1\n",
    "    )\n",
    "\n",
    "    meter_score = output_df['meter'].mean()\n",
    "    print(f'error meter: {meter_score}')\n",
    "\n",
    "    scores = []\n",
    "    for phone in output_df['phone'].unique():\n",
    "        _index = output_df['phone']==phone\n",
    "        p_50 = np.percentile(output_df.loc[_index, 'meter'], 50)\n",
    "        p_95 = np.percentile(output_df.loc[_index, 'meter'], 95)\n",
    "        scores.append(p_50)\n",
    "        scores.append(p_95)\n",
    "\n",
    "    score = sum(scores) / len(scores)\n",
    "    print(f'score: {score}')\n",
    "    \n",
    "    return output_df"
   ]
  },
  {
   "cell_type": "markdown",
   "metadata": {},
   "source": [
    "# Load Datasets"
   ]
  },
  {
   "cell_type": "code",
   "execution_count": 15,
   "metadata": {
    "ExecuteTime": {
     "end_time": "2021-06-17T20:01:57.762050Z",
     "start_time": "2021-06-17T20:01:56.468461Z"
    }
   },
   "outputs": [],
   "source": [
    "data_dir = Path(\"../input/google-smartphone-decimeter-challenge\")\n",
    "train_df = pd.read_csv(data_dir / \"baseline_locations_train.csv\")\n",
    "test_df = pd.read_csv(data_dir / \"baseline_locations_test.csv\")\n",
    "\n",
    "# merge graoundtruth\n",
    "train_df = train_df.merge(\n",
    "    get_groundtruth(data_dir),\n",
    "    on=['collectionName', 'phoneName', 'millisSinceGpsEpoch']\n",
    ")"
   ]
  },
  {
   "cell_type": "code",
   "execution_count": null,
   "metadata": {},
   "outputs": [],
   "source": []
  },
  {
   "cell_type": "code",
   "execution_count": 18,
   "metadata": {
    "ExecuteTime": {
     "end_time": "2021-06-17T20:03:52.591832Z",
     "start_time": "2021-06-17T20:03:47.309265Z"
    }
   },
   "outputs": [
    {
     "name": "stdout",
     "output_type": "stream",
     "text": [
      "error meter: 3.846848374990639\n",
      "score: 5.287970649084159\n"
     ]
    }
   ],
   "source": [
    "# check score\n",
    "train_df = check_score(train_df)"
   ]
  },
  {
   "cell_type": "markdown",
   "metadata": {},
   "source": [
    "# Feature Engineering"
   ]
  },
  {
   "cell_type": "code",
   "execution_count": 20,
   "metadata": {
    "ExecuteTime": {
     "end_time": "2021-06-17T20:06:53.289925Z",
     "start_time": "2021-06-17T20:06:53.276925Z"
    }
   },
   "outputs": [
    {
     "data": {
      "text/html": [
       "<div>\n",
       "<style scoped>\n",
       "    .dataframe tbody tr th:only-of-type {\n",
       "        vertical-align: middle;\n",
       "    }\n",
       "\n",
       "    .dataframe tbody tr th {\n",
       "        vertical-align: top;\n",
       "    }\n",
       "\n",
       "    .dataframe thead th {\n",
       "        text-align: right;\n",
       "    }\n",
       "</style>\n",
       "<table border=\"1\" class=\"dataframe\">\n",
       "  <thead>\n",
       "    <tr style=\"text-align: right;\">\n",
       "      <th></th>\n",
       "      <th>collectionName</th>\n",
       "      <th>phoneName</th>\n",
       "      <th>millisSinceGpsEpoch</th>\n",
       "      <th>latDeg</th>\n",
       "      <th>lngDeg</th>\n",
       "      <th>heightAboveWgs84EllipsoidM</th>\n",
       "      <th>phone</th>\n",
       "      <th>timeSinceFirstFixSeconds</th>\n",
       "      <th>hDop</th>\n",
       "      <th>vDop</th>\n",
       "      <th>speedMps</th>\n",
       "      <th>courseDegree</th>\n",
       "      <th>t_latDeg</th>\n",
       "      <th>t_lngDeg</th>\n",
       "      <th>t_heightAboveWgs84EllipsoidM</th>\n",
       "      <th>meter</th>\n",
       "    </tr>\n",
       "  </thead>\n",
       "  <tbody>\n",
       "    <tr>\n",
       "      <th>0</th>\n",
       "      <td>2020-05-14-US-MTV-1</td>\n",
       "      <td>Pixel4</td>\n",
       "      <td>1273529463442</td>\n",
       "      <td>37.423575</td>\n",
       "      <td>-122.094091</td>\n",
       "      <td>-34.06</td>\n",
       "      <td>2020-05-14-US-MTV-1_Pixel4</td>\n",
       "      <td>551.44</td>\n",
       "      <td>1.1</td>\n",
       "      <td>0.0</td>\n",
       "      <td>0.0</td>\n",
       "      <td>12.7</td>\n",
       "      <td>37.423576</td>\n",
       "      <td>-122.094132</td>\n",
       "      <td>33.21</td>\n",
       "      <td>3.586842</td>\n",
       "    </tr>\n",
       "    <tr>\n",
       "      <th>1</th>\n",
       "      <td>2020-05-14-US-MTV-1</td>\n",
       "      <td>Pixel4</td>\n",
       "      <td>1273529464442</td>\n",
       "      <td>37.423578</td>\n",
       "      <td>-122.094101</td>\n",
       "      <td>-33.29</td>\n",
       "      <td>2020-05-14-US-MTV-1_Pixel4</td>\n",
       "      <td>552.44</td>\n",
       "      <td>1.1</td>\n",
       "      <td>0.0</td>\n",
       "      <td>0.0</td>\n",
       "      <td>12.7</td>\n",
       "      <td>37.423576</td>\n",
       "      <td>-122.094132</td>\n",
       "      <td>33.21</td>\n",
       "      <td>2.745901</td>\n",
       "    </tr>\n",
       "    <tr>\n",
       "      <th>2</th>\n",
       "      <td>2020-05-14-US-MTV-1</td>\n",
       "      <td>Pixel4</td>\n",
       "      <td>1273529465442</td>\n",
       "      <td>37.423573</td>\n",
       "      <td>-122.094111</td>\n",
       "      <td>-30.99</td>\n",
       "      <td>2020-05-14-US-MTV-1_Pixel4</td>\n",
       "      <td>553.44</td>\n",
       "      <td>1.1</td>\n",
       "      <td>0.0</td>\n",
       "      <td>0.0</td>\n",
       "      <td>12.7</td>\n",
       "      <td>37.423576</td>\n",
       "      <td>-122.094132</td>\n",
       "      <td>33.21</td>\n",
       "      <td>1.888409</td>\n",
       "    </tr>\n",
       "    <tr>\n",
       "      <th>3</th>\n",
       "      <td>2020-05-14-US-MTV-1</td>\n",
       "      <td>Pixel4</td>\n",
       "      <td>1273529466442</td>\n",
       "      <td>37.423583</td>\n",
       "      <td>-122.094121</td>\n",
       "      <td>-32.83</td>\n",
       "      <td>2020-05-14-US-MTV-1_Pixel4</td>\n",
       "      <td>554.44</td>\n",
       "      <td>1.1</td>\n",
       "      <td>0.0</td>\n",
       "      <td>0.0</td>\n",
       "      <td>12.7</td>\n",
       "      <td>37.423576</td>\n",
       "      <td>-122.094132</td>\n",
       "      <td>33.20</td>\n",
       "      <td>1.213483</td>\n",
       "    </tr>\n",
       "    <tr>\n",
       "      <th>4</th>\n",
       "      <td>2020-05-14-US-MTV-1</td>\n",
       "      <td>Pixel4</td>\n",
       "      <td>1273529467442</td>\n",
       "      <td>37.423579</td>\n",
       "      <td>-122.094114</td>\n",
       "      <td>-34.49</td>\n",
       "      <td>2020-05-14-US-MTV-1_Pixel4</td>\n",
       "      <td>555.44</td>\n",
       "      <td>1.1</td>\n",
       "      <td>0.0</td>\n",
       "      <td>0.0</td>\n",
       "      <td>12.7</td>\n",
       "      <td>37.423576</td>\n",
       "      <td>-122.094132</td>\n",
       "      <td>33.20</td>\n",
       "      <td>1.650722</td>\n",
       "    </tr>\n",
       "  </tbody>\n",
       "</table>\n",
       "</div>"
      ],
      "text/plain": [
       "        collectionName phoneName  millisSinceGpsEpoch     latDeg      lngDeg  \\\n",
       "0  2020-05-14-US-MTV-1    Pixel4        1273529463442  37.423575 -122.094091   \n",
       "1  2020-05-14-US-MTV-1    Pixel4        1273529464442  37.423578 -122.094101   \n",
       "2  2020-05-14-US-MTV-1    Pixel4        1273529465442  37.423573 -122.094111   \n",
       "3  2020-05-14-US-MTV-1    Pixel4        1273529466442  37.423583 -122.094121   \n",
       "4  2020-05-14-US-MTV-1    Pixel4        1273529467442  37.423579 -122.094114   \n",
       "\n",
       "   heightAboveWgs84EllipsoidM                       phone  \\\n",
       "0                      -34.06  2020-05-14-US-MTV-1_Pixel4   \n",
       "1                      -33.29  2020-05-14-US-MTV-1_Pixel4   \n",
       "2                      -30.99  2020-05-14-US-MTV-1_Pixel4   \n",
       "3                      -32.83  2020-05-14-US-MTV-1_Pixel4   \n",
       "4                      -34.49  2020-05-14-US-MTV-1_Pixel4   \n",
       "\n",
       "   timeSinceFirstFixSeconds  hDop  vDop  speedMps  courseDegree   t_latDeg  \\\n",
       "0                    551.44   1.1   0.0       0.0          12.7  37.423576   \n",
       "1                    552.44   1.1   0.0       0.0          12.7  37.423576   \n",
       "2                    553.44   1.1   0.0       0.0          12.7  37.423576   \n",
       "3                    554.44   1.1   0.0       0.0          12.7  37.423576   \n",
       "4                    555.44   1.1   0.0       0.0          12.7  37.423576   \n",
       "\n",
       "     t_lngDeg  t_heightAboveWgs84EllipsoidM     meter  \n",
       "0 -122.094132                         33.21  3.586842  \n",
       "1 -122.094132                         33.21  2.745901  \n",
       "2 -122.094132                         33.21  1.888409  \n",
       "3 -122.094132                         33.20  1.213483  \n",
       "4 -122.094132                         33.20  1.650722  "
      ]
     },
     "execution_count": 20,
     "metadata": {},
     "output_type": "execute_result"
    }
   ],
   "source": [
    "train_df.head()"
   ]
  },
  {
   "cell_type": "code",
   "execution_count": 26,
   "metadata": {
    "ExecuteTime": {
     "end_time": "2021-06-17T20:12:40.798705Z",
     "start_time": "2021-06-17T20:12:40.777716Z"
    }
   },
   "outputs": [
    {
     "data": {
      "text/html": [
       "<div>\n",
       "<style scoped>\n",
       "    .dataframe tbody tr th:only-of-type {\n",
       "        vertical-align: middle;\n",
       "    }\n",
       "\n",
       "    .dataframe tbody tr th {\n",
       "        vertical-align: top;\n",
       "    }\n",
       "\n",
       "    .dataframe thead th {\n",
       "        text-align: right;\n",
       "    }\n",
       "</style>\n",
       "<table border=\"1\" class=\"dataframe\">\n",
       "  <thead>\n",
       "    <tr style=\"text-align: right;\">\n",
       "      <th></th>\n",
       "      <th>collectionName</th>\n",
       "      <th>phoneName</th>\n",
       "      <th>millisSinceGpsEpoch</th>\n",
       "      <th>latDeg</th>\n",
       "      <th>lngDeg</th>\n",
       "      <th>heightAboveWgs84EllipsoidM</th>\n",
       "      <th>phone</th>\n",
       "    </tr>\n",
       "  </thead>\n",
       "  <tbody>\n",
       "    <tr>\n",
       "      <th>0</th>\n",
       "      <td>2020-05-15-US-MTV-1</td>\n",
       "      <td>Pixel4</td>\n",
       "      <td>1273608785432</td>\n",
       "      <td>37.416628</td>\n",
       "      <td>-122.082053</td>\n",
       "      <td>-30.69</td>\n",
       "      <td>2020-05-15-US-MTV-1_Pixel4</td>\n",
       "    </tr>\n",
       "    <tr>\n",
       "      <th>1</th>\n",
       "      <td>2020-05-15-US-MTV-1</td>\n",
       "      <td>Pixel4</td>\n",
       "      <td>1273608786432</td>\n",
       "      <td>37.416646</td>\n",
       "      <td>-122.082040</td>\n",
       "      <td>-31.76</td>\n",
       "      <td>2020-05-15-US-MTV-1_Pixel4</td>\n",
       "    </tr>\n",
       "    <tr>\n",
       "      <th>2</th>\n",
       "      <td>2020-05-15-US-MTV-1</td>\n",
       "      <td>Pixel4</td>\n",
       "      <td>1273608787432</td>\n",
       "      <td>37.416653</td>\n",
       "      <td>-122.082039</td>\n",
       "      <td>-31.65</td>\n",
       "      <td>2020-05-15-US-MTV-1_Pixel4</td>\n",
       "    </tr>\n",
       "    <tr>\n",
       "      <th>3</th>\n",
       "      <td>2020-05-15-US-MTV-1</td>\n",
       "      <td>Pixel4</td>\n",
       "      <td>1273608788432</td>\n",
       "      <td>37.416607</td>\n",
       "      <td>-122.082063</td>\n",
       "      <td>-31.52</td>\n",
       "      <td>2020-05-15-US-MTV-1_Pixel4</td>\n",
       "    </tr>\n",
       "    <tr>\n",
       "      <th>4</th>\n",
       "      <td>2020-05-15-US-MTV-1</td>\n",
       "      <td>Pixel4</td>\n",
       "      <td>1273608789432</td>\n",
       "      <td>37.416609</td>\n",
       "      <td>-122.082073</td>\n",
       "      <td>-28.95</td>\n",
       "      <td>2020-05-15-US-MTV-1_Pixel4</td>\n",
       "    </tr>\n",
       "  </tbody>\n",
       "</table>\n",
       "</div>"
      ],
      "text/plain": [
       "        collectionName phoneName  millisSinceGpsEpoch     latDeg      lngDeg  \\\n",
       "0  2020-05-15-US-MTV-1    Pixel4        1273608785432  37.416628 -122.082053   \n",
       "1  2020-05-15-US-MTV-1    Pixel4        1273608786432  37.416646 -122.082040   \n",
       "2  2020-05-15-US-MTV-1    Pixel4        1273608787432  37.416653 -122.082039   \n",
       "3  2020-05-15-US-MTV-1    Pixel4        1273608788432  37.416607 -122.082063   \n",
       "4  2020-05-15-US-MTV-1    Pixel4        1273608789432  37.416609 -122.082073   \n",
       "\n",
       "   heightAboveWgs84EllipsoidM                       phone  \n",
       "0                      -30.69  2020-05-15-US-MTV-1_Pixel4  \n",
       "1                      -31.76  2020-05-15-US-MTV-1_Pixel4  \n",
       "2                      -31.65  2020-05-15-US-MTV-1_Pixel4  \n",
       "3                      -31.52  2020-05-15-US-MTV-1_Pixel4  \n",
       "4                      -28.95  2020-05-15-US-MTV-1_Pixel4  "
      ]
     },
     "execution_count": 26,
     "metadata": {},
     "output_type": "execute_result"
    }
   ],
   "source": [
    "test_df.head()"
   ]
  },
  {
   "cell_type": "code",
   "execution_count": 53,
   "metadata": {
    "ExecuteTime": {
     "end_time": "2021-06-17T20:28:48.043283Z",
     "start_time": "2021-06-17T20:28:48.022283Z"
    }
   },
   "outputs": [
    {
     "name": "stdout",
     "output_type": "stream",
     "text": [
      "(131342, 3) (131342, 3)\n"
     ]
    }
   ],
   "source": [
    "def extract_features(df, train = True):\n",
    "    Xcols = ['latDeg', 'lngDeg', 'heightAboveWgs84EllipsoidM']\n",
    "    Ycols = ['t_latDeg', 't_lngDeg', 't_heightAboveWgs84EllipsoidM']\n",
    "    \n",
    "    X = df[Xcols]\n",
    "    if train:\n",
    "        y = df[Ycols]\n",
    "    else:\n",
    "        y = None\n",
    "    \n",
    "    return np.array(X), np.array(y)\n",
    "\n",
    "X, y = extract_features(train_df)\n",
    "# Xtest, _ = extract_features(test_df, False)\n",
    "\n",
    "print(X.shape, y.shape)"
   ]
  },
  {
   "cell_type": "code",
   "execution_count": null,
   "metadata": {},
   "outputs": [],
   "source": []
  },
  {
   "cell_type": "markdown",
   "metadata": {},
   "source": [
    "# Modeling"
   ]
  },
  {
   "cell_type": "code",
   "execution_count": 54,
   "metadata": {
    "ExecuteTime": {
     "end_time": "2021-06-17T20:28:50.303722Z",
     "start_time": "2021-06-17T20:28:50.286722Z"
    }
   },
   "outputs": [],
   "source": [
    "# build model\n",
    "class SimpleNetwork(nn.Module):\n",
    "    def __init__(self, input_size, output_size):\n",
    "        super().__init__()\n",
    "        \n",
    "        self.fc1 = nn.Linear(input_size, 10)\n",
    "        self.fc2 = nn.Linear(10, output_size)\n",
    "    \n",
    "    def forward(self, x):\n",
    "        x = self.fc1(x)\n",
    "        x = F.relu(x)\n",
    "        x = self.fc2(x)\n",
    "        \n",
    "        return x\n",
    "    \n",
    "model = SimpleNetwork(X.shape[1], y.shape[1])\n",
    "loss_func = nn.MSELoss()\n",
    "optimizer = optim.Adam(model.parameters(), lr = lr)"
   ]
  },
  {
   "cell_type": "code",
   "execution_count": 56,
   "metadata": {
    "ExecuteTime": {
     "end_time": "2021-06-17T20:28:58.500540Z",
     "start_time": "2021-06-17T20:28:58.477544Z"
    }
   },
   "outputs": [],
   "source": [
    "# Create DataLoader\n",
    "X_train, X_test, y_train, y_test = train_test_split(X, y, test_size = 1/7, random_state = 1990)\n",
    "\n",
    "X_train = torch.Tensor(X_train)\n",
    "X_test = torch.Tensor(X_test)\n",
    "y_train = torch.Tensor(y_train)\n",
    "y_test = torch.Tensor(y_test)\n",
    "\n",
    "ds_train = TensorDataset(X_train, y_train)\n",
    "ds_test = TensorDataset(X_test, y_test)\n",
    "\n",
    "loader_train = DataLoader(ds_train, batch_size = batch_size, shuffle = True)\n",
    "loader_test = DataLoader(ds_test, batch_size = batch_size, shuffle = False)"
   ]
  },
  {
   "cell_type": "code",
   "execution_count": 62,
   "metadata": {
    "ExecuteTime": {
     "end_time": "2021-06-17T20:31:46.934439Z",
     "start_time": "2021-06-17T20:31:46.925439Z"
    }
   },
   "outputs": [],
   "source": [
    "def train(epoch):\n",
    "    model.train()  # 신경망을 학습 모드로 전환\n",
    "\n",
    "    # 데이터로더에서 미니배치를 하나씩 꺼내 학습을 수행\n",
    "    for data, targets in loader_train:\n",
    "\n",
    "        optimizer.zero_grad()  # 경사를 0으로 초기화\n",
    "        outputs = model(data)  # 데이터를 입력하고 출력을 계산\n",
    "        loss = loss_func(outputs, targets)  # 출력과 훈련 데이터 정답 간의 오차를 계산\n",
    "        loss.backward()  # 오차를 역전파 계산\n",
    "        optimizer.step()  # 역전파 계산한 값으로 가중치를 수정\n",
    "\n",
    "    print(\"epoch{}：완료\\n\".format(epoch))"
   ]
  },
  {
   "cell_type": "code",
   "execution_count": 63,
   "metadata": {
    "ExecuteTime": {
     "end_time": "2021-06-17T20:31:47.114965Z",
     "start_time": "2021-06-17T20:31:47.101963Z"
    }
   },
   "outputs": [],
   "source": [
    "def test():\n",
    "    model.eval()  # 신경망을 추론 모드로 전환\n",
    "    correct = 0\n",
    "\n",
    "    # 데이터로더에서 미니배치를 하나씩 꺼내 추론을 수행\n",
    "    with torch.no_grad():  # 추론 과정에는 미분이 필요없음\n",
    "        for data, targets in loader_test:\n",
    "\n",
    "            outputs = model(data)  # 데이터를 입력하고 출력을 계산\n",
    "            loss = loss_func(outputs, targets)\n",
    "\n",
    "    # 정확도 출력\n",
    "    print('\\n테스트 데이터에서 예측 정확도: {}\\n'.format(loss))"
   ]
  },
  {
   "cell_type": "code",
   "execution_count": 64,
   "metadata": {
    "ExecuteTime": {
     "end_time": "2021-06-17T20:31:48.110972Z",
     "start_time": "2021-06-17T20:31:47.917982Z"
    }
   },
   "outputs": [
    {
     "name": "stdout",
     "output_type": "stream",
     "text": [
      "\n",
      "테스트 데이터에서 예측 정확도: 9813.9189453125\n",
      "\n"
     ]
    }
   ],
   "source": [
    "test()"
   ]
  },
  {
   "cell_type": "code",
   "execution_count": 67,
   "metadata": {
    "ExecuteTime": {
     "end_time": "2021-06-17T20:32:29.801268Z",
     "start_time": "2021-06-17T20:32:23.598273Z"
    }
   },
   "outputs": [
    {
     "name": "stdout",
     "output_type": "stream",
     "text": [
      "epoch0：완료\n",
      "\n",
      "epoch1：완료\n",
      "\n",
      "epoch2：완료\n",
      "\n",
      "\n",
      "테스트 데이터에서 예측 정확도: 13.305831909179688\n",
      "\n"
     ]
    }
   ],
   "source": [
    "for epoch in range(EPOCH_NUM):\n",
    "    train(epoch)\n",
    "\n",
    "test()"
   ]
  },
  {
   "cell_type": "markdown",
   "metadata": {},
   "source": [
    "# Cross-Validation"
   ]
  },
  {
   "cell_type": "code",
   "execution_count": null,
   "metadata": {},
   "outputs": [],
   "source": []
  },
  {
   "cell_type": "markdown",
   "metadata": {},
   "source": [
    "# Submission"
   ]
  },
  {
   "cell_type": "code",
   "execution_count": null,
   "metadata": {},
   "outputs": [],
   "source": []
  },
  {
   "cell_type": "code",
   "execution_count": null,
   "metadata": {},
   "outputs": [],
   "source": []
  }
 ],
 "metadata": {
  "hide_input": false,
  "kernelspec": {
   "display_name": "torch",
   "language": "python",
   "name": "torch"
  },
  "language_info": {
   "codemirror_mode": {
    "name": "ipython",
    "version": 3
   },
   "file_extension": ".py",
   "mimetype": "text/x-python",
   "name": "python",
   "nbconvert_exporter": "python",
   "pygments_lexer": "ipython3",
   "version": "3.6.12"
  },
  "latex_envs": {
   "LaTeX_envs_menu_present": true,
   "autoclose": false,
   "autocomplete": true,
   "bibliofile": "biblio.bib",
   "cite_by": "apalike",
   "current_citInitial": 1,
   "eqLabelWithNumbers": true,
   "eqNumInitial": 1,
   "hotkeys": {
    "equation": "Ctrl-E",
    "itemize": "Ctrl-I"
   },
   "labels_anchors": false,
   "latex_user_defs": false,
   "report_style_numbering": false,
   "user_envs_cfg": false
  },
  "toc": {
   "base_numbering": 1,
   "nav_menu": {},
   "number_sections": true,
   "sideBar": true,
   "skip_h1_title": false,
   "title_cell": "Table of Contents",
   "title_sidebar": "Contents",
   "toc_cell": false,
   "toc_position": {},
   "toc_section_display": true,
   "toc_window_display": true
  },
  "varInspector": {
   "cols": {
    "lenName": 16,
    "lenType": 16,
    "lenVar": 40
   },
   "kernels_config": {
    "python": {
     "delete_cmd_postfix": "",
     "delete_cmd_prefix": "del ",
     "library": "var_list.py",
     "varRefreshCmd": "print(var_dic_list())"
    },
    "r": {
     "delete_cmd_postfix": ") ",
     "delete_cmd_prefix": "rm(",
     "library": "var_list.r",
     "varRefreshCmd": "cat(var_dic_list()) "
    }
   },
   "types_to_exclude": [
    "module",
    "function",
    "builtin_function_or_method",
    "instance",
    "_Feature"
   ],
   "window_display": false
  }
 },
 "nbformat": 4,
 "nbformat_minor": 4
}
