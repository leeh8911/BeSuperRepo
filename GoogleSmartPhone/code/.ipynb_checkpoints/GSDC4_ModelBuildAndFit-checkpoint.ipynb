{
 "cells": [
  {
   "cell_type": "markdown",
   "metadata": {},
   "source": [
    "# Load Libraries"
   ]
  },
  {
   "cell_type": "code",
   "execution_count": 1,
   "metadata": {
    "ExecuteTime": {
     "end_time": "2021-07-02T09:16:36.092578Z",
     "start_time": "2021-07-02T09:16:33.389539Z"
    }
   },
   "outputs": [],
   "source": [
    "import numpy as np\n",
    "import pandas as pd\n",
    "from glob import glob\n",
    "import os\n",
    "import matplotlib.pyplot as plt\n",
    "from tqdm.notebook import tqdm\n",
    "from pathlib import Path\n",
    "import plotly.express as px\n",
    "\n",
    "import torch\n",
    "import torch.nn as nn\n",
    "import torch.nn.functional as F\n",
    "import torch.optim as optim\n",
    "from torch.utils.data import TensorDataset, DataLoader\n",
    "from sklearn.model_selection import train_test_split\n",
    "from sklearn.preprocessing import StandardScaler, MinMaxScaler\n",
    "\n",
    "import warnings\n",
    "warnings.filterwarnings(action='ignore')"
   ]
  },
  {
   "cell_type": "code",
   "execution_count": 2,
   "metadata": {
    "ExecuteTime": {
     "end_time": "2021-07-02T09:16:36.152578Z",
     "start_time": "2021-07-02T09:16:36.093579Z"
    }
   },
   "outputs": [
    {
     "name": "stdout",
     "output_type": "stream",
     "text": [
      "cuda:0\n"
     ]
    }
   ],
   "source": [
    "device = torch.device('cuda:0' if torch.cuda.is_available() else \"cpu\")\n",
    "print(device)"
   ]
  },
  {
   "cell_type": "markdown",
   "metadata": {},
   "source": [
    "# Set Hyper Parameters"
   ]
  },
  {
   "cell_type": "code",
   "execution_count": 3,
   "metadata": {
    "ExecuteTime": {
     "end_time": "2021-07-02T09:16:36.167578Z",
     "start_time": "2021-07-02T09:16:36.153580Z"
    }
   },
   "outputs": [],
   "source": [
    "nepochs = 100\n",
    "batch_size = 1024\n",
    "learning_rate = 0.01\n",
    "\n",
    "window_size = 100"
   ]
  },
  {
   "cell_type": "markdown",
   "metadata": {},
   "source": [
    "# Set Path"
   ]
  },
  {
   "cell_type": "code",
   "execution_count": 4,
   "metadata": {
    "ExecuteTime": {
     "end_time": "2021-07-02T09:16:36.182578Z",
     "start_time": "2021-07-02T09:16:36.168579Z"
    }
   },
   "outputs": [],
   "source": [
    "data_dir = Path(\"../input/google-smartphone-decimeter-challenge\")"
   ]
  },
  {
   "cell_type": "markdown",
   "metadata": {},
   "source": [
    "# Help Functions"
   ]
  },
  {
   "cell_type": "code",
   "execution_count": 5,
   "metadata": {
    "ExecuteTime": {
     "end_time": "2021-07-02T09:16:36.197578Z",
     "start_time": "2021-07-02T09:16:36.183580Z"
    }
   },
   "outputs": [],
   "source": [
    "def calc_haversine(lat1, lon1, lat2, lon2):\n",
    "    dlat = (lat2 - lat1) % 360\n",
    "    dlon = (lon2 - lon1) % 360 \n",
    "    \n",
    "    dlat, dlon = map(np.radians, [dlat, dlon])\n",
    "    a = np.sin(dlat / 2.0)**2 + np.cos(lat1) * np.cos(lat2) * np.sin(dlon / 2.0)**2\n",
    "    c = 2 * np.arcsin(a ** 0.5)\n",
    "        \n",
    "    dist = 6_367_000 * c\n",
    "    return dist"
   ]
  },
  {
   "cell_type": "code",
   "execution_count": 22,
   "metadata": {
    "ExecuteTime": {
     "end_time": "2021-07-02T09:17:52.600333Z",
     "start_time": "2021-07-02T09:17:52.583346Z"
    }
   },
   "outputs": [],
   "source": [
    "def check_score_np(predict:torch.Tensor, target:torch.Tensor):\n",
    "    m = []\n",
    "    predict = predict.detach().numpy()\n",
    "    target = target.detach().numpy()\n",
    "    for i in range(predict.shape[0]):\n",
    "        temp = calc_haversine(predict[i,0], predict[i,1], target[i,0], target[i,1])\n",
    "        m.append(temp)\n",
    "    \n",
    "    m = np.array(m)\n",
    "    m = m[np.invert(np.isnan(m))]\n",
    "    if m.shape[0] == 0:\n",
    "        score = np.inf\n",
    "    else:\n",
    "        score = (np.percentile(m, 50) + np.percentile(m, 95))/2\n",
    "    \n",
    "    return score"
   ]
  },
  {
   "cell_type": "markdown",
   "metadata": {},
   "source": [
    "# Load Data"
   ]
  },
  {
   "cell_type": "code",
   "execution_count": 7,
   "metadata": {
    "ExecuteTime": {
     "end_time": "2021-07-02T09:16:36.302578Z",
     "start_time": "2021-07-02T09:16:36.213579Z"
    }
   },
   "outputs": [],
   "source": [
    "df_train_default = pd.read_pickle(str(data_dir / \"gsdc_extract_train.pkl.gzip\"))"
   ]
  },
  {
   "cell_type": "code",
   "execution_count": 8,
   "metadata": {
    "ExecuteTime": {
     "end_time": "2021-07-02T09:16:36.362578Z",
     "start_time": "2021-07-02T09:16:36.304580Z"
    }
   },
   "outputs": [],
   "source": [
    "df_test = pd.read_pickle(str(data_dir / \"gsdc_extract_test.pkl.gzip\"))"
   ]
  },
  {
   "cell_type": "code",
   "execution_count": 9,
   "metadata": {
    "ExecuteTime": {
     "end_time": "2021-07-02T09:16:36.377578Z",
     "start_time": "2021-07-02T09:16:36.363579Z"
    },
    "scrolled": true
   },
   "outputs": [
    {
     "name": "stdout",
     "output_type": "stream",
     "text": [
      "collectionName\n",
      "phoneName\n",
      "millisSinceGpsEpoch\n",
      "latDeg\n",
      "lngDeg\n",
      "heightAboveWgs84EllipsoidM\n",
      "phone\n",
      "timeSinceFirstFixSeconds\n",
      "hDop\n",
      "vDop\n",
      "speedMps\n",
      "courseDegree\n",
      "t_latDeg\n",
      "t_lngDeg\n",
      "t_heightAboveWgs84EllipsoidM\n",
      "constellationType\n",
      "svid\n",
      "signalType\n",
      "receivedSvTimeInGpsNanos\n",
      "xSatPosM\n",
      "ySatPosM\n",
      "zSatPosM\n",
      "xSatVelMps\n",
      "ySatVelMps\n",
      "zSatVelMps\n",
      "satClkBiasM\n",
      "satClkDriftMps\n",
      "rawPrM\n",
      "rawPrUncM\n",
      "isrbM\n",
      "ionoDelayM\n",
      "tropoDelayM\n",
      "utcTimeMillis\n",
      "TimeNanos\n",
      "LeapSecond\n",
      "FullBiasNanos\n",
      "BiasNanos\n",
      "BiasUncertaintyNanos\n",
      "DriftNanosPerSecond\n",
      "DriftUncertaintyNanosPerSecond\n",
      "HardwareClockDiscontinuityCount\n",
      "Svid\n",
      "TimeOffsetNanos\n",
      "State\n",
      "ReceivedSvTimeNanos\n",
      "ReceivedSvTimeUncertaintyNanos\n",
      "Cn0DbHz\n",
      "PseudorangeRateMetersPerSecond\n",
      "PseudorangeRateUncertaintyMetersPerSecond\n",
      "AccumulatedDeltaRangeState\n",
      "AccumulatedDeltaRangeMeters\n",
      "AccumulatedDeltaRangeUncertaintyMeters\n",
      "CarrierFrequencyHz\n",
      "MultipathIndicator\n",
      "ConstellationType\n",
      "AgcDb\n",
      "BasebandCn0DbHz\n",
      "FullInterSignalBiasNanos\n",
      "FullInterSignalBiasUncertaintyNanos\n",
      "SatelliteInterSignalBiasNanos\n",
      "SatelliteInterSignalBiasUncertaintyNanos\n",
      "CodeType\n",
      "ChipsetElapsedRealtimeNanos\n",
      "utcTimeMillis_UncalGyro\n",
      "elapsedRealtimeNanos\n",
      "UncalGyroXRadPerSec\n",
      "UncalGyroYRadPerSec\n",
      "UncalGyroZRadPerSec\n",
      "DriftXRadPerSec\n",
      "DriftYRadPerSec\n",
      "DriftZRadPerSec\n",
      "utcTimeMillis_Status\n",
      "SignalCount\n",
      "SignalIndex\n",
      "ConstellationType_Status\n",
      "Svid_Status\n",
      "CarrierFrequencyHz_Status\n",
      "Cn0DbHz_Status\n",
      "AzimuthDegrees\n",
      "ElevationDegrees\n",
      "UsedInFix\n",
      "HasAlmanacData\n",
      "HasEphemerisData\n",
      "BasebandCn0DbHz_Status\n",
      "utcTimeMillis_UncalAccel\n",
      "elapsedRealtimeNanos_UncalAccel\n",
      "UncalAccelXMps2\n",
      "UncalAccelYMps2\n",
      "UncalAccelZMps2\n",
      "BiasXMps2\n",
      "BiasYMps2\n",
      "BiasZMps2\n",
      "utcTimeMillis_UncalMag\n",
      "elapsedRealtimeNanos_UncalMag\n",
      "UncalMagXMicroT\n",
      "UncalMagYMicroT\n",
      "UncalMagZMicroT\n",
      "BiasXMicroT\n",
      "BiasYMicroT\n",
      "BiasZMicroT\n",
      "utcTimeMillis_OrientationDeg\n",
      "elapsedRealtimeNanos_OrientationDeg\n",
      "yawDeg\n",
      "rollDeg\n",
      "pitchDeg\n",
      "dlatDeg\n",
      "dlngDeg\n",
      "dheight\n"
     ]
    }
   ],
   "source": [
    "for col in df_train_default.columns:\n",
    "    print(col)"
   ]
  },
  {
   "cell_type": "markdown",
   "metadata": {},
   "source": [
    "# Dataloader"
   ]
  },
  {
   "cell_type": "code",
   "execution_count": 10,
   "metadata": {
    "ExecuteTime": {
     "end_time": "2021-07-02T09:16:36.407578Z",
     "start_time": "2021-07-02T09:16:36.378581Z"
    }
   },
   "outputs": [
    {
     "data": {
      "text/plain": [
       "2021-04-22-US-SJC-1_Pixel4             2890\n",
       "2021-04-22-US-SJC-1_SamsungS20Ultra    2826\n",
       "2020-09-04-US-SF-2_Mi8                 2500\n",
       "2021-04-29-US-SJC-2_SamsungS20Ultra    2370\n",
       "2020-09-04-US-SF-2_Pixel4              2349\n",
       "                                       ... \n",
       "2021-01-05-US-SVL-2_Pixel4XL           1193\n",
       "2020-06-05-US-MTV-1_Pixel4XLModded     1123\n",
       "2021-04-26-US-SVL-1_Mi8                1036\n",
       "2021-04-26-US-SVL-1_Pixel5             1034\n",
       "2020-05-14-US-MTV-2_Pixel4XLModded      577\n",
       "Name: phone, Length: 73, dtype: int64"
      ]
     },
     "execution_count": 10,
     "metadata": {},
     "output_type": "execute_result"
    }
   ],
   "source": [
    "df_train_default['phone'].value_counts()"
   ]
  },
  {
   "cell_type": "code",
   "execution_count": 11,
   "metadata": {
    "ExecuteTime": {
     "end_time": "2021-07-02T09:16:37.037578Z",
     "start_time": "2021-07-02T09:16:36.408579Z"
    }
   },
   "outputs": [
    {
     "name": "stdout",
     "output_type": "stream",
     "text": [
      "(118509, 108) (12014, 108)\n"
     ]
    }
   ],
   "source": [
    "def CustomTrainValidSplit(df:pd.DataFrame, valid_size):\n",
    "    phones = df['phone'].unique()\n",
    "    \n",
    "    valid_num = int(len(phones) * valid_size)\n",
    "    train_num = len(phones) - valid_num\n",
    "    \n",
    "    indexes = np.array(range(len(phones)))\n",
    "    indexes = np.random.choice(indexes, len(indexes))\n",
    "    \n",
    "    df_train = []\n",
    "    for phone in phones[indexes[:train_num]]:\n",
    "        df_train.append(df[df['phone'] == phone])\n",
    "    df_train = pd.concat(df_train)\n",
    "    \n",
    "    df_valid = []\n",
    "    for phone in phones[indexes[train_num:-1]]:\n",
    "        df_valid.append(df[df['phone'] == phone])\n",
    "    df_valid = pd.concat(df_valid)\n",
    "    \n",
    "    return df_train, df_valid\n",
    "    \n",
    "df_train, df_valid = CustomTrainValidSplit(df_train_default, valid_size = 0.1)\n",
    "print(df_train.shape, df_valid.shape)\n",
    "    "
   ]
  },
  {
   "cell_type": "code",
   "execution_count": 12,
   "metadata": {
    "ExecuteTime": {
     "end_time": "2021-07-02T09:16:37.112577Z",
     "start_time": "2021-07-02T09:16:37.039583Z"
    }
   },
   "outputs": [
    {
     "data": {
      "text/html": [
       "<div>\n",
       "<style scoped>\n",
       "    .dataframe tbody tr th:only-of-type {\n",
       "        vertical-align: middle;\n",
       "    }\n",
       "\n",
       "    .dataframe tbody tr th {\n",
       "        vertical-align: top;\n",
       "    }\n",
       "\n",
       "    .dataframe thead th {\n",
       "        text-align: right;\n",
       "    }\n",
       "</style>\n",
       "<table border=\"1\" class=\"dataframe\">\n",
       "  <thead>\n",
       "    <tr style=\"text-align: right;\">\n",
       "      <th></th>\n",
       "      <th>collectionName</th>\n",
       "      <th>phoneName</th>\n",
       "      <th>millisSinceGpsEpoch</th>\n",
       "      <th>latDeg</th>\n",
       "      <th>lngDeg</th>\n",
       "      <th>heightAboveWgs84EllipsoidM</th>\n",
       "      <th>phone</th>\n",
       "      <th>timeSinceFirstFixSeconds</th>\n",
       "      <th>hDop</th>\n",
       "      <th>vDop</th>\n",
       "      <th>...</th>\n",
       "      <th>BiasYMicroT</th>\n",
       "      <th>BiasZMicroT</th>\n",
       "      <th>utcTimeMillis_OrientationDeg</th>\n",
       "      <th>elapsedRealtimeNanos_OrientationDeg</th>\n",
       "      <th>yawDeg</th>\n",
       "      <th>rollDeg</th>\n",
       "      <th>pitchDeg</th>\n",
       "      <th>dlatDeg</th>\n",
       "      <th>dlngDeg</th>\n",
       "      <th>dheight</th>\n",
       "    </tr>\n",
       "  </thead>\n",
       "  <tbody>\n",
       "    <tr>\n",
       "      <th>35304</th>\n",
       "      <td>2020-06-11-US-MTV-1</td>\n",
       "      <td>Pixel4</td>\n",
       "      <td>1275933942446</td>\n",
       "      <td>37.424563</td>\n",
       "      <td>-122.092274</td>\n",
       "      <td>-13.20</td>\n",
       "      <td>2020-06-11-US-MTV-1_Pixel4</td>\n",
       "      <td>59.45</td>\n",
       "      <td>1.4</td>\n",
       "      <td>0.0</td>\n",
       "      <td>...</td>\n",
       "      <td>NaN</td>\n",
       "      <td>NaN</td>\n",
       "      <td>NaN</td>\n",
       "      <td>NaN</td>\n",
       "      <td>NaN</td>\n",
       "      <td>NaN</td>\n",
       "      <td>NaN</td>\n",
       "      <td>0.000000e+00</td>\n",
       "      <td>0.000000</td>\n",
       "      <td>0.00</td>\n",
       "    </tr>\n",
       "    <tr>\n",
       "      <th>35306</th>\n",
       "      <td>2020-06-11-US-MTV-1</td>\n",
       "      <td>Pixel4</td>\n",
       "      <td>1275933943446</td>\n",
       "      <td>37.424565</td>\n",
       "      <td>-122.092256</td>\n",
       "      <td>-21.40</td>\n",
       "      <td>2020-06-11-US-MTV-1_Pixel4</td>\n",
       "      <td>60.45</td>\n",
       "      <td>1.4</td>\n",
       "      <td>0.0</td>\n",
       "      <td>...</td>\n",
       "      <td>NaN</td>\n",
       "      <td>NaN</td>\n",
       "      <td>NaN</td>\n",
       "      <td>NaN</td>\n",
       "      <td>NaN</td>\n",
       "      <td>NaN</td>\n",
       "      <td>NaN</td>\n",
       "      <td>1.900000e-06</td>\n",
       "      <td>0.000017</td>\n",
       "      <td>-8.20</td>\n",
       "    </tr>\n",
       "    <tr>\n",
       "      <th>35308</th>\n",
       "      <td>2020-06-11-US-MTV-1</td>\n",
       "      <td>Pixel4</td>\n",
       "      <td>1275933944446</td>\n",
       "      <td>37.424615</td>\n",
       "      <td>-122.092226</td>\n",
       "      <td>-26.04</td>\n",
       "      <td>2020-06-11-US-MTV-1_Pixel4</td>\n",
       "      <td>61.45</td>\n",
       "      <td>1.4</td>\n",
       "      <td>0.0</td>\n",
       "      <td>...</td>\n",
       "      <td>NaN</td>\n",
       "      <td>NaN</td>\n",
       "      <td>NaN</td>\n",
       "      <td>NaN</td>\n",
       "      <td>NaN</td>\n",
       "      <td>NaN</td>\n",
       "      <td>NaN</td>\n",
       "      <td>5.190000e-05</td>\n",
       "      <td>0.000048</td>\n",
       "      <td>-12.84</td>\n",
       "    </tr>\n",
       "    <tr>\n",
       "      <th>35310</th>\n",
       "      <td>2020-06-11-US-MTV-1</td>\n",
       "      <td>Pixel4</td>\n",
       "      <td>1275933945446</td>\n",
       "      <td>37.424620</td>\n",
       "      <td>-122.092215</td>\n",
       "      <td>-30.05</td>\n",
       "      <td>2020-06-11-US-MTV-1_Pixel4</td>\n",
       "      <td>62.45</td>\n",
       "      <td>1.4</td>\n",
       "      <td>0.0</td>\n",
       "      <td>...</td>\n",
       "      <td>NaN</td>\n",
       "      <td>NaN</td>\n",
       "      <td>NaN</td>\n",
       "      <td>NaN</td>\n",
       "      <td>NaN</td>\n",
       "      <td>NaN</td>\n",
       "      <td>NaN</td>\n",
       "      <td>5.730000e-05</td>\n",
       "      <td>0.000059</td>\n",
       "      <td>-16.85</td>\n",
       "    </tr>\n",
       "    <tr>\n",
       "      <th>35312</th>\n",
       "      <td>2020-06-11-US-MTV-1</td>\n",
       "      <td>Pixel4</td>\n",
       "      <td>1275933946446</td>\n",
       "      <td>37.424563</td>\n",
       "      <td>-122.092268</td>\n",
       "      <td>-31.57</td>\n",
       "      <td>2020-06-11-US-MTV-1_Pixel4</td>\n",
       "      <td>63.45</td>\n",
       "      <td>1.4</td>\n",
       "      <td>0.0</td>\n",
       "      <td>...</td>\n",
       "      <td>NaN</td>\n",
       "      <td>NaN</td>\n",
       "      <td>NaN</td>\n",
       "      <td>NaN</td>\n",
       "      <td>NaN</td>\n",
       "      <td>NaN</td>\n",
       "      <td>NaN</td>\n",
       "      <td>2.000000e-07</td>\n",
       "      <td>0.000006</td>\n",
       "      <td>-18.37</td>\n",
       "    </tr>\n",
       "    <tr>\n",
       "      <th>...</th>\n",
       "      <td>...</td>\n",
       "      <td>...</td>\n",
       "      <td>...</td>\n",
       "      <td>...</td>\n",
       "      <td>...</td>\n",
       "      <td>...</td>\n",
       "      <td>...</td>\n",
       "      <td>...</td>\n",
       "      <td>...</td>\n",
       "      <td>...</td>\n",
       "      <td>...</td>\n",
       "      <td>...</td>\n",
       "      <td>...</td>\n",
       "      <td>...</td>\n",
       "      <td>...</td>\n",
       "      <td>...</td>\n",
       "      <td>...</td>\n",
       "      <td>...</td>\n",
       "      <td>...</td>\n",
       "      <td>...</td>\n",
       "      <td>...</td>\n",
       "    </tr>\n",
       "    <tr>\n",
       "      <th>26568</th>\n",
       "      <td>2020-06-04-US-MTV-1</td>\n",
       "      <td>Pixel4XLModded</td>\n",
       "      <td>1275341260434</td>\n",
       "      <td>37.630089</td>\n",
       "      <td>-122.419930</td>\n",
       "      <td>-7.61</td>\n",
       "      <td>2020-06-04-US-MTV-1_Pixel4XLModded</td>\n",
       "      <td>1945.43</td>\n",
       "      <td>1.7</td>\n",
       "      <td>0.0</td>\n",
       "      <td>...</td>\n",
       "      <td>NaN</td>\n",
       "      <td>NaN</td>\n",
       "      <td>NaN</td>\n",
       "      <td>NaN</td>\n",
       "      <td>NaN</td>\n",
       "      <td>NaN</td>\n",
       "      <td>NaN</td>\n",
       "      <td>2.137688e-01</td>\n",
       "      <td>-0.339471</td>\n",
       "      <td>24.72</td>\n",
       "    </tr>\n",
       "    <tr>\n",
       "      <th>26569</th>\n",
       "      <td>2020-06-04-US-MTV-1</td>\n",
       "      <td>Pixel4XLModded</td>\n",
       "      <td>1275341261434</td>\n",
       "      <td>37.630115</td>\n",
       "      <td>-122.420849</td>\n",
       "      <td>-117.57</td>\n",
       "      <td>2020-06-04-US-MTV-1_Pixel4XLModded</td>\n",
       "      <td>1946.43</td>\n",
       "      <td>1.7</td>\n",
       "      <td>0.0</td>\n",
       "      <td>...</td>\n",
       "      <td>NaN</td>\n",
       "      <td>NaN</td>\n",
       "      <td>NaN</td>\n",
       "      <td>NaN</td>\n",
       "      <td>NaN</td>\n",
       "      <td>NaN</td>\n",
       "      <td>NaN</td>\n",
       "      <td>2.137945e-01</td>\n",
       "      <td>-0.340390</td>\n",
       "      <td>-85.24</td>\n",
       "    </tr>\n",
       "    <tr>\n",
       "      <th>26570</th>\n",
       "      <td>2020-06-04-US-MTV-1</td>\n",
       "      <td>Pixel4XLModded</td>\n",
       "      <td>1275341262434</td>\n",
       "      <td>37.630026</td>\n",
       "      <td>-122.420178</td>\n",
       "      <td>11.56</td>\n",
       "      <td>2020-06-04-US-MTV-1_Pixel4XLModded</td>\n",
       "      <td>1947.43</td>\n",
       "      <td>1.6</td>\n",
       "      <td>0.0</td>\n",
       "      <td>...</td>\n",
       "      <td>NaN</td>\n",
       "      <td>NaN</td>\n",
       "      <td>NaN</td>\n",
       "      <td>NaN</td>\n",
       "      <td>NaN</td>\n",
       "      <td>NaN</td>\n",
       "      <td>NaN</td>\n",
       "      <td>2.137054e-01</td>\n",
       "      <td>-0.339719</td>\n",
       "      <td>43.89</td>\n",
       "    </tr>\n",
       "    <tr>\n",
       "      <th>26571</th>\n",
       "      <td>2020-06-04-US-MTV-1</td>\n",
       "      <td>Pixel4XLModded</td>\n",
       "      <td>1275341263434</td>\n",
       "      <td>37.630071</td>\n",
       "      <td>-122.420205</td>\n",
       "      <td>9.97</td>\n",
       "      <td>2020-06-04-US-MTV-1_Pixel4XLModded</td>\n",
       "      <td>1948.43</td>\n",
       "      <td>1.4</td>\n",
       "      <td>0.0</td>\n",
       "      <td>...</td>\n",
       "      <td>NaN</td>\n",
       "      <td>NaN</td>\n",
       "      <td>NaN</td>\n",
       "      <td>NaN</td>\n",
       "      <td>NaN</td>\n",
       "      <td>NaN</td>\n",
       "      <td>NaN</td>\n",
       "      <td>2.137510e-01</td>\n",
       "      <td>-0.339746</td>\n",
       "      <td>42.30</td>\n",
       "    </tr>\n",
       "    <tr>\n",
       "      <th>26572</th>\n",
       "      <td>2020-06-04-US-MTV-1</td>\n",
       "      <td>Pixel4XLModded</td>\n",
       "      <td>1275341264434</td>\n",
       "      <td>37.630100</td>\n",
       "      <td>-122.420123</td>\n",
       "      <td>-3.76</td>\n",
       "      <td>2020-06-04-US-MTV-1_Pixel4XLModded</td>\n",
       "      <td>1949.43</td>\n",
       "      <td>1.4</td>\n",
       "      <td>0.0</td>\n",
       "      <td>...</td>\n",
       "      <td>NaN</td>\n",
       "      <td>NaN</td>\n",
       "      <td>NaN</td>\n",
       "      <td>NaN</td>\n",
       "      <td>NaN</td>\n",
       "      <td>NaN</td>\n",
       "      <td>NaN</td>\n",
       "      <td>2.137795e-01</td>\n",
       "      <td>-0.339664</td>\n",
       "      <td>28.57</td>\n",
       "    </tr>\n",
       "  </tbody>\n",
       "</table>\n",
       "<p>118509 rows × 108 columns</p>\n",
       "</div>"
      ],
      "text/plain": [
       "            collectionName       phoneName  millisSinceGpsEpoch     latDeg  \\\n",
       "35304  2020-06-11-US-MTV-1          Pixel4        1275933942446  37.424563   \n",
       "35306  2020-06-11-US-MTV-1          Pixel4        1275933943446  37.424565   \n",
       "35308  2020-06-11-US-MTV-1          Pixel4        1275933944446  37.424615   \n",
       "35310  2020-06-11-US-MTV-1          Pixel4        1275933945446  37.424620   \n",
       "35312  2020-06-11-US-MTV-1          Pixel4        1275933946446  37.424563   \n",
       "...                    ...             ...                  ...        ...   \n",
       "26568  2020-06-04-US-MTV-1  Pixel4XLModded        1275341260434  37.630089   \n",
       "26569  2020-06-04-US-MTV-1  Pixel4XLModded        1275341261434  37.630115   \n",
       "26570  2020-06-04-US-MTV-1  Pixel4XLModded        1275341262434  37.630026   \n",
       "26571  2020-06-04-US-MTV-1  Pixel4XLModded        1275341263434  37.630071   \n",
       "26572  2020-06-04-US-MTV-1  Pixel4XLModded        1275341264434  37.630100   \n",
       "\n",
       "           lngDeg  heightAboveWgs84EllipsoidM  \\\n",
       "35304 -122.092274                      -13.20   \n",
       "35306 -122.092256                      -21.40   \n",
       "35308 -122.092226                      -26.04   \n",
       "35310 -122.092215                      -30.05   \n",
       "35312 -122.092268                      -31.57   \n",
       "...           ...                         ...   \n",
       "26568 -122.419930                       -7.61   \n",
       "26569 -122.420849                     -117.57   \n",
       "26570 -122.420178                       11.56   \n",
       "26571 -122.420205                        9.97   \n",
       "26572 -122.420123                       -3.76   \n",
       "\n",
       "                                    phone  timeSinceFirstFixSeconds  hDop  \\\n",
       "35304          2020-06-11-US-MTV-1_Pixel4                     59.45   1.4   \n",
       "35306          2020-06-11-US-MTV-1_Pixel4                     60.45   1.4   \n",
       "35308          2020-06-11-US-MTV-1_Pixel4                     61.45   1.4   \n",
       "35310          2020-06-11-US-MTV-1_Pixel4                     62.45   1.4   \n",
       "35312          2020-06-11-US-MTV-1_Pixel4                     63.45   1.4   \n",
       "...                                   ...                       ...   ...   \n",
       "26568  2020-06-04-US-MTV-1_Pixel4XLModded                   1945.43   1.7   \n",
       "26569  2020-06-04-US-MTV-1_Pixel4XLModded                   1946.43   1.7   \n",
       "26570  2020-06-04-US-MTV-1_Pixel4XLModded                   1947.43   1.6   \n",
       "26571  2020-06-04-US-MTV-1_Pixel4XLModded                   1948.43   1.4   \n",
       "26572  2020-06-04-US-MTV-1_Pixel4XLModded                   1949.43   1.4   \n",
       "\n",
       "       vDop  ...  BiasYMicroT  BiasZMicroT  utcTimeMillis_OrientationDeg  \\\n",
       "35304   0.0  ...          NaN          NaN                           NaN   \n",
       "35306   0.0  ...          NaN          NaN                           NaN   \n",
       "35308   0.0  ...          NaN          NaN                           NaN   \n",
       "35310   0.0  ...          NaN          NaN                           NaN   \n",
       "35312   0.0  ...          NaN          NaN                           NaN   \n",
       "...     ...  ...          ...          ...                           ...   \n",
       "26568   0.0  ...          NaN          NaN                           NaN   \n",
       "26569   0.0  ...          NaN          NaN                           NaN   \n",
       "26570   0.0  ...          NaN          NaN                           NaN   \n",
       "26571   0.0  ...          NaN          NaN                           NaN   \n",
       "26572   0.0  ...          NaN          NaN                           NaN   \n",
       "\n",
       "       elapsedRealtimeNanos_OrientationDeg  yawDeg  rollDeg  pitchDeg  \\\n",
       "35304                                  NaN     NaN      NaN       NaN   \n",
       "35306                                  NaN     NaN      NaN       NaN   \n",
       "35308                                  NaN     NaN      NaN       NaN   \n",
       "35310                                  NaN     NaN      NaN       NaN   \n",
       "35312                                  NaN     NaN      NaN       NaN   \n",
       "...                                    ...     ...      ...       ...   \n",
       "26568                                  NaN     NaN      NaN       NaN   \n",
       "26569                                  NaN     NaN      NaN       NaN   \n",
       "26570                                  NaN     NaN      NaN       NaN   \n",
       "26571                                  NaN     NaN      NaN       NaN   \n",
       "26572                                  NaN     NaN      NaN       NaN   \n",
       "\n",
       "            dlatDeg   dlngDeg  dheight  \n",
       "35304  0.000000e+00  0.000000     0.00  \n",
       "35306  1.900000e-06  0.000017    -8.20  \n",
       "35308  5.190000e-05  0.000048   -12.84  \n",
       "35310  5.730000e-05  0.000059   -16.85  \n",
       "35312  2.000000e-07  0.000006   -18.37  \n",
       "...             ...       ...      ...  \n",
       "26568  2.137688e-01 -0.339471    24.72  \n",
       "26569  2.137945e-01 -0.340390   -85.24  \n",
       "26570  2.137054e-01 -0.339719    43.89  \n",
       "26571  2.137510e-01 -0.339746    42.30  \n",
       "26572  2.137795e-01 -0.339664    28.57  \n",
       "\n",
       "[118509 rows x 108 columns]"
      ]
     },
     "execution_count": 12,
     "metadata": {},
     "output_type": "execute_result"
    }
   ],
   "source": [
    "df_train"
   ]
  },
  {
   "cell_type": "code",
   "execution_count": 13,
   "metadata": {
    "ExecuteTime": {
     "end_time": "2021-07-02T09:16:37.127579Z",
     "start_time": "2021-07-02T09:16:37.113580Z"
    }
   },
   "outputs": [],
   "source": [
    "def GetWindows(idx, window_size):\n",
    "    index = np.array([])\n",
    "    if idx < window_size:\n",
    "        index = np.concatenate([np.zeros(window_size - idx-1), np.array(range(idx+1))])\n",
    "        pass\n",
    "    else:\n",
    "        index = np.array(range(idx-window_size+1, idx+1))\n",
    "    return index.astype(int)\n",
    "\n",
    "\n",
    "class CustomDataset(torch.utils.data.Dataset):\n",
    "    def __init__(self, df:pd.DataFrame, \n",
    "                 features = ['latDeg', 'lngDeg', 'heightAboveWgs84EllipsoidM'], \n",
    "                 labels = ['t_latDeg', 't_lngDeg', 't_heightAboveWgs84EllipsoidM'],\n",
    "                 window_size = 100,\n",
    "                 train = True,\n",
    "                device = 'cpu'):\n",
    "        self.df = df\n",
    "        self.features = features\n",
    "        self.labels = labels\n",
    "        self.len = df.shape[0]\n",
    "        self.window_size = window_size\n",
    "        self.train = train\n",
    "        self.device = device\n",
    "        \n",
    "        self.data = self.df[features].astype(float).values\n",
    "        if train == True:\n",
    "            self.true = self.df[labels].astype(float).values\n",
    "        else:\n",
    "            self.true = []\n",
    "        self.phone = self.df['phone'].values\n",
    "        self.millisSinceGpsEpoch = self.df['millisSinceGpsEpoch'].values\n",
    "        \n",
    "        self.start_index_by_phone = dict()\n",
    "        \n",
    "        for phone in set(self.phone):\n",
    "            start_index = np.where(self.phone == phone)[0][0]\n",
    "            self.start_index_by_phone[phone] = start_index\n",
    "        \n",
    "    \n",
    "    def __len__(self):\n",
    "        return self.len\n",
    "    \n",
    "    def __getitem__(self, idx):\n",
    "        phone = self.phone[idx]\n",
    "        start_index = self.start_index_by_phone[phone]\n",
    "        \n",
    "        \n",
    "        window_index = GetWindows(idx - start_index, self.window_size) + start_index\n",
    "        data = self.data[window_index, :]\n",
    "        \n",
    "        if self.train is False:\n",
    "            true = []\n",
    "        else:\n",
    "            true = self.true[idx]\n",
    "            \n",
    "        indx = [self.phone[idx], self.millisSinceGpsEpoch[idx]]\n",
    "        \n",
    "        # data shape : window_size X num_of_features\n",
    "        # true shape : num_of_labels X 1\n",
    "        data = torch.Tensor(data)\n",
    "        true = torch.Tensor(true.astype(float))\n",
    "        \n",
    "        return data, true, idx\n",
    "    \n"
   ]
  },
  {
   "cell_type": "code",
   "execution_count": 14,
   "metadata": {
    "ExecuteTime": {
     "end_time": "2021-07-02T09:16:37.307578Z",
     "start_time": "2021-07-02T09:16:37.128581Z"
    },
    "scrolled": true
   },
   "outputs": [],
   "source": [
    "features = ['latDeg', 'lngDeg', 'heightAboveWgs84EllipsoidM',\n",
    "           'dlatDeg', 'dlngDeg', 'dheight']\n",
    "labels = ['t_latDeg', 't_lngDeg', 't_heightAboveWgs84EllipsoidM']\n",
    "\n",
    "train_data = CustomDataset(df_train, features = features, labels = labels, window_size = window_size, device = device)\n",
    "valid_data = CustomDataset(df_valid, features = features, labels = labels, window_size = window_size, device = device)\n",
    "test_data = CustomDataset(df_test, features = features, labels = labels, window_size = window_size, train = False, device = device)"
   ]
  },
  {
   "cell_type": "code",
   "execution_count": 15,
   "metadata": {
    "ExecuteTime": {
     "end_time": "2021-07-02T09:16:37.322579Z",
     "start_time": "2021-07-02T09:16:37.308579Z"
    }
   },
   "outputs": [],
   "source": [
    "train_loader = DataLoader(train_data, batch_size = batch_size, shuffle = True)\n",
    "valid_loader = DataLoader(valid_data, batch_size = batch_size, shuffle = False)\n",
    "test_loader = DataLoader(test_data, batch_size = batch_size, shuffle = False)"
   ]
  },
  {
   "cell_type": "markdown",
   "metadata": {},
   "source": [
    "# Build Model"
   ]
  },
  {
   "cell_type": "code",
   "execution_count": 16,
   "metadata": {
    "ExecuteTime": {
     "end_time": "2021-07-02T09:16:37.337579Z",
     "start_time": "2021-07-02T09:16:37.323580Z"
    }
   },
   "outputs": [],
   "source": [
    "class BaseModel(nn.Module):\n",
    "    def __init__(self, input_size = (100, 3), output_size = 3):\n",
    "        super().__init__()\n",
    "        self.input_size = input_size\n",
    "        self.output_size = output_size\n",
    "        self.fc1 = nn.Linear(input_size[0]*input_size[1], 1024)\n",
    "        self.fc2 = nn.Linear(1024, 512)\n",
    "        self.fc3 = nn.Linear(512, 3)\n",
    "        \n",
    "    def forward(self, x):\n",
    "        input_size = self.input_size\n",
    "        x = x.view(-1, input_size[0]*input_size[1])\n",
    "        \n",
    "        x = F.relu(self.fc1(x))\n",
    "        x = F.relu(self.fc2(x))\n",
    "        x = self.fc3(x)\n",
    "        \n",
    "        return x"
   ]
  },
  {
   "cell_type": "code",
   "execution_count": 17,
   "metadata": {
    "ExecuteTime": {
     "end_time": "2021-07-02T09:16:38.448279Z",
     "start_time": "2021-07-02T09:16:37.338579Z"
    }
   },
   "outputs": [
    {
     "name": "stdout",
     "output_type": "stream",
     "text": [
      "Adjusting learning rate of group 0 to 1.0000e-02.\n"
     ]
    }
   ],
   "source": [
    "model = BaseModel((window_size, len(features)), len(labels))\n",
    "model.to(device)\n",
    "\n",
    "# loss_func = nn.SmoothL1Loss()\n",
    "loss_func = nn.MSELoss()\n",
    "optimizer = optim.Adam(model.parameters(), lr = learning_rate)\n",
    "scheduler = optim.lr_scheduler.LambdaLR(optimizer=optimizer,\n",
    "                                lr_lambda=lambda epoch: 0.995 ** epoch,\n",
    "                                last_epoch=-1,\n",
    "                                verbose=True)"
   ]
  },
  {
   "cell_type": "markdown",
   "metadata": {},
   "source": [
    "# Fit and Validate"
   ]
  },
  {
   "cell_type": "code",
   "execution_count": 23,
   "metadata": {
    "ExecuteTime": {
     "end_time": "2021-07-02T09:17:59.538341Z",
     "start_time": "2021-07-02T09:17:59.526342Z"
    }
   },
   "outputs": [],
   "source": [
    "def train(epoch, dataloader):\n",
    "    model.train()  # 신경망을 학습 모드로 전환\n",
    "\n",
    "    # 데이터로더에서 미니배치를 하나씩 꺼내 학습을 수행\n",
    "    predict = []\n",
    "    ground = []\n",
    "    \n",
    "    prog_bar = tqdm(dataloader, position = 1, desc = 'Train')\n",
    "    status_log = tqdm(total=0, position = 2, bar_format='{desc}')\n",
    "    for data, targets, _ in prog_bar:\n",
    "        \n",
    "        data = data.to(device)\n",
    "        targets = targets.to(device)\n",
    "        \n",
    "        optimizer.zero_grad()  # 경사를 0으로 초기화\n",
    "        outputs = model(data)  # 데이터를 입력하고 출력을 계산\n",
    "        loss = loss_func(outputs, targets)  # 출력과 훈련 데이터 정답 간의 오차를 계산\n",
    "        loss.backward()  # 오차를 역전파 계산\n",
    "        optimizer.step()  # 역전파 계산한 값으로 가중치를 수정\n",
    "        \n",
    "        predict.append(outputs)\n",
    "        ground.append(targets)\n",
    "        \n",
    "        status_log.set_description_str(f\"training status: [{loss}/{check_score_np(outputs.to('cpu'), targets.to('cpu'))}]\")\n",
    "    scheduler.step()\n",
    "\n",
    "    # 정확도 출력\n",
    "    predict = torch.cat(predict,axis = 0)\n",
    "    ground = torch.cat(ground,axis = 0)\n",
    "    \n",
    "    loss = loss_func(predict, ground)\n",
    "    meas = check_score_np(predict.to('cpu'), ground.to('cpu'))\n",
    "    return loss, meas"
   ]
  },
  {
   "cell_type": "code",
   "execution_count": 24,
   "metadata": {
    "ExecuteTime": {
     "end_time": "2021-07-02T09:17:59.719129Z",
     "start_time": "2021-07-02T09:17:59.702130Z"
    }
   },
   "outputs": [],
   "source": [
    "def valid(dataloader):\n",
    "    model.eval()  # 신경망을 추론 모드로 전환\n",
    "\n",
    "    # 데이터로더에서 미니배치를 하나씩 꺼내 추론을 수행\n",
    "    predict = []\n",
    "    ground = []\n",
    "    prog_bar = tqdm(dataloader, position = 1, desc = 'Valid')\n",
    "    status_log = tqdm(total=0, position = 2, bar_format='{desc}')\n",
    "    \n",
    "    with torch.no_grad():  # 추론 과정에는 미분이 필요없음\n",
    "        for data, targets, _ in prog_bar:\n",
    "            \n",
    "            data = data.to(device)\n",
    "            targets = targets.to(device)\n",
    "            \n",
    "            outputs = model(data)  # 데이터를 입력하고 출력을 계산\n",
    "            loss = loss_func(outputs, targets)  # 출력과 훈련 데이터 정답 간의 오차를 계산\n",
    "            \n",
    "            predict.append(outputs)\n",
    "            ground.append(targets)\n",
    "            \n",
    "            status_log.set_description_str(f\"valid status: [{loss}/{check_score_np(outputs.to('cpu'), targets.to('cpu'))}]\")\n",
    "\n",
    "    # 정확도 출력\n",
    "    predict = torch.cat(predict,axis = 0)\n",
    "    ground = torch.cat(ground,axis = 0)\n",
    "    \n",
    "    loss = loss_func(predict, ground)\n",
    "    meas = check_score_np(predict.to('cpu'), ground.to('cpu'))\n",
    "    return loss, meas"
   ]
  },
  {
   "cell_type": "code",
   "execution_count": 25,
   "metadata": {
    "ExecuteTime": {
     "end_time": "2021-07-02T09:18:00.094751Z",
     "start_time": "2021-07-02T09:18:00.080753Z"
    }
   },
   "outputs": [],
   "source": [
    "def test(dataloader):\n",
    "    model.eval()  # 신경망을 추론 모드로 전환\n",
    "    \n",
    "    output_list = []\n",
    "    with torch.no_grad():  # 추론 과정에는 미분이 필요없음\n",
    "        for data, _, index in tqdm(dataloader):\n",
    "            data = data.to(device)\n",
    "            outputs = model(data)  # 데이터를 입력하고 출력을 계산\n",
    "            output_list.append(outputs)\n",
    "    \n",
    "    predicts = torch.cat(output_list)\n",
    "    predicts = pd.DataFrame(predicts.to('cpu'), columns = ['latDeg', 'lngDeg', 'heightAboveWgs84EllipsoidM'])\n",
    "    return predicts\n",
    "            "
   ]
  },
  {
   "cell_type": "code",
   "execution_count": 26,
   "metadata": {
    "ExecuteTime": {
     "end_time": "2021-07-02T09:18:47.630751Z",
     "start_time": "2021-07-02T09:18:02.660752Z"
    },
    "scrolled": false
   },
   "outputs": [
    {
     "data": {
      "application/vnd.jupyter.widget-view+json": {
       "model_id": "54664bdc4a2a4b3383d422b1a7e361d4",
       "version_major": 2,
       "version_minor": 0
      },
      "text/plain": [
       "Train:   0%|          | 0/116 [00:00<?, ?it/s]"
      ]
     },
     "metadata": {},
     "output_type": "display_data"
    },
    {
     "data": {
      "application/vnd.jupyter.widget-view+json": {
       "model_id": "58096fb6683d4964b4b3bd29b6ee100e",
       "version_major": 2,
       "version_minor": 0
      },
      "text/plain": []
     },
     "metadata": {},
     "output_type": "display_data"
    },
    {
     "name": "stdout",
     "output_type": "stream",
     "text": [
      "(101,)\n",
      "(572,)\n",
      "(1015,)\n",
      "(786,)\n",
      "(863,)\n",
      "(620,)\n",
      "(1002,)\n",
      "(998,)\n",
      "(758,)\n",
      "(934,)\n",
      "(629,)\n",
      "(1006,)\n",
      "(1017,)\n",
      "(945,)\n",
      "(1007,)\n",
      "(1020,)\n",
      "(966,)\n",
      "(994,)\n",
      "(1019,)\n",
      "(1016,)\n",
      "(1020,)\n",
      "(1018,)\n",
      "(918,)\n",
      "(999,)\n",
      "(969,)\n",
      "(974,)\n",
      "(966,)\n",
      "(1018,)\n",
      "(992,)\n",
      "(141,)\n",
      "(833,)\n",
      "(1011,)\n",
      "(1000,)\n",
      "(1008,)\n",
      "(633,)\n",
      "(946,)\n",
      "(966,)\n",
      "(989,)\n",
      "(800,)\n",
      "(93,)\n",
      "(979,)\n",
      "(1020,)\n",
      "(931,)\n",
      "(859,)\n",
      "(848,)\n",
      "(1016,)\n",
      "(1022,)\n",
      "(975,)\n",
      "(888,)\n",
      "(807,)\n",
      "(1010,)\n",
      "(997,)\n",
      "(47,)\n",
      "(809,)\n",
      "(1012,)\n",
      "(1019,)\n",
      "(1020,)\n",
      "(1021,)\n",
      "(1018,)\n",
      "(1021,)\n",
      "(1021,)\n",
      "(847,)\n",
      "(805,)\n",
      "(1004,)\n",
      "(897,)\n",
      "(1014,)\n",
      "(1016,)\n",
      "(1010,)\n",
      "(1014,)\n",
      "(1010,)\n",
      "(1023,)\n",
      "(916,)\n",
      "(788,)\n",
      "(1021,)\n",
      "(994,)\n",
      "(990,)\n",
      "(1019,)\n",
      "(1018,)\n",
      "(1018,)\n",
      "(1012,)\n",
      "(975,)\n",
      "(1010,)\n",
      "(1019,)\n",
      "(1015,)\n",
      "(1021,)\n",
      "(953,)\n",
      "(1022,)\n",
      "(1016,)\n",
      "(1006,)\n",
      "(1021,)\n",
      "(942,)\n",
      "(1013,)\n",
      "(1017,)\n",
      "(1001,)\n",
      "(852,)\n",
      "(1020,)\n",
      "(1004,)\n",
      "(1012,)\n",
      "(1018,)\n",
      "(795,)\n",
      "(937,)\n",
      "(699,)\n",
      "(1022,)\n",
      "(849,)\n",
      "(73,)\n",
      "(796,)\n",
      "(843,)\n",
      "(1004,)\n",
      "(1007,)\n",
      "(906,)\n",
      "(288,)\n",
      "(32,)\n",
      "(1018,)\n",
      "(1020,)\n",
      "(986,)\n",
      "(706,)\n",
      "Adjusting learning rate of group 0 to 9.8507e-03.\n",
      "(104236,)\n"
     ]
    },
    {
     "data": {
      "application/vnd.jupyter.widget-view+json": {
       "model_id": "c3124809f80f4fa79d2358f64d8e3e17",
       "version_major": 2,
       "version_minor": 0
      },
      "text/plain": [
       "Valid:   0%|          | 0/12 [00:00<?, ?it/s]"
      ]
     },
     "metadata": {},
     "output_type": "display_data"
    },
    {
     "data": {
      "application/vnd.jupyter.widget-view+json": {
       "model_id": "3bc587ea90064a8ea250301b6587cbf1",
       "version_major": 2,
       "version_minor": 0
      },
      "text/plain": []
     },
     "metadata": {},
     "output_type": "display_data"
    },
    {
     "name": "stdout",
     "output_type": "stream",
     "text": [
      "(1024,)\n",
      "(1024,)\n",
      "(1016,)\n",
      "(1024,)\n",
      "(1015,)\n",
      "(1024,)\n",
      "(1024,)\n",
      "(1024,)\n",
      "(1024,)\n",
      "(1024,)\n",
      "(1024,)\n",
      "(750,)\n",
      "(11997,)\n",
      "0/100: train[33.948261/246987.46556856477], valid[12.578335762023926/230575.39797508396]\n"
     ]
    },
    {
     "data": {
      "application/vnd.jupyter.widget-view+json": {
       "model_id": "fb4ea876cdb948c791f8b9faed1e8607",
       "version_major": 2,
       "version_minor": 0
      },
      "text/plain": [
       "Train:   0%|          | 0/116 [00:00<?, ?it/s]"
      ]
     },
     "metadata": {},
     "output_type": "display_data"
    },
    {
     "data": {
      "application/vnd.jupyter.widget-view+json": {
       "model_id": "f1fce160d2814d6ebd872d47796913d9",
       "version_major": 2,
       "version_minor": 0
      },
      "text/plain": []
     },
     "metadata": {},
     "output_type": "display_data"
    },
    {
     "name": "stdout",
     "output_type": "stream",
     "text": [
      "(935,)\n",
      "(977,)\n",
      "(790,)\n",
      "(1019,)\n",
      "(991,)\n",
      "(594,)\n",
      "(985,)\n",
      "(1011,)\n",
      "(1018,)\n",
      "(997,)\n",
      "(752,)\n",
      "(1014,)\n",
      "(1023,)\n",
      "(997,)\n",
      "(946,)\n",
      "(211,)\n",
      "(997,)\n",
      "(1019,)\n",
      "(800,)\n",
      "(928,)\n",
      "(90,)\n",
      "(902,)\n",
      "(1022,)\n",
      "(915,)\n",
      "(1013,)\n",
      "(1017,)\n",
      "(1016,)\n",
      "(969,)\n",
      "(768,)\n",
      "(1016,)\n",
      "(1013,)\n",
      "(726,)\n",
      "(649,)\n",
      "(74,)\n",
      "(1014,)\n",
      "(1012,)\n",
      "(38,)\n",
      "(729,)\n",
      "(52,)\n",
      "(861,)\n",
      "(1021,)\n",
      "(323,)\n",
      "(873,)\n",
      "(493,)\n",
      "(945,)\n",
      "(1021,)\n",
      "(646,)\n",
      "(853,)\n",
      "(999,)\n",
      "(1012,)\n",
      "(1013,)\n",
      "(1020,)\n",
      "(1018,)\n",
      "(1005,)\n",
      "(1018,)\n",
      "(982,)\n",
      "(1018,)\n",
      "(1015,)\n",
      "(1009,)\n",
      "(1015,)\n",
      "(1020,)\n",
      "(787,)\n",
      "(1020,)\n",
      "(1017,)\n",
      "(969,)\n",
      "(1019,)\n",
      "(1004,)\n",
      "(41,)\n",
      "(934,)\n",
      "(1019,)\n",
      "(86,)\n",
      "(839,)\n",
      "(1018,)\n",
      "(1022,)\n",
      "(1013,)\n",
      "(930,)\n",
      "(887,)\n",
      "(965,)\n",
      "(1008,)\n",
      "(1015,)\n",
      "(1021,)\n",
      "(1023,)\n",
      "(1004,)\n",
      "(986,)\n",
      "(1013,)\n",
      "(1023,)\n",
      "(1017,)\n",
      "(1012,)\n",
      "(1012,)\n",
      "(1010,)\n",
      "(1001,)\n",
      "(998,)\n",
      "(963,)\n",
      "(1011,)\n",
      "(1024,)\n",
      "(1017,)\n",
      "(1005,)\n",
      "(1021,)\n",
      "(1019,)\n",
      "(1020,)\n",
      "(1018,)\n",
      "(1023,)\n",
      "(1023,)\n",
      "(1017,)\n",
      "(998,)\n",
      "(1023,)\n",
      "(1019,)\n",
      "(1009,)\n",
      "(1013,)\n",
      "(1022,)\n",
      "(1022,)\n",
      "(1015,)\n",
      "(913,)\n",
      "(1023,)\n",
      "(1022,)\n",
      "(747,)\n",
      "Adjusting learning rate of group 0 to 9.8015e-03.\n",
      "(104919,)\n"
     ]
    },
    {
     "data": {
      "application/vnd.jupyter.widget-view+json": {
       "model_id": "985c8f4f510f49538ac6549469527d6c",
       "version_major": 2,
       "version_minor": 0
      },
      "text/plain": [
       "Valid:   0%|          | 0/12 [00:00<?, ?it/s]"
      ]
     },
     "metadata": {},
     "output_type": "display_data"
    },
    {
     "data": {
      "application/vnd.jupyter.widget-view+json": {
       "model_id": "650b31b594ba4748a3bcc6b095de2c0c",
       "version_major": 2,
       "version_minor": 0
      },
      "text/plain": []
     },
     "metadata": {},
     "output_type": "display_data"
    },
    {
     "name": "stdout",
     "output_type": "stream",
     "text": [
      "(1024,)\n",
      "(1024,)\n",
      "(1017,)\n",
      "(1024,)\n",
      "(1010,)\n",
      "(1024,)\n",
      "(1024,)\n",
      "(1024,)\n",
      "(1024,)\n",
      "(1024,)\n",
      "(1024,)\n",
      "(750,)\n",
      "(11993,)\n",
      "1/100: train[32.633003/297815.61707534804], valid[5.540716648101807/71187.64616785753]\n"
     ]
    },
    {
     "data": {
      "application/vnd.jupyter.widget-view+json": {
       "model_id": "1c5697e4e16d49e4822f2f37f2bcb418",
       "version_major": 2,
       "version_minor": 0
      },
      "text/plain": [
       "Train:   0%|          | 0/116 [00:00<?, ?it/s]"
      ]
     },
     "metadata": {},
     "output_type": "display_data"
    },
    {
     "data": {
      "application/vnd.jupyter.widget-view+json": {
       "model_id": "0e39141c84024f20afdb5a0b71bfe466",
       "version_major": 2,
       "version_minor": 0
      },
      "text/plain": []
     },
     "metadata": {},
     "output_type": "display_data"
    },
    {
     "name": "stdout",
     "output_type": "stream",
     "text": [
      "(1019,)\n",
      "(1022,)\n",
      "(1014,)\n",
      "(1024,)\n",
      "(1024,)\n",
      "(1022,)\n",
      "(1021,)\n",
      "(1021,)\n",
      "(1021,)\n",
      "(1021,)\n",
      "(1020,)\n",
      "(1018,)\n",
      "(1023,)\n",
      "(1023,)\n",
      "(1023,)\n",
      "(1008,)\n",
      "(253,)\n",
      "(43,)\n",
      "(762,)\n",
      "(89,)\n",
      "(1023,)\n",
      "(1016,)\n",
      "(1020,)\n",
      "(262,)\n",
      "(324,)\n",
      "(979,)\n",
      "(249,)\n",
      "(1004,)\n",
      "(1009,)\n",
      "(1009,)\n",
      "(1008,)\n",
      "(1014,)\n",
      "(949,)\n",
      "(1009,)\n",
      "(89,)\n",
      "(796,)\n",
      "(965,)\n",
      "(898,)\n",
      "(561,)\n",
      "(871,)\n",
      "(1018,)\n",
      "(998,)\n",
      "(868,)\n",
      "(1006,)\n",
      "(999,)\n",
      "(996,)\n",
      "(1008,)\n",
      "(996,)\n",
      "(1004,)\n",
      "(969,)\n",
      "(87,)\n",
      "(1008,)\n",
      "(922,)\n",
      "(76,)\n",
      "(880,)\n",
      "(1011,)\n",
      "(972,)\n",
      "(919,)\n",
      "(1021,)\n",
      "(994,)\n",
      "(1008,)\n",
      "(1019,)\n",
      "(973,)\n",
      "(1009,)\n",
      "(1015,)\n",
      "(1014,)\n",
      "(936,)\n",
      "(1016,)\n",
      "(1021,)\n",
      "(1007,)\n",
      "(993,)\n",
      "(1003,)\n",
      "(982,)\n",
      "(950,)\n",
      "(1003,)\n",
      "(1017,)\n",
      "(1004,)\n",
      "(1006,)\n",
      "(1021,)\n",
      "(1002,)\n",
      "(1012,)\n",
      "(1018,)\n",
      "(1015,)\n",
      "(1003,)\n",
      "(1021,)\n",
      "(971,)\n",
      "(966,)\n",
      "(1020,)\n",
      "(1012,)\n",
      "(1019,)\n",
      "(1019,)\n",
      "(1014,)\n",
      "(1022,)\n",
      "(1024,)\n",
      "(989,)\n",
      "(1014,)\n",
      "(1022,)\n",
      "(1019,)\n",
      "(778,)\n",
      "(826,)\n",
      "(1000,)\n",
      "(1020,)\n",
      "(1006,)\n",
      "(1018,)\n",
      "(1011,)\n",
      "(1016,)\n",
      "(1019,)\n",
      "(1016,)\n",
      "(1018,)\n",
      "(1015,)\n",
      "(1023,)\n",
      "(1003,)\n",
      "(880,)\n",
      "(1019,)\n",
      "(785,)\n",
      "(664,)\n",
      "Adjusting learning rate of group 0 to 9.7525e-03.\n",
      "(106574,)\n"
     ]
    },
    {
     "data": {
      "application/vnd.jupyter.widget-view+json": {
       "model_id": "22aade21ec694e5fb4245d6dcab48d6c",
       "version_major": 2,
       "version_minor": 0
      },
      "text/plain": [
       "Valid:   0%|          | 0/12 [00:00<?, ?it/s]"
      ]
     },
     "metadata": {},
     "output_type": "display_data"
    },
    {
     "data": {
      "application/vnd.jupyter.widget-view+json": {
       "model_id": "d50c1d1c2c4e46379eed199cd9d64f58",
       "version_major": 2,
       "version_minor": 0
      },
      "text/plain": []
     },
     "metadata": {},
     "output_type": "display_data"
    },
    {
     "name": "stdout",
     "output_type": "stream",
     "text": [
      "(1024,)\n",
      "(1024,)\n",
      "(1024,)\n",
      "(1024,)\n",
      "(1024,)\n",
      "(1024,)\n",
      "(1024,)\n",
      "(1024,)\n",
      "(1024,)\n",
      "(1024,)\n",
      "(1024,)\n",
      "(750,)\n",
      "(12014,)\n",
      "2/100: train[36.789024/402862.66935103066], valid[15.2265043258667/354572.0804696087]\n"
     ]
    },
    {
     "data": {
      "application/vnd.jupyter.widget-view+json": {
       "model_id": "2dea9e4a424d4c80bce93d4ff7666d10",
       "version_major": 2,
       "version_minor": 0
      },
      "text/plain": [
       "Train:   0%|          | 0/116 [00:00<?, ?it/s]"
      ]
     },
     "metadata": {},
     "output_type": "display_data"
    },
    {
     "data": {
      "application/vnd.jupyter.widget-view+json": {
       "model_id": "c012a1362ca7412382d249714216b074",
       "version_major": 2,
       "version_minor": 0
      },
      "text/plain": []
     },
     "metadata": {},
     "output_type": "display_data"
    },
    {
     "name": "stdout",
     "output_type": "stream",
     "text": [
      "(1022,)\n",
      "(952,)\n",
      "(237,)\n",
      "(998,)\n",
      "(989,)\n",
      "(886,)\n",
      "(1023,)\n",
      "(1001,)\n",
      "(833,)\n",
      "(910,)\n",
      "(1017,)\n",
      "(1002,)\n",
      "(1012,)\n",
      "(1023,)\n",
      "(1024,)\n",
      "(1007,)\n",
      "(229,)\n",
      "(1023,)\n",
      "(936,)\n",
      "(993,)\n",
      "(1016,)\n",
      "(772,)\n",
      "(1021,)\n",
      "(1019,)\n",
      "(1019,)\n",
      "(1007,)\n",
      "(867,)\n",
      "(994,)\n",
      "(1022,)\n",
      "(1021,)\n",
      "(1023,)\n",
      "(1023,)\n",
      "(895,)\n",
      "(495,)\n",
      "(1021,)\n",
      "(1015,)\n",
      "(1014,)\n",
      "(1023,)\n",
      "(899,)\n",
      "(1019,)\n",
      "(866,)\n",
      "(1011,)\n",
      "(1013,)\n",
      "(974,)\n",
      "(425,)\n",
      "(1010,)\n",
      "(80,)\n",
      "(1016,)\n",
      "(1017,)\n",
      "(1018,)\n",
      "(1016,)\n",
      "(1019,)\n",
      "(1011,)\n",
      "(799,)\n",
      "(1014,)\n",
      "(1013,)\n",
      "(1018,)\n",
      "(1016,)\n",
      "(984,)\n",
      "(973,)\n",
      "(886,)\n",
      "(1003,)\n",
      "(988,)\n",
      "(1012,)\n",
      "(1012,)\n",
      "(1020,)\n",
      "(1017,)\n",
      "(1018,)\n",
      "(1020,)\n",
      "(791,)\n",
      "(928,)\n",
      "(1001,)\n",
      "(1008,)\n",
      "(943,)\n",
      "(1020,)\n",
      "(1019,)\n",
      "(230,)\n",
      "(842,)\n",
      "(1015,)\n",
      "(981,)\n",
      "(1002,)\n",
      "(506,)\n",
      "(1019,)\n",
      "(1021,)\n",
      "(1013,)\n",
      "(1021,)\n",
      "(673,)\n",
      "(1014,)\n",
      "(1023,)\n",
      "(1019,)\n",
      "(985,)\n",
      "(452,)\n",
      "(1005,)\n",
      "(1021,)\n",
      "(1008,)\n",
      "(991,)\n",
      "(1012,)\n",
      "(1019,)\n",
      "(960,)\n",
      "(1019,)\n",
      "(966,)\n",
      "(1008,)\n",
      "(1013,)\n",
      "(1015,)\n",
      "(1019,)\n",
      "(1017,)\n",
      "(992,)\n",
      "(1017,)\n",
      "(1009,)\n",
      "(951,)\n",
      "(989,)\n",
      "(1020,)\n",
      "(1003,)\n",
      "(756,)\n",
      "(965,)\n",
      "(742,)\n",
      "Adjusting learning rate of group 0 to 9.7037e-03.\n",
      "(108614,)\n"
     ]
    },
    {
     "data": {
      "application/vnd.jupyter.widget-view+json": {
       "model_id": "0a9ad545bc44428d9113fbf4fd5ee254",
       "version_major": 2,
       "version_minor": 0
      },
      "text/plain": [
       "Valid:   0%|          | 0/12 [00:00<?, ?it/s]"
      ]
     },
     "metadata": {},
     "output_type": "display_data"
    },
    {
     "data": {
      "application/vnd.jupyter.widget-view+json": {
       "model_id": "447e5c493f014cfdb4ea821d0dbcd4b1",
       "version_major": 2,
       "version_minor": 0
      },
      "text/plain": []
     },
     "metadata": {},
     "output_type": "display_data"
    },
    {
     "name": "stdout",
     "output_type": "stream",
     "text": [
      "(0,)\n"
     ]
    },
    {
     "ename": "IndexError",
     "evalue": "cannot do a non-empty take from an empty axes.",
     "output_type": "error",
     "traceback": [
      "\u001b[1;31m---------------------------------------------------------------------------\u001b[0m",
      "\u001b[1;31mIndexError\u001b[0m                                Traceback (most recent call last)",
      "\u001b[1;32m<ipython-input-26-70d36d51e543>\u001b[0m in \u001b[0;36m<module>\u001b[1;34m\u001b[0m\n\u001b[0;32m      1\u001b[0m \u001b[1;32mfor\u001b[0m \u001b[0mepoch\u001b[0m \u001b[1;32min\u001b[0m \u001b[0mrange\u001b[0m\u001b[1;33m(\u001b[0m\u001b[0mnepochs\u001b[0m\u001b[1;33m)\u001b[0m\u001b[1;33m:\u001b[0m\u001b[1;33m\u001b[0m\u001b[1;33m\u001b[0m\u001b[0m\n\u001b[0;32m      2\u001b[0m     \u001b[0mtrain_loss\u001b[0m\u001b[1;33m,\u001b[0m \u001b[0mtrain_meas\u001b[0m \u001b[1;33m=\u001b[0m \u001b[0mtrain\u001b[0m\u001b[1;33m(\u001b[0m\u001b[0mepoch\u001b[0m\u001b[1;33m,\u001b[0m \u001b[0mtrain_loader\u001b[0m\u001b[1;33m)\u001b[0m\u001b[1;33m\u001b[0m\u001b[1;33m\u001b[0m\u001b[0m\n\u001b[1;32m----> 3\u001b[1;33m     \u001b[0mvalid_loss\u001b[0m\u001b[1;33m,\u001b[0m \u001b[0mvalid_meas\u001b[0m \u001b[1;33m=\u001b[0m \u001b[0mvalid\u001b[0m\u001b[1;33m(\u001b[0m\u001b[0mvalid_loader\u001b[0m\u001b[1;33m)\u001b[0m\u001b[1;33m\u001b[0m\u001b[1;33m\u001b[0m\u001b[0m\n\u001b[0m\u001b[0;32m      4\u001b[0m \u001b[1;33m\u001b[0m\u001b[0m\n\u001b[0;32m      5\u001b[0m     \u001b[0mprint\u001b[0m\u001b[1;33m(\u001b[0m\u001b[1;34mf\"{epoch}/{nepochs}: train[{train_loss:.6f}/{train_meas}], valid[{valid_loss}/{valid_meas}]\"\u001b[0m\u001b[1;33m)\u001b[0m\u001b[1;33m\u001b[0m\u001b[1;33m\u001b[0m\u001b[0m\n",
      "\u001b[1;32m<ipython-input-24-ada318a86c4f>\u001b[0m in \u001b[0;36mvalid\u001b[1;34m(dataloader)\u001b[0m\n\u001b[0;32m     20\u001b[0m             \u001b[0mground\u001b[0m\u001b[1;33m.\u001b[0m\u001b[0mappend\u001b[0m\u001b[1;33m(\u001b[0m\u001b[0mtargets\u001b[0m\u001b[1;33m)\u001b[0m\u001b[1;33m\u001b[0m\u001b[1;33m\u001b[0m\u001b[0m\n\u001b[0;32m     21\u001b[0m \u001b[1;33m\u001b[0m\u001b[0m\n\u001b[1;32m---> 22\u001b[1;33m             \u001b[0mstatus_log\u001b[0m\u001b[1;33m.\u001b[0m\u001b[0mset_description_str\u001b[0m\u001b[1;33m(\u001b[0m\u001b[1;34mf\"valid status: [{loss}/{check_score_np(outputs.to('cpu'), targets.to('cpu'))}]\"\u001b[0m\u001b[1;33m)\u001b[0m\u001b[1;33m\u001b[0m\u001b[1;33m\u001b[0m\u001b[0m\n\u001b[0m\u001b[0;32m     23\u001b[0m \u001b[1;33m\u001b[0m\u001b[0m\n\u001b[0;32m     24\u001b[0m     \u001b[1;31m# 정확도 출력\u001b[0m\u001b[1;33m\u001b[0m\u001b[1;33m\u001b[0m\u001b[1;33m\u001b[0m\u001b[0m\n",
      "\u001b[1;32m<ipython-input-22-e2855e7884de>\u001b[0m in \u001b[0;36mcheck_score_np\u001b[1;34m(predict, target)\u001b[0m\n\u001b[0;32m     10\u001b[0m     \u001b[0mm\u001b[0m \u001b[1;33m=\u001b[0m \u001b[0mm\u001b[0m\u001b[1;33m[\u001b[0m\u001b[0mnp\u001b[0m\u001b[1;33m.\u001b[0m\u001b[0minvert\u001b[0m\u001b[1;33m(\u001b[0m\u001b[0mnp\u001b[0m\u001b[1;33m.\u001b[0m\u001b[0misnan\u001b[0m\u001b[1;33m(\u001b[0m\u001b[0mm\u001b[0m\u001b[1;33m)\u001b[0m\u001b[1;33m)\u001b[0m\u001b[1;33m]\u001b[0m\u001b[1;33m\u001b[0m\u001b[1;33m\u001b[0m\u001b[0m\n\u001b[0;32m     11\u001b[0m     \u001b[0mprint\u001b[0m\u001b[1;33m(\u001b[0m\u001b[0mm\u001b[0m\u001b[1;33m.\u001b[0m\u001b[0mshape\u001b[0m\u001b[1;33m)\u001b[0m\u001b[1;33m\u001b[0m\u001b[1;33m\u001b[0m\u001b[0m\n\u001b[1;32m---> 12\u001b[1;33m     \u001b[0mscore\u001b[0m \u001b[1;33m=\u001b[0m \u001b[1;33m(\u001b[0m\u001b[0mnp\u001b[0m\u001b[1;33m.\u001b[0m\u001b[0mpercentile\u001b[0m\u001b[1;33m(\u001b[0m\u001b[0mm\u001b[0m\u001b[1;33m,\u001b[0m \u001b[1;36m50\u001b[0m\u001b[1;33m)\u001b[0m \u001b[1;33m+\u001b[0m \u001b[0mnp\u001b[0m\u001b[1;33m.\u001b[0m\u001b[0mpercentile\u001b[0m\u001b[1;33m(\u001b[0m\u001b[0mm\u001b[0m\u001b[1;33m,\u001b[0m \u001b[1;36m95\u001b[0m\u001b[1;33m)\u001b[0m\u001b[1;33m)\u001b[0m\u001b[1;33m/\u001b[0m\u001b[1;36m2\u001b[0m\u001b[1;33m\u001b[0m\u001b[1;33m\u001b[0m\u001b[0m\n\u001b[0m\u001b[0;32m     13\u001b[0m \u001b[1;33m\u001b[0m\u001b[0m\n\u001b[0;32m     14\u001b[0m     \u001b[1;32mreturn\u001b[0m \u001b[0mscore\u001b[0m\u001b[1;33m\u001b[0m\u001b[1;33m\u001b[0m\u001b[0m\n",
      "\u001b[1;32m<__array_function__ internals>\u001b[0m in \u001b[0;36mpercentile\u001b[1;34m(*args, **kwargs)\u001b[0m\n",
      "\u001b[1;32mD:\\Sangwons_Room\\00_SoftWares\\Anaconda\\envs\\torch\\lib\\site-packages\\numpy\\lib\\function_base.py\u001b[0m in \u001b[0;36mpercentile\u001b[1;34m(a, q, axis, out, overwrite_input, interpolation, keepdims)\u001b[0m\n\u001b[0;32m   3731\u001b[0m         \u001b[1;32mraise\u001b[0m \u001b[0mValueError\u001b[0m\u001b[1;33m(\u001b[0m\u001b[1;34m\"Percentiles must be in the range [0, 100]\"\u001b[0m\u001b[1;33m)\u001b[0m\u001b[1;33m\u001b[0m\u001b[1;33m\u001b[0m\u001b[0m\n\u001b[0;32m   3732\u001b[0m     return _quantile_unchecked(\n\u001b[1;32m-> 3733\u001b[1;33m         a, q, axis, out, overwrite_input, interpolation, keepdims)\n\u001b[0m\u001b[0;32m   3734\u001b[0m \u001b[1;33m\u001b[0m\u001b[0m\n\u001b[0;32m   3735\u001b[0m \u001b[1;33m\u001b[0m\u001b[0m\n",
      "\u001b[1;32mD:\\Sangwons_Room\\00_SoftWares\\Anaconda\\envs\\torch\\lib\\site-packages\\numpy\\lib\\function_base.py\u001b[0m in \u001b[0;36m_quantile_unchecked\u001b[1;34m(a, q, axis, out, overwrite_input, interpolation, keepdims)\u001b[0m\n\u001b[0;32m   3851\u001b[0m     r, k = _ureduce(a, func=_quantile_ureduce_func, q=q, axis=axis, out=out,\n\u001b[0;32m   3852\u001b[0m                     \u001b[0moverwrite_input\u001b[0m\u001b[1;33m=\u001b[0m\u001b[0moverwrite_input\u001b[0m\u001b[1;33m,\u001b[0m\u001b[1;33m\u001b[0m\u001b[1;33m\u001b[0m\u001b[0m\n\u001b[1;32m-> 3853\u001b[1;33m                     interpolation=interpolation)\n\u001b[0m\u001b[0;32m   3854\u001b[0m     \u001b[1;32mif\u001b[0m \u001b[0mkeepdims\u001b[0m\u001b[1;33m:\u001b[0m\u001b[1;33m\u001b[0m\u001b[1;33m\u001b[0m\u001b[0m\n\u001b[0;32m   3855\u001b[0m         \u001b[1;32mreturn\u001b[0m \u001b[0mr\u001b[0m\u001b[1;33m.\u001b[0m\u001b[0mreshape\u001b[0m\u001b[1;33m(\u001b[0m\u001b[0mq\u001b[0m\u001b[1;33m.\u001b[0m\u001b[0mshape\u001b[0m \u001b[1;33m+\u001b[0m \u001b[0mk\u001b[0m\u001b[1;33m)\u001b[0m\u001b[1;33m\u001b[0m\u001b[1;33m\u001b[0m\u001b[0m\n",
      "\u001b[1;32mD:\\Sangwons_Room\\00_SoftWares\\Anaconda\\envs\\torch\\lib\\site-packages\\numpy\\lib\\function_base.py\u001b[0m in \u001b[0;36m_ureduce\u001b[1;34m(a, func, **kwargs)\u001b[0m\n\u001b[0;32m   3427\u001b[0m         \u001b[0mkeepdim\u001b[0m \u001b[1;33m=\u001b[0m \u001b[1;33m(\u001b[0m\u001b[1;36m1\u001b[0m\u001b[1;33m,\u001b[0m\u001b[1;33m)\u001b[0m \u001b[1;33m*\u001b[0m \u001b[0ma\u001b[0m\u001b[1;33m.\u001b[0m\u001b[0mndim\u001b[0m\u001b[1;33m\u001b[0m\u001b[1;33m\u001b[0m\u001b[0m\n\u001b[0;32m   3428\u001b[0m \u001b[1;33m\u001b[0m\u001b[0m\n\u001b[1;32m-> 3429\u001b[1;33m     \u001b[0mr\u001b[0m \u001b[1;33m=\u001b[0m \u001b[0mfunc\u001b[0m\u001b[1;33m(\u001b[0m\u001b[0ma\u001b[0m\u001b[1;33m,\u001b[0m \u001b[1;33m**\u001b[0m\u001b[0mkwargs\u001b[0m\u001b[1;33m)\u001b[0m\u001b[1;33m\u001b[0m\u001b[1;33m\u001b[0m\u001b[0m\n\u001b[0m\u001b[0;32m   3430\u001b[0m     \u001b[1;32mreturn\u001b[0m \u001b[0mr\u001b[0m\u001b[1;33m,\u001b[0m \u001b[0mkeepdim\u001b[0m\u001b[1;33m\u001b[0m\u001b[1;33m\u001b[0m\u001b[0m\n\u001b[0;32m   3431\u001b[0m \u001b[1;33m\u001b[0m\u001b[0m\n",
      "\u001b[1;32mD:\\Sangwons_Room\\00_SoftWares\\Anaconda\\envs\\torch\\lib\\site-packages\\numpy\\lib\\function_base.py\u001b[0m in \u001b[0;36m_quantile_ureduce_func\u001b[1;34m(a, q, axis, out, overwrite_input, interpolation, keepdims)\u001b[0m\n\u001b[0;32m   3965\u001b[0m             \u001b[0mn\u001b[0m \u001b[1;33m=\u001b[0m \u001b[0mnp\u001b[0m\u001b[1;33m.\u001b[0m\u001b[0misnan\u001b[0m\u001b[1;33m(\u001b[0m\u001b[0map\u001b[0m\u001b[1;33m[\u001b[0m\u001b[1;33m-\u001b[0m\u001b[1;36m1\u001b[0m\u001b[1;33m:\u001b[0m\u001b[1;33m,\u001b[0m \u001b[1;33m...\u001b[0m\u001b[1;33m]\u001b[0m\u001b[1;33m)\u001b[0m\u001b[1;33m\u001b[0m\u001b[1;33m\u001b[0m\u001b[0m\n\u001b[0;32m   3966\u001b[0m \u001b[1;33m\u001b[0m\u001b[0m\n\u001b[1;32m-> 3967\u001b[1;33m         \u001b[0mx1\u001b[0m \u001b[1;33m=\u001b[0m \u001b[0mtake\u001b[0m\u001b[1;33m(\u001b[0m\u001b[0map\u001b[0m\u001b[1;33m,\u001b[0m \u001b[0mindices_below\u001b[0m\u001b[1;33m,\u001b[0m \u001b[0maxis\u001b[0m\u001b[1;33m=\u001b[0m\u001b[0maxis\u001b[0m\u001b[1;33m)\u001b[0m \u001b[1;33m*\u001b[0m \u001b[0mweights_below\u001b[0m\u001b[1;33m\u001b[0m\u001b[1;33m\u001b[0m\u001b[0m\n\u001b[0m\u001b[0;32m   3968\u001b[0m         \u001b[0mx2\u001b[0m \u001b[1;33m=\u001b[0m \u001b[0mtake\u001b[0m\u001b[1;33m(\u001b[0m\u001b[0map\u001b[0m\u001b[1;33m,\u001b[0m \u001b[0mindices_above\u001b[0m\u001b[1;33m,\u001b[0m \u001b[0maxis\u001b[0m\u001b[1;33m=\u001b[0m\u001b[0maxis\u001b[0m\u001b[1;33m)\u001b[0m \u001b[1;33m*\u001b[0m \u001b[0mweights_above\u001b[0m\u001b[1;33m\u001b[0m\u001b[1;33m\u001b[0m\u001b[0m\n\u001b[0;32m   3969\u001b[0m \u001b[1;33m\u001b[0m\u001b[0m\n",
      "\u001b[1;32m<__array_function__ internals>\u001b[0m in \u001b[0;36mtake\u001b[1;34m(*args, **kwargs)\u001b[0m\n",
      "\u001b[1;32mD:\\Sangwons_Room\\00_SoftWares\\Anaconda\\envs\\torch\\lib\\site-packages\\numpy\\core\\fromnumeric.py\u001b[0m in \u001b[0;36mtake\u001b[1;34m(a, indices, axis, out, mode)\u001b[0m\n\u001b[0;32m    189\u001b[0m            [5, 7]])\n\u001b[0;32m    190\u001b[0m     \"\"\"\n\u001b[1;32m--> 191\u001b[1;33m     \u001b[1;32mreturn\u001b[0m \u001b[0m_wrapfunc\u001b[0m\u001b[1;33m(\u001b[0m\u001b[0ma\u001b[0m\u001b[1;33m,\u001b[0m \u001b[1;34m'take'\u001b[0m\u001b[1;33m,\u001b[0m \u001b[0mindices\u001b[0m\u001b[1;33m,\u001b[0m \u001b[0maxis\u001b[0m\u001b[1;33m=\u001b[0m\u001b[0maxis\u001b[0m\u001b[1;33m,\u001b[0m \u001b[0mout\u001b[0m\u001b[1;33m=\u001b[0m\u001b[0mout\u001b[0m\u001b[1;33m,\u001b[0m \u001b[0mmode\u001b[0m\u001b[1;33m=\u001b[0m\u001b[0mmode\u001b[0m\u001b[1;33m)\u001b[0m\u001b[1;33m\u001b[0m\u001b[1;33m\u001b[0m\u001b[0m\n\u001b[0m\u001b[0;32m    192\u001b[0m \u001b[1;33m\u001b[0m\u001b[0m\n\u001b[0;32m    193\u001b[0m \u001b[1;33m\u001b[0m\u001b[0m\n",
      "\u001b[1;32mD:\\Sangwons_Room\\00_SoftWares\\Anaconda\\envs\\torch\\lib\\site-packages\\numpy\\core\\fromnumeric.py\u001b[0m in \u001b[0;36m_wrapfunc\u001b[1;34m(obj, method, *args, **kwds)\u001b[0m\n\u001b[0;32m     56\u001b[0m \u001b[1;33m\u001b[0m\u001b[0m\n\u001b[0;32m     57\u001b[0m     \u001b[1;32mtry\u001b[0m\u001b[1;33m:\u001b[0m\u001b[1;33m\u001b[0m\u001b[1;33m\u001b[0m\u001b[0m\n\u001b[1;32m---> 58\u001b[1;33m         \u001b[1;32mreturn\u001b[0m \u001b[0mbound\u001b[0m\u001b[1;33m(\u001b[0m\u001b[1;33m*\u001b[0m\u001b[0margs\u001b[0m\u001b[1;33m,\u001b[0m \u001b[1;33m**\u001b[0m\u001b[0mkwds\u001b[0m\u001b[1;33m)\u001b[0m\u001b[1;33m\u001b[0m\u001b[1;33m\u001b[0m\u001b[0m\n\u001b[0m\u001b[0;32m     59\u001b[0m     \u001b[1;32mexcept\u001b[0m \u001b[0mTypeError\u001b[0m\u001b[1;33m:\u001b[0m\u001b[1;33m\u001b[0m\u001b[1;33m\u001b[0m\u001b[0m\n\u001b[0;32m     60\u001b[0m         \u001b[1;31m# A TypeError occurs if the object does have such a method in its\u001b[0m\u001b[1;33m\u001b[0m\u001b[1;33m\u001b[0m\u001b[1;33m\u001b[0m\u001b[0m\n",
      "\u001b[1;31mIndexError\u001b[0m: cannot do a non-empty take from an empty axes."
     ]
    }
   ],
   "source": [
    "for epoch in range(nepochs):\n",
    "    train_loss, train_meas = train(epoch, train_loader)\n",
    "    valid_loss, valid_meas = valid(valid_loader)\n",
    "    \n",
    "    print(f\"{epoch}/{nepochs}: train[{train_loss:.6f}/{train_meas}], valid[{valid_loss}/{valid_meas}]\")"
   ]
  },
  {
   "cell_type": "markdown",
   "metadata": {},
   "source": [
    "#  Output"
   ]
  },
  {
   "cell_type": "code",
   "execution_count": null,
   "metadata": {
    "ExecuteTime": {
     "end_time": "2021-07-02T09:17:00.625298Z",
     "start_time": "2021-07-02T09:16:33.554Z"
    }
   },
   "outputs": [],
   "source": [
    "# Load submission sample\n",
    "submission = pd.read_csv(str(data_dir / \"sample_submission.csv\"))\n",
    "print(submission.shape)"
   ]
  },
  {
   "cell_type": "code",
   "execution_count": null,
   "metadata": {},
   "outputs": [],
   "source": []
  },
  {
   "cell_type": "code",
   "execution_count": null,
   "metadata": {
    "ExecuteTime": {
     "end_time": "2021-07-02T09:17:00.626298Z",
     "start_time": "2021-07-02T09:16:33.555Z"
    }
   },
   "outputs": [],
   "source": [
    "submission.to_csv(f\"./models/{notebookName}/{num_files} - result.csv\", index = False)\n",
    "pd.DataFrame([]).to_csv(dummy_path)"
   ]
  }
 ],
 "metadata": {
  "hide_input": false,
  "kernelspec": {
   "display_name": "torch",
   "language": "python",
   "name": "torch"
  },
  "language_info": {
   "codemirror_mode": {
    "name": "ipython",
    "version": 3
   },
   "file_extension": ".py",
   "mimetype": "text/x-python",
   "name": "python",
   "nbconvert_exporter": "python",
   "pygments_lexer": "ipython3",
   "version": "3.6.12"
  },
  "latex_envs": {
   "LaTeX_envs_menu_present": true,
   "autoclose": false,
   "autocomplete": true,
   "bibliofile": "biblio.bib",
   "cite_by": "apalike",
   "current_citInitial": 1,
   "eqLabelWithNumbers": true,
   "eqNumInitial": 1,
   "hotkeys": {
    "equation": "Ctrl-E",
    "itemize": "Ctrl-I"
   },
   "labels_anchors": false,
   "latex_user_defs": false,
   "report_style_numbering": false,
   "user_envs_cfg": false
  },
  "toc": {
   "base_numbering": 1,
   "nav_menu": {},
   "number_sections": true,
   "sideBar": true,
   "skip_h1_title": false,
   "title_cell": "Table of Contents",
   "title_sidebar": "Contents",
   "toc_cell": false,
   "toc_position": {},
   "toc_section_display": true,
   "toc_window_display": false
  },
  "varInspector": {
   "cols": {
    "lenName": 16,
    "lenType": 16,
    "lenVar": 40
   },
   "kernels_config": {
    "python": {
     "delete_cmd_postfix": "",
     "delete_cmd_prefix": "del ",
     "library": "var_list.py",
     "varRefreshCmd": "print(var_dic_list())"
    },
    "r": {
     "delete_cmd_postfix": ") ",
     "delete_cmd_prefix": "rm(",
     "library": "var_list.r",
     "varRefreshCmd": "cat(var_dic_list()) "
    }
   },
   "types_to_exclude": [
    "module",
    "function",
    "builtin_function_or_method",
    "instance",
    "_Feature"
   ],
   "window_display": false
  }
 },
 "nbformat": 4,
 "nbformat_minor": 4
}
