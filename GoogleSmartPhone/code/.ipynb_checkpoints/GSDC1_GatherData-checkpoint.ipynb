{
 "cells": [
  {
   "cell_type": "markdown",
   "metadata": {},
   "source": [
    "# Reference\n",
    "1. https://www.kaggle.com/rohanrao/tutorial-on-reading-large-datasets\n",
    "1. https://www.kaggle.com/asobod11138/gsdc-neuralnet-keras (multi-threading)"
   ]
  },
  {
   "cell_type": "markdown",
   "metadata": {},
   "source": [
    "# Import Libraries"
   ]
  },
  {
   "cell_type": "code",
   "execution_count": 1,
   "metadata": {
    "ExecuteTime": {
     "end_time": "2021-06-25T22:06:33.542706Z",
     "start_time": "2021-06-25T22:06:28.423837Z"
    }
   },
   "outputs": [],
   "source": [
    "import numpy as np\n",
    "import pandas as pd\n",
    "from glob import glob\n",
    "import os\n",
    "import matplotlib.pyplot as plt\n",
    "from tqdm.notebook import tqdm\n",
    "from pathlib import Path\n",
    "import plotly.express as px\n",
    "from multiprocessing import Pool\n",
    "import multiprocessing as multi\n",
    "\n",
    "from utils.gsdc_parser import ground_truth_file_open, derived_file_open, gnsslog_file_open, gnss_log_to_dataframes\n",
    "\n",
    "split_charater = \"\\\\\""
   ]
  },
  {
   "cell_type": "markdown",
   "metadata": {},
   "source": [
    "# Set Path and Load Dataset"
   ]
  },
  {
   "cell_type": "code",
   "execution_count": 2,
   "metadata": {
    "ExecuteTime": {
     "end_time": "2021-06-25T22:06:33.798015Z",
     "start_time": "2021-06-25T22:06:33.543708Z"
    }
   },
   "outputs": [],
   "source": [
    "PATH = Path(\"../input/google-smartphone-decimeter-challenge\")\n",
    "train_df = pd.read_csv(PATH / \"baseline_locations_train.csv\")\n",
    "test_df = pd.read_csv(PATH / \"baseline_locations_test.csv\")"
   ]
  },
  {
   "cell_type": "code",
   "execution_count": 3,
   "metadata": {
    "ExecuteTime": {
     "end_time": "2021-06-25T22:06:33.889180Z",
     "start_time": "2021-06-25T22:06:33.799016Z"
    }
   },
   "outputs": [
    {
     "name": "stdout",
     "output_type": "stream",
     "text": [
      "(131342, 7)\n"
     ]
    },
    {
     "data": {
      "text/html": [
       "<div>\n",
       "<style scoped>\n",
       "    .dataframe tbody tr th:only-of-type {\n",
       "        vertical-align: middle;\n",
       "    }\n",
       "\n",
       "    .dataframe tbody tr th {\n",
       "        vertical-align: top;\n",
       "    }\n",
       "\n",
       "    .dataframe thead th {\n",
       "        text-align: right;\n",
       "    }\n",
       "</style>\n",
       "<table border=\"1\" class=\"dataframe\">\n",
       "  <thead>\n",
       "    <tr style=\"text-align: right;\">\n",
       "      <th></th>\n",
       "      <th>collectionName</th>\n",
       "      <th>phoneName</th>\n",
       "      <th>millisSinceGpsEpoch</th>\n",
       "      <th>latDeg</th>\n",
       "      <th>lngDeg</th>\n",
       "      <th>heightAboveWgs84EllipsoidM</th>\n",
       "      <th>phone</th>\n",
       "    </tr>\n",
       "  </thead>\n",
       "  <tbody>\n",
       "    <tr>\n",
       "      <th>0</th>\n",
       "      <td>2020-05-14-US-MTV-1</td>\n",
       "      <td>Pixel4</td>\n",
       "      <td>1273529463442</td>\n",
       "      <td>37.423575</td>\n",
       "      <td>-122.094091</td>\n",
       "      <td>-34.06</td>\n",
       "      <td>2020-05-14-US-MTV-1_Pixel4</td>\n",
       "    </tr>\n",
       "    <tr>\n",
       "      <th>1</th>\n",
       "      <td>2020-05-14-US-MTV-1</td>\n",
       "      <td>Pixel4</td>\n",
       "      <td>1273529464442</td>\n",
       "      <td>37.423578</td>\n",
       "      <td>-122.094101</td>\n",
       "      <td>-33.29</td>\n",
       "      <td>2020-05-14-US-MTV-1_Pixel4</td>\n",
       "    </tr>\n",
       "    <tr>\n",
       "      <th>2</th>\n",
       "      <td>2020-05-14-US-MTV-1</td>\n",
       "      <td>Pixel4</td>\n",
       "      <td>1273529465442</td>\n",
       "      <td>37.423573</td>\n",
       "      <td>-122.094111</td>\n",
       "      <td>-30.99</td>\n",
       "      <td>2020-05-14-US-MTV-1_Pixel4</td>\n",
       "    </tr>\n",
       "    <tr>\n",
       "      <th>3</th>\n",
       "      <td>2020-05-14-US-MTV-1</td>\n",
       "      <td>Pixel4</td>\n",
       "      <td>1273529466442</td>\n",
       "      <td>37.423583</td>\n",
       "      <td>-122.094121</td>\n",
       "      <td>-32.83</td>\n",
       "      <td>2020-05-14-US-MTV-1_Pixel4</td>\n",
       "    </tr>\n",
       "    <tr>\n",
       "      <th>4</th>\n",
       "      <td>2020-05-14-US-MTV-1</td>\n",
       "      <td>Pixel4</td>\n",
       "      <td>1273529467442</td>\n",
       "      <td>37.423579</td>\n",
       "      <td>-122.094114</td>\n",
       "      <td>-34.49</td>\n",
       "      <td>2020-05-14-US-MTV-1_Pixel4</td>\n",
       "    </tr>\n",
       "  </tbody>\n",
       "</table>\n",
       "</div>"
      ],
      "text/plain": [
       "        collectionName phoneName  millisSinceGpsEpoch     latDeg      lngDeg  \\\n",
       "0  2020-05-14-US-MTV-1    Pixel4        1273529463442  37.423575 -122.094091   \n",
       "1  2020-05-14-US-MTV-1    Pixel4        1273529464442  37.423578 -122.094101   \n",
       "2  2020-05-14-US-MTV-1    Pixel4        1273529465442  37.423573 -122.094111   \n",
       "3  2020-05-14-US-MTV-1    Pixel4        1273529466442  37.423583 -122.094121   \n",
       "4  2020-05-14-US-MTV-1    Pixel4        1273529467442  37.423579 -122.094114   \n",
       "\n",
       "   heightAboveWgs84EllipsoidM                       phone  \n",
       "0                      -34.06  2020-05-14-US-MTV-1_Pixel4  \n",
       "1                      -33.29  2020-05-14-US-MTV-1_Pixel4  \n",
       "2                      -30.99  2020-05-14-US-MTV-1_Pixel4  \n",
       "3                      -32.83  2020-05-14-US-MTV-1_Pixel4  \n",
       "4                      -34.49  2020-05-14-US-MTV-1_Pixel4  "
      ]
     },
     "execution_count": 3,
     "metadata": {},
     "output_type": "execute_result"
    }
   ],
   "source": [
    "print(train_df.shape)\n",
    "train_df.head()"
   ]
  },
  {
   "cell_type": "code",
   "execution_count": 4,
   "metadata": {
    "ExecuteTime": {
     "end_time": "2021-06-25T22:06:33.904181Z",
     "start_time": "2021-06-25T22:06:33.890182Z"
    }
   },
   "outputs": [
    {
     "name": "stdout",
     "output_type": "stream",
     "text": [
      "(91486, 7)\n"
     ]
    },
    {
     "data": {
      "text/html": [
       "<div>\n",
       "<style scoped>\n",
       "    .dataframe tbody tr th:only-of-type {\n",
       "        vertical-align: middle;\n",
       "    }\n",
       "\n",
       "    .dataframe tbody tr th {\n",
       "        vertical-align: top;\n",
       "    }\n",
       "\n",
       "    .dataframe thead th {\n",
       "        text-align: right;\n",
       "    }\n",
       "</style>\n",
       "<table border=\"1\" class=\"dataframe\">\n",
       "  <thead>\n",
       "    <tr style=\"text-align: right;\">\n",
       "      <th></th>\n",
       "      <th>collectionName</th>\n",
       "      <th>phoneName</th>\n",
       "      <th>millisSinceGpsEpoch</th>\n",
       "      <th>latDeg</th>\n",
       "      <th>lngDeg</th>\n",
       "      <th>heightAboveWgs84EllipsoidM</th>\n",
       "      <th>phone</th>\n",
       "    </tr>\n",
       "  </thead>\n",
       "  <tbody>\n",
       "    <tr>\n",
       "      <th>0</th>\n",
       "      <td>2020-05-15-US-MTV-1</td>\n",
       "      <td>Pixel4</td>\n",
       "      <td>1273608785432</td>\n",
       "      <td>37.416628</td>\n",
       "      <td>-122.082053</td>\n",
       "      <td>-30.69</td>\n",
       "      <td>2020-05-15-US-MTV-1_Pixel4</td>\n",
       "    </tr>\n",
       "    <tr>\n",
       "      <th>1</th>\n",
       "      <td>2020-05-15-US-MTV-1</td>\n",
       "      <td>Pixel4</td>\n",
       "      <td>1273608786432</td>\n",
       "      <td>37.416646</td>\n",
       "      <td>-122.082040</td>\n",
       "      <td>-31.76</td>\n",
       "      <td>2020-05-15-US-MTV-1_Pixel4</td>\n",
       "    </tr>\n",
       "    <tr>\n",
       "      <th>2</th>\n",
       "      <td>2020-05-15-US-MTV-1</td>\n",
       "      <td>Pixel4</td>\n",
       "      <td>1273608787432</td>\n",
       "      <td>37.416653</td>\n",
       "      <td>-122.082039</td>\n",
       "      <td>-31.65</td>\n",
       "      <td>2020-05-15-US-MTV-1_Pixel4</td>\n",
       "    </tr>\n",
       "    <tr>\n",
       "      <th>3</th>\n",
       "      <td>2020-05-15-US-MTV-1</td>\n",
       "      <td>Pixel4</td>\n",
       "      <td>1273608788432</td>\n",
       "      <td>37.416607</td>\n",
       "      <td>-122.082063</td>\n",
       "      <td>-31.52</td>\n",
       "      <td>2020-05-15-US-MTV-1_Pixel4</td>\n",
       "    </tr>\n",
       "    <tr>\n",
       "      <th>4</th>\n",
       "      <td>2020-05-15-US-MTV-1</td>\n",
       "      <td>Pixel4</td>\n",
       "      <td>1273608789432</td>\n",
       "      <td>37.416609</td>\n",
       "      <td>-122.082073</td>\n",
       "      <td>-28.95</td>\n",
       "      <td>2020-05-15-US-MTV-1_Pixel4</td>\n",
       "    </tr>\n",
       "  </tbody>\n",
       "</table>\n",
       "</div>"
      ],
      "text/plain": [
       "        collectionName phoneName  millisSinceGpsEpoch     latDeg      lngDeg  \\\n",
       "0  2020-05-15-US-MTV-1    Pixel4        1273608785432  37.416628 -122.082053   \n",
       "1  2020-05-15-US-MTV-1    Pixel4        1273608786432  37.416646 -122.082040   \n",
       "2  2020-05-15-US-MTV-1    Pixel4        1273608787432  37.416653 -122.082039   \n",
       "3  2020-05-15-US-MTV-1    Pixel4        1273608788432  37.416607 -122.082063   \n",
       "4  2020-05-15-US-MTV-1    Pixel4        1273608789432  37.416609 -122.082073   \n",
       "\n",
       "   heightAboveWgs84EllipsoidM                       phone  \n",
       "0                      -30.69  2020-05-15-US-MTV-1_Pixel4  \n",
       "1                      -31.76  2020-05-15-US-MTV-1_Pixel4  \n",
       "2                      -31.65  2020-05-15-US-MTV-1_Pixel4  \n",
       "3                      -31.52  2020-05-15-US-MTV-1_Pixel4  \n",
       "4                      -28.95  2020-05-15-US-MTV-1_Pixel4  "
      ]
     },
     "execution_count": 4,
     "metadata": {},
     "output_type": "execute_result"
    }
   ],
   "source": [
    "print(test_df.shape)\n",
    "test_df.head()"
   ]
  },
  {
   "cell_type": "markdown",
   "metadata": {},
   "source": [
    "# Load All Data Function"
   ]
  },
  {
   "cell_type": "markdown",
   "metadata": {},
   "source": [
    "## For Multi Processing Code (Temporary Dead Code)"
   ]
  },
  {
   "cell_type": "code",
   "execution_count": 5,
   "metadata": {
    "ExecuteTime": {
     "end_time": "2021-06-25T22:06:34.009179Z",
     "start_time": "2021-06-25T22:06:33.905179Z"
    },
    "scrolled": true
   },
   "outputs": [],
   "source": [
    "path_list = list(glob(str(PATH / \"train\" / \"*/*/*\")))\n",
    "\n",
    "get_ground_truth = lambda x:x.split(split_charater)[-1].find(\"ground_truth\")>= 0\n",
    "get_derived = lambda x:x.split(split_charater)[-1].find(\"derived.csv\")>= 0\n",
    "get_gnsslog = lambda x:x.split(split_charater)[-1].find(\"GnssLog.txt\")>= 0\n",
    "\n",
    "ground_truth_path_list = list(filter(get_ground_truth, path_list))\n",
    "derived_path_list = list(filter(get_derived, path_list))\n",
    "gnsslog_path_list = list(filter(get_gnsslog, path_list))"
   ]
  },
  {
   "cell_type": "code",
   "execution_count": 6,
   "metadata": {
    "ExecuteTime": {
     "end_time": "2021-06-25T22:06:34.024181Z",
     "start_time": "2021-06-25T22:06:34.010179Z"
    }
   },
   "outputs": [],
   "source": [
    "gnss_section_names = {'Raw','UncalAccel', 'UncalGyro', 'UncalMag', 'Fix', 'Status', 'OrientationDeg'}\n",
    "section_names = {'GroundTruth', 'Derived', 'Raw','UncalAccel', 'UncalGyro', 'UncalMag', 'Fix', 'Status', 'OrientationDeg'}\n",
    "_columns = ['latDeg', 'lngDeg', 'heightAboveWgs84EllipsoidM']\n",
    "\n",
    "output = dict()\n",
    "for section in section_names:\n",
    "    output[section] = pd.DataFrame()\n",
    "\n",
    "start_path = \"train\"\n",
    "\n",
    "thread_num = multi.cpu_count()"
   ]
  },
  {
   "cell_type": "code",
   "execution_count": 7,
   "metadata": {
    "ExecuteTime": {
     "end_time": "2021-06-25T22:06:42.322183Z",
     "start_time": "2021-06-25T22:06:34.025179Z"
    }
   },
   "outputs": [
    {
     "data": {
      "application/vnd.jupyter.widget-view+json": {
       "model_id": "52c0ca2c73c54a5688ff96badcccd5b4",
       "version_major": 2,
       "version_minor": 0
      },
      "text/plain": [
       "load ground truth:   0%|          | 0/73 [00:00<?, ?it/s]"
      ]
     },
     "metadata": {},
     "output_type": "display_data"
    }
   ],
   "source": [
    "with Pool(thread_num) as pool:\n",
    "    imap = pool.imap(ground_truth_file_open, ground_truth_path_list)\n",
    "    ground_truth = list(tqdm(imap, total=len(ground_truth_path_list), desc=\"load ground truth\"))"
   ]
  },
  {
   "cell_type": "code",
   "execution_count": 8,
   "metadata": {
    "ExecuteTime": {
     "end_time": "2021-06-25T22:07:02.285476Z",
     "start_time": "2021-06-25T22:06:42.324184Z"
    }
   },
   "outputs": [
    {
     "data": {
      "application/vnd.jupyter.widget-view+json": {
       "model_id": "2565ac435db0477f8963c3930521ff44",
       "version_major": 2,
       "version_minor": 0
      },
      "text/plain": [
       "load derived data:   0%|          | 0/73 [00:00<?, ?it/s]"
      ]
     },
     "metadata": {},
     "output_type": "display_data"
    }
   ],
   "source": [
    "with Pool(thread_num) as pool:\n",
    "    imap = pool.imap(derived_file_open, derived_path_list)\n",
    "    derived = list(tqdm(imap, total=len(derived_path_list), desc=\"load derived data\"))"
   ]
  },
  {
   "cell_type": "code",
   "execution_count": 9,
   "metadata": {
    "ExecuteTime": {
     "end_time": "2021-06-25T22:10:02.895388Z",
     "start_time": "2021-06-25T22:07:02.287476Z"
    }
   },
   "outputs": [
    {
     "data": {
      "application/vnd.jupyter.widget-view+json": {
       "model_id": "c5da99cdc0c44b708c6adc1fa28123f9",
       "version_major": 2,
       "version_minor": 0
      },
      "text/plain": [
       "load gnss log:   0%|          | 0/73 [00:00<?, ?it/s]"
      ]
     },
     "metadata": {},
     "output_type": "display_data"
    }
   ],
   "source": [
    "with Pool(thread_num) as pool:\n",
    "    imap = pool.imap(gnsslog_file_open, gnsslog_path_list)\n",
    "    gnss_logs = list(tqdm(imap, total=len(gnsslog_path_list), desc=\"load gnss log\"))"
   ]
  },
  {
   "cell_type": "code",
   "execution_count": null,
   "metadata": {},
   "outputs": [],
   "source": []
  },
  {
   "cell_type": "markdown",
   "metadata": {},
   "source": [
    "## One Process Parser"
   ]
  },
  {
   "cell_type": "code",
   "execution_count": 10,
   "metadata": {
    "ExecuteTime": {
     "end_time": "2021-06-25T22:10:03.134387Z",
     "start_time": "2021-06-25T22:10:02.915386Z"
    }
   },
   "outputs": [
    {
     "name": "stdout",
     "output_type": "stream",
     "text": [
      "(131342, 11)\n"
     ]
    },
    {
     "data": {
      "text/html": [
       "<div>\n",
       "<style scoped>\n",
       "    .dataframe tbody tr th:only-of-type {\n",
       "        vertical-align: middle;\n",
       "    }\n",
       "\n",
       "    .dataframe tbody tr th {\n",
       "        vertical-align: top;\n",
       "    }\n",
       "\n",
       "    .dataframe thead th {\n",
       "        text-align: right;\n",
       "    }\n",
       "</style>\n",
       "<table border=\"1\" class=\"dataframe\">\n",
       "  <thead>\n",
       "    <tr style=\"text-align: right;\">\n",
       "      <th></th>\n",
       "      <th>collectionName</th>\n",
       "      <th>phoneName</th>\n",
       "      <th>millisSinceGpsEpoch</th>\n",
       "      <th>timeSinceFirstFixSeconds</th>\n",
       "      <th>hDop</th>\n",
       "      <th>vDop</th>\n",
       "      <th>speedMps</th>\n",
       "      <th>courseDegree</th>\n",
       "      <th>t_latDeg</th>\n",
       "      <th>t_lngDeg</th>\n",
       "      <th>t_heightAboveWgs84EllipsoidM</th>\n",
       "    </tr>\n",
       "  </thead>\n",
       "  <tbody>\n",
       "    <tr>\n",
       "      <th>0</th>\n",
       "      <td>2020-05-14-US-MTV-1</td>\n",
       "      <td>Pixel4</td>\n",
       "      <td>1273529463442</td>\n",
       "      <td>551.44</td>\n",
       "      <td>1.1</td>\n",
       "      <td>0.0</td>\n",
       "      <td>0.0</td>\n",
       "      <td>12.7</td>\n",
       "      <td>37.423576</td>\n",
       "      <td>-122.094132</td>\n",
       "      <td>33.21</td>\n",
       "    </tr>\n",
       "    <tr>\n",
       "      <th>1</th>\n",
       "      <td>2020-05-14-US-MTV-1</td>\n",
       "      <td>Pixel4</td>\n",
       "      <td>1273529464442</td>\n",
       "      <td>552.44</td>\n",
       "      <td>1.1</td>\n",
       "      <td>0.0</td>\n",
       "      <td>0.0</td>\n",
       "      <td>12.7</td>\n",
       "      <td>37.423576</td>\n",
       "      <td>-122.094132</td>\n",
       "      <td>33.21</td>\n",
       "    </tr>\n",
       "    <tr>\n",
       "      <th>2</th>\n",
       "      <td>2020-05-14-US-MTV-1</td>\n",
       "      <td>Pixel4</td>\n",
       "      <td>1273529465442</td>\n",
       "      <td>553.44</td>\n",
       "      <td>1.1</td>\n",
       "      <td>0.0</td>\n",
       "      <td>0.0</td>\n",
       "      <td>12.7</td>\n",
       "      <td>37.423576</td>\n",
       "      <td>-122.094132</td>\n",
       "      <td>33.21</td>\n",
       "    </tr>\n",
       "    <tr>\n",
       "      <th>3</th>\n",
       "      <td>2020-05-14-US-MTV-1</td>\n",
       "      <td>Pixel4</td>\n",
       "      <td>1273529466442</td>\n",
       "      <td>554.44</td>\n",
       "      <td>1.1</td>\n",
       "      <td>0.0</td>\n",
       "      <td>0.0</td>\n",
       "      <td>12.7</td>\n",
       "      <td>37.423576</td>\n",
       "      <td>-122.094132</td>\n",
       "      <td>33.20</td>\n",
       "    </tr>\n",
       "    <tr>\n",
       "      <th>4</th>\n",
       "      <td>2020-05-14-US-MTV-1</td>\n",
       "      <td>Pixel4</td>\n",
       "      <td>1273529467442</td>\n",
       "      <td>555.44</td>\n",
       "      <td>1.1</td>\n",
       "      <td>0.0</td>\n",
       "      <td>0.0</td>\n",
       "      <td>12.7</td>\n",
       "      <td>37.423576</td>\n",
       "      <td>-122.094132</td>\n",
       "      <td>33.20</td>\n",
       "    </tr>\n",
       "  </tbody>\n",
       "</table>\n",
       "</div>"
      ],
      "text/plain": [
       "        collectionName phoneName  millisSinceGpsEpoch  \\\n",
       "0  2020-05-14-US-MTV-1    Pixel4        1273529463442   \n",
       "1  2020-05-14-US-MTV-1    Pixel4        1273529464442   \n",
       "2  2020-05-14-US-MTV-1    Pixel4        1273529465442   \n",
       "3  2020-05-14-US-MTV-1    Pixel4        1273529466442   \n",
       "4  2020-05-14-US-MTV-1    Pixel4        1273529467442   \n",
       "\n",
       "   timeSinceFirstFixSeconds  hDop  vDop  speedMps  courseDegree   t_latDeg  \\\n",
       "0                    551.44   1.1   0.0       0.0          12.7  37.423576   \n",
       "1                    552.44   1.1   0.0       0.0          12.7  37.423576   \n",
       "2                    553.44   1.1   0.0       0.0          12.7  37.423576   \n",
       "3                    554.44   1.1   0.0       0.0          12.7  37.423576   \n",
       "4                    555.44   1.1   0.0       0.0          12.7  37.423576   \n",
       "\n",
       "     t_lngDeg  t_heightAboveWgs84EllipsoidM  \n",
       "0 -122.094132                         33.21  \n",
       "1 -122.094132                         33.21  \n",
       "2 -122.094132                         33.21  \n",
       "3 -122.094132                         33.20  \n",
       "4 -122.094132                         33.20  "
      ]
     },
     "execution_count": 10,
     "metadata": {},
     "output_type": "execute_result"
    }
   ],
   "source": [
    "df_truth = pd.concat(ground_truth)\n",
    "print(df_truth.shape)\n",
    "df_truth.head()"
   ]
  },
  {
   "cell_type": "code",
   "execution_count": 11,
   "metadata": {
    "ExecuteTime": {
     "end_time": "2021-06-25T22:10:05.308485Z",
     "start_time": "2021-06-25T22:10:03.136387Z"
    }
   },
   "outputs": [
    {
     "name": "stdout",
     "output_type": "stream",
     "text": [
      "(3834542, 20)\n"
     ]
    },
    {
     "data": {
      "text/html": [
       "<div>\n",
       "<style scoped>\n",
       "    .dataframe tbody tr th:only-of-type {\n",
       "        vertical-align: middle;\n",
       "    }\n",
       "\n",
       "    .dataframe tbody tr th {\n",
       "        vertical-align: top;\n",
       "    }\n",
       "\n",
       "    .dataframe thead th {\n",
       "        text-align: right;\n",
       "    }\n",
       "</style>\n",
       "<table border=\"1\" class=\"dataframe\">\n",
       "  <thead>\n",
       "    <tr style=\"text-align: right;\">\n",
       "      <th></th>\n",
       "      <th>collectionName</th>\n",
       "      <th>phoneName</th>\n",
       "      <th>millisSinceGpsEpoch</th>\n",
       "      <th>constellationType</th>\n",
       "      <th>svid</th>\n",
       "      <th>signalType</th>\n",
       "      <th>receivedSvTimeInGpsNanos</th>\n",
       "      <th>xSatPosM</th>\n",
       "      <th>ySatPosM</th>\n",
       "      <th>zSatPosM</th>\n",
       "      <th>xSatVelMps</th>\n",
       "      <th>ySatVelMps</th>\n",
       "      <th>zSatVelMps</th>\n",
       "      <th>satClkBiasM</th>\n",
       "      <th>satClkDriftMps</th>\n",
       "      <th>rawPrM</th>\n",
       "      <th>rawPrUncM</th>\n",
       "      <th>isrbM</th>\n",
       "      <th>ionoDelayM</th>\n",
       "      <th>tropoDelayM</th>\n",
       "    </tr>\n",
       "  </thead>\n",
       "  <tbody>\n",
       "    <tr>\n",
       "      <th>0</th>\n",
       "      <td>2020-05-14-US-MTV-1</td>\n",
       "      <td>Pixel4</td>\n",
       "      <td>1273529464442</td>\n",
       "      <td>3</td>\n",
       "      <td>24</td>\n",
       "      <td>GLO_G1</td>\n",
       "      <td>1273529463363061857</td>\n",
       "      <td>-2.539901e+07</td>\n",
       "      <td>-6.925122e+05</td>\n",
       "      <td>-2.280430e+06</td>\n",
       "      <td>-325.826</td>\n",
       "      <td>156.040</td>\n",
       "      <td>3559.757</td>\n",
       "      <td>-468.084</td>\n",
       "      <td>0.001</td>\n",
       "      <td>2.379498e+07</td>\n",
       "      <td>11.992</td>\n",
       "      <td>1134.758</td>\n",
       "      <td>10.866</td>\n",
       "      <td>16.647</td>\n",
       "    </tr>\n",
       "    <tr>\n",
       "      <th>1</th>\n",
       "      <td>2020-05-14-US-MTV-1</td>\n",
       "      <td>Pixel4</td>\n",
       "      <td>1273529464442</td>\n",
       "      <td>6</td>\n",
       "      <td>13</td>\n",
       "      <td>GAL_E1</td>\n",
       "      <td>1273529463363970742</td>\n",
       "      <td>-5.199894e+06</td>\n",
       "      <td>-1.741927e+07</td>\n",
       "      <td>2.336128e+07</td>\n",
       "      <td>2239.305</td>\n",
       "      <td>700.815</td>\n",
       "      <td>1022.014</td>\n",
       "      <td>120171.076</td>\n",
       "      <td>0.000</td>\n",
       "      <td>2.352251e+07</td>\n",
       "      <td>1.799</td>\n",
       "      <td>-222.675</td>\n",
       "      <td>3.946</td>\n",
       "      <td>2.717</td>\n",
       "    </tr>\n",
       "    <tr>\n",
       "      <th>2</th>\n",
       "      <td>2020-05-14-US-MTV-1</td>\n",
       "      <td>Pixel4</td>\n",
       "      <td>1273529464442</td>\n",
       "      <td>1</td>\n",
       "      <td>5</td>\n",
       "      <td>GPS_L1</td>\n",
       "      <td>1273529463365539137</td>\n",
       "      <td>-2.179863e+06</td>\n",
       "      <td>-2.615488e+07</td>\n",
       "      <td>-3.437694e+06</td>\n",
       "      <td>325.541</td>\n",
       "      <td>-419.725</td>\n",
       "      <td>3129.012</td>\n",
       "      <td>-3793.067</td>\n",
       "      <td>-0.001</td>\n",
       "      <td>2.305231e+07</td>\n",
       "      <td>4.197</td>\n",
       "      <td>0.000</td>\n",
       "      <td>7.554</td>\n",
       "      <td>5.704</td>\n",
       "    </tr>\n",
       "    <tr>\n",
       "      <th>3</th>\n",
       "      <td>2020-05-14-US-MTV-1</td>\n",
       "      <td>Pixel4</td>\n",
       "      <td>1273529464442</td>\n",
       "      <td>6</td>\n",
       "      <td>15</td>\n",
       "      <td>GAL_E1</td>\n",
       "      <td>1273529463352380595</td>\n",
       "      <td>1.635469e+07</td>\n",
       "      <td>-1.047833e+07</td>\n",
       "      <td>2.234460e+07</td>\n",
       "      <td>2172.409</td>\n",
       "      <td>561.971</td>\n",
       "      <td>-1326.001</td>\n",
       "      <td>259937.286</td>\n",
       "      <td>-0.000</td>\n",
       "      <td>2.699715e+07</td>\n",
       "      <td>8.094</td>\n",
       "      <td>-222.675</td>\n",
       "      <td>7.968</td>\n",
       "      <td>9.151</td>\n",
       "    </tr>\n",
       "    <tr>\n",
       "      <th>4</th>\n",
       "      <td>2020-05-14-US-MTV-1</td>\n",
       "      <td>Pixel4</td>\n",
       "      <td>1273529464442</td>\n",
       "      <td>6</td>\n",
       "      <td>21</td>\n",
       "      <td>GAL_E1</td>\n",
       "      <td>1273529463364075083</td>\n",
       "      <td>-1.484042e+07</td>\n",
       "      <td>-2.110960e+07</td>\n",
       "      <td>1.449632e+07</td>\n",
       "      <td>-426.094</td>\n",
       "      <td>-1395.675</td>\n",
       "      <td>-2467.793</td>\n",
       "      <td>-179555.991</td>\n",
       "      <td>-0.001</td>\n",
       "      <td>2.349123e+07</td>\n",
       "      <td>2.698</td>\n",
       "      <td>-222.675</td>\n",
       "      <td>3.834</td>\n",
       "      <td>2.544</td>\n",
       "    </tr>\n",
       "  </tbody>\n",
       "</table>\n",
       "</div>"
      ],
      "text/plain": [
       "        collectionName phoneName  millisSinceGpsEpoch  constellationType  \\\n",
       "0  2020-05-14-US-MTV-1    Pixel4        1273529464442                  3   \n",
       "1  2020-05-14-US-MTV-1    Pixel4        1273529464442                  6   \n",
       "2  2020-05-14-US-MTV-1    Pixel4        1273529464442                  1   \n",
       "3  2020-05-14-US-MTV-1    Pixel4        1273529464442                  6   \n",
       "4  2020-05-14-US-MTV-1    Pixel4        1273529464442                  6   \n",
       "\n",
       "   svid signalType  receivedSvTimeInGpsNanos      xSatPosM      ySatPosM  \\\n",
       "0    24     GLO_G1       1273529463363061857 -2.539901e+07 -6.925122e+05   \n",
       "1    13     GAL_E1       1273529463363970742 -5.199894e+06 -1.741927e+07   \n",
       "2     5     GPS_L1       1273529463365539137 -2.179863e+06 -2.615488e+07   \n",
       "3    15     GAL_E1       1273529463352380595  1.635469e+07 -1.047833e+07   \n",
       "4    21     GAL_E1       1273529463364075083 -1.484042e+07 -2.110960e+07   \n",
       "\n",
       "       zSatPosM  xSatVelMps  ySatVelMps  zSatVelMps  satClkBiasM  \\\n",
       "0 -2.280430e+06    -325.826     156.040    3559.757     -468.084   \n",
       "1  2.336128e+07    2239.305     700.815    1022.014   120171.076   \n",
       "2 -3.437694e+06     325.541    -419.725    3129.012    -3793.067   \n",
       "3  2.234460e+07    2172.409     561.971   -1326.001   259937.286   \n",
       "4  1.449632e+07    -426.094   -1395.675   -2467.793  -179555.991   \n",
       "\n",
       "   satClkDriftMps        rawPrM  rawPrUncM     isrbM  ionoDelayM  tropoDelayM  \n",
       "0           0.001  2.379498e+07     11.992  1134.758      10.866       16.647  \n",
       "1           0.000  2.352251e+07      1.799  -222.675       3.946        2.717  \n",
       "2          -0.001  2.305231e+07      4.197     0.000       7.554        5.704  \n",
       "3          -0.000  2.699715e+07      8.094  -222.675       7.968        9.151  \n",
       "4          -0.001  2.349123e+07      2.698  -222.675       3.834        2.544  "
      ]
     },
     "execution_count": 11,
     "metadata": {},
     "output_type": "execute_result"
    }
   ],
   "source": [
    "df_derived = pd.concat(derived)\n",
    "print(df_derived.shape)\n",
    "df_derived.head()"
   ]
  },
  {
   "cell_type": "code",
   "execution_count": 12,
   "metadata": {
    "ExecuteTime": {
     "end_time": "2021-06-25T22:10:16.668298Z",
     "start_time": "2021-06-25T22:10:05.310474Z"
    }
   },
   "outputs": [
    {
     "name": "stdout",
     "output_type": "stream",
     "text": [
      "(0, 14)\n",
      "Empty DataFrame\n",
      "Columns: [Provider, LatitudeDegrees, LongitudeDegrees, AltitudeMeters, SpeedMps, AccuracyMeters, BearingDegrees, utcTimeMillis, SpeedAccuracyMps, BearingAccuracyDegrees, collectionName, phoneName, elapsedRealtimeNanos, millisSinceGpsEpoch]\n",
      "Index: []\n",
      "(20534266, 11)\n",
      "   utcTimeMillis  elapsedRealtimeNanos  UncalGyroXRadPerSec  \\\n",
      "0  1589494244844        19637939874074            -0.003550   \n",
      "1  1589494244847        19637942316782            -0.003370   \n",
      "2  1589494244849        19637944759491            -0.004533   \n",
      "3  1589494244852        19637947202199            -0.008254   \n",
      "4  1589494244855        19637949644907            -0.008272   \n",
      "\n",
      "   UncalGyroYRadPerSec  UncalGyroZRadPerSec       collectionName phoneName  \\\n",
      "0             0.023597            -0.082773  2020-05-14-US-MTV-1    Pixel4   \n",
      "1             0.030998            -0.080377  2020-05-14-US-MTV-1    Pixel4   \n",
      "2             0.028622            -0.074239  2020-05-14-US-MTV-1    Pixel4   \n",
      "3             0.017697            -0.065580  2020-05-14-US-MTV-1    Pixel4   \n",
      "4             0.010407            -0.058197  2020-05-14-US-MTV-1    Pixel4   \n",
      "\n",
      "   DriftXRadPerSec  DriftYRadPerSec  DriftZRadPerSec  millisSinceGpsEpoch  \n",
      "0              NaN              NaN              NaN        -315608454676  \n",
      "1              NaN              NaN              NaN        -315608454673  \n",
      "2              NaN              NaN              NaN        -315608454671  \n",
      "3              NaN              NaN              NaN        -315608454668  \n",
      "4              NaN              NaN              NaN        -315608454665  \n",
      "(20523372, 11)\n",
      "   utcTimeMillis  elapsedRealtimeNanos  UncalAccelXMps2  UncalAccelYMps2  \\\n",
      "0  1589494244845        19637940404074         0.177860        10.159246   \n",
      "1  1589494244847        19637942846782        -0.002934        10.351667   \n",
      "2  1589494244850        19637945289491        -0.114138        10.099208   \n",
      "3  1589494244853        19637947732199        -0.089033         9.789539   \n",
      "4  1589494244856        19637950174907        -0.123533         9.586480   \n",
      "\n",
      "   UncalAccelZMps2       collectionName phoneName  BiasXMps2  BiasYMps2  \\\n",
      "0         1.052928  2020-05-14-US-MTV-1    Pixel4        NaN        NaN   \n",
      "1         0.934190  2020-05-14-US-MTV-1    Pixel4        NaN        NaN   \n",
      "2         0.751948  2020-05-14-US-MTV-1    Pixel4        NaN        NaN   \n",
      "3         0.821809  2020-05-14-US-MTV-1    Pixel4        NaN        NaN   \n",
      "4         0.996857  2020-05-14-US-MTV-1    Pixel4        NaN        NaN   \n",
      "\n",
      "   BiasZMps2  millisSinceGpsEpoch  \n",
      "0        NaN        -315608454675  \n",
      "1        NaN        -315608454673  \n",
      "2        NaN        -315608454670  \n",
      "3        NaN        -315608454667  \n",
      "4        NaN        -315608454664  \n",
      "(2825564, 8)\n",
      "        collectionName phoneName  utcTimeMillis  elapsedRealtimeNanos  yawDeg  \\\n",
      "0  2021-03-10-US-SVL-1  Pixel4XL   1.615418e+12          1.035191e+13    61.0   \n",
      "1  2021-03-10-US-SVL-1  Pixel4XL   1.615418e+12          1.035193e+13    61.0   \n",
      "2  2021-03-10-US-SVL-1  Pixel4XL   1.615418e+12          1.035195e+13    61.0   \n",
      "3  2021-03-10-US-SVL-1  Pixel4XL   1.615418e+12          1.035196e+13    61.0   \n",
      "4  2021-03-10-US-SVL-1  Pixel4XL   1.615418e+12          1.035198e+13    61.0   \n",
      "\n",
      "   rollDeg  pitchDeg  millisSinceGpsEpoch  \n",
      "0   -165.0     -83.0        -318112283648  \n",
      "1   -165.0     -83.0        -318112283648  \n",
      "2   -165.0     -83.0        -318112283648  \n",
      "3   -165.0     -83.0        -318112283648  \n",
      "4   -165.0     -83.0        -318112283648  \n",
      "(4386205, 39)\n",
      "   utcTimeMillis       TimeNanos  LeapSecond  TimeUncertaintyNanos  \\\n",
      "0  1589494245442  21091250000000         NaN                   NaN   \n",
      "1  1589494245442  21091250000000         NaN                   NaN   \n",
      "2  1589494245442  21091250000000         NaN                   NaN   \n",
      "3  1589494245442  21091250000000         NaN                   NaN   \n",
      "4  1589494245442  21091250000000         NaN                   NaN   \n",
      "\n",
      "         FullBiasNanos  BiasNanos  BiasUncertaintyNanos  DriftNanosPerSecond  \\\n",
      "0 -1273508372192433379  -0.173279             25.084462            -0.129289   \n",
      "1 -1273508372192433379  -0.173279             25.084462            -0.129289   \n",
      "2 -1273508372192433379  -0.173279             25.084462            -0.129289   \n",
      "3 -1273508372192433379  -0.173279             25.084462            -0.129289   \n",
      "4 -1273508372192433379  -0.173279             25.084462            -0.129289   \n",
      "\n",
      "   DriftUncertaintyNanosPerSecond  HardwareClockDiscontinuityCount  ...  \\\n",
      "0                       10.603476                             2593  ...   \n",
      "1                       10.603476                             2593  ...   \n",
      "2                       10.603476                             2593  ...   \n",
      "3                       10.603476                             2593  ...   \n",
      "4                       10.603476                             2593  ...   \n",
      "\n",
      "        collectionName  phoneName  BasebandCn0DbHz  FullInterSignalBiasNanos  \\\n",
      "0  2020-05-14-US-MTV-1     Pixel4              NaN                       NaN   \n",
      "1  2020-05-14-US-MTV-1     Pixel4              NaN                       NaN   \n",
      "2  2020-05-14-US-MTV-1     Pixel4              NaN                       NaN   \n",
      "3  2020-05-14-US-MTV-1     Pixel4              NaN                       NaN   \n",
      "4  2020-05-14-US-MTV-1     Pixel4              NaN                       NaN   \n",
      "\n",
      "   FullInterSignalBiasUncertaintyNanos  SatelliteInterSignalBiasNanos  \\\n",
      "0                                  NaN                            NaN   \n",
      "1                                  NaN                            NaN   \n",
      "2                                  NaN                            NaN   \n",
      "3                                  NaN                            NaN   \n",
      "4                                  NaN                            NaN   \n",
      "\n",
      "   SatelliteInterSignalBiasUncertaintyNanos  CodeType  \\\n",
      "0                                       NaN       NaN   \n",
      "1                                       NaN       NaN   \n",
      "2                                       NaN       NaN   \n",
      "3                                       NaN       NaN   \n",
      "4                                       NaN       NaN   \n",
      "\n",
      "   ChipsetElapsedRealtimeNanos  millisSinceGpsEpoch  \n",
      "0                          NaN        -315608454078  \n",
      "1                          NaN        -315608454078  \n",
      "2                          NaN        -315608454078  \n",
      "3                          NaN        -315608454078  \n",
      "4                          NaN        -315608454078  \n",
      "\n",
      "[5 rows x 39 columns]\n",
      "(4285508, 16)\n",
      "   utcTimeMillis  SignalCount  SignalIndex  ConstellationType  Svid  \\\n",
      "0  1589494244403           37            0                  1     2   \n",
      "1  1589494244403           37            1                  1     5   \n",
      "2  1589494244403           37            2                  1     6   \n",
      "3  1589494244403           37            3                  1    12   \n",
      "4  1589494244403           37            4                  1    19   \n",
      "\n",
      "   CarrierFrequencyHz  Cn0DbHz  AzimuthDegrees  ElevationDegrees  UsedInFix  \\\n",
      "0        1.575420e+09     37.9            52.0              72.0          1   \n",
      "1        1.575420e+09     30.0           144.0              25.0          1   \n",
      "2        1.575420e+09     36.9            43.0              37.0          0   \n",
      "3        1.575420e+09     25.2           340.0              78.0          1   \n",
      "4        1.575420e+09     28.0            70.0              14.0          1   \n",
      "\n",
      "   HasAlmanacData  HasEphemerisData       collectionName phoneName  \\\n",
      "0               1                 1  2020-05-14-US-MTV-1    Pixel4   \n",
      "1               1                 1  2020-05-14-US-MTV-1    Pixel4   \n",
      "2               1                 1  2020-05-14-US-MTV-1    Pixel4   \n",
      "3               1                 1  2020-05-14-US-MTV-1    Pixel4   \n",
      "4               1                 1  2020-05-14-US-MTV-1    Pixel4   \n",
      "\n",
      "   BasebandCn0DbHz  millisSinceGpsEpoch  \n",
      "0              NaN        -315608455117  \n",
      "1              NaN        -315608455117  \n",
      "2              NaN        -315608455117  \n",
      "3              NaN        -315608455117  \n",
      "4              NaN        -315608455117  \n",
      "(11237068, 11)\n",
      "   utcTimeMillis  elapsedRealtimeNanos  UncalMagXMicroT  UncalMagYMicroT  \\\n",
      "0  1589494244849        19637944305324        25.068630       -48.203823   \n",
      "1  1589494244860        19637954245636        25.011307       -48.403454   \n",
      "2  1589494244869        19637964187407        25.010984       -48.398920   \n",
      "3  1589494244879        19637974118709        25.042374       -49.233658   \n",
      "4  1589494244889        19637984054907        24.980007       -48.764900   \n",
      "\n",
      "   UncalMagZMicroT       collectionName phoneName  BiasXMicroT  BiasYMicroT  \\\n",
      "0       -17.910692  2020-05-14-US-MTV-1    Pixel4          NaN          NaN   \n",
      "1       -17.473583  2020-05-14-US-MTV-1    Pixel4          NaN          NaN   \n",
      "2       -17.320847  2020-05-14-US-MTV-1    Pixel4          NaN          NaN   \n",
      "3       -17.507921  2020-05-14-US-MTV-1    Pixel4          NaN          NaN   \n",
      "4       -15.564432  2020-05-14-US-MTV-1    Pixel4          NaN          NaN   \n",
      "\n",
      "   BiasZMicroT  millisSinceGpsEpoch  \n",
      "0          NaN        -315608454671  \n",
      "1          NaN        -315608454660  \n",
      "2          NaN        -315608454651  \n",
      "3          NaN        -315608454641  \n",
      "4          NaN        -315608454631  \n"
     ]
    }
   ],
   "source": [
    "gnss_dict = {}\n",
    "for key in gnss_section_names:\n",
    "    list_temp = []\n",
    "    for gnss_log in gnss_logs:\n",
    "        list_temp.append(gnss_log[key])\n",
    "    df_temp = pd.concat(list_temp)\n",
    "    gnss_dict[key] = df_temp\n",
    "    if (key == \"Status\") or (key == \"Fix\"):  \n",
    "        gnss_dict[key].rename(columns = {'UnixTimeMillis':'utcTimeMillis'}, inplace = True)\n",
    "    gnss_dict[key][\"millisSinceGpsEpoch\"] = gnss_dict[key][\"utcTimeMillis\"].astype(int) - 315964800000\n",
    "    print(gnss_dict[key].shape)\n",
    "    print(gnss_dict[key].head())"
   ]
  },
  {
   "cell_type": "code",
   "execution_count": 14,
   "metadata": {
    "ExecuteTime": {
     "end_time": "2021-06-25T22:10:16.742296Z",
     "start_time": "2021-06-25T22:10:16.715297Z"
    }
   },
   "outputs": [],
   "source": [
    "def merge_data(df_, truth, derived, gnss):\n",
    "    df = df_.copy()\n",
    "\n",
    "    df = pd.merge_asof(df.sort_values('millisSinceGpsEpoch'), \n",
    "          truth.sort_values('millisSinceGpsEpoch'), \n",
    "          on=\"millisSinceGpsEpoch\", by=[\"collectionName\", \"phoneName\"], \n",
    "          direction='nearest',tolerance=100000)\n",
    "\n",
    "    df = pd.merge_asof(df.sort_values('millisSinceGpsEpoch'), \n",
    "          derived.sort_values('millisSinceGpsEpoch'), \n",
    "          on=\"millisSinceGpsEpoch\", by=[\"collectionName\", \"phoneName\"], \n",
    "          direction='nearest',tolerance=100000)\n",
    "\n",
    "\n",
    "    for key, value in gnss.items():\n",
    "        if value.shape[0] == 0:\n",
    "            continue\n",
    "        df = pd.merge_asof(df.sort_values('millisSinceGpsEpoch'), \n",
    "              value.sort_values('millisSinceGpsEpoch'), \n",
    "              on=\"millisSinceGpsEpoch\", by=[\"collectionName\", \"phoneName\"], \n",
    "              direction='nearest',tolerance=100000, suffixes = ['', \"_\" + key])\n",
    "        \n",
    "    return df"
   ]
  },
  {
   "cell_type": "markdown",
   "metadata": {},
   "source": [
    "# Save To Pickle File"
   ]
  },
  {
   "cell_type": "code",
   "execution_count": 15,
   "metadata": {
    "ExecuteTime": {
     "end_time": "2021-06-25T22:11:17.706699Z",
     "start_time": "2021-06-25T22:10:16.744296Z"
    },
    "scrolled": true
   },
   "outputs": [],
   "source": [
    "output = merge_data(train_df, df_truth, df_derived, gnss_dict)\n",
    "output.to_pickle(str(PATH / \"gsdc_train.pkl.gzip\"))"
   ]
  },
  {
   "cell_type": "code",
   "execution_count": 16,
   "metadata": {
    "ExecuteTime": {
     "end_time": "2021-06-25T22:12:03.341183Z",
     "start_time": "2021-06-25T22:11:17.718698Z"
    },
    "scrolled": true
   },
   "outputs": [],
   "source": [
    "output = merge_data(test_df, df_truth, df_derived, gnss_dict)\n",
    "output.to_pickle(str(PATH / \"gsdc_test.pkl.gzip\"))"
   ]
  },
  {
   "cell_type": "code",
   "execution_count": 17,
   "metadata": {
    "ExecuteTime": {
     "end_time": "2021-06-25T22:12:03.582034Z",
     "start_time": "2021-06-25T22:12:03.344183Z"
    }
   },
   "outputs": [
    {
     "name": "stdout",
     "output_type": "stream",
     "text": [
      "\f",
      "\n"
     ]
    }
   ],
   "source": [
    "%clear"
   ]
  },
  {
   "cell_type": "markdown",
   "metadata": {},
   "source": [
    "# Load Pickle File"
   ]
  },
  {
   "cell_type": "code",
   "execution_count": 18,
   "metadata": {
    "ExecuteTime": {
     "end_time": "2021-06-25T22:12:03.597035Z",
     "start_time": "2021-06-25T22:12:03.584036Z"
    }
   },
   "outputs": [],
   "source": [
    "import numpy as np\n",
    "import pandas as pd\n",
    "from glob import glob\n",
    "import os\n",
    "import matplotlib.pyplot as plt\n",
    "from tqdm.notebook import tqdm\n",
    "from pathlib import Path\n",
    "import plotly.express as px"
   ]
  },
  {
   "cell_type": "code",
   "execution_count": 19,
   "metadata": {
    "ExecuteTime": {
     "end_time": "2021-06-25T22:12:03.627099Z",
     "start_time": "2021-06-25T22:12:03.603034Z"
    }
   },
   "outputs": [],
   "source": [
    "PATH = Path(\"../input/google-smartphone-decimeter-challenge\")"
   ]
  },
  {
   "cell_type": "code",
   "execution_count": 20,
   "metadata": {
    "ExecuteTime": {
     "end_time": "2021-06-25T22:12:04.231156Z",
     "start_time": "2021-06-25T22:12:03.629103Z"
    }
   },
   "outputs": [],
   "source": [
    "df_train = pd.read_pickle(str(PATH / \"gsdc_train.pkl.gzip\"))"
   ]
  },
  {
   "cell_type": "code",
   "execution_count": 21,
   "metadata": {
    "ExecuteTime": {
     "end_time": "2021-06-25T22:12:04.323029Z",
     "start_time": "2021-06-25T22:12:04.232793Z"
    }
   },
   "outputs": [
    {
     "name": "stdout",
     "output_type": "stream",
     "text": [
      "(131342, 110)\n"
     ]
    },
    {
     "data": {
      "text/html": [
       "<div>\n",
       "<style scoped>\n",
       "    .dataframe tbody tr th:only-of-type {\n",
       "        vertical-align: middle;\n",
       "    }\n",
       "\n",
       "    .dataframe tbody tr th {\n",
       "        vertical-align: top;\n",
       "    }\n",
       "\n",
       "    .dataframe thead th {\n",
       "        text-align: right;\n",
       "    }\n",
       "</style>\n",
       "<table border=\"1\" class=\"dataframe\">\n",
       "  <thead>\n",
       "    <tr style=\"text-align: right;\">\n",
       "      <th></th>\n",
       "      <th>collectionName</th>\n",
       "      <th>phoneName</th>\n",
       "      <th>millisSinceGpsEpoch</th>\n",
       "      <th>latDeg</th>\n",
       "      <th>lngDeg</th>\n",
       "      <th>heightAboveWgs84EllipsoidM</th>\n",
       "      <th>phone</th>\n",
       "      <th>timeSinceFirstFixSeconds</th>\n",
       "      <th>hDop</th>\n",
       "      <th>vDop</th>\n",
       "      <th>...</th>\n",
       "      <th>HasEphemerisData</th>\n",
       "      <th>BasebandCn0DbHz_y</th>\n",
       "      <th>utcTimeMillis_y</th>\n",
       "      <th>elapsedRealtimeNanos_y</th>\n",
       "      <th>UncalMagXMicroT</th>\n",
       "      <th>UncalMagYMicroT</th>\n",
       "      <th>UncalMagZMicroT</th>\n",
       "      <th>BiasXMicroT</th>\n",
       "      <th>BiasYMicroT</th>\n",
       "      <th>BiasZMicroT</th>\n",
       "    </tr>\n",
       "  </thead>\n",
       "  <tbody>\n",
       "    <tr>\n",
       "      <th>0</th>\n",
       "      <td>2020-05-14-US-MTV-1</td>\n",
       "      <td>Pixel4</td>\n",
       "      <td>1273529463442</td>\n",
       "      <td>37.423575</td>\n",
       "      <td>-122.094091</td>\n",
       "      <td>-34.06</td>\n",
       "      <td>2020-05-14-US-MTV-1_Pixel4</td>\n",
       "      <td>551.44</td>\n",
       "      <td>1.1</td>\n",
       "      <td>0.0</td>\n",
       "      <td>...</td>\n",
       "      <td>NaN</td>\n",
       "      <td>NaN</td>\n",
       "      <td>NaN</td>\n",
       "      <td>NaN</td>\n",
       "      <td>NaN</td>\n",
       "      <td>NaN</td>\n",
       "      <td>NaN</td>\n",
       "      <td>NaN</td>\n",
       "      <td>NaN</td>\n",
       "      <td>NaN</td>\n",
       "    </tr>\n",
       "    <tr>\n",
       "      <th>1</th>\n",
       "      <td>2020-05-14-US-MTV-1</td>\n",
       "      <td>Pixel4</td>\n",
       "      <td>1273529464442</td>\n",
       "      <td>37.423578</td>\n",
       "      <td>-122.094101</td>\n",
       "      <td>-33.29</td>\n",
       "      <td>2020-05-14-US-MTV-1_Pixel4</td>\n",
       "      <td>552.44</td>\n",
       "      <td>1.1</td>\n",
       "      <td>0.0</td>\n",
       "      <td>...</td>\n",
       "      <td>NaN</td>\n",
       "      <td>NaN</td>\n",
       "      <td>NaN</td>\n",
       "      <td>NaN</td>\n",
       "      <td>NaN</td>\n",
       "      <td>NaN</td>\n",
       "      <td>NaN</td>\n",
       "      <td>NaN</td>\n",
       "      <td>NaN</td>\n",
       "      <td>NaN</td>\n",
       "    </tr>\n",
       "    <tr>\n",
       "      <th>2</th>\n",
       "      <td>2020-05-14-US-MTV-1</td>\n",
       "      <td>Pixel4</td>\n",
       "      <td>1273529465442</td>\n",
       "      <td>37.423573</td>\n",
       "      <td>-122.094111</td>\n",
       "      <td>-30.99</td>\n",
       "      <td>2020-05-14-US-MTV-1_Pixel4</td>\n",
       "      <td>553.44</td>\n",
       "      <td>1.1</td>\n",
       "      <td>0.0</td>\n",
       "      <td>...</td>\n",
       "      <td>NaN</td>\n",
       "      <td>NaN</td>\n",
       "      <td>NaN</td>\n",
       "      <td>NaN</td>\n",
       "      <td>NaN</td>\n",
       "      <td>NaN</td>\n",
       "      <td>NaN</td>\n",
       "      <td>NaN</td>\n",
       "      <td>NaN</td>\n",
       "      <td>NaN</td>\n",
       "    </tr>\n",
       "    <tr>\n",
       "      <th>3</th>\n",
       "      <td>2020-05-14-US-MTV-1</td>\n",
       "      <td>Pixel4</td>\n",
       "      <td>1273529466442</td>\n",
       "      <td>37.423583</td>\n",
       "      <td>-122.094121</td>\n",
       "      <td>-32.83</td>\n",
       "      <td>2020-05-14-US-MTV-1_Pixel4</td>\n",
       "      <td>554.44</td>\n",
       "      <td>1.1</td>\n",
       "      <td>0.0</td>\n",
       "      <td>...</td>\n",
       "      <td>NaN</td>\n",
       "      <td>NaN</td>\n",
       "      <td>NaN</td>\n",
       "      <td>NaN</td>\n",
       "      <td>NaN</td>\n",
       "      <td>NaN</td>\n",
       "      <td>NaN</td>\n",
       "      <td>NaN</td>\n",
       "      <td>NaN</td>\n",
       "      <td>NaN</td>\n",
       "    </tr>\n",
       "    <tr>\n",
       "      <th>4</th>\n",
       "      <td>2020-05-14-US-MTV-1</td>\n",
       "      <td>Pixel4XLModded</td>\n",
       "      <td>1273529466449</td>\n",
       "      <td>37.423574</td>\n",
       "      <td>-122.094137</td>\n",
       "      <td>-33.20</td>\n",
       "      <td>2020-05-14-US-MTV-1_Pixel4XLModded</td>\n",
       "      <td>554.45</td>\n",
       "      <td>1.2</td>\n",
       "      <td>0.0</td>\n",
       "      <td>...</td>\n",
       "      <td>NaN</td>\n",
       "      <td>NaN</td>\n",
       "      <td>NaN</td>\n",
       "      <td>NaN</td>\n",
       "      <td>NaN</td>\n",
       "      <td>NaN</td>\n",
       "      <td>NaN</td>\n",
       "      <td>NaN</td>\n",
       "      <td>NaN</td>\n",
       "      <td>NaN</td>\n",
       "    </tr>\n",
       "  </tbody>\n",
       "</table>\n",
       "<p>5 rows × 110 columns</p>\n",
       "</div>"
      ],
      "text/plain": [
       "        collectionName       phoneName  millisSinceGpsEpoch     latDeg  \\\n",
       "0  2020-05-14-US-MTV-1          Pixel4        1273529463442  37.423575   \n",
       "1  2020-05-14-US-MTV-1          Pixel4        1273529464442  37.423578   \n",
       "2  2020-05-14-US-MTV-1          Pixel4        1273529465442  37.423573   \n",
       "3  2020-05-14-US-MTV-1          Pixel4        1273529466442  37.423583   \n",
       "4  2020-05-14-US-MTV-1  Pixel4XLModded        1273529466449  37.423574   \n",
       "\n",
       "       lngDeg  heightAboveWgs84EllipsoidM                               phone  \\\n",
       "0 -122.094091                      -34.06          2020-05-14-US-MTV-1_Pixel4   \n",
       "1 -122.094101                      -33.29          2020-05-14-US-MTV-1_Pixel4   \n",
       "2 -122.094111                      -30.99          2020-05-14-US-MTV-1_Pixel4   \n",
       "3 -122.094121                      -32.83          2020-05-14-US-MTV-1_Pixel4   \n",
       "4 -122.094137                      -33.20  2020-05-14-US-MTV-1_Pixel4XLModded   \n",
       "\n",
       "   timeSinceFirstFixSeconds  hDop  vDop  ...  HasEphemerisData  \\\n",
       "0                    551.44   1.1   0.0  ...               NaN   \n",
       "1                    552.44   1.1   0.0  ...               NaN   \n",
       "2                    553.44   1.1   0.0  ...               NaN   \n",
       "3                    554.44   1.1   0.0  ...               NaN   \n",
       "4                    554.45   1.2   0.0  ...               NaN   \n",
       "\n",
       "   BasebandCn0DbHz_y  utcTimeMillis_y  elapsedRealtimeNanos_y  \\\n",
       "0                NaN              NaN                     NaN   \n",
       "1                NaN              NaN                     NaN   \n",
       "2                NaN              NaN                     NaN   \n",
       "3                NaN              NaN                     NaN   \n",
       "4                NaN              NaN                     NaN   \n",
       "\n",
       "   UncalMagXMicroT  UncalMagYMicroT  UncalMagZMicroT BiasXMicroT  BiasYMicroT  \\\n",
       "0              NaN              NaN              NaN         NaN          NaN   \n",
       "1              NaN              NaN              NaN         NaN          NaN   \n",
       "2              NaN              NaN              NaN         NaN          NaN   \n",
       "3              NaN              NaN              NaN         NaN          NaN   \n",
       "4              NaN              NaN              NaN         NaN          NaN   \n",
       "\n",
       "   BiasZMicroT  \n",
       "0          NaN  \n",
       "1          NaN  \n",
       "2          NaN  \n",
       "3          NaN  \n",
       "4          NaN  \n",
       "\n",
       "[5 rows x 110 columns]"
      ]
     },
     "execution_count": 21,
     "metadata": {},
     "output_type": "execute_result"
    }
   ],
   "source": [
    "print(df_train.shape)\n",
    "df_train.head()"
   ]
  },
  {
   "cell_type": "code",
   "execution_count": 22,
   "metadata": {
    "ExecuteTime": {
     "end_time": "2021-06-25T22:12:04.398823Z",
     "start_time": "2021-06-25T22:12:04.325030Z"
    }
   },
   "outputs": [],
   "source": [
    "df_test = pd.read_pickle(str(PATH / \"gsdc_test.pkl.gzip\"))"
   ]
  },
  {
   "cell_type": "code",
   "execution_count": 23,
   "metadata": {
    "ExecuteTime": {
     "end_time": "2021-06-25T22:12:04.429466Z",
     "start_time": "2021-06-25T22:12:04.410465Z"
    }
   },
   "outputs": [
    {
     "name": "stdout",
     "output_type": "stream",
     "text": [
      "(91486, 110)\n"
     ]
    },
    {
     "data": {
      "text/html": [
       "<div>\n",
       "<style scoped>\n",
       "    .dataframe tbody tr th:only-of-type {\n",
       "        vertical-align: middle;\n",
       "    }\n",
       "\n",
       "    .dataframe tbody tr th {\n",
       "        vertical-align: top;\n",
       "    }\n",
       "\n",
       "    .dataframe thead th {\n",
       "        text-align: right;\n",
       "    }\n",
       "</style>\n",
       "<table border=\"1\" class=\"dataframe\">\n",
       "  <thead>\n",
       "    <tr style=\"text-align: right;\">\n",
       "      <th></th>\n",
       "      <th>collectionName</th>\n",
       "      <th>phoneName</th>\n",
       "      <th>millisSinceGpsEpoch</th>\n",
       "      <th>latDeg</th>\n",
       "      <th>lngDeg</th>\n",
       "      <th>heightAboveWgs84EllipsoidM</th>\n",
       "      <th>phone</th>\n",
       "      <th>timeSinceFirstFixSeconds</th>\n",
       "      <th>hDop</th>\n",
       "      <th>vDop</th>\n",
       "      <th>...</th>\n",
       "      <th>HasEphemerisData</th>\n",
       "      <th>BasebandCn0DbHz_y</th>\n",
       "      <th>utcTimeMillis_y</th>\n",
       "      <th>elapsedRealtimeNanos_y</th>\n",
       "      <th>UncalMagXMicroT</th>\n",
       "      <th>UncalMagYMicroT</th>\n",
       "      <th>UncalMagZMicroT</th>\n",
       "      <th>BiasXMicroT</th>\n",
       "      <th>BiasYMicroT</th>\n",
       "      <th>BiasZMicroT</th>\n",
       "    </tr>\n",
       "  </thead>\n",
       "  <tbody>\n",
       "    <tr>\n",
       "      <th>0</th>\n",
       "      <td>2020-05-15-US-MTV-1</td>\n",
       "      <td>Pixel4XL</td>\n",
       "      <td>1273608752446</td>\n",
       "      <td>37.416623</td>\n",
       "      <td>-122.082055</td>\n",
       "      <td>-24.21</td>\n",
       "      <td>2020-05-15-US-MTV-1_Pixel4XL</td>\n",
       "      <td>NaN</td>\n",
       "      <td>NaN</td>\n",
       "      <td>NaN</td>\n",
       "      <td>...</td>\n",
       "      <td>NaN</td>\n",
       "      <td>NaN</td>\n",
       "      <td>NaN</td>\n",
       "      <td>NaN</td>\n",
       "      <td>NaN</td>\n",
       "      <td>NaN</td>\n",
       "      <td>NaN</td>\n",
       "      <td>NaN</td>\n",
       "      <td>NaN</td>\n",
       "      <td>NaN</td>\n",
       "    </tr>\n",
       "    <tr>\n",
       "      <th>1</th>\n",
       "      <td>2020-05-15-US-MTV-1</td>\n",
       "      <td>Pixel4XL</td>\n",
       "      <td>1273608753446</td>\n",
       "      <td>37.416590</td>\n",
       "      <td>-122.082073</td>\n",
       "      <td>-29.97</td>\n",
       "      <td>2020-05-15-US-MTV-1_Pixel4XL</td>\n",
       "      <td>NaN</td>\n",
       "      <td>NaN</td>\n",
       "      <td>NaN</td>\n",
       "      <td>...</td>\n",
       "      <td>NaN</td>\n",
       "      <td>NaN</td>\n",
       "      <td>NaN</td>\n",
       "      <td>NaN</td>\n",
       "      <td>NaN</td>\n",
       "      <td>NaN</td>\n",
       "      <td>NaN</td>\n",
       "      <td>NaN</td>\n",
       "      <td>NaN</td>\n",
       "      <td>NaN</td>\n",
       "    </tr>\n",
       "    <tr>\n",
       "      <th>2</th>\n",
       "      <td>2020-05-15-US-MTV-1</td>\n",
       "      <td>Pixel4XL</td>\n",
       "      <td>1273608754446</td>\n",
       "      <td>37.416593</td>\n",
       "      <td>-122.082084</td>\n",
       "      <td>-29.85</td>\n",
       "      <td>2020-05-15-US-MTV-1_Pixel4XL</td>\n",
       "      <td>NaN</td>\n",
       "      <td>NaN</td>\n",
       "      <td>NaN</td>\n",
       "      <td>...</td>\n",
       "      <td>NaN</td>\n",
       "      <td>NaN</td>\n",
       "      <td>NaN</td>\n",
       "      <td>NaN</td>\n",
       "      <td>NaN</td>\n",
       "      <td>NaN</td>\n",
       "      <td>NaN</td>\n",
       "      <td>NaN</td>\n",
       "      <td>NaN</td>\n",
       "      <td>NaN</td>\n",
       "    </tr>\n",
       "    <tr>\n",
       "      <th>3</th>\n",
       "      <td>2020-05-15-US-MTV-1</td>\n",
       "      <td>Pixel4XL</td>\n",
       "      <td>1273608755446</td>\n",
       "      <td>37.416580</td>\n",
       "      <td>-122.082067</td>\n",
       "      <td>-28.53</td>\n",
       "      <td>2020-05-15-US-MTV-1_Pixel4XL</td>\n",
       "      <td>NaN</td>\n",
       "      <td>NaN</td>\n",
       "      <td>NaN</td>\n",
       "      <td>...</td>\n",
       "      <td>NaN</td>\n",
       "      <td>NaN</td>\n",
       "      <td>NaN</td>\n",
       "      <td>NaN</td>\n",
       "      <td>NaN</td>\n",
       "      <td>NaN</td>\n",
       "      <td>NaN</td>\n",
       "      <td>NaN</td>\n",
       "      <td>NaN</td>\n",
       "      <td>NaN</td>\n",
       "    </tr>\n",
       "    <tr>\n",
       "      <th>4</th>\n",
       "      <td>2020-05-15-US-MTV-1</td>\n",
       "      <td>Pixel4XL</td>\n",
       "      <td>1273608756446</td>\n",
       "      <td>37.416594</td>\n",
       "      <td>-122.082065</td>\n",
       "      <td>-27.70</td>\n",
       "      <td>2020-05-15-US-MTV-1_Pixel4XL</td>\n",
       "      <td>NaN</td>\n",
       "      <td>NaN</td>\n",
       "      <td>NaN</td>\n",
       "      <td>...</td>\n",
       "      <td>NaN</td>\n",
       "      <td>NaN</td>\n",
       "      <td>NaN</td>\n",
       "      <td>NaN</td>\n",
       "      <td>NaN</td>\n",
       "      <td>NaN</td>\n",
       "      <td>NaN</td>\n",
       "      <td>NaN</td>\n",
       "      <td>NaN</td>\n",
       "      <td>NaN</td>\n",
       "    </tr>\n",
       "  </tbody>\n",
       "</table>\n",
       "<p>5 rows × 110 columns</p>\n",
       "</div>"
      ],
      "text/plain": [
       "        collectionName phoneName  millisSinceGpsEpoch     latDeg      lngDeg  \\\n",
       "0  2020-05-15-US-MTV-1  Pixel4XL        1273608752446  37.416623 -122.082055   \n",
       "1  2020-05-15-US-MTV-1  Pixel4XL        1273608753446  37.416590 -122.082073   \n",
       "2  2020-05-15-US-MTV-1  Pixel4XL        1273608754446  37.416593 -122.082084   \n",
       "3  2020-05-15-US-MTV-1  Pixel4XL        1273608755446  37.416580 -122.082067   \n",
       "4  2020-05-15-US-MTV-1  Pixel4XL        1273608756446  37.416594 -122.082065   \n",
       "\n",
       "   heightAboveWgs84EllipsoidM                         phone  \\\n",
       "0                      -24.21  2020-05-15-US-MTV-1_Pixel4XL   \n",
       "1                      -29.97  2020-05-15-US-MTV-1_Pixel4XL   \n",
       "2                      -29.85  2020-05-15-US-MTV-1_Pixel4XL   \n",
       "3                      -28.53  2020-05-15-US-MTV-1_Pixel4XL   \n",
       "4                      -27.70  2020-05-15-US-MTV-1_Pixel4XL   \n",
       "\n",
       "   timeSinceFirstFixSeconds  hDop  vDop  ...  HasEphemerisData  \\\n",
       "0                       NaN   NaN   NaN  ...               NaN   \n",
       "1                       NaN   NaN   NaN  ...               NaN   \n",
       "2                       NaN   NaN   NaN  ...               NaN   \n",
       "3                       NaN   NaN   NaN  ...               NaN   \n",
       "4                       NaN   NaN   NaN  ...               NaN   \n",
       "\n",
       "   BasebandCn0DbHz_y  utcTimeMillis_y  elapsedRealtimeNanos_y  \\\n",
       "0                NaN              NaN                     NaN   \n",
       "1                NaN              NaN                     NaN   \n",
       "2                NaN              NaN                     NaN   \n",
       "3                NaN              NaN                     NaN   \n",
       "4                NaN              NaN                     NaN   \n",
       "\n",
       "   UncalMagXMicroT  UncalMagYMicroT  UncalMagZMicroT BiasXMicroT  BiasYMicroT  \\\n",
       "0              NaN              NaN              NaN         NaN          NaN   \n",
       "1              NaN              NaN              NaN         NaN          NaN   \n",
       "2              NaN              NaN              NaN         NaN          NaN   \n",
       "3              NaN              NaN              NaN         NaN          NaN   \n",
       "4              NaN              NaN              NaN         NaN          NaN   \n",
       "\n",
       "   BiasZMicroT  \n",
       "0          NaN  \n",
       "1          NaN  \n",
       "2          NaN  \n",
       "3          NaN  \n",
       "4          NaN  \n",
       "\n",
       "[5 rows x 110 columns]"
      ]
     },
     "execution_count": 23,
     "metadata": {},
     "output_type": "execute_result"
    }
   ],
   "source": [
    "print(df_test.shape)\n",
    "df_test.head()"
   ]
  },
  {
   "cell_type": "code",
   "execution_count": null,
   "metadata": {},
   "outputs": [],
   "source": []
  },
  {
   "cell_type": "code",
   "execution_count": null,
   "metadata": {},
   "outputs": [],
   "source": []
  }
 ],
 "metadata": {
  "hide_input": false,
  "kernelspec": {
   "display_name": "torch",
   "language": "python",
   "name": "torch"
  },
  "language_info": {
   "codemirror_mode": {
    "name": "ipython",
    "version": 3
   },
   "file_extension": ".py",
   "mimetype": "text/x-python",
   "name": "python",
   "nbconvert_exporter": "python",
   "pygments_lexer": "ipython3",
   "version": "3.6.12"
  },
  "latex_envs": {
   "LaTeX_envs_menu_present": true,
   "autoclose": false,
   "autocomplete": true,
   "bibliofile": "biblio.bib",
   "cite_by": "apalike",
   "current_citInitial": 1,
   "eqLabelWithNumbers": true,
   "eqNumInitial": 1,
   "hotkeys": {
    "equation": "Ctrl-E",
    "itemize": "Ctrl-I"
   },
   "labels_anchors": false,
   "latex_user_defs": false,
   "report_style_numbering": false,
   "user_envs_cfg": false
  },
  "toc": {
   "base_numbering": 1,
   "nav_menu": {},
   "number_sections": true,
   "sideBar": true,
   "skip_h1_title": false,
   "title_cell": "Table of Contents",
   "title_sidebar": "Contents",
   "toc_cell": false,
   "toc_position": {},
   "toc_section_display": true,
   "toc_window_display": false
  },
  "varInspector": {
   "cols": {
    "lenName": 16,
    "lenType": 16,
    "lenVar": 40
   },
   "kernels_config": {
    "python": {
     "delete_cmd_postfix": "",
     "delete_cmd_prefix": "del ",
     "library": "var_list.py",
     "varRefreshCmd": "print(var_dic_list())"
    },
    "r": {
     "delete_cmd_postfix": ") ",
     "delete_cmd_prefix": "rm(",
     "library": "var_list.r",
     "varRefreshCmd": "cat(var_dic_list()) "
    }
   },
   "types_to_exclude": [
    "module",
    "function",
    "builtin_function_or_method",
    "instance",
    "_Feature"
   ],
   "window_display": false
  }
 },
 "nbformat": 4,
 "nbformat_minor": 4
}
