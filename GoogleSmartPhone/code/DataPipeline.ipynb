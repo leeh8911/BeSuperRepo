{
 "cells": [
  {
   "cell_type": "markdown",
   "metadata": {},
   "source": [
    "# Reference\n",
    "1. https://www.kaggle.com/rohanrao/tutorial-on-reading-large-datasets"
   ]
  },
  {
   "cell_type": "markdown",
   "metadata": {},
   "source": [
    "# Import Libraries"
   ]
  },
  {
   "cell_type": "code",
   "execution_count": 150,
   "metadata": {
    "ExecuteTime": {
     "end_time": "2021-06-20T04:06:35.637584Z",
     "start_time": "2021-06-20T04:06:35.622102Z"
    }
   },
   "outputs": [],
   "source": [
    "import numpy as np\n",
    "import pandas as pd\n",
    "from glob import glob\n",
    "import os\n",
    "import matplotlib.pyplot as plt\n",
    "from tqdm.notebook import tqdm\n",
    "from pathlib import Path\n",
    "import plotly.express as px"
   ]
  },
  {
   "cell_type": "markdown",
   "metadata": {},
   "source": [
    "# Set Path and Load Dataset"
   ]
  },
  {
   "cell_type": "code",
   "execution_count": 151,
   "metadata": {
    "ExecuteTime": {
     "end_time": "2021-06-20T04:06:36.598863Z",
     "start_time": "2021-06-20T04:06:36.350864Z"
    }
   },
   "outputs": [],
   "source": [
    "PATH = Path(\"../input/google-smartphone-decimeter-challenge\")\n",
    "train_df = pd.read_csv(PATH / \"baseline_locations_train.csv\")\n",
    "test_df = pd.read_csv(PATH / \"baseline_locations_test.csv\")"
   ]
  },
  {
   "cell_type": "code",
   "execution_count": 152,
   "metadata": {
    "ExecuteTime": {
     "end_time": "2021-06-20T04:06:37.063853Z",
     "start_time": "2021-06-20T04:06:37.049853Z"
    }
   },
   "outputs": [
    {
     "name": "stdout",
     "output_type": "stream",
     "text": [
      "(131342, 7)\n"
     ]
    },
    {
     "data": {
      "text/html": [
       "<div>\n",
       "<style scoped>\n",
       "    .dataframe tbody tr th:only-of-type {\n",
       "        vertical-align: middle;\n",
       "    }\n",
       "\n",
       "    .dataframe tbody tr th {\n",
       "        vertical-align: top;\n",
       "    }\n",
       "\n",
       "    .dataframe thead th {\n",
       "        text-align: right;\n",
       "    }\n",
       "</style>\n",
       "<table border=\"1\" class=\"dataframe\">\n",
       "  <thead>\n",
       "    <tr style=\"text-align: right;\">\n",
       "      <th></th>\n",
       "      <th>collectionName</th>\n",
       "      <th>phoneName</th>\n",
       "      <th>millisSinceGpsEpoch</th>\n",
       "      <th>latDeg</th>\n",
       "      <th>lngDeg</th>\n",
       "      <th>heightAboveWgs84EllipsoidM</th>\n",
       "      <th>phone</th>\n",
       "    </tr>\n",
       "  </thead>\n",
       "  <tbody>\n",
       "    <tr>\n",
       "      <th>0</th>\n",
       "      <td>2020-05-14-US-MTV-1</td>\n",
       "      <td>Pixel4</td>\n",
       "      <td>1273529463442</td>\n",
       "      <td>37.423575</td>\n",
       "      <td>-122.094091</td>\n",
       "      <td>-34.06</td>\n",
       "      <td>2020-05-14-US-MTV-1_Pixel4</td>\n",
       "    </tr>\n",
       "    <tr>\n",
       "      <th>1</th>\n",
       "      <td>2020-05-14-US-MTV-1</td>\n",
       "      <td>Pixel4</td>\n",
       "      <td>1273529464442</td>\n",
       "      <td>37.423578</td>\n",
       "      <td>-122.094101</td>\n",
       "      <td>-33.29</td>\n",
       "      <td>2020-05-14-US-MTV-1_Pixel4</td>\n",
       "    </tr>\n",
       "    <tr>\n",
       "      <th>2</th>\n",
       "      <td>2020-05-14-US-MTV-1</td>\n",
       "      <td>Pixel4</td>\n",
       "      <td>1273529465442</td>\n",
       "      <td>37.423573</td>\n",
       "      <td>-122.094111</td>\n",
       "      <td>-30.99</td>\n",
       "      <td>2020-05-14-US-MTV-1_Pixel4</td>\n",
       "    </tr>\n",
       "    <tr>\n",
       "      <th>3</th>\n",
       "      <td>2020-05-14-US-MTV-1</td>\n",
       "      <td>Pixel4</td>\n",
       "      <td>1273529466442</td>\n",
       "      <td>37.423583</td>\n",
       "      <td>-122.094121</td>\n",
       "      <td>-32.83</td>\n",
       "      <td>2020-05-14-US-MTV-1_Pixel4</td>\n",
       "    </tr>\n",
       "    <tr>\n",
       "      <th>4</th>\n",
       "      <td>2020-05-14-US-MTV-1</td>\n",
       "      <td>Pixel4</td>\n",
       "      <td>1273529467442</td>\n",
       "      <td>37.423579</td>\n",
       "      <td>-122.094114</td>\n",
       "      <td>-34.49</td>\n",
       "      <td>2020-05-14-US-MTV-1_Pixel4</td>\n",
       "    </tr>\n",
       "  </tbody>\n",
       "</table>\n",
       "</div>"
      ],
      "text/plain": [
       "        collectionName phoneName  millisSinceGpsEpoch     latDeg      lngDeg  \\\n",
       "0  2020-05-14-US-MTV-1    Pixel4        1273529463442  37.423575 -122.094091   \n",
       "1  2020-05-14-US-MTV-1    Pixel4        1273529464442  37.423578 -122.094101   \n",
       "2  2020-05-14-US-MTV-1    Pixel4        1273529465442  37.423573 -122.094111   \n",
       "3  2020-05-14-US-MTV-1    Pixel4        1273529466442  37.423583 -122.094121   \n",
       "4  2020-05-14-US-MTV-1    Pixel4        1273529467442  37.423579 -122.094114   \n",
       "\n",
       "   heightAboveWgs84EllipsoidM                       phone  \n",
       "0                      -34.06  2020-05-14-US-MTV-1_Pixel4  \n",
       "1                      -33.29  2020-05-14-US-MTV-1_Pixel4  \n",
       "2                      -30.99  2020-05-14-US-MTV-1_Pixel4  \n",
       "3                      -32.83  2020-05-14-US-MTV-1_Pixel4  \n",
       "4                      -34.49  2020-05-14-US-MTV-1_Pixel4  "
      ]
     },
     "execution_count": 152,
     "metadata": {},
     "output_type": "execute_result"
    }
   ],
   "source": [
    "print(train_df.shape)\n",
    "train_df.head()"
   ]
  },
  {
   "cell_type": "code",
   "execution_count": 153,
   "metadata": {
    "ExecuteTime": {
     "end_time": "2021-06-20T04:06:37.528852Z",
     "start_time": "2021-06-20T04:06:37.514853Z"
    }
   },
   "outputs": [
    {
     "name": "stdout",
     "output_type": "stream",
     "text": [
      "(91486, 7)\n"
     ]
    },
    {
     "data": {
      "text/html": [
       "<div>\n",
       "<style scoped>\n",
       "    .dataframe tbody tr th:only-of-type {\n",
       "        vertical-align: middle;\n",
       "    }\n",
       "\n",
       "    .dataframe tbody tr th {\n",
       "        vertical-align: top;\n",
       "    }\n",
       "\n",
       "    .dataframe thead th {\n",
       "        text-align: right;\n",
       "    }\n",
       "</style>\n",
       "<table border=\"1\" class=\"dataframe\">\n",
       "  <thead>\n",
       "    <tr style=\"text-align: right;\">\n",
       "      <th></th>\n",
       "      <th>collectionName</th>\n",
       "      <th>phoneName</th>\n",
       "      <th>millisSinceGpsEpoch</th>\n",
       "      <th>latDeg</th>\n",
       "      <th>lngDeg</th>\n",
       "      <th>heightAboveWgs84EllipsoidM</th>\n",
       "      <th>phone</th>\n",
       "    </tr>\n",
       "  </thead>\n",
       "  <tbody>\n",
       "    <tr>\n",
       "      <th>0</th>\n",
       "      <td>2020-05-15-US-MTV-1</td>\n",
       "      <td>Pixel4</td>\n",
       "      <td>1273608785432</td>\n",
       "      <td>37.416628</td>\n",
       "      <td>-122.082053</td>\n",
       "      <td>-30.69</td>\n",
       "      <td>2020-05-15-US-MTV-1_Pixel4</td>\n",
       "    </tr>\n",
       "    <tr>\n",
       "      <th>1</th>\n",
       "      <td>2020-05-15-US-MTV-1</td>\n",
       "      <td>Pixel4</td>\n",
       "      <td>1273608786432</td>\n",
       "      <td>37.416646</td>\n",
       "      <td>-122.082040</td>\n",
       "      <td>-31.76</td>\n",
       "      <td>2020-05-15-US-MTV-1_Pixel4</td>\n",
       "    </tr>\n",
       "    <tr>\n",
       "      <th>2</th>\n",
       "      <td>2020-05-15-US-MTV-1</td>\n",
       "      <td>Pixel4</td>\n",
       "      <td>1273608787432</td>\n",
       "      <td>37.416653</td>\n",
       "      <td>-122.082039</td>\n",
       "      <td>-31.65</td>\n",
       "      <td>2020-05-15-US-MTV-1_Pixel4</td>\n",
       "    </tr>\n",
       "    <tr>\n",
       "      <th>3</th>\n",
       "      <td>2020-05-15-US-MTV-1</td>\n",
       "      <td>Pixel4</td>\n",
       "      <td>1273608788432</td>\n",
       "      <td>37.416607</td>\n",
       "      <td>-122.082063</td>\n",
       "      <td>-31.52</td>\n",
       "      <td>2020-05-15-US-MTV-1_Pixel4</td>\n",
       "    </tr>\n",
       "    <tr>\n",
       "      <th>4</th>\n",
       "      <td>2020-05-15-US-MTV-1</td>\n",
       "      <td>Pixel4</td>\n",
       "      <td>1273608789432</td>\n",
       "      <td>37.416609</td>\n",
       "      <td>-122.082073</td>\n",
       "      <td>-28.95</td>\n",
       "      <td>2020-05-15-US-MTV-1_Pixel4</td>\n",
       "    </tr>\n",
       "  </tbody>\n",
       "</table>\n",
       "</div>"
      ],
      "text/plain": [
       "        collectionName phoneName  millisSinceGpsEpoch     latDeg      lngDeg  \\\n",
       "0  2020-05-15-US-MTV-1    Pixel4        1273608785432  37.416628 -122.082053   \n",
       "1  2020-05-15-US-MTV-1    Pixel4        1273608786432  37.416646 -122.082040   \n",
       "2  2020-05-15-US-MTV-1    Pixel4        1273608787432  37.416653 -122.082039   \n",
       "3  2020-05-15-US-MTV-1    Pixel4        1273608788432  37.416607 -122.082063   \n",
       "4  2020-05-15-US-MTV-1    Pixel4        1273608789432  37.416609 -122.082073   \n",
       "\n",
       "   heightAboveWgs84EllipsoidM                       phone  \n",
       "0                      -30.69  2020-05-15-US-MTV-1_Pixel4  \n",
       "1                      -31.76  2020-05-15-US-MTV-1_Pixel4  \n",
       "2                      -31.65  2020-05-15-US-MTV-1_Pixel4  \n",
       "3                      -31.52  2020-05-15-US-MTV-1_Pixel4  \n",
       "4                      -28.95  2020-05-15-US-MTV-1_Pixel4  "
      ]
     },
     "execution_count": 153,
     "metadata": {},
     "output_type": "execute_result"
    }
   ],
   "source": [
    "print(test_df.shape)\n",
    "test_df.head()"
   ]
  },
  {
   "cell_type": "markdown",
   "metadata": {},
   "source": [
    "# Define Loading GnssLog.txt file Function"
   ]
  },
  {
   "cell_type": "code",
   "execution_count": 135,
   "metadata": {
    "ExecuteTime": {
     "end_time": "2021-06-20T03:08:37.774226Z",
     "start_time": "2021-06-20T03:08:37.760226Z"
    }
   },
   "outputs": [],
   "source": [
    "def gnss_log_to_dataframes(path):\n",
    "    gnss_section_names = {'Raw','UncalAccel', 'UncalGyro', 'UncalMag', 'Fix', 'Status', 'OrientationDeg'}\n",
    "    with open(path) as f_open:\n",
    "        datalines = f_open.readlines()\n",
    "\n",
    "    datas = {k: [] for k in gnss_section_names}\n",
    "    gnss_map = {k: [] for k in gnss_section_names}\n",
    "    for dataline in datalines:\n",
    "        is_header = dataline.startswith('#')\n",
    "        dataline = dataline.strip('#').strip().split(',')\n",
    "        # skip over notes, version numbers, etc\n",
    "        if is_header and dataline[0] in gnss_section_names:\n",
    "            try:\n",
    "                gnss_map[dataline[0]] = dataline[1:]\n",
    "            except:\n",
    "                pass\n",
    "        elif not is_header:\n",
    "            try:\n",
    "                datas[dataline[0]].append(dataline[1:])\n",
    "            except:\n",
    "                pass\n",
    "    results = dict()\n",
    "    for k, v in datas.items():\n",
    "        results[k] = pd.DataFrame(v, columns=gnss_map[k])\n",
    "    # pandas doesn't properly infer types from these lists by default\n",
    "    for k, df in results.items():\n",
    "        for col in df.columns:\n",
    "            if col == 'CodeType':\n",
    "                continue\n",
    "            try:\n",
    "                results[k][col] = pd.to_numeric(results[k][col])\n",
    "            except:\n",
    "                pass\n",
    "    return results"
   ]
  },
  {
   "cell_type": "markdown",
   "metadata": {},
   "source": [
    "# Load All Data Function"
   ]
  },
  {
   "cell_type": "code",
   "execution_count": 139,
   "metadata": {
    "ExecuteTime": {
     "end_time": "2021-06-20T03:09:32.591208Z",
     "start_time": "2021-06-20T03:09:32.568218Z"
    }
   },
   "outputs": [],
   "source": [
    "def get_addtional_data(df : pd.DataFrame, path: Path, train = True):\n",
    "    gnss_section_names = {'Raw','UncalAccel', 'UncalGyro', 'UncalMag', 'Fix', 'Status', 'OrientationDeg'}\n",
    "    section_names = {'GroundTruth', 'Derived', 'Raw','UncalAccel', 'UncalGyro', 'UncalMag', 'Fix', 'Status', 'OrientationDeg'}\n",
    "    _columns = ['latDeg', 'lngDeg', 'heightAboveWgs84EllipsoidM']\n",
    "\n",
    "    output = dict()\n",
    "    for section in section_names:\n",
    "        output[section] = pd.DataFrame()\n",
    "\n",
    "    if train:\n",
    "        start_path = \"train\"\n",
    "    else:\n",
    "        start_path = \"test\"\n",
    "        \n",
    "    for path in tqdm(glob(str(PATH / start_path / \"*/*/*\"))):\n",
    "        print(path)\n",
    "        (collectionName, phoneName) = path.split(\"\\\\\")[-3:-1]\n",
    "        \n",
    "        file_name = path.split(\"\\\\\")[-1]\n",
    "        \n",
    "        if(file_name.find('ground_truth') >= 0): # get ground truth data\n",
    "            _df = pd.read_csv(path)    \n",
    "            _df[['t_'+col for col in _columns]] = _df[_columns]\n",
    "            _df = _df.drop(columns=_columns)\n",
    "            output['GroundTruth'] = pd.concat([output['GroundTruth'], _df])\n",
    "            \n",
    "        elif(file_name.find('derived.csv') >= 0): # get derived data\n",
    "            _df = pd.read_csv(path)\n",
    "            output['Derived'] = pd.concat([output['Derived'], _df])\n",
    "            \n",
    "        elif(file_name.find('GnssLog.txt') >= 0): # get gnss log data (it is dict)\n",
    "            _dict = gnss_log_to_dataframes(path)\n",
    "            for key, value in _dict.items():\n",
    "                if value.shape[0] == 0: # empty log bypass\n",
    "                    continue\n",
    "                    \n",
    "                # Addtional meta data for merging original data frame\n",
    "                value['collectionName'] = collectionName \n",
    "                value['phoneName'] = phoneName\n",
    "                if (key == \"Status\") or (key == \"Fix\"):  \n",
    "                    value.rename(columns = {'UnixTimeMillis':'utcTimeMillis'}, inplace = True)\n",
    "                value[\"millisSinceGpsEpoch\"] = value[\"utcTimeMillis\"] - 315964800000\n",
    "                \n",
    "                output[key] = pd.concat([output[key], value])\n",
    "\n",
    "    for key, value in output.items():\n",
    "        if value.shape[0] == 0:\n",
    "            continue\n",
    "        df = pd.merge_asof(df.sort_values('millisSinceGpsEpoch'), \n",
    "              value.sort_values('millisSinceGpsEpoch'), \n",
    "              on=\"millisSinceGpsEpoch\", by=[\"collectionName\", \"phoneName\"], \n",
    "              direction='nearest',tolerance=100000)\n",
    "        \n",
    "    return df\n",
    "    \n",
    "                \n",
    "    \n",
    "    "
   ]
  },
  {
   "cell_type": "markdown",
   "metadata": {},
   "source": [
    "# Save To Pickle File"
   ]
  },
  {
   "cell_type": "code",
   "execution_count": 140,
   "metadata": {
    "ExecuteTime": {
     "end_time": "2021-06-20T03:24:23.380264Z",
     "start_time": "2021-06-20T03:09:32.862210Z"
    },
    "scrolled": true
   },
   "outputs": [
    {
     "data": {
      "application/vnd.jupyter.widget-view+json": {
       "model_id": "aa1b7833978244e29a62a1375fd0f7b8",
       "version_major": 2,
       "version_minor": 0
      },
      "text/plain": [
       "  0%|          | 0/292 [00:00<?, ?it/s]"
      ]
     },
     "metadata": {},
     "output_type": "display_data"
    }
   ],
   "source": [
    "output = get_addtional_data(train_df, PATH, train = True)\n",
    "\n",
    "output.to_pickle(str(PATH / \"gsdc_train.pkl.gzip\"))"
   ]
  },
  {
   "cell_type": "code",
   "execution_count": 141,
   "metadata": {
    "ExecuteTime": {
     "end_time": "2021-06-20T03:34:10.000606Z",
     "start_time": "2021-06-20T03:24:23.861202Z"
    },
    "scrolled": true
   },
   "outputs": [
    {
     "data": {
      "application/vnd.jupyter.widget-view+json": {
       "model_id": "e90683d4a00e48198233700e547c2f84",
       "version_major": 2,
       "version_minor": 0
      },
      "text/plain": [
       "  0%|          | 0/145 [00:00<?, ?it/s]"
      ]
     },
     "metadata": {},
     "output_type": "display_data"
    }
   ],
   "source": [
    "output = get_addtional_data(test_df, PATH, train = False)\n",
    "\n",
    "output.to_pickle(str(PATH / \"gsdc_test.pkl.gzip\"))"
   ]
  },
  {
   "cell_type": "code",
   "execution_count": 142,
   "metadata": {
    "ExecuteTime": {
     "end_time": "2021-06-20T04:04:33.924349Z",
     "start_time": "2021-06-20T04:04:33.619159Z"
    }
   },
   "outputs": [
    {
     "name": "stdout",
     "output_type": "stream",
     "text": [
      "\f",
      "\n"
     ]
    }
   ],
   "source": [
    "%clear"
   ]
  },
  {
   "cell_type": "markdown",
   "metadata": {},
   "source": [
    "# Load Pickle File"
   ]
  },
  {
   "cell_type": "code",
   "execution_count": 143,
   "metadata": {
    "ExecuteTime": {
     "end_time": "2021-06-20T04:05:47.669772Z",
     "start_time": "2021-06-20T04:05:47.655773Z"
    }
   },
   "outputs": [],
   "source": [
    "import numpy as np\n",
    "import pandas as pd\n",
    "from glob import glob\n",
    "import os\n",
    "import matplotlib.pyplot as plt\n",
    "from tqdm.notebook import tqdm\n",
    "from pathlib import Path\n",
    "import plotly.express as px"
   ]
  },
  {
   "cell_type": "code",
   "execution_count": 144,
   "metadata": {
    "ExecuteTime": {
     "end_time": "2021-06-20T04:05:47.954765Z",
     "start_time": "2021-06-20T04:05:47.940762Z"
    }
   },
   "outputs": [],
   "source": [
    "PATH = Path(\"../input/google-smartphone-decimeter-challenge\")"
   ]
  },
  {
   "cell_type": "code",
   "execution_count": 145,
   "metadata": {
    "ExecuteTime": {
     "end_time": "2021-06-20T04:05:48.871715Z",
     "start_time": "2021-06-20T04:05:48.226762Z"
    }
   },
   "outputs": [],
   "source": [
    "df_train = pd.read_pickle(str(PATH / \"gsdc_train.pkl.gzip\"))"
   ]
  },
  {
   "cell_type": "code",
   "execution_count": 147,
   "metadata": {
    "ExecuteTime": {
     "end_time": "2021-06-20T04:06:00.966203Z",
     "start_time": "2021-06-20T04:06:00.942202Z"
    }
   },
   "outputs": [
    {
     "name": "stdout",
     "output_type": "stream",
     "text": [
      "(131342, 110)\n"
     ]
    },
    {
     "data": {
      "text/html": [
       "<div>\n",
       "<style scoped>\n",
       "    .dataframe tbody tr th:only-of-type {\n",
       "        vertical-align: middle;\n",
       "    }\n",
       "\n",
       "    .dataframe tbody tr th {\n",
       "        vertical-align: top;\n",
       "    }\n",
       "\n",
       "    .dataframe thead th {\n",
       "        text-align: right;\n",
       "    }\n",
       "</style>\n",
       "<table border=\"1\" class=\"dataframe\">\n",
       "  <thead>\n",
       "    <tr style=\"text-align: right;\">\n",
       "      <th></th>\n",
       "      <th>collectionName</th>\n",
       "      <th>phoneName</th>\n",
       "      <th>millisSinceGpsEpoch</th>\n",
       "      <th>latDeg</th>\n",
       "      <th>lngDeg</th>\n",
       "      <th>heightAboveWgs84EllipsoidM</th>\n",
       "      <th>phone</th>\n",
       "      <th>utcTimeMillis_x</th>\n",
       "      <th>elapsedRealtimeNanos_x</th>\n",
       "      <th>UncalGyroXRadPerSec</th>\n",
       "      <th>...</th>\n",
       "      <th>xSatVelMps</th>\n",
       "      <th>ySatVelMps</th>\n",
       "      <th>zSatVelMps</th>\n",
       "      <th>satClkBiasM</th>\n",
       "      <th>satClkDriftMps</th>\n",
       "      <th>rawPrM</th>\n",
       "      <th>rawPrUncM</th>\n",
       "      <th>isrbM</th>\n",
       "      <th>ionoDelayM</th>\n",
       "      <th>tropoDelayM</th>\n",
       "    </tr>\n",
       "  </thead>\n",
       "  <tbody>\n",
       "    <tr>\n",
       "      <th>0</th>\n",
       "      <td>2020-05-14-US-MTV-1</td>\n",
       "      <td>Pixel4</td>\n",
       "      <td>1273529463442</td>\n",
       "      <td>37.423575</td>\n",
       "      <td>-122.094091</td>\n",
       "      <td>-34.06</td>\n",
       "      <td>2020-05-14-US-MTV-1_Pixel4</td>\n",
       "      <td>1.589494e+12</td>\n",
       "      <td>1.965654e+13</td>\n",
       "      <td>-0.000502</td>\n",
       "      <td>...</td>\n",
       "      <td>-325.826</td>\n",
       "      <td>156.040</td>\n",
       "      <td>3559.757</td>\n",
       "      <td>-468.084</td>\n",
       "      <td>0.001</td>\n",
       "      <td>2.379498e+07</td>\n",
       "      <td>11.992</td>\n",
       "      <td>1134.758</td>\n",
       "      <td>10.866</td>\n",
       "      <td>16.647</td>\n",
       "    </tr>\n",
       "    <tr>\n",
       "      <th>1</th>\n",
       "      <td>2020-05-14-US-MTV-1</td>\n",
       "      <td>Pixel4</td>\n",
       "      <td>1273529464442</td>\n",
       "      <td>37.423578</td>\n",
       "      <td>-122.094101</td>\n",
       "      <td>-33.29</td>\n",
       "      <td>2020-05-14-US-MTV-1_Pixel4</td>\n",
       "      <td>1.589494e+12</td>\n",
       "      <td>1.965754e+13</td>\n",
       "      <td>-0.003537</td>\n",
       "      <td>...</td>\n",
       "      <td>-28.481</td>\n",
       "      <td>411.162</td>\n",
       "      <td>-3013.649</td>\n",
       "      <td>65954.431</td>\n",
       "      <td>-0.002</td>\n",
       "      <td>2.592442e+07</td>\n",
       "      <td>3.897</td>\n",
       "      <td>-222.675</td>\n",
       "      <td>7.111</td>\n",
       "      <td>5.174</td>\n",
       "    </tr>\n",
       "    <tr>\n",
       "      <th>2</th>\n",
       "      <td>2020-05-14-US-MTV-1</td>\n",
       "      <td>Pixel4</td>\n",
       "      <td>1273529465442</td>\n",
       "      <td>37.423573</td>\n",
       "      <td>-122.094111</td>\n",
       "      <td>-30.99</td>\n",
       "      <td>2020-05-14-US-MTV-1_Pixel4</td>\n",
       "      <td>1.589494e+12</td>\n",
       "      <td>1.965854e+13</td>\n",
       "      <td>0.002028</td>\n",
       "      <td>...</td>\n",
       "      <td>145.957</td>\n",
       "      <td>-2776.605</td>\n",
       "      <td>-434.445</td>\n",
       "      <td>1223.261</td>\n",
       "      <td>0.000</td>\n",
       "      <td>2.131445e+07</td>\n",
       "      <td>1.499</td>\n",
       "      <td>0.000</td>\n",
       "      <td>4.777</td>\n",
       "      <td>3.371</td>\n",
       "    </tr>\n",
       "    <tr>\n",
       "      <th>3</th>\n",
       "      <td>2020-05-14-US-MTV-1</td>\n",
       "      <td>Pixel4</td>\n",
       "      <td>1273529466442</td>\n",
       "      <td>37.423583</td>\n",
       "      <td>-122.094121</td>\n",
       "      <td>-32.83</td>\n",
       "      <td>2020-05-14-US-MTV-1_Pixel4</td>\n",
       "      <td>1.589494e+12</td>\n",
       "      <td>1.965954e+13</td>\n",
       "      <td>-0.015753</td>\n",
       "      <td>...</td>\n",
       "      <td>-28.279</td>\n",
       "      <td>411.755</td>\n",
       "      <td>-3013.528</td>\n",
       "      <td>65954.426</td>\n",
       "      <td>-0.002</td>\n",
       "      <td>2.592544e+07</td>\n",
       "      <td>3.598</td>\n",
       "      <td>-220.611</td>\n",
       "      <td>7.113</td>\n",
       "      <td>5.183</td>\n",
       "    </tr>\n",
       "    <tr>\n",
       "      <th>4</th>\n",
       "      <td>2020-05-14-US-MTV-1</td>\n",
       "      <td>Pixel4XLModded</td>\n",
       "      <td>1273529466449</td>\n",
       "      <td>37.423574</td>\n",
       "      <td>-122.094137</td>\n",
       "      <td>-33.20</td>\n",
       "      <td>2020-05-14-US-MTV-1_Pixel4XLModded</td>\n",
       "      <td>1.589494e+12</td>\n",
       "      <td>1.734189e+13</td>\n",
       "      <td>0.875268</td>\n",
       "      <td>...</td>\n",
       "      <td>514.269</td>\n",
       "      <td>-81.334</td>\n",
       "      <td>-3057.885</td>\n",
       "      <td>-3909.257</td>\n",
       "      <td>0.001</td>\n",
       "      <td>2.318871e+07</td>\n",
       "      <td>10.493</td>\n",
       "      <td>0.000</td>\n",
       "      <td>7.313</td>\n",
       "      <td>5.311</td>\n",
       "    </tr>\n",
       "  </tbody>\n",
       "</table>\n",
       "<p>5 rows × 110 columns</p>\n",
       "</div>"
      ],
      "text/plain": [
       "        collectionName       phoneName  millisSinceGpsEpoch     latDeg  \\\n",
       "0  2020-05-14-US-MTV-1          Pixel4        1273529463442  37.423575   \n",
       "1  2020-05-14-US-MTV-1          Pixel4        1273529464442  37.423578   \n",
       "2  2020-05-14-US-MTV-1          Pixel4        1273529465442  37.423573   \n",
       "3  2020-05-14-US-MTV-1          Pixel4        1273529466442  37.423583   \n",
       "4  2020-05-14-US-MTV-1  Pixel4XLModded        1273529466449  37.423574   \n",
       "\n",
       "       lngDeg  heightAboveWgs84EllipsoidM                               phone  \\\n",
       "0 -122.094091                      -34.06          2020-05-14-US-MTV-1_Pixel4   \n",
       "1 -122.094101                      -33.29          2020-05-14-US-MTV-1_Pixel4   \n",
       "2 -122.094111                      -30.99          2020-05-14-US-MTV-1_Pixel4   \n",
       "3 -122.094121                      -32.83          2020-05-14-US-MTV-1_Pixel4   \n",
       "4 -122.094137                      -33.20  2020-05-14-US-MTV-1_Pixel4XLModded   \n",
       "\n",
       "   utcTimeMillis_x  elapsedRealtimeNanos_x  UncalGyroXRadPerSec  ...  \\\n",
       "0     1.589494e+12            1.965654e+13            -0.000502  ...   \n",
       "1     1.589494e+12            1.965754e+13            -0.003537  ...   \n",
       "2     1.589494e+12            1.965854e+13             0.002028  ...   \n",
       "3     1.589494e+12            1.965954e+13            -0.015753  ...   \n",
       "4     1.589494e+12            1.734189e+13             0.875268  ...   \n",
       "\n",
       "   xSatVelMps  ySatVelMps  zSatVelMps  satClkBiasM  satClkDriftMps  \\\n",
       "0    -325.826     156.040    3559.757     -468.084           0.001   \n",
       "1     -28.481     411.162   -3013.649    65954.431          -0.002   \n",
       "2     145.957   -2776.605    -434.445     1223.261           0.000   \n",
       "3     -28.279     411.755   -3013.528    65954.426          -0.002   \n",
       "4     514.269     -81.334   -3057.885    -3909.257           0.001   \n",
       "\n",
       "         rawPrM  rawPrUncM     isrbM  ionoDelayM  tropoDelayM  \n",
       "0  2.379498e+07     11.992  1134.758      10.866       16.647  \n",
       "1  2.592442e+07      3.897  -222.675       7.111        5.174  \n",
       "2  2.131445e+07      1.499     0.000       4.777        3.371  \n",
       "3  2.592544e+07      3.598  -220.611       7.113        5.183  \n",
       "4  2.318871e+07     10.493     0.000       7.313        5.311  \n",
       "\n",
       "[5 rows x 110 columns]"
      ]
     },
     "execution_count": 147,
     "metadata": {},
     "output_type": "execute_result"
    }
   ],
   "source": [
    "print(df_train.shape)\n",
    "df_train.head()"
   ]
  },
  {
   "cell_type": "code",
   "execution_count": 148,
   "metadata": {
    "ExecuteTime": {
     "end_time": "2021-06-20T04:06:06.621771Z",
     "start_time": "2021-06-20T04:06:06.534773Z"
    }
   },
   "outputs": [],
   "source": [
    "df_test = pd.read_pickle(str(PATH / \"gsdc_test.pkl.gzip\"))"
   ]
  },
  {
   "cell_type": "code",
   "execution_count": 149,
   "metadata": {
    "ExecuteTime": {
     "end_time": "2021-06-20T04:06:07.101773Z",
     "start_time": "2021-06-20T04:06:07.072772Z"
    }
   },
   "outputs": [
    {
     "name": "stdout",
     "output_type": "stream",
     "text": [
      "(91486, 102)\n"
     ]
    },
    {
     "data": {
      "text/html": [
       "<div>\n",
       "<style scoped>\n",
       "    .dataframe tbody tr th:only-of-type {\n",
       "        vertical-align: middle;\n",
       "    }\n",
       "\n",
       "    .dataframe tbody tr th {\n",
       "        vertical-align: top;\n",
       "    }\n",
       "\n",
       "    .dataframe thead th {\n",
       "        text-align: right;\n",
       "    }\n",
       "</style>\n",
       "<table border=\"1\" class=\"dataframe\">\n",
       "  <thead>\n",
       "    <tr style=\"text-align: right;\">\n",
       "      <th></th>\n",
       "      <th>collectionName</th>\n",
       "      <th>phoneName</th>\n",
       "      <th>millisSinceGpsEpoch</th>\n",
       "      <th>latDeg</th>\n",
       "      <th>lngDeg</th>\n",
       "      <th>heightAboveWgs84EllipsoidM</th>\n",
       "      <th>phone</th>\n",
       "      <th>utcTimeMillis_x</th>\n",
       "      <th>elapsedRealtimeNanos_x</th>\n",
       "      <th>UncalGyroXRadPerSec</th>\n",
       "      <th>...</th>\n",
       "      <th>xSatVelMps</th>\n",
       "      <th>ySatVelMps</th>\n",
       "      <th>zSatVelMps</th>\n",
       "      <th>satClkBiasM</th>\n",
       "      <th>satClkDriftMps</th>\n",
       "      <th>rawPrM</th>\n",
       "      <th>rawPrUncM</th>\n",
       "      <th>isrbM</th>\n",
       "      <th>ionoDelayM</th>\n",
       "      <th>tropoDelayM</th>\n",
       "    </tr>\n",
       "  </thead>\n",
       "  <tbody>\n",
       "    <tr>\n",
       "      <th>0</th>\n",
       "      <td>2020-05-15-US-MTV-1</td>\n",
       "      <td>Pixel4XL</td>\n",
       "      <td>1273608752446</td>\n",
       "      <td>37.416623</td>\n",
       "      <td>-122.082055</td>\n",
       "      <td>-24.21</td>\n",
       "      <td>2020-05-15-US-MTV-1_Pixel4XL</td>\n",
       "      <td>1.589574e+12</td>\n",
       "      <td>8.826378e+12</td>\n",
       "      <td>-0.005630</td>\n",
       "      <td>...</td>\n",
       "      <td>292.938</td>\n",
       "      <td>-62.944</td>\n",
       "      <td>3162.107</td>\n",
       "      <td>-136834.317</td>\n",
       "      <td>-0.002</td>\n",
       "      <td>2.177887e+07</td>\n",
       "      <td>4.197</td>\n",
       "      <td>0.000</td>\n",
       "      <td>4.810</td>\n",
       "      <td>3.462</td>\n",
       "    </tr>\n",
       "    <tr>\n",
       "      <th>1</th>\n",
       "      <td>2020-05-15-US-MTV-1</td>\n",
       "      <td>Pixel4XL</td>\n",
       "      <td>1273608753446</td>\n",
       "      <td>37.416590</td>\n",
       "      <td>-122.082073</td>\n",
       "      <td>-29.97</td>\n",
       "      <td>2020-05-15-US-MTV-1_Pixel4XL</td>\n",
       "      <td>1.589574e+12</td>\n",
       "      <td>8.827378e+12</td>\n",
       "      <td>-0.009253</td>\n",
       "      <td>...</td>\n",
       "      <td>1255.685</td>\n",
       "      <td>1388.784</td>\n",
       "      <td>2026.329</td>\n",
       "      <td>167809.434</td>\n",
       "      <td>-0.002</td>\n",
       "      <td>2.333124e+07</td>\n",
       "      <td>0.899</td>\n",
       "      <td>-2345.215</td>\n",
       "      <td>6.541</td>\n",
       "      <td>2.641</td>\n",
       "    </tr>\n",
       "    <tr>\n",
       "      <th>2</th>\n",
       "      <td>2020-05-15-US-MTV-1</td>\n",
       "      <td>Pixel4XL</td>\n",
       "      <td>1273608754446</td>\n",
       "      <td>37.416593</td>\n",
       "      <td>-122.082084</td>\n",
       "      <td>-29.85</td>\n",
       "      <td>2020-05-15-US-MTV-1_Pixel4XL</td>\n",
       "      <td>1.589574e+12</td>\n",
       "      <td>8.828377e+12</td>\n",
       "      <td>-0.000794</td>\n",
       "      <td>...</td>\n",
       "      <td>1255.940</td>\n",
       "      <td>1388.826</td>\n",
       "      <td>2026.043</td>\n",
       "      <td>167809.433</td>\n",
       "      <td>-0.002</td>\n",
       "      <td>2.333131e+07</td>\n",
       "      <td>0.600</td>\n",
       "      <td>-2344.516</td>\n",
       "      <td>6.541</td>\n",
       "      <td>2.647</td>\n",
       "    </tr>\n",
       "    <tr>\n",
       "      <th>3</th>\n",
       "      <td>2020-05-15-US-MTV-1</td>\n",
       "      <td>Pixel4XL</td>\n",
       "      <td>1273608755446</td>\n",
       "      <td>37.416580</td>\n",
       "      <td>-122.082067</td>\n",
       "      <td>-28.53</td>\n",
       "      <td>2020-05-15-US-MTV-1_Pixel4XL</td>\n",
       "      <td>1.589574e+12</td>\n",
       "      <td>8.829377e+12</td>\n",
       "      <td>0.036793</td>\n",
       "      <td>...</td>\n",
       "      <td>2808.676</td>\n",
       "      <td>317.171</td>\n",
       "      <td>370.156</td>\n",
       "      <td>-47469.410</td>\n",
       "      <td>0.001</td>\n",
       "      <td>2.082429e+07</td>\n",
       "      <td>3.298</td>\n",
       "      <td>0.000</td>\n",
       "      <td>4.010</td>\n",
       "      <td>3.005</td>\n",
       "    </tr>\n",
       "    <tr>\n",
       "      <th>4</th>\n",
       "      <td>2020-05-15-US-MTV-1</td>\n",
       "      <td>Pixel4XL</td>\n",
       "      <td>1273608756446</td>\n",
       "      <td>37.416594</td>\n",
       "      <td>-122.082065</td>\n",
       "      <td>-27.70</td>\n",
       "      <td>2020-05-15-US-MTV-1_Pixel4XL</td>\n",
       "      <td>1.589574e+12</td>\n",
       "      <td>8.830376e+12</td>\n",
       "      <td>-0.030948</td>\n",
       "      <td>...</td>\n",
       "      <td>813.076</td>\n",
       "      <td>1060.450</td>\n",
       "      <td>2833.855</td>\n",
       "      <td>-81574.962</td>\n",
       "      <td>-0.002</td>\n",
       "      <td>2.087243e+07</td>\n",
       "      <td>2.099</td>\n",
       "      <td>0.000</td>\n",
       "      <td>3.948</td>\n",
       "      <td>2.855</td>\n",
       "    </tr>\n",
       "  </tbody>\n",
       "</table>\n",
       "<p>5 rows × 102 columns</p>\n",
       "</div>"
      ],
      "text/plain": [
       "        collectionName phoneName  millisSinceGpsEpoch     latDeg      lngDeg  \\\n",
       "0  2020-05-15-US-MTV-1  Pixel4XL        1273608752446  37.416623 -122.082055   \n",
       "1  2020-05-15-US-MTV-1  Pixel4XL        1273608753446  37.416590 -122.082073   \n",
       "2  2020-05-15-US-MTV-1  Pixel4XL        1273608754446  37.416593 -122.082084   \n",
       "3  2020-05-15-US-MTV-1  Pixel4XL        1273608755446  37.416580 -122.082067   \n",
       "4  2020-05-15-US-MTV-1  Pixel4XL        1273608756446  37.416594 -122.082065   \n",
       "\n",
       "   heightAboveWgs84EllipsoidM                         phone  utcTimeMillis_x  \\\n",
       "0                      -24.21  2020-05-15-US-MTV-1_Pixel4XL     1.589574e+12   \n",
       "1                      -29.97  2020-05-15-US-MTV-1_Pixel4XL     1.589574e+12   \n",
       "2                      -29.85  2020-05-15-US-MTV-1_Pixel4XL     1.589574e+12   \n",
       "3                      -28.53  2020-05-15-US-MTV-1_Pixel4XL     1.589574e+12   \n",
       "4                      -27.70  2020-05-15-US-MTV-1_Pixel4XL     1.589574e+12   \n",
       "\n",
       "   elapsedRealtimeNanos_x  UncalGyroXRadPerSec  ...  xSatVelMps  ySatVelMps  \\\n",
       "0            8.826378e+12            -0.005630  ...     292.938     -62.944   \n",
       "1            8.827378e+12            -0.009253  ...    1255.685    1388.784   \n",
       "2            8.828377e+12            -0.000794  ...    1255.940    1388.826   \n",
       "3            8.829377e+12             0.036793  ...    2808.676     317.171   \n",
       "4            8.830376e+12            -0.030948  ...     813.076    1060.450   \n",
       "\n",
       "  zSatVelMps  satClkBiasM  satClkDriftMps        rawPrM  rawPrUncM     isrbM  \\\n",
       "0   3162.107  -136834.317          -0.002  2.177887e+07      4.197     0.000   \n",
       "1   2026.329   167809.434          -0.002  2.333124e+07      0.899 -2345.215   \n",
       "2   2026.043   167809.433          -0.002  2.333131e+07      0.600 -2344.516   \n",
       "3    370.156   -47469.410           0.001  2.082429e+07      3.298     0.000   \n",
       "4   2833.855   -81574.962          -0.002  2.087243e+07      2.099     0.000   \n",
       "\n",
       "   ionoDelayM  tropoDelayM  \n",
       "0       4.810        3.462  \n",
       "1       6.541        2.641  \n",
       "2       6.541        2.647  \n",
       "3       4.010        3.005  \n",
       "4       3.948        2.855  \n",
       "\n",
       "[5 rows x 102 columns]"
      ]
     },
     "execution_count": 149,
     "metadata": {},
     "output_type": "execute_result"
    }
   ],
   "source": [
    "print(df_test.shape)\n",
    "df_test.head()"
   ]
  },
  {
   "cell_type": "code",
   "execution_count": null,
   "metadata": {},
   "outputs": [],
   "source": []
  }
 ],
 "metadata": {
  "hide_input": false,
  "kernelspec": {
   "display_name": "Python 3",
   "language": "python",
   "name": "python3"
  },
  "language_info": {
   "codemirror_mode": {
    "name": "ipython",
    "version": 3
   },
   "file_extension": ".py",
   "mimetype": "text/x-python",
   "name": "python",
   "nbconvert_exporter": "python",
   "pygments_lexer": "ipython3",
   "version": "3.6.12"
  },
  "latex_envs": {
   "LaTeX_envs_menu_present": true,
   "autoclose": false,
   "autocomplete": true,
   "bibliofile": "biblio.bib",
   "cite_by": "apalike",
   "current_citInitial": 1,
   "eqLabelWithNumbers": true,
   "eqNumInitial": 1,
   "hotkeys": {
    "equation": "Ctrl-E",
    "itemize": "Ctrl-I"
   },
   "labels_anchors": false,
   "latex_user_defs": false,
   "report_style_numbering": false,
   "user_envs_cfg": false
  },
  "toc": {
   "base_numbering": 1,
   "nav_menu": {},
   "number_sections": true,
   "sideBar": true,
   "skip_h1_title": false,
   "title_cell": "Table of Contents",
   "title_sidebar": "Contents",
   "toc_cell": false,
   "toc_position": {},
   "toc_section_display": true,
   "toc_window_display": false
  },
  "varInspector": {
   "cols": {
    "lenName": 16,
    "lenType": 16,
    "lenVar": 40
   },
   "kernels_config": {
    "python": {
     "delete_cmd_postfix": "",
     "delete_cmd_prefix": "del ",
     "library": "var_list.py",
     "varRefreshCmd": "print(var_dic_list())"
    },
    "r": {
     "delete_cmd_postfix": ") ",
     "delete_cmd_prefix": "rm(",
     "library": "var_list.r",
     "varRefreshCmd": "cat(var_dic_list()) "
    }
   },
   "types_to_exclude": [
    "module",
    "function",
    "builtin_function_or_method",
    "instance",
    "_Feature"
   ],
   "window_display": false
  }
 },
 "nbformat": 4,
 "nbformat_minor": 4
}
